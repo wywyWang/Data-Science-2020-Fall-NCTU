{
 "metadata": {
  "language_info": {
   "codemirror_mode": {
    "name": "ipython",
    "version": 3
   },
   "file_extension": ".py",
   "mimetype": "text/x-python",
   "name": "python",
   "nbconvert_exporter": "python",
   "pygments_lexer": "ipython3",
   "version": "3.6.12-final"
  },
  "orig_nbformat": 2,
  "kernelspec": {
   "name": "Python 3.6.12 64-bit ('DS_hw2': conda)",
   "display_name": "Python 3.6.12 64-bit ('DS_hw2': conda)",
   "metadata": {
    "interpreter": {
     "hash": "de6ec751e8d816810380d8c8f13d270f86a313990c5d5930d253da012ff5e7fc"
    }
   }
  }
 },
 "nbformat": 4,
 "nbformat_minor": 2,
 "cells": [
  {
   "cell_type": "code",
   "execution_count": 1,
   "metadata": {},
   "outputs": [],
   "source": [
    "# common packages\n",
    "import pandas as pd\n",
    "import time\n",
    "\n",
    "# # DL framework\n",
    "import torch\n",
    "from torchtext import data\n",
    "\n",
    "from attractivedata import AttractiveData\n",
    "from trainer import AttractiveTrainer"
   ]
  },
  {
   "source": [
    "## Load and prepare data"
   ],
   "cell_type": "markdown",
   "metadata": {}
  },
  {
   "cell_type": "code",
   "execution_count": 2,
   "metadata": {},
   "outputs": [],
   "source": [
    "train_file = 'data/train.csv'\n",
    "test_file = 'data/test.csv'\n",
    "pretrained_file = 'glove.840B.300d'\n",
    "config = {\n",
    "    'max_size': 48,\n",
    "    'min_freq': 5,\n",
    "    'batch_size': 64,\n",
    "    'pretrained_file': pretrained_file\n",
    "}\n"
   ]
  },
  {
   "cell_type": "code",
   "execution_count": 3,
   "metadata": {},
   "outputs": [],
   "source": [
    "AttractiveData = AttractiveData(train_file, test_file, pretrained_file, config)"
   ]
  },
  {
   "cell_type": "code",
   "execution_count": 4,
   "metadata": {},
   "outputs": [
    {
     "output_type": "stream",
     "name": "stdout",
     "text": [
      "{'Headline': ['Sorry', ',', 'i', 'spent', 'it', 'on', 'myself', '!', 'Harvey', 'Nichols', \"'\", 'hilarious', 'Christmas', 'advert', 'sees', 'people', 'treating', 'themselves', 'instead', 'of', 'others'], 'Category': 'femail', 'Label': '0.13333333333333286'} {'Headline': ['Three', 'police', 'officers', 'accused', 'of', 'stealing', '?', '?', '30k', 'during', 'raid', 'on', 'criminal'], 'Category': 'news'}\n"
     ]
    }
   ],
   "source": [
    "for i, sentence in enumerate(AttractiveData.test_data):\n",
    "    if i == 3:\n",
    "        print(vars(AttractiveData.train_data[i]), vars(sentence))"
   ]
  },
  {
   "cell_type": "code",
   "execution_count": 5,
   "metadata": {},
   "outputs": [
    {
     "output_type": "execute_result",
     "data": {
      "text/plain": [
       "18"
      ]
     },
     "metadata": {},
     "execution_count": 5
    }
   ],
   "source": [
    "len(AttractiveData.CATEGORIES_LABEL.vocab.freqs)"
   ]
  },
  {
   "cell_type": "code",
   "execution_count": 6,
   "metadata": {},
   "outputs": [
    {
     "output_type": "execute_result",
     "data": {
      "text/plain": [
       "31"
      ]
     },
     "metadata": {},
     "execution_count": 6
    }
   ],
   "source": [
    "max_len = 0\n",
    "a = AttractiveData.test_data\n",
    "for i in range(len(a)):\n",
    "    if len(a[i].Headline) >= max_len:\n",
    "        max_len = len(a[i].Headline)\n",
    "max_len"
   ]
  },
  {
   "source": [
    "## Start to train"
   ],
   "cell_type": "markdown",
   "metadata": {}
  },
  {
   "cell_type": "code",
   "execution_count": 7,
   "metadata": {},
   "outputs": [
    {
     "output_type": "stream",
     "name": "stdout",
     "text": [
      "torch.Size([1518, 300])\n"
     ]
    }
   ],
   "source": [
    "num_workers = 10\n",
    "\n",
    "config['timestr'] = time.strftime(\"%Y%m%d-%H%M%S\")\n",
    "config['save_name'] = 'CNN_LSTM'\n",
    "config['input_dim'] = len(AttractiveData.TEXT.vocab)\n",
    "config['embedding_dim'] = 300\n",
    "config['category_dim'] = len(AttractiveData.CATEGORIES_LABEL.vocab)\n",
    "config['category_embedding_dim'] = 16\n",
    "config['hidden_dim'] = 100\n",
    "config['output_dim'] = 1\n",
    "config['log_steps'] = 10\n",
    "config['epochs'] = 100\n",
    "config['lr'] = {\n",
    "    'encoder': 1e-4,\n",
    "    'embedding': 1e-5,\n",
    "    'linear': 1e-4\n",
    "}\n",
    "config['num_layers'] = 2\n",
    "config['nhead'] = 4\n",
    "config['kernel_size'] = 3\n",
    "config['dropout'] = 0.1\n",
    "\n",
    "pretrained_embeddings = AttractiveData.TEXT.vocab.vectors\n",
    "print(pretrained_embeddings.shape)"
   ]
  },
  {
   "cell_type": "code",
   "execution_count": 8,
   "metadata": {},
   "outputs": [],
   "source": [
    "# max(AttractiveData.df_train.Headline.str.len()), max(AttractiveData.df_test.Headline.str.len())"
   ]
  },
  {
   "cell_type": "code",
   "execution_count": 9,
   "metadata": {},
   "outputs": [],
   "source": [
    "AttractiveTrainer = AttractiveTrainer(config, AttractiveData.device, AttractiveData.trainloader, pretrained_embeddings)"
   ]
  },
  {
   "cell_type": "code",
   "execution_count": 10,
   "metadata": {},
   "outputs": [
    {
     "output_type": "execute_result",
     "data": {
      "text/plain": [
       "(AttractiveNet(\n",
       "   (embedding): AttractiveEmbedding(\n",
       "     (token): TokenEmbedding(1518, 300, padding_idx=1)\n",
       "     (position): PositionalEmbedding()\n",
       "     (dropout): Dropout(p=0.1, inplace=False)\n",
       "   )\n",
       "   (category_embedding): CategoryEmbedding(18, 16, padding_idx=0)\n",
       "   (cnn): Conv1d(300, 100, kernel_size=(3,), stride=(1,))\n",
       "   (relu): ReLU()\n",
       "   (dropout): Dropout(p=0.1, inplace=False)\n",
       "   (encoder): LSTM(100, 100, num_layers=2, dropout=0.1, bidirectional=True)\n",
       "   (linear_output): Linear(in_features=216, out_features=1, bias=True)\n",
       " ),\n",
       " 949205,\n",
       " 493805)"
      ]
     },
     "metadata": {},
     "execution_count": 10
    }
   ],
   "source": [
    "AttractiveTrainer.model, AttractiveTrainer.config['total_params'], AttractiveTrainer.config['total_learned_params']"
   ]
  },
  {
   "cell_type": "code",
   "execution_count": 11,
   "metadata": {
    "tags": []
   },
   "outputs": [
    {
     "output_type": "stream",
     "name": "stderr",
     "text": [
      "Epoch:   1%|          | 1/100 [00:00<00:43,  2.29it/s]\n",
      "EP_train | avg_loss: 0.5533352075144649 |\n",
      "Epoch:   2%|▏         | 2/100 [00:00<00:41,  2.35it/s]\n",
      "EP_train | avg_loss: 0.5538220973685384 |\n",
      "Epoch:   3%|▎         | 3/100 [00:01<00:40,  2.39it/s]\n",
      "EP_train | avg_loss: 0.5534518621861935 |\n",
      "Epoch:   4%|▍         | 4/100 [00:01<00:39,  2.43it/s]\n",
      "EP_train | avg_loss: 0.5523924184963107 |\n",
      "Epoch:   5%|▌         | 5/100 [00:02<00:38,  2.45it/s]\n",
      "EP_train | avg_loss: 0.5529263215139508 |\n",
      "Epoch:   6%|▌         | 6/100 [00:02<00:37,  2.48it/s]\n",
      "EP_train | avg_loss: 0.5528490515425801 |\n",
      "Epoch:   7%|▋         | 7/100 [00:02<00:37,  2.49it/s]\n",
      "EP_train | avg_loss: 0.5510287284851074 |\n",
      "Epoch:   8%|▊         | 8/100 [00:03<00:36,  2.49it/s]\n",
      "EP_train | avg_loss: 0.5524656260386109 |\n",
      "Epoch:   9%|▉         | 9/100 [00:03<00:37,  2.45it/s]\n",
      "EP_train | avg_loss: 0.5526826707646251 |\n",
      "Epoch:  10%|█         | 10/100 [00:04<00:36,  2.45it/s]\n",
      "EP_train | avg_loss: 0.5504413219168782 |\n",
      "Epoch:  11%|█         | 11/100 [00:04<00:37,  2.38it/s]\n",
      "EP_train | avg_loss: 0.5509551335126162 |\n",
      "Epoch:  12%|█▏        | 12/100 [00:04<00:36,  2.39it/s]\n",
      "EP_train | avg_loss: 0.5505478456616402 |\n",
      "Epoch:  13%|█▎        | 13/100 [00:05<00:36,  2.36it/s]\n",
      "EP_train | avg_loss: 0.5498131262138486 |\n",
      "Epoch:  14%|█▍        | 14/100 [00:05<00:36,  2.36it/s]\n",
      "EP_train | avg_loss: 0.5503944847732782 |\n",
      "Epoch:  15%|█▌        | 15/100 [00:06<00:35,  2.36it/s]\n",
      "EP_train | avg_loss: 0.5507964873686433 |\n",
      "Epoch:  16%|█▌        | 16/100 [00:06<00:35,  2.35it/s]\n",
      "EP_train | avg_loss: 0.5495571978390217 |\n",
      "Epoch:  17%|█▋        | 17/100 [00:07<00:35,  2.35it/s]\n",
      "EP_train | avg_loss: 0.5488798776641488 |\n",
      "Epoch:  18%|█▊        | 18/100 [00:07<00:35,  2.34it/s]\n",
      "EP_train | avg_loss: 0.5481643676757812 |\n",
      "Epoch:  19%|█▉        | 19/100 [00:07<00:34,  2.35it/s]\n",
      "EP_train | avg_loss: 0.5497104357928038 |\n",
      "Epoch:  20%|██        | 20/100 [00:08<00:33,  2.36it/s]\n",
      "EP_train | avg_loss: 0.5477629033848643 |\n",
      "Epoch:  21%|██        | 21/100 [00:08<00:33,  2.38it/s]\n",
      "EP_train | avg_loss: 0.5491993660107255 |\n",
      "Epoch:  22%|██▏       | 22/100 [00:09<00:32,  2.37it/s]\n",
      "EP_train | avg_loss: 0.5489207739010453 |\n",
      "Epoch:  23%|██▎       | 23/100 [00:09<00:32,  2.38it/s]\n",
      "EP_train | avg_loss: 0.5483584376052022 |\n",
      "Epoch:  24%|██▍       | 24/100 [00:10<00:31,  2.38it/s]\n",
      "EP_train | avg_loss: 0.5487867649644613 |\n",
      "Epoch:  25%|██▌       | 25/100 [00:10<00:31,  2.40it/s]\n",
      "EP_train | avg_loss: 0.549471091479063 |\n",
      "Epoch:  26%|██▌       | 26/100 [00:10<00:30,  2.40it/s]\n",
      "EP_train | avg_loss: 0.5487102353945374 |\n",
      "Epoch:  27%|██▋       | 27/100 [00:11<00:30,  2.39it/s]\n",
      "EP_train | avg_loss: 0.5477460296824574 |\n",
      "Epoch:  28%|██▊       | 28/100 [00:11<00:30,  2.39it/s]\n",
      "EP_train | avg_loss: 0.5477315485477448 |\n",
      "Epoch:  29%|██▉       | 29/100 [00:12<00:29,  2.39it/s]\n",
      "EP_train | avg_loss: 0.5467261970043182 |\n",
      "Epoch:  30%|███       | 30/100 [00:12<00:29,  2.39it/s]\n",
      "EP_train | avg_loss: 0.5467184167355299 |\n",
      "Epoch:  31%|███       | 31/100 [00:12<00:28,  2.39it/s]\n",
      "EP_train | avg_loss: 0.5461190156638622 |\n",
      "Epoch:  32%|███▏      | 32/100 [00:13<00:28,  2.39it/s]\n",
      "EP_train | avg_loss: 0.5465379133820534 |\n",
      "Epoch:  33%|███▎      | 33/100 [00:13<00:28,  2.38it/s]\n",
      "EP_train | avg_loss: 0.5466077961027622 |\n",
      "Epoch:  34%|███▍      | 34/100 [00:14<00:27,  2.36it/s]\n",
      "EP_train | avg_loss: 0.545566163957119 |\n",
      "Epoch:  35%|███▌      | 35/100 [00:14<00:27,  2.36it/s]\n",
      "EP_train | avg_loss: 0.5466487817466259 |\n",
      "Epoch:  36%|███▌      | 36/100 [00:15<00:27,  2.35it/s]\n",
      "EP_train | avg_loss: 0.5453109377995133 |\n",
      "Epoch:  37%|███▋      | 37/100 [00:15<00:26,  2.36it/s]\n",
      "EP_train | avg_loss: 0.5453278329223394 |\n",
      "Epoch:  38%|███▊      | 38/100 [00:15<00:26,  2.34it/s]\n",
      "EP_train | avg_loss: 0.5451806876808405 |\n",
      "Epoch:  39%|███▉      | 39/100 [00:16<00:25,  2.36it/s]\n",
      "EP_train | avg_loss: 0.5447803558781743 |\n",
      "Epoch:  40%|████      | 40/100 [00:16<00:25,  2.37it/s]\n",
      "EP_train | avg_loss: 0.5439672274515033 |\n",
      "Epoch:  41%|████      | 41/100 [00:17<00:24,  2.37it/s]\n",
      "EP_train | avg_loss: 0.5453982232138515 |\n",
      "Epoch:  42%|████▏     | 42/100 [00:17<00:24,  2.39it/s]\n",
      "EP_train | avg_loss: 0.5434809094294906 |\n",
      "Epoch:  43%|████▎     | 43/100 [00:18<00:24,  2.35it/s]\n",
      "EP_train | avg_loss: 0.5446484433487058 |\n",
      "Epoch:  44%|████▍     | 44/100 [00:18<00:23,  2.37it/s]\n",
      "EP_train | avg_loss: 0.5436023948714137 |\n",
      "Epoch:  45%|████▌     | 45/100 [00:18<00:23,  2.37it/s]\n",
      "EP_train | avg_loss: 0.5443879924714565 |\n",
      "Epoch:  46%|████▌     | 46/100 [00:19<00:22,  2.37it/s]\n",
      "EP_train | avg_loss: 0.5438219998031855 |\n",
      "Epoch:  47%|████▋     | 47/100 [00:19<00:22,  2.37it/s]\n",
      "EP_train | avg_loss: 0.5427341312170029 |\n",
      "Epoch:  48%|████▊     | 48/100 [00:20<00:22,  2.36it/s]\n",
      "EP_train | avg_loss: 0.5427562315016985 |\n",
      "Epoch:  49%|████▉     | 49/100 [00:20<00:21,  2.36it/s]\n",
      "EP_train | avg_loss: 0.5435777492821217 |\n",
      "Epoch:  50%|█████     | 50/100 [00:20<00:21,  2.32it/s]\n",
      "EP_train | avg_loss: 0.5430619856342673 |\n",
      "Epoch:  51%|█████     | 51/100 [00:21<00:20,  2.34it/s]\n",
      "EP_train | avg_loss: 0.5434487853199244 |\n",
      "Epoch:  52%|█████▏    | 52/100 [00:21<00:20,  2.34it/s]\n",
      "EP_train | avg_loss: 0.5430661896243691 |\n",
      "Epoch:  53%|█████▎    | 53/100 [00:22<00:19,  2.37it/s]\n",
      "EP_train | avg_loss: 0.542679182253778 |\n",
      "Epoch:  54%|█████▍    | 54/100 [00:22<00:19,  2.38it/s]\n",
      "EP_train | avg_loss: 0.5426995009183884 |\n",
      "Epoch:  55%|█████▌    | 55/100 [00:23<00:18,  2.40it/s]\n",
      "EP_train | avg_loss: 0.5409907894209027 |\n",
      "Epoch:  56%|█████▌    | 56/100 [00:23<00:18,  2.38it/s]\n",
      "EP_train | avg_loss: 0.5418697772547603 |\n",
      "Epoch:  57%|█████▋    | 57/100 [00:23<00:18,  2.38it/s]\n",
      "EP_train | avg_loss: 0.541815503500402 |\n",
      "Epoch:  58%|█████▊    | 58/100 [00:24<00:17,  2.41it/s]\n",
      "EP_train | avg_loss: 0.5414052037522197 |\n",
      "Epoch:  59%|█████▉    | 59/100 [00:24<00:16,  2.42it/s]\n",
      "EP_train | avg_loss: 0.5418892819434404 |\n",
      "Epoch:  60%|██████    | 60/100 [00:25<00:16,  2.43it/s]\n",
      "EP_train | avg_loss: 0.5409820266067982 |\n",
      "Epoch:  61%|██████    | 61/100 [00:25<00:16,  2.43it/s]\n",
      "EP_train | avg_loss: 0.5403496930375695 |\n",
      "Epoch:  62%|██████▏   | 62/100 [00:25<00:15,  2.43it/s]\n",
      "EP_train | avg_loss: 0.5421262569725513 |\n",
      "Epoch:  63%|██████▎   | 63/100 [00:26<00:15,  2.44it/s]\n",
      "EP_train | avg_loss: 0.5417524939402938 |\n",
      "Epoch:  64%|██████▍   | 64/100 [00:26<00:14,  2.43it/s]\n",
      "EP_train | avg_loss: 0.5405591549351811 |\n",
      "Epoch:  65%|██████▌   | 65/100 [00:27<00:14,  2.42it/s]\n",
      "EP_train | avg_loss: 0.5406805723905563 |\n",
      "Epoch:  66%|██████▌   | 66/100 [00:27<00:14,  2.41it/s]\n",
      "EP_train | avg_loss: 0.5409338809549809 |\n",
      "Epoch:  67%|██████▋   | 67/100 [00:28<00:14,  2.34it/s]\n",
      "EP_train | avg_loss: 0.5403794478625059 |\n",
      "Epoch:  68%|██████▊   | 68/100 [00:28<00:13,  2.36it/s]\n",
      "EP_train | avg_loss: 0.540915647521615 |\n",
      "Epoch:  69%|██████▉   | 69/100 [00:28<00:13,  2.38it/s]\n",
      "EP_train | avg_loss: 0.5411887550726533 |\n",
      "Epoch:  70%|███████   | 70/100 [00:29<00:12,  2.39it/s]\n",
      "EP_train | avg_loss: 0.5412391582503915 |\n",
      "Epoch:  71%|███████   | 71/100 [00:29<00:12,  2.39it/s]\n",
      "EP_train | avg_loss: 0.5399599876254797 |\n",
      "Epoch:  72%|███████▏  | 72/100 [00:30<00:11,  2.39it/s]\n",
      "EP_train | avg_loss: 0.540128824301064 |\n",
      "Epoch:  73%|███████▎  | 73/100 [00:30<00:11,  2.36it/s]\n",
      "EP_train | avg_loss: 0.5387132233008742 |\n",
      "Epoch:  74%|███████▍  | 74/100 [00:31<00:11,  2.32it/s]\n",
      "EP_train | avg_loss: 0.5400795601308346 |\n",
      "Epoch:  75%|███████▌  | 75/100 [00:31<00:10,  2.31it/s]\n",
      "EP_train | avg_loss: 0.5398230217397213 |\n",
      "Epoch:  76%|███████▌  | 76/100 [00:31<00:10,  2.32it/s]\n",
      "EP_train | avg_loss: 0.5395175106823444 |\n",
      "Epoch:  77%|███████▋  | 77/100 [00:32<00:09,  2.34it/s]\n",
      "EP_train | avg_loss: 0.539667840115726 |\n",
      "Epoch:  78%|███████▊  | 78/100 [00:32<00:09,  2.34it/s]\n",
      "EP_train | avg_loss: 0.5398464407771826 |\n",
      "Epoch:  79%|███████▉  | 79/100 [00:33<00:08,  2.34it/s]\n",
      "EP_train | avg_loss: 0.5395922232419252 |\n",
      "Epoch:  80%|████████  | 80/100 [00:33<00:08,  2.35it/s]\n",
      "EP_train | avg_loss: 0.5391322141513228 |\n",
      "Epoch:  81%|████████  | 81/100 [00:34<00:08,  2.37it/s]\n",
      "EP_train | avg_loss: 0.539410088211298 |\n",
      "Epoch:  82%|████████▏ | 82/100 [00:34<00:07,  2.35it/s]\n",
      "EP_train | avg_loss: 0.5385363828390837 |\n",
      "Epoch:  83%|████████▎ | 83/100 [00:34<00:07,  2.36it/s]\n",
      "EP_train | avg_loss: 0.5378436679020524 |\n",
      "Epoch:  84%|████████▍ | 84/100 [00:35<00:06,  2.37it/s]\n",
      "EP_train | avg_loss: 0.5398309659212828 |\n",
      "Epoch:  85%|████████▌ | 85/100 [00:35<00:06,  2.37it/s]\n",
      "EP_train | avg_loss: 0.537701609544456 |\n",
      "Epoch:  86%|████████▌ | 86/100 [00:36<00:05,  2.38it/s]\n",
      "EP_train | avg_loss: 0.5375981777906418 |\n",
      "Epoch:  87%|████████▋ | 87/100 [00:36<00:05,  2.31it/s]\n",
      "EP_train | avg_loss: 0.5386699568480253 |\n",
      "Epoch:  88%|████████▊ | 88/100 [00:37<00:05,  2.33it/s]\n",
      "EP_train | avg_loss: 0.5377814648672938 |\n",
      "Epoch:  89%|████████▉ | 89/100 [00:37<00:04,  2.35it/s]\n",
      "EP_train | avg_loss: 0.5383408349007368 |\n",
      "Epoch:  90%|█████████ | 90/100 [00:37<00:04,  2.38it/s]\n",
      "EP_train | avg_loss: 0.5381936058402061 |\n",
      "Epoch:  91%|█████████ | 91/100 [00:38<00:03,  2.38it/s]\n",
      "EP_train | avg_loss: 0.5382358832284808 |\n",
      "Epoch:  92%|█████████▏| 92/100 [00:38<00:03,  2.38it/s]\n",
      "EP_train | avg_loss: 0.5373808024451137 |\n",
      "Epoch:  93%|█████████▎| 93/100 [00:39<00:02,  2.39it/s]\n",
      "EP_train | avg_loss: 0.5376928942278028 |\n",
      "Epoch:  94%|█████████▍| 94/100 [00:39<00:02,  2.39it/s]\n",
      "EP_train | avg_loss: 0.5381279559805989 |\n",
      "Epoch:  95%|█████████▌| 95/100 [00:39<00:02,  2.40it/s]\n",
      "EP_train | avg_loss: 0.5378659684211016 |\n",
      "Epoch:  96%|█████████▌| 96/100 [00:40<00:01,  2.40it/s]\n",
      "EP_train | avg_loss: 0.5384634025394917 |\n",
      "Epoch:  97%|█████████▋| 97/100 [00:40<00:01,  2.40it/s]\n",
      "EP_train | avg_loss: 0.5376920569688082 |\n",
      "Epoch:  98%|█████████▊| 98/100 [00:41<00:00,  2.40it/s]\n",
      "EP_train | avg_loss: 0.5375872189179063 |\n",
      "Epoch:  99%|█████████▉| 99/100 [00:41<00:00,  2.40it/s]\n",
      "EP_train | avg_loss: 0.536884761415422 |\n",
      "Epoch: 100%|██████████| 100/100 [00:42<00:00,  2.38it/s]\n",
      "EP_train | avg_loss: 0.5363397020846605 |\n",
      "\n"
     ]
    }
   ],
   "source": [
    "AttractiveTrainer.train()"
   ]
  },
  {
   "source": [
    "## for classification, not better"
   ],
   "cell_type": "markdown",
   "metadata": {}
  },
  {
   "cell_type": "code",
   "execution_count": 14,
   "metadata": {
    "tags": []
   },
   "outputs": [
    {
     "output_type": "execute_result",
     "data": {
      "text/plain": [
       "0.5601443355119825"
      ]
     },
     "metadata": {},
     "execution_count": 14
    }
   ],
   "source": [
    "# from sklearn.metrics import mean_squared_error\n",
    "# a = AttractiveTrainer.train_predict\n",
    "# AttractiveData.LABEL.vocab.itos[int(a[0])], AttractiveTrainer.train_true[0]\n",
    "# correct = 0\n",
    "# pred_list = []\n",
    "# true_list = []\n",
    "# for i in range(len(a)):\n",
    "#     pred = AttractiveData.LABEL.vocab.itos[int(a[i])]\n",
    "#     pred_list.append(float(pred))\n",
    "#     true = AttractiveData.LABEL.vocab.itos[int(AttractiveTrainer.train_true[i])]\n",
    "#     true_list.append(float(true))\n",
    "# mean_squared_error(true_list, pred_list)\n",
    "# # true_list"
   ]
  },
  {
   "source": [
    "## Below is testing"
   ],
   "cell_type": "markdown",
   "metadata": {}
  },
  {
   "cell_type": "code",
   "execution_count": 12,
   "metadata": {},
   "outputs": [
    {
     "output_type": "execute_result",
     "data": {
      "text/plain": [
       "AttractiveNet(\n",
       "  (embedding): AttractiveEmbedding(\n",
       "    (token): TokenEmbedding(1518, 300, padding_idx=1)\n",
       "    (position): PositionalEmbedding()\n",
       "    (dropout): Dropout(p=0.1, inplace=False)\n",
       "  )\n",
       "  (category_embedding): CategoryEmbedding(18, 16, padding_idx=0)\n",
       "  (cnn): Conv1d(300, 100, kernel_size=(3,), stride=(1,))\n",
       "  (relu): ReLU()\n",
       "  (dropout): Dropout(p=0.1, inplace=False)\n",
       "  (encoder): LSTM(100, 100, num_layers=2, dropout=0.1, bidirectional=True)\n",
       "  (linear_output): Linear(in_features=216, out_features=1, bias=True)\n",
       ")"
      ]
     },
     "metadata": {},
     "execution_count": 12
    }
   ],
   "source": [
    "from transformermodel import TransformerModel\n",
    "from attractivenet import AttractiveNet\n",
    "PATH = './model/CNN_LSTM_20201031-143423_0.5363.100'\n",
    "# load_model = TransformerModel(config).to(AttractiveData.device)\n",
    "load_model = AttractiveNet(config).to(AttractiveData.device)\n",
    "load_model.load_state_dict(torch.load(PATH))\n",
    "load_model.eval()"
   ]
  },
  {
   "cell_type": "code",
   "execution_count": 18,
   "metadata": {},
   "outputs": [],
   "source": [
    "def predict_attractive(sentence, category):\n",
    "    indexed_sentence = [AttractiveData.TEXT.vocab.stoi[t] for t in sentence]\n",
    "    indexed_category = [AttractiveData.CATEGORIES_LABEL.vocab.stoi[category]]\n",
    "    tensor_sentence = torch.LongTensor(indexed_sentence).to(AttractiveData.device)\n",
    "    tensor_category = torch.LongTensor(indexed_category).to(AttractiveData.device)\n",
    "\n",
    "    tensor_sentence = tensor_sentence.unsqueeze(1)\n",
    "    tensor_category = tensor_category\n",
    "\n",
    "    prediction = load_model(tensor_sentence, tensor_category)\n",
    "    \n",
    "    return prediction"
   ]
  },
  {
   "cell_type": "code",
   "execution_count": 19,
   "metadata": {
    "tags": []
   },
   "outputs": [],
   "source": [
    "# train mean = 3.2, test mean = 2.8\n",
    "predict_list = []\n",
    "for i, sentence in enumerate(AttractiveData.test_data):\n",
    "    prediction = predict_attractive(sentence.Headline, sentence.Category)\n",
    "    predict_list.append(prediction.item() + 2.8)\n",
    "    # predict_list.append(prediction.item())\n",
    "AttractiveData.df_test['Label'] = predict_list\n",
    "AttractiveData.df_test[['ID', 'Label']].to_csv(config['save_name'] + '.csv', index=False)"
   ]
  },
  {
   "cell_type": "code",
   "execution_count": 20,
   "metadata": {},
   "outputs": [],
   "source": [
    "# train_category = list(AttractiveData.CATEGORIES_LABEL.vocab.freqs)\n",
    "# test_category = list(AttractiveData.df_test['Category'].value_counts().keys())\n",
    "# for each_test in test_category:\n",
    "#     if each_test not in train_category:\n",
    "#         print(each_test)\n",
    "# print()\n",
    "# for each_train in train_category:\n",
    "#     if each_train not in test_category:\n",
    "#         print(each_train)"
   ]
  },
  {
   "source": [
    "## Below just for fun guess"
   ],
   "cell_type": "markdown",
   "metadata": {}
  },
  {
   "cell_type": "code",
   "execution_count": 21,
   "metadata": {},
   "outputs": [],
   "source": [
    "import statistics\n",
    "from sklearn.metrics import mean_squared_error"
   ]
  },
  {
   "cell_type": "code",
   "execution_count": 22,
   "metadata": {},
   "outputs": [
    {
     "output_type": "execute_result",
     "data": {
      "text/plain": [
       "(-0.049591503267974145, 0.729501519321601)"
      ]
     },
     "metadata": {},
     "execution_count": 22
    }
   ],
   "source": [
    "a = AttractiveData.df_train['Label'].to_list()\n",
    "statistics.mean(a), statistics.stdev(a)"
   ]
  },
  {
   "cell_type": "code",
   "execution_count": 23,
   "metadata": {},
   "outputs": [
    {
     "output_type": "execute_result",
     "data": {
      "text/plain": [
       "(-0.428964831227117, 0.08240165343855888)"
      ]
     },
     "metadata": {},
     "execution_count": 23
    }
   ],
   "source": [
    "statistics.mean(predict_list), statistics.stdev(predict_list)"
   ]
  },
  {
   "cell_type": "code",
   "execution_count": 19,
   "metadata": {},
   "outputs": [
    {
     "output_type": "execute_result",
     "data": {
      "text/plain": [
       "0.08616841558683222"
      ]
     },
     "metadata": {},
     "execution_count": 19
    }
   ],
   "source": [
    "all_28 = [2.8] * len(predict_list)\n",
    "mean_squared_error(all_28, predict_list)"
   ]
  },
  {
   "cell_type": "code",
   "execution_count": 14,
   "metadata": {},
   "outputs": [
    {
     "output_type": "execute_result",
     "data": {
      "text/plain": [
       "(2.8167915543795683, 0.14611407210842048)"
      ]
     },
     "metadata": {},
     "execution_count": 14
    }
   ],
   "source": [
    "# LSTM my best\n",
    "# statistics.mean(predict_list), statistics.stdev(predict_list)"
   ]
  },
  {
   "cell_type": "code",
   "execution_count": null,
   "metadata": {},
   "outputs": [],
   "source": []
  }
 ]
}