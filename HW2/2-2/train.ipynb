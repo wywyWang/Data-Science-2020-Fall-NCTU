{
 "cells": [
  {
   "cell_type": "code",
   "execution_count": 1,
   "metadata": {},
   "outputs": [],
   "source": [
    "# common packages\n",
    "import pandas as pd\n",
    "import time\n",
    "\n",
    "# # DL framework\n",
    "import torch\n",
    "from torchtext import data\n",
    "\n",
    "from attractivedata import AttractiveData\n",
    "from trainer import AttractiveTrainer"
   ]
  },
  {
   "cell_type": "code",
   "execution_count": 2,
   "metadata": {},
   "outputs": [],
   "source": [
    "seed_value = 42\n",
    "torch.manual_seed(seed_value)\n",
    "torch.cuda.manual_seed(seed_value)\n",
    "torch.cuda.manual_seed_all(seed_value) # gpu vars\n",
    "torch.backends.cudnn.deterministic = True  #needed\n",
    "torch.backends.cudnn.benchmark = False"
   ]
  },
  {
   "cell_type": "markdown",
   "metadata": {},
   "source": [
    "## Load and prepare data"
   ]
  },
  {
   "cell_type": "code",
   "execution_count": 3,
   "metadata": {},
   "outputs": [],
   "source": [
    "train_file = 'data/train.csv'\n",
    "val_file = 'example/val.csv'\n",
    "test_file = 'data/test.csv'\n",
    "pretrained_file = 'glove.840B.300d'\n",
    "config = {\n",
    "    'max_seq': 40,\n",
    "    'min_freq': 0,\n",
    "    'batch_size': 51,\n",
    "    'pretrained_file': pretrained_file\n",
    "}\n"
   ]
  },
  {
   "cell_type": "code",
   "execution_count": 4,
   "metadata": {},
   "outputs": [],
   "source": [
    "AttractiveData = AttractiveData(train_file, val_file, test_file, pretrained_file, config)"
   ]
  },
  {
   "cell_type": "markdown",
   "metadata": {},
   "source": [
    "## Start to train"
   ]
  },
  {
   "cell_type": "code",
   "execution_count": 5,
   "metadata": {},
   "outputs": [
    {
     "output_type": "stream",
     "name": "stdout",
     "text": [
      "torch.Size([12699, 300])\n"
     ]
    }
   ],
   "source": [
    "config['timestr'] = time.strftime(\"%Y%m%d-%H%M%S\")\n",
    "config['save_name'] = 'CNN_LSTM'\n",
    "config['input_dim'] = len(AttractiveData.TEXT.vocab)\n",
    "config['embedding_dim'] = 300\n",
    "config['category_dim'] = len(AttractiveData.CATEGORIES_LABEL.vocab)\n",
    "config['category_embedding_dim'] = 10\n",
    "config['hidden_dim'] = 30\n",
    "config['output_dim'] = 1\n",
    "config['log_steps'] = 10\n",
    "config['epochs'] = 150\n",
    "config['lr'] = {\n",
    "    'encoder': 1e-5,\n",
    "    'embedding': 6e-6,\n",
    "    'linear': 1e-5\n",
    "}\n",
    "config['num_layers'] = 1\n",
    "config['kernel_size'] = 3\n",
    "config['dropout'] = 0.5\n",
    "config['train_len'] = AttractiveData.train_len\n",
    "config['val_len'] = AttractiveData.val_len\n",
    "config['test_len'] = AttractiveData.test_len\n",
    "\n",
    "pretrained_embeddings = AttractiveData.TEXT.vocab.vectors\n",
    "print(pretrained_embeddings.shape)"
   ]
  },
  {
   "cell_type": "code",
   "execution_count": 6,
   "metadata": {},
   "outputs": [],
   "source": [
    "AttractiveTrainer = AttractiveTrainer(config, AttractiveData.device, AttractiveData.trainloader, AttractiveData.valloader, pretrained_embeddings)"
   ]
  },
  {
   "cell_type": "code",
   "execution_count": 7,
   "metadata": {},
   "outputs": [
    {
     "output_type": "execute_result",
     "data": {
      "text/plain": [
       "(AttractiveNet(\n",
       "   (embedding): AttractiveEmbedding(\n",
       "     (token): TokenEmbedding(12699, 300, padding_idx=1)\n",
       "   )\n",
       "   (unigramcnn): Sequential(\n",
       "     (0): Conv1d(300, 210, kernel_size=(1,), stride=(1,))\n",
       "     (1): ReLU()\n",
       "     (2): Conv1d(210, 100, kernel_size=(1,), stride=(1,))\n",
       "     (3): ReLU()\n",
       "     (4): Dropout(p=0.5, inplace=False)\n",
       "   )\n",
       "   (bigramcnn): Sequential(\n",
       "     (0): Conv1d(300, 210, kernel_size=(2,), stride=(1,), padding=(1,))\n",
       "     (1): ReLU()\n",
       "     (2): Conv1d(210, 100, kernel_size=(2,), stride=(1,), padding=(1,))\n",
       "     (3): ReLU()\n",
       "     (4): Dropout(p=0.5, inplace=False)\n",
       "   )\n",
       "   (trigramcnn): Sequential(\n",
       "     (0): Conv1d(300, 210, kernel_size=(3,), stride=(1,), padding=(1,))\n",
       "     (1): ReLU()\n",
       "     (2): Conv1d(210, 100, kernel_size=(3,), stride=(1,), padding=(1,))\n",
       "     (3): ReLU()\n",
       "     (4): Dropout(p=0.5, inplace=False)\n",
       "   )\n",
       "   (encoder_unigram): LSTM(100, 30, batch_first=True, dropout=0.5, bidirectional=True)\n",
       "   (encoder_bigram): LSTM(100, 30, batch_first=True, dropout=0.5, bidirectional=True)\n",
       "   (encoder_trigram): LSTM(100, 30, batch_first=True, dropout=0.5, bidirectional=True)\n",
       "   (linear): Sequential(\n",
       "     (0): Linear(in_features=192, out_features=30, bias=True)\n",
       "     (1): ReLU()\n",
       "     (2): Linear(in_features=30, out_features=1, bias=True)\n",
       "   )\n",
       " ),\n",
       " 4415491,\n",
       " 4415491)"
      ]
     },
     "metadata": {},
     "execution_count": 7
    }
   ],
   "source": [
    "AttractiveTrainer.model, AttractiveTrainer.config['total_params'], AttractiveTrainer.config['total_learned_params']"
   ]
  },
  {
   "cell_type": "code",
   "execution_count": 8,
   "metadata": {
    "tags": []
   },
   "outputs": [
    {
     "output_type": "stream",
     "name": "stderr",
     "text": [
      "Epoch:   1%|          | 1/150 [00:00<01:39,  1.50it/s]\n",
      "EP_0 | train loss: 3.075334851882037 | val loss: 3.3241898031795727 |\n",
      "Epoch:   1%|▏         | 2/150 [00:01<01:36,  1.53it/s]\n",
      "EP_1 | train loss: 0.6115363794214586 | val loss: 0.6627444098977482 |\n",
      "Epoch:   2%|▏         | 3/150 [00:01<01:35,  1.54it/s]\n",
      "EP_2 | train loss: 0.5654434232150807 | val loss: 0.6663021947823319 |\n",
      "Epoch:   3%|▎         | 4/150 [00:02<01:33,  1.56it/s]\n",
      "EP_3 | train loss: 0.5545006172329772 | val loss: 0.6798208835078221 |\n",
      "Epoch:   3%|▎         | 5/150 [00:03<01:32,  1.56it/s]\n",
      "EP_4 | train loss: 0.5539331651201436 | val loss: 0.6613368427052218 |\n",
      "Epoch:   4%|▍         | 6/150 [00:03<01:31,  1.57it/s]\n",
      "EP_5 | train loss: 0.5480331785538617 | val loss: 0.6457584325005027 |\n",
      "Epoch:   5%|▍         | 7/150 [00:04<01:30,  1.58it/s]\n",
      "EP_6 | train loss: 0.5460569952048507 | val loss: 0.6417629765529259 |\n",
      "Epoch:   5%|▌         | 8/150 [00:05<01:32,  1.54it/s]\n",
      "EP_7 | train loss: 0.5489611176883473 | val loss: 0.6300228623782888 |\n",
      "Epoch:   6%|▌         | 9/150 [00:05<01:31,  1.53it/s]\n",
      "EP_8 | train loss: 0.5534878020193063 | val loss: 0.6103456347596412 |\n",
      "Epoch:   7%|▋         | 10/150 [00:06<01:30,  1.55it/s]\n",
      "EP_9 | train loss: 0.5447673760208429 | val loss: 0.6042614263646743 |\n",
      "Epoch:   7%|▋         | 11/150 [00:07<01:31,  1.52it/s]\n",
      "EP_10 | train loss: 0.541652717777327 | val loss: 0.6018712941338035 |\n",
      "Epoch:   8%|▊         | 12/150 [00:07<01:30,  1.52it/s]\n",
      "EP_11 | train loss: 0.5439241184907802 | val loss: 0.5912758135328106 |\n",
      "Epoch:   9%|▊         | 13/150 [00:08<01:30,  1.52it/s]\n",
      "EP_12 | train loss: 0.5372218066570805 | val loss: 0.5858531652712354 |\n",
      "Epoch:   9%|▉         | 14/150 [00:09<01:28,  1.53it/s]\n",
      "EP_13 | train loss: 0.5333648382448682 | val loss: 0.5780709491056555 |\n",
      "Epoch:  10%|█         | 15/150 [00:09<01:27,  1.54it/s]\n",
      "EP_14 | train loss: 0.5362821765974456 | val loss: 0.5701451301574707 |\n",
      "Epoch:  11%|█         | 16/150 [00:10<01:26,  1.54it/s]\n",
      "EP_15 | train loss: 0.5303928487441119 | val loss: 0.5656159531836417 |\n",
      "Epoch:  11%|█▏        | 17/150 [00:10<01:25,  1.56it/s]\n",
      "EP_16 | train loss: 0.528269915487252 | val loss: 0.5581470096812529 |\n",
      "Epoch:  12%|█▏        | 18/150 [00:11<01:23,  1.57it/s]\n",
      "EP_17 | train loss: 0.5263082532321706 | val loss: 0.5506614797255572 |\n",
      "Epoch:  13%|█▎        | 19/150 [00:12<01:23,  1.56it/s]\n",
      "EP_18 | train loss: 0.5265447074291753 | val loss: 0.539708324507171 |\n",
      "Epoch:  13%|█▎        | 20/150 [00:12<01:23,  1.55it/s]\n",
      "EP_19 | train loss: 0.5236566618377088 | val loss: 0.533050537109375 |\n",
      "Epoch:  14%|█▍        | 21/150 [00:13<01:23,  1.55it/s]\n",
      "EP_20 | train loss: 0.5136705043269139 | val loss: 0.535065725737927 |\n",
      "Epoch:  15%|█▍        | 22/150 [00:14<01:22,  1.56it/s]\n",
      "EP_21 | train loss: 0.5176868261075487 | val loss: 0.5215841181137982 |\n",
      "Epoch:  15%|█▌        | 23/150 [00:14<01:20,  1.57it/s]\n",
      "EP_22 | train loss: 0.5186483476676192 | val loss: 0.5119913419087728 |\n",
      "Epoch:  16%|█▌        | 24/150 [00:15<01:20,  1.56it/s]\n",
      "EP_23 | train loss: 0.5124752914204317 | val loss: 0.5039628533756032 |\n",
      "Epoch:  17%|█▋        | 25/150 [00:16<01:19,  1.58it/s]\n",
      "EP_24 | train loss: 0.5060473703870586 | val loss: 0.5010136155521169 |\n",
      "Epoch:  17%|█▋        | 26/150 [00:16<01:18,  1.58it/s]\n",
      "EP_25 | train loss: 0.5042260684219061 | val loss: 0.4954551434984394 |\n",
      "Epoch:  18%|█▊        | 27/150 [00:17<01:17,  1.58it/s]\n",
      "EP_26 | train loss: 0.5039103507995606 | val loss: 0.48313379287719727 |\n",
      "Epoch:  19%|█▊        | 28/150 [00:17<01:17,  1.58it/s]\n",
      "EP_27 | train loss: 0.5000481904721727 | val loss: 0.4766513787063898 |\n",
      "Epoch:  19%|█▉        | 29/150 [00:18<01:16,  1.58it/s]\n",
      "EP_28 | train loss: 0.49453498148450664 | val loss: 0.4701380449182847 |\n",
      "Epoch:  20%|██        | 30/150 [00:19<01:15,  1.59it/s]\n",
      "EP_29 | train loss: 0.48925337136960495 | val loss: 0.4648335400749655 |\n",
      "Epoch:  21%|██        | 31/150 [00:19<01:16,  1.56it/s]\n",
      "EP_30 | train loss: 0.4869814741845224 | val loss: 0.45759039299160825 |\n",
      "Epoch:  21%|██▏       | 32/150 [00:20<01:15,  1.57it/s]\n",
      "EP_31 | train loss: 0.48150192616032617 | val loss: 0.4521741680070466 |\n",
      "Epoch:  22%|██▏       | 33/150 [00:21<01:15,  1.56it/s]\n",
      "EP_32 | train loss: 0.4783550823436064 | val loss: 0.4427602150860955 |\n",
      "Epoch:  23%|██▎       | 34/150 [00:21<01:14,  1.56it/s]\n",
      "EP_33 | train loss: 0.47791526831832587 | val loss: 0.43489674025890873 |\n",
      "Epoch:  23%|██▎       | 35/150 [00:22<01:14,  1.55it/s]\n",
      "EP_34 | train loss: 0.47079345572228526 | val loss: 0.42920318304323685 |\n",
      "Epoch:  24%|██▍       | 36/150 [00:23<01:12,  1.57it/s]\n",
      "EP_35 | train loss: 0.47189027094373515 | val loss: 0.4210009387895173 |\n",
      "Epoch:  25%|██▍       | 37/150 [00:23<01:12,  1.56it/s]\n",
      "EP_36 | train loss: 0.46588331764819574 | val loss: 0.4146786858053768 |\n",
      "Epoch:  25%|██▌       | 38/150 [00:24<01:11,  1.57it/s]\n",
      "EP_37 | train loss: 0.4618256045322792 | val loss: 0.40848690855736824 |\n",
      "Epoch:  26%|██▌       | 39/150 [00:25<01:11,  1.56it/s]\n",
      "EP_38 | train loss: 0.45471760104684267 | val loss: 0.4060814006655824 |\n",
      "Epoch:  27%|██▋       | 40/150 [00:25<01:10,  1.56it/s]\n",
      "EP_39 | train loss: 0.45340173945707435 | val loss: 0.3977962849186916 |\n",
      "Epoch:  27%|██▋       | 41/150 [00:26<01:10,  1.55it/s]\n",
      "EP_40 | train loss: 0.4498942449981091 | val loss: 0.39159031475291534 |\n",
      "Epoch:  28%|██▊       | 42/150 [00:26<01:09,  1.55it/s]\n",
      "EP_41 | train loss: 0.44577949561324776 | val loss: 0.3893713577120912 |\n",
      "Epoch:  29%|██▊       | 43/150 [00:27<01:09,  1.54it/s]\n",
      "EP_42 | train loss: 0.4422261387694116 | val loss: 0.3817460303213082 |\n",
      "Epoch:  29%|██▉       | 44/150 [00:28<01:08,  1.55it/s]\n",
      "EP_43 | train loss: 0.443543594491248 | val loss: 0.3759746177523744 |\n",
      "Epoch:  30%|███       | 45/150 [00:28<01:07,  1.54it/s]\n",
      "EP_44 | train loss: 0.4362863587398155 | val loss: 0.37319443740096747 |\n",
      "Epoch:  31%|███       | 46/150 [00:29<01:06,  1.56it/s]\n",
      "EP_45 | train loss: 0.4337306639727424 | val loss: 0.3686300866744098 |\n",
      "Epoch:  31%|███▏      | 47/150 [00:30<01:06,  1.55it/s]\n",
      "EP_46 | train loss: 0.43006259647070194 | val loss: 0.3643022238039503 |\n",
      "Epoch:  32%|███▏      | 48/150 [00:30<01:05,  1.55it/s]\n",
      "EP_47 | train loss: 0.4302002832001331 | val loss: 0.35982393750957414 |\n",
      "Epoch:  33%|███▎      | 49/150 [00:31<01:05,  1.55it/s]\n",
      "EP_48 | train loss: 0.42860757883857276 | val loss: 0.35634421367271274 |\n",
      "Epoch:  33%|███▎      | 50/150 [00:32<01:04,  1.55it/s]\n",
      "EP_49 | train loss: 0.4228957737193388 | val loss: 0.3537091133641262 |\n",
      "Epoch:  34%|███▍      | 51/150 [00:32<01:04,  1.54it/s]\n",
      "EP_50 | train loss: 0.41833591648176605 | val loss: 0.35086578481337605 |\n",
      "Epoch:  35%|███▍      | 52/150 [00:33<01:02,  1.56it/s]\n",
      "EP_51 | train loss: 0.42128299357844334 | val loss: 0.3476424965203977 |\n",
      "Epoch:  35%|███▌      | 53/150 [00:34<01:02,  1.55it/s]\n",
      "EP_52 | train loss: 0.4157713796578202 | val loss: 0.346040968801461 |\n",
      "Epoch:  36%|███▌      | 54/150 [00:34<01:01,  1.57it/s]\n",
      "EP_53 | train loss: 0.41717481566410436 | val loss: 0.34309879938761395 |\n",
      "Epoch:  37%|███▋      | 55/150 [00:35<01:01,  1.56it/s]\n",
      "EP_54 | train loss: 0.41259328010035495 | val loss: 0.34059661509943945 |\n",
      "Epoch:  37%|███▋      | 56/150 [00:35<01:00,  1.56it/s]\n",
      "EP_55 | train loss: 0.4129552401748358 | val loss: 0.33921272146935555 |\n",
      "Epoch:  38%|███▊      | 57/150 [00:36<00:59,  1.55it/s]\n",
      "EP_56 | train loss: 0.40523528398252 | val loss: 0.3378688587861903 |\n",
      "Epoch:  39%|███▊      | 58/150 [00:37<00:58,  1.56it/s]\n",
      "EP_57 | train loss: 0.40370222867703903 | val loss: 0.33529772477991443 |\n",
      "Epoch:  39%|███▉      | 59/150 [00:37<00:58,  1.55it/s]\n",
      "EP_58 | train loss: 0.4017296594731948 | val loss: 0.33428166894351735 |\n",
      "Epoch:  40%|████      | 60/150 [00:38<00:57,  1.56it/s]\n",
      "EP_59 | train loss: 0.40168035077113734 | val loss: 0.33240873205895516 |\n",
      "Epoch:  41%|████      | 61/150 [00:39<00:57,  1.56it/s]\n",
      "EP_60 | train loss: 0.4024983106874952 | val loss: 0.33194274995841233 |\n",
      "Epoch:  41%|████▏     | 62/150 [00:39<00:56,  1.56it/s]\n",
      "EP_61 | train loss: 0.39856888593411915 | val loss: 0.32978255141015145 |\n",
      "Epoch:  42%|████▏     | 63/150 [00:40<00:55,  1.55it/s]\n",
      "EP_62 | train loss: 0.39475127294951795 | val loss: 0.3279719305973427 |\n",
      "Epoch:  43%|████▎     | 64/150 [00:41<00:55,  1.56it/s]\n",
      "EP_63 | train loss: 0.387857040236978 | val loss: 0.32870904137106505 |\n",
      "Epoch:  43%|████▎     | 65/150 [00:41<00:54,  1.56it/s]\n",
      "EP_64 | train loss: 0.38619629355037915 | val loss: 0.3264614600761264 |\n",
      "Epoch:  44%|████▍     | 66/150 [00:42<00:53,  1.56it/s]\n",
      "EP_65 | train loss: 0.3842088867636288 | val loss: 0.32393809393340467 |\n",
      "Epoch:  45%|████▍     | 67/150 [00:43<00:53,  1.55it/s]\n",
      "EP_66 | train loss: 0.3840561908834121 | val loss: 0.32352234335506663 |\n",
      "Epoch:  45%|████▌     | 68/150 [00:43<00:52,  1.56it/s]\n",
      "EP_67 | train loss: 0.3798271791607726 | val loss: 0.3216768386317234 |\n",
      "Epoch:  46%|████▌     | 69/150 [00:44<00:52,  1.55it/s]\n",
      "EP_68 | train loss: 0.3764886874778598 | val loss: 0.3211759585960239 |\n",
      "Epoch:  47%|████▋     | 70/150 [00:44<00:51,  1.55it/s]\n",
      "EP_69 | train loss: 0.3753023946986479 | val loss: 0.3188024455425786 |\n",
      "Epoch:  47%|████▋     | 71/150 [00:45<00:51,  1.55it/s]\n",
      "EP_70 | train loss: 0.37287247695174874 | val loss: 0.3164939132391238 |\n",
      "Epoch:  48%|████▊     | 72/150 [00:46<00:50,  1.56it/s]\n",
      "EP_71 | train loss: 0.3677014439713721 | val loss: 0.3185676967396456 |\n",
      "Epoch:  49%|████▊     | 73/150 [00:46<00:49,  1.55it/s]\n",
      "EP_72 | train loss: 0.36502304264143404 | val loss: 0.3174431697995055 |\n",
      "Epoch:  49%|████▉     | 74/150 [00:47<00:48,  1.56it/s]\n",
      "EP_73 | train loss: 0.36393571040209605 | val loss: 0.32279907955842857 |\n",
      "Epoch:  50%|█████     | 75/150 [00:48<00:48,  1.55it/s]\n",
      "EP_74 | train loss: 0.35993227631438013 | val loss: 0.31303081325456206 |\n",
      "Epoch:  51%|█████     | 76/150 [00:48<00:47,  1.56it/s]\n",
      "EP_75 | train loss: 0.36133537666470394 | val loss: 0.3107031046175489 |\n",
      "Epoch:  51%|█████▏    | 77/150 [00:49<00:47,  1.54it/s]\n",
      "EP_76 | train loss: 0.35760718420440074 | val loss: 0.30945999482098746 |\n",
      "Epoch:  52%|█████▏    | 78/150 [00:50<00:46,  1.55it/s]\n",
      "EP_77 | train loss: 0.35656985021105 | val loss: 0.3068373437021293 |\n",
      "Epoch:  53%|█████▎    | 79/150 [00:50<00:45,  1.55it/s]\n",
      "EP_78 | train loss: 0.3486471475339403 | val loss: 0.30629197756449383 |\n",
      "Epoch:  53%|█████▎    | 80/150 [00:51<00:44,  1.56it/s]\n",
      "EP_79 | train loss: 0.34683425940719304 | val loss: 0.30389294904821057 |\n",
      "Epoch:  54%|█████▍    | 81/150 [00:52<00:44,  1.55it/s]\n",
      "EP_80 | train loss: 0.3475326851302502 | val loss: 0.30139633253508924 |\n",
      "Epoch:  55%|█████▍    | 82/150 [00:52<00:43,  1.56it/s]\n",
      "EP_81 | train loss: 0.34667108619914333 | val loss: 0.2996518331415513 |\n",
      "Epoch:  55%|█████▌    | 83/150 [00:53<00:43,  1.55it/s]\n",
      "EP_82 | train loss: 0.33691351320229324 | val loss: 0.2984430228962618 |\n",
      "Epoch:  56%|█████▌    | 84/150 [00:53<00:42,  1.55it/s]\n",
      "EP_83 | train loss: 0.3354091158100203 | val loss: 0.29517276146832633 |\n",
      "Epoch:  57%|█████▋    | 85/150 [00:54<00:42,  1.54it/s]\n",
      "EP_84 | train loss: 0.33915307288076363 | val loss: 0.2940799021253399 |\n",
      "Epoch:  57%|█████▋    | 86/150 [00:55<00:41,  1.54it/s]\n",
      "EP_85 | train loss: 0.32639705199821323 | val loss: 0.2930900629828958 |\n",
      "Epoch:  58%|█████▊    | 87/150 [00:55<00:41,  1.53it/s]\n",
      "EP_86 | train loss: 0.323348274417952 | val loss: 0.289592186609904 |\n",
      "Epoch:  59%|█████▊    | 88/150 [00:56<00:40,  1.54it/s]\n",
      "EP_87 | train loss: 0.3196036170510685 | val loss: 0.28916114451838476 |\n",
      "Epoch:  59%|█████▉    | 89/150 [00:57<00:39,  1.54it/s]\n",
      "EP_88 | train loss: 0.31576769118215525 | val loss: 0.2894872543858547 |\n",
      "Epoch:  60%|██████    | 90/150 [00:57<00:38,  1.55it/s]\n",
      "EP_89 | train loss: 0.3137580006730323 | val loss: 0.28287512648339364 |\n",
      "Epoch:  61%|██████    | 91/150 [00:58<00:38,  1.54it/s]\n",
      "EP_90 | train loss: 0.31263213391397515 | val loss: 0.2782886776269651 |\n",
      "Epoch:  61%|██████▏   | 92/150 [00:59<00:37,  1.56it/s]\n",
      "EP_91 | train loss: 0.3048524206759883 | val loss: 0.27962592068840475 |\n",
      "Epoch:  62%|██████▏   | 93/150 [00:59<00:36,  1.55it/s]\n",
      "EP_92 | train loss: 0.3014565154617908 | val loss: 0.2785961113724054 |\n",
      "Epoch:  63%|██████▎   | 94/150 [01:00<00:35,  1.56it/s]\n",
      "EP_93 | train loss: 0.2975238645777983 | val loss: 0.27530872120576744 |\n",
      "Epoch:  63%|██████▎   | 95/150 [01:01<00:35,  1.55it/s]\n",
      "EP_94 | train loss: 0.29656428402545404 | val loss: 0.2682513629688936 |\n",
      "Epoch:  64%|██████▍   | 96/150 [01:01<00:34,  1.56it/s]\n",
      "EP_95 | train loss: 0.29040138768214807 | val loss: 0.2664361000061035 |\n",
      "Epoch:  65%|██████▍   | 97/150 [01:02<00:34,  1.55it/s]\n",
      "EP_96 | train loss: 0.294439554681965 | val loss: 0.2618254773757037 |\n",
      "Epoch:  65%|██████▌   | 98/150 [01:03<00:33,  1.56it/s]\n",
      "EP_97 | train loss: 0.2850470496158974 | val loss: 0.2584995662464815 |\n",
      "Epoch:  66%|██████▌   | 99/150 [01:03<00:32,  1.55it/s]\n",
      "EP_98 | train loss: 0.3030977581061569 | val loss: 0.26218826163048836 |\n",
      "Epoch:  67%|██████▋   | 100/150 [01:04<00:32,  1.55it/s]\n",
      "EP_99 | train loss: 0.27740318868674485 | val loss: 0.25235716034384337 |\n",
      "Epoch:  67%|██████▋   | 101/150 [01:04<00:31,  1.54it/s]\n",
      "EP_100 | train loss: 0.2725252768572639 | val loss: 0.2596394080741733 |\n",
      "Epoch:  68%|██████▊   | 102/150 [01:05<00:30,  1.56it/s]\n",
      "EP_101 | train loss: 0.2668343441159117 | val loss: 0.2495296281926772 |\n",
      "Epoch:  69%|██████▊   | 103/150 [01:06<00:30,  1.55it/s]\n",
      "EP_102 | train loss: 0.2634787968560761 | val loss: 0.2463857286116656 |\n",
      "Epoch:  69%|██████▉   | 104/150 [01:06<00:29,  1.55it/s]\n",
      "EP_103 | train loss: 0.26167347197439156 | val loss: 0.2377600389368394 |\n",
      "Epoch:  70%|███████   | 105/150 [01:07<00:28,  1.55it/s]\n",
      "EP_104 | train loss: 0.25466553557152843 | val loss: 0.240893144233554 |\n",
      "Epoch:  71%|███████   | 106/150 [01:08<00:28,  1.56it/s]\n",
      "EP_105 | train loss: 0.2514229206477894 | val loss: 0.24201345911212996 |\n",
      "Epoch:  71%|███████▏  | 107/150 [01:08<00:27,  1.55it/s]\n",
      "EP_106 | train loss: 0.2460481325785319 | val loss: 0.22964922119589412 |\n",
      "Epoch:  72%|███████▏  | 108/150 [01:09<00:26,  1.56it/s]\n",
      "EP_107 | train loss: 0.24263877494662417 | val loss: 0.22461710724176145 |\n",
      "Epoch:  73%|███████▎  | 109/150 [01:10<00:26,  1.56it/s]\n",
      "EP_108 | train loss: 0.2432192419089523 | val loss: 0.21813398716496488 |\n",
      "Epoch:  73%|███████▎  | 110/150 [01:10<00:25,  1.57it/s]\n",
      "EP_109 | train loss: 0.23303283967223823 | val loss: 0.21755467209161497 |\n",
      "Epoch:  74%|███████▍  | 111/150 [01:11<00:25,  1.56it/s]\n",
      "EP_110 | train loss: 0.2298162614597994 | val loss: 0.22157687766879214 |\n",
      "Epoch:  75%|███████▍  | 112/150 [01:12<00:24,  1.57it/s]\n",
      "EP_111 | train loss: 0.22489551235647762 | val loss: 0.20563825439004338 |\n",
      "Epoch:  75%|███████▌  | 113/150 [01:12<00:23,  1.55it/s]\n",
      "EP_112 | train loss: 0.22322996036679138 | val loss: 0.20170804566028072 |\n",
      "Epoch:  76%|███████▌  | 114/150 [01:13<00:23,  1.56it/s]\n",
      "EP_113 | train loss: 0.2166852773404589 | val loss: 0.20256365046781652 |\n",
      "Epoch:  77%|███████▋  | 115/150 [01:13<00:22,  1.55it/s]\n",
      "EP_114 | train loss: 0.2110445221265157 | val loss: 0.2013375385134828 |\n",
      "Epoch:  77%|███████▋  | 116/150 [01:14<00:21,  1.56it/s]\n",
      "EP_115 | train loss: 0.22520998178743848 | val loss: 0.19121961967617856 |\n",
      "Epoch:  78%|███████▊  | 117/150 [01:15<00:21,  1.54it/s]\n",
      "EP_116 | train loss: 0.203949265386544 | val loss: 0.1839523619296504 |\n",
      "Epoch:  79%|███████▊  | 118/150 [01:15<00:20,  1.55it/s]\n",
      "EP_117 | train loss: 0.199958433824427 | val loss: 0.17947747660618202 |\n",
      "Epoch:  79%|███████▉  | 119/150 [01:16<00:20,  1.55it/s]\n",
      "EP_118 | train loss: 0.19628046961391674 | val loss: 0.174627610281402 |\n",
      "Epoch:  80%|████████  | 120/150 [01:17<00:19,  1.55it/s]\n",
      "EP_119 | train loss: 0.19756042770310944 | val loss: 0.17075130986232384 |\n",
      "Epoch:  81%|████████  | 121/150 [01:17<00:18,  1.55it/s]\n",
      "EP_120 | train loss: 0.18923422215031643 | val loss: 0.18698894743825875 |\n",
      "Epoch:  81%|████████▏ | 122/150 [01:18<00:17,  1.56it/s]\n",
      "EP_121 | train loss: 0.1803951721565396 | val loss: 0.16386870543162027 |\n",
      "Epoch:  82%|████████▏ | 123/150 [01:19<00:17,  1.55it/s]\n",
      "EP_122 | train loss: 0.17681682998058842 | val loss: 0.15907100135204838 |\n",
      "Epoch:  83%|████████▎ | 124/150 [01:19<00:16,  1.55it/s]\n",
      "EP_123 | train loss: 0.1729834981993133 | val loss: 0.15002920814588958 |\n",
      "Epoch:  83%|████████▎ | 125/150 [01:20<00:16,  1.54it/s]\n",
      "EP_124 | train loss: 0.1664794559572257 | val loss: 0.15754789698357677 |\n",
      "Epoch:  84%|████████▍ | 126/150 [01:21<00:15,  1.55it/s]\n",
      "EP_125 | train loss: 0.16131884584239886 | val loss: 0.14996565323249966 |\n",
      "Epoch:  85%|████████▍ | 127/150 [01:21<00:14,  1.54it/s]\n",
      "EP_126 | train loss: 0.16246765664979523 | val loss: 0.13792209999234067 |\n",
      "Epoch:  85%|████████▌ | 128/150 [01:22<00:14,  1.55it/s]\n",
      "EP_127 | train loss: 0.15217595731510836 | val loss: 0.13662594439936618 |\n",
      "Epoch:  86%|████████▌ | 129/150 [01:23<00:13,  1.54it/s]\n",
      "EP_128 | train loss: 0.14749505029005164 | val loss: 0.13612566742242552 |\n",
      "Epoch:  87%|████████▋ | 130/150 [01:23<00:12,  1.55it/s]\n",
      "EP_129 | train loss: 0.14412999480378394 | val loss: 0.12845253009422153 |\n",
      "Epoch:  87%|████████▋ | 131/150 [01:24<00:12,  1.54it/s]\n",
      "EP_130 | train loss: 0.13883295129327214 | val loss: 0.12666991177727194 |\n",
      "Epoch:  88%|████████▊ | 132/150 [01:24<00:11,  1.55it/s]\n",
      "EP_131 | train loss: 0.13967269588919246 | val loss: 0.11654883973738726 |\n",
      "Epoch:  89%|████████▊ | 133/150 [01:25<00:10,  1.55it/s]\n",
      "EP_132 | train loss: 0.13872372543110567 | val loss: 0.1127850331512152 |\n",
      "Epoch:  89%|████████▉ | 134/150 [01:26<00:10,  1.56it/s]\n",
      "EP_133 | train loss: 0.1254580318927765 | val loss: 0.11213788799211091 |\n",
      "Epoch:  90%|█████████ | 135/150 [01:26<00:09,  1.56it/s]\n",
      "EP_134 | train loss: 0.13286030619752173 | val loss: 0.10654204733231488 |\n",
      "Epoch:  91%|█████████ | 136/150 [01:27<00:08,  1.57it/s]\n",
      "EP_135 | train loss: 0.12009262489337547 | val loss: 0.10051991892795936 |\n",
      "Epoch:  91%|█████████▏| 137/150 [01:28<00:08,  1.56it/s]\n",
      "EP_136 | train loss: 0.11320522263938305 | val loss: 0.099403696901658 |\n",
      "Epoch:  92%|█████████▏| 138/150 [01:28<00:07,  1.57it/s]\n",
      "EP_137 | train loss: 0.1330548988837822 | val loss: 0.1063994286107082 |\n",
      "Epoch:  93%|█████████▎| 139/150 [01:29<00:07,  1.55it/s]\n",
      "EP_138 | train loss: 0.10593874805113848 | val loss: 0.0972220921048931 |\n",
      "Epoch:  93%|█████████▎| 140/150 [01:30<00:06,  1.56it/s]\n",
      "EP_139 | train loss: 0.10205087509809756 | val loss: 0.09519364787083046 |\n",
      "Epoch:  94%|█████████▍| 141/150 [01:30<00:05,  1.55it/s]\n",
      "EP_140 | train loss: 0.09787359670096753 | val loss: 0.08677980011584711 |\n",
      "Epoch:  95%|█████████▍| 142/150 [01:31<00:05,  1.56it/s]\n",
      "EP_141 | train loss: 0.09455040856903675 | val loss: 0.08646174271901448 |\n",
      "Epoch:  95%|█████████▌| 143/150 [01:32<00:04,  1.55it/s]\n",
      "EP_142 | train loss: 0.0925122785801981 | val loss: 0.08172420076295442 |\n",
      "Epoch:  96%|█████████▌| 144/150 [01:32<00:03,  1.56it/s]\n",
      "EP_143 | train loss: 0.08701761867485794 | val loss: 0.0789877971013387 |\n",
      "Epoch:  97%|█████████▋| 145/150 [01:33<00:03,  1.55it/s]\n",
      "EP_144 | train loss: 0.08361272437899721 | val loss: 0.07602182790344837 |\n",
      "Epoch:  97%|█████████▋| 146/150 [01:33<00:02,  1.56it/s]\n",
      "EP_145 | train loss: 0.08405310780394311 | val loss: 0.07276584938460705 |\n",
      "Epoch:  98%|█████████▊| 147/150 [01:34<00:01,  1.56it/s]\n",
      "EP_146 | train loss: 0.09581372293771483 | val loss: 0.07803037119846717 |\n",
      "Epoch:  99%|█████████▊| 148/150 [01:35<00:01,  1.56it/s]\n",
      "EP_147 | train loss: 0.07472876368784437 | val loss: 0.0710832067564422 |\n",
      "Epoch:  99%|█████████▉| 149/150 [01:35<00:00,  1.55it/s]\n",
      "EP_148 | train loss: 0.07156517476427789 | val loss: 0.06671620934617285 |\n",
      "Epoch: 100%|██████████| 150/150 [01:36<00:00,  1.55it/s]\n",
      "EP_149 | train loss: 0.07460150251201556 | val loss: 0.06343482054916083 |\n",
      "\n"
     ]
    }
   ],
   "source": [
    "AttractiveTrainer.train()"
   ]
  },
  {
   "cell_type": "markdown",
   "metadata": {},
   "source": [
    "## Below is testing"
   ]
  },
  {
   "cell_type": "code",
   "execution_count": 6,
   "metadata": {},
   "outputs": [
    {
     "output_type": "execute_result",
     "data": {
      "text/plain": [
       "AttractiveNet(\n",
       "  (embedding): AttractiveEmbedding(\n",
       "    (token): TokenEmbedding(12699, 300, padding_idx=1)\n",
       "  )\n",
       "  (unigramcnn): Sequential(\n",
       "    (0): Conv1d(300, 210, kernel_size=(1,), stride=(1,))\n",
       "    (1): ReLU()\n",
       "    (2): Conv1d(210, 100, kernel_size=(1,), stride=(1,))\n",
       "    (3): ReLU()\n",
       "    (4): Dropout(p=0.5, inplace=False)\n",
       "  )\n",
       "  (bigramcnn): Sequential(\n",
       "    (0): Conv1d(300, 210, kernel_size=(2,), stride=(1,), padding=(1,))\n",
       "    (1): ReLU()\n",
       "    (2): Conv1d(210, 100, kernel_size=(2,), stride=(1,), padding=(1,))\n",
       "    (3): ReLU()\n",
       "    (4): Dropout(p=0.5, inplace=False)\n",
       "  )\n",
       "  (trigramcnn): Sequential(\n",
       "    (0): Conv1d(300, 210, kernel_size=(3,), stride=(1,), padding=(1,))\n",
       "    (1): ReLU()\n",
       "    (2): Conv1d(210, 100, kernel_size=(3,), stride=(1,), padding=(1,))\n",
       "    (3): ReLU()\n",
       "    (4): Dropout(p=0.5, inplace=False)\n",
       "  )\n",
       "  (encoder_unigram): LSTM(100, 30, batch_first=True, dropout=0.5, bidirectional=True)\n",
       "  (encoder_bigram): LSTM(100, 30, batch_first=True, dropout=0.5, bidirectional=True)\n",
       "  (encoder_trigram): LSTM(100, 30, batch_first=True, dropout=0.5, bidirectional=True)\n",
       "  (linear): Sequential(\n",
       "    (0): Linear(in_features=192, out_features=30, bias=True)\n",
       "    (1): ReLU()\n",
       "    (2): Linear(in_features=30, out_features=1, bias=True)\n",
       "  )\n",
       ")"
      ]
     },
     "metadata": {},
     "execution_count": 6
    }
   ],
   "source": [
    "from attractivenet import AttractiveNet\n",
    "\n",
    "PATH = './model/CNN_LSTM_20201110-204941/0.376489.68'\n",
    "\n",
    "load_model = AttractiveNet(config).to(AttractiveData.device)\n",
    "load_model.load_state_dict(torch.load(PATH))\n",
    "load_model.eval()"
   ]
  },
  {
   "cell_type": "code",
   "execution_count": 7,
   "metadata": {},
   "outputs": [],
   "source": [
    "def predict_attractive(sentence, category, phase):\n",
    "    indexed_sentence = [AttractiveData.TEXT.vocab.stoi[t] for t in sentence]\n",
    "    indexed_category = [AttractiveData.CATEGORIES_LABEL.vocab.stoi[category]]\n",
    "    tensor_sentence = torch.LongTensor(indexed_sentence).to(AttractiveData.device)\n",
    "    tensor_category = torch.LongTensor(indexed_category).to(AttractiveData.device)\n",
    "    tensor_sentence = tensor_sentence.unsqueeze(0)\n",
    "\n",
    "    prediction = load_model(tensor_sentence, tensor_category, phase=phase)\n",
    "\n",
    "    return prediction"
   ]
  },
  {
   "cell_type": "code",
   "execution_count": 8,
   "metadata": {
    "tags": []
   },
   "outputs": [],
   "source": [
    "predict_list = []\n",
    "with torch.no_grad():\n",
    "    for i, sentence in enumerate(AttractiveData.test_data):\n",
    "        prediction = predict_attractive(sentence.Headline, sentence.Category, 'test')\n",
    "        predict_list.append(prediction.item())\n",
    "\n",
    "AttractiveData.df_test['Label'] = predict_list\n",
    "AttractiveData.df_test[['ID', 'Label']].to_csv(config['save_name'] + '.csv', index=False)"
   ]
  },
  {
   "cell_type": "markdown",
   "metadata": {},
   "source": [
    "## Below for statistics"
   ]
  },
  {
   "cell_type": "code",
   "execution_count": 9,
   "metadata": {},
   "outputs": [],
   "source": [
    "import statistics\n",
    "from sklearn.metrics import mean_squared_error"
   ]
  },
  {
   "cell_type": "code",
   "execution_count": 10,
   "metadata": {},
   "outputs": [],
   "source": [
    "# # train mean = 3.15, test mean = 2.8\n",
    "# train_list = []\n",
    "# for i, sentence in enumerate(AttractiveData.train_data):\n",
    "#     prediction = predict_attractive(sentence.Headline, sentence.Category, 'train')\n",
    "#     train_list.append(prediction.item())\n",
    "#     # train_list.append(prediction.item())\n",
    "# # print(train_list)\n",
    "# mean_squared_error(pd.read_csv('data/train.csv').sort_values(['ID']).Label.to_list(), train_list), statistics.mean(train_list), statistics.stdev(train_list)"
   ]
  },
  {
   "cell_type": "code",
   "execution_count": 11,
   "metadata": {},
   "outputs": [],
   "source": [
    "# train_list[0:5], pd.read_csv('data/train.csv').sort_values(['ID']).Label.to_list()[0:5]"
   ]
  },
  {
   "cell_type": "code",
   "execution_count": 12,
   "metadata": {},
   "outputs": [],
   "source": [
    "# a = AttractiveData.df_train['Label'].to_list()\n",
    "# statistics.mean(a), statistics.stdev(a)"
   ]
  },
  {
   "cell_type": "code",
   "execution_count": 13,
   "metadata": {},
   "outputs": [
    {
     "output_type": "execute_result",
     "data": {
      "text/plain": [
       "(2.8394153664290642, 0.3328727130066473)"
      ]
     },
     "metadata": {},
     "execution_count": 13
    }
   ],
   "source": [
    "statistics.mean(predict_list), statistics.stdev(predict_list)"
   ]
  },
  {
   "cell_type": "code",
   "execution_count": 14,
   "metadata": {},
   "outputs": [
    {
     "output_type": "execute_result",
     "data": {
      "text/plain": [
       "(0.009655923729345614, 2.8142020345259344, 0.36798823904910916)"
      ]
     },
     "metadata": {},
     "execution_count": 14
    }
   ],
   "source": [
    "baseline_list = pd.read_csv('baseline.csv').sort_values(['ID']).Label.to_list()\n",
    "mean_squared_error(baseline_list, predict_list), statistics.mean(baseline_list), statistics.stdev(baseline_list)"
   ]
  },
  {
   "cell_type": "code",
   "execution_count": null,
   "metadata": {},
   "outputs": [],
   "source": []
  },
  {
   "cell_type": "code",
   "execution_count": 17,
   "metadata": {},
   "outputs": [
    {
     "output_type": "execute_result",
     "data": {
      "text/plain": [
       "0.0"
      ]
     },
     "metadata": {},
     "execution_count": 17
    }
   ],
   "source": [
    "mean_squared_error(pd.read_csv('baseline.csv').sort_values(['ID']).Label.to_list(), pd.read_csv('../309551062/predict/CNN_LSTM_20201109-125007_0.374958.75.csv').sort_values(['ID']).Label.to_list())"
   ]
  },
  {
   "cell_type": "code",
   "execution_count": 13,
   "metadata": {},
   "outputs": [],
   "source": []
  },
  {
   "cell_type": "code",
   "execution_count": null,
   "metadata": {},
   "outputs": [],
   "source": []
  }
 ],
 "metadata": {
  "kernelspec": {
   "display_name": "DS_hw2",
   "language": "python",
   "name": "ds_hw2"
  },
  "language_info": {
   "codemirror_mode": {
    "name": "ipython",
    "version": 3
   },
   "file_extension": ".py",
   "mimetype": "text/x-python",
   "name": "python",
   "nbconvert_exporter": "python",
   "pygments_lexer": "ipython3",
   "version": "3.6.12-final"
  }
 },
 "nbformat": 4,
 "nbformat_minor": 4
}