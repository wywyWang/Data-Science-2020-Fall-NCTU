{
 "cells": [
  {
   "cell_type": "code",
   "execution_count": 1,
   "metadata": {},
   "outputs": [],
   "source": [
    "# common packages\n",
    "import pandas as pd\n",
    "import time\n",
    "\n",
    "# # DL framework\n",
    "import torch\n",
    "from torchtext import data\n",
    "\n",
    "from attractivedata import AttractiveData\n",
    "from trainer import AttractiveTrainer"
   ]
  },
  {
   "cell_type": "code",
   "execution_count": 2,
   "metadata": {},
   "outputs": [],
   "source": [
    "seed_value = 42\n",
    "torch.manual_seed(seed_value)\n",
    "torch.cuda.manual_seed(seed_value)\n",
    "torch.cuda.manual_seed_all(seed_value) # gpu vars\n",
    "torch.backends.cudnn.deterministic = True  #needed\n",
    "torch.backends.cudnn.benchmark = False"
   ]
  },
  {
   "cell_type": "markdown",
   "metadata": {},
   "source": [
    "# TODO: \n",
    "- [ ] cnn plus residual network\n",
    "- [ ] word embedding multiply tfidf\n",
    "- [ ] use word2vec"
   ]
  },
  {
   "cell_type": "markdown",
   "metadata": {},
   "source": [
    "## Load and prepare data"
   ]
  },
  {
   "cell_type": "code",
   "execution_count": 3,
   "metadata": {},
   "outputs": [],
   "source": [
    "train_file = 'data/train.csv'\n",
    "val_file = 'example/val.csv'\n",
    "test_file = 'data/test.csv'\n",
    "pretrained_file = 'glove.840B.300d'\n",
    "config = {\n",
    "    'max_seq': 40,\n",
    "    'min_freq': 0,\n",
    "    'batch_size': 64,\n",
    "    'pretrained_file': pretrained_file\n",
    "}\n"
   ]
  },
  {
   "cell_type": "code",
   "execution_count": 4,
   "metadata": {},
   "outputs": [],
   "source": [
    "AttractiveData = AttractiveData(train_file, val_file, test_file, pretrained_file, config)"
   ]
  },
  {
   "cell_type": "markdown",
   "metadata": {},
   "source": [
    "## Start to train"
   ]
  },
  {
   "cell_type": "code",
   "execution_count": 5,
   "metadata": {},
   "outputs": [
    {
     "output_type": "stream",
     "name": "stdout",
     "text": [
      "torch.Size([12699, 300])\n"
     ]
    }
   ],
   "source": [
    "config['timestr'] = time.strftime(\"%Y%m%d-%H%M%S\")\n",
    "config['save_name'] = 'CNN_LSTM'\n",
    "config['input_dim'] = len(AttractiveData.TEXT.vocab)\n",
    "config['embedding_dim'] = 300\n",
    "config['category_dim'] = len(AttractiveData.CATEGORIES_LABEL.vocab)\n",
    "config['category_embedding_dim'] = 10\n",
    "config['hidden_dim'] = 30\n",
    "config['output_dim'] = 1\n",
    "config['log_steps'] = 10\n",
    "config['epochs'] = 200\n",
    "config['lr'] = {\n",
    "    'encoder': 1e-5,\n",
    "    'embedding': 6e-6,\n",
    "    'linear': 1e-5\n",
    "}\n",
    "config['num_layers'] = 1\n",
    "config['kernel_size'] = 3\n",
    "config['dropout'] = 0.5\n",
    "config['train_len'] = AttractiveData.train_len\n",
    "config['val_len'] = AttractiveData.val_len\n",
    "config['test_len'] = AttractiveData.test_len\n",
    "\n",
    "pretrained_embeddings = AttractiveData.TEXT.vocab.vectors\n",
    "print(pretrained_embeddings.shape)"
   ]
  },
  {
   "cell_type": "code",
   "execution_count": 6,
   "metadata": {},
   "outputs": [],
   "source": [
    "AttractiveTrainer = AttractiveTrainer(config, AttractiveData.device, AttractiveData.trainloader, AttractiveData.valloader, pretrained_embeddings)"
   ]
  },
  {
   "cell_type": "code",
   "execution_count": 7,
   "metadata": {},
   "outputs": [
    {
     "output_type": "execute_result",
     "data": {
      "text/plain": [
       "(AttractiveNet(\n",
       "   (embedding): AttractiveEmbedding(\n",
       "     (token): TokenEmbedding(12699, 300, padding_idx=1)\n",
       "   )\n",
       "   (bigramcnn): Sequential(\n",
       "     (0): Conv1d(300, 210, kernel_size=(2,), stride=(1,), padding=(1,))\n",
       "     (1): ReLU6()\n",
       "     (2): Conv1d(210, 100, kernel_size=(2,), stride=(1,), padding=(1,))\n",
       "     (3): ReLU6()\n",
       "     (4): Dropout(p=0.5, inplace=False)\n",
       "   )\n",
       "   (trigramcnn): Sequential(\n",
       "     (0): Conv1d(300, 210, kernel_size=(3,), stride=(1,), padding=(1,))\n",
       "     (1): ReLU()\n",
       "     (2): Conv1d(210, 100, kernel_size=(3,), stride=(1,), padding=(1,))\n",
       "     (3): ReLU()\n",
       "     (4): Dropout(p=0.5, inplace=False)\n",
       "   )\n",
       "   (encoder_bigram): LSTM(100, 30, batch_first=True, dropout=0.5, bidirectional=True)\n",
       "   (encoder_trigram): LSTM(100, 30, batch_first=True, dropout=0.5, bidirectional=True)\n",
       "   (linear): Sequential(\n",
       "     (0): Linear(in_features=124, out_features=30, bias=True)\n",
       "     (1): ReLU()\n",
       "     (2): Linear(in_features=30, out_features=1, bias=True)\n",
       "   )\n",
       " ),\n",
       " 4297461,\n",
       " 4297461)"
      ]
     },
     "metadata": {},
     "execution_count": 7
    }
   ],
   "source": [
    "AttractiveTrainer.model, AttractiveTrainer.config['total_params'], AttractiveTrainer.config['total_learned_params']"
   ]
  },
  {
   "cell_type": "code",
   "execution_count": 8,
   "metadata": {
    "tags": [
     "outputPrepend"
    ]
   },
   "outputs": [
    {
     "output_type": "stream",
     "name": "stderr",
     "text": [
      "      | 48/200 [00:19<01:04,  2.36it/s]\n",
      "EP_47 | train loss: 0.44123222781162635 | val loss: 0.3824525522250755 |\n",
      "Epoch:  24%|██▍       | 49/200 [00:20<01:03,  2.36it/s]\n",
      "EP_48 | train loss: 0.44002637302174286 | val loss: 0.38049808027697546 |\n",
      "Epoch:  25%|██▌       | 50/200 [00:20<01:03,  2.35it/s]\n",
      "EP_49 | train loss: 0.4375401085498286 | val loss: 0.3738498056636137 |\n",
      "Epoch:  26%|██▌       | 51/200 [00:21<01:04,  2.32it/s]\n",
      "EP_50 | train loss: 0.4341432057174982 | val loss: 0.3700270991699368 |\n",
      "Epoch:  26%|██▌       | 52/200 [00:21<01:02,  2.35it/s]\n",
      "EP_51 | train loss: 0.43115733277563956 | val loss: 0.3651954712820988 |\n",
      "Epoch:  26%|██▋       | 53/200 [00:22<01:02,  2.37it/s]\n",
      "EP_52 | train loss: 0.43812937830008714 | val loss: 0.37341659559923057 |\n",
      "Epoch:  27%|██▋       | 54/200 [00:22<01:01,  2.36it/s]\n",
      "EP_53 | train loss: 0.42595775454652074 | val loss: 0.3564796184792238 |\n",
      "Epoch:  28%|██▊       | 55/200 [00:22<01:01,  2.37it/s]\n",
      "EP_54 | train loss: 0.42528605835110533 | val loss: 0.35819045877924155 |\n",
      "Epoch:  28%|██▊       | 56/200 [00:23<01:01,  2.34it/s]\n",
      "EP_55 | train loss: 0.42284448941548664 | val loss: 0.35611212779493895 |\n",
      "Epoch:  28%|██▊       | 57/200 [00:23<01:00,  2.35it/s]\n",
      "EP_56 | train loss: 0.429373893550798 | val loss: 0.3626096371342154 |\n",
      "Epoch:  29%|██▉       | 58/200 [00:24<01:00,  2.36it/s]\n",
      "EP_57 | train loss: 0.4343678642721737 | val loss: 0.3686554244920319 |\n",
      "Epoch:  30%|██▉       | 59/200 [00:24<00:59,  2.36it/s]\n",
      "EP_58 | train loss: 0.4150593355590222 | val loss: 0.34573974328882556 |\n",
      "Epoch:  30%|███       | 60/200 [00:25<00:58,  2.38it/s]\n",
      "EP_59 | train loss: 0.41900980425815954 | val loss: 0.3507049177207199 |\n",
      "Epoch:  30%|███       | 61/200 [00:25<01:01,  2.27it/s]\n",
      "EP_60 | train loss: 0.40934129696266325 | val loss: 0.33905135241209294 |\n",
      "Epoch:  31%|███       | 62/200 [00:25<01:00,  2.29it/s]\n",
      "EP_61 | train loss: 0.4099425998388552 | val loss: 0.33977414463080613 |\n",
      "Epoch:  32%|███▏      | 63/200 [00:26<00:58,  2.34it/s]\n",
      "EP_62 | train loss: 0.40945823332842657 | val loss: 0.3417127594059589 |\n",
      "Epoch:  32%|███▏      | 64/200 [00:26<00:57,  2.38it/s]\n",
      "EP_63 | train loss: 0.41327242851257323 | val loss: 0.3443452423694087 |\n",
      "Epoch:  32%|███▎      | 65/200 [00:27<00:56,  2.41it/s]\n",
      "EP_64 | train loss: 0.4078863321566114 | val loss: 0.33911069292648166 |\n",
      "Epoch:  33%|███▎      | 66/200 [00:27<00:55,  2.40it/s]\n",
      "EP_65 | train loss: 0.4078225145152971 | val loss: 0.34211581244188194 |\n",
      "Epoch:  34%|███▎      | 67/200 [00:27<00:54,  2.43it/s]\n",
      "EP_66 | train loss: 0.3958863417307536 | val loss: 0.3297948054238862 |\n",
      "Epoch:  34%|███▍      | 68/200 [00:28<00:54,  2.41it/s]\n",
      "EP_67 | train loss: 0.4015017743204154 | val loss: 0.3382214897987889 |\n",
      "Epoch:  34%|███▍      | 69/200 [00:28<00:54,  2.41it/s]\n",
      "EP_68 | train loss: 0.39295427752476114 | val loss: 0.3286179041161257 |\n",
      "Epoch:  35%|███▌      | 70/200 [00:29<00:53,  2.42it/s]\n",
      "EP_69 | train loss: 0.3974673729316861 | val loss: 0.3342255622732873 |\n",
      "Epoch:  36%|███▌      | 71/200 [00:29<00:53,  2.42it/s]\n",
      "EP_70 | train loss: 0.39209463736590217 | val loss: 0.3303869956848668 |\n",
      "Epoch:  36%|███▌      | 72/200 [00:30<00:52,  2.42it/s]\n",
      "EP_71 | train loss: 0.390170524634567 | val loss: 0.3300623607401754 |\n",
      "Epoch:  36%|███▋      | 73/200 [00:30<00:52,  2.44it/s]\n",
      "EP_72 | train loss: 0.3920485309526032 | val loss: 0.3323414623737335 |\n",
      "Epoch:  37%|███▋      | 74/200 [00:30<00:51,  2.44it/s]\n",
      "EP_73 | train loss: 0.3846556976729748 | val loss: 0.3253607633067112 |\n",
      "Epoch:  38%|███▊      | 75/200 [00:31<00:51,  2.44it/s]\n",
      "EP_74 | train loss: 0.39125336011250816 | val loss: 0.33392998167112764 |\n",
      "Epoch:  38%|███▊      | 76/200 [00:31<00:51,  2.43it/s]\n",
      "EP_75 | train loss: 0.3769847640804216 | val loss: 0.3197871995907204 |\n",
      "Epoch:  38%|███▊      | 77/200 [00:32<00:50,  2.44it/s]\n",
      "EP_76 | train loss: 0.3751061205770455 | val loss: 0.31878866342937245 |\n",
      "Epoch:  39%|███▉      | 78/200 [00:32<00:49,  2.44it/s]\n",
      "EP_77 | train loss: 0.37005882450178557 | val loss: 0.31617217730073366 |\n",
      "Epoch:  40%|███▉      | 79/200 [00:32<00:50,  2.41it/s]\n",
      "EP_78 | train loss: 0.3706876979154699 | val loss: 0.3158653320050707 |\n",
      "Epoch:  40%|████      | 80/200 [00:33<00:49,  2.43it/s]\n",
      "EP_79 | train loss: 0.36614001638749066 | val loss: 0.3125038678739585 |\n",
      "Epoch:  40%|████      | 81/200 [00:33<00:49,  2.41it/s]\n",
      "EP_80 | train loss: 0.36092096871020746 | val loss: 0.3109314961760652 |\n",
      "Epoch:  41%|████      | 82/200 [00:34<00:49,  2.39it/s]\n",
      "EP_81 | train loss: 0.36043282116160674 | val loss: 0.3088149346557318 |\n",
      "Epoch:  42%|████▏     | 83/200 [00:34<00:48,  2.40it/s]\n",
      "EP_82 | train loss: 0.359239366942761 | val loss: 0.30910063841763663 |\n",
      "Epoch:  42%|████▏     | 84/200 [00:35<00:47,  2.42it/s]\n",
      "EP_83 | train loss: 0.3605014202641506 | val loss: 0.3119046214748831 |\n",
      "Epoch:  42%|████▎     | 85/200 [00:35<00:47,  2.44it/s]\n",
      "EP_84 | train loss: 0.3638303139630486 | val loss: 0.31416555537896995 |\n",
      "Epoch:  43%|████▎     | 86/200 [00:35<00:47,  2.41it/s]\n",
      "EP_85 | train loss: 0.35578574666789936 | val loss: 0.31042103264846055 |\n",
      "Epoch:  44%|████▎     | 87/200 [00:36<00:46,  2.43it/s]\n",
      "EP_86 | train loss: 0.3559190941791908 | val loss: 0.310317504639719 |\n",
      "Epoch:  44%|████▍     | 88/200 [00:36<00:45,  2.44it/s]\n",
      "EP_87 | train loss: 0.35159440227583344 | val loss: 0.30828142750496956 |\n",
      "Epoch:  44%|████▍     | 89/200 [00:37<00:45,  2.46it/s]\n",
      "EP_88 | train loss: 0.34153001588933607 | val loss: 0.30306468933236363 |\n",
      "Epoch:  45%|████▌     | 90/200 [00:37<00:44,  2.45it/s]\n",
      "EP_89 | train loss: 0.3513642156825346 | val loss: 0.3099514865407757 |\n",
      "Epoch:  46%|████▌     | 91/200 [00:37<00:44,  2.43it/s]\n",
      "EP_90 | train loss: 0.34365598641189876 | val loss: 0.3024291834410499 |\n",
      "Epoch:  46%|████▌     | 92/200 [00:38<00:44,  2.43it/s]\n",
      "EP_91 | train loss: 0.33737625234267293 | val loss: 0.3001604728838977 |\n",
      "Epoch:  46%|████▋     | 93/200 [00:38<00:44,  2.43it/s]\n",
      "EP_92 | train loss: 0.3293016924577601 | val loss: 0.2940803585099239 |\n",
      "Epoch:  47%|████▋     | 94/200 [00:39<00:43,  2.44it/s]\n",
      "EP_93 | train loss: 0.3298783068563424 | val loss: 0.2948600123910343 |\n",
      "Epoch:  48%|████▊     | 95/200 [00:39<00:42,  2.46it/s]\n",
      "EP_94 | train loss: 0.3264352560043335 | val loss: 0.29265768679918025 |\n",
      "Epoch:  48%|████▊     | 96/200 [00:39<00:42,  2.42it/s]\n",
      "EP_95 | train loss: 0.32658040149539125 | val loss: 0.29320597473312826 |\n",
      "Epoch:  48%|████▊     | 97/200 [00:40<00:42,  2.42it/s]\n",
      "EP_96 | train loss: 0.31672643025716146 | val loss: 0.28629349142897365 |\n",
      "Epoch:  49%|████▉     | 98/200 [00:40<00:41,  2.44it/s]\n",
      "EP_97 | train loss: 0.3117670550065882 | val loss: 0.2841750874238856 |\n",
      "Epoch:  50%|████▉     | 99/200 [00:41<00:41,  2.44it/s]\n",
      "EP_98 | train loss: 0.31265551482929904 | val loss: 0.2852074825296215 |\n",
      "Epoch:  50%|█████     | 100/200 [00:41<00:41,  2.44it/s]\n",
      "EP_99 | train loss: 0.3058456883710973 | val loss: 0.28098639144616966 |\n",
      "Epoch:  50%|█████     | 101/200 [00:42<00:41,  2.40it/s]\n",
      "EP_100 | train loss: 0.30252104413275627 | val loss: 0.2783525866620681 |\n",
      "Epoch:  51%|█████     | 102/200 [00:42<00:40,  2.42it/s]\n",
      "EP_101 | train loss: 0.3112282346276676 | val loss: 0.2820489798106399 |\n",
      "Epoch:  52%|█████▏    | 103/200 [00:42<00:39,  2.43it/s]\n",
      "EP_102 | train loss: 0.3017570266536638 | val loss: 0.2756388421152152 |\n",
      "Epoch:  52%|█████▏    | 104/200 [00:43<00:39,  2.43it/s]\n",
      "EP_103 | train loss: 0.2922506818584367 | val loss: 0.2700374815978256 |\n",
      "Epoch:  52%|█████▎    | 105/200 [00:43<00:38,  2.45it/s]\n",
      "EP_104 | train loss: 0.28579309641146194 | val loss: 0.2689097763276568 |\n",
      "Epoch:  53%|█████▎    | 106/200 [00:44<00:39,  2.41it/s]\n",
      "EP_105 | train loss: 0.28488164462295235 | val loss: 0.26522022427297104 |\n",
      "Epoch:  54%|█████▎    | 107/200 [00:44<00:38,  2.42it/s]\n",
      "EP_106 | train loss: 0.2791892191943 | val loss: 0.26406095659031587 |\n",
      "Epoch:  54%|█████▍    | 108/200 [00:44<00:37,  2.43it/s]\n",
      "EP_107 | train loss: 0.27948970467436546 | val loss: 0.25919414443128247 |\n",
      "Epoch:  55%|█████▍    | 109/200 [00:45<00:37,  2.44it/s]\n",
      "EP_108 | train loss: 0.2794521733826282 | val loss: 0.2592073153047001 |\n",
      "Epoch:  55%|█████▌    | 110/200 [00:45<00:36,  2.46it/s]\n",
      "EP_109 | train loss: 0.2689516773410872 | val loss: 0.25282911225861193 |\n",
      "Epoch:  56%|█████▌    | 111/200 [00:46<00:36,  2.43it/s]\n",
      "EP_110 | train loss: 0.26428642553441667 | val loss: 0.24966458362691543 |\n",
      "Epoch:  56%|█████▌    | 112/200 [00:46<00:35,  2.45it/s]\n",
      "EP_111 | train loss: 0.2679746707280477 | val loss: 0.2504242693676668 |\n",
      "Epoch:  56%|█████▋    | 113/200 [00:46<00:36,  2.40it/s]\n",
      "EP_112 | train loss: 0.25676060470880246 | val loss: 0.2465542566542532 |\n",
      "Epoch:  57%|█████▋    | 114/200 [00:47<00:35,  2.42it/s]\n",
      "EP_113 | train loss: 0.25343873454075233 | val loss: 0.2406961485451343 |\n",
      "Epoch:  57%|█████▊    | 115/200 [00:47<00:34,  2.44it/s]\n",
      "EP_114 | train loss: 0.2563720516130036 | val loss: 0.23925090128300236 |\n",
      "Epoch:  58%|█████▊    | 116/200 [00:48<00:34,  2.42it/s]\n",
      "EP_115 | train loss: 0.2602907624899172 | val loss: 0.2428843203712912 |\n",
      "Epoch:  58%|█████▊    | 117/200 [00:48<00:34,  2.44it/s]\n",
      "EP_116 | train loss: 0.23824764606999416 | val loss: 0.23031132419904074 |\n",
      "Epoch:  59%|█████▉    | 118/200 [00:48<00:33,  2.46it/s]\n",
      "EP_117 | train loss: 0.2361498659732295 | val loss: 0.22698186717781366 |\n",
      "Epoch:  60%|█████▉    | 119/200 [00:49<00:32,  2.48it/s]\n",
      "EP_118 | train loss: 0.23229944098229502 | val loss: 0.23198776677543043 |\n",
      "Epoch:  60%|██████    | 120/200 [00:49<00:32,  2.46it/s]\n",
      "EP_119 | train loss: 0.22607114221535476 | val loss: 0.22439350801355698 |\n",
      "Epoch:  60%|██████    | 121/200 [00:50<00:32,  2.42it/s]\n",
      "EP_120 | train loss: 0.22073149821337532 | val loss: 0.21577274916218778 |\n",
      "Epoch:  61%|██████    | 122/200 [00:50<00:32,  2.43it/s]\n",
      "EP_121 | train loss: 0.2232311716266707 | val loss: 0.21043203625024534 |\n",
      "Epoch:  62%|██████▏   | 123/200 [00:51<00:31,  2.44it/s]\n",
      "EP_122 | train loss: 0.22055683977463666 | val loss: 0.2076420830745323 |\n",
      "Epoch:  62%|██████▏   | 124/200 [00:51<00:31,  2.44it/s]\n",
      "EP_123 | train loss: 0.2128402551015218 | val loss: 0.2150264797257442 |\n",
      "Epoch:  62%|██████▎   | 125/200 [00:51<00:30,  2.45it/s]\n",
      "EP_124 | train loss: 0.20481842499153285 | val loss: 0.19703754782676697 |\n",
      "Epoch:  63%|██████▎   | 126/200 [00:52<00:30,  2.44it/s]\n",
      "EP_125 | train loss: 0.1998715606390261 | val loss: 0.19263070821762085 |\n",
      "Epoch:  64%|██████▎   | 127/200 [00:52<00:29,  2.44it/s]\n",
      "EP_126 | train loss: 0.19701987341338512 | val loss: 0.18913870699265423 |\n",
      "Epoch:  64%|██████▍   | 128/200 [00:53<00:29,  2.45it/s]\n",
      "EP_127 | train loss: 0.19276694503484987 | val loss: 0.18537657401140997 |\n",
      "Epoch:  64%|██████▍   | 129/200 [00:53<00:29,  2.44it/s]\n",
      "EP_128 | train loss: 0.18558267799078249 | val loss: 0.1790825964189043 |\n",
      "Epoch:  65%|██████▌   | 130/200 [00:53<00:28,  2.45it/s]\n",
      "EP_129 | train loss: 0.18285823055342132 | val loss: 0.17561672715579763 |\n",
      "Epoch:  66%|██████▌   | 131/200 [00:54<00:28,  2.41it/s]\n",
      "EP_130 | train loss: 0.17919959975223915 | val loss: 0.17041724686529122 |\n",
      "Epoch:  66%|██████▌   | 132/200 [00:54<00:27,  2.43it/s]\n",
      "EP_131 | train loss: 0.16987320278205123 | val loss: 0.16494224702610688 |\n",
      "Epoch:  66%|██████▋   | 133/200 [00:55<00:27,  2.44it/s]\n",
      "EP_132 | train loss: 0.18672736111809227 | val loss: 0.17303628021595524 |\n",
      "Epoch:  67%|██████▋   | 134/200 [00:55<00:26,  2.45it/s]\n",
      "EP_133 | train loss: 0.17166286099190806 | val loss: 0.1621722292666342 |\n",
      "Epoch:  68%|██████▊   | 135/200 [00:55<00:26,  2.46it/s]\n",
      "EP_134 | train loss: 0.16449870315252565 | val loss: 0.15182887981919682 |\n",
      "Epoch:  68%|██████▊   | 136/200 [00:56<00:26,  2.42it/s]\n",
      "EP_135 | train loss: 0.16179624866036807 | val loss: 0.15111032420513676 |\n",
      "Epoch:  68%|██████▊   | 137/200 [00:56<00:25,  2.46it/s]\n",
      "EP_136 | train loss: 0.14794572007422355 | val loss: 0.14219898569817638 |\n",
      "Epoch:  69%|██████▉   | 138/200 [00:57<00:24,  2.48it/s]\n",
      "EP_137 | train loss: 0.1435822246121425 | val loss: 0.14088295896848044 |\n",
      "Epoch:  70%|██████▉   | 139/200 [00:57<00:24,  2.50it/s]\n",
      "EP_138 | train loss: 0.1546596227907667 | val loss: 0.14121229333036087 |\n",
      "Epoch:  70%|███████   | 140/200 [00:57<00:24,  2.49it/s]\n",
      "EP_139 | train loss: 0.1331206667656992 | val loss: 0.13118377386354932 |\n",
      "Epoch:  70%|███████   | 141/200 [00:58<00:24,  2.45it/s]\n",
      "EP_140 | train loss: 0.15612235747131648 | val loss: 0.14055654055931988 |\n",
      "Epoch:  71%|███████   | 142/200 [00:58<00:23,  2.44it/s]\n",
      "EP_141 | train loss: 0.1263758049291723 | val loss: 0.12154215165213042 |\n",
      "Epoch:  72%|███████▏  | 143/200 [00:59<00:23,  2.44it/s]\n",
      "EP_142 | train loss: 0.11901098256017648 | val loss: 0.11663671802071963 |\n",
      "Epoch:  72%|███████▏  | 144/200 [00:59<00:22,  2.45it/s]\n",
      "EP_143 | train loss: 0.11819767531226663 | val loss: 0.11950469952003628 |\n",
      "Epoch:  72%|███████▎  | 145/200 [00:59<00:22,  2.46it/s]\n",
      "EP_144 | train loss: 0.113202886020436 | val loss: 0.11198033158685647 |\n",
      "Epoch:  73%|███████▎  | 146/200 [01:00<00:22,  2.41it/s]\n",
      "EP_145 | train loss: 0.10862562364222957 | val loss: 0.10354111416667115 |\n",
      "Epoch:  74%|███████▎  | 147/200 [01:00<00:21,  2.43it/s]\n",
      "EP_146 | train loss: 0.10515713224224016 | val loss: 0.10704793649561264 |\n",
      "Epoch:  74%|███████▍  | 148/200 [01:01<00:21,  2.45it/s]\n",
      "EP_147 | train loss: 0.10175081140854779 | val loss: 0.1022066947291879 |\n",
      "Epoch:  74%|███████▍  | 149/200 [01:01<00:20,  2.45it/s]\n",
      "EP_148 | train loss: 0.09757135007895676 | val loss: 0.09707081668517169 |\n",
      "Epoch:  75%|███████▌  | 150/200 [01:02<00:20,  2.45it/s]\n",
      "EP_149 | train loss: 0.09229519180223053 | val loss: 0.09009441791796217 |\n",
      "Epoch:  76%|███████▌  | 151/200 [01:02<00:20,  2.42it/s]\n",
      "EP_150 | train loss: 0.09361749256358427 | val loss: 0.09943478452224358 |\n",
      "Epoch:  76%|███████▌  | 152/200 [01:02<00:19,  2.43it/s]\n",
      "EP_151 | train loss: 0.11805692583906885 | val loss: 0.10749550426707548 |\n",
      "Epoch:  76%|███████▋  | 153/200 [01:03<00:19,  2.45it/s]\n",
      "EP_152 | train loss: 0.10379123278692656 | val loss: 0.09949475351501913 |\n",
      "Epoch:  77%|███████▋  | 154/200 [01:03<00:18,  2.44it/s]\n",
      "EP_153 | train loss: 0.0820619472101623 | val loss: 0.08169195552666982 |\n",
      "Epoch:  78%|███████▊  | 155/200 [01:04<00:18,  2.43it/s]\n",
      "EP_154 | train loss: 0.08046398677077948 | val loss: 0.08056154321221744 |\n",
      "Epoch:  78%|███████▊  | 156/200 [01:04<00:18,  2.39it/s]\n",
      "EP_155 | train loss: 0.07958809464585548 | val loss: 0.07799410878443251 |\n",
      "Epoch:  78%|███████▊  | 157/200 [01:04<00:18,  2.37it/s]\n",
      "EP_156 | train loss: 0.07378461921916288 | val loss: 0.07428189264793023 |\n",
      "Epoch:  79%|███████▉  | 158/200 [01:05<00:17,  2.41it/s]\n",
      "EP_157 | train loss: 0.08033738533655803 | val loss: 0.07475070713781844 |\n",
      "Epoch:  80%|███████▉  | 159/200 [01:05<00:16,  2.43it/s]\n",
      "EP_158 | train loss: 0.06742393467940536 | val loss: 0.07115005628735412 |\n",
      "Epoch:  80%|████████  | 160/200 [01:06<00:16,  2.42it/s]\n",
      "EP_159 | train loss: 0.07639222448947383 | val loss: 0.07232577455978767 |\n",
      "Epoch:  80%|████████  | 161/200 [01:06<00:16,  2.39it/s]\n",
      "EP_160 | train loss: 0.06288621051638735 | val loss: 0.06627801235984354 |\n",
      "Epoch:  81%|████████  | 162/200 [01:07<00:15,  2.40it/s]\n",
      "EP_161 | train loss: 0.05892826534953772 | val loss: 0.06243290825217378 |\n",
      "Epoch:  82%|████████▏ | 163/200 [01:07<00:15,  2.41it/s]\n",
      "EP_162 | train loss: 0.05727560485110563 | val loss: 0.05824968335675258 |\n",
      "Epoch:  82%|████████▏ | 164/200 [01:07<00:14,  2.41it/s]\n",
      "EP_163 | train loss: 0.054920655605839745 | val loss: 0.05666248850962695 |\n",
      "Epoch:  82%|████████▎ | 165/200 [01:08<00:14,  2.42it/s]\n",
      "EP_164 | train loss: 0.05563939774737638 | val loss: 0.05591478417901432 |\n",
      "Epoch:  83%|████████▎ | 166/200 [01:08<00:14,  2.40it/s]\n",
      "EP_165 | train loss: 0.05689400633176168 | val loss: 0.057369318955084854 |\n",
      "Epoch:  84%|████████▎ | 167/200 [01:09<00:13,  2.42it/s]\n",
      "EP_166 | train loss: 0.05593949755032857 | val loss: 0.06257558687060487 |\n",
      "Epoch:  84%|████████▍ | 168/200 [01:09<00:13,  2.44it/s]\n",
      "EP_167 | train loss: 0.0533244483611163 | val loss: 0.05367881994621426 |\n",
      "Epoch:  84%|████████▍ | 169/200 [01:09<00:12,  2.46it/s]\n",
      "EP_168 | train loss: 0.04786601323707431 | val loss: 0.048824713364535685 |\n",
      "Epoch:  85%|████████▌ | 170/200 [01:10<00:12,  2.46it/s]\n",
      "EP_169 | train loss: 0.04548712004633511 | val loss: 0.05462221830498939 |\n",
      "Epoch:  86%|████████▌ | 171/200 [01:10<00:11,  2.44it/s]\n",
      "EP_170 | train loss: 0.04067578473511864 | val loss: 0.04444082665677164 |\n",
      "Epoch:  86%|████████▌ | 172/200 [01:11<00:11,  2.45it/s]\n",
      "EP_171 | train loss: 0.03892729218099632 | val loss: 0.04320706836148804 |\n",
      "Epoch:  86%|████████▋ | 173/200 [01:11<00:11,  2.45it/s]\n",
      "EP_172 | train loss: 0.03875396987971137 | val loss: 0.04232066489902197 |\n",
      "Epoch:  87%|████████▋ | 174/200 [01:11<00:10,  2.46it/s]\n",
      "EP_173 | train loss: 0.037298920283130574 | val loss: 0.04377785178960538 |\n",
      "Epoch:  88%|████████▊ | 175/200 [01:12<00:10,  2.45it/s]\n",
      "EP_174 | train loss: 0.040187311581536836 | val loss: 0.04266671719504338 |\n",
      "Epoch:  88%|████████▊ | 176/200 [01:12<00:09,  2.42it/s]\n",
      "EP_175 | train loss: 0.03349473803651099 | val loss: 0.038491162672346715 |\n",
      "Epoch:  88%|████████▊ | 177/200 [01:13<00:09,  2.44it/s]\n",
      "EP_176 | train loss: 0.03399175434720283 | val loss: 0.03660875215542083 |\n",
      "Epoch:  89%|████████▉ | 178/200 [01:13<00:08,  2.46it/s]\n",
      "EP_177 | train loss: 0.03103058326478098 | val loss: 0.033321061920301584 |\n",
      "Epoch:  90%|████████▉ | 179/200 [01:13<00:08,  2.46it/s]\n",
      "EP_178 | train loss: 0.03055488239316379 | val loss: 0.033939236665473264 |\n",
      "Epoch:  90%|█████████ | 180/200 [01:14<00:08,  2.46it/s]\n",
      "EP_179 | train loss: 0.0313330203294754 | val loss: 0.036940584580103554 |\n",
      "Epoch:  90%|█████████ | 181/200 [01:14<00:07,  2.42it/s]\n",
      "EP_180 | train loss: 0.029423446602681105 | val loss: 0.03306092467962527 |\n",
      "Epoch:  91%|█████████ | 182/200 [01:15<00:07,  2.44it/s]\n",
      "EP_181 | train loss: 0.02739564972180946 | val loss: 0.03092437456635868 |\n",
      "Epoch:  92%|█████████▏| 183/200 [01:15<00:06,  2.45it/s]\n",
      "EP_182 | train loss: 0.030744340898943883 | val loss: 0.033237104030216444 |\n",
      "Epoch:  92%|█████████▏| 184/200 [01:16<00:06,  2.45it/s]\n",
      "EP_183 | train loss: 0.027677745152922237 | val loss: 0.030575730490918253 |\n",
      "Epoch:  92%|█████████▎| 185/200 [01:16<00:06,  2.45it/s]\n",
      "EP_184 | train loss: 0.038909855017475056 | val loss: 0.0422821372163062 |\n",
      "Epoch:  93%|█████████▎| 186/200 [01:16<00:05,  2.43it/s]\n",
      "EP_185 | train loss: 0.029393457431419225 | val loss: 0.032810307600918936 |\n",
      "Epoch:  94%|█████████▎| 187/200 [01:17<00:05,  2.43it/s]\n",
      "EP_186 | train loss: 0.023452462051429 | val loss: 0.027283415052236294 |\n",
      "Epoch:  94%|█████████▍| 188/200 [01:17<00:04,  2.45it/s]\n",
      "EP_187 | train loss: 0.02811319106349758 | val loss: 0.030632520569305793 |\n",
      "Epoch:  94%|█████████▍| 189/200 [01:18<00:04,  2.46it/s]\n",
      "EP_188 | train loss: 0.02173661358800589 | val loss: 0.02607518770531112 |\n",
      "Epoch:  95%|█████████▌| 190/200 [01:18<00:04,  2.47it/s]\n",
      "EP_189 | train loss: 0.02158977012423908 | val loss: 0.02567545894314261 |\n",
      "Epoch:  96%|█████████▌| 191/200 [01:18<00:03,  2.44it/s]\n",
      "EP_190 | train loss: 0.055581359185424506 | val loss: 0.05266815190221749 |\n",
      "Epoch:  96%|█████████▌| 192/200 [01:19<00:03,  2.45it/s]\n",
      "EP_191 | train loss: 0.03376472755974414 | val loss: 0.03453919773592668 |\n",
      "Epoch:  96%|█████████▋| 193/200 [01:19<00:02,  2.45it/s]\n",
      "EP_192 | train loss: 0.020420882690186593 | val loss: 0.023937807582757053 |\n",
      "Epoch:  97%|█████████▋| 194/200 [01:20<00:02,  2.46it/s]\n",
      "EP_193 | train loss: 0.019008007294991438 | val loss: 0.023020447323135303 |\n",
      "Epoch:  98%|█████████▊| 195/200 [01:20<00:02,  2.42it/s]\n",
      "EP_194 | train loss: 0.018479933049164565 | val loss: 0.021614925826297086 |\n",
      "Epoch:  98%|█████████▊| 196/200 [01:20<00:01,  2.39it/s]\n",
      "EP_195 | train loss: 0.017781048633304295 | val loss: 0.020611382144338945 |\n",
      "Epoch:  98%|█████████▊| 197/200 [01:21<00:01,  2.40it/s]\n",
      "EP_196 | train loss: 0.0254177707083085 | val loss: 0.027011709032105466 |\n",
      "Epoch:  99%|█████████▉| 198/200 [01:21<00:00,  2.41it/s]\n",
      "EP_197 | train loss: 0.02294589351205265 | val loss: 0.023777376495155635 |\n",
      "Epoch: 100%|█████████▉| 199/200 [01:22<00:00,  2.42it/s]\n",
      "EP_198 | train loss: 0.01933167801768172 | val loss: 0.023106064209166693 |\n",
      "Epoch: 100%|██████████| 200/200 [01:22<00:00,  2.42it/s]\n",
      "EP_199 | train loss: 0.03109300744299795 | val loss: 0.03135760391459746 |\n",
      "\n"
     ]
    }
   ],
   "source": [
    "AttractiveTrainer.train()"
   ]
  },
  {
   "cell_type": "markdown",
   "metadata": {},
   "source": [
    "## for classification, not better"
   ]
  },
  {
   "cell_type": "markdown",
   "metadata": {},
   "source": [
    "## Below is testing"
   ]
  },
  {
   "cell_type": "code",
   "execution_count": 6,
   "metadata": {},
   "outputs": [
    {
     "output_type": "execute_result",
     "data": {
      "text/plain": [
       "AttractiveNet(\n",
       "  (embedding): AttractiveEmbedding(\n",
       "    (token): TokenEmbedding(12699, 300, padding_idx=1)\n",
       "  )\n",
       "  (bigramcnn): Sequential(\n",
       "    (0): Conv1d(300, 210, kernel_size=(2,), stride=(1,), padding=(1,))\n",
       "    (1): ReLU6()\n",
       "    (2): Conv1d(210, 100, kernel_size=(2,), stride=(1,), padding=(1,))\n",
       "    (3): ReLU6()\n",
       "    (4): Dropout(p=0.5, inplace=False)\n",
       "  )\n",
       "  (trigramcnn): Sequential(\n",
       "    (0): Conv1d(300, 210, kernel_size=(3,), stride=(1,), padding=(1,))\n",
       "    (1): ReLU()\n",
       "    (2): Conv1d(210, 100, kernel_size=(3,), stride=(1,), padding=(1,))\n",
       "    (3): ReLU()\n",
       "    (4): Dropout(p=0.5, inplace=False)\n",
       "  )\n",
       "  (encoder_bigram): LSTM(100, 30, batch_first=True, dropout=0.5, bidirectional=True)\n",
       "  (encoder_trigram): LSTM(100, 30, batch_first=True, dropout=0.5, bidirectional=True)\n",
       "  (linear): Sequential(\n",
       "    (0): Linear(in_features=124, out_features=30, bias=True)\n",
       "    (1): ReLU()\n",
       "    (2): Linear(in_features=30, out_features=1, bias=True)\n",
       "  )\n",
       ")"
      ]
     },
     "metadata": {},
     "execution_count": 6
    }
   ],
   "source": [
    "from attractivenet import AttractiveNet\n",
    "\n",
    "PATH = './model/CNN_LSTM_20201108-134436/0.360921.80'\n",
    "\n",
    "load_model = AttractiveNet(config).to(AttractiveData.device)\n",
    "load_model.load_state_dict(torch.load(PATH))\n",
    "load_model.eval()"
   ]
  },
  {
   "cell_type": "code",
   "execution_count": 7,
   "metadata": {},
   "outputs": [],
   "source": [
    "def predict_attractive(sentence, category, phase):\n",
    "    indexed_sentence = [AttractiveData.TEXT.vocab.stoi[t] for t in sentence]\n",
    "    indexed_category = [AttractiveData.CATEGORIES_LABEL.vocab.stoi[category]]\n",
    "    tensor_sentence = torch.LongTensor(indexed_sentence).to(AttractiveData.device)\n",
    "    tensor_category = torch.LongTensor(indexed_category).to(AttractiveData.device)\n",
    "    tensor_sentence = tensor_sentence.unsqueeze(0)\n",
    "\n",
    "    prediction = load_model(tensor_sentence, tensor_category, phase=phase)\n",
    "\n",
    "    return prediction"
   ]
  },
  {
   "cell_type": "code",
   "execution_count": 8,
   "metadata": {
    "tags": []
   },
   "outputs": [],
   "source": [
    "# train mean = 3.15, test mean = 2.8\n",
    "predict_list = []\n",
    "with torch.no_grad():\n",
    "    for i, sentence in enumerate(AttractiveData.test_data):\n",
    "        prediction = predict_attractive(sentence.Headline, sentence.Category, 'test')\n",
    "        predict_list.append(prediction.item())\n",
    "        # predict_list.append(prediction.item())\n",
    "AttractiveData.df_test['Label'] = predict_list\n",
    "AttractiveData.df_test[['ID', 'Label']].to_csv(config['save_name'] + '.csv', index=False)"
   ]
  },
  {
   "cell_type": "markdown",
   "metadata": {},
   "source": [
    "## Below for statistics"
   ]
  },
  {
   "cell_type": "code",
   "execution_count": 9,
   "metadata": {},
   "outputs": [],
   "source": [
    "import statistics\n",
    "from sklearn.metrics import mean_squared_error"
   ]
  },
  {
   "cell_type": "code",
   "execution_count": 10,
   "metadata": {},
   "outputs": [],
   "source": [
    "# # train mean = 3.15, test mean = 2.8\n",
    "# train_list = []\n",
    "# for i, sentence in enumerate(AttractiveData.train_data):\n",
    "#     prediction = predict_attractive(sentence.Headline, sentence.Category, 'train')\n",
    "#     train_list.append(prediction.item())\n",
    "#     # train_list.append(prediction.item())\n",
    "# # print(train_list)\n",
    "# mean_squared_error(pd.read_csv('data/train.csv').sort_values(['ID']).Label.to_list(), train_list), statistics.mean(train_list), statistics.stdev(train_list)"
   ]
  },
  {
   "cell_type": "code",
   "execution_count": 11,
   "metadata": {},
   "outputs": [],
   "source": [
    "# train_list[0:5], pd.read_csv('data/train.csv').sort_values(['ID']).Label.to_list()[0:5]"
   ]
  },
  {
   "cell_type": "code",
   "execution_count": 12,
   "metadata": {},
   "outputs": [],
   "source": [
    "# a = AttractiveData.df_train['Label'].to_list()\n",
    "# statistics.mean(a), statistics.stdev(a)"
   ]
  },
  {
   "cell_type": "code",
   "execution_count": 13,
   "metadata": {},
   "outputs": [
    {
     "output_type": "execute_result",
     "data": {
      "text/plain": [
       "(2.7713916228206146, 0.3531912588345724)"
      ]
     },
     "metadata": {},
     "execution_count": 13
    }
   ],
   "source": [
    "statistics.mean(predict_list), statistics.stdev(predict_list)"
   ]
  },
  {
   "cell_type": "code",
   "execution_count": 14,
   "metadata": {},
   "outputs": [
    {
     "output_type": "execute_result",
     "data": {
      "text/plain": [
       "(0.003424173103222543, 2.783861954306716, 0.36437382915352245)"
      ]
     },
     "metadata": {},
     "execution_count": 14
    }
   ],
   "source": [
    "baseline_list = pd.read_csv('baseline.csv').sort_values(['ID']).Label.to_list()\n",
    "mean_squared_error(baseline_list, predict_list), statistics.mean(baseline_list), statistics.stdev(baseline_list)"
   ]
  },
  {
   "cell_type": "code",
   "execution_count": null,
   "metadata": {},
   "outputs": [],
   "source": []
  },
  {
   "cell_type": "code",
   "execution_count": 18,
   "metadata": {},
   "outputs": [
    {
     "data": {
      "text/plain": [
       "0.1609754968529207"
      ]
     },
     "execution_count": 18,
     "metadata": {},
     "output_type": "execute_result"
    }
   ],
   "source": [
    "mean_squared_error(pd.read_csv('baseline.csv').sort_values(['ID']).Label.to_list(), pd.read_csv('./predict/ensemble.csv').sort_values(['ID']).Label.to_list())"
   ]
  },
  {
   "cell_type": "code",
   "execution_count": 13,
   "metadata": {},
   "outputs": [],
   "source": []
  },
  {
   "cell_type": "code",
   "execution_count": null,
   "metadata": {},
   "outputs": [],
   "source": []
  }
 ],
 "metadata": {
  "kernelspec": {
   "display_name": "DS_hw2",
   "language": "python",
   "name": "ds_hw2"
  },
  "language_info": {
   "codemirror_mode": {
    "name": "ipython",
    "version": 3
   },
   "file_extension": ".py",
   "mimetype": "text/x-python",
   "name": "python",
   "nbconvert_exporter": "python",
   "pygments_lexer": "ipython3",
   "version": "3.6.12-final"
  }
 },
 "nbformat": 4,
 "nbformat_minor": 4
}