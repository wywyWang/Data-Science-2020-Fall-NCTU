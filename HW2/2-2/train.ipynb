{
 "cells": [
  {
   "cell_type": "code",
   "execution_count": 1,
   "metadata": {},
   "outputs": [],
   "source": [
    "# common packages\n",
    "import pandas as pd\n",
    "import time\n",
    "\n",
    "# # DL framework\n",
    "import torch\n",
    "from torchtext import data\n",
    "\n",
    "from attractivedata import AttractiveData\n",
    "from trainer import AttractiveTrainer"
   ]
  },
  {
   "source": [
    "# TODO: \n",
    "- [ ] try to use only second layer's hidden state\n",
    "- [ ] word embedding multiply tfidf\n",
    "- [ ] use word2vec\n",
    "- [ ] dropout to 0.4 and use adam to speedup, add dropout after cnn-relu"
   ],
   "cell_type": "markdown",
   "metadata": {}
  },
  {
   "cell_type": "markdown",
   "metadata": {},
   "source": [
    "## Load and prepare data"
   ]
  },
  {
   "cell_type": "code",
   "execution_count": 2,
   "metadata": {},
   "outputs": [],
   "source": [
    "train_file = 'data/train.csv'\n",
    "val_file = 'example/val.csv'\n",
    "test_file = 'data/test.csv'\n",
    "pretrained_file = 'glove.840B.300d'\n",
    "config = {\n",
    "    'max_seq': 40,\n",
    "    'min_freq': 0,\n",
    "    'batch_size': 64,\n",
    "    'pretrained_file': pretrained_file\n",
    "}\n"
   ]
  },
  {
   "cell_type": "code",
   "execution_count": 3,
   "metadata": {},
   "outputs": [],
   "source": [
    "AttractiveData = AttractiveData(train_file, val_file, test_file, pretrained_file, config)"
   ]
  },
  {
   "cell_type": "code",
   "execution_count": 4,
   "metadata": {},
   "outputs": [],
   "source": [
    "# for i, sentence in enumerate(AttractiveData.test_data):\n",
    "#     if i == 3:\n",
    "#         print(vars(AttractiveData.train_data[i]), vars(sentence))"
   ]
  },
  {
   "cell_type": "code",
   "execution_count": 5,
   "metadata": {},
   "outputs": [
    {
     "output_type": "execute_result",
     "data": {
      "text/plain": [
       "38"
      ]
     },
     "metadata": {},
     "execution_count": 5
    }
   ],
   "source": [
    "max_len = 0\n",
    "a = AttractiveData.train_data\n",
    "for i in range(len(a)):\n",
    "    if len(a[i].Headline) >= max_len:\n",
    "        max_len = len(a[i].Headline)\n",
    "max_len"
   ]
  },
  {
   "cell_type": "markdown",
   "metadata": {},
   "source": [
    "## Start to train"
   ]
  },
  {
   "cell_type": "code",
   "execution_count": 6,
   "metadata": {},
   "outputs": [
    {
     "output_type": "stream",
     "name": "stdout",
     "text": [
      "torch.Size([12699, 300])\n"
     ]
    }
   ],
   "source": [
    "config['timestr'] = time.strftime(\"%Y%m%d-%H%M%S\")\n",
    "config['save_name'] = 'CNN_LSTM'\n",
    "config['input_dim'] = len(AttractiveData.TEXT.vocab)\n",
    "config['embedding_dim'] = 300\n",
    "config['category_dim'] = len(AttractiveData.CATEGORIES_LABEL.vocab)\n",
    "config['category_embedding_dim'] = 8\n",
    "config['hidden_dim'] = 30\n",
    "config['output_dim'] = 1\n",
    "config['log_steps'] = 10\n",
    "config['epochs'] = 200\n",
    "config['lr'] = {\n",
    "    'encoder': 1e-5,\n",
    "    'embedding': 6e-6,\n",
    "    'linear': 1e-5\n",
    "}\n",
    "config['num_layers'] = 1\n",
    "config['kernel_size'] = 3\n",
    "config['dropout'] = 0.3\n",
    "config['train_len'] = AttractiveData.train_len\n",
    "config['val_len'] = AttractiveData.val_len\n",
    "config['test_len'] = AttractiveData.test_len\n",
    "\n",
    "pretrained_embeddings = AttractiveData.TEXT.vocab.vectors\n",
    "print(pretrained_embeddings.shape)"
   ]
  },
  {
   "cell_type": "code",
   "execution_count": 7,
   "metadata": {},
   "outputs": [],
   "source": [
    "AttractiveTrainer = AttractiveTrainer(config, AttractiveData.device, AttractiveData.trainloader, AttractiveData.valloader, pretrained_embeddings)"
   ]
  },
  {
   "cell_type": "code",
   "execution_count": 8,
   "metadata": {},
   "outputs": [
    {
     "output_type": "execute_result",
     "data": {
      "text/plain": [
       "(AttractiveNet(\n",
       "   (embedding): AttractiveEmbedding(\n",
       "     (token): TokenEmbedding(12699, 300, padding_idx=1)\n",
       "   )\n",
       "   (bigramcnn): Sequential(\n",
       "     (0): Conv1d(300, 200, kernel_size=(3,), stride=(1,), padding=(1,))\n",
       "     (1): ReLU()\n",
       "     (2): Conv1d(200, 100, kernel_size=(3,), stride=(1,), padding=(1,))\n",
       "     (3): ReLU()\n",
       "     (4): Dropout(p=0.3, inplace=False)\n",
       "   )\n",
       "   (trigramcnn): Sequential(\n",
       "     (0): Conv1d(300, 200, kernel_size=(3,), stride=(1,), padding=(1,))\n",
       "     (1): ReLU()\n",
       "     (2): Conv1d(200, 100, kernel_size=(3,), stride=(1,), padding=(1,))\n",
       "     (3): ReLU()\n",
       "     (4): Dropout(p=0.3, inplace=False)\n",
       "   )\n",
       "   (encoder_bigram_first): LSTM(100, 30, batch_first=True, dropout=0.3, bidirectional=True)\n",
       "   (encoder_trigram_first): LSTM(100, 30, batch_first=True, dropout=0.3, bidirectional=True)\n",
       "   (linear): Sequential(\n",
       "     (0): Linear(in_features=120, out_features=30, bias=True)\n",
       "     (1): ReLU()\n",
       "     (2): Linear(in_features=30, out_features=1, bias=True)\n",
       "   )\n",
       " ),\n",
       " 4357321,\n",
       " 4357321)"
      ]
     },
     "metadata": {},
     "execution_count": 8
    }
   ],
   "source": [
    "AttractiveTrainer.model, AttractiveTrainer.config['total_params'], AttractiveTrainer.config['total_learned_params']"
   ]
  },
  {
   "cell_type": "code",
   "execution_count": 9,
   "metadata": {
    "tags": [
     "outputPrepend"
    ]
   },
   "outputs": [
    {
     "output_type": "stream",
     "name": "stderr",
     "text": [
      "  24%|██▍       | 48/200 [00:18<00:59,  2.54it/s]\n",
      "EP_47 | train loss: 0.42447582506666 | val loss: 0.361182816472708 |\n",
      "Epoch:  24%|██▍       | 49/200 [00:19<00:59,  2.55it/s]\n",
      "EP_48 | train loss: 0.4218466422137092 | val loss: 0.3591744192675048 |\n",
      "Epoch:  25%|██▌       | 50/200 [00:19<00:58,  2.55it/s]\n",
      "EP_49 | train loss: 0.42110246209537283 | val loss: 0.35680227186165603 |\n",
      "Epoch:  26%|██▌       | 51/200 [00:20<00:59,  2.52it/s]\n",
      "EP_50 | train loss: 0.41729022007362515 | val loss: 0.35014573411614286 |\n",
      "Epoch:  26%|██▌       | 52/200 [00:20<00:58,  2.53it/s]\n",
      "EP_51 | train loss: 0.4165699463264615 | val loss: 0.3553079243968515 |\n",
      "Epoch:  26%|██▋       | 53/200 [00:20<00:57,  2.54it/s]\n",
      "EP_52 | train loss: 0.4129725147696102 | val loss: 0.34762249448720145 |\n",
      "Epoch:  27%|██▋       | 54/200 [00:21<00:57,  2.54it/s]\n",
      "EP_53 | train loss: 0.41157925736670403 | val loss: 0.34220441883685543 |\n",
      "Epoch:  28%|██▊       | 55/200 [00:21<00:56,  2.55it/s]\n",
      "EP_54 | train loss: 0.4082942476459578 | val loss: 0.34131500972252266 |\n",
      "Epoch:  28%|██▊       | 56/200 [00:22<00:56,  2.53it/s]\n",
      "EP_55 | train loss: 0.41159317727182426 | val loss: 0.34943753013423845 |\n",
      "Epoch:  28%|██▊       | 57/200 [00:22<00:56,  2.55it/s]\n",
      "EP_56 | train loss: 0.4043169844384287 | val loss: 0.3381829448774749 |\n",
      "Epoch:  29%|██▉       | 58/200 [00:22<00:55,  2.56it/s]\n",
      "EP_57 | train loss: 0.40356353030485265 | val loss: 0.33890293918403924 |\n",
      "Epoch:  30%|██▉       | 59/200 [00:23<00:54,  2.57it/s]\n",
      "EP_58 | train loss: 0.40130587933110257 | val loss: 0.3347647511491589 |\n",
      "Epoch:  30%|███       | 60/200 [00:23<00:54,  2.56it/s]\n",
      "EP_59 | train loss: 0.4002712100159888 | val loss: 0.339154921910342 |\n",
      "Epoch:  30%|███       | 61/200 [00:24<00:55,  2.52it/s]\n",
      "EP_60 | train loss: 0.3968259456110936 | val loss: 0.33197107560494366 |\n",
      "Epoch:  31%|███       | 62/200 [00:24<00:54,  2.53it/s]\n",
      "EP_61 | train loss: 0.39487629310757505 | val loss: 0.3324532175765318 |\n",
      "Epoch:  32%|███▏      | 63/200 [00:24<00:54,  2.53it/s]\n",
      "EP_62 | train loss: 0.3930075729594511 | val loss: 0.33019715839741276 |\n",
      "Epoch:  32%|███▏      | 64/200 [00:25<00:53,  2.54it/s]\n",
      "EP_63 | train loss: 0.3912889929378734 | val loss: 0.3313430366562862 |\n",
      "Epoch:  32%|███▎      | 65/200 [00:25<00:53,  2.54it/s]\n",
      "EP_64 | train loss: 0.3906637649910123 | val loss: 0.3291221015593585 |\n",
      "Epoch:  33%|███▎      | 66/200 [00:26<00:53,  2.51it/s]\n",
      "EP_65 | train loss: 0.386914145712759 | val loss: 0.3258369243612476 |\n",
      "Epoch:  34%|███▎      | 67/200 [00:26<00:52,  2.53it/s]\n",
      "EP_66 | train loss: 0.38508774532991297 | val loss: 0.3250662152673684 |\n",
      "Epoch:  34%|███▍      | 68/200 [00:26<00:52,  2.54it/s]\n",
      "EP_67 | train loss: 0.3831893668455236 | val loss: 0.32564107752313803 |\n",
      "Epoch:  34%|███▍      | 69/200 [00:27<00:51,  2.55it/s]\n",
      "EP_68 | train loss: 0.3825726920483159 | val loss: 0.32174813163046745 |\n",
      "Epoch:  35%|███▌      | 70/200 [00:27<00:50,  2.55it/s]\n",
      "EP_69 | train loss: 0.38053820366952934 | val loss: 0.32256132130529364 |\n",
      "Epoch:  36%|███▌      | 71/200 [00:27<00:51,  2.52it/s]\n",
      "EP_70 | train loss: 0.37751275791841393 | val loss: 0.3196338140497021 |\n",
      "Epoch:  36%|███▌      | 72/200 [00:28<00:50,  2.54it/s]\n",
      "EP_71 | train loss: 0.37520546913146974 | val loss: 0.31921829429327275 |\n",
      "Epoch:  36%|███▋      | 73/200 [00:28<00:50,  2.51it/s]\n",
      "EP_72 | train loss: 0.37659707536884385 | val loss: 0.32336869543673946 |\n",
      "Epoch:  37%|███▋      | 74/200 [00:29<00:50,  2.52it/s]\n",
      "EP_73 | train loss: 0.3703579061171588 | val loss: 0.3158147896037382 |\n",
      "Epoch:  38%|███▊      | 75/200 [00:29<00:49,  2.54it/s]\n",
      "EP_74 | train loss: 0.369320553891799 | val loss: 0.3137783227013607 |\n",
      "Epoch:  38%|███▊      | 76/200 [00:29<00:49,  2.52it/s]\n",
      "EP_75 | train loss: 0.366413774209864 | val loss: 0.3127145930832508 |\n",
      "Epoch:  38%|███▊      | 77/200 [00:30<00:49,  2.51it/s]\n",
      "EP_76 | train loss: 0.36391317797642125 | val loss: 0.311443500659045 |\n",
      "Epoch:  39%|███▉      | 78/200 [00:30<00:48,  2.52it/s]\n",
      "EP_77 | train loss: 0.36365557184406355 | val loss: 0.3127748767534892 |\n",
      "Epoch:  40%|███▉      | 79/200 [00:31<00:47,  2.53it/s]\n",
      "EP_78 | train loss: 0.3653020755917418 | val loss: 0.31501419696153377 |\n",
      "Epoch:  40%|████      | 80/200 [00:31<00:47,  2.52it/s]\n",
      "EP_79 | train loss: 0.3606390728670008 | val loss: 0.31051136933121026 |\n",
      "Epoch:  40%|████      | 81/200 [00:31<00:47,  2.48it/s]\n",
      "EP_80 | train loss: 0.3560847179562438 | val loss: 0.3071302882596558 |\n",
      "Epoch:  41%|████      | 82/200 [00:32<00:47,  2.51it/s]\n",
      "EP_81 | train loss: 0.3536310181898229 | val loss: 0.3041183808270623 |\n",
      "Epoch:  42%|████▏     | 83/200 [00:32<00:46,  2.52it/s]\n",
      "EP_82 | train loss: 0.3524771344427969 | val loss: 0.3054996693835539 |\n",
      "Epoch:  42%|████▏     | 84/200 [00:33<00:45,  2.54it/s]\n",
      "EP_83 | train loss: 0.34790454471812526 | val loss: 0.3011217602327758 |\n",
      "Epoch:  42%|████▎     | 85/200 [00:33<00:45,  2.54it/s]\n",
      "EP_84 | train loss: 0.34544983938628554 | val loss: 0.2987576717255162 |\n",
      "Epoch:  43%|████▎     | 86/200 [00:33<00:45,  2.50it/s]\n",
      "EP_85 | train loss: 0.3464885239507638 | val loss: 0.30148981482374904 |\n",
      "Epoch:  44%|████▎     | 87/200 [00:34<00:45,  2.50it/s]\n",
      "EP_86 | train loss: 0.34116435050964355 | val loss: 0.29630742996346715 |\n",
      "Epoch:  44%|████▍     | 88/200 [00:34<00:44,  2.52it/s]\n",
      "EP_87 | train loss: 0.3394771085065954 | val loss: 0.2947818292122261 |\n",
      "Epoch:  44%|████▍     | 89/200 [00:35<00:43,  2.54it/s]\n",
      "EP_88 | train loss: 0.33992685196446437 | val loss: 0.2950886137345258 |\n",
      "Epoch:  45%|████▌     | 90/200 [00:35<00:43,  2.54it/s]\n",
      "EP_89 | train loss: 0.33289739945355584 | val loss: 0.29022613050890905 |\n",
      "Epoch:  46%|████▌     | 91/200 [00:35<00:43,  2.52it/s]\n",
      "EP_90 | train loss: 0.3301650355843937 | val loss: 0.2885776845847859 |\n",
      "Epoch:  46%|████▌     | 92/200 [00:36<00:42,  2.53it/s]\n",
      "EP_91 | train loss: 0.3281844606586531 | val loss: 0.28718358102966757 |\n",
      "Epoch:  46%|████▋     | 93/200 [00:36<00:42,  2.54it/s]\n",
      "EP_92 | train loss: 0.3263469616572062 | val loss: 0.2845471396165736 |\n",
      "Epoch:  47%|████▋     | 94/200 [00:37<00:41,  2.55it/s]\n",
      "EP_93 | train loss: 0.3220371582928826 | val loss: 0.2835183184520871 |\n",
      "Epoch:  48%|████▊     | 95/200 [00:37<00:40,  2.57it/s]\n",
      "EP_94 | train loss: 0.319048893217947 | val loss: 0.2811807709581712 |\n",
      "Epoch:  48%|████▊     | 96/200 [00:37<00:41,  2.52it/s]\n",
      "EP_95 | train loss: 0.31746538900861554 | val loss: 0.27973440347933304 |\n",
      "Epoch:  48%|████▊     | 97/200 [00:38<00:40,  2.52it/s]\n",
      "EP_96 | train loss: 0.3135873962851132 | val loss: 0.27721821443707334 |\n",
      "Epoch:  49%|████▉     | 98/200 [00:38<00:40,  2.55it/s]\n",
      "EP_97 | train loss: 0.31015597184499105 | val loss: 0.27515382977092967 |\n",
      "Epoch:  50%|████▉     | 99/200 [00:39<00:39,  2.56it/s]\n",
      "EP_98 | train loss: 0.30633179673961564 | val loss: 0.2718696956541024 |\n",
      "Epoch:  50%|█████     | 100/200 [00:39<00:39,  2.55it/s]\n",
      "EP_99 | train loss: 0.3046347519930671 | val loss: 0.26967449281729905 |\n",
      "Epoch:  50%|█████     | 101/200 [00:39<00:39,  2.53it/s]\n",
      "EP_100 | train loss: 0.30094972965764066 | val loss: 0.26864102658103495 |\n",
      "Epoch:  51%|█████     | 102/200 [00:40<00:38,  2.54it/s]\n",
      "EP_101 | train loss: 0.29734835203956156 | val loss: 0.2667003291494706 |\n",
      "Epoch:  52%|█████▏    | 103/200 [00:40<00:38,  2.51it/s]\n",
      "EP_102 | train loss: 0.2936748747732125 | val loss: 0.26366865576482285 |\n",
      "Epoch:  52%|█████▏    | 104/200 [00:41<00:38,  2.52it/s]\n",
      "EP_103 | train loss: 0.290979892132329 | val loss: 0.2609333582952911 |\n",
      "Epoch:  52%|█████▎    | 105/200 [00:41<00:37,  2.53it/s]\n",
      "EP_104 | train loss: 0.2871988922941918 | val loss: 0.2580346371613297 |\n",
      "Epoch:  53%|█████▎    | 106/200 [00:41<00:37,  2.52it/s]\n",
      "EP_105 | train loss: 0.28372774357889213 | val loss: 0.25716258673106923 |\n",
      "Epoch:  54%|█████▎    | 107/200 [00:42<00:36,  2.54it/s]\n",
      "EP_106 | train loss: 0.27987446597978183 | val loss: 0.25294337260956856 |\n",
      "Epoch:  54%|█████▍    | 108/200 [00:42<00:36,  2.54it/s]\n",
      "EP_107 | train loss: 0.27618412644255397 | val loss: 0.2500847747512892 |\n",
      "Epoch:  55%|█████▍    | 109/200 [00:42<00:35,  2.54it/s]\n",
      "EP_108 | train loss: 0.2769778462017284 | val loss: 0.24842903485485152 |\n",
      "Epoch:  55%|█████▌    | 110/200 [00:43<00:35,  2.56it/s]\n",
      "EP_109 | train loss: 0.2702449036579506 | val loss: 0.2444957909630794 |\n",
      "Epoch:  56%|█████▌    | 111/200 [00:43<00:35,  2.51it/s]\n",
      "EP_110 | train loss: 0.26772804166756425 | val loss: 0.24097033049546035 |\n",
      "Epoch:  56%|█████▌    | 112/200 [00:44<00:35,  2.51it/s]\n",
      "EP_111 | train loss: 0.2624435663223267 | val loss: 0.24017254277771594 |\n",
      "Epoch:  56%|█████▋    | 113/200 [00:44<00:34,  2.51it/s]\n",
      "EP_112 | train loss: 0.2610485591140448 | val loss: 0.23623750081249312 |\n",
      "Epoch:  57%|█████▋    | 114/200 [00:44<00:34,  2.53it/s]\n",
      "EP_113 | train loss: 0.25632492747961305 | val loss: 0.23226322847254136 |\n",
      "Epoch:  57%|█████▊    | 115/200 [00:45<00:33,  2.54it/s]\n",
      "EP_114 | train loss: 0.2611904092863494 | val loss: 0.24372266320621266 |\n",
      "Epoch:  58%|█████▊    | 116/200 [00:45<00:33,  2.51it/s]\n",
      "EP_115 | train loss: 0.2475623930201811 | val loss: 0.22811799657111073 |\n",
      "Epoch:  58%|█████▊    | 117/200 [00:46<00:32,  2.52it/s]\n",
      "EP_116 | train loss: 0.2433328768786262 | val loss: 0.22490276834544012 |\n",
      "Epoch:  59%|█████▉    | 118/200 [00:46<00:32,  2.53it/s]\n",
      "EP_117 | train loss: 0.24067418622035605 | val loss: 0.2198127975650862 |\n",
      "Epoch:  60%|█████▉    | 119/200 [00:46<00:31,  2.54it/s]\n",
      "EP_118 | train loss: 0.23506483096702427 | val loss: 0.2187426505135555 |\n",
      "Epoch:  60%|██████    | 120/200 [00:47<00:31,  2.55it/s]\n",
      "EP_119 | train loss: 0.23163385811974022 | val loss: 0.21217498533865986 |\n",
      "Epoch:  60%|██████    | 121/200 [00:47<00:31,  2.52it/s]\n",
      "EP_120 | train loss: 0.227371472938388 | val loss: 0.21070305857003904 |\n",
      "Epoch:  61%|██████    | 122/200 [00:48<00:30,  2.54it/s]\n",
      "EP_121 | train loss: 0.22541409660788142 | val loss: 0.20578696856311723 |\n",
      "Epoch:  62%|██████▏   | 123/200 [00:48<00:30,  2.55it/s]\n",
      "EP_122 | train loss: 0.21934343599805645 | val loss: 0.2015192426887213 |\n",
      "Epoch:  62%|██████▏   | 124/200 [00:48<00:30,  2.51it/s]\n",
      "EP_123 | train loss: 0.21475221783507104 | val loss: 0.20019887533842348 |\n",
      "Epoch:  62%|██████▎   | 125/200 [00:49<00:29,  2.53it/s]\n",
      "EP_124 | train loss: 0.2098659314361273 | val loss: 0.19579956052350064 |\n",
      "Epoch:  63%|██████▎   | 126/200 [00:49<00:29,  2.50it/s]\n",
      "EP_125 | train loss: 0.20502121308270624 | val loss: 0.191602709830976 |\n",
      "Epoch:  64%|██████▎   | 127/200 [00:50<00:29,  2.49it/s]\n",
      "EP_126 | train loss: 0.20302268103057264 | val loss: 0.19209284291547887 |\n",
      "Epoch:  64%|██████▍   | 128/200 [00:50<00:28,  2.50it/s]\n",
      "EP_127 | train loss: 0.20369876927020503 | val loss: 0.18843836819424348 |\n",
      "Epoch:  64%|██████▍   | 129/200 [00:50<00:28,  2.51it/s]\n",
      "EP_128 | train loss: 0.19222243626912436 | val loss: 0.18082929709378412 |\n",
      "Epoch:  65%|██████▌   | 130/200 [00:51<00:27,  2.53it/s]\n",
      "EP_129 | train loss: 0.1900882078152077 | val loss: 0.17983953099624783 |\n",
      "Epoch:  66%|██████▌   | 131/200 [00:51<00:27,  2.49it/s]\n",
      "EP_130 | train loss: 0.1854500176859837 | val loss: 0.17536848666621188 |\n",
      "Epoch:  66%|██████▌   | 132/200 [00:52<00:26,  2.52it/s]\n",
      "EP_131 | train loss: 0.18101904999976065 | val loss: 0.16994685518975353 |\n",
      "Epoch:  66%|██████▋   | 133/200 [00:52<00:26,  2.54it/s]\n",
      "EP_132 | train loss: 0.17646373253242642 | val loss: 0.16572028398513794 |\n",
      "Epoch:  67%|██████▋   | 134/200 [00:52<00:25,  2.55it/s]\n",
      "EP_133 | train loss: 0.17294107465183034 | val loss: 0.16305118974517374 |\n",
      "Epoch:  68%|██████▊   | 135/200 [00:53<00:25,  2.56it/s]\n",
      "EP_134 | train loss: 0.1670990088406731 | val loss: 0.15754827681709738 |\n",
      "Epoch:  68%|██████▊   | 136/200 [00:53<00:25,  2.52it/s]\n",
      "EP_135 | train loss: 0.16336222396177405 | val loss: 0.1542932654128355 |\n",
      "Epoch:  68%|██████▊   | 137/200 [00:54<00:24,  2.54it/s]\n",
      "EP_136 | train loss: 0.1608403065625359 | val loss: 0.1522811546045191 |\n",
      "Epoch:  69%|██████▉   | 138/200 [00:54<00:24,  2.56it/s]\n",
      "EP_137 | train loss: 0.1575124883184246 | val loss: 0.15106671581081316 |\n",
      "Epoch:  70%|██████▉   | 139/200 [00:54<00:23,  2.56it/s]\n",
      "EP_138 | train loss: 0.15124485235588223 | val loss: 0.14450692663005754 |\n",
      "Epoch:  70%|███████   | 140/200 [00:55<00:23,  2.56it/s]\n",
      "EP_139 | train loss: 0.14795474538616105 | val loss: 0.13835174371214473 |\n",
      "Epoch:  70%|███████   | 141/200 [00:55<00:23,  2.53it/s]\n",
      "EP_140 | train loss: 0.14468221804674933 | val loss: 0.13608526716045305 |\n",
      "Epoch:  71%|███████   | 142/200 [00:56<00:22,  2.54it/s]\n",
      "EP_141 | train loss: 0.14203538660909615 | val loss: 0.13260025604098452 |\n",
      "Epoch:  72%|███████▏  | 143/200 [00:56<00:22,  2.54it/s]\n",
      "EP_142 | train loss: 0.14024121363957723 | val loss: 0.134745516613418 |\n",
      "Epoch:  72%|███████▏  | 144/200 [00:56<00:22,  2.54it/s]\n",
      "EP_143 | train loss: 0.13096468822628843 | val loss: 0.12269187791674745 |\n",
      "Epoch:  72%|███████▎  | 145/200 [00:57<00:21,  2.55it/s]\n",
      "EP_144 | train loss: 0.1268444774197597 | val loss: 0.12156693257537543 |\n",
      "Epoch:  73%|███████▎  | 146/200 [00:57<00:21,  2.52it/s]\n",
      "EP_145 | train loss: 0.12300221218782313 | val loss: 0.1166528439989277 |\n",
      "Epoch:  74%|███████▎  | 147/200 [00:58<00:20,  2.54it/s]\n",
      "EP_146 | train loss: 0.11900335900923785 | val loss: 0.11418305892570346 |\n",
      "Epoch:  74%|███████▍  | 148/200 [00:58<00:20,  2.55it/s]\n",
      "EP_147 | train loss: 0.1160159992236717 | val loss: 0.11013084766911525 |\n",
      "Epoch:  74%|███████▍  | 149/200 [00:58<00:19,  2.55it/s]\n",
      "EP_148 | train loss: 0.11224246060147006 | val loss: 0.10724322059575249 |\n",
      "Epoch:  75%|███████▌  | 150/200 [00:59<00:19,  2.56it/s]\n",
      "EP_149 | train loss: 0.10738343164032581 | val loss: 0.1036043178801443 |\n",
      "Epoch:  76%|███████▌  | 151/200 [00:59<00:19,  2.53it/s]\n",
      "EP_150 | train loss: 0.10387064615885416 | val loss: 0.09777090713089588 |\n",
      "Epoch:  76%|███████▌  | 152/200 [00:59<00:18,  2.53it/s]\n",
      "EP_151 | train loss: 0.10009718350335664 | val loss: 0.09618767102559407 |\n",
      "Epoch:  76%|███████▋  | 153/200 [01:00<00:18,  2.55it/s]\n",
      "EP_152 | train loss: 0.09705716079356623 | val loss: 0.09346322277012993 |\n",
      "Epoch:  77%|███████▋  | 154/200 [01:00<00:18,  2.55it/s]\n",
      "EP_153 | train loss: 0.09356759693108353 | val loss: 0.09067471471487307 |\n",
      "Epoch:  78%|███████▊  | 155/200 [01:01<00:17,  2.55it/s]\n",
      "EP_154 | train loss: 0.09334467135223688 | val loss: 0.08738288663181604 |\n",
      "Epoch:  78%|███████▊  | 156/200 [01:01<00:17,  2.52it/s]\n",
      "EP_155 | train loss: 0.08719181406731699 | val loss: 0.08270660802429798 |\n",
      "Epoch:  78%|███████▊  | 157/200 [01:01<00:17,  2.52it/s]\n",
      "EP_156 | train loss: 0.08722848635093838 | val loss: 0.0834497759739558 |\n",
      "Epoch:  79%|███████▉  | 158/200 [01:02<00:16,  2.53it/s]\n",
      "EP_157 | train loss: 0.08090104308782839 | val loss: 0.07551064035471748 |\n",
      "Epoch:  80%|███████▉  | 159/200 [01:02<00:16,  2.55it/s]\n",
      "EP_158 | train loss: 0.0771647946507323 | val loss: 0.07621886712663314 |\n",
      "Epoch:  80%|████████  | 160/200 [01:03<00:15,  2.55it/s]\n",
      "EP_159 | train loss: 0.074068536010443 | val loss: 0.0722881538026473 |\n",
      "Epoch:  80%|████████  | 161/200 [01:03<00:15,  2.52it/s]\n",
      "EP_160 | train loss: 0.0721471927913965 | val loss: 0.0707817930801242 |\n",
      "Epoch:  81%|████████  | 162/200 [01:03<00:15,  2.52it/s]\n",
      "EP_161 | train loss: 0.07209569706636317 | val loss: 0.0693452819889667 |\n",
      "Epoch:  82%|████████▏ | 163/200 [01:04<00:14,  2.52it/s]\n",
      "EP_162 | train loss: 0.06584442550060796 | val loss: 0.06535863993214626 |\n",
      "Epoch:  82%|████████▏ | 164/200 [01:04<00:14,  2.52it/s]\n",
      "EP_163 | train loss: 0.06324681972756105 | val loss: 0.06043120575886147 |\n",
      "Epoch:  82%|████████▎ | 165/200 [01:05<00:13,  2.54it/s]\n",
      "EP_164 | train loss: 0.0604993553722606 | val loss: 0.06029543163729649 |\n",
      "Epoch:  83%|████████▎ | 166/200 [01:05<00:13,  2.50it/s]\n",
      "EP_165 | train loss: 0.0583198535676096 | val loss: 0.0568535814390463 |\n",
      "Epoch:  84%|████████▎ | 167/200 [01:05<00:13,  2.51it/s]\n",
      "EP_166 | train loss: 0.05638248885379118 | val loss: 0.05507236923657212 |\n",
      "Epoch:  84%|████████▍ | 168/200 [01:06<00:12,  2.53it/s]\n",
      "EP_167 | train loss: 0.053005941182959315 | val loss: 0.05179540535398558 |\n",
      "Epoch:  84%|████████▍ | 169/200 [01:06<00:12,  2.53it/s]\n",
      "EP_168 | train loss: 0.05377924752001669 | val loss: 0.054430068415753985 |\n",
      "Epoch:  85%|████████▌ | 170/200 [01:07<00:11,  2.54it/s]\n",
      "EP_169 | train loss: 0.055202443751634335 | val loss: 0.054101901895859665 |\n",
      "Epoch:  86%|████████▌ | 171/200 [01:07<00:11,  2.52it/s]\n",
      "EP_170 | train loss: 0.051958514779221775 | val loss: 0.05152357135917626 |\n",
      "Epoch:  86%|████████▌ | 172/200 [01:07<00:11,  2.50it/s]\n",
      "EP_171 | train loss: 0.045421370162683376 | val loss: 0.04683743928577386 |\n",
      "Epoch:  86%|████████▋ | 173/200 [01:08<00:10,  2.50it/s]\n",
      "EP_172 | train loss: 0.04397796567748575 | val loss: 0.0435769774165808 |\n",
      "Epoch:  87%|████████▋ | 174/200 [01:08<00:10,  2.52it/s]\n",
      "EP_173 | train loss: 0.0410858632887111 | val loss: 0.04168727424214868 |\n",
      "Epoch:  88%|████████▊ | 175/200 [01:09<00:09,  2.53it/s]\n",
      "EP_174 | train loss: 0.043268539040696385 | val loss: 0.04525600125392278 |\n",
      "Epoch:  88%|████████▊ | 176/200 [01:09<00:09,  2.50it/s]\n",
      "EP_175 | train loss: 0.039160762288991145 | val loss: 0.04085506235851961 |\n",
      "Epoch:  88%|████████▊ | 177/200 [01:09<00:09,  2.49it/s]\n",
      "EP_176 | train loss: 0.04621367115600436 | val loss: 0.05085426218369428 |\n",
      "Epoch:  89%|████████▉ | 178/200 [01:10<00:08,  2.52it/s]\n",
      "EP_177 | train loss: 0.0382452958354763 | val loss: 0.037913954141093234 |\n",
      "Epoch:  90%|████████▉ | 179/200 [01:10<00:08,  2.54it/s]\n",
      "EP_178 | train loss: 0.03511941602417067 | val loss: 0.03659628872193542 |\n",
      "Epoch:  90%|█████████ | 180/200 [01:11<00:07,  2.54it/s]\n",
      "EP_179 | train loss: 0.034810594776097464 | val loss: 0.036612661738021704 |\n",
      "Epoch:  90%|█████████ | 181/200 [01:11<00:07,  2.51it/s]\n",
      "EP_180 | train loss: 0.03184403058360605 | val loss: 0.03450662993332919 |\n",
      "Epoch:  91%|█████████ | 182/200 [01:11<00:07,  2.54it/s]\n",
      "EP_181 | train loss: 0.030518735799134947 | val loss: 0.03227654157900343 |\n",
      "Epoch:  92%|█████████▏| 183/200 [01:12<00:06,  2.56it/s]\n",
      "EP_182 | train loss: 0.02912237302345388 | val loss: 0.03226301833695056 |\n",
      "Epoch:  92%|█████████▏| 184/200 [01:12<00:06,  2.58it/s]\n",
      "EP_183 | train loss: 0.03152117115609786 | val loss: 0.0322084596344069 |\n",
      "Epoch:  92%|█████████▎| 185/200 [01:13<00:05,  2.57it/s]\n",
      "EP_184 | train loss: 0.029232632821681453 | val loss: 0.031043822858847825 |\n",
      "Epoch:  93%|█████████▎| 186/200 [01:13<00:05,  2.54it/s]\n",
      "EP_185 | train loss: 0.026536861062049867 | val loss: 0.029002631996192185 |\n",
      "Epoch:  94%|█████████▎| 187/200 [01:13<00:05,  2.54it/s]\n",
      "EP_186 | train loss: 0.024940492066682553 | val loss: 0.027737190253009983 |\n",
      "Epoch:  94%|█████████▍| 188/200 [01:14<00:04,  2.55it/s]\n",
      "EP_187 | train loss: 0.024020062766823114 | val loss: 0.026511924085663816 |\n",
      "Epoch:  94%|█████████▍| 189/200 [01:14<00:04,  2.56it/s]\n",
      "EP_188 | train loss: 0.023730648586563034 | val loss: 0.026964092955869788 |\n",
      "Epoch:  95%|█████████▌| 190/200 [01:14<00:03,  2.55it/s]\n",
      "EP_189 | train loss: 0.02476879039815828 | val loss: 0.025817919376434063 |\n",
      "Epoch:  96%|█████████▌| 191/200 [01:15<00:03,  2.51it/s]\n",
      "EP_190 | train loss: 0.021152160053744037 | val loss: 0.02354564882960974 |\n",
      "Epoch:  96%|█████████▌| 192/200 [01:15<00:03,  2.50it/s]\n",
      "EP_191 | train loss: 0.02293670639103534 | val loss: 0.024123812276943057 |\n",
      "Epoch:  96%|█████████▋| 193/200 [01:16<00:02,  2.52it/s]\n",
      "EP_192 | train loss: 0.021070413145364498 | val loss: 0.024710133525670742 |\n",
      "Epoch:  97%|█████████▋| 194/200 [01:16<00:02,  2.51it/s]\n",
      "EP_193 | train loss: 0.025776001606501786 | val loss: 0.024606876367447423 |\n",
      "Epoch:  98%|█████████▊| 195/200 [01:16<00:01,  2.52it/s]\n",
      "EP_194 | train loss: 0.018905163804690043 | val loss: 0.02053020806873546 |\n",
      "Epoch:  98%|█████████▊| 196/200 [01:17<00:01,  2.50it/s]\n",
      "EP_195 | train loss: 0.020641933644519134 | val loss: 0.021712653704133687 |\n",
      "Epoch:  98%|█████████▊| 197/200 [01:17<00:01,  2.51it/s]\n",
      "EP_196 | train loss: 0.01710783446244165 | val loss: 0.018945333493106505 |\n",
      "Epoch:  99%|█████████▉| 198/200 [01:18<00:00,  2.52it/s]\n",
      "EP_197 | train loss: 0.02044946869798735 | val loss: 0.022361389927419963 |\n",
      "Epoch: 100%|█████████▉| 199/200 [01:18<00:00,  2.53it/s]\n",
      "EP_198 | train loss: 0.01686951453779258 | val loss: 0.0200066060266074 |\n",
      "Epoch: 100%|██████████| 200/200 [01:18<00:00,  2.53it/s]\n",
      "EP_199 | train loss: 0.017211231238701764 | val loss: 0.018337557713190716 |\n",
      "\n"
     ]
    }
   ],
   "source": [
    "AttractiveTrainer.train()"
   ]
  },
  {
   "cell_type": "markdown",
   "metadata": {},
   "source": [
    "## for classification, not better"
   ]
  },
  {
   "cell_type": "markdown",
   "metadata": {},
   "source": [
    "## Below is testing"
   ]
  },
  {
   "cell_type": "code",
   "execution_count": 7,
   "metadata": {},
   "outputs": [
    {
     "output_type": "execute_result",
     "data": {
      "text/plain": [
       "AttractiveNet(\n",
       "  (embedding): AttractiveEmbedding(\n",
       "    (token): TokenEmbedding(12699, 300, padding_idx=1)\n",
       "  )\n",
       "  (bigramcnn): Sequential(\n",
       "    (0): Conv1d(300, 200, kernel_size=(3,), stride=(1,), padding=(1,))\n",
       "    (1): ReLU()\n",
       "    (2): Conv1d(200, 100, kernel_size=(3,), stride=(1,), padding=(1,))\n",
       "    (3): ReLU()\n",
       "    (4): Dropout(p=0.3, inplace=False)\n",
       "  )\n",
       "  (trigramcnn): Sequential(\n",
       "    (0): Conv1d(300, 200, kernel_size=(3,), stride=(1,), padding=(1,))\n",
       "    (1): ReLU()\n",
       "    (2): Conv1d(200, 100, kernel_size=(3,), stride=(1,), padding=(1,))\n",
       "    (3): ReLU()\n",
       "    (4): Dropout(p=0.3, inplace=False)\n",
       "  )\n",
       "  (encoder_bigram_first): LSTM(100, 30, batch_first=True, dropout=0.3, bidirectional=True)\n",
       "  (encoder_trigram_first): LSTM(100, 30, batch_first=True, dropout=0.3, bidirectional=True)\n",
       "  (linear): Sequential(\n",
       "    (0): Linear(in_features=120, out_features=30, bias=True)\n",
       "    (1): ReLU()\n",
       "    (2): Linear(in_features=30, out_features=1, bias=True)\n",
       "  )\n",
       ")"
      ]
     },
     "metadata": {},
     "execution_count": 7
    }
   ],
   "source": [
    "from attractivenet import AttractiveNet\n",
    "\n",
    "PATH = './model/CNN_LSTM_20201105-122459_0.366414.75'\n",
    "\n",
    "load_model = AttractiveNet(config).to(AttractiveData.device)\n",
    "load_model.load_state_dict(torch.load(PATH))\n",
    "load_model.eval()"
   ]
  },
  {
   "cell_type": "code",
   "execution_count": 8,
   "metadata": {},
   "outputs": [],
   "source": [
    "def predict_attractive(sentence, category, phase):\n",
    "    indexed_sentence = [AttractiveData.TEXT.vocab.stoi[t] for t in sentence]\n",
    "    indexed_category = [AttractiveData.CATEGORIES_LABEL.vocab.stoi[category]]\n",
    "    tensor_sentence = torch.LongTensor(indexed_sentence).to(AttractiveData.device)\n",
    "    tensor_category = torch.LongTensor(indexed_category).to(AttractiveData.device)\n",
    "\n",
    "    tensor_sentence = tensor_sentence.unsqueeze(0)\n",
    "    # print(tensor_sentence.shape)\n",
    "\n",
    "    prediction = load_model(tensor_sentence, tensor_category, phase=phase)\n",
    "\n",
    "    return prediction"
   ]
  },
  {
   "cell_type": "code",
   "execution_count": 9,
   "metadata": {
    "tags": []
   },
   "outputs": [],
   "source": [
    "# train mean = 3.15, test mean = 2.8\n",
    "predict_list = []\n",
    "with torch.no_grad():\n",
    "    for i, sentence in enumerate(AttractiveData.test_data):\n",
    "        prediction = predict_attractive(sentence.Headline, sentence.Category, 'test')\n",
    "        predict_list.append(prediction.item())\n",
    "        # predict_list.append(prediction.item())\n",
    "AttractiveData.df_test['Label'] = predict_list\n",
    "AttractiveData.df_test[['ID', 'Label']].to_csv(config['save_name'] + '.csv', index=False)"
   ]
  },
  {
   "cell_type": "markdown",
   "metadata": {},
   "source": [
    "## Below for statistics"
   ]
  },
  {
   "cell_type": "code",
   "execution_count": 10,
   "metadata": {},
   "outputs": [],
   "source": [
    "import statistics\n",
    "from sklearn.metrics import mean_squared_error"
   ]
  },
  {
   "cell_type": "code",
   "execution_count": 11,
   "metadata": {},
   "outputs": [],
   "source": [
    "# # train mean = 3.15, test mean = 2.8\n",
    "# train_list = []\n",
    "# for i, sentence in enumerate(AttractiveData.train_data):\n",
    "#     prediction = predict_attractive(sentence.Headline, sentence.Category, 'train')\n",
    "#     train_list.append(prediction.item())\n",
    "#     # train_list.append(prediction.item())\n",
    "# # print(train_list)\n",
    "# mean_squared_error(pd.read_csv('data/train.csv').sort_values(['ID']).Label.to_list(), train_list), statistics.mean(train_list), statistics.stdev(train_list)"
   ]
  },
  {
   "cell_type": "code",
   "execution_count": 12,
   "metadata": {},
   "outputs": [],
   "source": [
    "# train_list[0:5], pd.read_csv('data/train.csv').sort_values(['ID']).Label.to_list()[0:5]"
   ]
  },
  {
   "cell_type": "code",
   "execution_count": 13,
   "metadata": {},
   "outputs": [],
   "source": [
    "# a = AttractiveData.df_train['Label'].to_list()\n",
    "# statistics.mean(a), statistics.stdev(a)"
   ]
  },
  {
   "cell_type": "code",
   "execution_count": 14,
   "metadata": {},
   "outputs": [
    {
     "output_type": "execute_result",
     "data": {
      "text/plain": [
       "(2.8431457716988047, 0.33814976824171217)"
      ]
     },
     "metadata": {},
     "execution_count": 14
    }
   ],
   "source": [
    "statistics.mean(predict_list), statistics.stdev(predict_list)"
   ]
  },
  {
   "cell_type": "code",
   "execution_count": 15,
   "metadata": {},
   "outputs": [
    {
     "output_type": "execute_result",
     "data": {
      "text/plain": [
       "(0.018069490359555875, 2.832396388579045, 0.3599597701326745)"
      ]
     },
     "metadata": {},
     "execution_count": 15
    }
   ],
   "source": [
    "baseline_list = pd.read_csv('baseline.csv').sort_values(['ID']).Label.to_list()\n",
    "mean_squared_error(baseline_list, predict_list), statistics.mean(baseline_list), statistics.stdev(baseline_list)"
   ]
  },
  {
   "cell_type": "code",
   "execution_count": null,
   "metadata": {},
   "outputs": [],
   "source": []
  },
  {
   "cell_type": "code",
   "execution_count": 18,
   "metadata": {},
   "outputs": [
    {
     "output_type": "execute_result",
     "data": {
      "text/plain": [
       "0.1609754968529207"
      ]
     },
     "metadata": {},
     "execution_count": 18
    }
   ],
   "source": [
    "mean_squared_error(pd.read_csv('baseline.csv').sort_values(['ID']).Label.to_list(), pd.read_csv('./predict/ensemble.csv').sort_values(['ID']).Label.to_list())"
   ]
  },
  {
   "cell_type": "code",
   "execution_count": 10,
   "metadata": {},
   "outputs": [],
   "source": [
    "from sklearn.model_selection import KFold\n",
    "import numpy as np"
   ]
  },
  {
   "cell_type": "code",
   "execution_count": 11,
   "metadata": {},
   "outputs": [],
   "source": []
  },
  {
   "cell_type": "code",
   "execution_count": 12,
   "metadata": {},
   "outputs": [
    {
     "output_type": "execute_result",
     "data": {
      "text/plain": [
       "2040"
      ]
     },
     "metadata": {},
     "execution_count": 12
    }
   ],
   "source": [
    "len(AttractiveData.train_data.examples)"
   ]
  },
  {
   "cell_type": "code",
   "execution_count": 13,
   "metadata": {},
   "outputs": [],
   "source": []
  },
  {
   "cell_type": "code",
   "execution_count": null,
   "metadata": {},
   "outputs": [],
   "source": []
  }
 ],
 "metadata": {
  "kernelspec": {
   "display_name": "DS_hw2",
   "language": "python",
   "name": "ds_hw2"
  },
  "language_info": {
   "codemirror_mode": {
    "name": "ipython",
    "version": 3
   },
   "file_extension": ".py",
   "mimetype": "text/x-python",
   "name": "python",
   "nbconvert_exporter": "python",
   "pygments_lexer": "ipython3",
   "version": "3.6.12-final"
  }
 },
 "nbformat": 4,
 "nbformat_minor": 4
}