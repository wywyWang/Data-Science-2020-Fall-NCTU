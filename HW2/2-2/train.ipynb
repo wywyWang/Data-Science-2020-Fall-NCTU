{
 "cells": [
  {
   "cell_type": "code",
   "execution_count": 1,
   "metadata": {},
   "outputs": [],
   "source": [
    "# common packages\n",
    "import pandas as pd\n",
    "import time\n",
    "\n",
    "# # DL framework\n",
    "import torch\n",
    "from torchtext import data\n",
    "\n",
    "from attractivedata import AttractiveData\n",
    "from trainer import AttractiveTrainer"
   ]
  },
  {
   "cell_type": "code",
   "execution_count": 2,
   "metadata": {},
   "outputs": [],
   "source": [
    "seed_value = 42\n",
    "torch.manual_seed(seed_value)\n",
    "torch.cuda.manual_seed(seed_value)\n",
    "torch.cuda.manual_seed_all(seed_value) # gpu vars\n",
    "torch.backends.cudnn.deterministic = True  #needed\n",
    "torch.backends.cudnn.benchmark = False"
   ]
  },
  {
   "cell_type": "markdown",
   "metadata": {},
   "source": [
    "# TODO: \n",
    "- [ ] cnn plus residual network\n",
    "- [ ] word embedding multiply tfidf\n",
    "- [ ] use word2vec"
   ]
  },
  {
   "cell_type": "markdown",
   "metadata": {},
   "source": [
    "## Load and prepare data"
   ]
  },
  {
   "cell_type": "code",
   "execution_count": 3,
   "metadata": {},
   "outputs": [],
   "source": [
    "train_file = 'data/train.csv'\n",
    "val_file = 'example/val.csv'\n",
    "test_file = 'data/test.csv'\n",
    "pretrained_file = 'glove.840B.300d'\n",
    "config = {\n",
    "    'max_seq': 40,\n",
    "    'min_freq': 0,\n",
    "    'batch_size': 64,\n",
    "    'pretrained_file': pretrained_file\n",
    "}\n"
   ]
  },
  {
   "cell_type": "code",
   "execution_count": 4,
   "metadata": {},
   "outputs": [],
   "source": [
    "AttractiveData = AttractiveData(train_file, val_file, test_file, pretrained_file, config)"
   ]
  },
  {
   "cell_type": "code",
   "execution_count": 5,
   "metadata": {},
   "outputs": [],
   "source": [
    "# for i, sentence in enumerate(AttractiveData.test_data):\n",
    "#     if i == 3:\n",
    "#         print(vars(AttractiveData.train_data[i]), vars(sentence))"
   ]
  },
  {
   "cell_type": "code",
   "execution_count": 6,
   "metadata": {},
   "outputs": [
    {
     "output_type": "execute_result",
     "data": {
      "text/plain": [
       "38"
      ]
     },
     "metadata": {},
     "execution_count": 6
    }
   ],
   "source": [
    "max_len = 0\n",
    "a = AttractiveData.train_data\n",
    "for i in range(len(a)):\n",
    "    if len(a[i].Headline) >= max_len:\n",
    "        max_len = len(a[i].Headline)\n",
    "max_len"
   ]
  },
  {
   "cell_type": "markdown",
   "metadata": {},
   "source": [
    "## Start to train"
   ]
  },
  {
   "cell_type": "code",
   "execution_count": 7,
   "metadata": {},
   "outputs": [
    {
     "output_type": "stream",
     "name": "stdout",
     "text": [
      "torch.Size([12699, 300])\n"
     ]
    }
   ],
   "source": [
    "config['timestr'] = time.strftime(\"%Y%m%d-%H%M%S\")\n",
    "config['save_name'] = 'CNN_LSTM'\n",
    "config['input_dim'] = len(AttractiveData.TEXT.vocab)\n",
    "config['embedding_dim'] = 300\n",
    "config['category_dim'] = len(AttractiveData.CATEGORIES_LABEL.vocab)\n",
    "config['category_embedding_dim'] = 10\n",
    "config['hidden_dim'] = 30\n",
    "config['output_dim'] = 1\n",
    "config['log_steps'] = 10\n",
    "config['epochs'] = 200\n",
    "config['lr'] = {\n",
    "    'encoder': 1e-5,\n",
    "    'embedding': 6e-6,\n",
    "    'linear': 1e-5\n",
    "}\n",
    "config['num_layers'] = 1\n",
    "config['kernel_size'] = 3\n",
    "config['dropout'] = 0.5\n",
    "config['train_len'] = AttractiveData.train_len\n",
    "config['val_len'] = AttractiveData.val_len\n",
    "config['test_len'] = AttractiveData.test_len\n",
    "\n",
    "pretrained_embeddings = AttractiveData.TEXT.vocab.vectors\n",
    "print(pretrained_embeddings.shape)"
   ]
  },
  {
   "cell_type": "code",
   "execution_count": 8,
   "metadata": {},
   "outputs": [],
   "source": [
    "AttractiveTrainer = AttractiveTrainer(config, AttractiveData.device, AttractiveData.trainloader, AttractiveData.valloader, pretrained_embeddings)"
   ]
  },
  {
   "cell_type": "code",
   "execution_count": 9,
   "metadata": {},
   "outputs": [
    {
     "output_type": "execute_result",
     "data": {
      "text/plain": [
       "(AttractiveNet(\n",
       "   (embedding): AttractiveEmbedding(\n",
       "     (token): TokenEmbedding(12699, 300, padding_idx=1)\n",
       "   )\n",
       "   (bigramcnn): Sequential(\n",
       "     (0): Conv1d(300, 210, kernel_size=(2,), stride=(1,), padding=(1,))\n",
       "     (1): Hardswish()\n",
       "     (2): Conv1d(210, 100, kernel_size=(2,), stride=(1,), padding=(1,))\n",
       "     (3): Hardswish()\n",
       "     (4): Dropout(p=0.5, inplace=False)\n",
       "   )\n",
       "   (trigramcnn): Sequential(\n",
       "     (0): Conv1d(300, 210, kernel_size=(3,), stride=(1,), padding=(1,))\n",
       "     (1): Hardswish()\n",
       "     (2): Conv1d(210, 100, kernel_size=(3,), stride=(1,), padding=(1,))\n",
       "     (3): Hardswish()\n",
       "     (4): Dropout(p=0.5, inplace=False)\n",
       "   )\n",
       "   (encoder_bigram): LSTM(100, 30, batch_first=True, dropout=0.5, bidirectional=True)\n",
       "   (encoder_trigram): LSTM(100, 30, batch_first=True, dropout=0.5, bidirectional=True)\n",
       "   (linear): Sequential(\n",
       "     (0): Linear(in_features=128, out_features=30, bias=True)\n",
       "     (1): ReLU()\n",
       "     (2): Linear(in_features=30, out_features=1, bias=True)\n",
       "   )\n",
       " ),\n",
       " 4297581,\n",
       " 4297581)"
      ]
     },
     "metadata": {},
     "execution_count": 9
    }
   ],
   "source": [
    "AttractiveTrainer.model, AttractiveTrainer.config['total_params'], AttractiveTrainer.config['total_learned_params']"
   ]
  },
  {
   "cell_type": "code",
   "execution_count": 10,
   "metadata": {
    "tags": [
     "outputPrepend"
    ]
   },
   "outputs": [
    {
     "output_type": "stream",
     "name": "stderr",
     "text": [
      "00 [00:18<01:00,  2.51it/s]\n",
      "EP_46 | train loss: 0.5205471702650482 | val loss: 0.4912294114337248 |\n",
      "Epoch:  24%|██▍       | 48/200 [00:18<01:00,  2.52it/s]\n",
      "EP_47 | train loss: 0.5204713026682536 | val loss: 0.48909612496693927 |\n",
      "Epoch:  24%|██▍       | 49/200 [00:19<00:59,  2.54it/s]\n",
      "EP_48 | train loss: 0.5183032952102961 | val loss: 0.4870625243467443 |\n",
      "Epoch:  25%|██▌       | 50/200 [00:19<00:58,  2.55it/s]\n",
      "EP_49 | train loss: 0.5144662296070772 | val loss: 0.48543956466749605 |\n",
      "Epoch:  26%|██▌       | 51/200 [00:20<00:58,  2.53it/s]\n",
      "EP_50 | train loss: 0.5142597750121471 | val loss: 0.48345486907398 |\n",
      "Epoch:  26%|██▌       | 52/200 [00:20<00:58,  2.54it/s]\n",
      "EP_51 | train loss: 0.5135368319118724 | val loss: 0.4812760411524305 |\n",
      "Epoch:  26%|██▋       | 53/200 [00:20<00:58,  2.53it/s]\n",
      "EP_52 | train loss: 0.5120585778180291 | val loss: 0.47970594378078685 |\n",
      "Epoch:  27%|██▋       | 54/200 [00:21<00:57,  2.54it/s]\n",
      "EP_53 | train loss: 0.5100165198830997 | val loss: 0.47733431353288536 |\n",
      "Epoch:  28%|██▊       | 55/200 [00:21<00:58,  2.50it/s]\n",
      "EP_54 | train loss: 0.5123690623863071 | val loss: 0.47520292389626595 |\n",
      "Epoch:  28%|██▊       | 56/200 [00:22<00:57,  2.49it/s]\n",
      "EP_55 | train loss: 0.5081988820842668 | val loss: 0.4730674741314907 |\n",
      "Epoch:  28%|██▊       | 57/200 [00:22<00:56,  2.52it/s]\n",
      "EP_56 | train loss: 0.5082795769560571 | val loss: 0.470532356524 |\n",
      "Epoch:  29%|██▉       | 58/200 [00:22<00:56,  2.53it/s]\n",
      "EP_57 | train loss: 0.5053551786086139 | val loss: 0.4683201838942135 |\n",
      "Epoch:  30%|██▉       | 59/200 [00:23<00:55,  2.54it/s]\n",
      "EP_58 | train loss: 0.5023885100495582 | val loss: 0.46573277781991396 |\n",
      "Epoch:  30%|███       | 60/200 [00:23<00:54,  2.55it/s]\n",
      "EP_59 | train loss: 0.5001874390770408 | val loss: 0.46315427504333795 |\n",
      "Epoch:  30%|███       | 61/200 [00:24<00:55,  2.51it/s]\n",
      "EP_60 | train loss: 0.4983714028900745 | val loss: 0.4603597591905033 |\n",
      "Epoch:  31%|███       | 62/200 [00:24<00:54,  2.52it/s]\n",
      "EP_61 | train loss: 0.4987201251235663 | val loss: 0.45775306224823 |\n",
      "Epoch:  32%|███▏      | 63/200 [00:24<00:54,  2.53it/s]\n",
      "EP_62 | train loss: 0.49569742539349726 | val loss: 0.454718178393794 |\n",
      "Epoch:  32%|███▏      | 64/200 [00:25<00:53,  2.54it/s]\n",
      "EP_63 | train loss: 0.49384693444943895 | val loss: 0.45151032186021994 |\n",
      "Epoch:  32%|███▎      | 65/200 [00:25<00:53,  2.54it/s]\n",
      "EP_64 | train loss: 0.4929226426517262 | val loss: 0.4484434899161844 |\n",
      "Epoch:  33%|███▎      | 66/200 [00:26<00:53,  2.51it/s]\n",
      "EP_65 | train loss: 0.48877050549376244 | val loss: 0.44472096246831555 |\n",
      "Epoch:  34%|███▎      | 67/200 [00:26<00:52,  2.52it/s]\n",
      "EP_66 | train loss: 0.4871437063404158 | val loss: 0.44166920231837853 |\n",
      "Epoch:  34%|███▍      | 68/200 [00:26<00:52,  2.52it/s]\n",
      "EP_67 | train loss: 0.48352848875756355 | val loss: 0.4376256968460831 |\n",
      "Epoch:  34%|███▍      | 69/200 [00:27<00:51,  2.54it/s]\n",
      "EP_68 | train loss: 0.4814294366275563 | val loss: 0.43408844517726525 |\n",
      "Epoch:  35%|███▌      | 70/200 [00:27<00:50,  2.55it/s]\n",
      "EP_69 | train loss: 0.4797308837666231 | val loss: 0.4312523696936813 |\n",
      "Epoch:  36%|███▌      | 71/200 [00:28<00:51,  2.52it/s]\n",
      "EP_70 | train loss: 0.47492085905636056 | val loss: 0.42683570057738063 |\n",
      "Epoch:  36%|███▌      | 72/200 [00:28<00:51,  2.51it/s]\n",
      "EP_71 | train loss: 0.47336741054759307 | val loss: 0.4232429710088992 |\n",
      "Epoch:  36%|███▋      | 73/200 [00:28<00:50,  2.50it/s]\n",
      "EP_72 | train loss: 0.47140850366330617 | val loss: 0.419227704113605 |\n",
      "Epoch:  37%|███▋      | 74/200 [00:29<00:50,  2.50it/s]\n",
      "EP_73 | train loss: 0.4693627581876867 | val loss: 0.41681450488520605 |\n",
      "Epoch:  38%|███▊      | 75/200 [00:29<00:49,  2.51it/s]\n",
      "EP_74 | train loss: 0.46586404594720576 | val loss: 0.411984651112089 |\n",
      "Epoch:  38%|███▊      | 76/200 [00:30<00:49,  2.49it/s]\n",
      "EP_75 | train loss: 0.4634945327160405 | val loss: 0.40841761231422424 |\n",
      "Epoch:  38%|███▊      | 77/200 [00:30<00:48,  2.51it/s]\n",
      "EP_76 | train loss: 0.4623087499655929 | val loss: 0.4058047351883907 |\n",
      "Epoch:  39%|███▉      | 78/200 [00:30<00:48,  2.53it/s]\n",
      "EP_77 | train loss: 0.4583719393786262 | val loss: 0.40069249622962055 |\n",
      "Epoch:  40%|███▉      | 79/200 [00:31<00:47,  2.55it/s]\n",
      "EP_78 | train loss: 0.4568368799546186 | val loss: 0.39733197759179506 |\n",
      "Epoch:  40%|████      | 80/200 [00:31<00:47,  2.55it/s]\n",
      "EP_79 | train loss: 0.4549020486719468 | val loss: 0.39464615898973804 |\n",
      "Epoch:  40%|████      | 81/200 [00:32<00:47,  2.52it/s]\n",
      "EP_80 | train loss: 0.45136835341360054 | val loss: 0.3902067582981259 |\n",
      "Epoch:  41%|████      | 82/200 [00:32<00:46,  2.53it/s]\n",
      "EP_81 | train loss: 0.45225311073602414 | val loss: 0.38880424873501646 |\n",
      "Epoch:  42%|████▏     | 83/200 [00:32<00:46,  2.54it/s]\n",
      "EP_82 | train loss: 0.44822017725776225 | val loss: 0.3846731524841458 |\n",
      "Epoch:  42%|████▏     | 84/200 [00:33<00:45,  2.55it/s]\n",
      "EP_83 | train loss: 0.4474875478183522 | val loss: 0.3824084406974269 |\n",
      "Epoch:  42%|████▎     | 85/200 [00:33<00:45,  2.54it/s]\n",
      "EP_84 | train loss: 0.44428072349697934 | val loss: 0.37822746353990894 |\n",
      "Epoch:  43%|████▎     | 86/200 [00:34<00:45,  2.51it/s]\n",
      "EP_85 | train loss: 0.4455414566339231 | val loss: 0.3792433954921423 |\n",
      "Epoch:  44%|████▎     | 87/200 [00:34<00:44,  2.51it/s]\n",
      "EP_86 | train loss: 0.441625124800439 | val loss: 0.37313099468455596 |\n",
      "Epoch:  44%|████▍     | 88/200 [00:34<00:44,  2.51it/s]\n",
      "EP_87 | train loss: 0.4409399247636982 | val loss: 0.3730553622339286 |\n",
      "Epoch:  44%|████▍     | 89/200 [00:35<00:43,  2.53it/s]\n",
      "EP_88 | train loss: 0.4414157970278871 | val loss: 0.37220384326635625 |\n",
      "Epoch:  45%|████▌     | 90/200 [00:35<00:43,  2.55it/s]\n",
      "EP_89 | train loss: 0.43713775896558577 | val loss: 0.3673125207424164 |\n",
      "Epoch:  46%|████▌     | 91/200 [00:35<00:43,  2.51it/s]\n",
      "EP_90 | train loss: 0.4356253137775496 | val loss: 0.3652397102000667 |\n",
      "Epoch:  46%|████▌     | 92/200 [00:36<00:42,  2.53it/s]\n",
      "EP_91 | train loss: 0.43437069257100425 | val loss: 0.3645310840185951 |\n",
      "Epoch:  46%|████▋     | 93/200 [00:36<00:41,  2.55it/s]\n",
      "EP_92 | train loss: 0.43445823145847695 | val loss: 0.36357662666077706 |\n",
      "Epoch:  47%|████▋     | 94/200 [00:37<00:41,  2.56it/s]\n",
      "EP_93 | train loss: 0.43144413162680234 | val loss: 0.3604683063778223 |\n",
      "Epoch:  48%|████▊     | 95/200 [00:37<00:40,  2.56it/s]\n",
      "EP_94 | train loss: 0.4301867073657466 | val loss: 0.35896290166705264 |\n",
      "Epoch:  48%|████▊     | 96/200 [00:37<00:41,  2.53it/s]\n",
      "EP_95 | train loss: 0.43248216404634365 | val loss: 0.36137256961242825 |\n",
      "Epoch:  48%|████▊     | 97/200 [00:38<00:40,  2.53it/s]\n",
      "EP_96 | train loss: 0.42964530178144866 | val loss: 0.35805170384107854 |\n",
      "Epoch:  49%|████▉     | 98/200 [00:38<00:40,  2.54it/s]\n",
      "EP_97 | train loss: 0.42679174086626837 | val loss: 0.3561429603427064 |\n",
      "Epoch:  50%|████▉     | 99/200 [00:39<00:39,  2.55it/s]\n",
      "EP_98 | train loss: 0.42532718321856333 | val loss: 0.35400203688471926 |\n",
      "Epoch:  50%|█████     | 100/200 [00:39<00:39,  2.56it/s]\n",
      "EP_99 | train loss: 0.42465417244855097 | val loss: 0.3539966952567007 |\n",
      "Epoch:  50%|█████     | 101/200 [00:39<00:39,  2.52it/s]\n",
      "EP_100 | train loss: 0.4246930141074985 | val loss: 0.35344696629281136 |\n",
      "Epoch:  51%|█████     | 102/200 [00:40<00:39,  2.48it/s]\n",
      "EP_101 | train loss: 0.42293435171538707 | val loss: 0.3514678028284335 |\n",
      "Epoch:  52%|█████▏    | 103/200 [00:40<00:38,  2.51it/s]\n",
      "EP_102 | train loss: 0.4218783565596038 | val loss: 0.3518158653203179 |\n",
      "Epoch:  52%|█████▏    | 104/200 [00:41<00:37,  2.54it/s]\n",
      "EP_103 | train loss: 0.41966911484213437 | val loss: 0.34950148474936393 |\n",
      "Epoch:  52%|█████▎    | 105/200 [00:41<00:37,  2.56it/s]\n",
      "EP_104 | train loss: 0.4204357979344387 | val loss: 0.3502054530031541 |\n",
      "Epoch:  53%|█████▎    | 106/200 [00:41<00:37,  2.53it/s]\n",
      "EP_105 | train loss: 0.41852333498936073 | val loss: 0.34815659768441143 |\n",
      "Epoch:  54%|█████▎    | 107/200 [00:42<00:36,  2.52it/s]\n",
      "EP_106 | train loss: 0.4169053638682646 | val loss: 0.3472327829576006 |\n",
      "Epoch:  54%|█████▍    | 108/200 [00:42<00:36,  2.53it/s]\n",
      "EP_107 | train loss: 0.4157182768279431 | val loss: 0.3471540674275043 |\n",
      "Epoch:  55%|█████▍    | 109/200 [00:43<00:35,  2.54it/s]\n",
      "EP_108 | train loss: 0.41345941038692696 | val loss: 0.3458913032915078 |\n",
      "Epoch:  55%|█████▌    | 110/200 [00:43<00:35,  2.55it/s]\n",
      "EP_109 | train loss: 0.41280987122479607 | val loss: 0.3464065053883721 |\n",
      "Epoch:  56%|█████▌    | 111/200 [00:43<00:35,  2.50it/s]\n",
      "EP_110 | train loss: 0.414307284822651 | val loss: 0.34610553816253065 |\n",
      "Epoch:  56%|█████▌    | 112/200 [00:44<00:34,  2.52it/s]\n",
      "EP_111 | train loss: 0.41187211719213745 | val loss: 0.3454756514698851 |\n",
      "Epoch:  56%|█████▋    | 113/200 [00:44<00:34,  2.53it/s]\n",
      "EP_112 | train loss: 0.4093505335789101 | val loss: 0.34478458645297033 |\n",
      "Epoch:  57%|█████▋    | 114/200 [00:45<00:34,  2.52it/s]\n",
      "EP_113 | train loss: 0.4097448517294491 | val loss: 0.34495993805866615 |\n",
      "Epoch:  57%|█████▊    | 115/200 [00:45<00:33,  2.53it/s]\n",
      "EP_114 | train loss: 0.4072905615264294 | val loss: 0.34276529854419185 |\n",
      "Epoch:  58%|█████▊    | 116/200 [00:45<00:33,  2.50it/s]\n",
      "EP_115 | train loss: 0.40611835087046905 | val loss: 0.34295136145516936 |\n",
      "Epoch:  58%|█████▊    | 117/200 [00:46<00:33,  2.51it/s]\n",
      "EP_116 | train loss: 0.40511134652530445 | val loss: 0.3427499690476586 |\n",
      "Epoch:  59%|█████▉    | 118/200 [00:46<00:32,  2.53it/s]\n",
      "EP_117 | train loss: 0.4025668256423053 | val loss: 0.3412941144961937 |\n",
      "Epoch:  60%|█████▉    | 119/200 [00:47<00:31,  2.54it/s]\n",
      "EP_118 | train loss: 0.4017173720341103 | val loss: 0.34107614381640566 |\n",
      "Epoch:  60%|██████    | 120/200 [00:47<00:31,  2.55it/s]\n",
      "EP_119 | train loss: 0.4007530259151085 | val loss: 0.3402974804242452 |\n",
      "Epoch:  60%|██████    | 121/200 [00:47<00:31,  2.53it/s]\n",
      "EP_120 | train loss: 0.39956464112973683 | val loss: 0.3400350844158846 |\n",
      "Epoch:  61%|██████    | 122/200 [00:48<00:30,  2.53it/s]\n",
      "EP_121 | train loss: 0.3992469628651937 | val loss: 0.3398235539595286 |\n",
      "Epoch:  62%|██████▏   | 123/200 [00:48<00:30,  2.54it/s]\n",
      "EP_122 | train loss: 0.39866889785317816 | val loss: 0.33934474108265894 |\n",
      "Epoch:  62%|██████▏   | 124/200 [00:49<00:29,  2.54it/s]\n",
      "EP_123 | train loss: 0.39833703882554 | val loss: 0.3399593169782676 |\n",
      "Epoch:  62%|██████▎   | 125/200 [00:49<00:29,  2.54it/s]\n",
      "EP_124 | train loss: 0.3953381669287588 | val loss: 0.3387050400761997 |\n",
      "Epoch:  63%|██████▎   | 126/200 [00:49<00:29,  2.50it/s]\n",
      "EP_125 | train loss: 0.3954557783463422 | val loss: 0.338049290226955 |\n",
      "Epoch:  64%|██████▎   | 127/200 [00:50<00:29,  2.52it/s]\n",
      "EP_126 | train loss: 0.3942602858823888 | val loss: 0.33846138622246535 |\n",
      "Epoch:  64%|██████▍   | 128/200 [00:50<00:28,  2.52it/s]\n",
      "EP_127 | train loss: 0.39006936596889125 | val loss: 0.33680715338856565 |\n",
      "Epoch:  64%|██████▍   | 129/200 [00:51<00:28,  2.52it/s]\n",
      "EP_128 | train loss: 0.3911528933281992 | val loss: 0.3370608827647041 |\n",
      "Epoch:  65%|██████▌   | 130/200 [00:51<00:27,  2.53it/s]\n",
      "EP_129 | train loss: 0.38856435944052303 | val loss: 0.33609494800661127 |\n",
      "Epoch:  66%|██████▌   | 131/200 [00:51<00:27,  2.50it/s]\n",
      "EP_130 | train loss: 0.38713279424929153 | val loss: 0.3360681031264511 |\n",
      "Epoch:  66%|██████▌   | 132/200 [00:52<00:26,  2.52it/s]\n",
      "EP_131 | train loss: 0.38650775610231886 | val loss: 0.33534985722280014 |\n",
      "Epoch:  66%|██████▋   | 133/200 [00:52<00:26,  2.53it/s]\n",
      "EP_132 | train loss: 0.38469147775687423 | val loss: 0.3355928378946641 |\n",
      "Epoch:  67%|██████▋   | 134/200 [00:52<00:26,  2.53it/s]\n",
      "EP_133 | train loss: 0.38560520714404534 | val loss: 0.33500110869314154 |\n",
      "Epoch:  68%|██████▊   | 135/200 [00:53<00:25,  2.52it/s]\n",
      "EP_134 | train loss: 0.3844880973591524 | val loss: 0.334712907964108 |\n",
      "Epoch:  68%|██████▊   | 136/200 [00:53<00:25,  2.50it/s]\n",
      "EP_135 | train loss: 0.3810670581518435 | val loss: 0.33407871512805715 |\n",
      "Epoch:  68%|██████▊   | 137/200 [00:54<00:25,  2.52it/s]\n",
      "EP_136 | train loss: 0.3806591501422957 | val loss: 0.3339722892817329 |\n",
      "Epoch:  69%|██████▉   | 138/200 [00:54<00:24,  2.53it/s]\n",
      "EP_137 | train loss: 0.3797479648216098 | val loss: 0.3331819316920112 |\n",
      "Epoch:  70%|██████▉   | 139/200 [00:54<00:24,  2.53it/s]\n",
      "EP_138 | train loss: 0.3771603392619713 | val loss: 0.333326821233712 |\n",
      "Epoch:  70%|███████   | 140/200 [00:55<00:23,  2.53it/s]\n",
      "EP_139 | train loss: 0.37767547252131445 | val loss: 0.332898722559798 |\n",
      "Epoch:  70%|███████   | 141/200 [00:55<00:23,  2.49it/s]\n",
      "EP_140 | train loss: 0.37521483991660326 | val loss: 0.33257679319849204 |\n",
      "Epoch:  71%|███████   | 142/200 [00:56<00:23,  2.51it/s]\n",
      "EP_141 | train loss: 0.3754501941157322 | val loss: 0.3325255630063076 |\n",
      "Epoch:  72%|███████▏  | 143/200 [00:56<00:22,  2.52it/s]\n",
      "EP_142 | train loss: 0.37388156348583745 | val loss: 0.33166921314071207 |\n",
      "Epoch:  72%|███████▏  | 144/200 [00:56<00:22,  2.53it/s]\n",
      "EP_143 | train loss: 0.373681677089018 | val loss: 0.33163999400886834 |\n",
      "Epoch:  72%|███████▎  | 145/200 [00:57<00:21,  2.55it/s]\n",
      "EP_144 | train loss: 0.37145725231544646 | val loss: 0.3320968431584975 |\n",
      "Epoch:  73%|███████▎  | 146/200 [00:57<00:21,  2.51it/s]\n",
      "EP_145 | train loss: 0.37075744797201715 | val loss: 0.33093881490183813 |\n",
      "Epoch:  74%|███████▎  | 147/200 [00:58<00:20,  2.53it/s]\n",
      "EP_146 | train loss: 0.37172422783047543 | val loss: 0.33125708383672375 |\n",
      "Epoch:  74%|███████▍  | 148/200 [00:58<00:20,  2.52it/s]\n",
      "EP_147 | train loss: 0.3690924850164675 | val loss: 0.32986414432525635 |\n",
      "Epoch:  74%|███████▍  | 149/200 [00:58<00:20,  2.53it/s]\n",
      "EP_148 | train loss: 0.36743117033266554 | val loss: 0.32964028213538377 |\n",
      "Epoch:  75%|███████▌  | 150/200 [00:59<00:19,  2.54it/s]\n",
      "EP_149 | train loss: 0.3666759907030592 | val loss: 0.3290340368654214 |\n",
      "Epoch:  76%|███████▌  | 151/200 [00:59<00:19,  2.51it/s]\n",
      "EP_150 | train loss: 0.36462748377930887 | val loss: 0.32834405057570515 |\n",
      "Epoch:  76%|███████▌  | 152/200 [01:00<00:19,  2.52it/s]\n",
      "EP_151 | train loss: 0.3629413656159943 | val loss: 0.32784411369585525 |\n",
      "Epoch:  76%|███████▋  | 153/200 [01:00<00:18,  2.53it/s]\n",
      "EP_152 | train loss: 0.3642775713228712 | val loss: 0.3276269348228679 |\n",
      "Epoch:  77%|███████▋  | 154/200 [01:00<00:18,  2.55it/s]\n",
      "EP_153 | train loss: 0.36097318985882926 | val loss: 0.3269630875073227 |\n",
      "Epoch:  78%|███████▊  | 155/200 [01:01<00:17,  2.56it/s]\n",
      "EP_154 | train loss: 0.36030681647506413 | val loss: 0.32563232615882276 |\n",
      "Epoch:  78%|███████▊  | 156/200 [01:01<00:17,  2.52it/s]\n",
      "EP_155 | train loss: 0.3626221918592266 | val loss: 0.3275291709338917 |\n",
      "Epoch:  78%|███████▊  | 157/200 [01:02<00:17,  2.53it/s]\n",
      "EP_156 | train loss: 0.3589661799225153 | val loss: 0.3262331754553552 |\n",
      "Epoch:  79%|███████▉  | 158/200 [01:02<00:16,  2.54it/s]\n",
      "EP_157 | train loss: 0.3574062889697505 | val loss: 0.3249368585792242 |\n",
      "Epoch:  80%|███████▉  | 159/200 [01:02<00:16,  2.55it/s]\n",
      "EP_158 | train loss: 0.35367754300435383 | val loss: 0.32515979339094725 |\n",
      "Epoch:  80%|████████  | 160/200 [01:03<00:15,  2.56it/s]\n",
      "EP_159 | train loss: 0.35434315485112805 | val loss: 0.3242533259532031 |\n",
      "Epoch:  80%|████████  | 161/200 [01:03<00:15,  2.53it/s]\n",
      "EP_160 | train loss: 0.35094645911572026 | val loss: 0.3244656476320005 |\n",
      "Epoch:  81%|████████  | 162/200 [01:04<00:14,  2.55it/s]\n",
      "EP_161 | train loss: 0.35019158008051854 | val loss: 0.3232930548050824 |\n",
      "Epoch:  82%|████████▏ | 163/200 [01:04<00:14,  2.56it/s]\n",
      "EP_162 | train loss: 0.3507067759831746 | val loss: 0.3224490279076146 |\n",
      "Epoch:  82%|████████▏ | 164/200 [01:04<00:14,  2.55it/s]\n",
      "EP_163 | train loss: 0.3533684160195145 | val loss: 0.3235710678147335 |\n",
      "Epoch:  82%|████████▎ | 165/200 [01:05<00:13,  2.53it/s]\n",
      "EP_164 | train loss: 0.3473109245300293 | val loss: 0.3213963718975292 |\n",
      "Epoch:  83%|████████▎ | 166/200 [01:05<00:13,  2.49it/s]\n",
      "EP_165 | train loss: 0.34676342384487974 | val loss: 0.32199592625393586 |\n",
      "Epoch:  84%|████████▎ | 167/200 [01:06<00:13,  2.50it/s]\n",
      "EP_166 | train loss: 0.3500173984789381 | val loss: 0.3218215289069157 |\n",
      "Epoch:  84%|████████▍ | 168/200 [01:06<00:12,  2.48it/s]\n",
      "EP_167 | train loss: 0.34476699922599047 | val loss: 0.323489413541906 |\n",
      "Epoch:  84%|████████▍ | 169/200 [01:06<00:12,  2.51it/s]\n",
      "EP_168 | train loss: 0.34654892192167397 | val loss: 0.32072770303370907 |\n",
      "Epoch:  85%|████████▌ | 170/200 [01:07<00:11,  2.51it/s]\n",
      "EP_169 | train loss: 0.34293568648544015 | val loss: 0.3195553760902554 |\n",
      "Epoch:  86%|████████▌ | 171/200 [01:07<00:11,  2.48it/s]\n",
      "EP_170 | train loss: 0.3418397954865998 | val loss: 0.3189345627438788 |\n",
      "Epoch:  86%|████████▌ | 172/200 [01:08<00:11,  2.48it/s]\n",
      "EP_171 | train loss: 0.33986366028879206 | val loss: 0.31858765494589714 |\n",
      "Epoch:  86%|████████▋ | 173/200 [01:08<00:10,  2.49it/s]\n",
      "EP_172 | train loss: 0.3375321808983298 | val loss: 0.318873548040203 |\n",
      "Epoch:  87%|████████▋ | 174/200 [01:08<00:10,  2.51it/s]\n",
      "EP_173 | train loss: 0.3385552565256755 | val loss: 0.31694061206836327 |\n",
      "Epoch:  88%|████████▊ | 175/200 [01:09<00:09,  2.51it/s]\n",
      "EP_174 | train loss: 0.3373257936215868 | val loss: 0.3168292852009044 |\n",
      "Epoch:  88%|████████▊ | 176/200 [01:09<00:09,  2.47it/s]\n",
      "EP_175 | train loss: 0.33583019948473164 | val loss: 0.31702956089786455 |\n",
      "Epoch:  88%|████████▊ | 177/200 [01:10<00:09,  2.45it/s]\n",
      "EP_176 | train loss: 0.33278567744236365 | val loss: 0.31689154400545005 |\n",
      "Epoch:  89%|████████▉ | 178/200 [01:10<00:08,  2.46it/s]\n",
      "EP_177 | train loss: 0.3318372324401257 | val loss: 0.31716180081460993 |\n",
      "Epoch:  90%|████████▉ | 179/200 [01:10<00:08,  2.49it/s]\n",
      "EP_178 | train loss: 0.3320812136519189 | val loss: 0.3153955293636696 |\n",
      "Epoch:  90%|█████████ | 180/200 [01:11<00:07,  2.51it/s]\n",
      "EP_179 | train loss: 0.3309203722897698 | val loss: 0.3146357781746808 |\n",
      "Epoch:  90%|█████████ | 181/200 [01:11<00:07,  2.49it/s]\n",
      "EP_180 | train loss: 0.33005207753648946 | val loss: 0.31474431005178716 |\n",
      "Epoch:  91%|█████████ | 182/200 [01:12<00:07,  2.51it/s]\n",
      "EP_181 | train loss: 0.32803588427749336 | val loss: 0.3138945985074137 |\n",
      "Epoch:  92%|█████████▏| 183/200 [01:12<00:06,  2.50it/s]\n",
      "EP_182 | train loss: 0.3302480431164012 | val loss: 0.31313270505736857 |\n",
      "Epoch:  92%|█████████▏| 184/200 [01:12<00:06,  2.51it/s]\n",
      "EP_183 | train loss: 0.3265825019163244 | val loss: 0.31252140800158185 |\n",
      "Epoch:  92%|█████████▎| 185/200 [01:13<00:05,  2.52it/s]\n",
      "EP_184 | train loss: 0.32725604655695895 | val loss: 0.3119082485928255 |\n",
      "Epoch:  93%|█████████▎| 186/200 [01:13<00:05,  2.49it/s]\n",
      "EP_185 | train loss: 0.3252234977834365 | val loss: 0.311334210283616 |\n",
      "Epoch:  94%|█████████▎| 187/200 [01:14<00:05,  2.50it/s]\n",
      "EP_186 | train loss: 0.32290669329026167 | val loss: 0.31211863545810475 |\n",
      "Epoch:  94%|█████████▍| 188/200 [01:14<00:04,  2.52it/s]\n",
      "EP_187 | train loss: 0.3223782146678251 | val loss: 0.3106904988195382 |\n",
      "Epoch:  94%|█████████▍| 189/200 [01:14<00:04,  2.54it/s]\n",
      "EP_188 | train loss: 0.3278609462812835 | val loss: 0.31218556913675044 |\n",
      "Epoch:  95%|█████████▌| 190/200 [01:15<00:03,  2.55it/s]\n",
      "EP_189 | train loss: 0.32013101297266344 | val loss: 0.3093694816617405 |\n",
      "Epoch:  96%|█████████▌| 191/200 [01:15<00:03,  2.51it/s]\n",
      "EP_190 | train loss: 0.3220360657748054 | val loss: 0.30864590757033405 |\n",
      "Epoch:  96%|█████████▌| 192/200 [01:16<00:03,  2.52it/s]\n",
      "EP_191 | train loss: 0.31822403505736707 | val loss: 0.30902763733676836 |\n",
      "Epoch:  96%|█████████▋| 193/200 [01:16<00:02,  2.52it/s]\n",
      "EP_192 | train loss: 0.3203622719820808 | val loss: 0.31610016495573756 |\n",
      "Epoch:  97%|█████████▋| 194/200 [01:16<00:02,  2.53it/s]\n",
      "EP_193 | train loss: 0.31645099041508695 | val loss: 0.3074130228921479 |\n",
      "Epoch:  98%|█████████▊| 195/200 [01:17<00:01,  2.52it/s]\n",
      "EP_194 | train loss: 0.31912662421955784 | val loss: 0.3057544617091908 |\n",
      "Epoch:  98%|█████████▊| 196/200 [01:17<00:01,  2.50it/s]\n",
      "EP_195 | train loss: 0.3149450750911937 | val loss: 0.30628899908533286 |\n",
      "Epoch:  98%|█████████▊| 197/200 [01:18<00:01,  2.52it/s]\n",
      "EP_196 | train loss: 0.3172529458999634 | val loss: 0.30513718548943014 |\n",
      "Epoch:  99%|█████████▉| 198/200 [01:18<00:00,  2.52it/s]\n",
      "EP_197 | train loss: 0.31766676435283586 | val loss: 0.3049554222939061 |\n",
      "Epoch: 100%|█████████▉| 199/200 [01:18<00:00,  2.53it/s]\n",
      "EP_198 | train loss: 0.3116163412729899 | val loss: 0.3059520125389099 |\n",
      "Epoch: 100%|██████████| 200/200 [01:19<00:00,  2.53it/s]\n",
      "EP_199 | train loss: 0.3104759931564331 | val loss: 0.3059224468820235 |\n",
      "\n"
     ]
    }
   ],
   "source": [
    "AttractiveTrainer.train()"
   ]
  },
  {
   "cell_type": "markdown",
   "metadata": {},
   "source": [
    "## for classification, not better"
   ]
  },
  {
   "cell_type": "markdown",
   "metadata": {},
   "source": [
    "## Below is testing"
   ]
  },
  {
   "cell_type": "code",
   "execution_count": 8,
   "metadata": {},
   "outputs": [
    {
     "output_type": "execute_result",
     "data": {
      "text/plain": [
       "AttractiveNet(\n",
       "  (embedding): AttractiveEmbedding(\n",
       "    (token): TokenEmbedding(12699, 300, padding_idx=1)\n",
       "  )\n",
       "  (bigramcnn): Sequential(\n",
       "    (0): Conv1d(300, 210, kernel_size=(2,), stride=(1,), padding=(1,))\n",
       "    (1): Hardswish()\n",
       "    (2): Conv1d(210, 100, kernel_size=(2,), stride=(1,), padding=(1,))\n",
       "    (3): Hardswish()\n",
       "    (4): Dropout(p=0.5, inplace=False)\n",
       "  )\n",
       "  (trigramcnn): Sequential(\n",
       "    (0): Conv1d(300, 210, kernel_size=(3,), stride=(1,), padding=(1,))\n",
       "    (1): Hardswish()\n",
       "    (2): Conv1d(210, 100, kernel_size=(3,), stride=(1,), padding=(1,))\n",
       "    (3): Hardswish()\n",
       "    (4): Dropout(p=0.5, inplace=False)\n",
       "  )\n",
       "  (encoder_bigram): LSTM(100, 30, batch_first=True, dropout=0.5, bidirectional=True)\n",
       "  (encoder_trigram): LSTM(100, 30, batch_first=True, dropout=0.5, bidirectional=True)\n",
       "  (linear): Sequential(\n",
       "    (0): Linear(in_features=128, out_features=30, bias=True)\n",
       "    (1): ReLU()\n",
       "    (2): Linear(in_features=30, out_features=1, bias=True)\n",
       "  )\n",
       ")"
      ]
     },
     "metadata": {},
     "execution_count": 8
    }
   ],
   "source": [
    "from attractivenet import AttractiveNet\n",
    "\n",
    "PATH = './model/CNN_LSTM_20201108-131239/0.387133.130'\n",
    "\n",
    "load_model = AttractiveNet(config).to(AttractiveData.device)\n",
    "load_model.load_state_dict(torch.load(PATH))\n",
    "load_model.eval()"
   ]
  },
  {
   "cell_type": "code",
   "execution_count": 9,
   "metadata": {},
   "outputs": [],
   "source": [
    "def predict_attractive(sentence, category, phase):\n",
    "    indexed_sentence = [AttractiveData.TEXT.vocab.stoi[t] for t in sentence]\n",
    "    indexed_category = [AttractiveData.CATEGORIES_LABEL.vocab.stoi[category]]\n",
    "    tensor_sentence = torch.LongTensor(indexed_sentence).to(AttractiveData.device)\n",
    "    tensor_category = torch.LongTensor(indexed_category).to(AttractiveData.device)\n",
    "    tensor_sentence = tensor_sentence.unsqueeze(0)\n",
    "\n",
    "    prediction = load_model(tensor_sentence, tensor_category, phase=phase)\n",
    "\n",
    "    return prediction"
   ]
  },
  {
   "cell_type": "code",
   "execution_count": 10,
   "metadata": {
    "tags": []
   },
   "outputs": [],
   "source": [
    "# train mean = 3.15, test mean = 2.8\n",
    "predict_list = []\n",
    "with torch.no_grad():\n",
    "    for i, sentence in enumerate(AttractiveData.test_data):\n",
    "        prediction = predict_attractive(sentence.Headline, sentence.Category, 'test')\n",
    "        predict_list.append(prediction.item())\n",
    "        # predict_list.append(prediction.item())\n",
    "AttractiveData.df_test['Label'] = predict_list\n",
    "AttractiveData.df_test[['ID', 'Label']].to_csv(config['save_name'] + '.csv', index=False)"
   ]
  },
  {
   "cell_type": "markdown",
   "metadata": {},
   "source": [
    "## Below for statistics"
   ]
  },
  {
   "cell_type": "code",
   "execution_count": 11,
   "metadata": {},
   "outputs": [],
   "source": [
    "import statistics\n",
    "from sklearn.metrics import mean_squared_error"
   ]
  },
  {
   "cell_type": "code",
   "execution_count": 12,
   "metadata": {},
   "outputs": [],
   "source": [
    "# # train mean = 3.15, test mean = 2.8\n",
    "# train_list = []\n",
    "# for i, sentence in enumerate(AttractiveData.train_data):\n",
    "#     prediction = predict_attractive(sentence.Headline, sentence.Category, 'train')\n",
    "#     train_list.append(prediction.item())\n",
    "#     # train_list.append(prediction.item())\n",
    "# # print(train_list)\n",
    "# mean_squared_error(pd.read_csv('data/train.csv').sort_values(['ID']).Label.to_list(), train_list), statistics.mean(train_list), statistics.stdev(train_list)"
   ]
  },
  {
   "cell_type": "code",
   "execution_count": 13,
   "metadata": {},
   "outputs": [],
   "source": [
    "# train_list[0:5], pd.read_csv('data/train.csv').sort_values(['ID']).Label.to_list()[0:5]"
   ]
  },
  {
   "cell_type": "code",
   "execution_count": 14,
   "metadata": {},
   "outputs": [],
   "source": [
    "# a = AttractiveData.df_train['Label'].to_list()\n",
    "# statistics.mean(a), statistics.stdev(a)"
   ]
  },
  {
   "cell_type": "code",
   "execution_count": 15,
   "metadata": {},
   "outputs": [
    {
     "output_type": "execute_result",
     "data": {
      "text/plain": [
       "(2.8006003039523892, 0.3377328842352374)"
      ]
     },
     "metadata": {},
     "execution_count": 15
    }
   ],
   "source": [
    "statistics.mean(predict_list), statistics.stdev(predict_list)"
   ]
  },
  {
   "cell_type": "code",
   "execution_count": 16,
   "metadata": {},
   "outputs": [
    {
     "output_type": "execute_result",
     "data": {
      "text/plain": [
       "(0.008660261906447588, 2.783861954306716, 0.36437382915352245)"
      ]
     },
     "metadata": {},
     "execution_count": 16
    }
   ],
   "source": [
    "baseline_list = pd.read_csv('baseline.csv').sort_values(['ID']).Label.to_list()\n",
    "mean_squared_error(baseline_list, predict_list), statistics.mean(baseline_list), statistics.stdev(baseline_list)"
   ]
  },
  {
   "cell_type": "code",
   "execution_count": null,
   "metadata": {},
   "outputs": [],
   "source": []
  },
  {
   "cell_type": "code",
   "execution_count": 18,
   "metadata": {},
   "outputs": [
    {
     "data": {
      "text/plain": [
       "0.1609754968529207"
      ]
     },
     "execution_count": 18,
     "metadata": {},
     "output_type": "execute_result"
    }
   ],
   "source": [
    "mean_squared_error(pd.read_csv('baseline.csv').sort_values(['ID']).Label.to_list(), pd.read_csv('./predict/ensemble.csv').sort_values(['ID']).Label.to_list())"
   ]
  },
  {
   "cell_type": "code",
   "execution_count": 13,
   "metadata": {},
   "outputs": [],
   "source": []
  },
  {
   "cell_type": "code",
   "execution_count": null,
   "metadata": {},
   "outputs": [],
   "source": []
  }
 ],
 "metadata": {
  "kernelspec": {
   "display_name": "DS_hw2",
   "language": "python",
   "name": "ds_hw2"
  },
  "language_info": {
   "codemirror_mode": {
    "name": "ipython",
    "version": 3
   },
   "file_extension": ".py",
   "mimetype": "text/x-python",
   "name": "python",
   "nbconvert_exporter": "python",
   "pygments_lexer": "ipython3",
   "version": "3.6.12-final"
  }
 },
 "nbformat": 4,
 "nbformat_minor": 4
}