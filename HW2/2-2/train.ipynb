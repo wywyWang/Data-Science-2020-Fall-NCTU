{
 "cells": [
  {
   "cell_type": "code",
   "execution_count": 1,
   "metadata": {},
   "outputs": [],
   "source": [
    "# common packages\n",
    "import pandas as pd\n",
    "import time\n",
    "\n",
    "# # DL framework\n",
    "import torch\n",
    "from torchtext import data\n",
    "\n",
    "from attractivedata import AttractiveData\n",
    "from trainer import AttractiveTrainer"
   ]
  },
  {
   "cell_type": "code",
   "execution_count": 2,
   "metadata": {},
   "outputs": [],
   "source": [
    "seed_value = 42\n",
    "torch.manual_seed(seed_value)\n",
    "torch.cuda.manual_seed(seed_value)\n",
    "torch.cuda.manual_seed_all(seed_value) # gpu vars\n",
    "# torch.backends.cudnn.deterministic = True  #needed\n",
    "# torch.backends.cudnn.benchmark = False"
   ]
  },
  {
   "cell_type": "markdown",
   "metadata": {},
   "source": [
    "## Load and prepare data"
   ]
  },
  {
   "cell_type": "code",
   "execution_count": 3,
   "metadata": {},
   "outputs": [],
   "source": [
    "train_file = 'data/train.csv'\n",
    "val_file = 'data/val.csv'\n",
    "test_file = 'data/test.csv'\n",
    "pretrained_file = 'glove.840B.300d'\n",
    "config = {\n",
    "    'max_seq': 40,\n",
    "    'min_freq': 0,\n",
    "    'batch_size': 64,\n",
    "    'pretrained_file': pretrained_file\n",
    "}\n"
   ]
  },
  {
   "cell_type": "code",
   "execution_count": 4,
   "metadata": {},
   "outputs": [],
   "source": [
    "AttractiveData = AttractiveData(train_file, val_file, test_file, pretrained_file, config)"
   ]
  },
  {
   "cell_type": "markdown",
   "metadata": {},
   "source": [
    "## Start to train"
   ]
  },
  {
   "cell_type": "code",
   "execution_count": 5,
   "metadata": {},
   "outputs": [
    {
     "output_type": "stream",
     "name": "stdout",
     "text": [
      "torch.Size([12699, 300])\n"
     ]
    }
   ],
   "source": [
    "config['timestr'] = time.strftime(\"%Y%m%d-%H%M%S\")\n",
    "config['save_name'] = 'CNN_LSTM'\n",
    "config['input_dim'] = len(AttractiveData.TEXT.vocab)\n",
    "config['embedding_dim'] = 300\n",
    "config['category_dim'] = len(AttractiveData.CATEGORIES_LABEL.vocab)\n",
    "config['category_embedding_dim'] = 10\n",
    "config['hidden_dim'] = 30\n",
    "config['output_dim'] = 1\n",
    "config['log_steps'] = 10\n",
    "config['epochs'] = 200\n",
    "config['lr'] = {\n",
    "    'encoder': 1e-5,\n",
    "    'embedding': 6e-6,\n",
    "    'linear': 1e-5\n",
    "}\n",
    "config['num_layers'] = 1\n",
    "config['kernel_size'] = 3\n",
    "config['dropout'] = 0.5\n",
    "config['train_len'] = AttractiveData.train_len\n",
    "config['val_len'] = AttractiveData.val_len\n",
    "config['test_len'] = AttractiveData.test_len\n",
    "\n",
    "pretrained_embeddings = AttractiveData.TEXT.vocab.vectors\n",
    "print(pretrained_embeddings.shape)"
   ]
  },
  {
   "cell_type": "code",
   "execution_count": 6,
   "metadata": {},
   "outputs": [],
   "source": [
    "AttractiveTrainer = AttractiveTrainer(config, AttractiveData.device, AttractiveData.trainloader, AttractiveData.valloader, pretrained_embeddings)"
   ]
  },
  {
   "cell_type": "code",
   "execution_count": 7,
   "metadata": {},
   "outputs": [
    {
     "output_type": "execute_result",
     "data": {
      "text/plain": [
       "(AttractiveNet(\n",
       "   (embedding): AttractiveEmbedding(\n",
       "     (token): TokenEmbedding(12699, 300, padding_idx=1)\n",
       "   )\n",
       "   (bigramcnn): Sequential(\n",
       "     (0): Conv1d(300, 210, kernel_size=(2,), stride=(1,), padding=(1,))\n",
       "     (1): ReLU()\n",
       "     (2): Conv1d(210, 100, kernel_size=(2,), stride=(1,), padding=(1,))\n",
       "     (3): ReLU()\n",
       "     (4): Dropout(p=0.5, inplace=False)\n",
       "   )\n",
       "   (trigramcnn): Sequential(\n",
       "     (0): Conv1d(300, 210, kernel_size=(3,), stride=(1,), padding=(1,))\n",
       "     (1): ReLU()\n",
       "     (2): Conv1d(210, 100, kernel_size=(3,), stride=(1,), padding=(1,))\n",
       "   )\n",
       "   (trigram_residual): Conv1d(300, 100, kernel_size=(1,), stride=(1,))\n",
       "   (trigram_output): Sequential(\n",
       "     (0): ReLU()\n",
       "     (1): Dropout(p=0.5, inplace=False)\n",
       "   )\n",
       "   (encoder_bigram): LSTM(100, 30, batch_first=True, dropout=0.5, bidirectional=True)\n",
       "   (encoder_trigram): LSTM(100, 30, batch_first=True, dropout=0.5, bidirectional=True)\n",
       "   (linear): Sequential(\n",
       "     (0): Linear(in_features=128, out_features=30, bias=True)\n",
       "     (1): ReLU()\n",
       "     (2): Linear(in_features=30, out_features=1, bias=True)\n",
       "   )\n",
       " ),\n",
       " 4327681,\n",
       " 4327681)"
      ]
     },
     "metadata": {},
     "execution_count": 7
    }
   ],
   "source": [
    "AttractiveTrainer.model, AttractiveTrainer.config['total_params'], AttractiveTrainer.config['total_learned_params']"
   ]
  },
  {
   "cell_type": "code",
   "execution_count": 8,
   "metadata": {
    "tags": [
     "outputPrepend"
    ]
   },
   "outputs": [
    {
     "output_type": "stream",
     "name": "stderr",
     "text": [
      "_46 | train loss: 0.4462909745235069 | val loss: 0.3721335103698805 |\n",
      "Epoch:  24%|██▍       | 48/200 [00:20<01:05,  2.33it/s]\n",
      "EP_47 | train loss: 0.42798928186005236 | val loss: 0.3586902618408203 |\n",
      "Epoch:  24%|██▍       | 49/200 [00:21<01:04,  2.34it/s]\n",
      "EP_48 | train loss: 0.4242174326204786 | val loss: 0.35512681568370147 |\n",
      "Epoch:  25%|██▌       | 50/200 [00:21<01:04,  2.34it/s]\n",
      "EP_49 | train loss: 0.42080937366859583 | val loss: 0.3531815415503932 |\n",
      "Epoch:  26%|██▌       | 51/200 [00:22<01:04,  2.32it/s]\n",
      "EP_50 | train loss: 0.42111121439466287 | val loss: 0.35147860821555643 |\n",
      "Epoch:  26%|██▌       | 52/200 [00:22<01:03,  2.34it/s]\n",
      "EP_51 | train loss: 0.4190730356702618 | val loss: 0.3498428428874296 |\n",
      "Epoch:  26%|██▋       | 53/200 [00:22<01:02,  2.33it/s]\n",
      "EP_52 | train loss: 0.41695431260501636 | val loss: 0.3479665032788819 |\n",
      "Epoch:  27%|██▋       | 54/200 [00:23<01:02,  2.35it/s]\n",
      "EP_53 | train loss: 0.421810796214085 | val loss: 0.35150135206241234 |\n",
      "Epoch:  28%|██▊       | 55/200 [00:23<01:01,  2.35it/s]\n",
      "EP_54 | train loss: 0.4183812150768205 | val loss: 0.34812429430438024 |\n",
      "Epoch:  28%|██▊       | 56/200 [00:24<01:02,  2.31it/s]\n",
      "EP_55 | train loss: 0.4164548069823022 | val loss: 0.3467130783726187 |\n",
      "Epoch:  28%|██▊       | 57/200 [00:24<01:02,  2.30it/s]\n",
      "EP_56 | train loss: 0.4126237738366221 | val loss: 0.34377317919450645 |\n",
      "Epoch:  29%|██▉       | 58/200 [00:25<01:01,  2.30it/s]\n",
      "EP_57 | train loss: 0.4171866145788454 | val loss: 0.3455626888602388 |\n",
      "Epoch:  30%|██▉       | 59/200 [00:25<01:01,  2.31it/s]\n",
      "EP_58 | train loss: 0.4142559289932251 | val loss: 0.34358951741573857 |\n",
      "Epoch:  30%|███       | 60/200 [00:25<01:00,  2.32it/s]\n",
      "EP_59 | train loss: 0.409912690929338 | val loss: 0.340617612880819 |\n",
      "Epoch:  30%|███       | 61/200 [00:26<01:00,  2.30it/s]\n",
      "EP_60 | train loss: 0.41183828933566224 | val loss: 0.34118499650674705 |\n",
      "Epoch:  31%|███       | 62/200 [00:26<00:59,  2.31it/s]\n",
      "EP_61 | train loss: 0.4098092509251015 | val loss: 0.34040070222873314 |\n",
      "Epoch:  32%|███▏      | 63/200 [00:27<00:58,  2.32it/s]\n",
      "EP_62 | train loss: 0.40545343698239794 | val loss: 0.3384680975885952 |\n",
      "Epoch:  32%|███▏      | 64/200 [00:27<00:58,  2.32it/s]\n",
      "EP_63 | train loss: 0.4071467109754974 | val loss: 0.3388514004501642 |\n",
      "Epoch:  32%|███▎      | 65/200 [00:28<00:58,  2.29it/s]\n",
      "EP_64 | train loss: 0.4040177728615555 | val loss: 0.33615751944336236 |\n",
      "Epoch:  33%|███▎      | 66/200 [00:28<00:59,  2.24it/s]\n",
      "EP_65 | train loss: 0.4040257827908385 | val loss: 0.33594179445622013 |\n",
      "Epoch:  34%|███▎      | 67/200 [00:28<00:58,  2.26it/s]\n",
      "EP_66 | train loss: 0.4122718147203034 | val loss: 0.34193501343914107 |\n",
      "Epoch:  34%|███▍      | 68/200 [00:29<00:57,  2.28it/s]\n",
      "EP_67 | train loss: 0.40903639699898514 | val loss: 0.33917639769759833 |\n",
      "Epoch:  34%|███▍      | 69/200 [00:29<00:57,  2.29it/s]\n",
      "EP_68 | train loss: 0.4027853666567335 | val loss: 0.33442497487161676 |\n",
      "Epoch:  35%|███▌      | 70/200 [00:30<00:57,  2.28it/s]\n",
      "EP_69 | train loss: 0.3977594497157078 | val loss: 0.3306843416363585 |\n",
      "Epoch:  36%|███▌      | 71/200 [00:30<00:57,  2.24it/s]\n",
      "EP_70 | train loss: 0.3969594478607178 | val loss: 0.3302489314593521 |\n",
      "Epoch:  36%|███▌      | 72/200 [00:31<00:56,  2.25it/s]\n",
      "EP_71 | train loss: 0.397156125423955 | val loss: 0.33117197892245126 |\n",
      "Epoch:  36%|███▋      | 73/200 [00:31<00:55,  2.28it/s]\n",
      "EP_72 | train loss: 0.3919743528553084 | val loss: 0.3268663222883262 |\n",
      "Epoch:  37%|███▋      | 74/200 [00:32<00:55,  2.29it/s]\n",
      "EP_73 | train loss: 0.39201418745751476 | val loss: 0.3273420252052008 |\n",
      "Epoch:  38%|███▊      | 75/200 [00:32<00:54,  2.30it/s]\n",
      "EP_74 | train loss: 0.3871823338901295 | val loss: 0.32456645194221945 |\n",
      "Epoch:  38%|███▊      | 76/200 [00:32<00:54,  2.29it/s]\n",
      "EP_75 | train loss: 0.3900541090497784 | val loss: 0.32626747851278265 |\n",
      "Epoch:  38%|███▊      | 77/200 [00:33<00:53,  2.31it/s]\n",
      "EP_76 | train loss: 0.38810804123971976 | val loss: 0.32453847340509 |\n",
      "Epoch:  39%|███▉      | 78/200 [00:33<00:52,  2.32it/s]\n",
      "EP_77 | train loss: 0.3867371344098858 | val loss: 0.3227735646799499 |\n",
      "Epoch:  40%|███▉      | 79/200 [00:34<00:52,  2.33it/s]\n",
      "EP_78 | train loss: 0.3809823139041078 | val loss: 0.3205244716475992 |\n",
      "Epoch:  40%|████      | 80/200 [00:34<00:51,  2.32it/s]\n",
      "EP_79 | train loss: 0.38940539406795127 | val loss: 0.3250443467906877 |\n",
      "Epoch:  40%|████      | 81/200 [00:35<00:51,  2.30it/s]\n",
      "EP_80 | train loss: 0.38588380065618777 | val loss: 0.322967845435236 |\n",
      "Epoch:  41%|████      | 82/200 [00:35<00:51,  2.31it/s]\n",
      "EP_81 | train loss: 0.38265112802094103 | val loss: 0.3201194890573913 |\n",
      "Epoch:  42%|████▏     | 83/200 [00:35<00:50,  2.31it/s]\n",
      "EP_82 | train loss: 0.38198807099286247 | val loss: 0.32070179663452447 |\n",
      "Epoch:  42%|████▏     | 84/200 [00:36<00:49,  2.33it/s]\n",
      "EP_83 | train loss: 0.38342897144018434 | val loss: 0.32160573204358417 |\n",
      "Epoch:  42%|████▎     | 85/200 [00:36<00:49,  2.33it/s]\n",
      "EP_84 | train loss: 0.37549525803210687 | val loss: 0.31595439945950227 |\n",
      "Epoch:  43%|████▎     | 86/200 [00:37<00:49,  2.30it/s]\n",
      "EP_85 | train loss: 0.3748785855723362 | val loss: 0.31599738492685203 |\n",
      "Epoch:  44%|████▎     | 87/200 [00:37<00:49,  2.30it/s]\n",
      "EP_86 | train loss: 0.3728758578206979 | val loss: 0.3157406057797226 |\n",
      "Epoch:  44%|████▍     | 88/200 [00:38<00:48,  2.29it/s]\n",
      "EP_87 | train loss: 0.3714420332628138 | val loss: 0.3137528428844377 |\n",
      "Epoch:  44%|████▍     | 89/200 [00:38<00:48,  2.29it/s]\n",
      "EP_88 | train loss: 0.3714249138738595 | val loss: 0.3146999338093926 |\n",
      "Epoch:  45%|████▌     | 90/200 [00:38<00:47,  2.31it/s]\n",
      "EP_89 | train loss: 0.3755394402672263 | val loss: 0.3169740543645971 |\n",
      "Epoch:  46%|████▌     | 91/200 [00:39<00:47,  2.29it/s]\n",
      "EP_90 | train loss: 0.3624608413845885 | val loss: 0.3096412712452458 |\n",
      "Epoch:  46%|████▌     | 92/200 [00:39<00:46,  2.30it/s]\n",
      "EP_91 | train loss: 0.35995613733927406 | val loss: 0.308782707826764 |\n",
      "Epoch:  46%|████▋     | 93/200 [00:40<00:46,  2.31it/s]\n",
      "EP_92 | train loss: 0.364457602594413 | val loss: 0.3105344585343903 |\n",
      "Epoch:  47%|████▋     | 94/200 [00:40<00:45,  2.33it/s]\n",
      "EP_93 | train loss: 0.36096235630558987 | val loss: 0.308462062887117 |\n",
      "Epoch:  48%|████▊     | 95/200 [00:41<00:45,  2.32it/s]\n",
      "EP_94 | train loss: 0.3556375863505345 | val loss: 0.3063761328949648 |\n",
      "Epoch:  48%|████▊     | 96/200 [00:41<00:45,  2.29it/s]\n",
      "EP_95 | train loss: 0.3558734229966706 | val loss: 0.3053310688804178 |\n",
      "Epoch:  48%|████▊     | 97/200 [00:42<00:44,  2.29it/s]\n",
      "EP_96 | train loss: 0.3550944482578951 | val loss: 0.3047328620564704 |\n",
      "Epoch:  49%|████▉     | 98/200 [00:42<00:44,  2.29it/s]\n",
      "EP_97 | train loss: 0.3585988026039273 | val loss: 0.3068552689225066 |\n",
      "Epoch:  50%|████▉     | 99/200 [00:42<00:43,  2.30it/s]\n",
      "EP_98 | train loss: 0.3523141781489054 | val loss: 0.3012087584710589 |\n",
      "Epoch:  50%|█████     | 100/200 [00:43<00:43,  2.30it/s]\n",
      "EP_99 | train loss: 0.3480000093871472 | val loss: 0.299413472998376 |\n",
      "Epoch:  50%|█████     | 101/200 [00:43<00:43,  2.29it/s]\n",
      "EP_100 | train loss: 0.3452889264798632 | val loss: 0.2976091346319984 |\n",
      "Epoch:  51%|█████     | 102/200 [00:44<00:42,  2.29it/s]\n",
      "EP_101 | train loss: 0.34247466162139295 | val loss: 0.296199710930095 |\n",
      "Epoch:  52%|█████▏    | 103/200 [00:44<00:42,  2.28it/s]\n",
      "EP_102 | train loss: 0.3415233331568101 | val loss: 0.29601660137083013 |\n",
      "Epoch:  52%|█████▏    | 104/200 [00:45<00:41,  2.29it/s]\n",
      "EP_103 | train loss: 0.3420635933969535 | val loss: 0.29706526912894904 |\n",
      "Epoch:  52%|█████▎    | 105/200 [00:45<00:41,  2.30it/s]\n",
      "EP_104 | train loss: 0.3349998291801004 | val loss: 0.29358861668437136 |\n",
      "Epoch:  53%|█████▎    | 106/200 [00:45<00:41,  2.27it/s]\n",
      "EP_105 | train loss: 0.3336218745100732 | val loss: 0.2916277518459395 |\n",
      "Epoch:  54%|█████▎    | 107/200 [00:46<00:40,  2.28it/s]\n",
      "EP_106 | train loss: 0.33229905811010624 | val loss: 0.28993597042326835 |\n",
      "Epoch:  54%|█████▍    | 108/200 [00:46<00:40,  2.30it/s]\n",
      "EP_107 | train loss: 0.3331230317845064 | val loss: 0.2900400898035835 |\n",
      "Epoch:  55%|█████▍    | 109/200 [00:47<00:39,  2.31it/s]\n",
      "EP_108 | train loss: 0.32741837174284694 | val loss: 0.28693588925342933 |\n",
      "Epoch:  55%|█████▌    | 110/200 [00:47<00:38,  2.33it/s]\n",
      "EP_109 | train loss: 0.32607368628184 | val loss: 0.28525619880825864 |\n",
      "Epoch:  56%|█████▌    | 111/200 [00:48<00:38,  2.31it/s]\n",
      "EP_110 | train loss: 0.3224442491344377 | val loss: 0.2859445564887103 |\n",
      "Epoch:  56%|█████▌    | 112/200 [00:48<00:38,  2.31it/s]\n",
      "EP_111 | train loss: 0.32373379118302287 | val loss: 0.28406301374528925 |\n",
      "Epoch:  56%|█████▋    | 113/200 [00:48<00:37,  2.31it/s]\n",
      "EP_112 | train loss: 0.32391479249094046 | val loss: 0.2833868101531384 |\n",
      "Epoch:  57%|█████▋    | 114/200 [00:49<00:37,  2.31it/s]\n",
      "EP_113 | train loss: 0.31450593611773325 | val loss: 0.2821715526721057 |\n",
      "Epoch:  57%|█████▊    | 115/200 [00:49<00:36,  2.33it/s]\n",
      "EP_114 | train loss: 0.3126322881848204 | val loss: 0.27855881990170944 |\n",
      "Epoch:  58%|█████▊    | 116/200 [00:50<00:36,  2.31it/s]\n",
      "EP_115 | train loss: 0.3108025873408598 | val loss: 0.2774486465781343 |\n",
      "Epoch:  58%|█████▊    | 117/200 [00:50<00:35,  2.31it/s]\n",
      "EP_116 | train loss: 0.3085748359268787 | val loss: 0.27556120589667676 |\n",
      "Epoch:  59%|█████▉    | 118/200 [00:51<00:35,  2.33it/s]\n",
      "EP_117 | train loss: 0.3105045042785944 | val loss: 0.2735798645253275 |\n",
      "Epoch:  60%|█████▉    | 119/200 [00:51<00:34,  2.34it/s]\n",
      "EP_118 | train loss: 0.3177275919446758 | val loss: 0.2776251680710736 |\n",
      "Epoch:  60%|██████    | 120/200 [00:51<00:34,  2.34it/s]\n",
      "EP_119 | train loss: 0.3030677327922746 | val loss: 0.2692546096502566 |\n",
      "Epoch:  60%|██████    | 121/200 [00:52<00:34,  2.31it/s]\n",
      "EP_120 | train loss: 0.30018157397999484 | val loss: 0.2672567835041121 |\n",
      "Epoch:  61%|██████    | 122/200 [00:52<00:33,  2.31it/s]\n",
      "EP_121 | train loss: 0.3173617035734887 | val loss: 0.2760619971097684 |\n",
      "Epoch:  62%|██████▏   | 123/200 [00:53<00:33,  2.32it/s]\n",
      "EP_122 | train loss: 0.29905828073912977 | val loss: 0.2650103265163945 |\n",
      "Epoch:  62%|██████▏   | 124/200 [00:53<00:32,  2.34it/s]\n",
      "EP_123 | train loss: 0.296500872630699 | val loss: 0.2632270963752971 |\n",
      "Epoch:  62%|██████▎   | 125/200 [00:54<00:31,  2.36it/s]\n",
      "EP_124 | train loss: 0.29368614402471804 | val loss: 0.2602442660752465 |\n",
      "Epoch:  63%|██████▎   | 126/200 [00:54<00:32,  2.30it/s]\n",
      "EP_125 | train loss: 0.2876862278171614 | val loss: 0.25733234192810805 |\n",
      "Epoch:  64%|██████▎   | 127/200 [00:55<00:31,  2.31it/s]\n",
      "EP_126 | train loss: 0.29024532262016745 | val loss: 0.2574185016108494 |\n",
      "Epoch:  64%|██████▍   | 128/200 [00:55<00:31,  2.31it/s]\n",
      "EP_127 | train loss: 0.2916160461949367 | val loss: 0.2566506850953196 |\n",
      "Epoch:  64%|██████▍   | 129/200 [00:55<00:30,  2.31it/s]\n",
      "EP_128 | train loss: 0.2808188368292416 | val loss: 0.2517033488142724 |\n",
      "Epoch:  65%|██████▌   | 130/200 [00:56<00:30,  2.33it/s]\n",
      "EP_129 | train loss: 0.28327237811743045 | val loss: 0.25312140759299784 |\n",
      "Epoch:  66%|██████▌   | 131/200 [00:56<00:30,  2.29it/s]\n",
      "EP_130 | train loss: 0.2784527395285812 | val loss: 0.24857399159786747 |\n",
      "Epoch:  66%|██████▌   | 132/200 [00:57<00:29,  2.30it/s]\n",
      "EP_131 | train loss: 0.27634256166570326 | val loss: 0.24478182021309347 |\n",
      "Epoch:  66%|██████▋   | 133/200 [00:57<00:28,  2.31it/s]\n",
      "EP_132 | train loss: 0.27871822562872195 | val loss: 0.24645074792936736 |\n",
      "Epoch:  67%|██████▋   | 134/200 [00:58<00:28,  2.33it/s]\n",
      "EP_133 | train loss: 0.29526356108048385 | val loss: 0.2566523680499956 |\n",
      "Epoch:  68%|██████▊   | 135/200 [00:58<00:27,  2.34it/s]\n",
      "EP_134 | train loss: 0.2596432905571133 | val loss: 0.23822899542602838 |\n",
      "Epoch:  68%|██████▊   | 136/200 [00:58<00:27,  2.32it/s]\n",
      "EP_135 | train loss: 0.26751852082271205 | val loss: 0.23834496152167226 |\n",
      "Epoch:  68%|██████▊   | 137/200 [00:59<00:27,  2.32it/s]\n",
      "EP_136 | train loss: 0.2548179949031157 | val loss: 0.23368379707429923 |\n",
      "Epoch:  69%|██████▉   | 138/200 [00:59<00:26,  2.33it/s]\n",
      "EP_137 | train loss: 0.2746488225226309 | val loss: 0.23913147110565036 |\n",
      "Epoch:  70%|██████▉   | 139/200 [01:00<00:26,  2.33it/s]\n",
      "EP_138 | train loss: 0.25718892789354514 | val loss: 0.22870184977849325 |\n",
      "Epoch:  70%|███████   | 140/200 [01:00<00:25,  2.34it/s]\n",
      "EP_139 | train loss: 0.2452476973627128 | val loss: 0.22534494540270636 |\n",
      "Epoch:  70%|███████   | 141/200 [01:01<00:25,  2.31it/s]\n",
      "EP_140 | train loss: 0.25716289445465684 | val loss: 0.22604685612753325 |\n",
      "Epoch:  71%|███████   | 142/200 [01:01<00:24,  2.33it/s]\n",
      "EP_141 | train loss: 0.24720970228606579 | val loss: 0.22074401495503446 |\n",
      "Epoch:  72%|███████▏  | 143/200 [01:01<00:24,  2.33it/s]\n",
      "EP_142 | train loss: 0.24063509445564418 | val loss: 0.218223547818614 |\n",
      "Epoch:  72%|███████▏  | 144/200 [01:02<00:24,  2.33it/s]\n",
      "EP_143 | train loss: 0.2391600487278957 | val loss: 0.2147980624554204 |\n",
      "Epoch:  72%|███████▎  | 145/200 [01:02<00:23,  2.34it/s]\n",
      "EP_144 | train loss: 0.23733544489916633 | val loss: 0.21277551499067568 |\n",
      "Epoch:  73%|███████▎  | 146/200 [01:03<00:23,  2.30it/s]\n",
      "EP_145 | train loss: 0.24781061621273265 | val loss: 0.2167429620144414 |\n",
      "Epoch:  74%|███████▎  | 147/200 [01:03<00:23,  2.29it/s]\n",
      "EP_146 | train loss: 0.23140233357747395 | val loss: 0.20749386560683156 |\n",
      "Epoch:  74%|███████▍  | 148/200 [01:04<00:22,  2.31it/s]\n",
      "EP_147 | train loss: 0.22665548090841256 | val loss: 0.20329288700047662 |\n",
      "Epoch:  74%|███████▍  | 149/200 [01:04<00:22,  2.31it/s]\n",
      "EP_148 | train loss: 0.22192992462831385 | val loss: 0.19993902655208812 |\n",
      "Epoch:  75%|███████▌  | 150/200 [01:04<00:21,  2.32it/s]\n",
      "EP_149 | train loss: 0.2199224364523794 | val loss: 0.1968476485972311 |\n",
      "Epoch:  76%|███████▌  | 151/200 [01:05<00:21,  2.29it/s]\n",
      "EP_150 | train loss: 0.2165893082525216 | val loss: 0.1942568742761425 |\n",
      "Epoch:  76%|███████▌  | 152/200 [01:05<00:20,  2.29it/s]\n",
      "EP_151 | train loss: 0.24998977885526769 | val loss: 0.21508110913575865 |\n",
      "Epoch:  76%|███████▋  | 153/200 [01:06<00:20,  2.32it/s]\n",
      "EP_152 | train loss: 0.2164769504584518 | val loss: 0.19323737422625223 |\n",
      "Epoch:  77%|███████▋  | 154/200 [01:06<00:19,  2.32it/s]\n",
      "EP_153 | train loss: 0.20881976941052605 | val loss: 0.18945692976315817 |\n",
      "Epoch:  78%|███████▊  | 155/200 [01:07<00:19,  2.33it/s]\n",
      "EP_154 | train loss: 0.21737913197162104 | val loss: 0.19214349576071196 |\n",
      "Epoch:  78%|███████▊  | 156/200 [01:07<00:18,  2.32it/s]\n",
      "EP_155 | train loss: 0.2046764060562732 | val loss: 0.18399164781850927 |\n",
      "Epoch:  78%|███████▊  | 157/200 [01:07<00:18,  2.33it/s]\n",
      "EP_156 | train loss: 0.2014709334747464 | val loss: 0.18179327424834757 |\n",
      "Epoch:  79%|███████▉  | 158/200 [01:08<00:18,  2.33it/s]\n",
      "EP_157 | train loss: 0.21181229236079196 | val loss: 0.1850552897827298 |\n",
      "Epoch:  80%|███████▉  | 159/200 [01:08<00:17,  2.34it/s]\n",
      "EP_158 | train loss: 0.1935395960714303 | val loss: 0.17686958055870206 |\n",
      "Epoch:  80%|████████  | 160/200 [01:09<00:17,  2.35it/s]\n",
      "EP_159 | train loss: 0.19189806054620182 | val loss: 0.1719655505582398 |\n",
      "Epoch:  80%|████████  | 161/200 [01:09<00:16,  2.32it/s]\n",
      "EP_160 | train loss: 0.20778515946631337 | val loss: 0.18075295114049725 |\n",
      "Epoch:  81%|████████  | 162/200 [01:10<00:16,  2.34it/s]\n",
      "EP_161 | train loss: 0.18146884581621955 | val loss: 0.1741296087994295 |\n",
      "Epoch:  82%|████████▏ | 163/200 [01:10<00:15,  2.33it/s]\n",
      "EP_162 | train loss: 0.18362088904661292 | val loss: 0.16715995587554633 |\n",
      "Epoch:  82%|████████▏ | 164/200 [01:10<00:15,  2.35it/s]\n",
      "EP_163 | train loss: 0.1775316733939975 | val loss: 0.16315450504714368 |\n",
      "Epoch:  82%|████████▎ | 165/200 [01:11<00:14,  2.34it/s]\n",
      "EP_164 | train loss: 0.17682370040930953 | val loss: 0.16247397485901327 |\n",
      "Epoch:  83%|████████▎ | 166/200 [01:11<00:14,  2.30it/s]\n",
      "EP_165 | train loss: 0.17658456166585287 | val loss: 0.1585403160721648 |\n",
      "Epoch:  84%|████████▎ | 167/200 [01:12<00:14,  2.32it/s]\n",
      "EP_166 | train loss: 0.17671533028284708 | val loss: 0.15763946315821478 |\n",
      "Epoch:  84%|████████▍ | 168/200 [01:12<00:13,  2.33it/s]\n",
      "EP_167 | train loss: 0.16297459555607216 | val loss: 0.15681212789872112 |\n",
      "Epoch:  84%|████████▍ | 169/200 [01:13<00:13,  2.32it/s]\n",
      "EP_168 | train loss: 0.16907654439701753 | val loss: 0.1520399270104427 |\n",
      "Epoch:  85%|████████▌ | 170/200 [01:13<00:12,  2.33it/s]\n",
      "EP_169 | train loss: 0.1843591418920779 | val loss: 0.15677351110121784 |\n",
      "Epoch:  86%|████████▌ | 171/200 [01:13<00:12,  2.32it/s]\n",
      "EP_170 | train loss: 0.1609512116394791 | val loss: 0.14443698057941362 |\n",
      "Epoch:  86%|████████▌ | 172/200 [01:14<00:12,  2.33it/s]\n",
      "EP_171 | train loss: 0.15371665697471767 | val loss: 0.1413137153083203 |\n",
      "Epoch:  86%|████████▋ | 173/200 [01:14<00:11,  2.34it/s]\n",
      "EP_172 | train loss: 0.14843182330038032 | val loss: 0.14180093916023478 |\n",
      "Epoch:  87%|████████▋ | 174/200 [01:15<00:11,  2.34it/s]\n",
      "EP_173 | train loss: 0.1492194365052616 | val loss: 0.1339671997463002 |\n",
      "Epoch:  88%|████████▊ | 175/200 [01:15<00:10,  2.34it/s]\n",
      "EP_174 | train loss: 0.14397828415328381 | val loss: 0.13224345796248493 |\n",
      "Epoch:  88%|████████▊ | 176/200 [01:16<00:10,  2.32it/s]\n",
      "EP_175 | train loss: 0.14527465689416025 | val loss: 0.12985358869328217 |\n",
      "Epoch:  88%|████████▊ | 177/200 [01:16<00:09,  2.32it/s]\n",
      "EP_176 | train loss: 0.1390481666022656 | val loss: 0.12637748204025567 |\n",
      "Epoch:  89%|████████▉ | 178/200 [01:16<00:09,  2.33it/s]\n",
      "EP_177 | train loss: 0.13934844685535805 | val loss: 0.12495953984120313 |\n",
      "Epoch:  90%|████████▉ | 179/200 [01:17<00:09,  2.32it/s]\n",
      "EP_178 | train loss: 0.13588657168781057 | val loss: 0.12313694287748898 |\n",
      "Epoch:  90%|█████████ | 180/200 [01:17<00:08,  2.32it/s]\n",
      "EP_179 | train loss: 0.14798753051196828 | val loss: 0.12482072266877867 |\n",
      "Epoch:  90%|█████████ | 181/200 [01:18<00:08,  2.28it/s]\n",
      "EP_180 | train loss: 0.13815218373840932 | val loss: 0.11946865536418616 |\n",
      "Epoch:  91%|█████████ | 182/200 [01:18<00:07,  2.28it/s]\n",
      "EP_181 | train loss: 0.12939868487563788 | val loss: 0.1153633533155217 |\n",
      "Epoch:  92%|█████████▏| 183/200 [01:19<00:07,  2.30it/s]\n",
      "EP_182 | train loss: 0.1282619794209798 | val loss: 0.11181737599419612 |\n",
      "Epoch:  92%|█████████▏| 184/200 [01:19<00:06,  2.30it/s]\n",
      "EP_183 | train loss: 0.12547899134018842 | val loss: 0.11046688989096996 |\n",
      "Epoch:  92%|█████████▎| 185/200 [01:20<00:06,  2.31it/s]\n",
      "EP_184 | train loss: 0.14726540200850544 | val loss: 0.12201111047875647 |\n",
      "Epoch:  93%|█████████▎| 186/200 [01:20<00:06,  2.30it/s]\n",
      "EP_185 | train loss: 0.13952481068816838 | val loss: 0.11499314974336063 |\n",
      "Epoch:  94%|█████████▎| 187/200 [01:20<00:05,  2.32it/s]\n",
      "EP_186 | train loss: 0.12431253919414445 | val loss: 0.10654691971984565 |\n",
      "Epoch:  94%|█████████▍| 188/200 [01:21<00:05,  2.32it/s]\n",
      "EP_187 | train loss: 0.12374407613978666 | val loss: 0.10589435579730015 |\n",
      "Epoch:  94%|█████████▍| 189/200 [01:21<00:04,  2.32it/s]\n",
      "EP_188 | train loss: 0.10853978769451963 | val loss: 0.1071540558455037 |\n",
      "Epoch:  95%|█████████▌| 190/200 [01:22<00:04,  2.33it/s]\n",
      "EP_189 | train loss: 0.10956365150563857 | val loss: 0.09903489462300843 |\n",
      "Epoch:  96%|█████████▌| 191/200 [01:22<00:03,  2.29it/s]\n",
      "EP_190 | train loss: 0.1110799041448855 | val loss: 0.09590665791548934 |\n",
      "Epoch:  96%|█████████▌| 192/200 [01:23<00:03,  2.31it/s]\n",
      "EP_191 | train loss: 0.1061753885418761 | val loss: 0.09509776444996104 |\n",
      "Epoch:  96%|█████████▋| 193/200 [01:23<00:03,  2.32it/s]\n",
      "EP_192 | train loss: 0.10656803472369325 | val loss: 0.09179884078455906 |\n",
      "Epoch:  97%|█████████▋| 194/200 [01:23<00:02,  2.33it/s]\n",
      "EP_193 | train loss: 0.09961455242306579 | val loss: 0.08940489794693741 |\n",
      "Epoch:  98%|█████████▊| 195/200 [01:24<00:02,  2.33it/s]\n",
      "EP_194 | train loss: 0.10096943869310267 | val loss: 0.08760019756999671 |\n",
      "Epoch:  98%|█████████▊| 196/200 [01:24<00:01,  2.30it/s]\n",
      "EP_195 | train loss: 0.11048496283736883 | val loss: 0.09115627817079133 |\n",
      "Epoch:  98%|█████████▊| 197/200 [01:25<00:01,  2.32it/s]\n",
      "EP_196 | train loss: 0.09232401812777799 | val loss: 0.0842273749557196 |\n",
      "Epoch:  99%|█████████▉| 198/200 [01:25<00:00,  2.32it/s]\n",
      "EP_197 | train loss: 0.10294350385665893 | val loss: 0.08782907180926379 |\n",
      "Epoch: 100%|█████████▉| 199/200 [01:26<00:00,  2.31it/s]\n",
      "EP_198 | train loss: 0.087936446129107 | val loss: 0.0821726310486887 |\n",
      "Epoch: 100%|██████████| 200/200 [01:26<00:00,  2.31it/s]\n",
      "EP_199 | train loss: 0.09708816187054503 | val loss: 0.08224469803127588 |\n",
      "\n"
     ]
    }
   ],
   "source": [
    "AttractiveTrainer.train()"
   ]
  },
  {
   "cell_type": "markdown",
   "metadata": {},
   "source": [
    "## Below is testing"
   ]
  },
  {
   "cell_type": "code",
   "execution_count": 6,
   "metadata": {},
   "outputs": [
    {
     "output_type": "execute_result",
     "data": {
      "text/plain": [
       "AttractiveNet(\n",
       "  (embedding): AttractiveEmbedding(\n",
       "    (token): TokenEmbedding(12699, 300, padding_idx=1)\n",
       "  )\n",
       "  (bigramcnn): Sequential(\n",
       "    (0): Conv1d(300, 210, kernel_size=(2,), stride=(1,), padding=(1,))\n",
       "    (1): ReLU()\n",
       "    (2): Conv1d(210, 100, kernel_size=(2,), stride=(1,), padding=(1,))\n",
       "    (3): ReLU()\n",
       "    (4): Dropout(p=0.5, inplace=False)\n",
       "  )\n",
       "  (trigramcnn): Sequential(\n",
       "    (0): Conv1d(300, 210, kernel_size=(3,), stride=(1,), padding=(1,))\n",
       "    (1): ReLU()\n",
       "    (2): Conv1d(210, 100, kernel_size=(3,), stride=(1,), padding=(1,))\n",
       "  )\n",
       "  (trigram_residual): Conv1d(300, 100, kernel_size=(1,), stride=(1,))\n",
       "  (trigram_output): Sequential(\n",
       "    (0): ReLU()\n",
       "    (1): Dropout(p=0.5, inplace=False)\n",
       "  )\n",
       "  (encoder_bigram): LSTM(100, 30, batch_first=True, dropout=0.5, bidirectional=True)\n",
       "  (encoder_trigram): LSTM(100, 30, batch_first=True, dropout=0.5, bidirectional=True)\n",
       "  (linear): Sequential(\n",
       "    (0): Linear(in_features=128, out_features=30, bias=True)\n",
       "    (1): ReLU()\n",
       "    (2): Linear(in_features=30, out_features=1, bias=True)\n",
       "  )\n",
       ")"
      ]
     },
     "metadata": {},
     "execution_count": 6
    }
   ],
   "source": [
    "from attractivenet import AttractiveNet\n",
    "\n",
    "PATH = './model/CNN_LSTM_20201109-132336/0.374879.85'\n",
    "\n",
    "load_model = AttractiveNet(config).to(AttractiveData.device)\n",
    "load_model.load_state_dict(torch.load(PATH))\n",
    "load_model.eval()"
   ]
  },
  {
   "cell_type": "code",
   "execution_count": 7,
   "metadata": {},
   "outputs": [],
   "source": [
    "def predict_attractive(sentence, category, phase):\n",
    "    indexed_sentence = [AttractiveData.TEXT.vocab.stoi[t] for t in sentence]\n",
    "    indexed_category = [AttractiveData.CATEGORIES_LABEL.vocab.stoi[category]]\n",
    "    tensor_sentence = torch.LongTensor(indexed_sentence).to(AttractiveData.device)\n",
    "    tensor_category = torch.LongTensor(indexed_category).to(AttractiveData.device)\n",
    "    tensor_sentence = tensor_sentence.unsqueeze(0)\n",
    "\n",
    "    prediction = load_model(tensor_sentence, tensor_category, phase=phase)\n",
    "\n",
    "    return prediction"
   ]
  },
  {
   "cell_type": "code",
   "execution_count": 8,
   "metadata": {
    "tags": []
   },
   "outputs": [],
   "source": [
    "# train mean = 3.15, test mean = 2.8\n",
    "predict_list = []\n",
    "with torch.no_grad():\n",
    "    for i, sentence in enumerate(AttractiveData.test_data):\n",
    "        prediction = predict_attractive(sentence.Headline, sentence.Category, 'test')\n",
    "        predict_list.append(prediction.item())\n",
    "        # predict_list.append(prediction.item())\n",
    "AttractiveData.df_test['Label'] = predict_list\n",
    "AttractiveData.df_test[['ID', 'Label']].to_csv(config['save_name'] + '.csv', index=False)"
   ]
  },
  {
   "cell_type": "markdown",
   "metadata": {},
   "source": [
    "## Below for statistics"
   ]
  },
  {
   "cell_type": "code",
   "execution_count": 9,
   "metadata": {},
   "outputs": [],
   "source": [
    "import statistics\n",
    "from sklearn.metrics import mean_squared_error"
   ]
  },
  {
   "cell_type": "code",
   "execution_count": 10,
   "metadata": {},
   "outputs": [],
   "source": [
    "# # train mean = 3.15, test mean = 2.8\n",
    "# train_list = []\n",
    "# for i, sentence in enumerate(AttractiveData.train_data):\n",
    "#     prediction = predict_attractive(sentence.Headline, sentence.Category, 'train')\n",
    "#     train_list.append(prediction.item())\n",
    "#     # train_list.append(prediction.item())\n",
    "# # print(train_list)\n",
    "# mean_squared_error(pd.read_csv('data/train.csv').sort_values(['ID']).Label.to_list(), train_list), statistics.mean(train_list), statistics.stdev(train_list)"
   ]
  },
  {
   "cell_type": "code",
   "execution_count": 11,
   "metadata": {},
   "outputs": [],
   "source": [
    "# train_list[0:5], pd.read_csv('data/train.csv').sort_values(['ID']).Label.to_list()[0:5]"
   ]
  },
  {
   "cell_type": "code",
   "execution_count": 12,
   "metadata": {},
   "outputs": [],
   "source": [
    "# a = AttractiveData.df_train['Label'].to_list()\n",
    "# statistics.mean(a), statistics.stdev(a)"
   ]
  },
  {
   "cell_type": "code",
   "execution_count": 13,
   "metadata": {},
   "outputs": [
    {
     "output_type": "execute_result",
     "data": {
      "text/plain": [
       "(2.7521444795415264, 0.3776602442751318)"
      ]
     },
     "metadata": {},
     "execution_count": 13
    }
   ],
   "source": [
    "statistics.mean(predict_list), statistics.stdev(predict_list)"
   ]
  },
  {
   "cell_type": "code",
   "execution_count": 14,
   "metadata": {},
   "outputs": [
    {
     "output_type": "execute_result",
     "data": {
      "text/plain": [
       "(0.012260667741407607, 2.7876357276009043, 0.3643672504501976)"
      ]
     },
     "metadata": {},
     "execution_count": 14
    }
   ],
   "source": [
    "baseline_list = pd.read_csv('baseline.csv').sort_values(['ID']).Label.to_list()\n",
    "mean_squared_error(baseline_list, predict_list), statistics.mean(baseline_list), statistics.stdev(baseline_list)"
   ]
  },
  {
   "cell_type": "code",
   "execution_count": null,
   "metadata": {},
   "outputs": [],
   "source": []
  },
  {
   "cell_type": "code",
   "execution_count": 15,
   "metadata": {},
   "outputs": [
    {
     "output_type": "execute_result",
     "data": {
      "text/plain": [
       "4.055494478172638e-05"
      ]
     },
     "metadata": {},
     "execution_count": 15
    }
   ],
   "source": [
    "mean_squared_error(pd.read_csv('baseline.csv').sort_values(['ID']).Label.to_list(), pd.read_csv('./CNN_LSTM.csv').sort_values(['ID']).Label.to_list())"
   ]
  },
  {
   "cell_type": "code",
   "execution_count": 13,
   "metadata": {},
   "outputs": [],
   "source": []
  },
  {
   "cell_type": "code",
   "execution_count": null,
   "metadata": {},
   "outputs": [],
   "source": []
  }
 ],
 "metadata": {
  "kernelspec": {
   "display_name": "DS_hw2",
   "language": "python",
   "name": "ds_hw2"
  },
  "language_info": {
   "codemirror_mode": {
    "name": "ipython",
    "version": 3
   },
   "file_extension": ".py",
   "mimetype": "text/x-python",
   "name": "python",
   "nbconvert_exporter": "python",
   "pygments_lexer": "ipython3",
   "version": "3.6.12-final"
  }
 },
 "nbformat": 4,
 "nbformat_minor": 4
}