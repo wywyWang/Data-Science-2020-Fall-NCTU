{
 "cells": [
  {
   "cell_type": "code",
   "execution_count": 1,
   "metadata": {},
   "outputs": [],
   "source": [
    "# common packages\n",
    "import pandas as pd\n",
    "import time\n",
    "\n",
    "# # DL framework\n",
    "import torch\n",
    "from torchtext import data\n",
    "\n",
    "from attractivedata import AttractiveData\n",
    "from trainer import AttractiveTrainer"
   ]
  },
  {
   "cell_type": "code",
   "execution_count": 2,
   "metadata": {},
   "outputs": [],
   "source": [
    "seed_value = 42\n",
    "torch.manual_seed(seed_value)\n",
    "torch.cuda.manual_seed(seed_value)\n",
    "torch.cuda.manual_seed_all(seed_value) # gpu vars\n",
    "torch.backends.cudnn.deterministic = True  #needed\n",
    "torch.backends.cudnn.benchmark = False"
   ]
  },
  {
   "cell_type": "markdown",
   "metadata": {},
   "source": [
    "# TODO: \n",
    "- [ ] cnn plus residual network\n",
    "- [ ] word embedding multiply tfidf\n",
    "- [ ] use word2vec"
   ]
  },
  {
   "cell_type": "markdown",
   "metadata": {},
   "source": [
    "## Load and prepare data"
   ]
  },
  {
   "cell_type": "code",
   "execution_count": 3,
   "metadata": {},
   "outputs": [],
   "source": [
    "train_file = 'data/train.csv'\n",
    "val_file = 'example/val.csv'\n",
    "test_file = 'data/test.csv'\n",
    "pretrained_file = 'glove.840B.300d'\n",
    "config = {\n",
    "    'max_seq': 40,\n",
    "    'min_freq': 0,\n",
    "    'batch_size': 64,\n",
    "    'pretrained_file': pretrained_file\n",
    "}\n"
   ]
  },
  {
   "cell_type": "code",
   "execution_count": 4,
   "metadata": {},
   "outputs": [],
   "source": [
    "AttractiveData = AttractiveData(train_file, val_file, test_file, pretrained_file, config)"
   ]
  },
  {
   "cell_type": "code",
   "execution_count": 5,
   "metadata": {},
   "outputs": [],
   "source": [
    "# for i, sentence in enumerate(AttractiveData.test_data):\n",
    "#     if i == 3:\n",
    "#         print(vars(AttractiveData.train_data[i]), vars(sentence))"
   ]
  },
  {
   "cell_type": "code",
   "execution_count": 6,
   "metadata": {},
   "outputs": [
    {
     "output_type": "execute_result",
     "data": {
      "text/plain": [
       "38"
      ]
     },
     "metadata": {},
     "execution_count": 6
    }
   ],
   "source": [
    "max_len = 0\n",
    "a = AttractiveData.train_data\n",
    "for i in range(len(a)):\n",
    "    if len(a[i].Headline) >= max_len:\n",
    "        max_len = len(a[i].Headline)\n",
    "max_len"
   ]
  },
  {
   "cell_type": "markdown",
   "metadata": {},
   "source": [
    "## Start to train"
   ]
  },
  {
   "cell_type": "code",
   "execution_count": 7,
   "metadata": {},
   "outputs": [
    {
     "output_type": "stream",
     "name": "stdout",
     "text": [
      "torch.Size([12699, 300])\n"
     ]
    }
   ],
   "source": [
    "config['timestr'] = time.strftime(\"%Y%m%d-%H%M%S\")\n",
    "config['save_name'] = 'CNN_LSTM'\n",
    "config['input_dim'] = len(AttractiveData.TEXT.vocab)\n",
    "config['embedding_dim'] = 300\n",
    "config['category_dim'] = len(AttractiveData.CATEGORIES_LABEL.vocab)\n",
    "config['category_embedding_dim'] = 10\n",
    "config['hidden_dim'] = 30\n",
    "config['output_dim'] = 1\n",
    "config['log_steps'] = 10\n",
    "config['epochs'] = 200\n",
    "config['lr'] = {\n",
    "    'encoder': 1e-5,\n",
    "    'embedding': 6e-6,\n",
    "    'linear': 1e-5\n",
    "}\n",
    "config['num_layers'] = 1\n",
    "config['kernel_size'] = 3\n",
    "config['dropout'] = 0.5\n",
    "config['train_len'] = AttractiveData.train_len\n",
    "config['val_len'] = AttractiveData.val_len\n",
    "config['test_len'] = AttractiveData.test_len\n",
    "\n",
    "pretrained_embeddings = AttractiveData.TEXT.vocab.vectors\n",
    "print(pretrained_embeddings.shape)"
   ]
  },
  {
   "cell_type": "code",
   "execution_count": 8,
   "metadata": {},
   "outputs": [],
   "source": [
    "AttractiveTrainer = AttractiveTrainer(config, AttractiveData.device, AttractiveData.trainloader, AttractiveData.valloader, pretrained_embeddings)"
   ]
  },
  {
   "cell_type": "code",
   "execution_count": 9,
   "metadata": {},
   "outputs": [
    {
     "output_type": "execute_result",
     "data": {
      "text/plain": [
       "(AttractiveNet(\n",
       "   (embedding): AttractiveEmbedding(\n",
       "     (token): TokenEmbedding(12699, 300, padding_idx=1)\n",
       "   )\n",
       "   (bigramcnn): Sequential(\n",
       "     (0): Conv1d(300, 200, kernel_size=(2,), stride=(1,), padding=(1,))\n",
       "     (1): ReLU()\n",
       "     (2): Conv1d(200, 100, kernel_size=(2,), stride=(1,), padding=(1,))\n",
       "     (3): ReLU()\n",
       "     (4): Dropout(p=0.5, inplace=False)\n",
       "   )\n",
       "   (trigramcnn): Sequential(\n",
       "     (0): Conv1d(300, 200, kernel_size=(3,), stride=(1,), padding=(1,))\n",
       "     (1): ReLU()\n",
       "     (2): Conv1d(200, 100, kernel_size=(3,), stride=(1,), padding=(1,))\n",
       "     (3): ReLU()\n",
       "     (4): Dropout(p=0.5, inplace=False)\n",
       "   )\n",
       "   (encoder_bigram_first): LSTM(100, 30, batch_first=True, dropout=0.5, bidirectional=True)\n",
       "   (encoder_trigram_first): LSTM(100, 30, batch_first=True, dropout=0.5, bidirectional=True)\n",
       "   (linear): Sequential(\n",
       "     (0): Linear(in_features=124, out_features=30, bias=True)\n",
       "     (1): ReLU()\n",
       "     (2): Linear(in_features=30, out_features=1, bias=True)\n",
       "   )\n",
       " ),\n",
       " 4277441,\n",
       " 4277441)"
      ]
     },
     "metadata": {},
     "execution_count": 9
    }
   ],
   "source": [
    "AttractiveTrainer.model, AttractiveTrainer.config['total_params'], AttractiveTrainer.config['total_learned_params']"
   ]
  },
  {
   "cell_type": "code",
   "execution_count": 10,
   "metadata": {
    "tags": [
     "outputPrepend"
    ]
   },
   "outputs": [
    {
     "output_type": "stream",
     "name": "stderr",
     "text": [
      "4%|██▍       | 48/200 [00:18<00:58,  2.62it/s]\n",
      "EP_47 | train loss: 0.45717538945815145 | val loss: 0.40075275360369217 |\n",
      "Epoch:  24%|██▍       | 49/200 [00:19<00:57,  2.63it/s]\n",
      "EP_48 | train loss: 0.45344856860590915 | val loss: 0.3961185836324505 |\n",
      "Epoch:  25%|██▌       | 50/200 [00:19<00:56,  2.64it/s]\n",
      "EP_49 | train loss: 0.4538258851743212 | val loss: 0.39196210047777963 |\n",
      "Epoch:  26%|██▌       | 51/200 [00:20<00:56,  2.61it/s]\n",
      "EP_50 | train loss: 0.44722939940059886 | val loss: 0.38640864982324485 |\n",
      "Epoch:  26%|██▌       | 52/200 [00:20<00:56,  2.62it/s]\n",
      "EP_51 | train loss: 0.44320170832615274 | val loss: 0.3810356849548863 |\n",
      "Epoch:  26%|██▋       | 53/200 [00:20<00:55,  2.63it/s]\n",
      "EP_52 | train loss: 0.4394823308084525 | val loss: 0.37721727992974075 |\n",
      "Epoch:  27%|██▋       | 54/200 [00:21<00:55,  2.64it/s]\n",
      "EP_53 | train loss: 0.4421646267760034 | val loss: 0.3753063737177381 |\n",
      "Epoch:  28%|██▊       | 55/200 [00:21<00:54,  2.64it/s]\n",
      "EP_54 | train loss: 0.43541825799381034 | val loss: 0.3699345834114972 |\n",
      "Epoch:  28%|██▊       | 56/200 [00:22<00:55,  2.60it/s]\n",
      "EP_55 | train loss: 0.4309494457992853 | val loss: 0.36597855418336156 |\n",
      "Epoch:  28%|██▊       | 57/200 [00:22<00:54,  2.61it/s]\n",
      "EP_56 | train loss: 0.4299709722107532 | val loss: 0.3637371606686536 |\n",
      "Epoch:  29%|██▉       | 58/200 [00:22<00:54,  2.61it/s]\n",
      "EP_57 | train loss: 0.4323301156361898 | val loss: 0.36291110106543 |\n",
      "Epoch:  30%|██▉       | 59/200 [00:23<00:53,  2.62it/s]\n",
      "EP_58 | train loss: 0.4250352579004624 | val loss: 0.3575381870363273 |\n",
      "Epoch:  30%|███       | 60/200 [00:23<00:53,  2.61it/s]\n",
      "EP_59 | train loss: 0.422183521121156 | val loss: 0.3549927695124757 |\n",
      "Epoch:  30%|███       | 61/200 [00:23<00:53,  2.59it/s]\n",
      "EP_60 | train loss: 0.4200139045715332 | val loss: 0.3526223021395066 |\n",
      "Epoch:  31%|███       | 62/200 [00:24<00:52,  2.60it/s]\n",
      "EP_61 | train loss: 0.4193850236780503 | val loss: 0.3516959588901669 |\n",
      "Epoch:  32%|███▏      | 63/200 [00:24<00:52,  2.62it/s]\n",
      "EP_62 | train loss: 0.4136134699279187 | val loss: 0.3483571509520213 |\n",
      "Epoch:  32%|███▏      | 64/200 [00:25<00:52,  2.60it/s]\n",
      "EP_63 | train loss: 0.4102225481295118 | val loss: 0.3461857788703021 |\n",
      "Epoch:  32%|███▎      | 65/200 [00:25<00:51,  2.61it/s]\n",
      "EP_64 | train loss: 0.4083646755592496 | val loss: 0.3438461288517597 |\n",
      "Epoch:  33%|███▎      | 66/200 [00:25<00:51,  2.59it/s]\n",
      "EP_65 | train loss: 0.4085875931908103 | val loss: 0.3437163075980018 |\n",
      "Epoch:  34%|███▎      | 67/200 [00:26<00:51,  2.61it/s]\n",
      "EP_66 | train loss: 0.4072487662820255 | val loss: 0.34201357703582913 |\n",
      "Epoch:  34%|███▍      | 68/200 [00:26<00:50,  2.62it/s]\n",
      "EP_67 | train loss: 0.40133007460949466 | val loss: 0.3386128170817506 |\n",
      "Epoch:  34%|███▍      | 69/200 [00:26<00:49,  2.62it/s]\n",
      "EP_68 | train loss: 0.39825990714278875 | val loss: 0.33718493171766695 |\n",
      "Epoch:  35%|███▌      | 70/200 [00:27<00:49,  2.63it/s]\n",
      "EP_69 | train loss: 0.4048096021016439 | val loss: 0.3414076286203721 |\n",
      "Epoch:  36%|███▌      | 71/200 [00:27<00:49,  2.59it/s]\n",
      "EP_70 | train loss: 0.3934230776394115 | val loss: 0.3341932244160596 |\n",
      "Epoch:  36%|███▌      | 72/200 [00:28<00:49,  2.60it/s]\n",
      "EP_71 | train loss: 0.390090674980014 | val loss: 0.3332144092111027 |\n",
      "Epoch:  36%|███▋      | 73/200 [00:28<00:48,  2.62it/s]\n",
      "EP_72 | train loss: 0.39022415011536843 | val loss: 0.3329799362257415 |\n",
      "Epoch:  37%|███▋      | 74/200 [00:28<00:47,  2.63it/s]\n",
      "EP_73 | train loss: 0.3862221582263124 | val loss: 0.3312063100291233 |\n",
      "Epoch:  38%|███▊      | 75/200 [00:29<00:47,  2.64it/s]\n",
      "EP_74 | train loss: 0.38220707668977627 | val loss: 0.3296722436652464 |\n",
      "Epoch:  38%|███▊      | 76/200 [00:29<00:47,  2.60it/s]\n",
      "EP_75 | train loss: 0.3900871145958994 | val loss: 0.334821670663123 |\n",
      "Epoch:  38%|███▊      | 77/200 [00:30<00:47,  2.62it/s]\n",
      "EP_76 | train loss: 0.3806086493473427 | val loss: 0.32921738250582827 |\n",
      "Epoch:  39%|███▉      | 78/200 [00:30<00:46,  2.63it/s]\n",
      "EP_77 | train loss: 0.3786620065277698 | val loss: 0.3285177946090698 |\n",
      "Epoch:  40%|███▉      | 79/200 [00:30<00:45,  2.63it/s]\n",
      "EP_78 | train loss: 0.37218973169139785 | val loss: 0.32539545262561126 |\n",
      "Epoch:  40%|████      | 80/200 [00:31<00:45,  2.63it/s]\n",
      "EP_79 | train loss: 0.3702286421083936 | val loss: 0.32508184220276626 |\n",
      "Epoch:  40%|████      | 81/200 [00:31<00:45,  2.59it/s]\n",
      "EP_80 | train loss: 0.37336765925089516 | val loss: 0.3266678762202169 |\n",
      "Epoch:  41%|████      | 82/200 [00:31<00:45,  2.61it/s]\n",
      "EP_81 | train loss: 0.3628018009896372 | val loss: 0.3213867697061277 |\n",
      "Epoch:  42%|████▏     | 83/200 [00:32<00:44,  2.62it/s]\n",
      "EP_82 | train loss: 0.36654138471565995 | val loss: 0.3229426531230702 |\n",
      "Epoch:  42%|████▏     | 84/200 [00:32<00:44,  2.63it/s]\n",
      "EP_83 | train loss: 0.3592560889674168 | val loss: 0.3188865114660824 |\n",
      "Epoch:  42%|████▎     | 85/200 [00:33<00:43,  2.64it/s]\n",
      "EP_84 | train loss: 0.35469771927478266 | val loss: 0.31622055640407637 |\n",
      "Epoch:  43%|████▎     | 86/200 [00:33<00:43,  2.62it/s]\n",
      "EP_85 | train loss: 0.35338045849519617 | val loss: 0.3150868392458149 |\n",
      "Epoch:  44%|████▎     | 87/200 [00:33<00:42,  2.64it/s]\n",
      "EP_86 | train loss: 0.34784842378952924 | val loss: 0.31450054750723 |\n",
      "Epoch:  44%|████▍     | 88/200 [00:34<00:42,  2.64it/s]\n",
      "EP_87 | train loss: 0.34438896553189147 | val loss: 0.3116016282754786 |\n",
      "Epoch:  44%|████▍     | 89/200 [00:34<00:41,  2.65it/s]\n",
      "EP_88 | train loss: 0.341507869608262 | val loss: 0.3132345828355527 |\n",
      "Epoch:  45%|████▌     | 90/200 [00:34<00:41,  2.65it/s]\n",
      "EP_89 | train loss: 0.3385155051362281 | val loss: 0.3112652471252516 |\n",
      "Epoch:  46%|████▌     | 91/200 [00:35<00:41,  2.62it/s]\n",
      "EP_90 | train loss: 0.33798922276964377 | val loss: 0.3067919302220438 |\n",
      "Epoch:  46%|████▌     | 92/200 [00:35<00:41,  2.63it/s]\n",
      "EP_91 | train loss: 0.33220590610130163 | val loss: 0.3048500202450098 |\n",
      "Epoch:  46%|████▋     | 93/200 [00:36<00:40,  2.65it/s]\n",
      "EP_92 | train loss: 0.32882748304628856 | val loss: 0.30262431151726665 |\n",
      "Epoch:  47%|████▋     | 94/200 [00:36<00:39,  2.66it/s]\n",
      "EP_93 | train loss: 0.340149325950473 | val loss: 0.30763741042099746 |\n",
      "Epoch:  48%|████▊     | 95/200 [00:36<00:39,  2.67it/s]\n",
      "EP_94 | train loss: 0.32071920750187893 | val loss: 0.299278351021748 |\n",
      "Epoch:  48%|████▊     | 96/200 [00:37<00:39,  2.62it/s]\n",
      "EP_95 | train loss: 0.3172865409477084 | val loss: 0.29586154631539885 |\n",
      "Epoch:  48%|████▊     | 97/200 [00:37<00:39,  2.63it/s]\n",
      "EP_96 | train loss: 0.3142525355021159 | val loss: 0.29275670297005596 |\n",
      "Epoch:  49%|████▉     | 98/200 [00:38<00:38,  2.65it/s]\n",
      "EP_97 | train loss: 0.30951330381281233 | val loss: 0.29138218947485384 |\n",
      "Epoch:  50%|████▉     | 99/200 [00:38<00:37,  2.66it/s]\n",
      "EP_98 | train loss: 0.3051214615503947 | val loss: 0.2915528013425715 |\n",
      "Epoch:  50%|█████     | 100/200 [00:38<00:37,  2.65it/s]\n",
      "EP_99 | train loss: 0.3006662887685439 | val loss: 0.28836563638612334 |\n",
      "Epoch:  50%|█████     | 101/200 [00:39<00:37,  2.62it/s]\n",
      "EP_100 | train loss: 0.2987108174492331 | val loss: 0.2863073606117099 |\n",
      "Epoch:  51%|█████     | 102/200 [00:39<00:37,  2.64it/s]\n",
      "EP_101 | train loss: 0.2969102990393545 | val loss: 0.2817842241595773 |\n",
      "Epoch:  52%|█████▏    | 103/200 [00:39<00:36,  2.65it/s]\n",
      "EP_102 | train loss: 0.2924737771352132 | val loss: 0.2783031884361716 |\n",
      "Epoch:  52%|█████▏    | 104/200 [00:40<00:36,  2.66it/s]\n",
      "EP_103 | train loss: 0.28711556920818254 | val loss: 0.27852550032092077 |\n",
      "Epoch:  52%|█████▎    | 105/200 [00:40<00:35,  2.66it/s]\n",
      "EP_104 | train loss: 0.2851277772118064 | val loss: 0.27217444543745 |\n",
      "Epoch:  53%|█████▎    | 106/200 [00:41<00:35,  2.63it/s]\n",
      "EP_105 | train loss: 0.29013767850165273 | val loss: 0.2726305688128752 |\n",
      "Epoch:  54%|█████▎    | 107/200 [00:41<00:35,  2.64it/s]\n",
      "EP_106 | train loss: 0.2776364092733346 | val loss: 0.2653375542631336 |\n",
      "Epoch:  54%|█████▍    | 108/200 [00:41<00:34,  2.64it/s]\n",
      "EP_107 | train loss: 0.27157851153729007 | val loss: 0.2685328908995086 |\n",
      "Epoch:  55%|█████▍    | 109/200 [00:42<00:34,  2.65it/s]\n",
      "EP_108 | train loss: 0.2691525403191062 | val loss: 0.2593519208477993 |\n",
      "Epoch:  55%|█████▌    | 110/200 [00:42<00:33,  2.66it/s]\n",
      "EP_109 | train loss: 0.26738377178416534 | val loss: 0.2551412880420685 |\n",
      "Epoch:  56%|█████▌    | 111/200 [00:42<00:33,  2.62it/s]\n",
      "EP_110 | train loss: 0.26031831339293837 | val loss: 0.2595510798342088 |\n",
      "Epoch:  56%|█████▌    | 112/200 [00:43<00:33,  2.62it/s]\n",
      "EP_111 | train loss: 0.2538853416255876 | val loss: 0.24829182087206372 |\n",
      "Epoch:  56%|█████▋    | 113/200 [00:43<00:33,  2.62it/s]\n",
      "EP_112 | train loss: 0.28641196559457216 | val loss: 0.2647193144349491 |\n",
      "Epoch:  57%|█████▋    | 114/200 [00:44<00:32,  2.64it/s]\n",
      "EP_113 | train loss: 0.2447914665820552 | val loss: 0.24119791154767953 |\n",
      "Epoch:  57%|█████▊    | 115/200 [00:44<00:32,  2.65it/s]\n",
      "EP_114 | train loss: 0.24278099256403307 | val loss: 0.23621942482742608 |\n",
      "Epoch:  58%|█████▊    | 116/200 [00:44<00:32,  2.61it/s]\n",
      "EP_115 | train loss: 0.25826482118344773 | val loss: 0.24129209039258023 |\n",
      "Epoch:  58%|█████▊    | 117/200 [00:45<00:31,  2.63it/s]\n",
      "EP_116 | train loss: 0.23671852233363133 | val loss: 0.22680344067367852 |\n",
      "Epoch:  59%|█████▉    | 118/200 [00:45<00:31,  2.64it/s]\n",
      "EP_117 | train loss: 0.23051297851637298 | val loss: 0.22102432391222784 |\n",
      "Epoch:  60%|█████▉    | 119/200 [00:45<00:30,  2.65it/s]\n",
      "EP_118 | train loss: 0.22744912025975247 | val loss: 0.21802658777610928 |\n",
      "Epoch:  60%|██████    | 120/200 [00:46<00:30,  2.65it/s]\n",
      "EP_119 | train loss: 0.21878260444192327 | val loss: 0.21493859852061553 |\n",
      "Epoch:  60%|██████    | 121/200 [00:46<00:30,  2.62it/s]\n",
      "EP_120 | train loss: 0.212510955099966 | val loss: 0.2112310452788484 |\n",
      "Epoch:  61%|██████    | 122/200 [00:47<00:29,  2.64it/s]\n",
      "EP_121 | train loss: 0.20902347143958597 | val loss: 0.20444121197158216 |\n",
      "Epoch:  62%|██████▏   | 123/200 [00:47<00:29,  2.65it/s]\n",
      "EP_122 | train loss: 0.20604563881369198 | val loss: 0.21003185884625303 |\n",
      "Epoch:  62%|██████▏   | 124/200 [00:47<00:28,  2.64it/s]\n",
      "EP_123 | train loss: 0.21120091513091444 | val loss: 0.1970808096960479 |\n",
      "Epoch:  62%|██████▎   | 125/200 [00:48<00:28,  2.65it/s]\n",
      "EP_124 | train loss: 0.19365872214822208 | val loss: 0.18951592608994128 |\n",
      "Epoch:  63%|██████▎   | 126/200 [00:48<00:28,  2.62it/s]\n",
      "EP_125 | train loss: 0.22239338089438046 | val loss: 0.19750993275174908 |\n",
      "Epoch:  64%|██████▎   | 127/200 [00:49<00:27,  2.63it/s]\n",
      "EP_126 | train loss: 0.18919733692617977 | val loss: 0.17664522166345634 |\n",
      "Epoch:  64%|██████▍   | 128/200 [00:49<00:28,  2.55it/s]\n",
      "EP_127 | train loss: 0.18176785637350643 | val loss: 0.1730532979263979 |\n",
      "Epoch:  64%|██████▍   | 129/200 [00:49<00:27,  2.57it/s]\n",
      "EP_128 | train loss: 0.18048133826723287 | val loss: 0.16790740805513718 |\n",
      "Epoch:  65%|██████▌   | 130/200 [00:50<00:26,  2.60it/s]\n",
      "EP_129 | train loss: 0.1809893163980222 | val loss: 0.1656541456194485 |\n",
      "Epoch:  66%|██████▌   | 131/200 [00:50<00:26,  2.59it/s]\n",
      "EP_130 | train loss: 0.16392960501652137 | val loss: 0.15637172378745734 |\n",
      "Epoch:  66%|██████▌   | 132/200 [00:50<00:26,  2.60it/s]\n",
      "EP_131 | train loss: 0.17415830013798733 | val loss: 0.15565429248061835 |\n",
      "Epoch:  66%|██████▋   | 133/200 [00:51<00:25,  2.62it/s]\n",
      "EP_132 | train loss: 0.15552680165159935 | val loss: 0.14594603110762203 |\n",
      "Epoch:  67%|██████▋   | 134/200 [00:51<00:25,  2.63it/s]\n",
      "EP_133 | train loss: 0.15407573382059733 | val loss: 0.1440853605083391 |\n",
      "Epoch:  68%|██████▊   | 135/200 [00:52<00:24,  2.65it/s]\n",
      "EP_134 | train loss: 0.14645275602153704 | val loss: 0.13575815803864422 |\n",
      "Epoch:  68%|██████▊   | 136/200 [00:52<00:24,  2.60it/s]\n",
      "EP_135 | train loss: 0.15909772246491674 | val loss: 0.14260698884141212 |\n",
      "Epoch:  68%|██████▊   | 137/200 [00:52<00:23,  2.63it/s]\n",
      "EP_136 | train loss: 0.16844549833559522 | val loss: 0.1477030352050183 |\n",
      "Epoch:  69%|██████▉   | 138/200 [00:53<00:23,  2.64it/s]\n",
      "EP_137 | train loss: 0.1316112569734162 | val loss: 0.12442546031054329 |\n",
      "Epoch:  70%|██████▉   | 139/200 [00:53<00:22,  2.66it/s]\n",
      "EP_138 | train loss: 0.12561233955271103 | val loss: 0.11880379506185942 |\n",
      "Epoch:  70%|███████   | 140/200 [00:53<00:22,  2.66it/s]\n",
      "EP_139 | train loss: 0.13255663151834526 | val loss: 0.11868353567871393 |\n",
      "Epoch:  70%|███████   | 141/200 [00:54<00:22,  2.63it/s]\n",
      "EP_140 | train loss: 0.12298571175219966 | val loss: 0.12424753927717022 |\n",
      "Epoch:  71%|███████   | 142/200 [00:54<00:21,  2.64it/s]\n",
      "EP_141 | train loss: 0.11251802830135121 | val loss: 0.10641494802400178 |\n",
      "Epoch:  72%|███████▏  | 143/200 [00:55<00:21,  2.66it/s]\n",
      "EP_142 | train loss: 0.10873892541025199 | val loss: 0.10189076849058562 |\n",
      "Epoch:  72%|███████▏  | 144/200 [00:55<00:21,  2.64it/s]\n",
      "EP_143 | train loss: 0.1019697624094346 | val loss: 0.09906206265384075 |\n",
      "Epoch:  72%|███████▎  | 145/200 [00:55<00:20,  2.63it/s]\n",
      "EP_144 | train loss: 0.12116797811844769 | val loss: 0.13130641100453397 |\n",
      "Epoch:  73%|███████▎  | 146/200 [00:56<00:20,  2.60it/s]\n",
      "EP_145 | train loss: 0.1013924054071015 | val loss: 0.09498350526772294 |\n",
      "Epoch:  74%|███████▎  | 147/200 [00:56<00:20,  2.61it/s]\n",
      "EP_146 | train loss: 0.09094704646690219 | val loss: 0.09144017801565282 |\n",
      "Epoch:  74%|███████▍  | 148/200 [00:57<00:19,  2.61it/s]\n",
      "EP_147 | train loss: 0.1025610699373133 | val loss: 0.09126617218933854 |\n",
      "Epoch:  74%|███████▍  | 149/200 [00:57<00:19,  2.63it/s]\n",
      "EP_148 | train loss: 0.10989039598726759 | val loss: 0.11881993915520463 |\n",
      "Epoch:  75%|███████▌  | 150/200 [00:57<00:18,  2.64it/s]\n",
      "EP_149 | train loss: 0.08439718777058171 | val loss: 0.08471131470857882 |\n",
      "Epoch:  76%|███████▌  | 151/200 [00:58<00:18,  2.60it/s]\n",
      "EP_150 | train loss: 0.07770625411295423 | val loss: 0.07774027802196204 |\n",
      "Epoch:  76%|███████▌  | 152/200 [00:58<00:18,  2.61it/s]\n",
      "EP_151 | train loss: 0.0735440243692959 | val loss: 0.07303370856771282 |\n",
      "Epoch:  76%|███████▋  | 153/200 [00:58<00:17,  2.62it/s]\n",
      "EP_152 | train loss: 0.07813393602184221 | val loss: 0.08272496654706843 |\n",
      "Epoch:  77%|███████▋  | 154/200 [00:59<00:17,  2.63it/s]\n",
      "EP_153 | train loss: 0.06937682839000926 | val loss: 0.06747212538532182 |\n",
      "Epoch:  78%|███████▊  | 155/200 [00:59<00:17,  2.63it/s]\n",
      "EP_154 | train loss: 0.09071857905855366 | val loss: 0.07985571903340957 |\n",
      "Epoch:  78%|███████▊  | 156/200 [01:00<00:17,  2.59it/s]\n",
      "EP_155 | train loss: 0.06366945551890953 | val loss: 0.06404938855591942 |\n",
      "Epoch:  78%|███████▊  | 157/200 [01:00<00:16,  2.60it/s]\n",
      "EP_156 | train loss: 0.08651689781862147 | val loss: 0.08127451527352426 |\n",
      "Epoch:  79%|███████▉  | 158/200 [01:00<00:16,  2.62it/s]\n",
      "EP_157 | train loss: 0.057669293997334496 | val loss: 0.05643018028315376 |\n",
      "Epoch:  80%|███████▉  | 159/200 [01:01<00:15,  2.61it/s]\n",
      "EP_158 | train loss: 0.05549297028896855 | val loss: 0.05549712070063049 |\n",
      "Epoch:  80%|████████  | 160/200 [01:01<00:15,  2.61it/s]\n",
      "EP_159 | train loss: 0.05995782286513086 | val loss: 0.06364335295032053 |\n",
      "Epoch:  80%|████████  | 161/200 [01:02<00:15,  2.59it/s]\n",
      "EP_160 | train loss: 0.05869937352105683 | val loss: 0.06588177879651387 |\n",
      "Epoch:  81%|████████  | 162/200 [01:02<00:14,  2.60it/s]\n",
      "EP_161 | train loss: 0.049982768589375066 | val loss: 0.050857162943073346 |\n",
      "Epoch:  82%|████████▏ | 163/200 [01:02<00:14,  2.61it/s]\n",
      "EP_162 | train loss: 0.05125147022453009 | val loss: 0.05119498921375649 |\n",
      "Epoch:  82%|████████▏ | 164/200 [01:03<00:13,  2.62it/s]\n",
      "EP_163 | train loss: 0.05000975950091493 | val loss: 0.04828351239363352 |\n",
      "Epoch:  82%|████████▎ | 165/200 [01:03<00:13,  2.62it/s]\n",
      "EP_164 | train loss: 0.04324498363569671 | val loss: 0.044597970358296934 |\n",
      "Epoch:  83%|████████▎ | 166/200 [01:03<00:13,  2.59it/s]\n",
      "EP_165 | train loss: 0.04877771583257937 | val loss: 0.04605595095484864 |\n",
      "Epoch:  84%|████████▎ | 167/200 [01:04<00:12,  2.60it/s]\n",
      "EP_166 | train loss: 0.04084308790225609 | val loss: 0.042699267466863 |\n",
      "Epoch:  84%|████████▍ | 168/200 [01:04<00:12,  2.61it/s]\n",
      "EP_167 | train loss: 0.04141047374874938 | val loss: 0.04115141110092986 |\n",
      "Epoch:  84%|████████▍ | 169/200 [01:05<00:11,  2.62it/s]\n",
      "EP_168 | train loss: 0.054703556673199524 | val loss: 0.053603007512934064 |\n",
      "Epoch:  85%|████████▌ | 170/200 [01:05<00:11,  2.63it/s]\n",
      "EP_169 | train loss: 0.09233891402973848 | val loss: 0.09163032092300116 |\n",
      "Epoch:  86%|████████▌ | 171/200 [01:05<00:11,  2.59it/s]\n",
      "EP_170 | train loss: 0.05409234189519695 | val loss: 0.052545879401412664 |\n",
      "Epoch:  86%|████████▌ | 172/200 [01:06<00:10,  2.60it/s]\n",
      "EP_171 | train loss: 0.0369356538735184 | val loss: 0.03705866079704434 |\n",
      "Epoch:  86%|████████▋ | 173/200 [01:06<00:10,  2.61it/s]\n",
      "EP_172 | train loss: 0.03506198975385404 | val loss: 0.035480771725084265 |\n",
      "Epoch:  87%|████████▋ | 174/200 [01:06<00:09,  2.62it/s]\n",
      "EP_173 | train loss: 0.03507094541016747 | val loss: 0.03417391841318093 |\n",
      "Epoch:  88%|████████▊ | 175/200 [01:07<00:09,  2.63it/s]\n",
      "EP_174 | train loss: 0.04510652411217783 | val loss: 0.041616963405235144 |\n",
      "Epoch:  88%|████████▊ | 176/200 [01:07<00:09,  2.59it/s]\n",
      "EP_175 | train loss: 0.02934072748118756 | val loss: 0.03285286414857004 |\n",
      "Epoch:  88%|████████▊ | 177/200 [01:08<00:08,  2.60it/s]\n",
      "EP_176 | train loss: 0.03003836846819111 | val loss: 0.03286300453485227 |\n",
      "Epoch:  89%|████████▉ | 178/200 [01:08<00:08,  2.60it/s]\n",
      "EP_177 | train loss: 0.02666352549019982 | val loss: 0.02878021638767392 |\n",
      "Epoch:  90%|████████▉ | 179/200 [01:08<00:08,  2.62it/s]\n",
      "EP_178 | train loss: 0.06978782263456607 | val loss: 0.06263839643375546 |\n",
      "Epoch:  90%|█████████ | 180/200 [01:09<00:07,  2.61it/s]\n",
      "EP_179 | train loss: 0.026671565835382424 | val loss: 0.02772483726342519 |\n",
      "Epoch:  90%|█████████ | 181/200 [01:09<00:07,  2.58it/s]\n",
      "EP_180 | train loss: 0.02803325138840021 | val loss: 0.028459015138009015 |\n",
      "Epoch:  91%|█████████ | 182/200 [01:10<00:06,  2.60it/s]\n",
      "EP_181 | train loss: 0.024254269751847957 | val loss: 0.026609479942742514 |\n",
      "Epoch:  92%|█████████▏| 183/200 [01:10<00:06,  2.60it/s]\n",
      "EP_182 | train loss: 0.024674931928223256 | val loss: 0.027950573201273 |\n",
      "Epoch:  92%|█████████▏| 184/200 [01:10<00:06,  2.62it/s]\n",
      "EP_183 | train loss: 0.03168697661044551 | val loss: 0.031738479493879805 |\n",
      "Epoch:  92%|█████████▎| 185/200 [01:11<00:05,  2.64it/s]\n",
      "EP_184 | train loss: 0.021683375215997884 | val loss: 0.02490816024296424 |\n",
      "Epoch:  93%|█████████▎| 186/200 [01:11<00:05,  2.60it/s]\n",
      "EP_185 | train loss: 0.02102916480279436 | val loss: 0.025382936000823975 |\n",
      "Epoch:  94%|█████████▎| 187/200 [01:11<00:04,  2.62it/s]\n",
      "EP_186 | train loss: 0.019989128498470083 | val loss: 0.022947958287070778 |\n",
      "Epoch:  94%|█████████▍| 188/200 [01:12<00:04,  2.62it/s]\n",
      "EP_187 | train loss: 0.019290662337751948 | val loss: 0.02229255101844376 |\n",
      "Epoch:  94%|█████████▍| 189/200 [01:12<00:04,  2.63it/s]\n",
      "EP_188 | train loss: 0.03857321306770923 | val loss: 0.03699934248830758 |\n",
      "Epoch:  95%|█████████▌| 190/200 [01:13<00:03,  2.64it/s]\n",
      "EP_189 | train loss: 0.01898986486827626 | val loss: 0.021031774288299037 |\n",
      "Epoch:  96%|█████████▌| 191/200 [01:13<00:03,  2.58it/s]\n",
      "EP_190 | train loss: 0.02699062304169524 | val loss: 0.02623371633828855 |\n",
      "Epoch:  96%|█████████▌| 192/200 [01:13<00:03,  2.60it/s]\n",
      "EP_191 | train loss: 0.018816355805771023 | val loss: 0.020756471317772772 |\n",
      "Epoch:  96%|█████████▋| 193/200 [01:14<00:02,  2.61it/s]\n",
      "EP_192 | train loss: 0.016492511624214695 | val loss: 0.019593205083818996 |\n",
      "Epoch:  97%|█████████▋| 194/200 [01:14<00:02,  2.62it/s]\n",
      "EP_193 | train loss: 0.019629544750148175 | val loss: 0.020745636639641782 |\n",
      "Epoch:  98%|█████████▊| 195/200 [01:15<00:01,  2.63it/s]\n",
      "EP_194 | train loss: 0.01609766924498128 | val loss: 0.019452586989192402 |\n",
      "Epoch:  98%|█████████▊| 196/200 [01:15<00:01,  2.59it/s]\n",
      "EP_195 | train loss: 0.01549547820114622 | val loss: 0.017425234411277024 |\n",
      "Epoch:  98%|█████████▊| 197/200 [01:15<00:01,  2.62it/s]\n",
      "EP_196 | train loss: 0.015715206049236596 | val loss: 0.018423625943707486 |\n",
      "Epoch:  99%|█████████▉| 198/200 [01:16<00:00,  2.63it/s]\n",
      "EP_197 | train loss: 0.03223452936200535 | val loss: 0.031916323245740404 |\n",
      "Epoch: 100%|█████████▉| 199/200 [01:16<00:00,  2.64it/s]\n",
      "EP_198 | train loss: 0.014580325840734968 | val loss: 0.01671034725857716 |\n",
      "Epoch: 100%|██████████| 200/200 [01:16<00:00,  2.60it/s]\n",
      "EP_199 | train loss: 0.014578009732798033 | val loss: 0.017568228583709867 |\n",
      "\n"
     ]
    }
   ],
   "source": [
    "AttractiveTrainer.train()"
   ]
  },
  {
   "cell_type": "markdown",
   "metadata": {},
   "source": [
    "## for classification, not better"
   ]
  },
  {
   "cell_type": "markdown",
   "metadata": {},
   "source": [
    "## Below is testing"
   ]
  },
  {
   "cell_type": "code",
   "execution_count": 8,
   "metadata": {},
   "outputs": [
    {
     "output_type": "execute_result",
     "data": {
      "text/plain": [
       "AttractiveNet(\n",
       "  (embedding): AttractiveEmbedding(\n",
       "    (token): TokenEmbedding(12699, 300, padding_idx=1)\n",
       "  )\n",
       "  (bigramcnn): Sequential(\n",
       "    (0): Conv1d(300, 200, kernel_size=(2,), stride=(1,), padding=(1,))\n",
       "    (1): ReLU()\n",
       "    (2): Conv1d(200, 100, kernel_size=(2,), stride=(1,), padding=(1,))\n",
       "    (3): ReLU()\n",
       "    (4): Dropout(p=0.5, inplace=False)\n",
       "  )\n",
       "  (trigramcnn): Sequential(\n",
       "    (0): Conv1d(300, 200, kernel_size=(3,), stride=(1,), padding=(1,))\n",
       "    (1): ReLU()\n",
       "    (2): Conv1d(200, 100, kernel_size=(3,), stride=(1,), padding=(1,))\n",
       "    (3): ReLU()\n",
       "    (4): Dropout(p=0.5, inplace=False)\n",
       "  )\n",
       "  (encoder_bigram_first): LSTM(100, 30, batch_first=True, dropout=0.5, bidirectional=True)\n",
       "  (encoder_trigram_first): LSTM(100, 30, batch_first=True, dropout=0.5, bidirectional=True)\n",
       "  (linear): Sequential(\n",
       "    (0): Linear(in_features=124, out_features=30, bias=True)\n",
       "    (1): ReLU()\n",
       "    (2): Linear(in_features=30, out_features=1, bias=True)\n",
       "  )\n",
       ")"
      ]
     },
     "metadata": {},
     "execution_count": 8
    }
   ],
   "source": [
    "from attractivenet import AttractiveNet\n",
    "\n",
    "PATH = './model/CNN_LSTM_20201107-161643/0.353380.85'\n",
    "\n",
    "load_model = AttractiveNet(config).to(AttractiveData.device)\n",
    "load_model.load_state_dict(torch.load(PATH))\n",
    "load_model.eval()"
   ]
  },
  {
   "cell_type": "code",
   "execution_count": 9,
   "metadata": {},
   "outputs": [],
   "source": [
    "def predict_attractive(sentence, category, phase):\n",
    "    indexed_sentence = [AttractiveData.TEXT.vocab.stoi[t] for t in sentence]\n",
    "    indexed_category = [AttractiveData.CATEGORIES_LABEL.vocab.stoi[category]]\n",
    "    tensor_sentence = torch.LongTensor(indexed_sentence).to(AttractiveData.device)\n",
    "    tensor_category = torch.LongTensor(indexed_category).to(AttractiveData.device)\n",
    "\n",
    "    tensor_sentence = tensor_sentence.unsqueeze(0)\n",
    "    # print(tensor_sentence.shape)\n",
    "\n",
    "    prediction = load_model(tensor_sentence, tensor_category, phase=phase)\n",
    "\n",
    "    return prediction"
   ]
  },
  {
   "cell_type": "code",
   "execution_count": 10,
   "metadata": {
    "tags": []
   },
   "outputs": [],
   "source": [
    "# train mean = 3.15, test mean = 2.8\n",
    "predict_list = []\n",
    "with torch.no_grad():\n",
    "    for i, sentence in enumerate(AttractiveData.test_data):\n",
    "        prediction = predict_attractive(sentence.Headline, sentence.Category, 'test')\n",
    "        predict_list.append(prediction.item())\n",
    "        # predict_list.append(prediction.item())\n",
    "AttractiveData.df_test['Label'] = predict_list\n",
    "AttractiveData.df_test[['ID', 'Label']].to_csv(config['save_name'] + '.csv', index=False)"
   ]
  },
  {
   "cell_type": "markdown",
   "metadata": {},
   "source": [
    "## Below for statistics"
   ]
  },
  {
   "cell_type": "code",
   "execution_count": 11,
   "metadata": {},
   "outputs": [],
   "source": [
    "import statistics\n",
    "from sklearn.metrics import mean_squared_error"
   ]
  },
  {
   "cell_type": "code",
   "execution_count": 12,
   "metadata": {},
   "outputs": [],
   "source": [
    "# # train mean = 3.15, test mean = 2.8\n",
    "# train_list = []\n",
    "# for i, sentence in enumerate(AttractiveData.train_data):\n",
    "#     prediction = predict_attractive(sentence.Headline, sentence.Category, 'train')\n",
    "#     train_list.append(prediction.item())\n",
    "#     # train_list.append(prediction.item())\n",
    "# # print(train_list)\n",
    "# mean_squared_error(pd.read_csv('data/train.csv').sort_values(['ID']).Label.to_list(), train_list), statistics.mean(train_list), statistics.stdev(train_list)"
   ]
  },
  {
   "cell_type": "code",
   "execution_count": 13,
   "metadata": {},
   "outputs": [],
   "source": [
    "# train_list[0:5], pd.read_csv('data/train.csv').sort_values(['ID']).Label.to_list()[0:5]"
   ]
  },
  {
   "cell_type": "code",
   "execution_count": 14,
   "metadata": {},
   "outputs": [],
   "source": [
    "# a = AttractiveData.df_train['Label'].to_list()\n",
    "# statistics.mean(a), statistics.stdev(a)"
   ]
  },
  {
   "cell_type": "code",
   "execution_count": 15,
   "metadata": {},
   "outputs": [
    {
     "output_type": "execute_result",
     "data": {
      "text/plain": [
       "(2.8418143005623167, 0.36585372759094903)"
      ]
     },
     "metadata": {},
     "execution_count": 15
    }
   ],
   "source": [
    "statistics.mean(predict_list), statistics.stdev(predict_list)"
   ]
  },
  {
   "cell_type": "code",
   "execution_count": 16,
   "metadata": {},
   "outputs": [
    {
     "output_type": "execute_result",
     "data": {
      "text/plain": [
       "(0.012145479063490517, 2.774164993857497, 0.3615900775742119)"
      ]
     },
     "metadata": {},
     "execution_count": 16
    }
   ],
   "source": [
    "baseline_list = pd.read_csv('baseline.csv').sort_values(['ID']).Label.to_list()\n",
    "mean_squared_error(baseline_list, predict_list), statistics.mean(baseline_list), statistics.stdev(baseline_list)"
   ]
  },
  {
   "cell_type": "code",
   "execution_count": null,
   "metadata": {},
   "outputs": [],
   "source": []
  },
  {
   "cell_type": "code",
   "execution_count": 18,
   "metadata": {},
   "outputs": [
    {
     "data": {
      "text/plain": [
       "0.1609754968529207"
      ]
     },
     "execution_count": 18,
     "metadata": {},
     "output_type": "execute_result"
    }
   ],
   "source": [
    "mean_squared_error(pd.read_csv('baseline.csv').sort_values(['ID']).Label.to_list(), pd.read_csv('./predict/ensemble.csv').sort_values(['ID']).Label.to_list())"
   ]
  },
  {
   "cell_type": "code",
   "execution_count": 10,
   "metadata": {},
   "outputs": [],
   "source": [
    "from sklearn.model_selection import KFold\n",
    "import numpy as np"
   ]
  },
  {
   "cell_type": "code",
   "execution_count": 11,
   "metadata": {},
   "outputs": [],
   "source": []
  },
  {
   "cell_type": "code",
   "execution_count": 12,
   "metadata": {},
   "outputs": [
    {
     "data": {
      "text/plain": [
       "2040"
      ]
     },
     "execution_count": 12,
     "metadata": {},
     "output_type": "execute_result"
    }
   ],
   "source": [
    "len(AttractiveData.train_data.examples)"
   ]
  },
  {
   "cell_type": "code",
   "execution_count": 13,
   "metadata": {},
   "outputs": [],
   "source": []
  },
  {
   "cell_type": "code",
   "execution_count": null,
   "metadata": {},
   "outputs": [],
   "source": []
  }
 ],
 "metadata": {
  "kernelspec": {
   "display_name": "DS_hw2",
   "language": "python",
   "name": "ds_hw2"
  },
  "language_info": {
   "codemirror_mode": {
    "name": "ipython",
    "version": 3
   },
   "file_extension": ".py",
   "mimetype": "text/x-python",
   "name": "python",
   "nbconvert_exporter": "python",
   "pygments_lexer": "ipython3",
   "version": "3.6.12-final"
  }
 },
 "nbformat": 4,
 "nbformat_minor": 4
}