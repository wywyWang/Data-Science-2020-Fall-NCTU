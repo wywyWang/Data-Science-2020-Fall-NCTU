{
 "cells": [
  {
   "cell_type": "code",
   "execution_count": 1,
   "metadata": {},
   "outputs": [],
   "source": [
    "# common packages\n",
    "import pandas as pd\n",
    "import time\n",
    "\n",
    "# # DL framework\n",
    "import torch\n",
    "from torchtext import data\n",
    "\n",
    "from attractivedata import AttractiveData\n",
    "from trainer import AttractiveTrainer"
   ]
  },
  {
   "cell_type": "code",
   "execution_count": 2,
   "metadata": {},
   "outputs": [],
   "source": [
    "seed_value = 42\n",
    "torch.manual_seed(seed_value)\n",
    "torch.cuda.manual_seed(seed_value)\n",
    "torch.cuda.manual_seed_all(seed_value) # gpu vars\n",
    "# torch.backends.cudnn.deterministic = True  #needed\n",
    "# torch.backends.cudnn.benchmark = False"
   ]
  },
  {
   "cell_type": "markdown",
   "metadata": {},
   "source": [
    "## Load and prepare data"
   ]
  },
  {
   "cell_type": "code",
   "execution_count": 3,
   "metadata": {},
   "outputs": [],
   "source": [
    "train_file = 'data/train.csv'\n",
    "val_file = 'data/val.csv'\n",
    "test_file = 'data/test.csv'\n",
    "pretrained_file = 'glove.840B.300d'\n",
    "config = {\n",
    "    'max_seq': 40,\n",
    "    'min_freq': 0,\n",
    "    'batch_size': 64,\n",
    "    'pretrained_file': pretrained_file\n",
    "}\n"
   ]
  },
  {
   "cell_type": "code",
   "execution_count": 4,
   "metadata": {},
   "outputs": [],
   "source": [
    "AttractiveData = AttractiveData(train_file, val_file, test_file, pretrained_file, config)"
   ]
  },
  {
   "cell_type": "markdown",
   "metadata": {},
   "source": [
    "## Start to train"
   ]
  },
  {
   "cell_type": "code",
   "execution_count": 5,
   "metadata": {},
   "outputs": [
    {
     "output_type": "stream",
     "name": "stdout",
     "text": [
      "torch.Size([12699, 300])\n"
     ]
    }
   ],
   "source": [
    "config['timestr'] = time.strftime(\"%Y%m%d-%H%M%S\")\n",
    "config['save_name'] = 'CNN_LSTM'\n",
    "config['input_dim'] = len(AttractiveData.TEXT.vocab)\n",
    "config['embedding_dim'] = 300\n",
    "config['category_dim'] = len(AttractiveData.CATEGORIES_LABEL.vocab)\n",
    "config['category_embedding_dim'] = 10\n",
    "config['hidden_dim'] = 30\n",
    "config['output_dim'] = 1\n",
    "config['log_steps'] = 10\n",
    "config['epochs'] = 150\n",
    "config['lr'] = {\n",
    "    'encoder': 1e-5,\n",
    "    'embedding': 6e-6,\n",
    "    'linear': 1e-5\n",
    "}\n",
    "config['num_layers'] = 1\n",
    "config['kernel_size'] = 3\n",
    "config['dropout'] = 0.5\n",
    "config['train_len'] = AttractiveData.train_len\n",
    "config['val_len'] = AttractiveData.val_len\n",
    "config['test_len'] = AttractiveData.test_len\n",
    "\n",
    "pretrained_embeddings = AttractiveData.TEXT.vocab.vectors\n",
    "print(pretrained_embeddings.shape)"
   ]
  },
  {
   "cell_type": "code",
   "execution_count": 6,
   "metadata": {},
   "outputs": [],
   "source": [
    "AttractiveTrainer = AttractiveTrainer(config, AttractiveData.device, AttractiveData.trainloader, AttractiveData.valloader, pretrained_embeddings)"
   ]
  },
  {
   "cell_type": "code",
   "execution_count": 7,
   "metadata": {},
   "outputs": [
    {
     "output_type": "execute_result",
     "data": {
      "text/plain": [
       "(AttractiveNet(\n",
       "   (embedding): AttractiveEmbedding(\n",
       "     (token): TokenEmbedding(12699, 300, padding_idx=1)\n",
       "   )\n",
       "   (bigramcnn): Sequential(\n",
       "     (0): Conv1d(300, 210, kernel_size=(2,), stride=(1,), padding=(1,))\n",
       "     (1): ReLU()\n",
       "     (2): Conv1d(210, 100, kernel_size=(2,), stride=(1,), padding=(1,))\n",
       "     (3): ReLU()\n",
       "     (4): Dropout(p=0.5, inplace=False)\n",
       "   )\n",
       "   (trigramcnn): Sequential(\n",
       "     (0): Conv1d(300, 210, kernel_size=(3,), stride=(1,), padding=(1,))\n",
       "     (1): ReLU()\n",
       "     (2): Conv1d(210, 100, kernel_size=(3,), stride=(1,), padding=(1,))\n",
       "     (3): ReLU()\n",
       "     (4): Dropout(p=0.5, inplace=False)\n",
       "   )\n",
       "   (encoder_bigram): LSTM(100, 30, batch_first=True, dropout=0.5, bidirectional=True)\n",
       "   (encoder_trigram): LSTM(100, 30, batch_first=True, dropout=0.5, bidirectional=True)\n",
       "   (linear): Sequential(\n",
       "     (0): Linear(in_features=128, out_features=30, bias=True)\n",
       "     (1): ReLU()\n",
       "     (2): Linear(in_features=30, out_features=1, bias=True)\n",
       "   )\n",
       " ),\n",
       " 4297581,\n",
       " 4297581)"
      ]
     },
     "metadata": {},
     "execution_count": 7
    }
   ],
   "source": [
    "AttractiveTrainer.model, AttractiveTrainer.config['total_params'], AttractiveTrainer.config['total_learned_params']"
   ]
  },
  {
   "cell_type": "code",
   "execution_count": 8,
   "metadata": {
    "tags": []
   },
   "outputs": [
    {
     "output_type": "stream",
     "name": "stderr",
     "text": [
      "Epoch:   1%|          | 1/150 [00:00<01:01,  2.43it/s]\n",
      "EP_0 | train loss: 2.8139138838824103 | val loss: 3.3012226890115177 |\n",
      "Epoch:   1%|▏         | 2/150 [00:00<00:59,  2.47it/s]\n",
      "EP_1 | train loss: 0.585895533655204 | val loss: 0.6941369701834286 |\n",
      "Epoch:   2%|▏         | 3/150 [00:01<00:58,  2.49it/s]\n",
      "EP_2 | train loss: 0.6016720079908184 | val loss: 0.663227354778963 |\n",
      "Epoch:   3%|▎         | 4/150 [00:01<00:58,  2.51it/s]\n",
      "EP_3 | train loss: 0.5851634689405852 | val loss: 0.6516949733098348 |\n",
      "Epoch:   3%|▎         | 5/150 [00:01<00:57,  2.52it/s]\n",
      "EP_4 | train loss: 0.5818763760959401 | val loss: 0.6392179376938764 |\n",
      "Epoch:   4%|▍         | 6/150 [00:02<00:57,  2.49it/s]\n",
      "EP_5 | train loss: 0.5670468461279775 | val loss: 0.6288018764234057 |\n",
      "Epoch:   5%|▍         | 7/150 [00:02<00:59,  2.42it/s]\n",
      "EP_6 | train loss: 0.564538252587412 | val loss: 0.6142617253696218 |\n",
      "Epoch:   5%|▌         | 8/150 [00:03<00:57,  2.45it/s]\n",
      "EP_7 | train loss: 0.5563296318054199 | val loss: 0.606033582313388 |\n",
      "Epoch:   6%|▌         | 9/150 [00:03<00:56,  2.50it/s]\n",
      "EP_8 | train loss: 0.5609740668652105 | val loss: 0.592766752430037 |\n",
      "Epoch:   7%|▋         | 10/150 [00:04<00:56,  2.46it/s]\n",
      "EP_9 | train loss: 0.5481322166966457 | val loss: 0.5870179569019991 |\n",
      "Epoch:   7%|▋         | 11/150 [00:04<00:57,  2.42it/s]\n",
      "EP_10 | train loss: 0.5448629893508612 | val loss: 0.5759714701596428 |\n",
      "Epoch:   8%|▊         | 12/150 [00:04<00:55,  2.46it/s]\n",
      "EP_11 | train loss: 0.5510779764138016 | val loss: 0.5646425064872292 |\n",
      "Epoch:   9%|▊         | 13/150 [00:05<00:55,  2.49it/s]\n",
      "EP_12 | train loss: 0.544537363800348 | val loss: 0.5578683193992166 |\n",
      "Epoch:   9%|▉         | 14/150 [00:05<00:54,  2.50it/s]\n",
      "EP_13 | train loss: 0.5519450739318249 | val loss: 0.5484204011804917 |\n",
      "Epoch:  10%|█         | 15/150 [00:06<00:53,  2.52it/s]\n",
      "EP_14 | train loss: 0.5471393921796013 | val loss: 0.5414558298447553 |\n",
      "Epoch:  11%|█         | 16/150 [00:06<00:52,  2.54it/s]\n",
      "EP_15 | train loss: 0.5403883971419989 | val loss: 0.5362096253563376 |\n",
      "Epoch:  11%|█▏        | 17/150 [00:06<00:53,  2.49it/s]\n",
      "EP_16 | train loss: 0.5294032433453728 | val loss: 0.5347267249051262 |\n",
      "Epoch:  12%|█▏        | 18/150 [00:07<00:52,  2.51it/s]\n",
      "EP_17 | train loss: 0.5365566468706318 | val loss: 0.5242433150609335 |\n",
      "Epoch:  13%|█▎        | 19/150 [00:07<00:51,  2.54it/s]\n",
      "EP_18 | train loss: 0.5381820070977305 | val loss: 0.518706761154474 |\n",
      "Epoch:  13%|█▎        | 20/150 [00:07<00:51,  2.55it/s]\n",
      "EP_19 | train loss: 0.5210274088616464 | val loss: 0.514634793879939 |\n",
      "Epoch:  14%|█▍        | 21/150 [00:08<00:51,  2.53it/s]\n",
      "EP_20 | train loss: 0.5273405860452091 | val loss: 0.5080796258122313 |\n",
      "Epoch:  15%|█▍        | 22/150 [00:08<00:50,  2.54it/s]\n",
      "EP_21 | train loss: 0.523375373728135 | val loss: 0.5017540197746426 |\n",
      "Epoch:  15%|█▌        | 23/150 [00:09<00:49,  2.56it/s]\n",
      "EP_22 | train loss: 0.5177377252017751 | val loss: 0.495710810025533 |\n",
      "Epoch:  16%|█▌        | 24/150 [00:09<00:48,  2.58it/s]\n",
      "EP_23 | train loss: 0.5124214452855728 | val loss: 0.49123283110412896 |\n",
      "Epoch:  17%|█▋        | 25/150 [00:09<00:48,  2.58it/s]\n",
      "EP_24 | train loss: 0.5101540902081658 | val loss: 0.4847852985064189 |\n",
      "Epoch:  17%|█▋        | 26/150 [00:10<00:47,  2.59it/s]\n",
      "EP_25 | train loss: 0.506128340141446 | val loss: 0.48064200200286566 |\n",
      "Epoch:  18%|█▊        | 27/150 [00:10<00:47,  2.59it/s]\n",
      "EP_26 | train loss: 0.5037600133933273 | val loss: 0.47479356503954123 |\n",
      "Epoch:  19%|█▊        | 28/150 [00:11<00:47,  2.59it/s]\n",
      "EP_27 | train loss: 0.5036144247242048 | val loss: 0.46902580588471654 |\n",
      "Epoch:  19%|█▉        | 29/150 [00:11<00:46,  2.59it/s]\n",
      "EP_28 | train loss: 0.4955163095511642 | val loss: 0.46393248380399216 |\n",
      "Epoch:  20%|██        | 30/150 [00:11<00:46,  2.60it/s]\n",
      "EP_29 | train loss: 0.4964471807666853 | val loss: 0.4584257953307208 |\n",
      "Epoch:  21%|██        | 31/150 [00:12<00:46,  2.55it/s]\n",
      "EP_30 | train loss: 0.4942171854131362 | val loss: 0.4529765365170498 |\n",
      "Epoch:  21%|██▏       | 32/150 [00:12<00:45,  2.57it/s]\n",
      "EP_31 | train loss: 0.48890023698993756 | val loss: 0.4478857306873097 |\n",
      "Epoch:  22%|██▏       | 33/150 [00:13<00:45,  2.57it/s]\n",
      "EP_32 | train loss: 0.48853969293482163 | val loss: 0.44235436705981984 |\n",
      "Epoch:  23%|██▎       | 34/150 [00:13<00:45,  2.57it/s]\n",
      "EP_33 | train loss: 0.48264321719898895 | val loss: 0.43586458178127513 |\n",
      "Epoch:  23%|██▎       | 35/150 [00:13<00:44,  2.58it/s]\n",
      "EP_34 | train loss: 0.4781571313446643 | val loss: 0.43029262739069324 |\n",
      "Epoch:  24%|██▍       | 36/150 [00:14<00:44,  2.56it/s]\n",
      "EP_35 | train loss: 0.48027938861472935 | val loss: 0.4267595141541724 |\n",
      "Epoch:  25%|██▍       | 37/150 [00:14<00:43,  2.58it/s]\n",
      "EP_36 | train loss: 0.4668728407691507 | val loss: 0.4188670679634693 |\n",
      "Epoch:  25%|██▌       | 38/150 [00:14<00:43,  2.58it/s]\n",
      "EP_37 | train loss: 0.4643743066226735 | val loss: 0.4134291258512759 |\n",
      "Epoch:  26%|██▌       | 39/150 [00:15<00:43,  2.58it/s]\n",
      "EP_38 | train loss: 0.47070706124399225 | val loss: 0.41189683944571254 |\n",
      "Epoch:  27%|██▋       | 40/150 [00:15<00:42,  2.59it/s]\n",
      "EP_39 | train loss: 0.45856328665041457 | val loss: 0.40269016343004566 |\n",
      "Epoch:  27%|██▋       | 41/150 [00:16<00:42,  2.56it/s]\n",
      "EP_40 | train loss: 0.4564102107403325 | val loss: 0.39774278565949084 |\n",
      "Epoch:  28%|██▊       | 42/150 [00:16<00:41,  2.58it/s]\n",
      "EP_41 | train loss: 0.4547970070558436 | val loss: 0.3938404274921791 |\n",
      "Epoch:  29%|██▊       | 43/150 [00:16<00:41,  2.58it/s]\n",
      "EP_42 | train loss: 0.45403201533298865 | val loss: 0.39088204678367167 |\n",
      "Epoch:  29%|██▉       | 44/150 [00:17<00:40,  2.59it/s]\n",
      "EP_43 | train loss: 0.44675062684451833 | val loss: 0.38399361453804315 |\n",
      "Epoch:  30%|███       | 45/150 [00:17<00:40,  2.59it/s]\n",
      "EP_44 | train loss: 0.44937487770529355 | val loss: 0.3829668205158383 |\n",
      "Epoch:  31%|███       | 46/150 [00:18<00:40,  2.56it/s]\n",
      "EP_45 | train loss: 0.44314817540785845 | val loss: 0.3769410153230031 |\n",
      "Epoch:  31%|███▏      | 47/150 [00:18<00:39,  2.58it/s]\n",
      "EP_46 | train loss: 0.4392256269267961 | val loss: 0.3733098588737787 |\n",
      "Epoch:  32%|███▏      | 48/150 [00:18<00:40,  2.54it/s]\n",
      "EP_47 | train loss: 0.4352856486451392 | val loss: 0.3686457954201044 |\n",
      "Epoch:  33%|███▎      | 49/150 [00:19<00:41,  2.44it/s]\n",
      "EP_48 | train loss: 0.43593457259383855 | val loss: 0.36682433006810206 |\n",
      "Epoch:  33%|███▎      | 50/150 [00:19<00:40,  2.49it/s]\n",
      "EP_49 | train loss: 0.43244045762454764 | val loss: 0.36351364734126074 |\n",
      "Epoch:  34%|███▍      | 51/150 [00:20<00:39,  2.48it/s]\n",
      "EP_50 | train loss: 0.4316922664642334 | val loss: 0.3611577895342135 |\n",
      "Epoch:  35%|███▍      | 52/150 [00:20<00:39,  2.51it/s]\n",
      "EP_51 | train loss: 0.42733637117872053 | val loss: 0.3561493374553381 |\n",
      "Epoch:  35%|███▌      | 53/150 [00:20<00:38,  2.53it/s]\n",
      "EP_52 | train loss: 0.4249157849480124 | val loss: 0.3529728119279824 |\n",
      "Epoch:  36%|███▌      | 54/150 [00:21<00:37,  2.54it/s]\n",
      "EP_53 | train loss: 0.42653815699558634 | val loss: 0.35399828412953543 |\n",
      "Epoch:  37%|███▋      | 55/150 [00:21<00:37,  2.51it/s]\n",
      "EP_54 | train loss: 0.42327693864411 | val loss: 0.3514220130209829 |\n",
      "Epoch:  37%|███▋      | 56/150 [00:22<00:38,  2.45it/s]\n",
      "EP_55 | train loss: 0.41876185828564216 | val loss: 0.34638603119289174 |\n",
      "Epoch:  38%|███▊      | 57/150 [00:22<00:37,  2.48it/s]\n",
      "EP_56 | train loss: 0.4190571252037497 | val loss: 0.3463919495835024 |\n",
      "Epoch:  39%|███▊      | 58/150 [00:22<00:36,  2.51it/s]\n",
      "EP_57 | train loss: 0.41549811550215177 | val loss: 0.3432643337576997 |\n",
      "Epoch:  39%|███▉      | 59/150 [00:23<00:36,  2.48it/s]\n",
      "EP_58 | train loss: 0.41245683875738404 | val loss: 0.34128770349072474 |\n",
      "Epoch:  40%|████      | 60/150 [00:23<00:36,  2.44it/s]\n",
      "EP_59 | train loss: 0.4111391095554127 | val loss: 0.3401671051979065 |\n",
      "Epoch:  41%|████      | 61/150 [00:24<00:36,  2.45it/s]\n",
      "EP_60 | train loss: 0.4062462301815257 | val loss: 0.3367990641032948 |\n",
      "Epoch:  41%|████▏     | 62/150 [00:24<00:35,  2.47it/s]\n",
      "EP_61 | train loss: 0.4047472402161243 | val loss: 0.335557002062891 |\n",
      "Epoch:  42%|████▏     | 63/150 [00:24<00:35,  2.47it/s]\n",
      "EP_62 | train loss: 0.40863849228503657 | val loss: 0.33826934297879535 |\n",
      "Epoch:  43%|████▎     | 64/150 [00:25<00:35,  2.44it/s]\n",
      "EP_63 | train loss: 0.4010005894829245 | val loss: 0.33280182352253035 |\n",
      "Epoch:  43%|████▎     | 65/150 [00:25<00:34,  2.48it/s]\n",
      "EP_64 | train loss: 0.404448434418323 | val loss: 0.3349149723847707 |\n",
      "Epoch:  44%|████▍     | 66/150 [00:26<00:34,  2.44it/s]\n",
      "EP_65 | train loss: 0.4009248429653691 | val loss: 0.33357549590222974 |\n",
      "Epoch:  45%|████▍     | 67/150 [00:26<00:33,  2.45it/s]\n",
      "EP_66 | train loss: 0.39770978198331947 | val loss: 0.3310631548657137 |\n",
      "Epoch:  45%|████▌     | 68/150 [00:26<00:33,  2.46it/s]\n",
      "EP_67 | train loss: 0.3913713202756994 | val loss: 0.3275399389220219 |\n",
      "Epoch:  46%|████▌     | 69/150 [00:27<00:32,  2.49it/s]\n",
      "EP_68 | train loss: 0.39010327657063804 | val loss: 0.32696109075172275 |\n",
      "Epoch:  47%|████▋     | 70/150 [00:27<00:32,  2.46it/s]\n",
      "EP_69 | train loss: 0.3872997330684288 | val loss: 0.32527529141482187 |\n",
      "Epoch:  47%|████▋     | 71/150 [00:28<00:32,  2.42it/s]\n",
      "EP_70 | train loss: 0.3928616729437136 | val loss: 0.3284677080079621 |\n",
      "Epoch:  48%|████▊     | 72/150 [00:28<00:31,  2.46it/s]\n",
      "EP_71 | train loss: 0.3878822420157638 | val loss: 0.32660245661642034 |\n",
      "Epoch:  49%|████▊     | 73/150 [00:29<00:31,  2.47it/s]\n",
      "EP_72 | train loss: 0.39378112157185874 | val loss: 0.3317095964562659 |\n",
      "Epoch:  49%|████▉     | 74/150 [00:29<00:30,  2.46it/s]\n",
      "EP_73 | train loss: 0.38189416586184033 | val loss: 0.32318708242154587 |\n",
      "Epoch:  50%|█████     | 75/150 [00:29<00:30,  2.47it/s]\n",
      "EP_74 | train loss: 0.3765957131105311 | val loss: 0.3199646957949096 |\n",
      "Epoch:  51%|█████     | 76/150 [00:30<00:29,  2.47it/s]\n",
      "EP_75 | train loss: 0.374957919588276 | val loss: 0.3190370313092774 |\n",
      "Epoch:  51%|█████▏    | 77/150 [00:30<00:29,  2.48it/s]\n",
      "EP_76 | train loss: 0.37875709393445184 | val loss: 0.32260967469682883 |\n",
      "Epoch:  52%|█████▏    | 78/150 [00:31<00:29,  2.47it/s]\n",
      "EP_77 | train loss: 0.367652881379221 | val loss: 0.3147950674973282 |\n",
      "Epoch:  53%|█████▎    | 79/150 [00:31<00:28,  2.47it/s]\n",
      "EP_78 | train loss: 0.36898722461625644 | val loss: 0.31635188004549814 |\n",
      "Epoch:  53%|█████▎    | 80/150 [00:31<00:27,  2.50it/s]\n",
      "EP_79 | train loss: 0.36243418571995756 | val loss: 0.3133528682531095 |\n",
      "Epoch:  54%|█████▍    | 81/150 [00:32<00:28,  2.44it/s]\n",
      "EP_80 | train loss: 0.36008911880792355 | val loss: 0.31168823557741504 |\n",
      "Epoch:  55%|█████▍    | 82/150 [00:32<00:27,  2.44it/s]\n",
      "EP_81 | train loss: 0.3565932839524512 | val loss: 0.3099162374057022 |\n",
      "Epoch:  55%|█████▌    | 83/150 [00:33<00:27,  2.47it/s]\n",
      "EP_82 | train loss: 0.3560709705539778 | val loss: 0.3095291221843046 |\n",
      "Epoch:  56%|█████▌    | 84/150 [00:33<00:26,  2.49it/s]\n",
      "EP_83 | train loss: 0.3509477830400654 | val loss: 0.30755216467614266 |\n",
      "Epoch:  57%|█████▋    | 85/150 [00:33<00:26,  2.48it/s]\n",
      "EP_84 | train loss: 0.3467434364206651 | val loss: 0.3058229392650081 |\n",
      "Epoch:  57%|█████▋    | 86/150 [00:34<00:26,  2.44it/s]\n",
      "EP_85 | train loss: 0.3448272985570571 | val loss: 0.30492806785246906 |\n",
      "Epoch:  58%|█████▊    | 87/150 [00:34<00:25,  2.48it/s]\n",
      "EP_86 | train loss: 0.3499418768228269 | val loss: 0.3056135095802008 |\n",
      "Epoch:  59%|█████▊    | 88/150 [00:35<00:25,  2.48it/s]\n",
      "EP_87 | train loss: 0.33838276909846887 | val loss: 0.29995004336039227 |\n",
      "Epoch:  59%|█████▉    | 89/150 [00:35<00:24,  2.46it/s]\n",
      "EP_88 | train loss: 0.3367881433636534 | val loss: 0.2983213762442271 |\n",
      "Epoch:  60%|██████    | 90/150 [00:35<00:24,  2.47it/s]\n",
      "EP_89 | train loss: 0.3333640509960698 | val loss: 0.29722799097790437 |\n",
      "Epoch:  61%|██████    | 91/150 [00:36<00:23,  2.47it/s]\n",
      "EP_90 | train loss: 0.32828430661968155 | val loss: 0.29540035011721594 |\n",
      "Epoch:  61%|██████▏   | 92/150 [00:36<00:23,  2.45it/s]\n",
      "EP_91 | train loss: 0.3263720657311234 | val loss: 0.29349508940004837 |\n",
      "Epoch:  62%|██████▏   | 93/150 [00:37<00:23,  2.44it/s]\n",
      "EP_92 | train loss: 0.3224283961688771 | val loss: 0.291469159079533 |\n",
      "Epoch:  63%|██████▎   | 94/150 [00:37<00:22,  2.47it/s]\n",
      "EP_93 | train loss: 0.32156030524010754 | val loss: 0.2883863197822197 |\n",
      "Epoch:  63%|██████▎   | 95/150 [00:37<00:22,  2.48it/s]\n",
      "EP_94 | train loss: 0.31852157770418654 | val loss: 0.2860964863908057 |\n",
      "Epoch:  64%|██████▍   | 96/150 [00:38<00:22,  2.43it/s]\n",
      "EP_95 | train loss: 0.3165676289913701 | val loss: 0.283578342666813 |\n",
      "Epoch:  65%|██████▍   | 97/150 [00:38<00:21,  2.45it/s]\n",
      "EP_96 | train loss: 0.3130670257643157 | val loss: 0.2818250761312597 |\n",
      "Epoch:  65%|██████▌   | 98/150 [00:39<00:20,  2.49it/s]\n",
      "EP_97 | train loss: 0.3136570813609105 | val loss: 0.2813427722921558 |\n",
      "Epoch:  66%|██████▌   | 99/150 [00:39<00:20,  2.47it/s]\n",
      "EP_98 | train loss: 0.30349150872698016 | val loss: 0.2756831914770837 |\n",
      "Epoch:  67%|██████▋   | 100/150 [00:39<00:20,  2.45it/s]\n",
      "EP_99 | train loss: 0.29883949148888683 | val loss: 0.2740162055866391 |\n",
      "Epoch:  67%|██████▋   | 101/150 [00:40<00:20,  2.39it/s]\n",
      "EP_100 | train loss: 0.30855109364378686 | val loss: 0.27674500030629773 |\n",
      "Epoch:  68%|██████▊   | 102/150 [00:40<00:19,  2.42it/s]\n",
      "EP_101 | train loss: 0.2906625738330916 | val loss: 0.27127696661388173 |\n",
      "Epoch:  69%|██████▊   | 103/150 [00:41<00:19,  2.45it/s]\n",
      "EP_102 | train loss: 0.2895872443330054 | val loss: 0.2663825224427616 |\n",
      "Epoch:  69%|██████▉   | 104/150 [00:41<00:19,  2.37it/s]\n",
      "EP_103 | train loss: 0.28336781426972035 | val loss: 0.26151665869881124 |\n",
      "Epoch:  70%|███████   | 105/150 [00:42<00:18,  2.41it/s]\n",
      "EP_104 | train loss: 0.27945758080949973 | val loss: 0.25906038985532875 |\n",
      "Epoch:  71%|███████   | 106/150 [00:42<00:18,  2.41it/s]\n",
      "EP_105 | train loss: 0.27409904143389535 | val loss: 0.2553463759375553 |\n",
      "Epoch:  71%|███████▏  | 107/150 [00:42<00:17,  2.45it/s]\n",
      "EP_106 | train loss: 0.2724289496739705 | val loss: 0.2524489474062826 |\n",
      "Epoch:  72%|███████▏  | 108/150 [00:43<00:16,  2.48it/s]\n",
      "EP_107 | train loss: 0.2681280631645053 | val loss: 0.2491950042107526 |\n",
      "Epoch:  73%|███████▎  | 109/150 [00:43<00:16,  2.49it/s]\n",
      "EP_108 | train loss: 0.264915283053529 | val loss: 0.24734644095102945 |\n",
      "Epoch:  73%|███████▎  | 110/150 [00:44<00:15,  2.51it/s]\n",
      "EP_109 | train loss: 0.26046942028344844 | val loss: 0.2427693845010271 |\n",
      "Epoch:  74%|███████▍  | 111/150 [00:44<00:15,  2.50it/s]\n",
      "EP_110 | train loss: 0.2579508477566289 | val loss: 0.23929639540466607 |\n",
      "Epoch:  75%|███████▍  | 112/150 [00:44<00:15,  2.52it/s]\n",
      "EP_111 | train loss: 0.2544644898059321 | val loss: 0.23374074989674137 |\n",
      "Epoch:  75%|███████▌  | 113/150 [00:45<00:14,  2.53it/s]\n",
      "EP_112 | train loss: 0.24715224621342677 | val loss: 0.2311400245217716 |\n",
      "Epoch:  76%|███████▌  | 114/150 [00:45<00:14,  2.53it/s]\n",
      "EP_113 | train loss: 0.257132290391361 | val loss: 0.23170808834188125 |\n",
      "Epoch:  77%|███████▋  | 115/150 [00:46<00:13,  2.53it/s]\n",
      "EP_114 | train loss: 0.23810701416987998 | val loss: 0.2238834722369325 |\n",
      "Epoch:  77%|███████▋  | 116/150 [00:46<00:13,  2.50it/s]\n",
      "EP_115 | train loss: 0.23522509172850964 | val loss: 0.21745698358498367 |\n",
      "Epoch:  78%|███████▊  | 117/150 [00:46<00:13,  2.48it/s]\n",
      "EP_116 | train loss: 0.22860376507628197 | val loss: 0.21608413901983523 |\n",
      "Epoch:  79%|███████▊  | 118/150 [00:47<00:12,  2.46it/s]\n",
      "EP_117 | train loss: 0.22533499586815928 | val loss: 0.21121855518397162 |\n",
      "Epoch:  79%|███████▉  | 119/150 [00:47<00:12,  2.47it/s]\n",
      "EP_118 | train loss: 0.2417862242343379 | val loss: 0.21767174028882794 |\n",
      "Epoch:  80%|████████  | 120/150 [00:48<00:12,  2.45it/s]\n",
      "EP_119 | train loss: 0.2172224900301765 | val loss: 0.2074881207709219 |\n",
      "Epoch:  81%|████████  | 121/150 [00:48<00:11,  2.42it/s]\n",
      "EP_120 | train loss: 0.2126716323927337 | val loss: 0.20246577788801753 |\n",
      "Epoch:  81%|████████▏ | 122/150 [00:48<00:11,  2.43it/s]\n",
      "EP_121 | train loss: 0.20801438911288392 | val loss: 0.19425421018226474 |\n",
      "Epoch:  82%|████████▏ | 123/150 [00:49<00:11,  2.45it/s]\n",
      "EP_122 | train loss: 0.20261724696439856 | val loss: 0.18856092060313506 |\n",
      "Epoch:  83%|████████▎ | 124/150 [00:49<00:10,  2.45it/s]\n",
      "EP_123 | train loss: 0.20455686064327464 | val loss: 0.18658973481140884 |\n",
      "Epoch:  83%|████████▎ | 125/150 [00:50<00:10,  2.48it/s]\n",
      "EP_124 | train loss: 0.20145846044316013 | val loss: 0.18147126190802632 |\n",
      "Epoch:  84%|████████▍ | 126/150 [00:50<00:09,  2.44it/s]\n",
      "EP_125 | train loss: 0.19357870186076445 | val loss: 0.17562623760279486 |\n",
      "Epoch:  85%|████████▍ | 127/150 [00:50<00:09,  2.46it/s]\n",
      "EP_126 | train loss: 0.1861626059401269 | val loss: 0.17188950379689535 |\n",
      "Epoch:  85%|████████▌ | 128/150 [00:51<00:08,  2.49it/s]\n",
      "EP_127 | train loss: 0.18077554562512566 | val loss: 0.17113613439541236 |\n",
      "Epoch:  86%|████████▌ | 129/150 [00:51<00:08,  2.51it/s]\n",
      "EP_128 | train loss: 0.17963526132060031 | val loss: 0.16356361555118187 |\n",
      "Epoch:  87%|████████▋ | 130/150 [00:52<00:08,  2.50it/s]\n",
      "EP_129 | train loss: 0.17588038093903485 | val loss: 0.16984421949760586 |\n",
      "Epoch:  87%|████████▋ | 131/150 [00:52<00:07,  2.42it/s]\n",
      "EP_130 | train loss: 0.16764160979027842 | val loss: 0.15699910299450742 |\n",
      "Epoch:  88%|████████▊ | 132/150 [00:52<00:07,  2.41it/s]\n",
      "EP_131 | train loss: 0.16788072936675127 | val loss: 0.1509904446555119 |\n",
      "Epoch:  89%|████████▊ | 133/150 [00:53<00:06,  2.43it/s]\n",
      "EP_132 | train loss: 0.15959822547202016 | val loss: 0.15046919677771775 |\n",
      "Epoch:  89%|████████▉ | 134/150 [00:53<00:06,  2.42it/s]\n",
      "EP_133 | train loss: 0.15436642216701132 | val loss: 0.13971070916044945 |\n",
      "Epoch:  90%|█████████ | 135/150 [00:54<00:06,  2.32it/s]\n",
      "EP_134 | train loss: 0.1507519432142669 | val loss: 0.1366115551368863 |\n",
      "Epoch:  91%|█████████ | 136/150 [00:54<00:05,  2.35it/s]\n",
      "EP_135 | train loss: 0.1465320437562232 | val loss: 0.13140427949381808 |\n",
      "Epoch:  91%|█████████▏| 137/150 [00:55<00:05,  2.42it/s]\n",
      "EP_136 | train loss: 0.14147735834121705 | val loss: 0.13319996408387727 |\n",
      "Epoch:  92%|█████████▏| 138/150 [00:55<00:04,  2.48it/s]\n",
      "EP_137 | train loss: 0.15913025117387958 | val loss: 0.14065447157504513 |\n",
      "Epoch:  93%|█████████▎| 139/150 [00:55<00:04,  2.51it/s]\n",
      "EP_138 | train loss: 0.13444445542260713 | val loss: 0.1225349365496168 |\n",
      "Epoch:  93%|█████████▎| 140/150 [00:56<00:03,  2.53it/s]\n",
      "EP_139 | train loss: 0.12830956636690627 | val loss: 0.11698899140544966 |\n",
      "Epoch:  94%|█████████▍| 141/150 [00:56<00:03,  2.51it/s]\n",
      "EP_140 | train loss: 0.12396860753788667 | val loss: 0.11451413526254542 |\n",
      "Epoch:  95%|█████████▍| 142/150 [00:57<00:03,  2.53it/s]\n",
      "EP_141 | train loss: 0.1274878751997854 | val loss: 0.11392054604549035 |\n",
      "Epoch:  95%|█████████▌| 143/150 [00:57<00:02,  2.55it/s]\n",
      "EP_142 | train loss: 0.11676781785254385 | val loss: 0.10900386408263561 |\n",
      "Epoch:  96%|█████████▌| 144/150 [00:57<00:02,  2.57it/s]\n",
      "EP_143 | train loss: 0.11214873112884222 | val loss: 0.10245201166938334 |\n",
      "Epoch:  97%|█████████▋| 145/150 [00:58<00:01,  2.57it/s]\n",
      "EP_144 | train loss: 0.1079663220573874 | val loss: 0.09986439843972524 |\n",
      "Epoch:  97%|█████████▋| 146/150 [00:58<00:01,  2.55it/s]\n",
      "EP_145 | train loss: 0.10463282617868162 | val loss: 0.09758829252392638 |\n",
      "Epoch:  98%|█████████▊| 147/150 [00:58<00:01,  2.52it/s]\n",
      "EP_146 | train loss: 0.10106333050073361 | val loss: 0.09480554566663854 |\n",
      "Epoch:  99%|█████████▊| 148/150 [00:59<00:00,  2.50it/s]\n",
      "EP_147 | train loss: 0.09910424538687164 | val loss: 0.08882168344422883 |\n",
      "Epoch:  99%|█████████▉| 149/150 [00:59<00:00,  2.49it/s]\n",
      "EP_148 | train loss: 0.13166674258662206 | val loss: 0.11783882975578308 |\n",
      "Epoch: 100%|██████████| 150/150 [01:00<00:00,  2.49it/s]\n",
      "EP_149 | train loss: 0.09638428349120944 | val loss: 0.09201546568496555 |\n",
      "\n"
     ]
    }
   ],
   "source": [
    "AttractiveTrainer.train()"
   ]
  },
  {
   "cell_type": "markdown",
   "metadata": {},
   "source": [
    "## Below is testing"
   ]
  },
  {
   "cell_type": "code",
   "execution_count": 6,
   "metadata": {},
   "outputs": [
    {
     "output_type": "execute_result",
     "data": {
      "text/plain": [
       "AttractiveNet(\n",
       "  (embedding): AttractiveEmbedding(\n",
       "    (token): TokenEmbedding(12699, 300, padding_idx=1)\n",
       "  )\n",
       "  (bigramcnn): Sequential(\n",
       "    (0): Conv1d(300, 210, kernel_size=(2,), stride=(1,), padding=(1,))\n",
       "    (1): ReLU()\n",
       "    (2): Conv1d(210, 100, kernel_size=(2,), stride=(1,), padding=(1,))\n",
       "    (3): ReLU()\n",
       "    (4): Dropout(p=0.5, inplace=False)\n",
       "  )\n",
       "  (trigramcnn): Sequential(\n",
       "    (0): Conv1d(300, 210, kernel_size=(3,), stride=(1,), padding=(1,))\n",
       "    (1): ReLU()\n",
       "    (2): Conv1d(210, 100, kernel_size=(3,), stride=(1,), padding=(1,))\n",
       "    (3): ReLU()\n",
       "    (4): Dropout(p=0.5, inplace=False)\n",
       "  )\n",
       "  (encoder_bigram): LSTM(100, 30, batch_first=True, dropout=0.5, bidirectional=True)\n",
       "  (encoder_trigram): LSTM(100, 30, batch_first=True, dropout=0.5, bidirectional=True)\n",
       "  (linear): Sequential(\n",
       "    (0): Linear(in_features=128, out_features=30, bias=True)\n",
       "    (1): ReLU()\n",
       "    (2): Linear(in_features=30, out_features=1, bias=True)\n",
       "  )\n",
       ")"
      ]
     },
     "metadata": {},
     "execution_count": 6
    }
   ],
   "source": [
    "from attractivenet import AttractiveNet\n",
    "\n",
    "PATH = './model/CNN_LSTM_20201109-125007/0.374958.75'\n",
    "\n",
    "load_model = AttractiveNet(config).to(AttractiveData.device)\n",
    "load_model.load_state_dict(torch.load(PATH))\n",
    "load_model.eval()"
   ]
  },
  {
   "cell_type": "code",
   "execution_count": 7,
   "metadata": {},
   "outputs": [],
   "source": [
    "def predict_attractive(sentence, category, phase):\n",
    "    indexed_sentence = [AttractiveData.TEXT.vocab.stoi[t] for t in sentence]\n",
    "    indexed_category = [AttractiveData.CATEGORIES_LABEL.vocab.stoi[category]]\n",
    "    tensor_sentence = torch.LongTensor(indexed_sentence).to(AttractiveData.device)\n",
    "    tensor_category = torch.LongTensor(indexed_category).to(AttractiveData.device)\n",
    "    tensor_sentence = tensor_sentence.unsqueeze(0)\n",
    "\n",
    "    prediction = load_model(tensor_sentence, tensor_category, phase=phase)\n",
    "\n",
    "    return prediction"
   ]
  },
  {
   "cell_type": "code",
   "execution_count": 8,
   "metadata": {
    "tags": []
   },
   "outputs": [],
   "source": [
    "# train mean = 3.15, test mean = 2.8\n",
    "predict_list = []\n",
    "with torch.no_grad():\n",
    "    for i, sentence in enumerate(AttractiveData.test_data):\n",
    "        prediction = predict_attractive(sentence.Headline, sentence.Category, 'test')\n",
    "        predict_list.append(prediction.item())\n",
    "        # predict_list.append(prediction.item())\n",
    "AttractiveData.df_test['Label'] = predict_list\n",
    "AttractiveData.df_test[['ID', 'Label']].to_csv(config['save_name'] + '.csv', index=False)"
   ]
  },
  {
   "cell_type": "markdown",
   "metadata": {},
   "source": [
    "## Below for statistics"
   ]
  },
  {
   "cell_type": "code",
   "execution_count": 9,
   "metadata": {},
   "outputs": [],
   "source": [
    "import statistics\n",
    "from sklearn.metrics import mean_squared_error"
   ]
  },
  {
   "cell_type": "code",
   "execution_count": 10,
   "metadata": {},
   "outputs": [],
   "source": [
    "# # train mean = 3.15, test mean = 2.8\n",
    "# train_list = []\n",
    "# for i, sentence in enumerate(AttractiveData.train_data):\n",
    "#     prediction = predict_attractive(sentence.Headline, sentence.Category, 'train')\n",
    "#     train_list.append(prediction.item())\n",
    "#     # train_list.append(prediction.item())\n",
    "# # print(train_list)\n",
    "# mean_squared_error(pd.read_csv('data/train.csv').sort_values(['ID']).Label.to_list(), train_list), statistics.mean(train_list), statistics.stdev(train_list)"
   ]
  },
  {
   "cell_type": "code",
   "execution_count": 11,
   "metadata": {},
   "outputs": [],
   "source": [
    "# train_list[0:5], pd.read_csv('data/train.csv').sort_values(['ID']).Label.to_list()[0:5]"
   ]
  },
  {
   "cell_type": "code",
   "execution_count": 12,
   "metadata": {},
   "outputs": [],
   "source": [
    "# a = AttractiveData.df_train['Label'].to_list()\n",
    "# statistics.mean(a), statistics.stdev(a)"
   ]
  },
  {
   "cell_type": "code",
   "execution_count": 13,
   "metadata": {},
   "outputs": [
    {
     "output_type": "execute_result",
     "data": {
      "text/plain": [
       "(2.7876357276009043, 0.3643672504501976)"
      ]
     },
     "metadata": {},
     "execution_count": 13
    }
   ],
   "source": [
    "statistics.mean(predict_list), statistics.stdev(predict_list)"
   ]
  },
  {
   "cell_type": "code",
   "execution_count": 14,
   "metadata": {},
   "outputs": [
    {
     "output_type": "execute_result",
     "data": {
      "text/plain": [
       "(4.055494478172627e-05, 2.783861954306716, 0.36437382915352245)"
      ]
     },
     "metadata": {},
     "execution_count": 14
    }
   ],
   "source": [
    "baseline_list = pd.read_csv('baseline.csv').sort_values(['ID']).Label.to_list()\n",
    "mean_squared_error(baseline_list, predict_list), statistics.mean(baseline_list), statistics.stdev(baseline_list)"
   ]
  },
  {
   "cell_type": "code",
   "execution_count": null,
   "metadata": {},
   "outputs": [],
   "source": []
  },
  {
   "cell_type": "code",
   "execution_count": 7,
   "metadata": {},
   "outputs": [
    {
     "output_type": "execute_result",
     "data": {
      "text/plain": [
       "0.0"
      ]
     },
     "metadata": {},
     "execution_count": 7
    }
   ],
   "source": [
    "mean_squared_error(pd.read_csv('baseline.csv').sort_values(['ID']).Label.to_list(), pd.read_csv('./predict/CNN_LSTM_20201107-202605_0.374917.75.csv').sort_values(['ID']).Label.to_list())"
   ]
  },
  {
   "cell_type": "code",
   "execution_count": 13,
   "metadata": {},
   "outputs": [],
   "source": []
  },
  {
   "cell_type": "code",
   "execution_count": null,
   "metadata": {},
   "outputs": [],
   "source": []
  }
 ],
 "metadata": {
  "kernelspec": {
   "display_name": "DS_hw2",
   "language": "python",
   "name": "ds_hw2"
  },
  "language_info": {
   "codemirror_mode": {
    "name": "ipython",
    "version": 3
   },
   "file_extension": ".py",
   "mimetype": "text/x-python",
   "name": "python",
   "nbconvert_exporter": "python",
   "pygments_lexer": "ipython3",
   "version": "3.6.12-final"
  }
 },
 "nbformat": 4,
 "nbformat_minor": 4
}