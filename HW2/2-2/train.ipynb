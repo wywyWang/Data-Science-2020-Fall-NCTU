{
 "cells": [
  {
   "cell_type": "code",
   "execution_count": 1,
   "metadata": {},
   "outputs": [],
   "source": [
    "# common packages\n",
    "import pandas as pd\n",
    "import time\n",
    "\n",
    "# # DL framework\n",
    "import torch\n",
    "from torchtext import data\n",
    "\n",
    "from attractivedata import AttractiveData\n",
    "from trainer import AttractiveTrainer"
   ]
  },
  {
   "cell_type": "code",
   "execution_count": 2,
   "metadata": {},
   "outputs": [],
   "source": [
    "seed_value = 42\n",
    "torch.manual_seed(seed_value)\n",
    "torch.cuda.manual_seed(seed_value)\n",
    "torch.cuda.manual_seed_all(seed_value) # gpu vars\n",
    "torch.backends.cudnn.deterministic = True  #needed\n",
    "torch.backends.cudnn.benchmark = False"
   ]
  },
  {
   "cell_type": "markdown",
   "metadata": {},
   "source": [
    "## Load and prepare data"
   ]
  },
  {
   "cell_type": "code",
   "execution_count": 3,
   "metadata": {},
   "outputs": [],
   "source": [
    "train_file = 'data/train.csv'\n",
    "val_file = 'example/val.csv'\n",
    "test_file = 'data/test.csv'\n",
    "pretrained_file = 'glove.840B.300d'\n",
    "config = {\n",
    "    'max_seq': 40,\n",
    "    'min_freq': 0,\n",
    "    'batch_size': 51,\n",
    "    'pretrained_file': pretrained_file\n",
    "}\n"
   ]
  },
  {
   "cell_type": "code",
   "execution_count": 4,
   "metadata": {},
   "outputs": [],
   "source": [
    "AttractiveData = AttractiveData(train_file, val_file, test_file, pretrained_file, config)"
   ]
  },
  {
   "cell_type": "markdown",
   "metadata": {},
   "source": [
    "## Start to train"
   ]
  },
  {
   "cell_type": "code",
   "execution_count": 5,
   "metadata": {},
   "outputs": [
    {
     "output_type": "stream",
     "name": "stdout",
     "text": [
      "torch.Size([12034, 300])\n"
     ]
    }
   ],
   "source": [
    "config['timestr'] = time.strftime(\"%Y%m%d-%H%M%S\")\n",
    "config['save_name'] = 'CNN_LSTM'\n",
    "config['input_dim'] = len(AttractiveData.TEXT.vocab)\n",
    "config['embedding_dim'] = 300\n",
    "config['category_dim'] = len(AttractiveData.CATEGORIES_LABEL.vocab)\n",
    "config['category_embedding_dim'] = 10\n",
    "config['hidden_dim'] = 30\n",
    "config['output_dim'] = 1\n",
    "config['log_steps'] = 10\n",
    "config['epochs'] = 150\n",
    "config['lr'] = {\n",
    "    'encoder': 1e-5,\n",
    "    'embedding': 6e-6,\n",
    "    'linear': 1e-5\n",
    "}\n",
    "config['num_layers'] = 1\n",
    "config['kernel_size'] = 3\n",
    "config['dropout'] = 0.5\n",
    "config['train_len'] = AttractiveData.train_len\n",
    "config['val_len'] = AttractiveData.val_len\n",
    "config['test_len'] = AttractiveData.test_len\n",
    "\n",
    "pretrained_embeddings = AttractiveData.TEXT.vocab.vectors\n",
    "print(pretrained_embeddings.shape)"
   ]
  },
  {
   "cell_type": "code",
   "execution_count": 6,
   "metadata": {},
   "outputs": [],
   "source": [
    "AttractiveTrainer = AttractiveTrainer(config, AttractiveData.device, AttractiveData.trainloader, AttractiveData.valloader, pretrained_embeddings)"
   ]
  },
  {
   "cell_type": "code",
   "execution_count": 7,
   "metadata": {},
   "outputs": [
    {
     "output_type": "execute_result",
     "data": {
      "text/plain": [
       "(AttractiveNet(\n",
       "   (embedding): AttractiveEmbedding(\n",
       "     (token): TokenEmbedding(12034, 300, padding_idx=1)\n",
       "   )\n",
       "   (bigramcnn): Sequential(\n",
       "     (0): Conv1d(300, 210, kernel_size=(2,), stride=(1,), padding=(1,))\n",
       "     (1): ReLU()\n",
       "     (2): Conv1d(210, 100, kernel_size=(2,), stride=(1,), padding=(1,))\n",
       "     (3): ReLU()\n",
       "     (4): Dropout(p=0.5, inplace=False)\n",
       "   )\n",
       "   (trigramcnn): Sequential(\n",
       "     (0): Conv1d(300, 210, kernel_size=(3,), stride=(1,), padding=(1,))\n",
       "     (1): ReLU()\n",
       "     (2): Conv1d(210, 100, kernel_size=(3,), stride=(1,), padding=(1,))\n",
       "     (3): ReLU()\n",
       "     (4): Dropout(p=0.5, inplace=False)\n",
       "   )\n",
       "   (encoder_bigram): LSTM(100, 30, batch_first=True, dropout=0.5, bidirectional=True)\n",
       "   (encoder_trigram): LSTM(100, 30, batch_first=True, dropout=0.5, bidirectional=True)\n",
       "   (linear): Sequential(\n",
       "     (0): Linear(in_features=128, out_features=30, bias=True)\n",
       "     (1): ReLU()\n",
       "     (2): Linear(in_features=30, out_features=1, bias=True)\n",
       "   )\n",
       " ),\n",
       " 4098081,\n",
       " 4098081)"
      ]
     },
     "metadata": {},
     "execution_count": 7
    }
   ],
   "source": [
    "AttractiveTrainer.model, AttractiveTrainer.config['total_params'], AttractiveTrainer.config['total_learned_params']"
   ]
  },
  {
   "cell_type": "code",
   "execution_count": 8,
   "metadata": {
    "tags": []
   },
   "outputs": [
    {
     "output_type": "stream",
     "name": "stderr",
     "text": [
      "Epoch:   1%|          | 1/150 [00:00<01:17,  1.91it/s]\n",
      "EP_0 | train loss: 1.2932077445235908 | val loss: 1.9287736930099189 |\n",
      "Epoch:   1%|▏         | 2/150 [00:01<01:15,  1.96it/s]\n",
      "EP_1 | train loss: 0.5697401317895627 | val loss: 0.8353497748281441 |\n",
      "Epoch:   2%|▏         | 3/150 [00:01<01:13,  1.99it/s]\n",
      "EP_2 | train loss: 0.5912791420431698 | val loss: 0.7825566086114621 |\n",
      "Epoch:   3%|▎         | 4/150 [00:01<01:11,  2.04it/s]\n",
      "EP_3 | train loss: 0.579468427919874 | val loss: 0.7596144769705978 |\n",
      "Epoch:   3%|▎         | 5/150 [00:02<01:10,  2.04it/s]\n",
      "EP_4 | train loss: 0.5651786289963068 | val loss: 0.7419279696894627 |\n",
      "Epoch:   4%|▍         | 6/150 [00:02<01:10,  2.05it/s]\n",
      "EP_5 | train loss: 0.561607959691216 | val loss: 0.7236541112263998 |\n",
      "Epoch:   5%|▍         | 7/150 [00:03<01:10,  2.04it/s]\n",
      "EP_6 | train loss: 0.562849739486096 | val loss: 0.6995581645591586 |\n",
      "Epoch:   5%|▌         | 8/150 [00:03<01:09,  2.05it/s]\n",
      "EP_7 | train loss: 0.5614166530908323 | val loss: 0.6782314076143152 |\n",
      "Epoch:   6%|▌         | 9/150 [00:04<01:09,  2.03it/s]\n",
      "EP_8 | train loss: 0.5649491983301499 | val loss: 0.6635448044421626 |\n",
      "Epoch:   7%|▋         | 10/150 [00:04<01:07,  2.07it/s]\n",
      "EP_9 | train loss: 0.5525983081144445 | val loss: 0.6512417886771408 |\n",
      "Epoch:   7%|▋         | 11/150 [00:05<01:09,  2.00it/s]\n",
      "EP_10 | train loss: 0.5468865553538005 | val loss: 0.6402366021100212 |\n",
      "Epoch:   8%|▊         | 12/150 [00:05<01:09,  1.99it/s]\n",
      "EP_11 | train loss: 0.5473326832640405 | val loss: 0.6241621316647997 |\n",
      "Epoch:   9%|▊         | 13/150 [00:06<01:07,  2.02it/s]\n",
      "EP_12 | train loss: 0.5450111262938555 | val loss: 0.6065599497626809 |\n",
      "Epoch:   9%|▉         | 14/150 [00:06<01:09,  1.96it/s]\n",
      "EP_13 | train loss: 0.5420008406919592 | val loss: 0.5979444372887704 |\n",
      "Epoch:  10%|█         | 15/150 [00:07<01:10,  1.91it/s]\n",
      "EP_14 | train loss: 0.5378802149903541 | val loss: 0.5855636596679688 |\n",
      "Epoch:  11%|█         | 16/150 [00:08<01:10,  1.90it/s]\n",
      "EP_15 | train loss: 0.53227466321459 | val loss: 0.5741980216082405 |\n",
      "Epoch:  11%|█▏        | 17/150 [00:08<01:09,  1.91it/s]\n",
      "EP_16 | train loss: 0.528855972664029 | val loss: 0.5616356064291561 |\n",
      "Epoch:  12%|█▏        | 18/150 [00:09<01:08,  1.93it/s]\n",
      "EP_17 | train loss: 0.524922072653677 | val loss: 0.5573751318688486 |\n",
      "Epoch:  13%|█▎        | 19/150 [00:09<01:09,  1.89it/s]\n",
      "EP_18 | train loss: 0.5223316940606809 | val loss: 0.5482570049809474 |\n",
      "Epoch:  13%|█▎        | 20/150 [00:10<01:08,  1.89it/s]\n",
      "EP_19 | train loss: 0.5183697064717611 | val loss: 0.5384781968359854 |\n",
      "Epoch:  14%|█▍        | 21/150 [00:10<01:07,  1.90it/s]\n",
      "EP_20 | train loss: 0.5158354600270589 | val loss: 0.5278095544553271 |\n",
      "Epoch:  15%|█▍        | 22/150 [00:11<01:06,  1.93it/s]\n",
      "EP_21 | train loss: 0.5146073696660061 | val loss: 0.5186449219198788 |\n",
      "Epoch:  15%|█▌        | 23/150 [00:11<01:04,  1.96it/s]\n",
      "EP_22 | train loss: 0.5152271401648428 | val loss: 0.5085942511465035 |\n",
      "Epoch:  16%|█▌        | 24/150 [00:12<01:02,  2.03it/s]\n",
      "EP_23 | train loss: 0.5061728786019718 | val loss: 0.5024523641548905 |\n",
      "Epoch:  17%|█▋        | 25/150 [00:12<01:00,  2.07it/s]\n",
      "EP_24 | train loss: 0.5067930128060135 | val loss: 0.4922497599732642 |\n",
      "Epoch:  17%|█▋        | 26/150 [00:12<00:58,  2.12it/s]\n",
      "EP_25 | train loss: 0.5004844459832883 | val loss: 0.4840832130581725 |\n",
      "Epoch:  18%|█▊        | 27/150 [00:13<00:57,  2.13it/s]\n",
      "EP_26 | train loss: 0.4949420611063639 | val loss: 0.4771264861611759 |\n",
      "Epoch:  19%|█▊        | 28/150 [00:13<00:56,  2.14it/s]\n",
      "EP_27 | train loss: 0.48991407787098606 | val loss: 0.46813298206703335 |\n",
      "Epoch:  19%|█▉        | 29/150 [00:14<00:55,  2.17it/s]\n",
      "EP_28 | train loss: 0.48703890220791685 | val loss: 0.45850440567614986 |\n",
      "Epoch:  20%|██        | 30/150 [00:14<00:55,  2.18it/s]\n",
      "EP_29 | train loss: 0.4821467993306179 | val loss: 0.45056603001613243 |\n",
      "Epoch:  21%|██        | 31/150 [00:15<00:54,  2.18it/s]\n",
      "EP_30 | train loss: 0.47982119952931124 | val loss: 0.44263246012668983 |\n",
      "Epoch:  21%|██▏       | 32/150 [00:15<00:53,  2.20it/s]\n",
      "EP_31 | train loss: 0.47631092539020614 | val loss: 0.4345960336572984 |\n",
      "Epoch:  22%|██▏       | 33/150 [00:16<00:53,  2.18it/s]\n",
      "EP_32 | train loss: 0.4699012807771271 | val loss: 0.4275783370522892 |\n",
      "Epoch:  23%|██▎       | 34/150 [00:16<00:55,  2.10it/s]\n",
      "EP_33 | train loss: 0.4697039903378954 | val loss: 0.42143676327724083 |\n",
      "Epoch:  23%|██▎       | 35/150 [00:17<00:54,  2.11it/s]\n",
      "EP_34 | train loss: 0.4608210002674776 | val loss: 0.4148579298281202 |\n",
      "Epoch:  24%|██▍       | 36/150 [00:17<00:52,  2.16it/s]\n",
      "EP_35 | train loss: 0.4598985185810164 | val loss: 0.40756015216603 |\n",
      "Epoch:  25%|██▍       | 37/150 [00:18<00:52,  2.16it/s]\n",
      "EP_36 | train loss: 0.4570808088078218 | val loss: 0.4005393420948702 |\n",
      "Epoch:  25%|██▌       | 38/150 [00:18<00:51,  2.19it/s]\n",
      "EP_37 | train loss: 0.452965570898617 | val loss: 0.3949696783925973 |\n",
      "Epoch:  26%|██▌       | 39/150 [00:18<00:50,  2.18it/s]\n",
      "EP_38 | train loss: 0.447304079579372 | val loss: 0.3888609970317167 |\n",
      "Epoch:  27%|██▋       | 40/150 [00:19<00:50,  2.16it/s]\n",
      "EP_39 | train loss: 0.44620706988315956 | val loss: 0.3838009647294587 |\n",
      "Epoch:  27%|██▋       | 41/150 [00:19<00:52,  2.09it/s]\n",
      "EP_40 | train loss: 0.44414077740089564 | val loss: 0.3790097470377006 |\n",
      "Epoch:  28%|██▊       | 42/150 [00:20<00:51,  2.11it/s]\n",
      "EP_41 | train loss: 0.4405394713083903 | val loss: 0.37402714935003545 |\n",
      "Epoch:  29%|██▊       | 43/150 [00:20<00:51,  2.08it/s]\n",
      "EP_42 | train loss: 0.4363937546225155 | val loss: 0.37009084925932045 |\n",
      "Epoch:  29%|██▉       | 44/150 [00:21<00:50,  2.11it/s]\n",
      "EP_43 | train loss: 0.43230289945415423 | val loss: 0.36511824645248114 |\n",
      "Epoch:  30%|███       | 45/150 [00:21<00:49,  2.11it/s]\n",
      "EP_44 | train loss: 0.4316099377239452 | val loss: 0.36191371375439213 |\n",
      "Epoch:  31%|███       | 46/150 [00:22<00:49,  2.12it/s]\n",
      "EP_45 | train loss: 0.4257419286989698 | val loss: 0.3580196231019263 |\n",
      "Epoch:  31%|███▏      | 47/150 [00:22<00:48,  2.12it/s]\n",
      "EP_46 | train loss: 0.42772614675409654 | val loss: 0.3572402374417174 |\n",
      "Epoch:  32%|███▏      | 48/150 [00:23<00:48,  2.10it/s]\n",
      "EP_47 | train loss: 0.42366286072076537 | val loss: 0.3526641107073017 |\n",
      "Epoch:  33%|███▎      | 49/150 [00:23<00:47,  2.11it/s]\n",
      "EP_48 | train loss: 0.42390925370010674 | val loss: 0.3513204817678414 |\n",
      "Epoch:  33%|███▎      | 50/150 [00:24<00:46,  2.15it/s]\n",
      "EP_49 | train loss: 0.4186410193349801 | val loss: 0.34611884285421934 |\n",
      "Epoch:  34%|███▍      | 51/150 [00:24<00:46,  2.14it/s]\n",
      "EP_50 | train loss: 0.4167051619174434 | val loss: 0.34458015946780934 |\n",
      "Epoch:  35%|███▍      | 52/150 [00:25<00:45,  2.17it/s]\n",
      "EP_51 | train loss: 0.4150613209780525 | val loss: 0.34410804860732136 |\n",
      "Epoch:  35%|███▌      | 53/150 [00:25<00:44,  2.17it/s]\n",
      "EP_52 | train loss: 0.4120394384159761 | val loss: 0.3415759918736477 |\n",
      "Epoch:  36%|███▌      | 54/150 [00:26<00:43,  2.18it/s]\n",
      "EP_53 | train loss: 0.40905718382667094 | val loss: 0.3394041762632482 |\n",
      "Epoch:  37%|███▋      | 55/150 [00:26<00:43,  2.18it/s]\n",
      "EP_54 | train loss: 0.40840329843408923 | val loss: 0.3379058884639366 |\n",
      "Epoch:  37%|███▋      | 56/150 [00:26<00:42,  2.19it/s]\n",
      "EP_55 | train loss: 0.4056846866420671 | val loss: 0.33635351237128763 |\n",
      "Epoch:  38%|███▊      | 57/150 [00:27<00:42,  2.18it/s]\n",
      "EP_56 | train loss: 0.40859204974828983 | val loss: 0.3382854227926217 |\n",
      "Epoch:  39%|███▊      | 58/150 [00:27<00:41,  2.19it/s]\n",
      "EP_57 | train loss: 0.4055957644593482 | val loss: 0.33664339663935644 |\n",
      "Epoch:  39%|███▉      | 59/150 [00:28<00:41,  2.18it/s]\n",
      "EP_58 | train loss: 0.4033304448221244 | val loss: 0.3354162608875948 |\n",
      "Epoch:  40%|████      | 60/150 [00:28<00:41,  2.19it/s]\n",
      "EP_59 | train loss: 0.39658773459640206 | val loss: 0.332057840683881 |\n",
      "Epoch:  41%|████      | 61/150 [00:29<00:40,  2.17it/s]\n",
      "EP_60 | train loss: 0.4010889403960284 | val loss: 0.33451568379121666 |\n",
      "Epoch:  41%|████▏     | 62/150 [00:29<00:40,  2.18it/s]\n",
      "EP_61 | train loss: 0.39404250640495153 | val loss: 0.3320006202248966 |\n",
      "Epoch:  42%|████▏     | 63/150 [00:30<00:40,  2.17it/s]\n",
      "EP_62 | train loss: 0.39029034820257447 | val loss: 0.328372787026798 |\n",
      "Epoch:  43%|████▎     | 64/150 [00:30<00:39,  2.19it/s]\n",
      "EP_63 | train loss: 0.39004556197746126 | val loss: 0.3278385050156537 |\n",
      "Epoch:  43%|████▎     | 65/150 [00:31<00:38,  2.18it/s]\n",
      "EP_64 | train loss: 0.38828721513935166 | val loss: 0.3268911511290307 |\n",
      "Epoch:  44%|████▍     | 66/150 [00:31<00:38,  2.21it/s]\n",
      "EP_65 | train loss: 0.3873784242891798 | val loss: 0.32734350129669787 |\n",
      "Epoch:  45%|████▍     | 67/150 [00:31<00:37,  2.19it/s]\n",
      "EP_66 | train loss: 0.3850418212367039 | val loss: 0.3249638407838111 |\n",
      "Epoch:  45%|████▌     | 68/150 [00:32<00:37,  2.17it/s]\n",
      "EP_67 | train loss: 0.3808258323108449 | val loss: 0.3239559706519632 |\n",
      "Epoch:  46%|████▌     | 69/150 [00:32<00:38,  2.13it/s]\n",
      "EP_68 | train loss: 0.3770242036557665 | val loss: 0.32351935143564264 |\n",
      "Epoch:  47%|████▋     | 70/150 [00:33<00:37,  2.15it/s]\n",
      "EP_69 | train loss: 0.3759988275228762 | val loss: 0.3220681583180147 |\n",
      "Epoch:  47%|████▋     | 71/150 [00:33<00:37,  2.11it/s]\n",
      "EP_70 | train loss: 0.37279078399433807 | val loss: 0.32122289900686224 |\n",
      "Epoch:  48%|████▊     | 72/150 [00:34<00:37,  2.09it/s]\n",
      "EP_71 | train loss: 0.3733149313459209 | val loss: 0.31884533751244637 |\n",
      "Epoch:  49%|████▊     | 73/150 [00:34<00:37,  2.08it/s]\n",
      "EP_72 | train loss: 0.37110878953746723 | val loss: 0.31940635980344284 |\n",
      "Epoch:  49%|████▉     | 74/150 [00:35<00:35,  2.12it/s]\n",
      "EP_73 | train loss: 0.3639197489794563 | val loss: 0.316742831585454 |\n",
      "Epoch:  50%|█████     | 75/150 [00:35<00:35,  2.09it/s]\n",
      "EP_74 | train loss: 0.3616446237938077 | val loss: 0.31571598146476 |\n",
      "Epoch:  51%|█████     | 76/150 [00:36<00:35,  2.09it/s]\n",
      "EP_75 | train loss: 0.3614229160196641 | val loss: 0.3134808587092979 |\n",
      "Epoch:  51%|█████▏    | 77/150 [00:36<00:34,  2.11it/s]\n",
      "EP_76 | train loss: 0.3574802861494176 | val loss: 0.31188612358242856 |\n",
      "Epoch:  52%|█████▏    | 78/150 [00:37<00:34,  2.08it/s]\n",
      "EP_77 | train loss: 0.35923533486384973 | val loss: 0.31215322718900795 |\n",
      "Epoch:  53%|█████▎    | 79/150 [00:37<00:34,  2.06it/s]\n",
      "EP_78 | train loss: 0.359982808898477 | val loss: 0.31072059799643126 |\n",
      "Epoch:  53%|█████▎    | 80/150 [00:38<00:33,  2.11it/s]\n",
      "EP_79 | train loss: 0.3501056442073747 | val loss: 0.3072079022725423 |\n",
      "Epoch:  54%|█████▍    | 81/150 [00:38<00:33,  2.08it/s]\n",
      "EP_80 | train loss: 0.34654022805831014 | val loss: 0.3085297790228152 |\n",
      "Epoch:  55%|█████▍    | 82/150 [00:39<00:33,  2.05it/s]\n",
      "EP_81 | train loss: 0.3507093027526257 | val loss: 0.3058597013062122 |\n",
      "Epoch:  55%|█████▌    | 83/150 [00:39<00:32,  2.07it/s]\n",
      "EP_82 | train loss: 0.3405831958733353 | val loss: 0.3018004894256592 |\n",
      "Epoch:  56%|█████▌    | 84/150 [00:40<00:31,  2.07it/s]\n",
      "EP_83 | train loss: 0.337521731152254 | val loss: 0.2986924788531135 |\n",
      "Epoch:  57%|█████▋    | 85/150 [00:40<00:31,  2.06it/s]\n",
      "EP_84 | train loss: 0.3366817516439101 | val loss: 0.2965424341313979 |\n",
      "Epoch:  57%|█████▋    | 86/150 [00:41<00:30,  2.08it/s]\n",
      "EP_85 | train loss: 0.33229191069509467 | val loss: 0.29462189300387515 |\n",
      "Epoch:  58%|█████▊    | 87/150 [00:41<00:29,  2.11it/s]\n",
      "EP_86 | train loss: 0.33073704476450005 | val loss: 0.2923838017033596 |\n",
      "Epoch:  59%|█████▊    | 88/150 [00:42<00:29,  2.14it/s]\n",
      "EP_87 | train loss: 0.33021204331341913 | val loss: 0.2912133955488018 |\n",
      "Epoch:  59%|█████▉    | 89/150 [00:42<00:28,  2.14it/s]\n",
      "EP_88 | train loss: 0.3210090024798524 | val loss: 0.28870855125726436 |\n",
      "Epoch:  60%|██████    | 90/150 [00:42<00:27,  2.17it/s]\n",
      "EP_89 | train loss: 0.3215555976418888 | val loss: 0.28374160972296025 |\n",
      "Epoch:  61%|██████    | 91/150 [00:43<00:27,  2.17it/s]\n",
      "EP_90 | train loss: 0.31544688823176364 | val loss: 0.28138045236176135 |\n",
      "Epoch:  61%|██████▏   | 92/150 [00:43<00:26,  2.16it/s]\n",
      "EP_91 | train loss: 0.31091848588457294 | val loss: 0.2796516885944441 |\n",
      "Epoch:  62%|██████▏   | 93/150 [00:44<00:27,  2.08it/s]\n",
      "EP_92 | train loss: 0.3083777937234617 | val loss: 0.2749495599784103 |\n",
      "Epoch:  63%|██████▎   | 94/150 [00:44<00:27,  2.06it/s]\n",
      "EP_93 | train loss: 0.31187297549902226 | val loss: 0.2740008597280465 |\n",
      "Epoch:  63%|██████▎   | 95/150 [00:45<00:27,  2.01it/s]\n",
      "EP_94 | train loss: 0.30152725098179833 | val loss: 0.2690464141322117 |\n",
      "Epoch:  64%|██████▍   | 96/150 [00:45<00:26,  2.00it/s]\n",
      "EP_95 | train loss: 0.29644583113053263 | val loss: 0.27406984217026653 |\n",
      "Epoch:  65%|██████▍   | 97/150 [00:46<00:26,  1.98it/s]\n",
      "EP_96 | train loss: 0.2965685320835488 | val loss: 0.2612456807903215 |\n",
      "Epoch:  65%|██████▌   | 98/150 [00:46<00:26,  2.00it/s]\n",
      "EP_97 | train loss: 0.2919125599019668 | val loss: 0.25807737369163364 |\n",
      "Epoch:  66%|██████▌   | 99/150 [00:47<00:25,  1.96it/s]\n",
      "EP_98 | train loss: 0.2894589526980531 | val loss: 0.25433944253360524 |\n",
      "Epoch:  67%|██████▋   | 100/150 [00:47<00:24,  2.03it/s]\n",
      "EP_99 | train loss: 0.28473198320351395 | val loss: 0.24924184761795343 |\n",
      "Epoch:  67%|██████▋   | 101/150 [00:48<00:24,  2.01it/s]\n",
      "EP_100 | train loss: 0.2813014231476129 | val loss: 0.24505030407625086 |\n",
      "Epoch:  68%|██████▊   | 102/150 [00:48<00:23,  2.03it/s]\n",
      "EP_101 | train loss: 0.2751867413520813 | val loss: 0.24152239631204045 |\n",
      "Epoch:  69%|██████▊   | 103/150 [00:49<00:23,  2.01it/s]\n",
      "EP_102 | train loss: 0.2688773183261647 | val loss: 0.23848195169486253 |\n",
      "Epoch:  69%|██████▉   | 104/150 [00:49<00:22,  2.01it/s]\n",
      "EP_103 | train loss: 0.26890018173292574 | val loss: 0.23396801013572543 |\n",
      "Epoch:  70%|███████   | 105/150 [00:50<00:22,  2.03it/s]\n",
      "EP_104 | train loss: 0.2619362134559482 | val loss: 0.232482723161286 |\n",
      "Epoch:  71%|███████   | 106/150 [00:50<00:21,  2.06it/s]\n",
      "EP_105 | train loss: 0.254542385596855 | val loss: 0.2313118541941923 |\n",
      "Epoch:  71%|███████▏  | 107/150 [00:51<00:20,  2.07it/s]\n",
      "EP_106 | train loss: 0.2511784240311267 | val loss: 0.22695474531136306 |\n",
      "Epoch:  72%|███████▏  | 108/150 [00:51<00:20,  2.05it/s]\n",
      "EP_107 | train loss: 0.2507287062850653 | val loss: 0.21571752604316263 |\n",
      "Epoch:  73%|███████▎  | 109/150 [00:52<00:19,  2.06it/s]\n",
      "EP_108 | train loss: 0.24484333992004395 | val loss: 0.21280548619289025 |\n",
      "Epoch:  73%|███████▎  | 110/150 [00:52<00:19,  2.07it/s]\n",
      "EP_109 | train loss: 0.25394928876091455 | val loss: 0.21239608876845417 |\n",
      "Epoch:  74%|███████▍  | 111/150 [00:53<00:18,  2.06it/s]\n",
      "EP_110 | train loss: 0.23437261861913344 | val loss: 0.20978272194955863 |\n",
      "Epoch:  75%|███████▍  | 112/150 [00:53<00:18,  2.10it/s]\n",
      "EP_111 | train loss: 0.23838922696955064 | val loss: 0.20122625781040565 |\n",
      "Epoch:  75%|███████▌  | 113/150 [00:54<00:17,  2.09it/s]\n",
      "EP_112 | train loss: 0.2270699056924558 | val loss: 0.19566483123629702 |\n",
      "Epoch:  76%|███████▌  | 114/150 [00:54<00:16,  2.14it/s]\n",
      "EP_113 | train loss: 0.21968769536298863 | val loss: 0.19875650779873716 |\n",
      "Epoch:  77%|███████▋  | 115/150 [00:55<00:16,  2.14it/s]\n",
      "EP_114 | train loss: 0.21508251685722202 | val loss: 0.19267712854871563 |\n",
      "Epoch:  77%|███████▋  | 116/150 [00:55<00:15,  2.18it/s]\n",
      "EP_115 | train loss: 0.2127046360689051 | val loss: 0.18422918226204665 |\n",
      "Epoch:  78%|███████▊  | 117/150 [00:56<00:15,  2.17it/s]\n",
      "EP_116 | train loss: 0.20699730831034044 | val loss: 0.18069093601376401 |\n",
      "Epoch:  79%|███████▊  | 118/150 [00:56<00:14,  2.17it/s]\n",
      "EP_117 | train loss: 0.20338129973879046 | val loss: 0.1739985288358202 |\n",
      "Epoch:  79%|███████▉  | 119/150 [00:56<00:14,  2.15it/s]\n",
      "EP_118 | train loss: 0.20554759806277706 | val loss: 0.17056910664427513 |\n",
      "Epoch:  80%|████████  | 120/150 [00:57<00:13,  2.16it/s]\n",
      "EP_119 | train loss: 0.19265432474659938 | val loss: 0.16504018680722105 |\n",
      "Epoch:  81%|████████  | 121/150 [00:57<00:13,  2.13it/s]\n",
      "EP_120 | train loss: 0.18939876088909074 | val loss: 0.17632390003578335 |\n",
      "Epoch:  81%|████████▏ | 122/150 [00:58<00:12,  2.17it/s]\n",
      "EP_121 | train loss: 0.1863680587095373 | val loss: 0.15864728478824391 |\n",
      "Epoch:  82%|████████▏ | 123/150 [00:58<00:12,  2.13it/s]\n",
      "EP_122 | train loss: 0.17644130622639376 | val loss: 0.16060295291975432 |\n",
      "Epoch:  83%|████████▎ | 124/150 [00:59<00:12,  2.12it/s]\n",
      "EP_123 | train loss: 0.17157688468110327 | val loss: 0.15546848259720147 |\n",
      "Epoch:  83%|████████▎ | 125/150 [00:59<00:11,  2.12it/s]\n",
      "EP_124 | train loss: 0.16697954079684088 | val loss: 0.1506786065943101 |\n",
      "Epoch:  84%|████████▍ | 126/150 [01:00<00:11,  2.16it/s]\n",
      "EP_125 | train loss: 0.1717282358337851 | val loss: 0.14546925647586 |\n",
      "Epoch:  85%|████████▍ | 127/150 [01:00<00:10,  2.15it/s]\n",
      "EP_126 | train loss: 0.16601419799468098 | val loss: 0.1636582425996369 |\n",
      "Epoch:  85%|████████▌ | 128/150 [01:01<00:10,  2.13it/s]\n",
      "EP_127 | train loss: 0.15799771453820022 | val loss: 0.13500808968263514 |\n",
      "Epoch:  86%|████████▌ | 129/150 [01:01<00:09,  2.12it/s]\n",
      "EP_128 | train loss: 0.1505091244099187 | val loss: 0.1322333999708587 |\n",
      "Epoch:  87%|████████▋ | 130/150 [01:02<00:09,  2.15it/s]\n",
      "EP_129 | train loss: 0.15357473130319632 | val loss: 0.12878726510440602 |\n",
      "Epoch:  87%|████████▋ | 131/150 [01:02<00:09,  2.09it/s]\n",
      "EP_130 | train loss: 0.1404335435699014 | val loss: 0.12605779311236212 |\n",
      "Epoch:  88%|████████▊ | 132/150 [01:03<00:08,  2.03it/s]\n",
      "EP_131 | train loss: 0.1491465781249252 | val loss: 0.15228859116049373 |\n",
      "Epoch:  89%|████████▊ | 133/150 [01:03<00:08,  2.03it/s]\n",
      "EP_132 | train loss: 0.13162697109521604 | val loss: 0.11861735932967242 |\n",
      "Epoch:  89%|████████▉ | 134/150 [01:04<00:07,  2.01it/s]\n",
      "EP_133 | train loss: 0.1276504059632619 | val loss: 0.12219117435754515 |\n",
      "Epoch:  90%|█████████ | 135/150 [01:04<00:07,  2.03it/s]\n",
      "EP_134 | train loss: 0.12396863909328686 | val loss: 0.12045644311343923 |\n",
      "Epoch:  91%|█████████ | 136/150 [01:05<00:06,  2.04it/s]\n",
      "EP_135 | train loss: 0.11953018962168226 | val loss: 0.10954373256832946 |\n",
      "Epoch:  91%|█████████▏| 137/150 [01:05<00:06,  2.07it/s]\n",
      "EP_136 | train loss: 0.12544448328953164 | val loss: 0.1082066624772315 |\n",
      "Epoch:  92%|█████████▏| 138/150 [01:06<00:05,  2.07it/s]\n",
      "EP_137 | train loss: 0.11477390364104627 | val loss: 0.10342000278772093 |\n",
      "Epoch:  93%|█████████▎| 139/150 [01:06<00:05,  2.03it/s]\n",
      "EP_138 | train loss: 0.10880379852126626 | val loss: 0.10076568407170913 |\n",
      "Epoch:  93%|█████████▎| 140/150 [01:07<00:04,  2.01it/s]\n",
      "EP_139 | train loss: 0.11149412662375208 | val loss: 0.11522865762897566 |\n",
      "Epoch:  94%|█████████▍| 141/150 [01:07<00:04,  2.02it/s]\n",
      "EP_140 | train loss: 0.1008908258933647 | val loss: 0.09735723804025088 |\n",
      "Epoch:  95%|█████████▍| 142/150 [01:08<00:03,  2.04it/s]\n",
      "EP_141 | train loss: 0.09789837423492881 | val loss: 0.09277042454364252 |\n",
      "Epoch:  95%|█████████▌| 143/150 [01:08<00:03,  2.05it/s]\n",
      "EP_142 | train loss: 0.09267669857717027 | val loss: 0.08975150889041376 |\n",
      "Epoch:  96%|█████████▌| 144/150 [01:09<00:02,  2.06it/s]\n",
      "EP_143 | train loss: 0.09296137316554201 | val loss: 0.09675111022650026 |\n",
      "Epoch:  97%|█████████▋| 145/150 [01:09<00:02,  2.06it/s]\n",
      "EP_144 | train loss: 0.08741528987884521 | val loss: 0.0886465825286566 |\n",
      "Epoch:  97%|█████████▋| 146/150 [01:09<00:01,  2.09it/s]\n",
      "EP_145 | train loss: 0.08391256729761759 | val loss: 0.08388774885850794 |\n",
      "Epoch:  98%|█████████▊| 147/150 [01:10<00:01,  2.10it/s]\n",
      "EP_146 | train loss: 0.08201300373264388 | val loss: 0.07985520362854004 |\n",
      "Epoch:  99%|█████████▊| 148/150 [01:10<00:00,  2.14it/s]\n",
      "EP_147 | train loss: 0.07844375640738244 | val loss: 0.08002756389917112 |\n",
      "Epoch:  99%|█████████▉| 149/150 [01:11<00:00,  2.15it/s]\n",
      "EP_148 | train loss: 0.07769598516763425 | val loss: 0.07667523505640965 |\n",
      "Epoch: 100%|██████████| 150/150 [01:11<00:00,  2.09it/s]\n",
      "EP_149 | train loss: 0.07665660299506842 | val loss: 0.07262598065768971 |\n",
      "\n"
     ]
    }
   ],
   "source": [
    "AttractiveTrainer.train()"
   ]
  },
  {
   "cell_type": "markdown",
   "metadata": {},
   "source": [
    "## Below is testing"
   ]
  },
  {
   "cell_type": "code",
   "execution_count": 6,
   "metadata": {},
   "outputs": [
    {
     "output_type": "execute_result",
     "data": {
      "text/plain": [
       "AttractiveNet(\n",
       "  (embedding): AttractiveEmbedding(\n",
       "    (token): TokenEmbedding(12034, 300, padding_idx=1)\n",
       "  )\n",
       "  (bigramcnn): Sequential(\n",
       "    (0): Conv1d(300, 210, kernel_size=(2,), stride=(1,), padding=(1,))\n",
       "    (1): ReLU()\n",
       "    (2): Conv1d(210, 100, kernel_size=(2,), stride=(1,), padding=(1,))\n",
       "    (3): ReLU()\n",
       "    (4): Dropout(p=0.5, inplace=False)\n",
       "  )\n",
       "  (trigramcnn): Sequential(\n",
       "    (0): Conv1d(300, 210, kernel_size=(3,), stride=(1,), padding=(1,))\n",
       "    (1): ReLU()\n",
       "    (2): Conv1d(210, 100, kernel_size=(3,), stride=(1,), padding=(1,))\n",
       "    (3): ReLU()\n",
       "    (4): Dropout(p=0.5, inplace=False)\n",
       "  )\n",
       "  (encoder_bigram): LSTM(100, 30, batch_first=True, dropout=0.5, bidirectional=True)\n",
       "  (encoder_trigram): LSTM(100, 30, batch_first=True, dropout=0.5, bidirectional=True)\n",
       "  (linear): Sequential(\n",
       "    (0): Linear(in_features=128, out_features=30, bias=True)\n",
       "    (1): ReLU()\n",
       "    (2): Linear(in_features=30, out_features=1, bias=True)\n",
       "  )\n",
       ")"
      ]
     },
     "metadata": {},
     "execution_count": 6
    }
   ],
   "source": [
    "from attractivenet import AttractiveNet\n",
    "\n",
    "PATH = './model/CNN_LSTM_20201110-210920/0.359983.78'\n",
    "\n",
    "load_model = AttractiveNet(config).to(AttractiveData.device)\n",
    "load_model.load_state_dict(torch.load(PATH))\n",
    "load_model.eval()"
   ]
  },
  {
   "cell_type": "code",
   "execution_count": 7,
   "metadata": {},
   "outputs": [],
   "source": [
    "def predict_attractive(sentence, category, phase):\n",
    "    indexed_sentence = [AttractiveData.TEXT.vocab.stoi[t] for t in sentence]\n",
    "    indexed_category = [AttractiveData.CATEGORIES_LABEL.vocab.stoi[category]]\n",
    "    tensor_sentence = torch.LongTensor(indexed_sentence).to(AttractiveData.device)\n",
    "    tensor_category = torch.LongTensor(indexed_category).to(AttractiveData.device)\n",
    "    tensor_sentence = tensor_sentence.unsqueeze(0)\n",
    "\n",
    "    prediction = load_model(tensor_sentence, tensor_category, phase=phase)\n",
    "\n",
    "    return prediction"
   ]
  },
  {
   "cell_type": "code",
   "execution_count": 8,
   "metadata": {
    "tags": []
   },
   "outputs": [],
   "source": [
    "predict_list = []\n",
    "with torch.no_grad():\n",
    "    for i, sentence in enumerate(AttractiveData.test_data):\n",
    "        prediction = predict_attractive(sentence.Headline, sentence.Category, 'test')\n",
    "        predict_list.append(prediction.item())\n",
    "\n",
    "AttractiveData.df_test['Label'] = predict_list\n",
    "AttractiveData.df_test[['ID', 'Label']].to_csv(config['save_name'] + '.csv', index=False)"
   ]
  },
  {
   "cell_type": "markdown",
   "metadata": {},
   "source": [
    "## Below for statistics"
   ]
  },
  {
   "cell_type": "code",
   "execution_count": 9,
   "metadata": {},
   "outputs": [],
   "source": [
    "import statistics\n",
    "from sklearn.metrics import mean_squared_error"
   ]
  },
  {
   "cell_type": "code",
   "execution_count": 10,
   "metadata": {},
   "outputs": [],
   "source": [
    "# # train mean = 3.15, test mean = 2.8\n",
    "# train_list = []\n",
    "# for i, sentence in enumerate(AttractiveData.train_data):\n",
    "#     prediction = predict_attractive(sentence.Headline, sentence.Category, 'train')\n",
    "#     train_list.append(prediction.item())\n",
    "#     # train_list.append(prediction.item())\n",
    "# # print(train_list)\n",
    "# mean_squared_error(pd.read_csv('data/train.csv').sort_values(['ID']).Label.to_list(), train_list), statistics.mean(train_list), statistics.stdev(train_list)"
   ]
  },
  {
   "cell_type": "code",
   "execution_count": 11,
   "metadata": {},
   "outputs": [],
   "source": [
    "# train_list[0:5], pd.read_csv('data/train.csv').sort_values(['ID']).Label.to_list()[0:5]"
   ]
  },
  {
   "cell_type": "code",
   "execution_count": 12,
   "metadata": {},
   "outputs": [],
   "source": [
    "# a = AttractiveData.df_train['Label'].to_list()\n",
    "# statistics.mean(a), statistics.stdev(a)"
   ]
  },
  {
   "cell_type": "code",
   "execution_count": 13,
   "metadata": {},
   "outputs": [
    {
     "output_type": "execute_result",
     "data": {
      "text/plain": [
       "(2.7025858316127422, 0.32338338991394217)"
      ]
     },
     "metadata": {},
     "execution_count": 13
    }
   ],
   "source": [
    "statistics.mean(predict_list), statistics.stdev(predict_list)"
   ]
  },
  {
   "cell_type": "code",
   "execution_count": 14,
   "metadata": {},
   "outputs": [
    {
     "output_type": "execute_result",
     "data": {
      "text/plain": [
       "(0.04954151527706978, 2.8142020345259344, 0.36798823904910916)"
      ]
     },
     "metadata": {},
     "execution_count": 14
    }
   ],
   "source": [
    "baseline_list = pd.read_csv('baseline.csv').sort_values(['ID']).Label.to_list()\n",
    "mean_squared_error(baseline_list, predict_list), statistics.mean(baseline_list), statistics.stdev(baseline_list)"
   ]
  },
  {
   "cell_type": "code",
   "execution_count": null,
   "metadata": {},
   "outputs": [],
   "source": []
  },
  {
   "cell_type": "code",
   "execution_count": 17,
   "metadata": {},
   "outputs": [
    {
     "output_type": "execute_result",
     "data": {
      "text/plain": [
       "0.0"
      ]
     },
     "metadata": {},
     "execution_count": 17
    }
   ],
   "source": [
    "mean_squared_error(pd.read_csv('baseline.csv').sort_values(['ID']).Label.to_list(), pd.read_csv('../309551062/predict/CNN_LSTM_20201109-125007_0.374958.75.csv').sort_values(['ID']).Label.to_list())"
   ]
  },
  {
   "cell_type": "code",
   "execution_count": 13,
   "metadata": {},
   "outputs": [],
   "source": []
  },
  {
   "cell_type": "code",
   "execution_count": null,
   "metadata": {},
   "outputs": [],
   "source": []
  }
 ],
 "metadata": {
  "kernelspec": {
   "display_name": "DS_hw2",
   "language": "python",
   "name": "ds_hw2"
  },
  "language_info": {
   "codemirror_mode": {
    "name": "ipython",
    "version": 3
   },
   "file_extension": ".py",
   "mimetype": "text/x-python",
   "name": "python",
   "nbconvert_exporter": "python",
   "pygments_lexer": "ipython3",
   "version": "3.6.12-final"
  }
 },
 "nbformat": 4,
 "nbformat_minor": 4
}