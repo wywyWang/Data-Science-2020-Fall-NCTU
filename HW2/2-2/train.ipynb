{
 "cells": [
  {
   "cell_type": "code",
   "execution_count": 1,
   "metadata": {},
   "outputs": [],
   "source": [
    "# common packages\n",
    "import pandas as pd\n",
    "import time\n",
    "\n",
    "# # DL framework\n",
    "import torch\n",
    "from torchtext import data\n",
    "\n",
    "from attractivedata import AttractiveData\n",
    "from trainer import AttractiveTrainer"
   ]
  },
  {
   "cell_type": "code",
   "execution_count": 2,
   "metadata": {},
   "outputs": [],
   "source": [
    "seed_value = 42\n",
    "torch.manual_seed(seed_value)\n",
    "torch.cuda.manual_seed(seed_value)\n",
    "torch.cuda.manual_seed_all(seed_value) # gpu vars\n",
    "torch.backends.cudnn.deterministic = True  #needed\n",
    "torch.backends.cudnn.benchmark = False"
   ]
  },
  {
   "cell_type": "markdown",
   "metadata": {},
   "source": [
    "# TODO: \n",
    "- [ ] cnn plus residual network\n",
    "- [ ] word embedding multiply tfidf\n",
    "- [ ] use word2vec"
   ]
  },
  {
   "cell_type": "markdown",
   "metadata": {},
   "source": [
    "## Load and prepare data"
   ]
  },
  {
   "cell_type": "code",
   "execution_count": 3,
   "metadata": {},
   "outputs": [],
   "source": [
    "train_file = 'data/train.csv'\n",
    "val_file = 'example/val.csv'\n",
    "test_file = 'data/test.csv'\n",
    "pretrained_file = 'glove.840B.300d'\n",
    "config = {\n",
    "    'max_seq': 40,\n",
    "    'min_freq': 0,\n",
    "    'batch_size': 51,\n",
    "    'pretrained_file': pretrained_file\n",
    "}\n"
   ]
  },
  {
   "cell_type": "code",
   "execution_count": 4,
   "metadata": {},
   "outputs": [],
   "source": [
    "AttractiveData = AttractiveData(train_file, val_file, test_file, pretrained_file, config)"
   ]
  },
  {
   "cell_type": "markdown",
   "metadata": {},
   "source": [
    "## Start to train"
   ]
  },
  {
   "cell_type": "code",
   "execution_count": 5,
   "metadata": {},
   "outputs": [
    {
     "output_type": "stream",
     "name": "stdout",
     "text": [
      "torch.Size([12699, 300])\n"
     ]
    }
   ],
   "source": [
    "config['timestr'] = time.strftime(\"%Y%m%d-%H%M%S\")\n",
    "config['save_name'] = 'CNN_LSTM'\n",
    "config['input_dim'] = len(AttractiveData.TEXT.vocab)\n",
    "config['embedding_dim'] = 300\n",
    "config['category_dim'] = len(AttractiveData.CATEGORIES_LABEL.vocab)\n",
    "config['category_embedding_dim'] = 10\n",
    "config['hidden_dim'] = 30\n",
    "config['output_dim'] = 1\n",
    "config['log_steps'] = 10\n",
    "config['epochs'] = 200\n",
    "config['lr'] = {\n",
    "    'encoder': 1e-5,\n",
    "    'embedding': 6e-6,\n",
    "    'linear': 1e-5\n",
    "}\n",
    "config['num_layers'] = 1\n",
    "config['kernel_size'] = 3\n",
    "config['dropout'] = 0.5\n",
    "config['train_len'] = AttractiveData.train_len\n",
    "config['val_len'] = AttractiveData.val_len\n",
    "config['test_len'] = AttractiveData.test_len\n",
    "\n",
    "pretrained_embeddings = AttractiveData.TEXT.vocab.vectors\n",
    "print(pretrained_embeddings.shape)"
   ]
  },
  {
   "cell_type": "code",
   "execution_count": 6,
   "metadata": {},
   "outputs": [],
   "source": [
    "AttractiveTrainer = AttractiveTrainer(config, AttractiveData.device, AttractiveData.trainloader, AttractiveData.valloader, pretrained_embeddings)"
   ]
  },
  {
   "cell_type": "code",
   "execution_count": 7,
   "metadata": {},
   "outputs": [
    {
     "output_type": "execute_result",
     "data": {
      "text/plain": [
       "(AttractiveNet(\n",
       "   (embedding): AttractiveEmbedding(\n",
       "     (token): TokenEmbedding(12699, 300, padding_idx=1)\n",
       "   )\n",
       "   (bigramcnn): Sequential(\n",
       "     (0): Conv1d(300, 210, kernel_size=(2,), stride=(1,), padding=(1,))\n",
       "     (1): ReLU()\n",
       "     (2): Conv1d(210, 100, kernel_size=(2,), stride=(1,), padding=(1,))\n",
       "     (3): ReLU()\n",
       "     (4): Dropout(p=0.5, inplace=False)\n",
       "   )\n",
       "   (trigramcnn): Sequential(\n",
       "     (0): Conv1d(300, 210, kernel_size=(3,), stride=(1,), padding=(1,))\n",
       "     (1): ReLU()\n",
       "     (2): Conv1d(210, 100, kernel_size=(3,), stride=(1,), padding=(1,))\n",
       "     (3): ReLU()\n",
       "     (4): Dropout(p=0.5, inplace=False)\n",
       "   )\n",
       "   (encoder_bigram): LSTM(100, 30, batch_first=True, dropout=0.5, bidirectional=True)\n",
       "   (encoder_trigram): LSTM(100, 30, batch_first=True, dropout=0.5, bidirectional=True)\n",
       "   (linear): Sequential(\n",
       "     (0): Linear(in_features=128, out_features=30, bias=True)\n",
       "     (1): ReLU()\n",
       "     (2): Linear(in_features=30, out_features=1, bias=True)\n",
       "   )\n",
       " ),\n",
       " 4297581,\n",
       " 4297581)"
      ]
     },
     "metadata": {},
     "execution_count": 7
    }
   ],
   "source": [
    "AttractiveTrainer.model, AttractiveTrainer.config['total_params'], AttractiveTrainer.config['total_learned_params']"
   ]
  },
  {
   "cell_type": "code",
   "execution_count": 8,
   "metadata": {
    "tags": [
     "outputPrepend"
    ]
   },
   "outputs": [
    {
     "output_type": "stream",
     "name": "stderr",
     "text": [
      "0 [00:23<01:16,  2.00it/s]\n",
      "EP_47 | train loss: 0.4343173349604887 | val loss: 0.36326880548514573 |\n",
      "Epoch:  24%|██▍       | 49/200 [00:23<01:14,  2.03it/s]\n",
      "EP_48 | train loss: 0.4348266667010737 | val loss: 0.36250627742094155 |\n",
      "Epoch:  25%|██▌       | 50/200 [00:24<01:14,  2.02it/s]\n",
      "EP_49 | train loss: 0.4285766685710234 | val loss: 0.3567393059824027 |\n",
      "Epoch:  26%|██▌       | 51/200 [00:24<01:14,  2.00it/s]\n",
      "EP_50 | train loss: 0.42822579870037003 | val loss: 0.35558565925149355 |\n",
      "Epoch:  26%|██▌       | 52/200 [00:25<01:14,  1.99it/s]\n",
      "EP_51 | train loss: 0.42802058388205133 | val loss: 0.3543020510206036 |\n",
      "Epoch:  26%|██▋       | 53/200 [00:25<01:13,  2.00it/s]\n",
      "EP_52 | train loss: 0.42354315028471107 | val loss: 0.350010684892243 |\n",
      "Epoch:  27%|██▋       | 54/200 [00:26<01:11,  2.04it/s]\n",
      "EP_53 | train loss: 0.42392436102324843 | val loss: 0.34959644429823933 |\n",
      "Epoch:  28%|██▊       | 55/200 [00:26<01:10,  2.06it/s]\n",
      "EP_54 | train loss: 0.41732371414408964 | val loss: 0.3448492592456294 |\n",
      "Epoch:  28%|██▊       | 56/200 [00:27<01:10,  2.04it/s]\n",
      "EP_55 | train loss: 0.41546369346917844 | val loss: 0.34346163506601374 |\n",
      "Epoch:  28%|██▊       | 57/200 [00:27<01:09,  2.06it/s]\n",
      "EP_56 | train loss: 0.4138664540122537 | val loss: 0.34197474928463206 |\n",
      "Epoch:  29%|██▉       | 58/200 [00:28<01:08,  2.07it/s]\n",
      "EP_57 | train loss: 0.4162425190794702 | val loss: 0.34266387715059166 |\n",
      "Epoch:  30%|██▉       | 59/200 [00:28<01:07,  2.08it/s]\n",
      "EP_58 | train loss: 0.41197715834075327 | val loss: 0.3393270829144646 |\n",
      "Epoch:  30%|███       | 60/200 [00:29<01:06,  2.10it/s]\n",
      "EP_59 | train loss: 0.4065154300016515 | val loss: 0.33754680670943915 |\n",
      "Epoch:  30%|███       | 61/200 [00:29<01:07,  2.06it/s]\n",
      "EP_60 | train loss: 0.41014897963579966 | val loss: 0.3378306603899189 |\n",
      "Epoch:  31%|███       | 62/200 [00:30<01:07,  2.05it/s]\n",
      "EP_61 | train loss: 0.4091804981231689 | val loss: 0.3367622085646087 |\n",
      "Epoch:  32%|███▏      | 63/200 [00:30<01:06,  2.07it/s]\n",
      "EP_62 | train loss: 0.4014907804189944 | val loss: 0.3336852672053318 |\n",
      "Epoch:  32%|███▏      | 64/200 [00:31<01:05,  2.07it/s]\n",
      "EP_63 | train loss: 0.4016148548500211 | val loss: 0.33277325536690505 |\n",
      "Epoch:  32%|███▎      | 65/200 [00:31<01:05,  2.07it/s]\n",
      "EP_64 | train loss: 0.4010521220225914 | val loss: 0.33249080882352944 |\n",
      "Epoch:  33%|███▎      | 66/200 [00:32<01:05,  2.03it/s]\n",
      "EP_65 | train loss: 0.39533292499243045 | val loss: 0.33049096313177373 |\n",
      "Epoch:  34%|███▎      | 67/200 [00:32<01:04,  2.05it/s]\n",
      "EP_66 | train loss: 0.39339272788926666 | val loss: 0.32919884195514754 |\n",
      "Epoch:  34%|███▍      | 68/200 [00:33<01:04,  2.05it/s]\n",
      "EP_67 | train loss: 0.39691047715205774 | val loss: 0.33008453892726525 |\n",
      "Epoch:  34%|███▍      | 69/200 [00:33<01:03,  2.06it/s]\n",
      "EP_68 | train loss: 0.38748121121350454 | val loss: 0.32822443924698175 |\n",
      "Epoch:  35%|███▌      | 70/200 [00:34<01:03,  2.05it/s]\n",
      "EP_69 | train loss: 0.39368843471302706 | val loss: 0.3268883836035635 |\n",
      "Epoch:  36%|███▌      | 71/200 [00:34<01:04,  2.00it/s]\n",
      "EP_70 | train loss: 0.3830483754475911 | val loss: 0.32356807764838724 |\n",
      "Epoch:  36%|███▌      | 72/200 [00:35<01:04,  1.99it/s]\n",
      "EP_71 | train loss: 0.3835070025687124 | val loss: 0.32285535101797064 |\n",
      "Epoch:  36%|███▋      | 73/200 [00:35<01:03,  2.00it/s]\n",
      "EP_72 | train loss: 0.37761386796539903 | val loss: 0.32153014575733857 |\n",
      "Epoch:  37%|███▋      | 74/200 [00:36<01:03,  1.99it/s]\n",
      "EP_73 | train loss: 0.37652396641525565 | val loss: 0.3219957725674498 |\n",
      "Epoch:  38%|███▊      | 75/200 [00:36<01:02,  1.99it/s]\n",
      "EP_74 | train loss: 0.3733362927156336 | val loss: 0.3197787696239995 |\n",
      "Epoch:  38%|███▊      | 76/200 [00:37<01:03,  1.95it/s]\n",
      "EP_75 | train loss: 0.37001088740778904 | val loss: 0.3197285895254098 |\n",
      "Epoch:  38%|███▊      | 77/200 [00:37<01:02,  1.98it/s]\n",
      "EP_76 | train loss: 0.37480711703206976 | val loss: 0.3184015376895082 |\n",
      "Epoch:  39%|███▉      | 78/200 [00:38<01:00,  2.01it/s]\n",
      "EP_77 | train loss: 0.3744774421056112 | val loss: 0.31869785925921273 |\n",
      "Epoch:  40%|███▉      | 79/200 [00:38<00:59,  2.03it/s]\n",
      "EP_78 | train loss: 0.3667327661140292 | val loss: 0.3155815227358949 |\n",
      "Epoch:  40%|████      | 80/200 [00:39<00:59,  2.03it/s]\n",
      "EP_79 | train loss: 0.36203419133728626 | val loss: 0.3144259920307234 |\n",
      "Epoch:  40%|████      | 81/200 [00:39<00:59,  2.01it/s]\n",
      "EP_80 | train loss: 0.3584725585638308 | val loss: 0.3126228323169783 |\n",
      "Epoch:  41%|████      | 82/200 [00:40<00:58,  2.02it/s]\n",
      "EP_81 | train loss: 0.3553441519830741 | val loss: 0.31197287054622874 |\n",
      "Epoch:  42%|████▏     | 83/200 [00:40<00:57,  2.04it/s]\n",
      "EP_82 | train loss: 0.3529217289943321 | val loss: 0.3099403521593879 |\n",
      "Epoch:  42%|████▏     | 84/200 [00:41<00:57,  2.03it/s]\n",
      "EP_83 | train loss: 0.350308380874933 | val loss: 0.3072954626644359 |\n",
      "Epoch:  42%|████▎     | 85/200 [00:41<00:55,  2.07it/s]\n",
      "EP_84 | train loss: 0.35018645080865596 | val loss: 0.30656014236749385 |\n",
      "Epoch:  43%|████▎     | 86/200 [00:42<00:55,  2.07it/s]\n",
      "EP_85 | train loss: 0.34884705824010515 | val loss: 0.30478396602705415 |\n",
      "Epoch:  44%|████▎     | 87/200 [00:42<00:55,  2.04it/s]\n",
      "EP_86 | train loss: 0.34324807139003977 | val loss: 0.3021373842276779 |\n",
      "Epoch:  44%|████▍     | 88/200 [00:43<00:55,  2.02it/s]\n",
      "EP_87 | train loss: 0.33883035930932737 | val loss: 0.29959409377154184 |\n",
      "Epoch:  44%|████▍     | 89/200 [00:43<00:54,  2.04it/s]\n",
      "EP_88 | train loss: 0.344970077159358 | val loss: 0.29941365298102884 |\n",
      "Epoch:  45%|████▌     | 90/200 [00:44<00:54,  2.02it/s]\n",
      "EP_89 | train loss: 0.341378813865138 | val loss: 0.2971800402099011 |\n",
      "Epoch:  46%|████▌     | 91/200 [00:44<00:53,  2.03it/s]\n",
      "EP_90 | train loss: 0.3294471165713142 | val loss: 0.2953689706091787 |\n",
      "Epoch:  46%|████▌     | 92/200 [00:45<00:52,  2.05it/s]\n",
      "EP_91 | train loss: 0.32526021471210553 | val loss: 0.29234788932052314 |\n",
      "Epoch:  46%|████▋     | 93/200 [00:45<00:53,  2.02it/s]\n",
      "EP_92 | train loss: 0.3223694137498444 | val loss: 0.29116060219559015 |\n",
      "Epoch:  47%|████▋     | 94/200 [00:46<00:53,  1.98it/s]\n",
      "EP_93 | train loss: 0.3267295005274754 | val loss: 0.2886196258021336 |\n",
      "Epoch:  48%|████▊     | 95/200 [00:46<00:52,  1.99it/s]\n",
      "EP_94 | train loss: 0.31980667628493964 | val loss: 0.2850022175732781 |\n",
      "Epoch:  48%|████▊     | 96/200 [00:47<00:53,  1.93it/s]\n",
      "EP_95 | train loss: 0.31459761226878447 | val loss: 0.2827934003343769 |\n",
      "Epoch:  48%|████▊     | 97/200 [00:47<00:52,  1.95it/s]\n",
      "EP_96 | train loss: 0.3081615642005322 | val loss: 0.28157754037894456 |\n",
      "Epoch:  49%|████▉     | 98/200 [00:48<00:51,  2.00it/s]\n",
      "EP_97 | train loss: 0.3055312198751113 | val loss: 0.27821020051544787 |\n",
      "Epoch:  50%|████▉     | 99/200 [00:48<00:50,  1.99it/s]\n",
      "EP_98 | train loss: 0.30138515397614124 | val loss: 0.27692777035283106 |\n",
      "Epoch:  50%|█████     | 100/200 [00:49<00:50,  2.00it/s]\n",
      "EP_99 | train loss: 0.2983205094056971 | val loss: 0.2738184414657892 |\n",
      "Epoch:  50%|█████     | 101/200 [00:49<00:50,  1.96it/s]\n",
      "EP_100 | train loss: 0.2988081373420416 | val loss: 0.27089400852427764 |\n",
      "Epoch:  51%|█████     | 102/200 [00:50<00:49,  1.98it/s]\n",
      "EP_101 | train loss: 0.29035408216364245 | val loss: 0.26852694212221634 |\n",
      "Epoch:  52%|█████▏    | 103/200 [00:50<00:48,  1.99it/s]\n",
      "EP_102 | train loss: 0.2897744379791559 | val loss: 0.26390602074417413 |\n",
      "Epoch:  52%|█████▏    | 104/200 [00:51<00:48,  1.98it/s]\n",
      "EP_103 | train loss: 0.2838676597557816 | val loss: 0.2615012842066148 |\n",
      "Epoch:  52%|█████▎    | 105/200 [00:51<00:47,  2.01it/s]\n",
      "EP_104 | train loss: 0.2813265842549941 | val loss: 0.25757064071356084 |\n",
      "Epoch:  53%|█████▎    | 106/200 [00:52<00:46,  2.01it/s]\n",
      "EP_105 | train loss: 0.27661826984555116 | val loss: 0.2553757031758626 |\n",
      "Epoch:  54%|█████▎    | 107/200 [00:52<00:45,  2.03it/s]\n",
      "EP_106 | train loss: 0.27117681456547155 | val loss: 0.2542889164943321 |\n",
      "Epoch:  54%|█████▍    | 108/200 [00:53<00:45,  2.04it/s]\n",
      "EP_107 | train loss: 0.2682184948640711 | val loss: 0.2572315113217223 |\n",
      "Epoch:  55%|█████▍    | 109/200 [00:53<00:44,  2.05it/s]\n",
      "EP_108 | train loss: 0.27031707342933203 | val loss: 0.24692268932566924 |\n",
      "Epoch:  55%|█████▌    | 110/200 [00:54<00:43,  2.05it/s]\n",
      "EP_109 | train loss: 0.2609079627429738 | val loss: 0.24317137400309244 |\n",
      "Epoch:  56%|█████▌    | 111/200 [00:54<00:44,  2.01it/s]\n",
      "EP_110 | train loss: 0.254157914834864 | val loss: 0.24314387639363608 |\n",
      "Epoch:  56%|█████▌    | 112/200 [00:55<00:43,  2.02it/s]\n",
      "EP_111 | train loss: 0.2514126681814007 | val loss: 0.23978820969076717 |\n",
      "Epoch:  56%|█████▋    | 113/200 [00:55<00:42,  2.03it/s]\n",
      "EP_112 | train loss: 0.2496735039879294 | val loss: 0.2316459767958697 |\n",
      "Epoch:  57%|█████▋    | 114/200 [00:56<00:42,  2.02it/s]\n",
      "EP_113 | train loss: 0.24276542383081773 | val loss: 0.22972979265100815 |\n",
      "Epoch:  57%|█████▊    | 115/200 [00:56<00:41,  2.03it/s]\n",
      "EP_114 | train loss: 0.243498831169278 | val loss: 0.22265474469053978 |\n",
      "Epoch:  58%|█████▊    | 116/200 [00:57<00:42,  1.99it/s]\n",
      "EP_115 | train loss: 0.24005812850652958 | val loss: 0.2205376718558517 |\n",
      "Epoch:  58%|█████▊    | 117/200 [00:57<00:41,  2.01it/s]\n",
      "EP_116 | train loss: 0.23135615049623975 | val loss: 0.22376825762730018 |\n",
      "Epoch:  59%|█████▉    | 118/200 [00:58<00:41,  1.98it/s]\n",
      "EP_117 | train loss: 0.22607946395874023 | val loss: 0.21382603458329744 |\n",
      "Epoch:  60%|█████▉    | 119/200 [00:58<00:40,  1.99it/s]\n",
      "EP_118 | train loss: 0.2220524322752859 | val loss: 0.2124459229263605 |\n",
      "Epoch:  60%|██████    | 120/200 [00:59<00:39,  2.02it/s]\n",
      "EP_119 | train loss: 0.21760833684135886 | val loss: 0.20853284761017443 |\n",
      "Epoch:  60%|██████    | 121/200 [00:59<00:39,  2.02it/s]\n",
      "EP_120 | train loss: 0.21397274452097276 | val loss: 0.19932881056093701 |\n",
      "Epoch:  61%|██████    | 122/200 [01:00<00:38,  2.01it/s]\n",
      "EP_121 | train loss: 0.21884507712195903 | val loss: 0.1972198439579384 |\n",
      "Epoch:  62%|██████▏   | 123/200 [01:00<00:38,  2.00it/s]\n",
      "EP_122 | train loss: 0.2080350873517055 | val loss: 0.1905210625891592 |\n",
      "Epoch:  62%|██████▏   | 124/200 [01:01<00:39,  1.94it/s]\n",
      "EP_123 | train loss: 0.19962514872644463 | val loss: 0.190794729718975 |\n",
      "Epoch:  62%|██████▎   | 125/200 [01:01<00:39,  1.90it/s]\n",
      "EP_124 | train loss: 0.19654695824080823 | val loss: 0.1891467758253509 |\n",
      "Epoch:  63%|██████▎   | 126/200 [01:02<00:39,  1.86it/s]\n",
      "EP_125 | train loss: 0.19464710109374103 | val loss: 0.17794505053875492 |\n",
      "Epoch:  64%|██████▎   | 127/200 [01:02<00:38,  1.91it/s]\n",
      "EP_126 | train loss: 0.20095021561080334 | val loss: 0.17634170663123036 |\n",
      "Epoch:  64%|██████▍   | 128/200 [01:03<00:37,  1.91it/s]\n",
      "EP_127 | train loss: 0.19128097436007332 | val loss: 0.17113457941541485 |\n",
      "Epoch:  64%|██████▍   | 129/200 [01:03<00:37,  1.91it/s]\n",
      "EP_128 | train loss: 0.17860390882866056 | val loss: 0.16813111772724226 |\n",
      "Epoch:  65%|██████▌   | 130/200 [01:04<00:36,  1.93it/s]\n",
      "EP_129 | train loss: 0.17380534597471647 | val loss: 0.16082092126210532 |\n",
      "Epoch:  66%|██████▌   | 131/200 [01:04<00:35,  1.93it/s]\n",
      "EP_130 | train loss: 0.169343223992516 | val loss: 0.15885704638911227 |\n",
      "Epoch:  66%|██████▌   | 132/200 [01:05<00:34,  1.97it/s]\n",
      "EP_131 | train loss: 0.16466973131778193 | val loss: 0.15454837387683346 |\n",
      "Epoch:  66%|██████▋   | 133/200 [01:05<00:33,  1.99it/s]\n",
      "EP_132 | train loss: 0.15976372629988428 | val loss: 0.15263142772749358 |\n",
      "Epoch:  67%|██████▋   | 134/200 [01:06<00:33,  2.00it/s]\n",
      "EP_133 | train loss: 0.16068239375656726 | val loss: 0.14453052305707745 |\n",
      "Epoch:  68%|██████▊   | 135/200 [01:06<00:32,  1.99it/s]\n",
      "EP_134 | train loss: 0.15172455567939608 | val loss: 0.14335163434346518 |\n",
      "Epoch:  68%|██████▊   | 136/200 [01:07<00:32,  1.97it/s]\n",
      "EP_135 | train loss: 0.15015035774193558 | val loss: 0.14680922732633703 |\n",
      "Epoch:  68%|██████▊   | 137/200 [01:07<00:31,  1.99it/s]\n",
      "EP_136 | train loss: 0.1443202161321453 | val loss: 0.13121446441201604 |\n",
      "Epoch:  69%|██████▉   | 138/200 [01:08<00:30,  2.00it/s]\n",
      "EP_137 | train loss: 0.13894601359086878 | val loss: 0.13305329809001848 |\n",
      "Epoch:  70%|██████▉   | 139/200 [01:08<00:30,  2.02it/s]\n",
      "EP_138 | train loss: 0.13613485705618764 | val loss: 0.12355624226962819 |\n",
      "Epoch:  70%|███████   | 140/200 [01:09<00:29,  2.04it/s]\n",
      "EP_139 | train loss: 0.13519024732066134 | val loss: 0.11873112239089667 |\n",
      "Epoch:  70%|███████   | 141/200 [01:09<00:29,  2.03it/s]\n",
      "EP_140 | train loss: 0.12526110784680236 | val loss: 0.1177363348942177 |\n",
      "Epoch:  71%|███████   | 142/200 [01:10<00:28,  2.03it/s]\n",
      "EP_141 | train loss: 0.12152723132395277 | val loss: 0.10997838600009095 |\n",
      "Epoch:  72%|███████▏  | 143/200 [01:10<00:28,  2.02it/s]\n",
      "EP_142 | train loss: 0.12225523766349344 | val loss: 0.10707659581128288 |\n",
      "Epoch:  72%|███████▏  | 144/200 [01:11<00:27,  2.03it/s]\n",
      "EP_143 | train loss: 0.11371039865063685 | val loss: 0.10422813658620797 |\n",
      "Epoch:  72%|███████▎  | 145/200 [01:11<00:27,  2.03it/s]\n",
      "EP_144 | train loss: 0.12489644966873469 | val loss: 0.10682685468711105 |\n",
      "Epoch:  73%|███████▎  | 146/200 [01:12<00:26,  2.02it/s]\n",
      "EP_145 | train loss: 0.1086297638276044 | val loss: 0.09678812354218726 |\n",
      "Epoch:  74%|███████▎  | 147/200 [01:12<00:26,  2.03it/s]\n",
      "EP_146 | train loss: 0.10559910009889041 | val loss: 0.10373203544055715 |\n",
      "Epoch:  74%|███████▍  | 148/200 [01:13<00:25,  2.04it/s]\n",
      "EP_147 | train loss: 0.09972904979013929 | val loss: 0.09012949116089765 |\n",
      "Epoch:  74%|███████▍  | 149/200 [01:13<00:24,  2.05it/s]\n",
      "EP_148 | train loss: 0.09977580367350111 | val loss: 0.08727364797218173 |\n",
      "Epoch:  75%|███████▌  | 150/200 [01:14<00:24,  2.06it/s]\n",
      "EP_149 | train loss: 0.0954642840460235 | val loss: 0.08321608281603046 |\n",
      "Epoch:  76%|███████▌  | 151/200 [01:14<00:24,  2.04it/s]\n",
      "EP_150 | train loss: 0.10911564078985476 | val loss: 0.09200641688178568 |\n",
      "Epoch:  76%|███████▌  | 152/200 [01:15<00:23,  2.05it/s]\n",
      "EP_151 | train loss: 0.09611074153114768 | val loss: 0.0848767547046437 |\n",
      "Epoch:  76%|███████▋  | 153/200 [01:15<00:23,  2.03it/s]\n",
      "EP_152 | train loss: 0.08243920732946956 | val loss: 0.08229182865105424 |\n",
      "Epoch:  77%|███████▋  | 154/200 [01:16<00:22,  2.02it/s]\n",
      "EP_153 | train loss: 0.07978096919901231 | val loss: 0.07316679814282585 |\n",
      "Epoch:  78%|███████▊  | 155/200 [01:16<00:22,  2.01it/s]\n",
      "EP_154 | train loss: 0.08524968916294622 | val loss: 0.07352899102603688 |\n",
      "Epoch:  78%|███████▊  | 156/200 [01:17<00:22,  1.95it/s]\n",
      "EP_155 | train loss: 0.0743227878037621 | val loss: 0.06673670516294591 |\n",
      "Epoch:  78%|███████▊  | 157/200 [01:17<00:21,  1.98it/s]\n",
      "EP_156 | train loss: 0.06940268336557874 | val loss: 0.06406388212652768 |\n",
      "Epoch:  79%|███████▉  | 158/200 [01:18<00:20,  2.00it/s]\n",
      "EP_157 | train loss: 0.06706333674636542 | val loss: 0.06512211000218111 |\n",
      "Epoch:  80%|███████▉  | 159/200 [01:18<00:20,  2.03it/s]\n",
      "EP_158 | train loss: 0.06819773655311734 | val loss: 0.06253686956330842 |\n",
      "Epoch:  80%|████████  | 160/200 [01:19<00:19,  2.03it/s]\n",
      "EP_159 | train loss: 0.0632790365639855 | val loss: 0.06049885586196301 |\n",
      "Epoch:  80%|████████  | 161/200 [01:19<00:19,  2.01it/s]\n",
      "EP_160 | train loss: 0.059791989069358974 | val loss: 0.05897597822488523 |\n",
      "Epoch:  81%|████████  | 162/200 [01:20<00:18,  2.02it/s]\n",
      "EP_161 | train loss: 0.06036889482946957 | val loss: 0.05704009065441057 |\n",
      "Epoch:  82%|████████▏ | 163/200 [01:20<00:18,  2.00it/s]\n",
      "EP_162 | train loss: 0.055807034642088645 | val loss: 0.05410090264152078 |\n",
      "Epoch:  82%|████████▏ | 164/200 [01:21<00:17,  2.02it/s]\n",
      "EP_163 | train loss: 0.05906212341551687 | val loss: 0.05639278421214983 |\n",
      "Epoch:  82%|████████▎ | 165/200 [01:21<00:17,  2.02it/s]\n",
      "EP_164 | train loss: 0.05803600613977395 | val loss: 0.053033355404348934 |\n",
      "Epoch:  83%|████████▎ | 166/200 [01:22<00:17,  1.99it/s]\n",
      "EP_165 | train loss: 0.06499929802090514 | val loss: 0.05895712328892128 |\n",
      "Epoch:  84%|████████▎ | 167/200 [01:22<00:16,  2.02it/s]\n",
      "EP_166 | train loss: 0.04888094166914622 | val loss: 0.046738593601712994 |\n",
      "Epoch:  84%|████████▍ | 168/200 [01:23<00:15,  2.03it/s]\n",
      "EP_167 | train loss: 0.056815849156940684 | val loss: 0.052024138324400955 |\n",
      "Epoch:  84%|████████▍ | 169/200 [01:23<00:15,  2.03it/s]\n",
      "EP_168 | train loss: 0.043603707820761436 | val loss: 0.044317812311883066 |\n",
      "Epoch:  85%|████████▌ | 170/200 [01:24<00:14,  2.02it/s]\n",
      "EP_169 | train loss: 0.043330818151726444 | val loss: 0.04204005762642505 |\n",
      "Epoch:  86%|████████▌ | 171/200 [01:24<00:14,  2.02it/s]\n",
      "EP_170 | train loss: 0.05874386762871462 | val loss: 0.05368525081989812 |\n",
      "Epoch:  86%|████████▌ | 172/200 [01:25<00:13,  2.03it/s]\n",
      "EP_171 | train loss: 0.04001639041246152 | val loss: 0.03934894531380897 |\n",
      "Epoch:  86%|████████▋ | 173/200 [01:25<00:13,  2.04it/s]\n",
      "EP_172 | train loss: 0.03814022158290826 | val loss: 0.039560407400131226 |\n",
      "Epoch:  87%|████████▋ | 174/200 [01:26<00:12,  2.05it/s]\n",
      "EP_173 | train loss: 0.045442785468755985 | val loss: 0.051586956370110605 |\n",
      "Epoch:  88%|████████▊ | 175/200 [01:26<00:12,  2.05it/s]\n",
      "EP_174 | train loss: 0.03748391884214738 | val loss: 0.0396226258838878 |\n",
      "Epoch:  88%|████████▊ | 176/200 [01:27<00:11,  2.03it/s]\n",
      "EP_175 | train loss: 0.03551099791246302 | val loss: 0.03489946676235573 |\n",
      "Epoch:  88%|████████▊ | 177/200 [01:27<00:11,  2.02it/s]\n",
      "EP_176 | train loss: 0.03402942515471402 | val loss: 0.03411790611697178 |\n",
      "Epoch:  89%|████████▉ | 178/200 [01:28<00:10,  2.02it/s]\n",
      "EP_177 | train loss: 0.03265440382209479 | val loss: 0.03348470552294862 |\n",
      "Epoch:  90%|████████▉ | 179/200 [01:28<00:10,  2.02it/s]\n",
      "EP_178 | train loss: 0.0367655680752268 | val loss: 0.03571704146908779 |\n",
      "Epoch:  90%|█████████ | 180/200 [01:29<00:09,  2.04it/s]\n",
      "EP_179 | train loss: 0.032230155462143466 | val loss: 0.0321028495536131 |\n",
      "Epoch:  90%|█████████ | 181/200 [01:29<00:09,  2.01it/s]\n",
      "EP_180 | train loss: 0.03876364377199435 | val loss: 0.03645924259634579 |\n",
      "Epoch:  91%|█████████ | 182/200 [01:30<00:08,  2.02it/s]\n",
      "EP_181 | train loss: 0.03833871781826019 | val loss: 0.03594705111840192 |\n",
      "Epoch:  92%|█████████▏| 183/200 [01:30<00:08,  2.03it/s]\n",
      "EP_182 | train loss: 0.030723245646439346 | val loss: 0.030540390341889625 |\n",
      "Epoch:  92%|█████████▏| 184/200 [01:31<00:07,  2.03it/s]\n",
      "EP_183 | train loss: 0.02980890867172503 | val loss: 0.02968680215816872 |\n",
      "Epoch:  92%|█████████▎| 185/200 [01:31<00:07,  2.03it/s]\n",
      "EP_184 | train loss: 0.025369978155575547 | val loss: 0.02630664203681198 |\n",
      "Epoch:  93%|█████████▎| 186/200 [01:32<00:06,  2.00it/s]\n",
      "EP_185 | train loss: 0.02497154027223587 | val loss: 0.028995413698402105 |\n",
      "Epoch:  94%|█████████▎| 187/200 [01:32<00:06,  1.99it/s]\n",
      "EP_186 | train loss: 0.026293764628616035 | val loss: 0.026515673188602224 |\n",
      "Epoch:  94%|█████████▍| 188/200 [01:33<00:06,  1.98it/s]\n",
      "EP_187 | train loss: 0.022932299533311058 | val loss: 0.02656935155391693 |\n",
      "Epoch:  94%|█████████▍| 189/200 [01:33<00:05,  1.99it/s]\n",
      "EP_188 | train loss: 0.022364603625793084 | val loss: 0.02524482152041267 |\n",
      "Epoch:  95%|█████████▌| 190/200 [01:34<00:04,  2.00it/s]\n",
      "EP_189 | train loss: 0.022200844597582724 | val loss: 0.02392593961136014 |\n",
      "Epoch:  96%|█████████▌| 191/200 [01:34<00:04,  2.00it/s]\n",
      "EP_190 | train loss: 0.025065910348705218 | val loss: 0.02540376022750256 |\n",
      "Epoch:  96%|█████████▌| 192/200 [01:35<00:03,  2.01it/s]\n",
      "EP_191 | train loss: 0.02338496081384958 | val loss: 0.0281450491325528 |\n",
      "Epoch:  96%|█████████▋| 193/200 [01:35<00:03,  2.03it/s]\n",
      "EP_192 | train loss: 0.019475956845517253 | val loss: 0.021103278094646977 |\n",
      "Epoch:  97%|█████████▋| 194/200 [01:35<00:02,  2.05it/s]\n",
      "EP_193 | train loss: 0.029918802368874644 | val loss: 0.02847178718622993 |\n",
      "Epoch:  98%|█████████▊| 195/200 [01:36<00:02,  2.05it/s]\n",
      "EP_194 | train loss: 0.031494203502056645 | val loss: 0.029396396057278503 |\n",
      "Epoch:  98%|█████████▊| 196/200 [01:36<00:01,  2.03it/s]\n",
      "EP_195 | train loss: 0.018568429628423616 | val loss: 0.021346174326597477 |\n",
      "Epoch:  98%|█████████▊| 197/200 [01:37<00:01,  2.03it/s]\n",
      "EP_196 | train loss: 0.01756232253768865 | val loss: 0.0188445437188242 |\n",
      "Epoch:  99%|█████████▉| 198/200 [01:37<00:00,  2.02it/s]\n",
      "EP_197 | train loss: 0.0170052456797338 | val loss: 0.01897217567060508 |\n",
      "Epoch: 100%|█████████▉| 199/200 [01:38<00:00,  2.03it/s]\n",
      "EP_198 | train loss: 0.016474383353602653 | val loss: 0.018680768270118563 |\n",
      "Epoch: 100%|██████████| 200/200 [01:38<00:00,  2.02it/s]\n",
      "EP_199 | train loss: 0.016011113571185693 | val loss: 0.018109873813741347 |\n",
      "\n"
     ]
    }
   ],
   "source": [
    "AttractiveTrainer.train()"
   ]
  },
  {
   "cell_type": "markdown",
   "metadata": {},
   "source": [
    "## for classification, not better"
   ]
  },
  {
   "cell_type": "markdown",
   "metadata": {},
   "source": [
    "## Below is testing"
   ]
  },
  {
   "cell_type": "code",
   "execution_count": 6,
   "metadata": {},
   "outputs": [
    {
     "output_type": "execute_result",
     "data": {
      "text/plain": [
       "AttractiveNet(\n",
       "  (embedding): AttractiveEmbedding(\n",
       "    (token): TokenEmbedding(12699, 300, padding_idx=1)\n",
       "  )\n",
       "  (bigramcnn): Sequential(\n",
       "    (0): Conv1d(300, 210, kernel_size=(2,), stride=(1,), padding=(1,))\n",
       "    (1): ReLU()\n",
       "    (2): Conv1d(210, 100, kernel_size=(2,), stride=(1,), padding=(1,))\n",
       "    (3): ReLU()\n",
       "    (4): Dropout(p=0.5, inplace=False)\n",
       "  )\n",
       "  (trigramcnn): Sequential(\n",
       "    (0): Conv1d(300, 210, kernel_size=(3,), stride=(1,), padding=(1,))\n",
       "    (1): ReLU()\n",
       "    (2): Conv1d(210, 100, kernel_size=(3,), stride=(1,), padding=(1,))\n",
       "    (3): ReLU()\n",
       "    (4): Dropout(p=0.5, inplace=False)\n",
       "  )\n",
       "  (encoder_bigram): LSTM(100, 30, batch_first=True, dropout=0.5, bidirectional=True)\n",
       "  (encoder_trigram): LSTM(100, 30, batch_first=True, dropout=0.5, bidirectional=True)\n",
       "  (linear): Sequential(\n",
       "    (0): Linear(in_features=128, out_features=30, bias=True)\n",
       "    (1): ReLU()\n",
       "    (2): Linear(in_features=30, out_features=1, bias=True)\n",
       "  )\n",
       ")"
      ]
     },
     "metadata": {},
     "execution_count": 6
    }
   ],
   "source": [
    "from attractivenet import AttractiveNet\n",
    "\n",
    "PATH = './model/CNN_LSTM_20201108-132905/0.383048.70'\n",
    "\n",
    "load_model = AttractiveNet(config).to(AttractiveData.device)\n",
    "load_model.load_state_dict(torch.load(PATH))\n",
    "load_model.eval()"
   ]
  },
  {
   "cell_type": "code",
   "execution_count": 7,
   "metadata": {},
   "outputs": [],
   "source": [
    "def predict_attractive(sentence, category, phase):\n",
    "    indexed_sentence = [AttractiveData.TEXT.vocab.stoi[t] for t in sentence]\n",
    "    indexed_category = [AttractiveData.CATEGORIES_LABEL.vocab.stoi[category]]\n",
    "    tensor_sentence = torch.LongTensor(indexed_sentence).to(AttractiveData.device)\n",
    "    tensor_category = torch.LongTensor(indexed_category).to(AttractiveData.device)\n",
    "    tensor_sentence = tensor_sentence.unsqueeze(0)\n",
    "\n",
    "    prediction = load_model(tensor_sentence, tensor_category, phase=phase)\n",
    "\n",
    "    return prediction"
   ]
  },
  {
   "cell_type": "code",
   "execution_count": 8,
   "metadata": {
    "tags": []
   },
   "outputs": [],
   "source": [
    "# train mean = 3.15, test mean = 2.8\n",
    "predict_list = []\n",
    "with torch.no_grad():\n",
    "    for i, sentence in enumerate(AttractiveData.test_data):\n",
    "        prediction = predict_attractive(sentence.Headline, sentence.Category, 'test')\n",
    "        predict_list.append(prediction.item())\n",
    "        # predict_list.append(prediction.item())\n",
    "AttractiveData.df_test['Label'] = predict_list\n",
    "AttractiveData.df_test[['ID', 'Label']].to_csv(config['save_name'] + '.csv', index=False)"
   ]
  },
  {
   "cell_type": "markdown",
   "metadata": {},
   "source": [
    "## Below for statistics"
   ]
  },
  {
   "cell_type": "code",
   "execution_count": 9,
   "metadata": {},
   "outputs": [],
   "source": [
    "import statistics\n",
    "from sklearn.metrics import mean_squared_error"
   ]
  },
  {
   "cell_type": "code",
   "execution_count": 10,
   "metadata": {},
   "outputs": [],
   "source": [
    "# # train mean = 3.15, test mean = 2.8\n",
    "# train_list = []\n",
    "# for i, sentence in enumerate(AttractiveData.train_data):\n",
    "#     prediction = predict_attractive(sentence.Headline, sentence.Category, 'train')\n",
    "#     train_list.append(prediction.item())\n",
    "#     # train_list.append(prediction.item())\n",
    "# # print(train_list)\n",
    "# mean_squared_error(pd.read_csv('data/train.csv').sort_values(['ID']).Label.to_list(), train_list), statistics.mean(train_list), statistics.stdev(train_list)"
   ]
  },
  {
   "cell_type": "code",
   "execution_count": 11,
   "metadata": {},
   "outputs": [],
   "source": [
    "# train_list[0:5], pd.read_csv('data/train.csv').sort_values(['ID']).Label.to_list()[0:5]"
   ]
  },
  {
   "cell_type": "code",
   "execution_count": 12,
   "metadata": {},
   "outputs": [],
   "source": [
    "# a = AttractiveData.df_train['Label'].to_list()\n",
    "# statistics.mean(a), statistics.stdev(a)"
   ]
  },
  {
   "cell_type": "code",
   "execution_count": 13,
   "metadata": {},
   "outputs": [
    {
     "output_type": "execute_result",
     "data": {
      "text/plain": [
       "(2.798139763298539, 0.35882157451014385)"
      ]
     },
     "metadata": {},
     "execution_count": 13
    }
   ],
   "source": [
    "statistics.mean(predict_list), statistics.stdev(predict_list)"
   ]
  },
  {
   "cell_type": "code",
   "execution_count": 14,
   "metadata": {},
   "outputs": [
    {
     "output_type": "execute_result",
     "data": {
      "text/plain": [
       "(0.0005904234558063902, 2.783861954306716, 0.36437382915352245)"
      ]
     },
     "metadata": {},
     "execution_count": 14
    }
   ],
   "source": [
    "baseline_list = pd.read_csv('baseline.csv').sort_values(['ID']).Label.to_list()\n",
    "mean_squared_error(baseline_list, predict_list), statistics.mean(baseline_list), statistics.stdev(baseline_list)"
   ]
  },
  {
   "cell_type": "code",
   "execution_count": null,
   "metadata": {},
   "outputs": [],
   "source": []
  },
  {
   "cell_type": "code",
   "execution_count": 18,
   "metadata": {},
   "outputs": [
    {
     "data": {
      "text/plain": [
       "0.1609754968529207"
      ]
     },
     "execution_count": 18,
     "metadata": {},
     "output_type": "execute_result"
    }
   ],
   "source": [
    "mean_squared_error(pd.read_csv('baseline.csv').sort_values(['ID']).Label.to_list(), pd.read_csv('./predict/ensemble.csv').sort_values(['ID']).Label.to_list())"
   ]
  },
  {
   "cell_type": "code",
   "execution_count": 13,
   "metadata": {},
   "outputs": [],
   "source": []
  },
  {
   "cell_type": "code",
   "execution_count": null,
   "metadata": {},
   "outputs": [],
   "source": []
  }
 ],
 "metadata": {
  "kernelspec": {
   "display_name": "DS_hw2",
   "language": "python",
   "name": "ds_hw2"
  },
  "language_info": {
   "codemirror_mode": {
    "name": "ipython",
    "version": 3
   },
   "file_extension": ".py",
   "mimetype": "text/x-python",
   "name": "python",
   "nbconvert_exporter": "python",
   "pygments_lexer": "ipython3",
   "version": "3.6.12-final"
  }
 },
 "nbformat": 4,
 "nbformat_minor": 4
}