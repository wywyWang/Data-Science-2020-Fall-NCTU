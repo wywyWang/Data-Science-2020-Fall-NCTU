{
 "metadata": {
  "language_info": {
   "codemirror_mode": {
    "name": "ipython",
    "version": 3
   },
   "file_extension": ".py",
   "mimetype": "text/x-python",
   "name": "python",
   "nbconvert_exporter": "python",
   "pygments_lexer": "ipython3",
   "version": "3.6.12-final"
  },
  "orig_nbformat": 2,
  "kernelspec": {
   "name": "Python 3.6.12 64-bit ('DS_hw2': conda)",
   "display_name": "Python 3.6.12 64-bit ('DS_hw2': conda)",
   "metadata": {
    "interpreter": {
     "hash": "de6ec751e8d816810380d8c8f13d270f86a313990c5d5930d253da012ff5e7fc"
    }
   }
  }
 },
 "nbformat": 4,
 "nbformat_minor": 2,
 "cells": [
  {
   "cell_type": "code",
   "execution_count": 1,
   "metadata": {},
   "outputs": [],
   "source": [
    "# common packages\n",
    "import pandas as pd\n",
    "import time\n",
    "\n",
    "# # DL framework\n",
    "import torch\n",
    "from torchtext import data\n",
    "\n",
    "from attractivedata import AttractiveData\n",
    "from trainer import AttractiveTrainer"
   ]
  },
  {
   "cell_type": "code",
   "execution_count": 2,
   "metadata": {},
   "outputs": [],
   "source": [
    "torch.manual_seed(123)\n",
    "torch.cuda.manual_seed(123)\n",
    "torch.backends.cudnn.deterministic = True"
   ]
  },
  {
   "source": [
    "## Load and prepare data"
   ],
   "cell_type": "markdown",
   "metadata": {}
  },
  {
   "cell_type": "code",
   "execution_count": 3,
   "metadata": {},
   "outputs": [],
   "source": [
    "train_file = 'data/train.csv'\n",
    "test_file = 'data/test.csv'\n",
    "pretrained_file = 'glove.840B.300d'\n",
    "config = {\n",
    "    'max_seq': 48,\n",
    "    'min_freq': 0,\n",
    "    'batch_size': 32,\n",
    "    'pretrained_file': pretrained_file\n",
    "}\n"
   ]
  },
  {
   "cell_type": "code",
   "execution_count": 4,
   "metadata": {},
   "outputs": [],
   "source": [
    "AttractiveData = AttractiveData(train_file, test_file, pretrained_file, config)"
   ]
  },
  {
   "cell_type": "code",
   "execution_count": 5,
   "metadata": {},
   "outputs": [
    {
     "output_type": "stream",
     "name": "stdout",
     "text": [
      "{'Headline': ['sorry,', 'i', 'spent', 'it', 'on', 'myself!', 'harvey', \"nichols'\", 'hilarious', 'christmas', 'advert', 'sees', 'people', 'treating', 'themselves', 'instead', 'of', 'others'], 'Category': 'femail', 'Label': '0.18333333333333313'} {'Headline': ['three', 'police', 'officers', 'accused', 'of', 'stealing', '??', '30k', 'during', 'raid', 'on', 'criminal'], 'Category': 'news'}\n"
     ]
    }
   ],
   "source": [
    "for i, sentence in enumerate(AttractiveData.test_data):\n",
    "    if i == 3:\n",
    "        print(vars(AttractiveData.train_data[i]), vars(sentence))"
   ]
  },
  {
   "cell_type": "code",
   "execution_count": 6,
   "metadata": {},
   "outputs": [
    {
     "output_type": "execute_result",
     "data": {
      "text/plain": [
       "18"
      ]
     },
     "metadata": {},
     "execution_count": 6
    }
   ],
   "source": [
    "len(AttractiveData.CATEGORIES_LABEL.vocab.freqs)"
   ]
  },
  {
   "cell_type": "code",
   "execution_count": 7,
   "metadata": {},
   "outputs": [
    {
     "output_type": "execute_result",
     "data": {
      "text/plain": [
       "38"
      ]
     },
     "metadata": {},
     "execution_count": 7
    }
   ],
   "source": [
    "max_len = 0\n",
    "a = AttractiveData.train_data\n",
    "for i in range(len(a)):\n",
    "    if len(a[i].Headline) >= max_len:\n",
    "        max_len = len(a[i].Headline)\n",
    "max_len"
   ]
  },
  {
   "source": [
    "## Start to train"
   ],
   "cell_type": "markdown",
   "metadata": {}
  },
  {
   "cell_type": "code",
   "execution_count": 8,
   "metadata": {},
   "outputs": [
    {
     "output_type": "stream",
     "name": "stdout",
     "text": [
      "torch.Size([12699, 300])\n"
     ]
    }
   ],
   "source": [
    "config['timestr'] = time.strftime(\"%Y%m%d-%H%M%S\")\n",
    "config['save_name'] = 'LSTM'\n",
    "config['input_dim'] = len(AttractiveData.TEXT.vocab)\n",
    "config['embedding_dim'] = 300\n",
    "config['category_dim'] = len(AttractiveData.CATEGORIES_LABEL.vocab)\n",
    "config['category_embedding_dim'] = 16\n",
    "config['hidden_dim'] = 30\n",
    "config['output_dim'] = 1\n",
    "config['log_steps'] = 10\n",
    "config['epochs'] = 200\n",
    "config['lr'] = {\n",
    "    'encoder': 1e-5,\n",
    "    'embedding': 1e-5,\n",
    "    'linear': 1e-5\n",
    "}\n",
    "config['num_layers'] = 1\n",
    "config['kernel_size'] = 3\n",
    "config['dropout'] = 0.0\n",
    "\n",
    "pretrained_embeddings = AttractiveData.TEXT.vocab.vectors\n",
    "print(pretrained_embeddings.shape)"
   ]
  },
  {
   "cell_type": "code",
   "execution_count": 9,
   "metadata": {},
   "outputs": [],
   "source": [
    "AttractiveTrainer = AttractiveTrainer(config, AttractiveData.device, AttractiveData.trainloader, pretrained_embeddings)"
   ]
  },
  {
   "cell_type": "code",
   "execution_count": 10,
   "metadata": {},
   "outputs": [
    {
     "output_type": "execute_result",
     "data": {
      "text/plain": [
       "(AttractiveNet(\n",
       "   (embedding): AttractiveEmbedding(\n",
       "     (token): TokenEmbedding(12699, 300, padding_idx=1)\n",
       "   )\n",
       "   (encoder): LSTM(300, 30, bidirectional=True)\n",
       "   (linear): Sequential(\n",
       "     (0): Linear(in_features=120, out_features=30, bias=True)\n",
       "     (1): ReLU()\n",
       "     (2): Linear(in_features=30, out_features=1, bias=True)\n",
       "   )\n",
       " ),\n",
       " 3893041,\n",
       " 83341)"
      ]
     },
     "metadata": {},
     "execution_count": 10
    }
   ],
   "source": [
    "AttractiveTrainer.model, AttractiveTrainer.config['total_params'], AttractiveTrainer.config['total_learned_params']"
   ]
  },
  {
   "cell_type": "code",
   "execution_count": 11,
   "metadata": {},
   "outputs": [
    {
     "output_type": "execute_result",
     "data": {
      "text/plain": [
       "{'max_seq': 48,\n",
       " 'min_freq': 0,\n",
       " 'batch_size': 32,\n",
       " 'pretrained_file': 'glove.840B.300d',\n",
       " 'timestr': '20201101-010910',\n",
       " 'save_name': 'LSTM',\n",
       " 'input_dim': 12699,\n",
       " 'embedding_dim': 300,\n",
       " 'category_dim': 18,\n",
       " 'category_embedding_dim': 16,\n",
       " 'hidden_dim': 30,\n",
       " 'output_dim': 1,\n",
       " 'log_steps': 10,\n",
       " 'epochs': 200,\n",
       " 'lr': {'encoder': 1e-05, 'embedding': 1e-05, 'linear': 1e-05},\n",
       " 'num_layers': 1,\n",
       " 'kernel_size': 3,\n",
       " 'dropout': 0.0,\n",
       " 'total_params': 3893041,\n",
       " 'total_learned_params': 83341}"
      ]
     },
     "metadata": {},
     "execution_count": 11
    }
   ],
   "source": [
    "config"
   ]
  },
  {
   "cell_type": "code",
   "execution_count": 12,
   "metadata": {
    "tags": []
   },
   "outputs": [
    {
     "output_type": "stream",
     "name": "stderr",
     "text": [
      "Epoch:   0%|          | 1/200 [00:00<01:23,  2.39it/s]\n",
      "EP_train | avg_loss: 0.5605409261770546 |\n",
      "Epoch:   1%|          | 2/200 [00:00<01:19,  2.48it/s]\n",
      "EP_train | avg_loss: 0.560181456618011 |\n",
      "Epoch:   2%|▏         | 3/200 [00:01<01:17,  2.56it/s]\n",
      "EP_train | avg_loss: 0.5603159982711077 |\n",
      "Epoch:   2%|▏         | 4/200 [00:01<01:14,  2.63it/s]\n",
      "EP_train | avg_loss: 0.5602295058779418 |\n",
      "Epoch:   2%|▎         | 5/200 [00:01<01:12,  2.69it/s]\n",
      "EP_train | avg_loss: 0.560076741501689 |\n",
      "Epoch:   3%|▎         | 6/200 [00:02<01:11,  2.73it/s]\n",
      "EP_train | avg_loss: 0.5597224552184343 |\n",
      "Epoch:   4%|▎         | 7/200 [00:02<01:11,  2.69it/s]\n",
      "EP_train | avg_loss: 0.5600840882398188 |\n",
      "Epoch:   4%|▍         | 8/200 [00:02<01:10,  2.74it/s]\n",
      "EP_train | avg_loss: 0.5590838897041976 |\n",
      "Epoch:   4%|▍         | 9/200 [00:03<01:08,  2.78it/s]\n",
      "EP_train | avg_loss: 0.5585224544629455 |\n",
      "Epoch:   5%|▌         | 10/200 [00:03<01:11,  2.66it/s]\n",
      "EP_train | avg_loss: 0.5588882807642221 |\n",
      "Epoch:   6%|▌         | 11/200 [00:04<01:12,  2.62it/s]\n",
      "EP_train | avg_loss: 0.5578209292143583 |\n",
      "Epoch:   6%|▌         | 12/200 [00:04<01:11,  2.61it/s]\n",
      "EP_train | avg_loss: 0.557534093502909 |\n",
      "Epoch:   6%|▋         | 13/200 [00:04<01:12,  2.56it/s]\n",
      "EP_train | avg_loss: 0.5586203285492957 |\n",
      "Epoch:   7%|▋         | 14/200 [00:05<01:11,  2.59it/s]\n",
      "EP_train | avg_loss: 0.5577892526052892 |\n",
      "Epoch:   8%|▊         | 15/200 [00:05<01:10,  2.63it/s]\n",
      "EP_train | avg_loss: 0.5573258164804429 |\n",
      "Epoch:   8%|▊         | 16/200 [00:06<01:10,  2.62it/s]\n",
      "EP_train | avg_loss: 0.5579883372411132 |\n",
      "Epoch:   8%|▊         | 17/200 [00:06<01:09,  2.64it/s]\n",
      "EP_train | avg_loss: 0.5576523814816028 |\n",
      "Epoch:   9%|▉         | 18/200 [00:06<01:08,  2.66it/s]\n",
      "EP_train | avg_loss: 0.5571007756516337 |\n",
      "Epoch:  10%|▉         | 19/200 [00:07<01:07,  2.68it/s]\n",
      "EP_train | avg_loss: 0.5574164125137031 |\n",
      "Epoch:  10%|█         | 20/200 [00:07<01:07,  2.68it/s]\n",
      "EP_train | avg_loss: 0.55638830922544 |\n",
      "Epoch:  10%|█         | 21/200 [00:07<01:07,  2.67it/s]\n",
      "EP_train | avg_loss: 0.5562764182686806 |\n",
      "Epoch:  11%|█         | 22/200 [00:08<01:07,  2.63it/s]\n",
      "EP_train | avg_loss: 0.5576353673823178 |\n",
      "Epoch:  12%|█▏        | 23/200 [00:08<01:06,  2.65it/s]\n",
      "EP_train | avg_loss: 0.5562815554440022 |\n",
      "Epoch:  12%|█▏        | 24/200 [00:09<01:06,  2.66it/s]\n",
      "EP_train | avg_loss: 0.5550900213420391 |\n",
      "Epoch:  12%|█▎        | 25/200 [00:09<01:05,  2.65it/s]\n",
      "EP_train | avg_loss: 0.5570442010648549 |\n",
      "Epoch:  13%|█▎        | 26/200 [00:09<01:05,  2.65it/s]\n",
      "EP_train | avg_loss: 0.555569919757545 |\n",
      "Epoch:  14%|█▎        | 27/200 [00:10<01:06,  2.60it/s]\n",
      "EP_train | avg_loss: 0.5557455127127469 |\n",
      "Epoch:  14%|█▍        | 28/200 [00:10<01:05,  2.62it/s]\n",
      "EP_train | avg_loss: 0.5552611295133829 |\n",
      "Epoch:  14%|█▍        | 29/200 [00:10<01:06,  2.58it/s]\n",
      "EP_train | avg_loss: 0.554834273410961 |\n",
      "Epoch:  15%|█▌        | 30/200 [00:11<01:05,  2.60it/s]\n",
      "EP_train | avg_loss: 0.5545375337824225 |\n",
      "Epoch:  16%|█▌        | 31/200 [00:11<01:05,  2.57it/s]\n",
      "EP_train | avg_loss: 0.5543083944357932 |\n",
      "Epoch:  16%|█▌        | 32/200 [00:12<01:05,  2.57it/s]\n",
      "EP_train | avg_loss: 0.5550204683095217 |\n",
      "Epoch:  16%|█▋        | 33/200 [00:12<01:05,  2.56it/s]\n",
      "EP_train | avg_loss: 0.5545386313460767 |\n",
      "Epoch:  17%|█▋        | 34/200 [00:12<01:04,  2.59it/s]\n",
      "EP_train | avg_loss: 0.5538602266460657 |\n",
      "Epoch:  18%|█▊        | 35/200 [00:13<01:03,  2.60it/s]\n",
      "EP_train | avg_loss: 0.5544850281439722 |\n",
      "Epoch:  18%|█▊        | 36/200 [00:13<01:02,  2.61it/s]\n",
      "EP_train | avg_loss: 0.5541549851186574 |\n",
      "Epoch:  18%|█▊        | 37/200 [00:14<01:03,  2.58it/s]\n",
      "EP_train | avg_loss: 0.5541009907610714 |\n",
      "Epoch:  19%|█▉        | 38/200 [00:14<01:02,  2.59it/s]\n",
      "EP_train | avg_loss: 0.5537441759370267 |\n",
      "Epoch:  20%|█▉        | 39/200 [00:14<01:01,  2.60it/s]\n",
      "EP_train | avg_loss: 0.552978431340307 |\n",
      "Epoch:  20%|██        | 40/200 [00:15<01:01,  2.59it/s]\n",
      "EP_train | avg_loss: 0.5532240988686681 |\n",
      "Epoch:  20%|██        | 41/200 [00:15<01:02,  2.55it/s]\n",
      "EP_train | avg_loss: 0.5532081541605294 |\n",
      "Epoch:  21%|██        | 42/200 [00:16<01:02,  2.54it/s]\n",
      "EP_train | avg_loss: 0.5538098593242466 |\n",
      "Epoch:  22%|██▏       | 43/200 [00:16<01:01,  2.56it/s]\n",
      "EP_train | avg_loss: 0.5536224865354598 |\n",
      "Epoch:  22%|██▏       | 44/200 [00:16<00:59,  2.64it/s]\n",
      "EP_train | avg_loss: 0.55478724418208 |\n",
      "Epoch:  22%|██▎       | 45/200 [00:17<00:57,  2.70it/s]\n",
      "EP_train | avg_loss: 0.5521228685975075 |\n",
      "Epoch:  23%|██▎       | 46/200 [00:17<00:56,  2.75it/s]\n",
      "EP_train | avg_loss: 0.5524203712120652 |\n",
      "Epoch:  24%|██▎       | 47/200 [00:17<00:54,  2.79it/s]\n",
      "EP_train | avg_loss: 0.5517017222009599 |\n",
      "Epoch:  24%|██▍       | 48/200 [00:18<00:54,  2.81it/s]\n",
      "EP_train | avg_loss: 0.5532755707390606 |\n",
      "Epoch:  24%|██▍       | 49/200 [00:18<00:53,  2.82it/s]\n",
      "EP_train | avg_loss: 0.5519893765449524 |\n",
      "Epoch:  25%|██▌       | 50/200 [00:18<00:53,  2.83it/s]\n",
      "EP_train | avg_loss: 0.5520261349156499 |\n",
      "Epoch:  26%|██▌       | 51/200 [00:19<00:52,  2.82it/s]\n",
      "EP_train | avg_loss: 0.5519179827533662 |\n",
      "Epoch:  26%|██▌       | 52/200 [00:19<00:52,  2.83it/s]\n",
      "EP_train | avg_loss: 0.5521220094524324 |\n",
      "Epoch:  26%|██▋       | 53/200 [00:19<00:51,  2.83it/s]\n",
      "EP_train | avg_loss: 0.5503993690945208 |\n",
      "Epoch:  27%|██▋       | 54/200 [00:20<00:51,  2.81it/s]\n",
      "EP_train | avg_loss: 0.5512504451908171 |\n",
      "Epoch:  28%|██▊       | 55/200 [00:20<00:51,  2.81it/s]\n",
      "EP_train | avg_loss: 0.5510842092335224 |\n",
      "Epoch:  28%|██▊       | 56/200 [00:20<00:50,  2.83it/s]\n",
      "EP_train | avg_loss: 0.550260738003999 |\n",
      "Epoch:  28%|██▊       | 57/200 [00:21<00:50,  2.80it/s]\n",
      "EP_train | avg_loss: 0.5507554695941508 |\n",
      "Epoch:  29%|██▉       | 58/200 [00:21<00:50,  2.80it/s]\n",
      "EP_train | avg_loss: 0.5503974561579525 |\n",
      "Epoch:  30%|██▉       | 59/200 [00:22<00:50,  2.80it/s]\n",
      "EP_train | avg_loss: 0.5506468247622252 |\n",
      "Epoch:  30%|███       | 60/200 [00:22<00:50,  2.76it/s]\n",
      "EP_train | avg_loss: 0.5497426823712885 |\n",
      "Epoch:  30%|███       | 61/200 [00:22<00:50,  2.76it/s]\n",
      "EP_train | avg_loss: 0.5508010075427592 |\n",
      "Epoch:  31%|███       | 62/200 [00:23<00:49,  2.78it/s]\n",
      "EP_train | avg_loss: 0.5497696651145816 |\n",
      "Epoch:  32%|███▏      | 63/200 [00:23<00:49,  2.78it/s]\n",
      "EP_train | avg_loss: 0.5489931697957218 |\n",
      "Epoch:  32%|███▏      | 64/200 [00:23<00:48,  2.79it/s]\n",
      "EP_train | avg_loss: 0.5501077468506992 |\n",
      "Epoch:  32%|███▎      | 65/200 [00:24<00:48,  2.80it/s]\n",
      "EP_train | avg_loss: 0.5488250809721649 |\n",
      "Epoch:  33%|███▎      | 66/200 [00:24<00:47,  2.82it/s]\n",
      "EP_train | avg_loss: 0.5488541550002992 |\n",
      "Epoch:  34%|███▎      | 67/200 [00:24<00:47,  2.80it/s]\n",
      "EP_train | avg_loss: 0.5487428763881326 |\n",
      "Epoch:  34%|███▍      | 68/200 [00:25<00:47,  2.79it/s]\n",
      "EP_train | avg_loss: 0.5490336297079921 |\n",
      "Epoch:  34%|███▍      | 69/200 [00:25<00:48,  2.71it/s]\n",
      "EP_train | avg_loss: 0.5499763996340334 |\n",
      "Epoch:  35%|███▌      | 70/200 [00:26<00:47,  2.71it/s]\n",
      "EP_train | avg_loss: 0.5483750342391431 |\n",
      "Epoch:  36%|███▌      | 71/200 [00:26<00:47,  2.71it/s]\n",
      "EP_train | avg_loss: 0.5485675875097513 |\n",
      "Epoch:  36%|███▌      | 72/200 [00:26<00:46,  2.74it/s]\n",
      "EP_train | avg_loss: 0.5484184678643942 |\n",
      "Epoch:  36%|███▋      | 73/200 [00:27<00:46,  2.76it/s]\n",
      "EP_train | avg_loss: 0.5485802688635886 |\n",
      "Epoch:  37%|███▋      | 74/200 [00:27<00:45,  2.78it/s]\n",
      "EP_train | avg_loss: 0.5486481972038746 |\n",
      "Epoch:  38%|███▊      | 75/200 [00:27<00:44,  2.78it/s]\n",
      "EP_train | avg_loss: 0.5477120038121939 |\n",
      "Epoch:  38%|███▊      | 76/200 [00:28<00:44,  2.80it/s]\n",
      "EP_train | avg_loss: 0.5485996631905437 |\n",
      "Epoch:  38%|███▊      | 77/200 [00:28<00:43,  2.80it/s]\n",
      "EP_train | avg_loss: 0.5470991425681859 |\n",
      "Epoch:  39%|███▉      | 78/200 [00:28<00:43,  2.79it/s]\n",
      "EP_train | avg_loss: 0.5470368159003556 |\n",
      "Epoch:  40%|███▉      | 79/200 [00:29<00:43,  2.79it/s]\n",
      "EP_train | avg_loss: 0.5488455202430487 |\n",
      "Epoch:  40%|████      | 80/200 [00:29<00:42,  2.82it/s]\n",
      "EP_train | avg_loss: 0.5488653592765331 |\n",
      "Epoch:  40%|████      | 81/200 [00:29<00:41,  2.85it/s]\n",
      "EP_train | avg_loss: 0.5471081472933292 |\n",
      "Epoch:  41%|████      | 82/200 [00:30<00:41,  2.87it/s]\n",
      "EP_train | avg_loss: 0.5479558776132762 |\n",
      "Epoch:  42%|████▏     | 83/200 [00:30<00:40,  2.86it/s]\n",
      "EP_train | avg_loss: 0.5464786156080663 |\n",
      "Epoch:  42%|████▏     | 84/200 [00:31<00:41,  2.80it/s]\n",
      "EP_train | avg_loss: 0.5483508580364287 |\n",
      "Epoch:  42%|████▎     | 85/200 [00:31<00:41,  2.78it/s]\n",
      "EP_train | avg_loss: 0.5474977376870811 |\n",
      "Epoch:  43%|████▎     | 86/200 [00:31<00:40,  2.79it/s]\n",
      "EP_train | avg_loss: 0.5478334561921656 |\n",
      "Epoch:  44%|████▎     | 87/200 [00:32<00:43,  2.61it/s]\n",
      "EP_train | avg_loss: 0.5469237654469907 |\n",
      "Epoch:  44%|████▍     | 88/200 [00:32<00:42,  2.64it/s]\n",
      "EP_train | avg_loss: 0.5464659370481968 |\n",
      "Epoch:  44%|████▍     | 89/200 [00:32<00:41,  2.68it/s]\n",
      "EP_train | avg_loss: 0.5457279291003942 |\n",
      "Epoch:  45%|████▌     | 90/200 [00:33<00:41,  2.65it/s]\n",
      "EP_train | avg_loss: 0.546456700656563 |\n",
      "Epoch:  46%|████▌     | 91/200 [00:33<00:39,  2.73it/s]\n",
      "EP_train | avg_loss: 0.5467050904408097 |\n",
      "Epoch:  46%|████▌     | 92/200 [00:33<00:38,  2.79it/s]\n",
      "EP_train | avg_loss: 0.5468257749453187 |\n",
      "Epoch:  46%|████▋     | 93/200 [00:34<00:38,  2.78it/s]\n",
      "EP_train | avg_loss: 0.5457609510049224 |\n",
      "Epoch:  47%|████▋     | 94/200 [00:34<00:37,  2.82it/s]\n",
      "EP_train | avg_loss: 0.5454850397072732 |\n",
      "Epoch:  48%|████▊     | 95/200 [00:35<00:37,  2.80it/s]\n",
      "EP_train | avg_loss: 0.5464146640151739 |\n",
      "Epoch:  48%|████▊     | 96/200 [00:35<00:36,  2.83it/s]\n",
      "EP_train | avg_loss: 0.5454990277066827 |\n",
      "Epoch:  48%|████▊     | 97/200 [00:35<00:38,  2.71it/s]\n",
      "EP_train | avg_loss: 0.5446799122728407 |\n",
      "Epoch:  49%|████▉     | 98/200 [00:36<00:37,  2.76it/s]\n",
      "EP_train | avg_loss: 0.5454890076071024 |\n",
      "Epoch:  50%|████▉     | 99/200 [00:36<00:38,  2.65it/s]\n",
      "EP_train | avg_loss: 0.545478621032089 |\n",
      "Epoch:  50%|█████     | 100/200 [00:36<00:37,  2.68it/s]\n",
      "EP_train | avg_loss: 0.5451184795238078 |\n",
      "Epoch:  50%|█████     | 101/200 [00:37<00:36,  2.72it/s]\n",
      "EP_train | avg_loss: 0.5448264181613922 |\n",
      "Epoch:  51%|█████     | 102/200 [00:37<00:36,  2.71it/s]\n",
      "EP_train | avg_loss: 0.5447593266144395 |\n",
      "Epoch:  52%|█████▏    | 103/200 [00:38<00:35,  2.71it/s]\n",
      "EP_train | avg_loss: 0.5450706998817623 |\n",
      "Epoch:  52%|█████▏    | 104/200 [00:38<00:35,  2.73it/s]\n",
      "EP_train | avg_loss: 0.5452613043598831 |\n",
      "Epoch:  52%|█████▎    | 105/200 [00:38<00:35,  2.71it/s]\n",
      "EP_train | avg_loss: 0.5451897825114429 |\n",
      "Epoch:  53%|█████▎    | 106/200 [00:39<00:34,  2.71it/s]\n",
      "EP_train | avg_loss: 0.5451988158747554 |\n",
      "Epoch:  54%|█████▎    | 107/200 [00:39<00:34,  2.69it/s]\n",
      "EP_train | avg_loss: 0.5448413658887148 |\n",
      "Epoch:  54%|█████▍    | 108/200 [00:39<00:34,  2.68it/s]\n",
      "EP_train | avg_loss: 0.5450237314216793 |\n",
      "Epoch:  55%|█████▍    | 109/200 [00:40<00:33,  2.69it/s]\n",
      "EP_train | avg_loss: 0.5445230603218079 |\n",
      "Epoch:  55%|█████▌    | 110/200 [00:40<00:33,  2.71it/s]\n",
      "EP_train | avg_loss: 0.5448937751352787 |\n",
      "Epoch:  56%|█████▌    | 111/200 [00:40<00:32,  2.76it/s]\n",
      "EP_train | avg_loss: 0.5451946440152824 |\n",
      "Epoch:  56%|█████▌    | 112/200 [00:41<00:31,  2.79it/s]\n",
      "EP_train | avg_loss: 0.5440327757969499 |\n",
      "Epoch:  56%|█████▋    | 113/200 [00:41<00:31,  2.73it/s]\n",
      "EP_train | avg_loss: 0.5448724604211748 |\n",
      "Epoch:  57%|█████▋    | 114/200 [00:42<00:31,  2.74it/s]\n",
      "EP_train | avg_loss: 0.5435973447747529 |\n",
      "Epoch:  57%|█████▊    | 115/200 [00:42<00:30,  2.79it/s]\n",
      "EP_train | avg_loss: 0.5432941899634898 |\n",
      "Epoch:  58%|█████▊    | 116/200 [00:42<00:29,  2.80it/s]\n",
      "EP_train | avg_loss: 0.5443109734915197 |\n",
      "Epoch:  58%|█████▊    | 117/200 [00:43<00:29,  2.83it/s]\n",
      "EP_train | avg_loss: 0.5438066856004298 |\n",
      "Epoch:  59%|█████▉    | 118/200 [00:43<00:28,  2.84it/s]\n",
      "EP_train | avg_loss: 0.543607962783426 |\n",
      "Epoch:  60%|█████▉    | 119/200 [00:43<00:28,  2.83it/s]\n",
      "EP_train | avg_loss: 0.5444906875491142 |\n",
      "Epoch:  60%|██████    | 120/200 [00:44<00:29,  2.71it/s]\n",
      "EP_train | avg_loss: 0.5434945779852569 |\n",
      "Epoch:  60%|██████    | 121/200 [00:44<00:30,  2.62it/s]\n",
      "EP_train | avg_loss: 0.5435290490277112 |\n",
      "Epoch:  61%|██████    | 122/200 [00:44<00:29,  2.67it/s]\n",
      "EP_train | avg_loss: 0.5427776416763663 |\n",
      "Epoch:  62%|██████▏   | 123/200 [00:45<00:28,  2.72it/s]\n",
      "EP_train | avg_loss: 0.5426250575110316 |\n",
      "Epoch:  62%|██████▏   | 124/200 [00:45<00:28,  2.68it/s]\n",
      "EP_train | avg_loss: 0.5428086025640368 |\n",
      "Epoch:  62%|██████▎   | 125/200 [00:46<00:28,  2.67it/s]\n",
      "EP_train | avg_loss: 0.5425955764949322 |\n",
      "Epoch:  63%|██████▎   | 126/200 [00:46<00:28,  2.58it/s]\n",
      "EP_train | avg_loss: 0.5429072063416243 |\n",
      "Epoch:  64%|██████▎   | 127/200 [00:46<00:28,  2.59it/s]\n",
      "EP_train | avg_loss: 0.5436173463240266 |\n",
      "Epoch:  64%|██████▍   | 128/200 [00:47<00:28,  2.56it/s]\n",
      "EP_train | avg_loss: 0.5425395695492625 |\n",
      "Epoch:  64%|██████▍   | 129/200 [00:47<00:27,  2.58it/s]\n",
      "EP_train | avg_loss: 0.5428047934547067 |\n",
      "Epoch:  65%|██████▌   | 130/200 [00:48<00:27,  2.54it/s]\n",
      "EP_train | avg_loss: 0.542853516060859 |\n",
      "Epoch:  66%|██████▌   | 131/200 [00:48<00:27,  2.55it/s]\n",
      "EP_train | avg_loss: 0.541517311707139 |\n",
      "Epoch:  66%|██████▌   | 132/200 [00:48<00:26,  2.57it/s]\n",
      "EP_train | avg_loss: 0.5425466150045395 |\n",
      "Epoch:  66%|██████▋   | 133/200 [00:49<00:25,  2.60it/s]\n",
      "EP_train | avg_loss: 0.5423213890753686 |\n",
      "Epoch:  67%|██████▋   | 134/200 [00:49<00:25,  2.61it/s]\n",
      "EP_train | avg_loss: 0.542344163171947 |\n",
      "Epoch:  68%|██████▊   | 135/200 [00:49<00:24,  2.63it/s]\n",
      "EP_train | avg_loss: 0.5424808911047876 |\n",
      "Epoch:  68%|██████▊   | 136/200 [00:50<00:24,  2.64it/s]\n",
      "EP_train | avg_loss: 0.5416673561558127 |\n",
      "Epoch:  68%|██████▊   | 137/200 [00:50<00:24,  2.62it/s]\n",
      "EP_train | avg_loss: 0.541574215516448 |\n",
      "Epoch:  69%|██████▉   | 138/200 [00:51<00:23,  2.63it/s]\n",
      "EP_train | avg_loss: 0.5421550874598324 |\n",
      "Epoch:  70%|██████▉   | 139/200 [00:51<00:23,  2.64it/s]\n",
      "EP_train | avg_loss: 0.5418196702376008 |\n",
      "Epoch:  70%|███████   | 140/200 [00:51<00:22,  2.64it/s]\n",
      "EP_train | avg_loss: 0.5429316745139658 |\n",
      "Epoch:  70%|███████   | 141/200 [00:52<00:22,  2.66it/s]\n",
      "EP_train | avg_loss: 0.5409273952245712 |\n",
      "Epoch:  71%|███████   | 142/200 [00:52<00:22,  2.59it/s]\n",
      "EP_train | avg_loss: 0.5426350147463381 |\n",
      "Epoch:  72%|███████▏  | 143/200 [00:53<00:21,  2.63it/s]\n",
      "EP_train | avg_loss: 0.5422925031743944 |\n",
      "Epoch:  72%|███████▏  | 144/200 [00:53<00:21,  2.58it/s]\n",
      "EP_train | avg_loss: 0.5425407662987709 |\n",
      "Epoch:  72%|███████▎  | 145/200 [00:53<00:21,  2.57it/s]\n",
      "EP_train | avg_loss: 0.5413445215672255 |\n",
      "Epoch:  73%|███████▎  | 146/200 [00:54<00:21,  2.53it/s]\n",
      "EP_train | avg_loss: 0.5417009219527245 |\n",
      "Epoch:  74%|███████▎  | 147/200 [00:54<00:21,  2.51it/s]\n",
      "EP_train | avg_loss: 0.5413236427120864 |\n",
      "Epoch:  74%|███████▍  | 148/200 [00:55<00:20,  2.54it/s]\n",
      "EP_train | avg_loss: 0.5408763475716114 |\n",
      "Epoch:  74%|███████▍  | 149/200 [00:55<00:20,  2.55it/s]\n",
      "EP_train | avg_loss: 0.5403640689328313 |\n",
      "Epoch:  75%|███████▌  | 150/200 [00:55<00:19,  2.52it/s]\n",
      "EP_train | avg_loss: 0.5409100619144738 |\n",
      "Epoch:  76%|███████▌  | 151/200 [00:56<00:19,  2.57it/s]\n",
      "EP_train | avg_loss: 0.5405740011483431 |\n",
      "Epoch:  76%|███████▌  | 152/200 [00:56<00:18,  2.61it/s]\n",
      "EP_train | avg_loss: 0.5408965470269322 |\n",
      "Epoch:  76%|███████▋  | 153/200 [00:56<00:18,  2.60it/s]\n",
      "EP_train | avg_loss: 0.5412578689865768 |\n",
      "Epoch:  77%|███████▋  | 154/200 [00:57<00:17,  2.62it/s]\n",
      "EP_train | avg_loss: 0.5403226232156157 |\n",
      "Epoch:  78%|███████▊  | 155/200 [00:57<00:17,  2.63it/s]\n",
      "EP_train | avg_loss: 0.5410435451194644 |\n",
      "Epoch:  78%|███████▊  | 156/200 [00:58<00:16,  2.63it/s]\n",
      "EP_train | avg_loss: 0.5405981135554612 |\n",
      "Epoch:  78%|███████▊  | 157/200 [00:58<00:16,  2.65it/s]\n",
      "EP_train | avg_loss: 0.5409674905240536 |\n",
      "Epoch:  79%|███████▉  | 158/200 [00:58<00:15,  2.64it/s]\n",
      "EP_train | avg_loss: 0.5404494884423912 |\n",
      "Epoch:  80%|███████▉  | 159/200 [00:59<00:15,  2.66it/s]\n",
      "EP_train | avg_loss: 0.5406196983531117 |\n",
      "Epoch:  80%|████████  | 160/200 [00:59<00:15,  2.66it/s]\n",
      "EP_train | avg_loss: 0.5408724450971931 |\n",
      "Epoch:  80%|████████  | 161/200 [00:59<00:14,  2.68it/s]\n",
      "EP_train | avg_loss: 0.5407634023576975 |\n",
      "Epoch:  81%|████████  | 162/200 [01:00<00:14,  2.68it/s]\n",
      "EP_train | avg_loss: 0.5413039112463593 |\n",
      "Epoch:  82%|████████▏ | 163/200 [01:00<00:13,  2.71it/s]\n",
      "EP_train | avg_loss: 0.5406699725426733 |\n",
      "Epoch:  82%|████████▏ | 164/200 [01:01<00:13,  2.71it/s]\n",
      "EP_train | avg_loss: 0.5399560327641666 |\n",
      "Epoch:  82%|████████▎ | 165/200 [01:01<00:12,  2.71it/s]\n",
      "EP_train | avg_loss: 0.5397261674515903 |\n",
      "Epoch:  83%|████████▎ | 166/200 [01:01<00:12,  2.71it/s]\n",
      "EP_train | avg_loss: 0.5397387216798961 |\n",
      "Epoch:  84%|████████▎ | 167/200 [01:02<00:12,  2.72it/s]\n",
      "EP_train | avg_loss: 0.5401466032490134 |\n",
      "Epoch:  84%|████████▍ | 168/200 [01:02<00:11,  2.72it/s]\n",
      "EP_train | avg_loss: 0.5408846009522676 |\n",
      "Epoch:  84%|████████▍ | 169/200 [01:02<00:11,  2.70it/s]\n",
      "EP_train | avg_loss: 0.5405676956288517 |\n",
      "Epoch:  85%|████████▌ | 170/200 [01:03<00:11,  2.69it/s]\n",
      "EP_train | avg_loss: 0.5391102614812553 |\n",
      "Epoch:  86%|████████▌ | 171/200 [01:03<00:10,  2.70it/s]\n",
      "EP_train | avg_loss: 0.5398728135041893 |\n",
      "Epoch:  86%|████████▌ | 172/200 [01:03<00:10,  2.70it/s]\n",
      "EP_train | avg_loss: 0.5394993997178972 |\n",
      "Epoch:  86%|████████▋ | 173/200 [01:04<00:10,  2.69it/s]\n",
      "EP_train | avg_loss: 0.5400768010877073 |\n",
      "Epoch:  87%|████████▋ | 174/200 [01:04<00:09,  2.71it/s]\n",
      "EP_train | avg_loss: 0.5391081017442048 |\n",
      "Epoch:  88%|████████▊ | 175/200 [01:05<00:09,  2.73it/s]\n",
      "EP_train | avg_loss: 0.5393670860212296 |\n",
      "Epoch:  88%|████████▊ | 176/200 [01:05<00:08,  2.74it/s]\n",
      "EP_train | avg_loss: 0.5396570223383605 |\n",
      "Epoch:  88%|████████▊ | 177/200 [01:05<00:08,  2.72it/s]\n",
      "EP_train | avg_loss: 0.5389096019789577 |\n",
      "Epoch:  89%|████████▉ | 178/200 [01:06<00:08,  2.69it/s]\n",
      "EP_train | avg_loss: 0.539060739800334 |\n",
      "Epoch:  90%|████████▉ | 179/200 [01:06<00:07,  2.68it/s]\n",
      "EP_train | avg_loss: 0.5395086421631277 |\n",
      "Epoch:  90%|█████████ | 180/200 [01:06<00:07,  2.70it/s]\n",
      "EP_train | avg_loss: 0.5395611245185137 |\n",
      "Epoch:  90%|█████████ | 181/200 [01:07<00:07,  2.70it/s]\n",
      "EP_train | avg_loss: 0.5392175908200443 |\n",
      "Epoch:  91%|█████████ | 182/200 [01:07<00:06,  2.70it/s]\n",
      "EP_train | avg_loss: 0.5398546033538878 |\n",
      "Epoch:  92%|█████████▏| 183/200 [01:08<00:06,  2.71it/s]\n",
      "EP_train | avg_loss: 0.5389538104645908 |\n",
      "Epoch:  92%|█████████▏| 184/200 [01:08<00:05,  2.74it/s]\n",
      "EP_train | avg_loss: 0.5401063486933708 |\n",
      "Epoch:  92%|█████████▎| 185/200 [01:08<00:05,  2.77it/s]\n",
      "EP_train | avg_loss: 0.5391998603008687 |\n",
      "Epoch:  93%|█████████▎| 186/200 [01:09<00:05,  2.77it/s]\n",
      "EP_train | avg_loss: 0.5378855955787003 |\n",
      "Epoch:  94%|█████████▎| 187/200 [01:09<00:04,  2.73it/s]\n",
      "EP_train | avg_loss: 0.5377597138285637 |\n",
      "Epoch:  94%|█████████▍| 188/200 [01:09<00:04,  2.76it/s]\n",
      "EP_train | avg_loss: 0.538596399128437 |\n",
      "Epoch:  94%|█████████▍| 189/200 [01:10<00:04,  2.73it/s]\n",
      "EP_train | avg_loss: 0.538703428581357 |\n",
      "Epoch:  95%|█████████▌| 190/200 [01:10<00:03,  2.72it/s]\n",
      "EP_train | avg_loss: 0.538880882319063 |\n",
      "Epoch:  96%|█████████▌| 191/200 [01:10<00:03,  2.68it/s]\n",
      "EP_train | avg_loss: 0.5387121266685426 |\n",
      "Epoch:  96%|█████████▌| 192/200 [01:11<00:02,  2.70it/s]\n",
      "EP_train | avg_loss: 0.5374940489418805 |\n",
      "Epoch:  96%|█████████▋| 193/200 [01:11<00:02,  2.71it/s]\n",
      "EP_train | avg_loss: 0.5382709349505603 |\n",
      "Epoch:  97%|█████████▋| 194/200 [01:12<00:02,  2.71it/s]\n",
      "EP_train | avg_loss: 0.5379317374899983 |\n",
      "Epoch:  98%|█████████▊| 195/200 [01:12<00:01,  2.72it/s]\n",
      "EP_train | avg_loss: 0.5384486885741353 |\n",
      "Epoch:  98%|█████████▊| 196/200 [01:12<00:01,  2.68it/s]\n",
      "EP_train | avg_loss: 0.5383048625662923 |\n",
      "Epoch:  98%|█████████▊| 197/200 [01:13<00:01,  2.63it/s]\n",
      "EP_train | avg_loss: 0.53822813462466 |\n",
      "Epoch:  99%|█████████▉| 198/200 [01:13<00:00,  2.65it/s]\n",
      "EP_train | avg_loss: 0.537705359980464 |\n",
      "Epoch: 100%|█████████▉| 199/200 [01:13<00:00,  2.67it/s]\n",
      "EP_train | avg_loss: 0.538299297913909 |\n",
      "Epoch: 100%|██████████| 200/200 [01:14<00:00,  2.69it/s]\n",
      "EP_train | avg_loss: 0.537767787463963 |\n",
      "\n"
     ]
    }
   ],
   "source": [
    "AttractiveTrainer.train()"
   ]
  },
  {
   "source": [
    "## for classification, not better"
   ],
   "cell_type": "markdown",
   "metadata": {}
  },
  {
   "cell_type": "code",
   "execution_count": 14,
   "metadata": {
    "tags": []
   },
   "outputs": [
    {
     "output_type": "execute_result",
     "data": {
      "text/plain": [
       "0.5601443355119825"
      ]
     },
     "metadata": {},
     "execution_count": 14
    }
   ],
   "source": [
    "# from sklearn.metrics import mean_squared_error\n",
    "# a = AttractiveTrainer.train_predict\n",
    "# AttractiveData.LABEL.vocab.itos[int(a[0])], AttractiveTrainer.train_true[0]\n",
    "# correct = 0\n",
    "# pred_list = []\n",
    "# true_list = []\n",
    "# for i in range(len(a)):\n",
    "#     pred = AttractiveData.LABEL.vocab.itos[int(a[i])]\n",
    "#     pred_list.append(float(pred))\n",
    "#     true = AttractiveData.LABEL.vocab.itos[int(AttractiveTrainer.train_true[i])]\n",
    "#     true_list.append(float(true))\n",
    "# mean_squared_error(true_list, pred_list)\n",
    "# # true_list"
   ]
  },
  {
   "source": [
    "## Below is testing"
   ],
   "cell_type": "markdown",
   "metadata": {}
  },
  {
   "cell_type": "code",
   "execution_count": 13,
   "metadata": {},
   "outputs": [
    {
     "output_type": "execute_result",
     "data": {
      "text/plain": [
       "AttractiveNet(\n",
       "  (embedding): AttractiveEmbedding(\n",
       "    (token): TokenEmbedding(12699, 300, padding_idx=1)\n",
       "  )\n",
       "  (encoder): LSTM(300, 30, num_layers=2, bidirectional=True)\n",
       "  (linear): Sequential(\n",
       "    (0): Linear(in_features=120, out_features=30, bias=True)\n",
       "    (1): ReLU()\n",
       "    (2): Linear(in_features=30, out_features=1, bias=True)\n",
       "  )\n",
       ")"
      ]
     },
     "metadata": {},
     "execution_count": 13
    }
   ],
   "source": [
    "from attractivenet import AttractiveNet\n",
    "PATH = './model/LSTM_20201101-010910_0.5378.200'\n",
    "# load_model = TransformerModel(config).to(AttractiveData.device)\n",
    "load_model = AttractiveNet(config).to(AttractiveData.device)\n",
    "load_model.load_state_dict(torch.load(PATH))\n",
    "load_model.eval()"
   ]
  },
  {
   "cell_type": "code",
   "execution_count": 14,
   "metadata": {},
   "outputs": [],
   "source": [
    "def predict_attractive(sentence, category):\n",
    "    if len(sentence) < config['max_seq']:\n",
    "        sentence += ['0'] * (config['max_seq'] - len(sentence))\n",
    "    else:\n",
    "        sentence = sentence[:config['max_seq']]\n",
    "\n",
    "    indexed_sentence = [AttractiveData.TEXT.vocab.stoi[t] for t in sentence]\n",
    "    indexed_category = [AttractiveData.CATEGORIES_LABEL.vocab.stoi[category]]\n",
    "    tensor_sentence = torch.LongTensor(indexed_sentence).to(AttractiveData.device)\n",
    "    tensor_category = torch.LongTensor(indexed_category).to(AttractiveData.device)\n",
    "\n",
    "    tensor_sentence = tensor_sentence.unsqueeze(1)\n",
    "\n",
    "    prediction = load_model(tensor_sentence, tensor_category)\n",
    "    \n",
    "    return prediction"
   ]
  },
  {
   "cell_type": "code",
   "execution_count": 15,
   "metadata": {
    "tags": []
   },
   "outputs": [],
   "source": [
    "# train mean = 3.15, test mean = 2.8\n",
    "predict_list = []\n",
    "with torch.no_grad():\n",
    "    for i, sentence in enumerate(AttractiveData.test_data):\n",
    "        # print(i)\n",
    "        # print(sentence.Headline)\n",
    "        prediction = predict_attractive(sentence.Headline, sentence.Category)\n",
    "        predict_list.append(prediction.item() + 2.8)\n",
    "        # predict_list.append(prediction.item())\n",
    "AttractiveData.df_test['Label'] = predict_list\n",
    "AttractiveData.df_test[['ID', 'Label']].to_csv(config['save_name'] + '.csv', index=False)"
   ]
  },
  {
   "cell_type": "code",
   "execution_count": 16,
   "metadata": {},
   "outputs": [],
   "source": [
    "# train_category = list(AttractiveData.CATEGORIES_LABEL.vocab.freqs)\n",
    "# test_category = list(AttractiveData.df_test['Category'].value_counts().keys())\n",
    "# for each_test in test_category:\n",
    "#     if each_test not in train_category:\n",
    "#         print(each_test)\n",
    "# print()\n",
    "# for each_train in train_category:\n",
    "#     if each_train not in test_category:\n",
    "#         print(each_train)"
   ]
  },
  {
   "source": [
    "## Below just for fun guess"
   ],
   "cell_type": "markdown",
   "metadata": {}
  },
  {
   "cell_type": "code",
   "execution_count": 17,
   "metadata": {},
   "outputs": [],
   "source": [
    "import statistics\n",
    "from sklearn.metrics import mean_squared_error"
   ]
  },
  {
   "cell_type": "code",
   "execution_count": 18,
   "metadata": {},
   "outputs": [
    {
     "output_type": "execute_result",
     "data": {
      "text/plain": [
       "(0.5347357640381534, 3.212537875745044, 0.009437110101923997)"
      ]
     },
     "metadata": {},
     "execution_count": 18
    }
   ],
   "source": [
    "# train mean = 3.15, test mean = 2.8\n",
    "train_list = []\n",
    "for i, sentence in enumerate(AttractiveData.train_data):\n",
    "    prediction = predict_attractive(sentence.Headline, sentence.Category)\n",
    "    train_list.append(prediction.item() + 3.15)\n",
    "    # train_list.append(prediction.item())\n",
    "mean_squared_error(pd.read_csv('data/train.csv').sort_values(['ID']).Label.to_list(), train_list), statistics.mean(train_list), statistics.stdev(train_list)"
   ]
  },
  {
   "cell_type": "code",
   "execution_count": 19,
   "metadata": {},
   "outputs": [
    {
     "output_type": "execute_result",
     "data": {
      "text/plain": [
       "(0.0004084967320261136, 0.7295015193216009)"
      ]
     },
     "metadata": {},
     "execution_count": 19
    }
   ],
   "source": [
    "a = AttractiveData.df_train['Label'].to_list()\n",
    "statistics.mean(a), statistics.stdev(a)"
   ]
  },
  {
   "cell_type": "code",
   "execution_count": 20,
   "metadata": {},
   "outputs": [
    {
     "output_type": "execute_result",
     "data": {
      "text/plain": [
       "(2.8603686607225347, 0.0100302224724178)"
      ]
     },
     "metadata": {},
     "execution_count": 20
    }
   ],
   "source": [
    "statistics.mean(predict_list), statistics.stdev(predict_list)"
   ]
  },
  {
   "cell_type": "code",
   "execution_count": 21,
   "metadata": {},
   "outputs": [
    {
     "output_type": "execute_result",
     "data": {
      "text/plain": [
       "(0.10607111434061829, 2.7156126782757597, 0.29355123275379763)"
      ]
     },
     "metadata": {},
     "execution_count": 21
    }
   ],
   "source": [
    "baseline_list = pd.read_csv('baseline.csv').sort_values(['ID']).Label.to_list()\n",
    "mean_squared_error(baseline_list, predict_list), statistics.mean(baseline_list), statistics.stdev(baseline_list)"
   ]
  },
  {
   "cell_type": "code",
   "execution_count": 14,
   "metadata": {},
   "outputs": [
    {
     "output_type": "execute_result",
     "data": {
      "text/plain": [
       "(2.8167915543795683, 0.14611407210842048)"
      ]
     },
     "metadata": {},
     "execution_count": 14
    }
   ],
   "source": [
    "# LSTM my best\n",
    "# statistics.mean(predict_list), statistics.stdev(predict_list)"
   ]
  },
  {
   "cell_type": "code",
   "execution_count": 21,
   "metadata": {},
   "outputs": [
    {
     "output_type": "execute_result",
     "data": {
      "text/plain": [
       "(0.1347375515605904, 2.8379913731293533, 0.1903582104725371)"
      ]
     },
     "metadata": {},
     "execution_count": 21
    }
   ],
   "source": [
    "a = pd.read_csv('LSTM_base.csv').Label.to_list()\n",
    "mean_squared_error(baseline_list, a), statistics.mean(a), statistics.stdev(a)"
   ]
  },
  {
   "cell_type": "code",
   "execution_count": null,
   "metadata": {},
   "outputs": [],
   "source": []
  }
 ]
}