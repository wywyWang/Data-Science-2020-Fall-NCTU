{
 "cells": [
  {
   "cell_type": "code",
   "execution_count": 1,
   "metadata": {},
   "outputs": [],
   "source": [
    "# common packages\n",
    "import pandas as pd\n",
    "import time\n",
    "\n",
    "# # DL framework\n",
    "import torch\n",
    "from torchtext import data\n",
    "\n",
    "from attractivedata import AttractiveData\n",
    "from trainer import AttractiveTrainer"
   ]
  },
  {
   "cell_type": "code",
   "execution_count": 2,
   "metadata": {},
   "outputs": [],
   "source": [
    "seed_value = 42\n",
    "torch.manual_seed(seed_value)\n",
    "torch.cuda.manual_seed(seed_value)\n",
    "torch.cuda.manual_seed_all(seed_value) # gpu vars\n",
    "torch.backends.cudnn.deterministic = True  #needed\n",
    "torch.backends.cudnn.benchmark = False"
   ]
  },
  {
   "cell_type": "markdown",
   "metadata": {},
   "source": [
    "## Load and prepare data"
   ]
  },
  {
   "cell_type": "code",
   "execution_count": 3,
   "metadata": {},
   "outputs": [],
   "source": [
    "train_file = 'data/train.csv'\n",
    "val_file = 'example/val.csv'\n",
    "test_file = 'data/test.csv'\n",
    "pretrained_file = 'glove.840B.300d'\n",
    "config = {\n",
    "    'max_seq': 40,\n",
    "    'min_freq': 0,\n",
    "    'batch_size': 51,\n",
    "    'pretrained_file': pretrained_file\n",
    "}\n"
   ]
  },
  {
   "cell_type": "code",
   "execution_count": 4,
   "metadata": {},
   "outputs": [],
   "source": [
    "AttractiveData = AttractiveData(train_file, val_file, test_file, pretrained_file, config)"
   ]
  },
  {
   "cell_type": "markdown",
   "metadata": {},
   "source": [
    "## Start to train"
   ]
  },
  {
   "cell_type": "code",
   "execution_count": 5,
   "metadata": {},
   "outputs": [
    {
     "output_type": "stream",
     "name": "stdout",
     "text": [
      "torch.Size([12699, 300])\n"
     ]
    }
   ],
   "source": [
    "config['timestr'] = time.strftime(\"%Y%m%d-%H%M%S\")\n",
    "config['save_name'] = 'CNN_LSTM'\n",
    "config['input_dim'] = len(AttractiveData.TEXT.vocab)\n",
    "config['embedding_dim'] = 300\n",
    "config['category_dim'] = len(AttractiveData.CATEGORIES_LABEL.vocab)\n",
    "config['category_embedding_dim'] = 10\n",
    "config['hidden_dim'] = 30\n",
    "config['output_dim'] = 1\n",
    "config['log_steps'] = 10\n",
    "config['epochs'] = 150\n",
    "config['lr'] = {\n",
    "    'encoder': 1e-5,\n",
    "    'embedding': 6e-6,\n",
    "    'linear': 1e-5\n",
    "}\n",
    "config['num_layers'] = 1\n",
    "config['kernel_size'] = 3\n",
    "config['dropout'] = 0.5\n",
    "config['train_len'] = AttractiveData.train_len\n",
    "config['val_len'] = AttractiveData.val_len\n",
    "config['test_len'] = AttractiveData.test_len\n",
    "\n",
    "pretrained_embeddings = AttractiveData.TEXT.vocab.vectors\n",
    "print(pretrained_embeddings.shape)"
   ]
  },
  {
   "cell_type": "code",
   "execution_count": 6,
   "metadata": {},
   "outputs": [],
   "source": [
    "AttractiveTrainer = AttractiveTrainer(config, AttractiveData.device, AttractiveData.trainloader, AttractiveData.valloader, pretrained_embeddings)"
   ]
  },
  {
   "cell_type": "code",
   "execution_count": 7,
   "metadata": {},
   "outputs": [
    {
     "output_type": "execute_result",
     "data": {
      "text/plain": [
       "(AttractiveNet(\n",
       "   (embedding): AttractiveEmbedding(\n",
       "     (token): TokenEmbedding(12699, 300, padding_idx=1)\n",
       "   )\n",
       "   (bigramcnn): Sequential(\n",
       "     (0): Conv1d(300, 210, kernel_size=(2,), stride=(1,), padding=(1,))\n",
       "     (1): BatchNorm1d(210, eps=1e-05, momentum=0.1, affine=True, track_running_stats=True)\n",
       "     (2): MaxPool2d(kernel_size=2, stride=2, padding=0, dilation=1, ceil_mode=False)\n",
       "     (3): ReLU()\n",
       "     (4): Conv1d(105, 55, kernel_size=(2,), stride=(1,), padding=(1,))\n",
       "     (5): ReLU()\n",
       "     (6): Dropout(p=0.5, inplace=False)\n",
       "   )\n",
       "   (trigramcnn): Sequential(\n",
       "     (0): Conv1d(300, 210, kernel_size=(3,), stride=(1,), padding=(1,))\n",
       "     (1): BatchNorm1d(210, eps=1e-05, momentum=0.1, affine=True, track_running_stats=True)\n",
       "     (2): MaxPool2d(kernel_size=2, stride=2, padding=0, dilation=1, ceil_mode=False)\n",
       "     (3): ReLU()\n",
       "     (4): Conv1d(105, 55, kernel_size=(3,), stride=(1,), padding=(1,))\n",
       "     (5): ReLU()\n",
       "     (6): Dropout(p=0.5, inplace=False)\n",
       "   )\n",
       "   (encoder_bigram): LSTM(55, 30, batch_first=True, dropout=0.5, bidirectional=True)\n",
       "   (encoder_trigram): LSTM(55, 30, batch_first=True, dropout=0.5, bidirectional=True)\n",
       "   (linear): Sequential(\n",
       "     (0): Linear(in_features=128, out_features=30, bias=True)\n",
       "     (1): ReLU()\n",
       "     (2): Linear(in_features=30, out_features=1, bias=True)\n",
       "   )\n",
       " ),\n",
       " 4200606,\n",
       " 4200606)"
      ]
     },
     "metadata": {},
     "execution_count": 7
    }
   ],
   "source": [
    "AttractiveTrainer.model, AttractiveTrainer.config['total_params'], AttractiveTrainer.config['total_learned_params']"
   ]
  },
  {
   "cell_type": "code",
   "execution_count": 8,
   "metadata": {
    "tags": []
   },
   "outputs": [
    {
     "output_type": "stream",
     "name": "stderr",
     "text": [
      "Epoch:   1%|          | 1/150 [00:00<01:01,  2.41it/s]\n",
      "EP_0 | train loss: 0.9384422919329475 | val loss: 0.7165667028988109 |\n",
      "Epoch:   1%|▏         | 2/150 [00:00<01:00,  2.44it/s]\n",
      "EP_1 | train loss: 0.5792344205519733 | val loss: 0.5318450179754519 |\n",
      "Epoch:   2%|▏         | 3/150 [00:01<00:59,  2.46it/s]\n",
      "EP_2 | train loss: 0.5667228670681224 | val loss: 0.5237507446139467 |\n",
      "Epoch:   3%|▎         | 4/150 [00:01<00:59,  2.47it/s]\n",
      "EP_3 | train loss: 0.5785140944462196 | val loss: 0.525703467574774 |\n",
      "Epoch:   3%|▎         | 5/150 [00:02<00:58,  2.49it/s]\n",
      "EP_4 | train loss: 0.5525054510901956 | val loss: 0.5124210002375584 |\n",
      "Epoch:   4%|▍         | 6/150 [00:02<00:57,  2.50it/s]\n",
      "EP_5 | train loss: 0.5604159458010805 | val loss: 0.5169323565913182 |\n",
      "Epoch:   5%|▍         | 7/150 [00:02<00:58,  2.44it/s]\n",
      "EP_6 | train loss: 0.5489269144394818 | val loss: 0.5078892707824707 |\n",
      "Epoch:   5%|▌         | 8/150 [00:03<01:00,  2.37it/s]\n",
      "EP_7 | train loss: 0.5569075850879445 | val loss: 0.5139765178456026 |\n",
      "Epoch:   6%|▌         | 9/150 [00:03<00:59,  2.36it/s]\n",
      "EP_8 | train loss: 0.5708675936156629 | val loss: 0.5236237095851525 |\n",
      "Epoch:   7%|▋         | 10/150 [00:04<01:00,  2.33it/s]\n",
      "EP_9 | train loss: 0.5546850466260723 | val loss: 0.5111468539518469 |\n",
      "Epoch:   7%|▋         | 11/150 [00:04<01:01,  2.27it/s]\n",
      "EP_10 | train loss: 0.5560332681618485 | val loss: 0.5101537143482882 |\n",
      "Epoch:   8%|▊         | 12/150 [00:05<00:59,  2.30it/s]\n",
      "EP_11 | train loss: 0.564733242521099 | val loss: 0.5188887072544471 |\n",
      "Epoch:   9%|▊         | 13/150 [00:05<00:58,  2.33it/s]\n",
      "EP_12 | train loss: 0.5505397675084133 | val loss: 0.5087215199190027 |\n",
      "Epoch:   9%|▉         | 14/150 [00:05<00:58,  2.34it/s]\n",
      "EP_13 | train loss: 0.5467728708304611 | val loss: 0.5039685847712498 |\n",
      "Epoch:  10%|█         | 15/150 [00:06<00:57,  2.37it/s]\n",
      "EP_14 | train loss: 0.5259918399885589 | val loss: 0.4853152200287464 |\n",
      "Epoch:  11%|█         | 16/150 [00:06<00:56,  2.36it/s]\n",
      "EP_15 | train loss: 0.5283857569975011 | val loss: 0.48666920381433826 |\n",
      "Epoch:  11%|█▏        | 17/150 [00:07<00:56,  2.37it/s]\n",
      "EP_16 | train loss: 0.5243444769990211 | val loss: 0.48218048320097084 |\n",
      "Epoch:  12%|█▏        | 18/150 [00:07<00:55,  2.38it/s]\n",
      "EP_17 | train loss: 0.507756913877001 | val loss: 0.4668584898406384 |\n",
      "Epoch:  13%|█▎        | 19/150 [00:07<00:55,  2.38it/s]\n",
      "EP_18 | train loss: 0.4816348524654613 | val loss: 0.44441785064398076 |\n",
      "Epoch:  13%|█▎        | 20/150 [00:08<00:54,  2.36it/s]\n",
      "EP_19 | train loss: 0.48303561865114697 | val loss: 0.439763630137724 |\n",
      "Epoch:  14%|█▍        | 21/150 [00:08<00:55,  2.33it/s]\n",
      "EP_20 | train loss: 0.48801399305755017 | val loss: 0.44720037310731175 |\n",
      "Epoch:  15%|█▍        | 22/150 [00:09<00:54,  2.35it/s]\n",
      "EP_21 | train loss: 0.48277246624815695 | val loss: 0.43908002329807655 |\n",
      "Epoch:  15%|█▌        | 23/150 [00:09<00:53,  2.36it/s]\n",
      "EP_22 | train loss: 0.44397761307510675 | val loss: 0.39953240226296816 |\n",
      "Epoch:  16%|█▌        | 24/150 [00:10<00:52,  2.39it/s]\n",
      "EP_23 | train loss: 0.4402371518752154 | val loss: 0.3922245736215629 |\n",
      "Epoch:  17%|█▋        | 25/150 [00:10<00:52,  2.39it/s]\n",
      "EP_24 | train loss: 0.4488797571144852 | val loss: 0.3981046816881965 |\n",
      "Epoch:  17%|█▋        | 26/150 [00:10<00:51,  2.40it/s]\n",
      "EP_25 | train loss: 0.433592955271403 | val loss: 0.3795332160650515 |\n",
      "Epoch:  18%|█▊        | 27/150 [00:11<00:50,  2.42it/s]\n",
      "EP_26 | train loss: 0.4299290016585705 | val loss: 0.3748782522538129 |\n",
      "Epoch:  19%|█▊        | 28/150 [00:11<00:50,  2.42it/s]\n",
      "EP_27 | train loss: 0.4412446942983889 | val loss: 0.3818921294866824 |\n",
      "Epoch:  19%|█▉        | 29/150 [00:12<00:49,  2.43it/s]\n",
      "EP_28 | train loss: 0.4317772164064295 | val loss: 0.37141885944441255 |\n",
      "Epoch:  20%|██        | 30/150 [00:12<00:49,  2.43it/s]\n",
      "EP_29 | train loss: 0.4107471835379507 | val loss: 0.35132188423007144 |\n",
      "Epoch:  21%|██        | 31/150 [00:12<00:49,  2.39it/s]\n",
      "EP_30 | train loss: 0.4193299087823606 | val loss: 0.35842114803837793 |\n",
      "Epoch:  21%|██▏       | 32/150 [00:13<00:49,  2.40it/s]\n",
      "EP_31 | train loss: 0.4218493662628473 | val loss: 0.3576265035891065 |\n",
      "Epoch:  22%|██▏       | 33/150 [00:13<00:49,  2.38it/s]\n",
      "EP_32 | train loss: 0.38047374744041296 | val loss: 0.32458654104494583 |\n",
      "Epoch:  23%|██▎       | 34/150 [00:14<00:48,  2.37it/s]\n",
      "EP_33 | train loss: 0.39359544725979073 | val loss: 0.333127919365378 |\n",
      "Epoch:  23%|██▎       | 35/150 [00:14<00:48,  2.35it/s]\n",
      "EP_34 | train loss: 0.3744380338519227 | val loss: 0.31854745453479244 |\n",
      "Epoch:  24%|██▍       | 36/150 [00:15<00:47,  2.38it/s]\n",
      "EP_35 | train loss: 0.39069364491631003 | val loss: 0.32988548278808594 |\n",
      "Epoch:  25%|██▍       | 37/150 [00:15<00:48,  2.33it/s]\n",
      "EP_36 | train loss: 0.3730216554566926 | val loss: 0.3153563293756223 |\n",
      "Epoch:  25%|██▌       | 38/150 [00:15<00:47,  2.35it/s]\n",
      "EP_37 | train loss: 0.36763929900001074 | val loss: 0.31175583484126074 |\n",
      "Epoch:  26%|██▌       | 39/150 [00:16<00:47,  2.33it/s]\n",
      "EP_38 | train loss: 0.37487438893785663 | val loss: 0.31445638806212184 |\n",
      "Epoch:  27%|██▋       | 40/150 [00:16<00:46,  2.35it/s]\n",
      "EP_39 | train loss: 0.37749683155732994 | val loss: 0.31598153768801224 |\n",
      "Epoch:  27%|██▋       | 41/150 [00:17<00:46,  2.34it/s]\n",
      "EP_40 | train loss: 0.3537680611890905 | val loss: 0.2959551203484629 |\n",
      "Epoch:  28%|██▊       | 42/150 [00:17<00:45,  2.36it/s]\n",
      "EP_41 | train loss: 0.3428492139367496 | val loss: 0.28908518716400744 |\n",
      "Epoch:  29%|██▊       | 43/150 [00:18<00:45,  2.36it/s]\n",
      "EP_42 | train loss: 0.33839168501835243 | val loss: 0.2859913414599849 |\n",
      "Epoch:  29%|██▉       | 44/150 [00:18<00:44,  2.38it/s]\n",
      "EP_43 | train loss: 0.33128025298025093 | val loss: 0.2789984637615727 |\n",
      "Epoch:  30%|███       | 45/150 [00:18<00:44,  2.37it/s]\n",
      "EP_44 | train loss: 0.311210971252591 | val loss: 0.26491810293758616 |\n",
      "Epoch:  31%|███       | 46/150 [00:19<00:43,  2.40it/s]\n",
      "EP_45 | train loss: 0.31253993604697433 | val loss: 0.26559827841964423 |\n",
      "Epoch:  31%|███▏      | 47/150 [00:19<00:43,  2.37it/s]\n",
      "EP_46 | train loss: 0.2981559912363688 | val loss: 0.25783244301291075 |\n",
      "Epoch:  32%|███▏      | 48/150 [00:20<00:42,  2.40it/s]\n",
      "EP_47 | train loss: 0.3003696675394096 | val loss: 0.25717462277879904 |\n",
      "Epoch:  33%|███▎      | 49/150 [00:20<00:42,  2.37it/s]\n",
      "EP_48 | train loss: 0.2959072650647631 | val loss: 0.25091029615963206 |\n",
      "Epoch:  33%|███▎      | 50/150 [00:21<00:42,  2.37it/s]\n",
      "EP_49 | train loss: 0.2798170809652291 | val loss: 0.24202501072603114 |\n",
      "Epoch:  34%|███▍      | 51/150 [00:21<00:42,  2.35it/s]\n",
      "EP_50 | train loss: 0.2577608164618997 | val loss: 0.22948577824760885 |\n",
      "Epoch:  35%|███▍      | 52/150 [00:21<00:41,  2.38it/s]\n",
      "EP_51 | train loss: 0.2518999085706823 | val loss: 0.22257354680229635 |\n",
      "Epoch:  35%|███▌      | 53/150 [00:22<00:41,  2.34it/s]\n",
      "EP_52 | train loss: 0.2653575799044441 | val loss: 0.22985402275534236 |\n",
      "Epoch:  36%|███▌      | 54/150 [00:22<00:40,  2.37it/s]\n",
      "EP_53 | train loss: 0.23982903186012716 | val loss: 0.21080971231647566 |\n",
      "Epoch:  37%|███▋      | 55/150 [00:23<00:40,  2.33it/s]\n",
      "EP_54 | train loss: 0.23120101970784804 | val loss: 0.20143765094233493 |\n",
      "Epoch:  37%|███▋      | 56/150 [00:23<00:40,  2.33it/s]\n",
      "EP_55 | train loss: 0.2236344524458343 | val loss: 0.1956064093346689 |\n",
      "Epoch:  38%|███▊      | 57/150 [00:24<00:39,  2.34it/s]\n",
      "EP_56 | train loss: 0.20918602779799816 | val loss: 0.18699742999731325 |\n",
      "Epoch:  39%|███▊      | 58/150 [00:24<00:39,  2.34it/s]\n",
      "EP_57 | train loss: 0.20208976315517052 | val loss: 0.18067751445022284 |\n",
      "Epoch:  39%|███▉      | 59/150 [00:24<00:39,  2.33it/s]\n",
      "EP_58 | train loss: 0.18853347839093676 | val loss: 0.1706533338509354 |\n",
      "Epoch:  40%|████      | 60/150 [00:25<00:38,  2.36it/s]\n",
      "EP_59 | train loss: 0.18870025008332494 | val loss: 0.16708739131104713 |\n",
      "Epoch:  41%|████      | 61/150 [00:25<00:38,  2.33it/s]\n",
      "EP_60 | train loss: 0.16908487268522673 | val loss: 0.15728578146766214 |\n",
      "Epoch:  41%|████▏     | 62/150 [00:26<00:37,  2.35it/s]\n",
      "EP_61 | train loss: 0.16747204392564063 | val loss: 0.15319391559152043 |\n",
      "Epoch:  42%|████▏     | 63/150 [00:26<00:37,  2.33it/s]\n",
      "EP_62 | train loss: 0.1585054743523691 | val loss: 0.14041178132973464 |\n",
      "Epoch:  43%|████▎     | 64/150 [00:26<00:36,  2.38it/s]\n",
      "EP_63 | train loss: 0.14559599488389258 | val loss: 0.1325131607990639 |\n",
      "Epoch:  43%|████▎     | 65/150 [00:27<00:35,  2.37it/s]\n",
      "EP_64 | train loss: 0.14297442716710707 | val loss: 0.12723849333968817 |\n",
      "Epoch:  44%|████▍     | 66/150 [00:27<00:35,  2.40it/s]\n",
      "EP_65 | train loss: 0.13359957138697307 | val loss: 0.11978345758774701 |\n",
      "Epoch:  45%|████▍     | 67/150 [00:28<00:34,  2.38it/s]\n",
      "EP_66 | train loss: 0.13060076657463524 | val loss: 0.11221370743770226 |\n",
      "Epoch:  45%|████▌     | 68/150 [00:28<00:34,  2.39it/s]\n",
      "EP_67 | train loss: 0.11828904818086063 | val loss: 0.1049635223313874 |\n",
      "Epoch:  46%|████▌     | 69/150 [00:29<00:34,  2.37it/s]\n",
      "EP_68 | train loss: 0.1061864878617081 | val loss: 0.09751188521291695 |\n",
      "Epoch:  47%|████▋     | 70/150 [00:29<00:33,  2.40it/s]\n",
      "EP_69 | train loss: 0.11743900553852904 | val loss: 0.09953500242794261 |\n",
      "Epoch:  47%|████▋     | 71/150 [00:29<00:33,  2.38it/s]\n",
      "EP_70 | train loss: 0.0965626784399444 | val loss: 0.09320579673729691 |\n",
      "Epoch:  48%|████▊     | 72/150 [00:30<00:32,  2.41it/s]\n",
      "EP_71 | train loss: 0.09871675652616164 | val loss: 0.09072970759634878 |\n",
      "Epoch:  49%|████▊     | 73/150 [00:30<00:32,  2.37it/s]\n",
      "EP_72 | train loss: 0.0890365230102165 | val loss: 0.08025070849586935 |\n",
      "Epoch:  49%|████▉     | 74/150 [00:31<00:32,  2.33it/s]\n",
      "EP_73 | train loss: 0.08179167795415018 | val loss: 0.07555934260873233 |\n",
      "Epoch:  50%|█████     | 75/150 [00:31<00:32,  2.33it/s]\n",
      "EP_74 | train loss: 0.08460208534025679 | val loss: 0.07290275774750055 |\n",
      "Epoch:  51%|█████     | 76/150 [00:32<00:31,  2.35it/s]\n",
      "EP_75 | train loss: 0.07628968171044892 | val loss: 0.06591577974020266 |\n",
      "Epoch:  51%|█████▏    | 77/150 [00:32<00:31,  2.35it/s]\n",
      "EP_76 | train loss: 0.07321943886139813 | val loss: 0.062280396620432533 |\n",
      "Epoch:  52%|█████▏    | 78/150 [00:32<00:30,  2.36it/s]\n",
      "EP_77 | train loss: 0.06894465065469929 | val loss: 0.0584762505456513 |\n",
      "Epoch:  53%|█████▎    | 79/150 [00:33<00:30,  2.36it/s]\n",
      "EP_78 | train loss: 0.06444027540730494 | val loss: 0.05649968572691375 |\n",
      "Epoch:  53%|█████▎    | 80/150 [00:33<00:29,  2.37it/s]\n",
      "EP_79 | train loss: 0.062359640119122525 | val loss: 0.05640919068280388 |\n",
      "Epoch:  54%|█████▍    | 81/150 [00:34<00:29,  2.36it/s]\n",
      "EP_80 | train loss: 0.05364629836643443 | val loss: 0.05026483886382159 |\n",
      "Epoch:  55%|█████▍    | 82/150 [00:34<00:28,  2.38it/s]\n",
      "EP_81 | train loss: 0.05015853906379027 | val loss: 0.04916608976382835 |\n",
      "Epoch:  55%|█████▌    | 83/150 [00:35<00:28,  2.36it/s]\n",
      "EP_82 | train loss: 0.057776586097829485 | val loss: 0.051646274678847366 |\n",
      "Epoch:  56%|█████▌    | 84/150 [00:35<00:27,  2.37it/s]\n",
      "EP_83 | train loss: 0.04567378157494115 | val loss: 0.043482438022015145 |\n",
      "Epoch:  57%|█████▋    | 85/150 [00:35<00:27,  2.36it/s]\n",
      "EP_84 | train loss: 0.05368080372903861 | val loss: 0.044883171717325844 |\n",
      "Epoch:  57%|█████▋    | 86/150 [00:36<00:27,  2.34it/s]\n",
      "EP_85 | train loss: 0.05000128407104343 | val loss: 0.044010286237679275 |\n",
      "Epoch:  58%|█████▊    | 87/150 [00:36<00:27,  2.27it/s]\n",
      "EP_86 | train loss: 0.042662794858801596 | val loss: 0.038152739113452384 |\n",
      "Epoch:  59%|█████▊    | 88/150 [00:37<00:26,  2.30it/s]\n",
      "EP_87 | train loss: 0.04717459322190752 | val loss: 0.03907008732066435 |\n",
      "Epoch:  59%|█████▉    | 89/150 [00:37<00:26,  2.30it/s]\n",
      "EP_88 | train loss: 0.043775686037306694 | val loss: 0.03820737027654461 |\n",
      "Epoch:  60%|██████    | 90/150 [00:38<00:25,  2.34it/s]\n",
      "EP_89 | train loss: 0.04712653358777364 | val loss: 0.038425167401631675 |\n",
      "Epoch:  61%|██████    | 91/150 [00:38<00:25,  2.34it/s]\n",
      "EP_90 | train loss: 0.04172826762877259 | val loss: 0.034986051858640184 |\n",
      "Epoch:  61%|██████▏   | 92/150 [00:38<00:24,  2.34it/s]\n",
      "EP_91 | train loss: 0.03139392531969968 | val loss: 0.03101269988452687 |\n",
      "Epoch:  62%|██████▏   | 93/150 [00:39<00:24,  2.31it/s]\n",
      "EP_92 | train loss: 0.03445298239296558 | val loss: 0.02984174326354382 |\n",
      "Epoch:  63%|██████▎   | 94/150 [00:39<00:24,  2.32it/s]\n",
      "EP_93 | train loss: 0.030731694195784774 | val loss: 0.029440600498049866 |\n",
      "Epoch:  63%|██████▎   | 95/150 [00:40<00:23,  2.31it/s]\n",
      "EP_94 | train loss: 0.02900464727598078 | val loss: 0.028458333482929303 |\n",
      "Epoch:  64%|██████▍   | 96/150 [00:40<00:23,  2.33it/s]\n",
      "EP_95 | train loss: 0.03739114695904302 | val loss: 0.030876775582631428 |\n",
      "Epoch:  65%|██████▍   | 97/150 [00:41<00:23,  2.30it/s]\n",
      "EP_96 | train loss: 0.031073188226596982 | val loss: 0.026746569310917574 |\n",
      "Epoch:  65%|██████▌   | 98/150 [00:41<00:22,  2.33it/s]\n",
      "EP_97 | train loss: 0.03309334604179158 | val loss: 0.027415454387664795 |\n",
      "Epoch:  66%|██████▌   | 99/150 [00:41<00:21,  2.33it/s]\n",
      "EP_98 | train loss: 0.025758389339727513 | val loss: 0.02283218970485762 |\n",
      "Epoch:  67%|██████▋   | 100/150 [00:42<00:21,  2.33it/s]\n",
      "EP_99 | train loss: 0.02758884164048176 | val loss: 0.024325682252061134 |\n",
      "Epoch:  67%|██████▋   | 101/150 [00:42<00:22,  2.21it/s]\n",
      "EP_100 | train loss: 0.02443852012648302 | val loss: 0.023916432086159203 |\n",
      "Epoch:  68%|██████▊   | 102/150 [00:43<00:21,  2.24it/s]\n",
      "EP_101 | train loss: 0.025391881927555683 | val loss: 0.02348448277688494 |\n",
      "Epoch:  69%|██████▊   | 103/150 [00:43<00:21,  2.18it/s]\n",
      "EP_102 | train loss: 0.027633289963591334 | val loss: 0.023498402798877042 |\n",
      "Epoch:  69%|██████▉   | 104/150 [00:44<00:20,  2.21it/s]\n",
      "EP_103 | train loss: 0.02602391085203956 | val loss: 0.022974661460109784 |\n",
      "Epoch:  70%|███████   | 105/150 [00:44<00:20,  2.24it/s]\n",
      "EP_104 | train loss: 0.027637866899078968 | val loss: 0.022542943557103474 |\n",
      "Epoch:  71%|███████   | 106/150 [00:45<00:19,  2.23it/s]\n",
      "EP_105 | train loss: 0.024237088099414227 | val loss: 0.019881437806522146 |\n",
      "Epoch:  71%|███████▏  | 107/150 [00:45<00:19,  2.22it/s]\n",
      "EP_106 | train loss: 0.01773987152412826 | val loss: 0.018936270300079796 |\n",
      "Epoch:  72%|███████▏  | 108/150 [00:46<00:18,  2.21it/s]\n",
      "EP_107 | train loss: 0.01866647579214152 | val loss: 0.01894330569342071 |\n",
      "Epoch:  73%|███████▎  | 109/150 [00:46<00:18,  2.22it/s]\n",
      "EP_108 | train loss: 0.024322486128292832 | val loss: 0.02014420371429593 |\n",
      "Epoch:  73%|███████▎  | 110/150 [00:46<00:17,  2.25it/s]\n",
      "EP_109 | train loss: 0.015374633713680155 | val loss: 0.016687884342436697 |\n",
      "Epoch:  74%|███████▍  | 111/150 [00:47<00:17,  2.24it/s]\n",
      "EP_110 | train loss: 0.025586708883444467 | val loss: 0.02025902037527047 |\n",
      "Epoch:  75%|███████▍  | 112/150 [00:47<00:16,  2.27it/s]\n",
      "EP_111 | train loss: 0.019441239272846893 | val loss: 0.017658203255896475 |\n",
      "Epoch:  75%|███████▌  | 113/150 [00:48<00:16,  2.26it/s]\n",
      "EP_112 | train loss: 0.016235559068474115 | val loss: 0.017097210182863122 |\n",
      "Epoch:  76%|███████▌  | 114/150 [00:48<00:15,  2.30it/s]\n",
      "EP_113 | train loss: 0.020527523025578143 | val loss: 0.018869337790152606 |\n",
      "Epoch:  77%|███████▋  | 115/150 [00:49<00:15,  2.31it/s]\n",
      "EP_114 | train loss: 0.017725012436801312 | val loss: 0.01654467483361562 |\n",
      "Epoch:  77%|███████▋  | 116/150 [00:49<00:14,  2.32it/s]\n",
      "EP_115 | train loss: 0.020565840923318677 | val loss: 0.01786459485689799 |\n",
      "Epoch:  78%|███████▊  | 117/150 [00:49<00:14,  2.30it/s]\n",
      "EP_116 | train loss: 0.02091570850096497 | val loss: 0.017439928417112314 |\n",
      "Epoch:  79%|███████▊  | 118/150 [00:50<00:13,  2.31it/s]\n",
      "EP_117 | train loss: 0.015392699092626572 | val loss: 0.014031162448957855 |\n",
      "Epoch:  79%|███████▉  | 119/150 [00:50<00:13,  2.30it/s]\n",
      "EP_118 | train loss: 0.012372289963212667 | val loss: 0.01655819661477033 |\n",
      "Epoch:  80%|████████  | 120/150 [00:51<00:12,  2.33it/s]\n",
      "EP_119 | train loss: 0.012330034360581754 | val loss: 0.014309937463087194 |\n",
      "Epoch:  81%|████████  | 121/150 [00:51<00:12,  2.32it/s]\n",
      "EP_120 | train loss: 0.01786349643679226 | val loss: 0.016317986682349562 |\n",
      "Epoch:  81%|████████▏ | 122/150 [00:52<00:12,  2.30it/s]\n",
      "EP_121 | train loss: 0.017790856548384124 | val loss: 0.014998846486503003 |\n",
      "Epoch:  82%|████████▏ | 123/150 [00:52<00:12,  2.23it/s]\n",
      "EP_122 | train loss: 0.013772871111537896 | val loss: 0.013562952478726705 |\n",
      "Epoch:  83%|████████▎ | 124/150 [00:53<00:11,  2.24it/s]\n",
      "EP_123 | train loss: 0.01184857386876555 | val loss: 0.013172633069403031 |\n",
      "Epoch:  83%|████████▎ | 125/150 [00:53<00:11,  2.26it/s]\n",
      "EP_124 | train loss: 0.019405621611604505 | val loss: 0.014355514563766181 |\n",
      "Epoch:  84%|████████▍ | 126/150 [00:53<00:10,  2.29it/s]\n",
      "EP_125 | train loss: 0.011441608313836303 | val loss: 0.012410142404191634 |\n",
      "Epoch:  85%|████████▍ | 127/150 [00:54<00:10,  2.27it/s]\n",
      "EP_126 | train loss: 0.014577103786024392 | val loss: 0.012541676707127514 |\n",
      "Epoch:  85%|████████▌ | 128/150 [00:54<00:09,  2.29it/s]\n",
      "EP_127 | train loss: 0.01586154580992811 | val loss: 0.013214568443158093 |\n",
      "Epoch:  86%|████████▌ | 129/150 [00:55<00:09,  2.25it/s]\n",
      "EP_128 | train loss: 0.011841391786640766 | val loss: 0.011357431610425314 |\n",
      "Epoch:  87%|████████▋ | 130/150 [00:55<00:08,  2.27it/s]\n",
      "EP_129 | train loss: 0.015090980190856784 | val loss: 0.01269805621282727 |\n",
      "Epoch:  87%|████████▋ | 131/150 [00:56<00:08,  2.24it/s]\n",
      "EP_130 | train loss: 0.01647521447317273 | val loss: 0.013058961752582999 |\n",
      "Epoch:  88%|████████▊ | 132/150 [00:56<00:07,  2.31it/s]\n",
      "EP_131 | train loss: 0.019993610183397927 | val loss: 0.014785189254611147 |\n",
      "Epoch:  89%|████████▊ | 133/150 [00:56<00:07,  2.34it/s]\n",
      "EP_132 | train loss: 0.019877312580744426 | val loss: 0.014192081695678187 |\n",
      "Epoch:  89%|████████▉ | 134/150 [00:57<00:06,  2.37it/s]\n",
      "EP_133 | train loss: 0.02001032323813906 | val loss: 0.014994296957464778 |\n",
      "Epoch:  90%|█████████ | 135/150 [00:57<00:06,  2.31it/s]\n",
      "EP_134 | train loss: 0.012130234390497208 | val loss: 0.01051847622090695 |\n",
      "Epoch:  91%|█████████ | 136/150 [00:58<00:06,  2.29it/s]\n",
      "EP_135 | train loss: 0.019902364734341118 | val loss: 0.014700523486324385 |\n",
      "Epoch:  91%|█████████▏| 137/150 [00:58<00:05,  2.25it/s]\n",
      "EP_136 | train loss: 0.011982548280673869 | val loss: 0.010470564897153891 |\n",
      "Epoch:  92%|█████████▏| 138/150 [00:59<00:05,  2.28it/s]\n",
      "EP_137 | train loss: 0.010034181528231677 | val loss: 0.010020495337598464 |\n",
      "Epoch:  93%|█████████▎| 139/150 [00:59<00:04,  2.28it/s]\n",
      "EP_138 | train loss: 0.013687353887978723 | val loss: 0.010881411094291537 |\n",
      "Epoch:  93%|█████████▎| 140/150 [00:59<00:04,  2.30it/s]\n",
      "EP_139 | train loss: 0.014364455611098047 | val loss: 0.010819499837417229 |\n",
      "Epoch:  94%|█████████▍| 141/150 [01:00<00:03,  2.33it/s]\n",
      "EP_140 | train loss: 0.007374126069685992 | val loss: 0.009545457421564589 |\n",
      "Epoch:  95%|█████████▍| 142/150 [01:00<00:03,  2.38it/s]\n",
      "EP_141 | train loss: 0.0135409113677109 | val loss: 0.010590511355914321 |\n",
      "Epoch:  95%|█████████▌| 143/150 [01:01<00:02,  2.38it/s]\n",
      "EP_142 | train loss: 0.009116185807129916 | val loss: 0.009453999937749376 |\n",
      "Epoch:  96%|█████████▌| 144/150 [01:01<00:02,  2.38it/s]\n",
      "EP_143 | train loss: 0.010933162651809991 | val loss: 0.009837789862763648 |\n",
      "Epoch:  97%|█████████▋| 145/150 [01:02<00:02,  2.35it/s]\n",
      "EP_144 | train loss: 0.00954467679063479 | val loss: 0.008761104707624399 |\n",
      "Epoch:  97%|█████████▋| 146/150 [01:02<00:01,  2.39it/s]\n",
      "EP_145 | train loss: 0.017677442846344968 | val loss: 0.013980736773388059 |\n",
      "Epoch:  98%|█████████▊| 147/150 [01:02<00:01,  2.37it/s]\n",
      "EP_146 | train loss: 0.014972861154991038 | val loss: 0.011325554374386282 |\n",
      "Epoch:  99%|█████████▊| 148/150 [01:03<00:00,  2.38it/s]\n",
      "EP_147 | train loss: 0.013359188156969407 | val loss: 0.010483628540646796 |\n",
      "Epoch:  99%|█████████▉| 149/150 [01:03<00:00,  2.36it/s]\n",
      "EP_148 | train loss: 0.01172880344823295 | val loss: 0.010271720149937798 |\n",
      "Epoch: 100%|██████████| 150/150 [01:04<00:00,  2.34it/s]\n",
      "EP_149 | train loss: 0.01086281421137791 | val loss: 0.00975538176648757 |\n",
      "\n"
     ]
    }
   ],
   "source": [
    "AttractiveTrainer.train()"
   ]
  },
  {
   "cell_type": "markdown",
   "metadata": {},
   "source": [
    "## Below is testing"
   ]
  },
  {
   "cell_type": "code",
   "execution_count": 6,
   "metadata": {},
   "outputs": [
    {
     "output_type": "execute_result",
     "data": {
      "text/plain": [
       "AttractiveNet(\n",
       "  (embedding): AttractiveEmbedding(\n",
       "    (token): TokenEmbedding(12699, 300, padding_idx=1)\n",
       "  )\n",
       "  (bigramcnn): Sequential(\n",
       "    (0): Conv1d(300, 210, kernel_size=(2,), stride=(1,), padding=(1,))\n",
       "    (1): BatchNorm1d(210, eps=1e-05, momentum=0.1, affine=True, track_running_stats=True)\n",
       "    (2): MaxPool2d(kernel_size=2, stride=2, padding=0, dilation=1, ceil_mode=False)\n",
       "    (3): ReLU()\n",
       "    (4): Conv1d(105, 55, kernel_size=(2,), stride=(1,), padding=(1,))\n",
       "    (5): ReLU()\n",
       "    (6): Dropout(p=0.5, inplace=False)\n",
       "  )\n",
       "  (trigramcnn): Sequential(\n",
       "    (0): Conv1d(300, 210, kernel_size=(3,), stride=(1,), padding=(1,))\n",
       "    (1): BatchNorm1d(210, eps=1e-05, momentum=0.1, affine=True, track_running_stats=True)\n",
       "    (2): MaxPool2d(kernel_size=2, stride=2, padding=0, dilation=1, ceil_mode=False)\n",
       "    (3): ReLU()\n",
       "    (4): Conv1d(105, 55, kernel_size=(3,), stride=(1,), padding=(1,))\n",
       "    (5): ReLU()\n",
       "    (6): Dropout(p=0.5, inplace=False)\n",
       "  )\n",
       "  (encoder_bigram): LSTM(55, 30, batch_first=True, dropout=0.5, bidirectional=True)\n",
       "  (encoder_trigram): LSTM(55, 30, batch_first=True, dropout=0.5, bidirectional=True)\n",
       "  (linear): Sequential(\n",
       "    (0): Linear(in_features=128, out_features=30, bias=True)\n",
       "    (1): ReLU()\n",
       "    (2): Linear(in_features=30, out_features=1, bias=True)\n",
       "  )\n",
       ")"
      ]
     },
     "metadata": {},
     "execution_count": 6
    }
   ],
   "source": [
    "from attractivenet import AttractiveNet\n",
    "\n",
    "PATH = './model/CNN_LSTM_20201110-212900/0.374438.34'\n",
    "\n",
    "load_model = AttractiveNet(config).to(AttractiveData.device)\n",
    "load_model.load_state_dict(torch.load(PATH))\n",
    "load_model.eval()"
   ]
  },
  {
   "cell_type": "code",
   "execution_count": 7,
   "metadata": {},
   "outputs": [],
   "source": [
    "def predict_attractive(sentence, category, phase):\n",
    "    indexed_sentence = [AttractiveData.TEXT.vocab.stoi[t] for t in sentence]\n",
    "    indexed_category = [AttractiveData.CATEGORIES_LABEL.vocab.stoi[category]]\n",
    "    tensor_sentence = torch.LongTensor(indexed_sentence).to(AttractiveData.device)\n",
    "    tensor_category = torch.LongTensor(indexed_category).to(AttractiveData.device)\n",
    "    tensor_sentence = tensor_sentence.unsqueeze(0)\n",
    "\n",
    "    prediction = load_model(tensor_sentence, tensor_category, phase=phase)\n",
    "\n",
    "    return prediction"
   ]
  },
  {
   "cell_type": "code",
   "execution_count": 8,
   "metadata": {
    "tags": []
   },
   "outputs": [],
   "source": [
    "predict_list = []\n",
    "with torch.no_grad():\n",
    "    for i, sentence in enumerate(AttractiveData.test_data):\n",
    "        prediction = predict_attractive(sentence.Headline, sentence.Category, 'test')\n",
    "        predict_list.append(prediction.item())\n",
    "\n",
    "AttractiveData.df_test['Label'] = predict_list\n",
    "AttractiveData.df_test[['ID', 'Label']].to_csv(config['save_name'] + '.csv', index=False)"
   ]
  },
  {
   "cell_type": "markdown",
   "metadata": {},
   "source": [
    "## Below for statistics"
   ]
  },
  {
   "cell_type": "code",
   "execution_count": 9,
   "metadata": {},
   "outputs": [],
   "source": [
    "import statistics\n",
    "from sklearn.metrics import mean_squared_error"
   ]
  },
  {
   "cell_type": "code",
   "execution_count": 10,
   "metadata": {},
   "outputs": [],
   "source": [
    "# # train mean = 3.15, test mean = 2.8\n",
    "# train_list = []\n",
    "# for i, sentence in enumerate(AttractiveData.train_data):\n",
    "#     prediction = predict_attractive(sentence.Headline, sentence.Category, 'train')\n",
    "#     train_list.append(prediction.item())\n",
    "#     # train_list.append(prediction.item())\n",
    "# # print(train_list)\n",
    "# mean_squared_error(pd.read_csv('data/train.csv').sort_values(['ID']).Label.to_list(), train_list), statistics.mean(train_list), statistics.stdev(train_list)"
   ]
  },
  {
   "cell_type": "code",
   "execution_count": 11,
   "metadata": {},
   "outputs": [],
   "source": [
    "# train_list[0:5], pd.read_csv('data/train.csv').sort_values(['ID']).Label.to_list()[0:5]"
   ]
  },
  {
   "cell_type": "code",
   "execution_count": 12,
   "metadata": {},
   "outputs": [],
   "source": [
    "# a = AttractiveData.df_train['Label'].to_list()\n",
    "# statistics.mean(a), statistics.stdev(a)"
   ]
  },
  {
   "cell_type": "code",
   "execution_count": 13,
   "metadata": {},
   "outputs": [
    {
     "output_type": "execute_result",
     "data": {
      "text/plain": [
       "(2.8865911372432627, 0.36633679291683463)"
      ]
     },
     "metadata": {},
     "execution_count": 13
    }
   ],
   "source": [
    "statistics.mean(predict_list), statistics.stdev(predict_list)"
   ]
  },
  {
   "cell_type": "code",
   "execution_count": 14,
   "metadata": {},
   "outputs": [
    {
     "output_type": "execute_result",
     "data": {
      "text/plain": [
       "(0.02738899402714954, 2.8142020345259344, 0.36798823904910916)"
      ]
     },
     "metadata": {},
     "execution_count": 14
    }
   ],
   "source": [
    "baseline_list = pd.read_csv('baseline.csv').sort_values(['ID']).Label.to_list()\n",
    "mean_squared_error(baseline_list, predict_list), statistics.mean(baseline_list), statistics.stdev(baseline_list)"
   ]
  },
  {
   "cell_type": "code",
   "execution_count": null,
   "metadata": {},
   "outputs": [],
   "source": []
  },
  {
   "cell_type": "code",
   "execution_count": 17,
   "metadata": {},
   "outputs": [
    {
     "output_type": "execute_result",
     "data": {
      "text/plain": [
       "0.0"
      ]
     },
     "metadata": {},
     "execution_count": 17
    }
   ],
   "source": [
    "mean_squared_error(pd.read_csv('baseline.csv').sort_values(['ID']).Label.to_list(), pd.read_csv('../309551062/predict/CNN_LSTM_20201109-125007_0.374958.75.csv').sort_values(['ID']).Label.to_list())"
   ]
  },
  {
   "cell_type": "code",
   "execution_count": 13,
   "metadata": {},
   "outputs": [],
   "source": []
  },
  {
   "cell_type": "code",
   "execution_count": null,
   "metadata": {},
   "outputs": [],
   "source": []
  }
 ],
 "metadata": {
  "kernelspec": {
   "display_name": "DS_hw2",
   "language": "python",
   "name": "ds_hw2"
  },
  "language_info": {
   "codemirror_mode": {
    "name": "ipython",
    "version": 3
   },
   "file_extension": ".py",
   "mimetype": "text/x-python",
   "name": "python",
   "nbconvert_exporter": "python",
   "pygments_lexer": "ipython3",
   "version": "3.6.12-final"
  }
 },
 "nbformat": 4,
 "nbformat_minor": 4
}