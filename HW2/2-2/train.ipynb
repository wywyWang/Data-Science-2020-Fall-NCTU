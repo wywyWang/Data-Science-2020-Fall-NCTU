{
 "metadata": {
  "language_info": {
   "codemirror_mode": {
    "name": "ipython",
    "version": 3
   },
   "file_extension": ".py",
   "mimetype": "text/x-python",
   "name": "python",
   "nbconvert_exporter": "python",
   "pygments_lexer": "ipython3",
   "version": "3.6.12-final"
  },
  "orig_nbformat": 2,
  "kernelspec": {
   "name": "Python 3.6.12 64-bit ('DS_hw2': conda)",
   "display_name": "Python 3.6.12 64-bit ('DS_hw2': conda)",
   "metadata": {
    "interpreter": {
     "hash": "de6ec751e8d816810380d8c8f13d270f86a313990c5d5930d253da012ff5e7fc"
    }
   }
  }
 },
 "nbformat": 4,
 "nbformat_minor": 2,
 "cells": [
  {
   "cell_type": "code",
   "execution_count": 1,
   "metadata": {},
   "outputs": [],
   "source": [
    "# common packages\n",
    "import pandas as pd\n",
    "import time\n",
    "\n",
    "# # DL framework\n",
    "import torch\n",
    "from torchtext import data\n",
    "\n",
    "from attractivedata import AttractiveData\n",
    "from trainer import AttractiveTrainer"
   ]
  },
  {
   "source": [
    "## Load and prepare data"
   ],
   "cell_type": "markdown",
   "metadata": {}
  },
  {
   "cell_type": "code",
   "execution_count": 2,
   "metadata": {},
   "outputs": [],
   "source": [
    "train_file = 'data/train.csv'\n",
    "test_file = 'data/test.csv'\n",
    "pretrained_file = 'glove.840B.300d'\n",
    "config = {\n",
    "    'max_size': 48,\n",
    "    'min_freq': 5,\n",
    "    'batch_size': 64,\n",
    "    'pretrained_file': pretrained_file\n",
    "}\n"
   ]
  },
  {
   "cell_type": "code",
   "execution_count": 3,
   "metadata": {},
   "outputs": [],
   "source": [
    "AttractiveData = AttractiveData(train_file, test_file, pretrained_file, config)"
   ]
  },
  {
   "cell_type": "code",
   "execution_count": 4,
   "metadata": {},
   "outputs": [
    {
     "output_type": "stream",
     "name": "stdout",
     "text": [
      "{'Headline': ['Sorry', ',', 'i', 'spent', 'it', 'on', 'myself', '!', 'Harvey', 'Nichols', \"'\", 'hilarious', 'Christmas', 'advert', 'sees', 'people', 'treating', 'themselves', 'instead', 'of', 'others'], 'Category': 'femail', 'Label': '3.333333333333333'} {'Headline': ['Three', 'police', 'officers', 'accused', 'of', 'stealing', '?', '?', '30k', 'during', 'raid', 'on', 'criminal'], 'Category': 'news'}\n"
     ]
    }
   ],
   "source": [
    "for i, sentence in enumerate(AttractiveData.test_data):\n",
    "    if i == 3:\n",
    "        print(vars(AttractiveData.train_data[i]), vars(sentence))"
   ]
  },
  {
   "cell_type": "code",
   "execution_count": 5,
   "metadata": {},
   "outputs": [
    {
     "output_type": "execute_result",
     "data": {
      "text/plain": [
       "18"
      ]
     },
     "metadata": {},
     "execution_count": 5
    }
   ],
   "source": [
    "len(AttractiveData.CATEGORIES_LABEL.vocab.freqs)"
   ]
  },
  {
   "cell_type": "code",
   "execution_count": 6,
   "metadata": {},
   "outputs": [
    {
     "output_type": "execute_result",
     "data": {
      "text/plain": [
       "31"
      ]
     },
     "metadata": {},
     "execution_count": 6
    }
   ],
   "source": [
    "max_len = 0\n",
    "a = AttractiveData.test_data\n",
    "for i in range(len(a)):\n",
    "    if len(a[i].Headline) >= max_len:\n",
    "        max_len = len(a[i].Headline)\n",
    "max_len"
   ]
  },
  {
   "source": [
    "## Start to train"
   ],
   "cell_type": "markdown",
   "metadata": {}
  },
  {
   "cell_type": "code",
   "execution_count": 7,
   "metadata": {},
   "outputs": [
    {
     "output_type": "stream",
     "name": "stdout",
     "text": [
      "torch.Size([1518, 300])\n"
     ]
    }
   ],
   "source": [
    "num_workers = 10\n",
    "\n",
    "config['timestr'] = time.strftime(\"%Y%m%d-%H%M%S\")\n",
    "config['save_name'] = 'CNN_LSTM'\n",
    "config['input_dim'] = len(AttractiveData.TEXT.vocab)\n",
    "config['embedding_dim'] = 300\n",
    "config['category_dim'] = len(AttractiveData.CATEGORIES_LABEL.vocab)\n",
    "config['category_embedding_dim'] = 16\n",
    "config['hidden_dim'] = 100\n",
    "config['output_dim'] = 1\n",
    "config['log_steps'] = 10\n",
    "config['epochs'] = 100\n",
    "config['lr'] = {\n",
    "    'encoder': 1e-4,\n",
    "    'embedding': 1e-5,\n",
    "    'linear': 1e-4\n",
    "}\n",
    "config['num_layers'] = 2\n",
    "config['nhead'] = 4\n",
    "config['kernel_size'] = 2\n",
    "config['dropout'] = 0.1\n",
    "\n",
    "pretrained_embeddings = AttractiveData.TEXT.vocab.vectors\n",
    "print(pretrained_embeddings.shape)"
   ]
  },
  {
   "cell_type": "code",
   "execution_count": 8,
   "metadata": {},
   "outputs": [],
   "source": [
    "# max(AttractiveData.df_train.Headline.str.len()), max(AttractiveData.df_test.Headline.str.len())"
   ]
  },
  {
   "cell_type": "code",
   "execution_count": 9,
   "metadata": {},
   "outputs": [],
   "source": [
    "AttractiveTrainer = AttractiveTrainer(config, AttractiveData.device, AttractiveData.trainloader, pretrained_embeddings)"
   ]
  },
  {
   "cell_type": "code",
   "execution_count": 10,
   "metadata": {},
   "outputs": [
    {
     "output_type": "execute_result",
     "data": {
      "text/plain": [
       "(AttractiveNet(\n",
       "   (embedding): AttractiveEmbedding(\n",
       "     (token): TokenEmbedding(1518, 300, padding_idx=1)\n",
       "     (position): PositionalEmbedding()\n",
       "     (dropout): Dropout(p=0.1, inplace=False)\n",
       "   )\n",
       "   (category_embedding): CategoryEmbedding(18, 16, padding_idx=0)\n",
       "   (cnn): Conv1d(300, 100, kernel_size=(2,), stride=(1,))\n",
       "   (relu): ReLU()\n",
       "   (encoder): LSTM(100, 100, num_layers=2, dropout=0.1, bidirectional=True)\n",
       "   (linear_output): Linear(in_features=216, out_features=1, bias=True)\n",
       " ),\n",
       " 919205,\n",
       " 463805)"
      ]
     },
     "metadata": {},
     "execution_count": 10
    }
   ],
   "source": [
    "AttractiveTrainer.model, AttractiveTrainer.config['total_params'], AttractiveTrainer.config['total_learned_params']"
   ]
  },
  {
   "cell_type": "code",
   "execution_count": 11,
   "metadata": {
    "tags": []
   },
   "outputs": [
    {
     "output_type": "stream",
     "name": "stderr",
     "text": [
      "Epoch:   1%|          | 1/100 [00:00<00:45,  2.16it/s]\n",
      "EP_train | avg_loss: 7.534581363201141 |\n",
      "Epoch:   2%|▏         | 2/100 [00:00<00:43,  2.23it/s]\n",
      "EP_train | avg_loss: 0.5974896494299173 |\n",
      "Epoch:   3%|▎         | 3/100 [00:01<00:42,  2.27it/s]\n",
      "EP_train | avg_loss: 0.5571830421686172 |\n",
      "Epoch:   4%|▍         | 4/100 [00:01<00:41,  2.31it/s]\n",
      "EP_train | avg_loss: 0.552936103194952 |\n",
      "Epoch:   5%|▌         | 5/100 [00:02<00:40,  2.33it/s]\n",
      "EP_train | avg_loss: 0.5507670063525438 |\n",
      "Epoch:   6%|▌         | 6/100 [00:02<00:39,  2.35it/s]\n",
      "EP_train | avg_loss: 0.5503775095567107 |\n",
      "Epoch:   7%|▋         | 7/100 [00:02<00:39,  2.37it/s]\n",
      "EP_train | avg_loss: 0.5487625757232308 |\n",
      "Epoch:   8%|▊         | 8/100 [00:03<00:38,  2.39it/s]\n",
      "EP_train | avg_loss: 0.5479099610820413 |\n",
      "Epoch:   9%|▉         | 9/100 [00:03<00:38,  2.39it/s]\n",
      "EP_train | avg_loss: 0.5486676758155227 |\n",
      "Epoch:  10%|█         | 10/100 [00:04<00:37,  2.39it/s]\n",
      "EP_train | avg_loss: 0.5476385513320565 |\n",
      "Epoch:  11%|█         | 11/100 [00:04<00:38,  2.33it/s]\n",
      "EP_train | avg_loss: 0.5506677264347672 |\n",
      "Epoch:  12%|█▏        | 12/100 [00:05<00:38,  2.31it/s]\n",
      "EP_train | avg_loss: 0.5482232356444001 |\n",
      "Epoch:  13%|█▎        | 13/100 [00:05<00:37,  2.31it/s]\n",
      "EP_train | avg_loss: 0.5468866489827633 |\n",
      "Epoch:  14%|█▍        | 14/100 [00:05<00:37,  2.32it/s]\n",
      "EP_train | avg_loss: 0.5474905893206596 |\n",
      "Epoch:  15%|█▌        | 15/100 [00:06<00:36,  2.33it/s]\n",
      "EP_train | avg_loss: 0.5492119854316115 |\n",
      "Epoch:  16%|█▌        | 16/100 [00:06<00:36,  2.32it/s]\n",
      "EP_train | avg_loss: 0.5480573596432805 |\n",
      "Epoch:  17%|█▋        | 17/100 [00:07<00:35,  2.35it/s]\n",
      "EP_train | avg_loss: 0.5458892034366727 |\n",
      "Epoch:  18%|█▊        | 18/100 [00:07<00:34,  2.36it/s]\n",
      "EP_train | avg_loss: 0.5483625642955303 |\n",
      "Epoch:  19%|█▉        | 19/100 [00:08<00:34,  2.38it/s]\n",
      "EP_train | avg_loss: 0.5467448253184557 |\n",
      "Epoch:  20%|██        | 20/100 [00:08<00:33,  2.39it/s]\n",
      "EP_train | avg_loss: 0.5462028393521905 |\n",
      "Epoch:  21%|██        | 21/100 [00:08<00:32,  2.40it/s]\n",
      "EP_train | avg_loss: 0.5483750309795141 |\n",
      "Epoch:  22%|██▏       | 22/100 [00:09<00:32,  2.41it/s]\n",
      "EP_train | avg_loss: 0.5457981340587139 |\n",
      "Epoch:  23%|██▎       | 23/100 [00:09<00:31,  2.41it/s]\n",
      "EP_train | avg_loss: 0.5472629247233272 |\n",
      "Epoch:  24%|██▍       | 24/100 [00:10<00:31,  2.40it/s]\n",
      "EP_train | avg_loss: 0.545758661814034 |\n",
      "Epoch:  25%|██▌       | 25/100 [00:10<00:31,  2.40it/s]\n",
      "EP_train | avg_loss: 0.5457587791606784 |\n",
      "Epoch:  26%|██▌       | 26/100 [00:10<00:30,  2.39it/s]\n",
      "EP_train | avg_loss: 0.5459869196638465 |\n",
      "Epoch:  27%|██▋       | 27/100 [00:11<00:30,  2.39it/s]\n",
      "EP_train | avg_loss: 0.5468029007315636 |\n",
      "Epoch:  28%|██▊       | 28/100 [00:11<00:30,  2.38it/s]\n",
      "EP_train | avg_loss: 0.5464274762198329 |\n",
      "Epoch:  29%|██▉       | 29/100 [00:12<00:29,  2.39it/s]\n",
      "EP_train | avg_loss: 0.5459534022957087 |\n",
      "Epoch:  30%|███       | 30/100 [00:12<00:29,  2.38it/s]\n",
      "EP_train | avg_loss: 0.5463901245966554 |\n",
      "Epoch:  31%|███       | 31/100 [00:13<00:28,  2.39it/s]\n",
      "EP_train | avg_loss: 0.5461793476715684 |\n",
      "Epoch:  32%|███▏      | 32/100 [00:13<00:28,  2.40it/s]\n",
      "EP_train | avg_loss: 0.5502229146659374 |\n",
      "Epoch:  33%|███▎      | 33/100 [00:13<00:27,  2.41it/s]\n",
      "EP_train | avg_loss: 0.546360120177269 |\n",
      "Epoch:  34%|███▍      | 34/100 [00:14<00:27,  2.42it/s]\n",
      "EP_train | avg_loss: 0.5458662044256926 |\n",
      "Epoch:  35%|███▌      | 35/100 [00:14<00:26,  2.41it/s]\n",
      "EP_train | avg_loss: 0.5460334103554487 |\n",
      "Epoch:  36%|███▌      | 36/100 [00:15<00:26,  2.42it/s]\n",
      "EP_train | avg_loss: 0.546728896908462 |\n",
      "Epoch:  37%|███▋      | 37/100 [00:15<00:26,  2.41it/s]\n",
      "EP_train | avg_loss: 0.5446399040520191 |\n",
      "Epoch:  38%|███▊      | 38/100 [00:15<00:25,  2.41it/s]\n",
      "EP_train | avg_loss: 0.545817082747817 |\n",
      "Epoch:  39%|███▉      | 39/100 [00:16<00:25,  2.41it/s]\n",
      "EP_train | avg_loss: 0.5445767045021057 |\n",
      "Epoch:  40%|████      | 40/100 [00:16<00:24,  2.41it/s]\n",
      "EP_train | avg_loss: 0.548118700273335 |\n",
      "Epoch:  41%|████      | 41/100 [00:17<00:24,  2.41it/s]\n",
      "EP_train | avg_loss: 0.5447576781734824 |\n",
      "Epoch:  42%|████▏     | 42/100 [00:17<00:24,  2.41it/s]\n",
      "EP_train | avg_loss: 0.5437821615487337 |\n",
      "Epoch:  43%|████▎     | 43/100 [00:18<00:23,  2.40it/s]\n",
      "EP_train | avg_loss: 0.5442402884364128 |\n",
      "Epoch:  44%|████▍     | 44/100 [00:18<00:23,  2.36it/s]\n",
      "EP_train | avg_loss: 0.5448167016729712 |\n",
      "Epoch:  45%|████▌     | 45/100 [00:18<00:23,  2.34it/s]\n",
      "EP_train | avg_loss: 0.5450257891789079 |\n",
      "Epoch:  46%|████▌     | 46/100 [00:19<00:22,  2.36it/s]\n",
      "EP_train | avg_loss: 0.5438008708879352 |\n",
      "Epoch:  47%|████▋     | 47/100 [00:19<00:22,  2.38it/s]\n",
      "EP_train | avg_loss: 0.5439817989245057 |\n",
      "Epoch:  48%|████▊     | 48/100 [00:20<00:21,  2.39it/s]\n",
      "EP_train | avg_loss: 0.5441049933433533 |\n",
      "Epoch:  49%|████▉     | 49/100 [00:20<00:21,  2.39it/s]\n",
      "EP_train | avg_loss: 0.5447047287598252 |\n",
      "Epoch:  50%|█████     | 50/100 [00:20<00:20,  2.40it/s]\n",
      "EP_train | avg_loss: 0.5463309762999415 |\n",
      "Epoch:  51%|█████     | 51/100 [00:21<00:20,  2.39it/s]\n",
      "EP_train | avg_loss: 0.5450253542512655 |\n",
      "Epoch:  52%|█████▏    | 52/100 [00:21<00:20,  2.39it/s]\n",
      "EP_train | avg_loss: 0.5474576475098729 |\n",
      "Epoch:  53%|█████▎    | 53/100 [00:22<00:19,  2.39it/s]\n",
      "EP_train | avg_loss: 0.5442599868401885 |\n",
      "Epoch:  54%|█████▍    | 54/100 [00:22<00:19,  2.39it/s]\n",
      "EP_train | avg_loss: 0.5442225867882371 |\n",
      "Epoch:  55%|█████▌    | 55/100 [00:23<00:18,  2.40it/s]\n",
      "EP_train | avg_loss: 0.5429137833416462 |\n",
      "Epoch:  56%|█████▌    | 56/100 [00:23<00:18,  2.41it/s]\n",
      "EP_train | avg_loss: 0.5428964952006936 |\n",
      "Epoch:  57%|█████▋    | 57/100 [00:23<00:17,  2.41it/s]\n",
      "EP_train | avg_loss: 0.5444270297884941 |\n",
      "Epoch:  58%|█████▊    | 58/100 [00:24<00:17,  2.42it/s]\n",
      "EP_train | avg_loss: 0.5436400519683957 |\n",
      "Epoch:  59%|█████▉    | 59/100 [00:24<00:16,  2.42it/s]\n",
      "EP_train | avg_loss: 0.5434919465333223 |\n",
      "Epoch:  60%|██████    | 60/100 [00:25<00:16,  2.42it/s]\n",
      "EP_train | avg_loss: 0.5432914271950722 |\n",
      "Epoch:  61%|██████    | 61/100 [00:25<00:16,  2.42it/s]\n",
      "EP_train | avg_loss: 0.5426920121535659 |\n",
      "Epoch:  62%|██████▏   | 62/100 [00:25<00:15,  2.42it/s]\n",
      "EP_train | avg_loss: 0.5439792517572641 |\n",
      "Epoch:  63%|██████▎   | 63/100 [00:26<00:15,  2.42it/s]\n",
      "EP_train | avg_loss: 0.5422170460224152 |\n",
      "Epoch:  64%|██████▍   | 64/100 [00:26<00:14,  2.40it/s]\n",
      "EP_train | avg_loss: 0.5470930440351367 |\n",
      "Epoch:  65%|██████▌   | 65/100 [00:27<00:14,  2.41it/s]\n",
      "EP_train | avg_loss: 0.5412630243226886 |\n",
      "Epoch:  66%|██████▌   | 66/100 [00:27<00:14,  2.40it/s]\n",
      "EP_train | avg_loss: 0.5436790734529495 |\n",
      "Epoch:  67%|██████▋   | 67/100 [00:28<00:13,  2.40it/s]\n",
      "EP_train | avg_loss: 0.5410811491310596 |\n",
      "Epoch:  68%|██████▊   | 68/100 [00:28<00:13,  2.32it/s]\n",
      "EP_train | avg_loss: 0.5413542678579688 |\n",
      "Epoch:  69%|██████▉   | 69/100 [00:28<00:13,  2.32it/s]\n",
      "EP_train | avg_loss: 0.5426393942907453 |\n",
      "Epoch:  70%|███████   | 70/100 [00:29<00:12,  2.33it/s]\n",
      "EP_train | avg_loss: 0.5415966473519802 |\n",
      "Epoch:  71%|███████   | 71/100 [00:29<00:12,  2.35it/s]\n",
      "EP_train | avg_loss: 0.5473309112712741 |\n",
      "Epoch:  72%|███████▏  | 72/100 [00:30<00:11,  2.36it/s]\n",
      "EP_train | avg_loss: 0.5413726177066565 |\n",
      "Epoch:  73%|███████▎  | 73/100 [00:30<00:11,  2.36it/s]\n",
      "EP_train | avg_loss: 0.548635290004313 |\n",
      "Epoch:  74%|███████▍  | 74/100 [00:31<00:11,  2.33it/s]\n",
      "EP_train | avg_loss: 0.5415413193404675 |\n",
      "Epoch:  75%|███████▌  | 75/100 [00:31<00:10,  2.35it/s]\n",
      "EP_train | avg_loss: 0.543322978541255 |\n",
      "Epoch:  76%|███████▌  | 76/100 [00:31<00:10,  2.36it/s]\n",
      "EP_train | avg_loss: 0.5403774715960026 |\n",
      "Epoch:  77%|███████▋  | 77/100 [00:32<00:09,  2.37it/s]\n",
      "EP_train | avg_loss: 0.5406728340312839 |\n",
      "Epoch:  78%|███████▊  | 78/100 [00:32<00:09,  2.38it/s]\n",
      "EP_train | avg_loss: 0.5409899242222309 |\n",
      "Epoch:  79%|███████▉  | 79/100 [00:33<00:09,  2.32it/s]\n",
      "EP_train | avg_loss: 0.5398853495717049 |\n",
      "Epoch:  80%|████████  | 80/100 [00:33<00:08,  2.35it/s]\n",
      "EP_train | avg_loss: 0.5409020967781544 |\n",
      "Epoch:  81%|████████  | 81/100 [00:34<00:08,  2.36it/s]\n",
      "EP_train | avg_loss: 0.5405219262465835 |\n",
      "Epoch:  82%|████████▏ | 82/100 [00:34<00:07,  2.38it/s]\n",
      "EP_train | avg_loss: 0.5418579941615462 |\n",
      "Epoch:  83%|████████▎ | 83/100 [00:34<00:07,  2.39it/s]\n",
      "EP_train | avg_loss: 0.5400186162441969 |\n",
      "Epoch:  84%|████████▍ | 84/100 [00:35<00:06,  2.40it/s]\n",
      "EP_train | avg_loss: 0.5434729130938649 |\n",
      "Epoch:  85%|████████▌ | 85/100 [00:35<00:06,  2.41it/s]\n",
      "EP_train | avg_loss: 0.5406446298584342 |\n",
      "Epoch:  86%|████████▌ | 86/100 [00:36<00:05,  2.41it/s]\n",
      "EP_train | avg_loss: 0.5398732889443636 |\n",
      "Epoch:  87%|████████▋ | 87/100 [00:36<00:05,  2.34it/s]\n",
      "EP_train | avg_loss: 0.5402257088571787 |\n",
      "Epoch:  88%|████████▊ | 88/100 [00:36<00:05,  2.37it/s]\n",
      "EP_train | avg_loss: 0.5454011652618647 |\n",
      "Epoch:  89%|████████▉ | 89/100 [00:37<00:04,  2.39it/s]\n",
      "EP_train | avg_loss: 0.5401530060917139 |\n",
      "Epoch:  90%|█████████ | 90/100 [00:37<00:04,  2.38it/s]\n",
      "EP_train | avg_loss: 0.5409634504467249 |\n",
      "Epoch:  91%|█████████ | 91/100 [00:38<00:03,  2.39it/s]\n",
      "EP_train | avg_loss: 0.5393236456438899 |\n",
      "Epoch:  92%|█████████▏| 92/100 [00:38<00:03,  2.40it/s]\n",
      "EP_train | avg_loss: 0.5403123749420047 |\n",
      "Epoch:  93%|█████████▎| 93/100 [00:39<00:02,  2.37it/s]\n",
      "EP_train | avg_loss: 0.540925201959908 |\n",
      "Epoch:  94%|█████████▍| 94/100 [00:39<00:02,  2.38it/s]\n",
      "EP_train | avg_loss: 0.5392466960474849 |\n",
      "Epoch:  95%|█████████▌| 95/100 [00:39<00:02,  2.39it/s]\n",
      "EP_train | avg_loss: 0.5404724571853876 |\n",
      "Epoch:  96%|█████████▌| 96/100 [00:40<00:01,  2.39it/s]\n",
      "EP_train | avg_loss: 0.5393731379881501 |\n",
      "Epoch:  97%|█████████▋| 97/100 [00:40<00:01,  2.40it/s]\n",
      "EP_train | avg_loss: 0.5411789426580071 |\n",
      "Epoch:  98%|█████████▊| 98/100 [00:41<00:00,  2.40it/s]\n",
      "EP_train | avg_loss: 0.5401040427386761 |\n",
      "Epoch:  99%|█████████▉| 99/100 [00:41<00:00,  2.40it/s]\n",
      "EP_train | avg_loss: 0.5385406650602818 |\n",
      "Epoch: 100%|██████████| 100/100 [00:41<00:00,  2.38it/s]\n",
      "EP_train | avg_loss: 0.5395004563033581 |\n",
      "\n"
     ]
    }
   ],
   "source": [
    "AttractiveTrainer.train()"
   ]
  },
  {
   "source": [
    "## for classification, not better"
   ],
   "cell_type": "markdown",
   "metadata": {}
  },
  {
   "cell_type": "code",
   "execution_count": 14,
   "metadata": {
    "tags": []
   },
   "outputs": [
    {
     "output_type": "execute_result",
     "data": {
      "text/plain": [
       "0.5601443355119825"
      ]
     },
     "metadata": {},
     "execution_count": 14
    }
   ],
   "source": [
    "# from sklearn.metrics import mean_squared_error\n",
    "# a = AttractiveTrainer.train_predict\n",
    "# AttractiveData.LABEL.vocab.itos[int(a[0])], AttractiveTrainer.train_true[0]\n",
    "# correct = 0\n",
    "# pred_list = []\n",
    "# true_list = []\n",
    "# for i in range(len(a)):\n",
    "#     pred = AttractiveData.LABEL.vocab.itos[int(a[i])]\n",
    "#     pred_list.append(float(pred))\n",
    "#     true = AttractiveData.LABEL.vocab.itos[int(AttractiveTrainer.train_true[i])]\n",
    "#     true_list.append(float(true))\n",
    "# mean_squared_error(true_list, pred_list)\n",
    "# # true_list"
   ]
  },
  {
   "source": [
    "## Below is testing"
   ],
   "cell_type": "markdown",
   "metadata": {}
  },
  {
   "cell_type": "code",
   "execution_count": 12,
   "metadata": {},
   "outputs": [
    {
     "output_type": "execute_result",
     "data": {
      "text/plain": [
       "AttractiveNet(\n",
       "  (embedding): AttractiveEmbedding(\n",
       "    (token): TokenEmbedding(1518, 300, padding_idx=1)\n",
       "    (position): PositionalEmbedding()\n",
       "    (dropout): Dropout(p=0.1, inplace=False)\n",
       "  )\n",
       "  (category_embedding): CategoryEmbedding(18, 16, padding_idx=0)\n",
       "  (cnn): Conv1d(300, 100, kernel_size=(2,), stride=(1,))\n",
       "  (relu): ReLU()\n",
       "  (encoder): LSTM(100, 100, num_layers=2, dropout=0.1, bidirectional=True)\n",
       "  (linear_output): Linear(in_features=216, out_features=1, bias=True)\n",
       ")"
      ]
     },
     "metadata": {},
     "execution_count": 12
    }
   ],
   "source": [
    "from transformermodel import TransformerModel\n",
    "from attractivenet import AttractiveNet\n",
    "PATH = './model/CNN_LSTM_20201031-141425_0.5395.100'\n",
    "# load_model = TransformerModel(config).to(AttractiveData.device)\n",
    "load_model = AttractiveNet(config).to(AttractiveData.device)\n",
    "load_model.load_state_dict(torch.load(PATH))\n",
    "load_model.eval()"
   ]
  },
  {
   "cell_type": "code",
   "execution_count": 13,
   "metadata": {},
   "outputs": [],
   "source": [
    "def predict_attractive(sentence, category):\n",
    "    indexed_sentence = [AttractiveData.TEXT.vocab.stoi[t] for t in sentence]\n",
    "    indexed_category = [AttractiveData.CATEGORIES_LABEL.vocab.stoi[category]]\n",
    "    tensor_sentence = torch.LongTensor(indexed_sentence).to(AttractiveData.device)\n",
    "    tensor_category = torch.LongTensor(indexed_category).to(AttractiveData.device)\n",
    "\n",
    "    tensor_sentence = tensor_sentence.unsqueeze(1)\n",
    "    tensor_category = tensor_category\n",
    "\n",
    "    prediction = load_model(tensor_sentence, tensor_category)\n",
    "    \n",
    "    return prediction"
   ]
  },
  {
   "cell_type": "code",
   "execution_count": 14,
   "metadata": {
    "tags": []
   },
   "outputs": [],
   "source": [
    "# train mean = 3.2, test mean = 2.8\n",
    "predict_list = []\n",
    "for i, sentence in enumerate(AttractiveData.test_data):\n",
    "    prediction = predict_attractive(sentence.Headline, sentence.Category)\n",
    "    # predict_list.append(prediction.item() - 3.2 + 2.8)\n",
    "    predict_list.append(prediction.item())\n",
    "AttractiveData.df_test['Label'] = predict_list\n",
    "AttractiveData.df_test[['ID', 'Label']].to_csv(config['save_name'] + '.csv', index=False)"
   ]
  },
  {
   "cell_type": "code",
   "execution_count": 15,
   "metadata": {},
   "outputs": [],
   "source": [
    "# train_category = list(AttractiveData.CATEGORIES_LABEL.vocab.freqs)\n",
    "# test_category = list(AttractiveData.df_test['Category'].value_counts().keys())\n",
    "# for each_test in test_category:\n",
    "#     if each_test not in train_category:\n",
    "#         print(each_test)\n",
    "# print()\n",
    "# for each_train in train_category:\n",
    "#     if each_train not in test_category:\n",
    "#         print(each_train)"
   ]
  },
  {
   "source": [
    "## Below just for fun guess"
   ],
   "cell_type": "markdown",
   "metadata": {}
  },
  {
   "cell_type": "code",
   "execution_count": 16,
   "metadata": {},
   "outputs": [],
   "source": [
    "import statistics\n",
    "from sklearn.metrics import mean_squared_error"
   ]
  },
  {
   "cell_type": "code",
   "execution_count": 17,
   "metadata": {},
   "outputs": [
    {
     "output_type": "execute_result",
     "data": {
      "text/plain": [
       "(3.150408496732026, 0.729501519321601)"
      ]
     },
     "metadata": {},
     "execution_count": 17
    }
   ],
   "source": [
    "a = AttractiveData.df_train['Label'].to_list()\n",
    "statistics.mean(a), statistics.stdev(a)"
   ]
  },
  {
   "cell_type": "code",
   "execution_count": 18,
   "metadata": {},
   "outputs": [
    {
     "output_type": "execute_result",
     "data": {
      "text/plain": [
       "(2.9158543301048785, 0.35573075718956854)"
      ]
     },
     "metadata": {},
     "execution_count": 18
    }
   ],
   "source": [
    "statistics.mean(predict_list), statistics.stdev(predict_list)"
   ]
  },
  {
   "cell_type": "code",
   "execution_count": 19,
   "metadata": {},
   "outputs": [
    {
     "output_type": "execute_result",
     "data": {
      "text/plain": [
       "0.1394091332225965"
      ]
     },
     "metadata": {},
     "execution_count": 19
    }
   ],
   "source": [
    "all_28 = [2.8] * len(predict_list)\n",
    "mean_squared_error(all_28, predict_list)"
   ]
  },
  {
   "cell_type": "code",
   "execution_count": 14,
   "metadata": {},
   "outputs": [
    {
     "output_type": "execute_result",
     "data": {
      "text/plain": [
       "(2.8167915543795683, 0.14611407210842048)"
      ]
     },
     "metadata": {},
     "execution_count": 14
    }
   ],
   "source": [
    "# LSTM my best\n",
    "# statistics.mean(predict_list), statistics.stdev(predict_list)"
   ]
  },
  {
   "cell_type": "code",
   "execution_count": null,
   "metadata": {},
   "outputs": [],
   "source": []
  }
 ]
}