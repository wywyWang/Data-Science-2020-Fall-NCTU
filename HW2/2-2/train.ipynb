{
 "metadata": {
  "language_info": {
   "codemirror_mode": {
    "name": "ipython",
    "version": 3
   },
   "file_extension": ".py",
   "mimetype": "text/x-python",
   "name": "python",
   "nbconvert_exporter": "python",
   "pygments_lexer": "ipython3",
   "version": "3.6.12-final"
  },
  "orig_nbformat": 2,
  "kernelspec": {
   "name": "Python 3.6.12 64-bit ('DS_hw2': conda)",
   "display_name": "Python 3.6.12 64-bit ('DS_hw2': conda)",
   "metadata": {
    "interpreter": {
     "hash": "de6ec751e8d816810380d8c8f13d270f86a313990c5d5930d253da012ff5e7fc"
    }
   }
  }
 },
 "nbformat": 4,
 "nbformat_minor": 2,
 "cells": [
  {
   "cell_type": "code",
   "execution_count": 1,
   "metadata": {},
   "outputs": [],
   "source": [
    "# common packages\n",
    "import pandas as pd\n",
    "import time\n",
    "\n",
    "# # DL framework\n",
    "import torch\n",
    "from torchtext import data\n",
    "\n",
    "from attractivedata import AttractiveData\n",
    "from trainer import AttractiveTrainer"
   ]
  },
  {
   "source": [
    "## Load and prepare data"
   ],
   "cell_type": "markdown",
   "metadata": {}
  },
  {
   "cell_type": "code",
   "execution_count": 2,
   "metadata": {},
   "outputs": [],
   "source": [
    "train_file = 'data/train.csv'\n",
    "test_file = 'data/test.csv'\n",
    "pretrained_file = 'glove.42B.300d'\n",
    "max_size = 64\n",
    "min_freq = 5\n",
    "batch_size = 64"
   ]
  },
  {
   "cell_type": "code",
   "execution_count": 3,
   "metadata": {},
   "outputs": [],
   "source": [
    "AttractiveData = AttractiveData(train_file, test_file, pretrained_file, max_size, min_freq, batch_size)"
   ]
  },
  {
   "cell_type": "code",
   "execution_count": 4,
   "metadata": {},
   "outputs": [
    {
     "output_type": "stream",
     "name": "stdout",
     "text": [
      "{'Headline': ['Sorry', ',', 'i', 'spent', 'it', 'on', 'myself', '!', 'Harvey', 'Nichols', \"'\", 'hilarious', 'Christmas', 'advert', 'sees', 'people', 'treating', 'themselves', 'instead', 'of', 'others'], 'Category': 'femail', 'Label': '3.333333333333333'} {'Headline': ['Three', 'police', 'officers', 'accused', 'of', 'stealing', '?', '?', '30k', 'during', 'raid', 'on', 'criminal'], 'Category': 'news'}\n"
     ]
    }
   ],
   "source": [
    "for i, sentence in enumerate(AttractiveData.test_data):\n",
    "    if i == 3:\n",
    "        print(vars(AttractiveData.train_data[i]), vars(sentence))"
   ]
  },
  {
   "cell_type": "code",
   "execution_count": 5,
   "metadata": {},
   "outputs": [
    {
     "output_type": "execute_result",
     "data": {
      "text/plain": [
       "18"
      ]
     },
     "metadata": {},
     "execution_count": 5
    }
   ],
   "source": [
    "len(AttractiveData.CATEGORIES_LABEL.vocab.freqs)"
   ]
  },
  {
   "cell_type": "code",
   "execution_count": 7,
   "metadata": {},
   "outputs": [],
   "source": [
    "# a = next(iter(AttractiveData.testloader))\n",
    "# for i in range(len(a)):\n",
    "#     print(a.Headline[i], a.Category[i])\n",
    "#     1/0"
   ]
  },
  {
   "source": [
    "## Start to train"
   ],
   "cell_type": "markdown",
   "metadata": {}
  },
  {
   "cell_type": "code",
   "execution_count": 6,
   "metadata": {},
   "outputs": [
    {
     "output_type": "stream",
     "name": "stdout",
     "text": [
      "torch.Size([1410, 300])\n"
     ]
    }
   ],
   "source": [
    "timestr = time.strftime(\"%Y%m%d-%H%M%S\")\n",
    "save_name = './model/AttractiveNet'\n",
    "num_workers = 10\n",
    "input_dim = len(AttractiveData.TEXT.vocab)\n",
    "embedding_dim = 300\n",
    "\n",
    "category_dim = len(AttractiveData.CATEGORIES_LABEL.vocab)\n",
    "category_output_dim = 16\n",
    "hidden_dim = 256\n",
    "output_dim = 1\n",
    "log_steps = 10\n",
    "epochs = 100\n",
    "lr = 1e-3\n",
    "num_layers = 3\n",
    "nhead = 4\n",
    "dropout = 0.1\n",
    "pretrained_embeddings = AttractiveData.TEXT.vocab.vectors\n",
    "print(pretrained_embeddings.shape)"
   ]
  },
  {
   "cell_type": "code",
   "execution_count": 7,
   "metadata": {},
   "outputs": [],
   "source": [
    "# max(AttractiveData.df_train.Headline.str.len()), max(AttractiveData.df_test.Headline.str.len())"
   ]
  },
  {
   "cell_type": "code",
   "execution_count": 8,
   "metadata": {},
   "outputs": [],
   "source": [
    "AttractiveTrainer = AttractiveTrainer(save_name, log_steps, epochs, lr, timestr, AttractiveData.device, AttractiveData.trainloader, input_dim, category_dim, category_output_dim, embedding_dim, hidden_dim, output_dim, pretrained_embeddings, dropout, num_layers, nhead)"
   ]
  },
  {
   "cell_type": "code",
   "execution_count": 9,
   "metadata": {},
   "outputs": [
    {
     "output_type": "execute_result",
     "data": {
      "text/plain": [
       "TransformerModel(\n",
       "  (embedding): AttractiveEmbedding(\n",
       "    (token): TokenEmbedding(1410, 300, padding_idx=0)\n",
       "    (position): PositionalEmbedding()\n",
       "    (dropout): Dropout(p=0.1, inplace=False)\n",
       "  )\n",
       "  (category_embedding): CategoryEmbedding(18, 16, padding_idx=0)\n",
       "  (transformer_encoder): TransformerEncoder(\n",
       "    (layers): ModuleList(\n",
       "      (0): TransformerEncoderLayer(\n",
       "        (self_attn): MultiheadAttention(\n",
       "          (out_proj): _LinearWithBias(in_features=300, out_features=300, bias=True)\n",
       "        )\n",
       "        (linear1): Linear(in_features=300, out_features=256, bias=True)\n",
       "        (dropout): Dropout(p=0.1, inplace=False)\n",
       "        (linear2): Linear(in_features=256, out_features=300, bias=True)\n",
       "        (norm1): LayerNorm((300,), eps=1e-05, elementwise_affine=True)\n",
       "        (norm2): LayerNorm((300,), eps=1e-05, elementwise_affine=True)\n",
       "        (dropout1): Dropout(p=0.1, inplace=False)\n",
       "        (dropout2): Dropout(p=0.1, inplace=False)\n",
       "      )\n",
       "      (1): TransformerEncoderLayer(\n",
       "        (self_attn): MultiheadAttention(\n",
       "          (out_proj): _LinearWithBias(in_features=300, out_features=300, bias=True)\n",
       "        )\n",
       "        (linear1): Linear(in_features=300, out_features=256, bias=True)\n",
       "        (dropout): Dropout(p=0.1, inplace=False)\n",
       "        (linear2): Linear(in_features=256, out_features=300, bias=True)\n",
       "        (norm1): LayerNorm((300,), eps=1e-05, elementwise_affine=True)\n",
       "        (norm2): LayerNorm((300,), eps=1e-05, elementwise_affine=True)\n",
       "        (dropout1): Dropout(p=0.1, inplace=False)\n",
       "        (dropout2): Dropout(p=0.1, inplace=False)\n",
       "      )\n",
       "      (2): TransformerEncoderLayer(\n",
       "        (self_attn): MultiheadAttention(\n",
       "          (out_proj): _LinearWithBias(in_features=300, out_features=300, bias=True)\n",
       "        )\n",
       "        (linear1): Linear(in_features=300, out_features=256, bias=True)\n",
       "        (dropout): Dropout(p=0.1, inplace=False)\n",
       "        (linear2): Linear(in_features=256, out_features=300, bias=True)\n",
       "        (norm1): LayerNorm((300,), eps=1e-05, elementwise_affine=True)\n",
       "        (norm2): LayerNorm((300,), eps=1e-05, elementwise_affine=True)\n",
       "        (dropout1): Dropout(p=0.1, inplace=False)\n",
       "        (dropout2): Dropout(p=0.1, inplace=False)\n",
       "      )\n",
       "    )\n",
       "  )\n",
       "  (linear): Linear(in_features=316, out_features=1, bias=True)\n",
       ")"
      ]
     },
     "metadata": {},
     "execution_count": 9
    }
   ],
   "source": [
    "AttractiveTrainer.model"
   ]
  },
  {
   "cell_type": "code",
   "execution_count": 10,
   "metadata": {
    "tags": []
   },
   "outputs": [
    {
     "output_type": "stream",
     "name": "stdout",
     "text": [
      "Epoch 0\n",
      "EP: train | lr: 0.001: 100%|| 32/32 [00:00<00:00, 147.81it/s]\n",
      "\n",
      "EP_train | avg_loss: 1.3299015127122402 |\n",
      "Epoch 1\n",
      "EP: train | lr: 0.001: 100%|| 32/32 [00:00<00:00, 154.28it/s]\n",
      "\n",
      "EP_train | avg_loss: 0.6474286448210478 |\n",
      "Epoch 2\n",
      "EP: train | lr: 0.001: 100%|| 32/32 [00:00<00:00, 152.26it/s]\n",
      "\n",
      "EP_train | avg_loss: 0.6171070765703917 |\n",
      "Epoch 3\n",
      "EP: train | lr: 0.001: 100%|| 32/32 [00:00<00:00, 156.32it/s]\n",
      "\n",
      "EP_train | avg_loss: 0.6227076537907124 |\n",
      "Epoch 4\n",
      "EP: train | lr: 0.001: 100%|| 32/32 [00:00<00:00, 155.64it/s]\n",
      "\n",
      "EP_train | avg_loss: 0.621563982218504 |\n",
      "Epoch 5\n",
      "EP: train | lr: 0.001: 100%|| 32/32 [00:00<00:00, 157.88it/s]\n",
      "\n",
      "EP_train | avg_loss: 0.6211749613285065 |\n",
      "Epoch 6\n",
      "EP: train | lr: 0.001: 100%|| 32/32 [00:00<00:00, 153.94it/s]\n",
      "\n",
      "EP_train | avg_loss: 0.6124355923384428 |\n",
      "Epoch 7\n",
      "EP: train | lr: 0.001: 100%|| 32/32 [00:00<00:00, 151.18it/s]\n",
      "\n",
      "EP_train | avg_loss: 0.6120213838294148 |\n",
      "Epoch 8\n",
      "EP: train | lr: 0.001: 100%|| 32/32 [00:00<00:00, 153.94it/s]\n",
      "\n",
      "EP_train | avg_loss: 0.6091484455391765 |\n",
      "Epoch 9\n",
      "EP: train | lr: 0.001: 100%|| 32/32 [00:00<00:00, 147.93it/s]\n",
      "\n",
      "EP_train | avg_loss: 0.6035237805917859 |\n",
      "Epoch 10\n",
      "EP: train | lr: 0.001: 100%|| 32/32 [00:00<00:00, 149.81it/s]\n",
      "\n",
      "EP_train | avg_loss: 0.6020879354327917 |\n",
      "Epoch 11\n",
      "EP: train | lr: 0.001: 100%|| 32/32 [00:00<00:00, 147.26it/s]\n",
      "\n",
      "EP_train | avg_loss: 0.6000757357105613 |\n",
      "Epoch 12\n",
      "EP: train | lr: 0.001: 100%|| 32/32 [00:00<00:00, 152.50it/s]\n",
      "\n",
      "EP_train | avg_loss: 0.5980127630755305 |\n",
      "Epoch 13\n",
      "EP: train | lr: 0.001: 100%|| 32/32 [00:00<00:00, 144.15it/s]\n",
      "\n",
      "EP_train | avg_loss: 0.5938716353848577 |\n",
      "Epoch 14\n",
      "EP: train | lr: 0.001: 100%|| 32/32 [00:00<00:00, 152.77it/s]\n",
      "\n",
      "EP_train | avg_loss: 0.5922462604939938 |\n",
      "Epoch 15\n",
      "EP: train | lr: 0.001: 100%|| 32/32 [00:00<00:00, 150.38it/s]\n",
      "\n",
      "EP_train | avg_loss: 0.5882178898900747 |\n",
      "Epoch 16\n",
      "EP: train | lr: 0.001: 100%|| 32/32 [00:00<00:00, 154.37it/s]\n",
      "\n",
      "EP_train | avg_loss: 0.5862966403365135 |\n",
      "Epoch 17\n",
      "EP: train | lr: 0.001: 100%|| 32/32 [00:00<00:00, 155.05it/s]\n",
      "\n",
      "EP_train | avg_loss: 0.5877846479415894 |\n",
      "Epoch 18\n",
      "EP: train | lr: 0.001: 100%|| 32/32 [00:00<00:00, 151.39it/s]\n",
      "\n",
      "EP_train | avg_loss: 0.5850819041952491 |\n",
      "Epoch 19\n",
      "EP: train | lr: 0.001: 100%|| 32/32 [00:00<00:00, 155.49it/s]\n",
      "\n",
      "EP_train | avg_loss: 0.5862084291875362 |\n",
      "Epoch 20\n",
      "EP: train | lr: 0.001: 100%|| 32/32 [00:00<00:00, 155.42it/s]\n",
      "\n",
      "EP_train | avg_loss: 0.5849094092845917 |\n",
      "Epoch 21\n",
      "EP: train | lr: 0.001: 100%|| 32/32 [00:00<00:00, 154.71it/s]\n",
      "\n",
      "EP_train | avg_loss: 0.5832137987017632 |\n",
      "Epoch 22\n",
      "EP: train | lr: 0.001: 100%|| 32/32 [00:00<00:00, 156.59it/s]\n",
      "\n",
      "EP_train | avg_loss: 0.5782171934843063 |\n",
      "Epoch 23\n",
      "EP: train | lr: 0.001: 100%|| 32/32 [00:00<00:00, 155.97it/s]\n",
      "\n",
      "EP_train | avg_loss: 0.5810529747977853 |\n",
      "Epoch 24\n",
      "EP: train | lr: 0.001: 100%|| 32/32 [00:00<00:00, 156.14it/s]\n",
      "\n",
      "EP_train | avg_loss: 0.5769348088651896 |\n",
      "Epoch 25\n",
      "EP: train | lr: 0.001: 100%|| 32/32 [00:00<00:00, 155.02it/s]\n",
      "\n",
      "EP_train | avg_loss: 0.5763492872938514 |\n",
      "Epoch 26\n",
      "EP: train | lr: 0.001: 100%|| 32/32 [00:00<00:00, 155.28it/s]\n",
      "\n",
      "EP_train | avg_loss: 0.5742902001366019 |\n",
      "Epoch 27\n",
      "EP: train | lr: 0.001: 100%|| 32/32 [00:00<00:00, 153.73it/s]\n",
      "\n",
      "EP_train | avg_loss: 0.577182519249618 |\n",
      "Epoch 28\n",
      "EP: train | lr: 0.001: 100%|| 32/32 [00:00<00:00, 149.49it/s]\n",
      "\n",
      "EP_train | avg_loss: 0.5758958151564002 |\n",
      "Epoch 29\n",
      "EP: train | lr: 0.001: 100%|| 32/32 [00:00<00:00, 154.38it/s]\n",
      "\n",
      "EP_train | avg_loss: 0.5766788804903626 |\n",
      "Epoch 30\n",
      "EP: train | lr: 0.001: 100%|| 32/32 [00:00<00:00, 155.63it/s]\n",
      "\n",
      "EP_train | avg_loss: 0.5713077671825886 |\n",
      "Epoch 31\n",
      "EP: train | lr: 0.001: 100%|| 32/32 [00:00<00:00, 153.23it/s]\n",
      "\n",
      "EP_train | avg_loss: 0.5748618580400944 |\n",
      "Epoch 32\n",
      "EP: train | lr: 0.001: 100%|| 32/32 [00:00<00:00, 150.63it/s]\n",
      "\n",
      "EP_train | avg_loss: 0.5718020303174853 |\n",
      "Epoch 33\n",
      "EP: train | lr: 0.001: 100%|| 32/32 [00:00<00:00, 155.36it/s]\n",
      "\n",
      "EP_train | avg_loss: 0.5715676750987768 |\n",
      "Epoch 34\n",
      "EP: train | lr: 0.001: 100%|| 32/32 [00:00<00:00, 150.22it/s]\n",
      "\n",
      "EP_train | avg_loss: 0.5733357211574912 |\n",
      "Epoch 35\n",
      "EP: train | lr: 0.001: 100%|| 32/32 [00:00<00:00, 156.03it/s]\n",
      "\n",
      "EP_train | avg_loss: 0.5710936691612005 |\n",
      "Epoch 36\n",
      "EP: train | lr: 0.001: 100%|| 32/32 [00:00<00:00, 151.68it/s]\n",
      "\n",
      "EP_train | avg_loss: 0.5676606725901365 |\n",
      "Epoch 37\n",
      "EP: train | lr: 0.001: 100%|| 32/32 [00:00<00:00, 154.69it/s]\n",
      "\n",
      "EP_train | avg_loss: 0.5695293052121997 |\n",
      "Epoch 38\n",
      "EP: train | lr: 0.001: 100%|| 32/32 [00:00<00:00, 153.22it/s]\n",
      "\n",
      "EP_train | avg_loss: 0.5704664587974548 |\n",
      "Epoch 39\n",
      "EP: train | lr: 0.001: 100%|| 32/32 [00:00<00:00, 152.35it/s]\n",
      "\n",
      "EP_train | avg_loss: 0.5686981277540326 |\n",
      "Epoch 40\n",
      "EP: train | lr: 0.001: 100%|| 32/32 [00:00<00:00, 152.83it/s]\n",
      "\n",
      "EP_train | avg_loss: 0.5683810990303755 |\n",
      "Epoch 41\n",
      "EP: train | lr: 0.001: 100%|| 32/32 [00:00<00:00, 154.00it/s]\n",
      "\n",
      "EP_train | avg_loss: 0.5693850852549076 |\n",
      "Epoch 42\n",
      "EP: train | lr: 0.001: 100%|| 32/32 [00:00<00:00, 153.03it/s]\n",
      "\n",
      "EP_train | avg_loss: 0.5683750528842211 |\n",
      "Epoch 43\n",
      "EP: train | lr: 0.001: 100%|| 32/32 [00:00<00:00, 151.13it/s]\n",
      "\n",
      "EP_train | avg_loss: 0.5696512749418616 |\n",
      "Epoch 44\n",
      "EP: train | lr: 0.001: 100%|| 32/32 [00:00<00:00, 154.74it/s]\n",
      "\n",
      "EP_train | avg_loss: 0.5675646048039198 |\n",
      "Epoch 45\n",
      "EP: train | lr: 0.001: 100%|| 32/32 [00:00<00:00, 154.28it/s]\n",
      "\n",
      "EP_train | avg_loss: 0.5678758230060339 |\n",
      "Epoch 46\n",
      "EP: train | lr: 0.001: 100%|| 32/32 [00:00<00:00, 150.20it/s]\n",
      "\n",
      "EP_train | avg_loss: 0.5672448286786675 |\n",
      "Epoch 47\n",
      "EP: train | lr: 0.001: 100%|| 32/32 [00:00<00:00, 155.32it/s]\n",
      "\n",
      "EP_train | avg_loss: 0.5646117329597473 |\n",
      "Epoch 48\n",
      "EP: train | lr: 0.001: 100%|| 32/32 [00:00<00:00, 154.41it/s]\n",
      "\n",
      "EP_train | avg_loss: 0.5643213130533695 |\n",
      "Epoch 49\n",
      "EP: train | lr: 0.001: 100%|| 32/32 [00:00<00:00, 154.57it/s]\n",
      "\n",
      "EP_train | avg_loss: 0.5629319902509451 |\n",
      "Epoch 50\n",
      "EP: train | lr: 0.001: 100%|| 32/32 [00:00<00:00, 152.27it/s]\n",
      "\n",
      "EP_train | avg_loss: 0.5663580503314734 |\n",
      "Epoch 51\n",
      "EP: train | lr: 0.001: 100%|| 32/32 [00:00<00:00, 153.27it/s]\n",
      "\n",
      "EP_train | avg_loss: 0.563506624661386 |\n",
      "Epoch 52\n",
      "EP: train | lr: 0.001: 100%|| 32/32 [00:00<00:00, 153.63it/s]\n",
      "\n",
      "EP_train | avg_loss: 0.5653257602825761 |\n",
      "Epoch 53\n",
      "EP: train | lr: 0.001: 100%|| 32/32 [00:00<00:00, 154.60it/s]\n",
      "\n",
      "EP_train | avg_loss: 0.5649257684126496 |\n",
      "Epoch 54\n",
      "EP: train | lr: 0.001: 100%|| 32/32 [00:00<00:00, 151.57it/s]\n",
      "\n",
      "EP_train | avg_loss: 0.5680993096902966 |\n",
      "Epoch 55\n",
      "EP: train | lr: 0.001: 100%|| 32/32 [00:00<00:00, 154.64it/s]\n",
      "\n",
      "EP_train | avg_loss: 0.5664891796186566 |\n",
      "Epoch 56\n",
      "EP: train | lr: 0.001: 100%|| 32/32 [00:00<00:00, 155.11it/s]\n",
      "\n",
      "EP_train | avg_loss: 0.5659538498148322 |\n",
      "Epoch 57\n",
      "EP: train | lr: 0.001: 100%|| 32/32 [00:00<00:00, 154.94it/s]\n",
      "\n",
      "EP_train | avg_loss: 0.564243839122355 |\n",
      "Epoch 58\n",
      "EP: train | lr: 0.001: 100%|| 32/32 [00:00<00:00, 154.76it/s]\n",
      "\n",
      "EP_train | avg_loss: 0.5660640643909574 |\n",
      "Epoch 59\n",
      "EP: train | lr: 0.001: 100%|| 32/32 [00:00<00:00, 148.40it/s]\n",
      "\n",
      "EP_train | avg_loss: 0.5620667692273855 |\n",
      "Epoch 60\n",
      "EP: train | lr: 0.001: 100%|| 32/32 [00:00<00:00, 152.26it/s]\n",
      "\n",
      "EP_train | avg_loss: 0.5610842546448112 |\n",
      "Epoch 61\n",
      "EP: train | lr: 0.001: 100%|| 32/32 [00:00<00:00, 150.30it/s]\n",
      "\n",
      "EP_train | avg_loss: 0.5629525957629085 |\n",
      "Epoch 62\n",
      "EP: train | lr: 0.001: 100%|| 32/32 [00:00<00:00, 155.51it/s]\n",
      "\n",
      "EP_train | avg_loss: 0.5648039812222123 |\n",
      "Epoch 63\n",
      "EP: train | lr: 0.001: 100%|| 32/32 [00:00<00:00, 153.30it/s]\n",
      "\n",
      "EP_train | avg_loss: 0.5660575544461608 |\n",
      "Epoch 64\n",
      "EP: train | lr: 0.001: 100%|| 32/32 [00:00<00:00, 153.83it/s]\n",
      "\n",
      "EP_train | avg_loss: 0.5655105728656054 |\n",
      "Epoch 65\n",
      "EP: train | lr: 0.001: 100%|| 32/32 [00:00<00:00, 154.55it/s]\n",
      "\n",
      "EP_train | avg_loss: 0.5636773882433772 |\n",
      "Epoch 66\n",
      "EP: train | lr: 0.001: 100%|| 32/32 [00:00<00:00, 155.83it/s]\n",
      "\n",
      "EP_train | avg_loss: 0.5638107247650623 |\n",
      "Epoch 67\n",
      "EP: train | lr: 0.001: 100%|| 32/32 [00:00<00:00, 154.63it/s]\n",
      "\n",
      "EP_train | avg_loss: 0.5645164465531707 |\n",
      "Epoch 68\n",
      "EP: train | lr: 0.001: 100%|| 32/32 [00:00<00:00, 155.37it/s]\n",
      "\n",
      "EP_train | avg_loss: 0.5641381535679102 |\n",
      "Epoch 69\n",
      "EP: train | lr: 0.001: 100%|| 32/32 [00:00<00:00, 150.95it/s]\n",
      "\n",
      "EP_train | avg_loss: 0.561451013199985 |\n",
      "Epoch 70\n",
      "EP: train | lr: 0.001: 100%|| 32/32 [00:00<00:00, 149.74it/s]\n",
      "\n",
      "EP_train | avg_loss: 0.5648320559412241 |\n",
      "Epoch 71\n",
      "EP: train | lr: 0.001: 100%|| 32/32 [00:00<00:00, 153.68it/s]\n",
      "\n",
      "EP_train | avg_loss: 0.5652331560850143 |\n",
      "Epoch 72\n",
      "EP: train | lr: 0.001: 100%|| 32/32 [00:00<00:00, 154.16it/s]\n",
      "\n",
      "EP_train | avg_loss: 0.5621865382418036 |\n",
      "Epoch 73\n",
      "EP: train | lr: 0.001: 100%|| 32/32 [00:00<00:00, 153.60it/s]\n",
      "\n",
      "EP_train | avg_loss: 0.563480680808425 |\n",
      "Epoch 74\n",
      "EP: train | lr: 0.001: 100%|| 32/32 [00:00<00:00, 155.44it/s]\n",
      "\n",
      "EP_train | avg_loss: 0.563859754242003 |\n",
      "Epoch 75\n",
      "EP: train | lr: 0.001: 100%|| 32/32 [00:00<00:00, 153.59it/s]\n",
      "\n",
      "EP_train | avg_loss: 0.5620640311390162 |\n",
      "Epoch 76\n",
      "EP: train | lr: 0.001: 100%|| 32/32 [00:00<00:00, 152.16it/s]\n",
      "\n",
      "EP_train | avg_loss: 0.5654707448557019 |\n",
      "Epoch 77\n",
      "EP: train | lr: 0.001: 100%|| 32/32 [00:00<00:00, 153.59it/s]\n",
      "\n",
      "EP_train | avg_loss: 0.5639899717643857 |\n",
      "Epoch 78\n",
      "EP: train | lr: 0.001: 100%|| 32/32 [00:00<00:00, 154.05it/s]\n",
      "\n",
      "EP_train | avg_loss: 0.5615349691361189 |\n",
      "Epoch 79\n",
      "EP: train | lr: 0.001: 100%|| 32/32 [00:00<00:00, 146.84it/s]\n",
      "\n",
      "EP_train | avg_loss: 0.5622214339673519 |\n",
      "Epoch 80\n",
      "EP: train | lr: 0.001: 100%|| 32/32 [00:00<00:00, 154.92it/s]\n",
      "\n",
      "EP_train | avg_loss: 0.5609047338366508 |\n",
      "Epoch 81\n",
      "EP: train | lr: 0.001: 100%|| 32/32 [00:00<00:00, 152.93it/s]\n",
      "\n",
      "EP_train | avg_loss: 0.5616418914869428 |\n",
      "Epoch 82\n",
      "EP: train | lr: 0.001: 100%|| 32/32 [00:00<00:00, 156.11it/s]\n",
      "\n",
      "EP_train | avg_loss: 0.5612360024824739 |\n",
      "Epoch 83\n",
      "EP: train | lr: 0.001: 100%|| 32/32 [00:00<00:00, 155.16it/s]\n",
      "\n",
      "EP_train | avg_loss: 0.5612218491733074 |\n",
      "Epoch 84\n",
      "EP: train | lr: 0.001: 100%|| 32/32 [00:00<00:00, 154.01it/s]\n",
      "\n",
      "EP_train | avg_loss: 0.5609008688479662 |\n",
      "Epoch 85\n",
      "EP: train | lr: 0.001: 100%|| 32/32 [00:00<00:00, 153.71it/s]\n",
      "\n",
      "EP_train | avg_loss: 0.5608997540548444 |\n",
      "Epoch 86\n",
      "EP: train | lr: 0.001: 100%|| 32/32 [00:00<00:00, 155.35it/s]\n",
      "\n",
      "EP_train | avg_loss: 0.5624509667977691 |\n",
      "Epoch 87\n",
      "EP: train | lr: 0.001: 100%|| 32/32 [00:00<00:00, 154.67it/s]\n",
      "\n",
      "EP_train | avg_loss: 0.5609021373093128 |\n",
      "Epoch 88\n",
      "EP: train | lr: 0.001: 100%|| 32/32 [00:00<00:00, 155.26it/s]\n",
      "\n",
      "EP_train | avg_loss: 0.5621654354035854 |\n",
      "Epoch 89\n",
      "EP: train | lr: 0.001: 100%|| 32/32 [00:00<00:00, 153.75it/s]\n",
      "\n",
      "EP_train | avg_loss: 0.5586899314075708 |\n",
      "Epoch 90\n",
      "EP: train | lr: 0.001: 100%|| 32/32 [00:00<00:00, 155.74it/s]\n",
      "\n",
      "EP_train | avg_loss: 0.562383790500462 |\n",
      "Epoch 91\n",
      "EP: train | lr: 0.001: 100%|| 32/32 [00:00<00:00, 153.74it/s]\n",
      "\n",
      "EP_train | avg_loss: 0.5583177180960774 |\n",
      "Epoch 92\n",
      "EP: train | lr: 0.001: 100%|| 32/32 [00:00<00:00, 152.29it/s]\n",
      "\n",
      "EP_train | avg_loss: 0.558654049411416 |\n",
      "Epoch 93\n",
      "EP: train | lr: 0.001: 100%|| 32/32 [00:00<00:00, 149.85it/s]\n",
      "\n",
      "EP_train | avg_loss: 0.5594937605783343 |\n",
      "Epoch 94\n",
      "EP: train | lr: 0.001: 100%|| 32/32 [00:00<00:00, 153.70it/s]\n",
      "\n",
      "EP_train | avg_loss: 0.5632853079587221 |\n",
      "Epoch 95\n",
      "EP: train | lr: 0.001: 100%|| 32/32 [00:00<00:00, 156.13it/s]\n",
      "\n",
      "EP_train | avg_loss: 0.5600804714486003 |\n",
      "Epoch 96\n",
      "EP: train | lr: 0.001: 100%|| 32/32 [00:00<00:00, 153.45it/s]\n",
      "\n",
      "EP_train | avg_loss: 0.5589111419394612 |\n",
      "Epoch 97\n",
      "EP: train | lr: 0.001: 100%|| 32/32 [00:00<00:00, 154.13it/s]\n",
      "\n",
      "EP_train | avg_loss: 0.5603133421391249 |\n",
      "Epoch 98\n",
      "EP: train | lr: 0.001: 100%|| 32/32 [00:00<00:00, 154.76it/s]\n",
      "\n",
      "EP_train | avg_loss: 0.5585761964321136 |\n",
      "Epoch 99\n",
      "EP: train | lr: 0.001: 100%|| 32/32 [00:00<00:00, 155.75it/s]\n",
      "EP_train | avg_loss: 0.5593233359977603 |\n",
      "\n"
     ]
    }
   ],
   "source": [
    "AttractiveTrainer.train()"
   ]
  },
  {
   "cell_type": "code",
   "execution_count": null,
   "metadata": {},
   "outputs": [],
   "source": []
  },
  {
   "cell_type": "code",
   "execution_count": null,
   "metadata": {},
   "outputs": [],
   "source": []
  },
  {
   "source": [
    "## Below is testing"
   ],
   "cell_type": "markdown",
   "metadata": {}
  },
  {
   "cell_type": "code",
   "execution_count": 13,
   "metadata": {},
   "outputs": [
    {
     "output_type": "execute_result",
     "data": {
      "text/plain": [
       "TransformerModel(\n",
       "  (embedding): AttractiveEmbedding(\n",
       "    (token): TokenEmbedding(1410, 300, padding_idx=0)\n",
       "    (position): PositionalEmbedding()\n",
       "    (dropout): Dropout(p=0.1, inplace=False)\n",
       "  )\n",
       "  (category_embedding): CategoryEmbedding(22, 16, padding_idx=0)\n",
       "  (transformer_encoder): TransformerEncoder(\n",
       "    (layers): ModuleList(\n",
       "      (0): TransformerEncoderLayer(\n",
       "        (self_attn): MultiheadAttention(\n",
       "          (out_proj): _LinearWithBias(in_features=300, out_features=300, bias=True)\n",
       "        )\n",
       "        (linear1): Linear(in_features=300, out_features=256, bias=True)\n",
       "        (dropout): Dropout(p=0.1, inplace=False)\n",
       "        (linear2): Linear(in_features=256, out_features=300, bias=True)\n",
       "        (norm1): LayerNorm((300,), eps=1e-05, elementwise_affine=True)\n",
       "        (norm2): LayerNorm((300,), eps=1e-05, elementwise_affine=True)\n",
       "        (dropout1): Dropout(p=0.1, inplace=False)\n",
       "        (dropout2): Dropout(p=0.1, inplace=False)\n",
       "      )\n",
       "      (1): TransformerEncoderLayer(\n",
       "        (self_attn): MultiheadAttention(\n",
       "          (out_proj): _LinearWithBias(in_features=300, out_features=300, bias=True)\n",
       "        )\n",
       "        (linear1): Linear(in_features=300, out_features=256, bias=True)\n",
       "        (dropout): Dropout(p=0.1, inplace=False)\n",
       "        (linear2): Linear(in_features=256, out_features=300, bias=True)\n",
       "        (norm1): LayerNorm((300,), eps=1e-05, elementwise_affine=True)\n",
       "        (norm2): LayerNorm((300,), eps=1e-05, elementwise_affine=True)\n",
       "        (dropout1): Dropout(p=0.1, inplace=False)\n",
       "        (dropout2): Dropout(p=0.1, inplace=False)\n",
       "      )\n",
       "      (2): TransformerEncoderLayer(\n",
       "        (self_attn): MultiheadAttention(\n",
       "          (out_proj): _LinearWithBias(in_features=300, out_features=300, bias=True)\n",
       "        )\n",
       "        (linear1): Linear(in_features=300, out_features=256, bias=True)\n",
       "        (dropout): Dropout(p=0.1, inplace=False)\n",
       "        (linear2): Linear(in_features=256, out_features=300, bias=True)\n",
       "        (norm1): LayerNorm((300,), eps=1e-05, elementwise_affine=True)\n",
       "        (norm2): LayerNorm((300,), eps=1e-05, elementwise_affine=True)\n",
       "        (dropout1): Dropout(p=0.1, inplace=False)\n",
       "        (dropout2): Dropout(p=0.1, inplace=False)\n",
       "      )\n",
       "    )\n",
       "  )\n",
       "  (linear): Linear(in_features=316, out_features=1, bias=True)\n",
       ")"
      ]
     },
     "metadata": {},
     "execution_count": 13
    }
   ],
   "source": [
    "from transformermodel import TransformerModel\n",
    "PATH = './model/AttractiveNet_20201029-123408_0.559.100'\n",
    "load_model = TransformerModel(nhead, input_dim, category_dim, category_output_dim, embedding_dim, hidden_dim, output_dim, dropout, num_layers).to(AttractiveData.device)\n",
    "load_model.load_state_dict(torch.load(PATH))\n",
    "load_model.eval()"
   ]
  },
  {
   "cell_type": "code",
   "execution_count": 14,
   "metadata": {},
   "outputs": [],
   "source": [
    "def predict_attractive(sentence, category):\n",
    "    indexed_sentence = [AttractiveData.TEXT.vocab.stoi[t] for t in sentence]\n",
    "    indexed_category = [AttractiveData.CATEGORIES_LABEL.vocab.stoi[category]]\n",
    "    tensor_sentence = torch.LongTensor(indexed_sentence).to(AttractiveData.device)\n",
    "    tensor_category = torch.LongTensor(indexed_category).to(AttractiveData.device)\n",
    "\n",
    "    tensor_sentence = tensor_sentence.unsqueeze(1)\n",
    "    tensor_category = tensor_category\n",
    "    prediction = load_model(tensor_sentence, tensor_category)\n",
    "    \n",
    "    return prediction"
   ]
  },
  {
   "cell_type": "code",
   "execution_count": 15,
   "metadata": {},
   "outputs": [
    {
     "output_type": "error",
     "ename": "KeyError",
     "evalue": "'living'",
     "traceback": [
      "\u001b[0;31m---------------------------------------------------------------------------\u001b[0m",
      "\u001b[0;31mKeyError\u001b[0m                                  Traceback (most recent call last)",
      "\u001b[0;32m<ipython-input-15-511795695d29>\u001b[0m in \u001b[0;36m<module>\u001b[0;34m\u001b[0m\n\u001b[1;32m      1\u001b[0m \u001b[0mpredict_list\u001b[0m \u001b[0;34m=\u001b[0m \u001b[0;34m[\u001b[0m\u001b[0;34m]\u001b[0m\u001b[0;34m\u001b[0m\u001b[0;34m\u001b[0m\u001b[0m\n\u001b[1;32m      2\u001b[0m \u001b[0;32mfor\u001b[0m \u001b[0mi\u001b[0m\u001b[0;34m,\u001b[0m \u001b[0msentence\u001b[0m \u001b[0;32min\u001b[0m \u001b[0menumerate\u001b[0m\u001b[0;34m(\u001b[0m\u001b[0mAttractiveData\u001b[0m\u001b[0;34m.\u001b[0m\u001b[0mtest_data\u001b[0m\u001b[0;34m)\u001b[0m\u001b[0;34m:\u001b[0m\u001b[0;34m\u001b[0m\u001b[0;34m\u001b[0m\u001b[0m\n\u001b[0;32m----> 3\u001b[0;31m     \u001b[0mprediction\u001b[0m \u001b[0;34m=\u001b[0m \u001b[0mpredict_attractive\u001b[0m\u001b[0;34m(\u001b[0m\u001b[0msentence\u001b[0m\u001b[0;34m.\u001b[0m\u001b[0mHeadline\u001b[0m\u001b[0;34m,\u001b[0m \u001b[0msentence\u001b[0m\u001b[0;34m.\u001b[0m\u001b[0mCategory\u001b[0m\u001b[0;34m)\u001b[0m\u001b[0;34m\u001b[0m\u001b[0;34m\u001b[0m\u001b[0m\n\u001b[0m\u001b[1;32m      4\u001b[0m     \u001b[0mpredict_list\u001b[0m\u001b[0;34m.\u001b[0m\u001b[0mappend\u001b[0m\u001b[0;34m(\u001b[0m\u001b[0mprediction\u001b[0m\u001b[0;34m.\u001b[0m\u001b[0mitem\u001b[0m\u001b[0;34m(\u001b[0m\u001b[0;34m)\u001b[0m\u001b[0;34m)\u001b[0m\u001b[0;34m\u001b[0m\u001b[0;34m\u001b[0m\u001b[0m\n\u001b[1;32m      5\u001b[0m \u001b[0mAttractiveData\u001b[0m\u001b[0;34m.\u001b[0m\u001b[0mdf_test\u001b[0m\u001b[0;34m[\u001b[0m\u001b[0;34m'Label'\u001b[0m\u001b[0;34m]\u001b[0m \u001b[0;34m=\u001b[0m \u001b[0mpredict_list\u001b[0m\u001b[0;34m\u001b[0m\u001b[0;34m\u001b[0m\u001b[0m\n",
      "\u001b[0;32m<ipython-input-14-5b41700683e3>\u001b[0m in \u001b[0;36mpredict_attractive\u001b[0;34m(sentence, category)\u001b[0m\n\u001b[1;32m      1\u001b[0m \u001b[0;32mdef\u001b[0m \u001b[0mpredict_attractive\u001b[0m\u001b[0;34m(\u001b[0m\u001b[0msentence\u001b[0m\u001b[0;34m,\u001b[0m \u001b[0mcategory\u001b[0m\u001b[0;34m)\u001b[0m\u001b[0;34m:\u001b[0m\u001b[0;34m\u001b[0m\u001b[0;34m\u001b[0m\u001b[0m\n\u001b[1;32m      2\u001b[0m     \u001b[0mindexed_sentence\u001b[0m \u001b[0;34m=\u001b[0m \u001b[0;34m[\u001b[0m\u001b[0mAttractiveData\u001b[0m\u001b[0;34m.\u001b[0m\u001b[0mTEXT\u001b[0m\u001b[0;34m.\u001b[0m\u001b[0mvocab\u001b[0m\u001b[0;34m.\u001b[0m\u001b[0mstoi\u001b[0m\u001b[0;34m[\u001b[0m\u001b[0mt\u001b[0m\u001b[0;34m]\u001b[0m \u001b[0;32mfor\u001b[0m \u001b[0mt\u001b[0m \u001b[0;32min\u001b[0m \u001b[0msentence\u001b[0m\u001b[0;34m]\u001b[0m\u001b[0;34m\u001b[0m\u001b[0;34m\u001b[0m\u001b[0m\n\u001b[0;32m----> 3\u001b[0;31m     \u001b[0mindexed_category\u001b[0m \u001b[0;34m=\u001b[0m \u001b[0;34m[\u001b[0m\u001b[0mAttractiveData\u001b[0m\u001b[0;34m.\u001b[0m\u001b[0mCATEGORIES_LABEL\u001b[0m\u001b[0;34m.\u001b[0m\u001b[0mvocab\u001b[0m\u001b[0;34m.\u001b[0m\u001b[0mstoi\u001b[0m\u001b[0;34m[\u001b[0m\u001b[0mcategory\u001b[0m\u001b[0;34m]\u001b[0m\u001b[0;34m]\u001b[0m\u001b[0;34m\u001b[0m\u001b[0;34m\u001b[0m\u001b[0m\n\u001b[0m\u001b[1;32m      4\u001b[0m     \u001b[0mtensor_sentence\u001b[0m \u001b[0;34m=\u001b[0m \u001b[0mtorch\u001b[0m\u001b[0;34m.\u001b[0m\u001b[0mLongTensor\u001b[0m\u001b[0;34m(\u001b[0m\u001b[0mindexed_sentence\u001b[0m\u001b[0;34m)\u001b[0m\u001b[0;34m.\u001b[0m\u001b[0mto\u001b[0m\u001b[0;34m(\u001b[0m\u001b[0mAttractiveData\u001b[0m\u001b[0;34m.\u001b[0m\u001b[0mdevice\u001b[0m\u001b[0;34m)\u001b[0m\u001b[0;34m\u001b[0m\u001b[0;34m\u001b[0m\u001b[0m\n\u001b[1;32m      5\u001b[0m     \u001b[0mtensor_category\u001b[0m \u001b[0;34m=\u001b[0m \u001b[0mtorch\u001b[0m\u001b[0;34m.\u001b[0m\u001b[0mLongTensor\u001b[0m\u001b[0;34m(\u001b[0m\u001b[0mindexed_category\u001b[0m\u001b[0;34m)\u001b[0m\u001b[0;34m.\u001b[0m\u001b[0mto\u001b[0m\u001b[0;34m(\u001b[0m\u001b[0mAttractiveData\u001b[0m\u001b[0;34m.\u001b[0m\u001b[0mdevice\u001b[0m\u001b[0;34m)\u001b[0m\u001b[0;34m\u001b[0m\u001b[0;34m\u001b[0m\u001b[0m\n",
      "\u001b[0;31mKeyError\u001b[0m: 'living'"
     ]
    }
   ],
   "source": [
    "predict_list = []\n",
    "for i, sentence in enumerate(AttractiveData.test_data):\n",
    "    prediction = predict_attractive(sentence.Headline, sentence.Category)\n",
    "    predict_list.append(prediction.item())\n",
    "AttractiveData.df_test['Label'] = predict_list\n",
    "AttractiveData.df_test[['ID', 'Label']].to_csv('transformers.csv', index=False)"
   ]
  },
  {
   "cell_type": "code",
   "execution_count": 7,
   "metadata": {},
   "outputs": [
    {
     "output_type": "stream",
     "name": "stdout",
     "text": [
      "racing\n\ngolf\nbeauty\n"
     ]
    }
   ],
   "source": [
    "train_category = list(AttractiveData.CATEGORIES_LABEL.vocab.freqs)\n",
    "test_category = list(AttractiveData.df_test['Category'].value_counts().keys())\n",
    "for each_test in test_category:\n",
    "    if each_test not in train_category:\n",
    "        print(each_test)\n",
    "print()\n",
    "for each_train in train_category:\n",
    "    if each_train not in test_category:\n",
    "        print(each_train)"
   ]
  },
  {
   "cell_type": "code",
   "execution_count": 17,
   "metadata": {},
   "outputs": [
    {
     "output_type": "execute_result",
     "data": {
      "text/plain": [
       "(['travel',\n",
       "  'health',\n",
       "  'femail',\n",
       "  'sport',\n",
       "  'gardening',\n",
       "  'sciencetech',\n",
       "  'news',\n",
       "  'food',\n",
       "  'football',\n",
       "  'travelnews',\n",
       "  'cricket',\n",
       "  'golf',\n",
       "  'books',\n",
       "  'rugbyunion',\n",
       "  'home',\n",
       "  'boxing',\n",
       "  'tennis',\n",
       "  'concussion',\n",
       "  'othersports',\n",
       "  'beauty',\n",
       "  'formulaone',\n",
       "  'racing'],\n",
       " ['health',\n",
       "  'femail',\n",
       "  'sciencetech',\n",
       "  'travel',\n",
       "  'news',\n",
       "  'football',\n",
       "  'food',\n",
       "  'living',\n",
       "  'books',\n",
       "  'boxing',\n",
       "  'rugbyunion',\n",
       "  'othersports',\n",
       "  'formulaone',\n",
       "  'cricket',\n",
       "  'us',\n",
       "  'tennis',\n",
       "  'sport',\n",
       "  'middleeast',\n",
       "  'racing'])"
      ]
     },
     "metadata": {},
     "execution_count": 17
    }
   ],
   "source": [
    "train_category, test_category"
   ]
  },
  {
   "source": [
    "## Below just for fun guess"
   ],
   "cell_type": "markdown",
   "metadata": {}
  },
  {
   "cell_type": "code",
   "execution_count": 17,
   "metadata": {},
   "outputs": [],
   "source": [
    "a = AttractiveData.df_test['ID'].to_list()"
   ]
  },
  {
   "cell_type": "code",
   "execution_count": 17,
   "metadata": {},
   "outputs": [],
   "source": [
    "from sklearn.metrics import mean_squared_error"
   ]
  },
  {
   "cell_type": "code",
   "execution_count": 9,
   "metadata": {},
   "outputs": [
    {
     "output_type": "execute_result",
     "data": {
      "text/plain": [
       "0.5545343137254902"
      ]
     },
     "metadata": {},
     "execution_count": 9
    }
   ],
   "source": [
    "mean_squared_error(a, b)\n",
    "# Training all 3.0 got mse = 0.5545"
   ]
  },
  {
   "cell_type": "code",
   "execution_count": 18,
   "metadata": {},
   "outputs": [],
   "source": [
    "# only for fun\n",
    "import random\n",
    "guess_list = [2.3333333333333335, 3.3333333333333335, 3.6666666666666665, 2.6666666666666665]\n",
    "b = []\n",
    "for i in range(len(a)):\n",
    "    b.append(random.choice(guess_list))"
   ]
  },
  {
   "cell_type": "code",
   "execution_count": 19,
   "metadata": {},
   "outputs": [],
   "source": [
    "AttractiveData.df_test['Label'] = b"
   ]
  },
  {
   "cell_type": "code",
   "execution_count": 20,
   "metadata": {},
   "outputs": [],
   "source": [
    "AttractiveData.df_test[['ID', 'Label']].to_csv('all_3.csv', index=False)"
   ]
  },
  {
   "cell_type": "code",
   "execution_count": null,
   "metadata": {},
   "outputs": [],
   "source": []
  }
 ]
}