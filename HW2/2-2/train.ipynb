{
 "cells": [
  {
   "cell_type": "code",
   "execution_count": 1,
   "metadata": {},
   "outputs": [],
   "source": [
    "# common packages\n",
    "import pandas as pd\n",
    "import time\n",
    "\n",
    "# # DL framework\n",
    "import torch\n",
    "from torchtext import data\n",
    "\n",
    "from attractivedata import AttractiveData\n",
    "from trainer import AttractiveTrainer"
   ]
  },
  {
   "cell_type": "code",
   "execution_count": 2,
   "metadata": {},
   "outputs": [],
   "source": [
    "seed_value = 42\n",
    "torch.manual_seed(seed_value)\n",
    "torch.cuda.manual_seed(seed_value)\n",
    "torch.cuda.manual_seed_all(seed_value) # gpu vars\n",
    "torch.backends.cudnn.deterministic = True  #needed\n",
    "torch.backends.cudnn.benchmark = False"
   ]
  },
  {
   "cell_type": "markdown",
   "metadata": {},
   "source": [
    "## Load and prepare data"
   ]
  },
  {
   "cell_type": "code",
   "execution_count": 3,
   "metadata": {},
   "outputs": [],
   "source": [
    "train_file = 'data/train.csv'\n",
    "val_file = 'example/val.csv'\n",
    "test_file = 'data/test.csv'\n",
    "pretrained_file = 'glove.840B.300d'\n",
    "config = {\n",
    "    'max_seq': 40,\n",
    "    'min_freq': 0,\n",
    "    'batch_size': 64,\n",
    "    'pretrained_file': pretrained_file\n",
    "}\n"
   ]
  },
  {
   "cell_type": "code",
   "execution_count": 4,
   "metadata": {},
   "outputs": [],
   "source": [
    "AttractiveData = AttractiveData(train_file, val_file, test_file, pretrained_file, config)"
   ]
  },
  {
   "cell_type": "markdown",
   "metadata": {},
   "source": [
    "## Start to train"
   ]
  },
  {
   "cell_type": "code",
   "execution_count": 5,
   "metadata": {},
   "outputs": [
    {
     "output_type": "stream",
     "name": "stdout",
     "text": [
      "torch.Size([12699, 300])\n"
     ]
    }
   ],
   "source": [
    "config['timestr'] = time.strftime(\"%Y%m%d-%H%M%S\")\n",
    "config['save_name'] = 'CNN_LSTM'\n",
    "config['input_dim'] = len(AttractiveData.TEXT.vocab)\n",
    "config['embedding_dim'] = 300\n",
    "config['category_dim'] = len(AttractiveData.CATEGORIES_LABEL.vocab)\n",
    "config['category_embedding_dim'] = 10\n",
    "config['hidden_dim'] = 30\n",
    "config['output_dim'] = 1\n",
    "config['log_steps'] = 10\n",
    "config['epochs'] = 200\n",
    "config['lr'] = {\n",
    "    'encoder': 1e-5,\n",
    "    'embedding': 6e-6,\n",
    "    'linear': 1e-5\n",
    "}\n",
    "config['num_layers'] = 1\n",
    "config['kernel_size'] = 3\n",
    "config['dropout'] = 0.5\n",
    "config['train_len'] = AttractiveData.train_len\n",
    "config['val_len'] = AttractiveData.val_len\n",
    "config['test_len'] = AttractiveData.test_len\n",
    "\n",
    "pretrained_embeddings = AttractiveData.TEXT.vocab.vectors\n",
    "print(pretrained_embeddings.shape)"
   ]
  },
  {
   "cell_type": "code",
   "execution_count": 6,
   "metadata": {},
   "outputs": [],
   "source": [
    "AttractiveTrainer = AttractiveTrainer(config, AttractiveData.device, AttractiveData.trainloader, AttractiveData.valloader, pretrained_embeddings)"
   ]
  },
  {
   "cell_type": "code",
   "execution_count": 7,
   "metadata": {},
   "outputs": [
    {
     "output_type": "execute_result",
     "data": {
      "text/plain": [
       "(AttractiveNet(\n",
       "   (embedding): AttractiveEmbedding(\n",
       "     (token): TokenEmbedding(12699, 300, padding_idx=1)\n",
       "   )\n",
       "   (bigramcnn): Sequential(\n",
       "     (0): Conv1d(300, 220, kernel_size=(2,), stride=(1,), padding=(1,))\n",
       "     (1): ReLU()\n",
       "     (2): Conv1d(220, 100, kernel_size=(2,), stride=(1,), padding=(1,))\n",
       "     (3): ReLU()\n",
       "     (4): Dropout(p=0.5, inplace=False)\n",
       "   )\n",
       "   (trigramcnn): Sequential(\n",
       "     (0): Conv1d(300, 220, kernel_size=(3,), stride=(1,), padding=(1,))\n",
       "     (1): ReLU()\n",
       "     (2): Conv1d(220, 100, kernel_size=(3,), stride=(1,), padding=(1,))\n",
       "     (3): ReLU()\n",
       "     (4): Dropout(p=0.5, inplace=False)\n",
       "   )\n",
       "   (encoder_bigram): LSTM(100, 30, batch_first=True, dropout=0.5, bidirectional=True)\n",
       "   (encoder_trigram): LSTM(100, 30, batch_first=True, dropout=0.5, bidirectional=True)\n",
       "   (linear): Sequential(\n",
       "     (0): Linear(in_features=128, out_features=30, bias=True)\n",
       "     (1): ReLU()\n",
       "     (2): Linear(in_features=30, out_features=1, bias=True)\n",
       "   )\n",
       " ),\n",
       " 4317601,\n",
       " 4317601)"
      ]
     },
     "metadata": {},
     "execution_count": 7
    }
   ],
   "source": [
    "AttractiveTrainer.model, AttractiveTrainer.config['total_params'], AttractiveTrainer.config['total_learned_params']"
   ]
  },
  {
   "cell_type": "code",
   "execution_count": 8,
   "metadata": {
    "tags": [
     "outputPrepend"
    ]
   },
   "outputs": [
    {
     "output_type": "stream",
     "name": "stderr",
     "text": [
      ":02,  2.42it/s]\n",
      "EP_47 | train loss: 0.4462983729792576 | val loss: 0.3834354819035998 |\n",
      "Epoch:  24%|██▍       | 49/200 [00:20<01:02,  2.43it/s]\n",
      "EP_48 | train loss: 0.4387205909280216 | val loss: 0.37645057544988747 |\n",
      "Epoch:  25%|██▌       | 50/200 [00:20<01:01,  2.45it/s]\n",
      "EP_49 | train loss: 0.4383580852957333 | val loss: 0.37291893187691183 |\n",
      "Epoch:  26%|██▌       | 51/200 [00:21<01:01,  2.42it/s]\n",
      "EP_50 | train loss: 0.43552059098786 | val loss: 0.37033913357585085 |\n",
      "Epoch:  26%|██▌       | 52/200 [00:21<01:01,  2.40it/s]\n",
      "EP_51 | train loss: 0.4311245609732235 | val loss: 0.3649981962699516 |\n",
      "Epoch:  26%|██▋       | 53/200 [00:21<01:00,  2.43it/s]\n",
      "EP_52 | train loss: 0.42716919955085303 | val loss: 0.3608419567930932 |\n",
      "Epoch:  27%|██▋       | 54/200 [00:22<01:00,  2.43it/s]\n",
      "EP_53 | train loss: 0.427755350225112 | val loss: 0.35924460958032045 |\n",
      "Epoch:  28%|██▊       | 55/200 [00:22<00:59,  2.42it/s]\n",
      "EP_54 | train loss: 0.4221334560244691 | val loss: 0.35480620814304725 |\n",
      "Epoch:  28%|██▊       | 56/200 [00:23<01:00,  2.40it/s]\n",
      "EP_55 | train loss: 0.4194079268212412 | val loss: 0.35131507644466325 |\n",
      "Epoch:  28%|██▊       | 57/200 [00:23<00:59,  2.41it/s]\n",
      "EP_56 | train loss: 0.42989229220970004 | val loss: 0.3598295502802905 |\n",
      "Epoch:  29%|██▉       | 58/200 [00:23<00:58,  2.41it/s]\n",
      "EP_57 | train loss: 0.41663868287030387 | val loss: 0.34773043616145266 |\n",
      "Epoch:  30%|██▉       | 59/200 [00:24<00:58,  2.41it/s]\n",
      "EP_58 | train loss: 0.41089550093108534 | val loss: 0.34315723472950505 |\n",
      "Epoch:  30%|███       | 60/200 [00:24<00:58,  2.40it/s]\n",
      "EP_59 | train loss: 0.41470565982893404 | val loss: 0.34480319362060696 |\n",
      "Epoch:  30%|███       | 61/200 [00:25<00:58,  2.36it/s]\n",
      "EP_60 | train loss: 0.4093908707300822 | val loss: 0.3416461617338891 |\n",
      "Epoch:  31%|███       | 62/200 [00:25<00:58,  2.38it/s]\n",
      "EP_61 | train loss: 0.4112478817210478 | val loss: 0.3426118715136659 |\n",
      "Epoch:  32%|███▏      | 63/200 [00:26<00:57,  2.39it/s]\n",
      "EP_62 | train loss: 0.40608944612390857 | val loss: 0.33797866164469254 |\n",
      "Epoch:  32%|███▏      | 64/200 [00:26<00:56,  2.40it/s]\n",
      "EP_63 | train loss: 0.401645622066423 | val loss: 0.33404383764547463 |\n",
      "Epoch:  32%|███▎      | 65/200 [00:26<00:55,  2.41it/s]\n",
      "EP_64 | train loss: 0.4026896551543591 | val loss: 0.3349306343817243 |\n",
      "Epoch:  33%|███▎      | 66/200 [00:27<00:56,  2.38it/s]\n",
      "EP_65 | train loss: 0.39648284257627003 | val loss: 0.3306152727089676 |\n",
      "Epoch:  34%|███▎      | 67/200 [00:27<00:55,  2.40it/s]\n",
      "EP_66 | train loss: 0.39455380439758303 | val loss: 0.32970764823988374 |\n",
      "Epoch:  34%|███▍      | 68/200 [00:28<00:54,  2.42it/s]\n",
      "EP_67 | train loss: 0.39926449551301846 | val loss: 0.3358175550021377 |\n",
      "Epoch:  34%|███▍      | 69/200 [00:28<00:53,  2.43it/s]\n",
      "EP_68 | train loss: 0.39547332127888996 | val loss: 0.3322688820315342 |\n",
      "Epoch:  35%|███▌      | 70/200 [00:28<00:53,  2.43it/s]\n",
      "EP_69 | train loss: 0.38731059747583724 | val loss: 0.32683509938857136 |\n",
      "Epoch:  36%|███▌      | 71/200 [00:29<00:53,  2.40it/s]\n",
      "EP_70 | train loss: 0.3875246421963561 | val loss: 0.32872557289460125 |\n",
      "Epoch:  36%|███▌      | 72/200 [00:29<00:52,  2.42it/s]\n",
      "EP_71 | train loss: 0.3823278043784347 | val loss: 0.32493748734979067 |\n",
      "Epoch:  36%|███▋      | 73/200 [00:30<00:52,  2.43it/s]\n",
      "EP_72 | train loss: 0.38235000068066166 | val loss: 0.3255860688639622 |\n",
      "Epoch:  37%|███▋      | 74/200 [00:30<00:51,  2.43it/s]\n",
      "EP_73 | train loss: 0.37670799984651454 | val loss: 0.32164278684877884 |\n",
      "Epoch:  38%|███▊      | 75/200 [00:31<00:51,  2.43it/s]\n",
      "EP_74 | train loss: 0.3829639285218482 | val loss: 0.32827454980681925 |\n",
      "Epoch:  38%|███▊      | 76/200 [00:31<00:51,  2.40it/s]\n",
      "EP_75 | train loss: 0.3707760960448022 | val loss: 0.31936126363043693 |\n",
      "Epoch:  38%|███▊      | 77/200 [00:31<00:50,  2.41it/s]\n",
      "EP_76 | train loss: 0.36966919104258217 | val loss: 0.31853703949965684 |\n",
      "Epoch:  39%|███▉      | 78/200 [00:32<00:50,  2.42it/s]\n",
      "EP_77 | train loss: 0.3716046090219535 | val loss: 0.32097269331707673 |\n",
      "Epoch:  40%|███▉      | 79/200 [00:32<00:49,  2.43it/s]\n",
      "EP_78 | train loss: 0.3704717996073704 | val loss: 0.31934404899092284 |\n",
      "Epoch:  40%|████      | 80/200 [00:33<00:49,  2.43it/s]\n",
      "EP_79 | train loss: 0.3611082488415288 | val loss: 0.31561535889027165 |\n",
      "Epoch:  40%|████      | 81/200 [00:33<00:49,  2.41it/s]\n",
      "EP_80 | train loss: 0.35812496905233343 | val loss: 0.3121519591294083 |\n",
      "Epoch:  41%|████      | 82/200 [00:33<00:49,  2.40it/s]\n",
      "EP_81 | train loss: 0.3575299627640668 | val loss: 0.31286914792715337 |\n",
      "Epoch:  42%|████▏     | 83/200 [00:34<00:48,  2.40it/s]\n",
      "EP_82 | train loss: 0.3528856969347187 | val loss: 0.3095070783998452 |\n",
      "Epoch:  42%|████▏     | 84/200 [00:34<00:47,  2.42it/s]\n",
      "EP_83 | train loss: 0.350173563115737 | val loss: 0.3086223941223294 |\n",
      "Epoch:  42%|████▎     | 85/200 [00:35<00:47,  2.41it/s]\n",
      "EP_84 | train loss: 0.34931043737074907 | val loss: 0.3080744626475315 |\n",
      "Epoch:  43%|████▎     | 86/200 [00:35<00:47,  2.38it/s]\n",
      "EP_85 | train loss: 0.34959812024060416 | val loss: 0.3081992344529021 |\n",
      "Epoch:  44%|████▎     | 87/200 [00:36<00:47,  2.37it/s]\n",
      "EP_86 | train loss: 0.3415648422989191 | val loss: 0.3038141183993396 |\n",
      "Epoch:  44%|████▍     | 88/200 [00:36<00:46,  2.40it/s]\n",
      "EP_87 | train loss: 0.3354340777677648 | val loss: 0.3015217757692524 |\n",
      "Epoch:  44%|████▍     | 89/200 [00:36<00:46,  2.40it/s]\n",
      "EP_88 | train loss: 0.3316248239255419 | val loss: 0.2986089832642499 |\n",
      "Epoch:  45%|████▌     | 90/200 [00:37<00:45,  2.42it/s]\n",
      "EP_89 | train loss: 0.3318231157228059 | val loss: 0.29876893875645655 |\n",
      "Epoch:  46%|████▌     | 91/200 [00:37<00:45,  2.39it/s]\n",
      "EP_90 | train loss: 0.326489894062865 | val loss: 0.2950599538344963 |\n",
      "Epoch:  46%|████▌     | 92/200 [00:38<00:46,  2.33it/s]\n",
      "EP_91 | train loss: 0.3215688546498617 | val loss: 0.29298946728893355 |\n",
      "Epoch:  46%|████▋     | 93/200 [00:38<00:45,  2.35it/s]\n",
      "EP_92 | train loss: 0.31828094276727414 | val loss: 0.2899194669489767 |\n",
      "Epoch:  47%|████▋     | 94/200 [00:38<00:44,  2.38it/s]\n",
      "EP_93 | train loss: 0.3128586638207529 | val loss: 0.28803225942686494 |\n",
      "Epoch:  48%|████▊     | 95/200 [00:39<00:43,  2.39it/s]\n",
      "EP_94 | train loss: 0.3094590579762178 | val loss: 0.2843293717094496 |\n",
      "Epoch:  48%|████▊     | 96/200 [00:39<00:43,  2.38it/s]\n",
      "EP_95 | train loss: 0.3052905092052385 | val loss: 0.28554323140312643 |\n",
      "Epoch:  48%|████▊     | 97/200 [00:40<00:42,  2.41it/s]\n",
      "EP_96 | train loss: 0.2999911079219743 | val loss: 0.27987247997639225 |\n",
      "Epoch:  49%|████▉     | 98/200 [00:40<00:42,  2.42it/s]\n",
      "EP_97 | train loss: 0.30105692078085505 | val loss: 0.2772732902975643 |\n",
      "Epoch:  50%|████▉     | 99/200 [00:41<00:41,  2.43it/s]\n",
      "EP_98 | train loss: 0.30576743051117544 | val loss: 0.2776938355436512 |\n",
      "Epoch:  50%|█████     | 100/200 [00:41<00:41,  2.44it/s]\n",
      "EP_99 | train loss: 0.2896977326449226 | val loss: 0.2751150610400181 |\n",
      "Epoch:  50%|█████     | 101/200 [00:41<00:41,  2.38it/s]\n",
      "EP_100 | train loss: 0.28733261426289874 | val loss: 0.2683964798263475 |\n",
      "Epoch:  51%|█████     | 102/200 [00:42<00:41,  2.35it/s]\n",
      "EP_101 | train loss: 0.285055199323916 | val loss: 0.2643028234734255 |\n",
      "Epoch:  52%|█████▏    | 103/200 [00:42<00:41,  2.36it/s]\n",
      "EP_102 | train loss: 0.2770150053734873 | val loss: 0.262960028998992 |\n",
      "Epoch:  52%|█████▏    | 104/200 [00:43<00:40,  2.38it/s]\n",
      "EP_103 | train loss: 0.27187466200660254 | val loss: 0.25681905594526555 |\n",
      "Epoch:  52%|█████▎    | 105/200 [00:43<00:39,  2.41it/s]\n",
      "EP_104 | train loss: 0.275503815389147 | val loss: 0.25518303466778175 |\n",
      "Epoch:  53%|█████▎    | 106/200 [00:43<00:39,  2.38it/s]\n",
      "EP_105 | train loss: 0.2635859124800738 | val loss: 0.25108469642844855 |\n",
      "Epoch:  54%|█████▎    | 107/200 [00:44<00:38,  2.40it/s]\n",
      "EP_106 | train loss: 0.26066733154596067 | val loss: 0.24729058438656376 |\n",
      "Epoch:  54%|█████▍    | 108/200 [00:44<00:38,  2.37it/s]\n",
      "EP_107 | train loss: 0.25556566107506845 | val loss: 0.24207532347417346 |\n",
      "Epoch:  55%|█████▍    | 109/200 [00:45<00:38,  2.39it/s]\n",
      "EP_108 | train loss: 0.25785823990316953 | val loss: 0.23957453989515118 |\n",
      "Epoch:  55%|█████▌    | 110/200 [00:45<00:37,  2.37it/s]\n",
      "EP_109 | train loss: 0.24718555656133914 | val loss: 0.23501813937635982 |\n",
      "Epoch:  56%|█████▌    | 111/200 [00:46<00:38,  2.32it/s]\n",
      "EP_110 | train loss: 0.24555847130569758 | val loss: 0.24067271690742642 |\n",
      "Epoch:  56%|█████▌    | 112/200 [00:46<00:37,  2.34it/s]\n",
      "EP_111 | train loss: 0.2372657752504536 | val loss: 0.228856202434091 |\n",
      "Epoch:  56%|█████▋    | 113/200 [00:46<00:37,  2.35it/s]\n",
      "EP_112 | train loss: 0.23338054956174364 | val loss: 0.22152236746806725 |\n",
      "Epoch:  57%|█████▋    | 114/200 [00:47<00:36,  2.36it/s]\n",
      "EP_113 | train loss: 0.22955791248994714 | val loss: 0.21689207881104713 |\n",
      "Epoch:  57%|█████▊    | 115/200 [00:47<00:35,  2.38it/s]\n",
      "EP_114 | train loss: 0.22282593156777175 | val loss: 0.2156783377423006 |\n",
      "Epoch:  58%|█████▊    | 116/200 [00:48<00:36,  2.32it/s]\n",
      "EP_115 | train loss: 0.2204261901331883 | val loss: 0.2065710705869338 |\n",
      "Epoch:  58%|█████▊    | 117/200 [00:48<00:35,  2.34it/s]\n",
      "EP_116 | train loss: 0.2142919615203259 | val loss: 0.2011076591762842 |\n",
      "Epoch:  59%|█████▉    | 118/200 [00:49<00:35,  2.34it/s]\n",
      "EP_117 | train loss: 0.20856030875561285 | val loss: 0.19763863437315998 |\n",
      "Epoch:  60%|█████▉    | 119/200 [00:49<00:34,  2.36it/s]\n",
      "EP_118 | train loss: 0.204524294535319 | val loss: 0.19529767655858807 |\n",
      "Epoch:  60%|██████    | 120/200 [00:49<00:33,  2.38it/s]\n",
      "EP_119 | train loss: 0.20838614772347844 | val loss: 0.20846551539851169 |\n",
      "Epoch:  60%|██████    | 121/200 [00:50<00:33,  2.35it/s]\n",
      "EP_120 | train loss: 0.1947862241782394 | val loss: 0.18207822593988157 |\n",
      "Epoch:  61%|██████    | 122/200 [00:50<00:33,  2.33it/s]\n",
      "EP_121 | train loss: 0.19104794614455278 | val loss: 0.1766051404616412 |\n",
      "Epoch:  62%|██████▏   | 123/200 [00:51<00:33,  2.33it/s]\n",
      "EP_122 | train loss: 0.19738316863190894 | val loss: 0.17651562830981085 |\n",
      "Epoch:  62%|██████▏   | 124/200 [00:51<00:32,  2.35it/s]\n",
      "EP_123 | train loss: 0.18418582467471853 | val loss: 0.1675385692540337 |\n",
      "Epoch:  62%|██████▎   | 125/200 [00:52<00:32,  2.33it/s]\n",
      "EP_124 | train loss: 0.181553222618851 | val loss: 0.16353293493682264 |\n",
      "Epoch:  63%|██████▎   | 126/200 [00:52<00:31,  2.34it/s]\n",
      "EP_125 | train loss: 0.19155506947461295 | val loss: 0.16844496832174413 |\n",
      "Epoch:  64%|██████▎   | 127/200 [00:52<00:30,  2.37it/s]\n",
      "EP_126 | train loss: 0.16362484670152852 | val loss: 0.1527552511177811 |\n",
      "Epoch:  64%|██████▍   | 128/200 [00:53<00:30,  2.39it/s]\n",
      "EP_127 | train loss: 0.1597283019739039 | val loss: 0.14712047050980961 |\n",
      "Epoch:  64%|██████▍   | 129/200 [00:53<00:30,  2.35it/s]\n",
      "EP_128 | train loss: 0.15544853514316034 | val loss: 0.14037548794465907 |\n",
      "Epoch:  65%|██████▌   | 130/200 [00:54<00:29,  2.39it/s]\n",
      "EP_129 | train loss: 0.14960050466013888 | val loss: 0.14256512417512782 |\n",
      "Epoch:  66%|██████▌   | 131/200 [00:54<00:29,  2.37it/s]\n",
      "EP_130 | train loss: 0.15895887543173398 | val loss: 0.13822686847518473 |\n",
      "Epoch:  66%|██████▌   | 132/200 [00:54<00:28,  2.39it/s]\n",
      "EP_131 | train loss: 0.13875052040698482 | val loss: 0.12988845448867947 |\n",
      "Epoch:  66%|██████▋   | 133/200 [00:55<00:27,  2.40it/s]\n",
      "EP_132 | train loss: 0.14447720378052956 | val loss: 0.12450484551635443 |\n",
      "Epoch:  67%|██████▋   | 134/200 [00:55<00:27,  2.42it/s]\n",
      "EP_133 | train loss: 0.13063008364509135 | val loss: 0.12199804303692836 |\n",
      "Epoch:  68%|██████▊   | 135/200 [00:56<00:26,  2.42it/s]\n",
      "EP_134 | train loss: 0.13045105466655657 | val loss: 0.11371408490573659 |\n",
      "Epoch:  68%|██████▊   | 136/200 [00:56<00:27,  2.36it/s]\n",
      "EP_135 | train loss: 0.12097011827955059 | val loss: 0.10874527984974432 |\n",
      "Epoch:  68%|██████▊   | 137/200 [00:57<00:26,  2.38it/s]\n",
      "EP_136 | train loss: 0.11998513189016603 | val loss: 0.10474660583570891 |\n",
      "Epoch:  69%|██████▉   | 138/200 [00:57<00:25,  2.41it/s]\n",
      "EP_137 | train loss: 0.11249453273474001 | val loss: 0.10565336779052135 |\n",
      "Epoch:  70%|██████▉   | 139/200 [00:57<00:25,  2.42it/s]\n",
      "EP_138 | train loss: 0.10825688277973848 | val loss: 0.09651641284718233 |\n",
      "Epoch:  70%|███████   | 140/200 [00:58<00:24,  2.42it/s]\n",
      "EP_139 | train loss: 0.10717254432977415 | val loss: 0.09337515427785761 |\n",
      "Epoch:  70%|███████   | 141/200 [00:58<00:24,  2.40it/s]\n",
      "EP_140 | train loss: 0.11223239805184158 | val loss: 0.09586890772277233 |\n",
      "Epoch:  71%|███████   | 142/200 [00:59<00:24,  2.41it/s]\n",
      "EP_141 | train loss: 0.09577250410528744 | val loss: 0.08656951609779806 |\n",
      "Epoch:  72%|███████▏  | 143/200 [00:59<00:23,  2.41it/s]\n",
      "EP_142 | train loss: 0.09868929666631363 | val loss: 0.09606868028640747 |\n",
      "Epoch:  72%|███████▏  | 144/200 [00:59<00:23,  2.41it/s]\n",
      "EP_143 | train loss: 0.11508922366534963 | val loss: 0.11806570723945019 |\n",
      "Epoch:  72%|███████▎  | 145/200 [01:00<00:22,  2.40it/s]\n",
      "EP_144 | train loss: 0.09797735962213254 | val loss: 0.08354822736160428 |\n",
      "Epoch:  73%|███████▎  | 146/200 [01:00<00:22,  2.39it/s]\n",
      "EP_145 | train loss: 0.08681219792833515 | val loss: 0.07535274531327042 |\n",
      "Epoch:  74%|███████▎  | 147/200 [01:01<00:22,  2.38it/s]\n",
      "EP_146 | train loss: 0.07990848725917292 | val loss: 0.07245934067987929 |\n",
      "Epoch:  74%|███████▍  | 148/200 [01:01<00:21,  2.39it/s]\n",
      "EP_147 | train loss: 0.07887663350385778 | val loss: 0.06834378224961898 |\n",
      "Epoch:  74%|███████▍  | 149/200 [01:02<00:21,  2.36it/s]\n",
      "EP_148 | train loss: 0.09685422240519057 | val loss: 0.08305906197604011 |\n",
      "Epoch:  75%|███████▌  | 150/200 [01:02<00:21,  2.37it/s]\n",
      "EP_149 | train loss: 0.07044981647940243 | val loss: 0.06549501419067383 |\n",
      "Epoch:  76%|███████▌  | 151/200 [01:02<00:20,  2.35it/s]\n",
      "EP_150 | train loss: 0.07876348518857769 | val loss: 0.06857622750833922 |\n",
      "Epoch:  76%|███████▌  | 152/200 [01:03<00:20,  2.38it/s]\n",
      "EP_151 | train loss: 0.07306283326709971 | val loss: 0.06561143667090173 |\n",
      "Epoch:  76%|███████▋  | 153/200 [01:03<00:19,  2.40it/s]\n",
      "EP_152 | train loss: 0.06227821345422782 | val loss: 0.0593194666446424 |\n",
      "Epoch:  77%|███████▋  | 154/200 [01:04<00:19,  2.41it/s]\n",
      "EP_153 | train loss: 0.06084422387328802 | val loss: 0.056358912996217314 |\n",
      "Epoch:  78%|███████▊  | 155/200 [01:04<00:18,  2.42it/s]\n",
      "EP_154 | train loss: 0.057566368638300426 | val loss: 0.05377935428245395 |\n",
      "Epoch:  78%|███████▊  | 156/200 [01:05<00:18,  2.38it/s]\n",
      "EP_155 | train loss: 0.06129378068680857 | val loss: 0.05689279413690754 |\n",
      "Epoch:  78%|███████▊  | 157/200 [01:05<00:18,  2.38it/s]\n",
      "EP_156 | train loss: 0.058886064384497845 | val loss: 0.05480853862622205 |\n",
      "Epoch:  79%|███████▉  | 158/200 [01:05<00:17,  2.38it/s]\n",
      "EP_157 | train loss: 0.053783972356833666 | val loss: 0.056161594741484695 |\n",
      "Epoch:  80%|███████▉  | 159/200 [01:06<00:17,  2.39it/s]\n",
      "EP_158 | train loss: 0.06580675372890397 | val loss: 0.06125041433409149 |\n",
      "Epoch:  80%|████████  | 160/200 [01:06<00:16,  2.40it/s]\n",
      "EP_159 | train loss: 0.04773116012414296 | val loss: 0.04814466337362925 |\n",
      "Epoch:  80%|████████  | 161/200 [01:07<00:16,  2.37it/s]\n",
      "EP_160 | train loss: 0.04660944932816075 | val loss: 0.0461667083642062 |\n",
      "Epoch:  81%|████████  | 162/200 [01:07<00:15,  2.39it/s]\n",
      "EP_161 | train loss: 0.04326938478385701 | val loss: 0.04197793585412642 |\n",
      "Epoch:  82%|████████▏ | 163/200 [01:07<00:15,  2.38it/s]\n",
      "EP_162 | train loss: 0.055248925615759455 | val loss: 0.05266684089221206 |\n",
      "Epoch:  82%|████████▏ | 164/200 [01:08<00:15,  2.40it/s]\n",
      "EP_163 | train loss: 0.04580765278900371 | val loss: 0.0421180900405435 |\n",
      "Epoch:  82%|████████▎ | 165/200 [01:08<00:14,  2.40it/s]\n",
      "EP_164 | train loss: 0.04431290801833657 | val loss: 0.04605853849766301 |\n",
      "Epoch:  83%|████████▎ | 166/200 [01:09<00:14,  2.38it/s]\n",
      "EP_165 | train loss: 0.04878294356897765 | val loss: 0.0474751506950341 |\n",
      "Epoch:  84%|████████▎ | 167/200 [01:09<00:13,  2.41it/s]\n",
      "EP_166 | train loss: 0.035444519800298356 | val loss: 0.03568774228002511 |\n",
      "Epoch:  84%|████████▍ | 168/200 [01:10<00:13,  2.42it/s]\n",
      "EP_167 | train loss: 0.03865084852658066 | val loss: 0.03837639794630163 |\n",
      "Epoch:  84%|████████▍ | 169/200 [01:10<00:12,  2.44it/s]\n",
      "EP_168 | train loss: 0.03548904540492039 | val loss: 0.034508519897273944 |\n",
      "Epoch:  85%|████████▌ | 170/200 [01:10<00:12,  2.44it/s]\n",
      "EP_169 | train loss: 0.034043661052105476 | val loss: 0.0337620673372465 |\n",
      "Epoch:  86%|████████▌ | 171/200 [01:11<00:12,  2.40it/s]\n",
      "EP_170 | train loss: 0.030620664299703112 | val loss: 0.03040564286650396 |\n",
      "Epoch:  86%|████████▌ | 172/200 [01:11<00:11,  2.41it/s]\n",
      "EP_171 | train loss: 0.03144809323198655 | val loss: 0.03282445610738268 |\n",
      "Epoch:  86%|████████▋ | 173/200 [01:12<00:11,  2.42it/s]\n",
      "EP_172 | train loss: 0.03911707336996116 | val loss: 0.04061220673953786 |\n",
      "Epoch:  87%|████████▋ | 174/200 [01:12<00:10,  2.41it/s]\n",
      "EP_173 | train loss: 0.030068360064543928 | val loss: 0.02970932657812156 |\n",
      "Epoch:  88%|████████▊ | 175/200 [01:12<00:10,  2.41it/s]\n",
      "EP_174 | train loss: 0.02613242744815116 | val loss: 0.027131281062668443 |\n",
      "Epoch:  88%|████████▊ | 176/200 [01:13<00:10,  2.38it/s]\n",
      "EP_175 | train loss: 0.02734720341715158 | val loss: 0.029506792916971093 |\n",
      "Epoch:  88%|████████▊ | 177/200 [01:13<00:09,  2.40it/s]\n",
      "EP_176 | train loss: 0.030218322838053983 | val loss: 0.03257014602422714 |\n",
      "Epoch:  89%|████████▉ | 178/200 [01:14<00:09,  2.41it/s]\n",
      "EP_177 | train loss: 0.04061443437548245 | val loss: 0.04084284457505918 |\n",
      "Epoch:  90%|████████▉ | 179/200 [01:14<00:08,  2.42it/s]\n",
      "EP_178 | train loss: 0.026407632144058453 | val loss: 0.028739524238249835 |\n",
      "Epoch:  90%|█████████ | 180/200 [01:14<00:08,  2.43it/s]\n",
      "EP_179 | train loss: 0.027308337039807264 | val loss: 0.027316946317167842 |\n",
      "Epoch:  90%|█████████ | 181/200 [01:15<00:07,  2.41it/s]\n",
      "EP_180 | train loss: 0.0326763229042876 | val loss: 0.03278202841094896 |\n",
      "Epoch:  91%|█████████ | 182/200 [01:15<00:07,  2.42it/s]\n",
      "EP_181 | train loss: 0.028520618525205873 | val loss: 0.029380000908585155 |\n",
      "Epoch:  92%|█████████▏| 183/200 [01:16<00:07,  2.42it/s]\n",
      "EP_182 | train loss: 0.020613962762496052 | val loss: 0.023277546114781323 |\n",
      "Epoch:  92%|█████████▏| 184/200 [01:16<00:06,  2.43it/s]\n",
      "EP_183 | train loss: 0.020386636344825522 | val loss: 0.022427212739107655 |\n",
      "Epoch:  92%|█████████▎| 185/200 [01:17<00:06,  2.45it/s]\n",
      "EP_184 | train loss: 0.019894506212543038 | val loss: 0.02215034171354537 |\n",
      "Epoch:  93%|█████████▎| 186/200 [01:17<00:05,  2.41it/s]\n",
      "EP_185 | train loss: 0.019334050048800077 | val loss: 0.021879498207685994 |\n",
      "Epoch:  94%|█████████▎| 187/200 [01:17<00:05,  2.43it/s]\n",
      "EP_186 | train loss: 0.017628579747443106 | val loss: 0.019207267200245577 |\n",
      "Epoch:  94%|█████████▍| 188/200 [01:18<00:04,  2.44it/s]\n",
      "EP_187 | train loss: 0.018139169993353826 | val loss: 0.020592186344312688 |\n",
      "Epoch:  94%|█████████▍| 189/200 [01:18<00:04,  2.43it/s]\n",
      "EP_188 | train loss: 0.02287586138528936 | val loss: 0.025324505918166217 |\n",
      "Epoch:  95%|█████████▌| 190/200 [01:19<00:04,  2.41it/s]\n",
      "EP_189 | train loss: 0.02111340381351172 | val loss: 0.02299498912750506 |\n",
      "Epoch:  96%|█████████▌| 191/200 [01:19<00:03,  2.37it/s]\n",
      "EP_190 | train loss: 0.015974226345618566 | val loss: 0.017949078706841842 |\n",
      "Epoch:  96%|█████████▌| 192/200 [01:19<00:03,  2.38it/s]\n",
      "EP_191 | train loss: 0.01589497228463491 | val loss: 0.018440702784002994 |\n",
      "Epoch:  96%|█████████▋| 193/200 [01:20<00:02,  2.38it/s]\n",
      "EP_192 | train loss: 0.016187437024771 | val loss: 0.01828878022292081 |\n",
      "Epoch:  97%|█████████▋| 194/200 [01:20<00:02,  2.36it/s]\n",
      "EP_193 | train loss: 0.015104709404940698 | val loss: 0.016837648134313377 |\n",
      "Epoch:  98%|█████████▊| 195/200 [01:21<00:02,  2.37it/s]\n",
      "EP_194 | train loss: 0.014645883134182762 | val loss: 0.016146677381852093 |\n",
      "Epoch:  98%|█████████▊| 196/200 [01:21<00:01,  2.36it/s]\n",
      "EP_195 | train loss: 0.014073125565168904 | val loss: 0.01580160863551439 |\n",
      "Epoch:  98%|█████████▊| 197/200 [01:22<00:01,  2.38it/s]\n",
      "EP_196 | train loss: 0.014317855414222268 | val loss: 0.016179187004180515 |\n",
      "Epoch:  99%|█████████▉| 198/200 [01:22<00:00,  2.40it/s]\n",
      "EP_197 | train loss: 0.01688531418057049 | val loss: 0.020049899013019075 |\n",
      "Epoch: 100%|█████████▉| 199/200 [01:22<00:00,  2.40it/s]\n",
      "EP_198 | train loss: 0.013954427297793183 | val loss: 0.016111762062007307 |\n",
      "Epoch: 100%|██████████| 200/200 [01:23<00:00,  2.40it/s]\n",
      "EP_199 | train loss: 0.016714351054500132 | val loss: 0.018632113933563232 |\n",
      "\n"
     ]
    }
   ],
   "source": [
    "AttractiveTrainer.train()"
   ]
  },
  {
   "cell_type": "markdown",
   "metadata": {},
   "source": [
    "## Below is testing"
   ]
  },
  {
   "cell_type": "code",
   "execution_count": 6,
   "metadata": {},
   "outputs": [
    {
     "output_type": "execute_result",
     "data": {
      "text/plain": [
       "AttractiveNet(\n",
       "  (embedding): AttractiveEmbedding(\n",
       "    (token): TokenEmbedding(12699, 300, padding_idx=1)\n",
       "  )\n",
       "  (bigramcnn): Sequential(\n",
       "    (0): Conv1d(300, 220, kernel_size=(2,), stride=(1,), padding=(1,))\n",
       "    (1): ReLU()\n",
       "    (2): Conv1d(220, 100, kernel_size=(2,), stride=(1,), padding=(1,))\n",
       "    (3): ReLU()\n",
       "    (4): Dropout(p=0.5, inplace=False)\n",
       "  )\n",
       "  (trigramcnn): Sequential(\n",
       "    (0): Conv1d(300, 220, kernel_size=(3,), stride=(1,), padding=(1,))\n",
       "    (1): ReLU()\n",
       "    (2): Conv1d(220, 100, kernel_size=(3,), stride=(1,), padding=(1,))\n",
       "    (3): ReLU()\n",
       "    (4): Dropout(p=0.5, inplace=False)\n",
       "  )\n",
       "  (encoder_bigram): LSTM(100, 30, batch_first=True, dropout=0.5, bidirectional=True)\n",
       "  (encoder_trigram): LSTM(100, 30, batch_first=True, dropout=0.5, bidirectional=True)\n",
       "  (linear): Sequential(\n",
       "    (0): Linear(in_features=128, out_features=30, bias=True)\n",
       "    (1): ReLU()\n",
       "    (2): Linear(in_features=30, out_features=1, bias=True)\n",
       "  )\n",
       ")"
      ]
     },
     "metadata": {},
     "execution_count": 6
    }
   ],
   "source": [
    "from attractivenet import AttractiveNet\n",
    "\n",
    "PATH = './model/CNN_LSTM_20201109-165556/0.370776.75'\n",
    "\n",
    "load_model = AttractiveNet(config).to(AttractiveData.device)\n",
    "load_model.load_state_dict(torch.load(PATH))\n",
    "load_model.eval()"
   ]
  },
  {
   "cell_type": "code",
   "execution_count": 7,
   "metadata": {},
   "outputs": [],
   "source": [
    "def predict_attractive(sentence, category, phase):\n",
    "    indexed_sentence = [AttractiveData.TEXT.vocab.stoi[t] for t in sentence]\n",
    "    indexed_category = [AttractiveData.CATEGORIES_LABEL.vocab.stoi[category]]\n",
    "    tensor_sentence = torch.LongTensor(indexed_sentence).to(AttractiveData.device)\n",
    "    tensor_category = torch.LongTensor(indexed_category).to(AttractiveData.device)\n",
    "    tensor_sentence = tensor_sentence.unsqueeze(0)\n",
    "\n",
    "    prediction = load_model(tensor_sentence, tensor_category, phase=phase)\n",
    "\n",
    "    return prediction"
   ]
  },
  {
   "cell_type": "code",
   "execution_count": 8,
   "metadata": {
    "tags": []
   },
   "outputs": [],
   "source": [
    "# train mean = 3.15, test mean = 2.8\n",
    "predict_list = []\n",
    "with torch.no_grad():\n",
    "    for i, sentence in enumerate(AttractiveData.test_data):\n",
    "        prediction = predict_attractive(sentence.Headline, sentence.Category, 'test')\n",
    "        predict_list.append(prediction.item())\n",
    "        # predict_list.append(prediction.item())\n",
    "AttractiveData.df_test['Label'] = predict_list\n",
    "AttractiveData.df_test[['ID', 'Label']].to_csv(config['save_name'] + '.csv', index=False)"
   ]
  },
  {
   "cell_type": "markdown",
   "metadata": {},
   "source": [
    "## Below for statistics"
   ]
  },
  {
   "cell_type": "code",
   "execution_count": 9,
   "metadata": {},
   "outputs": [],
   "source": [
    "import statistics\n",
    "from sklearn.metrics import mean_squared_error"
   ]
  },
  {
   "cell_type": "code",
   "execution_count": 10,
   "metadata": {},
   "outputs": [],
   "source": [
    "# # train mean = 3.15, test mean = 2.8\n",
    "# train_list = []\n",
    "# for i, sentence in enumerate(AttractiveData.train_data):\n",
    "#     prediction = predict_attractive(sentence.Headline, sentence.Category, 'train')\n",
    "#     train_list.append(prediction.item())\n",
    "#     # train_list.append(prediction.item())\n",
    "# # print(train_list)\n",
    "# mean_squared_error(pd.read_csv('data/train.csv').sort_values(['ID']).Label.to_list(), train_list), statistics.mean(train_list), statistics.stdev(train_list)"
   ]
  },
  {
   "cell_type": "code",
   "execution_count": 11,
   "metadata": {},
   "outputs": [],
   "source": [
    "# train_list[0:5], pd.read_csv('data/train.csv').sort_values(['ID']).Label.to_list()[0:5]"
   ]
  },
  {
   "cell_type": "code",
   "execution_count": 12,
   "metadata": {},
   "outputs": [],
   "source": [
    "# a = AttractiveData.df_train['Label'].to_list()\n",
    "# statistics.mean(a), statistics.stdev(a)"
   ]
  },
  {
   "cell_type": "code",
   "execution_count": 13,
   "metadata": {},
   "outputs": [
    {
     "output_type": "execute_result",
     "data": {
      "text/plain": [
       "(2.7552507018202728, 0.3435281151998748)"
      ]
     },
     "metadata": {},
     "execution_count": 13
    }
   ],
   "source": [
    "statistics.mean(predict_list), statistics.stdev(predict_list)"
   ]
  },
  {
   "cell_type": "code",
   "execution_count": 14,
   "metadata": {},
   "outputs": [
    {
     "output_type": "execute_result",
     "data": {
      "text/plain": [
       "(0.008118223390903196, 2.7876357276009043, 0.3643672504501976)"
      ]
     },
     "metadata": {},
     "execution_count": 14
    }
   ],
   "source": [
    "baseline_list = pd.read_csv('baseline.csv').sort_values(['ID']).Label.to_list()\n",
    "mean_squared_error(baseline_list, predict_list), statistics.mean(baseline_list), statistics.stdev(baseline_list)"
   ]
  },
  {
   "cell_type": "code",
   "execution_count": null,
   "metadata": {},
   "outputs": [],
   "source": []
  },
  {
   "cell_type": "code",
   "execution_count": 15,
   "metadata": {},
   "outputs": [
    {
     "output_type": "execute_result",
     "data": {
      "text/plain": [
       "4.055494478172638e-05"
      ]
     },
     "metadata": {},
     "execution_count": 15
    }
   ],
   "source": [
    "mean_squared_error(pd.read_csv('baseline.csv').sort_values(['ID']).Label.to_list(), pd.read_csv('./CNN_LSTM.csv').sort_values(['ID']).Label.to_list())"
   ]
  },
  {
   "cell_type": "code",
   "execution_count": 13,
   "metadata": {},
   "outputs": [],
   "source": []
  },
  {
   "cell_type": "code",
   "execution_count": null,
   "metadata": {},
   "outputs": [],
   "source": []
  }
 ],
 "metadata": {
  "kernelspec": {
   "display_name": "DS_hw2",
   "language": "python",
   "name": "ds_hw2"
  },
  "language_info": {
   "codemirror_mode": {
    "name": "ipython",
    "version": 3
   },
   "file_extension": ".py",
   "mimetype": "text/x-python",
   "name": "python",
   "nbconvert_exporter": "python",
   "pygments_lexer": "ipython3",
   "version": "3.6.12-final"
  }
 },
 "nbformat": 4,
 "nbformat_minor": 4
}