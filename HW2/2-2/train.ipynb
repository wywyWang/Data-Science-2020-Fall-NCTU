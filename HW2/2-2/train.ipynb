{
 "cells": [
  {
   "cell_type": "code",
   "execution_count": 1,
   "metadata": {},
   "outputs": [],
   "source": [
    "# common packages\n",
    "import pandas as pd\n",
    "import time\n",
    "\n",
    "# # DL framework\n",
    "import torch\n",
    "from torchtext import data\n",
    "\n",
    "from attractivedata import AttractiveData\n",
    "from trainer import AttractiveTrainer"
   ]
  },
  {
   "source": [
    "# TODO: \n",
    "- [ ] change save epoch to > 30\n",
    "- [ ] ensemble all data"
   ],
   "cell_type": "markdown",
   "metadata": {}
  },
  {
   "cell_type": "markdown",
   "metadata": {},
   "source": [
    "## Load and prepare data"
   ]
  },
  {
   "cell_type": "code",
   "execution_count": 2,
   "metadata": {},
   "outputs": [],
   "source": [
    "train_file = 'data/train.csv'\n",
    "val_file = 'example/val.csv'\n",
    "test_file = 'data/test.csv'\n",
    "pretrained_file = 'glove.840B.300d'\n",
    "config = {\n",
    "    'max_seq': 40,\n",
    "    'min_freq': 0,\n",
    "    'batch_size': 64,\n",
    "    'pretrained_file': pretrained_file\n",
    "}\n"
   ]
  },
  {
   "cell_type": "code",
   "execution_count": 3,
   "metadata": {},
   "outputs": [],
   "source": [
    "AttractiveData = AttractiveData(train_file, val_file, test_file, pretrained_file, config)"
   ]
  },
  {
   "cell_type": "code",
   "execution_count": 4,
   "metadata": {},
   "outputs": [],
   "source": [
    "# for i, sentence in enumerate(AttractiveData.test_data):\n",
    "#     if i == 3:\n",
    "#         print(vars(AttractiveData.train_data[i]), vars(sentence))"
   ]
  },
  {
   "cell_type": "code",
   "execution_count": 5,
   "metadata": {},
   "outputs": [
    {
     "output_type": "execute_result",
     "data": {
      "text/plain": [
       "18"
      ]
     },
     "metadata": {},
     "execution_count": 5
    }
   ],
   "source": [
    "len(AttractiveData.CATEGORIES_LABEL.vocab.freqs)"
   ]
  },
  {
   "cell_type": "code",
   "execution_count": 6,
   "metadata": {},
   "outputs": [
    {
     "output_type": "execute_result",
     "data": {
      "text/plain": [
       "38"
      ]
     },
     "metadata": {},
     "execution_count": 6
    }
   ],
   "source": [
    "max_len = 0\n",
    "a = AttractiveData.train_data\n",
    "for i in range(len(a)):\n",
    "    if len(a[i].Headline) >= max_len:\n",
    "        max_len = len(a[i].Headline)\n",
    "max_len"
   ]
  },
  {
   "cell_type": "markdown",
   "metadata": {},
   "source": [
    "## Start to train"
   ]
  },
  {
   "cell_type": "code",
   "execution_count": 7,
   "metadata": {},
   "outputs": [
    {
     "output_type": "stream",
     "name": "stdout",
     "text": [
      "torch.Size([12699, 300])\n"
     ]
    }
   ],
   "source": [
    "config['timestr'] = time.strftime(\"%Y%m%d-%H%M%S\")\n",
    "config['save_name'] = 'CNN_LSTM'\n",
    "config['input_dim'] = len(AttractiveData.TEXT.vocab)\n",
    "config['embedding_dim'] = 300\n",
    "config['category_dim'] = len(AttractiveData.CATEGORIES_LABEL.vocab)\n",
    "config['category_embedding_dim'] = 8\n",
    "config['hidden_dim'] = 30\n",
    "config['output_dim'] = 1\n",
    "config['log_steps'] = 10\n",
    "config['epochs'] = 200\n",
    "config['lr'] = {\n",
    "    'encoder': 1e-5,\n",
    "    'embedding': 6e-6,\n",
    "    'linear': 1e-5\n",
    "}\n",
    "config['num_layers'] = 1\n",
    "config['kernel_size'] = 3\n",
    "config['dropout'] = 0.1\n",
    "config['train_len'] = AttractiveData.train_len\n",
    "config['val_len'] = AttractiveData.val_len\n",
    "config['test_len'] = AttractiveData.test_len\n",
    "\n",
    "pretrained_embeddings = AttractiveData.TEXT.vocab.vectors\n",
    "print(pretrained_embeddings.shape)"
   ]
  },
  {
   "cell_type": "code",
   "execution_count": 8,
   "metadata": {},
   "outputs": [],
   "source": [
    "AttractiveTrainer = AttractiveTrainer(config, AttractiveData.device, AttractiveData.trainloader, AttractiveData.valloader, pretrained_embeddings)"
   ]
  },
  {
   "cell_type": "code",
   "execution_count": 9,
   "metadata": {},
   "outputs": [
    {
     "output_type": "execute_result",
     "data": {
      "text/plain": [
       "(AttractiveNet(\n",
       "   (embedding): AttractiveEmbedding(\n",
       "     (token): TokenEmbedding(12699, 300, padding_idx=1)\n",
       "   )\n",
       "   (bigramcnn): Sequential(\n",
       "     (0): Conv1d(300, 200, kernel_size=(3,), stride=(1,), padding=(1,))\n",
       "     (1): ReLU()\n",
       "     (2): Conv1d(200, 100, kernel_size=(3,), stride=(1,), padding=(1,))\n",
       "     (3): ReLU()\n",
       "   )\n",
       "   (trigramcnn): Sequential(\n",
       "     (0): Conv1d(300, 200, kernel_size=(3,), stride=(1,), padding=(1,))\n",
       "     (1): ReLU()\n",
       "     (2): Conv1d(200, 100, kernel_size=(3,), stride=(1,), padding=(1,))\n",
       "     (3): ReLU()\n",
       "   )\n",
       "   (encoder_bigram): LSTM(100, 30, batch_first=True, dropout=0.1, bidirectional=True)\n",
       "   (encoder_trigram): LSTM(100, 30, batch_first=True, dropout=0.1, bidirectional=True)\n",
       "   (linear): Sequential(\n",
       "     (0): Linear(in_features=120, out_features=30, bias=True)\n",
       "     (1): ReLU()\n",
       "     (2): Linear(in_features=30, out_features=1, bias=True)\n",
       "   )\n",
       " ),\n",
       " 4357321,\n",
       " 4357321)"
      ]
     },
     "metadata": {},
     "execution_count": 9
    }
   ],
   "source": [
    "AttractiveTrainer.model, AttractiveTrainer.config['total_params'], AttractiveTrainer.config['total_learned_params']"
   ]
  },
  {
   "cell_type": "code",
   "execution_count": 10,
   "metadata": {
    "tags": [
     "outputPrepend"
    ]
   },
   "outputs": [
    {
     "output_type": "stream",
     "name": "stderr",
     "text": [
      " 28%|██▊       | 57/200 [00:22<00:56,  2.55it/s]\n",
      "EP_train | train loss: 0.41313438509024825 | val loss: 0.3396399669787463 |\n",
      "====\n",
      "Epoch:  29%|██▉       | 58/200 [00:22<00:55,  2.55it/s]\n",
      "EP_train | train loss: 0.4106382725285549 | val loss: 0.3377929943449357 |\n",
      "====\n",
      "Epoch:  30%|██▉       | 59/200 [00:23<00:55,  2.56it/s]\n",
      "EP_train | train loss: 0.4092749343198888 | val loss: 0.3396182656288147 |\n",
      "====\n",
      "Epoch:  30%|███       | 60/200 [00:23<00:54,  2.57it/s]\n",
      "EP_train | train loss: 0.4065582939222747 | val loss: 0.33435513751179563 |\n",
      "====\n",
      "Epoch:  30%|███       | 61/200 [00:24<00:54,  2.54it/s]\n",
      "EP_train | train loss: 0.40418132333194506 | val loss: 0.3336371475575017 |\n",
      "====\n",
      "Epoch:  31%|███       | 62/200 [00:24<00:54,  2.55it/s]\n",
      "EP_train | train loss: 0.40233098058139577 | val loss: 0.33080122809784085 |\n",
      "====\n",
      "Epoch:  32%|███▏      | 63/200 [00:24<00:53,  2.56it/s]\n",
      "EP_train | train loss: 0.39976469395207426 | val loss: 0.3291642998947817 |\n",
      "====\n",
      "Epoch:  32%|███▏      | 64/200 [00:25<00:53,  2.56it/s]\n",
      "EP_train | train loss: 0.39871844777873916 | val loss: 0.3317569909142513 |\n",
      "====\n",
      "Epoch:  32%|███▎      | 65/200 [00:25<00:52,  2.57it/s]\n",
      "EP_train | train loss: 0.3957708760803821 | val loss: 0.32905852853083145 |\n",
      "====\n",
      "Epoch:  33%|███▎      | 66/200 [00:26<00:52,  2.55it/s]\n",
      "EP_train | train loss: 0.3928203311620974 | val loss: 0.32485731442769367 |\n",
      "====\n",
      "Epoch:  34%|███▎      | 67/200 [00:26<00:52,  2.56it/s]\n",
      "EP_train | train loss: 0.3906996306251077 | val loss: 0.32397713731316957 |\n",
      "====\n",
      "Epoch:  34%|███▍      | 68/200 [00:26<00:51,  2.56it/s]\n",
      "EP_train | train loss: 0.38926186187594547 | val loss: 0.32408569782387975 |\n",
      "====\n",
      "Epoch:  34%|███▍      | 69/200 [00:27<00:51,  2.56it/s]\n",
      "EP_train | train loss: 0.3852961446724686 | val loss: 0.321069573654848 |\n",
      "====\n",
      "Epoch:  35%|███▌      | 70/200 [00:27<00:50,  2.56it/s]\n",
      "EP_train | train loss: 0.3832642957275989 | val loss: 0.320288384661955 |\n",
      "====\n",
      "Epoch:  36%|███▌      | 71/200 [00:27<00:50,  2.53it/s]\n",
      "EP_train | train loss: 0.3806172352211148 | val loss: 0.31898244923236324 |\n",
      "====\n",
      "Epoch:  36%|███▌      | 72/200 [00:28<00:50,  2.55it/s]\n",
      "EP_train | train loss: 0.3785507693010218 | val loss: 0.3161325898824954 |\n",
      "====\n",
      "Epoch:  36%|███▋      | 73/200 [00:28<00:49,  2.55it/s]\n",
      "EP_train | train loss: 0.3758801002128451 | val loss: 0.31567688198650584 |\n",
      "====\n",
      "Epoch:  37%|███▋      | 74/200 [00:29<00:49,  2.56it/s]\n",
      "EP_train | train loss: 0.3732931894414565 | val loss: 0.3139420367923437 |\n",
      "====\n",
      "Epoch:  38%|███▊      | 75/200 [00:29<00:48,  2.57it/s]\n",
      "EP_train | train loss: 0.3701514702217252 | val loss: 0.31215809431730535 |\n",
      "====\n",
      "Epoch:  38%|███▊      | 76/200 [00:29<00:48,  2.54it/s]\n",
      "EP_train | train loss: 0.3715355185901417 | val loss: 0.311840180088492 |\n",
      "====\n",
      "Epoch:  38%|███▊      | 77/200 [00:30<00:48,  2.52it/s]\n",
      "EP_train | train loss: 0.36673218736461566 | val loss: 0.3091222334141825 |\n",
      "====\n",
      "Epoch:  39%|███▉      | 78/200 [00:30<00:48,  2.54it/s]\n",
      "EP_train | train loss: 0.3638288231456981 | val loss: 0.3068627241779776 |\n",
      "====\n",
      "Epoch:  40%|███▉      | 79/200 [00:31<00:47,  2.55it/s]\n",
      "EP_train | train loss: 0.3597049928178974 | val loss: 0.3067982611702938 |\n",
      "====\n",
      "Epoch:  40%|████      | 80/200 [00:31<00:46,  2.56it/s]\n",
      "EP_train | train loss: 0.35594802370258405 | val loss: 0.30344294566734165 |\n",
      "====\n",
      "Epoch:  40%|████      | 81/200 [00:31<00:46,  2.54it/s]\n",
      "EP_train | train loss: 0.3541771379171633 | val loss: 0.30039223035176593 |\n",
      "====\n",
      "Epoch:  41%|████      | 82/200 [00:32<00:46,  2.55it/s]\n",
      "EP_train | train loss: 0.3506103534324496 | val loss: 0.30027085484242905 |\n",
      "====\n",
      "Epoch:  42%|████▏     | 83/200 [00:32<00:45,  2.55it/s]\n",
      "EP_train | train loss: 0.3476518649680942 | val loss: 0.29793745571491764 |\n",
      "====\n",
      "Epoch:  42%|████▏     | 84/200 [00:33<00:45,  2.55it/s]\n",
      "EP_train | train loss: 0.3496821356754677 | val loss: 0.3009105926635219 |\n",
      "====\n",
      "Epoch:  42%|████▎     | 85/200 [00:33<00:45,  2.54it/s]\n",
      "EP_train | train loss: 0.3416448719361249 | val loss: 0.293012784392226 |\n",
      "====\n",
      "Epoch:  43%|████▎     | 86/200 [00:33<00:45,  2.51it/s]\n",
      "EP_train | train loss: 0.33853849429710237 | val loss: 0.2908191891277538 |\n",
      "====\n",
      "Epoch:  44%|████▎     | 87/200 [00:34<00:44,  2.53it/s]\n",
      "EP_train | train loss: 0.33569051985647164 | val loss: 0.290094338795718 |\n",
      "====\n",
      "Epoch:  44%|████▍     | 88/200 [00:34<00:44,  2.54it/s]\n",
      "EP_train | train loss: 0.33015007972717286 | val loss: 0.2862791407342051 |\n",
      "====\n",
      "Epoch:  44%|████▍     | 89/200 [00:35<00:43,  2.56it/s]\n",
      "EP_train | train loss: 0.32889488584855026 | val loss: 0.28565537578919353 |\n",
      "====\n",
      "Epoch:  45%|████▌     | 90/200 [00:35<00:43,  2.54it/s]\n",
      "EP_train | train loss: 0.329709212920245 | val loss: 0.2855747879720202 |\n",
      "====\n",
      "Epoch:  46%|████▌     | 91/200 [00:35<00:43,  2.53it/s]\n",
      "EP_train | train loss: 0.32239105140461644 | val loss: 0.2805355021766588 |\n",
      "====\n",
      "Epoch:  46%|████▌     | 92/200 [00:36<00:42,  2.56it/s]\n",
      "EP_train | train loss: 0.3182996006572948 | val loss: 0.2778940685823852 |\n",
      "====\n",
      "Epoch:  46%|████▋     | 93/200 [00:36<00:41,  2.56it/s]\n",
      "EP_train | train loss: 0.3130943765827254 | val loss: 0.27282219307095396 |\n",
      "====\n",
      "Epoch:  47%|████▋     | 94/200 [00:37<00:41,  2.56it/s]\n",
      "EP_train | train loss: 0.3134162150177301 | val loss: 0.2746194741305183 |\n",
      "====\n",
      "Epoch:  48%|████▊     | 95/200 [00:37<00:41,  2.55it/s]\n",
      "EP_train | train loss: 0.3082555934494617 | val loss: 0.27227358782992644 |\n",
      "====\n",
      "Epoch:  48%|████▊     | 96/200 [00:37<00:41,  2.53it/s]\n",
      "EP_train | train loss: 0.3006945338903689 | val loss: 0.26396681572876723 |\n",
      "====\n",
      "Epoch:  48%|████▊     | 97/200 [00:38<00:40,  2.55it/s]\n",
      "EP_train | train loss: 0.2952152350369622 | val loss: 0.259601436993655 |\n",
      "====\n",
      "Epoch:  49%|████▉     | 98/200 [00:38<00:39,  2.56it/s]\n",
      "EP_train | train loss: 0.29311323165893555 | val loss: 0.2600155595470877 |\n",
      "====\n",
      "Epoch:  50%|████▉     | 99/200 [00:38<00:39,  2.56it/s]\n",
      "EP_train | train loss: 0.28933324720345294 | val loss: 0.25520400381555747 |\n",
      "====\n",
      "Epoch:  50%|█████     | 100/200 [00:39<00:38,  2.57it/s]\n",
      "EP_train | train loss: 0.28906127705293544 | val loss: 0.2555428392746869 |\n",
      "====\n",
      "Epoch:  50%|█████     | 101/200 [00:39<00:39,  2.54it/s]\n",
      "EP_train | train loss: 0.2775485253801533 | val loss: 0.24679949003107407 |\n",
      "====\n",
      "Epoch:  51%|█████     | 102/200 [00:40<00:38,  2.55it/s]\n",
      "EP_train | train loss: 0.273557373121673 | val loss: 0.24334519517187977 |\n",
      "====\n",
      "Epoch:  52%|█████▏    | 103/200 [00:40<00:37,  2.56it/s]\n",
      "EP_train | train loss: 0.26845907510495653 | val loss: 0.23986906865063837 |\n",
      "====\n",
      "Epoch:  52%|█████▏    | 104/200 [00:40<00:37,  2.57it/s]\n",
      "EP_train | train loss: 0.263322712393368 | val loss: 0.23605774722847284 |\n",
      "====\n",
      "Epoch:  52%|█████▎    | 105/200 [00:41<00:37,  2.55it/s]\n",
      "EP_train | train loss: 0.2580716689427694 | val loss: 0.2321589577431772 |\n",
      "====\n",
      "Epoch:  53%|█████▎    | 106/200 [00:41<00:37,  2.53it/s]\n",
      "EP_train | train loss: 0.2523854325799381 | val loss: 0.23007981040898492 |\n",
      "====\n",
      "Epoch:  54%|█████▎    | 107/200 [00:42<00:37,  2.51it/s]\n",
      "EP_train | train loss: 0.2453972246132645 | val loss: 0.22361283851604835 |\n",
      "====\n",
      "Epoch:  54%|█████▍    | 108/200 [00:42<00:36,  2.53it/s]\n",
      "EP_train | train loss: 0.23954672532923083 | val loss: 0.2187974675028932 |\n",
      "====\n",
      "Epoch:  55%|█████▍    | 109/200 [00:42<00:35,  2.53it/s]\n",
      "EP_train | train loss: 0.23437989552815755 | val loss: 0.21354004390099468 |\n",
      "====\n",
      "Epoch:  55%|█████▌    | 110/200 [00:43<00:35,  2.54it/s]\n",
      "EP_train | train loss: 0.2333991522882499 | val loss: 0.21510937400892668 |\n",
      "====\n",
      "Epoch:  56%|█████▌    | 111/200 [00:43<00:35,  2.51it/s]\n",
      "EP_train | train loss: 0.22150542782802207 | val loss: 0.20164969797227897 |\n",
      "====\n",
      "Epoch:  56%|█████▌    | 112/200 [00:44<00:34,  2.54it/s]\n",
      "EP_train | train loss: 0.21719701640746172 | val loss: 0.19753547363421498 |\n",
      "====\n",
      "Epoch:  56%|█████▋    | 113/200 [00:44<00:34,  2.54it/s]\n",
      "EP_train | train loss: 0.21477130067114736 | val loss: 0.19888346101723464 |\n",
      "====\n",
      "Epoch:  57%|█████▋    | 114/200 [00:44<00:33,  2.55it/s]\n",
      "EP_train | train loss: 0.2157387279996685 | val loss: 0.20024208812152638 |\n",
      "====\n",
      "Epoch:  57%|█████▊    | 115/200 [00:45<00:33,  2.56it/s]\n",
      "EP_train | train loss: 0.19745077619365617 | val loss: 0.18343086277737336 |\n",
      "====\n",
      "Epoch:  58%|█████▊    | 116/200 [00:45<00:33,  2.54it/s]\n",
      "EP_train | train loss: 0.20557478362438725 | val loss: 0.19098655850279564 |\n",
      "====\n",
      "Epoch:  58%|█████▊    | 117/200 [00:46<00:33,  2.50it/s]\n",
      "EP_train | train loss: 0.17980824475194893 | val loss: 0.1668664719544205 |\n",
      "====\n",
      "Epoch:  59%|█████▉    | 118/200 [00:46<00:32,  2.52it/s]\n",
      "EP_train | train loss: 0.2279894043417538 | val loss: 0.21774540052694433 |\n",
      "====\n",
      "Epoch:  60%|█████▉    | 119/200 [00:46<00:31,  2.54it/s]\n",
      "EP_train | train loss: 0.17260538222743016 | val loss: 0.15991117849069483 |\n",
      "====\n",
      "Epoch:  60%|██████    | 120/200 [00:47<00:31,  2.55it/s]\n",
      "EP_train | train loss: 0.1589212733156541 | val loss: 0.14632113803835475 |\n",
      "====\n",
      "Epoch:  60%|██████    | 121/200 [00:47<00:31,  2.50it/s]\n",
      "EP_train | train loss: 0.1510133287485908 | val loss: 0.13857021109730588 |\n",
      "====\n",
      "Epoch:  61%|██████    | 122/200 [00:48<00:30,  2.52it/s]\n",
      "EP_train | train loss: 0.14376037097444722 | val loss: 0.13489789296598995 |\n",
      "====\n",
      "Epoch:  62%|██████▏   | 123/200 [00:48<00:30,  2.54it/s]\n",
      "EP_train | train loss: 0.14068954154556873 | val loss: 0.12807305274056455 |\n",
      "====\n",
      "Epoch:  62%|██████▏   | 124/200 [00:48<00:29,  2.55it/s]\n",
      "EP_train | train loss: 0.1281857922965405 | val loss: 0.11545208417901806 |\n",
      "====\n",
      "Epoch:  62%|██████▎   | 125/200 [00:49<00:29,  2.55it/s]\n",
      "EP_train | train loss: 0.14026357239367915 | val loss: 0.13015423802768483 |\n",
      "====\n",
      "Epoch:  63%|██████▎   | 126/200 [00:49<00:29,  2.53it/s]\n",
      "EP_train | train loss: 0.11548759586670819 | val loss: 0.10446931684718412 |\n",
      "====\n",
      "Epoch:  64%|██████▎   | 127/200 [00:49<00:28,  2.55it/s]\n",
      "EP_train | train loss: 0.12278033798816157 | val loss: 0.11514108438117832 |\n",
      "====\n",
      "Epoch:  64%|██████▍   | 128/200 [00:50<00:28,  2.55it/s]\n",
      "EP_train | train loss: 0.10386192155819313 | val loss: 0.09381298662400712 |\n",
      "====\n",
      "Epoch:  64%|██████▍   | 129/200 [00:50<00:27,  2.54it/s]\n",
      "EP_train | train loss: 0.09359171542466856 | val loss: 0.08368013653100706 |\n",
      "====\n",
      "Epoch:  65%|██████▌   | 130/200 [00:51<00:27,  2.55it/s]\n",
      "EP_train | train loss: 0.08706376739576752 | val loss: 0.07888158133216933 |\n",
      "====\n",
      "Epoch:  66%|██████▌   | 131/200 [00:51<00:27,  2.52it/s]\n",
      "EP_train | train loss: 0.0826085929777108 | val loss: 0.07225282051984001 |\n",
      "====\n",
      "Epoch:  66%|██████▌   | 132/200 [00:51<00:26,  2.54it/s]\n",
      "EP_train | train loss: 0.07462909233336355 | val loss: 0.06417686273069943 |\n",
      "====\n",
      "Epoch:  66%|██████▋   | 133/200 [00:52<00:26,  2.54it/s]\n",
      "EP_train | train loss: 0.07475011512344959 | val loss: 0.06559496153803433 |\n",
      "====\n",
      "Epoch:  67%|██████▋   | 134/200 [00:52<00:26,  2.45it/s]\n",
      "EP_train | train loss: 0.06562905919318106 | val loss: 0.05631335459503473 |\n",
      "====\n",
      "Epoch:  68%|██████▊   | 135/200 [00:53<00:26,  2.42it/s]\n",
      "EP_train | train loss: 0.09868981697980095 | val loss: 0.09912497506422155 |\n",
      "====\n",
      "Epoch:  68%|██████▊   | 136/200 [00:53<00:26,  2.42it/s]\n",
      "EP_train | train loss: 0.05716165017847921 | val loss: 0.050378120705193166 |\n",
      "====\n",
      "Epoch:  68%|██████▊   | 137/200 [00:54<00:25,  2.46it/s]\n",
      "EP_train | train loss: 0.05655079612544939 | val loss: 0.047616969282720606 |\n",
      "====\n",
      "Epoch:  69%|██████▉   | 138/200 [00:54<00:25,  2.46it/s]\n",
      "EP_train | train loss: 0.05222491224606832 | val loss: 0.043599955007141714 |\n",
      "====\n",
      "Epoch:  70%|██████▉   | 139/200 [00:54<00:24,  2.50it/s]\n",
      "EP_train | train loss: 0.08624979140711765 | val loss: 0.08689887792456384 |\n",
      "====\n",
      "Epoch:  70%|███████   | 140/200 [00:55<00:23,  2.52it/s]\n",
      "EP_train | train loss: 0.06264053326027066 | val loss: 0.0579232383592456 |\n",
      "====\n",
      "Epoch:  70%|███████   | 141/200 [00:55<00:23,  2.50it/s]\n",
      "EP_train | train loss: 0.04466847134571449 | val loss: 0.040312165430947844 |\n",
      "====\n",
      "Epoch:  71%|███████   | 142/200 [00:56<00:23,  2.52it/s]\n",
      "EP_train | train loss: 0.04997508420663722 | val loss: 0.051720898817567265 |\n",
      "====\n",
      "Epoch:  72%|███████▏  | 143/200 [00:56<00:22,  2.53it/s]\n",
      "EP_train | train loss: 0.0359437646819096 | val loss: 0.032643354844813254 |\n",
      "====\n",
      "Epoch:  72%|███████▏  | 144/200 [00:56<00:22,  2.52it/s]\n",
      "EP_train | train loss: 0.05435917377471924 | val loss: 0.05912294399504568 |\n",
      "====\n",
      "Epoch:  72%|███████▎  | 145/200 [00:57<00:21,  2.53it/s]\n",
      "EP_train | train loss: 0.046835126946954166 | val loss: 0.04045498546432046 |\n",
      "====\n",
      "Epoch:  73%|███████▎  | 146/200 [00:57<00:21,  2.50it/s]\n",
      "EP_train | train loss: 0.027061560983751336 | val loss: 0.023066804981699177 |\n",
      "====\n",
      "Epoch:  74%|███████▎  | 147/200 [00:57<00:20,  2.53it/s]\n",
      "EP_train | train loss: 0.02335296401790544 | val loss: 0.02018331225011863 |\n",
      "====\n",
      "Epoch:  74%|███████▍  | 148/200 [00:58<00:20,  2.53it/s]\n",
      "EP_train | train loss: 0.023233360461160247 | val loss: 0.020689859401945974 |\n",
      "====\n",
      "Epoch:  74%|███████▍  | 149/200 [00:58<00:20,  2.53it/s]\n",
      "EP_train | train loss: 0.026815789119870054 | val loss: 0.020508823879793577 |\n",
      "====\n",
      "Epoch:  75%|███████▌  | 150/200 [00:59<00:19,  2.54it/s]\n",
      "EP_train | train loss: 0.04835619330406189 | val loss: 0.03990400567942975 |\n",
      "====\n",
      "Epoch:  76%|███████▌  | 151/200 [00:59<00:19,  2.52it/s]\n",
      "EP_train | train loss: 0.04000444949841967 | val loss: 0.03304188552440381 |\n",
      "====\n",
      "Epoch:  76%|███████▌  | 152/200 [00:59<00:18,  2.54it/s]\n",
      "EP_train | train loss: 0.04376978850832172 | val loss: 0.038934806982676186 |\n",
      "====\n",
      "Epoch:  76%|███████▋  | 153/200 [01:00<00:18,  2.55it/s]\n",
      "EP_train | train loss: 0.020959591456488066 | val loss: 0.02261470499284127 |\n",
      "====\n",
      "Epoch:  77%|███████▋  | 154/200 [01:00<00:17,  2.56it/s]\n",
      "EP_train | train loss: 0.0159123291571935 | val loss: 0.014217004179954529 |\n",
      "====\n",
      "Epoch:  78%|███████▊  | 155/200 [01:01<00:17,  2.52it/s]\n",
      "EP_train | train loss: 0.015953516434220705 | val loss: 0.013909263426766676 |\n",
      "====\n",
      "Epoch:  78%|███████▊  | 156/200 [01:01<00:17,  2.51it/s]\n",
      "EP_train | train loss: 0.013177124367040747 | val loss: 0.01444908998468343 |\n",
      "====\n",
      "Epoch:  78%|███████▊  | 157/200 [01:01<00:17,  2.51it/s]\n",
      "EP_train | train loss: 0.011656961926058227 | val loss: 0.010960797432298754 |\n",
      "====\n",
      "Epoch:  79%|███████▉  | 158/200 [01:02<00:16,  2.53it/s]\n",
      "EP_train | train loss: 0.014550640331763847 | val loss: 0.01870427638584492 |\n",
      "====\n",
      "Epoch:  80%|███████▉  | 159/200 [01:02<00:16,  2.51it/s]\n",
      "EP_train | train loss: 0.009899431788453868 | val loss: 0.01180571781507894 |\n",
      "====\n",
      "Epoch:  80%|████████  | 160/200 [01:03<00:15,  2.53it/s]\n",
      "EP_train | train loss: 0.022399208300253923 | val loss: 0.028638915980563444 |\n",
      "====\n",
      "Epoch:  80%|████████  | 161/200 [01:03<00:15,  2.52it/s]\n",
      "EP_train | train loss: 0.017279450975212395 | val loss: 0.01427077896454755 |\n",
      "====\n",
      "Epoch:  81%|████████  | 162/200 [01:03<00:14,  2.54it/s]\n",
      "EP_train | train loss: 0.008300955856547635 | val loss: 0.008765216843754637 |\n",
      "====\n",
      "Epoch:  82%|████████▏ | 163/200 [01:04<00:14,  2.54it/s]\n",
      "EP_train | train loss: 0.009305138637622197 | val loss: 0.008795448487588004 |\n",
      "====\n",
      "Epoch:  82%|████████▏ | 164/200 [01:04<00:14,  2.54it/s]\n",
      "EP_train | train loss: 0.018085408970421435 | val loss: 0.015504674072943482 |\n",
      "====\n",
      "Epoch:  82%|████████▎ | 165/200 [01:05<00:13,  2.54it/s]\n",
      "EP_train | train loss: 0.0063263620669935265 | val loss: 0.007605427474367852 |\n",
      "====\n",
      "Epoch:  83%|████████▎ | 166/200 [01:05<00:13,  2.51it/s]\n",
      "EP_train | train loss: 0.008963479014003978 | val loss: 0.01340143766035052 |\n",
      "====\n",
      "Epoch:  84%|████████▎ | 167/200 [01:05<00:13,  2.54it/s]\n",
      "EP_train | train loss: 0.008585507086679047 | val loss: 0.007540148189839195 |\n",
      "====\n",
      "Epoch:  84%|████████▍ | 168/200 [01:06<00:12,  2.53it/s]\n",
      "EP_train | train loss: 0.005801162320901366 | val loss: 0.007988919668337879 |\n",
      "====\n",
      "Epoch:  84%|████████▍ | 169/200 [01:06<00:12,  2.54it/s]\n",
      "EP_train | train loss: 0.00547403817375501 | val loss: 0.008134801744246016 |\n",
      "====\n",
      "Epoch:  85%|████████▌ | 170/200 [01:07<00:11,  2.55it/s]\n",
      "EP_train | train loss: 0.005139444023370743 | val loss: 0.007778429554081431 |\n",
      "====\n",
      "Epoch:  86%|████████▌ | 171/200 [01:07<00:11,  2.52it/s]\n",
      "EP_train | train loss: 0.005788494047580981 | val loss: 0.009637869821459638 |\n",
      "====\n",
      "Epoch:  86%|████████▌ | 172/200 [01:07<00:11,  2.54it/s]\n",
      "EP_train | train loss: 0.004673674278983883 | val loss: 0.007117840917963607 |\n",
      "====\n",
      "Epoch:  86%|████████▋ | 173/200 [01:08<00:10,  2.56it/s]\n",
      "EP_train | train loss: 0.008444752997043087 | val loss: 0.007317910883940903 |\n",
      "====\n",
      "Epoch:  87%|████████▋ | 174/200 [01:08<00:10,  2.53it/s]\n",
      "EP_train | train loss: 0.0035564261689489964 | val loss: 0.005676992328874036 |\n",
      "====\n",
      "Epoch:  88%|████████▊ | 175/200 [01:09<00:09,  2.53it/s]\n",
      "EP_train | train loss: 0.003651968733060594 | val loss: 0.005142790320165017 |\n",
      "====\n",
      "Epoch:  88%|████████▊ | 176/200 [01:09<00:09,  2.50it/s]\n",
      "EP_train | train loss: 0.004346417153582853 | val loss: 0.004893553169334636 |\n",
      "====\n",
      "Epoch:  88%|████████▊ | 177/200 [01:09<00:09,  2.53it/s]\n",
      "EP_train | train loss: 0.010230662191615385 | val loss: 0.008114968810011359 |\n",
      "====\n",
      "Epoch:  89%|████████▉ | 178/200 [01:10<00:08,  2.56it/s]\n",
      "EP_train | train loss: 0.00454918707848764 | val loss: 0.005363535537731414 |\n",
      "====\n",
      "Epoch:  90%|████████▉ | 179/200 [01:10<00:08,  2.54it/s]\n",
      "EP_train | train loss: 0.003936757892370224 | val loss: 0.004996069542625371 |\n",
      "====\n",
      "Epoch:  90%|█████████ | 180/200 [01:11<00:07,  2.55it/s]\n",
      "EP_train | train loss: 0.0030573268220120786 | val loss: 0.004427579834180719 |\n",
      "====\n",
      "Epoch:  90%|█████████ | 181/200 [01:11<00:07,  2.52it/s]\n",
      "EP_train | train loss: 0.002990159253571548 | val loss: 0.005579788694340808 |\n",
      "====\n",
      "Epoch:  91%|█████████ | 182/200 [01:11<00:07,  2.55it/s]\n",
      "EP_train | train loss: 0.0022702953577333805 | val loss: 0.004088129775196898 |\n",
      "====\n",
      "Epoch:  92%|█████████▏| 183/200 [01:12<00:06,  2.56it/s]\n",
      "EP_train | train loss: 0.0034701700523203493 | val loss: 0.007116869347644788 |\n",
      "====\n",
      "Epoch:  92%|█████████▏| 184/200 [01:12<00:06,  2.57it/s]\n",
      "EP_train | train loss: 0.003306276800439638 | val loss: 0.003777495603643212 |\n",
      "====\n",
      "Epoch:  92%|█████████▎| 185/200 [01:12<00:05,  2.58it/s]\n",
      "EP_train | train loss: 0.0020890120909932784 | val loss: 0.004098786990724358 |\n",
      "====\n",
      "Epoch:  93%|█████████▎| 186/200 [01:13<00:05,  2.54it/s]\n",
      "EP_train | train loss: 0.002748124600917685 | val loss: 0.005880942568182945 |\n",
      "====\n",
      "Epoch:  94%|█████████▎| 187/200 [01:13<00:05,  2.55it/s]\n",
      "EP_train | train loss: 0.0028355501336502094 | val loss: 0.0033678187093898362 |\n",
      "====\n",
      "Epoch:  94%|█████████▍| 188/200 [01:14<00:04,  2.56it/s]\n",
      "EP_train | train loss: 0.0033635755160859987 | val loss: 0.0073279180363112805 |\n",
      "====\n",
      "Epoch:  94%|█████████▍| 189/200 [01:14<00:04,  2.57it/s]\n",
      "EP_train | train loss: 0.003959156039590929 | val loss: 0.003918195472044104 |\n",
      "====\n",
      "Epoch:  95%|█████████▌| 190/200 [01:14<00:03,  2.58it/s]\n",
      "EP_train | train loss: 0.0016456643247282972 | val loss: 0.00411611325198821 |\n",
      "====\n",
      "Epoch:  96%|█████████▌| 191/200 [01:15<00:03,  2.54it/s]\n",
      "EP_train | train loss: 0.005071831808662882 | val loss: 0.010145231204874375 |\n",
      "====\n",
      "Epoch:  96%|█████████▌| 192/200 [01:15<00:03,  2.56it/s]\n",
      "EP_train | train loss: 0.001490179224706748 | val loss: 0.003823989098343779 |\n",
      "====\n",
      "Epoch:  96%|█████████▋| 193/200 [01:16<00:02,  2.57it/s]\n",
      "EP_train | train loss: 0.001440172043501162 | val loss: 0.004036674349039209 |\n",
      "====\n",
      "Epoch:  97%|█████████▋| 194/200 [01:16<00:02,  2.57it/s]\n",
      "EP_train | train loss: 0.0015747193776655432 | val loss: 0.0031305800977290844 |\n",
      "====\n",
      "Epoch:  98%|█████████▊| 195/200 [01:16<00:01,  2.56it/s]\n",
      "EP_train | train loss: 0.0012465006817935728 | val loss: 0.003409459821733774 |\n",
      "====\n",
      "Epoch:  98%|█████████▊| 196/200 [01:17<00:01,  2.49it/s]\n",
      "EP_train | train loss: 0.0019202953423647319 | val loss: 0.0053296666227135 |\n",
      "====\n",
      "Epoch:  98%|█████████▊| 197/200 [01:17<00:01,  2.51it/s]\n",
      "EP_train | train loss: 0.0013331318931544527 | val loss: 0.0028647075078504928 |\n",
      "====\n",
      "Epoch:  99%|█████████▉| 198/200 [01:18<00:00,  2.52it/s]\n",
      "EP_train | train loss: 0.0011735828985989679 | val loss: 0.0038004558369079057 |\n",
      "====\n",
      "Epoch: 100%|█████████▉| 199/200 [01:18<00:00,  2.53it/s]\n",
      "EP_train | train loss: 0.001149046220177529 | val loss: 0.0038068138574268305 |\n",
      "====\n",
      "Epoch: 100%|██████████| 200/200 [01:18<00:00,  2.54it/s]\n",
      "EP_train | train loss: 0.0011725246029741624 | val loss: 0.0032472457079326406 |\n",
      "\n"
     ]
    }
   ],
   "source": [
    "AttractiveTrainer.train()"
   ]
  },
  {
   "cell_type": "markdown",
   "metadata": {},
   "source": [
    "## for classification, not better"
   ]
  },
  {
   "cell_type": "markdown",
   "metadata": {},
   "source": [
    "## Below is testing"
   ]
  },
  {
   "cell_type": "code",
   "execution_count": 8,
   "metadata": {},
   "outputs": [
    {
     "output_type": "execute_result",
     "data": {
      "text/plain": [
       "AttractiveNet(\n",
       "  (embedding): AttractiveEmbedding(\n",
       "    (token): TokenEmbedding(12699, 300, padding_idx=1)\n",
       "  )\n",
       "  (bigramcnn): Sequential(\n",
       "    (0): Conv1d(300, 200, kernel_size=(3,), stride=(1,), padding=(1,))\n",
       "    (1): ReLU()\n",
       "    (2): Conv1d(200, 100, kernel_size=(3,), stride=(1,), padding=(1,))\n",
       "    (3): ReLU()\n",
       "  )\n",
       "  (trigramcnn): Sequential(\n",
       "    (0): Conv1d(300, 200, kernel_size=(3,), stride=(1,), padding=(1,))\n",
       "    (1): ReLU()\n",
       "    (2): Conv1d(200, 100, kernel_size=(3,), stride=(1,), padding=(1,))\n",
       "    (3): ReLU()\n",
       "  )\n",
       "  (encoder_bigram): LSTM(100, 30, batch_first=True, dropout=0.1, bidirectional=True)\n",
       "  (encoder_trigram): LSTM(100, 30, batch_first=True, dropout=0.1, bidirectional=True)\n",
       "  (linear): Sequential(\n",
       "    (0): Linear(in_features=120, out_features=30, bias=True)\n",
       "    (1): ReLU()\n",
       "    (2): Linear(in_features=30, out_features=1, bias=True)\n",
       "  )\n",
       ")"
      ]
     },
     "metadata": {},
     "execution_count": 8
    }
   ],
   "source": [
    "from attractivenet import AttractiveNet\n",
    "\n",
    "# PATH = './model/CNN_LSTM_20201104-114114_0.3542.80'\n",
    "# PATH = './model/CNN_LSTM_20201104-113908_0.3524.85'\n",
    "# PATH = './model/CNN_LSTM_20201104-113437_0.3395.90'\n",
    "# PATH = './model/CNN_LSTM_20201104-113008_0.3413.95'\n",
    "# PATH = './model/CNN_LSTM_20201104-112639_0.3370.80'\n",
    "# PATH = './model/CNN_LSTM_20201104-112044_0.3419.80'\n",
    "# PATH = './model/CNN_LSTM_20201104-111439_0.3427.90'\n",
    "\n",
    "\n",
    "# first time\n",
    "# PATH = './model/CNN_LSTM_20201103-181740_0.4408.50'\n",
    "# PATH = './model/CNN_LSTM_20201103-181044_0.4284.50'\n",
    "# PATH = './model/CNN_LSTM_20201103-174348_0.4127.70'\n",
    "# PATH = './model/CNN_LSTM_20201103-163042_0.4105.65'\n",
    "# PATH = './model/CNN_LSTM_20201103-160026_0.4157.65'\n",
    "# PATH = './model/CNN_LSTM_20201103-150358_0.3843.80'\n",
    "\n",
    "load_model = AttractiveNet(config).to(AttractiveData.device)\n",
    "load_model.load_state_dict(torch.load(PATH))\n",
    "load_model.eval()"
   ]
  },
  {
   "cell_type": "code",
   "execution_count": 9,
   "metadata": {},
   "outputs": [],
   "source": [
    "def predict_attractive(sentence, category, phase):\n",
    "    indexed_sentence = [AttractiveData.TEXT.vocab.stoi[t] for t in sentence]\n",
    "    indexed_category = [AttractiveData.CATEGORIES_LABEL.vocab.stoi[category]]\n",
    "    tensor_sentence = torch.LongTensor(indexed_sentence).to(AttractiveData.device)\n",
    "    tensor_category = torch.LongTensor(indexed_category).to(AttractiveData.device)\n",
    "\n",
    "    tensor_sentence = tensor_sentence.unsqueeze(0)\n",
    "    # print(tensor_sentence.shape)\n",
    "\n",
    "    prediction = load_model(tensor_sentence, tensor_category, phase=phase)\n",
    "\n",
    "    return prediction"
   ]
  },
  {
   "cell_type": "code",
   "execution_count": 10,
   "metadata": {
    "tags": []
   },
   "outputs": [],
   "source": [
    "# train mean = 3.15, test mean = 2.8\n",
    "predict_list = []\n",
    "with torch.no_grad():\n",
    "    for i, sentence in enumerate(AttractiveData.test_data):\n",
    "        prediction = predict_attractive(sentence.Headline, sentence.Category, 'test')\n",
    "        predict_list.append(prediction.item())\n",
    "        # predict_list.append(prediction.item())\n",
    "AttractiveData.df_test['Label'] = predict_list\n",
    "AttractiveData.df_test[['ID', 'Label']].to_csv(config['save_name'] + '.csv', index=False)"
   ]
  },
  {
   "cell_type": "markdown",
   "metadata": {},
   "source": [
    "## Below for statistics"
   ]
  },
  {
   "cell_type": "code",
   "execution_count": 11,
   "metadata": {},
   "outputs": [],
   "source": [
    "import statistics\n",
    "from sklearn.metrics import mean_squared_error"
   ]
  },
  {
   "cell_type": "code",
   "execution_count": 12,
   "metadata": {},
   "outputs": [],
   "source": [
    "# # train mean = 3.15, test mean = 2.8\n",
    "# train_list = []\n",
    "# for i, sentence in enumerate(AttractiveData.train_data):\n",
    "#     prediction = predict_attractive(sentence.Headline, sentence.Category, 'train')\n",
    "#     train_list.append(prediction.item())\n",
    "#     # train_list.append(prediction.item())\n",
    "# # print(train_list)\n",
    "# mean_squared_error(pd.read_csv('data/train.csv').sort_values(['ID']).Label.to_list(), train_list), statistics.mean(train_list), statistics.stdev(train_list)"
   ]
  },
  {
   "cell_type": "code",
   "execution_count": 13,
   "metadata": {},
   "outputs": [],
   "source": [
    "# train_list[0:5], pd.read_csv('data/train.csv').sort_values(['ID']).Label.to_list()[0:5]"
   ]
  },
  {
   "cell_type": "code",
   "execution_count": 14,
   "metadata": {},
   "outputs": [],
   "source": [
    "# a = AttractiveData.df_train['Label'].to_list()\n",
    "# statistics.mean(a), statistics.stdev(a)"
   ]
  },
  {
   "cell_type": "code",
   "execution_count": 15,
   "metadata": {},
   "outputs": [
    {
     "output_type": "execute_result",
     "data": {
      "text/plain": [
       "(2.788740179087097, 0.34970232184253636)"
      ]
     },
     "metadata": {},
     "execution_count": 15
    }
   ],
   "source": [
    "statistics.mean(predict_list), statistics.stdev(predict_list)"
   ]
  },
  {
   "cell_type": "code",
   "execution_count": 16,
   "metadata": {},
   "outputs": [
    {
     "output_type": "execute_result",
     "data": {
      "text/plain": [
       "(0.03214570970558876, 2.864683129188773, 0.37953271634933555)"
      ]
     },
     "metadata": {},
     "execution_count": 16
    }
   ],
   "source": [
    "baseline_list = pd.read_csv('baseline.csv').sort_values(['ID']).Label.to_list()\n",
    "mean_squared_error(baseline_list, predict_list), statistics.mean(baseline_list), statistics.stdev(baseline_list)"
   ]
  },
  {
   "cell_type": "code",
   "execution_count": null,
   "metadata": {},
   "outputs": [],
   "source": []
  },
  {
   "cell_type": "code",
   "execution_count": 11,
   "metadata": {},
   "outputs": [
    {
     "output_type": "execute_result",
     "data": {
      "text/plain": [
       "5.391702969068492e-05"
      ]
     },
     "metadata": {},
     "execution_count": 11
    }
   ],
   "source": [
    "mean_squared_error(pd.read_csv('baseline.csv').sort_values(['ID']).Label.to_list(), pd.read_csv('./predict/ensemble.csv').sort_values(['ID']).Label.to_list())"
   ]
  },
  {
   "cell_type": "code",
   "execution_count": null,
   "metadata": {},
   "outputs": [],
   "source": []
  }
 ],
 "metadata": {
  "kernelspec": {
   "display_name": "DS_hw2",
   "language": "python",
   "name": "ds_hw2"
  },
  "language_info": {
   "codemirror_mode": {
    "name": "ipython",
    "version": 3
   },
   "file_extension": ".py",
   "mimetype": "text/x-python",
   "name": "python",
   "nbconvert_exporter": "python",
   "pygments_lexer": "ipython3",
   "version": "3.6.12-final"
  }
 },
 "nbformat": 4,
 "nbformat_minor": 4
}