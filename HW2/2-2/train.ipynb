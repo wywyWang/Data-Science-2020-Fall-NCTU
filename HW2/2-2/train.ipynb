{
 "cells": [
  {
   "cell_type": "code",
   "execution_count": 1,
   "metadata": {},
   "outputs": [],
   "source": [
    "# common packages\n",
    "import pandas as pd\n",
    "import time\n",
    "\n",
    "# # DL framework\n",
    "import torch\n",
    "from torchtext import data\n",
    "\n",
    "from attractivedata import AttractiveData\n",
    "from trainer import AttractiveTrainer"
   ]
  },
  {
   "cell_type": "code",
   "execution_count": 2,
   "metadata": {},
   "outputs": [],
   "source": [
    "seed_value = 42\n",
    "torch.manual_seed(seed_value)\n",
    "torch.cuda.manual_seed(seed_value)\n",
    "torch.cuda.manual_seed_all(seed_value) # gpu vars\n",
    "torch.backends.cudnn.deterministic = True  #needed\n",
    "torch.backends.cudnn.benchmark = False"
   ]
  },
  {
   "cell_type": "markdown",
   "metadata": {},
   "source": [
    "## Load and prepare data"
   ]
  },
  {
   "cell_type": "code",
   "execution_count": 3,
   "metadata": {},
   "outputs": [],
   "source": [
    "train_file = 'data/train.csv'\n",
    "val_file = 'example/val.csv'\n",
    "test_file = 'data/test.csv'\n",
    "pretrained_file = 'glove.840B.300d'\n",
    "config = {\n",
    "    'max_seq': 40,\n",
    "    'min_freq': 0,\n",
    "    'batch_size': 51,\n",
    "    'pretrained_file': pretrained_file\n",
    "}\n"
   ]
  },
  {
   "cell_type": "code",
   "execution_count": 4,
   "metadata": {},
   "outputs": [],
   "source": [
    "AttractiveData = AttractiveData(train_file, val_file, test_file, pretrained_file, config)"
   ]
  },
  {
   "cell_type": "markdown",
   "metadata": {},
   "source": [
    "## Start to train"
   ]
  },
  {
   "cell_type": "code",
   "execution_count": 5,
   "metadata": {},
   "outputs": [
    {
     "output_type": "stream",
     "name": "stdout",
     "text": [
      "torch.Size([12699, 300])\n"
     ]
    }
   ],
   "source": [
    "config['timestr'] = time.strftime(\"%Y%m%d-%H%M%S\")\n",
    "config['save_name'] = 'CNN_LSTM'\n",
    "config['input_dim'] = len(AttractiveData.TEXT.vocab)\n",
    "config['embedding_dim'] = 300\n",
    "config['category_dim'] = len(AttractiveData.CATEGORIES_LABEL.vocab)\n",
    "config['category_embedding_dim'] = 10\n",
    "config['hidden_dim'] = 30\n",
    "config['output_dim'] = 1\n",
    "config['log_steps'] = 10\n",
    "config['epochs'] = 150\n",
    "config['lr'] = {\n",
    "    'encoder': 1e-5,\n",
    "    'embedding': 6e-6,\n",
    "    'linear': 1e-5\n",
    "}\n",
    "config['num_layers'] = 1\n",
    "config['kernel_size'] = 3\n",
    "config['dropout'] = 0.5\n",
    "config['train_len'] = AttractiveData.train_len\n",
    "config['val_len'] = AttractiveData.val_len\n",
    "config['test_len'] = AttractiveData.test_len\n",
    "\n",
    "pretrained_embeddings = AttractiveData.TEXT.vocab.vectors\n",
    "print(pretrained_embeddings.shape)"
   ]
  },
  {
   "cell_type": "code",
   "execution_count": 6,
   "metadata": {},
   "outputs": [],
   "source": [
    "AttractiveTrainer = AttractiveTrainer(config, AttractiveData.device, AttractiveData.trainloader, AttractiveData.valloader, pretrained_embeddings)"
   ]
  },
  {
   "cell_type": "code",
   "execution_count": 7,
   "metadata": {},
   "outputs": [
    {
     "output_type": "execute_result",
     "data": {
      "text/plain": [
       "(AttractiveNet(\n",
       "   (embedding): AttractiveEmbedding(\n",
       "     (token): TokenEmbedding(12699, 300, padding_idx=1)\n",
       "   )\n",
       "   (bigramcnn): Sequential(\n",
       "     (0): Conv1d(300, 210, kernel_size=(2,), stride=(1,), padding=(1,))\n",
       "     (1): ReLU()\n",
       "     (2): Conv1d(210, 100, kernel_size=(2,), stride=(1,), padding=(1,))\n",
       "     (3): ReLU()\n",
       "     (4): Dropout(p=0.5, inplace=False)\n",
       "   )\n",
       "   (trigramcnn): Sequential(\n",
       "     (0): Conv1d(300, 210, kernel_size=(3,), stride=(1,), padding=(1,))\n",
       "     (1): ReLU()\n",
       "     (2): Conv1d(210, 100, kernel_size=(3,), stride=(1,), padding=(1,))\n",
       "     (3): ReLU()\n",
       "     (4): Dropout(p=0.5, inplace=False)\n",
       "   )\n",
       "   (encoder_bigram): LSTM(100, 30, batch_first=True, dropout=0.5, bidirectional=True)\n",
       "   (encoder_trigram): LSTM(100, 30, batch_first=True, dropout=0.5, bidirectional=True)\n",
       "   (linear): Sequential(\n",
       "     (0): Linear(in_features=128, out_features=30, bias=True)\n",
       "     (1): ReLU()\n",
       "     (2): Linear(in_features=30, out_features=1, bias=True)\n",
       "   )\n",
       " ),\n",
       " 4297581,\n",
       " 4297581)"
      ]
     },
     "metadata": {},
     "execution_count": 7
    }
   ],
   "source": [
    "AttractiveTrainer.model, AttractiveTrainer.config['total_params'], AttractiveTrainer.config['total_learned_params']"
   ]
  },
  {
   "cell_type": "code",
   "execution_count": 8,
   "metadata": {
    "tags": []
   },
   "outputs": [
    {
     "output_type": "stream",
     "name": "stderr",
     "text": [
      "Epoch:   1%|          | 1/150 [00:00<01:14,  1.99it/s]\n",
      "EP_0 | train loss: 2.136371313356886 | val loss: 2.9405320485432944 |\n",
      "Epoch:   1%|▏         | 2/150 [00:00<01:12,  2.03it/s]\n",
      "EP_1 | train loss: 0.5813532464644489 | val loss: 0.9944282606536267 |\n",
      "Epoch:   2%|▏         | 3/150 [00:01<01:11,  2.05it/s]\n",
      "EP_2 | train loss: 0.6160203279233446 | val loss: 0.8784415675144569 |\n",
      "Epoch:   3%|▎         | 4/150 [00:01<01:11,  2.04it/s]\n",
      "EP_3 | train loss: 0.5864647098616058 | val loss: 0.8612474366730335 |\n",
      "Epoch:   3%|▎         | 5/150 [00:02<01:10,  2.05it/s]\n",
      "EP_4 | train loss: 0.5798314851873061 | val loss: 0.8237455685933431 |\n",
      "Epoch:   4%|▍         | 6/150 [00:02<01:09,  2.06it/s]\n",
      "EP_5 | train loss: 0.585408463197596 | val loss: 0.7943503435920266 |\n",
      "Epoch:   5%|▍         | 7/150 [00:03<01:09,  2.05it/s]\n",
      "EP_6 | train loss: 0.5772084918676638 | val loss: 0.7534477196487726 |\n",
      "Epoch:   5%|▌         | 8/150 [00:03<01:12,  1.97it/s]\n",
      "EP_7 | train loss: 0.5757490765814688 | val loss: 0.7261442857630113 |\n",
      "Epoch:   6%|▌         | 9/150 [00:04<01:10,  1.99it/s]\n",
      "EP_8 | train loss: 0.5719597199383903 | val loss: 0.7014783971449908 |\n",
      "Epoch:   7%|▋         | 10/150 [00:04<01:10,  1.98it/s]\n",
      "EP_9 | train loss: 0.5509922261331596 | val loss: 0.6852669622383866 |\n",
      "Epoch:   7%|▋         | 11/150 [00:05<01:10,  1.98it/s]\n",
      "EP_10 | train loss: 0.5461698878045176 | val loss: 0.6689519882202148 |\n",
      "Epoch:   8%|▊         | 12/150 [00:05<01:08,  2.01it/s]\n",
      "EP_11 | train loss: 0.5490626559538 | val loss: 0.6415480071423101 |\n",
      "Epoch:   9%|▊         | 13/150 [00:06<01:08,  2.01it/s]\n",
      "EP_12 | train loss: 0.54113190314349 | val loss: 0.6282811538845885 |\n",
      "Epoch:   9%|▉         | 14/150 [00:06<01:07,  2.01it/s]\n",
      "EP_13 | train loss: 0.5323785800559848 | val loss: 0.6082290574616077 |\n",
      "Epoch:  10%|█         | 15/150 [00:07<01:06,  2.02it/s]\n",
      "EP_14 | train loss: 0.5357563355389763 | val loss: 0.5973468294330672 |\n",
      "Epoch:  11%|█         | 16/150 [00:07<01:06,  2.02it/s]\n",
      "EP_15 | train loss: 0.5337510641883402 | val loss: 0.5846645411323098 |\n",
      "Epoch:  11%|█▏        | 17/150 [00:08<01:05,  2.03it/s]\n",
      "EP_16 | train loss: 0.5346570716184729 | val loss: 0.567507453993255 |\n",
      "Epoch:  12%|█▏        | 18/150 [00:08<01:04,  2.04it/s]\n",
      "EP_17 | train loss: 0.5283528524286607 | val loss: 0.5587827084111232 |\n",
      "Epoch:  13%|█▎        | 19/150 [00:09<01:08,  1.92it/s]\n",
      "EP_18 | train loss: 0.5293545386370491 | val loss: 0.5474830328249464 |\n",
      "Epoch:  13%|█▎        | 20/150 [00:09<01:07,  1.93it/s]\n",
      "EP_19 | train loss: 0.5233670384276147 | val loss: 0.5360253464941885 |\n",
      "Epoch:  14%|█▍        | 21/150 [00:10<01:06,  1.95it/s]\n",
      "EP_20 | train loss: 0.5162986128937964 | val loss: 0.5288179060992073 |\n",
      "Epoch:  15%|█▍        | 22/150 [00:10<01:04,  1.98it/s]\n",
      "EP_21 | train loss: 0.5120556419970943 | val loss: 0.5181501145456352 |\n",
      "Epoch:  15%|█▌        | 23/150 [00:11<01:03,  1.99it/s]\n",
      "EP_22 | train loss: 0.5081617159001968 | val loss: 0.5135466444726083 |\n",
      "Epoch:  16%|█▌        | 24/150 [00:11<01:02,  2.03it/s]\n",
      "EP_23 | train loss: 0.5027560584685382 | val loss: 0.5064456883598777 |\n",
      "Epoch:  17%|█▋        | 25/150 [00:12<01:00,  2.05it/s]\n",
      "EP_24 | train loss: 0.506256483115402 | val loss: 0.49260803297454236 |\n",
      "Epoch:  17%|█▋        | 26/150 [00:12<00:59,  2.09it/s]\n",
      "EP_25 | train loss: 0.5027767480588426 | val loss: 0.48586299372654335 |\n",
      "Epoch:  18%|█▊        | 27/150 [00:13<00:58,  2.10it/s]\n",
      "EP_26 | train loss: 0.4975692590077718 | val loss: 0.47750413184072454 |\n",
      "Epoch:  19%|█▊        | 28/150 [00:13<00:58,  2.08it/s]\n",
      "EP_27 | train loss: 0.49800741158279715 | val loss: 0.46951792286891564 |\n",
      "Epoch:  19%|█▉        | 29/150 [00:14<00:57,  2.09it/s]\n",
      "EP_28 | train loss: 0.48829043425765695 | val loss: 0.46301856695436966 |\n",
      "Epoch:  20%|██        | 30/150 [00:14<00:56,  2.11it/s]\n",
      "EP_29 | train loss: 0.48760724207934214 | val loss: 0.45537257662006453 |\n",
      "Epoch:  21%|██        | 31/150 [00:15<00:57,  2.06it/s]\n",
      "EP_30 | train loss: 0.4808023798699472 | val loss: 0.4489930564281987 |\n",
      "Epoch:  21%|██▏       | 32/150 [00:15<00:56,  2.09it/s]\n",
      "EP_31 | train loss: 0.4764437988692639 | val loss: 0.44296777949613686 |\n",
      "Epoch:  22%|██▏       | 33/150 [00:16<00:56,  2.07it/s]\n",
      "EP_32 | train loss: 0.4767204948500091 | val loss: 0.4353812255111395 |\n",
      "Epoch:  23%|██▎       | 34/150 [00:16<00:55,  2.09it/s]\n",
      "EP_33 | train loss: 0.4747634167764701 | val loss: 0.4285589386435116 |\n",
      "Epoch:  23%|██▎       | 35/150 [00:17<00:55,  2.05it/s]\n",
      "EP_34 | train loss: 0.4728812142914417 | val loss: 0.42255789158391016 |\n",
      "Epoch:  24%|██▍       | 36/150 [00:17<00:54,  2.08it/s]\n",
      "EP_35 | train loss: 0.46498403081706924 | val loss: 0.4160558195675121 |\n",
      "Epoch:  25%|██▍       | 37/150 [00:18<00:54,  2.08it/s]\n",
      "EP_36 | train loss: 0.45996440251668297 | val loss: 0.41224269773445876 |\n",
      "Epoch:  25%|██▌       | 38/150 [00:18<00:57,  1.96it/s]\n",
      "EP_37 | train loss: 0.4577369783438888 | val loss: 0.4041282943650788 |\n",
      "Epoch:  26%|██▌       | 39/150 [00:19<00:55,  1.98it/s]\n",
      "EP_38 | train loss: 0.456109302184161 | val loss: 0.398584992277856 |\n",
      "Epoch:  27%|██▋       | 40/150 [00:19<00:53,  2.04it/s]\n",
      "EP_39 | train loss: 0.45345730688057695 | val loss: 0.39379551831413717 |\n",
      "Epoch:  27%|██▋       | 41/150 [00:20<00:53,  2.05it/s]\n",
      "EP_40 | train loss: 0.4519878583795884 | val loss: 0.3898509203218946 |\n",
      "Epoch:  28%|██▊       | 42/150 [00:20<00:51,  2.09it/s]\n",
      "EP_41 | train loss: 0.4458863066691978 | val loss: 0.38539037984960217 |\n",
      "Epoch:  29%|██▊       | 43/150 [00:21<00:50,  2.10it/s]\n",
      "EP_42 | train loss: 0.44875917621687345 | val loss: 0.38173629723343194 |\n",
      "Epoch:  29%|██▉       | 44/150 [00:21<00:49,  2.13it/s]\n",
      "EP_43 | train loss: 0.4403086685666851 | val loss: 0.3757912785399194 |\n",
      "Epoch:  30%|███       | 45/150 [00:22<00:49,  2.13it/s]\n",
      "EP_44 | train loss: 0.4413050539353315 | val loss: 0.3731694314994064 |\n",
      "Epoch:  31%|███       | 46/150 [00:22<00:48,  2.14it/s]\n",
      "EP_45 | train loss: 0.4361249516992008 | val loss: 0.3686960164238425 |\n",
      "Epoch:  31%|███▏      | 47/150 [00:22<00:48,  2.13it/s]\n",
      "EP_46 | train loss: 0.43643089322482836 | val loss: 0.36551720020817774 |\n",
      "Epoch:  32%|███▏      | 48/150 [00:23<00:47,  2.16it/s]\n",
      "EP_47 | train loss: 0.43685354017743877 | val loss: 0.3647323402703977 |\n",
      "Epoch:  33%|███▎      | 49/150 [00:23<00:47,  2.14it/s]\n",
      "EP_48 | train loss: 0.4297963656631171 | val loss: 0.3589760555940516 |\n",
      "Epoch:  33%|███▎      | 50/150 [00:24<00:46,  2.17it/s]\n",
      "EP_49 | train loss: 0.42843258240643667 | val loss: 0.3560682184555951 |\n",
      "Epoch:  34%|███▍      | 51/150 [00:24<00:46,  2.14it/s]\n",
      "EP_50 | train loss: 0.4269792963476742 | val loss: 0.3542029670640534 |\n",
      "Epoch:  35%|███▍      | 52/150 [00:25<00:45,  2.14it/s]\n",
      "EP_51 | train loss: 0.42378916833914965 | val loss: 0.3517201881782681 |\n",
      "Epoch:  35%|███▌      | 53/150 [00:25<00:45,  2.13it/s]\n",
      "EP_52 | train loss: 0.4206047193676818 | val loss: 0.34935800234476727 |\n",
      "Epoch:  36%|███▌      | 54/150 [00:26<00:44,  2.14it/s]\n",
      "EP_53 | train loss: 0.42077775656008254 | val loss: 0.3471321451897715 |\n",
      "Epoch:  37%|███▋      | 55/150 [00:26<00:44,  2.12it/s]\n",
      "EP_54 | train loss: 0.41888512583339915 | val loss: 0.3453233709522322 |\n",
      "Epoch:  37%|███▋      | 56/150 [00:27<00:46,  2.02it/s]\n",
      "EP_55 | train loss: 0.4166153804928649 | val loss: 0.34428809203353583 |\n",
      "Epoch:  38%|███▊      | 57/150 [00:27<00:45,  2.04it/s]\n",
      "EP_56 | train loss: 0.4126595936569513 | val loss: 0.34166381873336493 |\n",
      "Epoch:  39%|███▊      | 58/150 [00:28<00:44,  2.08it/s]\n",
      "EP_57 | train loss: 0.41275481102513334 | val loss: 0.34028276742673386 |\n",
      "Epoch:  39%|███▉      | 59/150 [00:28<00:43,  2.08it/s]\n",
      "EP_58 | train loss: 0.4104194225049486 | val loss: 0.3390354175193637 |\n",
      "Epoch:  40%|████      | 60/150 [00:29<00:42,  2.11it/s]\n",
      "EP_59 | train loss: 0.40933916615504845 | val loss: 0.3380129571054496 |\n",
      "Epoch:  41%|████      | 61/150 [00:29<00:42,  2.11it/s]\n",
      "EP_60 | train loss: 0.40531155315099976 | val loss: 0.3359021766513002 |\n",
      "Epoch:  41%|████▏     | 62/150 [00:30<00:41,  2.13it/s]\n",
      "EP_61 | train loss: 0.4027844845079908 | val loss: 0.33463115318148745 |\n",
      "Epoch:  42%|████▏     | 63/150 [00:30<00:40,  2.13it/s]\n",
      "EP_62 | train loss: 0.4007325018153471 | val loss: 0.3324129908692603 |\n",
      "Epoch:  43%|████▎     | 64/150 [00:31<00:40,  2.13it/s]\n",
      "EP_63 | train loss: 0.39849847157796225 | val loss: 0.33194705084258436 |\n",
      "Epoch:  43%|████▎     | 65/150 [00:31<00:40,  2.12it/s]\n",
      "EP_64 | train loss: 0.39669627255084466 | val loss: 0.3303833802541097 |\n",
      "Epoch:  44%|████▍     | 66/150 [00:31<00:39,  2.13it/s]\n",
      "EP_65 | train loss: 0.39505141576131186 | val loss: 0.3295252276401894 |\n",
      "Epoch:  45%|████▍     | 67/150 [00:32<00:41,  2.02it/s]\n",
      "EP_66 | train loss: 0.3929553901447969 | val loss: 0.32782548081641105 |\n",
      "Epoch:  45%|████▌     | 68/150 [00:33<00:42,  1.94it/s]\n",
      "EP_67 | train loss: 0.3929430601643581 | val loss: 0.32881788178986193 |\n",
      "Epoch:  46%|████▌     | 69/150 [00:33<00:41,  1.97it/s]\n",
      "EP_68 | train loss: 0.3868358911252489 | val loss: 0.32556897051194134 |\n",
      "Epoch:  47%|████▋     | 70/150 [00:34<00:39,  2.03it/s]\n",
      "EP_69 | train loss: 0.3881384947720696 | val loss: 0.3251974769667083 |\n",
      "Epoch:  47%|████▋     | 71/150 [00:34<00:38,  2.05it/s]\n",
      "EP_70 | train loss: 0.38370330707699646 | val loss: 0.32325025165782256 |\n",
      "Epoch:  48%|████▊     | 72/150 [00:34<00:37,  2.09it/s]\n",
      "EP_71 | train loss: 0.3799608497058644 | val loss: 0.32244018479889514 |\n",
      "Epoch:  49%|████▊     | 73/150 [00:35<00:36,  2.09it/s]\n",
      "EP_72 | train loss: 0.377673059351304 | val loss: 0.32161864579892624 |\n",
      "Epoch:  49%|████▉     | 74/150 [00:35<00:37,  2.04it/s]\n",
      "EP_73 | train loss: 0.37547434545030783 | val loss: 0.32068459660399196 |\n",
      "Epoch:  50%|█████     | 75/150 [00:36<00:37,  2.02it/s]\n",
      "EP_74 | train loss: 0.3763076721453199 | val loss: 0.32000865188299443 |\n",
      "Epoch:  51%|█████     | 76/150 [00:36<00:37,  1.98it/s]\n",
      "EP_75 | train loss: 0.3702267127878526 | val loss: 0.32066983335158405 |\n",
      "Epoch:  51%|█████▏    | 77/150 [00:37<00:37,  1.94it/s]\n",
      "EP_76 | train loss: 0.3709781347536573 | val loss: 0.3172343478483312 |\n",
      "Epoch:  52%|█████▏    | 78/150 [00:38<00:36,  1.97it/s]\n",
      "EP_77 | train loss: 0.36513197235032624 | val loss: 0.3152974399865842 |\n",
      "Epoch:  53%|█████▎    | 79/150 [00:38<00:36,  1.95it/s]\n",
      "EP_78 | train loss: 0.3634683894176109 | val loss: 0.3134111610113406 |\n",
      "Epoch:  53%|█████▎    | 80/150 [00:39<00:35,  1.99it/s]\n",
      "EP_79 | train loss: 0.3602655485564587 | val loss: 0.3125486373901367 |\n",
      "Epoch:  54%|█████▍    | 81/150 [00:39<00:34,  2.01it/s]\n",
      "EP_80 | train loss: 0.35886544386545816 | val loss: 0.3114302392099418 |\n",
      "Epoch:  55%|█████▍    | 82/150 [00:40<00:33,  2.00it/s]\n",
      "EP_81 | train loss: 0.3550346482033823 | val loss: 0.31050723674250585 |\n",
      "Epoch:  55%|█████▌    | 83/150 [00:40<00:33,  1.97it/s]\n",
      "EP_82 | train loss: 0.3544183174769084 | val loss: 0.3085123417424221 |\n",
      "Epoch:  56%|█████▌    | 84/150 [00:40<00:32,  2.03it/s]\n",
      "EP_83 | train loss: 0.3481123082778033 | val loss: 0.3074795592064951 |\n",
      "Epoch:  57%|█████▋    | 85/150 [00:41<00:31,  2.05it/s]\n",
      "EP_84 | train loss: 0.3452810488495172 | val loss: 0.306978655796425 |\n",
      "Epoch:  57%|█████▋    | 86/150 [00:41<00:30,  2.08it/s]\n",
      "EP_85 | train loss: 0.34884126700607 | val loss: 0.3037673819298838 |\n",
      "Epoch:  58%|█████▊    | 87/150 [00:42<00:30,  2.09it/s]\n",
      "EP_86 | train loss: 0.34092068344938986 | val loss: 0.30269190376880123 |\n",
      "Epoch:  59%|█████▊    | 88/150 [00:42<00:29,  2.10it/s]\n",
      "EP_87 | train loss: 0.34503055273317823 | val loss: 0.30117202272602156 |\n",
      "Epoch:  59%|█████▉    | 89/150 [00:43<00:28,  2.11it/s]\n",
      "EP_88 | train loss: 0.338453540615007 | val loss: 0.2979414416294472 |\n",
      "Epoch:  60%|██████    | 90/150 [00:43<00:28,  2.13it/s]\n",
      "EP_89 | train loss: 0.328779756789114 | val loss: 0.2963821747723748 |\n",
      "Epoch:  61%|██████    | 91/150 [00:44<00:28,  2.05it/s]\n",
      "EP_90 | train loss: 0.328133757909139 | val loss: 0.2975606357350069 |\n",
      "Epoch:  61%|██████▏   | 92/150 [00:44<00:29,  1.99it/s]\n",
      "EP_91 | train loss: 0.32645734571943097 | val loss: 0.2914855246450387 |\n",
      "Epoch:  62%|██████▏   | 93/150 [00:45<00:28,  1.99it/s]\n",
      "EP_92 | train loss: 0.32287675492903767 | val loss: 0.28981996050067976 |\n",
      "Epoch:  63%|██████▎   | 94/150 [00:45<00:29,  1.90it/s]\n",
      "EP_93 | train loss: 0.3229900051565731 | val loss: 0.28794656080358166 |\n",
      "Epoch:  63%|██████▎   | 95/150 [00:46<00:29,  1.87it/s]\n",
      "EP_94 | train loss: 0.3155131821538888 | val loss: 0.2852320484086579 |\n",
      "Epoch:  64%|██████▍   | 96/150 [00:46<00:27,  1.94it/s]\n",
      "EP_95 | train loss: 0.31210558320961745 | val loss: 0.28229765331043916 |\n",
      "Epoch:  65%|██████▍   | 97/150 [00:47<00:27,  1.94it/s]\n",
      "EP_96 | train loss: 0.3101584972119799 | val loss: 0.27992786145677756 |\n",
      "Epoch:  65%|██████▌   | 98/150 [00:47<00:26,  1.96it/s]\n",
      "EP_97 | train loss: 0.30379457240011176 | val loss: 0.2786560946819829 |\n",
      "Epoch:  66%|██████▌   | 99/150 [00:48<00:25,  1.97it/s]\n",
      "EP_98 | train loss: 0.2988078799902224 | val loss: 0.2752554930892645 |\n",
      "Epoch:  67%|██████▋   | 100/150 [00:48<00:25,  2.00it/s]\n",
      "EP_99 | train loss: 0.29770720145281626 | val loss: 0.2714686066496606 |\n",
      "Epoch:  67%|██████▋   | 101/150 [00:49<00:24,  2.00it/s]\n",
      "EP_100 | train loss: 0.2916541333292045 | val loss: 0.2712732156117757 |\n",
      "Epoch:  68%|██████▊   | 102/150 [00:49<00:23,  2.01it/s]\n",
      "EP_101 | train loss: 0.28746229573792104 | val loss: 0.271390812069762 |\n",
      "Epoch:  69%|██████▊   | 103/150 [00:50<00:23,  2.02it/s]\n",
      "EP_102 | train loss: 0.2892228327545465 | val loss: 0.26303763950572295 |\n",
      "Epoch:  69%|██████▉   | 104/150 [00:50<00:22,  2.02it/s]\n",
      "EP_103 | train loss: 0.2838664218491199 | val loss: 0.2608005205790202 |\n",
      "Epoch:  70%|███████   | 105/150 [00:51<00:22,  2.02it/s]\n",
      "EP_104 | train loss: 0.2768542733846926 | val loss: 0.26331222291086237 |\n",
      "Epoch:  71%|███████   | 106/150 [00:51<00:21,  2.01it/s]\n",
      "EP_105 | train loss: 0.275650421778361 | val loss: 0.2539122852624631 |\n",
      "Epoch:  71%|███████▏  | 107/150 [00:52<00:21,  2.01it/s]\n",
      "EP_106 | train loss: 0.26969292444341325 | val loss: 0.25316793778363395 |\n",
      "Epoch:  72%|███████▏  | 108/150 [00:52<00:20,  2.04it/s]\n",
      "EP_107 | train loss: 0.27704508257847205 | val loss: 0.24888823079127892 |\n",
      "Epoch:  73%|███████▎  | 109/150 [00:53<00:20,  2.04it/s]\n",
      "EP_108 | train loss: 0.26193059285481773 | val loss: 0.2465521354301303 |\n",
      "Epoch:  73%|███████▎  | 110/150 [00:53<00:19,  2.06it/s]\n",
      "EP_109 | train loss: 0.2598458140504126 | val loss: 0.2419737507315243 |\n",
      "Epoch:  74%|███████▍  | 111/150 [00:54<00:20,  1.92it/s]\n",
      "EP_110 | train loss: 0.25433060187919465 | val loss: 0.23922904799966252 |\n",
      "Epoch:  75%|███████▍  | 112/150 [00:54<00:19,  1.99it/s]\n",
      "EP_111 | train loss: 0.25151493549346926 | val loss: 0.2340868734845928 |\n",
      "Epoch:  75%|███████▌  | 113/150 [00:55<00:18,  2.02it/s]\n",
      "EP_112 | train loss: 0.24579736274831435 | val loss: 0.2319922306958367 |\n",
      "Epoch:  76%|███████▌  | 114/150 [00:55<00:17,  2.07it/s]\n",
      "EP_113 | train loss: 0.2435281052308924 | val loss: 0.22547584421494427 |\n",
      "Epoch:  77%|███████▋  | 115/150 [00:56<00:16,  2.08it/s]\n",
      "EP_114 | train loss: 0.23750711188596837 | val loss: 0.2241827272901348 |\n",
      "Epoch:  77%|███████▋  | 116/150 [00:56<00:16,  2.11it/s]\n",
      "EP_115 | train loss: 0.2390696696206635 | val loss: 0.21871513946383608 |\n",
      "Epoch:  78%|███████▊  | 117/150 [00:57<00:15,  2.08it/s]\n",
      "EP_116 | train loss: 0.2368180793874404 | val loss: 0.2142628641689525 |\n",
      "Epoch:  79%|███████▊  | 118/150 [00:57<00:15,  2.09it/s]\n",
      "EP_117 | train loss: 0.22425043489418778 | val loss: 0.21471536860746496 |\n",
      "Epoch:  79%|███████▉  | 119/150 [00:58<00:15,  2.04it/s]\n",
      "EP_118 | train loss: 0.21995147560157027 | val loss: 0.20827249452179553 |\n",
      "Epoch:  80%|████████  | 120/150 [00:58<00:14,  2.05it/s]\n",
      "EP_119 | train loss: 0.2236737183496064 | val loss: 0.20090743139678358 |\n",
      "Epoch:  81%|████████  | 121/150 [00:59<00:14,  2.05it/s]\n",
      "EP_120 | train loss: 0.21472585995992025 | val loss: 0.19770323996450387 |\n",
      "Epoch:  81%|████████▏ | 122/150 [00:59<00:13,  2.08it/s]\n",
      "EP_121 | train loss: 0.21244956605574664 | val loss: 0.19254513347850127 |\n",
      "Epoch:  82%|████████▏ | 123/150 [01:00<00:13,  2.06it/s]\n",
      "EP_122 | train loss: 0.20342323850182925 | val loss: 0.19601493022021124 |\n",
      "Epoch:  83%|████████▎ | 124/150 [01:00<00:12,  2.07it/s]\n",
      "EP_123 | train loss: 0.20151367094002517 | val loss: 0.1987781477909462 |\n",
      "Epoch:  83%|████████▎ | 125/150 [01:01<00:12,  2.08it/s]\n",
      "EP_124 | train loss: 0.1957012840345794 | val loss: 0.18002163896373674 |\n",
      "Epoch:  84%|████████▍ | 126/150 [01:01<00:11,  2.06it/s]\n",
      "EP_125 | train loss: 0.188868770646114 | val loss: 0.17949089816972322 |\n",
      "Epoch:  85%|████████▍ | 127/150 [01:02<00:11,  2.00it/s]\n",
      "EP_126 | train loss: 0.19056221947950475 | val loss: 0.17002348338856416 |\n",
      "Epoch:  85%|████████▌ | 128/150 [01:02<00:11,  1.91it/s]\n",
      "EP_127 | train loss: 0.17977690065608304 | val loss: 0.1674251252529668 |\n",
      "Epoch:  86%|████████▌ | 129/150 [01:03<00:10,  1.92it/s]\n",
      "EP_128 | train loss: 0.20246262176364077 | val loss: 0.1735621644001381 |\n",
      "Epoch:  87%|████████▋ | 130/150 [01:03<00:10,  1.95it/s]\n",
      "EP_129 | train loss: 0.1732488936068965 | val loss: 0.15635744496887805 |\n",
      "Epoch:  87%|████████▋ | 131/150 [01:04<00:09,  1.92it/s]\n",
      "EP_130 | train loss: 0.1659236557343427 | val loss: 0.15480542416666068 |\n",
      "Epoch:  88%|████████▊ | 132/150 [01:04<00:09,  1.96it/s]\n",
      "EP_131 | train loss: 0.16271840310564228 | val loss: 0.14893467286053827 |\n",
      "Epoch:  89%|████████▊ | 133/150 [01:05<00:08,  1.92it/s]\n",
      "EP_132 | train loss: 0.15936425363316256 | val loss: 0.1533682813831404 |\n",
      "Epoch:  89%|████████▉ | 134/150 [01:05<00:08,  1.94it/s]\n",
      "EP_133 | train loss: 0.15682154297828674 | val loss: 0.14038722187865013 |\n",
      "Epoch:  90%|█████████ | 135/150 [01:06<00:07,  1.94it/s]\n",
      "EP_134 | train loss: 0.15042773041070676 | val loss: 0.13479718273761226 |\n",
      "Epoch:  91%|█████████ | 136/150 [01:06<00:07,  1.98it/s]\n",
      "EP_135 | train loss: 0.14768914054421817 | val loss: 0.1412336499083276 |\n",
      "Epoch:  91%|█████████▏| 137/150 [01:07<00:06,  1.94it/s]\n",
      "EP_136 | train loss: 0.14026447686494564 | val loss: 0.12649159571703741 |\n",
      "Epoch:  92%|█████████▏| 138/150 [01:07<00:06,  1.93it/s]\n",
      "EP_137 | train loss: 0.13650759411793129 | val loss: 0.13131989451015696 |\n",
      "Epoch:  93%|█████████▎| 139/150 [01:08<00:05,  1.91it/s]\n",
      "EP_138 | train loss: 0.13157783583098767 | val loss: 0.11838469318315095 |\n",
      "Epoch:  93%|█████████▎| 140/150 [01:09<00:05,  1.90it/s]\n",
      "EP_139 | train loss: 0.14689130409091128 | val loss: 0.12442959289924771 |\n",
      "Epoch:  94%|█████████▍| 141/150 [01:09<00:04,  1.90it/s]\n",
      "EP_140 | train loss: 0.1232215842779945 | val loss: 0.12056824740241556 |\n",
      "Epoch:  95%|█████████▍| 142/150 [01:10<00:04,  1.95it/s]\n",
      "EP_141 | train loss: 0.1185928998040218 | val loss: 0.11351170025619806 |\n",
      "Epoch:  95%|█████████▌| 143/150 [01:10<00:03,  1.93it/s]\n",
      "EP_142 | train loss: 0.11336936903934852 | val loss: 0.10601339153214998 |\n",
      "Epoch:  96%|█████████▌| 144/150 [01:11<00:03,  1.92it/s]\n",
      "EP_143 | train loss: 0.11086866738749486 | val loss: 0.09848510517793543 |\n",
      "Epoch:  97%|█████████▋| 145/150 [01:11<00:02,  1.94it/s]\n",
      "EP_144 | train loss: 0.10555877147936353 | val loss: 0.09512761527416753 |\n",
      "Epoch:  97%|█████████▋| 146/150 [01:12<00:02,  1.97it/s]\n",
      "EP_145 | train loss: 0.10325063420277016 | val loss: 0.09108180976381489 |\n",
      "Epoch:  98%|█████████▊| 147/150 [01:12<00:01,  1.90it/s]\n",
      "EP_146 | train loss: 0.0990107723310882 | val loss: 0.08850212307537303 |\n",
      "Epoch:  99%|█████████▊| 148/150 [01:13<00:01,  1.95it/s]\n",
      "EP_147 | train loss: 0.10504540111504349 | val loss: 0.08920924219430662 |\n",
      "Epoch:  99%|█████████▉| 149/150 [01:13<00:00,  2.01it/s]\n",
      "EP_148 | train loss: 0.11750897169113159 | val loss: 0.09744753323349298 |\n",
      "Epoch: 100%|██████████| 150/150 [01:14<00:00,  2.03it/s]\n",
      "EP_149 | train loss: 0.08855038670932545 | val loss: 0.08202351308336445 |\n",
      "\n"
     ]
    }
   ],
   "source": [
    "AttractiveTrainer.train()"
   ]
  },
  {
   "cell_type": "markdown",
   "metadata": {},
   "source": [
    "## Below is testing"
   ]
  },
  {
   "cell_type": "code",
   "execution_count": 6,
   "metadata": {},
   "outputs": [
    {
     "output_type": "execute_result",
     "data": {
      "text/plain": [
       "AttractiveNet(\n",
       "  (embedding): AttractiveEmbedding(\n",
       "    (token): TokenEmbedding(12699, 300, padding_idx=1)\n",
       "  )\n",
       "  (bigramcnn): Sequential(\n",
       "    (0): Conv1d(300, 210, kernel_size=(2,), stride=(1,), padding=(1,))\n",
       "    (1): ReLU()\n",
       "    (2): Conv1d(210, 100, kernel_size=(2,), stride=(1,), padding=(1,))\n",
       "    (3): ReLU()\n",
       "    (4): Dropout(p=0.5, inplace=False)\n",
       "  )\n",
       "  (trigramcnn): Sequential(\n",
       "    (0): Conv1d(300, 210, kernel_size=(3,), stride=(1,), padding=(1,))\n",
       "    (1): ReLU()\n",
       "    (2): Conv1d(210, 100, kernel_size=(3,), stride=(1,), padding=(1,))\n",
       "    (3): ReLU()\n",
       "    (4): Dropout(p=0.5, inplace=False)\n",
       "  )\n",
       "  (encoder_bigram): LSTM(100, 30, batch_first=True, dropout=0.5, bidirectional=True)\n",
       "  (encoder_trigram): LSTM(100, 30, batch_first=True, dropout=0.5, bidirectional=True)\n",
       "  (linear): Sequential(\n",
       "    (0): Linear(in_features=128, out_features=30, bias=True)\n",
       "    (1): ReLU()\n",
       "    (2): Linear(in_features=30, out_features=1, bias=True)\n",
       "  )\n",
       ")"
      ]
     },
     "metadata": {},
     "execution_count": 6
    }
   ],
   "source": [
    "from attractivenet import AttractiveNet\n",
    "\n",
    "PATH = './model/CNN_LSTM_20201110-205726/0.377673.72'\n",
    "\n",
    "load_model = AttractiveNet(config).to(AttractiveData.device)\n",
    "load_model.load_state_dict(torch.load(PATH))\n",
    "load_model.eval()"
   ]
  },
  {
   "cell_type": "code",
   "execution_count": 7,
   "metadata": {},
   "outputs": [],
   "source": [
    "def predict_attractive(sentence, category, phase):\n",
    "    indexed_sentence = [AttractiveData.TEXT.vocab.stoi[t] for t in sentence]\n",
    "    indexed_category = [AttractiveData.CATEGORIES_LABEL.vocab.stoi[category]]\n",
    "    tensor_sentence = torch.LongTensor(indexed_sentence).to(AttractiveData.device)\n",
    "    tensor_category = torch.LongTensor(indexed_category).to(AttractiveData.device)\n",
    "    tensor_sentence = tensor_sentence.unsqueeze(0)\n",
    "\n",
    "    prediction = load_model(tensor_sentence, tensor_category, phase=phase)\n",
    "\n",
    "    return prediction"
   ]
  },
  {
   "cell_type": "code",
   "execution_count": 8,
   "metadata": {
    "tags": []
   },
   "outputs": [],
   "source": [
    "predict_list = []\n",
    "with torch.no_grad():\n",
    "    for i, sentence in enumerate(AttractiveData.test_data):\n",
    "        prediction = predict_attractive(sentence.Headline, sentence.Category, 'test')\n",
    "        predict_list.append(prediction.item())\n",
    "\n",
    "AttractiveData.df_test['Label'] = predict_list\n",
    "AttractiveData.df_test[['ID', 'Label']].to_csv(config['save_name'] + '.csv', index=False)"
   ]
  },
  {
   "cell_type": "markdown",
   "metadata": {},
   "source": [
    "## Below for statistics"
   ]
  },
  {
   "cell_type": "code",
   "execution_count": 9,
   "metadata": {},
   "outputs": [],
   "source": [
    "import statistics\n",
    "from sklearn.metrics import mean_squared_error"
   ]
  },
  {
   "cell_type": "code",
   "execution_count": 10,
   "metadata": {},
   "outputs": [],
   "source": [
    "# # train mean = 3.15, test mean = 2.8\n",
    "# train_list = []\n",
    "# for i, sentence in enumerate(AttractiveData.train_data):\n",
    "#     prediction = predict_attractive(sentence.Headline, sentence.Category, 'train')\n",
    "#     train_list.append(prediction.item())\n",
    "#     # train_list.append(prediction.item())\n",
    "# # print(train_list)\n",
    "# mean_squared_error(pd.read_csv('data/train.csv').sort_values(['ID']).Label.to_list(), train_list), statistics.mean(train_list), statistics.stdev(train_list)"
   ]
  },
  {
   "cell_type": "code",
   "execution_count": 11,
   "metadata": {},
   "outputs": [],
   "source": [
    "# train_list[0:5], pd.read_csv('data/train.csv').sort_values(['ID']).Label.to_list()[0:5]"
   ]
  },
  {
   "cell_type": "code",
   "execution_count": 12,
   "metadata": {},
   "outputs": [],
   "source": [
    "# a = AttractiveData.df_train['Label'].to_list()\n",
    "# statistics.mean(a), statistics.stdev(a)"
   ]
  },
  {
   "cell_type": "code",
   "execution_count": 13,
   "metadata": {},
   "outputs": [
    {
     "output_type": "execute_result",
     "data": {
      "text/plain": [
       "(2.7900159022881597, 0.35847248097807277)"
      ]
     },
     "metadata": {},
     "execution_count": 13
    }
   ],
   "source": [
    "statistics.mean(predict_list), statistics.stdev(predict_list)"
   ]
  },
  {
   "cell_type": "code",
   "execution_count": 14,
   "metadata": {},
   "outputs": [
    {
     "output_type": "execute_result",
     "data": {
      "text/plain": [
       "(0.0009046276226963554, 2.8142020345259344, 0.36798823904910916)"
      ]
     },
     "metadata": {},
     "execution_count": 14
    }
   ],
   "source": [
    "baseline_list = pd.read_csv('baseline.csv').sort_values(['ID']).Label.to_list()\n",
    "mean_squared_error(baseline_list, predict_list), statistics.mean(baseline_list), statistics.stdev(baseline_list)"
   ]
  },
  {
   "cell_type": "code",
   "execution_count": null,
   "metadata": {},
   "outputs": [],
   "source": []
  },
  {
   "cell_type": "code",
   "execution_count": 17,
   "metadata": {},
   "outputs": [
    {
     "output_type": "execute_result",
     "data": {
      "text/plain": [
       "0.0"
      ]
     },
     "metadata": {},
     "execution_count": 17
    }
   ],
   "source": [
    "mean_squared_error(pd.read_csv('baseline.csv').sort_values(['ID']).Label.to_list(), pd.read_csv('../309551062/predict/CNN_LSTM_20201109-125007_0.374958.75.csv').sort_values(['ID']).Label.to_list())"
   ]
  },
  {
   "cell_type": "code",
   "execution_count": 13,
   "metadata": {},
   "outputs": [],
   "source": []
  },
  {
   "cell_type": "code",
   "execution_count": null,
   "metadata": {},
   "outputs": [],
   "source": []
  }
 ],
 "metadata": {
  "kernelspec": {
   "display_name": "DS_hw2",
   "language": "python",
   "name": "ds_hw2"
  },
  "language_info": {
   "codemirror_mode": {
    "name": "ipython",
    "version": 3
   },
   "file_extension": ".py",
   "mimetype": "text/x-python",
   "name": "python",
   "nbconvert_exporter": "python",
   "pygments_lexer": "ipython3",
   "version": "3.6.12-final"
  }
 },
 "nbformat": 4,
 "nbformat_minor": 4
}