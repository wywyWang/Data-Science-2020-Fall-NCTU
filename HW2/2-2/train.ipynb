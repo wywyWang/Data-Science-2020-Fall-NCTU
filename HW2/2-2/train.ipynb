{
 "metadata": {
  "language_info": {
   "codemirror_mode": {
    "name": "ipython",
    "version": 3
   },
   "file_extension": ".py",
   "mimetype": "text/x-python",
   "name": "python",
   "nbconvert_exporter": "python",
   "pygments_lexer": "ipython3",
   "version": "3.6.12-final"
  },
  "orig_nbformat": 2,
  "kernelspec": {
   "name": "Python 3.6.12 64-bit",
   "display_name": "Python 3.6.12 64-bit",
   "metadata": {
    "interpreter": {
     "hash": "de6ec751e8d816810380d8c8f13d270f86a313990c5d5930d253da012ff5e7fc"
    }
   }
  }
 },
 "nbformat": 4,
 "nbformat_minor": 2,
 "cells": [
  {
   "cell_type": "code",
   "execution_count": 1,
   "metadata": {},
   "outputs": [],
   "source": [
    "# common packages\n",
    "import pandas as pd\n",
    "import time\n",
    "\n",
    "# # DL framework\n",
    "import torch\n",
    "from torchtext import data\n",
    "\n",
    "from attractivedata import AttractiveData\n",
    "from trainer import AttractiveTrainer"
   ]
  },
  {
   "source": [
    "## Load and prepare data"
   ],
   "cell_type": "markdown",
   "metadata": {}
  },
  {
   "cell_type": "code",
   "execution_count": 2,
   "metadata": {},
   "outputs": [],
   "source": [
    "train_file = 'data/train.csv'\n",
    "test_file = 'data/test.csv'\n",
    "pretrained_file = 'glove.840B.300d'\n",
    "config = {\n",
    "    'max_seq': 40,\n",
    "    'min_freq': 0,\n",
    "    'batch_size': 64,\n",
    "    'pretrained_file': pretrained_file\n",
    "}\n"
   ]
  },
  {
   "cell_type": "code",
   "execution_count": 3,
   "metadata": {},
   "outputs": [],
   "source": [
    "AttractiveData = AttractiveData(train_file, test_file, pretrained_file, config)"
   ]
  },
  {
   "cell_type": "code",
   "execution_count": 4,
   "metadata": {},
   "outputs": [],
   "source": [
    "# for i, sentence in enumerate(AttractiveData.test_data):\n",
    "#     if i == 3:\n",
    "#         print(vars(AttractiveData.train_data[i]), vars(sentence))"
   ]
  },
  {
   "cell_type": "code",
   "execution_count": 5,
   "metadata": {},
   "outputs": [
    {
     "output_type": "execute_result",
     "data": {
      "text/plain": [
       "18"
      ]
     },
     "metadata": {},
     "execution_count": 5
    }
   ],
   "source": [
    "len(AttractiveData.CATEGORIES_LABEL.vocab.freqs)"
   ]
  },
  {
   "cell_type": "code",
   "execution_count": 6,
   "metadata": {},
   "outputs": [
    {
     "output_type": "execute_result",
     "data": {
      "text/plain": [
       "38"
      ]
     },
     "metadata": {},
     "execution_count": 6
    }
   ],
   "source": [
    "max_len = 0\n",
    "a = AttractiveData.train_data\n",
    "for i in range(len(a)):\n",
    "    if len(a[i].Headline) >= max_len:\n",
    "        max_len = len(a[i].Headline)\n",
    "max_len"
   ]
  },
  {
   "source": [
    "## Start to train"
   ],
   "cell_type": "markdown",
   "metadata": {}
  },
  {
   "cell_type": "code",
   "execution_count": 7,
   "metadata": {},
   "outputs": [
    {
     "output_type": "stream",
     "name": "stdout",
     "text": [
      "torch.Size([12699, 300])\n"
     ]
    }
   ],
   "source": [
    "config['timestr'] = time.strftime(\"%Y%m%d-%H%M%S\")\n",
    "config['save_name'] = 'CNN_LSTM'\n",
    "config['input_dim'] = len(AttractiveData.TEXT.vocab)\n",
    "config['embedding_dim'] = 300\n",
    "config['category_dim'] = len(AttractiveData.CATEGORIES_LABEL.vocab)\n",
    "config['category_embedding_dim'] = 5\n",
    "config['hidden_dim'] = 30\n",
    "config['output_dim'] = 1\n",
    "config['log_steps'] = 10\n",
    "config['epochs'] = 300\n",
    "config['lr'] = {\n",
    "    'encoder': 1e-5,\n",
    "    'embedding': 5e-6,\n",
    "    'linear': 1e-5\n",
    "}\n",
    "config['num_layers'] = 1\n",
    "config['kernel_size'] = 3\n",
    "config['dropout'] = 0.1\n",
    "config['train_len'] = AttractiveData.train_len\n",
    "config['val_len'] = AttractiveData.val_len\n",
    "config['test_len'] = AttractiveData.test_len\n",
    "\n",
    "pretrained_embeddings = AttractiveData.TEXT.vocab.vectors\n",
    "print(pretrained_embeddings.shape)"
   ]
  },
  {
   "cell_type": "code",
   "execution_count": 8,
   "metadata": {},
   "outputs": [],
   "source": [
    "AttractiveTrainer = AttractiveTrainer(config, AttractiveData.device, AttractiveData.trainloader, AttractiveData.valloader, pretrained_embeddings)"
   ]
  },
  {
   "cell_type": "code",
   "execution_count": 9,
   "metadata": {},
   "outputs": [
    {
     "output_type": "execute_result",
     "data": {
      "text/plain": [
       "(AttractiveNet(\n",
       "   (embedding): AttractiveEmbedding(\n",
       "     (token): TokenEmbedding(12699, 300, padding_idx=1)\n",
       "   )\n",
       "   (bigramcnn): Sequential(\n",
       "     (0): Conv1d(300, 220, kernel_size=(2,), stride=(1,), padding=(1,))\n",
       "     (1): ReLU()\n",
       "     (2): Conv1d(220, 150, kernel_size=(2,), stride=(1,), padding=(1,))\n",
       "     (3): ReLU()\n",
       "     (4): Conv1d(150, 100, kernel_size=(2,), stride=(1,), padding=(1,))\n",
       "     (5): ReLU()\n",
       "   )\n",
       "   (trigramcnn): Sequential(\n",
       "     (0): Conv1d(300, 220, kernel_size=(3,), stride=(1,), padding=(1,))\n",
       "     (1): ReLU()\n",
       "     (2): Conv1d(220, 150, kernel_size=(3,), stride=(1,), padding=(1,))\n",
       "     (3): ReLU()\n",
       "     (4): Conv1d(150, 100, kernel_size=(3,), stride=(1,), padding=(1,))\n",
       "     (5): ReLU()\n",
       "   )\n",
       "   (encoder_bigram): LSTM(100, 30, batch_first=True, dropout=0.1, bidirectional=True)\n",
       "   (encoder_trigram): LSTM(100, 30, batch_first=True, dropout=0.1, bidirectional=True)\n",
       "   (linear): Sequential(\n",
       "     (0): Linear(in_features=240, out_features=30, bias=True)\n",
       "     (1): ReLU()\n",
       "     (2): Linear(in_features=30, out_features=1, bias=True)\n",
       "   )\n",
       " ),\n",
       " 4451261,\n",
       " 641561)"
      ]
     },
     "metadata": {},
     "execution_count": 9
    }
   ],
   "source": [
    "AttractiveTrainer.model, AttractiveTrainer.config['total_params'], AttractiveTrainer.config['total_learned_params']"
   ]
  },
  {
   "cell_type": "code",
   "execution_count": 10,
   "metadata": {
    "tags": [
     "outputPrepend"
    ]
   },
   "outputs": [
    {
     "output_type": "stream",
     "name": "stderr",
     "text": [
      ": 0.4513455559225643 |\n",
      "====\n",
      "Epoch:  53%|█████▎    | 158/300 [01:01<00:55,  2.56it/s]\n",
      "EP_train | train loss: 0.43325726752187693 | val loss: 0.4477531208711512 |\n",
      "====\n",
      "Epoch:  53%|█████▎    | 159/300 [01:02<00:55,  2.55it/s]\n",
      "EP_train | train loss: 0.4295590933631448 | val loss: 0.44444046768487666 |\n",
      "====\n",
      "Epoch:  53%|█████▎    | 160/300 [01:02<00:54,  2.55it/s]\n",
      "EP_train | train loss: 0.4258126838534486 | val loss: 0.44118406258377374 |\n",
      "====\n",
      "Epoch:  54%|█████▎    | 161/300 [01:02<00:54,  2.56it/s]\n",
      "EP_train | train loss: 0.42229105070525524 | val loss: 0.43755628548416436 |\n",
      "====\n",
      "Epoch:  54%|█████▍    | 162/300 [01:03<00:53,  2.57it/s]\n",
      "EP_train | train loss: 0.41938489745644963 | val loss: 0.4356365858339796 |\n",
      "====\n",
      "Epoch:  54%|█████▍    | 163/300 [01:03<00:53,  2.56it/s]\n",
      "EP_train | train loss: 0.41604072346406823 | val loss: 0.43215513229370117 |\n",
      "====\n",
      "Epoch:  55%|█████▍    | 164/300 [01:04<00:53,  2.56it/s]\n",
      "EP_train | train loss: 0.41373226315367456 | val loss: 0.4301278637904747 |\n",
      "====\n",
      "Epoch:  55%|█████▌    | 165/300 [01:04<00:52,  2.55it/s]\n",
      "EP_train | train loss: 0.40981815188538795 | val loss: 0.42708812975415994 |\n",
      "====\n",
      "Epoch:  55%|█████▌    | 166/300 [01:04<00:52,  2.56it/s]\n",
      "EP_train | train loss: 0.4076331334955552 | val loss: 0.42534484115301396 |\n",
      "====\n",
      "Epoch:  56%|█████▌    | 167/300 [01:05<00:51,  2.57it/s]\n",
      "EP_train | train loss: 0.40566133050357595 | val loss: 0.4243324223686667 |\n",
      "====\n",
      "Epoch:  56%|█████▌    | 168/300 [01:05<00:51,  2.57it/s]\n",
      "EP_train | train loss: 0.4016649844599705 | val loss: 0.42018335005816293 |\n",
      "====\n",
      "Epoch:  56%|█████▋    | 169/300 [01:06<00:50,  2.58it/s]\n",
      "EP_train | train loss: 0.3982828046761307 | val loss: 0.4179394011404 |\n",
      "====\n",
      "Epoch:  57%|█████▋    | 170/300 [01:06<00:50,  2.59it/s]\n",
      "EP_train | train loss: 0.395186643039479 | val loss: 0.4152929081636317 |\n",
      "====\n",
      "Epoch:  57%|█████▋    | 171/300 [01:06<00:49,  2.59it/s]\n",
      "EP_train | train loss: 0.3924947607750986 | val loss: 0.4128813089108935 |\n",
      "====\n",
      "Epoch:  57%|█████▋    | 172/300 [01:07<00:49,  2.60it/s]\n",
      "EP_train | train loss: 0.3891215436598834 | val loss: 0.4102308329413919 |\n",
      "====\n",
      "Epoch:  58%|█████▊    | 173/300 [01:07<00:49,  2.58it/s]\n",
      "EP_train | train loss: 0.3887737133923699 | val loss: 0.4095652524162741 |\n",
      "====\n",
      "Epoch:  58%|█████▊    | 174/300 [01:07<00:48,  2.59it/s]\n",
      "EP_train | train loss: 0.3831205555036956 | val loss: 0.4042118296903722 |\n",
      "====\n",
      "Epoch:  58%|█████▊    | 175/300 [01:08<00:48,  2.59it/s]\n",
      "EP_train | train loss: 0.3796273109959621 | val loss: 0.4014340008006376 |\n",
      "====\n",
      "Epoch:  59%|█████▊    | 176/300 [01:08<00:47,  2.59it/s]\n",
      "EP_train | train loss: 0.37642138144549203 | val loss: 0.3980068786471498 |\n",
      "====\n",
      "Epoch:  59%|█████▉    | 177/300 [01:09<00:47,  2.59it/s]\n",
      "EP_train | train loss: 0.3746557647106694 | val loss: 0.39497005238252525 |\n",
      "====\n",
      "Epoch:  59%|█████▉    | 178/300 [01:09<00:47,  2.58it/s]\n",
      "EP_train | train loss: 0.37103288033429316 | val loss: 0.3904411746006386 |\n",
      "====\n",
      "Epoch:  60%|█████▉    | 179/300 [01:09<00:46,  2.59it/s]\n",
      "EP_train | train loss: 0.3658652380401013 | val loss: 0.3863338863148409 |\n",
      "====\n",
      "Epoch:  60%|██████    | 180/300 [01:10<00:46,  2.59it/s]\n",
      "EP_train | train loss: 0.3617535675273222 | val loss: 0.3813391853781307 |\n",
      "====\n",
      "Epoch:  60%|██████    | 181/300 [01:10<00:46,  2.58it/s]\n",
      "EP_train | train loss: 0.3584507166170606 | val loss: 0.37675902422736673 |\n",
      "====\n",
      "Epoch:  61%|██████    | 182/300 [01:11<00:45,  2.57it/s]\n",
      "EP_train | train loss: 0.3533341664893954 | val loss: 0.3724180483350567 |\n",
      "====\n",
      "Epoch:  61%|██████    | 183/300 [01:11<00:45,  2.57it/s]\n",
      "EP_train | train loss: 0.34897840630774407 | val loss: 0.36771119809618186 |\n",
      "====\n",
      "Epoch:  61%|██████▏   | 184/300 [01:11<00:45,  2.57it/s]\n",
      "EP_train | train loss: 0.3444499188778447 | val loss: 0.3616607048932244 |\n",
      "====\n",
      "Epoch:  62%|██████▏   | 185/300 [01:12<00:45,  2.52it/s]\n",
      "EP_train | train loss: 0.3404782220429065 | val loss: 0.35803863114001705 |\n",
      "====\n",
      "Epoch:  62%|██████▏   | 186/300 [01:12<00:44,  2.53it/s]\n",
      "EP_train | train loss: 0.33431712178622974 | val loss: 0.3499913496129653 |\n",
      "====\n",
      "Epoch:  62%|██████▏   | 187/300 [01:13<00:44,  2.54it/s]\n",
      "EP_train | train loss: 0.32904501522288604 | val loss: 0.34405113669002757 |\n",
      "====\n",
      "Epoch:  63%|██████▎   | 188/300 [01:13<00:43,  2.55it/s]\n",
      "EP_train | train loss: 0.3237009712294036 | val loss: 0.3376005023133521 |\n",
      "====\n",
      "Epoch:  63%|██████▎   | 189/300 [01:13<00:43,  2.54it/s]\n",
      "EP_train | train loss: 0.3193243414747949 | val loss: 0.3323618570963542 |\n",
      "====\n",
      "Epoch:  63%|██████▎   | 190/300 [01:14<00:43,  2.54it/s]\n",
      "EP_train | train loss: 0.31218011519488165 | val loss: 0.3230769213508157 |\n",
      "====\n",
      "Epoch:  64%|██████▎   | 191/300 [01:14<00:42,  2.56it/s]\n",
      "EP_train | train loss: 0.30760940430211087 | val loss: 0.31963380177815753 |\n",
      "====\n",
      "Epoch:  64%|██████▍   | 192/300 [01:14<00:42,  2.57it/s]\n",
      "EP_train | train loss: 0.29955203018936455 | val loss: 0.30911023944031957 |\n",
      "====\n",
      "Epoch:  64%|██████▍   | 193/300 [01:15<00:41,  2.57it/s]\n",
      "EP_train | train loss: 0.2941175474840052 | val loss: 0.30548738030826345 |\n",
      "====\n",
      "Epoch:  65%|██████▍   | 194/300 [01:15<00:41,  2.57it/s]\n",
      "EP_train | train loss: 0.2872539641810398 | val loss: 0.297118345896403 |\n",
      "====\n",
      "Epoch:  65%|██████▌   | 195/300 [01:16<00:41,  2.55it/s]\n",
      "EP_train | train loss: 0.2789591854693843 | val loss: 0.2881135005576938 |\n",
      "====\n",
      "Epoch:  65%|██████▌   | 196/300 [01:16<00:40,  2.55it/s]\n",
      "EP_train | train loss: 0.2716802442775053 | val loss: 0.2787009781482173 |\n",
      "====\n",
      "Epoch:  66%|██████▌   | 197/300 [01:16<00:40,  2.55it/s]\n",
      "EP_train | train loss: 0.26331574122111 | val loss: 0.27323373158772785 |\n",
      "====\n",
      "Epoch:  66%|██████▌   | 198/300 [01:17<00:39,  2.55it/s]\n",
      "EP_train | train loss: 0.2657522575528014 | val loss: 0.27347766651826744 |\n",
      "====\n",
      "Epoch:  66%|██████▋   | 199/300 [01:17<00:39,  2.56it/s]\n",
      "EP_train | train loss: 0.2482083152322208 | val loss: 0.2558459955103257 |\n",
      "====\n",
      "Epoch:  67%|██████▋   | 200/300 [01:18<00:39,  2.56it/s]\n",
      "EP_train | train loss: 0.23890231356901281 | val loss: 0.2489760810253667 |\n",
      "====\n",
      "Epoch:  67%|██████▋   | 201/300 [01:18<00:39,  2.52it/s]\n",
      "EP_train | train loss: 0.23339810511645148 | val loss: 0.24252398808797201 |\n",
      "====\n",
      "Epoch:  67%|██████▋   | 202/300 [01:18<00:38,  2.53it/s]\n",
      "EP_train | train loss: 0.22607374845766554 | val loss: 0.234618299147662 |\n",
      "====\n",
      "Epoch:  68%|██████▊   | 203/300 [01:19<00:38,  2.54it/s]\n",
      "EP_train | train loss: 0.21428451538085938 | val loss: 0.22361347722072228 |\n",
      "====\n",
      "Epoch:  68%|██████▊   | 204/300 [01:19<00:37,  2.54it/s]\n",
      "EP_train | train loss: 0.2045501989476821 | val loss: 0.21120441661161535 |\n",
      "====\n",
      "Epoch:  68%|██████▊   | 205/300 [01:20<00:37,  2.54it/s]\n",
      "EP_train | train loss: 0.20013735808578192 | val loss: 0.20794922230290433 |\n",
      "====\n",
      "Epoch:  69%|██████▊   | 206/300 [01:20<00:36,  2.56it/s]\n",
      "EP_train | train loss: 0.19375395213856417 | val loss: 0.20124167087031344 |\n",
      "====\n",
      "Epoch:  69%|██████▉   | 207/300 [01:20<00:36,  2.56it/s]\n",
      "EP_train | train loss: 0.17364962217854518 | val loss: 0.17650793580447927 |\n",
      "====\n",
      "Epoch:  69%|██████▉   | 208/300 [01:21<00:36,  2.54it/s]\n",
      "EP_train | train loss: 0.16403105539434096 | val loss: 0.16818537431604721 |\n",
      "====\n",
      "Epoch:  70%|██████▉   | 209/300 [01:21<00:35,  2.55it/s]\n",
      "EP_train | train loss: 0.16191230498108208 | val loss: 0.16532533309038946 |\n",
      "====\n",
      "Epoch:  70%|███████   | 210/300 [01:22<00:35,  2.55it/s]\n",
      "EP_train | train loss: 0.15124822364133947 | val loss: 0.15399870218015185 |\n",
      "====\n",
      "Epoch:  70%|███████   | 211/300 [01:22<00:34,  2.56it/s]\n",
      "EP_train | train loss: 0.1394510084507512 | val loss: 0.13970311482747397 |\n",
      "====\n",
      "Epoch:  71%|███████   | 212/300 [01:22<00:34,  2.54it/s]\n",
      "EP_train | train loss: 0.14222029190437466 | val loss: 0.14423685447842466 |\n",
      "====\n",
      "Epoch:  71%|███████   | 213/300 [01:23<00:34,  2.54it/s]\n",
      "EP_train | train loss: 0.12819086336622051 | val loss: 0.12851664599250345 |\n",
      "====\n",
      "Epoch:  71%|███████▏  | 214/300 [01:23<00:33,  2.56it/s]\n",
      "EP_train | train loss: 0.11852507824991264 | val loss: 0.11040974598304898 |\n",
      "====\n",
      "Epoch:  72%|███████▏  | 215/300 [01:23<00:33,  2.57it/s]\n",
      "EP_train | train loss: 0.11476720057281793 | val loss: 0.10059212235843434 |\n",
      "====\n",
      "Epoch:  72%|███████▏  | 216/300 [01:24<00:32,  2.56it/s]\n",
      "EP_train | train loss: 0.10501500227872063 | val loss: 0.09299618590111826 |\n",
      "====\n",
      "Epoch:  72%|███████▏  | 217/300 [01:24<00:32,  2.56it/s]\n",
      "EP_train | train loss: 0.1136941302056406 | val loss: 0.11467347893060423 |\n",
      "====\n",
      "Epoch:  73%|███████▎  | 218/300 [01:25<00:31,  2.56it/s]\n",
      "EP_train | train loss: 0.08955391329877517 | val loss: 0.08356784371768727 |\n",
      "====\n",
      "Epoch:  73%|███████▎  | 219/300 [01:25<00:31,  2.57it/s]\n",
      "EP_train | train loss: 0.10149342429404165 | val loss: 0.08258296461666331 |\n",
      "====\n",
      "Epoch:  73%|███████▎  | 220/300 [01:25<00:31,  2.57it/s]\n",
      "EP_train | train loss: 0.07435548550942365 | val loss: 0.0685433733697031 |\n",
      "====\n",
      "Epoch:  74%|███████▎  | 221/300 [01:26<00:30,  2.57it/s]\n",
      "EP_train | train loss: 0.06700490374191134 | val loss: 0.05528374980477726 |\n",
      "====\n",
      "Epoch:  74%|███████▍  | 222/300 [01:26<00:30,  2.57it/s]\n",
      "EP_train | train loss: 0.061385989598199436 | val loss: 0.052288237740011775 |\n",
      "====\n",
      "Epoch:  74%|███████▍  | 223/300 [01:27<00:29,  2.57it/s]\n",
      "EP_train | train loss: 0.056243497483870565 | val loss: 0.04645742154588886 |\n",
      "====\n",
      "Epoch:  75%|███████▍  | 224/300 [01:27<00:29,  2.56it/s]\n",
      "EP_train | train loss: 0.053790989284421886 | val loss: 0.04177799645592185 |\n",
      "====\n",
      "Epoch:  75%|███████▌  | 225/300 [01:27<00:29,  2.55it/s]\n",
      "EP_train | train loss: 0.048304497260673374 | val loss: 0.03971567808413038 |\n",
      "====\n",
      "Epoch:  75%|███████▌  | 226/300 [01:28<00:28,  2.56it/s]\n",
      "EP_train | train loss: 0.050274352349487 | val loss: 0.036569345231149714 |\n",
      "====\n",
      "Epoch:  76%|███████▌  | 227/300 [01:28<00:28,  2.56it/s]\n",
      "EP_train | train loss: 0.03961345009944018 | val loss: 0.031104682707319073 |\n",
      "====\n",
      "Epoch:  76%|███████▌  | 228/300 [01:29<00:28,  2.56it/s]\n",
      "EP_train | train loss: 0.037290417738989286 | val loss: 0.0299305378221998 |\n",
      "====\n",
      "Epoch:  76%|███████▋  | 229/300 [01:29<00:27,  2.55it/s]\n",
      "EP_train | train loss: 0.034268837933446844 | val loss: 0.025915096787845388 |\n",
      "====\n",
      "Epoch:  77%|███████▋  | 230/300 [01:29<00:27,  2.55it/s]\n",
      "EP_train | train loss: 0.04307272831598918 | val loss: 0.03144096860698625 |\n",
      "====\n",
      "Epoch:  77%|███████▋  | 231/300 [01:30<00:27,  2.55it/s]\n",
      "EP_train | train loss: 0.029839711738567726 | val loss: 0.024452495808694876 |\n",
      "====\n",
      "Epoch:  77%|███████▋  | 232/300 [01:30<00:26,  2.55it/s]\n",
      "EP_train | train loss: 0.027704450604962367 | val loss: 0.020291805267333984 |\n",
      "====\n",
      "Epoch:  78%|███████▊  | 233/300 [01:31<00:26,  2.56it/s]\n",
      "EP_train | train loss: 0.035146668611788286 | val loss: 0.023717716628429936 |\n",
      "====\n",
      "Epoch:  78%|███████▊  | 234/300 [01:31<00:25,  2.57it/s]\n",
      "EP_train | train loss: 0.023858553083503948 | val loss: 0.01952895872733172 |\n",
      "====\n",
      "Epoch:  78%|███████▊  | 235/300 [01:31<00:25,  2.57it/s]\n",
      "EP_train | train loss: 0.021327185879151025 | val loss: 0.01523825350929709 |\n",
      "====\n",
      "Epoch:  79%|███████▊  | 236/300 [01:32<00:24,  2.58it/s]\n",
      "EP_train | train loss: 0.02109470586566364 | val loss: 0.01481404842114916 |\n",
      "====\n",
      "Epoch:  79%|███████▉  | 237/300 [01:32<00:24,  2.60it/s]\n",
      "EP_train | train loss: 0.018931352916885826 | val loss: 0.015460981457841163 |\n",
      "====\n",
      "Epoch:  79%|███████▉  | 238/300 [01:32<00:23,  2.60it/s]\n",
      "EP_train | train loss: 0.02310735060303819 | val loss: 0.022296685798495423 |\n",
      "====\n",
      "Epoch:  80%|███████▉  | 239/300 [01:33<00:23,  2.61it/s]\n",
      "EP_train | train loss: 0.016249412356638442 | val loss: 0.013075731548608518 |\n",
      "====\n",
      "Epoch:  80%|████████  | 240/300 [01:33<00:23,  2.60it/s]\n",
      "EP_train | train loss: 0.014316715972096312 | val loss: 0.011118554893661948 |\n",
      "====\n",
      "Epoch:  80%|████████  | 241/300 [01:34<00:22,  2.59it/s]\n",
      "EP_train | train loss: 0.016639043449186812 | val loss: 0.015410092531466017 |\n",
      "====\n",
      "Epoch:  81%|████████  | 242/300 [01:34<00:22,  2.58it/s]\n",
      "EP_train | train loss: 0.012396798180598839 | val loss: 0.009688165842318068 |\n",
      "====\n",
      "Epoch:  81%|████████  | 243/300 [01:34<00:22,  2.57it/s]\n",
      "EP_train | train loss: 0.011957310695274203 | val loss: 0.01071532947175643 |\n",
      "====\n",
      "Epoch:  81%|████████▏ | 244/300 [01:35<00:21,  2.56it/s]\n",
      "EP_train | train loss: 0.011526131220892364 | val loss: 0.009123773843634362 |\n",
      "====\n",
      "Epoch:  82%|████████▏ | 245/300 [01:35<00:21,  2.56it/s]\n",
      "EP_train | train loss: 0.01815617896762549 | val loss: 0.019808787925570618 |\n",
      "====\n",
      "Epoch:  82%|████████▏ | 246/300 [01:36<00:21,  2.56it/s]\n",
      "EP_train | train loss: 0.00931552634665779 | val loss: 0.008294814941929836 |\n",
      "====\n",
      "Epoch:  82%|████████▏ | 247/300 [01:36<00:20,  2.53it/s]\n",
      "EP_train | train loss: 0.00980763365240658 | val loss: 0.007587128117972729 |\n",
      "====\n",
      "Epoch:  83%|████████▎ | 248/300 [01:36<00:20,  2.56it/s]\n",
      "EP_train | train loss: 0.008165334128573828 | val loss: 0.0073276132929558846 |\n",
      "====\n",
      "Epoch:  83%|████████▎ | 249/300 [01:37<00:19,  2.57it/s]\n",
      "EP_train | train loss: 0.010463142351192587 | val loss: 0.011728620996662215 |\n",
      "====\n",
      "Epoch:  83%|████████▎ | 250/300 [01:37<00:19,  2.58it/s]\n",
      "EP_train | train loss: 0.007326069035950829 | val loss: 0.006888060300957923 |\n",
      "====\n",
      "Epoch:  84%|████████▎ | 251/300 [01:38<00:19,  2.54it/s]\n",
      "EP_train | train loss: 0.00909985965665649 | val loss: 0.007446529234156889 |\n",
      "====\n",
      "Epoch:  84%|████████▍ | 252/300 [01:38<00:18,  2.56it/s]\n",
      "EP_train | train loss: 0.011002105006984637 | val loss: 0.013629294493619134 |\n",
      "====\n",
      "Epoch:  84%|████████▍ | 253/300 [01:38<00:18,  2.54it/s]\n",
      "EP_train | train loss: 0.006475392918960721 | val loss: 0.007657816743149477 |\n",
      "====\n",
      "Epoch:  85%|████████▍ | 254/300 [01:39<00:18,  2.55it/s]\n",
      "EP_train | train loss: 0.0056389188759175006 | val loss: 0.006184279918670654 |\n",
      "====\n",
      "Epoch:  85%|████████▌ | 255/300 [01:39<00:17,  2.55it/s]\n",
      "EP_train | train loss: 0.005417813850091953 | val loss: 0.006594293403859232 |\n",
      "====\n",
      "Epoch:  85%|████████▌ | 256/300 [01:39<00:17,  2.55it/s]\n",
      "EP_train | train loss: 0.0050953840142955965 | val loss: 0.0063815750912124035 |\n",
      "====\n",
      "Epoch:  86%|████████▌ | 257/300 [01:40<00:16,  2.56it/s]\n",
      "EP_train | train loss: 0.0049213667856711964 | val loss: 0.005588577804612178 |\n",
      "====\n",
      "Epoch:  86%|████████▌ | 258/300 [01:40<00:16,  2.56it/s]\n",
      "EP_train | train loss: 0.004660790815365081 | val loss: 0.0054019894085678396 |\n",
      "====\n",
      "Epoch:  86%|████████▋ | 259/300 [01:41<00:16,  2.56it/s]\n",
      "EP_train | train loss: 0.0055466419560652154 | val loss: 0.008178572152175155 |\n",
      "====\n",
      "Epoch:  87%|████████▋ | 260/300 [01:41<00:15,  2.56it/s]\n",
      "EP_train | train loss: 0.003941281746123351 | val loss: 0.005500976653660045 |\n",
      "====\n",
      "Epoch:  87%|████████▋ | 261/300 [01:41<00:15,  2.56it/s]\n",
      "EP_train | train loss: 0.0039172359176126185 | val loss: 0.005945638552600262 |\n",
      "====\n",
      "Epoch:  87%|████████▋ | 262/300 [01:42<00:14,  2.57it/s]\n",
      "EP_train | train loss: 0.003829882728556792 | val loss: 0.00591096150524476 |\n",
      "====\n",
      "Epoch:  88%|████████▊ | 263/300 [01:42<00:14,  2.58it/s]\n",
      "EP_train | train loss: 0.004686739850862353 | val loss: 0.0074057917968899595 |\n",
      "====\n",
      "Epoch:  88%|████████▊ | 264/300 [01:43<00:13,  2.58it/s]\n",
      "EP_train | train loss: 0.0034148883403224105 | val loss: 0.00504816725265746 |\n",
      "====\n",
      "Epoch:  88%|████████▊ | 265/300 [01:43<00:13,  2.58it/s]\n",
      "EP_train | train loss: 0.004139377961994387 | val loss: 0.00710388346045625 |\n",
      "====\n",
      "Epoch:  89%|████████▊ | 266/300 [01:43<00:13,  2.58it/s]\n",
      "EP_train | train loss: 0.0029731309589217693 | val loss: 0.005255944004245833 |\n",
      "====\n",
      "Epoch:  89%|████████▉ | 267/300 [01:44<00:12,  2.57it/s]\n",
      "EP_train | train loss: 0.003189101935747792 | val loss: 0.005987130835944531 |\n",
      "====\n",
      "Epoch:  89%|████████▉ | 268/300 [01:44<00:12,  2.57it/s]\n",
      "EP_train | train loss: 0.00277546467076914 | val loss: 0.005868979821018144 |\n",
      "====\n",
      "Epoch:  90%|████████▉ | 269/300 [01:45<00:12,  2.57it/s]\n",
      "EP_train | train loss: 0.003122825599184223 | val loss: 0.004837119696187038 |\n",
      "====\n",
      "Epoch:  90%|█████████ | 270/300 [01:45<00:11,  2.57it/s]\n",
      "EP_train | train loss: 0.002652507910833639 | val loss: 0.004820021198076361 |\n",
      "====\n",
      "Epoch:  90%|█████████ | 271/300 [01:45<00:11,  2.57it/s]\n",
      "EP_train | train loss: 0.0024424467911469 | val loss: 0.005184522154284459 |\n",
      "====\n",
      "Epoch:  91%|█████████ | 272/300 [01:46<00:10,  2.57it/s]\n",
      "EP_train | train loss: 0.002453211411906808 | val loss: 0.005693287826051899 |\n",
      "====\n",
      "Epoch:  91%|█████████ | 273/300 [01:46<00:10,  2.55it/s]\n",
      "EP_train | train loss: 0.00289486243079106 | val loss: 0.005258911672760458 |\n",
      "====\n",
      "Epoch:  91%|█████████▏| 274/300 [01:46<00:10,  2.56it/s]\n",
      "EP_train | train loss: 0.0027654086221374718 | val loss: 0.005500646782856362 |\n",
      "====\n",
      "Epoch:  92%|█████████▏| 275/300 [01:47<00:09,  2.53it/s]\n",
      "EP_train | train loss: 0.003459782083975334 | val loss: 0.005202220058908649 |\n",
      "====\n",
      "Epoch:  92%|█████████▏| 276/300 [01:47<00:09,  2.55it/s]\n",
      "EP_train | train loss: 0.001959653826905232 | val loss: 0.004726442051868813 |\n",
      "====\n",
      "Epoch:  92%|█████████▏| 277/300 [01:48<00:09,  2.55it/s]\n",
      "EP_train | train loss: 0.0019534787966632374 | val loss: 0.0050819609679427806 |\n",
      "====\n",
      "Epoch:  93%|█████████▎| 278/300 [01:48<00:08,  2.55it/s]\n",
      "EP_train | train loss: 0.0016950447349717804 | val loss: 0.004663458714882533 |\n",
      "====\n",
      "Epoch:  93%|█████████▎| 279/300 [01:48<00:08,  2.54it/s]\n",
      "EP_train | train loss: 0.002866890989974433 | val loss: 0.006519586432213877 |\n",
      "====\n",
      "Epoch:  93%|█████████▎| 280/300 [01:49<00:07,  2.55it/s]\n",
      "EP_train | train loss: 0.001523804889224908 | val loss: 0.004463585057094985 |\n",
      "====\n",
      "Epoch:  94%|█████████▎| 281/300 [01:49<00:07,  2.57it/s]\n",
      "EP_train | train loss: 0.0014455671084350815 | val loss: 0.004183682302633922 |\n",
      "====\n",
      "Epoch:  94%|█████████▍| 282/300 [01:50<00:07,  2.56it/s]\n",
      "EP_train | train loss: 0.0014765189650158088 | val loss: 0.004065263285940769 |\n",
      "====\n",
      "Epoch:  94%|█████████▍| 283/300 [01:50<00:06,  2.55it/s]\n",
      "EP_train | train loss: 0.002319836799128383 | val loss: 0.004320556918780009 |\n",
      "====\n",
      "Epoch:  95%|█████████▍| 284/300 [01:50<00:06,  2.56it/s]\n",
      "EP_train | train loss: 0.0014051501931366967 | val loss: 0.004037429742953356 |\n",
      "====\n",
      "Epoch:  95%|█████████▌| 285/300 [01:51<00:05,  2.57it/s]\n",
      "EP_train | train loss: 0.0014355911791105482 | val loss: 0.004371631963580262 |\n",
      "====\n",
      "Epoch:  95%|█████████▌| 286/300 [01:51<00:05,  2.57it/s]\n",
      "EP_train | train loss: 0.001240634142110745 | val loss: 0.004068233291892444 |\n",
      "====\n",
      "Epoch:  96%|█████████▌| 287/300 [01:52<00:05,  2.56it/s]\n",
      "EP_train | train loss: 0.0012235926893338852 | val loss: 0.004185170811765334 |\n",
      "====\n",
      "Epoch:  96%|█████████▌| 288/300 [01:52<00:04,  2.56it/s]\n",
      "EP_train | train loss: 0.0011145680709102866 | val loss: 0.004148393796355117 |\n",
      "====\n",
      "Epoch:  96%|█████████▋| 289/300 [01:52<00:04,  2.57it/s]\n",
      "EP_train | train loss: 0.0010569904565665067 | val loss: 0.0034480587232346626 |\n",
      "====\n",
      "Epoch:  97%|█████████▋| 290/300 [01:53<00:03,  2.56it/s]\n",
      "EP_train | train loss: 0.0011464223000860097 | val loss: 0.0038891549349999895 |\n",
      "====\n",
      "Epoch:  97%|█████████▋| 291/300 [01:53<00:03,  2.55it/s]\n",
      "EP_train | train loss: 0.0012328739561067493 | val loss: 0.004127364240440668 |\n",
      "====\n",
      "Epoch:  97%|█████████▋| 292/300 [01:54<00:03,  2.56it/s]\n",
      "EP_train | train loss: 0.001363297509869524 | val loss: 0.004122094269476685 |\n",
      "====\n",
      "Epoch:  98%|█████████▊| 293/300 [01:54<00:02,  2.56it/s]\n",
      "EP_train | train loss: 0.0013518951961076727 | val loss: 0.0034053414767863705 |\n",
      "====\n",
      "Epoch:  98%|█████████▊| 294/300 [01:54<00:02,  2.55it/s]\n",
      "EP_train | train loss: 0.0011133434497477377 | val loss: 0.0031970309860566083 |\n",
      "====\n",
      "Epoch:  98%|█████████▊| 295/300 [01:55<00:01,  2.56it/s]\n",
      "EP_train | train loss: 0.001378952132939708 | val loss: 0.003295891717368481 |\n",
      "====\n",
      "Epoch:  99%|█████████▊| 296/300 [01:55<00:01,  2.57it/s]\n",
      "EP_train | train loss: 0.0009694737491800505 | val loss: 0.003325729831761005 |\n",
      "====\n",
      "Epoch:  99%|█████████▉| 297/300 [01:55<00:01,  2.57it/s]\n",
      "EP_train | train loss: 0.0015030354206614633 | val loss: 0.004256605882855023 |\n",
      "====\n",
      "Epoch:  99%|█████████▉| 298/300 [01:56<00:00,  2.54it/s]\n",
      "EP_train | train loss: 0.0012828041525448069 | val loss: 0.0038217482905761866 |\n",
      "====\n",
      "Epoch: 100%|█████████▉| 299/300 [01:56<00:00,  2.56it/s]\n",
      "EP_train | train loss: 0.0009099535351874781 | val loss: 0.00288102242584322 |\n",
      "====\n",
      "Epoch: 100%|██████████| 300/300 [01:57<00:00,  2.56it/s]\n",
      "EP_train | train loss: 0.0007191587846689657 | val loss: 0.002740853922624214 |\n",
      "\n"
     ]
    }
   ],
   "source": [
    "AttractiveTrainer.train()"
   ]
  },
  {
   "source": [
    "## for classification, not better"
   ],
   "cell_type": "markdown",
   "metadata": {}
  },
  {
   "source": [
    "## Below is testing"
   ],
   "cell_type": "markdown",
   "metadata": {}
  },
  {
   "cell_type": "code",
   "execution_count": 8,
   "metadata": {},
   "outputs": [
    {
     "output_type": "execute_result",
     "data": {
      "text/plain": [
       "AttractiveNet(\n",
       "  (embedding): AttractiveEmbedding(\n",
       "    (token): TokenEmbedding(12699, 300, padding_idx=1)\n",
       "  )\n",
       "  (bigramcnn): Sequential(\n",
       "    (0): Conv1d(300, 220, kernel_size=(2,), stride=(1,), padding=(1,))\n",
       "    (1): ReLU()\n",
       "    (2): Conv1d(220, 150, kernel_size=(2,), stride=(1,), padding=(1,))\n",
       "    (3): ReLU()\n",
       "    (4): Conv1d(150, 100, kernel_size=(2,), stride=(1,), padding=(1,))\n",
       "    (5): ReLU()\n",
       "  )\n",
       "  (trigramcnn): Sequential(\n",
       "    (0): Conv1d(300, 220, kernel_size=(3,), stride=(1,), padding=(1,))\n",
       "    (1): ReLU()\n",
       "    (2): Conv1d(220, 150, kernel_size=(3,), stride=(1,), padding=(1,))\n",
       "    (3): ReLU()\n",
       "    (4): Conv1d(150, 100, kernel_size=(3,), stride=(1,), padding=(1,))\n",
       "    (5): ReLU()\n",
       "  )\n",
       "  (encoder_bigram): LSTM(100, 30, batch_first=True, dropout=0.1, bidirectional=True)\n",
       "  (encoder_trigram): LSTM(100, 30, batch_first=True, dropout=0.1, bidirectional=True)\n",
       "  (linear): Sequential(\n",
       "    (0): Linear(in_features=240, out_features=30, bias=True)\n",
       "    (1): ReLU()\n",
       "    (2): Linear(in_features=30, out_features=1, bias=True)\n",
       "  )\n",
       ")"
      ]
     },
     "metadata": {},
     "execution_count": 8
    }
   ],
   "source": [
    "from attractivenet import AttractiveNet\n",
    "PATH = './model/CNN_LSTM_20201101-190944_0.4647.150'\n",
    "# load_model = TransformerModel(config).to(AttractiveData.device)\n",
    "load_model = AttractiveNet(config).to(AttractiveData.device)\n",
    "load_model.load_state_dict(torch.load(PATH))\n",
    "load_model.eval()"
   ]
  },
  {
   "cell_type": "code",
   "execution_count": 9,
   "metadata": {},
   "outputs": [],
   "source": [
    "def predict_attractive(sentence, category, phase):\n",
    "    # if len(sentence) < config['max_seq']:\n",
    "    #     sentence += ['0'] * (config['max_seq'] - len(sentence))\n",
    "    # else:\n",
    "    #     sentence = sentence[:config['max_seq']]\n",
    "\n",
    "    indexed_sentence = [AttractiveData.TEXT.vocab.stoi[t] for t in sentence]\n",
    "    indexed_category = [AttractiveData.CATEGORIES_LABEL.vocab.stoi[category]]\n",
    "    tensor_sentence = torch.LongTensor(indexed_sentence).to(AttractiveData.device)\n",
    "    tensor_category = torch.LongTensor(indexed_category).to(AttractiveData.device)\n",
    "\n",
    "    tensor_sentence = tensor_sentence.unsqueeze(0)\n",
    "    # print(tensor_sentence.shape)\n",
    "\n",
    "    prediction = load_model(tensor_sentence, tensor_category, phase=phase)\n",
    "\n",
    "    # after_decimal = prediction % 1\n",
    "    # possible_list = [0.0, 0.3333333333333333, 0.6666666666666665, 0.5, 1.0]\n",
    "    # closet_idx = None\n",
    "    # closet_distance = 1\n",
    "    # for i in range(len(possible_list)):\n",
    "    #     if abs(after_decimal - possible_list[i]) <= closet_distance:\n",
    "    #         closet_idx = i\n",
    "    #         closet_distance = abs(after_decimal - possible_list[i])\n",
    "    # prediction = (prediction // 1) + possible_list[closet_idx]\n",
    "    \n",
    "    return prediction"
   ]
  },
  {
   "cell_type": "code",
   "execution_count": 10,
   "metadata": {
    "tags": []
   },
   "outputs": [],
   "source": [
    "# train mean = 3.15, test mean = 2.8\n",
    "predict_list = []\n",
    "with torch.no_grad():\n",
    "    for i, sentence in enumerate(AttractiveData.test_data):\n",
    "        prediction = predict_attractive(sentence.Headline, sentence.Category, 'test')\n",
    "        predict_list.append(prediction.item())\n",
    "        # predict_list.append(prediction.item())\n",
    "AttractiveData.df_test['Label'] = predict_list\n",
    "AttractiveData.df_test[['ID', 'Label']].to_csv(config['save_name'] + '.csv', index=False)"
   ]
  },
  {
   "source": [
    "## Below just for fun guess"
   ],
   "cell_type": "markdown",
   "metadata": {}
  },
  {
   "cell_type": "code",
   "execution_count": 11,
   "metadata": {},
   "outputs": [],
   "source": [
    "import statistics\n",
    "from sklearn.metrics import mean_squared_error"
   ]
  },
  {
   "cell_type": "code",
   "execution_count": 12,
   "metadata": {},
   "outputs": [
    {
     "output_type": "execute_result",
     "data": {
      "text/plain": [
       "(0.4700707492798301, 3.1605921128216914, 0.12059506105409153)"
      ]
     },
     "metadata": {},
     "execution_count": 12
    }
   ],
   "source": [
    "# train mean = 3.15, test mean = 2.8\n",
    "train_list = []\n",
    "for i, sentence in enumerate(AttractiveData.train_data):\n",
    "    prediction = predict_attractive(sentence.Headline, sentence.Category, 'train')\n",
    "    train_list.append(prediction.item())\n",
    "    # train_list.append(prediction.item())\n",
    "# print(train_list)\n",
    "mean_squared_error(pd.read_csv('data/train.csv').sort_values(['ID']).Label.to_list(), train_list), statistics.mean(train_list), statistics.stdev(train_list)"
   ]
  },
  {
   "cell_type": "code",
   "execution_count": 13,
   "metadata": {},
   "outputs": [
    {
     "output_type": "execute_result",
     "data": {
      "text/plain": [
       "([3.1101653575897217,\n",
       "  3.0293126106262207,\n",
       "  3.1641721725463867,\n",
       "  3.1830244064331055,\n",
       "  2.9946417808532715],\n",
       " [4.0, 2.333333333333333, 4.5, 3.333333333333333, 4.0])"
      ]
     },
     "metadata": {},
     "execution_count": 13
    }
   ],
   "source": [
    "train_list[0:5], pd.read_csv('data/train.csv').sort_values(['ID']).Label.to_list()[0:5]"
   ]
  },
  {
   "cell_type": "code",
   "execution_count": 14,
   "metadata": {},
   "outputs": [
    {
     "output_type": "execute_result",
     "data": {
      "text/plain": [
       "(3.150408496732026, 0.729501519321601)"
      ]
     },
     "metadata": {},
     "execution_count": 14
    }
   ],
   "source": [
    "a = AttractiveData.df_train['Label'].to_list()\n",
    "statistics.mean(a), statistics.stdev(a)"
   ]
  },
  {
   "cell_type": "code",
   "execution_count": 15,
   "metadata": {},
   "outputs": [
    {
     "output_type": "execute_result",
     "data": {
      "text/plain": [
       "(2.7644502917050264, 0.12546147570980334)"
      ]
     },
     "metadata": {},
     "execution_count": 15
    }
   ],
   "source": [
    "statistics.mean(predict_list), statistics.stdev(predict_list)"
   ]
  },
  {
   "cell_type": "code",
   "execution_count": 16,
   "metadata": {},
   "outputs": [
    {
     "output_type": "execute_result",
     "data": {
      "text/plain": [
       "(0.05102957252976835, 2.7156126782757597, 0.29355123275379763)"
      ]
     },
     "metadata": {},
     "execution_count": 16
    }
   ],
   "source": [
    "baseline_list = pd.read_csv('baseline.csv').sort_values(['ID']).Label.to_list()\n",
    "mean_squared_error(baseline_list, predict_list), statistics.mean(baseline_list), statistics.stdev(baseline_list)"
   ]
  },
  {
   "cell_type": "code",
   "execution_count": 14,
   "metadata": {},
   "outputs": [
    {
     "output_type": "execute_result",
     "data": {
      "text/plain": [
       "(2.8167915543795683, 0.14611407210842048)"
      ]
     },
     "metadata": {},
     "execution_count": 14
    }
   ],
   "source": [
    "# LSTM my best\n",
    "# statistics.mean(predict_list), statistics.stdev(predict_list)"
   ]
  },
  {
   "cell_type": "code",
   "execution_count": 21,
   "metadata": {},
   "outputs": [
    {
     "output_type": "execute_result",
     "data": {
      "text/plain": [
       "(0.1347375515605904, 2.8379913731293533, 0.1903582104725371)"
      ]
     },
     "metadata": {},
     "execution_count": 21
    }
   ],
   "source": [
    "a = pd.read_csv('LSTM_base.csv').Label.to_list()\n",
    "mean_squared_error(baseline_list, a), statistics.mean(a), statistics.stdev(a)"
   ]
  },
  {
   "cell_type": "code",
   "execution_count": 14,
   "metadata": {},
   "outputs": [
    {
     "output_type": "execute_result",
     "data": {
      "text/plain": [
       "'the'"
      ]
     },
     "metadata": {},
     "execution_count": 14
    }
   ],
   "source": [
    "AttractiveData.TEXT.vocab.itos[2]"
   ]
  },
  {
   "cell_type": "code",
   "execution_count": 26,
   "metadata": {},
   "outputs": [
    {
     "output_type": "execute_result",
     "data": {
      "text/plain": [
       "Counter({'4.0': 226,\n",
       "         '2.333333333333333': 194,\n",
       "         '4.5': 43,\n",
       "         '3.333333333333333': 313,\n",
       "         '3.6666666666666665': 260,\n",
       "         '2.6666666666666665': 281,\n",
       "         '2.0': 135,\n",
       "         '2.5': 36,\n",
       "         '1.6666666666666667': 28,\n",
       "         '3.0': 354,\n",
       "         '4.333333333333333': 82,\n",
       "         '4.666666666666667': 29,\n",
       "         '1.5': 16,\n",
       "         '3.5': 22,\n",
       "         '1.3333333333333333': 4,\n",
       "         '1.0': 5,\n",
       "         '5.0': 12})"
      ]
     },
     "metadata": {},
     "execution_count": 26
    }
   ],
   "source": [
    "AttractiveData.LABEL.vocab.freqs"
   ]
  },
  {
   "cell_type": "code",
   "execution_count": 29,
   "metadata": {},
   "outputs": [
    {
     "output_type": "stream",
     "name": "stdout",
     "text": [
      "1.0\n0.5\n0.3333333333333333\n"
     ]
    }
   ],
   "source": [
    "for i in range(1, 4):\n",
    "    print(1 / i)\n",
    "# 0, 0.33, 0.5, 0.66, 1"
   ]
  },
  {
   "cell_type": "code",
   "execution_count": 31,
   "metadata": {},
   "outputs": [
    {
     "output_type": "execute_result",
     "data": {
      "text/plain": [
       "0.3333333333333333"
      ]
     },
     "metadata": {},
     "execution_count": 31
    }
   ],
   "source": [
    "0.3333333333333333 % 1"
   ]
  },
  {
   "cell_type": "code",
   "execution_count": null,
   "metadata": {},
   "outputs": [],
   "source": []
  }
 ]
}