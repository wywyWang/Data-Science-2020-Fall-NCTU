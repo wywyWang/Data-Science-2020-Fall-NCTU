{
 "cells": [
  {
   "cell_type": "code",
   "execution_count": 1,
   "metadata": {},
   "outputs": [],
   "source": [
    "# common packages\n",
    "import pandas as pd\n",
    "import time\n",
    "\n",
    "# # DL framework\n",
    "import torch\n",
    "from torchtext import data\n",
    "\n",
    "from attractivedata import AttractiveData\n",
    "from trainer import AttractiveTrainer"
   ]
  },
  {
   "cell_type": "code",
   "execution_count": 2,
   "metadata": {},
   "outputs": [],
   "source": [
    "seed_value = 42\n",
    "torch.manual_seed(seed_value)\n",
    "torch.cuda.manual_seed(seed_value)\n",
    "torch.cuda.manual_seed_all(seed_value) # gpu vars\n",
    "torch.backends.cudnn.deterministic = True  #needed\n",
    "torch.backends.cudnn.benchmark = False"
   ]
  },
  {
   "cell_type": "markdown",
   "metadata": {},
   "source": [
    "# TODO: \n",
    "- [ ] cnn plus residual network\n",
    "- [ ] word embedding multiply tfidf\n",
    "- [ ] use word2vec"
   ]
  },
  {
   "cell_type": "markdown",
   "metadata": {},
   "source": [
    "## Load and prepare data"
   ]
  },
  {
   "cell_type": "code",
   "execution_count": 3,
   "metadata": {},
   "outputs": [],
   "source": [
    "train_file = 'data/train.csv'\n",
    "val_file = 'example/val.csv'\n",
    "test_file = 'data/test.csv'\n",
    "pretrained_file = 'glove.840B.300d'\n",
    "config = {\n",
    "    'max_seq': 40,\n",
    "    'min_freq': 0,\n",
    "    'batch_size': 64,\n",
    "    'pretrained_file': pretrained_file\n",
    "}\n"
   ]
  },
  {
   "cell_type": "code",
   "execution_count": 4,
   "metadata": {},
   "outputs": [],
   "source": [
    "AttractiveData = AttractiveData(train_file, val_file, test_file, pretrained_file, config)"
   ]
  },
  {
   "cell_type": "code",
   "execution_count": 5,
   "metadata": {},
   "outputs": [],
   "source": [
    "# for i, sentence in enumerate(AttractiveData.test_data):\n",
    "#     if i == 3:\n",
    "#         print(vars(AttractiveData.train_data[i]), vars(sentence))"
   ]
  },
  {
   "cell_type": "code",
   "execution_count": 6,
   "metadata": {},
   "outputs": [
    {
     "output_type": "execute_result",
     "data": {
      "text/plain": [
       "38"
      ]
     },
     "metadata": {},
     "execution_count": 6
    }
   ],
   "source": [
    "max_len = 0\n",
    "a = AttractiveData.train_data\n",
    "for i in range(len(a)):\n",
    "    if len(a[i].Headline) >= max_len:\n",
    "        max_len = len(a[i].Headline)\n",
    "max_len"
   ]
  },
  {
   "cell_type": "markdown",
   "metadata": {},
   "source": [
    "## Start to train"
   ]
  },
  {
   "cell_type": "code",
   "execution_count": 7,
   "metadata": {},
   "outputs": [
    {
     "output_type": "stream",
     "name": "stdout",
     "text": [
      "torch.Size([12699, 300])\n"
     ]
    }
   ],
   "source": [
    "config['timestr'] = time.strftime(\"%Y%m%d-%H%M%S\")\n",
    "config['save_name'] = 'CNN_LSTM'\n",
    "config['input_dim'] = len(AttractiveData.TEXT.vocab)\n",
    "config['embedding_dim'] = 300\n",
    "config['category_dim'] = len(AttractiveData.CATEGORIES_LABEL.vocab)\n",
    "config['category_embedding_dim'] = 10\n",
    "config['hidden_dim'] = 30\n",
    "config['output_dim'] = 1\n",
    "config['log_steps'] = 10\n",
    "config['epochs'] = 150\n",
    "config['lr'] = {\n",
    "    'encoder': 1e-5,\n",
    "    'embedding': 6e-6,\n",
    "    'linear': 1e-5\n",
    "}\n",
    "config['num_layers'] = 1\n",
    "config['kernel_size'] = 3\n",
    "config['dropout'] = 0.5\n",
    "config['train_len'] = AttractiveData.train_len\n",
    "config['val_len'] = AttractiveData.val_len\n",
    "config['test_len'] = AttractiveData.test_len\n",
    "\n",
    "pretrained_embeddings = AttractiveData.TEXT.vocab.vectors\n",
    "print(pretrained_embeddings.shape)"
   ]
  },
  {
   "cell_type": "code",
   "execution_count": 8,
   "metadata": {},
   "outputs": [],
   "source": [
    "AttractiveTrainer = AttractiveTrainer(config, AttractiveData.device, AttractiveData.trainloader, AttractiveData.valloader, pretrained_embeddings)"
   ]
  },
  {
   "cell_type": "code",
   "execution_count": 9,
   "metadata": {},
   "outputs": [
    {
     "output_type": "execute_result",
     "data": {
      "text/plain": [
       "(AttractiveNet(\n",
       "   (embedding): AttractiveEmbedding(\n",
       "     (token): TokenEmbedding(12699, 300, padding_idx=1)\n",
       "   )\n",
       "   (bigramcnn): Sequential(\n",
       "     (0): Conv1d(300, 210, kernel_size=(2,), stride=(1,), padding=(1,))\n",
       "     (1): ReLU()\n",
       "     (2): Conv1d(210, 100, kernel_size=(2,), stride=(1,), padding=(1,))\n",
       "     (3): ReLU()\n",
       "     (4): Dropout(p=0.5, inplace=False)\n",
       "   )\n",
       "   (trigramcnn): Sequential(\n",
       "     (0): Conv1d(300, 210, kernel_size=(3,), stride=(1,), padding=(1,))\n",
       "     (1): ReLU()\n",
       "     (2): Conv1d(210, 100, kernel_size=(3,), stride=(1,), padding=(1,))\n",
       "     (3): ReLU()\n",
       "     (4): Dropout(p=0.5, inplace=False)\n",
       "   )\n",
       "   (encoder_bigram): LSTM(100, 30, batch_first=True, dropout=0.5, bidirectional=True)\n",
       "   (encoder_trigram): LSTM(100, 30, batch_first=True, dropout=0.5, bidirectional=True)\n",
       "   (linear): Sequential(\n",
       "     (0): Linear(in_features=128, out_features=30, bias=True)\n",
       "     (1): ReLU()\n",
       "     (2): Linear(in_features=30, out_features=1, bias=True)\n",
       "   )\n",
       " ),\n",
       " 4297581,\n",
       " 4297581)"
      ]
     },
     "metadata": {},
     "execution_count": 9
    }
   ],
   "source": [
    "AttractiveTrainer.model, AttractiveTrainer.config['total_params'], AttractiveTrainer.config['total_learned_params']"
   ]
  },
  {
   "cell_type": "code",
   "execution_count": 10,
   "metadata": {
    "tags": []
   },
   "outputs": [
    {
     "output_type": "stream",
     "name": "stderr",
     "text": [
      "Epoch:   1%|          | 1/150 [00:00<01:01,  2.43it/s]\n",
      "EP_0 | train loss: 2.769260129741594 | val loss: 3.270527783562155 |\n",
      "Epoch:   1%|▏         | 2/150 [00:00<00:59,  2.47it/s]\n",
      "EP_1 | train loss: 0.5746438334969913 | val loss: 0.7031291512882009 |\n",
      "Epoch:   2%|▏         | 3/150 [00:01<00:58,  2.50it/s]\n",
      "EP_2 | train loss: 0.6003807769102208 | val loss: 0.6603633188733867 |\n",
      "Epoch:   3%|▎         | 4/150 [00:01<00:57,  2.52it/s]\n",
      "EP_3 | train loss: 0.575292548011331 | val loss: 0.651599690025928 |\n",
      "Epoch:   3%|▎         | 5/150 [00:01<00:57,  2.52it/s]\n",
      "EP_4 | train loss: 0.5672053346446916 | val loss: 0.6368965004004684 |\n",
      "Epoch:   4%|▍         | 6/150 [00:02<00:56,  2.53it/s]\n",
      "EP_5 | train loss: 0.5751922990761551 | val loss: 0.6208053803911396 |\n",
      "Epoch:   5%|▍         | 7/150 [00:02<00:58,  2.46it/s]\n",
      "EP_6 | train loss: 0.5570567533081653 | val loss: 0.6121612296384924 |\n",
      "Epoch:   5%|▌         | 8/150 [00:03<00:59,  2.39it/s]\n",
      "EP_7 | train loss: 0.555995672824336 | val loss: 0.6025992889030307 |\n",
      "Epoch:   6%|▌         | 9/150 [00:03<00:59,  2.39it/s]\n",
      "EP_8 | train loss: 0.558447042166018 | val loss: 0.589026551620633 |\n",
      "Epoch:   7%|▋         | 10/150 [00:04<00:58,  2.41it/s]\n",
      "EP_9 | train loss: 0.5522912782781264 | val loss: 0.5826768010270362 |\n",
      "Epoch:   7%|▋         | 11/150 [00:04<00:58,  2.38it/s]\n",
      "EP_10 | train loss: 0.5496778160917992 | val loss: 0.5765373473073921 |\n",
      "Epoch:   8%|▊         | 12/150 [00:04<00:56,  2.42it/s]\n",
      "EP_11 | train loss: 0.5526308704825008 | val loss: 0.5637501408072079 |\n",
      "Epoch:   9%|▊         | 13/150 [00:05<00:55,  2.46it/s]\n",
      "EP_12 | train loss: 0.5491619025959688 | val loss: 0.5570133620617437 |\n",
      "Epoch:   9%|▉         | 14/150 [00:05<00:54,  2.48it/s]\n",
      "EP_13 | train loss: 0.5398814163955987 | val loss: 0.5495527608721864 |\n",
      "Epoch:  10%|█         | 15/150 [00:06<00:54,  2.46it/s]\n",
      "EP_14 | train loss: 0.5304403613595402 | val loss: 0.5438737845888325 |\n",
      "Epoch:  11%|█         | 16/150 [00:06<00:55,  2.42it/s]\n",
      "EP_15 | train loss: 0.5395356309180166 | val loss: 0.5357217438080731 |\n",
      "Epoch:  11%|█▏        | 17/150 [00:06<00:55,  2.41it/s]\n",
      "EP_16 | train loss: 0.5313674234876445 | val loss: 0.5312458580615473 |\n",
      "Epoch:  12%|█▏        | 18/150 [00:07<00:54,  2.40it/s]\n",
      "EP_17 | train loss: 0.5349992237839044 | val loss: 0.5235153693778842 |\n",
      "Epoch:  13%|█▎        | 19/150 [00:07<00:56,  2.33it/s]\n",
      "EP_18 | train loss: 0.5275878251767626 | val loss: 0.5185636679331461 |\n",
      "Epoch:  13%|█▎        | 20/150 [00:08<00:54,  2.37it/s]\n",
      "EP_19 | train loss: 0.5247210184733073 | val loss: 0.5142275515724631 |\n",
      "Epoch:  14%|█▍        | 21/150 [00:08<00:54,  2.36it/s]\n",
      "EP_20 | train loss: 0.5249223054624071 | val loss: 0.5066649072310504 |\n",
      "Epoch:  15%|█▍        | 22/150 [00:09<00:52,  2.44it/s]\n",
      "EP_21 | train loss: 0.5183997649772495 | val loss: 0.5010934133155673 |\n",
      "Epoch:  15%|█▌        | 23/150 [00:09<00:50,  2.49it/s]\n",
      "EP_22 | train loss: 0.5205372829063266 | val loss: 0.49569834213630826 |\n",
      "Epoch:  16%|█▌        | 24/150 [00:09<00:49,  2.53it/s]\n",
      "EP_23 | train loss: 0.5198929253746482 | val loss: 0.49060695779089836 |\n",
      "Epoch:  17%|█▋        | 25/150 [00:10<00:48,  2.55it/s]\n",
      "EP_24 | train loss: 0.5099564112868964 | val loss: 0.486939925773471 |\n",
      "Epoch:  17%|█▋        | 26/150 [00:10<00:48,  2.53it/s]\n",
      "EP_25 | train loss: 0.5065827135946236 | val loss: 0.4807810386021932 |\n",
      "Epoch:  18%|█▊        | 27/150 [00:10<00:48,  2.53it/s]\n",
      "EP_26 | train loss: 0.4998191010718252 | val loss: 0.4759470691867903 |\n",
      "Epoch:  19%|█▊        | 28/150 [00:11<00:48,  2.50it/s]\n",
      "EP_27 | train loss: 0.5016964024188472 | val loss: 0.4702983732317008 |\n",
      "Epoch:  19%|█▉        | 29/150 [00:11<00:48,  2.51it/s]\n",
      "EP_28 | train loss: 0.5013481598274381 | val loss: 0.4649059924424863 |\n",
      "Epoch:  20%|██        | 30/150 [00:12<00:47,  2.50it/s]\n",
      "EP_29 | train loss: 0.4941912482766544 | val loss: 0.45872896091610776 |\n",
      "Epoch:  21%|██        | 31/150 [00:12<00:49,  2.40it/s]\n",
      "EP_30 | train loss: 0.48818828825857125 | val loss: 0.45355959499583526 |\n",
      "Epoch:  21%|██▏       | 32/150 [00:13<00:47,  2.46it/s]\n",
      "EP_31 | train loss: 0.48465065582125794 | val loss: 0.44846058826820523 |\n",
      "Epoch:  22%|██▏       | 33/150 [00:13<00:47,  2.48it/s]\n",
      "EP_32 | train loss: 0.4826378064997056 | val loss: 0.44320757833181645 |\n",
      "Epoch:  23%|██▎       | 34/150 [00:13<00:46,  2.48it/s]\n",
      "EP_33 | train loss: 0.4835839888628791 | val loss: 0.438077823788512 |\n",
      "Epoch:  23%|██▎       | 35/150 [00:14<00:46,  2.50it/s]\n",
      "EP_34 | train loss: 0.4800271286683924 | val loss: 0.43242353317784327 |\n",
      "Epoch:  24%|██▍       | 36/150 [00:14<00:45,  2.49it/s]\n",
      "EP_35 | train loss: 0.4749888186361276 | val loss: 0.42650122268527163 |\n",
      "Epoch:  25%|██▍       | 37/150 [00:15<00:45,  2.51it/s]\n",
      "EP_36 | train loss: 0.4696061237185609 | val loss: 0.42035851174709843 |\n",
      "Epoch:  25%|██▌       | 38/150 [00:15<00:44,  2.54it/s]\n",
      "EP_37 | train loss: 0.4692961982652253 | val loss: 0.41581835758452323 |\n",
      "Epoch:  26%|██▌       | 39/150 [00:15<00:43,  2.54it/s]\n",
      "EP_38 | train loss: 0.46151603156445076 | val loss: 0.4092840891258389 |\n",
      "Epoch:  27%|██▋       | 40/150 [00:16<00:43,  2.51it/s]\n",
      "EP_39 | train loss: 0.4602090302635642 | val loss: 0.40507883242532317 |\n",
      "Epoch:  27%|██▋       | 41/150 [00:16<00:43,  2.51it/s]\n",
      "EP_40 | train loss: 0.45628479602290134 | val loss: 0.3990559554567524 |\n",
      "Epoch:  28%|██▊       | 42/150 [00:16<00:42,  2.55it/s]\n",
      "EP_41 | train loss: 0.45437561670939125 | val loss: 0.39491754711843 |\n",
      "Epoch:  29%|██▊       | 43/150 [00:17<00:41,  2.57it/s]\n",
      "EP_42 | train loss: 0.454975450740141 | val loss: 0.3923271882767771 |\n",
      "Epoch:  29%|██▉       | 44/150 [00:17<00:40,  2.59it/s]\n",
      "EP_43 | train loss: 0.44695521335975796 | val loss: 0.3848277260275448 |\n",
      "Epoch:  30%|███       | 45/150 [00:18<00:40,  2.60it/s]\n",
      "EP_44 | train loss: 0.4447140890009263 | val loss: 0.3815874282051535 |\n",
      "Epoch:  31%|███       | 46/150 [00:18<00:40,  2.58it/s]\n",
      "EP_45 | train loss: 0.43958915074666344 | val loss: 0.3763049671462938 |\n",
      "Epoch:  31%|███▏      | 47/150 [00:18<00:39,  2.61it/s]\n",
      "EP_46 | train loss: 0.4490194891013351 | val loss: 0.38147444643226325 |\n",
      "Epoch:  32%|███▏      | 48/150 [00:19<00:38,  2.62it/s]\n",
      "EP_47 | train loss: 0.43736473719278973 | val loss: 0.3703763368082981 |\n",
      "Epoch:  33%|███▎      | 49/150 [00:19<00:38,  2.63it/s]\n",
      "EP_48 | train loss: 0.4355104596007104 | val loss: 0.3667793636228524 |\n",
      "Epoch:  33%|███▎      | 50/150 [00:20<00:38,  2.59it/s]\n",
      "EP_49 | train loss: 0.43208504471124387 | val loss: 0.3624715986205082 |\n",
      "Epoch:  34%|███▍      | 51/150 [00:20<00:38,  2.56it/s]\n",
      "EP_50 | train loss: 0.4324929143868241 | val loss: 0.3616732323870939 |\n",
      "Epoch:  35%|███▍      | 52/150 [00:20<00:37,  2.59it/s]\n",
      "EP_51 | train loss: 0.42974734493330413 | val loss: 0.35781652787152457 |\n",
      "Epoch:  35%|███▌      | 53/150 [00:21<00:38,  2.53it/s]\n",
      "EP_52 | train loss: 0.42691044620439117 | val loss: 0.35574937626427294 |\n",
      "Epoch:  36%|███▌      | 54/150 [00:21<00:37,  2.54it/s]\n",
      "EP_53 | train loss: 0.4289134923149558 | val loss: 0.3565566808569665 |\n",
      "Epoch:  37%|███▋      | 55/150 [00:22<00:37,  2.53it/s]\n",
      "EP_54 | train loss: 0.42319958069745234 | val loss: 0.35199248673869116 |\n",
      "Epoch:  37%|███▋      | 56/150 [00:22<00:37,  2.52it/s]\n",
      "EP_55 | train loss: 0.4218600067437864 | val loss: 0.3498002115417929 |\n",
      "Epoch:  38%|███▊      | 57/150 [00:22<00:36,  2.53it/s]\n",
      "EP_56 | train loss: 0.41901377135632084 | val loss: 0.34805046109592214 |\n",
      "Epoch:  39%|███▊      | 58/150 [00:23<00:36,  2.52it/s]\n",
      "EP_57 | train loss: 0.41494127722347485 | val loss: 0.3432955841223399 |\n",
      "Epoch:  39%|███▉      | 59/150 [00:23<00:36,  2.53it/s]\n",
      "EP_58 | train loss: 0.4118469528123444 | val loss: 0.3407525151383643 |\n",
      "Epoch:  40%|████      | 60/150 [00:23<00:35,  2.55it/s]\n",
      "EP_59 | train loss: 0.4105832950741637 | val loss: 0.3400578510527517 |\n",
      "Epoch:  41%|████      | 61/150 [00:24<00:35,  2.54it/s]\n",
      "EP_60 | train loss: 0.40669094347486306 | val loss: 0.3368525686217289 |\n",
      "Epoch:  41%|████▏     | 62/150 [00:24<00:34,  2.57it/s]\n",
      "EP_61 | train loss: 0.4090182005190382 | val loss: 0.3379847459933337 |\n",
      "Epoch:  42%|████▏     | 63/150 [00:25<00:33,  2.59it/s]\n",
      "EP_62 | train loss: 0.4025849688286875 | val loss: 0.33349302878566817 |\n",
      "Epoch:  43%|████▎     | 64/150 [00:25<00:33,  2.58it/s]\n",
      "EP_63 | train loss: 0.4023177371305578 | val loss: 0.3327879414838903 |\n",
      "Epoch:  43%|████▎     | 65/150 [00:25<00:33,  2.57it/s]\n",
      "EP_64 | train loss: 0.40359478744806027 | val loss: 0.33406298359235126 |\n",
      "Epoch:  44%|████▍     | 66/150 [00:26<00:33,  2.55it/s]\n",
      "EP_65 | train loss: 0.3952067646325803 | val loss: 0.32897933382613986 |\n",
      "Epoch:  45%|████▍     | 67/150 [00:26<00:32,  2.53it/s]\n",
      "EP_66 | train loss: 0.3979091209523818 | val loss: 0.33128708016638664 |\n",
      "Epoch:  45%|████▌     | 68/150 [00:27<00:33,  2.44it/s]\n",
      "EP_67 | train loss: 0.39441460160648123 | val loss: 0.3289257603533128 |\n",
      "Epoch:  46%|████▌     | 69/150 [00:27<00:32,  2.47it/s]\n",
      "EP_68 | train loss: 0.39057693200952864 | val loss: 0.3263767390858893 |\n",
      "Epoch:  47%|████▋     | 70/150 [00:27<00:32,  2.49it/s]\n",
      "EP_69 | train loss: 0.38994736203960345 | val loss: 0.32586557374281044 |\n",
      "Epoch:  47%|████▋     | 71/150 [00:28<00:31,  2.51it/s]\n",
      "EP_70 | train loss: 0.3859541706010407 | val loss: 0.3247768592600729 |\n",
      "Epoch:  48%|████▊     | 72/150 [00:28<00:30,  2.54it/s]\n",
      "EP_71 | train loss: 0.3824560530045453 | val loss: 0.32352423609471787 |\n",
      "Epoch:  49%|████▊     | 73/150 [00:29<00:30,  2.56it/s]\n",
      "EP_72 | train loss: 0.38035589012445187 | val loss: 0.32166030301767234 |\n",
      "Epoch:  49%|████▉     | 74/150 [00:29<00:29,  2.55it/s]\n",
      "EP_73 | train loss: 0.37898089979209154 | val loss: 0.3211847058698243 |\n",
      "Epoch:  50%|█████     | 75/150 [00:29<00:29,  2.54it/s]\n",
      "EP_74 | train loss: 0.37479109951094086 | val loss: 0.319357938041874 |\n",
      "Epoch:  51%|█████     | 76/150 [00:30<00:29,  2.51it/s]\n",
      "EP_75 | train loss: 0.3749169948054295 | val loss: 0.31918464571821925 |\n",
      "Epoch:  51%|█████▏    | 77/150 [00:30<00:29,  2.50it/s]\n",
      "EP_76 | train loss: 0.3741137420429903 | val loss: 0.31943681660820455 |\n",
      "Epoch:  52%|█████▏    | 78/150 [00:31<00:28,  2.50it/s]\n",
      "EP_77 | train loss: 0.37403118563633336 | val loss: 0.3187430933410046 |\n",
      "Epoch:  53%|█████▎    | 79/150 [00:31<00:27,  2.54it/s]\n",
      "EP_78 | train loss: 0.3658555143019732 | val loss: 0.3150474692092222 |\n",
      "Epoch:  53%|█████▎    | 80/150 [00:31<00:27,  2.55it/s]\n",
      "EP_79 | train loss: 0.36242272666856357 | val loss: 0.3139082327777264 |\n",
      "Epoch:  54%|█████▍    | 81/150 [00:32<00:27,  2.52it/s]\n",
      "EP_80 | train loss: 0.36067394322040036 | val loss: 0.3111693362394969 |\n",
      "Epoch:  55%|█████▍    | 82/150 [00:32<00:26,  2.54it/s]\n",
      "EP_81 | train loss: 0.35764815106111414 | val loss: 0.3102106142277811 |\n",
      "Epoch:  55%|█████▌    | 83/150 [00:33<00:26,  2.56it/s]\n",
      "EP_82 | train loss: 0.35433224603241564 | val loss: 0.3080100329483257 |\n",
      "Epoch:  56%|█████▌    | 84/150 [00:33<00:25,  2.58it/s]\n",
      "EP_83 | train loss: 0.35090513509862564 | val loss: 0.3073449526347366 |\n",
      "Epoch:  57%|█████▋    | 85/150 [00:33<00:25,  2.60it/s]\n",
      "EP_84 | train loss: 0.3473806278378356 | val loss: 0.306076447168986 |\n",
      "Epoch:  57%|█████▋    | 86/150 [00:34<00:25,  2.55it/s]\n",
      "EP_85 | train loss: 0.3459296226501465 | val loss: 0.3042509579191021 |\n",
      "Epoch:  58%|█████▊    | 87/150 [00:34<00:24,  2.54it/s]\n",
      "EP_86 | train loss: 0.3428435877257702 | val loss: 0.30161330746669396 |\n",
      "Epoch:  59%|█████▊    | 88/150 [00:35<00:24,  2.53it/s]\n",
      "EP_87 | train loss: 0.33888431483624026 | val loss: 0.3007550368122026 |\n",
      "Epoch:  59%|█████▉    | 89/150 [00:35<00:23,  2.54it/s]\n",
      "EP_88 | train loss: 0.33853208130481194 | val loss: 0.29897381803568673 |\n",
      "Epoch:  60%|██████    | 90/150 [00:35<00:23,  2.55it/s]\n",
      "EP_89 | train loss: 0.3347569937799491 | val loss: 0.29592234013127344 |\n",
      "Epoch:  61%|██████    | 91/150 [00:36<00:23,  2.54it/s]\n",
      "EP_90 | train loss: 0.33018594302383125 | val loss: 0.29452917271969364 |\n",
      "Epoch:  61%|██████▏   | 92/150 [00:36<00:22,  2.56it/s]\n",
      "EP_91 | train loss: 0.32936096845888624 | val loss: 0.2929210955021428 |\n",
      "Epoch:  62%|██████▏   | 93/150 [00:37<00:22,  2.53it/s]\n",
      "EP_92 | train loss: 0.3284582161435894 | val loss: 0.2932269900452857 |\n",
      "Epoch:  63%|██████▎   | 94/150 [00:37<00:23,  2.41it/s]\n",
      "EP_93 | train loss: 0.3271949197731766 | val loss: 0.2917790325248943 |\n",
      "Epoch:  63%|██████▎   | 95/150 [00:37<00:23,  2.38it/s]\n",
      "EP_94 | train loss: 0.31837729005252613 | val loss: 0.28748490354594064 |\n",
      "Epoch:  64%|██████▍   | 96/150 [00:38<00:22,  2.41it/s]\n",
      "EP_95 | train loss: 0.31655766356225107 | val loss: 0.2850937019376194 |\n",
      "Epoch:  65%|██████▍   | 97/150 [00:38<00:21,  2.41it/s]\n",
      "EP_96 | train loss: 0.3125890091353772 | val loss: 0.28201069785099403 |\n",
      "Epoch:  65%|██████▌   | 98/150 [00:39<00:21,  2.43it/s]\n",
      "EP_97 | train loss: 0.3073584051693187 | val loss: 0.27918556157280416 |\n",
      "Epoch:  66%|██████▌   | 99/150 [00:39<00:20,  2.49it/s]\n",
      "EP_98 | train loss: 0.30293506734511433 | val loss: 0.27708381823464934 |\n",
      "Epoch:  67%|██████▋   | 100/150 [00:39<00:19,  2.51it/s]\n",
      "EP_99 | train loss: 0.29935370239557 | val loss: 0.2733052279434952 |\n",
      "Epoch:  67%|██████▋   | 101/150 [00:40<00:19,  2.51it/s]\n",
      "EP_100 | train loss: 0.29747912369522395 | val loss: 0.2746214177094254 |\n",
      "Epoch:  68%|██████▊   | 102/150 [00:40<00:18,  2.55it/s]\n",
      "EP_101 | train loss: 0.2919856024723427 | val loss: 0.2720114974414601 |\n",
      "Epoch:  69%|██████▊   | 103/150 [00:41<00:18,  2.59it/s]\n",
      "EP_102 | train loss: 0.2884319352168663 | val loss: 0.2685483477863611 |\n",
      "Epoch:  69%|██████▉   | 104/150 [00:41<00:17,  2.62it/s]\n",
      "EP_103 | train loss: 0.28736729107651054 | val loss: 0.26351287610390606 |\n",
      "Epoch:  70%|███████   | 105/150 [00:41<00:17,  2.63it/s]\n",
      "EP_104 | train loss: 0.2808080056134392 | val loss: 0.25937050347234686 |\n",
      "Epoch:  71%|███████   | 106/150 [00:42<00:16,  2.60it/s]\n",
      "EP_105 | train loss: 0.2905771863226797 | val loss: 0.26493075489997864 |\n",
      "Epoch:  71%|███████▏  | 107/150 [00:42<00:16,  2.61it/s]\n",
      "EP_106 | train loss: 0.2756065513573441 | val loss: 0.2542227646883796 |\n",
      "Epoch:  72%|███████▏  | 108/150 [00:42<00:16,  2.57it/s]\n",
      "EP_107 | train loss: 0.2696517570346009 | val loss: 0.25061801368114994 |\n",
      "Epoch:  73%|███████▎  | 109/150 [00:43<00:16,  2.54it/s]\n",
      "EP_108 | train loss: 0.26516879539863736 | val loss: 0.24836653178813412 |\n",
      "Epoch:  73%|███████▎  | 110/150 [00:43<00:16,  2.41it/s]\n",
      "EP_109 | train loss: 0.2615343682906207 | val loss: 0.24363114202723785 |\n",
      "Epoch:  74%|███████▍  | 111/150 [00:44<00:16,  2.41it/s]\n",
      "EP_110 | train loss: 0.2622154474258423 | val loss: 0.24211699354882335 |\n",
      "Epoch:  75%|███████▍  | 112/150 [00:44<00:15,  2.42it/s]\n",
      "EP_111 | train loss: 0.2537688129088458 | val loss: 0.24376248904303008 |\n",
      "Epoch:  75%|███████▌  | 113/150 [00:45<00:15,  2.46it/s]\n",
      "EP_112 | train loss: 0.251072387601815 | val loss: 0.23304827715836318 |\n",
      "Epoch:  76%|███████▌  | 114/150 [00:45<00:14,  2.51it/s]\n",
      "EP_113 | train loss: 0.25081034501393634 | val loss: 0.2303070998659321 |\n",
      "Epoch:  77%|███████▋  | 115/150 [00:45<00:14,  2.48it/s]\n",
      "EP_114 | train loss: 0.24154117808622472 | val loss: 0.22608469689593597 |\n",
      "Epoch:  77%|███████▋  | 116/150 [00:46<00:13,  2.46it/s]\n",
      "EP_115 | train loss: 0.23959758328456504 | val loss: 0.22038172506818585 |\n",
      "Epoch:  78%|███████▊  | 117/150 [00:46<00:13,  2.45it/s]\n",
      "EP_116 | train loss: 0.232922662005705 | val loss: 0.21852232837209515 |\n",
      "Epoch:  79%|███████▊  | 118/150 [00:47<00:12,  2.50it/s]\n",
      "EP_117 | train loss: 0.2313557694940006 | val loss: 0.21286547534606037 |\n",
      "Epoch:  79%|███████▉  | 119/150 [00:47<00:12,  2.54it/s]\n",
      "EP_118 | train loss: 0.2227099488763248 | val loss: 0.20833458269343658 |\n",
      "Epoch:  80%|████████  | 120/150 [00:47<00:11,  2.53it/s]\n",
      "EP_119 | train loss: 0.22107905733819103 | val loss: 0.20511584948090947 |\n",
      "Epoch:  81%|████████  | 121/150 [00:48<00:11,  2.48it/s]\n",
      "EP_120 | train loss: 0.22067911998898376 | val loss: 0.20322297601138845 |\n",
      "Epoch:  81%|████████▏ | 122/150 [00:48<00:11,  2.49it/s]\n",
      "EP_121 | train loss: 0.22108908377441705 | val loss: 0.2007959642831017 |\n",
      "Epoch:  82%|████████▏ | 123/150 [00:49<00:10,  2.51it/s]\n",
      "EP_122 | train loss: 0.20616809667325486 | val loss: 0.19242042186213473 |\n",
      "Epoch:  83%|████████▎ | 124/150 [00:49<00:10,  2.43it/s]\n",
      "EP_123 | train loss: 0.20766641672919778 | val loss: 0.18891578445247575 |\n",
      "Epoch:  83%|████████▎ | 125/150 [00:49<00:10,  2.35it/s]\n",
      "EP_124 | train loss: 0.19628698919333665 | val loss: 0.18407176990135043 |\n",
      "Epoch:  84%|████████▍ | 126/150 [00:50<00:10,  2.27it/s]\n",
      "EP_125 | train loss: 0.19470131023257387 | val loss: 0.1788670508300557 |\n",
      "Epoch:  85%|████████▍ | 127/150 [00:50<00:10,  2.30it/s]\n",
      "EP_126 | train loss: 0.18845349386626598 | val loss: 0.1785453972863216 |\n",
      "Epoch:  85%|████████▌ | 128/150 [00:51<00:09,  2.38it/s]\n",
      "EP_127 | train loss: 0.18241518361895692 | val loss: 0.17266870596829584 |\n",
      "Epoch:  86%|████████▌ | 129/150 [00:51<00:08,  2.42it/s]\n",
      "EP_128 | train loss: 0.17789086126813702 | val loss: 0.16726823823124753 |\n",
      "Epoch:  87%|████████▋ | 130/150 [00:52<00:08,  2.41it/s]\n",
      "EP_129 | train loss: 0.1744328255746879 | val loss: 0.16412720025754443 |\n",
      "Epoch:  87%|████████▋ | 131/150 [00:52<00:07,  2.40it/s]\n",
      "EP_130 | train loss: 0.16951107230840945 | val loss: 0.1583489115331687 |\n",
      "Epoch:  88%|████████▊ | 132/150 [00:52<00:07,  2.44it/s]\n",
      "EP_131 | train loss: 0.16834804450764376 | val loss: 0.15112848842845245 |\n",
      "Epoch:  89%|████████▊ | 133/150 [00:53<00:06,  2.47it/s]\n",
      "EP_132 | train loss: 0.16833921413795622 | val loss: 0.15103723839217542 |\n",
      "Epoch:  89%|████████▉ | 134/150 [00:53<00:06,  2.48it/s]\n",
      "EP_133 | train loss: 0.16146198324128694 | val loss: 0.14497982579119065 |\n",
      "Epoch:  90%|█████████ | 135/150 [00:54<00:05,  2.52it/s]\n",
      "EP_134 | train loss: 0.1533844880029267 | val loss: 0.14507782809874592 |\n",
      "Epoch:  91%|█████████ | 136/150 [00:54<00:05,  2.51it/s]\n",
      "EP_135 | train loss: 0.14858878991183114 | val loss: 0.1333798462269353 |\n",
      "Epoch:  91%|█████████▏| 137/150 [00:54<00:05,  2.53it/s]\n",
      "EP_136 | train loss: 0.143126894679724 | val loss: 0.13050893358155793 |\n",
      "Epoch:  92%|█████████▏| 138/150 [00:55<00:04,  2.52it/s]\n",
      "EP_137 | train loss: 0.14551290367163863 | val loss: 0.12769455418867223 |\n",
      "Epoch:  93%|█████████▎| 139/150 [00:55<00:04,  2.51it/s]\n",
      "EP_138 | train loss: 0.1374253883081324 | val loss: 0.13032671633888693 |\n",
      "Epoch:  93%|█████████▎| 140/150 [00:56<00:03,  2.52it/s]\n",
      "EP_139 | train loss: 0.13324453480103438 | val loss: 0.11807736345365935 |\n",
      "Epoch:  94%|█████████▍| 141/150 [00:56<00:03,  2.53it/s]\n",
      "EP_140 | train loss: 0.12577704518449073 | val loss: 0.11691964081689424 |\n",
      "Epoch:  95%|█████████▍| 142/150 [00:56<00:03,  2.53it/s]\n",
      "EP_141 | train loss: 0.12335362060397279 | val loss: 0.10930307414017472 |\n",
      "Epoch:  95%|█████████▌| 143/150 [00:57<00:02,  2.50it/s]\n",
      "EP_142 | train loss: 0.11691809191423304 | val loss: 0.10623521197075937 |\n",
      "Epoch:  96%|█████████▌| 144/150 [00:57<00:02,  2.50it/s]\n",
      "EP_143 | train loss: 0.11755067156810386 | val loss: 0.11013579134847604 |\n",
      "Epoch:  97%|█████████▋| 145/150 [00:57<00:01,  2.53it/s]\n",
      "EP_144 | train loss: 0.11228111094119501 | val loss: 0.10459728334464279 |\n",
      "Epoch:  97%|█████████▋| 146/150 [00:58<00:01,  2.53it/s]\n",
      "EP_145 | train loss: 0.1048309328509312 | val loss: 0.09464470896066404 |\n",
      "Epoch:  98%|█████████▊| 147/150 [00:58<00:01,  2.53it/s]\n",
      "EP_146 | train loss: 0.10114923481847726 | val loss: 0.09092694491732355 |\n",
      "Epoch:  99%|█████████▊| 148/150 [00:59<00:00,  2.55it/s]\n",
      "EP_147 | train loss: 0.10024028736002305 | val loss: 0.08816561862534168 |\n",
      "Epoch:  99%|█████████▉| 149/150 [00:59<00:00,  2.56it/s]\n",
      "EP_148 | train loss: 0.09650202849332024 | val loss: 0.09101260760251213 |\n",
      "Epoch: 100%|██████████| 150/150 [00:59<00:00,  2.50it/s]\n",
      "EP_149 | train loss: 0.09107027708315382 | val loss: 0.0822206110346551 |\n",
      "\n"
     ]
    }
   ],
   "source": [
    "AttractiveTrainer.train()"
   ]
  },
  {
   "cell_type": "markdown",
   "metadata": {},
   "source": [
    "## for classification, not better"
   ]
  },
  {
   "cell_type": "markdown",
   "metadata": {},
   "source": [
    "## Below is testing"
   ]
  },
  {
   "cell_type": "code",
   "execution_count": 8,
   "metadata": {},
   "outputs": [
    {
     "output_type": "execute_result",
     "data": {
      "text/plain": [
       "AttractiveNet(\n",
       "  (embedding): AttractiveEmbedding(\n",
       "    (token): TokenEmbedding(12699, 300, padding_idx=1)\n",
       "  )\n",
       "  (bigramcnn): Sequential(\n",
       "    (0): Conv1d(300, 210, kernel_size=(2,), stride=(1,), padding=(1,))\n",
       "    (1): ReLU()\n",
       "    (2): Conv1d(210, 100, kernel_size=(2,), stride=(1,), padding=(1,))\n",
       "    (3): ReLU()\n",
       "    (4): Dropout(p=0.5, inplace=False)\n",
       "  )\n",
       "  (trigramcnn): Sequential(\n",
       "    (0): Conv1d(300, 210, kernel_size=(3,), stride=(1,), padding=(1,))\n",
       "    (1): ReLU()\n",
       "    (2): Conv1d(210, 100, kernel_size=(3,), stride=(1,), padding=(1,))\n",
       "    (3): ReLU()\n",
       "    (4): Dropout(p=0.5, inplace=False)\n",
       "  )\n",
       "  (encoder_bigram): LSTM(100, 30, batch_first=True, dropout=0.5, bidirectional=True)\n",
       "  (encoder_trigram): LSTM(100, 30, batch_first=True, dropout=0.5, bidirectional=True)\n",
       "  (linear): Sequential(\n",
       "    (0): Linear(in_features=128, out_features=30, bias=True)\n",
       "    (1): ReLU()\n",
       "    (2): Linear(in_features=30, out_features=1, bias=True)\n",
       "  )\n",
       ")"
      ]
     },
     "metadata": {},
     "execution_count": 8
    }
   ],
   "source": [
    "from attractivenet import AttractiveNet\n",
    "\n",
    "PATH = './model/CNN_LSTM_20201107-202605/0.374917.75'\n",
    "\n",
    "load_model = AttractiveNet(config).to(AttractiveData.device)\n",
    "load_model.load_state_dict(torch.load(PATH))\n",
    "load_model.eval()"
   ]
  },
  {
   "cell_type": "code",
   "execution_count": 9,
   "metadata": {},
   "outputs": [],
   "source": [
    "def predict_attractive(sentence, category, phase):\n",
    "    indexed_sentence = [AttractiveData.TEXT.vocab.stoi[t] for t in sentence]\n",
    "    indexed_category = [AttractiveData.CATEGORIES_LABEL.vocab.stoi[category]]\n",
    "    tensor_sentence = torch.LongTensor(indexed_sentence).to(AttractiveData.device)\n",
    "    tensor_category = torch.LongTensor(indexed_category).to(AttractiveData.device)\n",
    "    tensor_sentence = tensor_sentence.unsqueeze(0)\n",
    "\n",
    "    prediction = load_model(tensor_sentence, tensor_category, phase=phase)\n",
    "\n",
    "    return prediction"
   ]
  },
  {
   "cell_type": "code",
   "execution_count": 10,
   "metadata": {
    "tags": []
   },
   "outputs": [],
   "source": [
    "# train mean = 3.15, test mean = 2.8\n",
    "predict_list = []\n",
    "with torch.no_grad():\n",
    "    for i, sentence in enumerate(AttractiveData.test_data):\n",
    "        prediction = predict_attractive(sentence.Headline, sentence.Category, 'test')\n",
    "        predict_list.append(prediction.item())\n",
    "        # predict_list.append(prediction.item())\n",
    "AttractiveData.df_test['Label'] = predict_list\n",
    "AttractiveData.df_test[['ID', 'Label']].to_csv(config['save_name'] + '.csv', index=False)"
   ]
  },
  {
   "cell_type": "markdown",
   "metadata": {},
   "source": [
    "## Below for statistics"
   ]
  },
  {
   "cell_type": "code",
   "execution_count": 11,
   "metadata": {},
   "outputs": [],
   "source": [
    "import statistics\n",
    "from sklearn.metrics import mean_squared_error"
   ]
  },
  {
   "cell_type": "code",
   "execution_count": 12,
   "metadata": {},
   "outputs": [],
   "source": [
    "# # train mean = 3.15, test mean = 2.8\n",
    "# train_list = []\n",
    "# for i, sentence in enumerate(AttractiveData.train_data):\n",
    "#     prediction = predict_attractive(sentence.Headline, sentence.Category, 'train')\n",
    "#     train_list.append(prediction.item())\n",
    "#     # train_list.append(prediction.item())\n",
    "# # print(train_list)\n",
    "# mean_squared_error(pd.read_csv('data/train.csv').sort_values(['ID']).Label.to_list(), train_list), statistics.mean(train_list), statistics.stdev(train_list)"
   ]
  },
  {
   "cell_type": "code",
   "execution_count": 13,
   "metadata": {},
   "outputs": [],
   "source": [
    "# train_list[0:5], pd.read_csv('data/train.csv').sort_values(['ID']).Label.to_list()[0:5]"
   ]
  },
  {
   "cell_type": "code",
   "execution_count": 14,
   "metadata": {},
   "outputs": [],
   "source": [
    "# a = AttractiveData.df_train['Label'].to_list()\n",
    "# statistics.mean(a), statistics.stdev(a)"
   ]
  },
  {
   "cell_type": "code",
   "execution_count": 15,
   "metadata": {},
   "outputs": [
    {
     "output_type": "execute_result",
     "data": {
      "text/plain": [
       "(2.783861954306716, 0.36437382915352245)"
      ]
     },
     "metadata": {},
     "execution_count": 15
    }
   ],
   "source": [
    "statistics.mean(predict_list), statistics.stdev(predict_list)"
   ]
  },
  {
   "cell_type": "code",
   "execution_count": 16,
   "metadata": {},
   "outputs": [
    {
     "output_type": "execute_result",
     "data": {
      "text/plain": [
       "(0.006680134776860792, 2.774164993857497, 0.3615900775742119)"
      ]
     },
     "metadata": {},
     "execution_count": 16
    }
   ],
   "source": [
    "baseline_list = pd.read_csv('baseline.csv').sort_values(['ID']).Label.to_list()\n",
    "mean_squared_error(baseline_list, predict_list), statistics.mean(baseline_list), statistics.stdev(baseline_list)"
   ]
  },
  {
   "cell_type": "code",
   "execution_count": null,
   "metadata": {},
   "outputs": [],
   "source": []
  },
  {
   "cell_type": "code",
   "execution_count": 18,
   "metadata": {},
   "outputs": [
    {
     "data": {
      "text/plain": [
       "0.1609754968529207"
      ]
     },
     "execution_count": 18,
     "metadata": {},
     "output_type": "execute_result"
    }
   ],
   "source": [
    "mean_squared_error(pd.read_csv('baseline.csv').sort_values(['ID']).Label.to_list(), pd.read_csv('./predict/ensemble.csv').sort_values(['ID']).Label.to_list())"
   ]
  },
  {
   "cell_type": "code",
   "execution_count": 10,
   "metadata": {},
   "outputs": [],
   "source": [
    "from sklearn.model_selection import KFold\n",
    "import numpy as np"
   ]
  },
  {
   "cell_type": "code",
   "execution_count": 11,
   "metadata": {},
   "outputs": [],
   "source": []
  },
  {
   "cell_type": "code",
   "execution_count": 12,
   "metadata": {},
   "outputs": [
    {
     "data": {
      "text/plain": [
       "2040"
      ]
     },
     "execution_count": 12,
     "metadata": {},
     "output_type": "execute_result"
    }
   ],
   "source": [
    "len(AttractiveData.train_data.examples)"
   ]
  },
  {
   "cell_type": "code",
   "execution_count": 13,
   "metadata": {},
   "outputs": [],
   "source": []
  },
  {
   "cell_type": "code",
   "execution_count": null,
   "metadata": {},
   "outputs": [],
   "source": []
  }
 ],
 "metadata": {
  "kernelspec": {
   "display_name": "DS_hw2",
   "language": "python",
   "name": "ds_hw2"
  },
  "language_info": {
   "codemirror_mode": {
    "name": "ipython",
    "version": 3
   },
   "file_extension": ".py",
   "mimetype": "text/x-python",
   "name": "python",
   "nbconvert_exporter": "python",
   "pygments_lexer": "ipython3",
   "version": "3.6.12-final"
  }
 },
 "nbformat": 4,
 "nbformat_minor": 4
}