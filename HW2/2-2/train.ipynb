{
 "cells": [
  {
   "cell_type": "code",
   "execution_count": 1,
   "metadata": {},
   "outputs": [],
   "source": [
    "# common packages\n",
    "import pandas as pd\n",
    "import time\n",
    "\n",
    "# # DL framework\n",
    "import torch\n",
    "from torchtext import data\n",
    "\n",
    "from attractivedata import AttractiveData\n",
    "from trainer import AttractiveTrainer"
   ]
  },
  {
   "cell_type": "code",
   "execution_count": 2,
   "metadata": {},
   "outputs": [],
   "source": [
    "seed_value = 42\n",
    "torch.manual_seed(seed_value)\n",
    "torch.cuda.manual_seed(seed_value)\n",
    "torch.cuda.manual_seed_all(seed_value) # gpu vars\n",
    "torch.backends.cudnn.deterministic = True  #needed\n",
    "torch.backends.cudnn.benchmark = False"
   ]
  },
  {
   "cell_type": "markdown",
   "metadata": {},
   "source": [
    "# TODO: \n",
    "- [ ] cnn plus residual network\n",
    "- [ ] word embedding multiply tfidf\n",
    "- [ ] use word2vec"
   ]
  },
  {
   "cell_type": "markdown",
   "metadata": {},
   "source": [
    "## Load and prepare data"
   ]
  },
  {
   "cell_type": "code",
   "execution_count": 3,
   "metadata": {},
   "outputs": [],
   "source": [
    "train_file = 'data/train.csv'\n",
    "val_file = 'example/val.csv'\n",
    "test_file = 'data/test.csv'\n",
    "pretrained_file = 'glove.840B.300d'\n",
    "config = {\n",
    "    'max_seq': 40,\n",
    "    'min_freq': 0,\n",
    "    'batch_size': 64,\n",
    "    'pretrained_file': pretrained_file\n",
    "}\n"
   ]
  },
  {
   "cell_type": "code",
   "execution_count": 4,
   "metadata": {},
   "outputs": [],
   "source": [
    "AttractiveData = AttractiveData(train_file, val_file, test_file, pretrained_file, config)"
   ]
  },
  {
   "cell_type": "code",
   "execution_count": 5,
   "metadata": {},
   "outputs": [],
   "source": [
    "# for i, sentence in enumerate(AttractiveData.test_data):\n",
    "#     if i == 3:\n",
    "#         print(vars(AttractiveData.train_data[i]), vars(sentence))"
   ]
  },
  {
   "cell_type": "code",
   "execution_count": 6,
   "metadata": {},
   "outputs": [
    {
     "output_type": "execute_result",
     "data": {
      "text/plain": [
       "38"
      ]
     },
     "metadata": {},
     "execution_count": 6
    }
   ],
   "source": [
    "max_len = 0\n",
    "a = AttractiveData.train_data\n",
    "for i in range(len(a)):\n",
    "    if len(a[i].Headline) >= max_len:\n",
    "        max_len = len(a[i].Headline)\n",
    "max_len"
   ]
  },
  {
   "cell_type": "markdown",
   "metadata": {},
   "source": [
    "## Start to train"
   ]
  },
  {
   "cell_type": "code",
   "execution_count": 7,
   "metadata": {},
   "outputs": [
    {
     "output_type": "stream",
     "name": "stdout",
     "text": [
      "torch.Size([12699, 300])\n"
     ]
    }
   ],
   "source": [
    "config['timestr'] = time.strftime(\"%Y%m%d-%H%M%S\")\n",
    "config['save_name'] = 'CNN_LSTM'\n",
    "config['input_dim'] = len(AttractiveData.TEXT.vocab)\n",
    "config['embedding_dim'] = 300\n",
    "config['category_dim'] = len(AttractiveData.CATEGORIES_LABEL.vocab)\n",
    "config['category_embedding_dim'] = 10\n",
    "config['hidden_dim'] = 30\n",
    "config['output_dim'] = 1\n",
    "config['log_steps'] = 10\n",
    "config['epochs'] = 200\n",
    "config['lr'] = {\n",
    "    'encoder': 1e-5,\n",
    "    'embedding': 6e-6,\n",
    "    'linear': 1e-5\n",
    "}\n",
    "config['num_layers'] = 1\n",
    "config['kernel_size'] = 3\n",
    "config['dropout'] = 0.5\n",
    "config['train_len'] = AttractiveData.train_len\n",
    "config['val_len'] = AttractiveData.val_len\n",
    "config['test_len'] = AttractiveData.test_len\n",
    "\n",
    "pretrained_embeddings = AttractiveData.TEXT.vocab.vectors\n",
    "print(pretrained_embeddings.shape)"
   ]
  },
  {
   "cell_type": "code",
   "execution_count": 8,
   "metadata": {},
   "outputs": [],
   "source": [
    "AttractiveTrainer = AttractiveTrainer(config, AttractiveData.device, AttractiveData.trainloader, AttractiveData.valloader, pretrained_embeddings)"
   ]
  },
  {
   "cell_type": "code",
   "execution_count": 9,
   "metadata": {},
   "outputs": [
    {
     "output_type": "execute_result",
     "data": {
      "text/plain": [
       "(AttractiveNet(\n",
       "   (embedding): AttractiveEmbedding(\n",
       "     (token): TokenEmbedding(12699, 300, padding_idx=1)\n",
       "   )\n",
       "   (bigramcnn): Sequential(\n",
       "     (0): Conv1d(300, 200, kernel_size=(2,), stride=(1,), padding=(1,))\n",
       "     (1): Conv1d(200, 100, kernel_size=(2,), stride=(1,), padding=(1,))\n",
       "     (2): ReLU()\n",
       "     (3): Dropout(p=0.5, inplace=False)\n",
       "   )\n",
       "   (trigramcnn): Sequential(\n",
       "     (0): Conv1d(300, 200, kernel_size=(3,), stride=(1,), padding=(1,))\n",
       "     (1): Conv1d(200, 100, kernel_size=(3,), stride=(1,), padding=(1,))\n",
       "     (2): ReLU()\n",
       "     (3): Dropout(p=0.5, inplace=False)\n",
       "   )\n",
       "   (encoder_bigram_first): LSTM(100, 30, batch_first=True, dropout=0.5, bidirectional=True)\n",
       "   (encoder_trigram_first): LSTM(100, 30, batch_first=True, dropout=0.5, bidirectional=True)\n",
       "   (linear): Sequential(\n",
       "     (0): Linear(in_features=124, out_features=30, bias=True)\n",
       "     (1): ReLU()\n",
       "     (2): Linear(in_features=30, out_features=1, bias=True)\n",
       "   )\n",
       " ),\n",
       " 4277441,\n",
       " 4277441)"
      ]
     },
     "metadata": {},
     "execution_count": 9
    }
   ],
   "source": [
    "AttractiveTrainer.model, AttractiveTrainer.config['total_params'], AttractiveTrainer.config['total_learned_params']"
   ]
  },
  {
   "cell_type": "code",
   "execution_count": 10,
   "metadata": {
    "tags": [
     "outputPrepend"
    ]
   },
   "outputs": [
    {
     "output_type": "stream",
     "name": "stderr",
     "text": [
      "20704202 | val loss: 0.36524589155234544 |\n",
      "Epoch:  24%|██▍       | 48/200 [00:20<01:05,  2.32it/s]\n",
      "EP_47 | train loss: 0.4273762525296679 | val loss: 0.3547634727814618 |\n",
      "Epoch:  24%|██▍       | 49/200 [00:20<01:04,  2.34it/s]\n",
      "EP_48 | train loss: 0.4278209087895412 | val loss: 0.3543824839825724 |\n",
      "Epoch:  25%|██▌       | 50/200 [00:20<01:02,  2.39it/s]\n",
      "EP_49 | train loss: 0.4198322333541571 | val loss: 0.3503168459032096 |\n",
      "Epoch:  26%|██▌       | 51/200 [00:21<01:01,  2.43it/s]\n",
      "EP_50 | train loss: 0.41994702114778404 | val loss: 0.3489954378090653 |\n",
      "Epoch:  26%|██▌       | 52/200 [00:21<01:00,  2.44it/s]\n",
      "EP_51 | train loss: 0.41403449376424156 | val loss: 0.34654975521798226 |\n",
      "Epoch:  26%|██▋       | 53/200 [00:22<00:59,  2.48it/s]\n",
      "EP_52 | train loss: 0.4143587477066938 | val loss: 0.3472294562003192 |\n",
      "Epoch:  27%|██▋       | 54/200 [00:22<00:59,  2.47it/s]\n",
      "EP_53 | train loss: 0.41943812557295257 | val loss: 0.3487221832368888 |\n",
      "Epoch:  28%|██▊       | 55/200 [00:23<00:59,  2.43it/s]\n",
      "EP_54 | train loss: 0.4104040519863951 | val loss: 0.3434882321778466 |\n",
      "Epoch:  28%|██▊       | 56/200 [00:23<01:00,  2.37it/s]\n",
      "EP_55 | train loss: 0.41134085187724995 | val loss: 0.34295790218839456 |\n",
      "Epoch:  28%|██▊       | 57/200 [00:23<00:59,  2.42it/s]\n",
      "EP_56 | train loss: 0.4048668842689664 | val loss: 0.3408386631339204 |\n",
      "Epoch:  29%|██▉       | 58/200 [00:24<00:58,  2.41it/s]\n",
      "EP_57 | train loss: 0.40863755170036764 | val loss: 0.34276649998683556 |\n",
      "Epoch:  30%|██▉       | 59/200 [00:24<00:57,  2.43it/s]\n",
      "EP_58 | train loss: 0.410513422535915 | val loss: 0.34361937291481914 |\n",
      "Epoch:  30%|███       | 60/200 [00:25<00:57,  2.45it/s]\n",
      "EP_59 | train loss: 0.4052386489568972 | val loss: 0.34120651612094804 |\n",
      "Epoch:  30%|███       | 61/200 [00:25<00:56,  2.44it/s]\n",
      "EP_60 | train loss: 0.40599427082959344 | val loss: 0.3396391179047379 |\n",
      "Epoch:  31%|███       | 62/200 [00:25<00:56,  2.46it/s]\n",
      "EP_61 | train loss: 0.3945022321214863 | val loss: 0.33538560481632457 |\n",
      "Epoch:  32%|███▏      | 63/200 [00:26<00:55,  2.46it/s]\n",
      "EP_62 | train loss: 0.39756263845107137 | val loss: 0.33729926511353137 |\n",
      "Epoch:  32%|███▏      | 64/200 [00:26<00:54,  2.48it/s]\n",
      "EP_63 | train loss: 0.39443692880518294 | val loss: 0.33539098676513224 |\n",
      "Epoch:  32%|███▎      | 65/200 [00:27<00:53,  2.50it/s]\n",
      "EP_64 | train loss: 0.39175770049001657 | val loss: 0.33439208362616746 |\n",
      "Epoch:  33%|███▎      | 66/200 [00:27<00:54,  2.48it/s]\n",
      "EP_65 | train loss: 0.39366876938763784 | val loss: 0.33804485786194893 |\n",
      "Epoch:  34%|███▎      | 67/200 [00:27<00:53,  2.50it/s]\n",
      "EP_66 | train loss: 0.3879255051706351 | val loss: 0.33266493093733696 |\n",
      "Epoch:  34%|███▍      | 68/200 [00:28<00:52,  2.51it/s]\n",
      "EP_67 | train loss: 0.3827689512103212 | val loss: 0.3318007191022237 |\n",
      "Epoch:  34%|███▍      | 69/200 [00:28<00:52,  2.52it/s]\n",
      "EP_68 | train loss: 0.3788843131532856 | val loss: 0.32972389576481836 |\n",
      "Epoch:  35%|███▌      | 70/200 [00:29<00:52,  2.50it/s]\n",
      "EP_69 | train loss: 0.3815402909821155 | val loss: 0.33037779377956017 |\n",
      "Epoch:  36%|███▌      | 71/200 [00:29<00:52,  2.44it/s]\n",
      "EP_70 | train loss: 0.3818710168202718 | val loss: 0.331587995968613 |\n",
      "Epoch:  36%|███▌      | 72/200 [00:29<00:52,  2.42it/s]\n",
      "EP_71 | train loss: 0.37485133152382044 | val loss: 0.3282693799804239 |\n",
      "Epoch:  36%|███▋      | 73/200 [00:30<00:51,  2.48it/s]\n",
      "EP_72 | train loss: 0.36915579683640426 | val loss: 0.32609612859931647 |\n",
      "Epoch:  37%|███▋      | 74/200 [00:30<00:50,  2.50it/s]\n",
      "EP_73 | train loss: 0.3682508234884225 | val loss: 0.3255404537799312 |\n",
      "Epoch:  38%|███▊      | 75/200 [00:31<00:49,  2.52it/s]\n",
      "EP_74 | train loss: 0.37008050843781115 | val loss: 0.3254566911388846 |\n",
      "Epoch:  38%|███▊      | 76/200 [00:31<00:50,  2.48it/s]\n",
      "EP_75 | train loss: 0.36291723812327664 | val loss: 0.32401832587578716 |\n",
      "Epoch:  38%|███▊      | 77/200 [00:31<00:49,  2.49it/s]\n",
      "EP_76 | train loss: 0.3640818614585727 | val loss: 0.323549010590011 |\n",
      "Epoch:  39%|███▉      | 78/200 [00:32<00:48,  2.49it/s]\n",
      "EP_77 | train loss: 0.3637870568855136 | val loss: 0.3240428695491716 |\n",
      "Epoch:  40%|███▉      | 79/200 [00:32<00:48,  2.49it/s]\n",
      "EP_78 | train loss: 0.3654153136646046 | val loss: 0.32469311882467833 |\n",
      "Epoch:  40%|████      | 80/200 [00:33<00:47,  2.50it/s]\n",
      "EP_79 | train loss: 0.35815831820170085 | val loss: 0.3202587605691424 |\n",
      "Epoch:  40%|████      | 81/200 [00:33<00:48,  2.48it/s]\n",
      "EP_80 | train loss: 0.3550398522732305 | val loss: 0.3175040956805734 |\n",
      "Epoch:  41%|████      | 82/200 [00:33<00:47,  2.49it/s]\n",
      "EP_81 | train loss: 0.352254776393666 | val loss: 0.31732286308325974 |\n",
      "Epoch:  42%|████▏     | 83/200 [00:34<00:46,  2.51it/s]\n",
      "EP_82 | train loss: 0.35016548025841804 | val loss: 0.31562886167975035 |\n",
      "Epoch:  42%|████▏     | 84/200 [00:34<00:45,  2.54it/s]\n",
      "EP_83 | train loss: 0.3453274638045068 | val loss: 0.3152257648168826 |\n",
      "Epoch:  42%|████▎     | 85/200 [00:35<00:44,  2.57it/s]\n",
      "EP_84 | train loss: 0.34119667071922155 | val loss: 0.31554887399953957 |\n",
      "Epoch:  43%|████▎     | 86/200 [00:35<00:44,  2.56it/s]\n",
      "EP_85 | train loss: 0.3399498112061444 | val loss: 0.3121607332837348 |\n",
      "Epoch:  44%|████▎     | 87/200 [00:35<00:43,  2.59it/s]\n",
      "EP_86 | train loss: 0.3450714027180391 | val loss: 0.3134884863507514 |\n",
      "Epoch:  44%|████▍     | 88/200 [00:36<00:43,  2.59it/s]\n",
      "EP_87 | train loss: 0.34530079224530386 | val loss: 0.3122436906777176 |\n",
      "Epoch:  44%|████▍     | 89/200 [00:36<00:42,  2.61it/s]\n",
      "EP_88 | train loss: 0.3414389152152866 | val loss: 0.311028869713054 |\n",
      "Epoch:  45%|████▌     | 90/200 [00:36<00:42,  2.61it/s]\n",
      "EP_89 | train loss: 0.33181417549357695 | val loss: 0.30895090570636824 |\n",
      "Epoch:  46%|████▌     | 91/200 [00:37<00:42,  2.54it/s]\n",
      "EP_90 | train loss: 0.33105499978158986 | val loss: 0.3054470262106727 |\n",
      "Epoch:  46%|████▌     | 92/200 [00:37<00:41,  2.58it/s]\n",
      "EP_91 | train loss: 0.3286644136204439 | val loss: 0.30631738901138306 |\n",
      "Epoch:  46%|████▋     | 93/200 [00:38<00:41,  2.61it/s]\n",
      "EP_92 | train loss: 0.3276833510866352 | val loss: 0.30410264987571567 |\n",
      "Epoch:  47%|████▋     | 94/200 [00:38<00:40,  2.63it/s]\n",
      "EP_93 | train loss: 0.3247293514363906 | val loss: 0.3022959536197139 |\n",
      "Epoch:  48%|████▊     | 95/200 [00:38<00:39,  2.64it/s]\n",
      "EP_94 | train loss: 0.32224702648088044 | val loss: 0.302192852193234 |\n",
      "Epoch:  48%|████▊     | 96/200 [00:39<00:39,  2.61it/s]\n",
      "EP_95 | train loss: 0.33180633011986227 | val loss: 0.30399712102085935 |\n",
      "Epoch:  48%|████▊     | 97/200 [00:39<00:39,  2.63it/s]\n",
      "EP_96 | train loss: 0.3233624584534589 | val loss: 0.3006114901280871 |\n",
      "Epoch:  49%|████▉     | 98/200 [00:40<00:39,  2.61it/s]\n",
      "EP_97 | train loss: 0.31893906780317716 | val loss: 0.29914220057281793 |\n",
      "Epoch:  50%|████▉     | 99/200 [00:40<00:39,  2.59it/s]\n",
      "EP_98 | train loss: 0.32998150376712576 | val loss: 0.3030080830349642 |\n",
      "Epoch:  50%|█████     | 100/200 [00:40<00:39,  2.56it/s]\n",
      "EP_99 | train loss: 0.31703604950624353 | val loss: 0.2947208086649577 |\n",
      "Epoch:  50%|█████     | 101/200 [00:41<00:40,  2.47it/s]\n",
      "EP_100 | train loss: 0.31103120925379735 | val loss: 0.29794668800690594 |\n",
      "Epoch:  51%|█████     | 102/200 [00:41<00:39,  2.45it/s]\n",
      "EP_101 | train loss: 0.31117099827411127 | val loss: 0.2976965062758502 |\n",
      "Epoch:  52%|█████▏    | 103/200 [00:42<00:38,  2.51it/s]\n",
      "EP_102 | train loss: 0.31035228804046033 | val loss: 0.2902360494230308 |\n",
      "Epoch:  52%|█████▏    | 104/200 [00:42<00:38,  2.52it/s]\n",
      "EP_103 | train loss: 0.30810028805452233 | val loss: 0.28939026827905695 |\n",
      "Epoch:  52%|█████▎    | 105/200 [00:42<00:38,  2.47it/s]\n",
      "EP_104 | train loss: 0.31679812459384693 | val loss: 0.29544523124601324 |\n",
      "Epoch:  53%|█████▎    | 106/200 [00:43<00:37,  2.48it/s]\n",
      "EP_105 | train loss: 0.3028567159877104 | val loss: 0.2875492111140606 |\n",
      "Epoch:  54%|█████▎    | 107/200 [00:43<00:37,  2.49it/s]\n",
      "EP_106 | train loss: 0.30294365415386126 | val loss: 0.28588853922544744 |\n",
      "Epoch:  54%|█████▍    | 108/200 [00:44<00:36,  2.51it/s]\n",
      "EP_107 | train loss: 0.30011283229379093 | val loss: 0.2852132367152794 |\n",
      "Epoch:  55%|█████▍    | 109/200 [00:44<00:35,  2.55it/s]\n",
      "EP_108 | train loss: 0.2976598524579815 | val loss: 0.2838171147832684 |\n",
      "Epoch:  55%|█████▌    | 110/200 [00:44<00:35,  2.54it/s]\n",
      "EP_109 | train loss: 0.30840654887405095 | val loss: 0.28672852995348913 |\n",
      "Epoch:  56%|█████▌    | 111/200 [00:45<00:34,  2.55it/s]\n",
      "EP_110 | train loss: 0.2948550869436825 | val loss: 0.28032761578466375 |\n",
      "Epoch:  56%|█████▌    | 112/200 [00:45<00:34,  2.56it/s]\n",
      "EP_111 | train loss: 0.29854612210217646 | val loss: 0.279954651407167 |\n",
      "Epoch:  56%|█████▋    | 113/200 [00:46<00:33,  2.59it/s]\n",
      "EP_112 | train loss: 0.29869876609129065 | val loss: 0.2811739719381519 |\n",
      "Epoch:  57%|█████▋    | 114/200 [00:46<00:33,  2.60it/s]\n",
      "EP_113 | train loss: 0.2963038075203989 | val loss: 0.27812763756396724 |\n",
      "Epoch:  57%|█████▊    | 115/200 [00:46<00:32,  2.64it/s]\n",
      "EP_114 | train loss: 0.28776318699705833 | val loss: 0.27569907611491634 |\n",
      "Epoch:  58%|█████▊    | 116/200 [00:47<00:32,  2.56it/s]\n",
      "EP_115 | train loss: 0.3027266231237673 | val loss: 0.2830379961752424 |\n",
      "Epoch:  58%|█████▊    | 117/200 [00:47<00:31,  2.60it/s]\n",
      "EP_116 | train loss: 0.2819755568223841 | val loss: 0.27768753556644216 |\n",
      "Epoch:  59%|█████▉    | 118/200 [00:47<00:31,  2.61it/s]\n",
      "EP_117 | train loss: 0.2824620050542495 | val loss: 0.27013494921665565 |\n",
      "Epoch:  60%|█████▉    | 119/200 [00:48<00:30,  2.64it/s]\n",
      "EP_118 | train loss: 0.2802280304478664 | val loss: 0.2702488653800067 |\n",
      "Epoch:  60%|██████    | 120/200 [00:48<00:30,  2.58it/s]\n",
      "EP_119 | train loss: 0.28307980462616567 | val loss: 0.26970778727063943 |\n",
      "Epoch:  60%|██████    | 121/200 [00:49<00:30,  2.58it/s]\n",
      "EP_120 | train loss: 0.2790623837826299 | val loss: 0.2668924390100965 |\n",
      "Epoch:  61%|██████    | 122/200 [00:49<00:29,  2.61it/s]\n",
      "EP_121 | train loss: 0.27925097568362367 | val loss: 0.2660176006017947 |\n",
      "Epoch:  62%|██████▏   | 123/200 [00:49<00:30,  2.54it/s]\n",
      "EP_122 | train loss: 0.2705598672231038 | val loss: 0.26827824115753174 |\n",
      "Epoch:  62%|██████▏   | 124/200 [00:50<00:30,  2.50it/s]\n",
      "EP_123 | train loss: 0.26884488171222165 | val loss: 0.26532263031192854 |\n",
      "Epoch:  62%|██████▎   | 125/200 [00:50<00:30,  2.49it/s]\n",
      "EP_124 | train loss: 0.27221197287241616 | val loss: 0.2617038044275022 |\n",
      "Epoch:  63%|██████▎   | 126/200 [00:51<00:30,  2.45it/s]\n",
      "EP_125 | train loss: 0.267714308757408 | val loss: 0.2620236628195819 |\n",
      "Epoch:  64%|██████▎   | 127/200 [00:51<00:29,  2.45it/s]\n",
      "EP_126 | train loss: 0.27005906479031433 | val loss: 0.26062028665168613 |\n",
      "Epoch:  64%|██████▍   | 128/200 [00:51<00:28,  2.49it/s]\n",
      "EP_127 | train loss: 0.2651740976408416 | val loss: 0.25687798098021863 |\n",
      "Epoch:  64%|██████▍   | 129/200 [00:52<00:28,  2.53it/s]\n",
      "EP_128 | train loss: 0.2601248395209219 | val loss: 0.2549305125778797 |\n",
      "Epoch:  65%|██████▌   | 130/200 [00:52<00:27,  2.52it/s]\n",
      "EP_129 | train loss: 0.26318107773275934 | val loss: 0.25219252997753666 |\n",
      "Epoch:  66%|██████▌   | 131/200 [00:53<00:27,  2.50it/s]\n",
      "EP_130 | train loss: 0.26271983501957913 | val loss: 0.25272932414915045 |\n",
      "Epoch:  66%|██████▌   | 132/200 [00:53<00:26,  2.54it/s]\n",
      "EP_131 | train loss: 0.2561789858574961 | val loss: 0.25087859817579683 |\n",
      "Epoch:  66%|██████▋   | 133/200 [00:53<00:26,  2.58it/s]\n",
      "EP_132 | train loss: 0.2550878066642612 | val loss: 0.24771925339511797 |\n",
      "Epoch:  67%|██████▋   | 134/200 [00:54<00:26,  2.53it/s]\n",
      "EP_133 | train loss: 0.25157133457707426 | val loss: 0.24558727472436195 |\n",
      "Epoch:  68%|██████▊   | 135/200 [00:54<00:25,  2.55it/s]\n",
      "EP_134 | train loss: 0.24969526225445318 | val loss: 0.24328231227164174 |\n",
      "Epoch:  68%|██████▊   | 136/200 [00:55<00:25,  2.50it/s]\n",
      "EP_135 | train loss: 0.25502836751002894 | val loss: 0.24415864430221856 |\n",
      "Epoch:  68%|██████▊   | 137/200 [00:55<00:25,  2.51it/s]\n",
      "EP_136 | train loss: 0.2459856482113109 | val loss: 0.24367592848983466 |\n",
      "Epoch:  69%|██████▉   | 138/200 [00:55<00:24,  2.50it/s]\n",
      "EP_137 | train loss: 0.2505885830112532 | val loss: 0.2413132856873905 |\n",
      "Epoch:  70%|██████▉   | 139/200 [00:56<00:24,  2.50it/s]\n",
      "EP_138 | train loss: 0.24204329556109858 | val loss: 0.23946691961849437 |\n",
      "Epoch:  70%|███████   | 140/200 [00:56<00:24,  2.49it/s]\n",
      "EP_139 | train loss: 0.23950370854022457 | val loss: 0.23651067649616914 |\n",
      "Epoch:  70%|███████   | 141/200 [00:57<00:23,  2.48it/s]\n",
      "EP_140 | train loss: 0.2395860288657394 | val loss: 0.24244005422966153 |\n",
      "Epoch:  71%|███████   | 142/200 [00:57<00:23,  2.51it/s]\n",
      "EP_141 | train loss: 0.2420033838234696 | val loss: 0.23574305749407 |\n",
      "Epoch:  72%|███████▏  | 143/200 [00:57<00:22,  2.55it/s]\n",
      "EP_142 | train loss: 0.24024640719095866 | val loss: 0.23528538147608438 |\n",
      "Epoch:  72%|███████▏  | 144/200 [00:58<00:21,  2.58it/s]\n",
      "EP_143 | train loss: 0.23912957228866277 | val loss: 0.2333595916336658 |\n",
      "Epoch:  72%|███████▎  | 145/200 [00:58<00:21,  2.60it/s]\n",
      "EP_144 | train loss: 0.23077598412831624 | val loss: 0.23071695367495218 |\n",
      "Epoch:  73%|███████▎  | 146/200 [00:59<00:20,  2.59it/s]\n",
      "EP_145 | train loss: 0.2405300547094906 | val loss: 0.2324062387148539 |\n",
      "Epoch:  74%|███████▎  | 147/200 [00:59<00:20,  2.61it/s]\n",
      "EP_146 | train loss: 0.2267713471954944 | val loss: 0.22722465384240245 |\n",
      "Epoch:  74%|███████▍  | 148/200 [00:59<00:19,  2.62it/s]\n",
      "EP_147 | train loss: 0.2340483772988413 | val loss: 0.2253137230873108 |\n",
      "Epoch:  74%|███████▍  | 149/200 [01:00<00:19,  2.63it/s]\n",
      "EP_148 | train loss: 0.22430356624079686 | val loss: 0.22421008991260155 |\n",
      "Epoch:  75%|███████▌  | 150/200 [01:00<00:18,  2.65it/s]\n",
      "EP_149 | train loss: 0.22243011792500814 | val loss: 0.2212371078192019 |\n",
      "Epoch:  76%|███████▌  | 151/200 [01:00<00:18,  2.60it/s]\n",
      "EP_150 | train loss: 0.22930185561086616 | val loss: 0.22257148050794415 |\n",
      "Epoch:  76%|███████▌  | 152/200 [01:01<00:18,  2.58it/s]\n",
      "EP_151 | train loss: 0.22620141786687514 | val loss: 0.21886317753324322 |\n",
      "Epoch:  76%|███████▋  | 153/200 [01:01<00:18,  2.58it/s]\n",
      "EP_152 | train loss: 0.21593458932988785 | val loss: 0.21748633595073924 |\n",
      "Epoch:  77%|███████▋  | 154/200 [01:02<00:18,  2.52it/s]\n",
      "EP_153 | train loss: 0.22292744225146724 | val loss: 0.21759885432673434 |\n",
      "Epoch:  78%|███████▊  | 155/200 [01:02<00:17,  2.53it/s]\n",
      "EP_154 | train loss: 0.21849537316490622 | val loss: 0.21260024870143218 |\n",
      "Epoch:  78%|███████▊  | 156/200 [01:02<00:17,  2.53it/s]\n",
      "EP_155 | train loss: 0.20980017418954885 | val loss: 0.21143259254156374 |\n",
      "Epoch:  78%|███████▊  | 157/200 [01:03<00:17,  2.50it/s]\n",
      "EP_156 | train loss: 0.2080740316241395 | val loss: 0.20898762170006246 |\n",
      "Epoch:  79%|███████▉  | 158/200 [01:03<00:17,  2.45it/s]\n",
      "EP_157 | train loss: 0.20553705131306368 | val loss: 0.20854483749352248 |\n",
      "Epoch:  80%|███████▉  | 159/200 [01:04<00:17,  2.40it/s]\n",
      "EP_158 | train loss: 0.20338338636884504 | val loss: 0.20390630235858992 |\n",
      "Epoch:  80%|████████  | 160/200 [01:04<00:16,  2.43it/s]\n",
      "EP_159 | train loss: 0.20996574888042374 | val loss: 0.2047805388768514 |\n",
      "Epoch:  80%|████████  | 161/200 [01:04<00:15,  2.46it/s]\n",
      "EP_160 | train loss: 0.21028631341223622 | val loss: 0.20439121653051937 |\n",
      "Epoch:  81%|████████  | 162/200 [01:05<00:15,  2.44it/s]\n",
      "EP_161 | train loss: 0.2074815502353743 | val loss: 0.20109998127993414 |\n",
      "Epoch:  82%|████████▏ | 163/200 [01:05<00:14,  2.50it/s]\n",
      "EP_162 | train loss: 0.20180613714105944 | val loss: 0.19782941949133778 |\n",
      "Epoch:  82%|████████▏ | 164/200 [01:06<00:14,  2.55it/s]\n",
      "EP_163 | train loss: 0.1948819071638818 | val loss: 0.19686098192252366 |\n",
      "Epoch:  82%|████████▎ | 165/200 [01:06<00:13,  2.58it/s]\n",
      "EP_164 | train loss: 0.19186260980718275 | val loss: 0.19664135750602274 |\n",
      "Epoch:  83%|████████▎ | 166/200 [01:06<00:13,  2.58it/s]\n",
      "EP_165 | train loss: 0.19199736281937244 | val loss: 0.19049652534372666 |\n",
      "Epoch:  84%|████████▎ | 167/200 [01:07<00:12,  2.61it/s]\n",
      "EP_166 | train loss: 0.19551941553751628 | val loss: 0.1920663644285763 |\n",
      "Epoch:  84%|████████▍ | 168/200 [01:07<00:12,  2.63it/s]\n",
      "EP_167 | train loss: 0.18565790886972464 | val loss: 0.18693023452571794 |\n",
      "Epoch:  84%|████████▍ | 169/200 [01:08<00:11,  2.64it/s]\n",
      "EP_168 | train loss: 0.18298059585047702 | val loss: 0.18453093136058135 |\n",
      "Epoch:  85%|████████▌ | 170/200 [01:08<00:11,  2.66it/s]\n",
      "EP_169 | train loss: 0.18104783366708194 | val loss: 0.18238843889797435 |\n",
      "Epoch:  86%|████████▌ | 171/200 [01:08<00:11,  2.62it/s]\n",
      "EP_170 | train loss: 0.19106861610038609 | val loss: 0.18779460998142466 |\n",
      "Epoch:  86%|████████▌ | 172/200 [01:09<00:10,  2.64it/s]\n",
      "EP_171 | train loss: 0.17704732838798973 | val loss: 0.17871584494908652 |\n",
      "Epoch:  86%|████████▋ | 173/200 [01:09<00:10,  2.60it/s]\n",
      "EP_172 | train loss: 0.17476680185280594 | val loss: 0.176077102913576 |\n",
      "Epoch:  87%|████████▋ | 174/200 [01:09<00:09,  2.62it/s]\n",
      "EP_173 | train loss: 0.17198836148953905 | val loss: 0.17530599820847606 |\n",
      "Epoch:  88%|████████▊ | 175/200 [01:10<00:09,  2.57it/s]\n",
      "EP_174 | train loss: 0.1691182681158477 | val loss: 0.1737386607656292 |\n",
      "Epoch:  88%|████████▊ | 176/200 [01:10<00:09,  2.56it/s]\n",
      "EP_175 | train loss: 0.17091543183607213 | val loss: 0.17629792409784653 |\n",
      "Epoch:  88%|████████▊ | 177/200 [01:11<00:09,  2.53it/s]\n",
      "EP_176 | train loss: 0.16630522573695464 | val loss: 0.16805136437509574 |\n",
      "Epoch:  89%|████████▉ | 178/200 [01:11<00:08,  2.46it/s]\n",
      "EP_177 | train loss: 0.1816675812590356 | val loss: 0.18228862157054976 |\n",
      "Epoch:  90%|████████▉ | 179/200 [01:11<00:08,  2.44it/s]\n",
      "EP_178 | train loss: 0.166266182123446 | val loss: 0.1679776813469681 |\n",
      "Epoch:  90%|█████████ | 180/200 [01:12<00:08,  2.46it/s]\n",
      "EP_179 | train loss: 0.16229870155745862 | val loss: 0.16396157998664707 |\n",
      "Epoch:  90%|█████████ | 181/200 [01:12<00:07,  2.48it/s]\n",
      "EP_180 | train loss: 0.15798395685121125 | val loss: 0.16059221824010214 |\n",
      "Epoch:  91%|█████████ | 182/200 [01:13<00:07,  2.44it/s]\n",
      "EP_181 | train loss: 0.15572395651948218 | val loss: 0.15799170440318538 |\n",
      "Epoch:  92%|█████████▏| 183/200 [01:13<00:06,  2.46it/s]\n",
      "EP_182 | train loss: 0.15383959938498104 | val loss: 0.15990908823761285 |\n",
      "Epoch:  92%|█████████▏| 184/200 [01:13<00:06,  2.49it/s]\n",
      "EP_183 | train loss: 0.1497378664858201 | val loss: 0.15545697247280793 |\n",
      "Epoch:  92%|█████████▎| 185/200 [01:14<00:06,  2.49it/s]\n",
      "EP_184 | train loss: 0.15157264821669636 | val loss: 0.15475250342312982 |\n",
      "Epoch:  93%|█████████▎| 186/200 [01:14<00:05,  2.50it/s]\n",
      "EP_185 | train loss: 0.15696693167966955 | val loss: 0.15968638424779855 |\n",
      "Epoch:  94%|█████████▎| 187/200 [01:15<00:05,  2.54it/s]\n",
      "EP_186 | train loss: 0.14880255624359728 | val loss: 0.1516552018184288 |\n",
      "Epoch:  94%|█████████▍| 188/200 [01:15<00:04,  2.57it/s]\n",
      "EP_187 | train loss: 0.15357165219737035 | val loss: 0.16097852529263965 |\n",
      "Epoch:  94%|█████████▍| 189/200 [01:15<00:04,  2.58it/s]\n",
      "EP_188 | train loss: 0.1573267663226408 | val loss: 0.15887275396608838 |\n",
      "Epoch:  95%|█████████▌| 190/200 [01:16<00:03,  2.61it/s]\n",
      "EP_189 | train loss: 0.13939291402405385 | val loss: 0.1461215352310854 |\n",
      "Epoch:  96%|█████████▌| 191/200 [01:16<00:03,  2.56it/s]\n",
      "EP_190 | train loss: 0.14137969765008665 | val loss: 0.1439413545178432 |\n",
      "Epoch:  96%|█████████▌| 192/200 [01:17<00:03,  2.58it/s]\n",
      "EP_191 | train loss: 0.13540226361330818 | val loss: 0.1384674328214982 |\n",
      "Epoch:  96%|█████████▋| 193/200 [01:17<00:02,  2.61it/s]\n",
      "EP_192 | train loss: 0.1418499331848294 | val loss: 0.1463847183713726 |\n",
      "Epoch:  97%|█████████▋| 194/200 [01:17<00:02,  2.63it/s]\n",
      "EP_193 | train loss: 0.13287379811791813 | val loss: 0.13816523551940918 |\n",
      "Epoch:  98%|█████████▊| 195/200 [01:18<00:01,  2.62it/s]\n",
      "EP_194 | train loss: 0.12716998469595817 | val loss: 0.1357510364523121 |\n",
      "Epoch:  98%|█████████▊| 196/200 [01:18<00:01,  2.52it/s]\n",
      "EP_195 | train loss: 0.12518175349516028 | val loss: 0.133002241452535 |\n",
      "Epoch:  98%|█████████▊| 197/200 [01:19<00:01,  2.53it/s]\n",
      "EP_196 | train loss: 0.13719726473677393 | val loss: 0.14106757617464252 |\n",
      "Epoch:  99%|█████████▉| 198/200 [01:19<00:00,  2.50it/s]\n",
      "EP_197 | train loss: 0.12277651557735368 | val loss: 0.12783333250120574 |\n",
      "Epoch: 100%|█████████▉| 199/200 [01:19<00:00,  2.47it/s]\n",
      "EP_198 | train loss: 0.1260710036053377 | val loss: 0.12871037394392723 |\n",
      "Epoch: 100%|██████████| 200/200 [01:20<00:00,  2.49it/s]\n",
      "EP_199 | train loss: 0.12243939942004634 | val loss: 0.1267912037232343 |\n",
      "\n"
     ]
    }
   ],
   "source": [
    "AttractiveTrainer.train()"
   ]
  },
  {
   "cell_type": "markdown",
   "metadata": {},
   "source": [
    "## for classification, not better"
   ]
  },
  {
   "cell_type": "markdown",
   "metadata": {},
   "source": [
    "## Below is testing"
   ]
  },
  {
   "cell_type": "code",
   "execution_count": 8,
   "metadata": {},
   "outputs": [
    {
     "output_type": "execute_result",
     "data": {
      "text/plain": [
       "AttractiveNet(\n",
       "  (embedding): AttractiveEmbedding(\n",
       "    (token): TokenEmbedding(12699, 300, padding_idx=1)\n",
       "  )\n",
       "  (bigramcnn): Sequential(\n",
       "    (0): Conv1d(300, 200, kernel_size=(2,), stride=(1,), padding=(1,))\n",
       "    (1): Conv1d(200, 100, kernel_size=(2,), stride=(1,), padding=(1,))\n",
       "    (2): ReLU()\n",
       "    (3): Dropout(p=0.5, inplace=False)\n",
       "  )\n",
       "  (trigramcnn): Sequential(\n",
       "    (0): Conv1d(300, 200, kernel_size=(3,), stride=(1,), padding=(1,))\n",
       "    (1): Conv1d(200, 100, kernel_size=(3,), stride=(1,), padding=(1,))\n",
       "    (2): ReLU()\n",
       "    (3): Dropout(p=0.5, inplace=False)\n",
       "  )\n",
       "  (encoder_bigram_first): LSTM(100, 30, batch_first=True, dropout=0.5, bidirectional=True)\n",
       "  (encoder_trigram_first): LSTM(100, 30, batch_first=True, dropout=0.5, bidirectional=True)\n",
       "  (linear): Sequential(\n",
       "    (0): Linear(in_features=124, out_features=30, bias=True)\n",
       "    (1): ReLU()\n",
       "    (2): Linear(in_features=30, out_features=1, bias=True)\n",
       "  )\n",
       ")"
      ]
     },
     "metadata": {},
     "execution_count": 8
    }
   ],
   "source": [
    "from attractivenet import AttractiveNet\n",
    "\n",
    "PATH = './model/CNN_LSTM_20201107-152244/0.355040.80'\n",
    "\n",
    "load_model = AttractiveNet(config).to(AttractiveData.device)\n",
    "load_model.load_state_dict(torch.load(PATH))\n",
    "load_model.eval()"
   ]
  },
  {
   "cell_type": "code",
   "execution_count": 9,
   "metadata": {},
   "outputs": [],
   "source": [
    "def predict_attractive(sentence, category, phase):\n",
    "    indexed_sentence = [AttractiveData.TEXT.vocab.stoi[t] for t in sentence]\n",
    "    indexed_category = [AttractiveData.CATEGORIES_LABEL.vocab.stoi[category]]\n",
    "    tensor_sentence = torch.LongTensor(indexed_sentence).to(AttractiveData.device)\n",
    "    tensor_category = torch.LongTensor(indexed_category).to(AttractiveData.device)\n",
    "\n",
    "    tensor_sentence = tensor_sentence.unsqueeze(0)\n",
    "    # print(tensor_sentence.shape)\n",
    "\n",
    "    prediction = load_model(tensor_sentence, tensor_category, phase=phase)\n",
    "\n",
    "    return prediction"
   ]
  },
  {
   "cell_type": "code",
   "execution_count": 10,
   "metadata": {
    "tags": []
   },
   "outputs": [],
   "source": [
    "# train mean = 3.15, test mean = 2.8\n",
    "predict_list = []\n",
    "with torch.no_grad():\n",
    "    for i, sentence in enumerate(AttractiveData.test_data):\n",
    "        prediction = predict_attractive(sentence.Headline, sentence.Category, 'test')\n",
    "        predict_list.append(prediction.item())\n",
    "        # predict_list.append(prediction.item())\n",
    "AttractiveData.df_test['Label'] = predict_list\n",
    "AttractiveData.df_test[['ID', 'Label']].to_csv(config['save_name'] + '.csv', index=False)"
   ]
  },
  {
   "cell_type": "markdown",
   "metadata": {},
   "source": [
    "## Below for statistics"
   ]
  },
  {
   "cell_type": "code",
   "execution_count": 11,
   "metadata": {},
   "outputs": [],
   "source": [
    "import statistics\n",
    "from sklearn.metrics import mean_squared_error"
   ]
  },
  {
   "cell_type": "code",
   "execution_count": 12,
   "metadata": {},
   "outputs": [],
   "source": [
    "# # train mean = 3.15, test mean = 2.8\n",
    "# train_list = []\n",
    "# for i, sentence in enumerate(AttractiveData.train_data):\n",
    "#     prediction = predict_attractive(sentence.Headline, sentence.Category, 'train')\n",
    "#     train_list.append(prediction.item())\n",
    "#     # train_list.append(prediction.item())\n",
    "# # print(train_list)\n",
    "# mean_squared_error(pd.read_csv('data/train.csv').sort_values(['ID']).Label.to_list(), train_list), statistics.mean(train_list), statistics.stdev(train_list)"
   ]
  },
  {
   "cell_type": "code",
   "execution_count": 13,
   "metadata": {},
   "outputs": [],
   "source": [
    "# train_list[0:5], pd.read_csv('data/train.csv').sort_values(['ID']).Label.to_list()[0:5]"
   ]
  },
  {
   "cell_type": "code",
   "execution_count": 14,
   "metadata": {},
   "outputs": [],
   "source": [
    "# a = AttractiveData.df_train['Label'].to_list()\n",
    "# statistics.mean(a), statistics.stdev(a)"
   ]
  },
  {
   "cell_type": "code",
   "execution_count": 15,
   "metadata": {},
   "outputs": [
    {
     "output_type": "execute_result",
     "data": {
      "text/plain": [
       "(2.699708199185947, 0.367520327819716)"
      ]
     },
     "metadata": {},
     "execution_count": 15
    }
   ],
   "source": [
    "statistics.mean(predict_list), statistics.stdev(predict_list)"
   ]
  },
  {
   "cell_type": "code",
   "execution_count": 16,
   "metadata": {},
   "outputs": [
    {
     "output_type": "execute_result",
     "data": {
      "text/plain": [
       "(0.01781081814287132, 2.774164993857497, 0.3615900775742119)"
      ]
     },
     "metadata": {},
     "execution_count": 16
    }
   ],
   "source": [
    "baseline_list = pd.read_csv('baseline.csv').sort_values(['ID']).Label.to_list()\n",
    "mean_squared_error(baseline_list, predict_list), statistics.mean(baseline_list), statistics.stdev(baseline_list)"
   ]
  },
  {
   "cell_type": "code",
   "execution_count": null,
   "metadata": {},
   "outputs": [],
   "source": []
  },
  {
   "cell_type": "code",
   "execution_count": 18,
   "metadata": {},
   "outputs": [
    {
     "data": {
      "text/plain": [
       "0.1609754968529207"
      ]
     },
     "execution_count": 18,
     "metadata": {},
     "output_type": "execute_result"
    }
   ],
   "source": [
    "mean_squared_error(pd.read_csv('baseline.csv').sort_values(['ID']).Label.to_list(), pd.read_csv('./predict/ensemble.csv').sort_values(['ID']).Label.to_list())"
   ]
  },
  {
   "cell_type": "code",
   "execution_count": 10,
   "metadata": {},
   "outputs": [],
   "source": [
    "from sklearn.model_selection import KFold\n",
    "import numpy as np"
   ]
  },
  {
   "cell_type": "code",
   "execution_count": 11,
   "metadata": {},
   "outputs": [],
   "source": []
  },
  {
   "cell_type": "code",
   "execution_count": 12,
   "metadata": {},
   "outputs": [
    {
     "data": {
      "text/plain": [
       "2040"
      ]
     },
     "execution_count": 12,
     "metadata": {},
     "output_type": "execute_result"
    }
   ],
   "source": [
    "len(AttractiveData.train_data.examples)"
   ]
  },
  {
   "cell_type": "code",
   "execution_count": 13,
   "metadata": {},
   "outputs": [],
   "source": []
  },
  {
   "cell_type": "code",
   "execution_count": null,
   "metadata": {},
   "outputs": [],
   "source": []
  }
 ],
 "metadata": {
  "kernelspec": {
   "display_name": "DS_hw2",
   "language": "python",
   "name": "ds_hw2"
  },
  "language_info": {
   "codemirror_mode": {
    "name": "ipython",
    "version": 3
   },
   "file_extension": ".py",
   "mimetype": "text/x-python",
   "name": "python",
   "nbconvert_exporter": "python",
   "pygments_lexer": "ipython3",
   "version": "3.6.12-final"
  }
 },
 "nbformat": 4,
 "nbformat_minor": 4
}