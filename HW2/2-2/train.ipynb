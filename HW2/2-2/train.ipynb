{
 "cells": [
  {
   "cell_type": "code",
   "execution_count": 1,
   "metadata": {},
   "outputs": [],
   "source": [
    "# common packages\n",
    "import pandas as pd\n",
    "import time\n",
    "\n",
    "# # DL framework\n",
    "import torch\n",
    "from torchtext import data\n",
    "\n",
    "from attractivedata import AttractiveData\n",
    "from trainer import AttractiveTrainer"
   ]
  },
  {
   "cell_type": "code",
   "execution_count": 2,
   "metadata": {},
   "outputs": [],
   "source": [
    "seed_value = 9527\n",
    "torch.manual_seed(seed_value)\n",
    "torch.cuda.manual_seed(seed_value)\n",
    "torch.cuda.manual_seed_all(seed_value) # gpu vars\n",
    "torch.backends.cudnn.deterministic = True  #needed\n",
    "torch.backends.cudnn.benchmark = False"
   ]
  },
  {
   "cell_type": "markdown",
   "metadata": {},
   "source": [
    "## Load and prepare data"
   ]
  },
  {
   "cell_type": "code",
   "execution_count": 3,
   "metadata": {},
   "outputs": [],
   "source": [
    "train_file = 'data/train.csv'\n",
    "val_file = 'example/val.csv'\n",
    "test_file = 'data/test.csv'\n",
    "pretrained_file = 'glove.840B.300d'\n",
    "config = {\n",
    "    'max_seq': 40,\n",
    "    'min_freq': 0,\n",
    "    'batch_size': 51,\n",
    "    'pretrained_file': pretrained_file\n",
    "}\n"
   ]
  },
  {
   "cell_type": "code",
   "execution_count": 4,
   "metadata": {},
   "outputs": [],
   "source": [
    "AttractiveData = AttractiveData(train_file, val_file, test_file, pretrained_file, config)"
   ]
  },
  {
   "cell_type": "markdown",
   "metadata": {},
   "source": [
    "## Start to train"
   ]
  },
  {
   "cell_type": "code",
   "execution_count": 5,
   "metadata": {},
   "outputs": [
    {
     "output_type": "stream",
     "name": "stdout",
     "text": [
      "torch.Size([12699, 300])\n"
     ]
    }
   ],
   "source": [
    "config['timestr'] = time.strftime(\"%Y%m%d-%H%M%S\")\n",
    "config['save_name'] = 'CNN_LSTM'\n",
    "config['input_dim'] = len(AttractiveData.TEXT.vocab)\n",
    "config['embedding_dim'] = 300\n",
    "config['category_dim'] = len(AttractiveData.CATEGORIES_LABEL.vocab)\n",
    "config['category_embedding_dim'] = 10\n",
    "config['hidden_dim'] = 30\n",
    "config['output_dim'] = 1\n",
    "config['log_steps'] = 10\n",
    "config['epochs'] = 150\n",
    "config['lr'] = {\n",
    "    'encoder': 1e-5,\n",
    "    'embedding': 6e-6,\n",
    "    'linear': 1e-5\n",
    "}\n",
    "config['num_layers'] = 1\n",
    "config['kernel_size'] = 3\n",
    "config['dropout'] = 0.5\n",
    "config['train_len'] = AttractiveData.train_len\n",
    "config['val_len'] = AttractiveData.val_len\n",
    "config['test_len'] = AttractiveData.test_len\n",
    "\n",
    "pretrained_embeddings = AttractiveData.TEXT.vocab.vectors\n",
    "print(pretrained_embeddings.shape)"
   ]
  },
  {
   "cell_type": "code",
   "execution_count": 6,
   "metadata": {},
   "outputs": [],
   "source": [
    "AttractiveTrainer = AttractiveTrainer(config, AttractiveData.device, AttractiveData.trainloader, AttractiveData.valloader, pretrained_embeddings)"
   ]
  },
  {
   "cell_type": "code",
   "execution_count": 7,
   "metadata": {},
   "outputs": [
    {
     "output_type": "execute_result",
     "data": {
      "text/plain": [
       "(AttractiveNet(\n",
       "   (embedding): AttractiveEmbedding(\n",
       "     (token): TokenEmbedding(12699, 300, padding_idx=1)\n",
       "   )\n",
       "   (bigramcnn): Sequential(\n",
       "     (0): Conv1d(300, 210, kernel_size=(2,), stride=(1,), padding=(1,))\n",
       "     (1): ReLU()\n",
       "     (2): Conv1d(210, 100, kernel_size=(2,), stride=(1,), padding=(1,))\n",
       "     (3): ReLU()\n",
       "     (4): Dropout(p=0.5, inplace=False)\n",
       "   )\n",
       "   (trigramcnn): Sequential(\n",
       "     (0): Conv1d(300, 210, kernel_size=(3,), stride=(1,), padding=(1,))\n",
       "     (1): ReLU()\n",
       "     (2): Conv1d(210, 100, kernel_size=(3,), stride=(1,), padding=(1,))\n",
       "     (3): ReLU()\n",
       "     (4): Dropout(p=0.5, inplace=False)\n",
       "   )\n",
       "   (encoder_bigram): LSTM(100, 30, batch_first=True, dropout=0.5, bidirectional=True)\n",
       "   (encoder_trigram): LSTM(100, 30, batch_first=True, dropout=0.5, bidirectional=True)\n",
       "   (linear): Sequential(\n",
       "     (0): Linear(in_features=128, out_features=30, bias=True)\n",
       "     (1): ReLU()\n",
       "     (2): Linear(in_features=30, out_features=1, bias=True)\n",
       "   )\n",
       " ),\n",
       " 4297581,\n",
       " 4297581)"
      ]
     },
     "metadata": {},
     "execution_count": 7
    }
   ],
   "source": [
    "AttractiveTrainer.model, AttractiveTrainer.config['total_params'], AttractiveTrainer.config['total_learned_params']"
   ]
  },
  {
   "cell_type": "code",
   "execution_count": 8,
   "metadata": {
    "tags": []
   },
   "outputs": [
    {
     "output_type": "stream",
     "name": "stderr",
     "text": [
      "Epoch:   1%|          | 1/150 [00:00<01:12,  2.07it/s]\n",
      "EP_0 | train loss: 3.074841420790728 | val loss: 3.55726780610926 |\n",
      "Epoch:   1%|▏         | 2/150 [00:00<01:10,  2.10it/s]\n",
      "EP_1 | train loss: 0.6704384822471469 | val loss: 0.8198301277908624 |\n",
      "Epoch:   2%|▏         | 3/150 [00:01<01:08,  2.13it/s]\n",
      "EP_2 | train loss: 0.6013910994810217 | val loss: 0.7926267362108418 |\n",
      "Epoch:   3%|▎         | 4/150 [00:01<01:08,  2.14it/s]\n",
      "EP_3 | train loss: 0.5817309762917313 | val loss: 0.7709439408545401 |\n",
      "Epoch:   3%|▎         | 5/150 [00:02<01:06,  2.17it/s]\n",
      "EP_4 | train loss: 0.5746322042801801 | val loss: 0.7445863835951861 |\n",
      "Epoch:   4%|▍         | 6/150 [00:02<01:06,  2.17it/s]\n",
      "EP_5 | train loss: 0.5695271174112956 | val loss: 0.7277290306839288 |\n",
      "Epoch:   5%|▍         | 7/150 [00:03<01:05,  2.18it/s]\n",
      "EP_6 | train loss: 0.5792129516601563 | val loss: 0.7029637542425418 |\n",
      "Epoch:   5%|▌         | 8/150 [00:03<01:05,  2.17it/s]\n",
      "EP_7 | train loss: 0.5596580458622352 | val loss: 0.6876780566047219 |\n",
      "Epoch:   6%|▌         | 9/150 [00:04<01:04,  2.18it/s]\n",
      "EP_8 | train loss: 0.573269245671291 | val loss: 0.6639611206802667 |\n",
      "Epoch:   7%|▋         | 10/150 [00:04<01:04,  2.18it/s]\n",
      "EP_9 | train loss: 0.5600713916853363 | val loss: 0.650747065450631 |\n",
      "Epoch:   7%|▋         | 11/150 [00:05<01:04,  2.14it/s]\n",
      "EP_10 | train loss: 0.5566315118004294 | val loss: 0.640782823749617 |\n",
      "Epoch:   8%|▊         | 12/150 [00:05<01:03,  2.16it/s]\n",
      "EP_11 | train loss: 0.5491944163453345 | val loss: 0.6273451692917767 |\n",
      "Epoch:   9%|▊         | 13/150 [00:05<01:02,  2.18it/s]\n",
      "EP_12 | train loss: 0.5459324724533978 | val loss: 0.6158760295194738 |\n",
      "Epoch:   9%|▉         | 14/150 [00:06<01:02,  2.17it/s]\n",
      "EP_13 | train loss: 0.5387497555975821 | val loss: 0.6071491241455078 |\n",
      "Epoch:  10%|█         | 15/150 [00:06<01:01,  2.19it/s]\n",
      "EP_14 | train loss: 0.542069954030654 | val loss: 0.5923329615125469 |\n",
      "Epoch:  11%|█         | 16/150 [00:07<01:00,  2.20it/s]\n",
      "EP_15 | train loss: 0.5360033390568751 | val loss: 0.5872406211553836 |\n",
      "Epoch:  11%|█▏        | 17/150 [00:07<01:00,  2.20it/s]\n",
      "EP_16 | train loss: 0.5393321738523595 | val loss: 0.5720786954842362 |\n",
      "Epoch:  12%|█▏        | 18/150 [00:08<01:00,  2.20it/s]\n",
      "EP_17 | train loss: 0.5306534598855411 | val loss: 0.5671897962981579 |\n",
      "Epoch:  13%|█▎        | 19/150 [00:08<00:59,  2.20it/s]\n",
      "EP_18 | train loss: 0.5358700901854272 | val loss: 0.5550425005894081 |\n",
      "Epoch:  13%|█▎        | 20/150 [00:09<00:59,  2.19it/s]\n",
      "EP_19 | train loss: 0.5295729160308837 | val loss: 0.5449366289026597 |\n",
      "Epoch:  14%|█▍        | 21/150 [00:09<00:59,  2.16it/s]\n",
      "EP_20 | train loss: 0.5241387544893751 | val loss: 0.538721991520302 |\n",
      "Epoch:  15%|█▍        | 22/150 [00:10<00:58,  2.17it/s]\n",
      "EP_21 | train loss: 0.5253366573184144 | val loss: 0.5274856043796913 |\n",
      "Epoch:  15%|█▌        | 23/150 [00:10<00:58,  2.18it/s]\n",
      "EP_22 | train loss: 0.5190128658332077 | val loss: 0.5209474563598633 |\n",
      "Epoch:  16%|█▌        | 24/150 [00:11<00:57,  2.18it/s]\n",
      "EP_23 | train loss: 0.5109617064980899 | val loss: 0.514802053862927 |\n",
      "Epoch:  17%|█▋        | 25/150 [00:11<00:57,  2.18it/s]\n",
      "EP_24 | train loss: 0.5165035079507266 | val loss: 0.5051259994506836 |\n",
      "Epoch:  17%|█▋        | 26/150 [00:11<00:56,  2.19it/s]\n",
      "EP_25 | train loss: 0.5049459158205518 | val loss: 0.49976369446399166 |\n",
      "Epoch:  18%|█▊        | 27/150 [00:12<00:55,  2.20it/s]\n",
      "EP_26 | train loss: 0.5087820754331701 | val loss: 0.4905441228081198 |\n",
      "Epoch:  19%|█▊        | 28/150 [00:12<00:55,  2.19it/s]\n",
      "EP_27 | train loss: 0.4990429616441914 | val loss: 0.48450129639868644 |\n",
      "Epoch:  19%|█▉        | 29/150 [00:13<00:55,  2.20it/s]\n",
      "EP_28 | train loss: 0.4952080726623535 | val loss: 0.47608058592852426 |\n",
      "Epoch:  20%|██        | 30/150 [00:13<00:54,  2.20it/s]\n",
      "EP_29 | train loss: 0.49106422031626984 | val loss: 0.4693724033879299 |\n",
      "Epoch:  21%|██        | 31/150 [00:14<00:54,  2.17it/s]\n",
      "EP_30 | train loss: 0.48982426325480144 | val loss: 0.46207344765756647 |\n",
      "Epoch:  21%|██▏       | 32/150 [00:14<00:54,  2.16it/s]\n",
      "EP_31 | train loss: 0.486811629931132 | val loss: 0.45421135659311335 |\n",
      "Epoch:  22%|██▏       | 33/150 [00:15<00:54,  2.13it/s]\n",
      "EP_32 | train loss: 0.48272535567190133 | val loss: 0.4476025992748784 |\n",
      "Epoch:  23%|██▎       | 34/150 [00:15<00:53,  2.16it/s]\n",
      "EP_33 | train loss: 0.47908304906358906 | val loss: 0.44110577714209465 |\n",
      "Epoch:  23%|██▎       | 35/150 [00:16<00:53,  2.16it/s]\n",
      "EP_34 | train loss: 0.4719882796792423 | val loss: 0.43462879517499137 |\n",
      "Epoch:  24%|██▍       | 36/150 [00:16<00:52,  2.18it/s]\n",
      "EP_35 | train loss: 0.46653707494922714 | val loss: 0.42772553481307685 |\n",
      "Epoch:  25%|██▍       | 37/150 [00:17<00:54,  2.07it/s]\n",
      "EP_36 | train loss: 0.4698738079445035 | val loss: 0.4220605691274007 |\n",
      "Epoch:  25%|██▌       | 38/150 [00:17<00:53,  2.11it/s]\n",
      "EP_37 | train loss: 0.46289321675020106 | val loss: 0.41547523760328103 |\n",
      "Epoch:  26%|██▌       | 39/150 [00:17<00:52,  2.12it/s]\n",
      "EP_38 | train loss: 0.4634741689644608 | val loss: 0.41060322406245214 |\n",
      "Epoch:  27%|██▋       | 40/150 [00:18<00:51,  2.15it/s]\n",
      "EP_39 | train loss: 0.45238442420959474 | val loss: 0.4042217918470794 |\n",
      "Epoch:  27%|██▋       | 41/150 [00:18<00:51,  2.12it/s]\n",
      "EP_40 | train loss: 0.4567133580937105 | val loss: 0.3999137644674264 |\n",
      "Epoch:  28%|██▊       | 42/150 [00:19<00:50,  2.15it/s]\n",
      "EP_41 | train loss: 0.44832082028482473 | val loss: 0.39280712370779 |\n",
      "Epoch:  29%|██▊       | 43/150 [00:19<00:49,  2.14it/s]\n",
      "EP_42 | train loss: 0.45105355066411634 | val loss: 0.3909770647684733 |\n",
      "Epoch:  29%|██▉       | 44/150 [00:20<00:48,  2.16it/s]\n",
      "EP_43 | train loss: 0.4396366465325449 | val loss: 0.3826476312151142 |\n",
      "Epoch:  30%|███       | 45/150 [00:20<00:48,  2.15it/s]\n",
      "EP_44 | train loss: 0.4433451778748456 | val loss: 0.3808760876749076 |\n",
      "Epoch:  31%|███       | 46/150 [00:21<00:47,  2.17it/s]\n",
      "EP_45 | train loss: 0.4374583889456356 | val loss: 0.3751378526874617 |\n",
      "Epoch:  31%|███▏      | 47/150 [00:21<00:47,  2.16it/s]\n",
      "EP_46 | train loss: 0.43382701873779295 | val loss: 0.3713353942422306 |\n",
      "Epoch:  32%|███▏      | 48/150 [00:22<00:46,  2.18it/s]\n",
      "EP_47 | train loss: 0.4300505123886408 | val loss: 0.36705676247091856 |\n",
      "Epoch:  33%|███▎      | 49/150 [00:22<00:46,  2.17it/s]\n",
      "EP_48 | train loss: 0.42557063383214616 | val loss: 0.36340899560965745 |\n",
      "Epoch:  33%|███▎      | 50/150 [00:23<00:45,  2.18it/s]\n",
      "EP_49 | train loss: 0.42401343280193854 | val loss: 0.3597669414445466 |\n",
      "Epoch:  34%|███▍      | 51/150 [00:23<00:45,  2.16it/s]\n",
      "EP_50 | train loss: 0.4223838380738801 | val loss: 0.3584619596892712 |\n",
      "Epoch:  35%|███▍      | 52/150 [00:23<00:44,  2.18it/s]\n",
      "EP_51 | train loss: 0.4239442946864109 | val loss: 0.35862169078752104 |\n",
      "Epoch:  35%|███▌      | 53/150 [00:24<00:44,  2.16it/s]\n",
      "EP_52 | train loss: 0.4176126395954805 | val loss: 0.35362597072825713 |\n",
      "Epoch:  36%|███▌      | 54/150 [00:24<00:44,  2.16it/s]\n",
      "EP_53 | train loss: 0.4135111509584913 | val loss: 0.3509218318789613 |\n",
      "Epoch:  37%|███▋      | 55/150 [00:25<00:44,  2.14it/s]\n",
      "EP_54 | train loss: 0.4116746420953788 | val loss: 0.3489224863987343 |\n",
      "Epoch:  37%|███▋      | 56/150 [00:25<00:43,  2.16it/s]\n",
      "EP_55 | train loss: 0.41175136566162107 | val loss: 0.3498707518858068 |\n",
      "Epoch:  38%|███▊      | 57/150 [00:26<00:43,  2.14it/s]\n",
      "EP_56 | train loss: 0.4041423390893375 | val loss: 0.346539763843312 |\n",
      "Epoch:  39%|███▊      | 58/150 [00:26<00:42,  2.15it/s]\n",
      "EP_57 | train loss: 0.4026284423528933 | val loss: 0.34500666693145154 |\n",
      "Epoch:  39%|███▉      | 59/150 [00:27<00:42,  2.15it/s]\n",
      "EP_58 | train loss: 0.4004878848206763 | val loss: 0.34314925997864965 |\n",
      "Epoch:  40%|████      | 60/150 [00:27<00:41,  2.15it/s]\n",
      "EP_59 | train loss: 0.3974094432943008 | val loss: 0.34278247870650946 |\n",
      "Epoch:  41%|████      | 61/150 [00:28<00:41,  2.14it/s]\n",
      "EP_60 | train loss: 0.39630727253708187 | val loss: 0.3419026393516391 |\n",
      "Epoch:  41%|████▏     | 62/150 [00:28<00:40,  2.16it/s]\n",
      "EP_61 | train loss: 0.3932052696452421 | val loss: 0.3388095042284797 |\n",
      "Epoch:  42%|████▏     | 63/150 [00:29<00:40,  2.15it/s]\n",
      "EP_62 | train loss: 0.3948734395644244 | val loss: 0.340425313687792 |\n",
      "Epoch:  43%|████▎     | 64/150 [00:29<00:39,  2.17it/s]\n",
      "EP_63 | train loss: 0.39237113139208624 | val loss: 0.33939800075456206 |\n",
      "Epoch:  43%|████▎     | 65/150 [00:30<00:39,  2.16it/s]\n",
      "EP_64 | train loss: 0.38601542173647413 | val loss: 0.3359103202819824 |\n",
      "Epoch:  44%|████▍     | 66/150 [00:30<00:38,  2.18it/s]\n",
      "EP_65 | train loss: 0.3829672640445186 | val loss: 0.3357188093896006 |\n",
      "Epoch:  45%|████▍     | 67/150 [00:30<00:38,  2.16it/s]\n",
      "EP_66 | train loss: 0.3834782773373174 | val loss: 0.334559113371606 |\n",
      "Epoch:  45%|████▌     | 68/150 [00:31<00:37,  2.18it/s]\n",
      "EP_67 | train loss: 0.38330848030015535 | val loss: 0.33623096989650353 |\n",
      "Epoch:  46%|████▌     | 69/150 [00:31<00:37,  2.16it/s]\n",
      "EP_68 | train loss: 0.3918692616855397 | val loss: 0.34290021541071875 |\n",
      "Epoch:  47%|████▋     | 70/150 [00:32<00:36,  2.16it/s]\n",
      "EP_69 | train loss: 0.37599073578329645 | val loss: 0.3325394275141697 |\n",
      "Epoch:  47%|████▋     | 71/150 [00:32<00:36,  2.15it/s]\n",
      "EP_70 | train loss: 0.37209108717301315 | val loss: 0.3304639423594755 |\n",
      "Epoch:  48%|████▊     | 72/150 [00:33<00:36,  2.16it/s]\n",
      "EP_71 | train loss: 0.3709182482139737 | val loss: 0.32946130341174557 |\n",
      "Epoch:  49%|████▊     | 73/150 [00:33<00:35,  2.15it/s]\n",
      "EP_72 | train loss: 0.36320726731244257 | val loss: 0.3274516311346316 |\n",
      "Epoch:  49%|████▉     | 74/150 [00:34<00:35,  2.17it/s]\n",
      "EP_73 | train loss: 0.36212224820080924 | val loss: 0.3257767920400582 |\n",
      "Epoch:  50%|█████     | 75/150 [00:34<00:34,  2.16it/s]\n",
      "EP_74 | train loss: 0.362379368613748 | val loss: 0.3259867780348834 |\n",
      "Epoch:  51%|█████     | 76/150 [00:35<00:34,  2.17it/s]\n",
      "EP_75 | train loss: 0.36980823675791424 | val loss: 0.3305651720832376 |\n",
      "Epoch:  51%|█████▏    | 77/150 [00:35<00:34,  2.14it/s]\n",
      "EP_76 | train loss: 0.35243728534848084 | val loss: 0.3229324630662507 |\n",
      "Epoch:  52%|█████▏    | 78/150 [00:36<00:33,  2.16it/s]\n",
      "EP_77 | train loss: 0.3528023598240871 | val loss: 0.32090078615674783 |\n",
      "Epoch:  53%|█████▎    | 79/150 [00:36<00:33,  2.15it/s]\n",
      "EP_78 | train loss: 0.3464320271622901 | val loss: 0.3197009890687232 |\n",
      "Epoch:  53%|█████▎    | 80/150 [00:36<00:32,  2.15it/s]\n",
      "EP_79 | train loss: 0.345552199494605 | val loss: 0.3161504128400017 |\n",
      "Epoch:  54%|█████▍    | 81/150 [00:37<00:32,  2.14it/s]\n",
      "EP_80 | train loss: 0.35059406336616067 | val loss: 0.31824208240883023 |\n",
      "Epoch:  55%|█████▍    | 82/150 [00:37<00:31,  2.15it/s]\n",
      "EP_81 | train loss: 0.3414624868654737 | val loss: 0.31252415507447484 |\n",
      "Epoch:  55%|█████▌    | 83/150 [00:38<00:31,  2.14it/s]\n",
      "EP_82 | train loss: 0.3408885539746752 | val loss: 0.3124872188942105 |\n",
      "Epoch:  56%|█████▌    | 84/150 [00:38<00:30,  2.15it/s]\n",
      "EP_83 | train loss: 0.33370047971314076 | val loss: 0.30798567510118674 |\n",
      "Epoch:  57%|█████▋    | 85/150 [00:39<00:30,  2.14it/s]\n",
      "EP_84 | train loss: 0.340768157267103 | val loss: 0.3109876548542696 |\n",
      "Epoch:  57%|█████▋    | 86/150 [00:39<00:29,  2.15it/s]\n",
      "EP_85 | train loss: 0.3276274984958125 | val loss: 0.30300236215778426 |\n",
      "Epoch:  58%|█████▊    | 87/150 [00:40<00:29,  2.14it/s]\n",
      "EP_86 | train loss: 0.3207611453299429 | val loss: 0.29999737646065505 |\n",
      "Epoch:  59%|█████▊    | 88/150 [00:40<00:28,  2.16it/s]\n",
      "EP_87 | train loss: 0.32053424797806085 | val loss: 0.297127644220988 |\n",
      "Epoch:  59%|█████▉    | 89/150 [00:41<00:28,  2.15it/s]\n",
      "EP_88 | train loss: 0.3213367826798383 | val loss: 0.29808469379649444 |\n",
      "Epoch:  60%|██████    | 90/150 [00:41<00:28,  2.14it/s]\n",
      "EP_89 | train loss: 0.3101858139038086 | val loss: 0.2935347089580461 |\n",
      "Epoch:  61%|██████    | 91/150 [00:42<00:27,  2.13it/s]\n",
      "EP_90 | train loss: 0.31527020837746417 | val loss: 0.29343528373568667 |\n",
      "Epoch:  61%|██████▏   | 92/150 [00:42<00:26,  2.16it/s]\n",
      "EP_91 | train loss: 0.3017323288263059 | val loss: 0.28713452114778404 |\n",
      "Epoch:  62%|██████▏   | 93/150 [00:43<00:26,  2.15it/s]\n",
      "EP_92 | train loss: 0.2999002026576622 | val loss: 0.28425275110730935 |\n",
      "Epoch:  63%|██████▎   | 94/150 [00:43<00:25,  2.16it/s]\n",
      "EP_93 | train loss: 0.2981898952932919 | val loss: 0.28188633918762207 |\n",
      "Epoch:  63%|██████▎   | 95/150 [00:43<00:25,  2.15it/s]\n",
      "EP_94 | train loss: 0.2916803481532078 | val loss: 0.27645079294840497 |\n",
      "Epoch:  64%|██████▍   | 96/150 [00:44<00:25,  2.16it/s]\n",
      "EP_95 | train loss: 0.29073117761050954 | val loss: 0.2742416531431909 |\n",
      "Epoch:  65%|██████▍   | 97/150 [00:44<00:24,  2.14it/s]\n",
      "EP_96 | train loss: 0.28256622482748595 | val loss: 0.2738790091346292 |\n",
      "Epoch:  65%|██████▌   | 98/150 [00:45<00:24,  2.16it/s]\n",
      "EP_97 | train loss: 0.28755174244151394 | val loss: 0.27044007824916466 |\n",
      "Epoch:  66%|██████▌   | 99/150 [00:45<00:23,  2.15it/s]\n",
      "EP_98 | train loss: 0.2738883696350397 | val loss: 0.26000320210176353 |\n",
      "Epoch:  67%|██████▋   | 100/150 [00:46<00:23,  2.16it/s]\n",
      "EP_99 | train loss: 0.27499872609680776 | val loss: 0.2604466887081371 |\n",
      "Epoch:  67%|██████▋   | 101/150 [00:46<00:22,  2.14it/s]\n",
      "EP_100 | train loss: 0.26663720561008825 | val loss: 0.25454479572819727 |\n",
      "Epoch:  68%|██████▊   | 102/150 [00:47<00:22,  2.16it/s]\n",
      "EP_101 | train loss: 0.2649325735428754 | val loss: 0.2534617255715763 |\n",
      "Epoch:  69%|██████▊   | 103/150 [00:47<00:21,  2.14it/s]\n",
      "EP_102 | train loss: 0.2561501610512827 | val loss: 0.2482587169198429 |\n",
      "Epoch:  69%|██████▉   | 104/150 [00:48<00:21,  2.16it/s]\n",
      "EP_103 | train loss: 0.2518788594825595 | val loss: 0.2433345645081763 |\n",
      "Epoch:  70%|███████   | 105/150 [00:48<00:20,  2.15it/s]\n",
      "EP_104 | train loss: 0.2514029965681188 | val loss: 0.23871449863209443 |\n",
      "Epoch:  71%|███████   | 106/150 [00:49<00:20,  2.17it/s]\n",
      "EP_105 | train loss: 0.24452151363971186 | val loss: 0.23228893560521743 |\n",
      "Epoch:  71%|███████▏  | 107/150 [00:49<00:19,  2.15it/s]\n",
      "EP_106 | train loss: 0.2388966819819282 | val loss: 0.23432305747387455 |\n",
      "Epoch:  72%|███████▏  | 108/150 [00:49<00:19,  2.15it/s]\n",
      "EP_107 | train loss: 0.2363220733754775 | val loss: 0.22770828359267292 |\n",
      "Epoch:  73%|███████▎  | 109/150 [00:50<00:19,  2.13it/s]\n",
      "EP_108 | train loss: 0.22923832453933415 | val loss: 0.2196504181506587 |\n",
      "Epoch:  73%|███████▎  | 110/150 [00:50<00:18,  2.12it/s]\n",
      "EP_109 | train loss: 0.2235674727196787 | val loss: 0.21848404641244926 |\n",
      "Epoch:  74%|███████▍  | 111/150 [00:51<00:18,  2.12it/s]\n",
      "EP_110 | train loss: 0.22028629382451376 | val loss: 0.21033770897809198 |\n",
      "Epoch:  75%|███████▍  | 112/150 [00:51<00:17,  2.15it/s]\n",
      "EP_111 | train loss: 0.2210135819865208 | val loss: 0.20864513341118307 |\n",
      "Epoch:  75%|███████▌  | 113/150 [00:52<00:17,  2.14it/s]\n",
      "EP_112 | train loss: 0.21155156738617842 | val loss: 0.20123431729335411 |\n",
      "Epoch:  76%|███████▌  | 114/150 [00:52<00:16,  2.15it/s]\n",
      "EP_113 | train loss: 0.20492502591189216 | val loss: 0.1981221601074817 |\n",
      "Epoch:  77%|███████▋  | 115/150 [00:53<00:16,  2.14it/s]\n",
      "EP_114 | train loss: 0.20000887150857963 | val loss: 0.19337142215055578 |\n",
      "Epoch:  77%|███████▋  | 116/150 [00:53<00:15,  2.14it/s]\n",
      "EP_115 | train loss: 0.24944910488876643 | val loss: 0.22793847906823253 |\n",
      "Epoch:  78%|███████▊  | 117/150 [00:54<00:15,  2.14it/s]\n",
      "EP_116 | train loss: 0.18962053411147173 | val loss: 0.1844346757028617 |\n",
      "Epoch:  79%|███████▊  | 118/150 [00:54<00:14,  2.16it/s]\n",
      "EP_117 | train loss: 0.18707825646680945 | val loss: 0.17931027505912034 |\n",
      "Epoch:  79%|███████▉  | 119/150 [00:55<00:14,  2.15it/s]\n",
      "EP_118 | train loss: 0.17973972792718926 | val loss: 0.17806436735041 |\n",
      "Epoch:  80%|████████  | 120/150 [00:55<00:13,  2.17it/s]\n",
      "EP_119 | train loss: 0.1882409883480446 | val loss: 0.1732660648869533 |\n",
      "Epoch:  81%|████████  | 121/150 [00:56<00:13,  2.15it/s]\n",
      "EP_120 | train loss: 0.17121105568081724 | val loss: 0.16277450673720417 |\n",
      "Epoch:  81%|████████▏ | 122/150 [00:56<00:12,  2.16it/s]\n",
      "EP_121 | train loss: 0.17125902877134436 | val loss: 0.1630924519370584 |\n",
      "Epoch:  82%|████████▏ | 123/150 [00:57<00:12,  2.14it/s]\n",
      "EP_122 | train loss: 0.16304072796129712 | val loss: 0.15464278997159472 |\n",
      "Epoch:  83%|████████▎ | 124/150 [00:57<00:12,  2.16it/s]\n",
      "EP_123 | train loss: 0.15539535704781027 | val loss: 0.15325674122455074 |\n",
      "Epoch:  83%|████████▎ | 125/150 [00:57<00:11,  2.15it/s]\n",
      "EP_124 | train loss: 0.15033237817240697 | val loss: 0.14689203804614498 |\n",
      "Epoch:  84%|████████▍ | 126/150 [00:58<00:11,  2.17it/s]\n",
      "EP_125 | train loss: 0.1613905771105897 | val loss: 0.15088109642851585 |\n",
      "Epoch:  85%|████████▍ | 127/150 [00:58<00:10,  2.16it/s]\n",
      "EP_126 | train loss: 0.1420295336667229 | val loss: 0.14293716468063056 |\n",
      "Epoch:  85%|████████▌ | 128/150 [00:59<00:10,  2.17it/s]\n",
      "EP_127 | train loss: 0.1369687559557896 | val loss: 0.1394817735634598 |\n",
      "Epoch:  86%|████████▌ | 129/150 [00:59<00:09,  2.15it/s]\n",
      "EP_128 | train loss: 0.1307603254037745 | val loss: 0.13361482526741775 |\n",
      "Epoch:  87%|████████▋ | 130/150 [01:00<00:09,  2.16it/s]\n",
      "EP_129 | train loss: 0.1325975829479741 | val loss: 0.12863312048070571 |\n",
      "Epoch:  87%|████████▋ | 131/150 [01:00<00:08,  2.14it/s]\n",
      "EP_130 | train loss: 0.13271042879889994 | val loss: 0.12792226379992916 |\n",
      "Epoch:  88%|████████▊ | 132/150 [01:01<00:08,  2.16it/s]\n",
      "EP_131 | train loss: 0.1280781916543549 | val loss: 0.12271964316274606 |\n",
      "Epoch:  89%|████████▊ | 133/150 [01:01<00:07,  2.15it/s]\n",
      "EP_132 | train loss: 0.11374132329342412 | val loss: 0.11260626362819298 |\n",
      "Epoch:  89%|████████▉ | 134/150 [01:02<00:07,  2.16it/s]\n",
      "EP_133 | train loss: 0.10935934992397532 | val loss: 0.1080305295832017 |\n",
      "Epoch:  90%|█████████ | 135/150 [01:02<00:06,  2.15it/s]\n",
      "EP_134 | train loss: 0.1267021803294911 | val loss: 0.11808513893800623 |\n",
      "Epoch:  91%|█████████ | 136/150 [01:03<00:06,  2.16it/s]\n",
      "EP_135 | train loss: 0.11180641242102081 | val loss: 0.10591272045584287 |\n",
      "Epoch:  91%|█████████▏| 137/150 [01:03<00:06,  2.10it/s]\n",
      "EP_136 | train loss: 0.10078659045930002 | val loss: 0.09581484280380548 |\n",
      "Epoch:  92%|█████████▏| 138/150 [01:03<00:05,  2.13it/s]\n",
      "EP_137 | train loss: 0.10353208873786178 | val loss: 0.0971907096750596 |\n",
      "Epoch:  93%|█████████▎| 139/150 [01:04<00:05,  2.13it/s]\n",
      "EP_138 | train loss: 0.10186523210768607 | val loss: 0.09797486604428758 |\n",
      "Epoch:  93%|█████████▎| 140/150 [01:04<00:04,  2.15it/s]\n",
      "EP_139 | train loss: 0.11102857414413901 | val loss: 0.10352754826639213 |\n",
      "Epoch:  94%|█████████▍| 141/150 [01:05<00:04,  2.14it/s]\n",
      "EP_140 | train loss: 0.08991145257856331 | val loss: 0.09534919495676078 |\n",
      "Epoch:  95%|█████████▍| 142/150 [01:05<00:03,  2.15it/s]\n",
      "EP_141 | train loss: 0.08509210149447123 | val loss: 0.08388943765677657 |\n",
      "Epoch:  95%|█████████▌| 143/150 [01:06<00:03,  2.13it/s]\n",
      "EP_142 | train loss: 0.0916053108140534 | val loss: 0.08760813755147598 |\n",
      "Epoch:  96%|█████████▌| 144/150 [01:06<00:02,  2.15it/s]\n",
      "EP_143 | train loss: 0.07591127940252715 | val loss: 0.07932194892097921 |\n",
      "Epoch:  97%|█████████▋| 145/150 [01:07<00:02,  2.13it/s]\n",
      "EP_144 | train loss: 0.08174899617830912 | val loss: 0.08953340614543241 |\n",
      "Epoch:  97%|█████████▋| 146/150 [01:07<00:01,  2.15it/s]\n",
      "EP_145 | train loss: 0.07271601359049479 | val loss: 0.07431060543247298 |\n",
      "Epoch:  98%|█████████▊| 147/150 [01:08<00:01,  2.13it/s]\n",
      "EP_146 | train loss: 0.06694024526605419 | val loss: 0.07038766262578029 |\n",
      "Epoch:  99%|█████████▊| 148/150 [01:08<00:00,  2.15it/s]\n",
      "EP_147 | train loss: 0.06909740275027705 | val loss: 0.07466849743151198 |\n",
      "Epoch:  99%|█████████▉| 149/150 [01:09<00:00,  2.13it/s]\n",
      "EP_148 | train loss: 0.06417730690217485 | val loss: 0.06767087590460684 |\n",
      "Epoch: 100%|██████████| 150/150 [01:09<00:00,  2.16it/s]\n",
      "EP_149 | train loss: 0.06019796442751791 | val loss: 0.06405941177816953 |\n",
      "\n"
     ]
    }
   ],
   "source": [
    "AttractiveTrainer.train()"
   ]
  },
  {
   "cell_type": "markdown",
   "metadata": {},
   "source": [
    "## Below is testing"
   ]
  },
  {
   "cell_type": "code",
   "execution_count": 6,
   "metadata": {},
   "outputs": [
    {
     "output_type": "execute_result",
     "data": {
      "text/plain": [
       "AttractiveNet(\n",
       "  (embedding): AttractiveEmbedding(\n",
       "    (token): TokenEmbedding(12699, 300, padding_idx=1)\n",
       "  )\n",
       "  (bigramcnn): Sequential(\n",
       "    (0): Conv1d(300, 210, kernel_size=(2,), stride=(1,), padding=(1,))\n",
       "    (1): ReLU()\n",
       "    (2): Conv1d(210, 100, kernel_size=(2,), stride=(1,), padding=(1,))\n",
       "    (3): ReLU()\n",
       "    (4): Dropout(p=0.5, inplace=False)\n",
       "  )\n",
       "  (trigramcnn): Sequential(\n",
       "    (0): Conv1d(300, 210, kernel_size=(3,), stride=(1,), padding=(1,))\n",
       "    (1): ReLU()\n",
       "    (2): Conv1d(210, 100, kernel_size=(3,), stride=(1,), padding=(1,))\n",
       "    (3): ReLU()\n",
       "    (4): Dropout(p=0.5, inplace=False)\n",
       "  )\n",
       "  (encoder_bigram): LSTM(100, 30, batch_first=True, dropout=0.5, bidirectional=True)\n",
       "  (encoder_trigram): LSTM(100, 30, batch_first=True, dropout=0.5, bidirectional=True)\n",
       "  (linear): Sequential(\n",
       "    (0): Linear(in_features=128, out_features=30, bias=True)\n",
       "    (1): ReLU()\n",
       "    (2): Linear(in_features=30, out_features=1, bias=True)\n",
       "  )\n",
       ")"
      ]
     },
     "metadata": {},
     "execution_count": 6
    }
   ],
   "source": [
    "from attractivenet import AttractiveNet\n",
    "\n",
    "PATH = './model/CNN_LSTM_20201110-203741/0.372091.70'\n",
    "\n",
    "load_model = AttractiveNet(config).to(AttractiveData.device)\n",
    "load_model.load_state_dict(torch.load(PATH))\n",
    "load_model.eval()"
   ]
  },
  {
   "cell_type": "code",
   "execution_count": 7,
   "metadata": {},
   "outputs": [],
   "source": [
    "def predict_attractive(sentence, category, phase):\n",
    "    indexed_sentence = [AttractiveData.TEXT.vocab.stoi[t] for t in sentence]\n",
    "    indexed_category = [AttractiveData.CATEGORIES_LABEL.vocab.stoi[category]]\n",
    "    tensor_sentence = torch.LongTensor(indexed_sentence).to(AttractiveData.device)\n",
    "    tensor_category = torch.LongTensor(indexed_category).to(AttractiveData.device)\n",
    "    tensor_sentence = tensor_sentence.unsqueeze(0)\n",
    "\n",
    "    prediction = load_model(tensor_sentence, tensor_category, phase=phase)\n",
    "\n",
    "    return prediction"
   ]
  },
  {
   "cell_type": "code",
   "execution_count": 8,
   "metadata": {
    "tags": []
   },
   "outputs": [],
   "source": [
    "predict_list = []\n",
    "with torch.no_grad():\n",
    "    for i, sentence in enumerate(AttractiveData.test_data):\n",
    "        prediction = predict_attractive(sentence.Headline, sentence.Category, 'test')\n",
    "        predict_list.append(prediction.item())\n",
    "\n",
    "AttractiveData.df_test['Label'] = predict_list\n",
    "AttractiveData.df_test[['ID', 'Label']].to_csv(config['save_name'] + '.csv', index=False)"
   ]
  },
  {
   "cell_type": "markdown",
   "metadata": {},
   "source": [
    "## Below for statistics"
   ]
  },
  {
   "cell_type": "code",
   "execution_count": 9,
   "metadata": {},
   "outputs": [],
   "source": [
    "import statistics\n",
    "from sklearn.metrics import mean_squared_error"
   ]
  },
  {
   "cell_type": "code",
   "execution_count": 10,
   "metadata": {},
   "outputs": [],
   "source": [
    "# # train mean = 3.15, test mean = 2.8\n",
    "# train_list = []\n",
    "# for i, sentence in enumerate(AttractiveData.train_data):\n",
    "#     prediction = predict_attractive(sentence.Headline, sentence.Category, 'train')\n",
    "#     train_list.append(prediction.item())\n",
    "#     # train_list.append(prediction.item())\n",
    "# # print(train_list)\n",
    "# mean_squared_error(pd.read_csv('data/train.csv').sort_values(['ID']).Label.to_list(), train_list), statistics.mean(train_list), statistics.stdev(train_list)"
   ]
  },
  {
   "cell_type": "code",
   "execution_count": 11,
   "metadata": {},
   "outputs": [],
   "source": [
    "# train_list[0:5], pd.read_csv('data/train.csv').sort_values(['ID']).Label.to_list()[0:5]"
   ]
  },
  {
   "cell_type": "code",
   "execution_count": 12,
   "metadata": {},
   "outputs": [],
   "source": [
    "# a = AttractiveData.df_train['Label'].to_list()\n",
    "# statistics.mean(a), statistics.stdev(a)"
   ]
  },
  {
   "cell_type": "code",
   "execution_count": 13,
   "metadata": {},
   "outputs": [
    {
     "output_type": "execute_result",
     "data": {
      "text/plain": [
       "(2.833851929803252, 0.3578380346702329)"
      ]
     },
     "metadata": {},
     "execution_count": 13
    }
   ],
   "source": [
    "statistics.mean(predict_list), statistics.stdev(predict_list)"
   ]
  },
  {
   "cell_type": "code",
   "execution_count": 14,
   "metadata": {},
   "outputs": [
    {
     "output_type": "execute_result",
     "data": {
      "text/plain": [
       "(0.01904012382027982, 2.8142020345259344, 0.36798823904910916)"
      ]
     },
     "metadata": {},
     "execution_count": 14
    }
   ],
   "source": [
    "baseline_list = pd.read_csv('baseline.csv').sort_values(['ID']).Label.to_list()\n",
    "mean_squared_error(baseline_list, predict_list), statistics.mean(baseline_list), statistics.stdev(baseline_list)"
   ]
  },
  {
   "cell_type": "code",
   "execution_count": null,
   "metadata": {},
   "outputs": [],
   "source": []
  },
  {
   "cell_type": "code",
   "execution_count": 17,
   "metadata": {},
   "outputs": [
    {
     "output_type": "execute_result",
     "data": {
      "text/plain": [
       "0.0"
      ]
     },
     "metadata": {},
     "execution_count": 17
    }
   ],
   "source": [
    "mean_squared_error(pd.read_csv('baseline.csv').sort_values(['ID']).Label.to_list(), pd.read_csv('../309551062/predict/CNN_LSTM_20201109-125007_0.374958.75.csv').sort_values(['ID']).Label.to_list())"
   ]
  },
  {
   "cell_type": "code",
   "execution_count": 13,
   "metadata": {},
   "outputs": [],
   "source": []
  },
  {
   "cell_type": "code",
   "execution_count": null,
   "metadata": {},
   "outputs": [],
   "source": []
  }
 ],
 "metadata": {
  "kernelspec": {
   "display_name": "DS_hw2",
   "language": "python",
   "name": "ds_hw2"
  },
  "language_info": {
   "codemirror_mode": {
    "name": "ipython",
    "version": 3
   },
   "file_extension": ".py",
   "mimetype": "text/x-python",
   "name": "python",
   "nbconvert_exporter": "python",
   "pygments_lexer": "ipython3",
   "version": "3.6.12-final"
  }
 },
 "nbformat": 4,
 "nbformat_minor": 4
}