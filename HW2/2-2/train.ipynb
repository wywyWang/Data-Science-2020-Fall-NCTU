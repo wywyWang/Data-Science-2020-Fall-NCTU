{
 "metadata": {
  "language_info": {
   "codemirror_mode": {
    "name": "ipython",
    "version": 3
   },
   "file_extension": ".py",
   "mimetype": "text/x-python",
   "name": "python",
   "nbconvert_exporter": "python",
   "pygments_lexer": "ipython3",
   "version": "3.6.12-final"
  },
  "orig_nbformat": 2,
  "kernelspec": {
   "name": "Python 3.6.12 64-bit",
   "display_name": "Python 3.6.12 64-bit",
   "metadata": {
    "interpreter": {
     "hash": "de6ec751e8d816810380d8c8f13d270f86a313990c5d5930d253da012ff5e7fc"
    }
   }
  }
 },
 "nbformat": 4,
 "nbformat_minor": 2,
 "cells": [
  {
   "cell_type": "code",
   "execution_count": 1,
   "metadata": {},
   "outputs": [],
   "source": [
    "# common packages\n",
    "import pandas as pd\n",
    "import time\n",
    "\n",
    "# # DL framework\n",
    "import torch\n",
    "from torchtext import data\n",
    "\n",
    "from attractivedata import AttractiveData\n",
    "from trainer import AttractiveTrainer"
   ]
  },
  {
   "source": [
    "## Load and prepare data"
   ],
   "cell_type": "markdown",
   "metadata": {}
  },
  {
   "cell_type": "code",
   "execution_count": 2,
   "metadata": {},
   "outputs": [],
   "source": [
    "train_file = 'example/train.csv'\n",
    "test_file = 'example/val.csv'\n",
    "pretrained_file = 'glove.840B.300d'\n",
    "config = {\n",
    "    'max_seq': 40,\n",
    "    'min_freq': 0,\n",
    "    'batch_size': 64,\n",
    "    'pretrained_file': pretrained_file\n",
    "}\n"
   ]
  },
  {
   "cell_type": "code",
   "execution_count": 3,
   "metadata": {},
   "outputs": [],
   "source": [
    "AttractiveData = AttractiveData(train_file, test_file, pretrained_file, config)"
   ]
  },
  {
   "cell_type": "code",
   "execution_count": 4,
   "metadata": {},
   "outputs": [],
   "source": [
    "# for i, sentence in enumerate(AttractiveData.test_data):\n",
    "#     if i == 3:\n",
    "#         print(vars(AttractiveData.train_data[i]), vars(sentence))"
   ]
  },
  {
   "cell_type": "code",
   "execution_count": 5,
   "metadata": {},
   "outputs": [
    {
     "output_type": "execute_result",
     "data": {
      "text/plain": [
       "18"
      ]
     },
     "metadata": {},
     "execution_count": 5
    }
   ],
   "source": [
    "len(AttractiveData.CATEGORIES_LABEL.vocab.freqs)"
   ]
  },
  {
   "cell_type": "code",
   "execution_count": 6,
   "metadata": {},
   "outputs": [
    {
     "output_type": "execute_result",
     "data": {
      "text/plain": [
       "38"
      ]
     },
     "metadata": {},
     "execution_count": 6
    }
   ],
   "source": [
    "max_len = 0\n",
    "a = AttractiveData.train_data\n",
    "for i in range(len(a)):\n",
    "    if len(a[i].Headline) >= max_len:\n",
    "        max_len = len(a[i].Headline)\n",
    "max_len"
   ]
  },
  {
   "source": [
    "## Start to train"
   ],
   "cell_type": "markdown",
   "metadata": {}
  },
  {
   "cell_type": "code",
   "execution_count": 7,
   "metadata": {},
   "outputs": [
    {
     "output_type": "stream",
     "name": "stdout",
     "text": [
      "torch.Size([11857, 300])\n"
     ]
    }
   ],
   "source": [
    "config['timestr'] = time.strftime(\"%Y%m%d-%H%M%S\")\n",
    "config['save_name'] = 'CNN_LSTM'\n",
    "config['input_dim'] = len(AttractiveData.TEXT.vocab)\n",
    "config['embedding_dim'] = 300\n",
    "config['category_dim'] = len(AttractiveData.CATEGORIES_LABEL.vocab)\n",
    "config['category_embedding_dim'] = 5\n",
    "config['hidden_dim'] = 30\n",
    "config['output_dim'] = 1\n",
    "config['log_steps'] = 10\n",
    "config['epochs'] = 200\n",
    "config['lr'] = {\n",
    "    'encoder': 1e-5,\n",
    "    'embedding': 6e-6,\n",
    "    'linear': 1e-5\n",
    "}\n",
    "config['num_layers'] = 1\n",
    "config['kernel_size'] = 3\n",
    "config['dropout'] = 0.1\n",
    "config['train_len'] = AttractiveData.train_len\n",
    "config['val_len'] = AttractiveData.val_len\n",
    "config['test_len'] = AttractiveData.test_len\n",
    "\n",
    "pretrained_embeddings = AttractiveData.TEXT.vocab.vectors\n",
    "print(pretrained_embeddings.shape)"
   ]
  },
  {
   "cell_type": "code",
   "execution_count": 8,
   "metadata": {},
   "outputs": [],
   "source": [
    "AttractiveTrainer = AttractiveTrainer(config, AttractiveData.device, AttractiveData.trainloader, AttractiveData.valloader, pretrained_embeddings)"
   ]
  },
  {
   "cell_type": "code",
   "execution_count": 9,
   "metadata": {},
   "outputs": [
    {
     "output_type": "execute_result",
     "data": {
      "text/plain": [
       "(AttractiveNet(\n",
       "   (embedding): AttractiveEmbedding(\n",
       "     (token): TokenEmbedding(11857, 300, padding_idx=1)\n",
       "   )\n",
       "   (bigramcnn): Sequential(\n",
       "     (0): Conv1d(300, 200, kernel_size=(3,), stride=(1,), padding=(1,))\n",
       "     (1): ReLU()\n",
       "     (2): Conv1d(200, 100, kernel_size=(3,), stride=(1,), padding=(1,))\n",
       "     (3): ReLU()\n",
       "   )\n",
       "   (trigramcnn): Sequential(\n",
       "     (0): Conv1d(300, 200, kernel_size=(3,), stride=(1,), padding=(1,))\n",
       "     (1): ReLU()\n",
       "     (2): Conv1d(200, 100, kernel_size=(3,), stride=(1,), padding=(1,))\n",
       "     (3): ReLU()\n",
       "   )\n",
       "   (encoder_bigram): LSTM(100, 30, batch_first=True, dropout=0.1, bidirectional=True)\n",
       "   (encoder_trigram): LSTM(100, 30, batch_first=True, dropout=0.1, bidirectional=True)\n",
       "   (linear): Sequential(\n",
       "     (0): Linear(in_features=120, out_features=30, bias=True)\n",
       "     (1): ReLU()\n",
       "     (2): Linear(in_features=30, out_features=1, bias=True)\n",
       "   )\n",
       " ),\n",
       " 4104721,\n",
       " 4104721)"
      ]
     },
     "metadata": {},
     "execution_count": 9
    }
   ],
   "source": [
    "AttractiveTrainer.model, AttractiveTrainer.config['total_params'], AttractiveTrainer.config['total_learned_params']"
   ]
  },
  {
   "cell_type": "code",
   "execution_count": 10,
   "metadata": {
    "tags": [
     "outputPrepend"
    ]
   },
   "outputs": [
    {
     "output_type": "stream",
     "name": "stderr",
     "text": [
      "8 |\n",
      "====\n",
      "Epoch:  28%|██▊       | 56/200 [00:20<00:51,  2.80it/s]\n",
      "EP_train | train loss: 0.4514188309380691 | val loss: 0.41670576030132817 |\n",
      "====\n",
      "Epoch:  28%|██▊       | 57/200 [00:20<00:50,  2.81it/s]\n",
      "EP_train | train loss: 0.451452973101913 | val loss: 0.4090617264018339 |\n",
      "====\n",
      "Epoch:  29%|██▉       | 58/200 [00:20<00:50,  2.82it/s]\n",
      "EP_train | train loss: 0.4460074439287705 | val loss: 0.409017565203648 |\n",
      "====\n",
      "Epoch:  30%|██▉       | 59/200 [00:21<00:49,  2.82it/s]\n",
      "EP_train | train loss: 0.4446496267464166 | val loss: 0.4142086482515522 |\n",
      "====\n",
      "Epoch:  30%|███       | 60/200 [00:21<00:49,  2.82it/s]\n",
      "EP_train | train loss: 0.4421252684915248 | val loss: 0.4012034815900466 |\n",
      "====\n",
      "Epoch:  30%|███       | 61/200 [00:21<00:49,  2.79it/s]\n",
      "EP_train | train loss: 0.43892054256530627 | val loss: 0.404047921592114 |\n",
      "====\n",
      "Epoch:  31%|███       | 62/200 [00:22<00:49,  2.79it/s]\n",
      "EP_train | train loss: 0.43642940136861696 | val loss: 0.40130170069488824 |\n",
      "====\n",
      "Epoch:  32%|███▏      | 63/200 [00:22<00:49,  2.76it/s]\n",
      "EP_train | train loss: 0.4400046687240434 | val loss: 0.41898270681792615 |\n",
      "====\n",
      "Epoch:  32%|███▏      | 64/200 [00:22<00:48,  2.78it/s]\n",
      "EP_train | train loss: 0.4327372954042389 | val loss: 0.39219530014430776 |\n",
      "====\n",
      "Epoch:  32%|███▎      | 65/200 [00:23<00:48,  2.78it/s]\n",
      "EP_train | train loss: 0.42985635021932767 | val loss: 0.3978929940391989 |\n",
      "====\n",
      "Epoch:  33%|███▎      | 66/200 [00:23<00:48,  2.79it/s]\n",
      "EP_train | train loss: 0.42851849786596363 | val loss: 0.40421876954097374 |\n",
      "====\n",
      "Epoch:  34%|███▎      | 67/200 [00:24<00:47,  2.79it/s]\n",
      "EP_train | train loss: 0.42571646871130453 | val loss: 0.39268777650945325 |\n",
      "====\n",
      "Epoch:  34%|███▍      | 68/200 [00:24<00:47,  2.80it/s]\n",
      "EP_train | train loss: 0.4240795553120133 | val loss: 0.3899702727794647 |\n",
      "====\n",
      "Epoch:  34%|███▍      | 69/200 [00:24<00:46,  2.82it/s]\n",
      "EP_train | train loss: 0.4246850985067862 | val loss: 0.383537609203189 |\n",
      "====\n",
      "Epoch:  35%|███▌      | 70/200 [00:25<00:45,  2.83it/s]\n",
      "EP_train | train loss: 0.42015297584284367 | val loss: 0.383366700480966 |\n",
      "====\n",
      "Epoch:  36%|███▌      | 71/200 [00:25<00:46,  2.78it/s]\n",
      "EP_train | train loss: 0.4173618173287585 | val loss: 0.39007463057835895 |\n",
      "====\n",
      "Epoch:  36%|███▌      | 72/200 [00:25<00:45,  2.80it/s]\n",
      "EP_train | train loss: 0.4146298686923025 | val loss: 0.3881799847471948 |\n",
      "====\n",
      "Epoch:  36%|███▋      | 73/200 [00:26<00:45,  2.81it/s]\n",
      "EP_train | train loss: 0.411460674925827 | val loss: 0.3861405720897749 |\n",
      "====\n",
      "Epoch:  37%|███▋      | 74/200 [00:26<00:44,  2.82it/s]\n",
      "EP_train | train loss: 0.41043628846378366 | val loss: 0.3967249276591282 |\n",
      "====\n",
      "Epoch:  38%|███▊      | 75/200 [00:26<00:44,  2.83it/s]\n",
      "EP_train | train loss: 0.4069696428469323 | val loss: 0.3871424396832784 |\n",
      "====\n",
      "Epoch:  38%|███▊      | 76/200 [00:27<00:43,  2.83it/s]\n",
      "EP_train | train loss: 0.4053235022850286 | val loss: 0.38359177989118237 |\n",
      "====\n",
      "Epoch:  38%|███▊      | 77/200 [00:27<00:43,  2.84it/s]\n",
      "EP_train | train loss: 0.404435121415747 | val loss: 0.3819417836619358 |\n",
      "====\n",
      "Epoch:  39%|███▉      | 78/200 [00:27<00:42,  2.84it/s]\n",
      "EP_train | train loss: 0.4017041041180978 | val loss: 0.3941956594878552 |\n",
      "====\n",
      "Epoch:  40%|███▉      | 79/200 [00:28<00:42,  2.81it/s]\n",
      "EP_train | train loss: 0.39983294680227643 | val loss: 0.3945484652238734 |\n",
      "====\n",
      "Epoch:  40%|████      | 80/200 [00:28<00:42,  2.81it/s]\n",
      "EP_train | train loss: 0.3976655546616365 | val loss: 0.3922169874696171 |\n",
      "====\n",
      "Epoch:  40%|████      | 81/200 [00:29<00:42,  2.78it/s]\n",
      "EP_train | train loss: 0.3947825192885721 | val loss: 0.378868210549448 |\n",
      "====\n",
      "Epoch:  41%|████      | 82/200 [00:29<00:42,  2.80it/s]\n",
      "EP_train | train loss: 0.3918887363799517 | val loss: 0.3862423107904546 |\n",
      "====\n",
      "Epoch:  42%|████▏     | 83/200 [00:29<00:41,  2.81it/s]\n",
      "EP_train | train loss: 0.3890984593393496 | val loss: 0.38467953719344794 |\n",
      "====\n",
      "Epoch:  42%|████▏     | 84/200 [00:30<00:41,  2.82it/s]\n",
      "EP_train | train loss: 0.38747858222013987 | val loss: 0.3758903560685177 |\n",
      "====\n",
      "Epoch:  42%|████▎     | 85/200 [00:30<00:40,  2.82it/s]\n",
      "EP_train | train loss: 0.3832114885575371 | val loss: 0.38553766000504586 |\n",
      "====\n",
      "Epoch:  43%|████▎     | 86/200 [00:30<00:40,  2.83it/s]\n",
      "EP_train | train loss: 0.38208779738100007 | val loss: 0.38887425439030515 |\n",
      "====\n",
      "Epoch:  44%|████▎     | 87/200 [00:31<00:39,  2.84it/s]\n",
      "EP_train | train loss: 0.3779326820165763 | val loss: 0.38489792452139016 |\n",
      "====\n",
      "Epoch:  44%|████▍     | 88/200 [00:31<00:39,  2.81it/s]\n",
      "EP_train | train loss: 0.37562142062550796 | val loss: 0.3779606824996425 |\n",
      "====\n",
      "Epoch:  44%|████▍     | 89/200 [00:31<00:39,  2.79it/s]\n",
      "EP_train | train loss: 0.3729378112261072 | val loss: 0.38629677073628294 |\n",
      "====\n",
      "Epoch:  45%|████▌     | 90/200 [00:32<00:39,  2.80it/s]\n",
      "EP_train | train loss: 0.37060282329068983 | val loss: 0.388417567692551 |\n",
      "====\n",
      "Epoch:  46%|████▌     | 91/200 [00:32<00:39,  2.77it/s]\n",
      "EP_train | train loss: 0.3692284669232005 | val loss: 0.38363941627390247 |\n",
      "====\n",
      "Epoch:  46%|████▌     | 92/200 [00:32<00:38,  2.78it/s]\n",
      "EP_train | train loss: 0.36492482873089693 | val loss: 0.38409670603041557 |\n",
      "====\n",
      "Epoch:  46%|████▋     | 93/200 [00:33<00:38,  2.78it/s]\n",
      "EP_train | train loss: 0.3615352167283268 | val loss: 0.3801410537140042 |\n",
      "====\n",
      "Epoch:  47%|████▋     | 94/200 [00:33<00:37,  2.79it/s]\n",
      "EP_train | train loss: 0.35849220404697657 | val loss: 0.3814433900748982 |\n",
      "====\n",
      "Epoch:  48%|████▊     | 95/200 [00:34<00:37,  2.81it/s]\n",
      "EP_train | train loss: 0.35502162062784165 | val loss: 0.38331832722121595 |\n",
      "====\n",
      "Epoch:  48%|████▊     | 96/200 [00:34<00:36,  2.82it/s]\n",
      "EP_train | train loss: 0.352483941578917 | val loss: 0.385119476739098 |\n",
      "====\n",
      "Epoch:  48%|████▊     | 97/200 [00:34<00:36,  2.79it/s]\n",
      "EP_train | train loss: 0.34867472170744584 | val loss: 0.385441849044725 |\n",
      "====\n",
      "Epoch:  49%|████▉     | 98/200 [00:35<00:36,  2.76it/s]\n",
      "EP_train | train loss: 0.3465505259229207 | val loss: 0.3809732414928137 |\n",
      "====\n",
      "Epoch:  50%|████▉     | 99/200 [00:35<00:36,  2.77it/s]\n",
      "EP_train | train loss: 0.34303256057706016 | val loss: 0.38368647998454525 |\n",
      "====\n",
      "Epoch:  50%|█████     | 100/200 [00:35<00:35,  2.78it/s]\n",
      "EP_train | train loss: 0.3373450084968849 | val loss: 0.380619755562614 |\n",
      "====\n",
      "Epoch:  50%|█████     | 101/200 [00:36<00:36,  2.75it/s]\n",
      "EP_train | train loss: 0.33828026380933707 | val loss: 0.3716815768503675 |\n",
      "====\n",
      "Epoch:  51%|█████     | 102/200 [00:36<00:35,  2.78it/s]\n",
      "EP_train | train loss: 0.33207131522932865 | val loss: 0.3808272895859737 |\n",
      "====\n",
      "Epoch:  52%|█████▏    | 103/200 [00:36<00:34,  2.79it/s]\n",
      "EP_train | train loss: 0.3275338507425811 | val loss: 0.3801265072588827 |\n",
      "====\n",
      "Epoch:  52%|█████▏    | 104/200 [00:37<00:34,  2.80it/s]\n",
      "EP_train | train loss: 0.32277798548762837 | val loss: 0.3756965848745084 |\n",
      "====\n",
      "Epoch:  52%|█████▎    | 105/200 [00:37<00:33,  2.81it/s]\n",
      "EP_train | train loss: 0.32196024767973325 | val loss: 0.38623348229071675 |\n",
      "====\n",
      "Epoch:  53%|█████▎    | 106/200 [00:37<00:33,  2.81it/s]\n",
      "EP_train | train loss: 0.32901282559812456 | val loss: 0.4059411380805221 |\n",
      "====\n",
      "Epoch:  54%|█████▎    | 107/200 [00:38<00:33,  2.81it/s]\n",
      "EP_train | train loss: 0.3128395106537929 | val loss: 0.38280971435939565 |\n",
      "====\n",
      "Epoch:  54%|█████▍    | 108/200 [00:38<00:32,  2.83it/s]\n",
      "EP_train | train loss: 0.30684999702802673 | val loss: 0.3741145332654317 |\n",
      "====\n",
      "Epoch:  55%|█████▍    | 109/200 [00:39<00:32,  2.84it/s]\n",
      "EP_train | train loss: 0.30336764279533834 | val loss: 0.3738529915903129 |\n",
      "====\n",
      "Epoch:  55%|█████▌    | 110/200 [00:39<00:31,  2.84it/s]\n",
      "EP_train | train loss: 0.2991489055109959 | val loss: 0.36966388073622014 |\n",
      "====\n",
      "Epoch:  56%|█████▌    | 111/200 [00:39<00:31,  2.80it/s]\n",
      "EP_train | train loss: 0.2959588498591338 | val loss: 0.3703070195282207 |\n",
      "====\n",
      "Epoch:  56%|█████▌    | 112/200 [00:40<00:31,  2.78it/s]\n",
      "EP_train | train loss: 0.29241038147920095 | val loss: 0.3666726070291856 |\n",
      "====\n",
      "Epoch:  56%|█████▋    | 113/200 [00:40<00:31,  2.79it/s]\n",
      "EP_train | train loss: 0.28472985992764077 | val loss: 0.37305869483480264 |\n",
      "====\n",
      "Epoch:  57%|█████▋    | 114/200 [00:40<00:30,  2.81it/s]\n",
      "EP_train | train loss: 0.2806885284016595 | val loss: 0.36957815406369227 |\n",
      "====\n",
      "Epoch:  57%|█████▊    | 115/200 [00:41<00:30,  2.82it/s]\n",
      "EP_train | train loss: 0.27565927391218464 | val loss: 0.3722396790981293 |\n",
      "====\n",
      "Epoch:  58%|█████▊    | 116/200 [00:41<00:29,  2.82it/s]\n",
      "EP_train | train loss: 0.2712773326175665 | val loss: 0.3707261786741369 |\n",
      "====\n",
      "Epoch:  58%|█████▊    | 117/200 [00:41<00:29,  2.82it/s]\n",
      "EP_train | train loss: 0.2666197685374673 | val loss: 0.3773812920439477 |\n",
      "====\n",
      "Epoch:  59%|█████▉    | 118/200 [00:42<00:29,  2.80it/s]\n",
      "EP_train | train loss: 0.26142654855266895 | val loss: 0.36974581257969724 |\n",
      "====\n",
      "Epoch:  60%|█████▉    | 119/200 [00:42<00:28,  2.81it/s]\n",
      "EP_train | train loss: 0.25572598058413837 | val loss: 0.3724171215412663 |\n",
      "====\n",
      "Epoch:  60%|██████    | 120/200 [00:42<00:28,  2.83it/s]\n",
      "EP_train | train loss: 0.24993416894235382 | val loss: 0.3785759286553252 |\n",
      "====\n",
      "Epoch:  60%|██████    | 121/200 [00:43<00:28,  2.78it/s]\n",
      "EP_train | train loss: 0.24494611827376622 | val loss: 0.37537992292759464 |\n",
      "====\n",
      "Epoch:  61%|██████    | 122/200 [00:43<00:27,  2.80it/s]\n",
      "EP_train | train loss: 0.23889296610630675 | val loss: 0.3724934213301715 |\n",
      "====\n",
      "Epoch:  62%|██████▏   | 123/200 [00:44<00:27,  2.79it/s]\n",
      "EP_train | train loss: 0.23606410317431348 | val loss: 0.3855446974436442 |\n",
      "====\n",
      "Epoch:  62%|██████▏   | 124/200 [00:44<00:27,  2.78it/s]\n",
      "EP_train | train loss: 0.2330467207499319 | val loss: 0.3908233303649753 |\n",
      "====\n",
      "Epoch:  62%|██████▎   | 125/200 [00:44<00:26,  2.78it/s]\n",
      "EP_train | train loss: 0.2222608647315331 | val loss: 0.38163280837676106 |\n",
      "====\n",
      "Epoch:  63%|██████▎   | 126/200 [00:45<00:26,  2.80it/s]\n",
      "EP_train | train loss: 0.2168185295362618 | val loss: 0.3761983922883576 |\n",
      "====\n",
      "Epoch:  64%|██████▎   | 127/200 [00:45<00:26,  2.79it/s]\n",
      "EP_train | train loss: 0.22114285820190163 | val loss: 0.40044328102878496 |\n",
      "====\n",
      "Epoch:  64%|██████▍   | 128/200 [00:45<00:25,  2.80it/s]\n",
      "EP_train | train loss: 0.2246291559506086 | val loss: 0.41383815863553214 |\n",
      "====\n",
      "Epoch:  64%|██████▍   | 129/200 [00:46<00:25,  2.82it/s]\n",
      "EP_train | train loss: 0.19970576955342345 | val loss: 0.3804149785462548 |\n",
      "====\n",
      "Epoch:  65%|██████▌   | 130/200 [00:46<00:24,  2.82it/s]\n",
      "EP_train | train loss: 0.21143044885207365 | val loss: 0.4165371527858809 |\n",
      "====\n",
      "Epoch:  66%|██████▌   | 131/200 [00:46<00:24,  2.77it/s]\n",
      "EP_train | train loss: 0.18626485281260705 | val loss: 0.39004233012012407 |\n",
      "====\n",
      "Epoch:  66%|██████▌   | 132/200 [00:47<00:24,  2.78it/s]\n",
      "EP_train | train loss: 0.18444378521447607 | val loss: 0.3831067675468968 |\n",
      "====\n",
      "Epoch:  66%|██████▋   | 133/200 [00:47<00:24,  2.77it/s]\n",
      "EP_train | train loss: 0.17584122759584248 | val loss: 0.3893216941870895 |\n",
      "====\n",
      "Epoch:  67%|██████▋   | 134/200 [00:47<00:23,  2.79it/s]\n",
      "EP_train | train loss: 0.16665907596970436 | val loss: 0.4000116271131179 |\n",
      "====\n",
      "Epoch:  68%|██████▊   | 135/200 [00:48<00:23,  2.78it/s]\n",
      "EP_train | train loss: 0.16395227815590652 | val loss: 0.4086507605571373 |\n",
      "====\n",
      "Epoch:  68%|██████▊   | 136/200 [00:48<00:23,  2.78it/s]\n",
      "EP_train | train loss: 0.1514479773756206 | val loss: 0.40081890833144096 |\n",
      "====\n",
      "Epoch:  68%|██████▊   | 137/200 [00:49<00:22,  2.77it/s]\n",
      "EP_train | train loss: 0.1438591394549102 | val loss: 0.40324069705663945 |\n",
      "====\n",
      "Epoch:  69%|██████▉   | 138/200 [00:49<00:22,  2.77it/s]\n",
      "EP_train | train loss: 0.13736011701471665 | val loss: 0.400309937841752 |\n",
      "====\n",
      "Epoch:  70%|██████▉   | 139/200 [00:49<00:21,  2.79it/s]\n",
      "EP_train | train loss: 0.12983604012491395 | val loss: 0.4046853342477013 |\n",
      "====\n",
      "Epoch:  70%|███████   | 140/200 [00:50<00:21,  2.80it/s]\n",
      "EP_train | train loss: 0.13445356105147882 | val loss: 0.42830696292952 |\n",
      "====\n",
      "Epoch:  70%|███████   | 141/200 [00:50<00:21,  2.77it/s]\n",
      "EP_train | train loss: 0.12611289247708124 | val loss: 0.4286931870030422 |\n",
      "====\n",
      "Epoch:  71%|███████   | 142/200 [00:50<00:20,  2.79it/s]\n",
      "EP_train | train loss: 0.10971512176372387 | val loss: 0.41853322936039344 |\n",
      "====\n",
      "Epoch:  72%|███████▏  | 143/200 [00:51<00:20,  2.80it/s]\n",
      "EP_train | train loss: 0.12284785807782009 | val loss: 0.45329733105266795 |\n",
      "====\n",
      "Epoch:  72%|███████▏  | 144/200 [00:51<00:20,  2.80it/s]\n",
      "EP_train | train loss: 0.10082514898969197 | val loss: 0.41755148184065727 |\n",
      "====\n",
      "Epoch:  72%|███████▎  | 145/200 [00:51<00:19,  2.80it/s]\n",
      "EP_train | train loss: 0.12283493828409897 | val loss: 0.46545110029332776 |\n",
      "====\n",
      "Epoch:  73%|███████▎  | 146/200 [00:52<00:19,  2.81it/s]\n",
      "EP_train | train loss: 0.08537567168279411 | val loss: 0.43115487168816957 |\n",
      "====\n",
      "Epoch:  74%|███████▎  | 147/200 [00:52<00:18,  2.81it/s]\n",
      "EP_train | train loss: 0.08106168357894832 | val loss: 0.433990547470018 |\n",
      "====\n",
      "Epoch:  74%|███████▍  | 148/200 [00:52<00:18,  2.80it/s]\n",
      "EP_train | train loss: 0.09386759541912536 | val loss: 0.4202527549921298 |\n",
      "====\n",
      "Epoch:  74%|███████▍  | 149/200 [00:53<00:18,  2.81it/s]\n",
      "EP_train | train loss: 0.06953084235097848 | val loss: 0.4372404883889591 |\n",
      "====\n",
      "Epoch:  75%|███████▌  | 150/200 [00:53<00:17,  2.81it/s]\n",
      "EP_train | train loss: 0.06665378873904027 | val loss: 0.4372551347695145 |\n",
      "====\n",
      "Epoch:  76%|███████▌  | 151/200 [00:54<00:17,  2.78it/s]\n",
      "EP_train | train loss: 0.06368839429094901 | val loss: 0.45254932314741847 |\n",
      "====\n",
      "Epoch:  76%|███████▌  | 152/200 [00:54<00:17,  2.80it/s]\n",
      "EP_train | train loss: 0.056159164651027174 | val loss: 0.44307200815163406 |\n",
      "====\n",
      "Epoch:  76%|███████▋  | 153/200 [00:54<00:16,  2.82it/s]\n",
      "EP_train | train loss: 0.07154580645571607 | val loss: 0.48360535560869705 |\n",
      "====\n",
      "Epoch:  77%|███████▋  | 154/200 [00:55<00:16,  2.82it/s]\n",
      "EP_train | train loss: 0.05407368786194745 | val loss: 0.46865710557675827 |\n",
      "====\n",
      "Epoch:  78%|███████▊  | 155/200 [00:55<00:15,  2.82it/s]\n",
      "EP_train | train loss: 0.0445094352064569 | val loss: 0.4567732495420119 |\n",
      "====\n",
      "Epoch:  78%|███████▊  | 156/200 [00:55<00:15,  2.82it/s]\n",
      "EP_train | train loss: 0.043849100344581025 | val loss: 0.46522799426434086 |\n",
      "====\n",
      "Epoch:  78%|███████▊  | 157/200 [00:56<00:15,  2.83it/s]\n",
      "EP_train | train loss: 0.038531368626748295 | val loss: 0.4661033457400752 |\n",
      "====\n",
      "Epoch:  79%|███████▉  | 158/200 [00:56<00:14,  2.83it/s]\n",
      "EP_train | train loss: 0.05419018014064282 | val loss: 0.4419781285173753 |\n",
      "====\n",
      "Epoch:  80%|███████▉  | 159/200 [00:56<00:14,  2.83it/s]\n",
      "EP_train | train loss: 0.044017380683770105 | val loss: 0.443195126804651 |\n",
      "====\n",
      "Epoch:  80%|████████  | 160/200 [00:57<00:14,  2.81it/s]\n",
      "EP_train | train loss: 0.046177804729777484 | val loss: 0.48716186542136997 |\n",
      "====\n",
      "Epoch:  80%|████████  | 161/200 [00:57<00:14,  2.78it/s]\n",
      "EP_train | train loss: 0.06569262813119327 | val loss: 0.5070584357953539 |\n",
      "====\n",
      "Epoch:  81%|████████  | 162/200 [00:57<00:13,  2.76it/s]\n",
      "EP_train | train loss: 0.0665540156281332 | val loss: 0.43238940659691305 |\n",
      "====\n",
      "Epoch:  82%|████████▏ | 163/200 [00:58<00:13,  2.78it/s]\n",
      "EP_train | train loss: 0.03152279994067024 | val loss: 0.4640491850235883 |\n",
      "====\n",
      "Epoch:  82%|████████▏ | 164/200 [00:58<00:12,  2.78it/s]\n",
      "EP_train | train loss: 0.031942758425128746 | val loss: 0.4691319594196245 |\n",
      "====\n",
      "Epoch:  82%|████████▎ | 165/200 [00:59<00:12,  2.75it/s]\n",
      "EP_train | train loss: 0.03142166709068814 | val loss: 0.452174654193953 |\n",
      "====\n",
      "Epoch:  83%|████████▎ | 166/200 [00:59<00:12,  2.76it/s]\n",
      "EP_train | train loss: 0.021365494639785203 | val loss: 0.4598560789052178 |\n",
      "====\n",
      "Epoch:  84%|████████▎ | 167/200 [00:59<00:11,  2.78it/s]\n",
      "EP_train | train loss: 0.019138305405386132 | val loss: 0.4656795917772779 |\n",
      "====\n",
      "Epoch:  84%|████████▍ | 168/200 [01:00<00:11,  2.78it/s]\n",
      "EP_train | train loss: 0.024032246637967675 | val loss: 0.45922153603796867 |\n",
      "====\n",
      "Epoch:  84%|████████▍ | 169/200 [01:00<00:11,  2.74it/s]\n",
      "EP_train | train loss: 0.02481643014743697 | val loss: 0.45850493393692315 |\n",
      "====\n",
      "Epoch:  85%|████████▌ | 170/200 [01:00<00:10,  2.77it/s]\n",
      "EP_train | train loss: 0.02457194436089925 | val loss: 0.4870644293579401 |\n",
      "====\n",
      "Epoch:  86%|████████▌ | 171/200 [01:01<00:10,  2.74it/s]\n",
      "EP_train | train loss: 0.017685170948894973 | val loss: 0.48094698377684053 |\n",
      "====\n",
      "Epoch:  86%|████████▌ | 172/200 [01:01<00:10,  2.75it/s]\n",
      "EP_train | train loss: 0.013670493120201792 | val loss: 0.4664604687223248 |\n",
      "====\n",
      "Epoch:  86%|████████▋ | 173/200 [01:01<00:09,  2.76it/s]\n",
      "EP_train | train loss: 0.014023926458067883 | val loss: 0.4666433334350586 |\n",
      "====\n",
      "Epoch:  87%|████████▋ | 174/200 [01:02<00:09,  2.77it/s]\n",
      "EP_train | train loss: 0.014569804656739328 | val loss: 0.47035643399930466 |\n",
      "====\n",
      "Epoch:  88%|████████▊ | 175/200 [01:02<00:08,  2.78it/s]\n",
      "EP_train | train loss: 0.032495645785903096 | val loss: 0.5050059977699729 |\n",
      "====\n",
      "Epoch:  88%|████████▊ | 176/200 [01:03<00:08,  2.79it/s]\n",
      "EP_train | train loss: 0.01804014553431592 | val loss: 0.4660770285363291 |\n",
      "====\n",
      "Epoch:  88%|████████▊ | 177/200 [01:03<00:08,  2.81it/s]\n",
      "EP_train | train loss: 0.012321143400954785 | val loss: 0.47789519674637737 |\n",
      "====\n",
      "Epoch:  89%|████████▉ | 178/200 [01:03<00:07,  2.82it/s]\n",
      "EP_train | train loss: 0.014607315651731553 | val loss: 0.46345701054030775 |\n",
      "====\n",
      "Epoch:  90%|████████▉ | 179/200 [01:04<00:07,  2.82it/s]\n",
      "EP_train | train loss: 0.010856143724424906 | val loss: 0.46633752303964954 |\n",
      "====\n",
      "Epoch:  90%|█████████ | 180/200 [01:04<00:07,  2.81it/s]\n",
      "EP_train | train loss: 0.01762862074998469 | val loss: 0.4857584436734517 |\n",
      "====\n",
      "Epoch:  90%|█████████ | 181/200 [01:04<00:06,  2.77it/s]\n",
      "EP_train | train loss: 0.007589325682140383 | val loss: 0.47156547097598805 |\n",
      "====\n",
      "Epoch:  91%|█████████ | 182/200 [01:05<00:06,  2.76it/s]\n",
      "EP_train | train loss: 0.009742333754604938 | val loss: 0.4799453394085753 |\n",
      "====\n",
      "Epoch:  92%|█████████▏| 183/200 [01:05<00:06,  2.79it/s]\n",
      "EP_train | train loss: 0.01660869191025337 | val loss: 0.45595066453896316 |\n",
      "====\n",
      "Epoch:  92%|█████████▏| 184/200 [01:05<00:05,  2.80it/s]\n",
      "EP_train | train loss: 0.007020373587255125 | val loss: 0.4698799077202292 |\n",
      "====\n",
      "Epoch:  92%|█████████▎| 185/200 [01:06<00:05,  2.82it/s]\n",
      "EP_train | train loss: 0.017844376675703426 | val loss: 0.49415597962398156 |\n",
      "====\n",
      "Epoch:  93%|█████████▎| 186/200 [01:06<00:04,  2.84it/s]\n",
      "EP_train | train loss: 0.01121890270567148 | val loss: 0.4796781154239879 |\n",
      "====\n",
      "Epoch:  94%|█████████▎| 187/200 [01:06<00:04,  2.81it/s]\n",
      "EP_train | train loss: 0.009893393902866929 | val loss: 0.4788057476866479 |\n",
      "====\n",
      "Epoch:  94%|█████████▍| 188/200 [01:07<00:04,  2.79it/s]\n",
      "EP_train | train loss: 0.00674425248129695 | val loss: 0.4657427691945843 |\n",
      "====\n",
      "Epoch:  94%|█████████▍| 189/200 [01:07<00:03,  2.80it/s]\n",
      "EP_train | train loss: 0.005425577256869127 | val loss: 0.47498896308973726 |\n",
      "====\n",
      "Epoch:  95%|█████████▌| 190/200 [01:08<00:03,  2.81it/s]\n",
      "EP_train | train loss: 0.005071355780679935 | val loss: 0.4738768502777698 |\n",
      "====\n",
      "Epoch:  96%|█████████▌| 191/200 [01:08<00:03,  2.75it/s]\n",
      "EP_train | train loss: 0.00609614090559789 | val loss: 0.4806758212108238 |\n",
      "====\n",
      "Epoch:  96%|█████████▌| 192/200 [01:08<00:02,  2.76it/s]\n",
      "EP_train | train loss: 0.004830155675837157 | val loss: 0.4793246633866254 |\n",
      "====\n",
      "Epoch:  96%|█████████▋| 193/200 [01:09<00:02,  2.78it/s]\n",
      "EP_train | train loss: 0.004642019295874244 | val loss: 0.47213494310192033 |\n",
      "====\n",
      "Epoch:  97%|█████████▋| 194/200 [01:09<00:02,  2.78it/s]\n",
      "EP_train | train loss: 0.005470972500075962 | val loss: 0.47211069452996346 |\n",
      "====\n",
      "Epoch:  98%|█████████▊| 195/200 [01:09<00:01,  2.77it/s]\n",
      "EP_train | train loss: 0.007803436522909758 | val loss: 0.4825952637429331 |\n",
      "====\n",
      "Epoch:  98%|█████████▊| 196/200 [01:10<00:01,  2.80it/s]\n",
      "EP_train | train loss: 0.003828896221771739 | val loss: 0.47367117101070927 |\n",
      "====\n",
      "Epoch:  98%|█████████▊| 197/200 [01:10<00:01,  2.82it/s]\n",
      "EP_train | train loss: 0.0032904459476016446 | val loss: 0.4730648550332761 |\n",
      "====\n",
      "Epoch:  99%|█████████▉| 198/200 [01:10<00:00,  2.77it/s]\n",
      "EP_train | train loss: 0.003676965597343341 | val loss: 0.4715442563973221 |\n",
      "====\n",
      "Epoch: 100%|█████████▉| 199/200 [01:11<00:00,  2.78it/s]\n",
      "EP_train | train loss: 0.0034005628870333463 | val loss: 0.4700248638788859 |\n",
      "====\n",
      "Epoch: 100%|██████████| 200/200 [01:11<00:00,  2.79it/s]\n",
      "EP_train | train loss: 0.005864808047778726 | val loss: 0.4692863331121557 |\n",
      "\n"
     ]
    }
   ],
   "source": [
    "AttractiveTrainer.train()"
   ]
  },
  {
   "source": [
    "## for classification, not better"
   ],
   "cell_type": "markdown",
   "metadata": {}
  },
  {
   "source": [
    "## Below is testing"
   ],
   "cell_type": "markdown",
   "metadata": {}
  },
  {
   "cell_type": "code",
   "execution_count": 8,
   "metadata": {},
   "outputs": [
    {
     "output_type": "execute_result",
     "data": {
      "text/plain": [
       "AttractiveNet(\n",
       "  (embedding): AttractiveEmbedding(\n",
       "    (token): TokenEmbedding(11857, 300, padding_idx=1)\n",
       "  )\n",
       "  (bigramcnn): Sequential(\n",
       "    (0): Conv1d(300, 200, kernel_size=(3,), stride=(1,), padding=(1,))\n",
       "    (1): ReLU()\n",
       "    (2): Conv1d(200, 100, kernel_size=(3,), stride=(1,), padding=(1,))\n",
       "    (3): ReLU()\n",
       "  )\n",
       "  (trigramcnn): Sequential(\n",
       "    (0): Conv1d(300, 200, kernel_size=(3,), stride=(1,), padding=(1,))\n",
       "    (1): ReLU()\n",
       "    (2): Conv1d(200, 100, kernel_size=(3,), stride=(1,), padding=(1,))\n",
       "    (3): ReLU()\n",
       "  )\n",
       "  (encoder_bigram): LSTM(100, 30, batch_first=True, dropout=0.1, bidirectional=True)\n",
       "  (encoder_trigram): LSTM(100, 30, batch_first=True, dropout=0.1, bidirectional=True)\n",
       "  (linear): Sequential(\n",
       "    (0): Linear(in_features=120, out_features=30, bias=True)\n",
       "    (1): ReLU()\n",
       "    (2): Linear(in_features=30, out_features=1, bias=True)\n",
       "  )\n",
       ")"
      ]
     },
     "metadata": {},
     "execution_count": 8
    }
   ],
   "source": [
    "from attractivenet import AttractiveNet\n",
    "PATH = './model/CNN_LSTM_20201102-205610_0.3948.80'\n",
    "# load_model = TransformerModel(config).to(AttractiveData.device)\n",
    "load_model = AttractiveNet(config).to(AttractiveData.device)\n",
    "load_model.load_state_dict(torch.load(PATH))\n",
    "load_model.eval()"
   ]
  },
  {
   "cell_type": "code",
   "execution_count": 9,
   "metadata": {},
   "outputs": [],
   "source": [
    "def predict_attractive(sentence, category, phase):\n",
    "    # if len(sentence) < config['max_seq']:\n",
    "    #     sentence += ['0'] * (config['max_seq'] - len(sentence))\n",
    "    # else:\n",
    "    #     sentence = sentence[:config['max_seq']]\n",
    "\n",
    "    indexed_sentence = [AttractiveData.TEXT.vocab.stoi[t] for t in sentence]\n",
    "    indexed_category = [AttractiveData.CATEGORIES_LABEL.vocab.stoi[category]]\n",
    "    tensor_sentence = torch.LongTensor(indexed_sentence).to(AttractiveData.device)\n",
    "    tensor_category = torch.LongTensor(indexed_category).to(AttractiveData.device)\n",
    "\n",
    "    tensor_sentence = tensor_sentence.unsqueeze(0)\n",
    "    # print(tensor_sentence.shape)\n",
    "\n",
    "    prediction = load_model(tensor_sentence, tensor_category, phase=phase)\n",
    "\n",
    "    # after_decimal = prediction % 1\n",
    "    # possible_list = [0.0, 0.3333333333333333, 0.6666666666666665, 0.5, 1.0]\n",
    "    # closet_idx = None\n",
    "    # closet_distance = 1\n",
    "    # for i in range(len(possible_list)):\n",
    "    #     if abs(after_decimal - possible_list[i]) <= closet_distance:\n",
    "    #         closet_idx = i\n",
    "    #         closet_distance = abs(after_decimal - possible_list[i])\n",
    "    # prediction = (prediction // 1) + possible_list[closet_idx]\n",
    "    \n",
    "    return prediction"
   ]
  },
  {
   "cell_type": "code",
   "execution_count": 10,
   "metadata": {
    "tags": []
   },
   "outputs": [],
   "source": [
    "# train mean = 3.15, test mean = 2.8\n",
    "predict_list = []\n",
    "with torch.no_grad():\n",
    "    for i, sentence in enumerate(AttractiveData.test_data):\n",
    "        prediction = predict_attractive(sentence.Headline, sentence.Category, 'test')\n",
    "        predict_list.append(prediction.item())\n",
    "        # predict_list.append(prediction.item())\n",
    "AttractiveData.df_test['Label'] = predict_list\n",
    "AttractiveData.df_test[['ID', 'Label']].to_csv(config['save_name'] + '.csv', index=False)"
   ]
  },
  {
   "source": [
    "## Below for statistics"
   ],
   "cell_type": "markdown",
   "metadata": {}
  },
  {
   "cell_type": "code",
   "execution_count": 11,
   "metadata": {},
   "outputs": [],
   "source": [
    "import statistics\n",
    "from sklearn.metrics import mean_squared_error"
   ]
  },
  {
   "cell_type": "code",
   "execution_count": 12,
   "metadata": {},
   "outputs": [],
   "source": [
    "# # train mean = 3.15, test mean = 2.8\n",
    "# train_list = []\n",
    "# for i, sentence in enumerate(AttractiveData.train_data):\n",
    "#     prediction = predict_attractive(sentence.Headline, sentence.Category, 'train')\n",
    "#     train_list.append(prediction.item())\n",
    "#     # train_list.append(prediction.item())\n",
    "# # print(train_list)\n",
    "# mean_squared_error(pd.read_csv('data/train.csv').sort_values(['ID']).Label.to_list(), train_list), statistics.mean(train_list), statistics.stdev(train_list)"
   ]
  },
  {
   "cell_type": "code",
   "execution_count": 13,
   "metadata": {},
   "outputs": [],
   "source": [
    "# train_list[0:5], pd.read_csv('data/train.csv').sort_values(['ID']).Label.to_list()[0:5]"
   ]
  },
  {
   "cell_type": "code",
   "execution_count": 14,
   "metadata": {},
   "outputs": [],
   "source": [
    "# a = AttractiveData.df_train['Label'].to_list()\n",
    "# statistics.mean(a), statistics.stdev(a)"
   ]
  },
  {
   "cell_type": "code",
   "execution_count": 15,
   "metadata": {},
   "outputs": [
    {
     "output_type": "execute_result",
     "data": {
      "text/plain": [
       "(2.819352302257185, 0.3798893512997167)"
      ]
     },
     "metadata": {},
     "execution_count": 15
    }
   ],
   "source": [
    "statistics.mean(predict_list), statistics.stdev(predict_list)"
   ]
  },
  {
   "cell_type": "code",
   "execution_count": 16,
   "metadata": {},
   "outputs": [
    {
     "output_type": "execute_result",
     "data": {
      "text/plain": [
       "(0.06463604566137304, 2.749250414087909, 0.21818948511921435)"
      ]
     },
     "metadata": {},
     "execution_count": 16
    }
   ],
   "source": [
    "baseline_list = pd.read_csv('baseline.csv').sort_values(['ID']).Label.to_list()\n",
    "mean_squared_error(baseline_list, predict_list), statistics.mean(baseline_list), statistics.stdev(baseline_list)"
   ]
  },
  {
   "cell_type": "code",
   "execution_count": 14,
   "metadata": {},
   "outputs": [
    {
     "output_type": "execute_result",
     "data": {
      "text/plain": [
       "(2.8167915543795683, 0.14611407210842048)"
      ]
     },
     "metadata": {},
     "execution_count": 14
    }
   ],
   "source": [
    "# LSTM my best\n",
    "# statistics.mean(predict_list), statistics.stdev(predict_list)"
   ]
  },
  {
   "cell_type": "code",
   "execution_count": 18,
   "metadata": {},
   "outputs": [
    {
     "output_type": "execute_result",
     "data": {
      "text/plain": [
       "(0.038789339035529356, 2.8010625587160893, 0.24649253835767065)"
      ]
     },
     "metadata": {},
     "execution_count": 18
    }
   ],
   "source": [
    "a = pd.read_csv('CNN_LSTM_test.csv').Label.to_list()\n",
    "mean_squared_error(baseline_list, a), statistics.mean(a), statistics.stdev(a)"
   ]
  },
  {
   "cell_type": "code",
   "execution_count": 14,
   "metadata": {},
   "outputs": [
    {
     "output_type": "execute_result",
     "data": {
      "text/plain": [
       "'the'"
      ]
     },
     "metadata": {},
     "execution_count": 14
    }
   ],
   "source": [
    "AttractiveData.TEXT.vocab.itos[2]"
   ]
  },
  {
   "cell_type": "code",
   "execution_count": 26,
   "metadata": {},
   "outputs": [
    {
     "output_type": "execute_result",
     "data": {
      "text/plain": [
       "Counter({'4.0': 226,\n",
       "         '2.333333333333333': 194,\n",
       "         '4.5': 43,\n",
       "         '3.333333333333333': 313,\n",
       "         '3.6666666666666665': 260,\n",
       "         '2.6666666666666665': 281,\n",
       "         '2.0': 135,\n",
       "         '2.5': 36,\n",
       "         '1.6666666666666667': 28,\n",
       "         '3.0': 354,\n",
       "         '4.333333333333333': 82,\n",
       "         '4.666666666666667': 29,\n",
       "         '1.5': 16,\n",
       "         '3.5': 22,\n",
       "         '1.3333333333333333': 4,\n",
       "         '1.0': 5,\n",
       "         '5.0': 12})"
      ]
     },
     "metadata": {},
     "execution_count": 26
    }
   ],
   "source": [
    "AttractiveData.LABEL.vocab.freqs"
   ]
  },
  {
   "cell_type": "code",
   "execution_count": null,
   "metadata": {},
   "outputs": [],
   "source": []
  }
 ]
}