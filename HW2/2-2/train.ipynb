{
 "cells": [
  {
   "cell_type": "code",
   "execution_count": 1,
   "metadata": {},
   "outputs": [],
   "source": [
    "# common packages\n",
    "import pandas as pd\n",
    "import time\n",
    "\n",
    "# # DL framework\n",
    "import torch\n",
    "from torchtext import data\n",
    "\n",
    "from attractivedata import AttractiveData\n",
    "from trainer import AttractiveTrainer"
   ]
  },
  {
   "cell_type": "code",
   "execution_count": 2,
   "metadata": {},
   "outputs": [],
   "source": [
    "seed_value = 42\n",
    "torch.manual_seed(seed_value)\n",
    "torch.cuda.manual_seed(seed_value)\n",
    "torch.cuda.manual_seed_all(seed_value) # gpu vars\n",
    "torch.backends.cudnn.deterministic = True  #needed\n",
    "torch.backends.cudnn.benchmark = False"
   ]
  },
  {
   "cell_type": "markdown",
   "metadata": {},
   "source": [
    "# TODO: \n",
    "- [ ] cnn plus residual network\n",
    "- [ ] word embedding multiply tfidf\n",
    "- [ ] use word2vec"
   ]
  },
  {
   "cell_type": "markdown",
   "metadata": {},
   "source": [
    "## Load and prepare data"
   ]
  },
  {
   "cell_type": "code",
   "execution_count": 3,
   "metadata": {},
   "outputs": [],
   "source": [
    "train_file = 'data/train.csv'\n",
    "val_file = 'example/val.csv'\n",
    "test_file = 'data/test.csv'\n",
    "pretrained_file = 'glove.840B.300d'\n",
    "config = {\n",
    "    'max_seq': 40,\n",
    "    'min_freq': 0,\n",
    "    'batch_size': 64,\n",
    "    'pretrained_file': pretrained_file\n",
    "}\n"
   ]
  },
  {
   "cell_type": "code",
   "execution_count": 4,
   "metadata": {},
   "outputs": [],
   "source": [
    "AttractiveData = AttractiveData(train_file, val_file, test_file, pretrained_file, config)"
   ]
  },
  {
   "cell_type": "code",
   "execution_count": 5,
   "metadata": {},
   "outputs": [],
   "source": [
    "# for i, sentence in enumerate(AttractiveData.test_data):\n",
    "#     if i == 3:\n",
    "#         print(vars(AttractiveData.train_data[i]), vars(sentence))"
   ]
  },
  {
   "cell_type": "code",
   "execution_count": 6,
   "metadata": {},
   "outputs": [
    {
     "output_type": "execute_result",
     "data": {
      "text/plain": [
       "38"
      ]
     },
     "metadata": {},
     "execution_count": 6
    }
   ],
   "source": [
    "max_len = 0\n",
    "a = AttractiveData.train_data\n",
    "for i in range(len(a)):\n",
    "    if len(a[i].Headline) >= max_len:\n",
    "        max_len = len(a[i].Headline)\n",
    "max_len"
   ]
  },
  {
   "cell_type": "markdown",
   "metadata": {},
   "source": [
    "## Start to train"
   ]
  },
  {
   "cell_type": "code",
   "execution_count": 7,
   "metadata": {},
   "outputs": [
    {
     "output_type": "stream",
     "name": "stdout",
     "text": [
      "torch.Size([12699, 300])\n"
     ]
    }
   ],
   "source": [
    "config['timestr'] = time.strftime(\"%Y%m%d-%H%M%S\")\n",
    "config['save_name'] = 'CNN_LSTM'\n",
    "config['input_dim'] = len(AttractiveData.TEXT.vocab)\n",
    "config['embedding_dim'] = 300\n",
    "config['category_dim'] = len(AttractiveData.CATEGORIES_LABEL.vocab)\n",
    "config['category_embedding_dim'] = 6\n",
    "config['hidden_dim'] = 30\n",
    "config['output_dim'] = 1\n",
    "config['log_steps'] = 10\n",
    "config['epochs'] = 200\n",
    "config['lr'] = {\n",
    "    'encoder': 1e-5,\n",
    "    'embedding': 6e-6,\n",
    "    'linear': 1e-5\n",
    "}\n",
    "config['num_layers'] = 1\n",
    "config['kernel_size'] = 3\n",
    "config['dropout'] = 0.3\n",
    "config['train_len'] = AttractiveData.train_len\n",
    "config['val_len'] = AttractiveData.val_len\n",
    "config['test_len'] = AttractiveData.test_len\n",
    "\n",
    "pretrained_embeddings = AttractiveData.TEXT.vocab.vectors\n",
    "print(pretrained_embeddings.shape)"
   ]
  },
  {
   "cell_type": "code",
   "execution_count": 8,
   "metadata": {},
   "outputs": [],
   "source": [
    "AttractiveTrainer = AttractiveTrainer(config, AttractiveData.device, AttractiveData.trainloader, AttractiveData.valloader, pretrained_embeddings)"
   ]
  },
  {
   "cell_type": "code",
   "execution_count": 9,
   "metadata": {},
   "outputs": [
    {
     "output_type": "execute_result",
     "data": {
      "text/plain": [
       "(AttractiveNet(\n",
       "   (embedding): AttractiveEmbedding(\n",
       "     (token): TokenEmbedding(12699, 300, padding_idx=1)\n",
       "   )\n",
       "   (category_embedding): CategoryEmbedding(18, 6, padding_idx=0)\n",
       "   (bigramcnn): Sequential(\n",
       "     (0): Conv1d(300, 200, kernel_size=(3,), stride=(1,), padding=(1,))\n",
       "     (1): ReLU()\n",
       "     (2): Conv1d(200, 100, kernel_size=(3,), stride=(1,), padding=(1,))\n",
       "     (3): ReLU()\n",
       "     (4): Dropout(p=0.3, inplace=False)\n",
       "   )\n",
       "   (trigramcnn): Sequential(\n",
       "     (0): Conv1d(300, 200, kernel_size=(3,), stride=(1,), padding=(1,))\n",
       "     (1): ReLU()\n",
       "     (2): Conv1d(200, 100, kernel_size=(3,), stride=(1,), padding=(1,))\n",
       "     (3): ReLU()\n",
       "     (4): Dropout(p=0.3, inplace=False)\n",
       "   )\n",
       "   (encoder_bigram_first): LSTM(100, 30, batch_first=True, dropout=0.3, bidirectional=True)\n",
       "   (encoder_trigram_first): LSTM(100, 30, batch_first=True, dropout=0.3, bidirectional=True)\n",
       "   (linear): Sequential(\n",
       "     (0): Linear(in_features=130, out_features=30, bias=True)\n",
       "     (1): ReLU()\n",
       "     (2): Linear(in_features=30, out_features=1, bias=True)\n",
       "   )\n",
       " ),\n",
       " 4357729,\n",
       " 4357729)"
      ]
     },
     "metadata": {},
     "execution_count": 9
    }
   ],
   "source": [
    "AttractiveTrainer.model, AttractiveTrainer.config['total_params'], AttractiveTrainer.config['total_learned_params']"
   ]
  },
  {
   "cell_type": "code",
   "execution_count": 10,
   "metadata": {
    "tags": [
     "outputPrepend"
    ]
   },
   "outputs": [
    {
     "output_type": "stream",
     "name": "stderr",
     "text": [
      "l loss: 0.40157592880959603 |\n",
      "Epoch:  24%|██▍       | 48/200 [00:19<01:02,  2.42it/s]\n",
      "EP_47 | train loss: 0.4543087033664479 | val loss: 0.40071650696735756 |\n",
      "Epoch:  24%|██▍       | 49/200 [00:20<01:01,  2.44it/s]\n",
      "EP_48 | train loss: 0.45070309264987124 | val loss: 0.39748555071213665 |\n",
      "Epoch:  25%|██▌       | 50/200 [00:20<01:02,  2.41it/s]\n",
      "EP_49 | train loss: 0.4547739580565808 | val loss: 0.39817912204592837 |\n",
      "Epoch:  26%|██▌       | 51/200 [00:20<01:03,  2.34it/s]\n",
      "EP_50 | train loss: 0.44852060056200216 | val loss: 0.3935560700940151 |\n",
      "Epoch:  26%|██▌       | 52/200 [00:21<01:02,  2.38it/s]\n",
      "EP_51 | train loss: 0.4473813271990009 | val loss: 0.39141197765574737 |\n",
      "Epoch:  26%|██▋       | 53/200 [00:21<01:00,  2.42it/s]\n",
      "EP_52 | train loss: 0.44551427504595587 | val loss: 0.3895458462191563 |\n",
      "Epoch:  27%|██▋       | 54/200 [00:22<00:59,  2.44it/s]\n",
      "EP_53 | train loss: 0.4480678530300365 | val loss: 0.38942072672002453 |\n",
      "Epoch:  28%|██▊       | 55/200 [00:22<00:58,  2.46it/s]\n",
      "EP_54 | train loss: 0.443575979681576 | val loss: 0.38577446224642736 |\n",
      "Epoch:  28%|██▊       | 56/200 [00:22<00:58,  2.48it/s]\n",
      "EP_55 | train loss: 0.4437488957947376 | val loss: 0.3841138762586257 |\n",
      "Epoch:  28%|██▊       | 57/200 [00:23<00:57,  2.50it/s]\n",
      "EP_56 | train loss: 0.4412751852297315 | val loss: 0.38191335166201873 |\n",
      "Epoch:  29%|██▉       | 58/200 [00:23<00:56,  2.52it/s]\n",
      "EP_57 | train loss: 0.4389863977245256 | val loss: 0.38000546600304397 |\n",
      "Epoch:  30%|██▉       | 59/200 [00:24<00:55,  2.53it/s]\n",
      "EP_58 | train loss: 0.4385013496174532 | val loss: 0.37878532444729524 |\n",
      "Epoch:  30%|███       | 60/200 [00:24<00:55,  2.52it/s]\n",
      "EP_59 | train loss: 0.44071371041092217 | val loss: 0.37864623408691556 |\n",
      "Epoch:  30%|███       | 61/200 [00:24<00:56,  2.48it/s]\n",
      "EP_60 | train loss: 0.434551440968233 | val loss: 0.37378354399811986 |\n",
      "Epoch:  31%|███       | 62/200 [00:25<00:54,  2.54it/s]\n",
      "EP_61 | train loss: 0.4352409830280379 | val loss: 0.37461790559338587 |\n",
      "Epoch:  32%|███▏      | 63/200 [00:25<00:53,  2.55it/s]\n",
      "EP_62 | train loss: 0.4332398550183165 | val loss: 0.3706591386421054 |\n",
      "Epoch:  32%|███▏      | 64/200 [00:26<00:54,  2.52it/s]\n",
      "EP_63 | train loss: 0.4320709546407064 | val loss: 0.3698088982525994 |\n",
      "Epoch:  32%|███▎      | 65/200 [00:26<00:53,  2.51it/s]\n",
      "EP_64 | train loss: 0.43160712485219915 | val loss: 0.3698650914080003 |\n",
      "Epoch:  33%|███▎      | 66/200 [00:26<00:53,  2.48it/s]\n",
      "EP_65 | train loss: 0.43163830065259745 | val loss: 0.3698558786920473 |\n",
      "Epoch:  34%|███▎      | 67/200 [00:27<00:53,  2.50it/s]\n",
      "EP_66 | train loss: 0.43120216388328403 | val loss: 0.3684471904062757 |\n",
      "Epoch:  34%|███▍      | 68/200 [00:27<00:52,  2.50it/s]\n",
      "EP_67 | train loss: 0.4259046358220718 | val loss: 0.3607629636923472 |\n",
      "Epoch:  34%|███▍      | 69/200 [00:28<00:53,  2.45it/s]\n",
      "EP_68 | train loss: 0.4245419277864344 | val loss: 0.36081746395896463 |\n",
      "Epoch:  35%|███▌      | 70/200 [00:28<00:55,  2.36it/s]\n",
      "EP_69 | train loss: 0.42460247488582836 | val loss: 0.36072322229544324 |\n",
      "Epoch:  36%|███▌      | 71/200 [00:29<00:54,  2.36it/s]\n",
      "EP_70 | train loss: 0.4221416351841945 | val loss: 0.3556238033023535 |\n",
      "Epoch:  36%|███▌      | 72/200 [00:29<00:52,  2.42it/s]\n",
      "EP_71 | train loss: 0.42268580174913595 | val loss: 0.35841895552242503 |\n",
      "Epoch:  36%|███▋      | 73/200 [00:29<00:51,  2.46it/s]\n",
      "EP_72 | train loss: 0.41938597922231635 | val loss: 0.35343315788343843 |\n",
      "Epoch:  37%|███▋      | 74/200 [00:30<00:50,  2.48it/s]\n",
      "EP_73 | train loss: 0.4188241622027229 | val loss: 0.35225708052223803 |\n",
      "Epoch:  38%|███▊      | 75/200 [00:30<00:50,  2.49it/s]\n",
      "EP_74 | train loss: 0.418099895178103 | val loss: 0.3539684420707179 |\n",
      "Epoch:  38%|███▊      | 76/200 [00:31<00:50,  2.45it/s]\n",
      "EP_75 | train loss: 0.4160414410572426 | val loss: 0.3501599927743276 |\n",
      "Epoch:  38%|███▊      | 77/200 [00:31<00:49,  2.50it/s]\n",
      "EP_76 | train loss: 0.4157711304870306 | val loss: 0.349504299900111 |\n",
      "Epoch:  39%|███▉      | 78/200 [00:31<00:48,  2.50it/s]\n",
      "EP_77 | train loss: 0.41144926781747854 | val loss: 0.3453495429427016 |\n",
      "Epoch:  40%|███▉      | 79/200 [00:32<00:49,  2.42it/s]\n",
      "EP_78 | train loss: 0.41306071281433104 | val loss: 0.3491827927383722 |\n",
      "Epoch:  40%|████      | 80/200 [00:32<00:48,  2.46it/s]\n",
      "EP_79 | train loss: 0.41478401632869943 | val loss: 0.3494987388451894 |\n",
      "Epoch:  40%|████      | 81/200 [00:33<00:48,  2.47it/s]\n",
      "EP_80 | train loss: 0.40920914481667914 | val loss: 0.34233008880241245 |\n",
      "Epoch:  41%|████      | 82/200 [00:33<00:46,  2.52it/s]\n",
      "EP_81 | train loss: 0.40894684043585083 | val loss: 0.3414544185587004 |\n",
      "Epoch:  42%|████▏     | 83/200 [00:33<00:45,  2.56it/s]\n",
      "EP_82 | train loss: 0.40552958787656296 | val loss: 0.3385051041841507 |\n",
      "Epoch:  42%|████▏     | 84/200 [00:34<00:44,  2.59it/s]\n",
      "EP_83 | train loss: 0.40636984366996615 | val loss: 0.3418349351953058 |\n",
      "Epoch:  42%|████▎     | 85/200 [00:34<00:44,  2.58it/s]\n",
      "EP_84 | train loss: 0.4047541104111017 | val loss: 0.3392057722690059 |\n",
      "Epoch:  43%|████▎     | 86/200 [00:34<00:44,  2.56it/s]\n",
      "EP_85 | train loss: 0.4025188324498195 | val loss: 0.33539993272108193 |\n",
      "Epoch:  44%|████▎     | 87/200 [00:35<00:43,  2.58it/s]\n",
      "EP_86 | train loss: 0.39901369599735037 | val loss: 0.33192748240396086 |\n",
      "Epoch:  44%|████▍     | 88/200 [00:35<00:43,  2.60it/s]\n",
      "EP_87 | train loss: 0.4017766288682526 | val loss: 0.336333766579628 |\n",
      "Epoch:  44%|████▍     | 89/200 [00:36<00:42,  2.62it/s]\n",
      "EP_88 | train loss: 0.40044490870307475 | val loss: 0.33421526440218385 |\n",
      "Epoch:  45%|████▌     | 90/200 [00:36<00:42,  2.61it/s]\n",
      "EP_89 | train loss: 0.39477756163653205 | val loss: 0.32746756924133674 |\n",
      "Epoch:  46%|████▌     | 91/200 [00:36<00:42,  2.59it/s]\n",
      "EP_90 | train loss: 0.3941149290870218 | val loss: 0.3288410142356274 |\n",
      "Epoch:  46%|████▌     | 92/200 [00:37<00:41,  2.62it/s]\n",
      "EP_91 | train loss: 0.3908637752719954 | val loss: 0.3259068566794489 |\n",
      "Epoch:  46%|████▋     | 93/200 [00:37<00:40,  2.62it/s]\n",
      "EP_92 | train loss: 0.3893509303822237 | val loss: 0.3251163652714561 |\n",
      "Epoch:  47%|████▋     | 94/200 [00:38<00:40,  2.64it/s]\n",
      "EP_93 | train loss: 0.3884385071548761 | val loss: 0.3237454908735612 |\n",
      "Epoch:  48%|████▊     | 95/200 [00:38<00:39,  2.64it/s]\n",
      "EP_94 | train loss: 0.3858582711687275 | val loss: 0.3212120635252373 |\n",
      "Epoch:  48%|████▊     | 96/200 [00:38<00:39,  2.60it/s]\n",
      "EP_95 | train loss: 0.3850559061648799 | val loss: 0.32130061645133823 |\n",
      "Epoch:  48%|████▊     | 97/200 [00:39<00:39,  2.62it/s]\n",
      "EP_96 | train loss: 0.382940419514974 | val loss: 0.3202286444458307 |\n",
      "Epoch:  49%|████▉     | 98/200 [00:39<00:38,  2.62it/s]\n",
      "EP_97 | train loss: 0.3821595322852041 | val loss: 0.32072872215626286 |\n",
      "Epoch:  50%|████▉     | 99/200 [00:39<00:39,  2.53it/s]\n",
      "EP_98 | train loss: 0.3832097390118767 | val loss: 0.3226296556930916 |\n",
      "Epoch:  50%|█████     | 100/200 [00:40<00:40,  2.45it/s]\n",
      "EP_99 | train loss: 0.3775673146341361 | val loss: 0.3152860858861138 |\n",
      "Epoch:  50%|█████     | 101/200 [00:40<00:41,  2.39it/s]\n",
      "EP_100 | train loss: 0.3750608855602788 | val loss: 0.31382045938688163 |\n",
      "Epoch:  51%|█████     | 102/200 [00:41<00:41,  2.37it/s]\n",
      "EP_101 | train loss: 0.37309344422583485 | val loss: 0.3147643673069337 |\n",
      "Epoch:  52%|█████▏    | 103/200 [00:41<00:40,  2.39it/s]\n",
      "EP_102 | train loss: 0.37099695673175886 | val loss: 0.31229329079973933 |\n",
      "Epoch:  52%|█████▏    | 104/200 [00:42<00:39,  2.42it/s]\n",
      "EP_103 | train loss: 0.36784019984450994 | val loss: 0.31062572493272667 |\n",
      "Epoch:  52%|█████▎    | 105/200 [00:42<00:39,  2.41it/s]\n",
      "EP_104 | train loss: 0.36554093314152136 | val loss: 0.3085424134544298 |\n",
      "Epoch:  53%|█████▎    | 106/200 [00:42<00:39,  2.37it/s]\n",
      "EP_105 | train loss: 0.364191962223427 | val loss: 0.3070818881193797 |\n",
      "Epoch:  54%|█████▎    | 107/200 [00:43<00:38,  2.40it/s]\n",
      "EP_106 | train loss: 0.3626260570451325 | val loss: 0.30644552497302785 |\n",
      "Epoch:  54%|█████▍    | 108/200 [00:43<00:38,  2.41it/s]\n",
      "EP_107 | train loss: 0.3595349886838128 | val loss: 0.3045247839946373 |\n",
      "Epoch:  55%|█████▍    | 109/200 [00:44<00:36,  2.48it/s]\n",
      "EP_108 | train loss: 0.3568116122601079 | val loss: 0.30336690065907496 |\n",
      "Epoch:  55%|█████▌    | 110/200 [00:44<00:36,  2.48it/s]\n",
      "EP_109 | train loss: 0.35428752431682514 | val loss: 0.30127687664592967 |\n",
      "Epoch:  56%|█████▌    | 111/200 [00:44<00:36,  2.47it/s]\n",
      "EP_110 | train loss: 0.35304796929452936 | val loss: 0.30086839315938013 |\n",
      "Epoch:  56%|█████▌    | 112/200 [00:45<00:35,  2.48it/s]\n",
      "EP_111 | train loss: 0.3502973953882853 | val loss: 0.29848409049651203 |\n",
      "Epoch:  56%|█████▋    | 113/200 [00:45<00:34,  2.51it/s]\n",
      "EP_112 | train loss: 0.3483177250506831 | val loss: 0.29772746972009245 |\n",
      "Epoch:  57%|█████▋    | 114/200 [00:46<00:34,  2.50it/s]\n",
      "EP_113 | train loss: 0.34687415010788863 | val loss: 0.29771198361527684 |\n",
      "Epoch:  57%|█████▊    | 115/200 [00:46<00:34,  2.47it/s]\n",
      "EP_114 | train loss: 0.34115129358628216 | val loss: 0.29342592405337914 |\n",
      "Epoch:  58%|█████▊    | 116/200 [00:46<00:33,  2.47it/s]\n",
      "EP_115 | train loss: 0.34618546915989296 | val loss: 0.298738266323127 |\n",
      "Epoch:  58%|█████▊    | 117/200 [00:47<00:33,  2.49it/s]\n",
      "EP_116 | train loss: 0.3363234038446464 | val loss: 0.2888628559954026 |\n",
      "Epoch:  59%|█████▉    | 118/200 [00:47<00:33,  2.48it/s]\n",
      "EP_117 | train loss: 0.33315477651708264 | val loss: 0.28876911892610435 |\n",
      "Epoch:  60%|█████▉    | 119/200 [00:48<00:33,  2.42it/s]\n",
      "EP_118 | train loss: 0.33019485473632815 | val loss: 0.28713754988184165 |\n",
      "Epoch:  60%|██████    | 120/200 [00:48<00:32,  2.45it/s]\n",
      "EP_119 | train loss: 0.33098708835302615 | val loss: 0.2861085271134096 |\n",
      "Epoch:  60%|██████    | 121/200 [00:49<00:32,  2.42it/s]\n",
      "EP_120 | train loss: 0.32653572746351656 | val loss: 0.282757420165866 |\n",
      "Epoch:  61%|██████    | 122/200 [00:49<00:33,  2.36it/s]\n",
      "EP_121 | train loss: 0.32080963312410843 | val loss: 0.2798446936934602 |\n",
      "Epoch:  62%|██████▏   | 123/200 [00:49<00:32,  2.36it/s]\n",
      "EP_122 | train loss: 0.3171209882287418 | val loss: 0.2774451521097445 |\n",
      "Epoch:  62%|██████▏   | 124/200 [00:50<00:31,  2.42it/s]\n",
      "EP_123 | train loss: 0.3155687752891989 | val loss: 0.2751120580177681 |\n",
      "Epoch:  62%|██████▎   | 125/200 [00:50<00:31,  2.35it/s]\n",
      "EP_124 | train loss: 0.3107095063901415 | val loss: 0.2731960374935001 |\n",
      "Epoch:  63%|██████▎   | 126/200 [00:51<00:31,  2.34it/s]\n",
      "EP_125 | train loss: 0.30729687634636377 | val loss: 0.2715046662910312 |\n",
      "Epoch:  64%|██████▎   | 127/200 [00:51<00:30,  2.42it/s]\n",
      "EP_126 | train loss: 0.3052828592412612 | val loss: 0.27045347468525754 |\n",
      "Epoch:  64%|██████▍   | 128/200 [00:51<00:29,  2.43it/s]\n",
      "EP_127 | train loss: 0.30057924682018805 | val loss: 0.26587459386563767 |\n",
      "Epoch:  64%|██████▍   | 129/200 [00:52<00:30,  2.32it/s]\n",
      "EP_128 | train loss: 0.2968487028982125 | val loss: 0.2633113913676318 |\n",
      "Epoch:  65%|██████▌   | 130/200 [00:52<00:31,  2.20it/s]\n",
      "EP_129 | train loss: 0.3035726271423639 | val loss: 0.2680734395980835 |\n",
      "Epoch:  66%|██████▌   | 131/200 [00:53<00:31,  2.20it/s]\n",
      "EP_130 | train loss: 0.2905523403018129 | val loss: 0.2583074733322742 |\n",
      "Epoch:  66%|██████▌   | 132/200 [00:53<00:30,  2.24it/s]\n",
      "EP_131 | train loss: 0.28696987488690545 | val loss: 0.25630426815911833 |\n",
      "Epoch:  66%|██████▋   | 133/200 [00:54<00:28,  2.31it/s]\n",
      "EP_132 | train loss: 0.28389865744347664 | val loss: 0.25299841107106674 |\n",
      "Epoch:  67%|██████▋   | 134/200 [00:54<00:28,  2.35it/s]\n",
      "EP_133 | train loss: 0.2820074483460071 | val loss: 0.251832735304739 |\n",
      "Epoch:  68%|██████▊   | 135/200 [00:55<00:27,  2.36it/s]\n",
      "EP_134 | train loss: 0.2763496852388569 | val loss: 0.2465213981329226 |\n",
      "Epoch:  68%|██████▊   | 136/200 [00:55<00:27,  2.37it/s]\n",
      "EP_135 | train loss: 0.27169045794243907 | val loss: 0.24361445214234145 |\n",
      "Epoch:  68%|██████▊   | 137/200 [00:55<00:26,  2.35it/s]\n",
      "EP_136 | train loss: 0.2661290631574743 | val loss: 0.24193360291275323 |\n",
      "Epoch:  69%|██████▉   | 138/200 [00:56<00:25,  2.43it/s]\n",
      "EP_137 | train loss: 0.26378136335634716 | val loss: 0.23768855309953876 |\n",
      "Epoch:  70%|██████▉   | 139/200 [00:56<00:24,  2.47it/s]\n",
      "EP_138 | train loss: 0.25886002147898957 | val loss: 0.23462951066447238 |\n",
      "Epoch:  70%|███████   | 140/200 [00:57<00:24,  2.48it/s]\n",
      "EP_139 | train loss: 0.2561003703697055 | val loss: 0.23127343198832342 |\n",
      "Epoch:  70%|███████   | 141/200 [00:57<00:23,  2.46it/s]\n",
      "EP_140 | train loss: 0.2512831963744818 | val loss: 0.2281517234503054 |\n",
      "Epoch:  71%|███████   | 142/200 [00:57<00:23,  2.45it/s]\n",
      "EP_141 | train loss: 0.24688647915335263 | val loss: 0.2248703936735789 |\n",
      "Epoch:  72%|███████▏  | 143/200 [00:58<00:23,  2.45it/s]\n",
      "EP_142 | train loss: 0.2435617166406968 | val loss: 0.22288090633411034 |\n",
      "Epoch:  72%|███████▏  | 144/200 [00:58<00:22,  2.46it/s]\n",
      "EP_143 | train loss: 0.24178181769801121 | val loss: 0.21725700766432518 |\n",
      "Epoch:  72%|███████▎  | 145/200 [00:59<00:22,  2.46it/s]\n",
      "EP_144 | train loss: 0.2347562313079834 | val loss: 0.2142893251250772 |\n",
      "Epoch:  73%|███████▎  | 146/200 [00:59<00:21,  2.47it/s]\n",
      "EP_145 | train loss: 0.2299618688284182 | val loss: 0.21031434161990298 |\n",
      "Epoch:  74%|███████▎  | 147/200 [00:59<00:21,  2.45it/s]\n",
      "EP_146 | train loss: 0.22492976889890784 | val loss: 0.20589271889013402 |\n",
      "Epoch:  74%|███████▍  | 148/200 [01:00<00:21,  2.44it/s]\n",
      "EP_147 | train loss: 0.22075616284912708 | val loss: 0.2027338228973688 |\n",
      "Epoch:  74%|███████▍  | 149/200 [01:00<00:20,  2.47it/s]\n",
      "EP_148 | train loss: 0.21708762084736544 | val loss: 0.19542603048623777 |\n",
      "Epoch:  75%|███████▌  | 150/200 [01:01<00:19,  2.51it/s]\n",
      "EP_149 | train loss: 0.21387669993381875 | val loss: 0.191795349705453 |\n",
      "Epoch:  76%|███████▌  | 151/200 [01:01<00:19,  2.47it/s]\n",
      "EP_150 | train loss: 0.20938361485799153 | val loss: 0.18889492399552288 |\n",
      "Epoch:  76%|███████▌  | 152/200 [01:01<00:19,  2.48it/s]\n",
      "EP_151 | train loss: 0.20646373290641634 | val loss: 0.1851421717335196 |\n",
      "Epoch:  76%|███████▋  | 153/200 [01:02<00:18,  2.51it/s]\n",
      "EP_152 | train loss: 0.19860796554415833 | val loss: 0.17984363670442619 |\n",
      "Epoch:  77%|███████▋  | 154/200 [01:02<00:17,  2.56it/s]\n",
      "EP_153 | train loss: 0.1940826603010589 | val loss: 0.1778323375711254 |\n",
      "Epoch:  78%|███████▊  | 155/200 [01:03<00:17,  2.51it/s]\n",
      "EP_154 | train loss: 0.19000593213474049 | val loss: 0.1708761640623504 |\n",
      "Epoch:  78%|███████▊  | 156/200 [01:03<00:17,  2.46it/s]\n",
      "EP_155 | train loss: 0.19196218930038753 | val loss: 0.16969348344148374 |\n",
      "Epoch:  78%|███████▊  | 157/200 [01:03<00:17,  2.49it/s]\n",
      "EP_156 | train loss: 0.18163050506629197 | val loss: 0.1672714615569395 |\n",
      "Epoch:  79%|███████▉  | 158/200 [01:04<00:16,  2.48it/s]\n",
      "EP_157 | train loss: 0.18223677522995893 | val loss: 0.16138464796776866 |\n",
      "Epoch:  80%|███████▉  | 159/200 [01:04<00:16,  2.45it/s]\n",
      "EP_158 | train loss: 0.17951333102057962 | val loss: 0.1593116042660732 |\n",
      "Epoch:  80%|████████  | 160/200 [01:05<00:16,  2.49it/s]\n",
      "EP_159 | train loss: 0.17078657126894184 | val loss: 0.15078959862391153 |\n",
      "Epoch:  80%|████████  | 161/200 [01:05<00:15,  2.47it/s]\n",
      "EP_160 | train loss: 0.1633214557872099 | val loss: 0.14469587627579183 |\n",
      "Epoch:  81%|████████  | 162/200 [01:05<00:15,  2.49it/s]\n",
      "EP_161 | train loss: 0.15793701784283506 | val loss: 0.14242401777529248 |\n",
      "Epoch:  82%|████████▏ | 163/200 [01:06<00:14,  2.51it/s]\n",
      "EP_162 | train loss: 0.15603609108457378 | val loss: 0.14312362846206217 |\n",
      "Epoch:  82%|████████▏ | 164/200 [01:06<00:14,  2.52it/s]\n",
      "EP_163 | train loss: 0.15441130680196424 | val loss: 0.13370284029081755 |\n",
      "Epoch:  82%|████████▎ | 165/200 [01:07<00:13,  2.51it/s]\n",
      "EP_164 | train loss: 0.16361507247476018 | val loss: 0.14136503549183116 |\n",
      "Epoch:  83%|████████▎ | 166/200 [01:07<00:13,  2.49it/s]\n",
      "EP_165 | train loss: 0.14732317994622623 | val loss: 0.12553309985235625 |\n",
      "Epoch:  84%|████████▎ | 167/200 [01:07<00:13,  2.51it/s]\n",
      "EP_166 | train loss: 0.13705288405511892 | val loss: 0.11733406782150269 |\n",
      "Epoch:  84%|████████▍ | 168/200 [01:08<00:12,  2.52it/s]\n",
      "EP_167 | train loss: 0.13000488000757554 | val loss: 0.11802349487940471 |\n",
      "Epoch:  84%|████████▍ | 169/200 [01:08<00:12,  2.55it/s]\n",
      "EP_168 | train loss: 0.12906976143519083 | val loss: 0.11266385252569236 |\n",
      "Epoch:  85%|████████▌ | 170/200 [01:09<00:11,  2.55it/s]\n",
      "EP_169 | train loss: 0.12446809025371776 | val loss: 0.11295474539784824 |\n",
      "Epoch:  86%|████████▌ | 171/200 [01:09<00:11,  2.52it/s]\n",
      "EP_170 | train loss: 0.12499166469947964 | val loss: 0.10985306022213955 |\n",
      "Epoch:  86%|████████▌ | 172/200 [01:09<00:11,  2.49it/s]\n",
      "EP_171 | train loss: 0.11558351727092968 | val loss: 0.10611242698688134 |\n",
      "Epoch:  86%|████████▋ | 173/200 [01:10<00:10,  2.49it/s]\n",
      "EP_172 | train loss: 0.13331111505919813 | val loss: 0.11525418068848405 |\n",
      "Epoch:  87%|████████▋ | 174/200 [01:10<00:10,  2.47it/s]\n",
      "EP_173 | train loss: 0.11418077863898932 | val loss: 0.10702235412363913 |\n",
      "Epoch:  88%|████████▊ | 175/200 [01:11<00:10,  2.49it/s]\n",
      "EP_174 | train loss: 0.11788775874119178 | val loss: 0.100289185257519 |\n",
      "Epoch:  88%|████████▊ | 176/200 [01:11<00:09,  2.44it/s]\n",
      "EP_175 | train loss: 0.09801684267380659 | val loss: 0.08668213790538264 |\n",
      "Epoch:  88%|████████▊ | 177/200 [01:11<00:09,  2.48it/s]\n",
      "EP_176 | train loss: 0.09579225801954082 | val loss: 0.08536953230698903 |\n",
      "Epoch:  89%|████████▉ | 178/200 [01:12<00:08,  2.52it/s]\n",
      "EP_177 | train loss: 0.08995618539697983 | val loss: 0.08207338317936543 |\n",
      "Epoch:  90%|████████▉ | 179/200 [01:12<00:08,  2.48it/s]\n",
      "EP_178 | train loss: 0.08598397689707139 | val loss: 0.07584152765133802 |\n",
      "Epoch:  90%|█████████ | 180/200 [01:13<00:08,  2.44it/s]\n",
      "EP_179 | train loss: 0.0836902891888338 | val loss: 0.07575406280218386 |\n",
      "Epoch:  90%|█████████ | 181/200 [01:13<00:07,  2.39it/s]\n",
      "EP_180 | train loss: 0.08079407787790485 | val loss: 0.07034494391843385 |\n",
      "Epoch:  91%|█████████ | 182/200 [01:14<00:07,  2.37it/s]\n",
      "EP_181 | train loss: 0.07746574025528104 | val loss: 0.069561174102858 |\n",
      "Epoch:  92%|█████████▏| 183/200 [01:14<00:07,  2.41it/s]\n",
      "EP_182 | train loss: 0.07294921699692221 | val loss: 0.06629265172808778 |\n",
      "Epoch:  92%|█████████▏| 184/200 [01:14<00:06,  2.44it/s]\n",
      "EP_183 | train loss: 0.07219834947118572 | val loss: 0.06446736174471238 |\n",
      "Epoch:  92%|█████████▎| 185/200 [01:15<00:06,  2.49it/s]\n",
      "EP_184 | train loss: 0.06829880931798149 | val loss: 0.06619403730420505 |\n",
      "Epoch:  93%|█████████▎| 186/200 [01:15<00:05,  2.50it/s]\n",
      "EP_185 | train loss: 0.0721418813163159 | val loss: 0.06408436947009143 |\n",
      "Epoch:  94%|█████████▎| 187/200 [01:16<00:05,  2.42it/s]\n",
      "EP_186 | train loss: 0.06793947336720485 | val loss: 0.061197339904074576 |\n",
      "Epoch:  94%|█████████▍| 188/200 [01:16<00:04,  2.48it/s]\n",
      "EP_187 | train loss: 0.059122672618604176 | val loss: 0.05388435195474064 |\n",
      "Epoch:  94%|█████████▍| 189/200 [01:16<00:04,  2.50it/s]\n",
      "EP_188 | train loss: 0.056896667386971266 | val loss: 0.053601541063364816 |\n",
      "Epoch:  95%|█████████▌| 190/200 [01:17<00:03,  2.53it/s]\n",
      "EP_189 | train loss: 0.08655138284552331 | val loss: 0.07617912105485505 |\n",
      "Epoch:  96%|█████████▌| 191/200 [01:17<00:03,  2.53it/s]\n",
      "EP_190 | train loss: 0.060499717324387796 | val loss: 0.05541368646948945 |\n",
      "Epoch:  96%|█████████▌| 192/200 [01:17<00:03,  2.55it/s]\n",
      "EP_191 | train loss: 0.049687355289272234 | val loss: 0.04762240250905355 |\n",
      "Epoch:  96%|█████████▋| 193/200 [01:18<00:02,  2.56it/s]\n",
      "EP_192 | train loss: 0.05114123201837727 | val loss: 0.04782593425582437 |\n",
      "Epoch:  97%|█████████▋| 194/200 [01:18<00:02,  2.57it/s]\n",
      "EP_193 | train loss: 0.05057633226993037 | val loss: 0.04861923058827718 |\n",
      "Epoch:  98%|█████████▊| 195/200 [01:19<00:01,  2.56it/s]\n",
      "EP_194 | train loss: 0.0445165869067697 | val loss: 0.04503449125617158 |\n",
      "Epoch:  98%|█████████▊| 196/200 [01:19<00:01,  2.53it/s]\n",
      "EP_195 | train loss: 0.04300332607007494 | val loss: 0.043666935142348796 |\n",
      "Epoch:  98%|█████████▊| 197/200 [01:19<00:01,  2.56it/s]\n",
      "EP_196 | train loss: 0.04039883011696385 | val loss: 0.041862268658245314 |\n",
      "Epoch:  99%|█████████▉| 198/200 [01:20<00:00,  2.59it/s]\n",
      "EP_197 | train loss: 0.039330053241813885 | val loss: 0.037127288167967516 |\n",
      "Epoch: 100%|█████████▉| 199/200 [01:20<00:00,  2.60it/s]\n",
      "EP_198 | train loss: 0.036858844055848966 | val loss: 0.03533181124458126 |\n",
      "Epoch: 100%|██████████| 200/200 [01:21<00:00,  2.47it/s]\n",
      "EP_199 | train loss: 0.03630845505817264 | val loss: 0.03740813773052365 |\n",
      "\n"
     ]
    }
   ],
   "source": [
    "AttractiveTrainer.train()"
   ]
  },
  {
   "cell_type": "markdown",
   "metadata": {},
   "source": [
    "## for classification, not better"
   ]
  },
  {
   "cell_type": "markdown",
   "metadata": {},
   "source": [
    "## Below is testing"
   ]
  },
  {
   "cell_type": "code",
   "execution_count": 8,
   "metadata": {},
   "outputs": [
    {
     "output_type": "execute_result",
     "data": {
      "text/plain": [
       "AttractiveNet(\n",
       "  (embedding): AttractiveEmbedding(\n",
       "    (token): TokenEmbedding(12699, 300, padding_idx=1)\n",
       "  )\n",
       "  (category_embedding): CategoryEmbedding(18, 6, padding_idx=0)\n",
       "  (bigramcnn): Sequential(\n",
       "    (0): Conv1d(300, 200, kernel_size=(3,), stride=(1,), padding=(1,))\n",
       "    (1): ReLU()\n",
       "    (2): Conv1d(200, 100, kernel_size=(3,), stride=(1,), padding=(1,))\n",
       "    (3): ReLU()\n",
       "    (4): Dropout(p=0.3, inplace=False)\n",
       "  )\n",
       "  (trigramcnn): Sequential(\n",
       "    (0): Conv1d(300, 200, kernel_size=(3,), stride=(1,), padding=(1,))\n",
       "    (1): ReLU()\n",
       "    (2): Conv1d(200, 100, kernel_size=(3,), stride=(1,), padding=(1,))\n",
       "    (3): ReLU()\n",
       "    (4): Dropout(p=0.3, inplace=False)\n",
       "  )\n",
       "  (encoder_bigram_first): LSTM(100, 30, batch_first=True, dropout=0.3, bidirectional=True)\n",
       "  (encoder_trigram_first): LSTM(100, 30, batch_first=True, dropout=0.3, bidirectional=True)\n",
       "  (linear): Sequential(\n",
       "    (0): Linear(in_features=130, out_features=30, bias=True)\n",
       "    (1): ReLU()\n",
       "    (2): Linear(in_features=30, out_features=1, bias=True)\n",
       "  )\n",
       ")"
      ]
     },
     "metadata": {},
     "execution_count": 8
    }
   ],
   "source": [
    "from attractivenet import AttractiveNet\n",
    "\n",
    "PATH = './model/CNN_LSTM_20201106-220628/0.364192.105'\n",
    "\n",
    "load_model = AttractiveNet(config).to(AttractiveData.device)\n",
    "load_model.load_state_dict(torch.load(PATH))\n",
    "load_model.eval()"
   ]
  },
  {
   "cell_type": "code",
   "execution_count": 9,
   "metadata": {},
   "outputs": [],
   "source": [
    "def predict_attractive(sentence, category, phase):\n",
    "    indexed_sentence = [AttractiveData.TEXT.vocab.stoi[t] for t in sentence]\n",
    "    indexed_category = [AttractiveData.CATEGORIES_LABEL.vocab.stoi[category]]\n",
    "    tensor_sentence = torch.LongTensor(indexed_sentence).to(AttractiveData.device)\n",
    "    tensor_category = torch.LongTensor(indexed_category).to(AttractiveData.device)\n",
    "\n",
    "    tensor_sentence = tensor_sentence.unsqueeze(0)\n",
    "    # print(tensor_sentence.shape)\n",
    "\n",
    "    prediction = load_model(tensor_sentence, tensor_category, phase=phase)\n",
    "\n",
    "    return prediction"
   ]
  },
  {
   "cell_type": "code",
   "execution_count": 10,
   "metadata": {
    "tags": []
   },
   "outputs": [],
   "source": [
    "# train mean = 3.15, test mean = 2.8\n",
    "predict_list = []\n",
    "with torch.no_grad():\n",
    "    for i, sentence in enumerate(AttractiveData.test_data):\n",
    "        prediction = predict_attractive(sentence.Headline, sentence.Category, 'test')\n",
    "        predict_list.append(prediction.item())\n",
    "        # predict_list.append(prediction.item())\n",
    "AttractiveData.df_test['Label'] = predict_list\n",
    "AttractiveData.df_test[['ID', 'Label']].to_csv(config['save_name'] + '.csv', index=False)"
   ]
  },
  {
   "cell_type": "markdown",
   "metadata": {},
   "source": [
    "## Below for statistics"
   ]
  },
  {
   "cell_type": "code",
   "execution_count": 11,
   "metadata": {},
   "outputs": [],
   "source": [
    "import statistics\n",
    "from sklearn.metrics import mean_squared_error"
   ]
  },
  {
   "cell_type": "code",
   "execution_count": 12,
   "metadata": {},
   "outputs": [],
   "source": [
    "# # train mean = 3.15, test mean = 2.8\n",
    "# train_list = []\n",
    "# for i, sentence in enumerate(AttractiveData.train_data):\n",
    "#     prediction = predict_attractive(sentence.Headline, sentence.Category, 'train')\n",
    "#     train_list.append(prediction.item())\n",
    "#     # train_list.append(prediction.item())\n",
    "# # print(train_list)\n",
    "# mean_squared_error(pd.read_csv('data/train.csv').sort_values(['ID']).Label.to_list(), train_list), statistics.mean(train_list), statistics.stdev(train_list)"
   ]
  },
  {
   "cell_type": "code",
   "execution_count": 13,
   "metadata": {},
   "outputs": [],
   "source": [
    "# train_list[0:5], pd.read_csv('data/train.csv').sort_values(['ID']).Label.to_list()[0:5]"
   ]
  },
  {
   "cell_type": "code",
   "execution_count": 14,
   "metadata": {},
   "outputs": [],
   "source": [
    "# a = AttractiveData.df_train['Label'].to_list()\n",
    "# statistics.mean(a), statistics.stdev(a)"
   ]
  },
  {
   "cell_type": "code",
   "execution_count": 15,
   "metadata": {},
   "outputs": [
    {
     "output_type": "execute_result",
     "data": {
      "text/plain": [
       "(2.855061420785173, 0.32534205626190726)"
      ]
     },
     "metadata": {},
     "execution_count": 15
    }
   ],
   "source": [
    "statistics.mean(predict_list), statistics.stdev(predict_list)"
   ]
  },
  {
   "cell_type": "code",
   "execution_count": 16,
   "metadata": {},
   "outputs": [
    {
     "output_type": "execute_result",
     "data": {
      "text/plain": [
       "(0.02237344631367081, 2.774164993857497, 0.3615900775742119)"
      ]
     },
     "metadata": {},
     "execution_count": 16
    }
   ],
   "source": [
    "baseline_list = pd.read_csv('baseline.csv').sort_values(['ID']).Label.to_list()\n",
    "mean_squared_error(baseline_list, predict_list), statistics.mean(baseline_list), statistics.stdev(baseline_list)"
   ]
  },
  {
   "cell_type": "code",
   "execution_count": null,
   "metadata": {},
   "outputs": [],
   "source": []
  },
  {
   "cell_type": "code",
   "execution_count": 18,
   "metadata": {},
   "outputs": [
    {
     "data": {
      "text/plain": [
       "0.1609754968529207"
      ]
     },
     "execution_count": 18,
     "metadata": {},
     "output_type": "execute_result"
    }
   ],
   "source": [
    "mean_squared_error(pd.read_csv('baseline.csv').sort_values(['ID']).Label.to_list(), pd.read_csv('./predict/ensemble.csv').sort_values(['ID']).Label.to_list())"
   ]
  },
  {
   "cell_type": "code",
   "execution_count": 10,
   "metadata": {},
   "outputs": [],
   "source": [
    "from sklearn.model_selection import KFold\n",
    "import numpy as np"
   ]
  },
  {
   "cell_type": "code",
   "execution_count": 11,
   "metadata": {},
   "outputs": [],
   "source": []
  },
  {
   "cell_type": "code",
   "execution_count": 12,
   "metadata": {},
   "outputs": [
    {
     "data": {
      "text/plain": [
       "2040"
      ]
     },
     "execution_count": 12,
     "metadata": {},
     "output_type": "execute_result"
    }
   ],
   "source": [
    "len(AttractiveData.train_data.examples)"
   ]
  },
  {
   "cell_type": "code",
   "execution_count": 13,
   "metadata": {},
   "outputs": [],
   "source": []
  },
  {
   "cell_type": "code",
   "execution_count": null,
   "metadata": {},
   "outputs": [],
   "source": []
  }
 ],
 "metadata": {
  "kernelspec": {
   "display_name": "DS_hw2",
   "language": "python",
   "name": "ds_hw2"
  },
  "language_info": {
   "codemirror_mode": {
    "name": "ipython",
    "version": 3
   },
   "file_extension": ".py",
   "mimetype": "text/x-python",
   "name": "python",
   "nbconvert_exporter": "python",
   "pygments_lexer": "ipython3",
   "version": "3.6.12-final"
  }
 },
 "nbformat": 4,
 "nbformat_minor": 4
}