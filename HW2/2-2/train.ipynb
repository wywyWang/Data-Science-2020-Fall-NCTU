{
 "metadata": {
  "language_info": {
   "codemirror_mode": {
    "name": "ipython",
    "version": 3
   },
   "file_extension": ".py",
   "mimetype": "text/x-python",
   "name": "python",
   "nbconvert_exporter": "python",
   "pygments_lexer": "ipython3",
   "version": "3.6.12-final"
  },
  "orig_nbformat": 2,
  "kernelspec": {
   "name": "Python 3.6.12 64-bit",
   "display_name": "Python 3.6.12 64-bit",
   "metadata": {
    "interpreter": {
     "hash": "de6ec751e8d816810380d8c8f13d270f86a313990c5d5930d253da012ff5e7fc"
    }
   }
  }
 },
 "nbformat": 4,
 "nbformat_minor": 2,
 "cells": [
  {
   "cell_type": "code",
   "execution_count": 1,
   "metadata": {},
   "outputs": [],
   "source": [
    "# common packages\n",
    "import pandas as pd\n",
    "import time\n",
    "\n",
    "# # DL framework\n",
    "import torch\n",
    "from torchtext import data\n",
    "\n",
    "from attractivedata import AttractiveData\n",
    "from trainer import AttractiveTrainer"
   ]
  },
  {
   "source": [
    "## Load and prepare data"
   ],
   "cell_type": "markdown",
   "metadata": {}
  },
  {
   "cell_type": "code",
   "execution_count": 2,
   "metadata": {},
   "outputs": [],
   "source": [
    "train_file = 'data/train.csv'\n",
    "test_file = 'data/test.csv'\n",
    "pretrained_file = 'glove.840B.300d'\n",
    "config = {\n",
    "    'max_seq': 40,\n",
    "    'min_freq': 0,\n",
    "    'batch_size': 64,\n",
    "    'pretrained_file': pretrained_file\n",
    "}\n"
   ]
  },
  {
   "cell_type": "code",
   "execution_count": 3,
   "metadata": {},
   "outputs": [],
   "source": [
    "AttractiveData = AttractiveData(train_file, test_file, pretrained_file, config)"
   ]
  },
  {
   "cell_type": "code",
   "execution_count": 4,
   "metadata": {},
   "outputs": [],
   "source": [
    "# for i, sentence in enumerate(AttractiveData.test_data):\n",
    "#     if i == 3:\n",
    "#         print(vars(AttractiveData.train_data[i]), vars(sentence))"
   ]
  },
  {
   "cell_type": "code",
   "execution_count": 5,
   "metadata": {},
   "outputs": [
    {
     "output_type": "execute_result",
     "data": {
      "text/plain": [
       "18"
      ]
     },
     "metadata": {},
     "execution_count": 5
    }
   ],
   "source": [
    "len(AttractiveData.CATEGORIES_LABEL.vocab.freqs)"
   ]
  },
  {
   "cell_type": "code",
   "execution_count": 6,
   "metadata": {},
   "outputs": [
    {
     "output_type": "execute_result",
     "data": {
      "text/plain": [
       "38"
      ]
     },
     "metadata": {},
     "execution_count": 6
    }
   ],
   "source": [
    "max_len = 0\n",
    "a = AttractiveData.train_data\n",
    "for i in range(len(a)):\n",
    "    if len(a[i].Headline) >= max_len:\n",
    "        max_len = len(a[i].Headline)\n",
    "max_len"
   ]
  },
  {
   "source": [
    "## Start to train"
   ],
   "cell_type": "markdown",
   "metadata": {}
  },
  {
   "cell_type": "code",
   "execution_count": 7,
   "metadata": {},
   "outputs": [
    {
     "output_type": "stream",
     "name": "stdout",
     "text": [
      "torch.Size([12699, 300])\n"
     ]
    }
   ],
   "source": [
    "config['timestr'] = time.strftime(\"%Y%m%d-%H%M%S\")\n",
    "config['save_name'] = 'CNN_LSTM'\n",
    "config['input_dim'] = len(AttractiveData.TEXT.vocab)\n",
    "config['embedding_dim'] = 300\n",
    "config['category_dim'] = len(AttractiveData.CATEGORIES_LABEL.vocab)\n",
    "config['category_embedding_dim'] = 5\n",
    "config['hidden_dim'] = 30\n",
    "config['output_dim'] = 1\n",
    "config['log_steps'] = 10\n",
    "config['epochs'] = 300\n",
    "config['lr'] = {\n",
    "    'encoder': 1e-5,\n",
    "    'embedding': 5e-6,\n",
    "    'linear': 1e-5\n",
    "}\n",
    "config['num_layers'] = 1\n",
    "config['kernel_size'] = 3\n",
    "config['dropout'] = 0.1\n",
    "config['train_len'] = AttractiveData.train_len\n",
    "config['val_len'] = AttractiveData.val_len\n",
    "config['test_len'] = AttractiveData.test_len\n",
    "\n",
    "pretrained_embeddings = AttractiveData.TEXT.vocab.vectors\n",
    "print(pretrained_embeddings.shape)"
   ]
  },
  {
   "cell_type": "code",
   "execution_count": 8,
   "metadata": {},
   "outputs": [],
   "source": [
    "AttractiveTrainer = AttractiveTrainer(config, AttractiveData.device, AttractiveData.trainloader, AttractiveData.valloader, pretrained_embeddings)"
   ]
  },
  {
   "cell_type": "code",
   "execution_count": 9,
   "metadata": {},
   "outputs": [
    {
     "output_type": "execute_result",
     "data": {
      "text/plain": [
       "(AttractiveNet(\n",
       "   (embedding): AttractiveEmbedding(\n",
       "     (token): TokenEmbedding(12699, 300, padding_idx=1)\n",
       "   )\n",
       "   (bigramcnn): Sequential(\n",
       "     (0): Conv1d(300, 220, kernel_size=(3,), stride=(1,), padding=(1,))\n",
       "     (1): ReLU()\n",
       "     (2): Conv1d(220, 150, kernel_size=(3,), stride=(1,), padding=(1,))\n",
       "     (3): ReLU()\n",
       "     (4): Conv1d(150, 100, kernel_size=(3,), stride=(1,), padding=(1,))\n",
       "     (5): ReLU()\n",
       "   )\n",
       "   (trigramcnn): Sequential(\n",
       "     (0): Conv1d(300, 220, kernel_size=(4,), stride=(1,), padding=(1,))\n",
       "     (1): ReLU()\n",
       "     (2): Conv1d(220, 150, kernel_size=(4,), stride=(1,), padding=(1,))\n",
       "     (3): ReLU()\n",
       "     (4): Conv1d(150, 100, kernel_size=(4,), stride=(1,), padding=(1,))\n",
       "     (5): ReLU()\n",
       "   )\n",
       "   (encoder_bigram): LSTM(100, 30, batch_first=True, dropout=0.1, bidirectional=True)\n",
       "   (encoder_trigram): LSTM(100, 30, batch_first=True, dropout=0.1, bidirectional=True)\n",
       "   (linear): Sequential(\n",
       "     (0): Linear(in_features=240, out_features=30, bias=True)\n",
       "     (1): ReLU()\n",
       "     (2): Linear(in_features=30, out_features=1, bias=True)\n",
       "   )\n",
       " ),\n",
       " 4679261,\n",
       " 869561)"
      ]
     },
     "metadata": {},
     "execution_count": 9
    }
   ],
   "source": [
    "AttractiveTrainer.model, AttractiveTrainer.config['total_params'], AttractiveTrainer.config['total_learned_params']"
   ]
  },
  {
   "cell_type": "code",
   "execution_count": 10,
   "metadata": {
    "tags": [
     "outputPrepend"
    ]
   },
   "outputs": [
    {
     "output_type": "stream",
     "name": "stderr",
     "text": [
      "03<00:55,  2.48it/s]\n",
      "EP_train | train loss: 0.02315290912109263 | val loss: 0.019074227295669856 |\n",
      "====\n",
      "Epoch:  54%|█████▍    | 162/300 [01:04<00:55,  2.51it/s]\n",
      "EP_train | train loss: 0.0179037319094527 | val loss: 0.018737982301151052 |\n",
      "====\n",
      "Epoch:  54%|█████▍    | 163/300 [01:04<00:54,  2.52it/s]\n",
      "EP_train | train loss: 0.013784760821099374 | val loss: 0.01308982833927753 |\n",
      "====\n",
      "Epoch:  55%|█████▍    | 164/300 [01:04<00:53,  2.54it/s]\n",
      "EP_train | train loss: 0.014844400742474725 | val loss: 0.014604794044120639 |\n",
      "====\n",
      "Epoch:  55%|█████▌    | 165/300 [01:05<00:53,  2.53it/s]\n",
      "EP_train | train loss: 0.010929826354863597 | val loss: 0.011975459608377195 |\n",
      "====\n",
      "Epoch:  55%|█████▌    | 166/300 [01:05<00:53,  2.51it/s]\n",
      "EP_train | train loss: 0.012628273592860092 | val loss: 0.010654154945822322 |\n",
      "====\n",
      "Epoch:  56%|█████▌    | 167/300 [01:06<00:52,  2.52it/s]\n",
      "EP_train | train loss: 0.009567851923844394 | val loss: 0.008477342187189589 |\n",
      "====\n",
      "Epoch:  56%|█████▌    | 168/300 [01:06<00:52,  2.53it/s]\n",
      "EP_train | train loss: 0.008464382530427446 | val loss: 0.009324284453018038 |\n",
      "====\n",
      "Epoch:  56%|█████▋    | 169/300 [01:06<00:51,  2.54it/s]\n",
      "EP_train | train loss: 0.008592738839341144 | val loss: 0.008304934875637876 |\n",
      "====\n",
      "Epoch:  57%|█████▋    | 170/300 [01:07<00:51,  2.54it/s]\n",
      "EP_train | train loss: 0.006260428051738178 | val loss: 0.006287209543527341 |\n",
      "====\n",
      "Epoch:  57%|█████▋    | 171/300 [01:07<00:51,  2.51it/s]\n",
      "EP_train | train loss: 0.007546879234267216 | val loss: 0.007115221783226612 |\n",
      "====\n",
      "Epoch:  57%|█████▋    | 172/300 [01:08<00:50,  2.52it/s]\n",
      "EP_train | train loss: 0.0055293687272305585 | val loss: 0.005102308649642795 |\n",
      "====\n",
      "Epoch:  58%|█████▊    | 173/300 [01:08<00:50,  2.53it/s]\n",
      "EP_train | train loss: 0.005367515944674903 | val loss: 0.005586110055446625 |\n",
      "====\n",
      "Epoch:  58%|█████▊    | 174/300 [01:08<00:49,  2.53it/s]\n",
      "EP_train | train loss: 0.009367748335296033 | val loss: 0.010757449210858812 |\n",
      "====\n",
      "Epoch:  58%|█████▊    | 175/300 [01:09<00:49,  2.54it/s]\n",
      "EP_train | train loss: 0.006701442752690876 | val loss: 0.005807391276546553 |\n",
      "====\n",
      "Epoch:  59%|█████▊    | 176/300 [01:09<00:48,  2.53it/s]\n",
      "EP_train | train loss: 0.0036015325061538642 | val loss: 0.004020179311434428 |\n",
      "====\n",
      "Epoch:  59%|█████▉    | 177/300 [01:10<00:48,  2.54it/s]\n",
      "EP_train | train loss: 0.0043819924779966764 | val loss: 0.004738616884923449 |\n",
      "====\n",
      "Epoch:  59%|█████▉    | 178/300 [01:10<00:47,  2.54it/s]\n",
      "EP_train | train loss: 0.003386365918113905 | val loss: 0.0038421709163516176 |\n",
      "====\n",
      "Epoch:  60%|█████▉    | 179/300 [01:10<00:47,  2.54it/s]\n",
      "EP_train | train loss: 0.0027526377097648732 | val loss: 0.003703015253824346 |\n",
      "====\n",
      "Epoch:  60%|██████    | 180/300 [01:11<00:47,  2.55it/s]\n",
      "EP_train | train loss: 0.0022914886547654285 | val loss: 0.0031178437319456364 |\n",
      "====\n",
      "Epoch:  60%|██████    | 181/300 [01:11<00:47,  2.51it/s]\n",
      "EP_train | train loss: 0.0018829302204882398 | val loss: 0.002496159909402623 |\n",
      "====\n",
      "Epoch:  61%|██████    | 182/300 [01:12<00:46,  2.52it/s]\n",
      "EP_train | train loss: 0.0021942106532115563 | val loss: 0.0025704077938023735 |\n",
      "====\n",
      "Epoch:  61%|██████    | 183/300 [01:12<00:46,  2.52it/s]\n",
      "EP_train | train loss: 0.003159882822165302 | val loss: 0.0040571359442729575 |\n",
      "====\n",
      "Epoch:  61%|██████▏   | 184/300 [01:12<00:45,  2.53it/s]\n",
      "EP_train | train loss: 0.0014744997864552572 | val loss: 0.0022350998924059026 |\n",
      "====\n",
      "Epoch:  62%|██████▏   | 185/300 [01:13<00:45,  2.53it/s]\n",
      "EP_train | train loss: 0.0013528092536052652 | val loss: 0.0019520696106494642 |\n",
      "====\n",
      "Epoch:  62%|██████▏   | 186/300 [01:13<00:45,  2.53it/s]\n",
      "EP_train | train loss: 0.001290414330786934 | val loss: 0.001878978757589471 |\n",
      "====\n",
      "Epoch:  62%|██████▏   | 187/300 [01:14<00:44,  2.53it/s]\n",
      "EP_train | train loss: 0.0011744965187401749 | val loss: 0.001907800488612231 |\n",
      "====\n",
      "Epoch:  63%|██████▎   | 188/300 [01:14<00:44,  2.51it/s]\n",
      "EP_train | train loss: 0.001093178294489489 | val loss: 0.0017242227845332202 |\n",
      "====\n",
      "Epoch:  63%|██████▎   | 189/300 [01:14<00:44,  2.52it/s]\n",
      "EP_train | train loss: 0.0008946097373743267 | val loss: 0.001466091649205077 |\n",
      "====\n",
      "Epoch:  63%|██████▎   | 190/300 [01:15<00:43,  2.54it/s]\n",
      "EP_train | train loss: 0.0009967847946373855 | val loss: 0.0015233341312291576 |\n",
      "====\n",
      "Epoch:  64%|██████▎   | 191/300 [01:15<00:43,  2.50it/s]\n",
      "EP_train | train loss: 0.0008087237931641878 | val loss: 0.001460781101794804 |\n",
      "====\n",
      "Epoch:  64%|██████▍   | 192/300 [01:16<00:42,  2.52it/s]\n",
      "EP_train | train loss: 0.0007195742385388881 | val loss: 0.0012474131642603407 |\n",
      "====\n",
      "Epoch:  64%|██████▍   | 193/300 [01:16<00:42,  2.54it/s]\n",
      "EP_train | train loss: 0.0013342239893972875 | val loss: 0.0016832033573996787 |\n",
      "====\n",
      "Epoch:  65%|██████▍   | 194/300 [01:16<00:41,  2.54it/s]\n",
      "EP_train | train loss: 0.0007461914413736439 | val loss: 0.001292545384928292 |\n",
      "====\n",
      "Epoch:  65%|██████▌   | 195/300 [01:17<00:41,  2.56it/s]\n",
      "EP_train | train loss: 0.0005993283399399004 | val loss: 0.0011717341475042642 |\n",
      "====\n",
      "Epoch:  65%|██████▌   | 196/300 [01:17<00:40,  2.56it/s]\n",
      "EP_train | train loss: 0.0006129539941492326 | val loss: 0.0010673118864788728 |\n",
      "====\n",
      "Epoch:  66%|██████▌   | 197/300 [01:18<00:40,  2.55it/s]\n",
      "EP_train | train loss: 0.0004853568030703886 | val loss: 0.0009293112648176212 |\n",
      "====\n",
      "Epoch:  66%|██████▌   | 198/300 [01:18<00:40,  2.53it/s]\n",
      "EP_train | train loss: 0.0004860784082363049 | val loss: 0.0008894444132844607 |\n",
      "====\n",
      "Epoch:  66%|██████▋   | 199/300 [01:18<00:40,  2.52it/s]\n",
      "EP_train | train loss: 0.0004487857108424399 | val loss: 0.0008286292682967934 |\n",
      "====\n",
      "Epoch:  67%|██████▋   | 200/300 [01:19<00:39,  2.54it/s]\n",
      "EP_train | train loss: 0.000704524792073404 | val loss: 0.0011609400092971092 |\n",
      "====\n",
      "Epoch:  67%|██████▋   | 201/300 [01:19<00:39,  2.50it/s]\n",
      "EP_train | train loss: 0.0004070305676363847 | val loss: 0.0007931794606003107 |\n",
      "====\n",
      "Epoch:  67%|██████▋   | 202/300 [01:20<00:38,  2.52it/s]\n",
      "EP_train | train loss: 0.00035729312484024785 | val loss: 0.0007207491709028973 |\n",
      "====\n",
      "Epoch:  68%|██████▊   | 203/300 [01:20<00:38,  2.52it/s]\n",
      "EP_train | train loss: 0.0005869692145828523 | val loss: 0.0008996722891050227 |\n",
      "====\n",
      "Epoch:  68%|██████▊   | 204/300 [01:20<00:38,  2.53it/s]\n",
      "EP_train | train loss: 0.0003107056946164983 | val loss: 0.0005987669688229467 |\n",
      "====\n",
      "Epoch:  68%|██████▊   | 205/300 [01:21<00:37,  2.54it/s]\n",
      "EP_train | train loss: 0.000333228904763054 | val loss: 0.000595218155021761 |\n",
      "====\n",
      "Epoch:  69%|██████▊   | 206/300 [01:21<00:37,  2.54it/s]\n",
      "EP_train | train loss: 0.00025304543053019133 | val loss: 0.0005312128832527235 |\n",
      "====\n",
      "Epoch:  69%|██████▉   | 207/300 [01:21<00:36,  2.54it/s]\n",
      "EP_train | train loss: 0.00034031053393275714 | val loss: 0.0005795189782100566 |\n",
      "====\n",
      "Epoch:  69%|██████▉   | 208/300 [01:22<00:36,  2.55it/s]\n",
      "EP_train | train loss: 0.0002518370863981545 | val loss: 0.0004955929357047175 |\n",
      "====\n",
      "Epoch:  70%|██████▉   | 209/300 [01:22<00:35,  2.53it/s]\n",
      "EP_train | train loss: 0.0002194037533127794 | val loss: 0.0004433960489490453 |\n",
      "====\n",
      "Epoch:  70%|███████   | 210/300 [01:23<00:35,  2.55it/s]\n",
      "EP_train | train loss: 0.0002071777106417964 | val loss: 0.00043820586128562105 |\n",
      "====\n",
      "Epoch:  70%|███████   | 211/300 [01:23<00:35,  2.50it/s]\n",
      "EP_train | train loss: 0.00021504311726483353 | val loss: 0.0003964673800795686 |\n",
      "====\n",
      "Epoch:  71%|███████   | 212/300 [01:23<00:34,  2.52it/s]\n",
      "EP_train | train loss: 0.00020190048186729352 | val loss: 0.0003612724808501262 |\n",
      "====\n",
      "Epoch:  71%|███████   | 213/300 [01:24<00:34,  2.52it/s]\n",
      "EP_train | train loss: 0.00018136757460203678 | val loss: 0.0003581822338495769 |\n",
      "====\n",
      "Epoch:  71%|███████▏  | 214/300 [01:24<00:34,  2.52it/s]\n",
      "EP_train | train loss: 0.00018147746484507534 | val loss: 0.0003297527083287052 |\n",
      "====\n",
      "Epoch:  72%|███████▏  | 215/300 [01:25<00:33,  2.53it/s]\n",
      "EP_train | train loss: 0.00017965155854529025 | val loss: 0.0003516570865815761 |\n",
      "====\n",
      "Epoch:  72%|███████▏  | 216/300 [01:25<00:33,  2.53it/s]\n",
      "EP_train | train loss: 0.00016797863143295342 | val loss: 0.0002955176557103793 |\n",
      "====\n",
      "Epoch:  72%|███████▏  | 217/300 [01:25<00:32,  2.54it/s]\n",
      "EP_train | train loss: 0.00015341152628774152 | val loss: 0.0002866023147076953 |\n",
      "====\n",
      "Epoch:  73%|███████▎  | 218/300 [01:26<00:32,  2.54it/s]\n",
      "EP_train | train loss: 0.00018494782887180063 | val loss: 0.0002456324302828779 |\n",
      "====\n",
      "Epoch:  73%|███████▎  | 219/300 [01:26<00:32,  2.53it/s]\n",
      "EP_train | train loss: 0.0001371286364897684 | val loss: 0.00024008724436748262 |\n",
      "====\n",
      "Epoch:  73%|███████▎  | 220/300 [01:27<00:31,  2.53it/s]\n",
      "EP_train | train loss: 0.00018879360697396537 | val loss: 0.00029322071293113276 |\n",
      "====\n",
      "Epoch:  74%|███████▎  | 221/300 [01:27<00:31,  2.48it/s]\n",
      "EP_train | train loss: 0.00025307685638978783 | val loss: 0.00031940977764772436 |\n",
      "====\n",
      "Epoch:  74%|███████▍  | 222/300 [01:27<00:31,  2.50it/s]\n",
      "EP_train | train loss: 0.00012503789410259867 | val loss: 0.0002056332305073738 |\n",
      "====\n",
      "Epoch:  74%|███████▍  | 223/300 [01:28<00:30,  2.52it/s]\n",
      "EP_train | train loss: 0.00012065861191527516 | val loss: 0.0001910209619239265 |\n",
      "====\n",
      "Epoch:  75%|███████▍  | 224/300 [01:28<00:30,  2.53it/s]\n",
      "EP_train | train loss: 0.00015387878691613236 | val loss: 0.00021122805043762805 |\n",
      "====\n",
      "Epoch:  75%|███████▌  | 225/300 [01:29<00:29,  2.53it/s]\n",
      "EP_train | train loss: 0.00011931862790530146 | val loss: 0.00016962819477068443 |\n",
      "====\n",
      "Epoch:  75%|███████▌  | 226/300 [01:29<00:29,  2.53it/s]\n",
      "EP_train | train loss: 0.00015001467305838186 | val loss: 0.00020809236037380556 |\n",
      "====\n",
      "Epoch:  76%|███████▌  | 227/300 [01:29<00:28,  2.53it/s]\n",
      "EP_train | train loss: 0.00015815528493155453 | val loss: 0.00022765894548273553 |\n",
      "====\n",
      "Epoch:  76%|███████▌  | 228/300 [01:30<00:28,  2.54it/s]\n",
      "EP_train | train loss: 0.00010298073226722943 | val loss: 0.00014727028525050948 |\n",
      "====\n",
      "Epoch:  76%|███████▋  | 229/300 [01:30<00:27,  2.54it/s]\n",
      "EP_train | train loss: 0.00011223786939665967 | val loss: 0.00017153310096439193 |\n",
      "====\n",
      "Epoch:  77%|███████▋  | 230/300 [01:31<00:27,  2.54it/s]\n",
      "EP_train | train loss: 9.344207732390393e-05 | val loss: 0.0001098549440868345 |\n",
      "====\n",
      "Epoch:  77%|███████▋  | 231/300 [01:31<00:27,  2.51it/s]\n",
      "EP_train | train loss: 9.260253253730708e-05 | val loss: 0.00012974560205989024 |\n",
      "====\n",
      "Epoch:  77%|███████▋  | 232/300 [01:31<00:27,  2.51it/s]\n",
      "EP_train | train loss: 8.574761935354521e-05 | val loss: 0.00012467793353340204 |\n",
      "====\n",
      "Epoch:  78%|███████▊  | 233/300 [01:32<00:26,  2.51it/s]\n",
      "EP_train | train loss: 8.35325538954588e-05 | val loss: 0.0001087841011729895 |\n",
      "====\n",
      "Epoch:  78%|███████▊  | 234/300 [01:32<00:26,  2.52it/s]\n",
      "EP_train | train loss: 7.381949280719638e-05 | val loss: 9.349428628589593e-05 |\n",
      "====\n",
      "Epoch:  78%|███████▊  | 235/300 [01:33<00:25,  2.53it/s]\n",
      "EP_train | train loss: 8.770708330249524e-05 | val loss: 0.00011512499722633876 |\n",
      "====\n",
      "Epoch:  79%|███████▊  | 236/300 [01:33<00:25,  2.53it/s]\n",
      "EP_train | train loss: 6.766823786949994e-05 | val loss: 9.049845439400159e-05 |\n",
      "====\n",
      "Epoch:  79%|███████▉  | 237/300 [01:33<00:24,  2.54it/s]\n",
      "EP_train | train loss: 6.932166054634852e-05 | val loss: 8.912401858205889e-05 |\n",
      "====\n",
      "Epoch:  79%|███████▉  | 238/300 [01:34<00:24,  2.54it/s]\n",
      "EP_train | train loss: 7.104847024368378e-05 | val loss: 8.292337331701728e-05 |\n",
      "====\n",
      "Epoch:  80%|███████▉  | 239/300 [01:34<00:23,  2.55it/s]\n",
      "EP_train | train loss: 6.751229926058109e-05 | val loss: 8.228263936425541e-05 |\n",
      "====\n",
      "Epoch:  80%|████████  | 240/300 [01:35<00:23,  2.55it/s]\n",
      "EP_train | train loss: 7.293919796425411e-05 | val loss: 8.777114243118787e-05 |\n",
      "====\n",
      "Epoch:  80%|████████  | 241/300 [01:35<00:23,  2.51it/s]\n",
      "EP_train | train loss: 6.736280110107698e-05 | val loss: 7.048382779912037e-05 |\n",
      "====\n",
      "Epoch:  81%|████████  | 242/300 [01:35<00:23,  2.51it/s]\n",
      "EP_train | train loss: 6.55334767846701e-05 | val loss: 7.143107872894582e-05 |\n",
      "====\n",
      "Epoch:  81%|████████  | 243/300 [01:36<00:22,  2.51it/s]\n",
      "EP_train | train loss: 0.0001203609874709418 | val loss: 0.00011913196695055448 |\n",
      "====\n",
      "Epoch:  81%|████████▏ | 244/300 [01:36<00:22,  2.52it/s]\n",
      "EP_train | train loss: 5.7590267162738075e-05 | val loss: 6.247328037359551e-05 |\n",
      "====\n",
      "Epoch:  82%|████████▏ | 245/300 [01:37<00:21,  2.53it/s]\n",
      "EP_train | train loss: 5.891230850430279e-05 | val loss: 5.843606092693175e-05 |\n",
      "====\n",
      "Epoch:  82%|████████▏ | 246/300 [01:37<00:21,  2.54it/s]\n",
      "EP_train | train loss: 5.959658629566833e-05 | val loss: 5.5281415709531775e-05 |\n",
      "====\n",
      "Epoch:  82%|████████▏ | 247/300 [01:37<00:20,  2.53it/s]\n",
      "EP_train | train loss: 7.679289801493652e-05 | val loss: 7.054992659273101e-05 |\n",
      "====\n",
      "Epoch:  83%|████████▎ | 248/300 [01:38<00:20,  2.55it/s]\n",
      "EP_train | train loss: 6.479468957324713e-05 | val loss: 5.962012801319361e-05 |\n",
      "====\n",
      "Epoch:  83%|████████▎ | 249/300 [01:38<00:20,  2.55it/s]\n",
      "EP_train | train loss: 9.871584456870515e-05 | val loss: 8.615508091215994e-05 |\n",
      "====\n",
      "Epoch:  83%|████████▎ | 250/300 [01:38<00:19,  2.56it/s]\n",
      "EP_train | train loss: 7.854071885173885e-05 | val loss: 6.252780611462453e-05 |\n",
      "====\n",
      "Epoch:  84%|████████▎ | 251/300 [01:39<00:19,  2.52it/s]\n",
      "EP_train | train loss: 5.2106051218431154e-05 | val loss: 4.001229649920966e-05 |\n",
      "====\n",
      "Epoch:  84%|████████▍ | 252/300 [01:39<00:19,  2.51it/s]\n",
      "EP_train | train loss: 0.00010857931429556771 | val loss: 9.331591518632337e-05 |\n",
      "====\n",
      "Epoch:  84%|████████▍ | 253/300 [01:40<00:18,  2.52it/s]\n",
      "EP_train | train loss: 7.23242493204809e-05 | val loss: 6.270586449068552e-05 |\n",
      "====\n",
      "Epoch:  85%|████████▍ | 254/300 [01:40<00:18,  2.52it/s]\n",
      "EP_train | train loss: 5.8143870766941166e-05 | val loss: 4.056353103734699e-05 |\n",
      "====\n",
      "Epoch:  85%|████████▌ | 255/300 [01:40<00:17,  2.53it/s]\n",
      "EP_train | train loss: 9.14978108816214e-05 | val loss: 7.708035363797463e-05 |\n",
      "====\n",
      "Epoch:  85%|████████▌ | 256/300 [01:41<00:17,  2.54it/s]\n",
      "EP_train | train loss: 5.205151945690387e-05 | val loss: 4.035732526259095e-05 |\n",
      "====\n",
      "Epoch:  86%|████████▌ | 257/300 [01:41<00:16,  2.54it/s]\n",
      "EP_train | train loss: 4.516791294936054e-05 | val loss: 2.657291114184202e-05 |\n",
      "====\n",
      "Epoch:  86%|████████▌ | 258/300 [01:42<00:16,  2.54it/s]\n",
      "EP_train | train loss: 5.219215704082493e-05 | val loss: 3.583161685360121e-05 |\n",
      "====\n",
      "Epoch:  86%|████████▋ | 259/300 [01:42<00:16,  2.54it/s]\n",
      "EP_train | train loss: 4.763239003117562e-05 | val loss: 2.4257539360619642e-05 |\n",
      "====\n",
      "Epoch:  87%|████████▋ | 260/300 [01:42<00:15,  2.54it/s]\n",
      "EP_train | train loss: 4.884073694519625e-05 | val loss: 2.715250650676442e-05 |\n",
      "====\n",
      "Epoch:  87%|████████▋ | 261/300 [01:43<00:15,  2.50it/s]\n",
      "EP_train | train loss: 5.2381998074113156e-05 | val loss: 3.2230160500415985e-05 |\n",
      "====\n",
      "Epoch:  87%|████████▋ | 262/300 [01:43<00:15,  2.51it/s]\n",
      "EP_train | train loss: 5.133880802211078e-05 | val loss: 3.0920105785423636e-05 |\n",
      "====\n",
      "Epoch:  88%|████████▊ | 263/300 [01:44<00:14,  2.51it/s]\n",
      "EP_train | train loss: 4.4099660590291025e-05 | val loss: 2.103702361494595e-05 |\n",
      "====\n",
      "Epoch:  88%|████████▊ | 264/300 [01:44<00:14,  2.51it/s]\n",
      "EP_train | train loss: 4.294080847067366e-05 | val loss: 1.9654084919203144e-05 |\n",
      "====\n",
      "Epoch:  88%|████████▊ | 265/300 [01:44<00:13,  2.52it/s]\n",
      "EP_train | train loss: 4.215964574684097e-05 | val loss: 1.943920049633758e-05 |\n",
      "====\n",
      "Epoch:  89%|████████▊ | 266/300 [01:45<00:13,  2.53it/s]\n",
      "EP_train | train loss: 5.3204828958876214e-05 | val loss: 2.970490102455312e-05 |\n",
      "====\n",
      "Epoch:  89%|████████▉ | 267/300 [01:45<00:13,  2.53it/s]\n",
      "EP_train | train loss: 5.345195081021053e-05 | val loss: 3.286280244698419e-05 |\n",
      "====\n",
      "Epoch:  89%|████████▉ | 268/300 [01:46<00:12,  2.53it/s]\n",
      "EP_train | train loss: 4.726740642617384e-05 | val loss: 2.0126395575775234e-05 |\n",
      "====\n",
      "Epoch:  90%|████████▉ | 269/300 [01:46<00:12,  2.53it/s]\n",
      "EP_train | train loss: 4.2213537395297205e-05 | val loss: 1.5239888692603391e-05 |\n",
      "====\n",
      "Epoch:  90%|█████████ | 270/300 [01:46<00:11,  2.53it/s]\n",
      "EP_train | train loss: 3.817294957972241e-05 | val loss: 1.381369143286172e-05 |\n",
      "====\n",
      "Epoch:  90%|█████████ | 271/300 [01:47<00:11,  2.50it/s]\n",
      "EP_train | train loss: 3.7243547001922065e-05 | val loss: 1.1719455691419688e-05 |\n",
      "====\n",
      "Epoch:  91%|█████████ | 272/300 [01:47<00:11,  2.47it/s]\n",
      "EP_train | train loss: 8.32899611708069e-05 | val loss: 5.354737068581231e-05 |\n",
      "====\n",
      "Epoch:  91%|█████████ | 273/300 [01:48<00:10,  2.49it/s]\n",
      "EP_train | train loss: 3.972356441640752e-05 | val loss: 1.3536648076100677e-05 |\n",
      "====\n",
      "Epoch:  91%|█████████▏| 274/300 [01:48<00:10,  2.50it/s]\n",
      "EP_train | train loss: 3.987128007329553e-05 | val loss: 1.12827527154164e-05 |\n",
      "====\n",
      "Epoch:  92%|█████████▏| 275/300 [01:48<00:09,  2.52it/s]\n",
      "EP_train | train loss: 4.046830805486488e-05 | val loss: 1.3820189005677022e-05 |\n",
      "====\n",
      "Epoch:  92%|█████████▏| 276/300 [01:49<00:09,  2.51it/s]\n",
      "EP_train | train loss: 4.416839392255426e-05 | val loss: 1.6180218046750216e-05 |\n",
      "====\n",
      "Epoch:  92%|█████████▏| 277/300 [01:49<00:09,  2.53it/s]\n",
      "EP_train | train loss: 3.969176452978989e-05 | val loss: 1.4013750592757966e-05 |\n",
      "====\n",
      "Epoch:  93%|█████████▎| 278/300 [01:50<00:08,  2.54it/s]\n",
      "EP_train | train loss: 3.9470273280612136e-05 | val loss: 1.1061868908833348e-05 |\n",
      "====\n",
      "Epoch:  93%|█████████▎| 279/300 [01:50<00:08,  2.53it/s]\n",
      "EP_train | train loss: 3.943261330919888e-05 | val loss: 1.0685729292020493e-05 |\n",
      "====\n",
      "Epoch:  93%|█████████▎| 280/300 [01:50<00:07,  2.51it/s]\n",
      "EP_train | train loss: 3.8697792136671895e-05 | val loss: 1.2526589938822914e-05 |\n",
      "====\n",
      "Epoch:  94%|█████████▎| 281/300 [01:51<00:07,  2.49it/s]\n",
      "EP_train | train loss: 6.418142287407582e-05 | val loss: 3.322006623242416e-05 |\n",
      "====\n",
      "Epoch:  94%|█████████▍| 282/300 [01:51<00:07,  2.51it/s]\n",
      "EP_train | train loss: 3.8570600201423716e-05 | val loss: 1.1484607752850826e-05 |\n",
      "====\n",
      "Epoch:  94%|█████████▍| 283/300 [01:52<00:06,  2.52it/s]\n",
      "EP_train | train loss: 3.8297871608793844e-05 | val loss: 9.782050791032174e-06 |\n",
      "====\n",
      "Epoch:  95%|█████████▍| 284/300 [01:52<00:06,  2.51it/s]\n",
      "EP_train | train loss: 4.8634356176526304e-05 | val loss: 1.9472072416843446e-05 |\n",
      "====\n",
      "Epoch:  95%|█████████▌| 285/300 [01:52<00:05,  2.53it/s]\n",
      "EP_train | train loss: 8.7170106445567e-05 | val loss: 5.663357282459152e-05 |\n",
      "====\n",
      "Epoch:  95%|█████████▌| 286/300 [01:53<00:05,  2.54it/s]\n",
      "EP_train | train loss: 3.7908892394910914e-05 | val loss: 7.518090070316605e-06 |\n",
      "====\n",
      "Epoch:  96%|█████████▌| 287/300 [01:53<00:05,  2.54it/s]\n",
      "EP_train | train loss: 8.300361805595458e-05 | val loss: 5.9030672727043135e-05 |\n",
      "====\n",
      "Epoch:  96%|█████████▌| 288/300 [01:54<00:04,  2.54it/s]\n",
      "EP_train | train loss: 4.692089632062205e-05 | val loss: 1.9223687202468808e-05 |\n",
      "====\n",
      "Epoch:  96%|█████████▋| 289/300 [01:54<00:04,  2.54it/s]\n",
      "EP_train | train loss: 9.462012162925128e-05 | val loss: 6.32828188256598e-05 |\n",
      "====\n",
      "Epoch:  97%|█████████▋| 290/300 [01:54<00:03,  2.53it/s]\n",
      "EP_train | train loss: 3.770988008838293e-05 | val loss: 9.075343875926646e-06 |\n",
      "====\n",
      "Epoch:  97%|█████████▋| 291/300 [01:55<00:03,  2.50it/s]\n",
      "EP_train | train loss: 5.564700969604447e-05 | val loss: 2.4481937882727852e-05 |\n",
      "====\n",
      "Epoch:  97%|█████████▋| 292/300 [01:55<00:03,  2.50it/s]\n",
      "EP_train | train loss: 5.8105093308304456e-05 | val loss: 2.6266833575552e-05 |\n",
      "====\n",
      "Epoch:  98%|█████████▊| 293/300 [01:56<00:02,  2.45it/s]\n",
      "EP_train | train loss: 4.554326938780244e-05 | val loss: 1.7915349613473402e-05 |\n",
      "====\n",
      "Epoch:  98%|█████████▊| 294/300 [01:56<00:02,  2.45it/s]\n",
      "EP_train | train loss: 4.2002802622258005e-05 | val loss: 1.2347171101353916e-05 |\n",
      "====\n",
      "Epoch:  98%|█████████▊| 295/300 [01:56<00:02,  2.48it/s]\n",
      "EP_train | train loss: 0.00010490307844627429 | val loss: 6.947610938154599e-05 |\n",
      "====\n",
      "Epoch:  99%|█████████▊| 296/300 [01:57<00:01,  2.50it/s]\n",
      "EP_train | train loss: 3.996275068037029e-05 | val loss: 1.0866477775077025e-05 |\n",
      "====\n",
      "Epoch:  99%|█████████▉| 297/300 [01:57<00:01,  2.50it/s]\n",
      "EP_train | train loss: 6.789622204058675e-05 | val loss: 3.6197150692197625e-05 |\n",
      "====\n",
      "Epoch:  99%|█████████▉| 298/300 [01:58<00:00,  2.49it/s]\n",
      "EP_train | train loss: 0.00011631834352681158 | val loss: 8.804751012255164e-05 |\n",
      "====\n",
      "Epoch: 100%|█████████▉| 299/300 [01:58<00:00,  2.50it/s]\n",
      "EP_train | train loss: 5.245845292366165e-05 | val loss: 2.1143675457649662e-05 |\n",
      "====\n",
      "Epoch: 100%|██████████| 300/300 [01:58<00:00,  2.52it/s]\n",
      "EP_train | train loss: 5.110980541669015e-05 | val loss: 2.1622628064862654e-05 |\n",
      "\n"
     ]
    }
   ],
   "source": [
    "AttractiveTrainer.train()"
   ]
  },
  {
   "source": [
    "## for classification, not better"
   ],
   "cell_type": "markdown",
   "metadata": {}
  },
  {
   "source": [
    "## Below is testing"
   ],
   "cell_type": "markdown",
   "metadata": {}
  },
  {
   "cell_type": "code",
   "execution_count": 8,
   "metadata": {},
   "outputs": [
    {
     "output_type": "execute_result",
     "data": {
      "text/plain": [
       "AttractiveNet(\n",
       "  (embedding): AttractiveEmbedding(\n",
       "    (token): TokenEmbedding(12699, 300, padding_idx=1)\n",
       "  )\n",
       "  (bigramcnn): Sequential(\n",
       "    (0): Conv1d(300, 220, kernel_size=(2,), stride=(1,), padding=(1,))\n",
       "    (1): ReLU()\n",
       "    (2): Conv1d(220, 150, kernel_size=(2,), stride=(1,), padding=(1,))\n",
       "    (3): ReLU()\n",
       "    (4): Conv1d(150, 100, kernel_size=(2,), stride=(1,), padding=(1,))\n",
       "    (5): ReLU()\n",
       "  )\n",
       "  (trigramcnn): Sequential(\n",
       "    (0): Conv1d(300, 220, kernel_size=(3,), stride=(1,), padding=(1,))\n",
       "    (1): ReLU()\n",
       "    (2): Conv1d(220, 150, kernel_size=(3,), stride=(1,), padding=(1,))\n",
       "    (3): ReLU()\n",
       "    (4): Conv1d(150, 100, kernel_size=(3,), stride=(1,), padding=(1,))\n",
       "    (5): ReLU()\n",
       "  )\n",
       "  (encoder_bigram): LSTM(100, 30, batch_first=True, dropout=0.1, bidirectional=True)\n",
       "  (encoder_trigram): LSTM(100, 30, batch_first=True, dropout=0.1, bidirectional=True)\n",
       "  (linear): Sequential(\n",
       "    (0): Linear(in_features=240, out_features=30, bias=True)\n",
       "    (1): ReLU()\n",
       "    (2): Linear(in_features=30, out_features=1, bias=True)\n",
       "  )\n",
       ")"
      ]
     },
     "metadata": {},
     "execution_count": 8
    }
   ],
   "source": [
    "from attractivenet import AttractiveNet\n",
    "PATH = './model/CNN_LSTM_20201101-230925_0.4092.170'\n",
    "# load_model = TransformerModel(config).to(AttractiveData.device)\n",
    "load_model = AttractiveNet(config).to(AttractiveData.device)\n",
    "load_model.load_state_dict(torch.load(PATH))\n",
    "load_model.eval()"
   ]
  },
  {
   "cell_type": "code",
   "execution_count": 9,
   "metadata": {},
   "outputs": [],
   "source": [
    "def predict_attractive(sentence, category, phase):\n",
    "    # if len(sentence) < config['max_seq']:\n",
    "    #     sentence += ['0'] * (config['max_seq'] - len(sentence))\n",
    "    # else:\n",
    "    #     sentence = sentence[:config['max_seq']]\n",
    "\n",
    "    indexed_sentence = [AttractiveData.TEXT.vocab.stoi[t] for t in sentence]\n",
    "    indexed_category = [AttractiveData.CATEGORIES_LABEL.vocab.stoi[category]]\n",
    "    tensor_sentence = torch.LongTensor(indexed_sentence).to(AttractiveData.device)\n",
    "    tensor_category = torch.LongTensor(indexed_category).to(AttractiveData.device)\n",
    "\n",
    "    tensor_sentence = tensor_sentence.unsqueeze(0)\n",
    "    # print(tensor_sentence.shape)\n",
    "\n",
    "    prediction = load_model(tensor_sentence, tensor_category, phase=phase)\n",
    "\n",
    "    # after_decimal = prediction % 1\n",
    "    # possible_list = [0.0, 0.3333333333333333, 0.6666666666666665, 0.5, 1.0]\n",
    "    # closet_idx = None\n",
    "    # closet_distance = 1\n",
    "    # for i in range(len(possible_list)):\n",
    "    #     if abs(after_decimal - possible_list[i]) <= closet_distance:\n",
    "    #         closet_idx = i\n",
    "    #         closet_distance = abs(after_decimal - possible_list[i])\n",
    "    # prediction = (prediction // 1) + possible_list[closet_idx]\n",
    "    \n",
    "    return prediction"
   ]
  },
  {
   "cell_type": "code",
   "execution_count": 10,
   "metadata": {
    "tags": []
   },
   "outputs": [],
   "source": [
    "# train mean = 3.15, test mean = 2.8\n",
    "predict_list = []\n",
    "with torch.no_grad():\n",
    "    for i, sentence in enumerate(AttractiveData.test_data):\n",
    "        prediction = predict_attractive(sentence.Headline, sentence.Category, 'test')\n",
    "        predict_list.append(prediction.item())\n",
    "        # predict_list.append(prediction.item())\n",
    "AttractiveData.df_test['Label'] = predict_list\n",
    "AttractiveData.df_test[['ID', 'Label']].to_csv(config['save_name'] + '.csv', index=False)"
   ]
  },
  {
   "source": [
    "## Below just for fun guess"
   ],
   "cell_type": "markdown",
   "metadata": {}
  },
  {
   "cell_type": "code",
   "execution_count": 11,
   "metadata": {},
   "outputs": [],
   "source": [
    "import statistics\n",
    "from sklearn.metrics import mean_squared_error"
   ]
  },
  {
   "cell_type": "code",
   "execution_count": 12,
   "metadata": {},
   "outputs": [
    {
     "output_type": "execute_result",
     "data": {
      "text/plain": [
       "(0.41946680415193016, 3.20405472166398, 0.23809480936433933)"
      ]
     },
     "metadata": {},
     "execution_count": 12
    }
   ],
   "source": [
    "# train mean = 3.15, test mean = 2.8\n",
    "train_list = []\n",
    "for i, sentence in enumerate(AttractiveData.train_data):\n",
    "    prediction = predict_attractive(sentence.Headline, sentence.Category, 'train')\n",
    "    train_list.append(prediction.item())\n",
    "    # train_list.append(prediction.item())\n",
    "# print(train_list)\n",
    "mean_squared_error(pd.read_csv('data/train.csv').sort_values(['ID']).Label.to_list(), train_list), statistics.mean(train_list), statistics.stdev(train_list)"
   ]
  },
  {
   "cell_type": "code",
   "execution_count": 13,
   "metadata": {},
   "outputs": [
    {
     "output_type": "execute_result",
     "data": {
      "text/plain": [
       "([3.1112289428710938,\n",
       "  2.867241144180298,\n",
       "  3.0309135913848877,\n",
       "  3.23872709274292,\n",
       "  3.295288324356079],\n",
       " [4.0, 2.333333333333333, 4.5, 3.333333333333333, 4.0])"
      ]
     },
     "metadata": {},
     "execution_count": 13
    }
   ],
   "source": [
    "train_list[0:5], pd.read_csv('data/train.csv').sort_values(['ID']).Label.to_list()[0:5]"
   ]
  },
  {
   "cell_type": "code",
   "execution_count": 14,
   "metadata": {},
   "outputs": [
    {
     "output_type": "execute_result",
     "data": {
      "text/plain": [
       "(3.150408496732026, 0.729501519321601)"
      ]
     },
     "metadata": {},
     "execution_count": 14
    }
   ],
   "source": [
    "a = AttractiveData.df_train['Label'].to_list()\n",
    "statistics.mean(a), statistics.stdev(a)"
   ]
  },
  {
   "cell_type": "code",
   "execution_count": 15,
   "metadata": {},
   "outputs": [
    {
     "output_type": "execute_result",
     "data": {
      "text/plain": [
       "(2.750601642457399, 0.24472508560606404)"
      ]
     },
     "metadata": {},
     "execution_count": 15
    }
   ],
   "source": [
    "statistics.mean(predict_list), statistics.stdev(predict_list)"
   ]
  },
  {
   "cell_type": "code",
   "execution_count": 16,
   "metadata": {},
   "outputs": [
    {
     "output_type": "execute_result",
     "data": {
      "text/plain": [
       "(0.034432277811290664, 2.7156126782757597, 0.29355123275379763)"
      ]
     },
     "metadata": {},
     "execution_count": 16
    }
   ],
   "source": [
    "baseline_list = pd.read_csv('baseline.csv').sort_values(['ID']).Label.to_list()\n",
    "mean_squared_error(baseline_list, predict_list), statistics.mean(baseline_list), statistics.stdev(baseline_list)"
   ]
  },
  {
   "cell_type": "code",
   "execution_count": 14,
   "metadata": {},
   "outputs": [
    {
     "output_type": "execute_result",
     "data": {
      "text/plain": [
       "(2.8167915543795683, 0.14611407210842048)"
      ]
     },
     "metadata": {},
     "execution_count": 14
    }
   ],
   "source": [
    "# LSTM my best\n",
    "# statistics.mean(predict_list), statistics.stdev(predict_list)"
   ]
  },
  {
   "cell_type": "code",
   "execution_count": 21,
   "metadata": {},
   "outputs": [
    {
     "output_type": "execute_result",
     "data": {
      "text/plain": [
       "(0.1347375515605904, 2.8379913731293533, 0.1903582104725371)"
      ]
     },
     "metadata": {},
     "execution_count": 21
    }
   ],
   "source": [
    "a = pd.read_csv('LSTM_base.csv').Label.to_list()\n",
    "mean_squared_error(baseline_list, a), statistics.mean(a), statistics.stdev(a)"
   ]
  },
  {
   "cell_type": "code",
   "execution_count": 14,
   "metadata": {},
   "outputs": [
    {
     "output_type": "execute_result",
     "data": {
      "text/plain": [
       "'the'"
      ]
     },
     "metadata": {},
     "execution_count": 14
    }
   ],
   "source": [
    "AttractiveData.TEXT.vocab.itos[2]"
   ]
  },
  {
   "cell_type": "code",
   "execution_count": 26,
   "metadata": {},
   "outputs": [
    {
     "output_type": "execute_result",
     "data": {
      "text/plain": [
       "Counter({'4.0': 226,\n",
       "         '2.333333333333333': 194,\n",
       "         '4.5': 43,\n",
       "         '3.333333333333333': 313,\n",
       "         '3.6666666666666665': 260,\n",
       "         '2.6666666666666665': 281,\n",
       "         '2.0': 135,\n",
       "         '2.5': 36,\n",
       "         '1.6666666666666667': 28,\n",
       "         '3.0': 354,\n",
       "         '4.333333333333333': 82,\n",
       "         '4.666666666666667': 29,\n",
       "         '1.5': 16,\n",
       "         '3.5': 22,\n",
       "         '1.3333333333333333': 4,\n",
       "         '1.0': 5,\n",
       "         '5.0': 12})"
      ]
     },
     "metadata": {},
     "execution_count": 26
    }
   ],
   "source": [
    "AttractiveData.LABEL.vocab.freqs"
   ]
  },
  {
   "cell_type": "code",
   "execution_count": 29,
   "metadata": {},
   "outputs": [
    {
     "output_type": "stream",
     "name": "stdout",
     "text": [
      "1.0\n0.5\n0.3333333333333333\n"
     ]
    }
   ],
   "source": [
    "for i in range(1, 4):\n",
    "    print(1 / i)\n",
    "# 0, 0.33, 0.5, 0.66, 1"
   ]
  },
  {
   "cell_type": "code",
   "execution_count": 31,
   "metadata": {},
   "outputs": [
    {
     "output_type": "execute_result",
     "data": {
      "text/plain": [
       "0.3333333333333333"
      ]
     },
     "metadata": {},
     "execution_count": 31
    }
   ],
   "source": [
    "0.3333333333333333 % 1"
   ]
  },
  {
   "cell_type": "code",
   "execution_count": null,
   "metadata": {},
   "outputs": [],
   "source": []
  }
 ]
}