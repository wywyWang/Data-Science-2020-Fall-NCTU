{
 "cells": [
  {
   "cell_type": "code",
   "execution_count": 1,
   "metadata": {},
   "outputs": [],
   "source": [
    "# common packages\n",
    "import pandas as pd\n",
    "import time\n",
    "\n",
    "# # DL framework\n",
    "import torch\n",
    "from torchtext import data\n",
    "\n",
    "from attractivedata import AttractiveData\n",
    "from trainer import AttractiveTrainer"
   ]
  },
  {
   "cell_type": "code",
   "execution_count": 2,
   "metadata": {},
   "outputs": [],
   "source": [
    "seed_value = 8964\n",
    "torch.manual_seed(seed_value)\n",
    "torch.cuda.manual_seed(seed_value)\n",
    "torch.cuda.manual_seed_all(seed_value) # gpu vars\n",
    "torch.backends.cudnn.deterministic = True  #needed\n",
    "torch.backends.cudnn.benchmark = False"
   ]
  },
  {
   "cell_type": "markdown",
   "metadata": {},
   "source": [
    "## Load and prepare data"
   ]
  },
  {
   "cell_type": "code",
   "execution_count": 3,
   "metadata": {},
   "outputs": [],
   "source": [
    "train_file = 'data/train.csv'\n",
    "val_file = 'example/val.csv'\n",
    "test_file = 'data/test.csv'\n",
    "pretrained_file = 'glove.840B.300d'\n",
    "config = {\n",
    "    'max_seq': 40,\n",
    "    'min_freq': 0,\n",
    "    'batch_size': 51,\n",
    "    'pretrained_file': pretrained_file\n",
    "}\n"
   ]
  },
  {
   "cell_type": "code",
   "execution_count": 4,
   "metadata": {},
   "outputs": [],
   "source": [
    "AttractiveData = AttractiveData(train_file, val_file, test_file, pretrained_file, config)"
   ]
  },
  {
   "cell_type": "markdown",
   "metadata": {},
   "source": [
    "## Start to train"
   ]
  },
  {
   "cell_type": "code",
   "execution_count": 5,
   "metadata": {},
   "outputs": [
    {
     "output_type": "stream",
     "name": "stdout",
     "text": [
      "torch.Size([12699, 300])\n"
     ]
    }
   ],
   "source": [
    "config['timestr'] = time.strftime(\"%Y%m%d-%H%M%S\")\n",
    "config['save_name'] = 'CNN_LSTM'\n",
    "config['input_dim'] = len(AttractiveData.TEXT.vocab)\n",
    "config['embedding_dim'] = 300\n",
    "config['category_dim'] = len(AttractiveData.CATEGORIES_LABEL.vocab)\n",
    "config['category_embedding_dim'] = 10\n",
    "config['hidden_dim'] = 30\n",
    "config['output_dim'] = 1\n",
    "config['log_steps'] = 10\n",
    "config['epochs'] = 150\n",
    "config['lr'] = {\n",
    "    'encoder': 1e-5,\n",
    "    'embedding': 6e-6,\n",
    "    'linear': 1e-5\n",
    "}\n",
    "config['num_layers'] = 1\n",
    "config['kernel_size'] = 3\n",
    "config['dropout'] = 0.5\n",
    "config['train_len'] = AttractiveData.train_len\n",
    "config['val_len'] = AttractiveData.val_len\n",
    "config['test_len'] = AttractiveData.test_len\n",
    "\n",
    "pretrained_embeddings = AttractiveData.TEXT.vocab.vectors\n",
    "print(pretrained_embeddings.shape)"
   ]
  },
  {
   "cell_type": "code",
   "execution_count": 6,
   "metadata": {},
   "outputs": [],
   "source": [
    "AttractiveTrainer = AttractiveTrainer(config, AttractiveData.device, AttractiveData.trainloader, AttractiveData.valloader, pretrained_embeddings)"
   ]
  },
  {
   "cell_type": "code",
   "execution_count": 7,
   "metadata": {},
   "outputs": [
    {
     "output_type": "execute_result",
     "data": {
      "text/plain": [
       "(AttractiveNet(\n",
       "   (embedding): AttractiveEmbedding(\n",
       "     (token): TokenEmbedding(12699, 300, padding_idx=1)\n",
       "   )\n",
       "   (bigramcnn): Sequential(\n",
       "     (0): Conv1d(300, 210, kernel_size=(2,), stride=(1,), padding=(1,))\n",
       "     (1): ReLU()\n",
       "     (2): Conv1d(210, 100, kernel_size=(2,), stride=(1,), padding=(1,))\n",
       "     (3): ReLU()\n",
       "     (4): Dropout(p=0.5, inplace=False)\n",
       "   )\n",
       "   (trigramcnn): Sequential(\n",
       "     (0): Conv1d(300, 210, kernel_size=(3,), stride=(1,), padding=(1,))\n",
       "     (1): ReLU()\n",
       "     (2): Conv1d(210, 100, kernel_size=(3,), stride=(1,), padding=(1,))\n",
       "     (3): ReLU()\n",
       "     (4): Dropout(p=0.5, inplace=False)\n",
       "   )\n",
       "   (encoder_bigram): LSTM(100, 30, batch_first=True, dropout=0.5, bidirectional=True)\n",
       "   (encoder_trigram): LSTM(100, 30, batch_first=True, dropout=0.5, bidirectional=True)\n",
       "   (linear): Sequential(\n",
       "     (0): Linear(in_features=128, out_features=30, bias=True)\n",
       "     (1): ReLU()\n",
       "     (2): Linear(in_features=30, out_features=1, bias=True)\n",
       "   )\n",
       " ),\n",
       " 4297581,\n",
       " 4297581)"
      ]
     },
     "metadata": {},
     "execution_count": 7
    }
   ],
   "source": [
    "AttractiveTrainer.model, AttractiveTrainer.config['total_params'], AttractiveTrainer.config['total_learned_params']"
   ]
  },
  {
   "cell_type": "code",
   "execution_count": 8,
   "metadata": {
    "tags": []
   },
   "outputs": [
    {
     "output_type": "stream",
     "name": "stderr",
     "text": [
      "Epoch:   1%|          | 1/150 [00:00<01:11,  2.09it/s]\n",
      "EP_0 | train loss: 3.98626599779316 | val loss: 4.170976152607039 |\n",
      "Epoch:   1%|▏         | 2/150 [00:00<01:11,  2.08it/s]\n",
      "EP_1 | train loss: 0.7046599201127595 | val loss: 0.733234255921607 |\n",
      "Epoch:   2%|▏         | 3/150 [00:01<01:11,  2.06it/s]\n",
      "EP_2 | train loss: 0.5670682514415067 | val loss: 0.7330370323330748 |\n",
      "Epoch:   3%|▎         | 4/150 [00:01<01:10,  2.06it/s]\n",
      "EP_3 | train loss: 0.5602912874782786 | val loss: 0.7187211466770546 |\n",
      "Epoch:   3%|▎         | 5/150 [00:02<01:09,  2.08it/s]\n",
      "EP_4 | train loss: 0.5607667072146547 | val loss: 0.7033655316221947 |\n",
      "Epoch:   4%|▍         | 6/150 [00:02<01:08,  2.10it/s]\n",
      "EP_5 | train loss: 0.5580417726554122 | val loss: 0.6834449861563888 |\n",
      "Epoch:   5%|▍         | 7/150 [00:03<01:09,  2.06it/s]\n",
      "EP_6 | train loss: 0.5498435572081921 | val loss: 0.6763296127319336 |\n",
      "Epoch:   5%|▌         | 8/150 [00:03<01:09,  2.05it/s]\n",
      "EP_7 | train loss: 0.556448730767942 | val loss: 0.6549416523353726 |\n",
      "Epoch:   6%|▌         | 9/150 [00:04<01:09,  2.04it/s]\n",
      "EP_8 | train loss: 0.5481157143910725 | val loss: 0.6498826157812979 |\n",
      "Epoch:   7%|▋         | 10/150 [00:04<01:08,  2.04it/s]\n",
      "EP_9 | train loss: 0.5463921724581251 | val loss: 0.6359917322794596 |\n",
      "Epoch:   7%|▋         | 11/150 [00:05<01:09,  2.00it/s]\n",
      "EP_10 | train loss: 0.5426273794735179 | val loss: 0.6238597514582616 |\n",
      "Epoch:   8%|▊         | 12/150 [00:05<01:07,  2.04it/s]\n",
      "EP_11 | train loss: 0.5453470192703547 | val loss: 0.610619348638198 |\n",
      "Epoch:   9%|▊         | 13/150 [00:06<01:05,  2.08it/s]\n",
      "EP_12 | train loss: 0.538787799723008 | val loss: 0.6027887475256827 |\n",
      "Epoch:   9%|▉         | 14/150 [00:06<01:05,  2.07it/s]\n",
      "EP_13 | train loss: 0.5369272680843578 | val loss: 0.5950146375917921 |\n",
      "Epoch:  10%|█         | 15/150 [00:07<01:03,  2.12it/s]\n",
      "EP_14 | train loss: 0.5331541603686762 | val loss: 0.5813210992252126 |\n",
      "Epoch:  11%|█         | 16/150 [00:07<01:02,  2.15it/s]\n",
      "EP_15 | train loss: 0.5332072669384527 | val loss: 0.5720893728966806 |\n",
      "Epoch:  11%|█▏        | 17/150 [00:08<01:01,  2.17it/s]\n",
      "EP_16 | train loss: 0.5268353565066468 | val loss: 0.5665407554776061 |\n",
      "Epoch:  12%|█▏        | 18/150 [00:08<01:00,  2.19it/s]\n",
      "EP_17 | train loss: 0.5240972107531978 | val loss: 0.5571728687660367 |\n",
      "Epoch:  13%|█▎        | 19/150 [00:09<00:59,  2.20it/s]\n",
      "EP_18 | train loss: 0.5253312877580232 | val loss: 0.5474124702752805 |\n",
      "Epoch:  13%|█▎        | 20/150 [00:09<00:59,  2.20it/s]\n",
      "EP_19 | train loss: 0.5173048374699611 | val loss: 0.5413513744578642 |\n",
      "Epoch:  14%|█▍        | 21/150 [00:09<00:59,  2.17it/s]\n",
      "EP_20 | train loss: 0.52019071485482 | val loss: 0.5319134674820245 |\n",
      "Epoch:  15%|█▍        | 22/150 [00:10<00:59,  2.16it/s]\n",
      "EP_21 | train loss: 0.5079201642204734 | val loss: 0.5241020894518086 |\n",
      "Epoch:  15%|█▌        | 23/150 [00:10<00:58,  2.18it/s]\n",
      "EP_22 | train loss: 0.5115764070959652 | val loss: 0.5159194796693092 |\n",
      "Epoch:  16%|█▌        | 24/150 [00:11<00:57,  2.18it/s]\n",
      "EP_23 | train loss: 0.5098647126964494 | val loss: 0.5066804137884402 |\n",
      "Epoch:  17%|█▋        | 25/150 [00:11<00:57,  2.19it/s]\n",
      "EP_24 | train loss: 0.5014141344556622 | val loss: 0.5023607553220263 |\n",
      "Epoch:  17%|█▋        | 26/150 [00:12<00:55,  2.22it/s]\n",
      "EP_25 | train loss: 0.502414618286432 | val loss: 0.4892248546375948 |\n",
      "Epoch:  18%|█▊        | 27/150 [00:12<00:55,  2.20it/s]\n",
      "EP_26 | train loss: 0.49739761820026474 | val loss: 0.48522131115782496 |\n",
      "Epoch:  19%|█▊        | 28/150 [00:13<00:55,  2.19it/s]\n",
      "EP_27 | train loss: 0.49424939576317284 | val loss: 0.4766678623124665 |\n",
      "Epoch:  19%|█▉        | 29/150 [00:13<00:55,  2.18it/s]\n",
      "EP_28 | train loss: 0.4918819717332429 | val loss: 0.46783120024437996 |\n",
      "Epoch:  20%|██        | 30/150 [00:14<00:54,  2.19it/s]\n",
      "EP_29 | train loss: 0.486618244414236 | val loss: 0.4620681089513442 |\n",
      "Epoch:  21%|██        | 31/150 [00:14<00:54,  2.17it/s]\n",
      "EP_30 | train loss: 0.4831729575699451 | val loss: 0.4558855505550609 |\n",
      "Epoch:  21%|██▏       | 32/150 [00:15<00:53,  2.19it/s]\n",
      "EP_31 | train loss: 0.4781918123656628 | val loss: 0.4482858134251015 |\n",
      "Epoch:  22%|██▏       | 33/150 [00:15<00:53,  2.17it/s]\n",
      "EP_32 | train loss: 0.4752507359373803 | val loss: 0.4404746317395977 |\n",
      "Epoch:  23%|██▎       | 34/150 [00:15<00:53,  2.18it/s]\n",
      "EP_33 | train loss: 0.4687488640055937 | val loss: 0.4335625405405082 |\n",
      "Epoch:  23%|██▎       | 35/150 [00:16<00:53,  2.17it/s]\n",
      "EP_34 | train loss: 0.46835316162483365 | val loss: 0.42559411946464987 |\n",
      "Epoch:  24%|██▍       | 36/150 [00:16<00:52,  2.18it/s]\n",
      "EP_35 | train loss: 0.4633949616376091 | val loss: 0.42096705997691436 |\n",
      "Epoch:  25%|██▍       | 37/150 [00:17<00:53,  2.11it/s]\n",
      "EP_36 | train loss: 0.45974597136179607 | val loss: 0.41400939810509774 |\n",
      "Epoch:  25%|██▌       | 38/150 [00:17<00:53,  2.11it/s]\n",
      "EP_37 | train loss: 0.45531094027500524 | val loss: 0.40738380656522866 |\n",
      "Epoch:  26%|██▌       | 39/150 [00:18<00:53,  2.08it/s]\n",
      "EP_38 | train loss: 0.45231790729597504 | val loss: 0.40175477196188536 |\n",
      "Epoch:  27%|██▋       | 40/150 [00:18<00:52,  2.08it/s]\n",
      "EP_39 | train loss: 0.4503775792963364 | val loss: 0.39522424866171446 |\n",
      "Epoch:  27%|██▋       | 41/150 [00:19<00:52,  2.09it/s]\n",
      "EP_40 | train loss: 0.44912412400339163 | val loss: 0.3894819558835497 |\n",
      "Epoch:  28%|██▊       | 42/150 [00:19<00:51,  2.11it/s]\n",
      "EP_41 | train loss: 0.44111915756674375 | val loss: 0.3857749677171894 |\n",
      "Epoch:  29%|██▊       | 43/150 [00:20<00:50,  2.12it/s]\n",
      "EP_42 | train loss: 0.4437922692766377 | val loss: 0.37955762825760186 |\n",
      "Epoch:  29%|██▉       | 44/150 [00:20<00:49,  2.15it/s]\n",
      "EP_43 | train loss: 0.436074384988523 | val loss: 0.3751082513846603 |\n",
      "Epoch:  30%|███       | 45/150 [00:21<00:49,  2.12it/s]\n",
      "EP_44 | train loss: 0.43271013568429384 | val loss: 0.3709304940466787 |\n",
      "Epoch:  31%|███       | 46/150 [00:21<00:49,  2.11it/s]\n",
      "EP_45 | train loss: 0.43088187470155603 | val loss: 0.36646515715355965 |\n",
      "Epoch:  31%|███▏      | 47/150 [00:22<00:49,  2.07it/s]\n",
      "EP_46 | train loss: 0.427895785780514 | val loss: 0.3638586250005984 |\n",
      "Epoch:  32%|███▏      | 48/150 [00:22<00:48,  2.10it/s]\n",
      "EP_47 | train loss: 0.4284683349085789 | val loss: 0.35979876798741955 |\n",
      "Epoch:  33%|███▎      | 49/150 [00:23<00:47,  2.11it/s]\n",
      "EP_48 | train loss: 0.4244735348458384 | val loss: 0.35681961564456716 |\n",
      "Epoch:  33%|███▎      | 50/150 [00:23<00:47,  2.12it/s]\n",
      "EP_49 | train loss: 0.42041735508862665 | val loss: 0.3543094326468075 |\n",
      "Epoch:  34%|███▍      | 51/150 [00:24<00:46,  2.11it/s]\n",
      "EP_50 | train loss: 0.4225559973249248 | val loss: 0.35225656920788334 |\n",
      "Epoch:  35%|███▍      | 52/150 [00:24<00:45,  2.14it/s]\n",
      "EP_51 | train loss: 0.41601326652601656 | val loss: 0.3497004228479722 |\n",
      "Epoch:  35%|███▌      | 53/150 [00:24<00:45,  2.12it/s]\n",
      "EP_52 | train loss: 0.41520556749082077 | val loss: 0.34797487071916167 |\n",
      "Epoch:  36%|███▌      | 54/150 [00:25<00:44,  2.15it/s]\n",
      "EP_53 | train loss: 0.4109538639292997 | val loss: 0.3452831623600979 |\n",
      "Epoch:  37%|███▋      | 55/150 [00:25<00:44,  2.14it/s]\n",
      "EP_54 | train loss: 0.4149106871848013 | val loss: 0.3445760876524682 |\n",
      "Epoch:  37%|███▋      | 56/150 [00:26<00:43,  2.16it/s]\n",
      "EP_55 | train loss: 0.4080328427109064 | val loss: 0.34211191476560104 |\n",
      "Epoch:  38%|███▊      | 57/150 [00:26<00:43,  2.14it/s]\n",
      "EP_56 | train loss: 0.4041852502261891 | val loss: 0.3411711150524663 |\n",
      "Epoch:  39%|███▊      | 58/150 [00:27<00:42,  2.16it/s]\n",
      "EP_57 | train loss: 0.4067487361384373 | val loss: 0.3398140972735835 |\n",
      "Epoch:  39%|███▉      | 59/150 [00:27<00:42,  2.15it/s]\n",
      "EP_58 | train loss: 0.40148119832955154 | val loss: 0.3373265219669716 |\n",
      "Epoch:  40%|████      | 60/150 [00:28<00:41,  2.17it/s]\n",
      "EP_59 | train loss: 0.3980196602204267 | val loss: 0.33618634354834465 |\n",
      "Epoch:  41%|████      | 61/150 [00:28<00:43,  2.04it/s]\n",
      "EP_60 | train loss: 0.3944405247183407 | val loss: 0.33577854025597664 |\n",
      "Epoch:  41%|████▏     | 62/150 [00:29<00:42,  2.06it/s]\n",
      "EP_61 | train loss: 0.3933972830865897 | val loss: 0.33459962583055686 |\n",
      "Epoch:  42%|████▏     | 63/150 [00:29<00:42,  2.06it/s]\n",
      "EP_62 | train loss: 0.3906678601807239 | val loss: 0.33416039335961434 |\n",
      "Epoch:  43%|████▎     | 64/150 [00:30<00:40,  2.10it/s]\n",
      "EP_63 | train loss: 0.39168742965249453 | val loss: 0.3316945608924417 |\n",
      "Epoch:  43%|████▎     | 65/150 [00:30<00:40,  2.11it/s]\n",
      "EP_64 | train loss: 0.38714108139860864 | val loss: 0.33138103578604905 |\n",
      "Epoch:  44%|████▍     | 66/150 [00:31<00:39,  2.12it/s]\n",
      "EP_65 | train loss: 0.38701390518861656 | val loss: 0.33017637682896034 |\n",
      "Epoch:  45%|████▍     | 67/150 [00:31<00:39,  2.12it/s]\n",
      "EP_66 | train loss: 0.38884612672469193 | val loss: 0.33089281998428643 |\n",
      "Epoch:  45%|████▌     | 68/150 [00:31<00:38,  2.15it/s]\n",
      "EP_67 | train loss: 0.3795063514335483 | val loss: 0.32841142953610886 |\n",
      "Epoch:  46%|████▌     | 69/150 [00:32<00:37,  2.14it/s]\n",
      "EP_68 | train loss: 0.37909524627760344 | val loss: 0.32703293538561057 |\n",
      "Epoch:  47%|████▋     | 70/150 [00:32<00:37,  2.15it/s]\n",
      "EP_69 | train loss: 0.3739555279413859 | val loss: 0.32678946326760683 |\n",
      "Epoch:  47%|████▋     | 71/150 [00:33<00:36,  2.14it/s]\n",
      "EP_70 | train loss: 0.3725578794292375 | val loss: 0.32476577571794096 |\n",
      "Epoch:  48%|████▊     | 72/150 [00:33<00:36,  2.16it/s]\n",
      "EP_71 | train loss: 0.3704329392489265 | val loss: 0.32317310688542383 |\n",
      "Epoch:  49%|████▊     | 73/150 [00:34<00:36,  2.13it/s]\n",
      "EP_72 | train loss: 0.3681759053585576 | val loss: 0.3217450824438357 |\n",
      "Epoch:  49%|████▉     | 74/150 [00:34<00:35,  2.14it/s]\n",
      "EP_73 | train loss: 0.36483827852735334 | val loss: 0.3203500345641491 |\n",
      "Epoch:  50%|█████     | 75/150 [00:35<00:35,  2.13it/s]\n",
      "EP_74 | train loss: 0.36257840839086797 | val loss: 0.3194247928320193 |\n",
      "Epoch:  51%|█████     | 76/150 [00:35<00:34,  2.15it/s]\n",
      "EP_75 | train loss: 0.3587612147424735 | val loss: 0.3196436143388935 |\n",
      "Epoch:  51%|█████▏    | 77/150 [00:36<00:34,  2.14it/s]\n",
      "EP_76 | train loss: 0.35896352833392575 | val loss: 0.31543589573280484 |\n",
      "Epoch:  52%|█████▏    | 78/150 [00:36<00:33,  2.14it/s]\n",
      "EP_77 | train loss: 0.35573242458642695 | val loss: 0.31334632985732136 |\n",
      "Epoch:  53%|█████▎    | 79/150 [00:37<00:33,  2.13it/s]\n",
      "EP_78 | train loss: 0.35888333694607605 | val loss: 0.31374172135895373 |\n",
      "Epoch:  53%|█████▎    | 80/150 [00:37<00:32,  2.15it/s]\n",
      "EP_79 | train loss: 0.3480740514456057 | val loss: 0.3107539672477573 |\n",
      "Epoch:  54%|█████▍    | 81/150 [00:38<00:32,  2.15it/s]\n",
      "EP_80 | train loss: 0.34489894380756453 | val loss: 0.3100736374948539 |\n",
      "Epoch:  55%|█████▍    | 82/150 [00:38<00:31,  2.17it/s]\n",
      "EP_81 | train loss: 0.3424560186909694 | val loss: 0.30690621394737094 |\n",
      "Epoch:  55%|█████▌    | 83/150 [00:38<00:31,  2.14it/s]\n",
      "EP_82 | train loss: 0.3401322238585528 | val loss: 0.3057076603758569 |\n",
      "Epoch:  56%|█████▌    | 84/150 [00:39<00:30,  2.16it/s]\n",
      "EP_83 | train loss: 0.33763956462635714 | val loss: 0.3026188167871213 |\n",
      "Epoch:  57%|█████▋    | 85/150 [00:39<00:30,  2.14it/s]\n",
      "EP_84 | train loss: 0.3334747361201866 | val loss: 0.3015619165757123 |\n",
      "Epoch:  57%|█████▋    | 86/150 [00:40<00:29,  2.15it/s]\n",
      "EP_85 | train loss: 0.3309969046536614 | val loss: 0.297875815746831 |\n",
      "Epoch:  58%|█████▊    | 87/150 [00:40<00:29,  2.14it/s]\n",
      "EP_86 | train loss: 0.32649108896068496 | val loss: 0.29941441498550714 |\n",
      "Epoch:  59%|█████▊    | 88/150 [00:41<00:28,  2.16it/s]\n",
      "EP_87 | train loss: 0.3231020857306088 | val loss: 0.3016642682692584 |\n",
      "Epoch:  59%|█████▉    | 89/150 [00:41<00:28,  2.14it/s]\n",
      "EP_88 | train loss: 0.3192435517030604 | val loss: 0.29244205063464596 |\n",
      "Epoch:  60%|██████    | 90/150 [00:42<00:27,  2.16it/s]\n",
      "EP_89 | train loss: 0.32313126255484187 | val loss: 0.2878401419695686 |\n",
      "Epoch:  61%|██████    | 91/150 [00:42<00:27,  2.16it/s]\n",
      "EP_90 | train loss: 0.31257415191799987 | val loss: 0.2907159842696844 |\n",
      "Epoch:  61%|██████▏   | 92/150 [00:43<00:26,  2.17it/s]\n",
      "EP_91 | train loss: 0.30983894853030935 | val loss: 0.28531062836740534 |\n",
      "Epoch:  62%|██████▏   | 93/150 [00:43<00:26,  2.12it/s]\n",
      "EP_92 | train loss: 0.30819565081128886 | val loss: 0.28044555701461493 |\n",
      "Epoch:  63%|██████▎   | 94/150 [00:44<00:26,  2.15it/s]\n",
      "EP_93 | train loss: 0.3048258384068807 | val loss: 0.2768536969727161 |\n",
      "Epoch:  63%|██████▎   | 95/150 [00:44<00:26,  2.10it/s]\n",
      "EP_94 | train loss: 0.29898325835957246 | val loss: 0.2788571095934101 |\n",
      "Epoch:  64%|██████▍   | 96/150 [00:45<00:25,  2.08it/s]\n",
      "EP_95 | train loss: 0.2961644934672935 | val loss: 0.2701486325731464 |\n",
      "Epoch:  65%|██████▍   | 97/150 [00:45<00:25,  2.07it/s]\n",
      "EP_96 | train loss: 0.29096634948954864 | val loss: 0.27362701004626705 |\n",
      "Epoch:  65%|██████▌   | 98/150 [00:46<00:24,  2.10it/s]\n",
      "EP_97 | train loss: 0.28804412075117525 | val loss: 0.27528708588843254 |\n",
      "Epoch:  66%|██████▌   | 99/150 [00:46<00:24,  2.09it/s]\n",
      "EP_98 | train loss: 0.2876993352291631 | val loss: 0.2617317461499981 |\n",
      "Epoch:  67%|██████▋   | 100/150 [00:47<00:23,  2.09it/s]\n",
      "EP_99 | train loss: 0.28253621307073856 | val loss: 0.2583107153574626 |\n",
      "Epoch:  67%|██████▋   | 101/150 [00:47<00:23,  2.09it/s]\n",
      "EP_100 | train loss: 0.2857734558629055 | val loss: 0.2557790185890946 |\n",
      "Epoch:  68%|██████▊   | 102/150 [00:47<00:22,  2.11it/s]\n",
      "EP_101 | train loss: 0.27124356943018296 | val loss: 0.255414883295695 |\n",
      "Epoch:  69%|██████▊   | 103/150 [00:48<00:22,  2.10it/s]\n",
      "EP_102 | train loss: 0.2667848809092653 | val loss: 0.2509106421003155 |\n",
      "Epoch:  69%|██████▉   | 104/150 [00:48<00:21,  2.12it/s]\n",
      "EP_103 | train loss: 0.262403109961865 | val loss: 0.24673237052618288 |\n",
      "Epoch:  70%|███████   | 105/150 [00:49<00:21,  2.12it/s]\n",
      "EP_104 | train loss: 0.2697585433137183 | val loss: 0.24230490946302227 |\n",
      "Epoch:  71%|███████   | 106/150 [00:49<00:20,  2.14it/s]\n",
      "EP_105 | train loss: 0.25445017604266895 | val loss: 0.24477713248308966 |\n",
      "Epoch:  71%|███████▏  | 107/150 [00:50<00:20,  2.15it/s]\n",
      "EP_106 | train loss: 0.2538017193476359 | val loss: 0.2333956699745328 |\n",
      "Epoch:  72%|███████▏  | 108/150 [00:50<00:19,  2.18it/s]\n",
      "EP_107 | train loss: 0.25401024350933 | val loss: 0.2314461680019603 |\n",
      "Epoch:  73%|███████▎  | 109/150 [00:51<00:18,  2.17it/s]\n",
      "EP_108 | train loss: 0.24128248130573945 | val loss: 0.23054021480036715 |\n",
      "Epoch:  73%|███████▎  | 110/150 [00:51<00:18,  2.19it/s]\n",
      "EP_109 | train loss: 0.24362064155877805 | val loss: 0.22149265513700597 |\n",
      "Epoch:  74%|███████▍  | 111/150 [00:52<00:17,  2.17it/s]\n",
      "EP_110 | train loss: 0.2357599791358499 | val loss: 0.21904575123506434 |\n",
      "Epoch:  75%|███████▍  | 112/150 [00:52<00:17,  2.18it/s]\n",
      "EP_111 | train loss: 0.2284619693662606 | val loss: 0.2138812261469224 |\n",
      "Epoch:  75%|███████▌  | 113/150 [00:53<00:17,  2.17it/s]\n",
      "EP_112 | train loss: 0.2313492873135735 | val loss: 0.2091089603947658 |\n",
      "Epoch:  76%|███████▌  | 114/150 [00:53<00:16,  2.19it/s]\n",
      "EP_113 | train loss: 0.22146402901294185 | val loss: 0.2064823870565377 |\n",
      "Epoch:  77%|███████▋  | 115/150 [00:53<00:16,  2.17it/s]\n",
      "EP_114 | train loss: 0.2149479543461519 | val loss: 0.2027944186154534 |\n",
      "Epoch:  77%|███████▋  | 116/150 [00:54<00:15,  2.18it/s]\n",
      "EP_115 | train loss: 0.21032118306440464 | val loss: 0.20457708601858102 |\n",
      "Epoch:  78%|███████▊  | 117/150 [00:54<00:15,  2.16it/s]\n",
      "EP_116 | train loss: 0.20848248823016297 | val loss: 0.19367491965200387 |\n",
      "Epoch:  79%|███████▊  | 118/150 [00:55<00:14,  2.17it/s]\n",
      "EP_117 | train loss: 0.20522521313499 | val loss: 0.19031963628881118 |\n",
      "Epoch:  79%|███████▉  | 119/150 [00:55<00:14,  2.14it/s]\n",
      "EP_118 | train loss: 0.1970606904403836 | val loss: 0.18838310007955514 |\n",
      "Epoch:  80%|████████  | 120/150 [00:56<00:13,  2.15it/s]\n",
      "EP_119 | train loss: 0.191797885240293 | val loss: 0.1902297665091122 |\n",
      "Epoch:  81%|████████  | 121/150 [00:56<00:13,  2.14it/s]\n",
      "EP_120 | train loss: 0.20570283964568492 | val loss: 0.18657132223540662 |\n",
      "Epoch:  81%|████████▏ | 122/150 [00:57<00:13,  2.13it/s]\n",
      "EP_121 | train loss: 0.18195943154540717 | val loss: 0.1800458407869526 |\n",
      "Epoch:  82%|████████▏ | 123/150 [00:57<00:12,  2.11it/s]\n",
      "EP_122 | train loss: 0.18480058744841932 | val loss: 0.17270878717011096 |\n",
      "Epoch:  83%|████████▎ | 124/150 [00:58<00:12,  2.14it/s]\n",
      "EP_123 | train loss: 0.17267983941470874 | val loss: 0.17214498332902498 |\n",
      "Epoch:  83%|████████▎ | 125/150 [00:58<00:11,  2.12it/s]\n",
      "EP_124 | train loss: 0.16847743637421553 | val loss: 0.16988564472572476 |\n",
      "Epoch:  84%|████████▍ | 126/150 [00:59<00:11,  2.14it/s]\n",
      "EP_125 | train loss: 0.1645971043437135 | val loss: 0.1640530637666291 |\n",
      "Epoch:  85%|████████▍ | 127/150 [00:59<00:10,  2.14it/s]\n",
      "EP_126 | train loss: 0.1625481544756422 | val loss: 0.1571066660039565 |\n",
      "Epoch:  85%|████████▌ | 128/150 [01:00<00:10,  2.16it/s]\n",
      "EP_127 | train loss: 0.15525449467640298 | val loss: 0.15931314346837064 |\n",
      "Epoch:  86%|████████▌ | 129/150 [01:00<00:09,  2.15it/s]\n",
      "EP_128 | train loss: 0.14949831261354335 | val loss: 0.1515511204214657 |\n",
      "Epoch:  87%|████████▋ | 130/150 [01:00<00:09,  2.16it/s]\n",
      "EP_129 | train loss: 0.14735773065510918 | val loss: 0.14555259078156715 |\n",
      "Epoch:  87%|████████▋ | 131/150 [01:01<00:08,  2.15it/s]\n",
      "EP_130 | train loss: 0.14103938668381935 | val loss: 0.1433748450933718 |\n",
      "Epoch:  88%|████████▊ | 132/150 [01:01<00:08,  2.16it/s]\n",
      "EP_131 | train loss: 0.1377868280691259 | val loss: 0.14509964690488927 |\n",
      "Epoch:  89%|████████▊ | 133/150 [01:02<00:07,  2.16it/s]\n",
      "EP_132 | train loss: 0.13557486113379982 | val loss: 0.13335944157020718 |\n",
      "Epoch:  89%|████████▉ | 134/150 [01:02<00:07,  2.17it/s]\n",
      "EP_133 | train loss: 0.13302891780348386 | val loss: 0.12984617083680397 |\n",
      "Epoch:  90%|█████████ | 135/150 [01:03<00:06,  2.15it/s]\n",
      "EP_134 | train loss: 0.12493706590989057 | val loss: 0.12777908409343047 |\n",
      "Epoch:  91%|█████████ | 136/150 [01:03<00:06,  2.16it/s]\n",
      "EP_135 | train loss: 0.1233467324107301 | val loss: 0.12255987700294046 |\n",
      "Epoch:  91%|█████████▏| 137/150 [01:04<00:06,  2.15it/s]\n",
      "EP_136 | train loss: 0.1162585181348464 | val loss: 0.12491570734510235 |\n",
      "Epoch:  92%|█████████▏| 138/150 [01:04<00:05,  2.17it/s]\n",
      "EP_137 | train loss: 0.11151376822415521 | val loss: 0.11602598311854344 |\n",
      "Epoch:  93%|█████████▎| 139/150 [01:05<00:05,  2.13it/s]\n",
      "EP_138 | train loss: 0.10922416507029066 | val loss: 0.12024992821263332 |\n",
      "Epoch:  93%|█████████▎| 140/150 [01:05<00:04,  2.16it/s]\n",
      "EP_139 | train loss: 0.10468104785563899 | val loss: 0.11557956770354626 |\n",
      "Epoch:  94%|█████████▍| 141/150 [01:06<00:04,  2.15it/s]\n",
      "EP_140 | train loss: 0.09936583018770405 | val loss: 0.1050197587293737 |\n",
      "Epoch:  95%|█████████▍| 142/150 [01:06<00:03,  2.15it/s]\n",
      "EP_141 | train loss: 0.09690926472345988 | val loss: 0.10049092068391688 |\n",
      "Epoch:  95%|█████████▌| 143/150 [01:06<00:03,  2.14it/s]\n",
      "EP_142 | train loss: 0.09419201074862013 | val loss: 0.0967492098901786 |\n",
      "Epoch:  96%|█████████▌| 144/150 [01:07<00:02,  2.16it/s]\n",
      "EP_143 | train loss: 0.0919782701660605 | val loss: 0.0931817935962303 |\n",
      "Epoch:  97%|█████████▋| 145/150 [01:07<00:02,  2.15it/s]\n",
      "EP_144 | train loss: 0.08615129005675222 | val loss: 0.0946514746722053 |\n",
      "Epoch:  97%|█████████▋| 146/150 [01:08<00:01,  2.05it/s]\n",
      "EP_145 | train loss: 0.08348670660280715 | val loss: 0.09053474547816258 |\n",
      "Epoch:  98%|█████████▊| 147/150 [01:08<00:01,  2.03it/s]\n",
      "EP_146 | train loss: 0.079857319242814 | val loss: 0.08458317261116177 |\n",
      "Epoch:  99%|█████████▊| 148/150 [01:09<00:00,  2.09it/s]\n",
      "EP_147 | train loss: 0.0752003127453374 | val loss: 0.08266282315347709 |\n",
      "Epoch:  99%|█████████▉| 149/150 [01:09<00:00,  2.09it/s]\n",
      "EP_148 | train loss: 0.07460120074889239 | val loss: 0.07835946947920557 |\n",
      "Epoch: 100%|██████████| 150/150 [01:10<00:00,  2.13it/s]\n",
      "EP_149 | train loss: 0.08007321030485864 | val loss: 0.07815081231734332 |\n",
      "\n"
     ]
    }
   ],
   "source": [
    "AttractiveTrainer.train()"
   ]
  },
  {
   "cell_type": "markdown",
   "metadata": {},
   "source": [
    "## Below is testing"
   ]
  },
  {
   "cell_type": "code",
   "execution_count": 6,
   "metadata": {},
   "outputs": [
    {
     "output_type": "execute_result",
     "data": {
      "text/plain": [
       "AttractiveNet(\n",
       "  (embedding): AttractiveEmbedding(\n",
       "    (token): TokenEmbedding(12699, 300, padding_idx=1)\n",
       "  )\n",
       "  (bigramcnn): Sequential(\n",
       "    (0): Conv1d(300, 210, kernel_size=(2,), stride=(1,), padding=(1,))\n",
       "    (1): ReLU()\n",
       "    (2): Conv1d(210, 100, kernel_size=(2,), stride=(1,), padding=(1,))\n",
       "    (3): ReLU()\n",
       "    (4): Dropout(p=0.5, inplace=False)\n",
       "  )\n",
       "  (trigramcnn): Sequential(\n",
       "    (0): Conv1d(300, 210, kernel_size=(3,), stride=(1,), padding=(1,))\n",
       "    (1): ReLU()\n",
       "    (2): Conv1d(210, 100, kernel_size=(3,), stride=(1,), padding=(1,))\n",
       "    (3): ReLU()\n",
       "    (4): Dropout(p=0.5, inplace=False)\n",
       "  )\n",
       "  (encoder_bigram): LSTM(100, 30, batch_first=True, dropout=0.5, bidirectional=True)\n",
       "  (encoder_trigram): LSTM(100, 30, batch_first=True, dropout=0.5, bidirectional=True)\n",
       "  (linear): Sequential(\n",
       "    (0): Linear(in_features=128, out_features=30, bias=True)\n",
       "    (1): ReLU()\n",
       "    (2): Linear(in_features=30, out_features=1, bias=True)\n",
       "  )\n",
       ")"
      ]
     },
     "metadata": {},
     "execution_count": 6
    }
   ],
   "source": [
    "from attractivenet import AttractiveNet\n",
    "\n",
    "PATH = './model/CNN_LSTM_20201110-202909/0.368176.72'\n",
    "\n",
    "load_model = AttractiveNet(config).to(AttractiveData.device)\n",
    "load_model.load_state_dict(torch.load(PATH))\n",
    "load_model.eval()"
   ]
  },
  {
   "cell_type": "code",
   "execution_count": 7,
   "metadata": {},
   "outputs": [],
   "source": [
    "def predict_attractive(sentence, category, phase):\n",
    "    indexed_sentence = [AttractiveData.TEXT.vocab.stoi[t] for t in sentence]\n",
    "    indexed_category = [AttractiveData.CATEGORIES_LABEL.vocab.stoi[category]]\n",
    "    tensor_sentence = torch.LongTensor(indexed_sentence).to(AttractiveData.device)\n",
    "    tensor_category = torch.LongTensor(indexed_category).to(AttractiveData.device)\n",
    "    tensor_sentence = tensor_sentence.unsqueeze(0)\n",
    "\n",
    "    prediction = load_model(tensor_sentence, tensor_category, phase=phase)\n",
    "\n",
    "    return prediction"
   ]
  },
  {
   "cell_type": "code",
   "execution_count": 8,
   "metadata": {
    "tags": []
   },
   "outputs": [],
   "source": [
    "predict_list = []\n",
    "with torch.no_grad():\n",
    "    for i, sentence in enumerate(AttractiveData.test_data):\n",
    "        prediction = predict_attractive(sentence.Headline, sentence.Category, 'test')\n",
    "        predict_list.append(prediction.item())\n",
    "\n",
    "AttractiveData.df_test['Label'] = predict_list\n",
    "AttractiveData.df_test[['ID', 'Label']].to_csv(config['save_name'] + '.csv', index=False)"
   ]
  },
  {
   "cell_type": "markdown",
   "metadata": {},
   "source": [
    "## Below for statistics"
   ]
  },
  {
   "cell_type": "code",
   "execution_count": 9,
   "metadata": {},
   "outputs": [],
   "source": [
    "import statistics\n",
    "from sklearn.metrics import mean_squared_error"
   ]
  },
  {
   "cell_type": "code",
   "execution_count": 10,
   "metadata": {},
   "outputs": [],
   "source": [
    "# # train mean = 3.15, test mean = 2.8\n",
    "# train_list = []\n",
    "# for i, sentence in enumerate(AttractiveData.train_data):\n",
    "#     prediction = predict_attractive(sentence.Headline, sentence.Category, 'train')\n",
    "#     train_list.append(prediction.item())\n",
    "#     # train_list.append(prediction.item())\n",
    "# # print(train_list)\n",
    "# mean_squared_error(pd.read_csv('data/train.csv').sort_values(['ID']).Label.to_list(), train_list), statistics.mean(train_list), statistics.stdev(train_list)"
   ]
  },
  {
   "cell_type": "code",
   "execution_count": 11,
   "metadata": {},
   "outputs": [],
   "source": [
    "# train_list[0:5], pd.read_csv('data/train.csv').sort_values(['ID']).Label.to_list()[0:5]"
   ]
  },
  {
   "cell_type": "code",
   "execution_count": 12,
   "metadata": {},
   "outputs": [],
   "source": [
    "# a = AttractiveData.df_train['Label'].to_list()\n",
    "# statistics.mean(a), statistics.stdev(a)"
   ]
  },
  {
   "cell_type": "code",
   "execution_count": 13,
   "metadata": {},
   "outputs": [
    {
     "output_type": "execute_result",
     "data": {
      "text/plain": [
       "(2.8359650389213393, 0.3621234139278621)"
      ]
     },
     "metadata": {},
     "execution_count": 13
    }
   ],
   "source": [
    "statistics.mean(predict_list), statistics.stdev(predict_list)"
   ]
  },
  {
   "cell_type": "code",
   "execution_count": 14,
   "metadata": {},
   "outputs": [
    {
     "output_type": "execute_result",
     "data": {
      "text/plain": [
       "(0.01941646992532112, 2.8142020345259344, 0.36798823904910916)"
      ]
     },
     "metadata": {},
     "execution_count": 14
    }
   ],
   "source": [
    "baseline_list = pd.read_csv('baseline.csv').sort_values(['ID']).Label.to_list()\n",
    "mean_squared_error(baseline_list, predict_list), statistics.mean(baseline_list), statistics.stdev(baseline_list)"
   ]
  },
  {
   "cell_type": "code",
   "execution_count": null,
   "metadata": {},
   "outputs": [],
   "source": []
  },
  {
   "cell_type": "code",
   "execution_count": 17,
   "metadata": {},
   "outputs": [
    {
     "output_type": "execute_result",
     "data": {
      "text/plain": [
       "0.0"
      ]
     },
     "metadata": {},
     "execution_count": 17
    }
   ],
   "source": [
    "mean_squared_error(pd.read_csv('baseline.csv').sort_values(['ID']).Label.to_list(), pd.read_csv('../309551062/predict/CNN_LSTM_20201109-125007_0.374958.75.csv').sort_values(['ID']).Label.to_list())"
   ]
  },
  {
   "cell_type": "code",
   "execution_count": 13,
   "metadata": {},
   "outputs": [],
   "source": []
  },
  {
   "cell_type": "code",
   "execution_count": null,
   "metadata": {},
   "outputs": [],
   "source": []
  }
 ],
 "metadata": {
  "kernelspec": {
   "display_name": "DS_hw2",
   "language": "python",
   "name": "ds_hw2"
  },
  "language_info": {
   "codemirror_mode": {
    "name": "ipython",
    "version": 3
   },
   "file_extension": ".py",
   "mimetype": "text/x-python",
   "name": "python",
   "nbconvert_exporter": "python",
   "pygments_lexer": "ipython3",
   "version": "3.6.12-final"
  }
 },
 "nbformat": 4,
 "nbformat_minor": 4
}