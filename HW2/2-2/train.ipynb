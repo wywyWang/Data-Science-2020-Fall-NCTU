{
 "cells": [
  {
   "cell_type": "code",
   "execution_count": 1,
   "metadata": {},
   "outputs": [],
   "source": [
    "# common packages\n",
    "import pandas as pd\n",
    "import time\n",
    "\n",
    "# # DL framework\n",
    "import torch\n",
    "from torchtext import data\n",
    "\n",
    "from attractivedata import AttractiveData\n",
    "from trainer import AttractiveTrainer"
   ]
  },
  {
   "cell_type": "code",
   "execution_count": 2,
   "metadata": {},
   "outputs": [],
   "source": [
    "seed_value = 42\n",
    "torch.manual_seed(seed_value)\n",
    "torch.cuda.manual_seed(seed_value)\n",
    "torch.cuda.manual_seed_all(seed_value) # gpu vars\n",
    "torch.backends.cudnn.deterministic = True  #needed\n",
    "torch.backends.cudnn.benchmark = False"
   ]
  },
  {
   "cell_type": "markdown",
   "metadata": {},
   "source": [
    "# TODO: \n",
    "- [ ] cnn plus residual network\n",
    "- [ ] word embedding multiply tfidf\n",
    "- [ ] use word2vec"
   ]
  },
  {
   "cell_type": "markdown",
   "metadata": {},
   "source": [
    "## Load and prepare data"
   ]
  },
  {
   "cell_type": "code",
   "execution_count": 3,
   "metadata": {},
   "outputs": [],
   "source": [
    "train_file = 'data/train.csv'\n",
    "val_file = 'example/val.csv'\n",
    "test_file = 'data/test.csv'\n",
    "pretrained_file = 'glove.840B.300d'\n",
    "config = {\n",
    "    'max_seq': 40,\n",
    "    'min_freq': 0,\n",
    "    'batch_size': 64,\n",
    "    'pretrained_file': pretrained_file\n",
    "}\n"
   ]
  },
  {
   "cell_type": "code",
   "execution_count": 4,
   "metadata": {},
   "outputs": [],
   "source": [
    "AttractiveData = AttractiveData(train_file, val_file, test_file, pretrained_file, config)"
   ]
  },
  {
   "cell_type": "code",
   "execution_count": 5,
   "metadata": {},
   "outputs": [],
   "source": [
    "# for i, sentence in enumerate(AttractiveData.test_data):\n",
    "#     if i == 3:\n",
    "#         print(vars(AttractiveData.train_data[i]), vars(sentence))"
   ]
  },
  {
   "cell_type": "code",
   "execution_count": 6,
   "metadata": {},
   "outputs": [
    {
     "output_type": "execute_result",
     "data": {
      "text/plain": [
       "38"
      ]
     },
     "metadata": {},
     "execution_count": 6
    }
   ],
   "source": [
    "max_len = 0\n",
    "a = AttractiveData.train_data\n",
    "for i in range(len(a)):\n",
    "    if len(a[i].Headline) >= max_len:\n",
    "        max_len = len(a[i].Headline)\n",
    "max_len"
   ]
  },
  {
   "cell_type": "markdown",
   "metadata": {},
   "source": [
    "## Start to train"
   ]
  },
  {
   "cell_type": "code",
   "execution_count": 7,
   "metadata": {},
   "outputs": [
    {
     "output_type": "stream",
     "name": "stdout",
     "text": [
      "torch.Size([12699, 300])\n"
     ]
    }
   ],
   "source": [
    "config['timestr'] = time.strftime(\"%Y%m%d-%H%M%S\")\n",
    "config['save_name'] = 'CNN_LSTM'\n",
    "config['input_dim'] = len(AttractiveData.TEXT.vocab)\n",
    "config['embedding_dim'] = 300\n",
    "config['category_dim'] = len(AttractiveData.CATEGORIES_LABEL.vocab)\n",
    "config['category_embedding_dim'] = 10\n",
    "config['hidden_dim'] = 30\n",
    "config['output_dim'] = 1\n",
    "config['log_steps'] = 10\n",
    "config['epochs'] = 200\n",
    "config['lr'] = {\n",
    "    'encoder': 1e-5,\n",
    "    'embedding': 6e-6,\n",
    "    'linear': 1e-5\n",
    "}\n",
    "config['num_layers'] = 1\n",
    "config['kernel_size'] = 3\n",
    "config['dropout'] = 0.5\n",
    "config['train_len'] = AttractiveData.train_len\n",
    "config['val_len'] = AttractiveData.val_len\n",
    "config['test_len'] = AttractiveData.test_len\n",
    "\n",
    "pretrained_embeddings = AttractiveData.TEXT.vocab.vectors\n",
    "print(pretrained_embeddings.shape)"
   ]
  },
  {
   "cell_type": "code",
   "execution_count": 8,
   "metadata": {},
   "outputs": [],
   "source": [
    "AttractiveTrainer = AttractiveTrainer(config, AttractiveData.device, AttractiveData.trainloader, AttractiveData.valloader, pretrained_embeddings)"
   ]
  },
  {
   "cell_type": "code",
   "execution_count": 9,
   "metadata": {},
   "outputs": [
    {
     "output_type": "execute_result",
     "data": {
      "text/plain": [
       "(AttractiveNet(\n",
       "   (embedding): AttractiveEmbedding(\n",
       "     (token): TokenEmbedding(12699, 300, padding_idx=1)\n",
       "   )\n",
       "   (bigramcnn): Sequential(\n",
       "     (0): Conv1d(300, 200, kernel_size=(3,), stride=(1,), padding=(1,))\n",
       "     (1): ReLU()\n",
       "     (2): Conv1d(200, 100, kernel_size=(3,), stride=(1,), padding=(1,))\n",
       "     (3): ReLU()\n",
       "     (4): Dropout(p=0.5, inplace=False)\n",
       "   )\n",
       "   (trigramcnn): Sequential(\n",
       "     (0): Conv1d(300, 200, kernel_size=(3,), stride=(1,), padding=(1,))\n",
       "     (1): ReLU()\n",
       "     (2): Conv1d(200, 100, kernel_size=(3,), stride=(1,), padding=(1,))\n",
       "     (3): ReLU()\n",
       "     (4): Dropout(p=0.5, inplace=False)\n",
       "   )\n",
       "   (encoder_bigram): LSTM(100, 30, batch_first=True, dropout=0.5, bidirectional=True)\n",
       "   (encoder_trigram): LSTM(100, 30, batch_first=True, dropout=0.5, bidirectional=True)\n",
       "   (linear): Sequential(\n",
       "     (0): Linear(in_features=124, out_features=30, bias=True)\n",
       "     (1): ReLU()\n",
       "     (2): Linear(in_features=30, out_features=1, bias=True)\n",
       "   )\n",
       " ),\n",
       " 4357441,\n",
       " 4357441)"
      ]
     },
     "metadata": {},
     "execution_count": 9
    }
   ],
   "source": [
    "AttractiveTrainer.model, AttractiveTrainer.config['total_params'], AttractiveTrainer.config['total_learned_params']"
   ]
  },
  {
   "cell_type": "code",
   "execution_count": 10,
   "metadata": {
    "tags": [
     "outputPrepend"
    ]
   },
   "outputs": [
    {
     "output_type": "stream",
     "name": "stderr",
     "text": [
      "     | 48/200 [00:19<00:58,  2.58it/s]\n",
      "EP_47 | train loss: 0.4277423783844593 | val loss: 0.35964897800894347 |\n",
      "Epoch:  24%|██▍       | 49/200 [00:19<00:58,  2.60it/s]\n",
      "EP_48 | train loss: 0.42768952612783395 | val loss: 0.3584035126601948 |\n",
      "Epoch:  25%|██▌       | 50/200 [00:19<00:57,  2.60it/s]\n",
      "EP_49 | train loss: 0.42623081207275393 | val loss: 0.35833711951386693 |\n",
      "Epoch:  26%|██▌       | 51/200 [00:20<00:57,  2.57it/s]\n",
      "EP_50 | train loss: 0.42204471849927716 | val loss: 0.3528667343597786 |\n",
      "Epoch:  26%|██▌       | 52/200 [00:20<00:57,  2.58it/s]\n",
      "EP_51 | train loss: 0.4296201229095459 | val loss: 0.36060341491418724 |\n",
      "Epoch:  26%|██▋       | 53/200 [00:21<00:56,  2.60it/s]\n",
      "EP_52 | train loss: 0.41932303204255944 | val loss: 0.34874791725009097 |\n",
      "Epoch:  27%|██▋       | 54/200 [00:21<00:56,  2.61it/s]\n",
      "EP_53 | train loss: 0.41903794513029213 | val loss: 0.34980617726550384 |\n",
      "Epoch:  28%|██▊       | 55/200 [00:21<00:55,  2.61it/s]\n",
      "EP_54 | train loss: 0.409603224548639 | val loss: 0.33970040316675226 |\n",
      "Epoch:  28%|██▊       | 56/200 [00:22<00:55,  2.59it/s]\n",
      "EP_55 | train loss: 0.41391120517955104 | val loss: 0.3450022772246716 |\n",
      "Epoch:  28%|██▊       | 57/200 [00:22<00:55,  2.60it/s]\n",
      "EP_56 | train loss: 0.40859025599909765 | val loss: 0.3403905928134918 |\n",
      "Epoch:  29%|██▉       | 58/200 [00:23<00:54,  2.60it/s]\n",
      "EP_57 | train loss: 0.4124963218090581 | val loss: 0.34418239429885267 |\n",
      "Epoch:  30%|██▉       | 59/200 [00:23<00:54,  2.60it/s]\n",
      "EP_58 | train loss: 0.40299053753123565 | val loss: 0.3351978110332115 |\n",
      "Epoch:  30%|███       | 60/200 [00:23<00:53,  2.61it/s]\n",
      "EP_59 | train loss: 0.4005801855349073 | val loss: 0.33415326709840815 |\n",
      "Epoch:  30%|███       | 61/200 [00:24<00:53,  2.59it/s]\n",
      "EP_60 | train loss: 0.4016713025523167 | val loss: 0.3355764057122025 |\n",
      "Epoch:  31%|███       | 62/200 [00:24<00:53,  2.60it/s]\n",
      "EP_61 | train loss: 0.39896727917241115 | val loss: 0.3346006063853993 |\n",
      "Epoch:  32%|███▏      | 63/200 [00:24<00:52,  2.60it/s]\n",
      "EP_62 | train loss: 0.3994955988491283 | val loss: 0.3330894282051161 |\n",
      "Epoch:  32%|███▏      | 64/200 [00:25<00:52,  2.59it/s]\n",
      "EP_63 | train loss: 0.3934924125671387 | val loss: 0.330309904089161 |\n",
      "Epoch:  32%|███▎      | 65/200 [00:25<00:51,  2.61it/s]\n",
      "EP_64 | train loss: 0.3901758156570734 | val loss: 0.3271668319608651 |\n",
      "Epoch:  33%|███▎      | 66/200 [00:26<00:51,  2.58it/s]\n",
      "EP_65 | train loss: 0.39379463476293225 | val loss: 0.3326616649534188 |\n",
      "Epoch:  34%|███▎      | 67/200 [00:26<00:51,  2.60it/s]\n",
      "EP_66 | train loss: 0.3855659751331105 | val loss: 0.324417055237527 |\n",
      "Epoch:  34%|███▍      | 68/200 [00:26<00:50,  2.61it/s]\n",
      "EP_67 | train loss: 0.3886654068441952 | val loss: 0.3272319961996639 |\n",
      "Epoch:  34%|███▍      | 69/200 [00:27<00:50,  2.61it/s]\n",
      "EP_68 | train loss: 0.3827950276580511 | val loss: 0.32304957333733053 |\n",
      "Epoch:  35%|███▌      | 70/200 [00:27<00:49,  2.62it/s]\n",
      "EP_69 | train loss: 0.38298910739375097 | val loss: 0.32421545421375947 |\n",
      "Epoch:  36%|███▌      | 71/200 [00:28<00:49,  2.58it/s]\n",
      "EP_70 | train loss: 0.38202092787798714 | val loss: 0.3247178605958527 |\n",
      "Epoch:  36%|███▌      | 72/200 [00:28<00:49,  2.60it/s]\n",
      "EP_71 | train loss: 0.3771992851706112 | val loss: 0.32094192913934294 |\n",
      "Epoch:  36%|███▋      | 73/200 [00:28<00:48,  2.60it/s]\n",
      "EP_72 | train loss: 0.37548297433292166 | val loss: 0.3202835970065173 |\n",
      "Epoch:  37%|███▋      | 74/200 [00:29<00:48,  2.61it/s]\n",
      "EP_73 | train loss: 0.3706766053742053 | val loss: 0.31721393617929194 |\n",
      "Epoch:  38%|███▊      | 75/200 [00:29<00:47,  2.61it/s]\n",
      "EP_74 | train loss: 0.3706866086698046 | val loss: 0.3172452794570549 |\n",
      "Epoch:  38%|███▊      | 76/200 [00:29<00:48,  2.58it/s]\n",
      "EP_75 | train loss: 0.37555028223523906 | val loss: 0.3231171667575836 |\n",
      "Epoch:  38%|███▊      | 77/200 [00:30<00:47,  2.60it/s]\n",
      "EP_76 | train loss: 0.3629298780478683 | val loss: 0.3135177925521252 |\n",
      "Epoch:  39%|███▉      | 78/200 [00:30<00:46,  2.60it/s]\n",
      "EP_77 | train loss: 0.3707131039862539 | val loss: 0.31969960355291177 |\n",
      "Epoch:  40%|███▉      | 79/200 [00:31<00:46,  2.61it/s]\n",
      "EP_78 | train loss: 0.362486569554198 | val loss: 0.3124628961086273 |\n",
      "Epoch:  40%|████      | 80/200 [00:31<00:46,  2.59it/s]\n",
      "EP_79 | train loss: 0.3585968489740409 | val loss: 0.31095555658433954 |\n",
      "Epoch:  40%|████      | 81/200 [00:31<00:46,  2.56it/s]\n",
      "EP_80 | train loss: 0.35702015278386134 | val loss: 0.3112819072078256 |\n",
      "Epoch:  41%|████      | 82/200 [00:32<00:45,  2.59it/s]\n",
      "EP_81 | train loss: 0.3529676091437246 | val loss: 0.3069548116010778 |\n",
      "Epoch:  42%|████▏     | 83/200 [00:32<00:45,  2.59it/s]\n",
      "EP_82 | train loss: 0.3492276710622451 | val loss: 0.30574486945189683 |\n",
      "Epoch:  42%|████▏     | 84/200 [00:33<00:44,  2.61it/s]\n",
      "EP_83 | train loss: 0.3496520248113894 | val loss: 0.3058901061029995 |\n",
      "Epoch:  42%|████▎     | 85/200 [00:33<00:44,  2.61it/s]\n",
      "EP_84 | train loss: 0.3658398403840907 | val loss: 0.31935171286265057 |\n",
      "Epoch:  43%|████▎     | 86/200 [00:33<00:44,  2.58it/s]\n",
      "EP_85 | train loss: 0.3430475580926035 | val loss: 0.30324889865576055 |\n",
      "Epoch:  44%|████▎     | 87/200 [00:34<00:43,  2.58it/s]\n",
      "EP_86 | train loss: 0.34374059321833594 | val loss: 0.30359796040198384 |\n",
      "Epoch:  44%|████▍     | 88/200 [00:34<00:43,  2.59it/s]\n",
      "EP_87 | train loss: 0.34378268391478295 | val loss: 0.30380944761575435 |\n",
      "Epoch:  44%|████▍     | 89/200 [00:34<00:42,  2.61it/s]\n",
      "EP_88 | train loss: 0.3346898733400831 | val loss: 0.29811689666673247 |\n",
      "Epoch:  45%|████▌     | 90/200 [00:35<00:42,  2.62it/s]\n",
      "EP_89 | train loss: 0.33349908192952477 | val loss: 0.29622918659565495 |\n",
      "Epoch:  46%|████▌     | 91/200 [00:35<00:42,  2.58it/s]\n",
      "EP_90 | train loss: 0.32894260602838854 | val loss: 0.29509536542144477 |\n",
      "Epoch:  46%|████▌     | 92/200 [00:36<00:41,  2.59it/s]\n",
      "EP_91 | train loss: 0.32463283725813324 | val loss: 0.29479482127170936 |\n",
      "Epoch:  46%|████▋     | 93/200 [00:36<00:41,  2.60it/s]\n",
      "EP_92 | train loss: 0.32271326289457436 | val loss: 0.2906126514369366 |\n",
      "Epoch:  47%|████▋     | 94/200 [00:36<00:40,  2.61it/s]\n",
      "EP_93 | train loss: 0.3204903191211177 | val loss: 0.28973764473316715 |\n",
      "Epoch:  48%|████▊     | 95/200 [00:37<00:40,  2.61it/s]\n",
      "EP_94 | train loss: 0.32099747050042243 | val loss: 0.28973862470365036 |\n",
      "Epoch:  48%|████▊     | 96/200 [00:37<00:40,  2.58it/s]\n",
      "EP_95 | train loss: 0.3133841210720586 | val loss: 0.28729262129933225 |\n",
      "Epoch:  48%|████▊     | 97/200 [00:38<00:39,  2.60it/s]\n",
      "EP_96 | train loss: 0.31579610646939743 | val loss: 0.28687488331514244 |\n",
      "Epoch:  49%|████▉     | 98/200 [00:38<00:39,  2.60it/s]\n",
      "EP_97 | train loss: 0.307024567267474 | val loss: 0.282438291054146 |\n",
      "Epoch:  50%|████▉     | 99/200 [00:38<00:38,  2.61it/s]\n",
      "EP_98 | train loss: 0.30623393479515526 | val loss: 0.28084471354297563 |\n",
      "Epoch:  50%|█████     | 100/200 [00:39<00:38,  2.62it/s]\n",
      "EP_99 | train loss: 0.3023446569255754 | val loss: 0.2770378852591795 |\n",
      "Epoch:  50%|█████     | 101/200 [00:39<00:38,  2.59it/s]\n",
      "EP_100 | train loss: 0.2991166208304611 | val loss: 0.2751667365139606 |\n",
      "Epoch:  51%|█████     | 102/200 [00:39<00:37,  2.60it/s]\n",
      "EP_101 | train loss: 0.29497166334414016 | val loss: 0.2726430729323742 |\n",
      "Epoch:  52%|█████▏    | 103/200 [00:40<00:37,  2.60it/s]\n",
      "EP_102 | train loss: 0.2912330837810741 | val loss: 0.27101389041133955 |\n",
      "Epoch:  52%|█████▏    | 104/200 [00:40<00:36,  2.61it/s]\n",
      "EP_103 | train loss: 0.2886300951826806 | val loss: 0.2677762537610297 |\n",
      "Epoch:  52%|█████▎    | 105/200 [00:41<00:36,  2.61it/s]\n",
      "EP_104 | train loss: 0.285790062418171 | val loss: 0.26609836957033944 |\n",
      "Epoch:  53%|█████▎    | 106/200 [00:41<00:36,  2.58it/s]\n",
      "EP_105 | train loss: 0.28057040607228 | val loss: 0.26452386846729353 |\n",
      "Epoch:  54%|█████▎    | 107/200 [00:41<00:35,  2.60it/s]\n",
      "EP_106 | train loss: 0.2858637674182069 | val loss: 0.26345816897410973 |\n",
      "Epoch:  54%|█████▍    | 108/200 [00:42<00:35,  2.60it/s]\n",
      "EP_107 | train loss: 0.2809918660743564 | val loss: 0.2600633338385937 |\n",
      "Epoch:  55%|█████▍    | 109/200 [00:42<00:34,  2.60it/s]\n",
      "EP_108 | train loss: 0.2708435301687203 | val loss: 0.25641854195033803 |\n",
      "Epoch:  55%|█████▌    | 110/200 [00:43<00:34,  2.61it/s]\n",
      "EP_109 | train loss: 0.26947213761946737 | val loss: 0.25337697594773534 |\n",
      "Epoch:  56%|█████▌    | 111/200 [00:43<00:34,  2.55it/s]\n",
      "EP_110 | train loss: 0.2628432339312983 | val loss: 0.249346301836126 |\n",
      "Epoch:  56%|█████▌    | 112/200 [00:43<00:34,  2.58it/s]\n",
      "EP_111 | train loss: 0.26830891814886354 | val loss: 0.25019919580104305 |\n",
      "Epoch:  56%|█████▋    | 113/200 [00:44<00:33,  2.59it/s]\n",
      "EP_112 | train loss: 0.26370426580017686 | val loss: 0.24660520927578794 |\n",
      "Epoch:  57%|█████▋    | 114/200 [00:44<00:33,  2.61it/s]\n",
      "EP_113 | train loss: 0.2689019955840765 | val loss: 0.24691818391575532 |\n",
      "Epoch:  57%|█████▊    | 115/200 [00:44<00:32,  2.62it/s]\n",
      "EP_114 | train loss: 0.24925326132306866 | val loss: 0.23933549429856094 |\n",
      "Epoch:  58%|█████▊    | 116/200 [00:45<00:32,  2.59it/s]\n",
      "EP_115 | train loss: 0.247837737494824 | val loss: 0.23598707423490636 |\n",
      "Epoch:  58%|█████▊    | 117/200 [00:45<00:31,  2.61it/s]\n",
      "EP_116 | train loss: 0.24434604878519095 | val loss: 0.23234159104964314 |\n",
      "Epoch:  59%|█████▉    | 118/200 [00:46<00:31,  2.63it/s]\n",
      "EP_117 | train loss: 0.23976605218999525 | val loss: 0.22881210434670543 |\n",
      "Epoch:  60%|█████▉    | 119/200 [00:46<00:30,  2.62it/s]\n",
      "EP_118 | train loss: 0.23387154971852023 | val loss: 0.2266104314841476 |\n",
      "Epoch:  60%|██████    | 120/200 [00:46<00:30,  2.62it/s]\n",
      "EP_119 | train loss: 0.23079971191929835 | val loss: 0.22937649313141317 |\n",
      "Epoch:  60%|██████    | 121/200 [00:47<00:30,  2.58it/s]\n",
      "EP_120 | train loss: 0.22836992366641176 | val loss: 0.21980049446517347 |\n",
      "Epoch:  61%|██████    | 122/200 [00:47<00:30,  2.59it/s]\n",
      "EP_121 | train loss: 0.23258394400278729 | val loss: 0.21971126397450766 |\n",
      "Epoch:  62%|██████▏   | 123/200 [00:48<00:29,  2.61it/s]\n",
      "EP_122 | train loss: 0.22419653453078925 | val loss: 0.2119811989513098 |\n",
      "Epoch:  62%|██████▏   | 124/200 [00:48<00:29,  2.61it/s]\n",
      "EP_123 | train loss: 0.2179207250183704 | val loss: 0.20990287790111467 |\n",
      "Epoch:  62%|██████▎   | 125/200 [00:48<00:28,  2.62it/s]\n",
      "EP_124 | train loss: 0.21115596738516115 | val loss: 0.20618263529796227 |\n",
      "Epoch:  63%|██████▎   | 126/200 [00:49<00:28,  2.59it/s]\n",
      "EP_125 | train loss: 0.20867724325142656 | val loss: 0.20175953472361846 |\n",
      "Epoch:  64%|██████▎   | 127/200 [00:49<00:28,  2.59it/s]\n",
      "EP_126 | train loss: 0.20172153571072746 | val loss: 0.19749097146239936 |\n",
      "Epoch:  64%|██████▍   | 128/200 [00:49<00:27,  2.60it/s]\n",
      "EP_127 | train loss: 0.20161814549390009 | val loss: 0.19281717842700435 |\n",
      "Epoch:  64%|██████▍   | 129/200 [00:50<00:27,  2.61it/s]\n",
      "EP_128 | train loss: 0.1976223623051363 | val loss: 0.19282943886869094 |\n",
      "Epoch:  65%|██████▌   | 130/200 [00:50<00:26,  2.61it/s]\n",
      "EP_129 | train loss: 0.21350322798186658 | val loss: 0.1941031860370262 |\n",
      "Epoch:  66%|██████▌   | 131/200 [00:51<00:26,  2.57it/s]\n",
      "EP_130 | train loss: 0.18548375251246432 | val loss: 0.1830710879727906 |\n",
      "Epoch:  66%|██████▌   | 132/200 [00:51<00:26,  2.58it/s]\n",
      "EP_131 | train loss: 0.1855728074616077 | val loss: 0.17770924579863454 |\n",
      "Epoch:  66%|██████▋   | 133/200 [00:51<00:25,  2.60it/s]\n",
      "EP_132 | train loss: 0.1789182284299065 | val loss: 0.1831109465337267 |\n",
      "Epoch:  67%|██████▋   | 134/200 [00:52<00:25,  2.60it/s]\n",
      "EP_133 | train loss: 0.18154424382191078 | val loss: 0.17029418956999684 |\n",
      "Epoch:  68%|██████▊   | 135/200 [00:52<00:24,  2.61it/s]\n",
      "EP_134 | train loss: 0.17245323961856318 | val loss: 0.16478891583049998 |\n",
      "Epoch:  68%|██████▊   | 136/200 [00:53<00:24,  2.57it/s]\n",
      "EP_135 | train loss: 0.16514914456535787 | val loss: 0.16306490816322028 |\n",
      "Epoch:  68%|██████▊   | 137/200 [00:53<00:24,  2.58it/s]\n",
      "EP_136 | train loss: 0.1631765089783014 | val loss: 0.1603531790714638 |\n",
      "Epoch:  69%|██████▉   | 138/200 [00:53<00:23,  2.59it/s]\n",
      "EP_137 | train loss: 0.1583849829785964 | val loss: 0.16373147099625832 |\n",
      "Epoch:  70%|██████▉   | 139/200 [00:54<00:23,  2.58it/s]\n",
      "EP_138 | train loss: 0.15535248027128332 | val loss: 0.1539431237706951 |\n",
      "Epoch:  70%|███████   | 140/200 [00:54<00:23,  2.59it/s]\n",
      "EP_139 | train loss: 0.15073779213662242 | val loss: 0.1539512685700959 |\n",
      "Epoch:  70%|███████   | 141/200 [00:55<00:23,  2.56it/s]\n",
      "EP_140 | train loss: 0.1460081934928894 | val loss: 0.14505172944536396 |\n",
      "Epoch:  71%|███████   | 142/200 [00:55<00:22,  2.54it/s]\n",
      "EP_141 | train loss: 0.14189379682727887 | val loss: 0.14169333845961327 |\n",
      "Epoch:  72%|███████▏  | 143/200 [00:55<00:22,  2.56it/s]\n",
      "EP_142 | train loss: 0.13631637914507996 | val loss: 0.13556697205001234 |\n",
      "Epoch:  72%|███████▏  | 144/200 [00:56<00:21,  2.58it/s]\n",
      "EP_143 | train loss: 0.13408129635979146 | val loss: 0.13645986540644778 |\n",
      "Epoch:  72%|███████▎  | 145/200 [00:56<00:21,  2.59it/s]\n",
      "EP_144 | train loss: 0.1296017326560675 | val loss: 0.1287485723401986 |\n",
      "Epoch:  73%|███████▎  | 146/200 [00:56<00:21,  2.57it/s]\n",
      "EP_145 | train loss: 0.1255792739344578 | val loss: 0.1277446793574913 |\n",
      "Epoch:  74%|███████▎  | 147/200 [00:57<00:20,  2.59it/s]\n",
      "EP_146 | train loss: 0.12152049354478425 | val loss: 0.11924177700398016 |\n",
      "Epoch:  74%|███████▍  | 148/200 [00:57<00:20,  2.59it/s]\n",
      "EP_147 | train loss: 0.11741026149076574 | val loss: 0.11661251327570747 |\n",
      "Epoch:  74%|███████▍  | 149/200 [00:58<00:19,  2.60it/s]\n",
      "EP_148 | train loss: 0.11335465767804315 | val loss: 0.11222389048221064 |\n",
      "Epoch:  75%|███████▌  | 150/200 [00:58<00:19,  2.60it/s]\n",
      "EP_149 | train loss: 0.11427055059694777 | val loss: 0.10946278186405406 |\n",
      "Epoch:  76%|███████▌  | 151/200 [00:58<00:19,  2.58it/s]\n",
      "EP_150 | train loss: 0.10640476825190526 | val loss: 0.10843000692479751 |\n",
      "Epoch:  76%|███████▌  | 152/200 [00:59<00:18,  2.59it/s]\n",
      "EP_151 | train loss: 0.10898405523861156 | val loss: 0.09967454508239147 |\n",
      "Epoch:  76%|███████▋  | 153/200 [00:59<00:18,  2.60it/s]\n",
      "EP_152 | train loss: 0.12412304410747453 | val loss: 0.10419904192288716 |\n",
      "Epoch:  77%|███████▋  | 154/200 [01:00<00:17,  2.59it/s]\n",
      "EP_153 | train loss: 0.10408900870996363 | val loss: 0.09248655566982195 |\n",
      "Epoch:  78%|███████▊  | 155/200 [01:00<00:17,  2.58it/s]\n",
      "EP_154 | train loss: 0.09543986250372494 | val loss: 0.0895776883059857 |\n",
      "Epoch:  78%|███████▊  | 156/200 [01:00<00:17,  2.55it/s]\n",
      "EP_155 | train loss: 0.08915411642953461 | val loss: 0.08848596963227964 |\n",
      "Epoch:  78%|███████▊  | 157/200 [01:01<00:16,  2.56it/s]\n",
      "EP_156 | train loss: 0.0976838838820364 | val loss: 0.08791892668780159 |\n",
      "Epoch:  79%|███████▉  | 158/200 [01:01<00:16,  2.56it/s]\n",
      "EP_157 | train loss: 0.08574177973410663 | val loss: 0.08184482566281862 |\n",
      "Epoch:  80%|███████▉  | 159/200 [01:01<00:15,  2.57it/s]\n",
      "EP_158 | train loss: 0.08013701614211588 | val loss: 0.08412428171026941 |\n",
      "Epoch:  80%|████████  | 160/200 [01:02<00:15,  2.57it/s]\n",
      "EP_159 | train loss: 0.0783272926713906 | val loss: 0.07669209557421067 |\n",
      "Epoch:  80%|████████  | 161/200 [01:02<00:15,  2.55it/s]\n",
      "EP_160 | train loss: 0.0866239538379744 | val loss: 0.07433826490944508 |\n",
      "Epoch:  81%|████████  | 162/200 [01:03<00:14,  2.56it/s]\n",
      "EP_161 | train loss: 0.07392427185002495 | val loss: 0.082249429880404 |\n",
      "Epoch:  82%|████████▏ | 163/200 [01:03<00:14,  2.51it/s]\n",
      "EP_162 | train loss: 0.06721742585593579 | val loss: 0.06816024289411657 |\n",
      "Epoch:  82%|████████▏ | 164/200 [01:03<00:14,  2.55it/s]\n",
      "EP_163 | train loss: 0.06524390776952108 | val loss: 0.06473225004532758 |\n",
      "Epoch:  82%|████████▎ | 165/200 [01:04<00:13,  2.57it/s]\n",
      "EP_164 | train loss: 0.06417373933044135 | val loss: 0.062277191994236966 |\n",
      "Epoch:  83%|████████▎ | 166/200 [01:04<00:13,  2.55it/s]\n",
      "EP_165 | train loss: 0.0613249211919074 | val loss: 0.058481890781252995 |\n",
      "Epoch:  84%|████████▎ | 167/200 [01:05<00:12,  2.57it/s]\n",
      "EP_166 | train loss: 0.057892736149769204 | val loss: 0.06215219170439477 |\n",
      "Epoch:  84%|████████▍ | 168/200 [01:05<00:12,  2.59it/s]\n",
      "EP_167 | train loss: 0.06729289316663555 | val loss: 0.05968414568433575 |\n",
      "Epoch:  84%|████████▍ | 169/200 [01:05<00:11,  2.60it/s]\n",
      "EP_168 | train loss: 0.052119975113401225 | val loss: 0.05688138744410347 |\n",
      "Epoch:  85%|████████▌ | 170/200 [01:06<00:11,  2.59it/s]\n",
      "EP_169 | train loss: 0.0506840365190132 | val loss: 0.058079791419646316 |\n",
      "Epoch:  86%|████████▌ | 171/200 [01:06<00:11,  2.57it/s]\n",
      "EP_170 | train loss: 0.056871800329170975 | val loss: 0.052767869304208195 |\n",
      "Epoch:  86%|████████▌ | 172/200 [01:07<00:10,  2.59it/s]\n",
      "EP_171 | train loss: 0.05038146014307059 | val loss: 0.05017272134621938 |\n",
      "Epoch:  86%|████████▋ | 173/200 [01:07<00:10,  2.56it/s]\n",
      "EP_172 | train loss: 0.05028437714950711 | val loss: 0.04693825017003452 |\n",
      "Epoch:  87%|████████▋ | 174/200 [01:07<00:10,  2.57it/s]\n",
      "EP_173 | train loss: 0.04407441540091645 | val loss: 0.04758929212888082 |\n",
      "Epoch:  88%|████████▊ | 175/200 [01:08<00:09,  2.59it/s]\n",
      "EP_174 | train loss: 0.046891516213323554 | val loss: 0.05784662739903319 |\n",
      "Epoch:  88%|████████▊ | 176/200 [01:08<00:09,  2.56it/s]\n",
      "EP_175 | train loss: 0.046780943812108504 | val loss: 0.05834438301184598 |\n",
      "Epoch:  88%|████████▊ | 177/200 [01:09<00:08,  2.57it/s]\n",
      "EP_176 | train loss: 0.047848008017913966 | val loss: 0.04298316935698191 |\n",
      "Epoch:  89%|████████▉ | 178/200 [01:09<00:08,  2.59it/s]\n",
      "EP_177 | train loss: 0.04239073752188215 | val loss: 0.039758967710476295 |\n",
      "Epoch:  90%|████████▉ | 179/200 [01:09<00:08,  2.60it/s]\n",
      "EP_178 | train loss: 0.041137262945081673 | val loss: 0.03957127545978509 |\n",
      "Epoch:  90%|█████████ | 180/200 [01:10<00:07,  2.61it/s]\n",
      "EP_179 | train loss: 0.0354472818327885 | val loss: 0.0436856466181138 |\n",
      "Epoch:  90%|█████████ | 181/200 [01:10<00:07,  2.58it/s]\n",
      "EP_180 | train loss: 0.04375693914937038 | val loss: 0.03959790062086255 |\n",
      "Epoch:  91%|█████████ | 182/200 [01:10<00:06,  2.59it/s]\n",
      "EP_181 | train loss: 0.047978048114215625 | val loss: 0.040650775619581636 |\n",
      "Epoch:  92%|█████████▏| 183/200 [01:11<00:06,  2.60it/s]\n",
      "EP_182 | train loss: 0.031025497527683483 | val loss: 0.03877756350180682 |\n",
      "Epoch:  92%|█████████▏| 184/200 [01:11<00:06,  2.61it/s]\n",
      "EP_183 | train loss: 0.038812225706437053 | val loss: 0.03541614641161526 |\n",
      "Epoch:  92%|█████████▎| 185/200 [01:12<00:05,  2.62it/s]\n",
      "EP_184 | train loss: 0.028649160499666253 | val loss: 0.03301505934374005 |\n",
      "Epoch:  93%|█████████▎| 186/200 [01:12<00:05,  2.57it/s]\n",
      "EP_185 | train loss: 0.027616840571749443 | val loss: 0.03146271772828756 |\n",
      "Epoch:  94%|█████████▎| 187/200 [01:12<00:05,  2.59it/s]\n",
      "EP_186 | train loss: 0.026546637655473222 | val loss: 0.03033106291995329 |\n",
      "Epoch:  94%|█████████▍| 188/200 [01:13<00:04,  2.60it/s]\n",
      "EP_187 | train loss: 0.025395384635411057 | val loss: 0.030979595786216212 |\n",
      "Epoch:  94%|█████████▍| 189/200 [01:13<00:04,  2.61it/s]\n",
      "EP_188 | train loss: 0.02465742902428496 | val loss: 0.029635486357352313 |\n",
      "Epoch:  95%|█████████▌| 190/200 [01:13<00:03,  2.61it/s]\n",
      "EP_189 | train loss: 0.025006237333896113 | val loss: 0.026935992579834134 |\n",
      "Epoch:  96%|█████████▌| 191/200 [01:14<00:03,  2.58it/s]\n",
      "EP_190 | train loss: 0.026882471114981408 | val loss: 0.026082000019503573 |\n",
      "Epoch:  96%|█████████▌| 192/200 [01:14<00:03,  2.60it/s]\n",
      "EP_191 | train loss: 0.022526425999753616 | val loss: 0.02841178904853615 |\n",
      "Epoch:  96%|█████████▋| 193/200 [01:15<00:02,  2.60it/s]\n",
      "EP_192 | train loss: 0.022383008897304536 | val loss: 0.02892820157256781 |\n",
      "Epoch:  97%|█████████▋| 194/200 [01:15<00:02,  2.59it/s]\n",
      "EP_193 | train loss: 0.0287098743167578 | val loss: 0.025519152774530297 |\n",
      "Epoch:  98%|█████████▊| 195/200 [01:15<00:01,  2.60it/s]\n",
      "EP_194 | train loss: 0.023222583941384857 | val loss: 0.023715545441590102 |\n",
      "Epoch:  98%|█████████▊| 196/200 [01:16<00:01,  2.57it/s]\n",
      "EP_195 | train loss: 0.02596830205590117 | val loss: 0.02314102839605481 |\n",
      "Epoch:  98%|█████████▊| 197/200 [01:16<00:01,  2.58it/s]\n",
      "EP_196 | train loss: 0.019926428853296766 | val loss: 0.027941077363257315 |\n",
      "Epoch:  99%|█████████▉| 198/200 [01:17<00:00,  2.59it/s]\n",
      "EP_197 | train loss: 0.021021712556773542 | val loss: 0.03001933413393357 |\n",
      "Epoch: 100%|█████████▉| 199/200 [01:17<00:00,  2.61it/s]\n",
      "EP_198 | train loss: 0.01797564006319233 | val loss: 0.021595742261292888 |\n",
      "Epoch: 100%|██████████| 200/200 [01:17<00:00,  2.57it/s]\n",
      "EP_199 | train loss: 0.01887963323616514 | val loss: 0.020176199283085616 |\n",
      "\n"
     ]
    }
   ],
   "source": [
    "AttractiveTrainer.train()"
   ]
  },
  {
   "cell_type": "markdown",
   "metadata": {},
   "source": [
    "## for classification, not better"
   ]
  },
  {
   "cell_type": "markdown",
   "metadata": {},
   "source": [
    "## Below is testing"
   ]
  },
  {
   "cell_type": "code",
   "execution_count": 8,
   "metadata": {},
   "outputs": [
    {
     "output_type": "execute_result",
     "data": {
      "text/plain": [
       "AttractiveNet(\n",
       "  (embedding): AttractiveEmbedding(\n",
       "    (token): TokenEmbedding(12699, 300, padding_idx=1)\n",
       "  )\n",
       "  (bigramcnn): Sequential(\n",
       "    (0): Conv1d(300, 200, kernel_size=(3,), stride=(1,), padding=(1,))\n",
       "    (1): ReLU()\n",
       "    (2): Conv1d(200, 100, kernel_size=(3,), stride=(1,), padding=(1,))\n",
       "    (3): ReLU()\n",
       "    (4): Dropout(p=0.5, inplace=False)\n",
       "  )\n",
       "  (trigramcnn): Sequential(\n",
       "    (0): Conv1d(300, 200, kernel_size=(3,), stride=(1,), padding=(1,))\n",
       "    (1): ReLU()\n",
       "    (2): Conv1d(200, 100, kernel_size=(3,), stride=(1,), padding=(1,))\n",
       "    (3): ReLU()\n",
       "    (4): Dropout(p=0.5, inplace=False)\n",
       "  )\n",
       "  (encoder_bigram): LSTM(100, 30, batch_first=True, dropout=0.5, bidirectional=True)\n",
       "  (encoder_trigram): LSTM(100, 30, batch_first=True, dropout=0.5, bidirectional=True)\n",
       "  (linear): Sequential(\n",
       "    (0): Linear(in_features=124, out_features=30, bias=True)\n",
       "    (1): ReLU()\n",
       "    (2): Linear(in_features=30, out_features=1, bias=True)\n",
       "  )\n",
       ")"
      ]
     },
     "metadata": {},
     "execution_count": 8
    }
   ],
   "source": [
    "from attractivenet import AttractiveNet\n",
    "\n",
    "PATH = './model/CNN_LSTM_20201107-163049/0.357020.80'\n",
    "\n",
    "load_model = AttractiveNet(config).to(AttractiveData.device)\n",
    "load_model.load_state_dict(torch.load(PATH))\n",
    "load_model.eval()"
   ]
  },
  {
   "cell_type": "code",
   "execution_count": 9,
   "metadata": {},
   "outputs": [],
   "source": [
    "def predict_attractive(sentence, category, phase):\n",
    "    indexed_sentence = [AttractiveData.TEXT.vocab.stoi[t] for t in sentence]\n",
    "    indexed_category = [AttractiveData.CATEGORIES_LABEL.vocab.stoi[category]]\n",
    "    tensor_sentence = torch.LongTensor(indexed_sentence).to(AttractiveData.device)\n",
    "    tensor_category = torch.LongTensor(indexed_category).to(AttractiveData.device)\n",
    "\n",
    "    tensor_sentence = tensor_sentence.unsqueeze(0)\n",
    "    # print(tensor_sentence.shape)\n",
    "\n",
    "    prediction = load_model(tensor_sentence, tensor_category, phase=phase)\n",
    "\n",
    "    return prediction"
   ]
  },
  {
   "cell_type": "code",
   "execution_count": 10,
   "metadata": {
    "tags": []
   },
   "outputs": [],
   "source": [
    "# train mean = 3.15, test mean = 2.8\n",
    "predict_list = []\n",
    "with torch.no_grad():\n",
    "    for i, sentence in enumerate(AttractiveData.test_data):\n",
    "        prediction = predict_attractive(sentence.Headline, sentence.Category, 'test')\n",
    "        predict_list.append(prediction.item())\n",
    "        # predict_list.append(prediction.item())\n",
    "AttractiveData.df_test['Label'] = predict_list\n",
    "AttractiveData.df_test[['ID', 'Label']].to_csv(config['save_name'] + '.csv', index=False)"
   ]
  },
  {
   "cell_type": "markdown",
   "metadata": {},
   "source": [
    "## Below for statistics"
   ]
  },
  {
   "cell_type": "code",
   "execution_count": 11,
   "metadata": {},
   "outputs": [],
   "source": [
    "import statistics\n",
    "from sklearn.metrics import mean_squared_error"
   ]
  },
  {
   "cell_type": "code",
   "execution_count": 12,
   "metadata": {},
   "outputs": [],
   "source": [
    "# # train mean = 3.15, test mean = 2.8\n",
    "# train_list = []\n",
    "# for i, sentence in enumerate(AttractiveData.train_data):\n",
    "#     prediction = predict_attractive(sentence.Headline, sentence.Category, 'train')\n",
    "#     train_list.append(prediction.item())\n",
    "#     # train_list.append(prediction.item())\n",
    "# # print(train_list)\n",
    "# mean_squared_error(pd.read_csv('data/train.csv').sort_values(['ID']).Label.to_list(), train_list), statistics.mean(train_list), statistics.stdev(train_list)"
   ]
  },
  {
   "cell_type": "code",
   "execution_count": 13,
   "metadata": {},
   "outputs": [],
   "source": [
    "# train_list[0:5], pd.read_csv('data/train.csv').sort_values(['ID']).Label.to_list()[0:5]"
   ]
  },
  {
   "cell_type": "code",
   "execution_count": 14,
   "metadata": {},
   "outputs": [],
   "source": [
    "# a = AttractiveData.df_train['Label'].to_list()\n",
    "# statistics.mean(a), statistics.stdev(a)"
   ]
  },
  {
   "cell_type": "code",
   "execution_count": 15,
   "metadata": {},
   "outputs": [
    {
     "output_type": "execute_result",
     "data": {
      "text/plain": [
       "(2.772121728779461, 0.3605803980984365)"
      ]
     },
     "metadata": {},
     "execution_count": 15
    }
   ],
   "source": [
    "statistics.mean(predict_list), statistics.stdev(predict_list)"
   ]
  },
  {
   "cell_type": "code",
   "execution_count": 16,
   "metadata": {},
   "outputs": [
    {
     "output_type": "execute_result",
     "data": {
      "text/plain": [
       "(0.00018564600777072737, 2.774164993857497, 0.3615900775742119)"
      ]
     },
     "metadata": {},
     "execution_count": 16
    }
   ],
   "source": [
    "baseline_list = pd.read_csv('baseline.csv').sort_values(['ID']).Label.to_list()\n",
    "mean_squared_error(baseline_list, predict_list), statistics.mean(baseline_list), statistics.stdev(baseline_list)"
   ]
  },
  {
   "cell_type": "code",
   "execution_count": null,
   "metadata": {},
   "outputs": [],
   "source": []
  },
  {
   "cell_type": "code",
   "execution_count": 18,
   "metadata": {},
   "outputs": [
    {
     "data": {
      "text/plain": [
       "0.1609754968529207"
      ]
     },
     "execution_count": 18,
     "metadata": {},
     "output_type": "execute_result"
    }
   ],
   "source": [
    "mean_squared_error(pd.read_csv('baseline.csv').sort_values(['ID']).Label.to_list(), pd.read_csv('./predict/ensemble.csv').sort_values(['ID']).Label.to_list())"
   ]
  },
  {
   "cell_type": "code",
   "execution_count": 10,
   "metadata": {},
   "outputs": [],
   "source": [
    "from sklearn.model_selection import KFold\n",
    "import numpy as np"
   ]
  },
  {
   "cell_type": "code",
   "execution_count": 11,
   "metadata": {},
   "outputs": [],
   "source": []
  },
  {
   "cell_type": "code",
   "execution_count": 12,
   "metadata": {},
   "outputs": [
    {
     "data": {
      "text/plain": [
       "2040"
      ]
     },
     "execution_count": 12,
     "metadata": {},
     "output_type": "execute_result"
    }
   ],
   "source": [
    "len(AttractiveData.train_data.examples)"
   ]
  },
  {
   "cell_type": "code",
   "execution_count": 13,
   "metadata": {},
   "outputs": [],
   "source": []
  },
  {
   "cell_type": "code",
   "execution_count": null,
   "metadata": {},
   "outputs": [],
   "source": []
  }
 ],
 "metadata": {
  "kernelspec": {
   "display_name": "DS_hw2",
   "language": "python",
   "name": "ds_hw2"
  },
  "language_info": {
   "codemirror_mode": {
    "name": "ipython",
    "version": 3
   },
   "file_extension": ".py",
   "mimetype": "text/x-python",
   "name": "python",
   "nbconvert_exporter": "python",
   "pygments_lexer": "ipython3",
   "version": "3.6.12-final"
  }
 },
 "nbformat": 4,
 "nbformat_minor": 4
}