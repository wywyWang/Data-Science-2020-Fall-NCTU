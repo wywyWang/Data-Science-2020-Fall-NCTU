{
 "cells": [
  {
   "cell_type": "code",
   "execution_count": 1,
   "metadata": {},
   "outputs": [],
   "source": [
    "# common packages\n",
    "import pandas as pd\n",
    "import time\n",
    "\n",
    "# # DL framework\n",
    "import torch\n",
    "from torchtext import data\n",
    "\n",
    "from attractivedata import AttractiveData\n",
    "from trainer import AttractiveTrainer"
   ]
  },
  {
   "cell_type": "code",
   "execution_count": 2,
   "metadata": {},
   "outputs": [],
   "source": [
    "seed_value = 42\n",
    "torch.manual_seed(seed_value)\n",
    "torch.cuda.manual_seed(seed_value)\n",
    "torch.cuda.manual_seed_all(seed_value) # gpu vars\n",
    "torch.backends.cudnn.deterministic = True  #needed\n",
    "torch.backends.cudnn.benchmark = False"
   ]
  },
  {
   "cell_type": "markdown",
   "metadata": {},
   "source": [
    "# TODO: \n",
    "- [ ] cnn plus residual network\n",
    "- [ ] word embedding multiply tfidf\n",
    "- [ ] use word2vec"
   ]
  },
  {
   "cell_type": "markdown",
   "metadata": {},
   "source": [
    "## Load and prepare data"
   ]
  },
  {
   "cell_type": "code",
   "execution_count": 3,
   "metadata": {},
   "outputs": [],
   "source": [
    "train_file = 'data/train.csv'\n",
    "val_file = 'example/val.csv'\n",
    "test_file = 'data/test.csv'\n",
    "pretrained_file = 'glove.840B.300d'\n",
    "config = {\n",
    "    'max_seq': 40,\n",
    "    'min_freq': 0,\n",
    "    'batch_size': 64,\n",
    "    'pretrained_file': pretrained_file\n",
    "}\n"
   ]
  },
  {
   "cell_type": "code",
   "execution_count": 4,
   "metadata": {},
   "outputs": [],
   "source": [
    "AttractiveData = AttractiveData(train_file, val_file, test_file, pretrained_file, config)"
   ]
  },
  {
   "cell_type": "code",
   "execution_count": 5,
   "metadata": {},
   "outputs": [],
   "source": [
    "# for i, sentence in enumerate(AttractiveData.test_data):\n",
    "#     if i == 3:\n",
    "#         print(vars(AttractiveData.train_data[i]), vars(sentence))"
   ]
  },
  {
   "cell_type": "code",
   "execution_count": 6,
   "metadata": {},
   "outputs": [
    {
     "output_type": "execute_result",
     "data": {
      "text/plain": [
       "38"
      ]
     },
     "metadata": {},
     "execution_count": 6
    }
   ],
   "source": [
    "max_len = 0\n",
    "a = AttractiveData.train_data\n",
    "for i in range(len(a)):\n",
    "    if len(a[i].Headline) >= max_len:\n",
    "        max_len = len(a[i].Headline)\n",
    "max_len"
   ]
  },
  {
   "cell_type": "markdown",
   "metadata": {},
   "source": [
    "## Start to train"
   ]
  },
  {
   "cell_type": "code",
   "execution_count": 7,
   "metadata": {},
   "outputs": [
    {
     "output_type": "stream",
     "name": "stdout",
     "text": [
      "torch.Size([12699, 300])\n"
     ]
    }
   ],
   "source": [
    "config['timestr'] = time.strftime(\"%Y%m%d-%H%M%S\")\n",
    "config['save_name'] = 'CNN_LSTM'\n",
    "config['input_dim'] = len(AttractiveData.TEXT.vocab)\n",
    "config['embedding_dim'] = 300\n",
    "config['category_dim'] = len(AttractiveData.CATEGORIES_LABEL.vocab)\n",
    "config['category_embedding_dim'] = 10\n",
    "config['hidden_dim'] = 30\n",
    "config['output_dim'] = 1\n",
    "config['log_steps'] = 10\n",
    "config['epochs'] = 200\n",
    "config['lr'] = {\n",
    "    'encoder': 1e-5,\n",
    "    'embedding': 6e-6,\n",
    "    'linear': 1e-5\n",
    "}\n",
    "config['num_layers'] = 1\n",
    "config['kernel_size'] = 3\n",
    "config['dropout'] = 0.5\n",
    "config['train_len'] = AttractiveData.train_len\n",
    "config['val_len'] = AttractiveData.val_len\n",
    "config['test_len'] = AttractiveData.test_len\n",
    "\n",
    "pretrained_embeddings = AttractiveData.TEXT.vocab.vectors\n",
    "print(pretrained_embeddings.shape)"
   ]
  },
  {
   "cell_type": "code",
   "execution_count": 8,
   "metadata": {},
   "outputs": [],
   "source": [
    "AttractiveTrainer = AttractiveTrainer(config, AttractiveData.device, AttractiveData.trainloader, AttractiveData.valloader, pretrained_embeddings)"
   ]
  },
  {
   "cell_type": "code",
   "execution_count": 9,
   "metadata": {},
   "outputs": [
    {
     "output_type": "execute_result",
     "data": {
      "text/plain": [
       "(AttractiveNet(\n",
       "   (embedding): AttractiveEmbedding(\n",
       "     (token): TokenEmbedding(12699, 300, padding_idx=1)\n",
       "   )\n",
       "   (bigramcnn): Sequential(\n",
       "     (0): Conv1d(300, 200, kernel_size=(2,), stride=(1,), padding=(1,))\n",
       "     (1): ReLU()\n",
       "     (2): Conv1d(200, 100, kernel_size=(2,), stride=(1,), padding=(1,))\n",
       "     (3): ReLU()\n",
       "     (4): Dropout(p=0.5, inplace=False)\n",
       "   )\n",
       "   (trigramcnn): Sequential(\n",
       "     (0): Conv1d(300, 200, kernel_size=(3,), stride=(1,), padding=(1,))\n",
       "     (1): ReLU()\n",
       "     (2): Conv1d(200, 100, kernel_size=(3,), stride=(1,), padding=(1,))\n",
       "     (3): ReLU()\n",
       "     (4): Dropout(p=0.5, inplace=False)\n",
       "   )\n",
       "   (encoder_bigram): LSTM(100, 30, batch_first=True, dropout=0.5, bidirectional=True)\n",
       "   (encoder_trigram): LSTM(100, 30, batch_first=True, dropout=0.5, bidirectional=True)\n",
       "   (linear): Sequential(\n",
       "     (0): Linear(in_features=124, out_features=30, bias=True)\n",
       "     (1): ReLU()\n",
       "     (2): Linear(in_features=30, out_features=1, bias=True)\n",
       "   )\n",
       " ),\n",
       " 4277441,\n",
       " 4277441)"
      ]
     },
     "metadata": {},
     "execution_count": 9
    }
   ],
   "source": [
    "AttractiveTrainer.model, AttractiveTrainer.config['total_params'], AttractiveTrainer.config['total_learned_params']"
   ]
  },
  {
   "cell_type": "code",
   "execution_count": 10,
   "metadata": {
    "tags": [
     "outputPrepend"
    ]
   },
   "outputs": [
    {
     "output_type": "stream",
     "name": "stderr",
     "text": [
      "00:19<01:03,  2.40it/s]\n",
      "EP_47 | train loss: 0.45503654199488025 | val loss: 0.3984561603443295 |\n",
      "Epoch:  24%|██▍       | 49/200 [00:20<01:02,  2.42it/s]\n",
      "EP_48 | train loss: 0.4520741023269354 | val loss: 0.39376190655371723 |\n",
      "Epoch:  25%|██▌       | 50/200 [00:20<01:01,  2.44it/s]\n",
      "EP_49 | train loss: 0.44937220928715726 | val loss: 0.389470029111002 |\n",
      "Epoch:  26%|██▌       | 51/200 [00:20<01:01,  2.42it/s]\n",
      "EP_50 | train loss: 0.44663257692374436 | val loss: 0.3855911206965353 |\n",
      "Epoch:  26%|██▌       | 52/200 [00:21<00:59,  2.47it/s]\n",
      "EP_51 | train loss: 0.44222264757343366 | val loss: 0.38070329088790744 |\n",
      "Epoch:  26%|██▋       | 53/200 [00:21<00:59,  2.47it/s]\n",
      "EP_52 | train loss: 0.4378578821818034 | val loss: 0.375832654097501 |\n",
      "Epoch:  27%|██▋       | 54/200 [00:22<00:59,  2.46it/s]\n",
      "EP_53 | train loss: 0.4379394260107302 | val loss: 0.37285038127618675 |\n",
      "Epoch:  28%|██▊       | 55/200 [00:22<00:59,  2.46it/s]\n",
      "EP_54 | train loss: 0.4328592150819068 | val loss: 0.3683357840659572 |\n",
      "Epoch:  28%|██▊       | 56/200 [00:22<00:59,  2.42it/s]\n",
      "EP_55 | train loss: 0.43419810650395413 | val loss: 0.36703121779011744 |\n",
      "Epoch:  28%|██▊       | 57/200 [00:23<00:58,  2.43it/s]\n",
      "EP_56 | train loss: 0.42901822725931804 | val loss: 0.36257561223179685 |\n",
      "Epoch:  29%|██▉       | 58/200 [00:23<00:58,  2.44it/s]\n",
      "EP_57 | train loss: 0.42695270239138133 | val loss: 0.36022309228485705 |\n",
      "Epoch:  30%|██▉       | 59/200 [00:24<00:58,  2.43it/s]\n",
      "EP_58 | train loss: 0.4254666711769852 | val loss: 0.35804969306085627 |\n",
      "Epoch:  30%|███       | 60/200 [00:24<00:57,  2.42it/s]\n",
      "EP_59 | train loss: 0.4203784082450119 | val loss: 0.3536099125357235 |\n",
      "Epoch:  30%|███       | 61/200 [00:25<00:59,  2.32it/s]\n",
      "EP_60 | train loss: 0.41838403870077695 | val loss: 0.3521663137510711 |\n",
      "Epoch:  31%|███       | 62/200 [00:25<00:58,  2.36it/s]\n",
      "EP_61 | train loss: 0.4168950342664532 | val loss: 0.35064399242401123 |\n",
      "Epoch:  32%|███▏      | 63/200 [00:25<00:59,  2.31it/s]\n",
      "EP_62 | train loss: 0.41324667463115616 | val loss: 0.34733927717395857 |\n",
      "Epoch:  32%|███▏      | 64/200 [00:26<00:59,  2.28it/s]\n",
      "EP_63 | train loss: 0.4125521463506362 | val loss: 0.3476613263289134 |\n",
      "Epoch:  32%|███▎      | 65/200 [00:26<00:58,  2.32it/s]\n",
      "EP_64 | train loss: 0.40749965929517556 | val loss: 0.3434287934911017 |\n",
      "Epoch:  33%|███▎      | 66/200 [00:27<00:57,  2.34it/s]\n",
      "EP_65 | train loss: 0.4062634094088685 | val loss: 0.3427949676326677 |\n",
      "Epoch:  34%|███▎      | 67/200 [00:27<00:56,  2.37it/s]\n",
      "EP_66 | train loss: 0.40212453393375175 | val loss: 0.34014251477578106 |\n",
      "Epoch:  34%|███▍      | 68/200 [00:28<00:55,  2.40it/s]\n",
      "EP_67 | train loss: 0.4000581591737037 | val loss: 0.33960845014628244 |\n",
      "Epoch:  34%|███▍      | 69/200 [00:28<00:53,  2.43it/s]\n",
      "EP_68 | train loss: 0.3982382531259574 | val loss: 0.33828549992804435 |\n",
      "Epoch:  35%|███▌      | 70/200 [00:28<00:53,  2.45it/s]\n",
      "EP_69 | train loss: 0.3977399667104085 | val loss: 0.33841748681722905 |\n",
      "Epoch:  36%|███▌      | 71/200 [00:29<00:52,  2.44it/s]\n",
      "EP_70 | train loss: 0.39245886148190967 | val loss: 0.3351601122641096 |\n",
      "Epoch:  36%|███▌      | 72/200 [00:29<00:52,  2.46it/s]\n",
      "EP_71 | train loss: 0.3902658182031968 | val loss: 0.33404069437700157 |\n",
      "Epoch:  36%|███▋      | 73/200 [00:30<00:51,  2.44it/s]\n",
      "EP_72 | train loss: 0.3902682023889878 | val loss: 0.33524109452378514 |\n",
      "Epoch:  37%|███▋      | 74/200 [00:30<00:51,  2.46it/s]\n",
      "EP_73 | train loss: 0.3886603860294118 | val loss: 0.3347316162258971 |\n",
      "Epoch:  38%|███▊      | 75/200 [00:30<00:50,  2.50it/s]\n",
      "EP_74 | train loss: 0.38091613545137293 | val loss: 0.3301674811279072 |\n",
      "Epoch:  38%|███▊      | 76/200 [00:31<00:49,  2.48it/s]\n",
      "EP_75 | train loss: 0.37980418018266265 | val loss: 0.3299780867847742 |\n",
      "Epoch:  38%|███▊      | 77/200 [00:31<00:48,  2.52it/s]\n",
      "EP_76 | train loss: 0.3752817439097984 | val loss: 0.3292223676746967 |\n",
      "Epoch:  39%|███▉      | 78/200 [00:32<00:47,  2.55it/s]\n",
      "EP_77 | train loss: 0.37171036215389475 | val loss: 0.32718449129777794 |\n",
      "Epoch:  40%|███▉      | 79/200 [00:32<00:46,  2.58it/s]\n",
      "EP_78 | train loss: 0.37096722453248265 | val loss: 0.326004588136486 |\n",
      "Epoch:  40%|████      | 80/200 [00:32<00:46,  2.59it/s]\n",
      "EP_79 | train loss: 0.36892515444288065 | val loss: 0.3253321098346336 |\n",
      "Epoch:  40%|████      | 81/200 [00:33<00:46,  2.54it/s]\n",
      "EP_80 | train loss: 0.3680259807437074 | val loss: 0.32534236417097206 |\n",
      "Epoch:  41%|████      | 82/200 [00:33<00:46,  2.56it/s]\n",
      "EP_81 | train loss: 0.36141679660946713 | val loss: 0.3224298790389416 |\n",
      "Epoch:  42%|████▏     | 83/200 [00:33<00:45,  2.57it/s]\n",
      "EP_82 | train loss: 0.36658614196029365 | val loss: 0.32607733735851213 |\n",
      "Epoch:  42%|████▏     | 84/200 [00:34<00:45,  2.58it/s]\n",
      "EP_83 | train loss: 0.3588846935945399 | val loss: 0.3207429425389159 |\n",
      "Epoch:  42%|████▎     | 85/200 [00:34<00:44,  2.57it/s]\n",
      "EP_84 | train loss: 0.3524991746042289 | val loss: 0.31702957024761275 |\n",
      "Epoch:  43%|████▎     | 86/200 [00:35<00:44,  2.54it/s]\n",
      "EP_85 | train loss: 0.35007289998671587 | val loss: 0.31566404069171233 |\n",
      "Epoch:  44%|████▎     | 87/200 [00:35<00:44,  2.52it/s]\n",
      "EP_86 | train loss: 0.35032915227553424 | val loss: 0.314990079870411 |\n",
      "Epoch:  44%|████▍     | 88/200 [00:35<00:46,  2.42it/s]\n",
      "EP_87 | train loss: 0.3468076509587905 | val loss: 0.312579424942241 |\n",
      "Epoch:  44%|████▍     | 89/200 [00:36<00:45,  2.45it/s]\n",
      "EP_88 | train loss: 0.33822382384655525 | val loss: 0.3103741740479189 |\n",
      "Epoch:  45%|████▌     | 90/200 [00:36<00:44,  2.48it/s]\n",
      "EP_89 | train loss: 0.33869947826161106 | val loss: 0.30881479090335323 |\n",
      "Epoch:  46%|████▌     | 91/200 [00:37<00:43,  2.49it/s]\n",
      "EP_90 | train loss: 0.33300046827278884 | val loss: 0.3051636803383921 |\n",
      "Epoch:  46%|████▌     | 92/200 [00:37<00:43,  2.50it/s]\n",
      "EP_91 | train loss: 0.32968382508147 | val loss: 0.30338383831229865 |\n",
      "Epoch:  46%|████▋     | 93/200 [00:37<00:42,  2.52it/s]\n",
      "EP_92 | train loss: 0.32968934797773175 | val loss: 0.30334164348303105 |\n",
      "Epoch:  47%|████▋     | 94/200 [00:38<00:41,  2.55it/s]\n",
      "EP_93 | train loss: 0.3205009292153751 | val loss: 0.3013828928564109 |\n",
      "Epoch:  48%|████▊     | 95/200 [00:38<00:41,  2.54it/s]\n",
      "EP_94 | train loss: 0.31716189290962965 | val loss: 0.3003314675069323 |\n",
      "Epoch:  48%|████▊     | 96/200 [00:39<00:41,  2.50it/s]\n",
      "EP_95 | train loss: 0.31815664347480327 | val loss: 0.2942630642769383 |\n",
      "Epoch:  48%|████▊     | 97/200 [00:39<00:40,  2.53it/s]\n",
      "EP_96 | train loss: 0.3155161175073362 | val loss: 0.2929412167446286 |\n",
      "Epoch:  49%|████▉     | 98/200 [00:39<00:41,  2.46it/s]\n",
      "EP_97 | train loss: 0.31357951117496863 | val loss: 0.2913978923769558 |\n",
      "Epoch:  50%|████▉     | 99/200 [00:40<00:40,  2.50it/s]\n",
      "EP_98 | train loss: 0.3056426534465715 | val loss: 0.2878425395956226 |\n",
      "Epoch:  50%|█████     | 100/200 [00:40<00:39,  2.53it/s]\n",
      "EP_99 | train loss: 0.2984132902294982 | val loss: 0.286359883406583 |\n",
      "Epoch:  50%|█████     | 101/200 [00:41<00:39,  2.53it/s]\n",
      "EP_100 | train loss: 0.30029034567814245 | val loss: 0.28365307520417604 |\n",
      "Epoch:  51%|█████     | 102/200 [00:41<00:38,  2.57it/s]\n",
      "EP_101 | train loss: 0.29765316177816953 | val loss: 0.2811141855576459 |\n",
      "Epoch:  52%|█████▏    | 103/200 [00:41<00:37,  2.59it/s]\n",
      "EP_102 | train loss: 0.2872244933072258 | val loss: 0.2774598434859631 |\n",
      "Epoch:  52%|█████▏    | 104/200 [00:42<00:36,  2.61it/s]\n",
      "EP_103 | train loss: 0.28417301645465926 | val loss: 0.2761138771094528 |\n",
      "Epoch:  52%|█████▎    | 105/200 [00:42<00:36,  2.62it/s]\n",
      "EP_104 | train loss: 0.2789426696066763 | val loss: 0.2715494913213393 |\n",
      "Epoch:  53%|█████▎    | 106/200 [00:43<00:37,  2.49it/s]\n",
      "EP_105 | train loss: 0.299117317386702 | val loss: 0.2802048868992749 |\n",
      "Epoch:  54%|█████▎    | 107/200 [00:43<00:38,  2.41it/s]\n",
      "EP_106 | train loss: 0.2712313025605445 | val loss: 0.2635877903769998 |\n",
      "Epoch:  54%|█████▍    | 108/200 [00:43<00:37,  2.46it/s]\n",
      "EP_107 | train loss: 0.26683063366833853 | val loss: 0.26098621359058455 |\n",
      "Epoch:  55%|█████▍    | 109/200 [00:44<00:38,  2.38it/s]\n",
      "EP_108 | train loss: 0.2635573116003298 | val loss: 0.2556227381322898 |\n",
      "Epoch:  55%|█████▌    | 110/200 [00:44<00:37,  2.41it/s]\n",
      "EP_109 | train loss: 0.2599342565910489 | val loss: 0.25366894871580836 |\n",
      "Epoch:  56%|█████▌    | 111/200 [00:45<00:37,  2.34it/s]\n",
      "EP_110 | train loss: 0.2566793390348846 | val loss: 0.2487583218836317 |\n",
      "Epoch:  56%|█████▌    | 112/200 [00:45<00:36,  2.41it/s]\n",
      "EP_111 | train loss: 0.2557451369715672 | val loss: 0.24618980755992964 |\n",
      "Epoch:  56%|█████▋    | 113/200 [00:46<00:35,  2.46it/s]\n",
      "EP_112 | train loss: 0.24693526613946054 | val loss: 0.24278031026615815 |\n",
      "Epoch:  57%|█████▋    | 114/200 [00:46<00:34,  2.46it/s]\n",
      "EP_113 | train loss: 0.24298281015134326 | val loss: 0.23513385770367642 |\n",
      "Epoch:  57%|█████▊    | 115/200 [00:46<00:34,  2.47it/s]\n",
      "EP_114 | train loss: 0.2360638604444616 | val loss: 0.23698323380713368 |\n",
      "Epoch:  58%|█████▊    | 116/200 [00:47<00:34,  2.43it/s]\n",
      "EP_115 | train loss: 0.23942418378942154 | val loss: 0.22953580758150885 |\n",
      "Epoch:  58%|█████▊    | 117/200 [00:47<00:33,  2.46it/s]\n",
      "EP_116 | train loss: 0.2297227466807646 | val loss: 0.22200100036228404 |\n",
      "Epoch:  59%|█████▉    | 118/200 [00:48<00:32,  2.49it/s]\n",
      "EP_117 | train loss: 0.2247366984685262 | val loss: 0.2173482471821355 |\n",
      "Epoch:  60%|█████▉    | 119/200 [00:48<00:32,  2.47it/s]\n",
      "EP_118 | train loss: 0.21875146978041704 | val loss: 0.21218962762870042 |\n",
      "Epoch:  60%|██████    | 120/200 [00:48<00:31,  2.52it/s]\n",
      "EP_119 | train loss: 0.21302786200654272 | val loss: 0.2080120327425938 |\n",
      "Epoch:  60%|██████    | 121/200 [00:49<00:31,  2.48it/s]\n",
      "EP_120 | train loss: 0.21195656505285526 | val loss: 0.20312810002588758 |\n",
      "Epoch:  61%|██████    | 122/200 [00:49<00:31,  2.48it/s]\n",
      "EP_121 | train loss: 0.20345225708157408 | val loss: 0.19895890121366464 |\n",
      "Epoch:  62%|██████▏   | 123/200 [00:50<00:30,  2.49it/s]\n",
      "EP_122 | train loss: 0.21635000191482842 | val loss: 0.20251123928556256 |\n",
      "Epoch:  62%|██████▏   | 124/200 [00:50<00:30,  2.50it/s]\n",
      "EP_123 | train loss: 0.21285388843685973 | val loss: 0.19581430741384917 |\n",
      "Epoch:  62%|██████▎   | 125/200 [00:50<00:29,  2.52it/s]\n",
      "EP_124 | train loss: 0.1943176975437239 | val loss: 0.18548848348505356 |\n",
      "Epoch:  63%|██████▎   | 126/200 [00:51<00:29,  2.50it/s]\n",
      "EP_125 | train loss: 0.18841057408089731 | val loss: 0.19125923397494296 |\n",
      "Epoch:  64%|██████▎   | 127/200 [00:51<00:29,  2.50it/s]\n",
      "EP_126 | train loss: 0.17778482647503124 | val loss: 0.17279272219713995 |\n",
      "Epoch:  64%|██████▍   | 128/200 [00:52<00:28,  2.50it/s]\n",
      "EP_127 | train loss: 0.17380157825993556 | val loss: 0.1676051137494106 |\n",
      "Epoch:  64%|██████▍   | 129/200 [00:52<00:28,  2.51it/s]\n",
      "EP_128 | train loss: 0.17749118033577413 | val loss: 0.16526141821169385 |\n",
      "Epoch:  65%|██████▌   | 130/200 [00:52<00:27,  2.54it/s]\n",
      "EP_129 | train loss: 0.16632485459832586 | val loss: 0.15761800548609564 |\n",
      "Epoch:  66%|██████▌   | 131/200 [00:53<00:27,  2.51it/s]\n",
      "EP_130 | train loss: 0.15816116777120853 | val loss: 0.15689324748282338 |\n",
      "Epoch:  66%|██████▌   | 132/200 [00:53<00:27,  2.44it/s]\n",
      "EP_131 | train loss: 0.15569319841908474 | val loss: 0.1449749721031563 |\n",
      "Epoch:  66%|██████▋   | 133/200 [00:54<00:27,  2.47it/s]\n",
      "EP_132 | train loss: 0.151047973539315 | val loss: 0.14252523873366563 |\n",
      "Epoch:  67%|██████▋   | 134/200 [00:54<00:26,  2.52it/s]\n",
      "EP_133 | train loss: 0.1640215602575564 | val loss: 0.144173918985853 |\n",
      "Epoch:  68%|██████▊   | 135/200 [00:54<00:25,  2.55it/s]\n",
      "EP_134 | train loss: 0.15061867096844841 | val loss: 0.13332250948045768 |\n",
      "Epoch:  68%|██████▊   | 136/200 [00:55<00:25,  2.48it/s]\n",
      "EP_135 | train loss: 0.183549950169582 | val loss: 0.1583816081869836 |\n",
      "Epoch:  68%|██████▊   | 137/200 [00:55<00:25,  2.51it/s]\n",
      "EP_136 | train loss: 0.1609248635815639 | val loss: 0.13964282998851701 |\n",
      "Epoch:  69%|██████▉   | 138/200 [00:56<00:24,  2.55it/s]\n",
      "EP_137 | train loss: 0.1288372416122287 | val loss: 0.11808809345843745 |\n",
      "Epoch:  70%|██████▉   | 139/200 [00:56<00:24,  2.49it/s]\n",
      "EP_138 | train loss: 0.12626190466039322 | val loss: 0.11544813887745727 |\n",
      "Epoch:  70%|███████   | 140/200 [00:56<00:24,  2.50it/s]\n",
      "EP_139 | train loss: 0.11646924252603569 | val loss: 0.10953163165672153 |\n",
      "Epoch:  70%|███████   | 141/200 [00:57<00:24,  2.42it/s]\n",
      "EP_140 | train loss: 0.1152131431242999 | val loss: 0.10635036756010617 |\n",
      "Epoch:  71%|███████   | 142/200 [00:57<00:23,  2.47it/s]\n",
      "EP_141 | train loss: 0.11173874981263104 | val loss: 0.1019964007770314 |\n",
      "Epoch:  72%|███████▏  | 143/200 [00:58<00:24,  2.36it/s]\n",
      "EP_142 | train loss: 0.10317610034755632 | val loss: 0.09879045100773082 |\n",
      "Epoch:  72%|███████▏  | 144/200 [00:58<00:23,  2.43it/s]\n",
      "EP_143 | train loss: 0.09927726411351971 | val loss: 0.09799380279054828 |\n",
      "Epoch:  72%|███████▎  | 145/200 [00:58<00:22,  2.48it/s]\n",
      "EP_144 | train loss: 0.11897602151421939 | val loss: 0.1263843856605829 |\n",
      "Epoch:  73%|███████▎  | 146/200 [00:59<00:21,  2.49it/s]\n",
      "EP_145 | train loss: 0.10356519082013299 | val loss: 0.09300417876711078 |\n",
      "Epoch:  74%|███████▎  | 147/200 [00:59<00:21,  2.51it/s]\n",
      "EP_146 | train loss: 0.09562488373588113 | val loss: 0.08641509565652586 |\n",
      "Epoch:  74%|███████▍  | 148/200 [01:00<00:20,  2.54it/s]\n",
      "EP_147 | train loss: 0.08878373573808108 | val loss: 0.08127749784320008 |\n",
      "Epoch:  74%|███████▍  | 149/200 [01:00<00:19,  2.56it/s]\n",
      "EP_148 | train loss: 0.08379257800532322 | val loss: 0.07877262258062176 |\n",
      "Epoch:  75%|███████▌  | 150/200 [01:00<00:19,  2.59it/s]\n",
      "EP_149 | train loss: 0.08558121685888254 | val loss: 0.08003903779329039 |\n",
      "Epoch:  76%|███████▌  | 151/200 [01:01<00:19,  2.57it/s]\n",
      "EP_150 | train loss: 0.10337176322937011 | val loss: 0.09353448538219228 |\n",
      "Epoch:  76%|███████▌  | 152/200 [01:01<00:18,  2.59it/s]\n",
      "EP_151 | train loss: 0.07311083019948474 | val loss: 0.07139631258506401 |\n",
      "Epoch:  76%|███████▋  | 153/200 [01:01<00:18,  2.59it/s]\n",
      "EP_152 | train loss: 0.06842576767884048 | val loss: 0.06599487744125665 |\n",
      "Epoch:  77%|███████▋  | 154/200 [01:02<00:17,  2.61it/s]\n",
      "EP_153 | train loss: 0.07121082591075523 | val loss: 0.06569327735433392 |\n",
      "Epoch:  78%|███████▊  | 155/200 [01:02<00:17,  2.62it/s]\n",
      "EP_154 | train loss: 0.09192900634279438 | val loss: 0.08689798268617369 |\n",
      "Epoch:  78%|███████▊  | 156/200 [01:03<00:16,  2.59it/s]\n",
      "EP_155 | train loss: 0.07020658020879708 | val loss: 0.06461676575389563 |\n",
      "Epoch:  78%|███████▊  | 157/200 [01:03<00:16,  2.61it/s]\n",
      "EP_156 | train loss: 0.06595244413497402 | val loss: 0.06263661589108262 |\n",
      "Epoch:  79%|███████▉  | 158/200 [01:03<00:16,  2.62it/s]\n",
      "EP_157 | train loss: 0.056786443088568894 | val loss: 0.05434336381800035 |\n",
      "Epoch:  80%|███████▉  | 159/200 [01:04<00:16,  2.55it/s]\n",
      "EP_158 | train loss: 0.05426828124943901 | val loss: 0.052773883529737886 |\n",
      "Epoch:  80%|████████  | 160/200 [01:04<00:16,  2.48it/s]\n",
      "EP_159 | train loss: 0.05251155513174394 | val loss: 0.0510323211258533 |\n",
      "Epoch:  80%|████████  | 161/200 [01:05<00:15,  2.48it/s]\n",
      "EP_160 | train loss: 0.06634754655407925 | val loss: 0.061014402438612544 |\n",
      "Epoch:  81%|████████  | 162/200 [01:05<00:15,  2.44it/s]\n",
      "EP_161 | train loss: 0.05065389941720402 | val loss: 0.048494373758633934 |\n",
      "Epoch:  82%|████████▏ | 163/200 [01:05<00:14,  2.50it/s]\n",
      "EP_162 | train loss: 0.04465764901217292 | val loss: 0.04694086663863238 |\n",
      "Epoch:  82%|████████▏ | 164/200 [01:06<00:14,  2.54it/s]\n",
      "EP_163 | train loss: 0.04340500568642336 | val loss: 0.043089697612266914 |\n",
      "Epoch:  82%|████████▎ | 165/200 [01:06<00:13,  2.57it/s]\n",
      "EP_164 | train loss: 0.041225724886445436 | val loss: 0.04157296524328344 |\n",
      "Epoch:  83%|████████▎ | 166/200 [01:07<00:13,  2.45it/s]\n",
      "EP_165 | train loss: 0.04127167656141169 | val loss: 0.04093608669206208 |\n",
      "Epoch:  84%|████████▎ | 167/200 [01:07<00:13,  2.45it/s]\n",
      "EP_166 | train loss: 0.04261566657646029 | val loss: 0.042719477093687244 |\n",
      "Epoch:  84%|████████▍ | 168/200 [01:07<00:13,  2.46it/s]\n",
      "EP_167 | train loss: 0.0375642912644966 | val loss: 0.03931627700141832 |\n",
      "Epoch:  84%|████████▍ | 169/200 [01:08<00:13,  2.37it/s]\n",
      "EP_168 | train loss: 0.04032610386025672 | val loss: 0.03981391384321101 |\n",
      "Epoch:  85%|████████▌ | 170/200 [01:08<00:13,  2.30it/s]\n",
      "EP_169 | train loss: 0.03757700446773978 | val loss: 0.03941529375665328 |\n",
      "Epoch:  86%|████████▌ | 171/200 [01:09<00:12,  2.36it/s]\n",
      "EP_170 | train loss: 0.03644595339017756 | val loss: 0.040521793213545106 |\n",
      "Epoch:  86%|████████▌ | 172/200 [01:09<00:11,  2.42it/s]\n",
      "EP_171 | train loss: 0.0371557027685876 | val loss: 0.03829670887367398 |\n",
      "Epoch:  86%|████████▋ | 173/200 [01:10<00:11,  2.40it/s]\n",
      "EP_172 | train loss: 0.030965978374668197 | val loss: 0.033517422629337684 |\n",
      "Epoch:  87%|████████▋ | 174/200 [01:10<00:10,  2.46it/s]\n",
      "EP_173 | train loss: 0.031020820608326033 | val loss: 0.034359185280753116 |\n",
      "Epoch:  88%|████████▊ | 175/200 [01:10<00:09,  2.50it/s]\n",
      "EP_174 | train loss: 0.02999222675959269 | val loss: 0.031554312974798916 |\n",
      "Epoch:  88%|████████▊ | 176/200 [01:11<00:09,  2.50it/s]\n",
      "EP_175 | train loss: 0.029119082584100613 | val loss: 0.034901756866305485 |\n",
      "Epoch:  88%|████████▊ | 177/200 [01:11<00:09,  2.54it/s]\n",
      "EP_176 | train loss: 0.02922005384576087 | val loss: 0.03156309852413103 |\n",
      "Epoch:  89%|████████▉ | 178/200 [01:12<00:08,  2.55it/s]\n",
      "EP_177 | train loss: 0.028976855850687214 | val loss: 0.03205314716872047 |\n",
      "Epoch:  90%|████████▉ | 179/200 [01:12<00:08,  2.57it/s]\n",
      "EP_178 | train loss: 0.02551705480790606 | val loss: 0.029405979110914117 |\n",
      "Epoch:  90%|█████████ | 180/200 [01:12<00:07,  2.59it/s]\n",
      "EP_179 | train loss: 0.025120830944940154 | val loss: 0.026576872622849895 |\n",
      "Epoch:  90%|█████████ | 181/200 [01:13<00:07,  2.58it/s]\n",
      "EP_180 | train loss: 0.03727116146508385 | val loss: 0.03598084695198957 |\n",
      "Epoch:  91%|█████████ | 182/200 [01:13<00:06,  2.60it/s]\n",
      "EP_181 | train loss: 0.029673313159568636 | val loss: 0.036050791395645515 |\n",
      "Epoch:  92%|█████████▏| 183/200 [01:13<00:06,  2.59it/s]\n",
      "EP_182 | train loss: 0.023362971666981192 | val loss: 0.02525035072775448 |\n",
      "Epoch:  92%|█████████▏| 184/200 [01:14<00:06,  2.60it/s]\n",
      "EP_183 | train loss: 0.022195923854322994 | val loss: 0.025100983752339493 |\n",
      "Epoch:  92%|█████████▎| 185/200 [01:14<00:05,  2.61it/s]\n",
      "EP_184 | train loss: 0.02131991757481706 | val loss: 0.025107131211781035 |\n",
      "Epoch:  93%|█████████▎| 186/200 [01:15<00:05,  2.57it/s]\n",
      "EP_185 | train loss: 0.024404378644391603 | val loss: 0.030074919555701463 |\n",
      "Epoch:  94%|█████████▎| 187/200 [01:15<00:05,  2.58it/s]\n",
      "EP_186 | train loss: 0.021642428841076644 | val loss: 0.022365569337910295 |\n",
      "Epoch:  94%|█████████▍| 188/200 [01:15<00:04,  2.58it/s]\n",
      "EP_187 | train loss: 0.024143235823687385 | val loss: 0.024972153644935758 |\n",
      "Epoch:  94%|█████████▍| 189/200 [01:16<00:04,  2.58it/s]\n",
      "EP_188 | train loss: 0.036501618460112926 | val loss: 0.033825814139609243 |\n",
      "Epoch:  95%|█████████▌| 190/200 [01:16<00:03,  2.58it/s]\n",
      "EP_189 | train loss: 0.01845115408593533 | val loss: 0.01940749366493786 |\n",
      "Epoch:  96%|█████████▌| 191/200 [01:17<00:03,  2.54it/s]\n",
      "EP_190 | train loss: 0.019911906970482247 | val loss: 0.02116794504371344 |\n",
      "Epoch:  96%|█████████▌| 192/200 [01:17<00:03,  2.56it/s]\n",
      "EP_191 | train loss: 0.01678227861137951 | val loss: 0.019670962264724805 |\n",
      "Epoch:  96%|█████████▋| 193/200 [01:17<00:02,  2.58it/s]\n",
      "EP_192 | train loss: 0.01625482673738517 | val loss: 0.01859135356019525 |\n",
      "Epoch:  97%|█████████▋| 194/200 [01:18<00:02,  2.60it/s]\n",
      "EP_193 | train loss: 0.016344974438349407 | val loss: 0.018760101614045163 |\n",
      "Epoch:  98%|█████████▊| 195/200 [01:18<00:01,  2.61it/s]\n",
      "EP_194 | train loss: 0.0173690860470136 | val loss: 0.01916717898611929 |\n",
      "Epoch:  98%|█████████▊| 196/200 [01:18<00:01,  2.58it/s]\n",
      "EP_195 | train loss: 0.015838230079879948 | val loss: 0.019864275905431484 |\n",
      "Epoch:  98%|█████████▊| 197/200 [01:19<00:01,  2.59it/s]\n",
      "EP_196 | train loss: 0.029474017024040223 | val loss: 0.030068325353603736 |\n",
      "Epoch:  99%|█████████▉| 198/200 [01:19<00:00,  2.61it/s]\n",
      "EP_197 | train loss: 0.018538207838348315 | val loss: 0.02451566906244147 |\n",
      "Epoch: 100%|█████████▉| 199/200 [01:20<00:00,  2.63it/s]\n",
      "EP_198 | train loss: 0.01360455149529027 | val loss: 0.017089515340094473 |\n",
      "Epoch: 100%|██████████| 200/200 [01:20<00:00,  2.49it/s]\n",
      "EP_199 | train loss: 0.013190307365913017 | val loss: 0.015719037795183705 |\n",
      "\n"
     ]
    }
   ],
   "source": [
    "AttractiveTrainer.train()"
   ]
  },
  {
   "cell_type": "markdown",
   "metadata": {},
   "source": [
    "## for classification, not better"
   ]
  },
  {
   "cell_type": "markdown",
   "metadata": {},
   "source": [
    "## Below is testing"
   ]
  },
  {
   "cell_type": "code",
   "execution_count": 8,
   "metadata": {},
   "outputs": [
    {
     "output_type": "execute_result",
     "data": {
      "text/plain": [
       "AttractiveNet(\n",
       "  (embedding): AttractiveEmbedding(\n",
       "    (token): TokenEmbedding(12699, 300, padding_idx=1)\n",
       "  )\n",
       "  (bigramcnn): Sequential(\n",
       "    (0): Conv1d(300, 200, kernel_size=(2,), stride=(1,), padding=(1,))\n",
       "    (1): ReLU()\n",
       "    (2): Conv1d(200, 100, kernel_size=(2,), stride=(1,), padding=(1,))\n",
       "    (3): ReLU()\n",
       "    (4): Dropout(p=0.5, inplace=False)\n",
       "  )\n",
       "  (trigramcnn): Sequential(\n",
       "    (0): Conv1d(300, 200, kernel_size=(3,), stride=(1,), padding=(1,))\n",
       "    (1): ReLU()\n",
       "    (2): Conv1d(200, 100, kernel_size=(3,), stride=(1,), padding=(1,))\n",
       "    (3): ReLU()\n",
       "    (4): Dropout(p=0.5, inplace=False)\n",
       "  )\n",
       "  (encoder_bigram): LSTM(100, 30, batch_first=True, dropout=0.5, bidirectional=True)\n",
       "  (encoder_trigram): LSTM(100, 30, batch_first=True, dropout=0.5, bidirectional=True)\n",
       "  (linear): Sequential(\n",
       "    (0): Linear(in_features=124, out_features=30, bias=True)\n",
       "    (1): ReLU()\n",
       "    (2): Linear(in_features=30, out_features=1, bias=True)\n",
       "  )\n",
       ")"
      ]
     },
     "metadata": {},
     "execution_count": 8
    }
   ],
   "source": [
    "from attractivenet import AttractiveNet\n",
    "\n",
    "PATH = './model/CNN_LSTM_20201107-165037/0.379804.75'\n",
    "\n",
    "load_model = AttractiveNet(config).to(AttractiveData.device)\n",
    "load_model.load_state_dict(torch.load(PATH))\n",
    "load_model.eval()"
   ]
  },
  {
   "cell_type": "code",
   "execution_count": 9,
   "metadata": {},
   "outputs": [],
   "source": [
    "def predict_attractive(sentence, category, phase):\n",
    "    indexed_sentence = [AttractiveData.TEXT.vocab.stoi[t] for t in sentence]\n",
    "    indexed_category = [AttractiveData.CATEGORIES_LABEL.vocab.stoi[category]]\n",
    "    tensor_sentence = torch.LongTensor(indexed_sentence).to(AttractiveData.device)\n",
    "    tensor_category = torch.LongTensor(indexed_category).to(AttractiveData.device)\n",
    "\n",
    "    tensor_sentence = tensor_sentence.unsqueeze(0)\n",
    "    # print(tensor_sentence.shape)\n",
    "\n",
    "    prediction = load_model(tensor_sentence, tensor_category, phase=phase)\n",
    "\n",
    "    return prediction"
   ]
  },
  {
   "cell_type": "code",
   "execution_count": 10,
   "metadata": {
    "tags": []
   },
   "outputs": [],
   "source": [
    "# train mean = 3.15, test mean = 2.8\n",
    "predict_list = []\n",
    "with torch.no_grad():\n",
    "    for i, sentence in enumerate(AttractiveData.test_data):\n",
    "        prediction = predict_attractive(sentence.Headline, sentence.Category, 'test')\n",
    "        predict_list.append(prediction.item())\n",
    "        # predict_list.append(prediction.item())\n",
    "AttractiveData.df_test['Label'] = predict_list\n",
    "AttractiveData.df_test[['ID', 'Label']].to_csv(config['save_name'] + '.csv', index=False)"
   ]
  },
  {
   "cell_type": "markdown",
   "metadata": {},
   "source": [
    "## Below for statistics"
   ]
  },
  {
   "cell_type": "code",
   "execution_count": 11,
   "metadata": {},
   "outputs": [],
   "source": [
    "import statistics\n",
    "from sklearn.metrics import mean_squared_error"
   ]
  },
  {
   "cell_type": "code",
   "execution_count": 12,
   "metadata": {},
   "outputs": [],
   "source": [
    "# # train mean = 3.15, test mean = 2.8\n",
    "# train_list = []\n",
    "# for i, sentence in enumerate(AttractiveData.train_data):\n",
    "#     prediction = predict_attractive(sentence.Headline, sentence.Category, 'train')\n",
    "#     train_list.append(prediction.item())\n",
    "#     # train_list.append(prediction.item())\n",
    "# # print(train_list)\n",
    "# mean_squared_error(pd.read_csv('data/train.csv').sort_values(['ID']).Label.to_list(), train_list), statistics.mean(train_list), statistics.stdev(train_list)"
   ]
  },
  {
   "cell_type": "code",
   "execution_count": 13,
   "metadata": {},
   "outputs": [],
   "source": [
    "# train_list[0:5], pd.read_csv('data/train.csv').sort_values(['ID']).Label.to_list()[0:5]"
   ]
  },
  {
   "cell_type": "code",
   "execution_count": 14,
   "metadata": {},
   "outputs": [],
   "source": [
    "# a = AttractiveData.df_train['Label'].to_list()\n",
    "# statistics.mean(a), statistics.stdev(a)"
   ]
  },
  {
   "cell_type": "code",
   "execution_count": 15,
   "metadata": {},
   "outputs": [
    {
     "output_type": "execute_result",
     "data": {
      "text/plain": [
       "(2.8392538814292605, 0.3430749926061251)"
      ]
     },
     "metadata": {},
     "execution_count": 15
    }
   ],
   "source": [
    "statistics.mean(predict_list), statistics.stdev(predict_list)"
   ]
  },
  {
   "cell_type": "code",
   "execution_count": 16,
   "metadata": {},
   "outputs": [
    {
     "output_type": "execute_result",
     "data": {
      "text/plain": [
       "(0.011588481967829358, 2.774164993857497, 0.3615900775742119)"
      ]
     },
     "metadata": {},
     "execution_count": 16
    }
   ],
   "source": [
    "baseline_list = pd.read_csv('baseline.csv').sort_values(['ID']).Label.to_list()\n",
    "mean_squared_error(baseline_list, predict_list), statistics.mean(baseline_list), statistics.stdev(baseline_list)"
   ]
  },
  {
   "cell_type": "code",
   "execution_count": null,
   "metadata": {},
   "outputs": [],
   "source": []
  },
  {
   "cell_type": "code",
   "execution_count": 18,
   "metadata": {},
   "outputs": [
    {
     "data": {
      "text/plain": [
       "0.1609754968529207"
      ]
     },
     "execution_count": 18,
     "metadata": {},
     "output_type": "execute_result"
    }
   ],
   "source": [
    "mean_squared_error(pd.read_csv('baseline.csv').sort_values(['ID']).Label.to_list(), pd.read_csv('./predict/ensemble.csv').sort_values(['ID']).Label.to_list())"
   ]
  },
  {
   "cell_type": "code",
   "execution_count": 10,
   "metadata": {},
   "outputs": [],
   "source": [
    "from sklearn.model_selection import KFold\n",
    "import numpy as np"
   ]
  },
  {
   "cell_type": "code",
   "execution_count": 11,
   "metadata": {},
   "outputs": [],
   "source": []
  },
  {
   "cell_type": "code",
   "execution_count": 12,
   "metadata": {},
   "outputs": [
    {
     "data": {
      "text/plain": [
       "2040"
      ]
     },
     "execution_count": 12,
     "metadata": {},
     "output_type": "execute_result"
    }
   ],
   "source": [
    "len(AttractiveData.train_data.examples)"
   ]
  },
  {
   "cell_type": "code",
   "execution_count": 13,
   "metadata": {},
   "outputs": [],
   "source": []
  },
  {
   "cell_type": "code",
   "execution_count": null,
   "metadata": {},
   "outputs": [],
   "source": []
  }
 ],
 "metadata": {
  "kernelspec": {
   "display_name": "DS_hw2",
   "language": "python",
   "name": "ds_hw2"
  },
  "language_info": {
   "codemirror_mode": {
    "name": "ipython",
    "version": 3
   },
   "file_extension": ".py",
   "mimetype": "text/x-python",
   "name": "python",
   "nbconvert_exporter": "python",
   "pygments_lexer": "ipython3",
   "version": "3.6.12-final"
  }
 },
 "nbformat": 4,
 "nbformat_minor": 4
}