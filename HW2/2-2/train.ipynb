{
 "metadata": {
  "language_info": {
   "codemirror_mode": {
    "name": "ipython",
    "version": 3
   },
   "file_extension": ".py",
   "mimetype": "text/x-python",
   "name": "python",
   "nbconvert_exporter": "python",
   "pygments_lexer": "ipython3",
   "version": "3.6.12-final"
  },
  "orig_nbformat": 2,
  "kernelspec": {
   "name": "Python 3.6.12 64-bit ('DS_hw2': conda)",
   "display_name": "Python 3.6.12 64-bit ('DS_hw2': conda)",
   "metadata": {
    "interpreter": {
     "hash": "de6ec751e8d816810380d8c8f13d270f86a313990c5d5930d253da012ff5e7fc"
    }
   }
  }
 },
 "nbformat": 4,
 "nbformat_minor": 2,
 "cells": [
  {
   "cell_type": "code",
   "execution_count": 7,
   "metadata": {},
   "outputs": [],
   "source": [
    "# common packages\n",
    "import pandas as pd\n",
    "\n",
    "# # DL framework\n",
    "# import torch\n",
    "# from torchtext import data\n",
    "# import torch.nn as nn\n",
    "# import torch.optim as optim\n",
    "# import torch.nn.functional as F\n",
    "# import torchtext\n",
    "\n",
    "from attractivedata import AttractiveData\n",
    "from trainer import AttractiveTrainer"
   ]
  },
  {
   "source": [
    "## Load and prepare data"
   ],
   "cell_type": "markdown",
   "metadata": {}
  },
  {
   "cell_type": "code",
   "execution_count": 2,
   "metadata": {},
   "outputs": [],
   "source": [
    "pretrained_file = './pretrained_embedding/glove.840B.300d.txt'\n",
    "train_file = './data/train.csv'\n",
    "test_file = './data/test.csv'\n",
    "max_size = 20000\n",
    "min_freq = 0"
   ]
  },
  {
   "cell_type": "code",
   "execution_count": 3,
   "metadata": {},
   "outputs": [],
   "source": [
    "AttractiveData = AttractiveData(train_file, test_file, pretrained_file, max_size, min_freq)"
   ]
  },
  {
   "cell_type": "code",
   "execution_count": 5,
   "metadata": {},
   "outputs": [
    {
     "output_type": "execute_result",
     "data": {
      "text/plain": [
       "(   ID                                           Headline Category     Label\n",
       " 0   1  Golden, gaudy and glorious: Dubai has the worl...   travel  4.000000\n",
       " 1   2  British tourists charged over £ 180 million fo...   travel  2.333333\n",
       " 2   3  Cancer left Eric With half his face missing an...   health  4.500000\n",
       " 3   4  Sorry, i spent it on myself! Harvey Nichols' h...   femail  3.333333\n",
       " 4   5  Luis Suarez's bite has ensured his legacy as a...    sport  4.000000,\n",
       "    ID                                           Headline     Category  Label\n",
       " 0   1  Chelsea have no fit strikers ahead of trip to ...     football    NaN\n",
       " 1   2  Microsoft opens up windows to Android and Appl...  sciencetech    NaN\n",
       " 2   3  Fashion editor Meghan Blalock recounts her jou...       femail    NaN\n",
       " 3   4  Three police officers accused of stealing ?? 3...         news    NaN\n",
       " 4   5  As David Beckham shows off his beard, femail c...       femail    NaN)"
      ]
     },
     "metadata": {},
     "execution_count": 5
    }
   ],
   "source": [
    "AttractiveData.df_train.head(), AttractiveData.df_test.head()"
   ]
  },
  {
   "cell_type": "code",
   "execution_count": 6,
   "metadata": {},
   "outputs": [],
   "source": [
    "# input_file = './pretrained_embedding/glove.840B.300d.txt'\n",
    "# output_file = 'gensim_glove.840B.300d.txt'\n",
    "# # glove2word2vec(input_file, output_file)\n",
    "# # Test Glove model\n",
    "# model = KeyedVectors.load_word2vec_format(output_file, binary=False)\n",
    "# word = 'cat'\n",
    "# print(word)\n",
    "# print('Most similar:\\n{}'.format(model.most_similar(word)))"
   ]
  },
  {
   "source": [
    "## Start to train"
   ],
   "cell_type": "markdown",
   "metadata": {}
  },
  {
   "cell_type": "code",
   "execution_count": 8,
   "metadata": {},
   "outputs": [],
   "source": [
    "timestr = time.strftime(\"%Y%m%d-%H%M%S\")\n",
    "save_name = './model/AttractiveNet'\n",
    "num_workers = 10\n",
    "batch_size = 32\n",
    "INPUT_DIM = len(TEXT.vocab)\n",
    "EMBEDDING_DIM = 300\n",
    "HIDDEN_DIM = 374\n",
    "OUTPUT_DIM = 1\n",
    "log_steps = 10\n",
    "epochs = 30\n",
    "lr = 1e-1\n",
    "pretrained_embeddings = TEXT.vocab.vectors\n",
    "print(pretrained_embeddings.shape)"
   ]
  },
  {
   "cell_type": "code",
   "execution_count": null,
   "metadata": {},
   "outputs": [],
   "source": [
    "trainloader = torch.utils.data.DataLoader(train_seq_label, num_workers=num_workers, batch_size=batch_size, shuffle=True)\n",
    "testloader = torch.utils.data.DataLoader(test_seq_label, num_workers=num_workers, batch_size=batch_size, shuffle=False)"
   ]
  },
  {
   "cell_type": "code",
   "execution_count": null,
   "metadata": {},
   "outputs": [],
   "source": [
    "AttractiveTrainer = AttractiveTrainer(save_name, log_steps, epochs, lr, timestr, train_loader, test_loader, input_dim, embedding_dim, hidden_dim, output_dim, pretrained_embeddings)"
   ]
  },
  {
   "cell_type": "code",
   "execution_count": null,
   "metadata": {},
   "outputs": [],
   "source": []
  },
  {
   "cell_type": "code",
   "execution_count": 29,
   "metadata": {},
   "outputs": [],
   "source": [
    "INPUT_DIM = len(TEXT.vocab)\n",
    "EMBEDDING_DIM = 300\n",
    "HIDDEN_DIM = 374\n",
    "OUTPUT_DIM = 1\n",
    "device = torch.device(\"cuda\" if torch.cuda.is_available() else \"cpu\")\n",
    "\n",
    "model = AttractiveNet(INPUT_DIM, EMBEDDING_DIM, HIDDEN_DIM, OUTPUT_DIM)"
   ]
  },
  {
   "cell_type": "code",
   "execution_count": 31,
   "metadata": {},
   "outputs": [],
   "source": [
    "model.embedding.weight.data = pretrained_embeddings.cuda()"
   ]
  },
  {
   "cell_type": "code",
   "execution_count": 32,
   "metadata": {},
   "outputs": [],
   "source": [
    "optimizer = optim.SGD(model.parameters(), lr=1e-3)\n",
    "criterion = torch.nn.MSELoss()"
   ]
  },
  {
   "cell_type": "code",
   "execution_count": 33,
   "metadata": {},
   "outputs": [],
   "source": [
    "model = model.to(device)\n",
    "criterion = criterion.to(device)"
   ]
  },
  {
   "cell_type": "code",
   "execution_count": null,
   "metadata": {},
   "outputs": [],
   "source": []
  },
  {
   "cell_type": "code",
   "execution_count": null,
   "metadata": {},
   "outputs": [],
   "source": [
    "def iteration(self, epoch):\n",
    "    self.model.train()\n",
    "    data_iter = tqdm.tqdm(enumerate(self.train_loader),\n",
    "                        desc=\"EP:{} | lr: {}\".format(epoch, self.lr),\n",
    "                        total=len(self.train_loader),\n",
    "                        bar_format=\"{l_bar}{r_bar}\")\n",
    "    \n",
    "    avg_loss = 0.0\n",
    "    avg_masked_loss = 0.0\n",
    "    avg_area_loss = 0.0\n",
    "    for i, data in data_iter:\n",
    "        inputs = data[:, 0, :].to(self.device)\n",
    "        masked_labels, area_labels = data[:, 1, :].to(self.device), data[:, 2, :].to(self.device)\n",
    "\n",
    "        # forward masked_lm model\n",
    "        embedding, masked_prediction, area_prediction = self.model(inputs)"
   ]
  },
  {
   "cell_type": "code",
   "execution_count": null,
   "metadata": {},
   "outputs": [],
   "source": []
  },
  {
   "cell_type": "code",
   "execution_count": 10,
   "metadata": {},
   "outputs": [],
   "source": [
    "a = df_test['ID'].to_list()"
   ]
  },
  {
   "cell_type": "code",
   "execution_count": 17,
   "metadata": {},
   "outputs": [],
   "source": [
    "from sklearn.metrics import mean_squared_error"
   ]
  },
  {
   "cell_type": "code",
   "execution_count": 9,
   "metadata": {},
   "outputs": [
    {
     "output_type": "execute_result",
     "data": {
      "text/plain": [
       "0.5545343137254902"
      ]
     },
     "metadata": {},
     "execution_count": 9
    }
   ],
   "source": [
    "mean_squared_error(a, b)\n",
    "# Training all 3.0 got mse = 0.5545"
   ]
  },
  {
   "cell_type": "code",
   "execution_count": 20,
   "metadata": {},
   "outputs": [],
   "source": [
    "df_test['Label'] = b"
   ]
  },
  {
   "cell_type": "code",
   "execution_count": 21,
   "metadata": {},
   "outputs": [],
   "source": [
    "df_test[['ID', 'Label']].to_csv('all_3.csv', index=False)"
   ]
  },
  {
   "cell_type": "code",
   "execution_count": null,
   "metadata": {},
   "outputs": [],
   "source": []
  }
 ]
}