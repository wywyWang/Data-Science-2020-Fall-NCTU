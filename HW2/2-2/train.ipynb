{
 "cells": [
  {
   "cell_type": "code",
   "execution_count": 1,
   "metadata": {},
   "outputs": [],
   "source": [
    "# common packages\n",
    "import pandas as pd\n",
    "import time\n",
    "\n",
    "# # DL framework\n",
    "import torch\n",
    "from torchtext import data\n",
    "\n",
    "from attractivedata import AttractiveData\n",
    "from trainer import AttractiveTrainer"
   ]
  },
  {
   "cell_type": "code",
   "execution_count": 2,
   "metadata": {},
   "outputs": [],
   "source": [
    "seed_value = 42\n",
    "torch.manual_seed(seed_value)\n",
    "torch.cuda.manual_seed(seed_value)\n",
    "torch.cuda.manual_seed_all(seed_value) # gpu vars\n",
    "torch.backends.cudnn.deterministic = True  #needed\n",
    "torch.backends.cudnn.benchmark = False"
   ]
  },
  {
   "cell_type": "markdown",
   "metadata": {},
   "source": [
    "# TODO: \n",
    "- [ ] cnn plus residual network\n",
    "- [ ] word embedding multiply tfidf\n",
    "- [ ] use word2vec"
   ]
  },
  {
   "cell_type": "markdown",
   "metadata": {},
   "source": [
    "## Load and prepare data"
   ]
  },
  {
   "cell_type": "code",
   "execution_count": 3,
   "metadata": {},
   "outputs": [],
   "source": [
    "train_file = 'data/train.csv'\n",
    "val_file = 'example/val.csv'\n",
    "test_file = 'data/test.csv'\n",
    "pretrained_file = 'glove.840B.300d'\n",
    "config = {\n",
    "    'max_seq': 40,\n",
    "    'min_freq': 0,\n",
    "    'batch_size': 64,\n",
    "    'pretrained_file': pretrained_file\n",
    "}\n"
   ]
  },
  {
   "cell_type": "code",
   "execution_count": 4,
   "metadata": {},
   "outputs": [],
   "source": [
    "AttractiveData = AttractiveData(train_file, val_file, test_file, pretrained_file, config)"
   ]
  },
  {
   "cell_type": "markdown",
   "metadata": {},
   "source": [
    "## Start to train"
   ]
  },
  {
   "cell_type": "code",
   "execution_count": 5,
   "metadata": {},
   "outputs": [
    {
     "output_type": "stream",
     "name": "stdout",
     "text": [
      "torch.Size([12699, 300])\n"
     ]
    }
   ],
   "source": [
    "config['timestr'] = time.strftime(\"%Y%m%d-%H%M%S\")\n",
    "config['save_name'] = 'CNN_LSTM'\n",
    "config['input_dim'] = len(AttractiveData.TEXT.vocab)\n",
    "config['embedding_dim'] = 300\n",
    "config['category_dim'] = len(AttractiveData.CATEGORIES_LABEL.vocab)\n",
    "config['category_embedding_dim'] = 10\n",
    "config['hidden_dim'] = 30\n",
    "config['output_dim'] = 1\n",
    "config['log_steps'] = 10\n",
    "config['epochs'] = 200\n",
    "config['lr'] = {\n",
    "    'encoder': 1e-5,\n",
    "    'embedding': 6e-6,\n",
    "    'linear': 1e-5\n",
    "}\n",
    "config['num_layers'] = 1\n",
    "config['kernel_size'] = 3\n",
    "config['dropout'] = 0.5\n",
    "config['train_len'] = AttractiveData.train_len\n",
    "config['val_len'] = AttractiveData.val_len\n",
    "config['test_len'] = AttractiveData.test_len\n",
    "\n",
    "pretrained_embeddings = AttractiveData.TEXT.vocab.vectors\n",
    "print(pretrained_embeddings.shape)"
   ]
  },
  {
   "cell_type": "code",
   "execution_count": 6,
   "metadata": {},
   "outputs": [],
   "source": [
    "AttractiveTrainer = AttractiveTrainer(config, AttractiveData.device, AttractiveData.trainloader, AttractiveData.valloader, pretrained_embeddings)"
   ]
  },
  {
   "cell_type": "code",
   "execution_count": 7,
   "metadata": {},
   "outputs": [
    {
     "output_type": "execute_result",
     "data": {
      "text/plain": [
       "(AttractiveNet(\n",
       "   (embedding): AttractiveEmbedding(\n",
       "     (token): TokenEmbedding(12699, 300, padding_idx=1)\n",
       "   )\n",
       "   (bigramcnn): Sequential(\n",
       "     (0): Conv1d(300, 210, kernel_size=(2,), stride=(1,), padding=(1,))\n",
       "     (1): ReLU6()\n",
       "     (2): Conv1d(210, 100, kernel_size=(2,), stride=(1,), padding=(1,))\n",
       "     (3): ReLU6()\n",
       "     (4): Dropout(p=0.5, inplace=False)\n",
       "   )\n",
       "   (trigramcnn): Sequential(\n",
       "     (0): Conv1d(300, 210, kernel_size=(3,), stride=(1,), padding=(1,))\n",
       "     (1): ReLU6()\n",
       "     (2): Conv1d(210, 100, kernel_size=(3,), stride=(1,), padding=(1,))\n",
       "     (3): ReLU6()\n",
       "     (4): Dropout(p=0.5, inplace=False)\n",
       "   )\n",
       "   (encoder_bigram): LSTM(100, 30, batch_first=True, dropout=0.5, bidirectional=True)\n",
       "   (encoder_trigram): LSTM(100, 30, batch_first=True, dropout=0.5, bidirectional=True)\n",
       "   (linear): Sequential(\n",
       "     (0): Linear(in_features=128, out_features=30, bias=True)\n",
       "     (1): ReLU()\n",
       "     (2): Linear(in_features=30, out_features=1, bias=True)\n",
       "   )\n",
       " ),\n",
       " 4297581,\n",
       " 4297581)"
      ]
     },
     "metadata": {},
     "execution_count": 7
    }
   ],
   "source": [
    "AttractiveTrainer.model, AttractiveTrainer.config['total_params'], AttractiveTrainer.config['total_learned_params']"
   ]
  },
  {
   "cell_type": "code",
   "execution_count": 8,
   "metadata": {
    "tags": [
     "outputPrepend"
    ]
   },
   "outputs": [
    {
     "output_type": "stream",
     "name": "stderr",
     "text": [
      "Epoch:  24%|██▍       | 48/200 [00:20<01:03,  2.38it/s]\n",
      "EP_47 | train loss: 0.4382171443864411 | val loss: 0.3702610643470989 |\n",
      "Epoch:  24%|██▍       | 49/200 [00:20<01:02,  2.40it/s]\n",
      "EP_48 | train loss: 0.43491019828646793 | val loss: 0.36658812562624615 |\n",
      "Epoch:  25%|██▌       | 50/200 [00:20<01:02,  2.40it/s]\n",
      "EP_49 | train loss: 0.43175513136620614 | val loss: 0.36262286761227774 |\n",
      "Epoch:  26%|██▌       | 51/200 [00:21<01:02,  2.37it/s]\n",
      "EP_50 | train loss: 0.4341760654075473 | val loss: 0.36346468796917036 |\n",
      "Epoch:  26%|██▌       | 52/200 [00:21<01:02,  2.36it/s]\n",
      "EP_51 | train loss: 0.42932884833391977 | val loss: 0.3581001922196033 |\n",
      "Epoch:  26%|██▋       | 53/200 [00:22<01:01,  2.39it/s]\n",
      "EP_52 | train loss: 0.4261555877386355 | val loss: 0.35519769554044683 |\n",
      "Epoch:  27%|██▋       | 54/200 [00:22<01:01,  2.39it/s]\n",
      "EP_53 | train loss: 0.4237448720371022 | val loss: 0.35178757824149787 |\n",
      "Epoch:  28%|██▊       | 55/200 [00:23<01:00,  2.40it/s]\n",
      "EP_54 | train loss: 0.4228951005374684 | val loss: 0.3502926230430603 |\n",
      "Epoch:  28%|██▊       | 56/200 [00:23<01:00,  2.39it/s]\n",
      "EP_55 | train loss: 0.4197783759996003 | val loss: 0.34823473645191566 |\n",
      "Epoch:  28%|██▊       | 57/200 [00:23<00:59,  2.41it/s]\n",
      "EP_56 | train loss: 0.4186162275426528 | val loss: 0.34656815201628444 |\n",
      "Epoch:  29%|██▉       | 58/200 [00:24<00:59,  2.40it/s]\n",
      "EP_57 | train loss: 0.4189690945195217 | val loss: 0.34715619741701614 |\n",
      "Epoch:  30%|██▉       | 59/200 [00:24<00:58,  2.42it/s]\n",
      "EP_58 | train loss: 0.4208310145957797 | val loss: 0.34776684466530294 |\n",
      "Epoch:  30%|███       | 60/200 [00:25<00:57,  2.43it/s]\n",
      "EP_59 | train loss: 0.4139344421087527 | val loss: 0.34266050656636554 |\n",
      "Epoch:  30%|███       | 61/200 [00:25<00:58,  2.39it/s]\n",
      "EP_60 | train loss: 0.40745035152809295 | val loss: 0.337756872177124 |\n",
      "Epoch:  31%|███       | 62/200 [00:25<00:57,  2.40it/s]\n",
      "EP_61 | train loss: 0.408786727400387 | val loss: 0.3378952583845924 |\n",
      "Epoch:  32%|███▏      | 63/200 [00:26<00:56,  2.42it/s]\n",
      "EP_62 | train loss: 0.4037782949559829 | val loss: 0.3346642752488454 |\n",
      "Epoch:  32%|███▏      | 64/200 [00:26<00:55,  2.44it/s]\n",
      "EP_63 | train loss: 0.40269202157562856 | val loss: 0.3346207048378739 |\n",
      "Epoch:  32%|███▎      | 65/200 [00:27<00:54,  2.47it/s]\n",
      "EP_64 | train loss: 0.4000048973981072 | val loss: 0.3327118006407046 |\n",
      "Epoch:  33%|███▎      | 66/200 [00:27<00:56,  2.36it/s]\n",
      "EP_65 | train loss: 0.3988043934691186 | val loss: 0.3316612196903603 |\n",
      "Epoch:  34%|███▎      | 67/200 [00:28<00:55,  2.40it/s]\n",
      "EP_66 | train loss: 0.3971720545899634 | val loss: 0.3315629263718923 |\n",
      "Epoch:  34%|███▍      | 68/200 [00:28<00:56,  2.34it/s]\n",
      "EP_67 | train loss: 0.4006650737687653 | val loss: 0.33362290146304113 |\n",
      "Epoch:  34%|███▍      | 69/200 [00:28<00:57,  2.30it/s]\n",
      "EP_68 | train loss: 0.3907019577774347 | val loss: 0.32661967008721593 |\n",
      "Epoch:  35%|███▌      | 70/200 [00:29<00:55,  2.34it/s]\n",
      "EP_69 | train loss: 0.39360191120820887 | val loss: 0.329861380890304 |\n",
      "Epoch:  36%|███▌      | 71/200 [00:29<00:55,  2.33it/s]\n",
      "EP_70 | train loss: 0.3870116804160324 | val loss: 0.3250124846018997 |\n",
      "Epoch:  36%|███▌      | 72/200 [00:30<00:54,  2.36it/s]\n",
      "EP_71 | train loss: 0.3840833888334386 | val loss: 0.32391005345419344 |\n",
      "Epoch:  36%|███▋      | 73/200 [00:30<00:53,  2.37it/s]\n",
      "EP_72 | train loss: 0.38102965401668176 | val loss: 0.32234109733618943 |\n",
      "Epoch:  37%|███▋      | 74/200 [00:31<00:52,  2.41it/s]\n",
      "EP_73 | train loss: 0.3793813135109696 | val loss: 0.32183267088497386 |\n",
      "Epoch:  38%|███▊      | 75/200 [00:31<00:51,  2.43it/s]\n",
      "EP_74 | train loss: 0.37685433041815664 | val loss: 0.32018740913447213 |\n",
      "Epoch:  38%|███▊      | 76/200 [00:31<00:52,  2.36it/s]\n",
      "EP_75 | train loss: 0.3735213476068833 | val loss: 0.31892212465697645 |\n",
      "Epoch:  38%|███▊      | 77/200 [00:32<00:53,  2.32it/s]\n",
      "EP_76 | train loss: 0.3718554033952601 | val loss: 0.3182019883511113 |\n",
      "Epoch:  39%|███▉      | 78/200 [00:32<00:53,  2.27it/s]\n",
      "EP_77 | train loss: 0.3688217583824607 | val loss: 0.316928635040919 |\n",
      "Epoch:  40%|███▉      | 79/200 [00:33<00:52,  2.29it/s]\n",
      "EP_78 | train loss: 0.3672885263667387 | val loss: 0.31601666586071836 |\n",
      "Epoch:  40%|████      | 80/200 [00:33<00:52,  2.27it/s]\n",
      "EP_79 | train loss: 0.36523034993339987 | val loss: 0.3146197643934512 |\n",
      "Epoch:  40%|████      | 81/200 [00:34<00:53,  2.24it/s]\n",
      "EP_80 | train loss: 0.3611423829022576 | val loss: 0.31388404147297727 |\n",
      "Epoch:  41%|████      | 82/200 [00:34<00:52,  2.26it/s]\n",
      "EP_81 | train loss: 0.3611916560752719 | val loss: 0.3124177058537801 |\n",
      "Epoch:  42%|████▏     | 83/200 [00:35<00:52,  2.22it/s]\n",
      "EP_82 | train loss: 0.3566001985587326 | val loss: 0.30996042022518083 |\n",
      "Epoch:  42%|████▏     | 84/200 [00:35<00:51,  2.26it/s]\n",
      "EP_83 | train loss: 0.35290854117449594 | val loss: 0.3080658065337761 |\n",
      "Epoch:  42%|████▎     | 85/200 [00:35<00:50,  2.30it/s]\n",
      "EP_84 | train loss: 0.3498107171526142 | val loss: 0.30547835955432817 |\n",
      "Epoch:  43%|████▎     | 86/200 [00:36<00:49,  2.29it/s]\n",
      "EP_85 | train loss: 0.34775076333214255 | val loss: 0.30432171213860604 |\n",
      "Epoch:  44%|████▎     | 87/200 [00:36<00:48,  2.34it/s]\n",
      "EP_86 | train loss: 0.3498303291844387 | val loss: 0.3065037815009846 |\n",
      "Epoch:  44%|████▍     | 88/200 [00:37<00:47,  2.34it/s]\n",
      "EP_87 | train loss: 0.3417479730119892 | val loss: 0.3040753766602161 |\n",
      "Epoch:  44%|████▍     | 89/200 [00:37<00:48,  2.29it/s]\n",
      "EP_88 | train loss: 0.33818535898246016 | val loss: 0.3002268169440475 |\n",
      "Epoch:  45%|████▌     | 90/200 [00:38<00:49,  2.23it/s]\n",
      "EP_89 | train loss: 0.3351815434063182 | val loss: 0.30024534931369856 |\n",
      "Epoch:  46%|████▌     | 91/200 [00:38<00:48,  2.25it/s]\n",
      "EP_90 | train loss: 0.3325393424314611 | val loss: 0.2994404254006405 |\n",
      "Epoch:  46%|████▌     | 92/200 [00:38<00:47,  2.25it/s]\n",
      "EP_91 | train loss: 0.3277676970350976 | val loss: 0.295522810197344 |\n",
      "Epoch:  46%|████▋     | 93/200 [00:39<00:47,  2.26it/s]\n",
      "EP_92 | train loss: 0.32592155793133903 | val loss: 0.29244853526938197 |\n",
      "Epoch:  47%|████▋     | 94/200 [00:39<00:46,  2.29it/s]\n",
      "EP_93 | train loss: 0.3247120450524723 | val loss: 0.2900183194992589 |\n",
      "Epoch:  48%|████▊     | 95/200 [00:40<00:45,  2.29it/s]\n",
      "EP_94 | train loss: 0.31747670407388723 | val loss: 0.28793783106055915 |\n",
      "Epoch:  48%|████▊     | 96/200 [00:40<00:46,  2.25it/s]\n",
      "EP_95 | train loss: 0.31729194930955473 | val loss: 0.2857869588861279 |\n",
      "Epoch:  48%|████▊     | 97/200 [00:41<00:44,  2.29it/s]\n",
      "EP_96 | train loss: 0.3136885198892332 | val loss: 0.2846893346777149 |\n",
      "Epoch:  49%|████▉     | 98/200 [00:41<00:44,  2.28it/s]\n",
      "EP_97 | train loss: 0.31422094176797305 | val loss: 0.2831527012235978 |\n",
      "Epoch:  50%|████▉     | 99/200 [00:42<00:43,  2.32it/s]\n",
      "EP_98 | train loss: 0.3068507334765266 | val loss: 0.2787379634146597 |\n",
      "Epoch:  50%|█████     | 100/200 [00:42<00:41,  2.39it/s]\n",
      "EP_99 | train loss: 0.3010082347720277 | val loss: 0.2789175562998828 |\n",
      "Epoch:  50%|█████     | 101/200 [00:42<00:41,  2.37it/s]\n",
      "EP_100 | train loss: 0.2978822245317347 | val loss: 0.27362527391489816 |\n",
      "Epoch:  51%|█████     | 102/200 [00:43<00:40,  2.44it/s]\n",
      "EP_101 | train loss: 0.2940640234479717 | val loss: 0.27112967360253426 |\n",
      "Epoch:  52%|█████▏    | 103/200 [00:43<00:39,  2.49it/s]\n",
      "EP_102 | train loss: 0.29619101636550005 | val loss: 0.26911212533128026 |\n",
      "Epoch:  52%|█████▏    | 104/200 [00:43<00:37,  2.53it/s]\n",
      "EP_103 | train loss: 0.2865176701078228 | val loss: 0.2653406840913436 |\n",
      "Epoch:  52%|█████▎    | 105/200 [00:44<00:37,  2.56it/s]\n",
      "EP_104 | train loss: 0.2821269577624751 | val loss: 0.2625971845552033 |\n",
      "Epoch:  53%|█████▎    | 106/200 [00:44<00:37,  2.54it/s]\n",
      "EP_105 | train loss: 0.28177326426786536 | val loss: 0.25992968269422945 |\n",
      "Epoch:  54%|█████▎    | 107/200 [00:45<00:36,  2.55it/s]\n",
      "EP_106 | train loss: 0.27489881281759226 | val loss: 0.259991936823901 |\n",
      "Epoch:  54%|█████▍    | 108/200 [00:45<00:35,  2.56it/s]\n",
      "EP_107 | train loss: 0.2740212267520381 | val loss: 0.2526106349393433 |\n",
      "Epoch:  55%|█████▍    | 109/200 [00:45<00:35,  2.56it/s]\n",
      "EP_108 | train loss: 0.27451130549112956 | val loss: 0.25159207044863235 |\n",
      "Epoch:  55%|█████▌    | 110/200 [00:46<00:35,  2.56it/s]\n",
      "EP_109 | train loss: 0.27286767912845983 | val loss: 0.24925922061882766 |\n",
      "Epoch:  56%|█████▌    | 111/200 [00:46<00:35,  2.54it/s]\n",
      "EP_110 | train loss: 0.2580313986422969 | val loss: 0.24349653837727567 |\n",
      "Epoch:  56%|█████▌    | 112/200 [00:47<00:34,  2.57it/s]\n",
      "EP_111 | train loss: 0.25923804068097883 | val loss: 0.2386067696646148 |\n",
      "Epoch:  56%|█████▋    | 113/200 [00:47<00:33,  2.57it/s]\n",
      "EP_112 | train loss: 0.25362809826346006 | val loss: 0.2354343036810557 |\n",
      "Epoch:  57%|█████▋    | 114/200 [00:47<00:33,  2.59it/s]\n",
      "EP_113 | train loss: 0.2474428176879883 | val loss: 0.2308759093284607 |\n",
      "Epoch:  57%|█████▊    | 115/200 [00:48<00:32,  2.61it/s]\n",
      "EP_114 | train loss: 0.24273264875598982 | val loss: 0.22813947177400776 |\n",
      "Epoch:  58%|█████▊    | 116/200 [00:48<00:32,  2.59it/s]\n",
      "EP_115 | train loss: 0.23788823473687265 | val loss: 0.22848502970209308 |\n",
      "Epoch:  58%|█████▊    | 117/200 [00:49<00:32,  2.52it/s]\n",
      "EP_116 | train loss: 0.23360854036667766 | val loss: 0.2228774299808577 |\n",
      "Epoch:  59%|█████▉    | 118/200 [00:49<00:32,  2.54it/s]\n",
      "EP_117 | train loss: 0.23068133896472406 | val loss: 0.21526652749846964 |\n",
      "Epoch:  60%|█████▉    | 119/200 [00:49<00:32,  2.52it/s]\n",
      "EP_118 | train loss: 0.22478943665822346 | val loss: 0.21334006388982138 |\n",
      "Epoch:  60%|██████    | 120/200 [00:50<00:32,  2.50it/s]\n",
      "EP_119 | train loss: 0.22435916919334262 | val loss: 0.2082327452360415 |\n",
      "Epoch:  60%|██████    | 121/200 [00:50<00:31,  2.50it/s]\n",
      "EP_120 | train loss: 0.21778192333146637 | val loss: 0.20465815885394228 |\n",
      "Epoch:  61%|██████    | 122/200 [00:51<00:31,  2.51it/s]\n",
      "EP_121 | train loss: 0.21765348677541696 | val loss: 0.20181101794336356 |\n",
      "Epoch:  62%|██████▏   | 123/200 [00:51<00:30,  2.49it/s]\n",
      "EP_122 | train loss: 0.2097657549615 | val loss: 0.1949814353503433 |\n",
      "Epoch:  62%|██████▏   | 124/200 [00:51<00:30,  2.52it/s]\n",
      "EP_123 | train loss: 0.20450043678283691 | val loss: 0.19085669751260795 |\n",
      "Epoch:  62%|██████▎   | 125/200 [00:52<00:29,  2.55it/s]\n",
      "EP_124 | train loss: 0.20029953601313571 | val loss: 0.18706091011271758 |\n",
      "Epoch:  63%|██████▎   | 126/200 [00:52<00:29,  2.50it/s]\n",
      "EP_125 | train loss: 0.19568268785289689 | val loss: 0.18961911166415496 |\n",
      "Epoch:  64%|██████▎   | 127/200 [00:53<00:29,  2.43it/s]\n",
      "EP_126 | train loss: 0.19155190388361612 | val loss: 0.17791506998679218 |\n",
      "Epoch:  64%|██████▍   | 128/200 [00:53<00:29,  2.44it/s]\n",
      "EP_127 | train loss: 0.1897704947228525 | val loss: 0.1865676115540897 |\n",
      "Epoch:  64%|██████▍   | 129/200 [00:53<00:28,  2.46it/s]\n",
      "EP_128 | train loss: 0.18100216575697356 | val loss: 0.1706348003125658 |\n",
      "Epoch:  65%|██████▌   | 130/200 [00:54<00:28,  2.49it/s]\n",
      "EP_129 | train loss: 0.18042249352324244 | val loss: 0.16513087468988755 |\n",
      "Epoch:  66%|██████▌   | 131/200 [00:54<00:27,  2.48it/s]\n",
      "EP_130 | train loss: 0.17687156714645086 | val loss: 0.16259691352937736 |\n",
      "Epoch:  66%|██████▌   | 132/200 [00:55<00:27,  2.45it/s]\n",
      "EP_131 | train loss: 0.16736633567249073 | val loss: 0.15611449059318094 |\n",
      "Epoch:  66%|██████▋   | 133/200 [00:55<00:27,  2.47it/s]\n",
      "EP_132 | train loss: 0.17592242161432903 | val loss: 0.15656277245166256 |\n",
      "Epoch:  67%|██████▋   | 134/200 [00:55<00:26,  2.47it/s]\n",
      "EP_133 | train loss: 0.15905433706208771 | val loss: 0.14506360830045215 |\n",
      "Epoch:  68%|██████▊   | 135/200 [00:56<00:25,  2.51it/s]\n",
      "EP_134 | train loss: 0.1525635845520917 | val loss: 0.14297541099436142 |\n",
      "Epoch:  68%|██████▊   | 136/200 [00:56<00:25,  2.50it/s]\n",
      "EP_135 | train loss: 0.15745758589576273 | val loss: 0.1404342487746594 |\n",
      "Epoch:  68%|██████▊   | 137/200 [00:57<00:24,  2.54it/s]\n",
      "EP_136 | train loss: 0.144314814081379 | val loss: 0.1343436229462717 |\n",
      "Epoch:  69%|██████▉   | 138/200 [00:57<00:24,  2.57it/s]\n",
      "EP_137 | train loss: 0.13861063788918887 | val loss: 0.1301584074310228 |\n",
      "Epoch:  70%|██████▉   | 139/200 [00:57<00:23,  2.59it/s]\n",
      "EP_138 | train loss: 0.13561010921702665 | val loss: 0.1262272783354217 |\n",
      "Epoch:  70%|███████   | 140/200 [00:58<00:23,  2.58it/s]\n",
      "EP_139 | train loss: 0.13240256613376095 | val loss: 0.12428371286859699 |\n",
      "Epoch:  70%|███████   | 141/200 [00:58<00:23,  2.56it/s]\n",
      "EP_140 | train loss: 0.12716371592353373 | val loss: 0.11866764110677383 |\n",
      "Epoch:  71%|███████   | 142/200 [00:58<00:22,  2.59it/s]\n",
      "EP_141 | train loss: 0.128131117773991 | val loss: 0.11487451429460563 |\n",
      "Epoch:  72%|███████▏  | 143/200 [00:59<00:21,  2.61it/s]\n",
      "EP_142 | train loss: 0.11929828980389763 | val loss: 0.11181868817292008 |\n",
      "Epoch:  72%|███████▏  | 144/200 [00:59<00:21,  2.61it/s]\n",
      "EP_143 | train loss: 0.11610464629004984 | val loss: 0.10460491566097035 |\n",
      "Epoch:  72%|███████▎  | 145/200 [01:00<00:21,  2.62it/s]\n",
      "EP_144 | train loss: 0.12001161037706862 | val loss: 0.11604461132311354 |\n",
      "Epoch:  73%|███████▎  | 146/200 [01:00<00:20,  2.59it/s]\n",
      "EP_145 | train loss: 0.10671658293873656 | val loss: 0.09852755157386556 |\n",
      "Epoch:  74%|███████▎  | 147/200 [01:00<00:20,  2.60it/s]\n",
      "EP_146 | train loss: 0.10500258511187983 | val loss: 0.09666184701171576 |\n",
      "Epoch:  74%|███████▍  | 148/200 [01:01<00:19,  2.61it/s]\n",
      "EP_147 | train loss: 0.10322739213120703 | val loss: 0.09295738941314173 |\n",
      "Epoch:  74%|███████▍  | 149/200 [01:01<00:19,  2.60it/s]\n",
      "EP_148 | train loss: 0.1001982847849528 | val loss: 0.0893896689601973 |\n",
      "Epoch:  75%|███████▌  | 150/200 [01:02<00:19,  2.58it/s]\n",
      "EP_149 | train loss: 0.09396549042533425 | val loss: 0.08542904374646206 |\n",
      "Epoch:  76%|███████▌  | 151/200 [01:02<00:19,  2.47it/s]\n",
      "EP_150 | train loss: 0.08822384628595091 | val loss: 0.08382923901081085 |\n",
      "Epoch:  76%|███████▌  | 152/200 [01:02<00:19,  2.51it/s]\n",
      "EP_151 | train loss: 0.0906165385947508 | val loss: 0.08706124068475236 |\n",
      "Epoch:  76%|███████▋  | 153/200 [01:03<00:18,  2.53it/s]\n",
      "EP_152 | train loss: 0.08294576710345698 | val loss: 0.07693113941772312 |\n",
      "Epoch:  77%|███████▋  | 154/200 [01:03<00:18,  2.55it/s]\n",
      "EP_153 | train loss: 0.07926383824909435 | val loss: 0.07350070453157612 |\n",
      "Epoch:  78%|███████▊  | 155/200 [01:04<00:17,  2.55it/s]\n",
      "EP_154 | train loss: 0.07837060689926148 | val loss: 0.07322617108915366 |\n",
      "Epoch:  78%|███████▊  | 156/200 [01:04<00:17,  2.51it/s]\n",
      "EP_155 | train loss: 0.07789728980438382 | val loss: 0.07036619618827221 |\n",
      "Epoch:  78%|███████▊  | 157/200 [01:04<00:17,  2.49it/s]\n",
      "EP_156 | train loss: 0.07350463364638535 | val loss: 0.06721485771384894 |\n",
      "Epoch:  79%|███████▉  | 158/200 [01:05<00:17,  2.44it/s]\n",
      "EP_157 | train loss: 0.0698917944057315 | val loss: 0.06360512621262494 |\n",
      "Epoch:  80%|███████▉  | 159/200 [01:05<00:16,  2.46it/s]\n",
      "EP_158 | train loss: 0.06942268983990538 | val loss: 0.06262700493429221 |\n",
      "Epoch:  80%|████████  | 160/200 [01:06<00:16,  2.43it/s]\n",
      "EP_159 | train loss: 0.06284425854682922 | val loss: 0.06084002057711283 |\n",
      "Epoch:  80%|████████  | 161/200 [01:06<00:15,  2.44it/s]\n",
      "EP_160 | train loss: 0.06327963553222955 | val loss: 0.061692560128137175 |\n",
      "Epoch:  81%|████████  | 162/200 [01:06<00:15,  2.49it/s]\n",
      "EP_161 | train loss: 0.06293121494498907 | val loss: 0.057836301186505484 |\n",
      "Epoch:  82%|████████▏ | 163/200 [01:07<00:14,  2.52it/s]\n",
      "EP_162 | train loss: 0.05624425896242553 | val loss: 0.05519679480907964 |\n",
      "Epoch:  82%|████████▏ | 164/200 [01:07<00:14,  2.54it/s]\n",
      "EP_163 | train loss: 0.05401470462481181 | val loss: 0.0523654219566607 |\n",
      "Epoch:  82%|████████▎ | 165/200 [01:08<00:14,  2.47it/s]\n",
      "EP_164 | train loss: 0.054366533429014915 | val loss: 0.052009634527505615 |\n",
      "Epoch:  83%|████████▎ | 166/200 [01:08<00:14,  2.40it/s]\n",
      "EP_165 | train loss: 0.04967895267056484 | val loss: 0.04885578900575638 |\n",
      "Epoch:  84%|████████▎ | 167/200 [01:08<00:13,  2.44it/s]\n",
      "EP_166 | train loss: 0.0483483645845862 | val loss: 0.04691725677134944 |\n",
      "Epoch:  84%|████████▍ | 168/200 [01:09<00:12,  2.47it/s]\n",
      "EP_167 | train loss: 0.05619640607459872 | val loss: 0.05472430236199323 |\n",
      "Epoch:  84%|████████▍ | 169/200 [01:09<00:12,  2.50it/s]\n",
      "EP_168 | train loss: 0.04434665833033767 | val loss: 0.04401975475689944 |\n",
      "Epoch:  85%|████████▌ | 170/200 [01:10<00:11,  2.53it/s]\n",
      "EP_169 | train loss: 0.042529667183464646 | val loss: 0.04224394378708858 |\n",
      "Epoch:  86%|████████▌ | 171/200 [01:10<00:11,  2.53it/s]\n",
      "EP_170 | train loss: 0.042577356509133885 | val loss: 0.04271781415331597 |\n",
      "Epoch:  86%|████████▌ | 172/200 [01:10<00:10,  2.56it/s]\n",
      "EP_171 | train loss: 0.04527462942927491 | val loss: 0.0442672401082282 |\n",
      "Epoch:  86%|████████▋ | 173/200 [01:11<00:10,  2.48it/s]\n",
      "EP_172 | train loss: 0.0446290943552466 | val loss: 0.04611704381657582 |\n",
      "Epoch:  87%|████████▋ | 174/200 [01:11<00:10,  2.51it/s]\n",
      "EP_173 | train loss: 0.0388426438850515 | val loss: 0.03994657099246979 |\n",
      "Epoch:  88%|████████▊ | 175/200 [01:12<00:09,  2.56it/s]\n",
      "EP_174 | train loss: 0.03750847975413005 | val loss: 0.039326297155782286 |\n",
      "Epoch:  88%|████████▊ | 176/200 [01:12<00:09,  2.54it/s]\n",
      "EP_175 | train loss: 0.041296464730711545 | val loss: 0.04061600156858856 |\n",
      "Epoch:  88%|████████▊ | 177/200 [01:12<00:08,  2.56it/s]\n",
      "EP_176 | train loss: 0.038981565716219885 | val loss: 0.03934810442083022 |\n",
      "Epoch:  89%|████████▉ | 178/200 [01:13<00:08,  2.52it/s]\n",
      "EP_177 | train loss: 0.04132280904872745 | val loss: 0.04474675217095543 |\n",
      "Epoch:  90%|████████▉ | 179/200 [01:13<00:08,  2.51it/s]\n",
      "EP_178 | train loss: 0.0340616586745954 | val loss: 0.03405045703345654 |\n",
      "Epoch:  90%|█████████ | 180/200 [01:14<00:08,  2.49it/s]\n",
      "EP_179 | train loss: 0.030443072260594835 | val loss: 0.032616356570346686 |\n",
      "Epoch:  90%|█████████ | 181/200 [01:14<00:07,  2.48it/s]\n",
      "EP_180 | train loss: 0.0297695294899099 | val loss: 0.0311151979600682 |\n",
      "Epoch:  91%|█████████ | 182/200 [01:14<00:07,  2.47it/s]\n",
      "EP_181 | train loss: 0.030400011761515747 | val loss: 0.03332925719373366 |\n",
      "Epoch:  92%|█████████▏| 183/200 [01:15<00:06,  2.50it/s]\n",
      "EP_182 | train loss: 0.028980836915034874 | val loss: 0.03072686697922501 |\n",
      "Epoch:  92%|█████████▏| 184/200 [01:15<00:06,  2.45it/s]\n",
      "EP_183 | train loss: 0.03235355305905436 | val loss: 0.032132868673287185 |\n",
      "Epoch:  92%|█████████▎| 185/200 [01:16<00:06,  2.48it/s]\n",
      "EP_184 | train loss: 0.02467085152280097 | val loss: 0.02634234076329306 |\n",
      "Epoch:  93%|█████████▎| 186/200 [01:16<00:05,  2.49it/s]\n",
      "EP_185 | train loss: 0.05268990526012346 | val loss: 0.05356696715541914 |\n",
      "Epoch:  94%|█████████▎| 187/200 [01:16<00:05,  2.53it/s]\n",
      "EP_186 | train loss: 0.023628563828328078 | val loss: 0.02500982633700558 |\n",
      "Epoch:  94%|█████████▍| 188/200 [01:17<00:04,  2.56it/s]\n",
      "EP_187 | train loss: 0.027416651739793664 | val loss: 0.027977470235497345 |\n",
      "Epoch:  94%|█████████▍| 189/200 [01:17<00:04,  2.57it/s]\n",
      "EP_188 | train loss: 0.0243883118909948 | val loss: 0.025356526541359285 |\n",
      "Epoch:  95%|█████████▌| 190/200 [01:18<00:03,  2.58it/s]\n",
      "EP_189 | train loss: 0.02508734748059628 | val loss: 0.02556547244974211 |\n",
      "Epoch:  96%|█████████▌| 191/200 [01:18<00:03,  2.50it/s]\n",
      "EP_190 | train loss: 0.02308591686043085 | val loss: 0.024319805643137765 |\n",
      "Epoch:  96%|█████████▌| 192/200 [01:18<00:03,  2.53it/s]\n",
      "EP_191 | train loss: 0.020639665717003392 | val loss: 0.021395326756379184 |\n",
      "Epoch:  96%|█████████▋| 193/200 [01:19<00:02,  2.56it/s]\n",
      "EP_192 | train loss: 0.01962912211231157 | val loss: 0.0211081997144456 |\n",
      "Epoch:  97%|█████████▋| 194/200 [01:19<00:02,  2.58it/s]\n",
      "EP_193 | train loss: 0.019506524474013087 | val loss: 0.021387790494105396 |\n",
      "Epoch:  98%|█████████▊| 195/200 [01:19<00:01,  2.60it/s]\n",
      "EP_194 | train loss: 0.01820567849220014 | val loss: 0.018912457842745034 |\n",
      "Epoch:  98%|█████████▊| 196/200 [01:20<00:01,  2.58it/s]\n",
      "EP_195 | train loss: 0.01827323039372762 | val loss: 0.0201721845888624 |\n",
      "Epoch:  98%|█████████▊| 197/200 [01:20<00:01,  2.60it/s]\n",
      "EP_196 | train loss: 0.027245086314631444 | val loss: 0.029755390303976396 |\n",
      "Epoch:  99%|█████████▉| 198/200 [01:21<00:00,  2.62it/s]\n",
      "EP_197 | train loss: 0.018153047649299398 | val loss: 0.01873468052522809 |\n",
      "Epoch: 100%|█████████▉| 199/200 [01:21<00:00,  2.62it/s]\n",
      "EP_198 | train loss: 0.01785702838325033 | val loss: 0.0181891431703287 |\n",
      "Epoch: 100%|██████████| 200/200 [01:21<00:00,  2.44it/s]\n",
      "EP_199 | train loss: 0.01710578762725288 | val loss: 0.018001146176282096 |\n",
      "\n"
     ]
    }
   ],
   "source": [
    "AttractiveTrainer.train()"
   ]
  },
  {
   "cell_type": "markdown",
   "metadata": {},
   "source": [
    "## for classification, not better"
   ]
  },
  {
   "cell_type": "markdown",
   "metadata": {},
   "source": [
    "## Below is testing"
   ]
  },
  {
   "cell_type": "code",
   "execution_count": 6,
   "metadata": {},
   "outputs": [
    {
     "output_type": "execute_result",
     "data": {
      "text/plain": [
       "AttractiveNet(\n",
       "  (embedding): AttractiveEmbedding(\n",
       "    (token): TokenEmbedding(12699, 300, padding_idx=1)\n",
       "  )\n",
       "  (bigramcnn): Sequential(\n",
       "    (0): Conv1d(300, 210, kernel_size=(2,), stride=(1,), padding=(1,))\n",
       "    (1): ReLU6()\n",
       "    (2): Conv1d(210, 100, kernel_size=(2,), stride=(1,), padding=(1,))\n",
       "    (3): ReLU6()\n",
       "    (4): Dropout(p=0.5, inplace=False)\n",
       "  )\n",
       "  (trigramcnn): Sequential(\n",
       "    (0): Conv1d(300, 210, kernel_size=(3,), stride=(1,), padding=(1,))\n",
       "    (1): ReLU6()\n",
       "    (2): Conv1d(210, 100, kernel_size=(3,), stride=(1,), padding=(1,))\n",
       "    (3): ReLU6()\n",
       "    (4): Dropout(p=0.5, inplace=False)\n",
       "  )\n",
       "  (encoder_bigram): LSTM(100, 30, batch_first=True, dropout=0.5, bidirectional=True)\n",
       "  (encoder_trigram): LSTM(100, 30, batch_first=True, dropout=0.5, bidirectional=True)\n",
       "  (linear): Sequential(\n",
       "    (0): Linear(in_features=128, out_features=30, bias=True)\n",
       "    (1): ReLU()\n",
       "    (2): Linear(in_features=30, out_features=1, bias=True)\n",
       "  )\n",
       ")"
      ]
     },
     "metadata": {},
     "execution_count": 6
    }
   ],
   "source": [
    "from attractivenet import AttractiveNet\n",
    "\n",
    "PATH = './model/CNN_LSTM_20201108-133907/0.387012.70'\n",
    "\n",
    "load_model = AttractiveNet(config).to(AttractiveData.device)\n",
    "load_model.load_state_dict(torch.load(PATH))\n",
    "load_model.eval()"
   ]
  },
  {
   "cell_type": "code",
   "execution_count": 7,
   "metadata": {},
   "outputs": [],
   "source": [
    "def predict_attractive(sentence, category, phase):\n",
    "    indexed_sentence = [AttractiveData.TEXT.vocab.stoi[t] for t in sentence]\n",
    "    indexed_category = [AttractiveData.CATEGORIES_LABEL.vocab.stoi[category]]\n",
    "    tensor_sentence = torch.LongTensor(indexed_sentence).to(AttractiveData.device)\n",
    "    tensor_category = torch.LongTensor(indexed_category).to(AttractiveData.device)\n",
    "    tensor_sentence = tensor_sentence.unsqueeze(0)\n",
    "\n",
    "    prediction = load_model(tensor_sentence, tensor_category, phase=phase)\n",
    "\n",
    "    return prediction"
   ]
  },
  {
   "cell_type": "code",
   "execution_count": 8,
   "metadata": {
    "tags": []
   },
   "outputs": [],
   "source": [
    "# train mean = 3.15, test mean = 2.8\n",
    "predict_list = []\n",
    "with torch.no_grad():\n",
    "    for i, sentence in enumerate(AttractiveData.test_data):\n",
    "        prediction = predict_attractive(sentence.Headline, sentence.Category, 'test')\n",
    "        predict_list.append(prediction.item())\n",
    "        # predict_list.append(prediction.item())\n",
    "AttractiveData.df_test['Label'] = predict_list\n",
    "AttractiveData.df_test[['ID', 'Label']].to_csv(config['save_name'] + '.csv', index=False)"
   ]
  },
  {
   "cell_type": "markdown",
   "metadata": {},
   "source": [
    "## Below for statistics"
   ]
  },
  {
   "cell_type": "code",
   "execution_count": 9,
   "metadata": {},
   "outputs": [],
   "source": [
    "import statistics\n",
    "from sklearn.metrics import mean_squared_error"
   ]
  },
  {
   "cell_type": "code",
   "execution_count": 10,
   "metadata": {},
   "outputs": [],
   "source": [
    "# # train mean = 3.15, test mean = 2.8\n",
    "# train_list = []\n",
    "# for i, sentence in enumerate(AttractiveData.train_data):\n",
    "#     prediction = predict_attractive(sentence.Headline, sentence.Category, 'train')\n",
    "#     train_list.append(prediction.item())\n",
    "#     # train_list.append(prediction.item())\n",
    "# # print(train_list)\n",
    "# mean_squared_error(pd.read_csv('data/train.csv').sort_values(['ID']).Label.to_list(), train_list), statistics.mean(train_list), statistics.stdev(train_list)"
   ]
  },
  {
   "cell_type": "code",
   "execution_count": 11,
   "metadata": {},
   "outputs": [],
   "source": [
    "# train_list[0:5], pd.read_csv('data/train.csv').sort_values(['ID']).Label.to_list()[0:5]"
   ]
  },
  {
   "cell_type": "code",
   "execution_count": 12,
   "metadata": {},
   "outputs": [],
   "source": [
    "# a = AttractiveData.df_train['Label'].to_list()\n",
    "# statistics.mean(a), statistics.stdev(a)"
   ]
  },
  {
   "cell_type": "code",
   "execution_count": 13,
   "metadata": {},
   "outputs": [
    {
     "output_type": "execute_result",
     "data": {
      "text/plain": [
       "(2.7665667880474207, 0.3501759957456157)"
      ]
     },
     "metadata": {},
     "execution_count": 13
    }
   ],
   "source": [
    "statistics.mean(predict_list), statistics.stdev(predict_list)"
   ]
  },
  {
   "cell_type": "code",
   "execution_count": 14,
   "metadata": {},
   "outputs": [
    {
     "output_type": "execute_result",
     "data": {
      "text/plain": [
       "(0.0009131912711619926, 2.783861954306716, 0.36437382915352245)"
      ]
     },
     "metadata": {},
     "execution_count": 14
    }
   ],
   "source": [
    "baseline_list = pd.read_csv('baseline.csv').sort_values(['ID']).Label.to_list()\n",
    "mean_squared_error(baseline_list, predict_list), statistics.mean(baseline_list), statistics.stdev(baseline_list)"
   ]
  },
  {
   "cell_type": "code",
   "execution_count": null,
   "metadata": {},
   "outputs": [],
   "source": []
  },
  {
   "cell_type": "code",
   "execution_count": 18,
   "metadata": {},
   "outputs": [
    {
     "data": {
      "text/plain": [
       "0.1609754968529207"
      ]
     },
     "execution_count": 18,
     "metadata": {},
     "output_type": "execute_result"
    }
   ],
   "source": [
    "mean_squared_error(pd.read_csv('baseline.csv').sort_values(['ID']).Label.to_list(), pd.read_csv('./predict/ensemble.csv').sort_values(['ID']).Label.to_list())"
   ]
  },
  {
   "cell_type": "code",
   "execution_count": 13,
   "metadata": {},
   "outputs": [],
   "source": []
  },
  {
   "cell_type": "code",
   "execution_count": null,
   "metadata": {},
   "outputs": [],
   "source": []
  }
 ],
 "metadata": {
  "kernelspec": {
   "display_name": "DS_hw2",
   "language": "python",
   "name": "ds_hw2"
  },
  "language_info": {
   "codemirror_mode": {
    "name": "ipython",
    "version": 3
   },
   "file_extension": ".py",
   "mimetype": "text/x-python",
   "name": "python",
   "nbconvert_exporter": "python",
   "pygments_lexer": "ipython3",
   "version": "3.6.12-final"
  }
 },
 "nbformat": 4,
 "nbformat_minor": 4
}