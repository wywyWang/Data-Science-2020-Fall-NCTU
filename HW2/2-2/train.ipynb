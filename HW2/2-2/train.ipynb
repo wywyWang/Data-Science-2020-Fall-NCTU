{
 "cells": [
  {
   "cell_type": "code",
   "execution_count": 1,
   "metadata": {},
   "outputs": [],
   "source": [
    "# common packages\n",
    "import pandas as pd\n",
    "import time\n",
    "\n",
    "# # DL framework\n",
    "import torch\n",
    "from torchtext import data\n",
    "\n",
    "from attractivedata import AttractiveData\n",
    "from trainer import AttractiveTrainer"
   ]
  },
  {
   "source": [
    "# ensemble all data"
   ],
   "cell_type": "markdown",
   "metadata": {}
  },
  {
   "cell_type": "markdown",
   "metadata": {},
   "source": [
    "## Load and prepare data"
   ]
  },
  {
   "cell_type": "code",
   "execution_count": 2,
   "metadata": {},
   "outputs": [],
   "source": [
    "train_file = 'example/train.csv'\n",
    "val_file = 'example/val.csv'\n",
    "test_file = 'data/test.csv'\n",
    "pretrained_file = 'glove.840B.300d'\n",
    "config = {\n",
    "    'max_seq': 40,\n",
    "    'min_freq': 0,\n",
    "    'batch_size': 64,\n",
    "    'pretrained_file': pretrained_file\n",
    "}\n"
   ]
  },
  {
   "cell_type": "code",
   "execution_count": 3,
   "metadata": {},
   "outputs": [],
   "source": [
    "AttractiveData = AttractiveData(train_file, val_file, test_file, pretrained_file, config)"
   ]
  },
  {
   "cell_type": "code",
   "execution_count": 4,
   "metadata": {},
   "outputs": [],
   "source": [
    "# for i, sentence in enumerate(AttractiveData.test_data):\n",
    "#     if i == 3:\n",
    "#         print(vars(AttractiveData.train_data[i]), vars(sentence))"
   ]
  },
  {
   "cell_type": "code",
   "execution_count": 5,
   "metadata": {},
   "outputs": [
    {
     "output_type": "execute_result",
     "data": {
      "text/plain": [
       "18"
      ]
     },
     "metadata": {},
     "execution_count": 5
    }
   ],
   "source": [
    "len(AttractiveData.CATEGORIES_LABEL.vocab.freqs)"
   ]
  },
  {
   "cell_type": "code",
   "execution_count": 6,
   "metadata": {},
   "outputs": [
    {
     "output_type": "execute_result",
     "data": {
      "text/plain": [
       "38"
      ]
     },
     "metadata": {},
     "execution_count": 6
    }
   ],
   "source": [
    "max_len = 0\n",
    "a = AttractiveData.train_data\n",
    "for i in range(len(a)):\n",
    "    if len(a[i].Headline) >= max_len:\n",
    "        max_len = len(a[i].Headline)\n",
    "max_len"
   ]
  },
  {
   "cell_type": "markdown",
   "metadata": {},
   "source": [
    "## Start to train"
   ]
  },
  {
   "cell_type": "code",
   "execution_count": 7,
   "metadata": {},
   "outputs": [
    {
     "output_type": "stream",
     "name": "stdout",
     "text": [
      "torch.Size([11857, 300])\n"
     ]
    }
   ],
   "source": [
    "config['timestr'] = time.strftime(\"%Y%m%d-%H%M%S\")\n",
    "config['save_name'] = 'CNN_LSTM'\n",
    "config['input_dim'] = len(AttractiveData.TEXT.vocab)\n",
    "config['embedding_dim'] = 300\n",
    "config['category_dim'] = len(AttractiveData.CATEGORIES_LABEL.vocab)\n",
    "config['category_embedding_dim'] = 8\n",
    "config['hidden_dim'] = 30\n",
    "config['output_dim'] = 1\n",
    "config['log_steps'] = 10\n",
    "config['epochs'] = 200\n",
    "config['lr'] = {\n",
    "    'encoder': 1e-5,\n",
    "    'embedding': 6e-6,\n",
    "    'linear': 1e-5\n",
    "}\n",
    "config['num_layers'] = 1\n",
    "config['kernel_size'] = 3\n",
    "config['dropout'] = 0.1\n",
    "config['train_len'] = AttractiveData.train_len\n",
    "config['val_len'] = AttractiveData.val_len\n",
    "config['test_len'] = AttractiveData.test_len\n",
    "\n",
    "pretrained_embeddings = AttractiveData.TEXT.vocab.vectors\n",
    "print(pretrained_embeddings.shape)"
   ]
  },
  {
   "cell_type": "code",
   "execution_count": 8,
   "metadata": {},
   "outputs": [],
   "source": [
    "AttractiveTrainer = AttractiveTrainer(config, AttractiveData.device, AttractiveData.trainloader, AttractiveData.valloader, pretrained_embeddings)"
   ]
  },
  {
   "cell_type": "code",
   "execution_count": 9,
   "metadata": {},
   "outputs": [
    {
     "output_type": "execute_result",
     "data": {
      "text/plain": [
       "(AttractiveNet(\n",
       "   (embedding): AttractiveEmbedding(\n",
       "     (token): TokenEmbedding(12699, 300, padding_idx=1)\n",
       "   )\n",
       "   (bigramcnn): Sequential(\n",
       "     (0): Conv1d(300, 200, kernel_size=(3,), stride=(1,), padding=(1,))\n",
       "     (1): ReLU()\n",
       "     (2): Conv1d(200, 100, kernel_size=(3,), stride=(1,), padding=(1,))\n",
       "     (3): ReLU()\n",
       "   )\n",
       "   (trigramcnn): Sequential(\n",
       "     (0): Conv1d(300, 200, kernel_size=(3,), stride=(1,), padding=(1,))\n",
       "     (1): ReLU()\n",
       "     (2): Conv1d(200, 100, kernel_size=(3,), stride=(1,), padding=(1,))\n",
       "     (3): ReLU()\n",
       "   )\n",
       "   (encoder_bigram): LSTM(100, 30, batch_first=True, dropout=0.1, bidirectional=True)\n",
       "   (encoder_trigram): LSTM(100, 30, batch_first=True, dropout=0.1, bidirectional=True)\n",
       "   (linear): Sequential(\n",
       "     (0): Linear(in_features=120, out_features=30, bias=True)\n",
       "     (1): ReLU()\n",
       "     (2): Linear(in_features=30, out_features=1, bias=True)\n",
       "   )\n",
       " ),\n",
       " 4357321,\n",
       " 4357321)"
      ]
     },
     "metadata": {},
     "execution_count": 9
    }
   ],
   "source": [
    "AttractiveTrainer.model, AttractiveTrainer.config['total_params'], AttractiveTrainer.config['total_learned_params']"
   ]
  },
  {
   "cell_type": "code",
   "execution_count": 10,
   "metadata": {
    "tags": [
     "outputPrepend"
    ]
   },
   "outputs": [
    {
     "output_type": "stream",
     "name": "stderr",
     "text": [
      "|\n",
      "====\n",
      "Epoch:  28%|██▊       | 57/200 [00:23<00:57,  2.48it/s]\n",
      "EP_train | train loss: 0.40454726780162137 | val loss: 0.35045383519986095 |\n",
      "====\n",
      "Epoch:  29%|██▉       | 58/200 [00:23<00:57,  2.46it/s]\n",
      "EP_train | train loss: 0.4012848508124258 | val loss: 0.34813718497753143 |\n",
      "====\n",
      "Epoch:  30%|██▉       | 59/200 [00:24<00:56,  2.48it/s]\n",
      "EP_train | train loss: 0.4034455607919132 | val loss: 0.3393503900836496 |\n",
      "====\n",
      "Epoch:  30%|███       | 60/200 [00:24<00:56,  2.48it/s]\n",
      "EP_train | train loss: 0.39927046345729456 | val loss: 0.33867542036608156 |\n",
      "====\n",
      "Epoch:  30%|███       | 61/200 [00:25<00:56,  2.48it/s]\n",
      "EP_train | train loss: 0.39598699083515243 | val loss: 0.3388042733365414 |\n",
      "====\n",
      "Epoch:  31%|███       | 62/200 [00:25<00:55,  2.50it/s]\n",
      "EP_train | train loss: 0.39360518081515444 | val loss: 0.3379974616508858 |\n",
      "====\n",
      "Epoch:  32%|███▏      | 63/200 [00:25<00:55,  2.48it/s]\n",
      "EP_train | train loss: 0.393559723741868 | val loss: 0.3450901482035132 |\n",
      "====\n",
      "Epoch:  32%|███▏      | 64/200 [00:26<00:53,  2.53it/s]\n",
      "EP_train | train loss: 0.38875226974487304 | val loss: 0.33548299763716904 |\n",
      "====\n",
      "Epoch:  32%|███▎      | 65/200 [00:26<00:53,  2.54it/s]\n",
      "EP_train | train loss: 0.38646586829540774 | val loss: 0.33462529790167717 |\n",
      "====\n",
      "Epoch:  33%|███▎      | 66/200 [00:27<00:53,  2.49it/s]\n",
      "EP_train | train loss: 0.38577103895299575 | val loss: 0.33124811041588875 |\n",
      "====\n",
      "Epoch:  34%|███▎      | 67/200 [00:27<00:53,  2.50it/s]\n",
      "EP_train | train loss: 0.3833926752501843 | val loss: 0.33238327970691756 |\n",
      "====\n",
      "Epoch:  34%|███▍      | 68/200 [00:27<00:51,  2.54it/s]\n",
      "EP_train | train loss: 0.3816643200668634 | val loss: 0.3335435963144489 |\n",
      "====\n",
      "Epoch:  34%|███▍      | 69/200 [00:28<00:50,  2.57it/s]\n",
      "EP_train | train loss: 0.3782571091371424 | val loss: 0.33091454266333115 |\n",
      "====\n",
      "Epoch:  35%|███▌      | 70/200 [00:28<00:52,  2.49it/s]\n",
      "EP_train | train loss: 0.376812855870116 | val loss: 0.3287157466014226 |\n",
      "====\n",
      "Epoch:  36%|███▌      | 71/200 [00:29<00:52,  2.44it/s]\n",
      "EP_train | train loss: 0.3749703416637346 | val loss: 0.3260163778767866 |\n",
      "====\n",
      "Epoch:  36%|███▌      | 72/200 [00:29<00:54,  2.35it/s]\n",
      "EP_train | train loss: 0.37172511138168035 | val loss: 0.325723464290301 |\n",
      "====\n",
      "Epoch:  36%|███▋      | 73/200 [00:29<00:53,  2.39it/s]\n",
      "EP_train | train loss: 0.37068812893886194 | val loss: 0.327204816773826 |\n",
      "====\n",
      "Epoch:  37%|███▋      | 74/200 [00:30<00:51,  2.42it/s]\n",
      "EP_train | train loss: 0.3680643282684625 | val loss: 0.3208646943756178 |\n",
      "====\n",
      "Epoch:  38%|███▊      | 75/200 [00:30<00:52,  2.39it/s]\n",
      "EP_train | train loss: 0.3641699005575741 | val loss: 0.32390537536611747 |\n",
      "====\n",
      "Epoch:  38%|███▊      | 76/200 [00:31<00:51,  2.42it/s]\n",
      "EP_train | train loss: 0.36255925356173047 | val loss: 0.32121872463647055 |\n",
      "====\n",
      "Epoch:  38%|███▊      | 77/200 [00:31<00:49,  2.46it/s]\n",
      "EP_train | train loss: 0.3612995657266355 | val loss: 0.3153349996781817 |\n",
      "====\n",
      "Epoch:  39%|███▉      | 78/200 [00:31<00:48,  2.50it/s]\n",
      "EP_train | train loss: 0.35882639697953767 | val loss: 0.3197901026875365 |\n",
      "====\n",
      "Epoch:  40%|███▉      | 79/200 [00:32<00:48,  2.49it/s]\n",
      "EP_train | train loss: 0.35485039692299036 | val loss: 0.31470493271070366 |\n",
      "====\n",
      "Epoch:  40%|████      | 80/200 [00:32<00:49,  2.44it/s]\n",
      "EP_train | train loss: 0.3524528868058149 | val loss: 0.3113877425591151 |\n",
      "====\n",
      "Epoch:  40%|████      | 81/200 [00:33<00:48,  2.46it/s]\n",
      "EP_train | train loss: 0.35065923952588846 | val loss: 0.3140133639761046 |\n",
      "====\n",
      "Epoch:  41%|████      | 82/200 [00:33<00:47,  2.48it/s]\n",
      "EP_train | train loss: 0.3467975055470186 | val loss: 0.30772851612053664 |\n",
      "====\n",
      "Epoch:  42%|████▏     | 83/200 [00:34<00:46,  2.51it/s]\n",
      "EP_train | train loss: 0.3472220182418823 | val loss: 0.304662100240296 |\n",
      "====\n",
      "Epoch:  42%|████▏     | 84/200 [00:34<00:45,  2.53it/s]\n",
      "EP_train | train loss: 0.3412690508599375 | val loss: 0.30544178538462696 |\n",
      "====\n",
      "Epoch:  42%|████▎     | 85/200 [00:34<00:45,  2.53it/s]\n",
      "EP_train | train loss: 0.3396589480194391 | val loss: 0.30049994061974916 |\n",
      "====\n",
      "Epoch:  43%|████▎     | 86/200 [00:35<00:45,  2.52it/s]\n",
      "EP_train | train loss: 0.33583447605955835 | val loss: 0.3000299466006896 |\n",
      "====\n",
      "Epoch:  44%|████▎     | 87/200 [00:35<00:45,  2.47it/s]\n",
      "EP_train | train loss: 0.33235901477290136 | val loss: 0.29698005143333883 |\n",
      "====\n",
      "Epoch:  44%|████▍     | 88/200 [00:36<00:45,  2.47it/s]\n",
      "EP_train | train loss: 0.3300359197691375 | val loss: 0.29674122058877755 |\n",
      "====\n",
      "Epoch:  44%|████▍     | 89/200 [00:36<00:45,  2.44it/s]\n",
      "EP_train | train loss: 0.32507842662287695 | val loss: 0.2920161745711869 |\n",
      "====\n",
      "Epoch:  45%|████▌     | 90/200 [00:36<00:44,  2.45it/s]\n",
      "EP_train | train loss: 0.32205468346090876 | val loss: 0.28928376237551373 |\n",
      "====\n",
      "Epoch:  46%|████▌     | 91/200 [00:37<00:45,  2.40it/s]\n",
      "EP_train | train loss: 0.3193195997499952 | val loss: 0.2858559056824329 |\n",
      "====\n",
      "Epoch:  46%|████▌     | 92/200 [00:37<00:45,  2.40it/s]\n",
      "EP_train | train loss: 0.31515859716078815 | val loss: 0.28347549193045674 |\n",
      "====\n",
      "Epoch:  46%|████▋     | 93/200 [00:38<00:44,  2.38it/s]\n",
      "EP_train | train loss: 0.31216801942563527 | val loss: 0.28127088646094006 |\n",
      "====\n",
      "Epoch:  47%|████▋     | 94/200 [00:38<00:44,  2.36it/s]\n",
      "EP_train | train loss: 0.3076255849763459 | val loss: 0.2794577631295896 |\n",
      "====\n",
      "Epoch:  48%|████▊     | 95/200 [00:38<00:44,  2.37it/s]\n",
      "EP_train | train loss: 0.3050148921854356 | val loss: 0.2744575633722193 |\n",
      "====\n",
      "Epoch:  48%|████▊     | 96/200 [00:39<00:44,  2.35it/s]\n",
      "EP_train | train loss: 0.3013736710828893 | val loss: 0.27222607620790895 |\n",
      "====\n",
      "Epoch:  48%|████▊     | 97/200 [00:39<00:42,  2.40it/s]\n",
      "EP_train | train loss: 0.29779824976827585 | val loss: 0.26893669249964697 |\n",
      "====\n",
      "Epoch:  49%|████▉     | 98/200 [00:40<00:42,  2.43it/s]\n",
      "EP_train | train loss: 0.2934741997251324 | val loss: 0.2661025296239292 |\n",
      "====\n",
      "Epoch:  50%|████▉     | 99/200 [00:40<00:41,  2.41it/s]\n",
      "EP_train | train loss: 0.2888008159749648 | val loss: 0.2622690931254742 |\n",
      "====\n",
      "Epoch:  50%|█████     | 100/200 [00:41<00:41,  2.43it/s]\n",
      "EP_train | train loss: 0.28438682930142273 | val loss: 0.2591551136152417 |\n",
      "====\n",
      "Epoch:  50%|█████     | 101/200 [00:41<00:41,  2.41it/s]\n",
      "EP_train | train loss: 0.28762258688608805 | val loss: 0.25803560924296287 |\n",
      "====\n",
      "Epoch:  51%|█████     | 102/200 [00:41<00:40,  2.39it/s]\n",
      "EP_train | train loss: 0.2773827908085842 | val loss: 0.25374259960417656 |\n",
      "====\n",
      "Epoch:  52%|█████▏    | 103/200 [00:42<00:41,  2.33it/s]\n",
      "EP_train | train loss: 0.27474020275415156 | val loss: 0.24726156831956378 |\n",
      "====\n",
      "Epoch:  52%|█████▏    | 104/200 [00:42<00:41,  2.29it/s]\n",
      "EP_train | train loss: 0.2800421130423452 | val loss: 0.2551971717792399 |\n",
      "====\n",
      "Epoch:  52%|█████▎    | 105/200 [00:43<00:42,  2.23it/s]\n",
      "EP_train | train loss: 0.2642339159460629 | val loss: 0.24133868427837596 |\n",
      "====\n",
      "Epoch:  53%|█████▎    | 106/200 [00:43<00:43,  2.14it/s]\n",
      "EP_train | train loss: 0.2587648728314568 | val loss: 0.23674969199825735 |\n",
      "====\n",
      "Epoch:  54%|█████▎    | 107/200 [00:44<00:43,  2.14it/s]\n",
      "EP_train | train loss: 0.255126308927349 | val loss: 0.23114359612558402 |\n",
      "====\n",
      "Epoch:  54%|█████▍    | 108/200 [00:44<00:41,  2.20it/s]\n",
      "EP_train | train loss: 0.24956460186079438 | val loss: 0.22692670716958888 |\n",
      "====\n",
      "Epoch:  55%|█████▍    | 109/200 [00:45<00:40,  2.24it/s]\n",
      "EP_train | train loss: 0.24471566162857356 | val loss: 0.22243579842296302 |\n",
      "====\n",
      "Epoch:  55%|█████▌    | 110/200 [00:45<00:40,  2.24it/s]\n",
      "EP_train | train loss: 0.24154613859513227 | val loss: 0.2199363626685797 |\n",
      "====\n",
      "Epoch:  56%|█████▌    | 111/200 [00:45<00:40,  2.22it/s]\n",
      "EP_train | train loss: 0.23981965476391362 | val loss: 0.21743071312997855 |\n",
      "====\n",
      "Epoch:  56%|█████▌    | 112/200 [00:46<00:38,  2.27it/s]\n",
      "EP_train | train loss: 0.23058791113834756 | val loss: 0.2120183449165494 |\n",
      "====\n",
      "Epoch:  56%|█████▋    | 113/200 [00:46<00:37,  2.32it/s]\n",
      "EP_train | train loss: 0.22552988716200287 | val loss: 0.20291597702923944 |\n",
      "====\n",
      "Epoch:  57%|█████▋    | 114/200 [00:47<00:36,  2.34it/s]\n",
      "EP_train | train loss: 0.21790080584731755 | val loss: 0.19807283346559487 |\n",
      "====\n",
      "Epoch:  57%|█████▊    | 115/200 [00:47<00:36,  2.36it/s]\n",
      "EP_train | train loss: 0.21219915034724215 | val loss: 0.19088972798165152 |\n",
      "====\n",
      "Epoch:  58%|█████▊    | 116/200 [00:48<00:35,  2.36it/s]\n",
      "EP_train | train loss: 0.20993747103448007 | val loss: 0.1909587611170376 |\n",
      "====\n",
      "Epoch:  58%|█████▊    | 117/200 [00:48<00:34,  2.39it/s]\n",
      "EP_train | train loss: 0.2032094067218257 | val loss: 0.1842931078052988 |\n",
      "====\n",
      "Epoch:  59%|█████▉    | 118/200 [00:48<00:33,  2.41it/s]\n",
      "EP_train | train loss: 0.19567337036132812 | val loss: 0.17940285509707882 |\n",
      "====\n",
      "Epoch:  60%|█████▉    | 119/200 [00:49<00:33,  2.43it/s]\n",
      "EP_train | train loss: 0.1872997253548865 | val loss: 0.17274626826538758 |\n",
      "====\n",
      "Epoch:  60%|██████    | 120/200 [00:49<00:32,  2.44it/s]\n",
      "EP_train | train loss: 0.181120815931582 | val loss: 0.1675705743186614 |\n",
      "====\n",
      "Epoch:  60%|██████    | 121/200 [00:50<00:32,  2.42it/s]\n",
      "EP_train | train loss: 0.18828643022799024 | val loss: 0.174223264058431 |\n",
      "====\n",
      "Epoch:  61%|██████    | 122/200 [00:50<00:32,  2.44it/s]\n",
      "EP_train | train loss: 0.17117144290138694 | val loss: 0.15777160607132257 |\n",
      "====\n",
      "Epoch:  62%|██████▏   | 123/200 [00:50<00:31,  2.46it/s]\n",
      "EP_train | train loss: 0.16357110014148787 | val loss: 0.153005299614925 |\n",
      "====\n",
      "Epoch:  62%|██████▏   | 124/200 [00:51<00:30,  2.47it/s]\n",
      "EP_train | train loss: 0.15732584233377495 | val loss: 0.14513658936701568 |\n",
      "====\n",
      "Epoch:  62%|██████▎   | 125/200 [00:51<00:30,  2.48it/s]\n",
      "EP_train | train loss: 0.15149265153735292 | val loss: 0.14238066781385272 |\n",
      "====\n",
      "Epoch:  63%|██████▎   | 126/200 [00:52<00:30,  2.46it/s]\n",
      "EP_train | train loss: 0.14316131273905436 | val loss: 0.13539887497238084 |\n",
      "====\n",
      "Epoch:  64%|██████▎   | 127/200 [00:52<00:29,  2.48it/s]\n",
      "EP_train | train loss: 0.14146500171399584 | val loss: 0.1360612871015773 |\n",
      "====\n",
      "Epoch:  64%|██████▍   | 128/200 [00:52<00:29,  2.48it/s]\n",
      "EP_train | train loss: 0.1325897074213215 | val loss: 0.1277188449805858 |\n",
      "====\n",
      "Epoch:  64%|██████▍   | 129/200 [00:53<00:28,  2.49it/s]\n",
      "EP_train | train loss: 0.1238287954938178 | val loss: 0.11688343625442654 |\n",
      "====\n",
      "Epoch:  65%|██████▌   | 130/200 [00:53<00:28,  2.46it/s]\n",
      "EP_train | train loss: 0.14775144235760557 | val loss: 0.14125861373602175 |\n",
      "====\n",
      "Epoch:  66%|██████▌   | 131/200 [00:54<00:28,  2.45it/s]\n",
      "EP_train | train loss: 0.1103503519413518 | val loss: 0.10943891517087526 |\n",
      "====\n",
      "Epoch:  66%|██████▌   | 132/200 [00:54<00:27,  2.45it/s]\n",
      "EP_train | train loss: 0.10521355563519048 | val loss: 0.10499099159941953 |\n",
      "====\n",
      "Epoch:  66%|██████▋   | 133/200 [00:54<00:27,  2.47it/s]\n",
      "EP_train | train loss: 0.09869041980481615 | val loss: 0.09689502958573547 |\n",
      "====\n",
      "Epoch:  67%|██████▋   | 134/200 [00:55<00:26,  2.48it/s]\n",
      "EP_train | train loss: 0.09685507428412345 | val loss: 0.09882213204514746 |\n",
      "====\n",
      "Epoch:  68%|██████▊   | 135/200 [00:55<00:26,  2.50it/s]\n",
      "EP_train | train loss: 0.0886937916278839 | val loss: 0.09000288921536184 |\n",
      "====\n",
      "Epoch:  68%|██████▊   | 136/200 [00:56<00:26,  2.45it/s]\n",
      "EP_train | train loss: 0.1177751111049278 | val loss: 0.11818344920289282 |\n",
      "====\n",
      "Epoch:  68%|██████▊   | 137/200 [00:56<00:25,  2.45it/s]\n",
      "EP_train | train loss: 0.07858356821770761 | val loss: 0.07997438852109161 |\n",
      "====\n",
      "Epoch:  69%|██████▉   | 138/200 [00:57<00:25,  2.43it/s]\n",
      "EP_train | train loss: 0.07263467101489797 | val loss: 0.07275143017371495 |\n",
      "====\n",
      "Epoch:  70%|██████▉   | 139/200 [00:57<00:25,  2.43it/s]\n",
      "EP_train | train loss: 0.0702482470110351 | val loss: 0.072426651476645 |\n",
      "====\n",
      "Epoch:  70%|███████   | 140/200 [00:57<00:24,  2.44it/s]\n",
      "EP_train | train loss: 0.07255545772758185 | val loss: 0.07380982210823134 |\n",
      "====\n",
      "Epoch:  70%|███████   | 141/200 [00:58<00:24,  2.41it/s]\n",
      "EP_train | train loss: 0.05891160649411818 | val loss: 0.062178932787740934 |\n",
      "====\n",
      "Epoch:  71%|███████   | 142/200 [00:58<00:23,  2.43it/s]\n",
      "EP_train | train loss: 0.05637137270441242 | val loss: 0.05891658979303697 |\n",
      "====\n",
      "Epoch:  72%|███████▏  | 143/200 [00:59<00:23,  2.45it/s]\n",
      "EP_train | train loss: 0.05203171500972673 | val loss: 0.0566129009513294 |\n",
      "====\n",
      "Epoch:  72%|███████▏  | 144/200 [00:59<00:22,  2.45it/s]\n",
      "EP_train | train loss: 0.07227272718560462 | val loss: 0.07156828893165962 |\n",
      "====\n",
      "Epoch:  72%|███████▎  | 145/200 [00:59<00:22,  2.46it/s]\n",
      "EP_train | train loss: 0.047242373461816825 | val loss: 0.049619249561253714 |\n",
      "====\n",
      "Epoch:  73%|███████▎  | 146/200 [01:00<00:22,  2.42it/s]\n",
      "EP_train | train loss: 0.047943396135872486 | val loss: 0.050378304778360854 |\n",
      "====\n",
      "Epoch:  74%|███████▎  | 147/200 [01:00<00:21,  2.43it/s]\n",
      "EP_train | train loss: 0.0401372888508965 | val loss: 0.042266401590085496 |\n",
      "====\n",
      "Epoch:  74%|███████▍  | 148/200 [01:01<00:21,  2.42it/s]\n",
      "EP_train | train loss: 0.04473150477689855 | val loss: 0.048235887332874185 |\n",
      "====\n",
      "Epoch:  74%|███████▍  | 149/200 [01:01<00:21,  2.43it/s]\n",
      "EP_train | train loss: 0.03574336019216799 | val loss: 0.03855071479783339 |\n",
      "====\n",
      "Epoch:  75%|███████▌  | 150/200 [01:01<00:20,  2.42it/s]\n",
      "EP_train | train loss: 0.03574136694272359 | val loss: 0.038693206494345385 |\n",
      "====\n",
      "Epoch:  76%|███████▌  | 151/200 [01:02<00:20,  2.40it/s]\n",
      "EP_train | train loss: 0.03188375217073104 | val loss: 0.033174983572726156 |\n",
      "====\n",
      "Epoch:  76%|███████▌  | 152/200 [01:02<00:19,  2.41it/s]\n",
      "EP_train | train loss: 0.037691199078279385 | val loss: 0.03893775989611944 |\n",
      "====\n",
      "Epoch:  76%|███████▋  | 153/200 [01:03<00:19,  2.43it/s]\n",
      "EP_train | train loss: 0.029980491598447165 | val loss: 0.03165376646553769 |\n",
      "====\n",
      "Epoch:  77%|███████▋  | 154/200 [01:03<00:18,  2.43it/s]\n",
      "EP_train | train loss: 0.027673407512552598 | val loss: 0.03004659266740668 |\n",
      "====\n",
      "Epoch:  78%|███████▊  | 155/200 [01:04<00:18,  2.44it/s]\n",
      "EP_train | train loss: 0.023954862765237398 | val loss: 0.02653771149469357 |\n",
      "====\n",
      "Epoch:  78%|███████▊  | 156/200 [01:04<00:18,  2.41it/s]\n",
      "EP_train | train loss: 0.02791673774812736 | val loss: 0.03137402828125393 |\n",
      "====\n",
      "Epoch:  78%|███████▊  | 157/200 [01:04<00:17,  2.43it/s]\n",
      "EP_train | train loss: 0.019244590284777624 | val loss: 0.02172832264035356 |\n",
      "====\n",
      "Epoch:  79%|███████▉  | 158/200 [01:05<00:17,  2.40it/s]\n",
      "EP_train | train loss: 0.024575428167978922 | val loss: 0.028754998655880198 |\n",
      "====\n",
      "Epoch:  80%|███████▉  | 159/200 [01:05<00:17,  2.39it/s]\n",
      "EP_train | train loss: 0.02320892360864901 | val loss: 0.02632668088464176 |\n",
      "====\n",
      "Epoch:  80%|████████  | 160/200 [01:06<00:16,  2.40it/s]\n",
      "EP_train | train loss: 0.01837046938199623 | val loss: 0.018367290350736355 |\n",
      "====\n",
      "Epoch:  80%|████████  | 161/200 [01:06<00:16,  2.37it/s]\n",
      "EP_train | train loss: 0.014982614680832508 | val loss: 0.015373257171435683 |\n",
      "====\n",
      "Epoch:  81%|████████  | 162/200 [01:06<00:15,  2.41it/s]\n",
      "EP_train | train loss: 0.016074021978705538 | val loss: 0.019146482514984468 |\n",
      "====\n",
      "Epoch:  82%|████████▏ | 163/200 [01:07<00:15,  2.42it/s]\n",
      "EP_train | train loss: 0.01725532947217717 | val loss: 0.020012506813395257 |\n",
      "====\n",
      "Epoch:  82%|████████▏ | 164/200 [01:07<00:14,  2.43it/s]\n",
      "EP_train | train loss: 0.016696901765524172 | val loss: 0.0210996040818738 |\n",
      "====\n",
      "Epoch:  82%|████████▎ | 165/200 [01:08<00:14,  2.44it/s]\n",
      "EP_train | train loss: 0.010940887895869274 | val loss: 0.012129393899265458 |\n",
      "====\n",
      "Epoch:  83%|████████▎ | 166/200 [01:08<00:14,  2.40it/s]\n",
      "EP_train | train loss: 0.010377915335052154 | val loss: 0.012983049101689282 |\n",
      "====\n",
      "Epoch:  84%|████████▎ | 167/200 [01:09<00:13,  2.39it/s]\n",
      "EP_train | train loss: 0.024436308911033704 | val loss: 0.028278156822802974 |\n",
      "====\n",
      "Epoch:  84%|████████▍ | 168/200 [01:09<00:13,  2.42it/s]\n",
      "EP_train | train loss: 0.021607645966258703 | val loss: 0.02601625171362185 |\n",
      "====\n",
      "Epoch:  84%|████████▍ | 169/200 [01:09<00:12,  2.42it/s]\n",
      "EP_train | train loss: 0.008774544649264391 | val loss: 0.009080948454200053 |\n",
      "====\n",
      "Epoch:  85%|████████▌ | 170/200 [01:10<00:12,  2.45it/s]\n",
      "EP_train | train loss: 0.008239659440575862 | val loss: 0.008022312074899673 |\n",
      "====\n",
      "Epoch:  86%|████████▌ | 171/200 [01:10<00:11,  2.43it/s]\n",
      "EP_train | train loss: 0.00808467729126706 | val loss: 0.00825976132981333 |\n",
      "====\n",
      "Epoch:  86%|████████▌ | 172/200 [01:11<00:11,  2.42it/s]\n",
      "EP_train | train loss: 0.006569974131736101 | val loss: 0.007232311145201617 |\n",
      "====\n",
      "Epoch:  86%|████████▋ | 173/200 [01:11<00:11,  2.42it/s]\n",
      "EP_train | train loss: 0.00849238596126145 | val loss: 0.011399137696214751 |\n",
      "====\n",
      "Epoch:  87%|████████▋ | 174/200 [01:11<00:10,  2.44it/s]\n",
      "EP_train | train loss: 0.01661638868790047 | val loss: 0.021867823074845708 |\n",
      "====\n",
      "Epoch:  88%|████████▊ | 175/200 [01:12<00:10,  2.45it/s]\n",
      "EP_train | train loss: 0.007577913999557495 | val loss: 0.006913596490288482 |\n",
      "====\n",
      "Epoch:  88%|████████▊ | 176/200 [01:12<00:09,  2.41it/s]\n",
      "EP_train | train loss: 0.005159457356614225 | val loss: 0.006027200021872334 |\n",
      "====\n",
      "Epoch:  88%|████████▊ | 177/200 [01:13<00:09,  2.42it/s]\n",
      "EP_train | train loss: 0.006297750347385219 | val loss: 0.006179860829576558 |\n",
      "====\n",
      "Epoch:  89%|████████▉ | 178/200 [01:13<00:09,  2.43it/s]\n",
      "EP_train | train loss: 0.005252732804008559 | val loss: 0.007526040405911558 |\n",
      "====\n",
      "Epoch:  90%|████████▉ | 179/200 [01:13<00:08,  2.41it/s]\n",
      "EP_train | train loss: 0.004632695954219968 | val loss: 0.0054768731580207165 |\n",
      "====\n",
      "Epoch:  90%|█████████ | 180/200 [01:14<00:08,  2.43it/s]\n",
      "EP_train | train loss: 0.0045043432719859425 | val loss: 0.004741045956810315 |\n",
      "====\n",
      "Epoch:  90%|█████████ | 181/200 [01:14<00:08,  2.33it/s]\n",
      "EP_train | train loss: 0.008959643893382128 | val loss: 0.012881890669757244 |\n",
      "====\n",
      "Epoch:  91%|█████████ | 182/200 [01:15<00:07,  2.36it/s]\n",
      "EP_train | train loss: 0.007560429634416804 | val loss: 0.006837979762577543 |\n",
      "====\n",
      "Epoch:  92%|█████████▏| 183/200 [01:15<00:07,  2.37it/s]\n",
      "EP_train | train loss: 0.0034773736863451844 | val loss: 0.005513088631571508 |\n",
      "====\n",
      "Epoch:  92%|█████████▏| 184/200 [01:16<00:06,  2.37it/s]\n",
      "EP_train | train loss: 0.005156433516565491 | val loss: 0.005168593342543817 |\n",
      "====\n",
      "Epoch:  92%|█████████▎| 185/200 [01:16<00:06,  2.39it/s]\n",
      "EP_train | train loss: 0.008033482335946139 | val loss: 0.012703850792319166 |\n",
      "====\n",
      "Epoch:  93%|█████████▎| 186/200 [01:16<00:05,  2.37it/s]\n",
      "EP_train | train loss: 0.0027583499859068906 | val loss: 0.0039008709547274254 |\n",
      "====\n",
      "Epoch:  94%|█████████▎| 187/200 [01:17<00:05,  2.40it/s]\n",
      "EP_train | train loss: 0.0029123666276242217 | val loss: 0.00538462780269922 |\n",
      "====\n",
      "Epoch:  94%|█████████▍| 188/200 [01:17<00:04,  2.42it/s]\n",
      "EP_train | train loss: 0.0025969911804970573 | val loss: 0.003317688162639445 |\n",
      "====\n",
      "Epoch:  94%|█████████▍| 189/200 [01:18<00:04,  2.43it/s]\n",
      "EP_train | train loss: 0.0037558798769525455 | val loss: 0.006760459648920041 |\n",
      "====\n",
      "Epoch:  95%|█████████▌| 190/200 [01:18<00:04,  2.43it/s]\n",
      "EP_train | train loss: 0.004517961541811625 | val loss: 0.004296846724316186 |\n",
      "====\n",
      "Epoch:  96%|█████████▌| 191/200 [01:18<00:03,  2.39it/s]\n",
      "EP_train | train loss: 0.0020410234327701963 | val loss: 0.003376203059565787 |\n",
      "====\n",
      "Epoch:  96%|█████████▌| 192/200 [01:19<00:03,  2.41it/s]\n",
      "EP_train | train loss: 0.0018566922375968858 | val loss: 0.0032603752744548463 |\n",
      "====\n",
      "Epoch:  96%|█████████▋| 193/200 [01:19<00:02,  2.43it/s]\n",
      "EP_train | train loss: 0.0017464115466995567 | val loss: 0.0033437473261181045 |\n",
      "====\n",
      "Epoch:  97%|█████████▋| 194/200 [01:20<00:02,  2.45it/s]\n",
      "EP_train | train loss: 0.0018168429880603856 | val loss: 0.00338022407217353 |\n",
      "====\n",
      "Epoch:  98%|█████████▊| 195/200 [01:20<00:02,  2.45it/s]\n",
      "EP_train | train loss: 0.0029169240564692256 | val loss: 0.0028872608992398952 |\n",
      "====\n",
      "Epoch:  98%|█████████▊| 196/200 [01:21<00:01,  2.42it/s]\n",
      "EP_train | train loss: 0.0017224982837397678 | val loss: 0.0035324328232045265 |\n",
      "====\n",
      "Epoch:  98%|█████████▊| 197/200 [01:21<00:01,  2.42it/s]\n",
      "EP_train | train loss: 0.00146494425248866 | val loss: 0.002514764538728723 |\n",
      "====\n",
      "Epoch:  99%|█████████▉| 198/200 [01:21<00:00,  2.44it/s]\n",
      "EP_train | train loss: 0.0015068278501869418 | val loss: 0.00281929332470777 |\n",
      "====\n",
      "Epoch: 100%|█████████▉| 199/200 [01:22<00:00,  2.43it/s]\n",
      "EP_train | train loss: 0.0036767024035547296 | val loss: 0.0031564441856508163 |\n",
      "====\n",
      "Epoch: 100%|██████████| 200/200 [01:22<00:00,  2.42it/s]\n",
      "EP_train | train loss: 0.0012329500917272241 | val loss: 0.002598815579332557 |\n",
      "\n"
     ]
    }
   ],
   "source": [
    "AttractiveTrainer.train()"
   ]
  },
  {
   "cell_type": "markdown",
   "metadata": {},
   "source": [
    "## for classification, not better"
   ]
  },
  {
   "cell_type": "markdown",
   "metadata": {},
   "source": [
    "## Below is testing"
   ]
  },
  {
   "cell_type": "code",
   "execution_count": 8,
   "metadata": {},
   "outputs": [
    {
     "output_type": "execute_result",
     "data": {
      "text/plain": [
       "AttractiveNet(\n",
       "  (embedding): AttractiveEmbedding(\n",
       "    (token): TokenEmbedding(11857, 300, padding_idx=1)\n",
       "  )\n",
       "  (bigramcnn): Sequential(\n",
       "    (0): Conv1d(300, 200, kernel_size=(3,), stride=(1,), padding=(1,))\n",
       "    (1): ReLU()\n",
       "    (2): Conv1d(200, 100, kernel_size=(3,), stride=(1,), padding=(1,))\n",
       "    (3): ReLU()\n",
       "  )\n",
       "  (trigramcnn): Sequential(\n",
       "    (0): Conv1d(300, 200, kernel_size=(3,), stride=(1,), padding=(1,))\n",
       "    (1): ReLU()\n",
       "    (2): Conv1d(200, 100, kernel_size=(3,), stride=(1,), padding=(1,))\n",
       "    (3): ReLU()\n",
       "  )\n",
       "  (encoder_bigram): LSTM(100, 30, batch_first=True, dropout=0.1, bidirectional=True)\n",
       "  (encoder_trigram): LSTM(100, 30, batch_first=True, dropout=0.1, bidirectional=True)\n",
       "  (linear): Sequential(\n",
       "    (0): Linear(in_features=120, out_features=30, bias=True)\n",
       "    (1): ReLU()\n",
       "    (2): Linear(in_features=30, out_features=1, bias=True)\n",
       "  )\n",
       ")"
      ]
     },
     "metadata": {},
     "execution_count": 8
    }
   ],
   "source": [
    "from attractivenet import AttractiveNet\n",
    "\n",
    "# third time\n",
    "# PATH = './model/CNN_LSTM_20201103-184418_0.4154.55'\n",
    "# PATH = './model/CNN_LSTM_20201103-183552_0.4084.65'\n",
    "# PATH = './model/CNN_LSTM_20201103-182128_0.4007.65'\n",
    "# PATH = './model/CNN_LSTM_20201103-181740_0.4171.60'\n",
    "# PATH = './model/CNN_LSTM_20201103-181044_0.4284.50'\n",
    "# PATH = './model/CNN_LSTM_20201103-174348_0.4127.70'\n",
    "# PATH = './model/CNN_LSTM_20201103-163042_0.4105.65'\n",
    "# PATH = './model/CNN_LSTM_20201103-160026_0.4157.65'\n",
    "# PATH = './model/CNN_LSTM_20201103-150358_0.4317.60'\n",
    "\n",
    "# second time\n",
    "# PATH = './model/CNN_LSTM_20201103-184418_0.4154.55'\n",
    "# PATH = './model/CNN_LSTM_20201103-183552_0.4084.65'\n",
    "# PATH = './model/CNN_LSTM_20201103-182128_0.4007.65'\n",
    "# PATH = './model/CNN_LSTM_20201103-181740_0.4171.60'\n",
    "# PATH = './model/CNN_LSTM_20201103-181044_0.4284.50'\n",
    "# PATH = './model/CNN_LSTM_20201103-174348_0.4127.70'\n",
    "# PATH = './model/CNN_LSTM_20201103-163042_0.4105.65'\n",
    "# PATH = './model/CNN_LSTM_20201103-160026_0.4157.65'\n",
    "# PATH = './model/CNN_LSTM_20201103-150358_0.4101.70'\n",
    "\n",
    "# first time\n",
    "# PATH = './model/CNN_LSTM_20201103-181740_0.3850.75'\n",
    "# PATH = './model/CNN_LSTM_20201103-181044_0.3802.75'\n",
    "# PATH = './model/CNN_LSTM_20201103-174348_0.3880.80'\n",
    "# PATH = './model/CNN_LSTM_20201103-163042_0.3972.70'\n",
    "# PATH = './model/CNN_LSTM_20201103-160026_0.3879.75'\n",
    "# PATH = './model/CNN_LSTM_20201103-150358_0.3843.80'\n",
    "\n",
    "load_model = AttractiveNet(config).to(AttractiveData.device)\n",
    "load_model.load_state_dict(torch.load(PATH))\n",
    "load_model.eval()"
   ]
  },
  {
   "cell_type": "code",
   "execution_count": 9,
   "metadata": {},
   "outputs": [],
   "source": [
    "def predict_attractive(sentence, category, phase):\n",
    "    indexed_sentence = [AttractiveData.TEXT.vocab.stoi[t] for t in sentence]\n",
    "    indexed_category = [AttractiveData.CATEGORIES_LABEL.vocab.stoi[category]]\n",
    "    tensor_sentence = torch.LongTensor(indexed_sentence).to(AttractiveData.device)\n",
    "    tensor_category = torch.LongTensor(indexed_category).to(AttractiveData.device)\n",
    "\n",
    "    tensor_sentence = tensor_sentence.unsqueeze(0)\n",
    "    # print(tensor_sentence.shape)\n",
    "\n",
    "    prediction = load_model(tensor_sentence, tensor_category, phase=phase)\n",
    "\n",
    "    return prediction"
   ]
  },
  {
   "cell_type": "code",
   "execution_count": 10,
   "metadata": {
    "tags": []
   },
   "outputs": [],
   "source": [
    "# train mean = 3.15, test mean = 2.8\n",
    "predict_list = []\n",
    "with torch.no_grad():\n",
    "    for i, sentence in enumerate(AttractiveData.test_data):\n",
    "        prediction = predict_attractive(sentence.Headline, sentence.Category, 'test')\n",
    "        predict_list.append(prediction.item())\n",
    "        # predict_list.append(prediction.item())\n",
    "AttractiveData.df_test['Label'] = predict_list\n",
    "AttractiveData.df_test[['ID', 'Label']].to_csv(config['save_name'] + '.csv', index=False)"
   ]
  },
  {
   "cell_type": "markdown",
   "metadata": {},
   "source": [
    "## Below for statistics"
   ]
  },
  {
   "cell_type": "code",
   "execution_count": 11,
   "metadata": {},
   "outputs": [],
   "source": [
    "import statistics\n",
    "from sklearn.metrics import mean_squared_error"
   ]
  },
  {
   "cell_type": "code",
   "execution_count": 12,
   "metadata": {},
   "outputs": [],
   "source": [
    "# # train mean = 3.15, test mean = 2.8\n",
    "# train_list = []\n",
    "# for i, sentence in enumerate(AttractiveData.train_data):\n",
    "#     prediction = predict_attractive(sentence.Headline, sentence.Category, 'train')\n",
    "#     train_list.append(prediction.item())\n",
    "#     # train_list.append(prediction.item())\n",
    "# # print(train_list)\n",
    "# mean_squared_error(pd.read_csv('data/train.csv').sort_values(['ID']).Label.to_list(), train_list), statistics.mean(train_list), statistics.stdev(train_list)"
   ]
  },
  {
   "cell_type": "code",
   "execution_count": 13,
   "metadata": {},
   "outputs": [],
   "source": [
    "# train_list[0:5], pd.read_csv('data/train.csv').sort_values(['ID']).Label.to_list()[0:5]"
   ]
  },
  {
   "cell_type": "code",
   "execution_count": 14,
   "metadata": {},
   "outputs": [],
   "source": [
    "# a = AttractiveData.df_train['Label'].to_list()\n",
    "# statistics.mean(a), statistics.stdev(a)"
   ]
  },
  {
   "cell_type": "code",
   "execution_count": 15,
   "metadata": {},
   "outputs": [
    {
     "output_type": "execute_result",
     "data": {
      "text/plain": [
       "(2.879436114811162, 0.29465189129618957)"
      ]
     },
     "metadata": {},
     "execution_count": 15
    }
   ],
   "source": [
    "statistics.mean(predict_list), statistics.stdev(predict_list)"
   ]
  },
  {
   "cell_type": "code",
   "execution_count": 16,
   "metadata": {},
   "outputs": [
    {
     "output_type": "execute_result",
     "data": {
      "text/plain": [
       "(0.004080295194254093, 2.8534801034325197, 0.2907379251644403)"
      ]
     },
     "metadata": {},
     "execution_count": 16
    }
   ],
   "source": [
    "baseline_list = pd.read_csv('baseline.csv').sort_values(['ID']).Label.to_list()\n",
    "mean_squared_error(baseline_list, predict_list), statistics.mean(baseline_list), statistics.stdev(baseline_list)"
   ]
  },
  {
   "cell_type": "code",
   "execution_count": null,
   "metadata": {},
   "outputs": [],
   "source": []
  },
  {
   "cell_type": "code",
   "execution_count": 17,
   "metadata": {},
   "outputs": [
    {
     "output_type": "execute_result",
     "data": {
      "text/plain": [
       "0.0006502396916914789"
      ]
     },
     "metadata": {},
     "execution_count": 17
    }
   ],
   "source": [
    "mean_squared_error(pd.read_csv('baseline.csv').sort_values(['ID']).Label.to_list(), pd.read_csv('./predict/ensemble.csv').sort_values(['ID']).Label.to_list())"
   ]
  },
  {
   "cell_type": "code",
   "execution_count": null,
   "metadata": {},
   "outputs": [],
   "source": []
  }
 ],
 "metadata": {
  "kernelspec": {
   "display_name": "DS_hw2",
   "language": "python",
   "name": "ds_hw2"
  },
  "language_info": {
   "codemirror_mode": {
    "name": "ipython",
    "version": 3
   },
   "file_extension": ".py",
   "mimetype": "text/x-python",
   "name": "python",
   "nbconvert_exporter": "python",
   "pygments_lexer": "ipython3",
   "version": "3.6.12-final"
  }
 },
 "nbformat": 4,
 "nbformat_minor": 4
}