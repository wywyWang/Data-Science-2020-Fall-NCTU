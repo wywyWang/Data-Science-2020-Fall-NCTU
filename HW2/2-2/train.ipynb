{
 "metadata": {
  "language_info": {
   "codemirror_mode": {
    "name": "ipython",
    "version": 3
   },
   "file_extension": ".py",
   "mimetype": "text/x-python",
   "name": "python",
   "nbconvert_exporter": "python",
   "pygments_lexer": "ipython3",
   "version": "3.6.12-final"
  },
  "orig_nbformat": 2,
  "kernelspec": {
   "name": "Python 3.6.12 64-bit ('DS_hw2': conda)",
   "display_name": "Python 3.6.12 64-bit ('DS_hw2': conda)",
   "metadata": {
    "interpreter": {
     "hash": "de6ec751e8d816810380d8c8f13d270f86a313990c5d5930d253da012ff5e7fc"
    }
   }
  }
 },
 "nbformat": 4,
 "nbformat_minor": 2,
 "cells": [
  {
   "cell_type": "code",
   "execution_count": 1,
   "metadata": {},
   "outputs": [],
   "source": [
    "# common packages\n",
    "import pandas as pd\n",
    "import time\n",
    "\n",
    "# # DL framework\n",
    "import torch\n",
    "from torchtext import data\n",
    "\n",
    "from attractivedata import AttractiveData\n",
    "from trainer import AttractiveTrainer"
   ]
  },
  {
   "source": [
    "## Load and prepare data"
   ],
   "cell_type": "markdown",
   "metadata": {}
  },
  {
   "cell_type": "code",
   "execution_count": 2,
   "metadata": {},
   "outputs": [],
   "source": [
    "train_file = 'data/train.csv'\n",
    "test_file = 'data/test.csv'\n",
    "pretrained_file = 'glove.42B.300d'\n",
    "max_size = 64\n",
    "min_freq = 5\n",
    "batch_size = 64"
   ]
  },
  {
   "cell_type": "code",
   "execution_count": 3,
   "metadata": {},
   "outputs": [],
   "source": [
    "AttractiveData = AttractiveData(train_file, test_file, pretrained_file, max_size, min_freq, batch_size)"
   ]
  },
  {
   "cell_type": "code",
   "execution_count": 4,
   "metadata": {},
   "outputs": [
    {
     "output_type": "stream",
     "name": "stdout",
     "text": [
      "{'Headline': ['Sorry', ',', 'i', 'spent', 'it', 'on', 'myself', '!', 'Harvey', 'Nichols', \"'\", 'hilarious', 'Christmas', 'advert', 'sees', 'people', 'treating', 'themselves', 'instead', 'of', 'others'], 'Category': 'femail', 'Label': '3.333333333333333'} {'Headline': ['Three', 'police', 'officers', 'accused', 'of', 'stealing', '?', '?', '30k', 'during', 'raid', 'on', 'criminal'], 'Category': 'news'}\n"
     ]
    }
   ],
   "source": [
    "for i, sentence in enumerate(AttractiveData.test_data):\n",
    "    if i == 3:\n",
    "        print(vars(AttractiveData.train_data[i]), vars(sentence))"
   ]
  },
  {
   "cell_type": "code",
   "execution_count": 5,
   "metadata": {},
   "outputs": [
    {
     "output_type": "execute_result",
     "data": {
      "text/plain": [
       "22"
      ]
     },
     "metadata": {},
     "execution_count": 5
    }
   ],
   "source": [
    "len(AttractiveData.CATEGORIES_LABEL.vocab.freqs)"
   ]
  },
  {
   "cell_type": "code",
   "execution_count": 6,
   "metadata": {},
   "outputs": [
    {
     "output_type": "execute_result",
     "data": {
      "text/plain": [
       "Counter({'4.0': 226,\n",
       "         '2.333333333333333': 194,\n",
       "         '4.5': 43,\n",
       "         '3.333333333333333': 313,\n",
       "         '3.6666666666666665': 260,\n",
       "         '2.6666666666666665': 281,\n",
       "         '2.0': 135,\n",
       "         '2.5': 36,\n",
       "         '1.6666666666666667': 28,\n",
       "         '3.0': 354,\n",
       "         '4.333333333333333': 82,\n",
       "         '4.666666666666667': 29,\n",
       "         '1.5': 16,\n",
       "         '3.5': 22,\n",
       "         '1.3333333333333333': 4,\n",
       "         '1.0': 5,\n",
       "         '5.0': 12})"
      ]
     },
     "metadata": {},
     "execution_count": 6
    }
   ],
   "source": [
    "AttractiveData.LABEL.vocab.freqs"
   ]
  },
  {
   "source": [
    "## Start to train"
   ],
   "cell_type": "markdown",
   "metadata": {}
  },
  {
   "cell_type": "code",
   "execution_count": 7,
   "metadata": {},
   "outputs": [
    {
     "output_type": "stream",
     "name": "stdout",
     "text": [
      "torch.Size([1410, 300])\n"
     ]
    }
   ],
   "source": [
    "timestr = time.strftime(\"%Y%m%d-%H%M%S\")\n",
    "save_name = './model/AttractiveNet'\n",
    "num_workers = 10\n",
    "input_dim = len(AttractiveData.TEXT.vocab)\n",
    "embedding_dim = 300\n",
    "\n",
    "category_dim = len(AttractiveData.CATEGORIES_LABEL.vocab)\n",
    "category_output_dim = 16\n",
    "hidden_dim = 256\n",
    "output_dim = len(AttractiveData.LABEL.vocab.freqs)\n",
    "log_steps = 10\n",
    "epochs = 100\n",
    "lr = 1e-3\n",
    "num_layers = 3\n",
    "nhead = 4\n",
    "dropout = 0.1\n",
    "pretrained_embeddings = AttractiveData.TEXT.vocab.vectors\n",
    "print(pretrained_embeddings.shape)"
   ]
  },
  {
   "cell_type": "code",
   "execution_count": 8,
   "metadata": {},
   "outputs": [],
   "source": [
    "# max(AttractiveData.df_train.Headline.str.len()), max(AttractiveData.df_test.Headline.str.len())"
   ]
  },
  {
   "cell_type": "code",
   "execution_count": 9,
   "metadata": {},
   "outputs": [],
   "source": [
    "AttractiveTrainer = AttractiveTrainer(save_name, log_steps, epochs, lr, timestr, AttractiveData.device, AttractiveData.trainloader, input_dim, category_dim, category_output_dim, embedding_dim, hidden_dim, output_dim, pretrained_embeddings, dropout, num_layers, nhead)"
   ]
  },
  {
   "cell_type": "code",
   "execution_count": 10,
   "metadata": {},
   "outputs": [
    {
     "output_type": "execute_result",
     "data": {
      "text/plain": [
       "TransformerModel(\n",
       "  (embedding): AttractiveEmbedding(\n",
       "    (token): TokenEmbedding(1410, 300, padding_idx=0)\n",
       "    (position): PositionalEmbedding()\n",
       "    (dropout): Dropout(p=0.1, inplace=False)\n",
       "  )\n",
       "  (category_embedding): CategoryEmbedding(22, 16, padding_idx=0)\n",
       "  (transformer_encoder): TransformerEncoder(\n",
       "    (layers): ModuleList(\n",
       "      (0): TransformerEncoderLayer(\n",
       "        (self_attn): MultiheadAttention(\n",
       "          (out_proj): _LinearWithBias(in_features=300, out_features=300, bias=True)\n",
       "        )\n",
       "        (linear1): Linear(in_features=300, out_features=256, bias=True)\n",
       "        (dropout): Dropout(p=0.1, inplace=False)\n",
       "        (linear2): Linear(in_features=256, out_features=300, bias=True)\n",
       "        (norm1): LayerNorm((300,), eps=1e-05, elementwise_affine=True)\n",
       "        (norm2): LayerNorm((300,), eps=1e-05, elementwise_affine=True)\n",
       "        (dropout1): Dropout(p=0.1, inplace=False)\n",
       "        (dropout2): Dropout(p=0.1, inplace=False)\n",
       "      )\n",
       "      (1): TransformerEncoderLayer(\n",
       "        (self_attn): MultiheadAttention(\n",
       "          (out_proj): _LinearWithBias(in_features=300, out_features=300, bias=True)\n",
       "        )\n",
       "        (linear1): Linear(in_features=300, out_features=256, bias=True)\n",
       "        (dropout): Dropout(p=0.1, inplace=False)\n",
       "        (linear2): Linear(in_features=256, out_features=300, bias=True)\n",
       "        (norm1): LayerNorm((300,), eps=1e-05, elementwise_affine=True)\n",
       "        (norm2): LayerNorm((300,), eps=1e-05, elementwise_affine=True)\n",
       "        (dropout1): Dropout(p=0.1, inplace=False)\n",
       "        (dropout2): Dropout(p=0.1, inplace=False)\n",
       "      )\n",
       "      (2): TransformerEncoderLayer(\n",
       "        (self_attn): MultiheadAttention(\n",
       "          (out_proj): _LinearWithBias(in_features=300, out_features=300, bias=True)\n",
       "        )\n",
       "        (linear1): Linear(in_features=300, out_features=256, bias=True)\n",
       "        (dropout): Dropout(p=0.1, inplace=False)\n",
       "        (linear2): Linear(in_features=256, out_features=300, bias=True)\n",
       "        (norm1): LayerNorm((300,), eps=1e-05, elementwise_affine=True)\n",
       "        (norm2): LayerNorm((300,), eps=1e-05, elementwise_affine=True)\n",
       "        (dropout1): Dropout(p=0.1, inplace=False)\n",
       "        (dropout2): Dropout(p=0.1, inplace=False)\n",
       "      )\n",
       "    )\n",
       "  )\n",
       "  (linear): Linear(in_features=316, out_features=17, bias=True)\n",
       ")"
      ]
     },
     "metadata": {},
     "execution_count": 10
    }
   ],
   "source": [
    "AttractiveTrainer.model"
   ]
  },
  {
   "cell_type": "code",
   "execution_count": 11,
   "metadata": {
    "tags": []
   },
   "outputs": [
    {
     "output_type": "stream",
     "name": "stdout",
     "text": [
      "Epoch 0\n",
      "EP: train | lr: 0.001: 100%|| 32/32 [00:00<00:00, 172.28it/s]\n",
      "\n",
      "EP_train | avg_loss: 2.8085429295897484 |\n",
      "Epoch 1\n",
      "EP: train | lr: 0.001: 100%|| 32/32 [00:00<00:00, 171.96it/s]\n",
      "\n",
      "EP_train | avg_loss: 2.6118322014808655 |\n",
      "Epoch 2\n",
      "EP: train | lr: 0.001: 100%|| 32/32 [00:00<00:00, 172.03it/s]\n",
      "\n",
      "EP_train | avg_loss: 2.5103530883789062 |\n",
      "Epoch 3\n",
      "EP: train | lr: 0.001: 100%|| 32/32 [00:00<00:00, 171.47it/s]\n",
      "\n",
      "EP_train | avg_loss: 2.461367554962635 |\n",
      "Epoch 4\n",
      "EP: train | lr: 0.001: 100%|| 32/32 [00:00<00:00, 160.42it/s]\n",
      "\n",
      "EP_train | avg_loss: 2.4221411123871803 |\n",
      "Epoch 5\n",
      "EP: train | lr: 0.001: 100%|| 32/32 [00:00<00:00, 147.44it/s]\n",
      "\n",
      "EP_train | avg_loss: 2.4100786224007607 |\n",
      "Epoch 6\n",
      "EP: train | lr: 0.001: 100%|| 32/32 [00:00<00:00, 158.33it/s]\n",
      "\n",
      "EP_train | avg_loss: 2.386109508574009 |\n",
      "Epoch 7\n",
      "EP: train | lr: 0.001: 100%|| 32/32 [00:00<00:00, 164.09it/s]\n",
      "\n",
      "EP_train | avg_loss: 2.3840832710266113 |\n",
      "Epoch 8\n",
      "EP: train | lr: 0.001: 100%|| 32/32 [00:00<00:00, 171.97it/s]\n",
      "\n",
      "EP_train | avg_loss: 2.369943916797638 |\n",
      "Epoch 9\n",
      "EP: train | lr: 0.001: 100%|| 32/32 [00:00<00:00, 172.56it/s]\n",
      "\n",
      "EP_train | avg_loss: 2.3664747700095177 |\n",
      "Epoch 10\n",
      "EP: train | lr: 0.001: 100%|| 32/32 [00:00<00:00, 170.41it/s]\n",
      "\n",
      "EP_train | avg_loss: 2.369364596903324 |\n",
      "Epoch 11\n",
      "EP: train | lr: 0.001: 100%|| 32/32 [00:00<00:00, 158.07it/s]\n",
      "\n",
      "EP_train | avg_loss: 2.361306942999363 |\n",
      "Epoch 12\n",
      "EP: train | lr: 0.001: 100%|| 32/32 [00:00<00:00, 163.91it/s]\n",
      "\n",
      "EP_train | avg_loss: 2.3696004077792168 |\n",
      "Epoch 13\n",
      "EP: train | lr: 0.001: 100%|| 32/32 [00:00<00:00, 169.85it/s]\n",
      "\n",
      "EP_train | avg_loss: 2.3642287626862526 |\n",
      "Epoch 14\n",
      "EP: train | lr: 0.001: 100%|| 32/32 [00:00<00:00, 170.45it/s]\n",
      "\n",
      "EP_train | avg_loss: 2.341206043958664 |\n",
      "Epoch 15\n",
      "EP: train | lr: 0.001: 100%|| 32/32 [00:00<00:00, 170.49it/s]\n",
      "\n",
      "EP_train | avg_loss: 2.3478843197226524 |\n",
      "Epoch 16\n",
      "EP: train | lr: 0.001: 100%|| 32/32 [00:00<00:00, 154.57it/s]\n",
      "\n",
      "EP_train | avg_loss: 2.3482173830270767 |\n",
      "Epoch 17\n",
      "EP: train | lr: 0.001: 100%|| 32/32 [00:00<00:00, 170.07it/s]\n",
      "\n",
      "EP_train | avg_loss: 2.3479607477784157 |\n",
      "Epoch 18\n",
      "EP: train | lr: 0.001: 100%|| 32/32 [00:00<00:00, 168.42it/s]\n",
      "\n",
      "EP_train | avg_loss: 2.343063212931156 |\n",
      "Epoch 19\n",
      "EP: train | lr: 0.001: 100%|| 32/32 [00:00<00:00, 171.07it/s]\n",
      "\n",
      "EP_train | avg_loss: 2.3455798625946045 |\n",
      "Epoch 20\n",
      "EP: train | lr: 0.001: 100%|| 32/32 [00:00<00:00, 164.53it/s]\n",
      "\n",
      "EP_train | avg_loss: 2.33777629584074 |\n",
      "Epoch 21\n",
      "EP: train | lr: 0.001: 100%|| 32/32 [00:00<00:00, 168.41it/s]\n",
      "\n",
      "EP_train | avg_loss: 2.3341570422053337 |\n",
      "Epoch 22\n",
      "EP: train | lr: 0.001: 100%|| 32/32 [00:00<00:00, 165.04it/s]\n",
      "\n",
      "EP_train | avg_loss: 2.3320502564311028 |\n",
      "Epoch 23\n",
      "EP: train | lr: 0.001: 100%|| 32/32 [00:00<00:00, 158.78it/s]\n",
      "\n",
      "EP_train | avg_loss: 2.3299975618720055 |\n",
      "Epoch 24\n",
      "EP: train | lr: 0.001: 100%|| 32/32 [00:00<00:00, 155.60it/s]\n",
      "\n",
      "EP_train | avg_loss: 2.3312132135033607 |\n",
      "Epoch 25\n",
      "EP: train | lr: 0.001: 100%|| 32/32 [00:00<00:00, 161.09it/s]\n",
      "\n",
      "EP_train | avg_loss: 2.328467883169651 |\n",
      "Epoch 26\n",
      "EP: train | lr: 0.001: 100%|| 32/32 [00:00<00:00, 168.57it/s]\n",
      "\n",
      "EP_train | avg_loss: 2.327573798596859 |\n",
      "Epoch 27\n",
      "EP: train | lr: 0.001: 100%|| 32/32 [00:00<00:00, 167.98it/s]\n",
      "\n",
      "EP_train | avg_loss: 2.3232180550694466 |\n",
      "Epoch 28\n",
      "EP: train | lr: 0.001: 100%|| 32/32 [00:00<00:00, 147.62it/s]\n",
      "\n",
      "EP_train | avg_loss: 2.322122998535633 |\n",
      "Epoch 29\n",
      "EP: train | lr: 0.001: 100%|| 32/32 [00:00<00:00, 153.86it/s]\n",
      "\n",
      "EP_train | avg_loss: 2.3291042298078537 |\n",
      "Epoch 30\n",
      "EP: train | lr: 0.001: 100%|| 32/32 [00:00<00:00, 154.11it/s]\n",
      "\n",
      "EP_train | avg_loss: 2.3255971372127533 |\n",
      "Epoch 31\n",
      "EP: train | lr: 0.001: 100%|| 32/32 [00:00<00:00, 151.18it/s]\n",
      "\n",
      "EP_train | avg_loss: 2.320784293115139 |\n",
      "Epoch 32\n",
      "EP: train | lr: 0.001: 100%|| 32/32 [00:00<00:00, 154.84it/s]\n",
      "\n",
      "EP_train | avg_loss: 2.3188280686736107 |\n",
      "Epoch 33\n",
      "EP: train | lr: 0.001: 100%|| 32/32 [00:00<00:00, 152.69it/s]\n",
      "\n",
      "EP_train | avg_loss: 2.3209199979901314 |\n",
      "Epoch 34\n",
      "EP: train | lr: 0.001: 100%|| 32/32 [00:00<00:00, 153.78it/s]\n",
      "\n",
      "EP_train | avg_loss: 2.3259685337543488 |\n",
      "Epoch 35\n",
      "EP: train | lr: 0.001: 100%|| 32/32 [00:00<00:00, 155.15it/s]\n",
      "\n",
      "EP_train | avg_loss: 2.3175006806850433 |\n",
      "Epoch 36\n",
      "EP: train | lr: 0.001: 100%|| 32/32 [00:00<00:00, 141.91it/s]\n",
      "\n",
      "EP_train | avg_loss: 2.3199109360575676 |\n",
      "Epoch 37\n",
      "EP: train | lr: 0.001: 100%|| 32/32 [00:00<00:00, 165.05it/s]\n",
      "\n",
      "EP_train | avg_loss: 2.325109653174877 |\n",
      "Epoch 38\n",
      "EP: train | lr: 0.001: 100%|| 32/32 [00:00<00:00, 170.94it/s]\n",
      "\n",
      "EP_train | avg_loss: 2.3120727464556694 |\n",
      "Epoch 39\n",
      "EP: train | lr: 0.001: 100%|| 32/32 [00:00<00:00, 170.85it/s]\n",
      "\n",
      "EP_train | avg_loss: 2.312425307929516 |\n",
      "Epoch 40\n",
      "EP: train | lr: 0.001: 100%|| 32/32 [00:00<00:00, 170.28it/s]\n",
      "\n",
      "EP_train | avg_loss: 2.317766860127449 |\n",
      "Epoch 41\n",
      "EP: train | lr: 0.001: 100%|| 32/32 [00:00<00:00, 170.94it/s]\n",
      "\n",
      "EP_train | avg_loss: 2.315844140946865 |\n",
      "Epoch 42\n",
      "EP: train | lr: 0.001: 100%|| 32/32 [00:00<00:00, 170.63it/s]\n",
      "\n",
      "EP_train | avg_loss: 2.3123797550797462 |\n",
      "Epoch 43\n",
      "EP: train | lr: 0.001: 100%|| 32/32 [00:00<00:00, 157.52it/s]\n",
      "\n",
      "EP_train | avg_loss: 2.311440274119377 |\n",
      "Epoch 44\n",
      "EP: train | lr: 0.001: 100%|| 32/32 [00:00<00:00, 166.20it/s]\n",
      "\n",
      "EP_train | avg_loss: 2.3039273619651794 |\n",
      "Epoch 45\n",
      "EP: train | lr: 0.001: 100%|| 32/32 [00:00<00:00, 170.80it/s]\n",
      "\n",
      "EP_train | avg_loss: 2.3071181252598763 |\n",
      "Epoch 46\n",
      "EP: train | lr: 0.001: 100%|| 32/32 [00:00<00:00, 148.56it/s]\n",
      "\n",
      "EP_train | avg_loss: 2.3098731487989426 |\n",
      "Epoch 47\n",
      "EP: train | lr: 0.001: 100%|| 32/32 [00:00<00:00, 166.48it/s]\n",
      "\n",
      "EP_train | avg_loss: 2.312783695757389 |\n",
      "Epoch 48\n",
      "EP: train | lr: 0.001: 100%|| 32/32 [00:00<00:00, 167.43it/s]\n",
      "\n",
      "EP_train | avg_loss: 2.3075039014220238 |\n",
      "Epoch 49\n",
      "EP: train | lr: 0.001: 100%|| 32/32 [00:00<00:00, 154.73it/s]\n",
      "\n",
      "EP_train | avg_loss: 2.3067240491509438 |\n",
      "Epoch 50\n",
      "EP: train | lr: 0.001: 100%|| 32/32 [00:00<00:00, 163.01it/s]\n",
      "\n",
      "EP_train | avg_loss: 2.3097541257739067 |\n",
      "Epoch 51\n",
      "EP: train | lr: 0.001: 100%|| 32/32 [00:00<00:00, 165.69it/s]\n",
      "\n",
      "EP_train | avg_loss: 2.3085001707077026 |\n",
      "Epoch 52\n",
      "EP: train | lr: 0.001: 100%|| 32/32 [00:00<00:00, 165.69it/s]\n",
      "\n",
      "EP_train | avg_loss: 2.301612265408039 |\n",
      "Epoch 53\n",
      "EP: train | lr: 0.001: 100%|| 32/32 [00:00<00:00, 168.11it/s]\n",
      "\n",
      "EP_train | avg_loss: 2.3076423183083534 |\n",
      "Epoch 54\n",
      "EP: train | lr: 0.001: 100%|| 32/32 [00:00<00:00, 171.31it/s]\n",
      "\n",
      "EP_train | avg_loss: 2.2997582778334618 |\n",
      "Epoch 55\n",
      "EP: train | lr: 0.001: 100%|| 32/32 [00:00<00:00, 170.67it/s]\n",
      "\n",
      "EP_train | avg_loss: 2.3009810224175453 |\n",
      "Epoch 56\n",
      "EP: train | lr: 0.001: 100%|| 32/32 [00:00<00:00, 170.60it/s]\n",
      "\n",
      "EP_train | avg_loss: 2.3057414665818214 |\n",
      "Epoch 57\n",
      "EP: train | lr: 0.001: 100%|| 32/32 [00:00<00:00, 171.05it/s]\n",
      "\n",
      "EP_train | avg_loss: 2.3045230135321617 |\n",
      "Epoch 58\n",
      "EP: train | lr: 0.001: 100%|| 32/32 [00:00<00:00, 166.87it/s]\n",
      "\n",
      "EP_train | avg_loss: 2.3046427965164185 |\n",
      "Epoch 59\n",
      "EP: train | lr: 0.001: 100%|| 32/32 [00:00<00:00, 167.41it/s]\n",
      "\n",
      "EP_train | avg_loss: 2.300260104238987 |\n",
      "Epoch 60\n",
      "EP: train | lr: 0.001: 100%|| 32/32 [00:00<00:00, 170.91it/s]\n",
      "\n",
      "EP_train | avg_loss: 2.2958787977695465 |\n",
      "Epoch 61\n",
      "EP: train | lr: 0.001: 100%|| 32/32 [00:00<00:00, 170.69it/s]\n",
      "\n",
      "EP_train | avg_loss: 2.3050603419542313 |\n",
      "Epoch 62\n",
      "EP: train | lr: 0.001: 100%|| 32/32 [00:00<00:00, 170.16it/s]\n",
      "\n",
      "EP_train | avg_loss: 2.296979419887066 |\n",
      "Epoch 63\n",
      "EP: train | lr: 0.001: 100%|| 32/32 [00:00<00:00, 171.32it/s]\n",
      "\n",
      "EP_train | avg_loss: 2.298724837601185 |\n",
      "Epoch 64\n",
      "EP: train | lr: 0.001: 100%|| 32/32 [00:00<00:00, 164.24it/s]\n",
      "\n",
      "EP_train | avg_loss: 2.2966743037104607 |\n",
      "Epoch 65\n",
      "EP: train | lr: 0.001: 100%|| 32/32 [00:00<00:00, 166.46it/s]\n",
      "\n",
      "EP_train | avg_loss: 2.3022655993700027 |\n",
      "Epoch 66\n",
      "EP: train | lr: 0.001: 100%|| 32/32 [00:00<00:00, 170.54it/s]\n",
      "\n",
      "EP_train | avg_loss: 2.294268421828747 |\n",
      "Epoch 67\n",
      "EP: train | lr: 0.001: 100%|| 32/32 [00:00<00:00, 170.82it/s]\n",
      "\n",
      "EP_train | avg_loss: 2.294319987297058 |\n",
      "Epoch 68\n",
      "EP: train | lr: 0.001: 100%|| 32/32 [00:00<00:00, 169.74it/s]\n",
      "\n",
      "EP_train | avg_loss: 2.2972031384706497 |\n",
      "Epoch 69\n",
      "EP: train | lr: 0.001: 100%|| 32/32 [00:00<00:00, 160.80it/s]\n",
      "\n",
      "EP_train | avg_loss: 2.291814863681793 |\n",
      "Epoch 70\n",
      "EP: train | lr: 0.001: 100%|| 32/32 [00:00<00:00, 169.12it/s]\n",
      "\n",
      "EP_train | avg_loss: 2.300014667212963 |\n",
      "Epoch 71\n",
      "EP: train | lr: 0.001: 100%|| 32/32 [00:00<00:00, 167.20it/s]\n",
      "\n",
      "EP_train | avg_loss: 2.297681048512459 |\n",
      "Epoch 72\n",
      "EP: train | lr: 0.001: 100%|| 32/32 [00:00<00:00, 156.58it/s]\n",
      "\n",
      "EP_train | avg_loss: 2.293385185301304 |\n",
      "Epoch 73\n",
      "EP: train | lr: 0.001: 100%|| 32/32 [00:00<00:00, 170.62it/s]\n",
      "\n",
      "EP_train | avg_loss: 2.291357174515724 |\n",
      "Epoch 74\n",
      "EP: train | lr: 0.001: 100%|| 32/32 [00:00<00:00, 162.99it/s]\n",
      "\n",
      "EP_train | avg_loss: 2.2904955819249153 |\n",
      "Epoch 75\n",
      "EP: train | lr: 0.001: 100%|| 32/32 [00:00<00:00, 163.36it/s]\n",
      "\n",
      "EP_train | avg_loss: 2.300258047878742 |\n",
      "Epoch 76\n",
      "EP: train | lr: 0.001: 100%|| 32/32 [00:00<00:00, 168.36it/s]\n",
      "\n",
      "EP_train | avg_loss: 2.296611540019512 |\n",
      "Epoch 77\n",
      "EP: train | lr: 0.001: 100%|| 32/32 [00:00<00:00, 164.82it/s]\n",
      "\n",
      "EP_train | avg_loss: 2.292521856725216 |\n",
      "Epoch 78\n",
      "EP: train | lr: 0.001: 100%|| 32/32 [00:00<00:00, 158.80it/s]\n",
      "\n",
      "EP_train | avg_loss: 2.2922902330756187 |\n",
      "Epoch 79\n",
      "EP: train | lr: 0.001: 100%|| 32/32 [00:00<00:00, 160.74it/s]\n",
      "\n",
      "EP_train | avg_loss: 2.287777841091156 |\n",
      "Epoch 80\n",
      "EP: train | lr: 0.001: 100%|| 32/32 [00:00<00:00, 167.73it/s]\n",
      "\n",
      "EP_train | avg_loss: 2.2933392003178596 |\n",
      "Epoch 81\n",
      "EP: train | lr: 0.001: 100%|| 32/32 [00:00<00:00, 169.54it/s]\n",
      "\n",
      "EP_train | avg_loss: 2.2933785021305084 |\n",
      "Epoch 82\n",
      "EP: train | lr: 0.001: 100%|| 32/32 [00:00<00:00, 167.53it/s]\n",
      "\n",
      "EP_train | avg_loss: 2.2918782085180283 |\n",
      "Epoch 83\n",
      "EP: train | lr: 0.001: 100%|| 32/32 [00:00<00:00, 167.89it/s]\n",
      "\n",
      "EP_train | avg_loss: 2.2887736335396767 |\n",
      "Epoch 84\n",
      "EP: train | lr: 0.001: 100%|| 32/32 [00:00<00:00, 167.79it/s]\n",
      "\n",
      "EP_train | avg_loss: 2.2882451936602592 |\n",
      "Epoch 85\n",
      "EP: train | lr: 0.001: 100%|| 32/32 [00:00<00:00, 170.25it/s]\n",
      "\n",
      "EP_train | avg_loss: 2.2853423431515694 |\n",
      "Epoch 86\n",
      "EP: train | lr: 0.001: 100%|| 32/32 [00:00<00:00, 166.44it/s]\n",
      "\n",
      "EP_train | avg_loss: 2.2909706085920334 |\n",
      "Epoch 87\n",
      "EP: train | lr: 0.001: 100%|| 32/32 [00:00<00:00, 169.66it/s]\n",
      "\n",
      "EP_train | avg_loss: 2.2863179817795753 |\n",
      "Epoch 88\n",
      "EP: train | lr: 0.001: 100%|| 32/32 [00:00<00:00, 168.71it/s]\n",
      "\n",
      "EP_train | avg_loss: 2.290727786719799 |\n",
      "Epoch 89\n",
      "EP: train | lr: 0.001: 100%|| 32/32 [00:00<00:00, 162.98it/s]\n",
      "\n",
      "EP_train | avg_loss: 2.289596512913704 |\n",
      "Epoch 90\n",
      "EP: train | lr: 0.001: 100%|| 32/32 [00:00<00:00, 169.39it/s]\n",
      "\n",
      "EP_train | avg_loss: 2.284195214509964 |\n",
      "Epoch 91\n",
      "EP: train | lr: 0.001: 100%|| 32/32 [00:00<00:00, 169.25it/s]\n",
      "\n",
      "EP_train | avg_loss: 2.2897952869534492 |\n",
      "Epoch 92\n",
      "EP: train | lr: 0.001: 100%|| 32/32 [00:00<00:00, 167.54it/s]\n",
      "\n",
      "EP_train | avg_loss: 2.283984012901783 |\n",
      "Epoch 93\n",
      "EP: train | lr: 0.001: 100%|| 32/32 [00:00<00:00, 164.47it/s]\n",
      "\n",
      "EP_train | avg_loss: 2.286941461265087 |\n",
      "Epoch 94\n",
      "EP: train | lr: 0.001: 100%|| 32/32 [00:00<00:00, 166.34it/s]\n",
      "\n",
      "EP_train | avg_loss: 2.2875627875328064 |\n",
      "Epoch 95\n",
      "EP: train | lr: 0.001: 100%|| 32/32 [00:00<00:00, 169.63it/s]\n",
      "\n",
      "EP_train | avg_loss: 2.287486121058464 |\n",
      "Epoch 96\n",
      "EP: train | lr: 0.001: 100%|| 32/32 [00:00<00:00, 170.92it/s]\n",
      "\n",
      "EP_train | avg_loss: 2.2844782024621964 |\n",
      "Epoch 97\n",
      "EP: train | lr: 0.001: 100%|| 32/32 [00:00<00:00, 170.69it/s]\n",
      "\n",
      "EP_train | avg_loss: 2.2860474064946175 |\n",
      "Epoch 98\n",
      "EP: train | lr: 0.001: 100%|| 32/32 [00:00<00:00, 169.18it/s]\n",
      "\n",
      "EP_train | avg_loss: 2.2833612263202667 |\n",
      "Epoch 99\n",
      "EP: train | lr: 0.001: 100%|| 32/32 [00:00<00:00, 167.91it/s]\n",
      "\n",
      "EP_train | avg_loss: 2.285015068948269 |\n"
     ]
    }
   ],
   "source": [
    "AttractiveTrainer.train()"
   ]
  },
  {
   "source": [
    "## for classification, not better"
   ],
   "cell_type": "markdown",
   "metadata": {}
  },
  {
   "cell_type": "code",
   "execution_count": 14,
   "metadata": {
    "tags": []
   },
   "outputs": [
    {
     "output_type": "execute_result",
     "data": {
      "text/plain": [
       "0.5601443355119825"
      ]
     },
     "metadata": {},
     "execution_count": 14
    }
   ],
   "source": [
    "a = AttractiveTrainer.train_predict\n",
    "AttractiveData.LABEL.vocab.itos[int(a[0])], AttractiveTrainer.train_true[0]\n",
    "correct = 0\n",
    "pred_list = []\n",
    "true_list = []\n",
    "for i in range(len(a)):\n",
    "    pred = AttractiveData.LABEL.vocab.itos[int(a[i])]\n",
    "    pred_list.append(float(pred))\n",
    "    true = AttractiveData.LABEL.vocab.itos[int(AttractiveTrainer.train_true[i])]\n",
    "    true_list.append(float(true))\n",
    "mean_squared_error(true_list, pred_list)\n",
    "# true_list"
   ]
  },
  {
   "source": [
    "## Below is testing"
   ],
   "cell_type": "markdown",
   "metadata": {}
  },
  {
   "cell_type": "code",
   "execution_count": 15,
   "metadata": {},
   "outputs": [
    {
     "output_type": "execute_result",
     "data": {
      "text/plain": [
       "TransformerModel(\n",
       "  (embedding): AttractiveEmbedding(\n",
       "    (token): TokenEmbedding(1410, 300, padding_idx=0)\n",
       "    (position): PositionalEmbedding()\n",
       "    (dropout): Dropout(p=0.1, inplace=False)\n",
       "  )\n",
       "  (category_embedding): CategoryEmbedding(22, 16, padding_idx=0)\n",
       "  (transformer_encoder): TransformerEncoder(\n",
       "    (layers): ModuleList(\n",
       "      (0): TransformerEncoderLayer(\n",
       "        (self_attn): MultiheadAttention(\n",
       "          (out_proj): _LinearWithBias(in_features=300, out_features=300, bias=True)\n",
       "        )\n",
       "        (linear1): Linear(in_features=300, out_features=256, bias=True)\n",
       "        (dropout): Dropout(p=0.1, inplace=False)\n",
       "        (linear2): Linear(in_features=256, out_features=300, bias=True)\n",
       "        (norm1): LayerNorm((300,), eps=1e-05, elementwise_affine=True)\n",
       "        (norm2): LayerNorm((300,), eps=1e-05, elementwise_affine=True)\n",
       "        (dropout1): Dropout(p=0.1, inplace=False)\n",
       "        (dropout2): Dropout(p=0.1, inplace=False)\n",
       "      )\n",
       "      (1): TransformerEncoderLayer(\n",
       "        (self_attn): MultiheadAttention(\n",
       "          (out_proj): _LinearWithBias(in_features=300, out_features=300, bias=True)\n",
       "        )\n",
       "        (linear1): Linear(in_features=300, out_features=256, bias=True)\n",
       "        (dropout): Dropout(p=0.1, inplace=False)\n",
       "        (linear2): Linear(in_features=256, out_features=300, bias=True)\n",
       "        (norm1): LayerNorm((300,), eps=1e-05, elementwise_affine=True)\n",
       "        (norm2): LayerNorm((300,), eps=1e-05, elementwise_affine=True)\n",
       "        (dropout1): Dropout(p=0.1, inplace=False)\n",
       "        (dropout2): Dropout(p=0.1, inplace=False)\n",
       "      )\n",
       "      (2): TransformerEncoderLayer(\n",
       "        (self_attn): MultiheadAttention(\n",
       "          (out_proj): _LinearWithBias(in_features=300, out_features=300, bias=True)\n",
       "        )\n",
       "        (linear1): Linear(in_features=300, out_features=256, bias=True)\n",
       "        (dropout): Dropout(p=0.1, inplace=False)\n",
       "        (linear2): Linear(in_features=256, out_features=300, bias=True)\n",
       "        (norm1): LayerNorm((300,), eps=1e-05, elementwise_affine=True)\n",
       "        (norm2): LayerNorm((300,), eps=1e-05, elementwise_affine=True)\n",
       "        (dropout1): Dropout(p=0.1, inplace=False)\n",
       "        (dropout2): Dropout(p=0.1, inplace=False)\n",
       "      )\n",
       "    )\n",
       "  )\n",
       "  (linear): Linear(in_features=316, out_features=17, bias=True)\n",
       ")"
      ]
     },
     "metadata": {},
     "execution_count": 15
    }
   ],
   "source": [
    "from transformermodel import TransformerModel\n",
    "PATH = './model/AttractiveNet_20201029-134515_2.285.100'\n",
    "load_model = TransformerModel(nhead, input_dim, category_dim, category_output_dim, embedding_dim, hidden_dim, output_dim, dropout, num_layers).to(AttractiveData.device)\n",
    "load_model.load_state_dict(torch.load(PATH))\n",
    "load_model.eval()"
   ]
  },
  {
   "cell_type": "code",
   "execution_count": 16,
   "metadata": {},
   "outputs": [],
   "source": [
    "def predict_attractive(sentence, category):\n",
    "    indexed_sentence = [AttractiveData.TEXT.vocab.stoi[t] for t in sentence]\n",
    "    indexed_category = [AttractiveData.CATEGORIES_LABEL.vocab.stoi[category]]\n",
    "    tensor_sentence = torch.LongTensor(indexed_sentence).to(AttractiveData.device)\n",
    "    tensor_category = torch.LongTensor(indexed_category).to(AttractiveData.device)\n",
    "\n",
    "    tensor_sentence = tensor_sentence.unsqueeze(1)\n",
    "    tensor_category = tensor_category\n",
    "\n",
    "    prediction = load_model(tensor_sentence, tensor_category)\n",
    "\n",
    "    _, predict_class = torch.max(prediction, dim=1)\n",
    "    # print(prediction)\n",
    "    # print(predict_class)\n",
    "    prediction = AttractiveData.LABEL.vocab.itos[int(predict_class.item())]\n",
    "    \n",
    "    return float(prediction)"
   ]
  },
  {
   "cell_type": "code",
   "execution_count": 17,
   "metadata": {
    "tags": []
   },
   "outputs": [],
   "source": [
    "predict_list = []\n",
    "for i, sentence in enumerate(AttractiveData.test_data):\n",
    "    prediction = predict_attractive(sentence.Headline, sentence.Category)\n",
    "    predict_list.append(prediction)\n",
    "AttractiveData.df_test['Label'] = predict_list\n",
    "AttractiveData.df_test[['ID', 'Label']].to_csv('transformers.csv', index=False)"
   ]
  },
  {
   "cell_type": "code",
   "execution_count": 18,
   "metadata": {},
   "outputs": [
    {
     "output_type": "stream",
     "name": "stdout",
     "text": [
      "\ngardening\ntravelnews\ngolf\nconcussion\nbeauty\nracing\n"
     ]
    }
   ],
   "source": [
    "train_category = list(AttractiveData.CATEGORIES_LABEL.vocab.freqs)\n",
    "test_category = list(AttractiveData.df_test['Category'].value_counts().keys())\n",
    "for each_test in test_category:\n",
    "    if each_test not in train_category:\n",
    "        print(each_test)\n",
    "print()\n",
    "for each_train in train_category:\n",
    "    if each_train not in test_category:\n",
    "        print(each_train)"
   ]
  },
  {
   "cell_type": "code",
   "execution_count": 17,
   "metadata": {},
   "outputs": [
    {
     "output_type": "execute_result",
     "data": {
      "text/plain": [
       "(['travel',\n",
       "  'health',\n",
       "  'femail',\n",
       "  'sport',\n",
       "  'gardening',\n",
       "  'sciencetech',\n",
       "  'news',\n",
       "  'food',\n",
       "  'football',\n",
       "  'travelnews',\n",
       "  'cricket',\n",
       "  'golf',\n",
       "  'books',\n",
       "  'rugbyunion',\n",
       "  'home',\n",
       "  'boxing',\n",
       "  'tennis',\n",
       "  'concussion',\n",
       "  'othersports',\n",
       "  'beauty',\n",
       "  'formulaone',\n",
       "  'racing'],\n",
       " ['health',\n",
       "  'femail',\n",
       "  'sciencetech',\n",
       "  'travel',\n",
       "  'news',\n",
       "  'football',\n",
       "  'food',\n",
       "  'living',\n",
       "  'books',\n",
       "  'boxing',\n",
       "  'rugbyunion',\n",
       "  'othersports',\n",
       "  'formulaone',\n",
       "  'cricket',\n",
       "  'us',\n",
       "  'tennis',\n",
       "  'sport',\n",
       "  'middleeast',\n",
       "  'racing'])"
      ]
     },
     "metadata": {},
     "execution_count": 17
    }
   ],
   "source": [
    "train_category, test_category"
   ]
  },
  {
   "source": [
    "## Below just for fun guess"
   ],
   "cell_type": "markdown",
   "metadata": {}
  },
  {
   "cell_type": "code",
   "execution_count": 17,
   "metadata": {},
   "outputs": [],
   "source": [
    "a = AttractiveData.df_test['ID'].to_list()"
   ]
  },
  {
   "cell_type": "code",
   "execution_count": 13,
   "metadata": {},
   "outputs": [],
   "source": [
    "from sklearn.metrics import mean_squared_error"
   ]
  },
  {
   "cell_type": "code",
   "execution_count": 9,
   "metadata": {},
   "outputs": [
    {
     "output_type": "execute_result",
     "data": {
      "text/plain": [
       "0.5545343137254902"
      ]
     },
     "metadata": {},
     "execution_count": 9
    }
   ],
   "source": [
    "mean_squared_error(a, b)\n",
    "# Training all 3.0 got mse = 0.5545"
   ]
  },
  {
   "cell_type": "code",
   "execution_count": 18,
   "metadata": {},
   "outputs": [],
   "source": [
    "# only for fun\n",
    "import random\n",
    "guess_list = [2.3333333333333335, 3.3333333333333335, 3.6666666666666665, 2.6666666666666665]\n",
    "b = []\n",
    "for i in range(len(a)):\n",
    "    b.append(random.choice(guess_list))"
   ]
  },
  {
   "cell_type": "code",
   "execution_count": 19,
   "metadata": {},
   "outputs": [],
   "source": [
    "AttractiveData.df_test['Label'] = b"
   ]
  },
  {
   "cell_type": "code",
   "execution_count": 20,
   "metadata": {},
   "outputs": [],
   "source": [
    "AttractiveData.df_test[['ID', 'Label']].to_csv('all_3.csv', index=False)"
   ]
  },
  {
   "cell_type": "code",
   "execution_count": null,
   "metadata": {},
   "outputs": [],
   "source": []
  }
 ]
}