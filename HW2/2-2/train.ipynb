{
 "cells": [
  {
   "cell_type": "code",
   "execution_count": 1,
   "metadata": {},
   "outputs": [],
   "source": [
    "# common packages\n",
    "import pandas as pd\n",
    "import time\n",
    "\n",
    "# # DL framework\n",
    "import torch\n",
    "from torchtext import data\n",
    "\n",
    "from attractivedata import AttractiveData\n",
    "from trainer import AttractiveTrainer"
   ]
  },
  {
   "source": [
    "# TODO: \n",
    "- [ ] try to use only second layer's hidden state\n",
    "- [ ] word embedding multiply tfidf\n",
    "- [ ] use word2vec\n",
    "- [ ] dropout to 0.4 and use adam to speedup, add dropout after cnn-relu"
   ],
   "cell_type": "markdown",
   "metadata": {}
  },
  {
   "cell_type": "markdown",
   "metadata": {},
   "source": [
    "## Load and prepare data"
   ]
  },
  {
   "cell_type": "code",
   "execution_count": 2,
   "metadata": {},
   "outputs": [],
   "source": [
    "train_file = 'example/train.csv'\n",
    "val_file = 'example/val.csv'\n",
    "test_file = 'data/test.csv'\n",
    "pretrained_file = 'glove.840B.300d'\n",
    "config = {\n",
    "    'max_seq': 40,\n",
    "    'min_freq': 0,\n",
    "    'batch_size': 64,\n",
    "    'pretrained_file': pretrained_file\n",
    "}\n"
   ]
  },
  {
   "cell_type": "code",
   "execution_count": 3,
   "metadata": {},
   "outputs": [],
   "source": [
    "AttractiveData = AttractiveData(train_file, val_file, test_file, pretrained_file, config)"
   ]
  },
  {
   "cell_type": "code",
   "execution_count": 4,
   "metadata": {},
   "outputs": [],
   "source": [
    "# for i, sentence in enumerate(AttractiveData.test_data):\n",
    "#     if i == 3:\n",
    "#         print(vars(AttractiveData.train_data[i]), vars(sentence))"
   ]
  },
  {
   "cell_type": "code",
   "execution_count": 5,
   "metadata": {},
   "outputs": [
    {
     "output_type": "execute_result",
     "data": {
      "text/plain": [
       "38"
      ]
     },
     "metadata": {},
     "execution_count": 5
    }
   ],
   "source": [
    "max_len = 0\n",
    "a = AttractiveData.train_data\n",
    "for i in range(len(a)):\n",
    "    if len(a[i].Headline) >= max_len:\n",
    "        max_len = len(a[i].Headline)\n",
    "max_len"
   ]
  },
  {
   "cell_type": "markdown",
   "metadata": {},
   "source": [
    "## Start to train"
   ]
  },
  {
   "cell_type": "code",
   "execution_count": 6,
   "metadata": {},
   "outputs": [
    {
     "output_type": "stream",
     "name": "stdout",
     "text": [
      "torch.Size([11857, 300])\n"
     ]
    }
   ],
   "source": [
    "config['timestr'] = time.strftime(\"%Y%m%d-%H%M%S\")\n",
    "config['save_name'] = 'CNN_LSTM'\n",
    "config['input_dim'] = len(AttractiveData.TEXT.vocab)\n",
    "config['embedding_dim'] = 300\n",
    "config['category_dim'] = len(AttractiveData.CATEGORIES_LABEL.vocab)\n",
    "config['category_embedding_dim'] = 8\n",
    "config['hidden_dim'] = 30\n",
    "config['output_dim'] = 1\n",
    "config['log_steps'] = 10\n",
    "config['epochs'] = 200\n",
    "config['lr'] = {\n",
    "    'encoder': 1e-5,\n",
    "    'embedding': 6e-6,\n",
    "    'linear': 1e-5\n",
    "}\n",
    "config['num_layers'] = 1\n",
    "config['kernel_size'] = 3\n",
    "config['dropout'] = 0.3\n",
    "config['train_len'] = AttractiveData.train_len\n",
    "config['val_len'] = AttractiveData.val_len\n",
    "config['test_len'] = AttractiveData.test_len\n",
    "\n",
    "pretrained_embeddings = AttractiveData.TEXT.vocab.vectors\n",
    "print(pretrained_embeddings.shape)"
   ]
  },
  {
   "cell_type": "code",
   "execution_count": 7,
   "metadata": {},
   "outputs": [],
   "source": [
    "AttractiveTrainer = AttractiveTrainer(config, AttractiveData.device, AttractiveData.trainloader, AttractiveData.valloader, pretrained_embeddings)"
   ]
  },
  {
   "cell_type": "code",
   "execution_count": 8,
   "metadata": {},
   "outputs": [
    {
     "output_type": "execute_result",
     "data": {
      "text/plain": [
       "(AttractiveNet(\n",
       "   (embedding): AttractiveEmbedding(\n",
       "     (token): TokenEmbedding(11857, 300, padding_idx=1)\n",
       "   )\n",
       "   (bigramcnn): Sequential(\n",
       "     (0): Conv1d(300, 200, kernel_size=(3,), stride=(1,), padding=(1,))\n",
       "     (1): ReLU()\n",
       "     (2): Conv1d(200, 100, kernel_size=(3,), stride=(1,), padding=(1,))\n",
       "     (3): ReLU()\n",
       "     (4): Dropout(p=0.3, inplace=False)\n",
       "   )\n",
       "   (trigramcnn): Sequential(\n",
       "     (0): Conv1d(300, 200, kernel_size=(3,), stride=(1,), padding=(1,))\n",
       "     (1): ReLU()\n",
       "     (2): Conv1d(200, 100, kernel_size=(3,), stride=(1,), padding=(1,))\n",
       "     (3): ReLU()\n",
       "     (4): Dropout(p=0.3, inplace=False)\n",
       "   )\n",
       "   (encoder_bigram_first): LSTM(100, 30, batch_first=True, dropout=0.3, bidirectional=True)\n",
       "   (encoder_bigram_second): LSTM(60, 30, batch_first=True, dropout=0.3, bidirectional=True)\n",
       "   (encoder_trigram_first): LSTM(100, 30, batch_first=True, dropout=0.3, bidirectional=True)\n",
       "   (encoder_trigram_second): LSTM(60, 30, batch_first=True, dropout=0.3, bidirectional=True)\n",
       "   (linear): Sequential(\n",
       "     (0): Linear(in_features=240, out_features=30, bias=True)\n",
       "     (1): ReLU()\n",
       "     (2): Linear(in_features=30, out_features=1, bias=True)\n",
       "   )\n",
       " ),\n",
       " 4152481,\n",
       " 4152481)"
      ]
     },
     "metadata": {},
     "execution_count": 8
    }
   ],
   "source": [
    "AttractiveTrainer.model, AttractiveTrainer.config['total_params'], AttractiveTrainer.config['total_learned_params']"
   ]
  },
  {
   "cell_type": "code",
   "execution_count": 9,
   "metadata": {
    "tags": [
     "outputPrepend"
    ]
   },
   "outputs": [
    {
     "output_type": "stream",
     "name": "stderr",
     "text": [
      "EP_46 | train loss: 0.4726034784628675 | val loss: 0.4409694882000194 |\n",
      "Epoch:  24%|██▍       | 48/200 [00:23<01:14,  2.05it/s]\n",
      "EP_47 | train loss: 0.4678397329284735 | val loss: 0.4449055498721553 |\n",
      "Epoch:  24%|██▍       | 49/200 [00:24<01:13,  2.06it/s]\n",
      "EP_48 | train loss: 0.4650369137200914 | val loss: 0.4375884322559132 |\n",
      "Epoch:  25%|██▌       | 50/200 [00:24<01:12,  2.06it/s]\n",
      "EP_49 | train loss: 0.46369500149828674 | val loss: 0.4349337933110256 |\n",
      "Epoch:  26%|██▌       | 51/200 [00:25<01:12,  2.04it/s]\n",
      "EP_50 | train loss: 0.4614451902884024 | val loss: 0.4283495264894822 |\n",
      "Epoch:  26%|██▌       | 52/200 [00:25<01:12,  2.05it/s]\n",
      "EP_51 | train loss: 0.4588527835272496 | val loss: 0.43177809201034845 |\n",
      "Epoch:  26%|██▋       | 53/200 [00:26<01:11,  2.06it/s]\n",
      "EP_52 | train loss: 0.4577295826930626 | val loss: 0.4230136111670849 |\n",
      "Epoch:  27%|██▋       | 54/200 [00:26<01:10,  2.06it/s]\n",
      "EP_53 | train loss: 0.4572947414871914 | val loss: 0.41741770272161444 |\n",
      "Epoch:  28%|██▊       | 55/200 [00:27<01:10,  2.04it/s]\n",
      "EP_54 | train loss: 0.45184678345723867 | val loss: 0.425887572999094 |\n",
      "Epoch:  28%|██▊       | 56/200 [00:27<01:11,  2.02it/s]\n",
      "EP_55 | train loss: 0.44864099373744726 | val loss: 0.4251147286564696 |\n",
      "Epoch:  28%|██▊       | 57/200 [00:28<01:10,  2.04it/s]\n",
      "EP_56 | train loss: 0.44757479935689687 | val loss: 0.4235166311264038 |\n",
      "Epoch:  29%|██▉       | 58/200 [00:28<01:10,  2.03it/s]\n",
      "EP_57 | train loss: 0.44494475882037793 | val loss: 0.42041097669040456 |\n",
      "Epoch:  30%|██▉       | 59/200 [00:29<01:09,  2.04it/s]\n",
      "EP_58 | train loss: 0.4463424443679178 | val loss: 0.40951260281544105 |\n",
      "Epoch:  30%|███       | 60/200 [00:29<01:08,  2.04it/s]\n",
      "EP_59 | train loss: 0.44050602403860983 | val loss: 0.418733232161578 |\n",
      "Epoch:  30%|███       | 61/200 [00:30<01:08,  2.02it/s]\n",
      "EP_60 | train loss: 0.439456783868129 | val loss: 0.4137801820156621 |\n",
      "Epoch:  31%|███       | 62/200 [00:30<01:08,  2.02it/s]\n",
      "EP_61 | train loss: 0.4381742633246129 | val loss: 0.4172287150925281 |\n",
      "Epoch:  32%|███▏      | 63/200 [00:31<01:07,  2.03it/s]\n",
      "EP_62 | train loss: 0.43702461932479425 | val loss: 0.410546180079965 |\n",
      "Epoch:  32%|███▏      | 64/200 [00:31<01:06,  2.05it/s]\n",
      "EP_63 | train loss: 0.4353851544831054 | val loss: 0.4115807285495833 |\n",
      "Epoch:  32%|███▎      | 65/200 [00:32<01:05,  2.06it/s]\n",
      "EP_64 | train loss: 0.43265912839270365 | val loss: 0.4141646950852637 |\n",
      "Epoch:  33%|███▎      | 66/200 [00:32<01:05,  2.05it/s]\n",
      "EP_65 | train loss: 0.4316519704000103 | val loss: 0.4046355462541767 |\n",
      "Epoch:  34%|███▎      | 67/200 [00:33<01:04,  2.05it/s]\n",
      "EP_66 | train loss: 0.4286120670293671 | val loss: 0.41284743594188317 |\n",
      "Epoch:  34%|███▍      | 68/200 [00:33<01:04,  2.06it/s]\n",
      "EP_67 | train loss: 0.4268467161390517 | val loss: 0.4102128451945735 |\n",
      "Epoch:  34%|███▍      | 69/200 [00:34<01:04,  2.03it/s]\n",
      "EP_68 | train loss: 0.42495590357479185 | val loss: 0.4168711105982463 |\n",
      "Epoch:  35%|███▌      | 70/200 [00:34<01:03,  2.04it/s]\n",
      "EP_69 | train loss: 0.4238980216398218 | val loss: 0.41038671544953886 |\n",
      "Epoch:  36%|███▌      | 71/200 [00:35<01:03,  2.02it/s]\n",
      "EP_70 | train loss: 0.4230656904332778 | val loss: 0.40644466058880674 |\n",
      "Epoch:  36%|███▌      | 72/200 [00:35<01:03,  2.03it/s]\n",
      "EP_71 | train loss: 0.4208580834673381 | val loss: 0.40550540592156203 |\n",
      "Epoch:  36%|███▋      | 73/200 [00:36<01:02,  2.04it/s]\n",
      "EP_72 | train loss: 0.4201588589121833 | val loss: 0.4005125129924101 |\n",
      "Epoch:  37%|███▋      | 74/200 [00:36<01:02,  2.03it/s]\n",
      "EP_73 | train loss: 0.4172770275789149 | val loss: 0.40096577943540085 |\n",
      "Epoch:  38%|███▊      | 75/200 [00:37<01:01,  2.03it/s]\n",
      "EP_74 | train loss: 0.4154167372676542 | val loss: 0.41408414934195725 |\n",
      "Epoch:  38%|███▊      | 76/200 [00:37<01:01,  2.01it/s]\n",
      "EP_75 | train loss: 0.41386490553812266 | val loss: 0.40435106614056754 |\n",
      "Epoch:  38%|███▊      | 77/200 [00:38<01:01,  2.01it/s]\n",
      "EP_76 | train loss: 0.41248051325480145 | val loss: 0.4016811111394097 |\n",
      "Epoch:  39%|███▉      | 78/200 [00:38<01:00,  2.03it/s]\n",
      "EP_77 | train loss: 0.41194366785435893 | val loss: 0.4249432168754877 |\n",
      "Epoch:  40%|███▉      | 79/200 [00:39<00:59,  2.03it/s]\n",
      "EP_78 | train loss: 0.40999869531535893 | val loss: 0.4023792872241899 |\n",
      "Epoch:  40%|████      | 80/200 [00:39<00:58,  2.04it/s]\n",
      "EP_79 | train loss: 0.4068839638321488 | val loss: 0.4086769375146604 |\n",
      "Epoch:  40%|████      | 81/200 [00:39<00:58,  2.02it/s]\n",
      "EP_80 | train loss: 0.4052439670936734 | val loss: 0.4040788680899377 |\n",
      "Epoch:  41%|████      | 82/200 [00:40<00:57,  2.03it/s]\n",
      "EP_81 | train loss: 0.40376887705850706 | val loss: 0.40419991343629125 |\n",
      "Epoch:  42%|████▏     | 83/200 [00:40<00:57,  2.04it/s]\n",
      "EP_82 | train loss: 0.4025786769675793 | val loss: 0.40177175694820927 |\n",
      "Epoch:  42%|████▏     | 84/200 [00:41<00:56,  2.04it/s]\n",
      "EP_83 | train loss: 0.4001161392477863 | val loss: 0.407542372451109 |\n",
      "Epoch:  42%|████▎     | 85/200 [00:41<00:56,  2.05it/s]\n",
      "EP_84 | train loss: 0.3982340276630875 | val loss: 0.40227406165179086 |\n",
      "Epoch:  43%|████▎     | 86/200 [00:42<00:56,  2.03it/s]\n",
      "EP_85 | train loss: 0.39708046196332947 | val loss: 0.40906843484616745 |\n",
      "Epoch:  44%|████▎     | 87/200 [00:42<00:55,  2.03it/s]\n",
      "EP_86 | train loss: 0.39510533388923197 | val loss: 0.3958010907266654 |\n",
      "Epoch:  44%|████▍     | 88/200 [00:43<00:54,  2.04it/s]\n",
      "EP_87 | train loss: 0.3932591741640843 | val loss: 0.3986172407281165 |\n",
      "Epoch:  44%|████▍     | 89/200 [00:43<00:54,  2.05it/s]\n",
      "EP_88 | train loss: 0.39185759081040594 | val loss: 0.40992816055522246 |\n",
      "Epoch:  45%|████▌     | 90/200 [00:44<00:54,  2.02it/s]\n",
      "EP_89 | train loss: 0.3933566494445136 | val loss: 0.3880978869456871 |\n",
      "Epoch:  46%|████▌     | 91/200 [00:44<00:54,  2.00it/s]\n",
      "EP_90 | train loss: 0.38851796567829605 | val loss: 0.39800553812700157 |\n",
      "Epoch:  46%|████▌     | 92/200 [00:45<00:53,  2.02it/s]\n",
      "EP_91 | train loss: 0.3857450293040224 | val loss: 0.4038965538436291 |\n",
      "Epoch:  46%|████▋     | 93/200 [00:45<00:52,  2.03it/s]\n",
      "EP_92 | train loss: 0.38349403846757346 | val loss: 0.40305758223814125 |\n",
      "Epoch:  47%|████▋     | 94/200 [00:46<00:52,  2.03it/s]\n",
      "EP_93 | train loss: 0.3809369233698627 | val loss: 0.3996401966786852 |\n",
      "Epoch:  48%|████▊     | 95/200 [00:46<00:51,  2.04it/s]\n",
      "EP_94 | train loss: 0.379833781381578 | val loss: 0.40239082715090585 |\n",
      "Epoch:  48%|████▊     | 96/200 [00:47<00:51,  2.01it/s]\n",
      "EP_95 | train loss: 0.3782854485355951 | val loss: 0.40907210695977303 |\n",
      "Epoch:  48%|████▊     | 97/200 [00:47<00:50,  2.02it/s]\n",
      "EP_96 | train loss: 0.37616124807619583 | val loss: 0.39916373234169156 |\n",
      "Epoch:  49%|████▉     | 98/200 [00:48<00:50,  2.04it/s]\n",
      "EP_97 | train loss: 0.3751196300282198 | val loss: 0.3928423956328747 |\n",
      "Epoch:  50%|████▉     | 99/200 [00:48<00:49,  2.03it/s]\n",
      "EP_98 | train loss: 0.3720705903952937 | val loss: 0.3952438515775344 |\n",
      "Epoch:  50%|█████     | 100/200 [00:49<00:48,  2.05it/s]\n",
      "EP_99 | train loss: 0.3708178062064975 | val loss: 0.39422112235835954 |\n",
      "Epoch:  50%|█████     | 101/200 [00:49<00:48,  2.03it/s]\n",
      "EP_100 | train loss: 0.3714045688737192 | val loss: 0.3880130929105422 |\n",
      "Epoch:  51%|█████     | 102/200 [00:50<00:47,  2.04it/s]\n",
      "EP_101 | train loss: 0.36530148853144095 | val loss: 0.40956686407912013 |\n",
      "Epoch:  52%|█████▏    | 103/200 [00:50<00:47,  2.05it/s]\n",
      "EP_102 | train loss: 0.3631956478609239 | val loss: 0.3957603982850617 |\n",
      "Epoch:  52%|█████▏    | 104/200 [00:51<00:46,  2.06it/s]\n",
      "EP_103 | train loss: 0.3627729608082823 | val loss: 0.3929125292628419 |\n",
      "Epoch:  52%|█████▎    | 105/200 [00:51<00:46,  2.03it/s]\n",
      "EP_104 | train loss: 0.35794342680953944 | val loss: 0.4014326240502152 |\n",
      "Epoch:  53%|█████▎    | 106/200 [00:52<00:46,  2.01it/s]\n",
      "EP_105 | train loss: 0.3594059975318659 | val loss: 0.3879912074874429 |\n",
      "Epoch:  54%|█████▎    | 107/200 [00:52<00:46,  2.02it/s]\n",
      "EP_106 | train loss: 0.35445553077332076 | val loss: 0.40060290869544535 |\n",
      "Epoch:  54%|█████▍    | 108/200 [00:53<00:45,  2.03it/s]\n",
      "EP_107 | train loss: 0.3529568606731938 | val loss: 0.4184563861173742 |\n",
      "Epoch:  55%|█████▍    | 109/200 [00:53<00:44,  2.03it/s]\n",
      "EP_108 | train loss: 0.35251229053489 | val loss: 0.38742362401064706 |\n",
      "Epoch:  55%|█████▌    | 110/200 [00:54<00:44,  2.04it/s]\n",
      "EP_109 | train loss: 0.3467368534187865 | val loss: 0.4094281406963573 |\n",
      "Epoch:  56%|█████▌    | 111/200 [00:54<00:43,  2.03it/s]\n",
      "EP_110 | train loss: 0.34375916794754063 | val loss: 0.4116723794563144 |\n",
      "Epoch:  56%|█████▌    | 112/200 [00:55<00:43,  2.04it/s]\n",
      "EP_111 | train loss: 0.3426305234821793 | val loss: 0.394073392830643 |\n",
      "Epoch:  56%|█████▋    | 113/200 [00:55<00:42,  2.05it/s]\n",
      "EP_112 | train loss: 0.3391054211618594 | val loss: 0.41148481766382855 |\n",
      "Epoch:  57%|█████▋    | 114/200 [00:56<00:41,  2.06it/s]\n",
      "EP_113 | train loss: 0.3362939944713983 | val loss: 0.40841174943774355 |\n",
      "Epoch:  57%|█████▊    | 115/200 [00:56<00:41,  2.06it/s]\n",
      "EP_114 | train loss: 0.33412968307279034 | val loss: 0.39669819205415013 |\n",
      "Epoch:  58%|█████▊    | 116/200 [00:57<00:41,  2.04it/s]\n",
      "EP_115 | train loss: 0.3325892580360629 | val loss: 0.39293161093019974 |\n",
      "Epoch:  58%|█████▊    | 117/200 [00:57<00:40,  2.04it/s]\n",
      "EP_116 | train loss: 0.32930257481427494 | val loss: 0.42065713218614165 |\n",
      "Epoch:  59%|█████▉    | 118/200 [00:58<00:39,  2.06it/s]\n",
      "EP_117 | train loss: 0.3239739445040169 | val loss: 0.4100086992862178 |\n",
      "Epoch:  60%|█████▉    | 119/200 [00:58<00:39,  2.04it/s]\n",
      "EP_118 | train loss: 0.3226202988676516 | val loss: 0.412466147366692 |\n",
      "Epoch:  60%|██████    | 120/200 [00:59<00:38,  2.06it/s]\n",
      "EP_119 | train loss: 0.3294279009168704 | val loss: 0.3838457137930627 |\n",
      "Epoch:  60%|██████    | 121/200 [00:59<00:38,  2.04it/s]\n",
      "EP_120 | train loss: 0.3159433917542169 | val loss: 0.40757089152055626 |\n",
      "Epoch:  61%|██████    | 122/200 [01:00<00:38,  2.05it/s]\n",
      "EP_121 | train loss: 0.3128936950417645 | val loss: 0.4019331558077943 |\n",
      "Epoch:  62%|██████▏   | 123/200 [01:00<00:37,  2.06it/s]\n",
      "EP_122 | train loss: 0.31151284735187207 | val loss: 0.4170831698997348 |\n",
      "Epoch:  62%|██████▏   | 124/200 [01:01<00:36,  2.06it/s]\n",
      "EP_123 | train loss: 0.3057824194041732 | val loss: 0.4120455220633862 |\n",
      "Epoch:  62%|██████▎   | 125/200 [01:01<00:36,  2.06it/s]\n",
      "EP_124 | train loss: 0.30377775183949857 | val loss: 0.41475798686345416 |\n",
      "Epoch:  63%|██████▎   | 126/200 [01:02<00:36,  2.04it/s]\n",
      "EP_125 | train loss: 0.29970822770611133 | val loss: 0.4088590191859825 |\n",
      "Epoch:  64%|██████▎   | 127/200 [01:02<00:35,  2.05it/s]\n",
      "EP_126 | train loss: 0.29638705689922656 | val loss: 0.4094417562671736 |\n",
      "Epoch:  64%|██████▍   | 128/200 [01:03<00:35,  2.06it/s]\n",
      "EP_127 | train loss: 0.29402344419026427 | val loss: 0.42340046050501806 |\n",
      "Epoch:  64%|██████▍   | 129/200 [01:03<00:34,  2.06it/s]\n",
      "EP_128 | train loss: 0.2896078775651055 | val loss: 0.4081471597447115 |\n",
      "Epoch:  65%|██████▌   | 130/200 [01:04<00:34,  2.05it/s]\n",
      "EP_129 | train loss: 0.2900146284913705 | val loss: 0.3986077706019084 |\n",
      "Epoch:  66%|██████▌   | 131/200 [01:04<00:33,  2.03it/s]\n",
      "EP_130 | train loss: 0.28376230071572695 | val loss: 0.42302295857784794 |\n",
      "Epoch:  66%|██████▌   | 132/200 [01:04<00:33,  2.04it/s]\n",
      "EP_131 | train loss: 0.2803574642065044 | val loss: 0.42452187047285195 |\n",
      "Epoch:  66%|██████▋   | 133/200 [01:05<00:32,  2.06it/s]\n",
      "EP_132 | train loss: 0.2756429684707542 | val loss: 0.4120866258939107 |\n",
      "Epoch:  67%|██████▋   | 134/200 [01:05<00:31,  2.07it/s]\n",
      "EP_133 | train loss: 0.27311901225503493 | val loss: 0.4113370004822226 |\n",
      "Epoch:  68%|██████▊   | 135/200 [01:06<00:31,  2.07it/s]\n",
      "EP_134 | train loss: 0.26877656066080063 | val loss: 0.4267769981833065 |\n",
      "Epoch:  68%|██████▊   | 136/200 [01:06<00:31,  2.05it/s]\n",
      "EP_135 | train loss: 0.2645876082979256 | val loss: 0.42114726234884825 |\n",
      "Epoch:  68%|██████▊   | 137/200 [01:07<00:30,  2.07it/s]\n",
      "EP_136 | train loss: 0.26024487906811283 | val loss: 0.42060941107132854 |\n",
      "Epoch:  69%|██████▉   | 138/200 [01:07<00:29,  2.07it/s]\n",
      "EP_137 | train loss: 0.26689186490958555 | val loss: 0.39752695256588505 |\n",
      "Epoch:  70%|██████▉   | 139/200 [01:08<00:29,  2.07it/s]\n",
      "EP_138 | train loss: 0.2551108341591031 | val loss: 0.41160040860082586 |\n",
      "Epoch:  70%|███████   | 140/200 [01:08<00:29,  2.05it/s]\n",
      "EP_139 | train loss: 0.24889216028267522 | val loss: 0.4279776192178913 |\n",
      "Epoch:  70%|███████   | 141/200 [01:09<00:29,  1.99it/s]\n",
      "EP_140 | train loss: 0.2461144119046612 | val loss: 0.43493939030404183 |\n",
      "Epoch:  71%|███████   | 142/200 [01:09<00:28,  2.01it/s]\n",
      "EP_141 | train loss: 0.24201124114408473 | val loss: 0.4202828185231078 |\n",
      "Epoch:  72%|███████▏  | 143/200 [01:10<00:28,  2.03it/s]\n",
      "EP_142 | train loss: 0.23791437834696053 | val loss: 0.4418530557669845 |\n",
      "Epoch:  72%|███████▏  | 144/200 [01:10<00:27,  2.04it/s]\n",
      "EP_143 | train loss: 0.23544085519246286 | val loss: 0.4136812827166389 |\n",
      "Epoch:  72%|███████▎  | 145/200 [01:11<00:26,  2.05it/s]\n",
      "EP_144 | train loss: 0.22953559734203197 | val loss: 0.42171094931808173 |\n",
      "Epoch:  73%|███████▎  | 146/200 [01:11<00:26,  2.02it/s]\n",
      "EP_145 | train loss: 0.22703415116453482 | val loss: 0.44905518199883254 |\n",
      "Epoch:  74%|███████▎  | 147/200 [01:12<00:26,  2.04it/s]\n",
      "EP_146 | train loss: 0.22049563019363969 | val loss: 0.4266030098877701 |\n",
      "Epoch:  74%|███████▍  | 148/200 [01:12<00:25,  2.05it/s]\n",
      "EP_147 | train loss: 0.22296081181445154 | val loss: 0.40802667421453137 |\n",
      "Epoch:  74%|███████▍  | 149/200 [01:13<00:24,  2.05it/s]\n",
      "EP_148 | train loss: 0.21255559703103857 | val loss: 0.4399486312679216 |\n",
      "Epoch:  75%|███████▌  | 150/200 [01:13<00:24,  2.05it/s]\n",
      "EP_149 | train loss: 0.20844063312139907 | val loss: 0.4290715911809136 |\n",
      "Epoch:  76%|███████▌  | 151/200 [01:14<00:24,  2.03it/s]\n",
      "EP_150 | train loss: 0.2048095025787686 | val loss: 0.41845981396880805 |\n",
      "Epoch:  76%|███████▌  | 152/200 [01:14<00:23,  2.04it/s]\n",
      "EP_151 | train loss: 0.19919372851552528 | val loss: 0.4221746652734046 |\n",
      "Epoch:  76%|███████▋  | 153/200 [01:15<00:22,  2.05it/s]\n",
      "EP_152 | train loss: 0.19412778613354387 | val loss: 0.42370799592897 |\n",
      "Epoch:  77%|███████▋  | 154/200 [01:15<00:22,  2.06it/s]\n",
      "EP_153 | train loss: 0.18907761184218663 | val loss: 0.43948953876308366 |\n",
      "Epoch:  78%|███████▊  | 155/200 [01:16<00:21,  2.06it/s]\n",
      "EP_154 | train loss: 0.18473098792281806 | val loss: 0.43203001746944353 |\n",
      "Epoch:  78%|███████▊  | 156/200 [01:16<00:21,  2.04it/s]\n",
      "EP_155 | train loss: 0.17958513765812958 | val loss: 0.43014875346539067 |\n",
      "Epoch:  78%|███████▊  | 157/200 [01:17<00:20,  2.06it/s]\n",
      "EP_156 | train loss: 0.1771789648953606 | val loss: 0.42139850878248025 |\n",
      "Epoch:  79%|███████▉  | 158/200 [01:17<00:20,  2.06it/s]\n",
      "EP_157 | train loss: 0.1744086246345038 | val loss: 0.4495527323554544 |\n",
      "Epoch:  80%|███████▉  | 159/200 [01:18<00:19,  2.06it/s]\n",
      "EP_158 | train loss: 0.1701099607679579 | val loss: 0.41653643636142507 |\n",
      "Epoch:  80%|████████  | 160/200 [01:18<00:19,  2.06it/s]\n",
      "EP_159 | train loss: 0.16405427689645805 | val loss: 0.4193542576303669 |\n",
      "Epoch:  80%|████████  | 161/200 [01:19<00:19,  2.04it/s]\n",
      "EP_160 | train loss: 0.1577600544574214 | val loss: 0.42526118778714944 |\n",
      "Epoch:  81%|████████  | 162/200 [01:19<00:18,  2.05it/s]\n",
      "EP_161 | train loss: 0.15566037864726612 | val loss: 0.41384166712854425 |\n",
      "Epoch:  82%|████████▏ | 163/200 [01:20<00:17,  2.06it/s]\n",
      "EP_162 | train loss: 0.15901999561874955 | val loss: 0.4061089800853355 |\n",
      "Epoch:  82%|████████▏ | 164/200 [01:20<00:17,  2.07it/s]\n",
      "EP_163 | train loss: 0.1444553991288661 | val loss: 0.4309709668159485 |\n",
      "Epoch:  82%|████████▎ | 165/200 [01:21<00:17,  2.06it/s]\n",
      "EP_164 | train loss: 0.13971225836178316 | val loss: 0.42541175496344474 |\n",
      "Epoch:  83%|████████▎ | 166/200 [01:21<00:16,  2.04it/s]\n",
      "EP_165 | train loss: 0.1576555055730483 | val loss: 0.39988575963413014 |\n",
      "Epoch:  84%|████████▎ | 167/200 [01:22<00:16,  2.04it/s]\n",
      "EP_166 | train loss: 0.13187498880107937 | val loss: 0.43284644683202106 |\n",
      "Epoch:  84%|████████▍ | 168/200 [01:22<00:15,  2.04it/s]\n",
      "EP_167 | train loss: 0.1384439768354877 | val loss: 0.4028447247019001 |\n",
      "Epoch:  84%|████████▍ | 169/200 [01:23<00:15,  2.05it/s]\n",
      "EP_168 | train loss: 0.1284619891825325 | val loss: 0.40620051178277705 |\n",
      "Epoch:  85%|████████▌ | 170/200 [01:23<00:14,  2.04it/s]\n",
      "EP_169 | train loss: 0.11997791676739462 | val loss: 0.41468171862994924 |\n",
      "Epoch:  86%|████████▌ | 171/200 [01:24<00:14,  2.02it/s]\n",
      "EP_170 | train loss: 0.11637809931063185 | val loss: 0.43213269757289513 |\n",
      "Epoch:  86%|████████▌ | 172/200 [01:24<00:13,  2.03it/s]\n",
      "EP_171 | train loss: 0.11107511315210712 | val loss: 0.4259961726618748 |\n",
      "Epoch:  86%|████████▋ | 173/200 [01:25<00:13,  2.03it/s]\n",
      "EP_172 | train loss: 0.10718545181299347 | val loss: 0.41697216033935547 |\n",
      "Epoch:  87%|████████▋ | 174/200 [01:25<00:12,  2.04it/s]\n",
      "EP_173 | train loss: 0.10263775194911916 | val loss: 0.4187340362399232 |\n",
      "Epoch:  88%|████████▊ | 175/200 [01:26<00:12,  2.04it/s]\n",
      "EP_174 | train loss: 0.10462136595856909 | val loss: 0.4073204468278324 |\n",
      "Epoch:  88%|████████▊ | 176/200 [01:26<00:11,  2.03it/s]\n",
      "EP_175 | train loss: 0.10029923682119332 | val loss: 0.43728431533364687 |\n",
      "Epoch:  88%|████████▊ | 177/200 [01:26<00:11,  2.03it/s]\n",
      "EP_176 | train loss: 0.10114004435362639 | val loss: 0.4459589112038706 |\n",
      "Epoch:  89%|████████▉ | 178/200 [01:27<00:10,  2.04it/s]\n",
      "EP_177 | train loss: 0.09173001391176044 | val loss: 0.4082895564097984 |\n",
      "Epoch:  90%|████████▉ | 179/200 [01:27<00:10,  2.04it/s]\n",
      "EP_178 | train loss: 0.08632457593946935 | val loss: 0.4095624135989769 |\n",
      "Epoch:  90%|█████████ | 180/200 [01:28<00:09,  2.06it/s]\n",
      "EP_179 | train loss: 0.08781237410044618 | val loss: 0.4421178873847513 |\n",
      "Epoch:  90%|█████████ | 181/200 [01:28<00:09,  2.04it/s]\n",
      "EP_180 | train loss: 0.07981618427243367 | val loss: 0.42928991598241467 |\n",
      "Epoch:  91%|█████████ | 182/200 [01:29<00:08,  2.05it/s]\n",
      "EP_181 | train loss: 0.0753072221035012 | val loss: 0.42234205732158586 |\n",
      "Epoch:  92%|█████████▏| 183/200 [01:29<00:08,  2.06it/s]\n",
      "EP_182 | train loss: 0.08032991306973958 | val loss: 0.4091384960155861 |\n",
      "Epoch:  92%|█████████▏| 184/200 [01:30<00:07,  2.07it/s]\n",
      "EP_183 | train loss: 0.06960614574241222 | val loss: 0.42266085217980776 |\n",
      "Epoch:  92%|█████████▎| 185/200 [01:30<00:07,  2.07it/s]\n",
      "EP_184 | train loss: 0.06949882154111509 | val loss: 0.4112381864996517 |\n",
      "Epoch:  93%|█████████▎| 186/200 [01:31<00:06,  2.05it/s]\n",
      "EP_185 | train loss: 0.06355460549751397 | val loss: 0.422018149319817 |\n",
      "Epoch:  94%|█████████▎| 187/200 [01:31<00:06,  2.05it/s]\n",
      "EP_186 | train loss: 0.062382270373030686 | val loss: 0.41490256669474584 |\n",
      "Epoch:  94%|█████████▍| 188/200 [01:32<00:05,  2.05it/s]\n",
      "EP_187 | train loss: 0.059250990030292855 | val loss: 0.42622936005685846 |\n",
      "Epoch:  94%|█████████▍| 189/200 [01:32<00:05,  2.05it/s]\n",
      "EP_188 | train loss: 0.05688365248553374 | val loss: 0.41754631552041743 |\n",
      "Epoch:  95%|█████████▌| 190/200 [01:33<00:04,  2.06it/s]\n",
      "EP_189 | train loss: 0.07605374313907166 | val loss: 0.41024904274473 |\n",
      "Epoch:  96%|█████████▌| 191/200 [01:33<00:04,  2.03it/s]\n",
      "EP_190 | train loss: 0.05479351770384379 | val loss: 0.41294243055231433 |\n",
      "Epoch:  96%|█████████▌| 192/200 [01:34<00:03,  2.05it/s]\n",
      "EP_191 | train loss: 0.05395437728345784 | val loss: 0.4135111698917314 |\n",
      "Epoch:  96%|█████████▋| 193/200 [01:34<00:03,  2.05it/s]\n",
      "EP_192 | train loss: 0.04840316621826105 | val loss: 0.4270563756718355 |\n",
      "Epoch:  97%|█████████▋| 194/200 [01:35<00:02,  2.06it/s]\n",
      "EP_193 | train loss: 0.04510947451612269 | val loss: 0.4272313386786218 |\n",
      "Epoch:  98%|█████████▊| 195/200 [01:35<00:02,  2.05it/s]\n",
      "EP_194 | train loss: 0.04291314269722417 | val loss: 0.42357049502578437 |\n",
      "Epoch:  98%|█████████▊| 196/200 [01:36<00:01,  2.04it/s]\n",
      "EP_195 | train loss: 0.07348049284326225 | val loss: 0.4201336187474868 |\n",
      "Epoch:  98%|█████████▊| 197/200 [01:36<00:01,  2.04it/s]\n",
      "EP_196 | train loss: 0.04217823119205068 | val loss: 0.4184855538256028 |\n",
      "Epoch:  99%|█████████▉| 198/200 [01:37<00:00,  2.06it/s]\n",
      "EP_197 | train loss: 0.040565455141670044 | val loss: 0.4202640699405296 |\n",
      "Epoch: 100%|█████████▉| 199/200 [01:37<00:00,  2.06it/s]\n",
      "EP_198 | train loss: 0.042097238608694805 | val loss: 0.4192961384268368 |\n",
      "Epoch: 100%|██████████| 200/200 [01:38<00:00,  2.04it/s]\n",
      "EP_199 | train loss: 0.03851263955527661 | val loss: 0.4406990140092139 |\n",
      "\n"
     ]
    }
   ],
   "source": [
    "AttractiveTrainer.train()"
   ]
  },
  {
   "cell_type": "markdown",
   "metadata": {},
   "source": [
    "## for classification, not better"
   ]
  },
  {
   "cell_type": "markdown",
   "metadata": {},
   "source": [
    "## Below is testing"
   ]
  },
  {
   "cell_type": "code",
   "execution_count": 7,
   "metadata": {},
   "outputs": [
    {
     "output_type": "execute_result",
     "data": {
      "text/plain": [
       "AttractiveNet(\n",
       "  (embedding): AttractiveEmbedding(\n",
       "    (token): TokenEmbedding(11857, 300, padding_idx=1)\n",
       "  )\n",
       "  (bigramcnn): Sequential(\n",
       "    (0): Conv1d(300, 200, kernel_size=(3,), stride=(1,), padding=(1,))\n",
       "    (1): ReLU()\n",
       "    (2): Conv1d(200, 100, kernel_size=(3,), stride=(1,), padding=(1,))\n",
       "    (3): ReLU()\n",
       "    (4): Dropout(p=0.3, inplace=False)\n",
       "  )\n",
       "  (trigramcnn): Sequential(\n",
       "    (0): Conv1d(300, 200, kernel_size=(3,), stride=(1,), padding=(1,))\n",
       "    (1): ReLU()\n",
       "    (2): Conv1d(200, 100, kernel_size=(3,), stride=(1,), padding=(1,))\n",
       "    (3): ReLU()\n",
       "    (4): Dropout(p=0.3, inplace=False)\n",
       "  )\n",
       "  (encoder_bigram_first): LSTM(100, 30, batch_first=True, dropout=0.3, bidirectional=True)\n",
       "  (encoder_bigram_second): LSTM(60, 30, batch_first=True, dropout=0.3, bidirectional=True)\n",
       "  (encoder_trigram_first): LSTM(100, 30, batch_first=True, dropout=0.3, bidirectional=True)\n",
       "  (encoder_trigram_second): LSTM(60, 30, batch_first=True, dropout=0.3, bidirectional=True)\n",
       "  (linear): Sequential(\n",
       "    (0): Linear(in_features=240, out_features=30, bias=True)\n",
       "    (1): ReLU()\n",
       "    (2): Linear(in_features=30, out_features=1, bias=True)\n",
       "  )\n",
       ")"
      ]
     },
     "metadata": {},
     "execution_count": 7
    }
   ],
   "source": [
    "from attractivenet import AttractiveNet\n",
    "\n",
    "PATH = './model/CNN_LSTM_20201105-123744_0.378285.95'\n",
    "\n",
    "load_model = AttractiveNet(config).to(AttractiveData.device)\n",
    "load_model.load_state_dict(torch.load(PATH))\n",
    "load_model.eval()"
   ]
  },
  {
   "cell_type": "code",
   "execution_count": 8,
   "metadata": {},
   "outputs": [],
   "source": [
    "def predict_attractive(sentence, category, phase):\n",
    "    indexed_sentence = [AttractiveData.TEXT.vocab.stoi[t] for t in sentence]\n",
    "    indexed_category = [AttractiveData.CATEGORIES_LABEL.vocab.stoi[category]]\n",
    "    tensor_sentence = torch.LongTensor(indexed_sentence).to(AttractiveData.device)\n",
    "    tensor_category = torch.LongTensor(indexed_category).to(AttractiveData.device)\n",
    "\n",
    "    tensor_sentence = tensor_sentence.unsqueeze(0)\n",
    "    # print(tensor_sentence.shape)\n",
    "\n",
    "    prediction = load_model(tensor_sentence, tensor_category, phase=phase)\n",
    "\n",
    "    return prediction"
   ]
  },
  {
   "cell_type": "code",
   "execution_count": 9,
   "metadata": {
    "tags": []
   },
   "outputs": [],
   "source": [
    "# train mean = 3.15, test mean = 2.8\n",
    "predict_list = []\n",
    "with torch.no_grad():\n",
    "    for i, sentence in enumerate(AttractiveData.test_data):\n",
    "        prediction = predict_attractive(sentence.Headline, sentence.Category, 'test')\n",
    "        predict_list.append(prediction.item())\n",
    "        # predict_list.append(prediction.item())\n",
    "AttractiveData.df_test['Label'] = predict_list\n",
    "AttractiveData.df_test[['ID', 'Label']].to_csv(config['save_name'] + '.csv', index=False)"
   ]
  },
  {
   "cell_type": "markdown",
   "metadata": {},
   "source": [
    "## Below for statistics"
   ]
  },
  {
   "cell_type": "code",
   "execution_count": 10,
   "metadata": {},
   "outputs": [],
   "source": [
    "import statistics\n",
    "from sklearn.metrics import mean_squared_error"
   ]
  },
  {
   "cell_type": "code",
   "execution_count": 11,
   "metadata": {},
   "outputs": [],
   "source": [
    "# # train mean = 3.15, test mean = 2.8\n",
    "# train_list = []\n",
    "# for i, sentence in enumerate(AttractiveData.train_data):\n",
    "#     prediction = predict_attractive(sentence.Headline, sentence.Category, 'train')\n",
    "#     train_list.append(prediction.item())\n",
    "#     # train_list.append(prediction.item())\n",
    "# # print(train_list)\n",
    "# mean_squared_error(pd.read_csv('data/train.csv').sort_values(['ID']).Label.to_list(), train_list), statistics.mean(train_list), statistics.stdev(train_list)"
   ]
  },
  {
   "cell_type": "code",
   "execution_count": 12,
   "metadata": {},
   "outputs": [],
   "source": [
    "# train_list[0:5], pd.read_csv('data/train.csv').sort_values(['ID']).Label.to_list()[0:5]"
   ]
  },
  {
   "cell_type": "code",
   "execution_count": 13,
   "metadata": {},
   "outputs": [],
   "source": [
    "# a = AttractiveData.df_train['Label'].to_list()\n",
    "# statistics.mean(a), statistics.stdev(a)"
   ]
  },
  {
   "cell_type": "code",
   "execution_count": 14,
   "metadata": {},
   "outputs": [
    {
     "output_type": "execute_result",
     "data": {
      "text/plain": [
       "(2.853087828547944, 0.3745675152159553)"
      ]
     },
     "metadata": {},
     "execution_count": 14
    }
   ],
   "source": [
    "statistics.mean(predict_list), statistics.stdev(predict_list)"
   ]
  },
  {
   "cell_type": "code",
   "execution_count": 15,
   "metadata": {},
   "outputs": [
    {
     "output_type": "execute_result",
     "data": {
      "text/plain": [
       "(0.019118958591697606, 2.832396388579045, 0.3599597701326745)"
      ]
     },
     "metadata": {},
     "execution_count": 15
    }
   ],
   "source": [
    "baseline_list = pd.read_csv('baseline.csv').sort_values(['ID']).Label.to_list()\n",
    "mean_squared_error(baseline_list, predict_list), statistics.mean(baseline_list), statistics.stdev(baseline_list)"
   ]
  },
  {
   "cell_type": "code",
   "execution_count": null,
   "metadata": {},
   "outputs": [],
   "source": []
  },
  {
   "cell_type": "code",
   "execution_count": 18,
   "metadata": {},
   "outputs": [
    {
     "output_type": "execute_result",
     "data": {
      "text/plain": [
       "0.1609754968529207"
      ]
     },
     "metadata": {},
     "execution_count": 18
    }
   ],
   "source": [
    "mean_squared_error(pd.read_csv('baseline.csv').sort_values(['ID']).Label.to_list(), pd.read_csv('./predict/ensemble.csv').sort_values(['ID']).Label.to_list())"
   ]
  },
  {
   "cell_type": "code",
   "execution_count": 10,
   "metadata": {},
   "outputs": [],
   "source": [
    "from sklearn.model_selection import KFold\n",
    "import numpy as np"
   ]
  },
  {
   "cell_type": "code",
   "execution_count": 11,
   "metadata": {},
   "outputs": [],
   "source": []
  },
  {
   "cell_type": "code",
   "execution_count": 12,
   "metadata": {},
   "outputs": [
    {
     "output_type": "execute_result",
     "data": {
      "text/plain": [
       "2040"
      ]
     },
     "metadata": {},
     "execution_count": 12
    }
   ],
   "source": [
    "len(AttractiveData.train_data.examples)"
   ]
  },
  {
   "cell_type": "code",
   "execution_count": 13,
   "metadata": {},
   "outputs": [],
   "source": []
  },
  {
   "cell_type": "code",
   "execution_count": null,
   "metadata": {},
   "outputs": [],
   "source": []
  }
 ],
 "metadata": {
  "kernelspec": {
   "display_name": "DS_hw2",
   "language": "python",
   "name": "ds_hw2"
  },
  "language_info": {
   "codemirror_mode": {
    "name": "ipython",
    "version": 3
   },
   "file_extension": ".py",
   "mimetype": "text/x-python",
   "name": "python",
   "nbconvert_exporter": "python",
   "pygments_lexer": "ipython3",
   "version": "3.6.12-final"
  }
 },
 "nbformat": 4,
 "nbformat_minor": 4
}