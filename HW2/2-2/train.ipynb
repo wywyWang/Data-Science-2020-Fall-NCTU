{
 "cells": [
  {
   "cell_type": "code",
   "execution_count": 1,
   "metadata": {},
   "outputs": [],
   "source": [
    "# common packages\n",
    "import pandas as pd\n",
    "import time\n",
    "\n",
    "# # DL framework\n",
    "import torch\n",
    "from torchtext import data\n",
    "\n",
    "from attractivedata import AttractiveData\n",
    "from trainer import AttractiveTrainer"
   ]
  },
  {
   "cell_type": "code",
   "execution_count": 2,
   "metadata": {},
   "outputs": [],
   "source": [
    "seed_value = 42\n",
    "torch.manual_seed(seed_value)\n",
    "torch.cuda.manual_seed(seed_value)\n",
    "torch.cuda.manual_seed_all(seed_value) # gpu vars\n",
    "torch.backends.cudnn.deterministic = True  #needed\n",
    "torch.backends.cudnn.benchmark = False"
   ]
  },
  {
   "cell_type": "markdown",
   "metadata": {},
   "source": [
    "# TODO: \n",
    "- [ ] cnn plus residual network\n",
    "- [ ] word embedding multiply tfidf\n",
    "- [ ] use word2vec"
   ]
  },
  {
   "cell_type": "markdown",
   "metadata": {},
   "source": [
    "## Load and prepare data"
   ]
  },
  {
   "cell_type": "code",
   "execution_count": 3,
   "metadata": {},
   "outputs": [],
   "source": [
    "train_file = 'data/train.csv'\n",
    "val_file = 'example/val.csv'\n",
    "test_file = 'data/test.csv'\n",
    "pretrained_file = 'glove.840B.300d'\n",
    "config = {\n",
    "    'max_seq': 40,\n",
    "    'min_freq': 0,\n",
    "    'batch_size': 64,\n",
    "    'pretrained_file': pretrained_file\n",
    "}\n"
   ]
  },
  {
   "cell_type": "code",
   "execution_count": 4,
   "metadata": {},
   "outputs": [],
   "source": [
    "AttractiveData = AttractiveData(train_file, val_file, test_file, pretrained_file, config)"
   ]
  },
  {
   "cell_type": "code",
   "execution_count": 5,
   "metadata": {},
   "outputs": [],
   "source": [
    "# for i, sentence in enumerate(AttractiveData.test_data):\n",
    "#     if i == 3:\n",
    "#         print(vars(AttractiveData.train_data[i]), vars(sentence))"
   ]
  },
  {
   "cell_type": "code",
   "execution_count": 6,
   "metadata": {},
   "outputs": [
    {
     "output_type": "execute_result",
     "data": {
      "text/plain": [
       "38"
      ]
     },
     "metadata": {},
     "execution_count": 6
    }
   ],
   "source": [
    "max_len = 0\n",
    "a = AttractiveData.train_data\n",
    "for i in range(len(a)):\n",
    "    if len(a[i].Headline) >= max_len:\n",
    "        max_len = len(a[i].Headline)\n",
    "max_len"
   ]
  },
  {
   "cell_type": "markdown",
   "metadata": {},
   "source": [
    "## Start to train"
   ]
  },
  {
   "cell_type": "code",
   "execution_count": 7,
   "metadata": {},
   "outputs": [
    {
     "output_type": "stream",
     "name": "stdout",
     "text": [
      "torch.Size([12699, 300])\n"
     ]
    }
   ],
   "source": [
    "config['timestr'] = time.strftime(\"%Y%m%d-%H%M%S\")\n",
    "config['save_name'] = 'CNN_LSTM'\n",
    "config['input_dim'] = len(AttractiveData.TEXT.vocab)\n",
    "config['embedding_dim'] = 300\n",
    "config['category_dim'] = len(AttractiveData.CATEGORIES_LABEL.vocab)\n",
    "config['category_embedding_dim'] = 10\n",
    "config['hidden_dim'] = 30\n",
    "config['output_dim'] = 1\n",
    "config['log_steps'] = 10\n",
    "config['epochs'] = 200\n",
    "config['lr'] = {\n",
    "    'encoder': 1e-5,\n",
    "    'embedding': 6e-6,\n",
    "    'linear': 1e-5\n",
    "}\n",
    "config['num_layers'] = 1\n",
    "config['kernel_size'] = 3\n",
    "config['dropout'] = 0.3\n",
    "config['train_len'] = AttractiveData.train_len\n",
    "config['val_len'] = AttractiveData.val_len\n",
    "config['test_len'] = AttractiveData.test_len\n",
    "\n",
    "pretrained_embeddings = AttractiveData.TEXT.vocab.vectors\n",
    "print(pretrained_embeddings.shape)"
   ]
  },
  {
   "cell_type": "code",
   "execution_count": 8,
   "metadata": {},
   "outputs": [],
   "source": [
    "AttractiveTrainer = AttractiveTrainer(config, AttractiveData.device, AttractiveData.trainloader, AttractiveData.valloader, pretrained_embeddings)"
   ]
  },
  {
   "cell_type": "code",
   "execution_count": 9,
   "metadata": {},
   "outputs": [
    {
     "output_type": "execute_result",
     "data": {
      "text/plain": [
       "(AttractiveNet(\n",
       "   (embedding): AttractiveEmbedding(\n",
       "     (token): TokenEmbedding(12699, 300, padding_idx=1)\n",
       "   )\n",
       "   (category_embedding): CategoryEmbedding(18, 10, padding_idx=0)\n",
       "   (bigramcnn): Sequential(\n",
       "     (0): Conv1d(300, 200, kernel_size=(3,), stride=(1,), padding=(1,))\n",
       "     (1): ReLU()\n",
       "     (2): Conv1d(200, 100, kernel_size=(3,), stride=(1,), padding=(1,))\n",
       "     (3): ReLU()\n",
       "     (4): Dropout(p=0.3, inplace=False)\n",
       "   )\n",
       "   (trigramcnn): Sequential(\n",
       "     (0): Conv1d(300, 200, kernel_size=(3,), stride=(1,), padding=(1,))\n",
       "     (1): ReLU()\n",
       "     (2): Conv1d(200, 100, kernel_size=(3,), stride=(1,), padding=(1,))\n",
       "     (3): ReLU()\n",
       "     (4): Dropout(p=0.3, inplace=False)\n",
       "   )\n",
       "   (encoder_bigram_first): LSTM(100, 30, batch_first=True, dropout=0.3, bidirectional=True)\n",
       "   (encoder_trigram_first): LSTM(100, 30, batch_first=True, dropout=0.3, bidirectional=True)\n",
       "   (linear): Sequential(\n",
       "     (0): Linear(in_features=134, out_features=30, bias=True)\n",
       "     (1): ReLU()\n",
       "     (2): Linear(in_features=30, out_features=1, bias=True)\n",
       "   )\n",
       " ),\n",
       " 4357921,\n",
       " 4357921)"
      ]
     },
     "metadata": {},
     "execution_count": 9
    }
   ],
   "source": [
    "AttractiveTrainer.model, AttractiveTrainer.config['total_params'], AttractiveTrainer.config['total_learned_params']"
   ]
  },
  {
   "cell_type": "code",
   "execution_count": 10,
   "metadata": {
    "tags": [
     "outputPrepend"
    ]
   },
   "outputs": [
    {
     "output_type": "stream",
     "name": "stderr",
     "text": [
      " loss: 0.4500784518671971 | val loss: 0.4062574371403339 |\n",
      "Epoch:  24%|██▍       | 48/200 [00:19<01:06,  2.27it/s]\n",
      "EP_47 | train loss: 0.4444047946555942 | val loss: 0.39995288965748804 |\n",
      "Epoch:  24%|██▍       | 49/200 [00:20<01:06,  2.26it/s]\n",
      "EP_48 | train loss: 0.4406018490884818 | val loss: 0.3964492269590789 |\n",
      "Epoch:  25%|██▌       | 50/200 [00:20<01:04,  2.31it/s]\n",
      "EP_49 | train loss: 0.4404975358177634 | val loss: 0.3929104956926084 |\n",
      "Epoch:  26%|██▌       | 51/200 [00:20<01:04,  2.32it/s]\n",
      "EP_50 | train loss: 0.44041988522398706 | val loss: 0.3940595119607215 |\n",
      "Epoch:  26%|██▌       | 52/200 [00:21<01:03,  2.34it/s]\n",
      "EP_51 | train loss: 0.4460962613423665 | val loss: 0.40334950475131764 |\n",
      "Epoch:  26%|██▋       | 53/200 [00:21<01:01,  2.38it/s]\n",
      "EP_52 | train loss: 0.44364272379407693 | val loss: 0.3988342495525585 |\n",
      "Epoch:  27%|██▋       | 54/200 [00:22<01:00,  2.42it/s]\n",
      "EP_53 | train loss: 0.43674978555417526 | val loss: 0.38383230041055116 |\n",
      "Epoch:  28%|██▊       | 55/200 [00:22<00:58,  2.47it/s]\n",
      "EP_54 | train loss: 0.43473432484795066 | val loss: 0.3816460102212195 |\n",
      "Epoch:  28%|██▊       | 56/200 [00:22<00:59,  2.44it/s]\n",
      "EP_55 | train loss: 0.4328655037225462 | val loss: 0.38303296706255746 |\n",
      "Epoch:  28%|██▊       | 57/200 [00:23<00:58,  2.45it/s]\n",
      "EP_56 | train loss: 0.4370626627230177 | val loss: 0.3879919461175507 |\n",
      "Epoch:  29%|██▉       | 58/200 [00:23<00:59,  2.37it/s]\n",
      "EP_57 | train loss: 0.4322776532640644 | val loss: 0.37935424785988003 |\n",
      "Epoch:  30%|██▉       | 59/200 [00:24<00:59,  2.36it/s]\n",
      "EP_58 | train loss: 0.4303932367586622 | val loss: 0.3781297487371108 |\n",
      "Epoch:  30%|███       | 60/200 [00:24<00:58,  2.41it/s]\n",
      "EP_59 | train loss: 0.42909143672269934 | val loss: 0.37537913754874586 |\n",
      "Epoch:  30%|███       | 61/200 [00:24<00:57,  2.41it/s]\n",
      "EP_60 | train loss: 0.42827022870381676 | val loss: 0.3723058864182117 |\n",
      "Epoch:  31%|███       | 62/200 [00:25<00:57,  2.42it/s]\n",
      "EP_61 | train loss: 0.4292766197054994 | val loss: 0.3760254374321769 |\n",
      "Epoch:  32%|███▏      | 63/200 [00:25<00:55,  2.47it/s]\n",
      "EP_62 | train loss: 0.42477178854100844 | val loss: 0.36722620620447044 |\n",
      "Epoch:  32%|███▏      | 64/200 [00:26<00:54,  2.48it/s]\n",
      "EP_63 | train loss: 0.4252006727106431 | val loss: 0.37022535035423204 |\n",
      "Epoch:  32%|███▎      | 65/200 [00:26<00:55,  2.45it/s]\n",
      "EP_64 | train loss: 0.42310586349636903 | val loss: 0.3690596894890654 |\n",
      "Epoch:  33%|███▎      | 66/200 [00:27<00:55,  2.41it/s]\n",
      "EP_65 | train loss: 0.42258648778878005 | val loss: 0.3658785294083988 |\n",
      "Epoch:  34%|███▎      | 67/200 [00:27<00:55,  2.38it/s]\n",
      "EP_66 | train loss: 0.4190128999597886 | val loss: 0.3625175900319043 |\n",
      "Epoch:  34%|███▍      | 68/200 [00:27<00:55,  2.38it/s]\n",
      "EP_67 | train loss: 0.41880049238017963 | val loss: 0.3594108486876768 |\n",
      "Epoch:  34%|███▍      | 69/200 [00:28<00:53,  2.44it/s]\n",
      "EP_68 | train loss: 0.42147937568963745 | val loss: 0.3684500192894655 |\n",
      "Epoch:  35%|███▌      | 70/200 [00:28<00:52,  2.45it/s]\n",
      "EP_69 | train loss: 0.4157784022536932 | val loss: 0.35472965357350367 |\n",
      "Epoch:  36%|███▌      | 71/200 [00:29<00:52,  2.44it/s]\n",
      "EP_70 | train loss: 0.4159192758447984 | val loss: 0.3531258906803879 |\n",
      "Epoch:  36%|███▌      | 72/200 [00:29<00:52,  2.45it/s]\n",
      "EP_71 | train loss: 0.4201562301785338 | val loss: 0.3656610583557802 |\n",
      "Epoch:  36%|███▋      | 73/200 [00:29<00:51,  2.46it/s]\n",
      "EP_72 | train loss: 0.4151923469468659 | val loss: 0.35761372891126897 |\n",
      "Epoch:  37%|███▋      | 74/200 [00:30<00:50,  2.48it/s]\n",
      "EP_73 | train loss: 0.41139203707377114 | val loss: 0.35135911931009856 |\n",
      "Epoch:  38%|███▊      | 75/200 [00:30<00:49,  2.51it/s]\n",
      "EP_74 | train loss: 0.4089786576289757 | val loss: 0.3477565038437937 |\n",
      "Epoch:  38%|███▊      | 76/200 [00:31<00:49,  2.50it/s]\n",
      "EP_75 | train loss: 0.40913586803511076 | val loss: 0.34626058211513594 |\n",
      "Epoch:  38%|███▊      | 77/200 [00:31<00:49,  2.51it/s]\n",
      "EP_76 | train loss: 0.40968321631936466 | val loss: 0.3511171621434829 |\n",
      "Epoch:  39%|███▉      | 78/200 [00:31<00:48,  2.51it/s]\n",
      "EP_77 | train loss: 0.4099513932770374 | val loss: 0.3413204503994362 |\n",
      "Epoch:  40%|███▉      | 79/200 [00:32<00:47,  2.54it/s]\n",
      "EP_78 | train loss: 0.40512954113530175 | val loss: 0.3435651546015459 |\n",
      "Epoch:  40%|████      | 80/200 [00:32<00:47,  2.53it/s]\n",
      "EP_79 | train loss: 0.40680647784588386 | val loss: 0.3496607334590426 |\n",
      "Epoch:  40%|████      | 81/200 [00:33<00:47,  2.49it/s]\n",
      "EP_80 | train loss: 0.4057755330029656 | val loss: 0.3479321172424391 |\n",
      "Epoch:  41%|████      | 82/200 [00:33<00:47,  2.48it/s]\n",
      "EP_81 | train loss: 0.40256254813250375 | val loss: 0.3417231808690464 |\n",
      "Epoch:  42%|████▏     | 83/200 [00:33<00:47,  2.47it/s]\n",
      "EP_82 | train loss: 0.3999088586545458 | val loss: 0.33690455117646384 |\n",
      "Epoch:  42%|████▏     | 84/200 [00:34<00:47,  2.46it/s]\n",
      "EP_83 | train loss: 0.3976525194504682 | val loss: 0.3341141822291355 |\n",
      "Epoch:  42%|████▎     | 85/200 [00:34<00:47,  2.44it/s]\n",
      "EP_84 | train loss: 0.3973592945173675 | val loss: 0.3339765778943604 |\n",
      "Epoch:  43%|████▎     | 86/200 [00:35<00:47,  2.42it/s]\n",
      "EP_85 | train loss: 0.3952480699501786 | val loss: 0.33366798536450254 |\n",
      "Epoch:  44%|████▎     | 87/200 [00:35<00:46,  2.42it/s]\n",
      "EP_86 | train loss: 0.3964540902306052 | val loss: 0.33836740635189355 |\n",
      "Epoch:  44%|████▍     | 88/200 [00:35<00:45,  2.44it/s]\n",
      "EP_87 | train loss: 0.3944532113916734 | val loss: 0.33213532263157414 |\n",
      "Epoch:  44%|████▍     | 89/200 [00:36<00:44,  2.51it/s]\n",
      "EP_88 | train loss: 0.39009527786105286 | val loss: 0.33007578055063885 |\n",
      "Epoch:  45%|████▌     | 90/200 [00:36<00:43,  2.52it/s]\n",
      "EP_89 | train loss: 0.3897598191803577 | val loss: 0.33002689626871373 |\n",
      "Epoch:  46%|████▌     | 91/200 [00:37<00:45,  2.39it/s]\n",
      "EP_90 | train loss: 0.3917456514695111 | val loss: 0.3332241738543791 |\n",
      "Epoch:  46%|████▌     | 92/200 [00:37<00:44,  2.42it/s]\n",
      "EP_91 | train loss: 0.38775799975675695 | val loss: 0.3290570132872638 |\n",
      "Epoch:  46%|████▋     | 93/200 [00:37<00:43,  2.45it/s]\n",
      "EP_92 | train loss: 0.38763379302679324 | val loss: 0.32911476609753626 |\n",
      "Epoch:  47%|████▋     | 94/200 [00:38<00:42,  2.48it/s]\n",
      "EP_93 | train loss: 0.39047808647155763 | val loss: 0.3349088427482867 |\n",
      "Epoch:  48%|████▊     | 95/200 [00:38<00:42,  2.48it/s]\n",
      "EP_94 | train loss: 0.38185214248358035 | val loss: 0.320821407086709 |\n",
      "Epoch:  48%|████▊     | 96/200 [00:39<00:42,  2.45it/s]\n",
      "EP_95 | train loss: 0.379297763226079 | val loss: 0.31858687657935947 |\n",
      "Epoch:  48%|████▊     | 97/200 [00:39<00:41,  2.46it/s]\n",
      "EP_96 | train loss: 0.3777529267703786 | val loss: 0.3193318300387439 |\n",
      "Epoch:  49%|████▉     | 98/200 [00:39<00:41,  2.47it/s]\n",
      "EP_97 | train loss: 0.3759740072138169 | val loss: 0.3164190880808176 |\n",
      "Epoch:  50%|████▉     | 99/200 [00:40<00:40,  2.49it/s]\n",
      "EP_98 | train loss: 0.3746983528137207 | val loss: 0.315957936001759 |\n",
      "Epoch:  50%|█████     | 100/200 [00:40<00:39,  2.52it/s]\n",
      "EP_99 | train loss: 0.3737458144917208 | val loss: 0.31455562599733766 |\n",
      "Epoch:  50%|█████     | 101/200 [00:41<00:39,  2.50it/s]\n",
      "EP_100 | train loss: 0.3726376070695765 | val loss: 0.31603627169833465 |\n",
      "Epoch:  51%|█████     | 102/200 [00:41<00:40,  2.42it/s]\n",
      "EP_101 | train loss: 0.37041206546858246 | val loss: 0.31228553372270923 |\n",
      "Epoch:  52%|█████▏    | 103/200 [00:42<00:39,  2.46it/s]\n",
      "EP_102 | train loss: 0.3739592047298656 | val loss: 0.31952772333341484 |\n",
      "Epoch:  52%|█████▏    | 104/200 [00:42<00:38,  2.48it/s]\n",
      "EP_103 | train loss: 0.3691204781625785 | val loss: 0.31644105940472844 |\n",
      "Epoch:  52%|█████▎    | 105/200 [00:42<00:37,  2.52it/s]\n",
      "EP_104 | train loss: 0.36453146747514314 | val loss: 0.30933056742537257 |\n",
      "Epoch:  53%|█████▎    | 106/200 [00:43<00:37,  2.52it/s]\n",
      "EP_105 | train loss: 0.36442586300419827 | val loss: 0.3095673959629208 |\n",
      "Epoch:  54%|█████▎    | 107/200 [00:43<00:36,  2.51it/s]\n",
      "EP_106 | train loss: 0.36004492067823224 | val loss: 0.3052958787656298 |\n",
      "Epoch:  54%|█████▍    | 108/200 [00:43<00:36,  2.50it/s]\n",
      "EP_107 | train loss: 0.3621790021073584 | val loss: 0.3121208694635653 |\n",
      "Epoch:  55%|█████▍    | 109/200 [00:44<00:36,  2.51it/s]\n",
      "EP_108 | train loss: 0.3616091803008435 | val loss: 0.309639292604783 |\n",
      "Epoch:  55%|█████▌    | 110/200 [00:44<00:35,  2.53it/s]\n",
      "EP_109 | train loss: 0.3565710516536937 | val loss: 0.3045421894274506 |\n",
      "Epoch:  56%|█████▌    | 111/200 [00:45<00:36,  2.42it/s]\n",
      "EP_110 | train loss: 0.35219640357821597 | val loss: 0.30214136546733333 |\n",
      "Epoch:  56%|█████▌    | 112/200 [00:45<00:35,  2.46it/s]\n",
      "EP_111 | train loss: 0.34952002927368764 | val loss: 0.2996396737940171 |\n",
      "Epoch:  56%|█████▋    | 113/200 [00:46<00:35,  2.48it/s]\n",
      "EP_112 | train loss: 0.348014227549235 | val loss: 0.298772196559345 |\n",
      "Epoch:  57%|█████▋    | 114/200 [00:46<00:34,  2.52it/s]\n",
      "EP_113 | train loss: 0.35072646608539654 | val loss: 0.3023971401008905 |\n",
      "Epoch:  57%|█████▊    | 115/200 [00:46<00:33,  2.55it/s]\n",
      "EP_114 | train loss: 0.35241889579623353 | val loss: 0.30535410490690496 |\n",
      "Epoch:  58%|█████▊    | 116/200 [00:47<00:33,  2.53it/s]\n",
      "EP_115 | train loss: 0.34379531495711385 | val loss: 0.2966667425398733 |\n",
      "Epoch:  58%|█████▊    | 117/200 [00:47<00:32,  2.56it/s]\n",
      "EP_116 | train loss: 0.3528874294430602 | val loss: 0.30727614316285823 |\n",
      "Epoch:  59%|█████▉    | 118/200 [00:47<00:31,  2.57it/s]\n",
      "EP_117 | train loss: 0.338661592614417 | val loss: 0.2940390484005797 |\n",
      "Epoch:  60%|█████▉    | 119/200 [00:48<00:31,  2.59it/s]\n",
      "EP_118 | train loss: 0.3395819570503983 | val loss: 0.29463881429503946 |\n",
      "Epoch:  60%|██████    | 120/200 [00:48<00:31,  2.52it/s]\n",
      "EP_119 | train loss: 0.3322723547617594 | val loss: 0.28878548916648417 |\n",
      "Epoch:  60%|██████    | 121/200 [00:49<00:31,  2.49it/s]\n",
      "EP_120 | train loss: 0.33022286845188514 | val loss: 0.28660690667582495 |\n",
      "Epoch:  61%|██████    | 122/200 [00:49<00:31,  2.52it/s]\n",
      "EP_121 | train loss: 0.32808656458761176 | val loss: 0.2849766138721915 |\n",
      "Epoch:  62%|██████▏   | 123/200 [00:49<00:30,  2.52it/s]\n",
      "EP_122 | train loss: 0.3254077537387025 | val loss: 0.2827758666347055 |\n",
      "Epoch:  62%|██████▏   | 124/200 [00:50<00:29,  2.56it/s]\n",
      "EP_123 | train loss: 0.328662101427714 | val loss: 0.28801066209288206 |\n",
      "Epoch:  62%|██████▎   | 125/200 [00:50<00:29,  2.58it/s]\n",
      "EP_124 | train loss: 0.3200566226360845 | val loss: 0.27885987069092544 |\n",
      "Epoch:  63%|██████▎   | 126/200 [00:51<00:29,  2.55it/s]\n",
      "EP_125 | train loss: 0.3187633808921365 | val loss: 0.27757812481300503 |\n",
      "Epoch:  64%|██████▎   | 127/200 [00:51<00:28,  2.57it/s]\n",
      "EP_126 | train loss: 0.31622509675867416 | val loss: 0.27676791770785464 |\n",
      "Epoch:  64%|██████▍   | 128/200 [00:51<00:27,  2.59it/s]\n",
      "EP_127 | train loss: 0.31419792455785417 | val loss: 0.2759936779153113 |\n",
      "Epoch:  64%|██████▍   | 129/200 [00:52<00:27,  2.60it/s]\n",
      "EP_128 | train loss: 0.3146268419190949 | val loss: 0.2773129998468885 |\n",
      "Epoch:  65%|██████▌   | 130/200 [00:52<00:27,  2.51it/s]\n",
      "EP_129 | train loss: 0.30711148720161585 | val loss: 0.2718059747826819 |\n",
      "Epoch:  66%|██████▌   | 131/200 [00:53<00:27,  2.47it/s]\n",
      "EP_130 | train loss: 0.309473160201428 | val loss: 0.2750536811118032 |\n",
      "Epoch:  66%|██████▌   | 132/200 [00:53<00:27,  2.48it/s]\n",
      "EP_131 | train loss: 0.30375024851630716 | val loss: 0.27073921818359226 |\n",
      "Epoch:  66%|██████▋   | 133/200 [00:53<00:27,  2.48it/s]\n",
      "EP_132 | train loss: 0.29802225804796406 | val loss: 0.2660425585858962 |\n",
      "Epoch:  67%|██████▋   | 134/200 [00:54<00:26,  2.50it/s]\n",
      "EP_133 | train loss: 0.30035817062153536 | val loss: 0.2679391649423861 |\n",
      "Epoch:  68%|██████▊   | 135/200 [00:54<00:25,  2.50it/s]\n",
      "EP_134 | train loss: 0.2935142400217991 | val loss: 0.26232778207928525 |\n",
      "Epoch:  68%|██████▊   | 136/200 [00:55<00:25,  2.48it/s]\n",
      "EP_135 | train loss: 0.2897013626846613 | val loss: 0.26106350445279886 |\n",
      "Epoch:  68%|██████▊   | 137/200 [00:55<00:25,  2.47it/s]\n",
      "EP_136 | train loss: 0.28735841021818276 | val loss: 0.2570089691994237 |\n",
      "Epoch:  69%|██████▉   | 138/200 [00:55<00:25,  2.45it/s]\n",
      "EP_137 | train loss: 0.2892143020442888 | val loss: 0.259197905367496 |\n",
      "Epoch:  70%|██████▉   | 139/200 [00:56<00:24,  2.50it/s]\n",
      "EP_138 | train loss: 0.28218393419303145 | val loss: 0.25410040278060764 |\n",
      "Epoch:  70%|███████   | 140/200 [00:56<00:23,  2.51it/s]\n",
      "EP_139 | train loss: 0.2824723491481706 | val loss: 0.2540409372133367 |\n",
      "Epoch:  70%|███████   | 141/200 [00:57<00:23,  2.49it/s]\n",
      "EP_140 | train loss: 0.2797453361399033 | val loss: 0.25260873460302163 |\n",
      "Epoch:  71%|███████   | 142/200 [00:57<00:23,  2.47it/s]\n",
      "EP_141 | train loss: 0.2758010817509072 | val loss: 0.2488254221046672 |\n",
      "Epoch:  72%|███████▏  | 143/200 [00:57<00:23,  2.41it/s]\n",
      "EP_142 | train loss: 0.2692687544168211 | val loss: 0.24546613997104122 |\n",
      "Epoch:  72%|███████▏  | 144/200 [00:58<00:23,  2.43it/s]\n",
      "EP_143 | train loss: 0.2664290830200794 | val loss: 0.24176152956252003 |\n",
      "Epoch:  72%|███████▎  | 145/200 [00:58<00:22,  2.48it/s]\n",
      "EP_144 | train loss: 0.26390182878456864 | val loss: 0.2413234231518764 |\n",
      "Epoch:  73%|███████▎  | 146/200 [00:59<00:22,  2.44it/s]\n",
      "EP_145 | train loss: 0.2607711198283177 | val loss: 0.23657402863689497 |\n",
      "Epoch:  74%|███████▎  | 147/200 [00:59<00:21,  2.50it/s]\n",
      "EP_146 | train loss: 0.2578392645891975 | val loss: 0.2346390935720182 |\n",
      "Epoch:  74%|███████▍  | 148/200 [00:59<00:20,  2.53it/s]\n",
      "EP_147 | train loss: 0.25423461409176096 | val loss: 0.23256336415515227 |\n",
      "Epoch:  74%|███████▍  | 149/200 [01:00<00:20,  2.54it/s]\n",
      "EP_148 | train loss: 0.2505062224818211 | val loss: 0.23037929862153297 |\n",
      "Epoch:  75%|███████▌  | 150/200 [01:00<00:19,  2.56it/s]\n",
      "EP_149 | train loss: 0.25458998680114747 | val loss: 0.23021851918276617 |\n",
      "Epoch:  76%|███████▌  | 151/200 [01:01<00:19,  2.54it/s]\n",
      "EP_150 | train loss: 0.24425776612524894 | val loss: 0.22649278827742034 |\n",
      "Epoch:  76%|███████▌  | 152/200 [01:01<00:18,  2.56it/s]\n",
      "EP_151 | train loss: 0.24099689324696857 | val loss: 0.22100242913938037 |\n",
      "Epoch:  76%|███████▋  | 153/200 [01:01<00:18,  2.59it/s]\n",
      "EP_152 | train loss: 0.23876685535206515 | val loss: 0.21895899083100112 |\n",
      "Epoch:  77%|███████▋  | 154/200 [01:02<00:17,  2.60it/s]\n",
      "EP_153 | train loss: 0.23513459037331974 | val loss: 0.2188205882614734 |\n",
      "Epoch:  78%|███████▊  | 155/200 [01:02<00:17,  2.58it/s]\n",
      "EP_154 | train loss: 0.23081315311731077 | val loss: 0.21362044881371892 |\n",
      "Epoch:  78%|███████▊  | 156/200 [01:03<00:17,  2.55it/s]\n",
      "EP_155 | train loss: 0.22787411633659813 | val loss: 0.21136853975408218 |\n",
      "Epoch:  78%|███████▊  | 157/200 [01:03<00:16,  2.56it/s]\n",
      "EP_156 | train loss: 0.2311901555341833 | val loss: 0.20809354501612046 |\n",
      "Epoch:  79%|███████▉  | 158/200 [01:03<00:16,  2.57it/s]\n",
      "EP_157 | train loss: 0.22220560288896749 | val loss: 0.2034112343601152 |\n",
      "Epoch:  80%|███████▉  | 159/200 [01:04<00:15,  2.59it/s]\n",
      "EP_158 | train loss: 0.21865691764681947 | val loss: 0.20088370173585182 |\n",
      "Epoch:  80%|████████  | 160/200 [01:04<00:15,  2.60it/s]\n",
      "EP_159 | train loss: 0.21805828552620082 | val loss: 0.19747909786654452 |\n",
      "Epoch:  80%|████████  | 161/200 [01:04<00:15,  2.58it/s]\n",
      "EP_160 | train loss: 0.2320508232303694 | val loss: 0.2052538184558644 |\n",
      "Epoch:  81%|████████  | 162/200 [01:05<00:14,  2.55it/s]\n",
      "EP_161 | train loss: 0.20835018157958984 | val loss: 0.1965427889543421 |\n",
      "Epoch:  82%|████████▏ | 163/200 [01:05<00:14,  2.54it/s]\n",
      "EP_162 | train loss: 0.2076464480044795 | val loss: 0.1879003895264046 |\n",
      "Epoch:  82%|████████▏ | 164/200 [01:06<00:14,  2.49it/s]\n",
      "EP_163 | train loss: 0.20145324608858894 | val loss: 0.1890546884022507 |\n",
      "Epoch:  82%|████████▎ | 165/200 [01:06<00:13,  2.50it/s]\n",
      "EP_164 | train loss: 0.19783565296846278 | val loss: 0.18336194636774997 |\n",
      "Epoch:  83%|████████▎ | 166/200 [01:06<00:13,  2.47it/s]\n",
      "EP_165 | train loss: 0.19394175538829728 | val loss: 0.1764669652078666 |\n",
      "Epoch:  84%|████████▎ | 167/200 [01:07<00:13,  2.45it/s]\n",
      "EP_166 | train loss: 0.18969524514441397 | val loss: 0.1750865379969279 |\n",
      "Epoch:  84%|████████▍ | 168/200 [01:07<00:13,  2.37it/s]\n",
      "EP_167 | train loss: 0.18862117365294812 | val loss: 0.17059355039222568 |\n",
      "Epoch:  84%|████████▍ | 169/200 [01:08<00:13,  2.33it/s]\n",
      "EP_168 | train loss: 0.18291271387362013 | val loss: 0.17018385026969163 |\n",
      "Epoch:  85%|████████▌ | 170/200 [01:08<00:13,  2.28it/s]\n",
      "EP_169 | train loss: 0.18009704000809612 | val loss: 0.16381272322991314 |\n",
      "Epoch:  86%|████████▌ | 171/200 [01:09<00:12,  2.26it/s]\n",
      "EP_170 | train loss: 0.17584128286324296 | val loss: 0.16195140399184882 |\n",
      "Epoch:  86%|████████▌ | 172/200 [01:09<00:12,  2.28it/s]\n",
      "EP_171 | train loss: 0.17263207552479762 | val loss: 0.1625036550503151 |\n",
      "Epoch:  86%|████████▋ | 173/200 [01:10<00:11,  2.32it/s]\n",
      "EP_172 | train loss: 0.1701217440997853 | val loss: 0.15502667485498914 |\n",
      "Epoch:  87%|████████▋ | 174/200 [01:10<00:11,  2.30it/s]\n",
      "EP_173 | train loss: 0.1705563126825819 | val loss: 0.1511426427785088 |\n",
      "Epoch:  88%|████████▊ | 175/200 [01:10<00:10,  2.30it/s]\n",
      "EP_174 | train loss: 0.17155110204921048 | val loss: 0.15060314828274296 |\n",
      "Epoch:  88%|████████▊ | 176/200 [01:11<00:10,  2.35it/s]\n",
      "EP_175 | train loss: 0.16802357037862142 | val loss: 0.14768633889217003 |\n",
      "Epoch:  88%|████████▊ | 177/200 [01:11<00:09,  2.34it/s]\n",
      "EP_176 | train loss: 0.16182415438633338 | val loss: 0.1435173925231485 |\n",
      "Epoch:  89%|████████▉ | 178/200 [01:12<00:09,  2.34it/s]\n",
      "EP_177 | train loss: 0.1555876986653197 | val loss: 0.15167057514190674 |\n",
      "Epoch:  90%|████████▉ | 179/200 [01:12<00:08,  2.38it/s]\n",
      "EP_178 | train loss: 0.14947284366570268 | val loss: 0.13331054004968382 |\n",
      "Epoch:  90%|█████████ | 180/200 [01:13<00:08,  2.39it/s]\n",
      "EP_179 | train loss: 0.1485951582590739 | val loss: 0.1322539857789582 |\n",
      "Epoch:  90%|█████████ | 181/200 [01:13<00:08,  2.37it/s]\n",
      "EP_180 | train loss: 0.1466375192006429 | val loss: 0.12920664805991977 |\n",
      "Epoch:  91%|█████████ | 182/200 [01:13<00:07,  2.42it/s]\n",
      "EP_181 | train loss: 0.13664669780170216 | val loss: 0.12449465779697194 |\n",
      "Epoch:  92%|█████████▏| 183/200 [01:14<00:06,  2.45it/s]\n",
      "EP_182 | train loss: 0.13361629387911628 | val loss: 0.12370765764339298 |\n",
      "Epoch:  92%|█████████▏| 184/200 [01:14<00:06,  2.47it/s]\n",
      "EP_183 | train loss: 0.14847618528440887 | val loss: 0.1263755618357191 |\n",
      "Epoch:  92%|█████████▎| 185/200 [01:15<00:06,  2.47it/s]\n",
      "EP_184 | train loss: 0.12608369775846892 | val loss: 0.1188256550653308 |\n",
      "Epoch:  93%|█████████▎| 186/200 [01:15<00:05,  2.41it/s]\n",
      "EP_185 | train loss: 0.12252234477622836 | val loss: 0.11507329257095561 |\n",
      "Epoch:  94%|█████████▎| 187/200 [01:15<00:05,  2.44it/s]\n",
      "EP_186 | train loss: 0.1238552913946264 | val loss: 0.10916404747495465 |\n",
      "Epoch:  94%|█████████▍| 188/200 [01:16<00:04,  2.49it/s]\n",
      "EP_187 | train loss: 0.12097055164037966 | val loss: 0.10647304472970028 |\n",
      "Epoch:  94%|█████████▍| 189/200 [01:16<00:04,  2.51it/s]\n",
      "EP_188 | train loss: 0.11822836141960294 | val loss: 0.10323328597872865 |\n",
      "Epoch:  95%|█████████▌| 190/200 [01:17<00:03,  2.52it/s]\n",
      "EP_189 | train loss: 0.10848630012250414 | val loss: 0.09865753674039654 |\n",
      "Epoch:  96%|█████████▌| 191/200 [01:17<00:03,  2.50it/s]\n",
      "EP_190 | train loss: 0.10737785100936889 | val loss: 0.09659847763239168 |\n",
      "Epoch:  96%|█████████▌| 192/200 [01:17<00:03,  2.49it/s]\n",
      "EP_191 | train loss: 0.10333918496674183 | val loss: 0.0931520762981153 |\n",
      "Epoch:  96%|█████████▋| 193/200 [01:18<00:02,  2.44it/s]\n",
      "EP_192 | train loss: 0.10265532147650626 | val loss: 0.08880184590816498 |\n",
      "Epoch:  97%|█████████▋| 194/200 [01:18<00:02,  2.47it/s]\n",
      "EP_193 | train loss: 0.09935122541352814 | val loss: 0.08698455025168027 |\n",
      "Epoch:  98%|█████████▊| 195/200 [01:19<00:02,  2.44it/s]\n",
      "EP_194 | train loss: 0.09601411118226892 | val loss: 0.08232281722274482 |\n",
      "Epoch:  98%|█████████▊| 196/200 [01:19<00:01,  2.44it/s]\n",
      "EP_195 | train loss: 0.09605638209511252 | val loss: 0.08208825716785356 |\n",
      "Epoch:  98%|█████████▊| 197/200 [01:19<00:01,  2.44it/s]\n",
      "EP_196 | train loss: 0.08665271646836224 | val loss: 0.08134014962934981 |\n",
      "Epoch:  99%|█████████▉| 198/200 [01:20<00:00,  2.44it/s]\n",
      "EP_197 | train loss: 0.08475068889412225 | val loss: 0.0788668020098817 |\n",
      "Epoch: 100%|█████████▉| 199/200 [01:20<00:00,  2.49it/s]\n",
      "EP_198 | train loss: 0.0875411238156113 | val loss: 0.07461391038754407 |\n",
      "Epoch: 100%|██████████| 200/200 [01:21<00:00,  2.47it/s]\n",
      "EP_199 | train loss: 0.07918983160280714 | val loss: 0.07231500160460379 |\n",
      "\n"
     ]
    }
   ],
   "source": [
    "AttractiveTrainer.train()"
   ]
  },
  {
   "cell_type": "markdown",
   "metadata": {},
   "source": [
    "## for classification, not better"
   ]
  },
  {
   "cell_type": "markdown",
   "metadata": {},
   "source": [
    "## Below is testing"
   ]
  },
  {
   "cell_type": "code",
   "execution_count": 8,
   "metadata": {},
   "outputs": [
    {
     "output_type": "execute_result",
     "data": {
      "text/plain": [
       "AttractiveNet(\n",
       "  (embedding): AttractiveEmbedding(\n",
       "    (token): TokenEmbedding(12699, 300, padding_idx=1)\n",
       "  )\n",
       "  (category_embedding): CategoryEmbedding(18, 10, padding_idx=0)\n",
       "  (bigramcnn): Sequential(\n",
       "    (0): Conv1d(300, 200, kernel_size=(3,), stride=(1,), padding=(1,))\n",
       "    (1): ReLU()\n",
       "    (2): Conv1d(200, 100, kernel_size=(3,), stride=(1,), padding=(1,))\n",
       "    (3): ReLU()\n",
       "    (4): Dropout(p=0.3, inplace=False)\n",
       "  )\n",
       "  (trigramcnn): Sequential(\n",
       "    (0): Conv1d(300, 200, kernel_size=(3,), stride=(1,), padding=(1,))\n",
       "    (1): ReLU()\n",
       "    (2): Conv1d(200, 100, kernel_size=(3,), stride=(1,), padding=(1,))\n",
       "    (3): ReLU()\n",
       "    (4): Dropout(p=0.3, inplace=False)\n",
       "  )\n",
       "  (encoder_bigram_first): LSTM(100, 30, batch_first=True, dropout=0.3, bidirectional=True)\n",
       "  (encoder_trigram_first): LSTM(100, 30, batch_first=True, dropout=0.3, bidirectional=True)\n",
       "  (linear): Sequential(\n",
       "    (0): Linear(in_features=134, out_features=30, bias=True)\n",
       "    (1): ReLU()\n",
       "    (2): Linear(in_features=30, out_features=1, bias=True)\n",
       "  )\n",
       ")"
      ]
     },
     "metadata": {},
     "execution_count": 8
    }
   ],
   "source": [
    "from attractivenet import AttractiveNet\n",
    "\n",
    "PATH = './model/CNN_LSTM_20201106-221738/0.352196.110'\n",
    "\n",
    "load_model = AttractiveNet(config).to(AttractiveData.device)\n",
    "load_model.load_state_dict(torch.load(PATH))\n",
    "load_model.eval()"
   ]
  },
  {
   "cell_type": "code",
   "execution_count": 9,
   "metadata": {},
   "outputs": [],
   "source": [
    "def predict_attractive(sentence, category, phase):\n",
    "    indexed_sentence = [AttractiveData.TEXT.vocab.stoi[t] for t in sentence]\n",
    "    indexed_category = [AttractiveData.CATEGORIES_LABEL.vocab.stoi[category]]\n",
    "    tensor_sentence = torch.LongTensor(indexed_sentence).to(AttractiveData.device)\n",
    "    tensor_category = torch.LongTensor(indexed_category).to(AttractiveData.device)\n",
    "\n",
    "    tensor_sentence = tensor_sentence.unsqueeze(0)\n",
    "    # print(tensor_sentence.shape)\n",
    "\n",
    "    prediction = load_model(tensor_sentence, tensor_category, phase=phase)\n",
    "\n",
    "    return prediction"
   ]
  },
  {
   "cell_type": "code",
   "execution_count": 10,
   "metadata": {
    "tags": []
   },
   "outputs": [],
   "source": [
    "# train mean = 3.15, test mean = 2.8\n",
    "predict_list = []\n",
    "with torch.no_grad():\n",
    "    for i, sentence in enumerate(AttractiveData.test_data):\n",
    "        prediction = predict_attractive(sentence.Headline, sentence.Category, 'test')\n",
    "        predict_list.append(prediction.item())\n",
    "        # predict_list.append(prediction.item())\n",
    "AttractiveData.df_test['Label'] = predict_list\n",
    "AttractiveData.df_test[['ID', 'Label']].to_csv(config['save_name'] + '.csv', index=False)"
   ]
  },
  {
   "cell_type": "markdown",
   "metadata": {},
   "source": [
    "## Below for statistics"
   ]
  },
  {
   "cell_type": "code",
   "execution_count": 11,
   "metadata": {},
   "outputs": [],
   "source": [
    "import statistics\n",
    "from sklearn.metrics import mean_squared_error"
   ]
  },
  {
   "cell_type": "code",
   "execution_count": 12,
   "metadata": {},
   "outputs": [],
   "source": [
    "# # train mean = 3.15, test mean = 2.8\n",
    "# train_list = []\n",
    "# for i, sentence in enumerate(AttractiveData.train_data):\n",
    "#     prediction = predict_attractive(sentence.Headline, sentence.Category, 'train')\n",
    "#     train_list.append(prediction.item())\n",
    "#     # train_list.append(prediction.item())\n",
    "# # print(train_list)\n",
    "# mean_squared_error(pd.read_csv('data/train.csv').sort_values(['ID']).Label.to_list(), train_list), statistics.mean(train_list), statistics.stdev(train_list)"
   ]
  },
  {
   "cell_type": "code",
   "execution_count": 13,
   "metadata": {},
   "outputs": [],
   "source": [
    "# train_list[0:5], pd.read_csv('data/train.csv').sort_values(['ID']).Label.to_list()[0:5]"
   ]
  },
  {
   "cell_type": "code",
   "execution_count": 14,
   "metadata": {},
   "outputs": [],
   "source": [
    "# a = AttractiveData.df_train['Label'].to_list()\n",
    "# statistics.mean(a), statistics.stdev(a)"
   ]
  },
  {
   "cell_type": "code",
   "execution_count": 15,
   "metadata": {},
   "outputs": [
    {
     "output_type": "execute_result",
     "data": {
      "text/plain": [
       "(2.803329052904104, 0.36188223480540627)"
      ]
     },
     "metadata": {},
     "execution_count": 15
    }
   ],
   "source": [
    "statistics.mean(predict_list), statistics.stdev(predict_list)"
   ]
  },
  {
   "cell_type": "code",
   "execution_count": 16,
   "metadata": {},
   "outputs": [
    {
     "output_type": "execute_result",
     "data": {
      "text/plain": [
       "(0.023861652447405988, 2.774164993857497, 0.3615900775742119)"
      ]
     },
     "metadata": {},
     "execution_count": 16
    }
   ],
   "source": [
    "baseline_list = pd.read_csv('baseline.csv').sort_values(['ID']).Label.to_list()\n",
    "mean_squared_error(baseline_list, predict_list), statistics.mean(baseline_list), statistics.stdev(baseline_list)"
   ]
  },
  {
   "cell_type": "code",
   "execution_count": null,
   "metadata": {},
   "outputs": [],
   "source": []
  },
  {
   "cell_type": "code",
   "execution_count": 18,
   "metadata": {},
   "outputs": [
    {
     "data": {
      "text/plain": [
       "0.1609754968529207"
      ]
     },
     "execution_count": 18,
     "metadata": {},
     "output_type": "execute_result"
    }
   ],
   "source": [
    "mean_squared_error(pd.read_csv('baseline.csv').sort_values(['ID']).Label.to_list(), pd.read_csv('./predict/ensemble.csv').sort_values(['ID']).Label.to_list())"
   ]
  },
  {
   "cell_type": "code",
   "execution_count": 10,
   "metadata": {},
   "outputs": [],
   "source": [
    "from sklearn.model_selection import KFold\n",
    "import numpy as np"
   ]
  },
  {
   "cell_type": "code",
   "execution_count": 11,
   "metadata": {},
   "outputs": [],
   "source": []
  },
  {
   "cell_type": "code",
   "execution_count": 12,
   "metadata": {},
   "outputs": [
    {
     "data": {
      "text/plain": [
       "2040"
      ]
     },
     "execution_count": 12,
     "metadata": {},
     "output_type": "execute_result"
    }
   ],
   "source": [
    "len(AttractiveData.train_data.examples)"
   ]
  },
  {
   "cell_type": "code",
   "execution_count": 13,
   "metadata": {},
   "outputs": [],
   "source": []
  },
  {
   "cell_type": "code",
   "execution_count": null,
   "metadata": {},
   "outputs": [],
   "source": []
  }
 ],
 "metadata": {
  "kernelspec": {
   "display_name": "DS_hw2",
   "language": "python",
   "name": "ds_hw2"
  },
  "language_info": {
   "codemirror_mode": {
    "name": "ipython",
    "version": 3
   },
   "file_extension": ".py",
   "mimetype": "text/x-python",
   "name": "python",
   "nbconvert_exporter": "python",
   "pygments_lexer": "ipython3",
   "version": "3.6.12-final"
  }
 },
 "nbformat": 4,
 "nbformat_minor": 4
}