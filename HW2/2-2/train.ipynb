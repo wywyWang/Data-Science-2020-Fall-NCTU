{
 "metadata": {
  "language_info": {
   "codemirror_mode": {
    "name": "ipython",
    "version": 3
   },
   "file_extension": ".py",
   "mimetype": "text/x-python",
   "name": "python",
   "nbconvert_exporter": "python",
   "pygments_lexer": "ipython3",
   "version": "3.6.12-final"
  },
  "orig_nbformat": 2,
  "kernelspec": {
   "name": "Python 3.6.12 64-bit",
   "display_name": "Python 3.6.12 64-bit",
   "metadata": {
    "interpreter": {
     "hash": "de6ec751e8d816810380d8c8f13d270f86a313990c5d5930d253da012ff5e7fc"
    }
   }
  }
 },
 "nbformat": 4,
 "nbformat_minor": 2,
 "cells": [
  {
   "cell_type": "code",
   "execution_count": 1,
   "metadata": {},
   "outputs": [],
   "source": [
    "# common packages\n",
    "import pandas as pd\n",
    "import time\n",
    "\n",
    "# # DL framework\n",
    "import torch\n",
    "from torchtext import data\n",
    "\n",
    "from attractivedata import AttractiveData\n",
    "from trainer import AttractiveTrainer"
   ]
  },
  {
   "source": [
    "## Load and prepare data"
   ],
   "cell_type": "markdown",
   "metadata": {}
  },
  {
   "cell_type": "code",
   "execution_count": 2,
   "metadata": {},
   "outputs": [],
   "source": [
    "train_file = 'data/train.csv'\n",
    "test_file = 'data/test.csv'\n",
    "pretrained_file = 'glove.840B.300d'\n",
    "config = {\n",
    "    'max_seq': 40,\n",
    "    'min_freq': 0,\n",
    "    'batch_size': 64,\n",
    "    'pretrained_file': pretrained_file\n",
    "}\n"
   ]
  },
  {
   "cell_type": "code",
   "execution_count": 3,
   "metadata": {},
   "outputs": [],
   "source": [
    "AttractiveData = AttractiveData(train_file, test_file, pretrained_file, config)"
   ]
  },
  {
   "cell_type": "code",
   "execution_count": 4,
   "metadata": {},
   "outputs": [],
   "source": [
    "# for i, sentence in enumerate(AttractiveData.test_data):\n",
    "#     if i == 3:\n",
    "#         print(vars(AttractiveData.train_data[i]), vars(sentence))"
   ]
  },
  {
   "cell_type": "code",
   "execution_count": 5,
   "metadata": {},
   "outputs": [
    {
     "output_type": "execute_result",
     "data": {
      "text/plain": [
       "18"
      ]
     },
     "metadata": {},
     "execution_count": 5
    }
   ],
   "source": [
    "len(AttractiveData.CATEGORIES_LABEL.vocab.freqs)"
   ]
  },
  {
   "cell_type": "code",
   "execution_count": 6,
   "metadata": {},
   "outputs": [
    {
     "output_type": "execute_result",
     "data": {
      "text/plain": [
       "38"
      ]
     },
     "metadata": {},
     "execution_count": 6
    }
   ],
   "source": [
    "max_len = 0\n",
    "a = AttractiveData.train_data\n",
    "for i in range(len(a)):\n",
    "    if len(a[i].Headline) >= max_len:\n",
    "        max_len = len(a[i].Headline)\n",
    "max_len"
   ]
  },
  {
   "source": [
    "## Start to train"
   ],
   "cell_type": "markdown",
   "metadata": {}
  },
  {
   "cell_type": "code",
   "execution_count": 7,
   "metadata": {},
   "outputs": [
    {
     "output_type": "stream",
     "name": "stdout",
     "text": [
      "torch.Size([12699, 300])\n"
     ]
    }
   ],
   "source": [
    "config['timestr'] = time.strftime(\"%Y%m%d-%H%M%S\")\n",
    "config['save_name'] = 'CNN_LSTM'\n",
    "config['input_dim'] = len(AttractiveData.TEXT.vocab)\n",
    "config['embedding_dim'] = 300\n",
    "config['category_dim'] = len(AttractiveData.CATEGORIES_LABEL.vocab)\n",
    "config['category_embedding_dim'] = 5\n",
    "config['hidden_dim'] = 30\n",
    "config['output_dim'] = 1\n",
    "config['log_steps'] = 10\n",
    "config['epochs'] = 150\n",
    "config['lr'] = {\n",
    "    'encoder': 1e-5,\n",
    "    'embedding': 1e-5,\n",
    "    'linear': 1e-5\n",
    "}\n",
    "config['num_layers'] = 1\n",
    "config['kernel_size'] = 3\n",
    "config['dropout'] = 0.1\n",
    "config['train_len'] = AttractiveData.train_len\n",
    "config['val_len'] = AttractiveData.val_len\n",
    "config['test_len'] = AttractiveData.test_len\n",
    "\n",
    "pretrained_embeddings = AttractiveData.TEXT.vocab.vectors\n",
    "print(pretrained_embeddings.shape)"
   ]
  },
  {
   "cell_type": "code",
   "execution_count": 8,
   "metadata": {},
   "outputs": [],
   "source": [
    "AttractiveTrainer = AttractiveTrainer(config, AttractiveData.device, AttractiveData.trainloader, AttractiveData.valloader, pretrained_embeddings)"
   ]
  },
  {
   "cell_type": "code",
   "execution_count": 9,
   "metadata": {},
   "outputs": [
    {
     "output_type": "execute_result",
     "data": {
      "text/plain": [
       "(AttractiveNet(\n",
       "   (embedding): AttractiveEmbedding(\n",
       "     (token): TokenEmbedding(12699, 300, padding_idx=1)\n",
       "   )\n",
       "   (cnn1): Sequential(\n",
       "     (0): Conv1d(300, 220, kernel_size=(3,), stride=(1,), padding=(1,))\n",
       "     (1): ReLU()\n",
       "   )\n",
       "   (cnn2): Sequential(\n",
       "     (0): Conv1d(220, 150, kernel_size=(3,), stride=(1,), padding=(1,))\n",
       "     (1): ReLU()\n",
       "   )\n",
       "   (cnn3): Sequential(\n",
       "     (0): Conv1d(150, 100, kernel_size=(3,), stride=(1,), padding=(1,))\n",
       "     (1): ReLU()\n",
       "   )\n",
       "   (encoder): LSTM(100, 30, batch_first=True, dropout=0.1, bidirectional=True)\n",
       "   (linear): Sequential(\n",
       "     (0): Linear(in_features=120, out_features=30, bias=True)\n",
       "     (1): ReLU()\n",
       "     (2): Linear(in_features=30, out_features=1, bias=True)\n",
       "   )\n",
       " ),\n",
       " 4187511,\n",
       " 377811)"
      ]
     },
     "metadata": {},
     "execution_count": 9
    }
   ],
   "source": [
    "AttractiveTrainer.model, AttractiveTrainer.config['total_params'], AttractiveTrainer.config['total_learned_params']"
   ]
  },
  {
   "cell_type": "code",
   "execution_count": 10,
   "metadata": {
    "tags": [
     "outputPrepend"
    ]
   },
   "outputs": [
    {
     "output_type": "stream",
     "name": "stderr",
     "text": [
      "00<00:33,  4.39it/s]\n",
      "EP_train | train loss: 0.5319905552209593 | val loss: 0.544463643840715 |\n",
      "====\n",
      "Epoch:   3%|▎         | 5/150 [00:01<00:33,  4.33it/s]\n",
      "EP_train | train loss: 0.5318525258232566 | val loss: 0.5441018646838618 |\n",
      "====\n",
      "Epoch:   4%|▍         | 6/150 [00:01<00:33,  4.28it/s]\n",
      "EP_train | train loss: 0.5317386000764136 | val loss: 0.5435458164589078 |\n",
      "====\n",
      "Epoch:   5%|▍         | 7/150 [00:01<00:32,  4.35it/s]\n",
      "EP_train | train loss: 0.5317638518763523 | val loss: 0.5437382716758579 |\n",
      "====\n",
      "Epoch:   5%|▌         | 8/150 [00:01<00:33,  4.29it/s]\n",
      "EP_train | train loss: 0.5317811891144397 | val loss: 0.5435022840312883 |\n",
      "====\n",
      "Epoch:   6%|▌         | 9/150 [00:02<00:32,  4.35it/s]\n",
      "EP_train | train loss: 0.5317945751489378 | val loss: 0.5434601353664025 |\n",
      "====\n",
      "Epoch:   7%|▋         | 10/150 [00:02<00:31,  4.43it/s]\n",
      "EP_train | train loss: 0.5317988143247716 | val loss: 0.5436081605799058 |\n",
      "====\n",
      "Epoch:   7%|▋         | 11/150 [00:02<00:30,  4.50it/s]\n",
      "EP_train | train loss: 0.5316412907020719 | val loss: 0.5436374065922756 |\n",
      "====\n",
      "Epoch:   8%|▊         | 12/150 [00:02<00:30,  4.53it/s]\n",
      "EP_train | train loss: 0.5316302813735663 | val loss: 0.5435676761701995 |\n",
      "====\n",
      "Epoch:   9%|▊         | 13/150 [00:02<00:29,  4.60it/s]\n",
      "EP_train | train loss: 0.5316495783188764 | val loss: 0.5433559604719573 |\n",
      "====\n",
      "Epoch:   9%|▉         | 14/150 [00:03<00:29,  4.64it/s]\n",
      "EP_train | train loss: 0.5319523773941339 | val loss: 0.5434528425628063 |\n",
      "====\n",
      "Epoch:  10%|█         | 15/150 [00:03<00:28,  4.66it/s]\n",
      "EP_train | train loss: 0.5316414636724135 | val loss: 0.5433943131390739 |\n",
      "====\n",
      "Epoch:  11%|█         | 16/150 [00:03<00:28,  4.66it/s]\n",
      "EP_train | train loss: 0.5316984905916102 | val loss: 0.5431915731991038 |\n",
      "====\n",
      "Epoch:  11%|█▏        | 17/150 [00:03<00:28,  4.67it/s]\n",
      "EP_train | train loss: 0.5318028702455408 | val loss: 0.5433458814433977 |\n",
      "====\n",
      "Epoch:  12%|█▏        | 18/150 [00:04<00:28,  4.58it/s]\n",
      "EP_train | train loss: 0.5317500404283112 | val loss: 0.543373706294041 |\n",
      "====\n",
      "Epoch:  13%|█▎        | 19/150 [00:04<00:29,  4.46it/s]\n",
      "EP_train | train loss: 0.531516508027619 | val loss: 0.5431905821257946 |\n",
      "====\n",
      "Epoch:  13%|█▎        | 20/150 [00:04<00:29,  4.40it/s]\n",
      "EP_train | train loss: 0.5317412899989707 | val loss: 0.5430776558670343 |\n",
      "====\n",
      "Epoch:  14%|█▍        | 21/150 [00:04<00:29,  4.33it/s]\n",
      "EP_train | train loss: 0.5316238328522327 | val loss: 0.543272616816502 |\n",
      "====\n",
      "Epoch:  15%|█▍        | 22/150 [00:04<00:29,  4.37it/s]\n",
      "EP_train | train loss: 0.5315673706578273 | val loss: 0.5431677874396829 |\n",
      "====\n",
      "Epoch:  15%|█▌        | 23/150 [00:05<00:29,  4.27it/s]\n",
      "EP_train | train loss: 0.5317540374456667 | val loss: 0.5427956674613205 |\n",
      "====\n",
      "Epoch:  16%|█▌        | 24/150 [00:05<00:29,  4.20it/s]\n",
      "EP_train | train loss: 0.53165649432762 | val loss: 0.5430413040460325 |\n",
      "====\n",
      "Epoch:  17%|█▋        | 25/150 [00:05<00:29,  4.29it/s]\n",
      "EP_train | train loss: 0.5314989463955748 | val loss: 0.542932809567919 |\n",
      "====\n",
      "Epoch:  17%|█▋        | 26/150 [00:05<00:28,  4.34it/s]\n",
      "EP_train | train loss: 0.531560230255127 | val loss: 0.5428528879203048 |\n",
      "====\n",
      "Epoch:  18%|█▊        | 27/150 [00:06<00:28,  4.35it/s]\n",
      "EP_train | train loss: 0.5314387658063103 | val loss: 0.5429583530800015 |\n",
      "====\n",
      "Epoch:  19%|█▊        | 28/150 [00:06<00:28,  4.34it/s]\n",
      "EP_train | train loss: 0.5314942593668022 | val loss: 0.5427322013705385 |\n",
      "====\n",
      "Epoch:  19%|█▉        | 29/150 [00:06<00:27,  4.35it/s]\n",
      "EP_train | train loss: 0.5313701106052773 | val loss: 0.5428051294064989 |\n",
      "====\n",
      "Epoch:  20%|██        | 30/150 [00:06<00:27,  4.34it/s]\n",
      "EP_train | train loss: 0.5313569237204159 | val loss: 0.5428288964664235 |\n",
      "====\n",
      "Epoch:  21%|██        | 31/150 [00:07<00:27,  4.36it/s]\n",
      "EP_train | train loss: 0.5313476440953273 | val loss: 0.5428367128559187 |\n",
      "====\n",
      "Epoch:  21%|██▏       | 32/150 [00:07<00:26,  4.40it/s]\n",
      "EP_train | train loss: 0.5313460181741153 | val loss: 0.5426414714140051 |\n",
      "====\n",
      "Epoch:  22%|██▏       | 33/150 [00:07<00:26,  4.42it/s]\n",
      "EP_train | train loss: 0.5314247037850174 | val loss: 0.5427572960947075 |\n",
      "====\n",
      "Epoch:  23%|██▎       | 34/150 [00:07<00:26,  4.45it/s]\n",
      "EP_train | train loss: 0.5313593789642932 | val loss: 0.5428257549510282 |\n",
      "====\n",
      "Epoch:  23%|██▎       | 35/150 [00:07<00:25,  4.45it/s]\n",
      "EP_train | train loss: 0.5313542553022796 | val loss: 0.5426349452897614 |\n",
      "====\n",
      "Epoch:  24%|██▍       | 36/150 [00:08<00:25,  4.44it/s]\n",
      "EP_train | train loss: 0.5313162467058967 | val loss: 0.5425012812894934 |\n",
      "====\n",
      "Epoch:  25%|██▍       | 37/150 [00:08<00:25,  4.47it/s]\n",
      "EP_train | train loss: 0.5313470335567698 | val loss: 0.5426944283878102 |\n",
      "====\n",
      "Epoch:  25%|██▌       | 38/150 [00:08<00:25,  4.45it/s]\n",
      "EP_train | train loss: 0.5311893257440305 | val loss: 0.5425638685039446 |\n",
      "====\n",
      "Epoch:  26%|██▌       | 39/150 [00:08<00:25,  4.37it/s]\n",
      "EP_train | train loss: 0.5311110935959161 | val loss: 0.5425876542633655 |\n",
      "====\n",
      "Epoch:  27%|██▋       | 40/150 [00:09<00:25,  4.33it/s]\n",
      "EP_train | train loss: 0.5311070778790642 | val loss: 0.5426191442153033 |\n",
      "====\n",
      "Epoch:  27%|██▋       | 41/150 [00:09<00:25,  4.31it/s]\n",
      "EP_train | train loss: 0.5311982285742666 | val loss: 0.5424185360179228 |\n",
      "====\n",
      "Epoch:  28%|██▊       | 42/150 [00:09<00:25,  4.26it/s]\n",
      "EP_train | train loss: 0.5311057661093918 | val loss: 0.5423699173272825 |\n",
      "====\n",
      "Epoch:  29%|██▊       | 43/150 [00:09<00:25,  4.24it/s]\n",
      "EP_train | train loss: 0.5310784489500756 | val loss: 0.5423504885505227 |\n",
      "====\n",
      "Epoch:  29%|██▉       | 44/150 [00:10<00:24,  4.26it/s]\n",
      "EP_train | train loss: 0.5310559085771149 | val loss: 0.5421877655328489 |\n",
      "====\n",
      "Epoch:  30%|███       | 45/150 [00:10<00:24,  4.30it/s]\n",
      "EP_train | train loss: 0.5309679040721819 | val loss: 0.5422155903834923 |\n",
      "====\n",
      "Epoch:  31%|███       | 46/150 [00:10<00:24,  4.31it/s]\n",
      "EP_train | train loss: 0.531103058422313 | val loss: 0.5420906216490502 |\n",
      "====\n",
      "Epoch:  31%|███▏      | 47/150 [00:10<00:23,  4.35it/s]\n",
      "EP_train | train loss: 0.530991631863164 | val loss: 0.5421196432674632 |\n",
      "====\n",
      "Epoch:  32%|███▏      | 48/150 [00:10<00:23,  4.33it/s]\n",
      "EP_train | train loss: 0.5309346629124062 | val loss: 0.5423308166803098 |\n",
      "====\n",
      "Epoch:  33%|███▎      | 49/150 [00:11<00:23,  4.35it/s]\n",
      "EP_train | train loss: 0.5308789430880079 | val loss: 0.5420281466315774 |\n",
      "====\n",
      "Epoch:  33%|███▎      | 50/150 [00:11<00:22,  4.38it/s]\n",
      "EP_train | train loss: 0.5308393431644813 | val loss: 0.5423709644990808 |\n",
      "====\n",
      "Epoch:  34%|███▍      | 51/150 [00:11<00:22,  4.40it/s]\n",
      "EP_train | train loss: 0.5308525917576808 | val loss: 0.5421717026654411 |\n",
      "====\n",
      "Epoch:  35%|███▍      | 52/150 [00:11<00:22,  4.42it/s]\n",
      "EP_train | train loss: 0.5307601461223528 | val loss: 0.542024107540355 |\n",
      "====\n",
      "Epoch:  35%|███▌      | 53/150 [00:12<00:21,  4.43it/s]\n",
      "EP_train | train loss: 0.5308387690899419 | val loss: 0.5419167537315219 |\n",
      "====\n",
      "Epoch:  36%|███▌      | 54/150 [00:12<00:21,  4.40it/s]\n",
      "EP_train | train loss: 0.5307954376819087 | val loss: 0.5419617073208678 |\n",
      "====\n",
      "Epoch:  37%|███▋      | 55/150 [00:12<00:22,  4.30it/s]\n",
      "EP_train | train loss: 0.5307663627699309 | val loss: 0.5420089983472637 |\n",
      "====\n",
      "Epoch:  37%|███▋      | 56/150 [00:12<00:21,  4.35it/s]\n",
      "EP_train | train loss: 0.5306654939464495 | val loss: 0.5419607723460478 |\n",
      "====\n",
      "Epoch:  38%|███▊      | 57/150 [00:12<00:21,  4.35it/s]\n",
      "EP_train | train loss: 0.5305688614938774 | val loss: 0.5419777888877719 |\n",
      "====\n",
      "Epoch:  39%|███▊      | 58/150 [00:13<00:21,  4.36it/s]\n",
      "EP_train | train loss: 0.5306373147403493 | val loss: 0.541535265305463 |\n",
      "====\n",
      "Epoch:  39%|███▉      | 59/150 [00:13<00:21,  4.33it/s]\n",
      "EP_train | train loss: 0.5306078471389472 | val loss: 0.5416770635866651 |\n",
      "====\n",
      "Epoch:  40%|████      | 60/150 [00:13<00:20,  4.33it/s]\n",
      "EP_train | train loss: 0.5305845587861304 | val loss: 0.5416252098831476 |\n",
      "====\n",
      "Epoch:  41%|████      | 61/150 [00:13<00:20,  4.35it/s]\n",
      "EP_train | train loss: 0.5306159991844027 | val loss: 0.5418285856059953 |\n",
      "====\n",
      "Epoch:  41%|████▏     | 62/150 [00:14<00:20,  4.38it/s]\n",
      "EP_train | train loss: 0.5304334238463757 | val loss: 0.5413664462519627 |\n",
      "====\n",
      "Epoch:  42%|████▏     | 63/150 [00:14<00:19,  4.39it/s]\n",
      "EP_train | train loss: 0.5302166209501379 | val loss: 0.5415195203294941 |\n",
      "====\n",
      "Epoch:  43%|████▎     | 64/150 [00:14<00:19,  4.36it/s]\n",
      "EP_train | train loss: 0.5302958563262341 | val loss: 0.5414079404344746 |\n",
      "====\n",
      "Epoch:  43%|████▎     | 65/150 [00:14<00:19,  4.34it/s]\n",
      "EP_train | train loss: 0.530264814227235 | val loss: 0.5412808960559321 |\n",
      "====\n",
      "Epoch:  44%|████▍     | 66/150 [00:15<00:19,  4.39it/s]\n",
      "EP_train | train loss: 0.5301645652920592 | val loss: 0.5411988052667356 |\n",
      "====\n",
      "Epoch:  45%|████▍     | 67/150 [00:15<00:18,  4.39it/s]\n",
      "EP_train | train loss: 0.5302368294958975 | val loss: 0.5413112266390931 |\n",
      "====\n",
      "Epoch:  45%|████▌     | 68/150 [00:15<00:18,  4.42it/s]\n",
      "EP_train | train loss: 0.5301975988874248 | val loss: 0.5411847619449391 |\n",
      "====\n",
      "Epoch:  46%|████▌     | 69/150 [00:15<00:18,  4.43it/s]\n",
      "EP_train | train loss: 0.5299348728329527 | val loss: 0.5409450904995787 |\n",
      "====\n",
      "Epoch:  47%|████▋     | 70/150 [00:15<00:17,  4.45it/s]\n",
      "EP_train | train loss: 0.5300358641381357 | val loss: 0.5411965426276711 |\n",
      "====\n",
      "Epoch:  47%|████▋     | 71/150 [00:16<00:17,  4.46it/s]\n",
      "EP_train | train loss: 0.5298973270491057 | val loss: 0.5407587500179515 |\n",
      "====\n",
      "Epoch:  48%|████▊     | 72/150 [00:16<00:17,  4.47it/s]\n",
      "EP_train | train loss: 0.5296606933369356 | val loss: 0.5409043816959157 |\n",
      "====\n",
      "Epoch:  49%|████▊     | 73/150 [00:16<00:17,  4.44it/s]\n",
      "EP_train | train loss: 0.5296459048402076 | val loss: 0.5407241372501149 |\n",
      "====\n",
      "Epoch:  49%|████▉     | 74/150 [00:16<00:17,  4.45it/s]\n",
      "EP_train | train loss: 0.5295997161491245 | val loss: 0.540824198255352 |\n",
      "====\n",
      "Epoch:  50%|█████     | 75/150 [00:17<00:16,  4.49it/s]\n",
      "EP_train | train loss: 0.5296128964891621 | val loss: 0.5404349121392942 |\n",
      "====\n",
      "Epoch:  51%|█████     | 76/150 [00:17<00:16,  4.50it/s]\n",
      "EP_train | train loss: 0.5296023078993255 | val loss: 0.540342274834128 |\n",
      "====\n",
      "Epoch:  51%|█████▏    | 77/150 [00:17<00:16,  4.51it/s]\n",
      "EP_train | train loss: 0.529323917276719 | val loss: 0.5405919692095589 |\n",
      "====\n",
      "Epoch:  52%|█████▏    | 78/150 [00:17<00:15,  4.52it/s]\n",
      "EP_train | train loss: 0.529294397316727 | val loss: 0.5404161939433977 |\n",
      "====\n",
      "Epoch:  53%|█████▎    | 79/150 [00:17<00:15,  4.50it/s]\n",
      "EP_train | train loss: 0.5290949597078212 | val loss: 0.5400977415197036 |\n",
      "====\n",
      "Epoch:  53%|█████▎    | 80/150 [00:18<00:15,  4.46it/s]\n",
      "EP_train | train loss: 0.5290485756070006 | val loss: 0.5399657604741115 |\n",
      "====\n",
      "Epoch:  54%|█████▍    | 81/150 [00:18<00:15,  4.45it/s]\n",
      "EP_train | train loss: 0.5289470756755156 | val loss: 0.5398527594173655 |\n",
      "====\n",
      "Epoch:  55%|█████▍    | 82/150 [00:18<00:15,  4.43it/s]\n",
      "EP_train | train loss: 0.5288546515446083 | val loss: 0.5401637694414925 |\n",
      "====\n",
      "Epoch:  55%|█████▌    | 83/150 [00:18<00:15,  4.42it/s]\n",
      "EP_train | train loss: 0.528702439513861 | val loss: 0.5398105546539905 |\n",
      "====\n",
      "Epoch:  56%|█████▌    | 84/150 [00:19<00:14,  4.42it/s]\n",
      "EP_train | train loss: 0.5285161710252949 | val loss: 0.5396703832289752 |\n",
      "====\n",
      "Epoch:  57%|█████▋    | 85/150 [00:19<00:14,  4.44it/s]\n",
      "EP_train | train loss: 0.5284151124019248 | val loss: 0.5393793068680108 |\n",
      "====\n",
      "Epoch:  57%|█████▋    | 86/150 [00:19<00:14,  4.43it/s]\n",
      "EP_train | train loss: 0.5282984266094133 | val loss: 0.5392138724233589 |\n",
      "====\n",
      "Epoch:  58%|█████▊    | 87/150 [00:19<00:14,  4.44it/s]\n",
      "EP_train | train loss: 0.5281195275923785 | val loss: 0.5391781750847312 |\n",
      "====\n",
      "Epoch:  59%|█████▊    | 88/150 [00:19<00:13,  4.44it/s]\n",
      "EP_train | train loss: 0.5278887412127327 | val loss: 0.5391801946303424 |\n",
      "====\n",
      "Epoch:  59%|█████▉    | 89/150 [00:20<00:13,  4.44it/s]\n",
      "EP_train | train loss: 0.527854253731522 | val loss: 0.5388016794242111 |\n",
      "====\n",
      "Epoch:  60%|██████    | 90/150 [00:20<00:13,  4.45it/s]\n",
      "EP_train | train loss: 0.5274427872078091 | val loss: 0.5386611527087641 |\n",
      "====\n",
      "Epoch:  61%|██████    | 91/150 [00:20<00:13,  4.47it/s]\n",
      "EP_train | train loss: 0.5272483919181076 | val loss: 0.5383573419907514 |\n",
      "====\n",
      "Epoch:  61%|██████▏   | 92/150 [00:20<00:13,  4.46it/s]\n",
      "EP_train | train loss: 0.5272344420937931 | val loss: 0.538206698847752 |\n",
      "====\n",
      "Epoch:  62%|██████▏   | 93/150 [00:21<00:12,  4.46it/s]\n",
      "EP_train | train loss: 0.5268091257880716 | val loss: 0.5376979603486902 |\n",
      "====\n",
      "Epoch:  63%|██████▎   | 94/150 [00:21<00:12,  4.47it/s]\n",
      "EP_train | train loss: 0.5266515395220588 | val loss: 0.5375795177384919 |\n",
      "====\n",
      "Epoch:  63%|██████▎   | 95/150 [00:21<00:12,  4.48it/s]\n",
      "EP_train | train loss: 0.5263862282622094 | val loss: 0.5373923731785194 |\n",
      "====\n",
      "Epoch:  64%|██████▍   | 96/150 [00:21<00:12,  4.46it/s]\n",
      "EP_train | train loss: 0.5259709049673641 | val loss: 0.5369067659565047 |\n",
      "====\n",
      "Epoch:  65%|██████▍   | 97/150 [00:21<00:11,  4.48it/s]\n",
      "EP_train | train loss: 0.5255204499936571 | val loss: 0.5367954852534276 |\n",
      "====\n",
      "Epoch:  65%|██████▌   | 98/150 [00:22<00:11,  4.48it/s]\n",
      "EP_train | train loss: 0.5253541834214155 | val loss: 0.5363749335793888 |\n",
      "====\n",
      "Epoch:  66%|██████▌   | 99/150 [00:22<00:11,  4.50it/s]\n",
      "EP_train | train loss: 0.5249082864499559 | val loss: 0.5359931272618911 |\n",
      "====\n",
      "Epoch:  67%|██████▋   | 100/150 [00:22<00:11,  4.51it/s]\n",
      "EP_train | train loss: 0.5244907547445858 | val loss: 0.5356771431717218 |\n",
      "====\n",
      "Epoch:  67%|██████▋   | 101/150 [00:22<00:10,  4.50it/s]\n",
      "EP_train | train loss: 0.5239652297076057 | val loss: 0.5351310430788526 |\n",
      "====\n",
      "Epoch:  68%|██████▊   | 102/150 [00:23<00:10,  4.48it/s]\n",
      "EP_train | train loss: 0.5235192364337398 | val loss: 0.5345388674268535 |\n",
      "====\n",
      "Epoch:  69%|██████▊   | 103/150 [00:23<00:10,  4.51it/s]\n",
      "EP_train | train loss: 0.5229962881873635 | val loss: 0.5341364916633157 |\n",
      "====\n",
      "Epoch:  69%|██████▉   | 104/150 [00:23<00:10,  4.47it/s]\n",
      "EP_train | train loss: 0.5224774547651703 | val loss: 0.5334463680491728 |\n",
      "====\n",
      "Epoch:  70%|███████   | 105/150 [00:23<00:10,  4.33it/s]\n",
      "EP_train | train loss: 0.5216549377815396 | val loss: 0.5328615973977482 |\n",
      "====\n",
      "Epoch:  71%|███████   | 106/150 [00:24<00:10,  4.37it/s]\n",
      "EP_train | train loss: 0.5209737759010464 | val loss: 0.5319835999432732 |\n",
      "====\n",
      "Epoch:  71%|███████▏  | 107/150 [00:24<00:09,  4.40it/s]\n",
      "EP_train | train loss: 0.5201801543142281 | val loss: 0.5316777696796492 |\n",
      "====\n",
      "Epoch:  72%|███████▏  | 108/150 [00:24<00:09,  4.42it/s]\n",
      "EP_train | train loss: 0.5193015192069259 | val loss: 0.5304408353917739 |\n",
      "====\n",
      "Epoch:  73%|███████▎  | 109/150 [00:24<00:09,  4.41it/s]\n",
      "EP_train | train loss: 0.5182592924903421 | val loss: 0.5293835284663182 |\n",
      "====\n",
      "Epoch:  73%|███████▎  | 110/150 [00:24<00:08,  4.47it/s]\n",
      "EP_train | train loss: 0.5171890399035286 | val loss: 0.5283896502326516 |\n",
      "====\n",
      "Epoch:  74%|███████▍  | 111/150 [00:25<00:08,  4.52it/s]\n",
      "EP_train | train loss: 0.5158914173350615 | val loss: 0.5268903246112898 |\n",
      "====\n",
      "Epoch:  75%|███████▍  | 112/150 [00:25<00:08,  4.53it/s]\n",
      "EP_train | train loss: 0.5146517772300571 | val loss: 0.525570645051844 |\n",
      "====\n",
      "Epoch:  75%|███████▌  | 113/150 [00:25<00:08,  4.55it/s]\n",
      "EP_train | train loss: 0.5129987539029589 | val loss: 0.5241256227680281 |\n",
      "====\n",
      "Epoch:  76%|███████▌  | 114/150 [00:25<00:07,  4.54it/s]\n",
      "EP_train | train loss: 0.5112968407425226 | val loss: 0.5223518633374981 |\n",
      "====\n",
      "Epoch:  77%|███████▋  | 115/150 [00:26<00:07,  4.49it/s]\n",
      "EP_train | train loss: 0.509306084875967 | val loss: 0.5205210517434513 |\n",
      "====\n",
      "Epoch:  77%|███████▋  | 116/150 [00:26<00:07,  4.46it/s]\n",
      "EP_train | train loss: 0.5071905472699334 | val loss: 0.5181109110514323 |\n",
      "====\n",
      "Epoch:  78%|███████▊  | 117/150 [00:26<00:07,  4.40it/s]\n",
      "EP_train | train loss: 0.5046842715319465 | val loss: 0.515587750603171 |\n",
      "====\n",
      "Epoch:  79%|███████▊  | 118/150 [00:26<00:07,  4.36it/s]\n",
      "EP_train | train loss: 0.5019645186031566 | val loss: 0.5128455442540786 |\n",
      "====\n",
      "Epoch:  79%|███████▉  | 119/150 [00:26<00:07,  4.36it/s]\n",
      "EP_train | train loss: 0.4989724505181406 | val loss: 0.509894053141276 |\n",
      "====\n",
      "Epoch:  80%|████████  | 120/150 [00:27<00:06,  4.37it/s]\n",
      "EP_train | train loss: 0.49541226555319395 | val loss: 0.5061494415881587 |\n",
      "====\n",
      "Epoch:  81%|████████  | 121/150 [00:27<00:06,  4.29it/s]\n",
      "EP_train | train loss: 0.491389352200078 | val loss: 0.5022413590375114 |\n",
      "====\n",
      "Epoch:  81%|████████▏ | 122/150 [00:27<00:06,  4.25it/s]\n",
      "EP_train | train loss: 0.48682537172354906 | val loss: 0.4974226858101639 |\n",
      "====\n",
      "Epoch:  82%|████████▏ | 123/150 [00:27<00:06,  4.24it/s]\n",
      "EP_train | train loss: 0.48221646196701945 | val loss: 0.4928315106560202 |\n",
      "====\n",
      "Epoch:  83%|████████▎ | 124/150 [00:28<00:06,  4.29it/s]\n",
      "EP_train | train loss: 0.47742384555293066 | val loss: 0.48776770573036343 |\n",
      "====\n",
      "Epoch:  83%|████████▎ | 125/150 [00:28<00:05,  4.33it/s]\n",
      "EP_train | train loss: 0.47233199418759814 | val loss: 0.48248995986639287 |\n",
      "====\n",
      "Epoch:  84%|████████▍ | 126/150 [00:28<00:05,  4.36it/s]\n",
      "EP_train | train loss: 0.46717331923690497 | val loss: 0.47734129662607233 |\n",
      "====\n",
      "Epoch:  85%|████████▍ | 127/150 [00:28<00:05,  4.40it/s]\n",
      "EP_train | train loss: 0.46148138420254575 | val loss: 0.47113824358173445 |\n",
      "====\n",
      "Epoch:  85%|████████▌ | 128/150 [00:29<00:04,  4.41it/s]\n",
      "EP_train | train loss: 0.4558038833094578 | val loss: 0.4650408426920573 |\n",
      "====\n",
      "Epoch:  86%|████████▌ | 129/150 [00:29<00:04,  4.42it/s]\n",
      "EP_train | train loss: 0.4501407268000584 | val loss: 0.458586992002001 |\n",
      "====\n",
      "Epoch:  87%|████████▋ | 130/150 [00:29<00:04,  4.44it/s]\n",
      "EP_train | train loss: 0.4442943909588982 | val loss: 0.45237864700018193 |\n",
      "====\n",
      "Epoch:  87%|████████▋ | 131/150 [00:29<00:04,  4.41it/s]\n",
      "EP_train | train loss: 0.43885475420484354 | val loss: 0.4472977694343118 |\n",
      "====\n",
      "Epoch:  88%|████████▊ | 132/150 [00:29<00:04,  4.41it/s]\n",
      "EP_train | train loss: 0.43363857082292145 | val loss: 0.4413015608694039 |\n",
      "====\n",
      "Epoch:  89%|████████▊ | 133/150 [00:30<00:03,  4.42it/s]\n",
      "EP_train | train loss: 0.4285587591283462 | val loss: 0.4360303130804324 |\n",
      "====\n",
      "Epoch:  89%|████████▉ | 134/150 [00:30<00:03,  4.36it/s]\n",
      "EP_train | train loss: 0.42331241345873066 | val loss: 0.4297163159239526 |\n",
      "====\n",
      "Epoch:  90%|█████████ | 135/150 [00:30<00:03,  4.33it/s]\n",
      "EP_train | train loss: 0.4189426384720148 | val loss: 0.4249556111354454 |\n",
      "====\n",
      "Epoch:  91%|█████████ | 136/150 [00:30<00:03,  4.33it/s]\n",
      "EP_train | train loss: 0.4139829944161808 | val loss: 0.41947315253463446 |\n",
      "====\n",
      "Epoch:  91%|█████████▏| 137/150 [00:31<00:03,  4.28it/s]\n",
      "EP_train | train loss: 0.40869651869231577 | val loss: 0.4138040542602539 |\n",
      "====\n",
      "Epoch:  92%|█████████▏| 138/150 [00:31<00:02,  4.31it/s]\n",
      "EP_train | train loss: 0.4042698196336335 | val loss: 0.4088929681216969 |\n",
      "====\n",
      "Epoch:  93%|█████████▎| 139/150 [00:31<00:02,  4.27it/s]\n",
      "EP_train | train loss: 0.4002556875640271 | val loss: 0.40483887990315753 |\n",
      "====\n",
      "Epoch:  93%|█████████▎| 140/150 [00:31<00:02,  4.33it/s]\n",
      "EP_train | train loss: 0.3951096361758662 | val loss: 0.39980200225231693 |\n",
      "====\n",
      "Epoch:  94%|█████████▍| 141/150 [00:32<00:02,  4.37it/s]\n",
      "EP_train | train loss: 0.39287654839309993 | val loss: 0.3976773000230976 |\n",
      "====\n",
      "Epoch:  95%|█████████▍| 142/150 [00:32<00:01,  4.40it/s]\n",
      "EP_train | train loss: 0.38702349943273207 | val loss: 0.3917423416586483 |\n",
      "====\n",
      "Epoch:  95%|█████████▌| 143/150 [00:32<00:01,  4.42it/s]\n",
      "EP_train | train loss: 0.38327536489449293 | val loss: 0.38744225221521716 |\n",
      "====\n",
      "Epoch:  96%|█████████▌| 144/150 [00:32<00:01,  4.43it/s]\n",
      "EP_train | train loss: 0.37900834925034466 | val loss: 0.3829525592280369 |\n",
      "====\n",
      "Epoch:  97%|█████████▋| 145/150 [00:32<00:01,  4.43it/s]\n",
      "EP_train | train loss: 0.3747186062382717 | val loss: 0.3784778071384804 |\n",
      "====\n",
      "Epoch:  97%|█████████▋| 146/150 [00:33<00:00,  4.45it/s]\n",
      "EP_train | train loss: 0.3726068104014677 | val loss: 0.3743270799225452 |\n",
      "====\n",
      "Epoch:  98%|█████████▊| 147/150 [00:33<00:00,  4.45it/s]\n",
      "EP_train | train loss: 0.36896644012600766 | val loss: 0.3720669278911516 |\n",
      "====\n",
      "Epoch:  99%|█████████▊| 148/150 [00:33<00:00,  4.47it/s]\n",
      "EP_train | train loss: 0.3723633981218525 | val loss: 0.37563620361627315 |\n",
      "====\n",
      "Epoch:  99%|█████████▉| 149/150 [00:33<00:00,  4.46it/s]\n",
      "EP_train | train loss: 0.3586488111346376 | val loss: 0.35952061297846777 |\n",
      "====\n",
      "Epoch: 100%|██████████| 150/150 [00:34<00:00,  4.41it/s]\n",
      "EP_train | train loss: 0.3543490073260139 | val loss: 0.3554684134090648 |\n",
      "\n"
     ]
    }
   ],
   "source": [
    "AttractiveTrainer.train()"
   ]
  },
  {
   "source": [
    "## for classification, not better"
   ],
   "cell_type": "markdown",
   "metadata": {}
  },
  {
   "source": [
    "## Below is testing"
   ],
   "cell_type": "markdown",
   "metadata": {}
  },
  {
   "cell_type": "code",
   "execution_count": 11,
   "metadata": {},
   "outputs": [
    {
     "output_type": "execute_result",
     "data": {
      "text/plain": [
       "AttractiveNet(\n",
       "  (embedding): AttractiveEmbedding(\n",
       "    (token): TokenEmbedding(12699, 300, padding_idx=1)\n",
       "  )\n",
       "  (category_embedding): CategoryEmbedding(18, 10, padding_idx=0)\n",
       "  (cnn1): Sequential(\n",
       "    (0): Conv1d(300, 220, kernel_size=(3,), stride=(1,), padding=(1,))\n",
       "    (1): ReLU()\n",
       "  )\n",
       "  (cnn2): Sequential(\n",
       "    (0): Conv1d(220, 150, kernel_size=(3,), stride=(1,), padding=(1,))\n",
       "    (1): ReLU()\n",
       "  )\n",
       "  (cnn3): Sequential(\n",
       "    (0): Conv1d(150, 100, kernel_size=(3,), stride=(1,), padding=(1,))\n",
       "    (1): ReLU()\n",
       "  )\n",
       "  (encoder): LSTM(100, 30, batch_first=True, dropout=0.1, bidirectional=True)\n",
       "  (linear): Sequential(\n",
       "    (0): Linear(in_features=130, out_features=30, bias=True)\n",
       "    (1): ReLU()\n",
       "    (2): Linear(in_features=30, out_features=1, bias=True)\n",
       "  )\n",
       ")"
      ]
     },
     "metadata": {},
     "execution_count": 11
    }
   ],
   "source": [
    "from attractivenet import AttractiveNet\n",
    "PATH = './model/CNN_LSTM_20201101-174320_0.3543.150'\n",
    "# load_model = TransformerModel(config).to(AttractiveData.device)\n",
    "load_model = AttractiveNet(config).to(AttractiveData.device)\n",
    "load_model.load_state_dict(torch.load(PATH))\n",
    "load_model.eval()"
   ]
  },
  {
   "cell_type": "code",
   "execution_count": 12,
   "metadata": {},
   "outputs": [],
   "source": [
    "def predict_attractive(sentence, category, phase):\n",
    "    # if len(sentence) < config['max_seq']:\n",
    "    #     sentence += ['0'] * (config['max_seq'] - len(sentence))\n",
    "    # else:\n",
    "    #     sentence = sentence[:config['max_seq']]\n",
    "\n",
    "    indexed_sentence = [AttractiveData.TEXT.vocab.stoi[t] for t in sentence]\n",
    "    indexed_category = [AttractiveData.CATEGORIES_LABEL.vocab.stoi[category]]\n",
    "    tensor_sentence = torch.LongTensor(indexed_sentence).to(AttractiveData.device)\n",
    "    tensor_category = torch.LongTensor(indexed_category).to(AttractiveData.device)\n",
    "\n",
    "    tensor_sentence = tensor_sentence.unsqueeze(0)\n",
    "    # print(tensor_sentence.shape)\n",
    "\n",
    "    prediction = load_model(tensor_sentence, tensor_category, phase=phase)\n",
    "\n",
    "    # after_decimal = prediction % 1\n",
    "    # possible_list = [0.0, 0.3333333333333333, 0.6666666666666665, 0.5, 1.0]\n",
    "    # closet_idx = None\n",
    "    # closet_distance = 1\n",
    "    # for i in range(len(possible_list)):\n",
    "    #     if abs(after_decimal - possible_list[i]) <= closet_distance:\n",
    "    #         closet_idx = i\n",
    "    #         closet_distance = abs(after_decimal - possible_list[i])\n",
    "    # prediction = (prediction // 1) + possible_list[closet_idx]\n",
    "    \n",
    "    return prediction"
   ]
  },
  {
   "cell_type": "code",
   "execution_count": 13,
   "metadata": {
    "tags": []
   },
   "outputs": [],
   "source": [
    "# train mean = 3.15, test mean = 2.8\n",
    "predict_list = []\n",
    "with torch.no_grad():\n",
    "    for i, sentence in enumerate(AttractiveData.test_data):\n",
    "        prediction = predict_attractive(sentence.Headline, sentence.Category, 'test')\n",
    "        predict_list.append(prediction.item())\n",
    "        # predict_list.append(prediction.item())\n",
    "AttractiveData.df_test['Label'] = predict_list\n",
    "AttractiveData.df_test[['ID', 'Label']].to_csv(config['save_name'] + '.csv', index=False)"
   ]
  },
  {
   "source": [
    "## Below just for fun guess"
   ],
   "cell_type": "markdown",
   "metadata": {}
  },
  {
   "cell_type": "code",
   "execution_count": 14,
   "metadata": {},
   "outputs": [],
   "source": [
    "import statistics\n",
    "from sklearn.metrics import mean_squared_error"
   ]
  },
  {
   "cell_type": "code",
   "execution_count": 15,
   "metadata": {},
   "outputs": [
    {
     "output_type": "execute_result",
     "data": {
      "text/plain": [
       "(0.4556302518346933, 3.1623973927077125, 0.2513995496475463)"
      ]
     },
     "metadata": {},
     "execution_count": 15
    }
   ],
   "source": [
    "# train mean = 3.15, test mean = 2.8\n",
    "train_list = []\n",
    "for i, sentence in enumerate(AttractiveData.train_data):\n",
    "    prediction = predict_attractive(sentence.Headline, sentence.Category, 'train')\n",
    "    train_list.append(prediction.item())\n",
    "    # train_list.append(prediction.item())\n",
    "# print(train_list)\n",
    "mean_squared_error(pd.read_csv('data/train.csv').sort_values(['ID']).Label.to_list(), train_list), statistics.mean(train_list), statistics.stdev(train_list)"
   ]
  },
  {
   "cell_type": "code",
   "execution_count": 16,
   "metadata": {},
   "outputs": [
    {
     "output_type": "execute_result",
     "data": {
      "text/plain": [
       "([3.209657669067383,\n",
       "  3.208057403564453,\n",
       "  3.2572128772735596,\n",
       "  3.157924175262451,\n",
       "  2.805985450744629],\n",
       " [4.0, 2.333333333333333, 4.5, 3.333333333333333, 4.0])"
      ]
     },
     "metadata": {},
     "execution_count": 16
    }
   ],
   "source": [
    "train_list[0:5], pd.read_csv('data/train.csv').sort_values(['ID']).Label.to_list()[0:5]"
   ]
  },
  {
   "cell_type": "code",
   "execution_count": 17,
   "metadata": {},
   "outputs": [
    {
     "output_type": "execute_result",
     "data": {
      "text/plain": [
       "(3.150408496732026, 0.729501519321601)"
      ]
     },
     "metadata": {},
     "execution_count": 17
    }
   ],
   "source": [
    "a = AttractiveData.df_train['Label'].to_list()\n",
    "statistics.mean(a), statistics.stdev(a)"
   ]
  },
  {
   "cell_type": "code",
   "execution_count": 18,
   "metadata": {},
   "outputs": [
    {
     "output_type": "execute_result",
     "data": {
      "text/plain": [
       "(2.810208190380214, 0.23730375521165847)"
      ]
     },
     "metadata": {},
     "execution_count": 18
    }
   ],
   "source": [
    "statistics.mean(predict_list), statistics.stdev(predict_list)"
   ]
  },
  {
   "cell_type": "code",
   "execution_count": 19,
   "metadata": {},
   "outputs": [
    {
     "output_type": "execute_result",
     "data": {
      "text/plain": [
       "(0.07887563206102266, 2.7156126782757597, 0.29355123275379763)"
      ]
     },
     "metadata": {},
     "execution_count": 19
    }
   ],
   "source": [
    "baseline_list = pd.read_csv('baseline.csv').sort_values(['ID']).Label.to_list()\n",
    "mean_squared_error(baseline_list, predict_list), statistics.mean(baseline_list), statistics.stdev(baseline_list)"
   ]
  },
  {
   "cell_type": "code",
   "execution_count": 14,
   "metadata": {},
   "outputs": [
    {
     "output_type": "execute_result",
     "data": {
      "text/plain": [
       "(2.8167915543795683, 0.14611407210842048)"
      ]
     },
     "metadata": {},
     "execution_count": 14
    }
   ],
   "source": [
    "# LSTM my best\n",
    "# statistics.mean(predict_list), statistics.stdev(predict_list)"
   ]
  },
  {
   "cell_type": "code",
   "execution_count": 21,
   "metadata": {},
   "outputs": [
    {
     "output_type": "execute_result",
     "data": {
      "text/plain": [
       "(0.1347375515605904, 2.8379913731293533, 0.1903582104725371)"
      ]
     },
     "metadata": {},
     "execution_count": 21
    }
   ],
   "source": [
    "a = pd.read_csv('LSTM_base.csv').Label.to_list()\n",
    "mean_squared_error(baseline_list, a), statistics.mean(a), statistics.stdev(a)"
   ]
  },
  {
   "cell_type": "code",
   "execution_count": 14,
   "metadata": {},
   "outputs": [
    {
     "output_type": "execute_result",
     "data": {
      "text/plain": [
       "'the'"
      ]
     },
     "metadata": {},
     "execution_count": 14
    }
   ],
   "source": [
    "AttractiveData.TEXT.vocab.itos[2]"
   ]
  },
  {
   "cell_type": "code",
   "execution_count": 26,
   "metadata": {},
   "outputs": [
    {
     "output_type": "execute_result",
     "data": {
      "text/plain": [
       "Counter({'4.0': 226,\n",
       "         '2.333333333333333': 194,\n",
       "         '4.5': 43,\n",
       "         '3.333333333333333': 313,\n",
       "         '3.6666666666666665': 260,\n",
       "         '2.6666666666666665': 281,\n",
       "         '2.0': 135,\n",
       "         '2.5': 36,\n",
       "         '1.6666666666666667': 28,\n",
       "         '3.0': 354,\n",
       "         '4.333333333333333': 82,\n",
       "         '4.666666666666667': 29,\n",
       "         '1.5': 16,\n",
       "         '3.5': 22,\n",
       "         '1.3333333333333333': 4,\n",
       "         '1.0': 5,\n",
       "         '5.0': 12})"
      ]
     },
     "metadata": {},
     "execution_count": 26
    }
   ],
   "source": [
    "AttractiveData.LABEL.vocab.freqs"
   ]
  },
  {
   "cell_type": "code",
   "execution_count": 29,
   "metadata": {},
   "outputs": [
    {
     "output_type": "stream",
     "name": "stdout",
     "text": [
      "1.0\n0.5\n0.3333333333333333\n"
     ]
    }
   ],
   "source": [
    "for i in range(1, 4):\n",
    "    print(1 / i)\n",
    "# 0, 0.33, 0.5, 0.66, 1"
   ]
  },
  {
   "cell_type": "code",
   "execution_count": 31,
   "metadata": {},
   "outputs": [
    {
     "output_type": "execute_result",
     "data": {
      "text/plain": [
       "0.3333333333333333"
      ]
     },
     "metadata": {},
     "execution_count": 31
    }
   ],
   "source": [
    "0.3333333333333333 % 1"
   ]
  },
  {
   "cell_type": "code",
   "execution_count": null,
   "metadata": {},
   "outputs": [],
   "source": []
  }
 ]
}