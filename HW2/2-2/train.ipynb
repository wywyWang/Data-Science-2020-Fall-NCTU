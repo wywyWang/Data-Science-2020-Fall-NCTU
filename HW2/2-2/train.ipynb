{
 "cells": [
  {
   "cell_type": "code",
   "execution_count": 1,
   "metadata": {},
   "outputs": [],
   "source": [
    "# common packages\n",
    "import pandas as pd\n",
    "import time\n",
    "\n",
    "# # DL framework\n",
    "import torch\n",
    "from torchtext import data\n",
    "\n",
    "from attractivedata import AttractiveData\n",
    "from trainer import AttractiveTrainer"
   ]
  },
  {
   "cell_type": "code",
   "execution_count": 2,
   "metadata": {},
   "outputs": [],
   "source": [
    "seed_value = 42\n",
    "torch.manual_seed(seed_value)\n",
    "torch.cuda.manual_seed(seed_value)\n",
    "torch.cuda.manual_seed_all(seed_value) # gpu vars\n",
    "# torch.backends.cudnn.deterministic = True  #needed\n",
    "# torch.backends.cudnn.benchmark = False"
   ]
  },
  {
   "cell_type": "markdown",
   "metadata": {},
   "source": [
    "## Load and prepare data"
   ]
  },
  {
   "cell_type": "code",
   "execution_count": 3,
   "metadata": {},
   "outputs": [],
   "source": [
    "train_file = 'data/train.csv'\n",
    "val_file = 'data/val.csv'\n",
    "test_file = 'data/test.csv'\n",
    "pretrained_file = 'glove.840B.300d'\n",
    "config = {\n",
    "    'max_seq': 40,\n",
    "    'min_freq': 0,\n",
    "    'batch_size': 64,\n",
    "    'pretrained_file': pretrained_file\n",
    "}\n"
   ]
  },
  {
   "cell_type": "code",
   "execution_count": 4,
   "metadata": {},
   "outputs": [],
   "source": [
    "AttractiveData = AttractiveData(train_file, val_file, test_file, pretrained_file, config)"
   ]
  },
  {
   "cell_type": "markdown",
   "metadata": {},
   "source": [
    "## Start to train"
   ]
  },
  {
   "cell_type": "code",
   "execution_count": 5,
   "metadata": {},
   "outputs": [
    {
     "output_type": "stream",
     "name": "stdout",
     "text": [
      "torch.Size([12699, 300])\n"
     ]
    }
   ],
   "source": [
    "config['timestr'] = time.strftime(\"%Y%m%d-%H%M%S\")\n",
    "config['save_name'] = 'CNN_LSTM'\n",
    "config['input_dim'] = len(AttractiveData.TEXT.vocab)\n",
    "config['embedding_dim'] = 300\n",
    "config['category_dim'] = len(AttractiveData.CATEGORIES_LABEL.vocab)\n",
    "config['category_embedding_dim'] = 10\n",
    "config['hidden_dim'] = 30\n",
    "config['output_dim'] = 1\n",
    "config['log_steps'] = 10\n",
    "config['epochs'] = 200\n",
    "config['lr'] = {\n",
    "    'encoder': 1e-5,\n",
    "    'embedding': 6e-6,\n",
    "    'linear': 1e-5\n",
    "}\n",
    "config['num_layers'] = 1\n",
    "config['kernel_size'] = 3\n",
    "config['dropout'] = 0.5\n",
    "config['train_len'] = AttractiveData.train_len\n",
    "config['val_len'] = AttractiveData.val_len\n",
    "config['test_len'] = AttractiveData.test_len\n",
    "\n",
    "pretrained_embeddings = AttractiveData.TEXT.vocab.vectors\n",
    "print(pretrained_embeddings.shape)"
   ]
  },
  {
   "cell_type": "code",
   "execution_count": 6,
   "metadata": {},
   "outputs": [],
   "source": [
    "AttractiveTrainer = AttractiveTrainer(config, AttractiveData.device, AttractiveData.trainloader, AttractiveData.valloader, pretrained_embeddings)"
   ]
  },
  {
   "cell_type": "code",
   "execution_count": 7,
   "metadata": {},
   "outputs": [
    {
     "output_type": "execute_result",
     "data": {
      "text/plain": [
       "(AttractiveNet(\n",
       "   (embedding): AttractiveEmbedding(\n",
       "     (token): TokenEmbedding(12699, 300, padding_idx=1)\n",
       "   )\n",
       "   (bigramcnn): Sequential(\n",
       "     (0): Conv1d(300, 210, kernel_size=(2,), stride=(1,), padding=(1,))\n",
       "     (1): ReLU()\n",
       "     (2): Conv1d(210, 100, kernel_size=(2,), stride=(1,), padding=(1,))\n",
       "     (3): ReLU()\n",
       "     (4): Dropout(p=0.5, inplace=False)\n",
       "   )\n",
       "   (trigramcnn): Sequential(\n",
       "     (0): Conv1d(300, 210, kernel_size=(3,), stride=(1,), padding=(1,))\n",
       "     (1): ReLU()\n",
       "     (2): Conv1d(210, 100, kernel_size=(3,), stride=(1,), padding=(1,))\n",
       "     (3): ReLU()\n",
       "     (4): Dropout(p=0.5, inplace=False)\n",
       "   )\n",
       "   (encoder_bigram): LSTM(100, 30, batch_first=True, dropout=0.5, bidirectional=True)\n",
       "   (encoder_trigram): LSTM(100, 30, batch_first=True, dropout=0.5, bidirectional=True)\n",
       "   (linear): Sequential(\n",
       "     (0): Linear(in_features=128, out_features=30, bias=True)\n",
       "     (1): ReLU()\n",
       "     (2): Linear(in_features=30, out_features=1, bias=True)\n",
       "   )\n",
       " ),\n",
       " 4297581,\n",
       " 4297581)"
      ]
     },
     "metadata": {},
     "execution_count": 7
    }
   ],
   "source": [
    "AttractiveTrainer.model, AttractiveTrainer.config['total_params'], AttractiveTrainer.config['total_learned_params']"
   ]
  },
  {
   "cell_type": "code",
   "execution_count": 8,
   "metadata": {
    "tags": [
     "outputPrepend"
    ]
   },
   "outputs": [
    {
     "output_type": "stream",
     "name": "stderr",
     "text": [
      "ch:  24%|██▍       | 48/200 [00:20<01:03,  2.38it/s]\n",
      "EP_47 | train loss: 0.43891548923417634 | val loss: 0.37123368242207694 |\n",
      "Epoch:  24%|██▍       | 49/200 [00:20<01:03,  2.40it/s]\n",
      "EP_48 | train loss: 0.4331865254570456 | val loss: 0.3645961991712159 |\n",
      "Epoch:  25%|██▌       | 50/200 [00:21<01:02,  2.40it/s]\n",
      "EP_49 | train loss: 0.43017068002738207 | val loss: 0.3605486762289907 |\n",
      "Epoch:  26%|██▌       | 51/200 [00:21<01:02,  2.38it/s]\n",
      "EP_50 | train loss: 0.4289627103244557 | val loss: 0.35824601556740554 |\n",
      "Epoch:  26%|██▌       | 52/200 [00:21<01:01,  2.40it/s]\n",
      "EP_51 | train loss: 0.425633991465849 | val loss: 0.35523367687767626 |\n",
      "Epoch:  26%|██▋       | 53/200 [00:22<01:01,  2.41it/s]\n",
      "EP_52 | train loss: 0.4264397480908562 | val loss: 0.3539862609377094 |\n",
      "Epoch:  27%|██▋       | 54/200 [00:22<01:00,  2.42it/s]\n",
      "EP_53 | train loss: 0.42142633456809847 | val loss: 0.349773834733402 |\n",
      "Epoch:  28%|██▊       | 55/200 [00:23<00:59,  2.43it/s]\n",
      "EP_54 | train loss: 0.42449481721017873 | val loss: 0.3514421003706315 |\n",
      "Epoch:  28%|██▊       | 56/200 [00:23<01:00,  2.40it/s]\n",
      "EP_55 | train loss: 0.41712927070318484 | val loss: 0.34536147351358454 |\n",
      "Epoch:  28%|██▊       | 57/200 [00:23<00:59,  2.41it/s]\n",
      "EP_56 | train loss: 0.41597193362666113 | val loss: 0.3438916416729198 |\n",
      "Epoch:  29%|██▉       | 58/200 [00:24<00:59,  2.40it/s]\n",
      "EP_57 | train loss: 0.4148616631825765 | val loss: 0.3436248343364865 |\n",
      "Epoch:  30%|██▉       | 59/200 [00:24<00:58,  2.40it/s]\n",
      "EP_58 | train loss: 0.41415529765334785 | val loss: 0.3421063458218294 |\n",
      "Epoch:  30%|███       | 60/200 [00:25<00:58,  2.41it/s]\n",
      "EP_59 | train loss: 0.40960459989659925 | val loss: 0.33845261089942036 |\n",
      "Epoch:  30%|███       | 61/200 [00:25<00:58,  2.38it/s]\n",
      "EP_60 | train loss: 0.41067721142488367 | val loss: 0.3395596625758152 |\n",
      "Epoch:  31%|███       | 62/200 [00:26<00:57,  2.39it/s]\n",
      "EP_61 | train loss: 0.4154671856001312 | val loss: 0.3431508091150546 |\n",
      "Epoch:  32%|███▏      | 63/200 [00:26<00:56,  2.41it/s]\n",
      "EP_62 | train loss: 0.411283615991181 | val loss: 0.34023452740089566 |\n",
      "Epoch:  32%|███▏      | 64/200 [00:26<00:56,  2.40it/s]\n",
      "EP_63 | train loss: 0.40130214971654554 | val loss: 0.33279402232637595 |\n",
      "Epoch:  32%|███▎      | 65/200 [00:27<00:55,  2.41it/s]\n",
      "EP_64 | train loss: 0.39943098647921693 | val loss: 0.33159810947436913 |\n",
      "Epoch:  33%|███▎      | 66/200 [00:27<00:56,  2.38it/s]\n",
      "EP_65 | train loss: 0.3978206092236089 | val loss: 0.3308684346722622 |\n",
      "Epoch:  34%|███▎      | 67/200 [00:28<00:55,  2.40it/s]\n",
      "EP_66 | train loss: 0.39520797262004775 | val loss: 0.32894230882326764 |\n",
      "Epoch:  34%|███▍      | 68/200 [00:28<00:54,  2.41it/s]\n",
      "EP_67 | train loss: 0.3924401993845023 | val loss: 0.32756683055092306 |\n",
      "Epoch:  34%|███▍      | 69/200 [00:28<00:54,  2.41it/s]\n",
      "EP_68 | train loss: 0.3921286854089475 | val loss: 0.32828666824920505 |\n",
      "Epoch:  35%|███▌      | 70/200 [00:29<00:54,  2.40it/s]\n",
      "EP_69 | train loss: 0.39257536121443204 | val loss: 0.32939887397429524 |\n",
      "Epoch:  36%|███▌      | 71/200 [00:29<00:54,  2.38it/s]\n",
      "EP_70 | train loss: 0.38895855136946134 | val loss: 0.326049837995978 |\n",
      "Epoch:  36%|███▌      | 72/200 [00:30<00:53,  2.37it/s]\n",
      "EP_71 | train loss: 0.3833328462114521 | val loss: 0.3230262375345417 |\n",
      "Epoch:  36%|███▋      | 73/200 [00:30<00:53,  2.39it/s]\n",
      "EP_72 | train loss: 0.38106512181899127 | val loss: 0.3224236018517438 |\n",
      "Epoch:  37%|███▋      | 74/200 [00:31<00:52,  2.40it/s]\n",
      "EP_73 | train loss: 0.3788983316982494 | val loss: 0.3212381770797804 |\n",
      "Epoch:  38%|███▊      | 75/200 [00:31<00:51,  2.41it/s]\n",
      "EP_74 | train loss: 0.3770672171723609 | val loss: 0.3200801552510729 |\n",
      "Epoch:  38%|███▊      | 76/200 [00:31<00:52,  2.37it/s]\n",
      "EP_75 | train loss: 0.3731371795429903 | val loss: 0.3196878252076168 |\n",
      "Epoch:  38%|███▊      | 77/200 [00:32<00:51,  2.40it/s]\n",
      "EP_76 | train loss: 0.37749042230493884 | val loss: 0.31996647516886395 |\n",
      "Epoch:  39%|███▉      | 78/200 [00:32<00:50,  2.41it/s]\n",
      "EP_77 | train loss: 0.36777814603319353 | val loss: 0.31727753024475247 |\n",
      "Epoch:  40%|███▉      | 79/200 [00:33<00:50,  2.41it/s]\n",
      "EP_78 | train loss: 0.3691110961577472 | val loss: 0.31589794509551106 |\n",
      "Epoch:  40%|████      | 80/200 [00:33<00:49,  2.42it/s]\n",
      "EP_79 | train loss: 0.3621226563173182 | val loss: 0.3132377623343 |\n",
      "Epoch:  40%|████      | 81/200 [00:33<00:49,  2.39it/s]\n",
      "EP_80 | train loss: 0.3585002791647818 | val loss: 0.3111827618935529 |\n",
      "Epoch:  41%|████      | 82/200 [00:34<00:49,  2.39it/s]\n",
      "EP_81 | train loss: 0.3567005456662646 | val loss: 0.31128548582394916 |\n",
      "Epoch:  42%|████▏     | 83/200 [00:34<00:48,  2.40it/s]\n",
      "EP_82 | train loss: 0.3533840067246381 | val loss: 0.3092619280020396 |\n",
      "Epoch:  42%|████▏     | 84/200 [00:35<00:48,  2.41it/s]\n",
      "EP_83 | train loss: 0.35026986411973543 | val loss: 0.307398914122114 |\n",
      "Epoch:  42%|████▎     | 85/200 [00:35<00:47,  2.41it/s]\n",
      "EP_84 | train loss: 0.3506689483044194 | val loss: 0.30592192621792064 |\n",
      "Epoch:  43%|████▎     | 86/200 [00:36<00:47,  2.38it/s]\n",
      "EP_85 | train loss: 0.3452606584511551 | val loss: 0.3049461508498472 |\n",
      "Epoch:  44%|████▎     | 87/200 [00:36<00:47,  2.35it/s]\n",
      "EP_86 | train loss: 0.3438219837113923 | val loss: 0.3020347058773041 |\n",
      "Epoch:  44%|████▍     | 88/200 [00:36<00:47,  2.37it/s]\n",
      "EP_87 | train loss: 0.33906363225450703 | val loss: 0.3000520105455436 |\n",
      "Epoch:  44%|████▍     | 89/200 [00:37<00:46,  2.39it/s]\n",
      "EP_88 | train loss: 0.33822106754078585 | val loss: 0.29828084800757615 |\n",
      "Epoch:  45%|████▌     | 90/200 [00:37<00:45,  2.41it/s]\n",
      "EP_89 | train loss: 0.3330973325991163 | val loss: 0.29574016145631377 |\n",
      "Epoch:  46%|████▌     | 91/200 [00:38<00:45,  2.38it/s]\n",
      "EP_90 | train loss: 0.3333887413436291 | val loss: 0.29505660078104806 |\n",
      "Epoch:  46%|████▌     | 92/200 [00:38<00:45,  2.40it/s]\n",
      "EP_91 | train loss: 0.3260397392160752 | val loss: 0.2915118167213365 |\n",
      "Epoch:  46%|████▋     | 93/200 [00:38<00:44,  2.41it/s]\n",
      "EP_92 | train loss: 0.32351512955684286 | val loss: 0.29303596358673245 |\n",
      "Epoch:  47%|████▋     | 94/200 [00:39<00:43,  2.41it/s]\n",
      "EP_93 | train loss: 0.3270918014002781 | val loss: 0.2902829465912838 |\n",
      "Epoch:  48%|████▊     | 95/200 [00:39<00:43,  2.41it/s]\n",
      "EP_94 | train loss: 0.3177086086834178 | val loss: 0.2867086956314012 |\n",
      "Epoch:  48%|████▊     | 96/200 [00:40<00:43,  2.37it/s]\n",
      "EP_95 | train loss: 0.3155451447355981 | val loss: 0.2857602583427055 |\n",
      "Epoch:  48%|████▊     | 97/200 [00:40<00:43,  2.38it/s]\n",
      "EP_96 | train loss: 0.3104245662689209 | val loss: 0.28215524612688553 |\n",
      "Epoch:  49%|████▉     | 98/200 [00:41<00:42,  2.38it/s]\n",
      "EP_97 | train loss: 0.3076224785225064 | val loss: 0.2787555520441018 |\n",
      "Epoch:  50%|████▉     | 99/200 [00:41<00:42,  2.40it/s]\n",
      "EP_98 | train loss: 0.301381869877086 | val loss: 0.2779906462220585 |\n",
      "Epoch:  50%|█████     | 100/200 [00:41<00:41,  2.41it/s]\n",
      "EP_99 | train loss: 0.29953125458137664 | val loss: 0.27485401081103905 |\n",
      "Epoch:  50%|█████     | 101/200 [00:42<00:41,  2.38it/s]\n",
      "EP_100 | train loss: 0.2975982184503593 | val loss: 0.27024783106411204 |\n",
      "Epoch:  51%|█████     | 102/200 [00:42<00:40,  2.40it/s]\n",
      "EP_101 | train loss: 0.29246225871291814 | val loss: 0.27117407730981413 |\n",
      "Epoch:  52%|█████▏    | 103/200 [00:43<00:40,  2.39it/s]\n",
      "EP_102 | train loss: 0.28773172228944066 | val loss: 0.26764045159022015 |\n",
      "Epoch:  52%|█████▏    | 104/200 [00:43<00:40,  2.39it/s]\n",
      "EP_103 | train loss: 0.2850845070446239 | val loss: 0.2658490427568847 |\n",
      "Epoch:  52%|█████▎    | 105/200 [00:43<00:39,  2.39it/s]\n",
      "EP_104 | train loss: 0.280844409793031 | val loss: 0.26074642585773095 |\n",
      "Epoch:  53%|█████▎    | 106/200 [00:44<00:39,  2.37it/s]\n",
      "EP_105 | train loss: 0.2775726051891551 | val loss: 0.256949350530026 |\n",
      "Epoch:  54%|█████▎    | 107/200 [00:44<00:40,  2.31it/s]\n",
      "EP_106 | train loss: 0.27898268138661103 | val loss: 0.2543913359735526 |\n",
      "Epoch:  54%|█████▍    | 108/200 [00:45<00:39,  2.34it/s]\n",
      "EP_107 | train loss: 0.269498826008217 | val loss: 0.24932274163938037 |\n",
      "Epoch:  55%|█████▍    | 109/200 [00:45<00:38,  2.36it/s]\n",
      "EP_108 | train loss: 0.2660303854474834 | val loss: 0.2455899201187433 |\n",
      "Epoch:  55%|█████▌    | 110/200 [00:46<00:37,  2.39it/s]\n",
      "EP_109 | train loss: 0.2616451768314137 | val loss: 0.2491931202364903 |\n",
      "Epoch:  56%|█████▌    | 111/200 [00:46<00:37,  2.36it/s]\n",
      "EP_110 | train loss: 0.27034907621495863 | val loss: 0.2464774998964048 |\n",
      "Epoch:  56%|█████▌    | 112/200 [00:46<00:37,  2.38it/s]\n",
      "EP_111 | train loss: 0.2535929301205803 | val loss: 0.2362370350781609 |\n",
      "Epoch:  56%|█████▋    | 113/200 [00:47<00:36,  2.40it/s]\n",
      "EP_112 | train loss: 0.2491452983781403 | val loss: 0.23087135658544652 |\n",
      "Epoch:  57%|█████▋    | 114/200 [00:47<00:35,  2.40it/s]\n",
      "EP_113 | train loss: 0.24819592821831796 | val loss: 0.2274198128896601 |\n",
      "Epoch:  57%|█████▊    | 115/200 [00:48<00:36,  2.34it/s]\n",
      "EP_114 | train loss: 0.2474069777657004 | val loss: 0.22657904087328443 |\n",
      "Epoch:  58%|█████▊    | 116/200 [00:48<00:36,  2.29it/s]\n",
      "EP_115 | train loss: 0.24035264463985667 | val loss: 0.2200720333585552 |\n",
      "Epoch:  58%|█████▊    | 117/200 [00:49<00:35,  2.32it/s]\n",
      "EP_116 | train loss: 0.235001241459566 | val loss: 0.21630756527769798 |\n",
      "Epoch:  59%|█████▉    | 118/200 [00:49<00:34,  2.35it/s]\n",
      "EP_117 | train loss: 0.228540618279401 | val loss: 0.2151834427141676 |\n",
      "Epoch:  60%|█████▉    | 119/200 [00:49<00:34,  2.37it/s]\n",
      "EP_118 | train loss: 0.2305330842149024 | val loss: 0.21037812793956084 |\n",
      "Epoch:  60%|██████    | 120/200 [00:50<00:33,  2.38it/s]\n",
      "EP_119 | train loss: 0.2202305845185822 | val loss: 0.204297519197651 |\n",
      "Epoch:  60%|██████    | 121/200 [00:50<00:33,  2.35it/s]\n",
      "EP_120 | train loss: 0.215601380666097 | val loss: 0.20202238127297045 |\n",
      "Epoch:  61%|██████    | 122/200 [00:51<00:32,  2.37it/s]\n",
      "EP_121 | train loss: 0.2165700501086665 | val loss: 0.19587020488346324 |\n",
      "Epoch:  62%|██████▏   | 123/200 [00:51<00:32,  2.37it/s]\n",
      "EP_122 | train loss: 0.20673305240331913 | val loss: 0.19043873513446136 |\n",
      "Epoch:  62%|██████▏   | 124/200 [00:52<00:31,  2.39it/s]\n",
      "EP_123 | train loss: 0.2047520871255912 | val loss: 0.18765207949806662 |\n",
      "Epoch:  62%|██████▎   | 125/200 [00:52<00:31,  2.39it/s]\n",
      "EP_124 | train loss: 0.20895330905914306 | val loss: 0.18695598314790166 |\n",
      "Epoch:  63%|██████▎   | 126/200 [00:52<00:31,  2.32it/s]\n",
      "EP_125 | train loss: 0.19650114704580868 | val loss: 0.17783625453126198 |\n",
      "Epoch:  64%|██████▎   | 127/200 [00:53<00:31,  2.35it/s]\n",
      "EP_126 | train loss: 0.18855944918651207 | val loss: 0.17480376888723934 |\n",
      "Epoch:  64%|██████▍   | 128/200 [00:53<00:30,  2.35it/s]\n",
      "EP_127 | train loss: 0.1858647626989028 | val loss: 0.17946399193184048 |\n",
      "Epoch:  64%|██████▍   | 129/200 [00:54<00:29,  2.39it/s]\n",
      "EP_128 | train loss: 0.18226952903410967 | val loss: 0.1771507368368261 |\n",
      "Epoch:  65%|██████▌   | 130/200 [00:54<00:29,  2.40it/s]\n",
      "EP_129 | train loss: 0.17584842840830486 | val loss: 0.16505682468414307 |\n",
      "Epoch:  66%|██████▌   | 131/200 [00:55<00:29,  2.36it/s]\n",
      "EP_130 | train loss: 0.17176287828707226 | val loss: 0.1575468790297415 |\n",
      "Epoch:  66%|██████▌   | 132/200 [00:55<00:28,  2.38it/s]\n",
      "EP_131 | train loss: 0.17066006496840833 | val loss: 0.15330916526270846 |\n",
      "Epoch:  66%|██████▋   | 133/200 [00:55<00:28,  2.38it/s]\n",
      "EP_132 | train loss: 0.163968339620852 | val loss: 0.14757629001841827 |\n",
      "Epoch:  67%|██████▋   | 134/200 [00:56<00:27,  2.40it/s]\n",
      "EP_133 | train loss: 0.1569920250013763 | val loss: 0.1437634404967813 |\n",
      "Epoch:  68%|██████▊   | 135/200 [00:56<00:26,  2.41it/s]\n",
      "EP_134 | train loss: 0.1534351634044273 | val loss: 0.14483880529216692 |\n",
      "Epoch:  68%|██████▊   | 136/200 [00:57<00:26,  2.38it/s]\n",
      "EP_135 | train loss: 0.14783097225077013 | val loss: 0.13671371107007943 |\n",
      "Epoch:  68%|██████▊   | 137/200 [00:57<00:26,  2.40it/s]\n",
      "EP_136 | train loss: 0.14266818107343188 | val loss: 0.13401180739496268 |\n",
      "Epoch:  69%|██████▉   | 138/200 [00:57<00:25,  2.41it/s]\n",
      "EP_137 | train loss: 0.13925437553256165 | val loss: 0.12663977929190093 |\n",
      "Epoch:  70%|██████▉   | 139/200 [00:58<00:25,  2.41it/s]\n",
      "EP_138 | train loss: 0.13489933084039127 | val loss: 0.12592472165238625 |\n",
      "Epoch:  70%|███████   | 140/200 [00:58<00:24,  2.40it/s]\n",
      "EP_139 | train loss: 0.1391045046787636 | val loss: 0.133535948454165 |\n",
      "Epoch:  70%|███████   | 141/200 [00:59<00:24,  2.38it/s]\n",
      "EP_140 | train loss: 0.14109261129416673 | val loss: 0.1253540159440508 |\n",
      "Epoch:  71%|███████   | 142/200 [00:59<00:24,  2.39it/s]\n",
      "EP_141 | train loss: 0.13045540393567553 | val loss: 0.12649628344704122 |\n",
      "Epoch:  72%|███████▏  | 143/200 [01:00<00:23,  2.39it/s]\n",
      "EP_142 | train loss: 0.11924899512646245 | val loss: 0.10885411150315229 |\n",
      "Epoch:  72%|███████▏  | 144/200 [01:00<00:23,  2.38it/s]\n",
      "EP_143 | train loss: 0.12094373656254188 | val loss: 0.10762292847913854 |\n",
      "Epoch:  72%|███████▎  | 145/200 [01:00<00:22,  2.40it/s]\n",
      "EP_144 | train loss: 0.11344586143306658 | val loss: 0.10299814974560458 |\n",
      "Epoch:  73%|███████▎  | 146/200 [01:01<00:22,  2.37it/s]\n",
      "EP_145 | train loss: 0.10920932620179419 | val loss: 0.09759360318090401 |\n",
      "Epoch:  74%|███████▎  | 147/200 [01:01<00:22,  2.36it/s]\n",
      "EP_146 | train loss: 0.14025376591027952 | val loss: 0.12520370763890884 |\n",
      "Epoch:  74%|███████▍  | 148/200 [01:02<00:22,  2.35it/s]\n",
      "EP_147 | train loss: 0.10491694001590504 | val loss: 0.09510089018765618 |\n",
      "Epoch:  74%|███████▍  | 149/200 [01:02<00:21,  2.34it/s]\n",
      "EP_148 | train loss: 0.09520522005417768 | val loss: 0.0886203103205737 |\n",
      "Epoch:  75%|███████▌  | 150/200 [01:02<00:21,  2.36it/s]\n",
      "EP_149 | train loss: 0.10948477305617987 | val loss: 0.09801405902002372 |\n",
      "Epoch:  76%|███████▌  | 151/200 [01:03<00:20,  2.34it/s]\n",
      "EP_150 | train loss: 0.099900797067904 | val loss: 0.09855304453887191 |\n",
      "Epoch:  76%|███████▌  | 152/200 [01:03<00:20,  2.34it/s]\n",
      "EP_151 | train loss: 0.0880163218460831 | val loss: 0.07819244440864115 |\n",
      "Epoch:  76%|███████▋  | 153/200 [01:04<00:19,  2.36it/s]\n",
      "EP_152 | train loss: 0.08165850721153559 | val loss: 0.07546716051943161 |\n",
      "Epoch:  77%|███████▋  | 154/200 [01:04<00:19,  2.38it/s]\n",
      "EP_153 | train loss: 0.09083676104452096 | val loss: 0.08016712116260155 |\n",
      "Epoch:  78%|███████▊  | 155/200 [01:05<00:18,  2.39it/s]\n",
      "EP_154 | train loss: 0.07615857393133874 | val loss: 0.07123753486895094 |\n",
      "Epoch:  78%|███████▊  | 156/200 [01:05<00:18,  2.35it/s]\n",
      "EP_155 | train loss: 0.07364455216071185 | val loss: 0.06873810174418431 |\n",
      "Epoch:  78%|███████▊  | 157/200 [01:05<00:18,  2.36it/s]\n",
      "EP_156 | train loss: 0.07098762486495223 | val loss: 0.06635601117330439 |\n",
      "Epoch:  79%|███████▉  | 158/200 [01:06<00:17,  2.38it/s]\n",
      "EP_157 | train loss: 0.06801080224560756 | val loss: 0.06513474268071792 |\n",
      "Epoch:  80%|███████▉  | 159/200 [01:06<00:17,  2.40it/s]\n",
      "EP_158 | train loss: 0.06423883064120424 | val loss: 0.05981864648706773 |\n",
      "Epoch:  80%|████████  | 160/200 [01:07<00:16,  2.39it/s]\n",
      "EP_159 | train loss: 0.06596361480507196 | val loss: 0.062138941650297125 |\n",
      "Epoch:  80%|████████  | 161/200 [01:07<00:16,  2.36it/s]\n",
      "EP_160 | train loss: 0.059913213463390576 | val loss: 0.057078433387419754 |\n",
      "Epoch:  81%|████████  | 162/200 [01:08<00:16,  2.37it/s]\n",
      "EP_161 | train loss: 0.060018752486098045 | val loss: 0.05439341711063011 |\n",
      "Epoch:  82%|████████▏ | 163/200 [01:08<00:15,  2.38it/s]\n",
      "EP_162 | train loss: 0.056467689252367205 | val loss: 0.05394435995349697 |\n",
      "Epoch:  82%|████████▏ | 164/200 [01:08<00:15,  2.39it/s]\n",
      "EP_163 | train loss: 0.05437947114308675 | val loss: 0.05126595175733753 |\n",
      "Epoch:  82%|████████▎ | 165/200 [01:09<00:14,  2.40it/s]\n",
      "EP_164 | train loss: 0.05628206215652765 | val loss: 0.05667245417248969 |\n",
      "Epoch:  83%|████████▎ | 166/200 [01:09<00:14,  2.38it/s]\n",
      "EP_165 | train loss: 0.05558111071586609 | val loss: 0.052652653525857365 |\n",
      "Epoch:  84%|████████▎ | 167/200 [01:10<00:13,  2.39it/s]\n",
      "EP_166 | train loss: 0.04755248830598943 | val loss: 0.046029104613790325 |\n",
      "Epoch:  84%|████████▍ | 168/200 [01:10<00:13,  2.40it/s]\n",
      "EP_167 | train loss: 0.06546372070032007 | val loss: 0.0615324827970243 |\n",
      "Epoch:  84%|████████▍ | 169/200 [01:10<00:12,  2.41it/s]\n",
      "EP_168 | train loss: 0.04528925868810392 | val loss: 0.04575709647992078 |\n",
      "Epoch:  85%|████████▌ | 170/200 [01:11<00:12,  2.41it/s]\n",
      "EP_169 | train loss: 0.05015298268374275 | val loss: 0.04702744063209085 |\n",
      "Epoch:  86%|████████▌ | 171/200 [01:11<00:12,  2.38it/s]\n",
      "EP_170 | train loss: 0.04252245724201202 | val loss: 0.04020049788203894 |\n",
      "Epoch:  86%|████████▌ | 172/200 [01:12<00:11,  2.39it/s]\n",
      "EP_171 | train loss: 0.04097771159574097 | val loss: 0.040771035879266025 |\n",
      "Epoch:  86%|████████▋ | 173/200 [01:12<00:11,  2.40it/s]\n",
      "EP_172 | train loss: 0.03859143712941338 | val loss: 0.03689973611457675 |\n",
      "Epoch:  87%|████████▋ | 174/200 [01:13<00:10,  2.40it/s]\n",
      "EP_173 | train loss: 0.03774573516611959 | val loss: 0.03686219862863129 |\n",
      "Epoch:  88%|████████▊ | 175/200 [01:13<00:10,  2.40it/s]\n",
      "EP_174 | train loss: 0.03903106889303993 | val loss: 0.036267119733726275 |\n",
      "Epoch:  88%|████████▊ | 176/200 [01:13<00:10,  2.36it/s]\n",
      "EP_175 | train loss: 0.045499204771191466 | val loss: 0.04084855756338905 |\n",
      "Epoch:  88%|████████▊ | 177/200 [01:14<00:09,  2.37it/s]\n",
      "EP_176 | train loss: 0.052981366480098054 | val loss: 0.05121583886006299 |\n",
      "Epoch:  89%|████████▉ | 178/200 [01:14<00:09,  2.38it/s]\n",
      "EP_177 | train loss: 0.031469819709366444 | val loss: 0.03297192354996999 |\n",
      "Epoch:  90%|████████▉ | 179/200 [01:15<00:08,  2.39it/s]\n",
      "EP_178 | train loss: 0.032622772747395085 | val loss: 0.03267516897005193 |\n",
      "Epoch:  90%|█████████ | 180/200 [01:15<00:08,  2.39it/s]\n",
      "EP_179 | train loss: 0.03474971365694906 | val loss: 0.03419534672124713 |\n",
      "Epoch:  90%|█████████ | 181/200 [01:15<00:08,  2.37it/s]\n",
      "EP_180 | train loss: 0.03006179937544991 | val loss: 0.02999999169625488 |\n",
      "Epoch:  91%|█████████ | 182/200 [01:16<00:07,  2.39it/s]\n",
      "EP_181 | train loss: 0.03792186817702125 | val loss: 0.03790381433917027 |\n",
      "Epoch:  92%|█████████▏| 183/200 [01:16<00:07,  2.40it/s]\n",
      "EP_182 | train loss: 0.04148249713813557 | val loss: 0.04068789674955256 |\n",
      "Epoch:  92%|█████████▏| 184/200 [01:17<00:06,  2.40it/s]\n",
      "EP_183 | train loss: 0.04150772877767974 | val loss: 0.04020776921043209 |\n",
      "Epoch:  92%|█████████▎| 185/200 [01:17<00:06,  2.39it/s]\n",
      "EP_184 | train loss: 0.038353599403418745 | val loss: 0.04050356850904577 |\n",
      "Epoch:  93%|█████████▎| 186/200 [01:18<00:05,  2.34it/s]\n",
      "EP_185 | train loss: 0.025319553268890755 | val loss: 0.026102863690432382 |\n",
      "Epoch:  94%|█████████▎| 187/200 [01:18<00:05,  2.36it/s]\n",
      "EP_186 | train loss: 0.03821378467129726 | val loss: 0.039342581349260664 |\n",
      "Epoch:  94%|█████████▍| 188/200 [01:18<00:05,  2.36it/s]\n",
      "EP_187 | train loss: 0.04675041589082456 | val loss: 0.04782661854052076 |\n",
      "Epoch:  94%|█████████▍| 189/200 [01:19<00:04,  2.37it/s]\n",
      "EP_188 | train loss: 0.02386498541808596 | val loss: 0.025369016563191134 |\n",
      "Epoch:  95%|█████████▌| 190/200 [01:19<00:04,  2.38it/s]\n",
      "EP_189 | train loss: 0.024827351757124357 | val loss: 0.026472571652893927 |\n",
      "Epoch:  96%|█████████▌| 191/200 [01:20<00:03,  2.35it/s]\n",
      "EP_190 | train loss: 0.028578113720697514 | val loss: 0.029580666592308118 |\n",
      "Epoch:  96%|█████████▌| 192/200 [01:20<00:03,  2.35it/s]\n",
      "EP_191 | train loss: 0.0210329783021235 | val loss: 0.023644522635960112 |\n",
      "Epoch:  96%|█████████▋| 193/200 [01:21<00:02,  2.37it/s]\n",
      "EP_192 | train loss: 0.02014261162748524 | val loss: 0.020666609719103456 |\n",
      "Epoch:  97%|█████████▋| 194/200 [01:21<00:02,  2.40it/s]\n",
      "EP_193 | train loss: 0.019109056890010835 | val loss: 0.021087252261007532 |\n",
      "Epoch:  98%|█████████▊| 195/200 [01:21<00:02,  2.41it/s]\n",
      "EP_194 | train loss: 0.02072907917055429 | val loss: 0.022393301932835112 |\n",
      "Epoch:  98%|█████████▊| 196/200 [01:22<00:01,  2.38it/s]\n",
      "EP_195 | train loss: 0.018330818473124035 | val loss: 0.01960992572062156 |\n",
      "Epoch:  98%|█████████▊| 197/200 [01:22<00:01,  2.38it/s]\n",
      "EP_196 | train loss: 0.019008938091642717 | val loss: 0.020577710633184396 |\n",
      "Epoch:  99%|█████████▉| 198/200 [01:23<00:00,  2.38it/s]\n",
      "EP_197 | train loss: 0.019655040607732883 | val loss: 0.021112207542447484 |\n",
      "Epoch: 100%|█████████▉| 199/200 [01:23<00:00,  2.39it/s]\n",
      "EP_198 | train loss: 0.0191402792930603 | val loss: 0.020170411861994687 |\n",
      "Epoch: 100%|██████████| 200/200 [01:23<00:00,  2.38it/s]\n",
      "EP_199 | train loss: 0.015506540078158472 | val loss: 0.017259061153905065 |\n",
      "\n"
     ]
    }
   ],
   "source": [
    "AttractiveTrainer.train()"
   ]
  },
  {
   "cell_type": "markdown",
   "metadata": {},
   "source": [
    "## Below is testing"
   ]
  },
  {
   "cell_type": "code",
   "execution_count": 6,
   "metadata": {},
   "outputs": [
    {
     "output_type": "execute_result",
     "data": {
      "text/plain": [
       "AttractiveNet(\n",
       "  (embedding): AttractiveEmbedding(\n",
       "    (token): TokenEmbedding(12699, 300, padding_idx=1)\n",
       "  )\n",
       "  (bigramcnn): Sequential(\n",
       "    (0): Conv1d(300, 210, kernel_size=(2,), stride=(1,), padding=(1,))\n",
       "    (1): ReLU()\n",
       "    (2): Conv1d(210, 100, kernel_size=(2,), stride=(1,), padding=(1,))\n",
       "    (3): ReLU()\n",
       "    (4): Dropout(p=0.5, inplace=False)\n",
       "  )\n",
       "  (trigramcnn): Sequential(\n",
       "    (0): Conv1d(300, 210, kernel_size=(3,), stride=(1,), padding=(1,))\n",
       "    (1): ReLU()\n",
       "    (2): Conv1d(210, 100, kernel_size=(3,), stride=(1,), padding=(1,))\n",
       "    (3): ReLU()\n",
       "    (4): Dropout(p=0.5, inplace=False)\n",
       "  )\n",
       "  (encoder_bigram): LSTM(100, 30, batch_first=True, dropout=0.5, bidirectional=True)\n",
       "  (encoder_trigram): LSTM(100, 30, batch_first=True, dropout=0.5, bidirectional=True)\n",
       "  (linear): Sequential(\n",
       "    (0): Linear(in_features=128, out_features=30, bias=True)\n",
       "    (1): ReLU()\n",
       "    (2): Linear(in_features=30, out_features=1, bias=True)\n",
       "  )\n",
       ")"
      ]
     },
     "metadata": {},
     "execution_count": 6
    }
   ],
   "source": [
    "from attractivenet import AttractiveNet\n",
    "\n",
    "PATH = './model/CNN_LSTM_20201109-133617/0.358500.80'\n",
    "\n",
    "load_model = AttractiveNet(config).to(AttractiveData.device)\n",
    "load_model.load_state_dict(torch.load(PATH))\n",
    "load_model.eval()"
   ]
  },
  {
   "cell_type": "code",
   "execution_count": 7,
   "metadata": {},
   "outputs": [],
   "source": [
    "def predict_attractive(sentence, category, phase):\n",
    "    indexed_sentence = [AttractiveData.TEXT.vocab.stoi[t] for t in sentence]\n",
    "    indexed_category = [AttractiveData.CATEGORIES_LABEL.vocab.stoi[category]]\n",
    "    tensor_sentence = torch.LongTensor(indexed_sentence).to(AttractiveData.device)\n",
    "    tensor_category = torch.LongTensor(indexed_category).to(AttractiveData.device)\n",
    "    tensor_sentence = tensor_sentence.unsqueeze(0)\n",
    "\n",
    "    prediction = load_model(tensor_sentence, tensor_category, phase=phase)\n",
    "\n",
    "    return prediction"
   ]
  },
  {
   "cell_type": "code",
   "execution_count": 8,
   "metadata": {
    "tags": []
   },
   "outputs": [],
   "source": [
    "# train mean = 3.15, test mean = 2.8\n",
    "predict_list = []\n",
    "with torch.no_grad():\n",
    "    for i, sentence in enumerate(AttractiveData.test_data):\n",
    "        prediction = predict_attractive(sentence.Headline, sentence.Category, 'test')\n",
    "        predict_list.append(prediction.item())\n",
    "        # predict_list.append(prediction.item())\n",
    "AttractiveData.df_test['Label'] = predict_list\n",
    "AttractiveData.df_test[['ID', 'Label']].to_csv(config['save_name'] + '.csv', index=False)"
   ]
  },
  {
   "cell_type": "markdown",
   "metadata": {},
   "source": [
    "## Below for statistics"
   ]
  },
  {
   "cell_type": "code",
   "execution_count": 9,
   "metadata": {},
   "outputs": [],
   "source": [
    "import statistics\n",
    "from sklearn.metrics import mean_squared_error"
   ]
  },
  {
   "cell_type": "code",
   "execution_count": 10,
   "metadata": {},
   "outputs": [],
   "source": [
    "# # train mean = 3.15, test mean = 2.8\n",
    "# train_list = []\n",
    "# for i, sentence in enumerate(AttractiveData.train_data):\n",
    "#     prediction = predict_attractive(sentence.Headline, sentence.Category, 'train')\n",
    "#     train_list.append(prediction.item())\n",
    "#     # train_list.append(prediction.item())\n",
    "# # print(train_list)\n",
    "# mean_squared_error(pd.read_csv('data/train.csv').sort_values(['ID']).Label.to_list(), train_list), statistics.mean(train_list), statistics.stdev(train_list)"
   ]
  },
  {
   "cell_type": "code",
   "execution_count": 11,
   "metadata": {},
   "outputs": [],
   "source": [
    "# train_list[0:5], pd.read_csv('data/train.csv').sort_values(['ID']).Label.to_list()[0:5]"
   ]
  },
  {
   "cell_type": "code",
   "execution_count": 12,
   "metadata": {},
   "outputs": [],
   "source": [
    "# a = AttractiveData.df_train['Label'].to_list()\n",
    "# statistics.mean(a), statistics.stdev(a)"
   ]
  },
  {
   "cell_type": "code",
   "execution_count": 13,
   "metadata": {},
   "outputs": [
    {
     "output_type": "execute_result",
     "data": {
      "text/plain": [
       "(2.743440249417847, 0.37024404805529393)"
      ]
     },
     "metadata": {},
     "execution_count": 13
    }
   ],
   "source": [
    "statistics.mean(predict_list), statistics.stdev(predict_list)"
   ]
  },
  {
   "cell_type": "code",
   "execution_count": 14,
   "metadata": {},
   "outputs": [
    {
     "output_type": "execute_result",
     "data": {
      "text/plain": [
       "(0.0024361580875235356, 2.7876357276009043, 0.3643672504501976)"
      ]
     },
     "metadata": {},
     "execution_count": 14
    }
   ],
   "source": [
    "baseline_list = pd.read_csv('baseline.csv').sort_values(['ID']).Label.to_list()\n",
    "mean_squared_error(baseline_list, predict_list), statistics.mean(baseline_list), statistics.stdev(baseline_list)"
   ]
  },
  {
   "cell_type": "code",
   "execution_count": null,
   "metadata": {},
   "outputs": [],
   "source": []
  },
  {
   "cell_type": "code",
   "execution_count": 15,
   "metadata": {},
   "outputs": [
    {
     "output_type": "execute_result",
     "data": {
      "text/plain": [
       "4.055494478172638e-05"
      ]
     },
     "metadata": {},
     "execution_count": 15
    }
   ],
   "source": [
    "mean_squared_error(pd.read_csv('baseline.csv').sort_values(['ID']).Label.to_list(), pd.read_csv('./CNN_LSTM.csv').sort_values(['ID']).Label.to_list())"
   ]
  },
  {
   "cell_type": "code",
   "execution_count": 13,
   "metadata": {},
   "outputs": [],
   "source": []
  },
  {
   "cell_type": "code",
   "execution_count": null,
   "metadata": {},
   "outputs": [],
   "source": []
  }
 ],
 "metadata": {
  "kernelspec": {
   "display_name": "DS_hw2",
   "language": "python",
   "name": "ds_hw2"
  },
  "language_info": {
   "codemirror_mode": {
    "name": "ipython",
    "version": 3
   },
   "file_extension": ".py",
   "mimetype": "text/x-python",
   "name": "python",
   "nbconvert_exporter": "python",
   "pygments_lexer": "ipython3",
   "version": "3.6.12-final"
  }
 },
 "nbformat": 4,
 "nbformat_minor": 4
}