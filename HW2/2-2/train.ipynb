{
 "cells": [
  {
   "cell_type": "code",
   "execution_count": 1,
   "metadata": {},
   "outputs": [],
   "source": [
    "# common packages\n",
    "import pandas as pd\n",
    "import time\n",
    "\n",
    "# # DL framework\n",
    "import torch\n",
    "from torchtext import data\n",
    "\n",
    "from attractivedata import AttractiveData\n",
    "from trainer import AttractiveTrainer"
   ]
  },
  {
   "source": [
    "# TODO: \n",
    "- [ ] word embedding multiply tfidf\n",
    "- [ ] use word2vec\n",
    "- [ ] k-fold cv"
   ],
   "cell_type": "markdown",
   "metadata": {}
  },
  {
   "cell_type": "markdown",
   "metadata": {},
   "source": [
    "## Load and prepare data"
   ]
  },
  {
   "cell_type": "code",
   "execution_count": 2,
   "metadata": {},
   "outputs": [],
   "source": [
    "train_file = 'data/train.csv'\n",
    "val_file = 'example/val.csv'\n",
    "test_file = 'data/test.csv'\n",
    "pretrained_file = 'glove.840B.300d'\n",
    "config = {\n",
    "    'max_seq': 40,\n",
    "    'min_freq': 0,\n",
    "    'batch_size': 64,\n",
    "    'pretrained_file': pretrained_file\n",
    "}\n"
   ]
  },
  {
   "cell_type": "code",
   "execution_count": 3,
   "metadata": {},
   "outputs": [],
   "source": [
    "AttractiveData = AttractiveData(train_file, val_file, test_file, pretrained_file, config)"
   ]
  },
  {
   "cell_type": "code",
   "execution_count": 4,
   "metadata": {},
   "outputs": [],
   "source": [
    "# for i, sentence in enumerate(AttractiveData.test_data):\n",
    "#     if i == 3:\n",
    "#         print(vars(AttractiveData.train_data[i]), vars(sentence))"
   ]
  },
  {
   "cell_type": "code",
   "execution_count": 5,
   "metadata": {},
   "outputs": [
    {
     "output_type": "execute_result",
     "data": {
      "text/plain": [
       "[('the', 1524),\n",
       " ('to', 1180),\n",
       " ('a', 940),\n",
       " ('of', 903),\n",
       " ('and', 884),\n",
       " ('in', 843),\n",
       " ('for', 517),\n",
       " ('with', 383),\n",
       " ('on', 376),\n",
       " ('as', 337),\n",
       " ('is', 328),\n",
       " ('after', 261),\n",
       " ('at', 249),\n",
       " ('from', 233),\n",
       " ('by', 217)]"
      ]
     },
     "metadata": {},
     "execution_count": 5
    }
   ],
   "source": [
    "AttractiveData.TEXT.vocab.freqs.most_common(15)"
   ]
  },
  {
   "cell_type": "code",
   "execution_count": 6,
   "metadata": {},
   "outputs": [
    {
     "output_type": "execute_result",
     "data": {
      "text/plain": [
       "38"
      ]
     },
     "metadata": {},
     "execution_count": 6
    }
   ],
   "source": [
    "max_len = 0\n",
    "a = AttractiveData.train_data\n",
    "for i in range(len(a)):\n",
    "    if len(a[i].Headline) >= max_len:\n",
    "        max_len = len(a[i].Headline)\n",
    "max_len"
   ]
  },
  {
   "cell_type": "markdown",
   "metadata": {},
   "source": [
    "## Start to train"
   ]
  },
  {
   "cell_type": "code",
   "execution_count": 7,
   "metadata": {},
   "outputs": [
    {
     "output_type": "stream",
     "name": "stdout",
     "text": [
      "torch.Size([12699, 300])\n"
     ]
    }
   ],
   "source": [
    "config['timestr'] = time.strftime(\"%Y%m%d-%H%M%S\")\n",
    "config['save_name'] = 'CNN_LSTM'\n",
    "config['input_dim'] = len(AttractiveData.TEXT.vocab)\n",
    "config['embedding_dim'] = 300\n",
    "config['category_dim'] = len(AttractiveData.CATEGORIES_LABEL.vocab)\n",
    "config['category_embedding_dim'] = 8\n",
    "config['hidden_dim'] = 30\n",
    "config['output_dim'] = 1\n",
    "config['log_steps'] = 10\n",
    "config['epochs'] = 150\n",
    "config['lr'] = {\n",
    "    'encoder': 1e-5,\n",
    "    'embedding': 6e-6,\n",
    "    'linear': 1e-5\n",
    "}\n",
    "config['num_layers'] = 1\n",
    "config['kernel_size'] = 3\n",
    "config['dropout'] = 0.1\n",
    "config['train_len'] = AttractiveData.train_len\n",
    "config['val_len'] = AttractiveData.val_len\n",
    "config['test_len'] = AttractiveData.test_len\n",
    "\n",
    "pretrained_embeddings = AttractiveData.TEXT.vocab.vectors\n",
    "print(pretrained_embeddings.shape)"
   ]
  },
  {
   "cell_type": "code",
   "execution_count": 8,
   "metadata": {},
   "outputs": [],
   "source": [
    "AttractiveTrainer = AttractiveTrainer(config, AttractiveData.device, AttractiveData.trainloader, AttractiveData.valloader, pretrained_embeddings)"
   ]
  },
  {
   "cell_type": "code",
   "execution_count": 9,
   "metadata": {},
   "outputs": [
    {
     "output_type": "execute_result",
     "data": {
      "text/plain": [
       "(AttractiveNet(\n",
       "   (embedding): AttractiveEmbedding(\n",
       "     (token): TokenEmbedding(12699, 300, padding_idx=1)\n",
       "   )\n",
       "   (bigramcnn): Sequential(\n",
       "     (0): Conv1d(300, 200, kernel_size=(3,), stride=(1,), padding=(1,))\n",
       "     (1): ReLU()\n",
       "     (2): Conv1d(200, 100, kernel_size=(3,), stride=(1,), padding=(1,))\n",
       "     (3): ReLU()\n",
       "   )\n",
       "   (trigramcnn): Sequential(\n",
       "     (0): Conv1d(300, 200, kernel_size=(3,), stride=(1,), padding=(1,))\n",
       "     (1): ReLU()\n",
       "     (2): Conv1d(200, 100, kernel_size=(3,), stride=(1,), padding=(1,))\n",
       "     (3): ReLU()\n",
       "   )\n",
       "   (encoder_bigram_first): LSTM(100, 30, batch_first=True, dropout=0.1, bidirectional=True)\n",
       "   (encoder_bigram_second): LSTM(60, 30, batch_first=True, dropout=0.1, bidirectional=True)\n",
       "   (encoder_trigram_first): LSTM(100, 30, batch_first=True, dropout=0.1, bidirectional=True)\n",
       "   (encoder_trigram_second): LSTM(60, 30, batch_first=True, dropout=0.1, bidirectional=True)\n",
       "   (linear): Sequential(\n",
       "     (0): Linear(in_features=240, out_features=30, bias=True)\n",
       "     (1): ReLU()\n",
       "     (2): Linear(in_features=30, out_features=1, bias=True)\n",
       "   )\n",
       " ),\n",
       " 4405081,\n",
       " 4405081)"
      ]
     },
     "metadata": {},
     "execution_count": 9
    }
   ],
   "source": [
    "AttractiveTrainer.model, AttractiveTrainer.config['total_params'], AttractiveTrainer.config['total_learned_params']"
   ]
  },
  {
   "cell_type": "code",
   "execution_count": 10,
   "metadata": {
    "tags": [
     "outputPrepend"
    ]
   },
   "outputs": [
    {
     "output_type": "stream",
     "name": "stderr",
     "text": [
      "      | 5/150 [00:02<01:22,  1.76it/s]\n",
      "EP_train | train loss: 0.5718166687909294 | val loss: 0.731521583070942 |\n",
      "====\n",
      "Epoch:   4%|▍         | 6/150 [00:03<01:22,  1.74it/s]\n",
      "EP_train | train loss: 0.5606825566759297 | val loss: 0.6988431776271147 |\n",
      "====\n",
      "Epoch:   5%|▍         | 7/150 [00:03<01:21,  1.76it/s]\n",
      "EP_train | train loss: 0.5599328742307775 | val loss: 0.6885443481744504 |\n",
      "====\n",
      "Epoch:   5%|▌         | 8/150 [00:04<01:20,  1.76it/s]\n",
      "EP_train | train loss: 0.5589881392086253 | val loss: 0.6809147596359253 |\n",
      "====\n",
      "Epoch:   6%|▌         | 9/150 [00:05<01:20,  1.75it/s]\n",
      "EP_train | train loss: 0.5606503271589092 | val loss: 0.6525255535163131 |\n",
      "====\n",
      "Epoch:   7%|▋         | 10/150 [00:05<01:20,  1.74it/s]\n",
      "EP_train | train loss: 0.5512689085567699 | val loss: 0.6565861701965332 |\n",
      "====\n",
      "Epoch:   7%|▋         | 11/150 [00:06<01:22,  1.69it/s]\n",
      "EP_train | train loss: 0.5448641814437567 | val loss: 0.6211169140011656 |\n",
      "====\n",
      "Epoch:   8%|▊         | 12/150 [00:06<01:23,  1.66it/s]\n",
      "EP_train | train loss: 0.5472246609482111 | val loss: 0.6068690851622937 |\n",
      "====\n",
      "Epoch:   9%|▊         | 13/150 [00:07<01:23,  1.64it/s]\n",
      "EP_train | train loss: 0.5406961412990794 | val loss: 0.6115067238901176 |\n",
      "====\n",
      "Epoch:   9%|▉         | 14/150 [00:08<01:22,  1.65it/s]\n",
      "EP_train | train loss: 0.54318286671358 | val loss: 0.6008769250383564 |\n",
      "====\n",
      "Epoch:  10%|█         | 15/150 [00:08<01:21,  1.67it/s]\n",
      "EP_train | train loss: 0.5402265511307062 | val loss: 0.5769498815723494 |\n",
      "====\n",
      "Epoch:  11%|█         | 16/150 [00:09<01:20,  1.65it/s]\n",
      "EP_train | train loss: 0.5366523639828551 | val loss: 0.5720435123817593 |\n",
      "====\n",
      "Epoch:  11%|█▏        | 17/150 [00:09<01:19,  1.67it/s]\n",
      "EP_train | train loss: 0.5329369844174853 | val loss: 0.5684141902362599 |\n",
      "====\n",
      "Epoch:  12%|█▏        | 18/150 [00:10<01:17,  1.70it/s]\n",
      "EP_train | train loss: 0.5372239842134363 | val loss: 0.5496862822887945 |\n",
      "====\n",
      "Epoch:  13%|█▎        | 19/150 [00:11<01:15,  1.74it/s]\n",
      "EP_train | train loss: 0.5340232559278899 | val loss: 0.5470011257657817 |\n",
      "====\n",
      "Epoch:  13%|█▎        | 20/150 [00:11<01:14,  1.75it/s]\n",
      "EP_train | train loss: 0.5285972090328441 | val loss: 0.5417300205604703 |\n",
      "====\n",
      "Epoch:  14%|█▍        | 21/150 [00:12<01:13,  1.76it/s]\n",
      "EP_train | train loss: 0.5278855613633698 | val loss: 0.5341327050152946 |\n",
      "====\n",
      "Epoch:  15%|█▍        | 22/150 [00:12<01:12,  1.76it/s]\n",
      "EP_train | train loss: 0.5218465777004466 | val loss: 0.5196900601480522 |\n",
      "====\n",
      "Epoch:  15%|█▌        | 23/150 [00:13<01:11,  1.77it/s]\n",
      "EP_train | train loss: 0.5222791101418289 | val loss: 0.5131999102293276 |\n",
      "====\n",
      "Epoch:  16%|█▌        | 24/150 [00:13<01:10,  1.78it/s]\n",
      "EP_train | train loss: 0.518047036376654 | val loss: 0.5073435867533964 |\n",
      "====\n",
      "Epoch:  17%|█▋        | 25/150 [00:14<01:10,  1.76it/s]\n",
      "EP_train | train loss: 0.5147385943169688 | val loss: 0.5005194252612544 |\n",
      "====\n",
      "Epoch:  17%|█▋        | 26/150 [00:15<01:09,  1.78it/s]\n",
      "EP_train | train loss: 0.5124810321658265 | val loss: 0.4942873891662149 |\n",
      "====\n",
      "Epoch:  18%|█▊        | 27/150 [00:15<01:08,  1.80it/s]\n",
      "EP_train | train loss: 0.5114246209462484 | val loss: 0.4877518228456086 |\n",
      "====\n",
      "Epoch:  19%|█▊        | 28/150 [00:16<01:07,  1.80it/s]\n",
      "EP_train | train loss: 0.5083332342260024 | val loss: 0.48304520401300166 |\n",
      "====\n",
      "Epoch:  19%|█▉        | 29/150 [00:16<01:07,  1.81it/s]\n",
      "EP_train | train loss: 0.5009950385374181 | val loss: 0.4749583368207894 |\n",
      "====\n",
      "Epoch:  20%|██        | 30/150 [00:17<01:06,  1.80it/s]\n",
      "EP_train | train loss: 0.4990196798361984 | val loss: 0.46906058461058375 |\n",
      "====\n",
      "Epoch:  21%|██        | 31/150 [00:17<01:06,  1.80it/s]\n",
      "EP_train | train loss: 0.49831612063389197 | val loss: 0.46346764003529267 |\n",
      "====\n",
      "Epoch:  21%|██▏       | 32/150 [00:18<01:05,  1.81it/s]\n",
      "EP_train | train loss: 0.4927948708627738 | val loss: 0.4566175984401329 |\n",
      "====\n",
      "Epoch:  22%|██▏       | 33/150 [00:18<01:04,  1.81it/s]\n",
      "EP_train | train loss: 0.4936414316588757 | val loss: 0.4558184929922515 |\n",
      "====\n",
      "Epoch:  23%|██▎       | 34/150 [00:19<01:05,  1.78it/s]\n",
      "EP_train | train loss: 0.48427632836734547 | val loss: 0.4447290149389529 |\n",
      "====\n",
      "Epoch:  23%|██▎       | 35/150 [00:20<01:04,  1.78it/s]\n",
      "EP_train | train loss: 0.4815865058524936 | val loss: 0.43957628455816533 |\n",
      "====\n",
      "Epoch:  24%|██▍       | 36/150 [00:20<01:07,  1.69it/s]\n",
      "EP_train | train loss: 0.4785594659693101 | val loss: 0.43707452217737836 |\n",
      "====\n",
      "Epoch:  25%|██▍       | 37/150 [00:21<01:07,  1.68it/s]\n",
      "EP_train | train loss: 0.4745922649607939 | val loss: 0.42975328599705415 |\n",
      "====\n",
      "Epoch:  25%|██▌       | 38/150 [00:21<01:06,  1.69it/s]\n",
      "EP_train | train loss: 0.47037809315849755 | val loss: 0.42203203369589415 |\n",
      "====\n",
      "Epoch:  26%|██▌       | 39/150 [00:22<01:03,  1.74it/s]\n",
      "EP_train | train loss: 0.46840511209824504 | val loss: 0.424518836479561 |\n",
      "====\n",
      "Epoch:  27%|██▋       | 40/150 [00:22<01:02,  1.77it/s]\n",
      "EP_train | train loss: 0.4629796411476883 | val loss: 0.4156346660034329 |\n",
      "====\n",
      "Epoch:  27%|██▋       | 41/150 [00:23<01:01,  1.78it/s]\n",
      "EP_train | train loss: 0.4599521842657351 | val loss: 0.4087661013883703 |\n",
      "====\n",
      "Epoch:  28%|██▊       | 42/150 [00:24<01:01,  1.76it/s]\n",
      "EP_train | train loss: 0.4567594238356048 | val loss: 0.4070979047055338 |\n",
      "====\n",
      "Epoch:  29%|██▊       | 43/150 [00:24<00:59,  1.79it/s]\n",
      "EP_train | train loss: 0.45378039210450416 | val loss: 0.3976899145864973 |\n",
      "====\n",
      "Epoch:  29%|██▉       | 44/150 [00:25<00:58,  1.80it/s]\n",
      "EP_train | train loss: 0.450145045448752 | val loss: 0.39778078420489443 |\n",
      "====\n",
      "Epoch:  30%|███       | 45/150 [00:25<00:57,  1.82it/s]\n",
      "EP_train | train loss: 0.4477252773210114 | val loss: 0.3967425028483073 |\n",
      "====\n",
      "Epoch:  31%|███       | 46/150 [00:26<00:58,  1.77it/s]\n",
      "EP_train | train loss: 0.4447451301649505 | val loss: 0.39172082204444736 |\n",
      "====\n",
      "Epoch:  31%|███▏      | 47/150 [00:26<00:57,  1.79it/s]\n",
      "EP_train | train loss: 0.4426031224867877 | val loss: 0.3920369452121211 |\n",
      "====\n",
      "Epoch:  32%|███▏      | 48/150 [00:27<00:57,  1.79it/s]\n",
      "EP_train | train loss: 0.44028980498220405 | val loss: 0.37916300869455527 |\n",
      "====\n",
      "Epoch:  33%|███▎      | 49/150 [00:28<00:57,  1.76it/s]\n",
      "EP_train | train loss: 0.437236006119672 | val loss: 0.37833420610895346 |\n",
      "====\n",
      "Epoch:  33%|███▎      | 50/150 [00:28<00:56,  1.78it/s]\n",
      "EP_train | train loss: 0.43480596448860914 | val loss: 0.3767375349998474 |\n",
      "====\n",
      "Epoch:  34%|███▍      | 51/150 [00:29<00:55,  1.79it/s]\n",
      "EP_train | train loss: 0.43184917019862756 | val loss: 0.37619848549366 |\n",
      "====\n",
      "Epoch:  35%|███▍      | 52/150 [00:29<00:54,  1.79it/s]\n",
      "EP_train | train loss: 0.42978372760847505 | val loss: 0.37729856167353837 |\n",
      "====\n",
      "Epoch:  35%|███▌      | 53/150 [00:30<00:53,  1.81it/s]\n",
      "EP_train | train loss: 0.4278074535669065 | val loss: 0.3738955890431124 |\n",
      "====\n",
      "Epoch:  36%|███▌      | 54/150 [00:30<00:53,  1.79it/s]\n",
      "EP_train | train loss: 0.42598477905871823 | val loss: 0.3706009195131414 |\n",
      "====\n",
      "Epoch:  37%|███▋      | 55/150 [00:31<00:53,  1.78it/s]\n",
      "EP_train | train loss: 0.4245962853525199 | val loss: 0.37243880010118674 |\n",
      "====\n",
      "Epoch:  37%|███▋      | 56/150 [00:31<00:53,  1.76it/s]\n",
      "EP_train | train loss: 0.4212833254945044 | val loss: 0.36804695368981827 |\n",
      "====\n",
      "Epoch:  38%|███▊      | 57/150 [00:32<00:51,  1.79it/s]\n",
      "EP_train | train loss: 0.41880424256418264 | val loss: 0.36272194747831304 |\n",
      "====\n",
      "Epoch:  39%|███▊      | 58/150 [00:33<00:51,  1.80it/s]\n",
      "EP_train | train loss: 0.41755480579301424 | val loss: 0.35688015351108476 |\n",
      "====\n",
      "Epoch:  39%|███▉      | 59/150 [00:33<00:50,  1.81it/s]\n",
      "EP_train | train loss: 0.4151294941995658 | val loss: 0.361758140372295 |\n",
      "====\n",
      "Epoch:  40%|████      | 60/150 [00:34<00:49,  1.82it/s]\n",
      "EP_train | train loss: 0.41403442364113 | val loss: 0.3615911804577884 |\n",
      "====\n",
      "Epoch:  41%|████      | 61/150 [00:34<00:48,  1.82it/s]\n",
      "EP_train | train loss: 0.41054174946803673 | val loss: 0.3545105156360888 |\n",
      "====\n",
      "Epoch:  41%|████▏     | 62/150 [00:35<00:48,  1.82it/s]\n",
      "EP_train | train loss: 0.40845858349519615 | val loss: 0.35127897619032394 |\n",
      "====\n",
      "Epoch:  42%|████▏     | 63/150 [00:35<00:47,  1.84it/s]\n",
      "EP_train | train loss: 0.40679008072497796 | val loss: 0.34683115605045767 |\n",
      "====\n",
      "Epoch:  43%|████▎     | 64/150 [00:36<00:46,  1.85it/s]\n",
      "EP_train | train loss: 0.4046085432464001 | val loss: 0.3517731509956659 |\n",
      "====\n",
      "Epoch:  43%|████▎     | 65/150 [00:36<00:46,  1.84it/s]\n",
      "EP_train | train loss: 0.4030964879428639 | val loss: 0.35130826340002175 |\n",
      "====\n",
      "Epoch:  44%|████▍     | 66/150 [00:37<00:45,  1.84it/s]\n",
      "EP_train | train loss: 0.4008188294429405 | val loss: 0.35023924357750835 |\n",
      "====\n",
      "Epoch:  45%|████▍     | 67/150 [00:37<00:44,  1.85it/s]\n",
      "EP_train | train loss: 0.3973440834120208 | val loss: 0.3416047756578408 |\n",
      "====\n",
      "Epoch:  45%|████▌     | 68/150 [00:38<00:44,  1.85it/s]\n",
      "EP_train | train loss: 0.3957193748623717 | val loss: 0.34241383391268115 |\n",
      "====\n",
      "Epoch:  46%|████▌     | 69/150 [00:38<00:43,  1.85it/s]\n",
      "EP_train | train loss: 0.393994083591536 | val loss: 0.3389429520158207 |\n",
      "====\n",
      "Epoch:  47%|████▋     | 70/150 [00:39<00:43,  1.83it/s]\n",
      "EP_train | train loss: 0.3913244686874689 | val loss: 0.3377491317543329 |\n",
      "====\n",
      "Epoch:  47%|████▋     | 71/150 [00:40<00:44,  1.79it/s]\n",
      "EP_train | train loss: 0.3905818219278373 | val loss: 0.33377835797328576 |\n",
      "====\n",
      "Epoch:  48%|████▊     | 72/150 [00:40<00:43,  1.80it/s]\n",
      "EP_train | train loss: 0.38771120005962895 | val loss: 0.3427249275001825 |\n",
      "====\n",
      "Epoch:  49%|████▊     | 73/150 [00:41<00:43,  1.77it/s]\n",
      "EP_train | train loss: 0.3862603598949956 | val loss: 0.331540094871147 |\n",
      "====\n",
      "Epoch:  49%|████▉     | 74/150 [00:41<00:43,  1.76it/s]\n",
      "EP_train | train loss: 0.38820283179189646 | val loss: 0.32858793992622226 |\n",
      "====\n",
      "Epoch:  50%|█████     | 75/150 [00:42<00:42,  1.77it/s]\n",
      "EP_train | train loss: 0.3826845837574379 | val loss: 0.3282895088195801 |\n",
      "====\n",
      "Epoch:  51%|█████     | 76/150 [00:42<00:42,  1.72it/s]\n",
      "EP_train | train loss: 0.3778253527248607 | val loss: 0.328205348814235 |\n",
      "====\n",
      "Epoch:  51%|█████▏    | 77/150 [00:43<00:41,  1.75it/s]\n",
      "EP_train | train loss: 0.3769570004706289 | val loss: 0.33531467119852704 |\n",
      "====\n",
      "Epoch:  52%|█████▏    | 78/150 [00:44<00:41,  1.75it/s]\n",
      "EP_train | train loss: 0.3754390786675846 | val loss: 0.3313254059529772 |\n",
      "====\n",
      "Epoch:  53%|█████▎    | 79/150 [00:44<00:39,  1.79it/s]\n",
      "EP_train | train loss: 0.37061738874398026 | val loss: 0.3224085925840864 |\n",
      "====\n",
      "Epoch:  53%|█████▎    | 80/150 [00:45<00:38,  1.81it/s]\n",
      "EP_train | train loss: 0.3692457909677543 | val loss: 0.32333800956314684 |\n",
      "====\n",
      "Epoch:  54%|█████▍    | 81/150 [00:45<00:38,  1.79it/s]\n",
      "EP_train | train loss: 0.36757839146782373 | val loss: 0.3185768337810741 |\n",
      "====\n",
      "Epoch:  55%|█████▍    | 82/150 [00:46<00:38,  1.78it/s]\n",
      "EP_train | train loss: 0.36206715714697746 | val loss: 0.31853653286017625 |\n",
      "====\n",
      "Epoch:  55%|█████▌    | 83/150 [00:46<00:37,  1.79it/s]\n",
      "EP_train | train loss: 0.3608689700855928 | val loss: 0.3180111675870185 |\n",
      "====\n",
      "Epoch:  56%|█████▌    | 84/150 [00:47<00:36,  1.81it/s]\n",
      "EP_train | train loss: 0.35825465379976756 | val loss: 0.3141184127798267 |\n",
      "====\n",
      "Epoch:  57%|█████▋    | 85/150 [00:47<00:35,  1.81it/s]\n",
      "EP_train | train loss: 0.3578305291194542 | val loss: 0.3088479982871635 |\n",
      "====\n",
      "Epoch:  57%|█████▋    | 86/150 [00:48<00:36,  1.76it/s]\n",
      "EP_train | train loss: 0.354917293436387 | val loss: 0.30728788586223826 |\n",
      "====\n",
      "Epoch:  58%|█████▊    | 87/150 [00:49<00:35,  1.77it/s]\n",
      "EP_train | train loss: 0.34937179836572385 | val loss: 0.30835630496342975 |\n",
      "====\n",
      "Epoch:  59%|█████▊    | 88/150 [00:49<00:34,  1.79it/s]\n",
      "EP_train | train loss: 0.3459370729969997 | val loss: 0.30529317727275923 |\n",
      "====\n",
      "Epoch:  59%|█████▉    | 89/150 [00:50<00:33,  1.81it/s]\n",
      "EP_train | train loss: 0.343649362115299 | val loss: 0.3059405935745613 |\n",
      "====\n",
      "Epoch:  60%|██████    | 90/150 [00:50<00:33,  1.79it/s]\n",
      "EP_train | train loss: 0.3400178965400247 | val loss: 0.3015286945829205 |\n",
      "====\n",
      "Epoch:  61%|██████    | 91/150 [00:51<00:32,  1.79it/s]\n",
      "EP_train | train loss: 0.33790745594922234 | val loss: 0.2957838738665861 |\n",
      "====\n",
      "Epoch:  61%|██████▏   | 92/150 [00:51<00:32,  1.80it/s]\n",
      "EP_train | train loss: 0.3335055136213116 | val loss: 0.2960287513686161 |\n",
      "====\n",
      "Epoch:  62%|██████▏   | 93/150 [00:52<00:31,  1.82it/s]\n",
      "EP_train | train loss: 0.33063317841174555 | val loss: 0.29237866986031624 |\n",
      "====\n",
      "Epoch:  63%|██████▎   | 94/150 [00:52<00:30,  1.83it/s]\n",
      "EP_train | train loss: 0.32663796929752126 | val loss: 0.28896228764571397 |\n",
      "====\n",
      "Epoch:  63%|██████▎   | 95/150 [00:53<00:29,  1.84it/s]\n",
      "EP_train | train loss: 0.3237757640726426 | val loss: 0.28566766311140623 |\n",
      "====\n",
      "Epoch:  64%|██████▍   | 96/150 [00:54<00:29,  1.81it/s]\n",
      "EP_train | train loss: 0.31936745830610686 | val loss: 0.28179246654697493 |\n",
      "====\n",
      "Epoch:  65%|██████▍   | 97/150 [00:54<00:29,  1.81it/s]\n",
      "EP_train | train loss: 0.3164126246583228 | val loss: 0.28220413128534955 |\n",
      "====\n",
      "Epoch:  65%|██████▌   | 98/150 [00:55<00:29,  1.78it/s]\n",
      "EP_train | train loss: 0.3117981560090009 | val loss: 0.2750171604109745 |\n",
      "====\n",
      "Epoch:  66%|██████▌   | 99/150 [00:55<00:28,  1.78it/s]\n",
      "EP_train | train loss: 0.3080604445700552 | val loss: 0.2752942892850614 |\n",
      "====\n",
      "Epoch:  67%|██████▋   | 100/150 [00:56<00:28,  1.77it/s]\n",
      "EP_train | train loss: 0.30514930837294635 | val loss: 0.26969780524571735 |\n",
      "====\n",
      "Epoch:  67%|██████▋   | 101/150 [00:56<00:28,  1.75it/s]\n",
      "EP_train | train loss: 0.3013797577689676 | val loss: 0.2701646364202686 |\n",
      "====\n",
      "Epoch:  68%|██████▊   | 102/150 [00:57<00:27,  1.77it/s]\n",
      "EP_train | train loss: 0.29613809398576324 | val loss: 0.26353874861025345 |\n",
      "====\n",
      "Epoch:  69%|██████▊   | 103/150 [00:58<00:26,  1.77it/s]\n",
      "EP_train | train loss: 0.29139111462761375 | val loss: 0.2608509420179853 |\n",
      "====\n",
      "Epoch:  69%|██████▉   | 104/150 [00:58<00:25,  1.79it/s]\n",
      "EP_train | train loss: 0.2865124454685286 | val loss: 0.2552498976389567 |\n",
      "====\n",
      "Epoch:  70%|███████   | 105/150 [00:59<00:24,  1.81it/s]\n",
      "EP_train | train loss: 0.28620052010405295 | val loss: 0.2527120160121544 |\n",
      "====\n",
      "Epoch:  71%|███████   | 106/150 [00:59<00:24,  1.82it/s]\n",
      "EP_train | train loss: 0.27918416378544825 | val loss: 0.2511521016850191 |\n",
      "====\n",
      "Epoch:  71%|███████▏  | 107/150 [01:00<00:23,  1.83it/s]\n",
      "EP_train | train loss: 0.27369875861149207 | val loss: 0.2454472862037958 |\n",
      "====\n",
      "Epoch:  72%|███████▏  | 108/150 [01:00<00:23,  1.82it/s]\n",
      "EP_train | train loss: 0.27085921670876295 | val loss: 0.24286440540762508 |\n",
      "====\n",
      "Epoch:  73%|███████▎  | 109/150 [01:01<00:22,  1.82it/s]\n",
      "EP_train | train loss: 0.26569197318133186 | val loss: 0.2366441897317475 |\n",
      "====\n",
      "Epoch:  73%|███████▎  | 110/150 [01:01<00:21,  1.82it/s]\n",
      "EP_train | train loss: 0.2599880120333503 | val loss: 0.23393576051674636 |\n",
      "====\n",
      "Epoch:  74%|███████▍  | 111/150 [01:02<00:21,  1.79it/s]\n",
      "EP_train | train loss: 0.25387941809261544 | val loss: 0.22955015126396627 |\n",
      "====\n",
      "Epoch:  75%|███████▍  | 112/150 [01:03<00:21,  1.78it/s]\n",
      "EP_train | train loss: 0.2671290509841021 | val loss: 0.24602605782303155 |\n",
      "====\n",
      "Epoch:  75%|███████▌  | 113/150 [01:03<00:20,  1.79it/s]\n",
      "EP_train | train loss: 0.24354640783048143 | val loss: 0.21800481980922176 |\n",
      "====\n",
      "Epoch:  76%|███████▌  | 114/150 [01:04<00:20,  1.76it/s]\n",
      "EP_train | train loss: 0.23761003999149097 | val loss: 0.2142634111292222 |\n",
      "====\n",
      "Epoch:  77%|███████▋  | 115/150 [01:04<00:20,  1.74it/s]\n",
      "EP_train | train loss: 0.23294307297351313 | val loss: 0.21188184034590626 |\n",
      "====\n",
      "Epoch:  77%|███████▋  | 116/150 [01:05<00:19,  1.75it/s]\n",
      "EP_train | train loss: 0.2258737143348245 | val loss: 0.20469939241222307 |\n",
      "====\n",
      "Epoch:  78%|███████▊  | 117/150 [01:05<00:18,  1.76it/s]\n",
      "EP_train | train loss: 0.22882634050705852 | val loss: 0.20962013800938925 |\n",
      "====\n",
      "Epoch:  79%|███████▊  | 118/150 [01:06<00:18,  1.77it/s]\n",
      "EP_train | train loss: 0.2149051778456744 | val loss: 0.19632218573607652 |\n",
      "====\n",
      "Epoch:  79%|███████▉  | 119/150 [01:07<00:17,  1.75it/s]\n",
      "EP_train | train loss: 0.2087043135773902 | val loss: 0.187984062760484 |\n",
      "====\n",
      "Epoch:  80%|████████  | 120/150 [01:07<00:16,  1.77it/s]\n",
      "EP_train | train loss: 0.2018603993397133 | val loss: 0.18632254822581423 |\n",
      "====\n",
      "Epoch:  81%|████████  | 121/150 [01:08<00:16,  1.78it/s]\n",
      "EP_train | train loss: 0.20678676530426623 | val loss: 0.19356024440597086 |\n",
      "====\n",
      "Epoch:  81%|████████▏ | 122/150 [01:08<00:15,  1.80it/s]\n",
      "EP_train | train loss: 0.19065553253772213 | val loss: 0.17537850609012678 |\n",
      "====\n",
      "Epoch:  82%|████████▏ | 123/150 [01:09<00:14,  1.81it/s]\n",
      "EP_train | train loss: 0.18203363932815253 | val loss: 0.1677641900731068 |\n",
      "====\n",
      "Epoch:  83%|████████▎ | 124/150 [01:09<00:14,  1.82it/s]\n",
      "EP_train | train loss: 0.20153905503890093 | val loss: 0.19573941359332964 |\n",
      "====\n",
      "Epoch:  83%|████████▎ | 125/150 [01:10<00:13,  1.84it/s]\n",
      "EP_train | train loss: 0.17282574036542106 | val loss: 0.16299203271959342 |\n",
      "====\n",
      "Epoch:  84%|████████▍ | 126/150 [01:10<00:13,  1.83it/s]\n",
      "EP_train | train loss: 0.17614096987481212 | val loss: 0.15854407467094123 |\n",
      "====\n",
      "Epoch:  85%|████████▍ | 127/150 [01:11<00:12,  1.82it/s]\n",
      "EP_train | train loss: 0.1655950812732472 | val loss: 0.15846896989672793 |\n",
      "====\n",
      "Epoch:  85%|████████▌ | 128/150 [01:11<00:12,  1.82it/s]\n",
      "EP_train | train loss: 0.15097586968365836 | val loss: 0.1402707701804591 |\n",
      "====\n",
      "Epoch:  86%|████████▌ | 129/150 [01:12<00:11,  1.81it/s]\n",
      "EP_train | train loss: 0.14508128470065548 | val loss: 0.1336729082406736 |\n",
      "====\n",
      "Epoch:  87%|████████▋ | 130/150 [01:13<00:10,  1.82it/s]\n",
      "EP_train | train loss: 0.13888576521592982 | val loss: 0.13135575868335425 |\n",
      "====\n",
      "Epoch:  87%|████████▋ | 131/150 [01:13<00:10,  1.79it/s]\n",
      "EP_train | train loss: 0.13164254333458694 | val loss: 0.12765305153295106 |\n",
      "====\n",
      "Epoch:  88%|████████▊ | 132/150 [01:14<00:10,  1.77it/s]\n",
      "EP_train | train loss: 0.12324690853848178 | val loss: 0.115312246130962 |\n",
      "====\n",
      "Epoch:  89%|████████▊ | 133/150 [01:14<00:09,  1.76it/s]\n",
      "EP_train | train loss: 0.12471594039131613 | val loss: 0.11592193590659722 |\n",
      "====\n",
      "Epoch:  89%|████████▉ | 134/150 [01:15<00:09,  1.74it/s]\n",
      "EP_train | train loss: 0.11351461340399349 | val loss: 0.10976119456337947 |\n",
      "====\n",
      "Epoch:  90%|█████████ | 135/150 [01:15<00:08,  1.75it/s]\n",
      "EP_train | train loss: 0.1114304687462601 | val loss: 0.10798297617949691 |\n",
      "====\n",
      "Epoch:  91%|█████████ | 136/150 [01:16<00:08,  1.69it/s]\n",
      "EP_train | train loss: 0.10134154721802356 | val loss: 0.09933002556071562 |\n",
      "====\n",
      "Epoch:  91%|█████████▏| 137/150 [01:17<00:07,  1.71it/s]\n",
      "EP_train | train loss: 0.09878055710418551 | val loss: 0.0975689221830929 |\n",
      "====\n",
      "Epoch:  92%|█████████▏| 138/150 [01:17<00:06,  1.74it/s]\n",
      "EP_train | train loss: 0.1162756791301802 | val loss: 0.12571868651053486 |\n",
      "====\n",
      "Epoch:  93%|█████████▎| 139/150 [01:18<00:06,  1.77it/s]\n",
      "EP_train | train loss: 0.08461600133016997 | val loss: 0.07892761043473787 |\n",
      "====\n",
      "Epoch:  93%|█████████▎| 140/150 [01:18<00:05,  1.77it/s]\n",
      "EP_train | train loss: 0.07814566937147402 | val loss: 0.07169548495143067 |\n",
      "====\n",
      "Epoch:  94%|█████████▍| 141/150 [01:19<00:05,  1.77it/s]\n",
      "EP_train | train loss: 0.10041240734212539 | val loss: 0.11131264941365111 |\n",
      "====\n",
      "Epoch:  95%|█████████▍| 142/150 [01:19<00:04,  1.78it/s]\n",
      "EP_train | train loss: 0.06817584890945284 | val loss: 0.06813375082086115 |\n",
      "====\n",
      "Epoch:  95%|█████████▌| 143/150 [01:20<00:03,  1.80it/s]\n",
      "EP_train | train loss: 0.06460634832288704 | val loss: 0.06261250493573207 |\n",
      "====\n",
      "Epoch:  96%|█████████▌| 144/150 [01:21<00:03,  1.80it/s]\n",
      "EP_train | train loss: 0.062171628662184175 | val loss: 0.05738295906899022 |\n",
      "====\n",
      "Epoch:  97%|█████████▋| 145/150 [01:21<00:02,  1.82it/s]\n",
      "EP_train | train loss: 0.054854900579826504 | val loss: 0.056553614051903 |\n",
      "====\n",
      "Epoch:  97%|█████████▋| 146/150 [01:22<00:02,  1.77it/s]\n",
      "EP_train | train loss: 0.0822539722218233 | val loss: 0.06885543611704134 |\n",
      "====\n",
      "Epoch:  98%|█████████▊| 147/150 [01:22<00:01,  1.78it/s]\n",
      "EP_train | train loss: 0.04762881030054653 | val loss: 0.051488117552271076 |\n",
      "====\n",
      "Epoch:  99%|█████████▊| 148/150 [01:23<00:01,  1.79it/s]\n",
      "EP_train | train loss: 0.0446530035313438 | val loss: 0.049710850797447505 |\n",
      "====\n",
      "Epoch:  99%|█████████▉| 149/150 [01:23<00:00,  1.78it/s]\n",
      "EP_train | train loss: 0.04008941019282621 | val loss: 0.04041726507392584 |\n",
      "====\n",
      "Epoch: 100%|██████████| 150/150 [01:24<00:00,  1.78it/s]\n",
      "EP_train | train loss: 0.04000582075586506 | val loss: 0.04680244916794347 |\n",
      "\n"
     ]
    }
   ],
   "source": [
    "AttractiveTrainer.train()"
   ]
  },
  {
   "cell_type": "markdown",
   "metadata": {},
   "source": [
    "## for classification, not better"
   ]
  },
  {
   "cell_type": "markdown",
   "metadata": {},
   "source": [
    "## Below is testing"
   ]
  },
  {
   "cell_type": "code",
   "execution_count": 8,
   "metadata": {},
   "outputs": [
    {
     "output_type": "execute_result",
     "data": {
      "text/plain": [
       "AttractiveNet(\n",
       "  (embedding): AttractiveEmbedding(\n",
       "    (token): TokenEmbedding(12699, 300, padding_idx=1)\n",
       "  )\n",
       "  (bigramcnn): Sequential(\n",
       "    (0): Conv1d(300, 200, kernel_size=(3,), stride=(1,), padding=(1,))\n",
       "    (1): ReLU()\n",
       "    (2): Conv1d(200, 100, kernel_size=(3,), stride=(1,), padding=(1,))\n",
       "    (3): ReLU()\n",
       "  )\n",
       "  (trigramcnn): Sequential(\n",
       "    (0): Conv1d(300, 200, kernel_size=(3,), stride=(1,), padding=(1,))\n",
       "    (1): ReLU()\n",
       "    (2): Conv1d(200, 100, kernel_size=(3,), stride=(1,), padding=(1,))\n",
       "    (3): ReLU()\n",
       "  )\n",
       "  (encoder_bigram_first): LSTM(100, 30, batch_first=True, dropout=0.1, bidirectional=True)\n",
       "  (encoder_bigram_second): LSTM(60, 30, batch_first=True, dropout=0.1, bidirectional=True)\n",
       "  (encoder_trigram_first): LSTM(100, 30, batch_first=True, dropout=0.1, bidirectional=True)\n",
       "  (encoder_trigram_second): LSTM(60, 30, batch_first=True, dropout=0.1, bidirectional=True)\n",
       "  (linear): Sequential(\n",
       "    (0): Linear(in_features=240, out_features=30, bias=True)\n",
       "    (1): ReLU()\n",
       "    (2): Linear(in_features=30, out_features=1, bias=True)\n",
       "  )\n",
       ")"
      ]
     },
     "metadata": {},
     "execution_count": 8
    }
   ],
   "source": [
    "from attractivenet import AttractiveNet\n",
    "\n",
    "PATH = './model/CNN_LSTM_20201104-150343_0.3549.85'\n",
    "\n",
    "load_model = AttractiveNet(config).to(AttractiveData.device)\n",
    "load_model.load_state_dict(torch.load(PATH))\n",
    "load_model.eval()"
   ]
  },
  {
   "cell_type": "code",
   "execution_count": 9,
   "metadata": {},
   "outputs": [],
   "source": [
    "def predict_attractive(sentence, category, phase):\n",
    "    indexed_sentence = [AttractiveData.TEXT.vocab.stoi[t] for t in sentence]\n",
    "    indexed_category = [AttractiveData.CATEGORIES_LABEL.vocab.stoi[category]]\n",
    "    tensor_sentence = torch.LongTensor(indexed_sentence).to(AttractiveData.device)\n",
    "    tensor_category = torch.LongTensor(indexed_category).to(AttractiveData.device)\n",
    "\n",
    "    tensor_sentence = tensor_sentence.unsqueeze(0)\n",
    "    # print(tensor_sentence.shape)\n",
    "\n",
    "    prediction = load_model(tensor_sentence, tensor_category, phase=phase)\n",
    "\n",
    "    return prediction"
   ]
  },
  {
   "cell_type": "code",
   "execution_count": 10,
   "metadata": {
    "tags": []
   },
   "outputs": [],
   "source": [
    "# train mean = 3.15, test mean = 2.8\n",
    "predict_list = []\n",
    "with torch.no_grad():\n",
    "    for i, sentence in enumerate(AttractiveData.test_data):\n",
    "        prediction = predict_attractive(sentence.Headline, sentence.Category, 'test')\n",
    "        predict_list.append(prediction.item())\n",
    "        # predict_list.append(prediction.item())\n",
    "AttractiveData.df_test['Label'] = predict_list\n",
    "AttractiveData.df_test[['ID', 'Label']].to_csv(config['save_name'] + '.csv', index=False)"
   ]
  },
  {
   "cell_type": "markdown",
   "metadata": {},
   "source": [
    "## Below for statistics"
   ]
  },
  {
   "cell_type": "code",
   "execution_count": 11,
   "metadata": {},
   "outputs": [],
   "source": [
    "import statistics\n",
    "from sklearn.metrics import mean_squared_error"
   ]
  },
  {
   "cell_type": "code",
   "execution_count": 12,
   "metadata": {},
   "outputs": [],
   "source": [
    "# # train mean = 3.15, test mean = 2.8\n",
    "# train_list = []\n",
    "# for i, sentence in enumerate(AttractiveData.train_data):\n",
    "#     prediction = predict_attractive(sentence.Headline, sentence.Category, 'train')\n",
    "#     train_list.append(prediction.item())\n",
    "#     # train_list.append(prediction.item())\n",
    "# # print(train_list)\n",
    "# mean_squared_error(pd.read_csv('data/train.csv').sort_values(['ID']).Label.to_list(), train_list), statistics.mean(train_list), statistics.stdev(train_list)"
   ]
  },
  {
   "cell_type": "code",
   "execution_count": 13,
   "metadata": {},
   "outputs": [],
   "source": [
    "# train_list[0:5], pd.read_csv('data/train.csv').sort_values(['ID']).Label.to_list()[0:5]"
   ]
  },
  {
   "cell_type": "code",
   "execution_count": 14,
   "metadata": {},
   "outputs": [],
   "source": [
    "# a = AttractiveData.df_train['Label'].to_list()\n",
    "# statistics.mean(a), statistics.stdev(a)"
   ]
  },
  {
   "cell_type": "code",
   "execution_count": 15,
   "metadata": {},
   "outputs": [
    {
     "output_type": "execute_result",
     "data": {
      "text/plain": [
       "(2.849695928296329, 0.3770257875481673)"
      ]
     },
     "metadata": {},
     "execution_count": 15
    }
   ],
   "source": [
    "statistics.mean(predict_list), statistics.stdev(predict_list)"
   ]
  },
  {
   "cell_type": "code",
   "execution_count": 16,
   "metadata": {},
   "outputs": [
    {
     "output_type": "execute_result",
     "data": {
      "text/plain": [
       "(0.018452828976924473, 2.832396388579045, 0.3599597701326745)"
      ]
     },
     "metadata": {},
     "execution_count": 16
    }
   ],
   "source": [
    "baseline_list = pd.read_csv('baseline.csv').sort_values(['ID']).Label.to_list()\n",
    "mean_squared_error(baseline_list, predict_list), statistics.mean(baseline_list), statistics.stdev(baseline_list)"
   ]
  },
  {
   "cell_type": "code",
   "execution_count": null,
   "metadata": {},
   "outputs": [],
   "source": []
  },
  {
   "cell_type": "code",
   "execution_count": 18,
   "metadata": {},
   "outputs": [
    {
     "output_type": "execute_result",
     "data": {
      "text/plain": [
       "0.1609754968529207"
      ]
     },
     "metadata": {},
     "execution_count": 18
    }
   ],
   "source": [
    "mean_squared_error(pd.read_csv('baseline.csv').sort_values(['ID']).Label.to_list(), pd.read_csv('./predict/ensemble.csv').sort_values(['ID']).Label.to_list())"
   ]
  },
  {
   "cell_type": "code",
   "execution_count": null,
   "metadata": {},
   "outputs": [],
   "source": []
  }
 ],
 "metadata": {
  "kernelspec": {
   "display_name": "DS_hw2",
   "language": "python",
   "name": "ds_hw2"
  },
  "language_info": {
   "codemirror_mode": {
    "name": "ipython",
    "version": 3
   },
   "file_extension": ".py",
   "mimetype": "text/x-python",
   "name": "python",
   "nbconvert_exporter": "python",
   "pygments_lexer": "ipython3",
   "version": "3.6.12-final"
  }
 },
 "nbformat": 4,
 "nbformat_minor": 4
}