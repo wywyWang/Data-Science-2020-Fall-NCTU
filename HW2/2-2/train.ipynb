{
 "cells": [
  {
   "cell_type": "code",
   "execution_count": 1,
   "metadata": {},
   "outputs": [],
   "source": [
    "# common packages\n",
    "import pandas as pd\n",
    "import time\n",
    "\n",
    "# # DL framework\n",
    "import torch\n",
    "from torchtext import data\n",
    "\n",
    "from attractivedata import AttractiveData\n",
    "from trainer import AttractiveTrainer"
   ]
  },
  {
   "cell_type": "code",
   "execution_count": 2,
   "metadata": {},
   "outputs": [],
   "source": [
    "seed_value = 42\n",
    "torch.manual_seed(seed_value)\n",
    "torch.cuda.manual_seed(seed_value)\n",
    "torch.cuda.manual_seed_all(seed_value) # gpu vars\n",
    "torch.backends.cudnn.deterministic = True  #needed\n",
    "torch.backends.cudnn.benchmark = False"
   ]
  },
  {
   "cell_type": "markdown",
   "metadata": {},
   "source": [
    "# TODO: \n",
    "- [ ] cnn plus residual network\n",
    "- [ ] word embedding multiply tfidf\n",
    "- [ ] use word2vec"
   ]
  },
  {
   "cell_type": "markdown",
   "metadata": {},
   "source": [
    "## Load and prepare data"
   ]
  },
  {
   "cell_type": "code",
   "execution_count": 3,
   "metadata": {},
   "outputs": [],
   "source": [
    "train_file = 'data/train.csv'\n",
    "val_file = 'example/val.csv'\n",
    "test_file = 'data/test.csv'\n",
    "pretrained_file = 'glove.840B.300d'\n",
    "config = {\n",
    "    'max_seq': 40,\n",
    "    'min_freq': 0,\n",
    "    'batch_size': 64,\n",
    "    'pretrained_file': pretrained_file\n",
    "}\n"
   ]
  },
  {
   "cell_type": "code",
   "execution_count": 4,
   "metadata": {},
   "outputs": [],
   "source": [
    "AttractiveData = AttractiveData(train_file, val_file, test_file, pretrained_file, config)"
   ]
  },
  {
   "cell_type": "code",
   "execution_count": 5,
   "metadata": {},
   "outputs": [],
   "source": [
    "# for i, sentence in enumerate(AttractiveData.test_data):\n",
    "#     if i == 3:\n",
    "#         print(vars(AttractiveData.train_data[i]), vars(sentence))"
   ]
  },
  {
   "cell_type": "code",
   "execution_count": 6,
   "metadata": {},
   "outputs": [
    {
     "output_type": "execute_result",
     "data": {
      "text/plain": [
       "38"
      ]
     },
     "metadata": {},
     "execution_count": 6
    }
   ],
   "source": [
    "max_len = 0\n",
    "a = AttractiveData.train_data\n",
    "for i in range(len(a)):\n",
    "    if len(a[i].Headline) >= max_len:\n",
    "        max_len = len(a[i].Headline)\n",
    "max_len"
   ]
  },
  {
   "cell_type": "markdown",
   "metadata": {},
   "source": [
    "## Start to train"
   ]
  },
  {
   "cell_type": "code",
   "execution_count": 7,
   "metadata": {},
   "outputs": [
    {
     "output_type": "stream",
     "name": "stdout",
     "text": [
      "torch.Size([12699, 300])\n"
     ]
    }
   ],
   "source": [
    "config['timestr'] = time.strftime(\"%Y%m%d-%H%M%S\")\n",
    "config['save_name'] = 'CNN_LSTM'\n",
    "config['input_dim'] = len(AttractiveData.TEXT.vocab)\n",
    "config['embedding_dim'] = 300\n",
    "config['category_dim'] = len(AttractiveData.CATEGORIES_LABEL.vocab)\n",
    "config['category_embedding_dim'] = 10\n",
    "config['hidden_dim'] = 30\n",
    "config['output_dim'] = 1\n",
    "config['log_steps'] = 10\n",
    "config['epochs'] = 200\n",
    "config['lr'] = {\n",
    "    'encoder': 1e-5,\n",
    "    'embedding': 6e-6,\n",
    "    'linear': 1e-5\n",
    "}\n",
    "config['num_layers'] = 1\n",
    "config['kernel_size'] = 3\n",
    "config['dropout'] = 0.3\n",
    "config['train_len'] = AttractiveData.train_len\n",
    "config['val_len'] = AttractiveData.val_len\n",
    "config['test_len'] = AttractiveData.test_len\n",
    "\n",
    "pretrained_embeddings = AttractiveData.TEXT.vocab.vectors\n",
    "print(pretrained_embeddings.shape)"
   ]
  },
  {
   "cell_type": "code",
   "execution_count": 8,
   "metadata": {},
   "outputs": [],
   "source": [
    "AttractiveTrainer = AttractiveTrainer(config, AttractiveData.device, AttractiveData.trainloader, AttractiveData.valloader, pretrained_embeddings)"
   ]
  },
  {
   "cell_type": "code",
   "execution_count": 9,
   "metadata": {},
   "outputs": [
    {
     "output_type": "execute_result",
     "data": {
      "text/plain": [
       "(AttractiveNet(\n",
       "   (embedding): AttractiveEmbedding(\n",
       "     (token): TokenEmbedding(12699, 300, padding_idx=1)\n",
       "   )\n",
       "   (bigramcnn): Sequential(\n",
       "     (0): Conv1d(300, 200, kernel_size=(3,), stride=(1,), padding=(1,))\n",
       "     (1): ReLU()\n",
       "     (2): Conv1d(200, 100, kernel_size=(3,), stride=(1,), padding=(1,))\n",
       "     (3): ReLU()\n",
       "     (4): Dropout(p=0.3, inplace=False)\n",
       "   )\n",
       "   (trigramcnn): Sequential(\n",
       "     (0): Conv1d(300, 200, kernel_size=(3,), stride=(1,), padding=(1,))\n",
       "     (1): ReLU()\n",
       "     (2): Conv1d(200, 100, kernel_size=(3,), stride=(1,), padding=(1,))\n",
       "     (3): ReLU()\n",
       "     (4): Dropout(p=0.3, inplace=False)\n",
       "   )\n",
       "   (encoder_bigram_first): LSTM(100, 30, batch_first=True, dropout=0.3, bidirectional=True)\n",
       "   (encoder_trigram_first): LSTM(100, 30, batch_first=True, dropout=0.3, bidirectional=True)\n",
       "   (linear): Sequential(\n",
       "     (0): Linear(in_features=124, out_features=30, bias=True)\n",
       "     (1): ReLU()\n",
       "     (2): Linear(in_features=30, out_features=1, bias=True)\n",
       "   )\n",
       " ),\n",
       " 4357441,\n",
       " 4357441)"
      ]
     },
     "metadata": {},
     "execution_count": 9
    }
   ],
   "source": [
    "AttractiveTrainer.model, AttractiveTrainer.config['total_params'], AttractiveTrainer.config['total_learned_params']"
   ]
  },
  {
   "cell_type": "code",
   "execution_count": 10,
   "metadata": {
    "tags": [
     "outputPrepend"
    ]
   },
   "outputs": [
    {
     "output_type": "stream",
     "name": "stderr",
     "text": [
      "t/s]\n",
      "EP_47 | train loss: 0.42156334297329773 | val loss: 0.35349323176870157 |\n",
      "Epoch:  24%|██▍       | 49/200 [00:20<01:03,  2.37it/s]\n",
      "EP_48 | train loss: 0.42023386113783895 | val loss: 0.3525940121388903 |\n",
      "Epoch:  25%|██▌       | 50/200 [00:21<01:02,  2.38it/s]\n",
      "EP_49 | train loss: 0.41715094154956295 | val loss: 0.34779081216045454 |\n",
      "Epoch:  26%|██▌       | 51/200 [00:21<01:02,  2.40it/s]\n",
      "EP_50 | train loss: 0.41583278880399815 | val loss: 0.349395075265099 |\n",
      "Epoch:  26%|██▌       | 52/200 [00:21<01:02,  2.37it/s]\n",
      "EP_51 | train loss: 0.4117038362166461 | val loss: 0.34393271979163675 |\n",
      "Epoch:  26%|██▋       | 53/200 [00:22<01:01,  2.38it/s]\n",
      "EP_52 | train loss: 0.41028823291554173 | val loss: 0.3416768289079853 |\n",
      "Epoch:  27%|██▋       | 54/200 [00:22<01:00,  2.43it/s]\n",
      "EP_53 | train loss: 0.41242409126431334 | val loss: 0.34857028021531944 |\n",
      "Epoch:  28%|██▊       | 55/200 [00:23<00:59,  2.44it/s]\n",
      "EP_54 | train loss: 0.40814040501912435 | val loss: 0.3429266471488803 |\n",
      "Epoch:  28%|██▊       | 56/200 [00:23<00:59,  2.42it/s]\n",
      "EP_55 | train loss: 0.40984627218807446 | val loss: 0.3478070661133411 |\n",
      "Epoch:  28%|██▊       | 57/200 [00:23<00:59,  2.42it/s]\n",
      "EP_56 | train loss: 0.4029855508430331 | val loss: 0.33712900269265267 |\n",
      "Epoch:  29%|██▉       | 58/200 [00:24<00:59,  2.38it/s]\n",
      "EP_57 | train loss: 0.39975243643218394 | val loss: 0.33560046086124345 |\n",
      "Epoch:  30%|██▉       | 59/200 [00:24<00:59,  2.39it/s]\n",
      "EP_58 | train loss: 0.39739701046663173 | val loss: 0.33329755710620507 |\n",
      "Epoch:  30%|███       | 60/200 [00:25<00:57,  2.44it/s]\n",
      "EP_59 | train loss: 0.3960215587241977 | val loss: 0.3305943023924734 |\n",
      "Epoch:  30%|███       | 61/200 [00:25<00:56,  2.46it/s]\n",
      "EP_60 | train loss: 0.3932071522170422 | val loss: 0.3285934580307381 |\n",
      "Epoch:  31%|███       | 62/200 [00:25<00:55,  2.50it/s]\n",
      "EP_61 | train loss: 0.39105014520532944 | val loss: 0.3304882049560547 |\n",
      "Epoch:  32%|███▏      | 63/200 [00:26<00:54,  2.53it/s]\n",
      "EP_62 | train loss: 0.3911463083005419 | val loss: 0.33464929636786966 |\n",
      "Epoch:  32%|███▏      | 64/200 [00:26<00:53,  2.52it/s]\n",
      "EP_63 | train loss: 0.3941542905919692 | val loss: 0.3371065516097873 |\n",
      "Epoch:  32%|███▎      | 65/200 [00:27<00:53,  2.52it/s]\n",
      "EP_64 | train loss: 0.387790688346414 | val loss: 0.33082849021051447 |\n",
      "Epoch:  33%|███▎      | 66/200 [00:27<00:54,  2.45it/s]\n",
      "EP_65 | train loss: 0.3817034646576526 | val loss: 0.32344072122199863 |\n",
      "Epoch:  34%|███▎      | 67/200 [00:28<00:54,  2.45it/s]\n",
      "EP_66 | train loss: 0.37948316966786105 | val loss: 0.3231300565541959 |\n",
      "Epoch:  34%|███▍      | 68/200 [00:28<00:52,  2.51it/s]\n",
      "EP_67 | train loss: 0.3767234203862209 | val loss: 0.32081882275787055 |\n",
      "Epoch:  34%|███▍      | 69/200 [00:28<00:51,  2.56it/s]\n",
      "EP_68 | train loss: 0.3754742949616675 | val loss: 0.32057302255256503 |\n",
      "Epoch:  35%|███▌      | 70/200 [00:29<00:50,  2.59it/s]\n",
      "EP_69 | train loss: 0.37193619223201974 | val loss: 0.31936923020026264 |\n",
      "Epoch:  36%|███▌      | 71/200 [00:29<00:50,  2.58it/s]\n",
      "EP_70 | train loss: 0.37071527827019785 | val loss: 0.31738953789075214 |\n",
      "Epoch:  36%|███▌      | 72/200 [00:29<00:49,  2.61it/s]\n",
      "EP_71 | train loss: 0.36831646620058545 | val loss: 0.3168039181653191 |\n",
      "Epoch:  36%|███▋      | 73/200 [00:30<00:48,  2.63it/s]\n",
      "EP_72 | train loss: 0.3652321792116352 | val loss: 0.31484542991600784 |\n",
      "Epoch:  37%|███▋      | 74/200 [00:30<00:47,  2.64it/s]\n",
      "EP_73 | train loss: 0.36428443450553744 | val loss: 0.3147096411854613 |\n",
      "Epoch:  38%|███▊      | 75/200 [00:31<00:47,  2.65it/s]\n",
      "EP_74 | train loss: 0.36103898123198863 | val loss: 0.31251534994910746 |\n",
      "Epoch:  38%|███▊      | 76/200 [00:31<00:47,  2.62it/s]\n",
      "EP_75 | train loss: 0.35729089344249054 | val loss: 0.3106508068009919 |\n",
      "Epoch:  38%|███▊      | 77/200 [00:31<00:46,  2.64it/s]\n",
      "EP_76 | train loss: 0.3566491267260383 | val loss: 0.3091415721996158 |\n",
      "Epoch:  39%|███▉      | 78/200 [00:32<00:46,  2.65it/s]\n",
      "EP_77 | train loss: 0.356040524968914 | val loss: 0.31153227476512685 |\n",
      "Epoch:  40%|███▉      | 79/200 [00:32<00:46,  2.61it/s]\n",
      "EP_78 | train loss: 0.3500200271606445 | val loss: 0.30692034726049383 |\n",
      "Epoch:  40%|████      | 80/200 [00:32<00:47,  2.54it/s]\n",
      "EP_79 | train loss: 0.3481947646421545 | val loss: 0.30729851769466027 |\n",
      "Epoch:  40%|████      | 81/200 [00:33<00:47,  2.49it/s]\n",
      "EP_80 | train loss: 0.34584037229126574 | val loss: 0.30477988310888704 |\n",
      "Epoch:  41%|████      | 82/200 [00:33<00:47,  2.47it/s]\n",
      "EP_81 | train loss: 0.3423688710904589 | val loss: 0.3037150718417822 |\n",
      "Epoch:  42%|████▏     | 83/200 [00:34<00:47,  2.46it/s]\n",
      "EP_82 | train loss: 0.3392585090562409 | val loss: 0.3019702633221944 |\n",
      "Epoch:  42%|████▏     | 84/200 [00:34<00:47,  2.43it/s]\n",
      "EP_83 | train loss: 0.33550777949538885 | val loss: 0.30027434931081887 |\n",
      "Epoch:  42%|████▎     | 85/200 [00:35<00:47,  2.43it/s]\n",
      "EP_84 | train loss: 0.33432094443078136 | val loss: 0.2991126664713317 |\n",
      "Epoch:  43%|████▎     | 86/200 [00:35<00:48,  2.36it/s]\n",
      "EP_85 | train loss: 0.33095575781429515 | val loss: 0.2969074214206022 |\n",
      "Epoch:  44%|████▎     | 87/200 [00:35<00:46,  2.42it/s]\n",
      "EP_86 | train loss: 0.3278028544257669 | val loss: 0.29448992364546833 |\n",
      "Epoch:  44%|████▍     | 88/200 [00:36<00:45,  2.47it/s]\n",
      "EP_87 | train loss: 0.32471254947138767 | val loss: 0.29239387839448217 |\n",
      "Epoch:  44%|████▍     | 89/200 [00:36<00:43,  2.53it/s]\n",
      "EP_88 | train loss: 0.3203503926595052 | val loss: 0.2907666295182471 |\n",
      "Epoch:  45%|████▌     | 90/200 [00:37<00:43,  2.56it/s]\n",
      "EP_89 | train loss: 0.3182185495600981 | val loss: 0.28874777111352656 |\n",
      "Epoch:  46%|████▌     | 91/200 [00:37<00:42,  2.55it/s]\n",
      "EP_90 | train loss: 0.3147829682219262 | val loss: 0.286060678023918 |\n",
      "Epoch:  46%|████▌     | 92/200 [00:37<00:41,  2.59it/s]\n",
      "EP_91 | train loss: 0.3108120913599052 | val loss: 0.28523583564103816 |\n",
      "Epoch:  46%|████▋     | 93/200 [00:38<00:41,  2.60it/s]\n",
      "EP_92 | train loss: 0.307590072295245 | val loss: 0.2820669687261768 |\n",
      "Epoch:  47%|████▋     | 94/200 [00:38<00:40,  2.59it/s]\n",
      "EP_93 | train loss: 0.3041809222277473 | val loss: 0.27935449632943843 |\n",
      "Epoch:  48%|████▊     | 95/200 [00:38<00:41,  2.54it/s]\n",
      "EP_94 | train loss: 0.3026570876439412 | val loss: 0.27984415549857944 |\n",
      "Epoch:  48%|████▊     | 96/200 [00:39<00:42,  2.45it/s]\n",
      "EP_95 | train loss: 0.29687893998389153 | val loss: 0.27601929388794244 |\n",
      "Epoch:  48%|████▊     | 97/200 [00:39<00:42,  2.41it/s]\n",
      "EP_96 | train loss: 0.2932999148088343 | val loss: 0.27285948337293137 |\n",
      "Epoch:  49%|████▉     | 98/200 [00:40<00:42,  2.42it/s]\n",
      "EP_97 | train loss: 0.29081041999891694 | val loss: 0.2716190709787257 |\n",
      "Epoch:  50%|████▉     | 99/200 [00:40<00:41,  2.44it/s]\n",
      "EP_98 | train loss: 0.28607468605041503 | val loss: 0.2692127718644984 |\n",
      "Epoch:  50%|█████     | 100/200 [00:41<00:40,  2.45it/s]\n",
      "EP_99 | train loss: 0.28222871714947273 | val loss: 0.2681230306625366 |\n",
      "Epoch:  50%|█████     | 101/200 [00:41<00:40,  2.46it/s]\n",
      "EP_100 | train loss: 0.2816829475702024 | val loss: 0.263782496545829 |\n",
      "Epoch:  51%|█████     | 102/200 [00:41<00:39,  2.46it/s]\n",
      "EP_101 | train loss: 0.2756143626044778 | val loss: 0.26083528703334286 |\n",
      "Epoch:  52%|█████▏    | 103/200 [00:42<00:39,  2.47it/s]\n",
      "EP_102 | train loss: 0.27687870006935267 | val loss: 0.26034704259797636 |\n",
      "Epoch:  52%|█████▏    | 104/200 [00:42<00:38,  2.51it/s]\n",
      "EP_103 | train loss: 0.2664801798614801 | val loss: 0.2544313154968561 |\n",
      "Epoch:  52%|█████▎    | 105/200 [00:43<00:37,  2.54it/s]\n",
      "EP_104 | train loss: 0.26222277669345634 | val loss: 0.2521948545586829 |\n",
      "Epoch:  53%|█████▎    | 106/200 [00:43<00:38,  2.45it/s]\n",
      "EP_105 | train loss: 0.25993297333810844 | val loss: 0.24897776339568345 |\n",
      "Epoch:  54%|█████▎    | 107/200 [00:43<00:37,  2.48it/s]\n",
      "EP_106 | train loss: 0.2545606683282291 | val loss: 0.24660288761643803 |\n",
      "Epoch:  54%|█████▍    | 108/200 [00:44<00:37,  2.47it/s]\n",
      "EP_107 | train loss: 0.2523615785673553 | val loss: 0.24322711603314268 |\n",
      "Epoch:  55%|█████▍    | 109/200 [00:44<00:36,  2.48it/s]\n",
      "EP_108 | train loss: 0.25077413998398124 | val loss: 0.23947188258171082 |\n",
      "Epoch:  55%|█████▌    | 110/200 [00:45<00:36,  2.48it/s]\n",
      "EP_109 | train loss: 0.2442306593352673 | val loss: 0.23911174255258896 |\n",
      "Epoch:  56%|█████▌    | 111/200 [00:45<00:36,  2.44it/s]\n",
      "EP_110 | train loss: 0.24818175960989558 | val loss: 0.23651673513300278 |\n",
      "Epoch:  56%|█████▌    | 112/200 [00:45<00:35,  2.46it/s]\n",
      "EP_111 | train loss: 0.23821464800367168 | val loss: 0.227910460210314 |\n",
      "Epoch:  56%|█████▋    | 113/200 [00:46<00:35,  2.42it/s]\n",
      "EP_112 | train loss: 0.2304692413292679 | val loss: 0.2248416607286416 |\n",
      "Epoch:  57%|█████▋    | 114/200 [00:46<00:35,  2.44it/s]\n",
      "EP_113 | train loss: 0.22666208557054107 | val loss: 0.2217660037910237 |\n",
      "Epoch:  57%|█████▊    | 115/200 [00:47<00:35,  2.40it/s]\n",
      "EP_114 | train loss: 0.23057999073290358 | val loss: 0.22016743000815897 |\n",
      "Epoch:  58%|█████▊    | 116/200 [00:47<00:34,  2.43it/s]\n",
      "EP_115 | train loss: 0.21694798422794717 | val loss: 0.21245999020688675 |\n",
      "Epoch:  58%|█████▊    | 117/200 [00:47<00:33,  2.49it/s]\n",
      "EP_116 | train loss: 0.21286585891948026 | val loss: 0.209372515187544 |\n",
      "Epoch:  59%|█████▉    | 118/200 [00:48<00:32,  2.53it/s]\n",
      "EP_117 | train loss: 0.23050227492463354 | val loss: 0.21712448842385235 |\n",
      "Epoch:  60%|█████▉    | 119/200 [00:48<00:31,  2.56it/s]\n",
      "EP_118 | train loss: 0.20666926187627455 | val loss: 0.19850371398177802 |\n",
      "Epoch:  60%|██████    | 120/200 [00:49<00:31,  2.58it/s]\n",
      "EP_119 | train loss: 0.19940820348029042 | val loss: 0.19839883025954752 |\n",
      "Epoch:  60%|██████    | 121/200 [00:49<00:30,  2.56it/s]\n",
      "EP_120 | train loss: 0.19632416870079789 | val loss: 0.19036034801427057 |\n",
      "Epoch:  61%|██████    | 122/200 [00:49<00:30,  2.59it/s]\n",
      "EP_121 | train loss: 0.19201890440548167 | val loss: 0.1868434951585882 |\n",
      "Epoch:  62%|██████▏   | 123/200 [00:50<00:29,  2.62it/s]\n",
      "EP_122 | train loss: 0.1861565636653526 | val loss: 0.18209034905714147 |\n",
      "Epoch:  62%|██████▏   | 124/200 [00:50<00:28,  2.64it/s]\n",
      "EP_123 | train loss: 0.18231363974365533 | val loss: 0.1815818857912924 |\n",
      "Epoch:  62%|██████▎   | 125/200 [00:51<00:28,  2.60it/s]\n",
      "EP_124 | train loss: 0.17776787561528823 | val loss: 0.1709106622957716 |\n",
      "Epoch:  63%|██████▎   | 126/200 [00:51<00:28,  2.57it/s]\n",
      "EP_125 | train loss: 0.17216452593896903 | val loss: 0.16777343025394514 |\n",
      "Epoch:  64%|██████▎   | 127/200 [00:51<00:28,  2.60it/s]\n",
      "EP_126 | train loss: 0.16750039329715805 | val loss: 0.16455425234401927 |\n",
      "Epoch:  64%|██████▍   | 128/200 [00:52<00:27,  2.59it/s]\n",
      "EP_127 | train loss: 0.1633657831771701 | val loss: 0.15952322179195927 |\n",
      "Epoch:  64%|██████▍   | 129/200 [00:52<00:27,  2.57it/s]\n",
      "EP_128 | train loss: 0.1613355412202723 | val loss: 0.1607214358507418 |\n",
      "Epoch:  65%|██████▌   | 130/200 [00:52<00:27,  2.59it/s]\n",
      "EP_129 | train loss: 0.15569754441579184 | val loss: 0.15109040573531507 |\n",
      "Epoch:  66%|██████▌   | 131/200 [00:53<00:26,  2.57it/s]\n",
      "EP_130 | train loss: 0.1487068863476024 | val loss: 0.14551758824610242 |\n",
      "Epoch:  66%|██████▌   | 132/200 [00:53<00:26,  2.59it/s]\n",
      "EP_131 | train loss: 0.14697883573232912 | val loss: 0.1421883906803879 |\n",
      "Epoch:  66%|██████▋   | 133/200 [00:54<00:25,  2.61it/s]\n",
      "EP_132 | train loss: 0.16607140957140454 | val loss: 0.15416487525491154 |\n",
      "Epoch:  67%|██████▋   | 134/200 [00:54<00:25,  2.59it/s]\n",
      "EP_133 | train loss: 0.13639754220551137 | val loss: 0.13249490015646992 |\n",
      "Epoch:  68%|██████▊   | 135/200 [00:54<00:25,  2.57it/s]\n",
      "EP_134 | train loss: 0.14288641050750134 | val loss: 0.1339644661136702 |\n",
      "Epoch:  68%|██████▊   | 136/200 [00:55<00:26,  2.40it/s]\n",
      "EP_135 | train loss: 0.1295956067010468 | val loss: 0.12376934231496324 |\n",
      "Epoch:  68%|██████▊   | 137/200 [00:55<00:25,  2.44it/s]\n",
      "EP_136 | train loss: 0.1245183502926546 | val loss: 0.12679665579515345 |\n",
      "Epoch:  69%|██████▉   | 138/200 [00:56<00:26,  2.38it/s]\n",
      "EP_137 | train loss: 0.1451752414890364 | val loss: 0.13079094886779785 |\n",
      "Epoch:  70%|██████▉   | 139/200 [00:56<00:26,  2.34it/s]\n",
      "EP_138 | train loss: 0.11495418758953319 | val loss: 0.11569730557647406 |\n",
      "Epoch:  70%|███████   | 140/200 [00:57<00:25,  2.33it/s]\n",
      "EP_139 | train loss: 0.11389611819211175 | val loss: 0.11541140079498291 |\n",
      "Epoch:  70%|███████   | 141/200 [00:57<00:25,  2.33it/s]\n",
      "EP_140 | train loss: 0.10742476033229453 | val loss: 0.10151562854355457 |\n",
      "Epoch:  71%|███████   | 142/200 [00:57<00:24,  2.35it/s]\n",
      "EP_141 | train loss: 0.10313205087886138 | val loss: 0.0977274074273951 |\n",
      "Epoch:  72%|███████▏  | 143/200 [00:58<00:24,  2.36it/s]\n",
      "EP_142 | train loss: 0.10406089203030455 | val loss: 0.09590629327530954 |\n",
      "Epoch:  72%|███████▏  | 144/200 [00:58<00:23,  2.38it/s]\n",
      "EP_143 | train loss: 0.09791557169428058 | val loss: 0.09261215901842304 |\n",
      "Epoch:  72%|███████▎  | 145/200 [00:59<00:22,  2.40it/s]\n",
      "EP_144 | train loss: 0.09511206196803673 | val loss: 0.08862949703253951 |\n",
      "Epoch:  73%|███████▎  | 146/200 [00:59<00:22,  2.37it/s]\n",
      "EP_145 | train loss: 0.08736067309099085 | val loss: 0.08086416417477178 |\n",
      "Epoch:  74%|███████▎  | 147/200 [01:00<00:22,  2.39it/s]\n",
      "EP_146 | train loss: 0.09740489557677624 | val loss: 0.10396897442200605 |\n",
      "Epoch:  74%|███████▍  | 148/200 [01:00<00:21,  2.38it/s]\n",
      "EP_147 | train loss: 0.080153683237001 | val loss: 0.07538381627961702 |\n",
      "Epoch:  74%|███████▍  | 149/200 [01:00<00:21,  2.35it/s]\n",
      "EP_148 | train loss: 0.07673506841940038 | val loss: 0.07852410452038634 |\n",
      "Epoch:  75%|███████▌  | 150/200 [01:01<00:21,  2.37it/s]\n",
      "EP_149 | train loss: 0.07209180499993119 | val loss: 0.06715680775689144 |\n",
      "Epoch:  76%|███████▌  | 151/200 [01:01<00:21,  2.33it/s]\n",
      "EP_150 | train loss: 0.06812582845781363 | val loss: 0.06917824523121703 |\n",
      "Epoch:  76%|███████▌  | 152/200 [01:02<00:20,  2.34it/s]\n",
      "EP_151 | train loss: 0.06643079975072075 | val loss: 0.069162284042321 |\n",
      "Epoch:  76%|███████▋  | 153/200 [01:02<00:19,  2.37it/s]\n",
      "EP_152 | train loss: 0.06274534171702816 | val loss: 0.06524293329201493 |\n",
      "Epoch:  77%|███████▋  | 154/200 [01:02<00:19,  2.39it/s]\n",
      "EP_153 | train loss: 0.06575656848795274 | val loss: 0.060824102046442965 |\n",
      "Epoch:  78%|███████▊  | 155/200 [01:03<00:18,  2.40it/s]\n",
      "EP_154 | train loss: 0.059671969039767396 | val loss: 0.06510049513742036 |\n",
      "Epoch:  78%|███████▊  | 156/200 [01:03<00:18,  2.36it/s]\n",
      "EP_155 | train loss: 0.05685598680786058 | val loss: 0.05478198037428014 |\n",
      "Epoch:  78%|███████▊  | 157/200 [01:04<00:18,  2.33it/s]\n",
      "EP_156 | train loss: 0.05304193859006844 | val loss: 0.057756163910323496 |\n",
      "Epoch:  79%|███████▉  | 158/200 [01:04<00:17,  2.34it/s]\n",
      "EP_157 | train loss: 0.05177795594813777 | val loss: 0.056694052383011465 |\n",
      "Epoch:  80%|███████▉  | 159/200 [01:05<00:17,  2.36it/s]\n",
      "EP_158 | train loss: 0.048197433703085955 | val loss: 0.049002419499789965 |\n",
      "Epoch:  80%|████████  | 160/200 [01:05<00:16,  2.38it/s]\n",
      "EP_159 | train loss: 0.04541486671157912 | val loss: 0.046143853196910785 |\n",
      "Epoch:  80%|████████  | 161/200 [01:05<00:16,  2.33it/s]\n",
      "EP_160 | train loss: 0.05255228736821343 | val loss: 0.04975107049240785 |\n",
      "Epoch:  81%|████████  | 162/200 [01:06<00:16,  2.34it/s]\n",
      "EP_161 | train loss: 0.04092437186661889 | val loss: 0.04430310398924584 |\n",
      "Epoch:  82%|████████▏ | 163/200 [01:06<00:15,  2.36it/s]\n",
      "EP_162 | train loss: 0.03945770024084577 | val loss: 0.04281967469290191 |\n",
      "Epoch:  82%|████████▏ | 164/200 [01:07<00:14,  2.40it/s]\n",
      "EP_163 | train loss: 0.04368959899042167 | val loss: 0.040623326511944044 |\n",
      "Epoch:  82%|████████▎ | 165/200 [01:07<00:14,  2.43it/s]\n",
      "EP_164 | train loss: 0.03562105753842522 | val loss: 0.037336013188549115 |\n",
      "Epoch:  83%|████████▎ | 166/200 [01:08<00:14,  2.40it/s]\n",
      "EP_165 | train loss: 0.03668871890096104 | val loss: 0.036644087702620266 |\n",
      "Epoch:  84%|████████▎ | 167/200 [01:08<00:13,  2.42it/s]\n",
      "EP_166 | train loss: 0.03429779611966189 | val loss: 0.039602590103944145 |\n",
      "Epoch:  84%|████████▍ | 168/200 [01:08<00:13,  2.44it/s]\n",
      "EP_167 | train loss: 0.05297223271108141 | val loss: 0.04598051046623903 |\n",
      "Epoch:  84%|████████▍ | 169/200 [01:09<00:12,  2.45it/s]\n",
      "EP_168 | train loss: 0.040555129565444645 | val loss: 0.03673877172610339 |\n",
      "Epoch:  85%|████████▌ | 170/200 [01:09<00:12,  2.45it/s]\n",
      "EP_169 | train loss: 0.03081411415455388 | val loss: 0.031146291862515843 |\n",
      "Epoch:  86%|████████▌ | 171/200 [01:10<00:11,  2.42it/s]\n",
      "EP_170 | train loss: 0.027074579076439727 | val loss: 0.031081931994241828 |\n",
      "Epoch:  86%|████████▌ | 172/200 [01:10<00:11,  2.43it/s]\n",
      "EP_171 | train loss: 0.034133435289065046 | val loss: 0.03403008802264344 |\n",
      "Epoch:  86%|████████▋ | 173/200 [01:10<00:11,  2.45it/s]\n",
      "EP_172 | train loss: 0.046407078878552305 | val loss: 0.04126701197203468 |\n",
      "Epoch:  87%|████████▋ | 174/200 [01:11<00:10,  2.38it/s]\n",
      "EP_173 | train loss: 0.03193293880013859 | val loss: 0.031608248458189124 |\n",
      "Epoch:  88%|████████▊ | 175/200 [01:11<00:10,  2.40it/s]\n",
      "EP_174 | train loss: 0.029743453538885304 | val loss: 0.02858949452638626 |\n",
      "Epoch:  88%|████████▊ | 176/200 [01:12<00:10,  2.39it/s]\n",
      "EP_175 | train loss: 0.022748121765314364 | val loss: 0.027760392091437883 |\n",
      "Epoch:  88%|████████▊ | 177/200 [01:12<00:09,  2.42it/s]\n",
      "EP_176 | train loss: 0.02931309488474154 | val loss: 0.027415403256229327 |\n",
      "Epoch:  89%|████████▉ | 178/200 [01:12<00:09,  2.43it/s]\n",
      "EP_177 | train loss: 0.021980672373491175 | val loss: 0.025646690060110652 |\n",
      "Epoch:  90%|████████▉ | 179/200 [01:13<00:08,  2.45it/s]\n",
      "EP_178 | train loss: 0.020542458751622368 | val loss: 0.025168751822967156 |\n",
      "Epoch:  90%|█████████ | 180/200 [01:13<00:08,  2.46it/s]\n",
      "EP_179 | train loss: 0.019189112867210426 | val loss: 0.021652287566194348 |\n",
      "Epoch:  90%|█████████ | 181/200 [01:14<00:07,  2.43it/s]\n",
      "EP_180 | train loss: 0.0196736246639607 | val loss: 0.021246201413519242 |\n",
      "Epoch:  91%|█████████ | 182/200 [01:14<00:07,  2.45it/s]\n",
      "EP_181 | train loss: 0.023636540010863658 | val loss: 0.0313682025846313 |\n",
      "Epoch:  92%|█████████▏| 183/200 [01:15<00:06,  2.46it/s]\n",
      "EP_182 | train loss: 0.017990865982046314 | val loss: 0.020442531097169016 |\n",
      "Epoch:  92%|█████████▏| 184/200 [01:15<00:06,  2.47it/s]\n",
      "EP_183 | train loss: 0.016858872011596082 | val loss: 0.022809716197205523 |\n",
      "Epoch:  92%|█████████▎| 185/200 [01:15<00:06,  2.47it/s]\n",
      "EP_184 | train loss: 0.015596419748137979 | val loss: 0.019228025321282594 |\n",
      "Epoch:  93%|█████████▎| 186/200 [01:16<00:05,  2.44it/s]\n",
      "EP_185 | train loss: 0.015726031742843927 | val loss: 0.02081446367882046 |\n",
      "Epoch:  94%|█████████▎| 187/200 [01:16<00:05,  2.46it/s]\n",
      "EP_186 | train loss: 0.0149957870443662 | val loss: 0.017035748079126955 |\n",
      "Epoch:  94%|█████████▍| 188/200 [01:17<00:04,  2.46it/s]\n",
      "EP_187 | train loss: 0.014211466703929154 | val loss: 0.017014073390586703 |\n",
      "Epoch:  94%|█████████▍| 189/200 [01:17<00:04,  2.47it/s]\n",
      "EP_188 | train loss: 0.015152092511747397 | val loss: 0.01581714258474462 |\n",
      "Epoch:  95%|█████████▌| 190/200 [01:17<00:04,  2.47it/s]\n",
      "EP_189 | train loss: 0.019745670054473127 | val loss: 0.018864972480371885 |\n",
      "Epoch:  96%|█████████▌| 191/200 [01:18<00:03,  2.44it/s]\n",
      "EP_190 | train loss: 0.018247214135001688 | val loss: 0.017003202482181436 |\n",
      "Epoch:  96%|█████████▌| 192/200 [01:18<00:03,  2.44it/s]\n",
      "EP_191 | train loss: 0.02353824260188084 | val loss: 0.020101867177907157 |\n",
      "Epoch:  96%|█████████▋| 193/200 [01:19<00:02,  2.44it/s]\n",
      "EP_192 | train loss: 0.011557160946084003 | val loss: 0.01531975373041396 |\n",
      "Epoch:  97%|█████████▋| 194/200 [01:19<00:02,  2.45it/s]\n",
      "EP_193 | train loss: 0.01153484845862669 | val loss: 0.01653422451778954 |\n",
      "Epoch:  98%|█████████▊| 195/200 [01:19<00:02,  2.45it/s]\n",
      "EP_194 | train loss: 0.0219779641604891 | val loss: 0.019852285291634353 |\n",
      "Epoch:  98%|█████████▊| 196/200 [01:20<00:01,  2.42it/s]\n",
      "EP_195 | train loss: 0.011486085621165295 | val loss: 0.01425139036248712 |\n",
      "Epoch:  98%|█████████▊| 197/200 [01:20<00:01,  2.42it/s]\n",
      "EP_196 | train loss: 0.010063806044704774 | val loss: 0.013987638202368044 |\n",
      "Epoch:  99%|█████████▉| 198/200 [01:21<00:00,  2.43it/s]\n",
      "EP_197 | train loss: 0.00987978048768698 | val loss: 0.01232967869031663 |\n",
      "Epoch: 100%|█████████▉| 199/200 [01:21<00:00,  2.43it/s]\n",
      "EP_198 | train loss: 0.011008965676906061 | val loss: 0.01648992511863802 |\n",
      "Epoch: 100%|██████████| 200/200 [01:21<00:00,  2.44it/s]\n",
      "EP_199 | train loss: 0.010479851476117677 | val loss: 0.01226182479192229 |\n",
      "\n"
     ]
    }
   ],
   "source": [
    "AttractiveTrainer.train()"
   ]
  },
  {
   "cell_type": "markdown",
   "metadata": {},
   "source": [
    "## for classification, not better"
   ]
  },
  {
   "cell_type": "markdown",
   "metadata": {},
   "source": [
    "## Below is testing"
   ]
  },
  {
   "cell_type": "code",
   "execution_count": 8,
   "metadata": {},
   "outputs": [
    {
     "output_type": "execute_result",
     "data": {
      "text/plain": [
       "AttractiveNet(\n",
       "  (embedding): AttractiveEmbedding(\n",
       "    (token): TokenEmbedding(12699, 300, padding_idx=1)\n",
       "  )\n",
       "  (bigramcnn): Sequential(\n",
       "    (0): Conv1d(300, 200, kernel_size=(3,), stride=(1,), padding=(1,))\n",
       "    (1): ReLU()\n",
       "    (2): Conv1d(200, 100, kernel_size=(3,), stride=(1,), padding=(1,))\n",
       "    (3): ReLU()\n",
       "    (4): Dropout(p=0.3, inplace=False)\n",
       "  )\n",
       "  (trigramcnn): Sequential(\n",
       "    (0): Conv1d(300, 200, kernel_size=(3,), stride=(1,), padding=(1,))\n",
       "    (1): ReLU()\n",
       "    (2): Conv1d(200, 100, kernel_size=(3,), stride=(1,), padding=(1,))\n",
       "    (3): ReLU()\n",
       "    (4): Dropout(p=0.3, inplace=False)\n",
       "  )\n",
       "  (encoder_bigram_first): LSTM(100, 30, batch_first=True, dropout=0.3, bidirectional=True)\n",
       "  (encoder_trigram_first): LSTM(100, 30, batch_first=True, dropout=0.3, bidirectional=True)\n",
       "  (linear): Sequential(\n",
       "    (0): Linear(in_features=124, out_features=30, bias=True)\n",
       "    (1): ReLU()\n",
       "    (2): Linear(in_features=30, out_features=1, bias=True)\n",
       "  )\n",
       ")"
      ]
     },
     "metadata": {},
     "execution_count": 8
    }
   ],
   "source": [
    "from attractivenet import AttractiveNet\n",
    "\n",
    "PATH = './model/CNN_LSTM_20201106-230003/0.357291.75'\n",
    "\n",
    "load_model = AttractiveNet(config).to(AttractiveData.device)\n",
    "load_model.load_state_dict(torch.load(PATH))\n",
    "load_model.eval()"
   ]
  },
  {
   "cell_type": "code",
   "execution_count": 9,
   "metadata": {},
   "outputs": [],
   "source": [
    "def predict_attractive(sentence, category, phase):\n",
    "    indexed_sentence = [AttractiveData.TEXT.vocab.stoi[t] for t in sentence]\n",
    "    indexed_category = [AttractiveData.CATEGORIES_LABEL.vocab.stoi[category]]\n",
    "    tensor_sentence = torch.LongTensor(indexed_sentence).to(AttractiveData.device)\n",
    "    tensor_category = torch.LongTensor(indexed_category).to(AttractiveData.device)\n",
    "\n",
    "    tensor_sentence = tensor_sentence.unsqueeze(0)\n",
    "    # print(tensor_sentence.shape)\n",
    "\n",
    "    prediction = load_model(tensor_sentence, tensor_category, phase=phase)\n",
    "\n",
    "    return prediction"
   ]
  },
  {
   "cell_type": "code",
   "execution_count": 10,
   "metadata": {
    "tags": []
   },
   "outputs": [],
   "source": [
    "# train mean = 3.15, test mean = 2.8\n",
    "predict_list = []\n",
    "with torch.no_grad():\n",
    "    for i, sentence in enumerate(AttractiveData.test_data):\n",
    "        prediction = predict_attractive(sentence.Headline, sentence.Category, 'test')\n",
    "        predict_list.append(prediction.item())\n",
    "        # predict_list.append(prediction.item())\n",
    "AttractiveData.df_test['Label'] = predict_list\n",
    "AttractiveData.df_test[['ID', 'Label']].to_csv(config['save_name'] + '.csv', index=False)"
   ]
  },
  {
   "cell_type": "markdown",
   "metadata": {},
   "source": [
    "## Below for statistics"
   ]
  },
  {
   "cell_type": "code",
   "execution_count": 11,
   "metadata": {},
   "outputs": [],
   "source": [
    "import statistics\n",
    "from sklearn.metrics import mean_squared_error"
   ]
  },
  {
   "cell_type": "code",
   "execution_count": 12,
   "metadata": {},
   "outputs": [],
   "source": [
    "# # train mean = 3.15, test mean = 2.8\n",
    "# train_list = []\n",
    "# for i, sentence in enumerate(AttractiveData.train_data):\n",
    "#     prediction = predict_attractive(sentence.Headline, sentence.Category, 'train')\n",
    "#     train_list.append(prediction.item())\n",
    "#     # train_list.append(prediction.item())\n",
    "# # print(train_list)\n",
    "# mean_squared_error(pd.read_csv('data/train.csv').sort_values(['ID']).Label.to_list(), train_list), statistics.mean(train_list), statistics.stdev(train_list)"
   ]
  },
  {
   "cell_type": "code",
   "execution_count": 13,
   "metadata": {},
   "outputs": [],
   "source": [
    "# train_list[0:5], pd.read_csv('data/train.csv').sort_values(['ID']).Label.to_list()[0:5]"
   ]
  },
  {
   "cell_type": "code",
   "execution_count": 14,
   "metadata": {},
   "outputs": [],
   "source": [
    "# a = AttractiveData.df_train['Label'].to_list()\n",
    "# statistics.mean(a), statistics.stdev(a)"
   ]
  },
  {
   "cell_type": "code",
   "execution_count": 15,
   "metadata": {},
   "outputs": [
    {
     "output_type": "execute_result",
     "data": {
      "text/plain": [
       "(2.752519358622345, 0.35303404661715443)"
      ]
     },
     "metadata": {},
     "execution_count": 15
    }
   ],
   "source": [
    "statistics.mean(predict_list), statistics.stdev(predict_list)"
   ]
  },
  {
   "cell_type": "code",
   "execution_count": 16,
   "metadata": {},
   "outputs": [
    {
     "output_type": "execute_result",
     "data": {
      "text/plain": [
       "(0.0005704767490804576, 2.774164993857497, 0.3615900775742119)"
      ]
     },
     "metadata": {},
     "execution_count": 16
    }
   ],
   "source": [
    "baseline_list = pd.read_csv('baseline.csv').sort_values(['ID']).Label.to_list()\n",
    "mean_squared_error(baseline_list, predict_list), statistics.mean(baseline_list), statistics.stdev(baseline_list)"
   ]
  },
  {
   "cell_type": "code",
   "execution_count": null,
   "metadata": {},
   "outputs": [],
   "source": []
  },
  {
   "cell_type": "code",
   "execution_count": 18,
   "metadata": {},
   "outputs": [
    {
     "data": {
      "text/plain": [
       "0.1609754968529207"
      ]
     },
     "execution_count": 18,
     "metadata": {},
     "output_type": "execute_result"
    }
   ],
   "source": [
    "mean_squared_error(pd.read_csv('baseline.csv').sort_values(['ID']).Label.to_list(), pd.read_csv('./predict/ensemble.csv').sort_values(['ID']).Label.to_list())"
   ]
  },
  {
   "cell_type": "code",
   "execution_count": 10,
   "metadata": {},
   "outputs": [],
   "source": [
    "from sklearn.model_selection import KFold\n",
    "import numpy as np"
   ]
  },
  {
   "cell_type": "code",
   "execution_count": 11,
   "metadata": {},
   "outputs": [],
   "source": []
  },
  {
   "cell_type": "code",
   "execution_count": 12,
   "metadata": {},
   "outputs": [
    {
     "data": {
      "text/plain": [
       "2040"
      ]
     },
     "execution_count": 12,
     "metadata": {},
     "output_type": "execute_result"
    }
   ],
   "source": [
    "len(AttractiveData.train_data.examples)"
   ]
  },
  {
   "cell_type": "code",
   "execution_count": 13,
   "metadata": {},
   "outputs": [],
   "source": []
  },
  {
   "cell_type": "code",
   "execution_count": null,
   "metadata": {},
   "outputs": [],
   "source": []
  }
 ],
 "metadata": {
  "kernelspec": {
   "display_name": "DS_hw2",
   "language": "python",
   "name": "ds_hw2"
  },
  "language_info": {
   "codemirror_mode": {
    "name": "ipython",
    "version": 3
   },
   "file_extension": ".py",
   "mimetype": "text/x-python",
   "name": "python",
   "nbconvert_exporter": "python",
   "pygments_lexer": "ipython3",
   "version": "3.6.12-final"
  }
 },
 "nbformat": 4,
 "nbformat_minor": 4
}