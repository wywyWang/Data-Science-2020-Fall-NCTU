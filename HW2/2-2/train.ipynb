{
 "metadata": {
  "language_info": {
   "codemirror_mode": {
    "name": "ipython",
    "version": 3
   },
   "file_extension": ".py",
   "mimetype": "text/x-python",
   "name": "python",
   "nbconvert_exporter": "python",
   "pygments_lexer": "ipython3",
   "version": "3.6.12-final"
  },
  "orig_nbformat": 2,
  "kernelspec": {
   "name": "Python 3.6.12 64-bit",
   "display_name": "Python 3.6.12 64-bit",
   "metadata": {
    "interpreter": {
     "hash": "de6ec751e8d816810380d8c8f13d270f86a313990c5d5930d253da012ff5e7fc"
    }
   }
  }
 },
 "nbformat": 4,
 "nbformat_minor": 2,
 "cells": [
  {
   "cell_type": "code",
   "execution_count": 1,
   "metadata": {},
   "outputs": [],
   "source": [
    "# common packages\n",
    "import pandas as pd\n",
    "import time\n",
    "\n",
    "# # DL framework\n",
    "import torch\n",
    "from torchtext import data\n",
    "\n",
    "from attractivedata import AttractiveData\n",
    "from trainer import AttractiveTrainer"
   ]
  },
  {
   "source": [
    "## Load and prepare data"
   ],
   "cell_type": "markdown",
   "metadata": {}
  },
  {
   "cell_type": "code",
   "execution_count": 2,
   "metadata": {},
   "outputs": [],
   "source": [
    "train_file = 'data/train.csv'\n",
    "test_file = 'data/test.csv'\n",
    "pretrained_file = 'glove.840B.300d'\n",
    "config = {\n",
    "    'max_seq': 40,\n",
    "    'min_freq': 0,\n",
    "    'batch_size': 64,\n",
    "    'pretrained_file': pretrained_file\n",
    "}\n"
   ]
  },
  {
   "cell_type": "code",
   "execution_count": 3,
   "metadata": {},
   "outputs": [],
   "source": [
    "AttractiveData = AttractiveData(train_file, test_file, pretrained_file, config)"
   ]
  },
  {
   "cell_type": "code",
   "execution_count": 4,
   "metadata": {},
   "outputs": [],
   "source": [
    "# for i, sentence in enumerate(AttractiveData.test_data):\n",
    "#     if i == 3:\n",
    "#         print(vars(AttractiveData.train_data[i]), vars(sentence))"
   ]
  },
  {
   "cell_type": "code",
   "execution_count": 5,
   "metadata": {},
   "outputs": [
    {
     "output_type": "execute_result",
     "data": {
      "text/plain": [
       "18"
      ]
     },
     "metadata": {},
     "execution_count": 5
    }
   ],
   "source": [
    "len(AttractiveData.CATEGORIES_LABEL.vocab.freqs)"
   ]
  },
  {
   "cell_type": "code",
   "execution_count": 6,
   "metadata": {},
   "outputs": [
    {
     "output_type": "execute_result",
     "data": {
      "text/plain": [
       "38"
      ]
     },
     "metadata": {},
     "execution_count": 6
    }
   ],
   "source": [
    "max_len = 0\n",
    "a = AttractiveData.train_data\n",
    "for i in range(len(a)):\n",
    "    if len(a[i].Headline) >= max_len:\n",
    "        max_len = len(a[i].Headline)\n",
    "max_len"
   ]
  },
  {
   "source": [
    "## Start to train"
   ],
   "cell_type": "markdown",
   "metadata": {}
  },
  {
   "cell_type": "code",
   "execution_count": 7,
   "metadata": {},
   "outputs": [
    {
     "output_type": "stream",
     "name": "stdout",
     "text": [
      "torch.Size([12699, 300])\n"
     ]
    }
   ],
   "source": [
    "config['timestr'] = time.strftime(\"%Y%m%d-%H%M%S\")\n",
    "config['save_name'] = 'CNN_LSTM'\n",
    "config['input_dim'] = len(AttractiveData.TEXT.vocab)\n",
    "config['embedding_dim'] = 300\n",
    "config['category_dim'] = len(AttractiveData.CATEGORIES_LABEL.vocab)\n",
    "config['category_embedding_dim'] = 5\n",
    "config['hidden_dim'] = 30\n",
    "config['output_dim'] = 1\n",
    "config['log_steps'] = 10\n",
    "config['epochs'] = 300\n",
    "config['lr'] = {\n",
    "    'encoder': 1e-6,\n",
    "    'embedding': 5e-6,\n",
    "    'linear': 5e-6\n",
    "}\n",
    "config['num_layers'] = 1\n",
    "config['kernel_size'] = 3\n",
    "config['dropout'] = 0.2\n",
    "config['train_len'] = AttractiveData.train_len\n",
    "config['val_len'] = AttractiveData.val_len\n",
    "config['test_len'] = AttractiveData.test_len\n",
    "\n",
    "pretrained_embeddings = AttractiveData.TEXT.vocab.vectors\n",
    "print(pretrained_embeddings.shape)"
   ]
  },
  {
   "cell_type": "code",
   "execution_count": 8,
   "metadata": {},
   "outputs": [],
   "source": [
    "AttractiveTrainer = AttractiveTrainer(config, AttractiveData.device, AttractiveData.trainloader, AttractiveData.valloader, pretrained_embeddings)"
   ]
  },
  {
   "cell_type": "code",
   "execution_count": 9,
   "metadata": {},
   "outputs": [
    {
     "output_type": "execute_result",
     "data": {
      "text/plain": [
       "(AttractiveNet(\n",
       "   (embedding): AttractiveEmbedding(\n",
       "     (token): TokenEmbedding(12699, 300, padding_idx=1)\n",
       "   )\n",
       "   (bigramcnn): Sequential(\n",
       "     (0): Conv1d(300, 220, kernel_size=(2,), stride=(1,), padding=(1,))\n",
       "     (1): ReLU()\n",
       "     (2): Conv1d(220, 150, kernel_size=(2,), stride=(1,), padding=(1,))\n",
       "     (3): ReLU()\n",
       "     (4): Conv1d(150, 100, kernel_size=(2,), stride=(1,), padding=(1,))\n",
       "     (5): ReLU()\n",
       "   )\n",
       "   (trigramcnn): Sequential(\n",
       "     (0): Conv1d(300, 220, kernel_size=(3,), stride=(1,), padding=(1,))\n",
       "     (1): ReLU()\n",
       "     (2): Conv1d(220, 150, kernel_size=(3,), stride=(1,), padding=(1,))\n",
       "     (3): ReLU()\n",
       "     (4): Conv1d(150, 100, kernel_size=(3,), stride=(1,), padding=(1,))\n",
       "     (5): ReLU()\n",
       "   )\n",
       "   (encoder_bigram): LSTM(100, 30, batch_first=True, dropout=0.2, bidirectional=True)\n",
       "   (encoder_trigram): LSTM(100, 30, batch_first=True, dropout=0.2, bidirectional=True)\n",
       "   (linear): Sequential(\n",
       "     (0): Linear(in_features=240, out_features=30, bias=True)\n",
       "     (1): ReLU()\n",
       "     (2): Linear(in_features=30, out_features=1, bias=True)\n",
       "   )\n",
       " ),\n",
       " 4451261,\n",
       " 641561)"
      ]
     },
     "metadata": {},
     "execution_count": 9
    }
   ],
   "source": [
    "AttractiveTrainer.model, AttractiveTrainer.config['total_params'], AttractiveTrainer.config['total_learned_params']"
   ]
  },
  {
   "cell_type": "code",
   "execution_count": 10,
   "metadata": {
    "tags": [
     "outputPrepend"
    ]
   },
   "outputs": [
    {
     "output_type": "stream",
     "name": "stderr",
     "text": [
      "3084345799 |\n",
      "====\n",
      "Epoch:  52%|█████▏    | 155/300 [01:03<01:02,  2.30it/s]\n",
      "EP_train | train loss: 0.529316687116436 | val loss: 0.539165646422143 |\n",
      "====\n",
      "Epoch:  52%|█████▏    | 156/300 [01:03<01:02,  2.31it/s]\n",
      "EP_train | train loss: 0.5292787785623588 | val loss: 0.5393514072193819 |\n",
      "====\n",
      "Epoch:  52%|█████▏    | 157/300 [01:04<01:01,  2.31it/s]\n",
      "EP_train | train loss: 0.5292374536102893 | val loss: 0.5390579560223747 |\n",
      "====\n",
      "Epoch:  53%|█████▎    | 158/300 [01:04<01:01,  2.33it/s]\n",
      "EP_train | train loss: 0.5291901457543466 | val loss: 0.5391242083381204 |\n",
      "====\n",
      "Epoch:  53%|█████▎    | 159/300 [01:05<01:00,  2.31it/s]\n",
      "EP_train | train loss: 0.5291479737150903 | val loss: 0.5391111934886259 |\n",
      "====\n",
      "Epoch:  53%|█████▎    | 160/300 [01:05<01:00,  2.32it/s]\n",
      "EP_train | train loss: 0.5291044169781255 | val loss: 0.5390186683804381 |\n",
      "====\n",
      "Epoch:  54%|█████▎    | 161/300 [01:06<01:01,  2.28it/s]\n",
      "EP_train | train loss: 0.5290592633041681 | val loss: 0.5390104406020221 |\n",
      "====\n",
      "Epoch:  54%|█████▍    | 162/300 [01:06<01:00,  2.26it/s]\n",
      "EP_train | train loss: 0.5290144527659697 | val loss: 0.5390289157044654 |\n",
      "====\n",
      "Epoch:  54%|█████▍    | 163/300 [01:07<01:01,  2.24it/s]\n",
      "EP_train | train loss: 0.5289654853297215 | val loss: 0.5388951582067153 |\n",
      "====\n",
      "Epoch:  55%|█████▍    | 164/300 [01:07<00:59,  2.28it/s]\n",
      "EP_train | train loss: 0.5289241154988606 | val loss: 0.5390378540637446 |\n",
      "====\n",
      "Epoch:  55%|█████▌    | 165/300 [01:07<00:58,  2.31it/s]\n",
      "EP_train | train loss: 0.5288696775249406 | val loss: 0.5388498867259306 |\n",
      "====\n",
      "Epoch:  55%|█████▌    | 166/300 [01:08<00:57,  2.35it/s]\n",
      "EP_train | train loss: 0.5288212364795162 | val loss: 0.5387384377273858 |\n",
      "====\n",
      "Epoch:  56%|█████▌    | 167/300 [01:08<00:56,  2.36it/s]\n",
      "EP_train | train loss: 0.5287686048769483 | val loss: 0.5387702642702589 |\n",
      "====\n",
      "Epoch:  56%|█████▌    | 168/300 [01:09<00:55,  2.39it/s]\n",
      "EP_train | train loss: 0.5287155861948051 | val loss: 0.5386822644402 |\n",
      "====\n",
      "Epoch:  56%|█████▋    | 169/300 [01:09<00:54,  2.40it/s]\n",
      "EP_train | train loss: 0.528663184596043 | val loss: 0.5386268017338771 |\n",
      "====\n",
      "Epoch:  57%|█████▋    | 170/300 [01:09<00:53,  2.42it/s]\n",
      "EP_train | train loss: 0.528608730727551 | val loss: 0.5385568469178443 |\n",
      "====\n",
      "Epoch:  57%|█████▋    | 171/300 [01:10<00:54,  2.38it/s]\n",
      "EP_train | train loss: 0.5285568340151918 | val loss: 0.5384318033854166 |\n",
      "====\n",
      "Epoch:  57%|█████▋    | 172/300 [01:10<00:53,  2.37it/s]\n",
      "EP_train | train loss: 0.5284984710169773 | val loss: 0.5385952743829465 |\n",
      "====\n",
      "Epoch:  58%|█████▊    | 173/300 [01:11<00:52,  2.42it/s]\n",
      "EP_train | train loss: 0.5284407045326981 | val loss: 0.5385607177135991 |\n",
      "====\n",
      "Epoch:  58%|█████▊    | 174/300 [01:11<00:51,  2.45it/s]\n",
      "EP_train | train loss: 0.5283772122626211 | val loss: 0.5384193308213178 |\n",
      "====\n",
      "Epoch:  58%|█████▊    | 175/300 [01:11<00:50,  2.50it/s]\n",
      "EP_train | train loss: 0.5283199702992158 | val loss: 0.5384570290060604 |\n",
      "====\n",
      "Epoch:  59%|█████▊    | 176/300 [01:12<00:48,  2.53it/s]\n",
      "EP_train | train loss: 0.5282535253786573 | val loss: 0.5383150437298942 |\n",
      "====\n",
      "Epoch:  59%|█████▉    | 177/300 [01:12<00:48,  2.53it/s]\n",
      "EP_train | train loss: 0.5281903444551954 | val loss: 0.5381672429103478 |\n",
      "====\n",
      "Epoch:  59%|█████▉    | 178/300 [01:13<00:47,  2.55it/s]\n",
      "EP_train | train loss: 0.5281231992384967 | val loss: 0.5381992938471776 |\n",
      "====\n",
      "Epoch:  60%|█████▉    | 179/300 [01:13<00:47,  2.56it/s]\n",
      "EP_train | train loss: 0.5280570048911899 | val loss: 0.5381045621984145 |\n",
      "====\n",
      "Epoch:  60%|██████    | 180/300 [01:13<00:46,  2.57it/s]\n",
      "EP_train | train loss: 0.5279873043883081 | val loss: 0.5379815195121017 |\n",
      "====\n",
      "Epoch:  60%|██████    | 181/300 [01:14<00:46,  2.54it/s]\n",
      "EP_train | train loss: 0.5279167025696998 | val loss: 0.5379465701533299 |\n",
      "====\n",
      "Epoch:  61%|██████    | 182/300 [01:14<00:46,  2.54it/s]\n",
      "EP_train | train loss: 0.5278456790774476 | val loss: 0.5379004384957108 |\n",
      "====\n",
      "Epoch:  61%|██████    | 183/300 [01:15<00:45,  2.55it/s]\n",
      "EP_train | train loss: 0.527771650576124 | val loss: 0.5378428066478056 |\n",
      "====\n",
      "Epoch:  61%|██████▏   | 184/300 [01:15<00:45,  2.53it/s]\n",
      "EP_train | train loss: 0.5276959727792179 | val loss: 0.5376918643128639 |\n",
      "====\n",
      "Epoch:  62%|██████▏   | 185/300 [01:15<00:45,  2.51it/s]\n",
      "EP_train | train loss: 0.5276178126241646 | val loss: 0.5376996807023591 |\n",
      "====\n",
      "Epoch:  62%|██████▏   | 186/300 [01:16<00:45,  2.53it/s]\n",
      "EP_train | train loss: 0.5275369288874607 | val loss: 0.5376304925656786 |\n",
      "====\n",
      "Epoch:  62%|██████▏   | 187/300 [01:16<00:44,  2.53it/s]\n",
      "EP_train | train loss: 0.5274586331610586 | val loss: 0.5376223208857518 |\n",
      "====\n",
      "Epoch:  63%|██████▎   | 188/300 [01:17<00:44,  2.53it/s]\n",
      "EP_train | train loss: 0.5273701106800752 | val loss: 0.5374704248764935 |\n",
      "====\n",
      "Epoch:  63%|██████▎   | 189/300 [01:17<00:44,  2.52it/s]\n",
      "EP_train | train loss: 0.5272841808842678 | val loss: 0.5374056872199563 |\n",
      "====\n",
      "Epoch:  63%|██████▎   | 190/300 [01:17<00:43,  2.54it/s]\n",
      "EP_train | train loss: 0.5271943251291911 | val loss: 0.537295846378102 |\n",
      "====\n",
      "Epoch:  64%|██████▎   | 191/300 [01:18<00:43,  2.50it/s]\n",
      "EP_train | train loss: 0.5271261813593846 | val loss: 0.5369422763001686 |\n",
      "====\n",
      "Epoch:  64%|██████▍   | 192/300 [01:18<00:42,  2.52it/s]\n",
      "EP_train | train loss: 0.527015946893131 | val loss: 0.5372460122201957 |\n",
      "====\n",
      "Epoch:  64%|██████▍   | 193/300 [01:19<00:42,  2.51it/s]\n",
      "EP_train | train loss: 0.5269193565144258 | val loss: 0.5371486439424402 |\n",
      "====\n",
      "Epoch:  65%|██████▍   | 194/300 [01:19<00:42,  2.50it/s]\n",
      "EP_train | train loss: 0.5268174442590452 | val loss: 0.5368410559261546 |\n",
      "====\n",
      "Epoch:  65%|██████▌   | 195/300 [01:19<00:42,  2.47it/s]\n",
      "EP_train | train loss: 0.5267162996179917 | val loss: 0.536763957902497 |\n",
      "====\n",
      "Epoch:  65%|██████▌   | 196/300 [01:20<00:41,  2.48it/s]\n",
      "EP_train | train loss: 0.5266134514528162 | val loss: 0.5366378484987745 |\n",
      "====\n",
      "Epoch:  66%|██████▌   | 197/300 [01:20<00:41,  2.49it/s]\n",
      "EP_train | train loss: 0.5265034123963 | val loss: 0.5367109635296989 |\n",
      "====\n",
      "Epoch:  66%|██████▌   | 198/300 [01:21<00:42,  2.42it/s]\n",
      "EP_train | train loss: 0.5263950806038052 | val loss: 0.5366318085614372 |\n",
      "====\n",
      "Epoch:  66%|██████▋   | 199/300 [01:21<00:43,  2.33it/s]\n",
      "EP_train | train loss: 0.5262776571161607 | val loss: 0.5363820019890281 |\n",
      "====\n",
      "Epoch:  67%|██████▋   | 200/300 [01:22<00:43,  2.29it/s]\n",
      "EP_train | train loss: 0.526171506619921 | val loss: 0.536164826037837 |\n",
      "====\n",
      "Epoch:  67%|██████▋   | 201/300 [01:22<00:44,  2.25it/s]\n",
      "EP_train | train loss: 0.5260460395438998 | val loss: 0.5361268473606483 |\n",
      "====\n",
      "Epoch:  67%|██████▋   | 202/300 [01:22<00:43,  2.27it/s]\n",
      "EP_train | train loss: 0.5259150327420702 | val loss: 0.5361717261520087 |\n",
      "====\n",
      "Epoch:  68%|██████▊   | 203/300 [01:23<00:42,  2.29it/s]\n",
      "EP_train | train loss: 0.5257863502876431 | val loss: 0.5359715854420382 |\n",
      "====\n",
      "Epoch:  68%|██████▊   | 204/300 [01:23<00:41,  2.30it/s]\n",
      "EP_train | train loss: 0.5256532547520656 | val loss: 0.5358366498760149 |\n",
      "====\n",
      "Epoch:  68%|██████▊   | 205/300 [01:24<00:41,  2.31it/s]\n",
      "EP_train | train loss: 0.5255239327748616 | val loss: 0.5356919905718636 |\n",
      "====\n",
      "Epoch:  69%|██████▊   | 206/300 [01:24<00:40,  2.32it/s]\n",
      "EP_train | train loss: 0.5253827440972422 | val loss: 0.5355166266946232 |\n",
      "====\n",
      "Epoch:  69%|██████▉   | 207/300 [01:25<00:39,  2.34it/s]\n",
      "EP_train | train loss: 0.5252360213036631 | val loss: 0.535431282193053 |\n",
      "====\n",
      "Epoch:  69%|██████▉   | 208/300 [01:25<00:39,  2.36it/s]\n",
      "EP_train | train loss: 0.5250901100682277 | val loss: 0.5352307861926509 |\n",
      "====\n",
      "Epoch:  70%|██████▉   | 209/300 [01:25<00:38,  2.36it/s]\n",
      "EP_train | train loss: 0.5249304790122836 | val loss: 0.5351671518064013 |\n",
      "====\n",
      "Epoch:  70%|███████   | 210/300 [01:26<00:38,  2.33it/s]\n",
      "EP_train | train loss: 0.5247726561976415 | val loss: 0.5351036296171301 |\n",
      "====\n",
      "Epoch:  70%|███████   | 211/300 [01:26<00:38,  2.32it/s]\n",
      "EP_train | train loss: 0.5246139330022476 | val loss: 0.534974453495998 |\n",
      "====\n",
      "Epoch:  71%|███████   | 212/300 [01:27<00:37,  2.33it/s]\n",
      "EP_train | train loss: 0.5244384008295396 | val loss: 0.5346814884858972 |\n",
      "====\n",
      "Epoch:  71%|███████   | 213/300 [01:27<00:37,  2.34it/s]\n",
      "EP_train | train loss: 0.5242663561129103 | val loss: 0.5344531115363625 |\n",
      "====\n",
      "Epoch:  71%|███████▏  | 214/300 [01:28<00:36,  2.34it/s]\n",
      "EP_train | train loss: 0.5240811404059915 | val loss: 0.5343545277913412 |\n",
      "====\n",
      "Epoch:  72%|███████▏  | 215/300 [01:28<00:36,  2.34it/s]\n",
      "EP_train | train loss: 0.5238941688163608 | val loss: 0.5342005187389898 |\n",
      "====\n",
      "Epoch:  72%|███████▏  | 216/300 [01:28<00:35,  2.35it/s]\n",
      "EP_train | train loss: 0.5237039117252126 | val loss: 0.5340734743604473 |\n",
      "====\n",
      "Epoch:  72%|███████▏  | 217/300 [01:29<00:35,  2.35it/s]\n",
      "EP_train | train loss: 0.5235019365946452 | val loss: 0.5338163562849456 |\n",
      "====\n",
      "Epoch:  73%|███████▎  | 218/300 [01:29<00:35,  2.34it/s]\n",
      "EP_train | train loss: 0.5232919103959027 | val loss: 0.5336006762934666 |\n",
      "====\n",
      "Epoch:  73%|███████▎  | 219/300 [01:30<00:34,  2.34it/s]\n",
      "EP_train | train loss: 0.5230748457067153 | val loss: 0.5334355036417643 |\n",
      "====\n",
      "Epoch:  73%|███████▎  | 220/300 [01:30<00:34,  2.34it/s]\n",
      "EP_train | train loss: 0.522857198528215 | val loss: 0.5330329782822553 |\n",
      "====\n",
      "Epoch:  74%|███████▎  | 221/300 [01:31<00:34,  2.31it/s]\n",
      "EP_train | train loss: 0.522622267405192 | val loss: 0.5330094730152803 |\n",
      "====\n",
      "Epoch:  74%|███████▍  | 222/300 [01:31<00:33,  2.31it/s]\n",
      "EP_train | train loss: 0.5223820415197634 | val loss: 0.5327104119693532 |\n",
      "====\n",
      "Epoch:  74%|███████▍  | 223/300 [01:31<00:33,  2.30it/s]\n",
      "EP_train | train loss: 0.5221479715085497 | val loss: 0.5327456605200674 |\n",
      "====\n",
      "Epoch:  75%|███████▍  | 224/300 [01:32<00:33,  2.30it/s]\n",
      "EP_train | train loss: 0.5218825630113191 | val loss: 0.5324378294103286 |\n",
      "====\n",
      "Epoch:  75%|███████▌  | 225/300 [01:32<00:32,  2.31it/s]\n",
      "EP_train | train loss: 0.5216030653785256 | val loss: 0.532073226629519 |\n",
      "====\n",
      "Epoch:  75%|███████▌  | 226/300 [01:33<00:31,  2.32it/s]\n",
      "EP_train | train loss: 0.5213353484284644 | val loss: 0.5317279778274835 |\n",
      "====\n",
      "Epoch:  76%|███████▌  | 227/300 [01:33<00:32,  2.27it/s]\n",
      "EP_train | train loss: 0.521050671970143 | val loss: 0.5316724590226716 |\n",
      "====\n",
      "Epoch:  76%|███████▌  | 228/300 [01:34<00:31,  2.28it/s]\n",
      "EP_train | train loss: 0.5207477569580078 | val loss: 0.5312990487790575 |\n",
      "====\n",
      "Epoch:  76%|███████▋  | 229/300 [01:34<00:30,  2.31it/s]\n",
      "EP_train | train loss: 0.5204448232463762 | val loss: 0.5311339696248373 |\n",
      "====\n",
      "Epoch:  77%|███████▋  | 230/300 [01:34<00:30,  2.32it/s]\n",
      "EP_train | train loss: 0.5201195857104133 | val loss: 0.5306404338163488 |\n",
      "====\n",
      "Epoch:  77%|███████▋  | 231/300 [01:35<00:30,  2.28it/s]\n",
      "EP_train | train loss: 0.519781431497312 | val loss: 0.5303358190199908 |\n",
      "====\n",
      "Epoch:  77%|███████▋  | 232/300 [01:35<00:29,  2.28it/s]\n",
      "EP_train | train loss: 0.5194416784772686 | val loss: 0.5301770415960574 |\n",
      "====\n",
      "Epoch:  78%|███████▊  | 233/300 [01:36<00:29,  2.29it/s]\n",
      "EP_train | train loss: 0.5190849154603248 | val loss: 0.5295692331650678 |\n",
      "====\n",
      "Epoch:  78%|███████▊  | 234/300 [01:36<00:28,  2.30it/s]\n",
      "EP_train | train loss: 0.5187080308502796 | val loss: 0.5294018165737975 |\n",
      "====\n",
      "Epoch:  78%|███████▊  | 235/300 [01:37<00:28,  2.30it/s]\n",
      "EP_train | train loss: 0.5183171552770278 | val loss: 0.5290391585406136 |\n",
      "====\n",
      "Epoch:  79%|███████▊  | 236/300 [01:37<00:27,  2.31it/s]\n",
      "EP_train | train loss: 0.5179063245361927 | val loss: 0.5286167182174384 |\n",
      "====\n",
      "Epoch:  79%|███████▉  | 237/300 [01:38<00:27,  2.31it/s]\n",
      "EP_train | train loss: 0.517478219200583 | val loss: 0.528228385775697 |\n",
      "====\n",
      "Epoch:  79%|███████▉  | 238/300 [01:38<00:26,  2.31it/s]\n",
      "EP_train | train loss: 0.517030257804721 | val loss: 0.5278325174369064 |\n",
      "====\n",
      "Epoch:  80%|███████▉  | 239/300 [01:38<00:26,  2.32it/s]\n",
      "EP_train | train loss: 0.5165580796260459 | val loss: 0.5275065104166666 |\n",
      "====\n",
      "Epoch:  80%|████████  | 240/300 [01:39<00:25,  2.33it/s]\n",
      "EP_train | train loss: 0.516084239062141 | val loss: 0.5269399530747357 |\n",
      "====\n",
      "Epoch:  80%|████████  | 241/300 [01:39<00:25,  2.30it/s]\n",
      "EP_train | train loss: 0.5155846614463656 | val loss: 0.5265665428311217 |\n",
      "====\n",
      "Epoch:  81%|████████  | 242/300 [01:40<00:24,  2.32it/s]\n",
      "EP_train | train loss: 0.5150375450358672 | val loss: 0.5259721606385475 |\n",
      "====\n",
      "Epoch:  81%|████████  | 243/300 [01:40<00:24,  2.33it/s]\n",
      "EP_train | train loss: 0.5144876779294482 | val loss: 0.5254975487204159 |\n",
      "====\n",
      "Epoch:  81%|████████▏ | 244/300 [01:41<00:23,  2.34it/s]\n",
      "EP_train | train loss: 0.513929037954293 | val loss: 0.5251648285809685 |\n",
      "====\n",
      "Epoch:  82%|████████▏ | 245/300 [01:41<00:23,  2.31it/s]\n",
      "EP_train | train loss: 0.5132902977513332 | val loss: 0.524374943153531 |\n",
      "====\n",
      "Epoch:  82%|████████▏ | 246/300 [01:41<00:23,  2.30it/s]\n",
      "EP_train | train loss: 0.5126601284625484 | val loss: 0.5238191754210229 |\n",
      "====\n",
      "Epoch:  82%|████████▏ | 247/300 [01:42<00:23,  2.28it/s]\n",
      "EP_train | train loss: 0.512004326839073 | val loss: 0.523189432480756 |\n",
      "====\n",
      "Epoch:  83%|████████▎ | 248/300 [01:42<00:22,  2.29it/s]\n",
      "EP_train | train loss: 0.5112879070581174 | val loss: 0.5226240532070983 |\n",
      "====\n",
      "Epoch:  83%|████████▎ | 249/300 [01:43<00:22,  2.29it/s]\n",
      "EP_train | train loss: 0.51059796295914 | val loss: 0.5219356499466241 |\n",
      "====\n",
      "Epoch:  83%|████████▎ | 250/300 [01:43<00:21,  2.30it/s]\n",
      "EP_train | train loss: 0.5098738417905919 | val loss: 0.5211511686736462 |\n",
      "====\n",
      "Epoch:  84%|████████▎ | 251/300 [01:44<00:21,  2.27it/s]\n",
      "EP_train | train loss: 0.5091083573360069 | val loss: 0.5207695680506089 |\n",
      "====\n",
      "Epoch:  84%|████████▍ | 252/300 [01:44<00:20,  2.29it/s]\n",
      "EP_train | train loss: 0.5082858197829303 | val loss: 0.5197439567715514 |\n",
      "====\n",
      "Epoch:  84%|████████▍ | 253/300 [01:44<00:20,  2.29it/s]\n",
      "EP_train | train loss: 0.5074245770772298 | val loss: 0.5191806905409869 |\n",
      "====\n",
      "Epoch:  85%|████████▍ | 254/300 [01:45<00:20,  2.28it/s]\n",
      "EP_train | train loss: 0.506580768846998 | val loss: 0.5183216917748544 |\n",
      "====\n",
      "Epoch:  85%|████████▌ | 255/300 [01:45<00:19,  2.31it/s]\n",
      "EP_train | train loss: 0.505642229902978 | val loss: 0.5175063750323128 |\n",
      "====\n",
      "Epoch:  85%|████████▌ | 256/300 [01:46<00:18,  2.32it/s]\n",
      "EP_train | train loss: 0.5046816601472742 | val loss: 0.5167938681209788 |\n",
      "====\n",
      "Epoch:  86%|████████▌ | 257/300 [01:46<00:18,  2.32it/s]\n",
      "EP_train | train loss: 0.5037208716074626 | val loss: 0.515651029698989 |\n",
      "====\n",
      "Epoch:  86%|████████▌ | 258/300 [01:47<00:18,  2.31it/s]\n",
      "EP_train | train loss: 0.5026368515164245 | val loss: 0.51483434789321 |\n",
      "====\n",
      "Epoch:  86%|████████▋ | 259/300 [01:47<00:17,  2.33it/s]\n",
      "EP_train | train loss: 0.5015153408050537 | val loss: 0.5137203627941656 |\n",
      "====\n",
      "Epoch:  87%|████████▋ | 260/300 [01:48<00:17,  2.32it/s]\n",
      "EP_train | train loss: 0.5003693421681722 | val loss: 0.5129106746000403 |\n",
      "====\n",
      "Epoch:  87%|████████▋ | 261/300 [01:48<00:16,  2.29it/s]\n",
      "EP_train | train loss: 0.4991906437219358 | val loss: 0.5116551343132468 |\n",
      "====\n",
      "Epoch:  87%|████████▋ | 262/300 [01:48<00:16,  2.30it/s]\n",
      "EP_train | train loss: 0.49790626039692 | val loss: 0.5105409435197419 |\n",
      "====\n",
      "Epoch:  88%|████████▊ | 263/300 [01:49<00:16,  2.31it/s]\n",
      "EP_train | train loss: 0.4965530143064611 | val loss: 0.509457550796808 |\n",
      "====\n",
      "Epoch:  88%|████████▊ | 264/300 [01:49<00:15,  2.29it/s]\n",
      "EP_train | train loss: 0.49519991968192306 | val loss: 0.5083797305238014 |\n",
      "====\n",
      "Epoch:  88%|████████▊ | 265/300 [01:50<00:15,  2.31it/s]\n",
      "EP_train | train loss: 0.4937199816984289 | val loss: 0.5068848553825828 |\n",
      "====\n",
      "Epoch:  89%|████████▊ | 266/300 [01:50<00:14,  2.32it/s]\n",
      "EP_train | train loss: 0.49216413965412215 | val loss: 0.5055525910620596 |\n",
      "====\n",
      "Epoch:  89%|████████▉ | 267/300 [01:51<00:14,  2.32it/s]\n",
      "EP_train | train loss: 0.4905733716254141 | val loss: 0.5041662103989545 |\n",
      "====\n",
      "Epoch:  89%|████████▉ | 268/300 [01:51<00:13,  2.32it/s]\n",
      "EP_train | train loss: 0.48886634321773753 | val loss: 0.5027178970037722 |\n",
      "====\n",
      "Epoch:  90%|████████▉ | 269/300 [01:51<00:13,  2.32it/s]\n",
      "EP_train | train loss: 0.4870584908653708 | val loss: 0.5010823081521427 |\n",
      "====\n",
      "Epoch:  90%|█████████ | 270/300 [01:52<00:12,  2.33it/s]\n",
      "EP_train | train loss: 0.4852760155995687 | val loss: 0.4995006112491383 |\n",
      "====\n",
      "Epoch:  90%|█████████ | 271/300 [01:52<00:12,  2.30it/s]\n",
      "EP_train | train loss: 0.48334078788757323 | val loss: 0.49773276085947077 |\n",
      "====\n",
      "Epoch:  91%|█████████ | 272/300 [01:53<00:12,  2.32it/s]\n",
      "EP_train | train loss: 0.4813921292622884 | val loss: 0.49613122379078584 |\n",
      "====\n",
      "Epoch:  91%|█████████ | 273/300 [01:53<00:11,  2.33it/s]\n",
      "EP_train | train loss: 0.4793276786804199 | val loss: 0.4943981170654297 |\n",
      "====\n",
      "Epoch:  91%|█████████▏| 274/300 [01:54<00:11,  2.31it/s]\n",
      "EP_train | train loss: 0.4772948424021403 | val loss: 0.49263819526223573 |\n",
      "====\n",
      "Epoch:  92%|█████████▏| 275/300 [01:54<00:10,  2.31it/s]\n",
      "EP_train | train loss: 0.4751613850687064 | val loss: 0.4907282100004308 |\n",
      "====\n",
      "Epoch:  92%|█████████▏| 276/300 [01:54<00:10,  2.33it/s]\n",
      "EP_train | train loss: 0.4729973390990613 | val loss: 0.48893406811882467 |\n",
      "====\n",
      "Epoch:  92%|█████████▏| 277/300 [01:55<00:09,  2.32it/s]\n",
      "EP_train | train loss: 0.4709523172939525 | val loss: 0.487665569081026 |\n",
      "====\n",
      "Epoch:  93%|█████████▎| 278/300 [01:55<00:09,  2.28it/s]\n",
      "EP_train | train loss: 0.46855447526071586 | val loss: 0.4852779519324209 |\n",
      "====\n",
      "Epoch:  93%|█████████▎| 279/300 [01:56<00:09,  2.30it/s]\n",
      "EP_train | train loss: 0.4663897028156355 | val loss: 0.4834425309125115 |\n",
      "====\n",
      "Epoch:  93%|█████████▎| 280/300 [01:56<00:08,  2.30it/s]\n",
      "EP_train | train loss: 0.4639361783569934 | val loss: 0.4814935104519713 |\n",
      "====\n",
      "Epoch:  94%|█████████▎| 281/300 [01:57<00:08,  2.28it/s]\n",
      "EP_train | train loss: 0.4616188170863133 | val loss: 0.4797547471289541 |\n",
      "====\n",
      "Epoch:  94%|█████████▍| 282/300 [01:57<00:07,  2.29it/s]\n",
      "EP_train | train loss: 0.4591798230713489 | val loss: 0.4777848954294242 |\n",
      "====\n",
      "Epoch:  94%|█████████▍| 283/300 [01:57<00:07,  2.29it/s]\n",
      "EP_train | train loss: 0.4568862559748631 | val loss: 0.47576436809464995 |\n",
      "====\n",
      "Epoch:  95%|█████████▍| 284/300 [01:58<00:06,  2.30it/s]\n",
      "EP_train | train loss: 0.45438660079357673 | val loss: 0.47372808643415865 |\n",
      "====\n",
      "Epoch:  95%|█████████▌| 285/300 [01:58<00:06,  2.30it/s]\n",
      "EP_train | train loss: 0.4519167526095521 | val loss: 0.47184106415393307 |\n",
      "====\n",
      "Epoch:  95%|█████████▌| 286/300 [01:59<00:06,  2.32it/s]\n",
      "EP_train | train loss: 0.44955240417929254 | val loss: 0.46997442432478365 |\n",
      "====\n",
      "Epoch:  96%|█████████▌| 287/300 [01:59<00:05,  2.33it/s]\n",
      "EP_train | train loss: 0.44703672726949056 | val loss: 0.46805961459290746 |\n",
      "====\n",
      "Epoch:  96%|█████████▌| 288/300 [02:00<00:05,  2.33it/s]\n",
      "EP_train | train loss: 0.44475974475636204 | val loss: 0.4661708532595167 |\n",
      "====\n",
      "Epoch:  96%|█████████▋| 289/300 [02:00<00:04,  2.33it/s]\n",
      "EP_train | train loss: 0.442305347031238 | val loss: 0.4643693531260771 |\n",
      "====\n",
      "Epoch:  97%|█████████▋| 290/300 [02:00<00:04,  2.34it/s]\n",
      "EP_train | train loss: 0.4399633388893277 | val loss: 0.4623097438438266 |\n",
      "====\n",
      "Epoch:  97%|█████████▋| 291/300 [02:01<00:03,  2.31it/s]\n",
      "EP_train | train loss: 0.43781768574434166 | val loss: 0.4607050559099983 |\n",
      "====\n",
      "Epoch:  97%|█████████▋| 292/300 [02:01<00:03,  2.29it/s]\n",
      "EP_train | train loss: 0.43551819184247187 | val loss: 0.4589044533523859 |\n",
      "====\n",
      "Epoch:  98%|█████████▊| 293/300 [02:02<00:03,  2.28it/s]\n",
      "EP_train | train loss: 0.4332816254858877 | val loss: 0.4572897331387389 |\n",
      "====\n",
      "Epoch:  98%|█████████▊| 294/300 [02:02<00:02,  2.29it/s]\n",
      "EP_train | train loss: 0.4312352676017612 | val loss: 0.45566901973649565 |\n",
      "====\n",
      "Epoch:  98%|█████████▊| 295/300 [02:03<00:02,  2.30it/s]\n",
      "EP_train | train loss: 0.42915505614935184 | val loss: 0.4540335337320964 |\n",
      "====\n",
      "Epoch:  99%|█████████▊| 296/300 [02:03<00:01,  2.30it/s]\n",
      "EP_train | train loss: 0.42707492136487774 | val loss: 0.45234160329781326 |\n",
      "====\n",
      "Epoch:  99%|█████████▉| 297/300 [02:04<00:01,  2.31it/s]\n",
      "EP_train | train loss: 0.42523503397025314 | val loss: 0.450830899032892 |\n",
      "====\n",
      "Epoch:  99%|█████████▉| 298/300 [02:04<00:00,  2.32it/s]\n",
      "EP_train | train loss: 0.4233006898094626 | val loss: 0.4494740729238473 |\n",
      "====\n",
      "Epoch: 100%|█████████▉| 299/300 [02:04<00:00,  2.30it/s]\n",
      "EP_train | train loss: 0.42123914419435987 | val loss: 0.44778790193445545 |\n",
      "====\n",
      "Epoch: 100%|██████████| 300/300 [02:05<00:00,  2.39it/s]\n",
      "EP_train | train loss: 0.4195137725156896 | val loss: 0.44632501228182925 |\n",
      "\n"
     ]
    }
   ],
   "source": [
    "AttractiveTrainer.train()"
   ]
  },
  {
   "source": [
    "## for classification, not better"
   ],
   "cell_type": "markdown",
   "metadata": {}
  },
  {
   "source": [
    "## Below is testing"
   ],
   "cell_type": "markdown",
   "metadata": {}
  },
  {
   "cell_type": "code",
   "execution_count": 8,
   "metadata": {},
   "outputs": [
    {
     "output_type": "execute_result",
     "data": {
      "text/plain": [
       "AttractiveNet(\n",
       "  (embedding): AttractiveEmbedding(\n",
       "    (token): TokenEmbedding(12699, 300, padding_idx=1)\n",
       "  )\n",
       "  (bigramcnn): Sequential(\n",
       "    (0): Conv1d(300, 220, kernel_size=(2,), stride=(1,), padding=(1,))\n",
       "    (1): ReLU()\n",
       "    (2): Conv1d(220, 150, kernel_size=(2,), stride=(1,), padding=(1,))\n",
       "    (3): ReLU()\n",
       "    (4): Conv1d(150, 100, kernel_size=(2,), stride=(1,), padding=(1,))\n",
       "    (5): ReLU()\n",
       "  )\n",
       "  (trigramcnn): Sequential(\n",
       "    (0): Conv1d(300, 220, kernel_size=(3,), stride=(1,), padding=(1,))\n",
       "    (1): ReLU()\n",
       "    (2): Conv1d(220, 150, kernel_size=(3,), stride=(1,), padding=(1,))\n",
       "    (3): ReLU()\n",
       "    (4): Conv1d(150, 100, kernel_size=(3,), stride=(1,), padding=(1,))\n",
       "    (5): ReLU()\n",
       "  )\n",
       "  (encoder_bigram): LSTM(100, 30, batch_first=True, dropout=0.1, bidirectional=True)\n",
       "  (encoder_trigram): LSTM(100, 30, batch_first=True, dropout=0.1, bidirectional=True)\n",
       "  (linear): Sequential(\n",
       "    (0): Linear(in_features=240, out_features=30, bias=True)\n",
       "    (1): ReLU()\n",
       "    (2): Linear(in_features=30, out_features=1, bias=True)\n",
       "  )\n",
       ")"
      ]
     },
     "metadata": {},
     "execution_count": 8
    }
   ],
   "source": [
    "from attractivenet import AttractiveNet\n",
    "PATH = './model/CNN_LSTM_20201102-123233_0.4195.300'\n",
    "# load_model = TransformerModel(config).to(AttractiveData.device)\n",
    "load_model = AttractiveNet(config).to(AttractiveData.device)\n",
    "load_model.load_state_dict(torch.load(PATH))\n",
    "load_model.eval()"
   ]
  },
  {
   "cell_type": "code",
   "execution_count": 9,
   "metadata": {},
   "outputs": [],
   "source": [
    "def predict_attractive(sentence, category, phase):\n",
    "    # if len(sentence) < config['max_seq']:\n",
    "    #     sentence += ['0'] * (config['max_seq'] - len(sentence))\n",
    "    # else:\n",
    "    #     sentence = sentence[:config['max_seq']]\n",
    "\n",
    "    indexed_sentence = [AttractiveData.TEXT.vocab.stoi[t] for t in sentence]\n",
    "    indexed_category = [AttractiveData.CATEGORIES_LABEL.vocab.stoi[category]]\n",
    "    tensor_sentence = torch.LongTensor(indexed_sentence).to(AttractiveData.device)\n",
    "    tensor_category = torch.LongTensor(indexed_category).to(AttractiveData.device)\n",
    "\n",
    "    tensor_sentence = tensor_sentence.unsqueeze(0)\n",
    "    # print(tensor_sentence.shape)\n",
    "\n",
    "    prediction = load_model(tensor_sentence, tensor_category, phase=phase)\n",
    "\n",
    "    # after_decimal = prediction % 1\n",
    "    # possible_list = [0.0, 0.3333333333333333, 0.6666666666666665, 0.5, 1.0]\n",
    "    # closet_idx = None\n",
    "    # closet_distance = 1\n",
    "    # for i in range(len(possible_list)):\n",
    "    #     if abs(after_decimal - possible_list[i]) <= closet_distance:\n",
    "    #         closet_idx = i\n",
    "    #         closet_distance = abs(after_decimal - possible_list[i])\n",
    "    # prediction = (prediction // 1) + possible_list[closet_idx]\n",
    "    \n",
    "    return prediction"
   ]
  },
  {
   "cell_type": "code",
   "execution_count": 10,
   "metadata": {
    "tags": []
   },
   "outputs": [],
   "source": [
    "# train mean = 3.15, test mean = 2.8\n",
    "predict_list = []\n",
    "with torch.no_grad():\n",
    "    for i, sentence in enumerate(AttractiveData.test_data):\n",
    "        prediction = predict_attractive(sentence.Headline, sentence.Category, 'test')\n",
    "        predict_list.append(prediction.item())\n",
    "        # predict_list.append(prediction.item())\n",
    "AttractiveData.df_test['Label'] = predict_list\n",
    "AttractiveData.df_test[['ID', 'Label']].to_csv(config['save_name'] + '.csv', index=False)"
   ]
  },
  {
   "source": [
    "## Below just for fun guess"
   ],
   "cell_type": "markdown",
   "metadata": {}
  },
  {
   "cell_type": "code",
   "execution_count": 11,
   "metadata": {},
   "outputs": [],
   "source": [
    "import statistics\n",
    "from sklearn.metrics import mean_squared_error"
   ]
  },
  {
   "cell_type": "code",
   "execution_count": 12,
   "metadata": {},
   "outputs": [
    {
     "output_type": "execute_result",
     "data": {
      "text/plain": [
       "(0.4763241477629704, 3.1910089775627735, 0.10352467075701868)"
      ]
     },
     "metadata": {},
     "execution_count": 12
    }
   ],
   "source": [
    "# train mean = 3.15, test mean = 2.8\n",
    "train_list = []\n",
    "for i, sentence in enumerate(AttractiveData.train_data):\n",
    "    prediction = predict_attractive(sentence.Headline, sentence.Category, 'train')\n",
    "    train_list.append(prediction.item())\n",
    "    # train_list.append(prediction.item())\n",
    "# print(train_list)\n",
    "mean_squared_error(pd.read_csv('data/train.csv').sort_values(['ID']).Label.to_list(), train_list), statistics.mean(train_list), statistics.stdev(train_list)"
   ]
  },
  {
   "cell_type": "code",
   "execution_count": 13,
   "metadata": {},
   "outputs": [
    {
     "output_type": "execute_result",
     "data": {
      "text/plain": [
       "([3.131781816482544,\n",
       "  3.0850512981414795,\n",
       "  3.157405376434326,\n",
       "  3.2076988220214844,\n",
       "  3.2016148567199707],\n",
       " [4.0, 2.333333333333333, 4.5, 3.333333333333333, 4.0])"
      ]
     },
     "metadata": {},
     "execution_count": 13
    }
   ],
   "source": [
    "train_list[0:5], pd.read_csv('data/train.csv').sort_values(['ID']).Label.to_list()[0:5]"
   ]
  },
  {
   "cell_type": "code",
   "execution_count": 14,
   "metadata": {},
   "outputs": [
    {
     "output_type": "execute_result",
     "data": {
      "text/plain": [
       "(3.150408496732026, 0.729501519321601)"
      ]
     },
     "metadata": {},
     "execution_count": 14
    }
   ],
   "source": [
    "a = AttractiveData.df_train['Label'].to_list()\n",
    "statistics.mean(a), statistics.stdev(a)"
   ]
  },
  {
   "cell_type": "code",
   "execution_count": 15,
   "metadata": {},
   "outputs": [
    {
     "output_type": "execute_result",
     "data": {
      "text/plain": [
       "(2.8008722282191205, 0.10721108252310067)"
      ]
     },
     "metadata": {},
     "execution_count": 15
    }
   ],
   "source": [
    "statistics.mean(predict_list), statistics.stdev(predict_list)"
   ]
  },
  {
   "cell_type": "code",
   "execution_count": 16,
   "metadata": {},
   "outputs": [
    {
     "output_type": "execute_result",
     "data": {
      "text/plain": [
       "(0.05797196792548646, 2.7156126782757597, 0.29355123275379763)"
      ]
     },
     "metadata": {},
     "execution_count": 16
    }
   ],
   "source": [
    "baseline_list = pd.read_csv('baseline.csv').sort_values(['ID']).Label.to_list()\n",
    "mean_squared_error(baseline_list, predict_list), statistics.mean(baseline_list), statistics.stdev(baseline_list)"
   ]
  },
  {
   "cell_type": "code",
   "execution_count": 14,
   "metadata": {},
   "outputs": [
    {
     "output_type": "execute_result",
     "data": {
      "text/plain": [
       "(2.8167915543795683, 0.14611407210842048)"
      ]
     },
     "metadata": {},
     "execution_count": 14
    }
   ],
   "source": [
    "# LSTM my best\n",
    "# statistics.mean(predict_list), statistics.stdev(predict_list)"
   ]
  },
  {
   "cell_type": "code",
   "execution_count": 21,
   "metadata": {},
   "outputs": [
    {
     "output_type": "execute_result",
     "data": {
      "text/plain": [
       "(0.1347375515605904, 2.8379913731293533, 0.1903582104725371)"
      ]
     },
     "metadata": {},
     "execution_count": 21
    }
   ],
   "source": [
    "a = pd.read_csv('LSTM_base.csv').Label.to_list()\n",
    "mean_squared_error(baseline_list, a), statistics.mean(a), statistics.stdev(a)"
   ]
  },
  {
   "cell_type": "code",
   "execution_count": 14,
   "metadata": {},
   "outputs": [
    {
     "output_type": "execute_result",
     "data": {
      "text/plain": [
       "'the'"
      ]
     },
     "metadata": {},
     "execution_count": 14
    }
   ],
   "source": [
    "AttractiveData.TEXT.vocab.itos[2]"
   ]
  },
  {
   "cell_type": "code",
   "execution_count": 26,
   "metadata": {},
   "outputs": [
    {
     "output_type": "execute_result",
     "data": {
      "text/plain": [
       "Counter({'4.0': 226,\n",
       "         '2.333333333333333': 194,\n",
       "         '4.5': 43,\n",
       "         '3.333333333333333': 313,\n",
       "         '3.6666666666666665': 260,\n",
       "         '2.6666666666666665': 281,\n",
       "         '2.0': 135,\n",
       "         '2.5': 36,\n",
       "         '1.6666666666666667': 28,\n",
       "         '3.0': 354,\n",
       "         '4.333333333333333': 82,\n",
       "         '4.666666666666667': 29,\n",
       "         '1.5': 16,\n",
       "         '3.5': 22,\n",
       "         '1.3333333333333333': 4,\n",
       "         '1.0': 5,\n",
       "         '5.0': 12})"
      ]
     },
     "metadata": {},
     "execution_count": 26
    }
   ],
   "source": [
    "AttractiveData.LABEL.vocab.freqs"
   ]
  },
  {
   "cell_type": "code",
   "execution_count": 29,
   "metadata": {},
   "outputs": [
    {
     "output_type": "stream",
     "name": "stdout",
     "text": [
      "1.0\n0.5\n0.3333333333333333\n"
     ]
    }
   ],
   "source": [
    "for i in range(1, 4):\n",
    "    print(1 / i)\n",
    "# 0, 0.33, 0.5, 0.66, 1"
   ]
  },
  {
   "cell_type": "code",
   "execution_count": 31,
   "metadata": {},
   "outputs": [
    {
     "output_type": "execute_result",
     "data": {
      "text/plain": [
       "0.3333333333333333"
      ]
     },
     "metadata": {},
     "execution_count": 31
    }
   ],
   "source": [
    "0.3333333333333333 % 1"
   ]
  },
  {
   "cell_type": "code",
   "execution_count": null,
   "metadata": {},
   "outputs": [],
   "source": []
  }
 ]
}