{
 "cells": [
  {
   "cell_type": "code",
   "execution_count": 1,
   "metadata": {},
   "outputs": [],
   "source": [
    "# common packages\n",
    "import pandas as pd\n",
    "import time\n",
    "\n",
    "# # DL framework\n",
    "import torch\n",
    "from torchtext import data\n",
    "\n",
    "from attractivedata import AttractiveData\n",
    "from trainer import AttractiveTrainer"
   ]
  },
  {
   "cell_type": "code",
   "execution_count": 2,
   "metadata": {},
   "outputs": [],
   "source": [
    "seed_value = 42\n",
    "torch.manual_seed(seed_value)\n",
    "torch.cuda.manual_seed(seed_value)\n",
    "torch.cuda.manual_seed_all(seed_value) # gpu vars\n",
    "torch.backends.cudnn.deterministic = True  #needed\n",
    "torch.backends.cudnn.benchmark = False"
   ]
  },
  {
   "cell_type": "markdown",
   "metadata": {},
   "source": [
    "## Load and prepare data"
   ]
  },
  {
   "cell_type": "code",
   "execution_count": 3,
   "metadata": {},
   "outputs": [],
   "source": [
    "train_file = 'data/train.csv'\n",
    "val_file = 'example/val.csv'\n",
    "test_file = 'data/test.csv'\n",
    "pretrained_file = 'glove.840B.300d'\n",
    "config = {\n",
    "    'max_seq': 40,\n",
    "    'min_freq': 0,\n",
    "    'batch_size': 64,\n",
    "    'pretrained_file': pretrained_file\n",
    "}\n"
   ]
  },
  {
   "cell_type": "code",
   "execution_count": 4,
   "metadata": {},
   "outputs": [],
   "source": [
    "AttractiveData = AttractiveData(train_file, val_file, test_file, pretrained_file, config)"
   ]
  },
  {
   "cell_type": "markdown",
   "metadata": {},
   "source": [
    "## Start to train"
   ]
  },
  {
   "cell_type": "code",
   "execution_count": 5,
   "metadata": {},
   "outputs": [
    {
     "output_type": "stream",
     "name": "stdout",
     "text": [
      "torch.Size([12699, 300])\n"
     ]
    }
   ],
   "source": [
    "config['timestr'] = time.strftime(\"%Y%m%d-%H%M%S\")\n",
    "config['save_name'] = 'CNN_LSTM'\n",
    "config['input_dim'] = len(AttractiveData.TEXT.vocab)\n",
    "config['embedding_dim'] = 300\n",
    "config['category_dim'] = len(AttractiveData.CATEGORIES_LABEL.vocab)\n",
    "config['category_embedding_dim'] = 10\n",
    "config['hidden_dim'] = 30\n",
    "config['output_dim'] = 1\n",
    "config['log_steps'] = 10\n",
    "config['epochs'] = 200\n",
    "config['lr'] = {\n",
    "    'encoder': 1e-5,\n",
    "    'embedding': 6e-6,\n",
    "    'linear': 1e-5\n",
    "}\n",
    "config['num_layers'] = 1\n",
    "config['kernel_size'] = 3\n",
    "config['dropout'] = 0.5\n",
    "config['train_len'] = AttractiveData.train_len\n",
    "config['val_len'] = AttractiveData.val_len\n",
    "config['test_len'] = AttractiveData.test_len\n",
    "\n",
    "pretrained_embeddings = AttractiveData.TEXT.vocab.vectors\n",
    "print(pretrained_embeddings.shape)"
   ]
  },
  {
   "cell_type": "code",
   "execution_count": 6,
   "metadata": {},
   "outputs": [],
   "source": [
    "AttractiveTrainer = AttractiveTrainer(config, AttractiveData.device, AttractiveData.trainloader, AttractiveData.valloader, pretrained_embeddings)"
   ]
  },
  {
   "cell_type": "code",
   "execution_count": 7,
   "metadata": {},
   "outputs": [
    {
     "output_type": "execute_result",
     "data": {
      "text/plain": [
       "(AttractiveNet(\n",
       "   (embedding): AttractiveEmbedding(\n",
       "     (token): TokenEmbedding(12699, 300, padding_idx=1)\n",
       "   )\n",
       "   (bigramcnn): Sequential(\n",
       "     (0): Conv1d(300, 200, kernel_size=(2,), stride=(1,), padding=(1,))\n",
       "     (1): ReLU()\n",
       "     (2): Conv1d(200, 100, kernel_size=(2,), stride=(1,), padding=(1,))\n",
       "     (3): ReLU()\n",
       "     (4): Dropout(p=0.5, inplace=False)\n",
       "   )\n",
       "   (trigramcnn): Sequential(\n",
       "     (0): Conv1d(300, 200, kernel_size=(3,), stride=(1,), padding=(1,))\n",
       "     (1): ReLU()\n",
       "     (2): Conv1d(200, 100, kernel_size=(3,), stride=(1,), padding=(1,))\n",
       "     (3): ReLU()\n",
       "     (4): Dropout(p=0.5, inplace=False)\n",
       "   )\n",
       "   (encoder_bigram): LSTM(100, 30, batch_first=True, dropout=0.5, bidirectional=True)\n",
       "   (encoder_trigram): LSTM(100, 30, batch_first=True, dropout=0.5, bidirectional=True)\n",
       "   (linear): Sequential(\n",
       "     (0): Linear(in_features=128, out_features=30, bias=True)\n",
       "     (1): ReLU()\n",
       "     (2): Linear(in_features=30, out_features=1, bias=True)\n",
       "   )\n",
       " ),\n",
       " 4277561,\n",
       " 4277561)"
      ]
     },
     "metadata": {},
     "execution_count": 7
    }
   ],
   "source": [
    "AttractiveTrainer.model, AttractiveTrainer.config['total_params'], AttractiveTrainer.config['total_learned_params']"
   ]
  },
  {
   "cell_type": "code",
   "execution_count": 8,
   "metadata": {
    "tags": [
     "outputPrepend"
    ]
   },
   "outputs": [
    {
     "output_type": "stream",
     "name": "stderr",
     "text": [
      "   | 48/200 [00:18<00:59,  2.54it/s]\n",
      "EP_47 | train loss: 0.4332854906717936 | val loss: 0.3632236245800467 |\n",
      "Epoch:  24%|██▍       | 49/200 [00:19<00:59,  2.53it/s]\n",
      "EP_48 | train loss: 0.43356223854364134 | val loss: 0.36319535678508236 |\n",
      "Epoch:  25%|██▌       | 50/200 [00:19<00:59,  2.54it/s]\n",
      "EP_49 | train loss: 0.4274313057170195 | val loss: 0.3575257518712212 |\n",
      "Epoch:  26%|██▌       | 51/200 [00:20<00:59,  2.51it/s]\n",
      "EP_50 | train loss: 0.4295675315108954 | val loss: 0.3584626363772972 |\n",
      "Epoch:  26%|██▌       | 52/200 [00:20<00:58,  2.53it/s]\n",
      "EP_51 | train loss: 0.42788627381418265 | val loss: 0.3552010859928879 |\n",
      "Epoch:  26%|██▋       | 53/200 [00:20<00:58,  2.52it/s]\n",
      "EP_52 | train loss: 0.4257538412131515 | val loss: 0.3537853915317386 |\n",
      "Epoch:  27%|██▋       | 54/200 [00:21<00:57,  2.53it/s]\n",
      "EP_53 | train loss: 0.420615686154833 | val loss: 0.34923140967593475 |\n",
      "Epoch:  28%|██▊       | 55/200 [00:21<00:56,  2.55it/s]\n",
      "EP_54 | train loss: 0.4232816976659438 | val loss: 0.351625954987956 |\n",
      "Epoch:  28%|██▊       | 56/200 [00:22<00:57,  2.50it/s]\n",
      "EP_55 | train loss: 0.41912134114433736 | val loss: 0.34662531170190547 |\n",
      "Epoch:  28%|██▊       | 57/200 [00:22<00:58,  2.45it/s]\n",
      "EP_56 | train loss: 0.41344359809277104 | val loss: 0.34337571555492924 |\n",
      "Epoch:  29%|██▉       | 58/200 [00:22<00:57,  2.46it/s]\n",
      "EP_57 | train loss: 0.4130569841347489 | val loss: 0.3431641284157248 |\n",
      "Epoch:  30%|██▉       | 59/200 [00:23<00:57,  2.45it/s]\n",
      "EP_58 | train loss: 0.4176562384063122 | val loss: 0.34635408544072915 |\n",
      "Epoch:  30%|███       | 60/200 [00:23<00:56,  2.46it/s]\n",
      "EP_59 | train loss: 0.41012623543832816 | val loss: 0.3405633767445882 |\n",
      "Epoch:  30%|███       | 61/200 [00:24<00:56,  2.48it/s]\n",
      "EP_60 | train loss: 0.4073708562289967 | val loss: 0.33834919041278316 |\n",
      "Epoch:  31%|███       | 62/200 [00:24<00:54,  2.53it/s]\n",
      "EP_61 | train loss: 0.40866969052483054 | val loss: 0.34037338518628885 |\n",
      "Epoch:  32%|███▏      | 63/200 [00:24<00:53,  2.56it/s]\n",
      "EP_62 | train loss: 0.40933443798738367 | val loss: 0.34111421073184295 |\n",
      "Epoch:  32%|███▏      | 64/200 [00:25<00:52,  2.58it/s]\n",
      "EP_63 | train loss: 0.4028041259915221 | val loss: 0.33633703110264795 |\n",
      "Epoch:  32%|███▎      | 65/200 [00:25<00:52,  2.59it/s]\n",
      "EP_64 | train loss: 0.39981970226063446 | val loss: 0.33378610949890286 |\n",
      "Epoch:  33%|███▎      | 66/200 [00:26<00:52,  2.57it/s]\n",
      "EP_65 | train loss: 0.3964364346335916 | val loss: 0.3317523230524624 |\n",
      "Epoch:  34%|███▎      | 67/200 [00:26<00:51,  2.58it/s]\n",
      "EP_66 | train loss: 0.395583709081014 | val loss: 0.3318822109231762 |\n",
      "Epoch:  34%|███▍      | 68/200 [00:26<00:51,  2.58it/s]\n",
      "EP_67 | train loss: 0.3940950720917945 | val loss: 0.3314786202767316 |\n",
      "Epoch:  34%|███▍      | 69/200 [00:27<00:51,  2.57it/s]\n",
      "EP_68 | train loss: 0.39167157388200946 | val loss: 0.3299738051844578 |\n",
      "Epoch:  35%|███▌      | 70/200 [00:27<00:50,  2.57it/s]\n",
      "EP_69 | train loss: 0.3923619457319671 | val loss: 0.331137747741213 |\n",
      "Epoch:  36%|███▌      | 71/200 [00:28<00:50,  2.53it/s]\n",
      "EP_70 | train loss: 0.38728230700773353 | val loss: 0.32804503335672264 |\n",
      "Epoch:  36%|███▌      | 72/200 [00:28<00:50,  2.53it/s]\n",
      "EP_71 | train loss: 0.3848188129125857 | val loss: 0.32722364921195835 |\n",
      "Epoch:  36%|███▋      | 73/200 [00:28<00:50,  2.54it/s]\n",
      "EP_72 | train loss: 0.38840485273623 | val loss: 0.33073293110903573 |\n",
      "Epoch:  37%|███▋      | 74/200 [00:29<00:49,  2.55it/s]\n",
      "EP_73 | train loss: 0.3799962268156164 | val loss: 0.32564077949991416 |\n",
      "Epoch:  38%|███▊      | 75/200 [00:29<00:49,  2.55it/s]\n",
      "EP_74 | train loss: 0.38041282541611615 | val loss: 0.32614348390523124 |\n",
      "Epoch:  38%|███▊      | 76/200 [00:30<00:49,  2.53it/s]\n",
      "EP_75 | train loss: 0.37651043218724867 | val loss: 0.3232380029033212 |\n",
      "Epoch:  38%|███▊      | 77/200 [00:30<00:48,  2.54it/s]\n",
      "EP_76 | train loss: 0.3734568521088245 | val loss: 0.3216821808441013 |\n",
      "Epoch:  39%|███▉      | 78/200 [00:30<00:48,  2.54it/s]\n",
      "EP_77 | train loss: 0.37569519491756664 | val loss: 0.32445330187386157 |\n",
      "Epoch:  40%|███▉      | 79/200 [00:31<00:47,  2.54it/s]\n",
      "EP_78 | train loss: 0.3727982801549575 | val loss: 0.32194629662177143 |\n",
      "Epoch:  40%|████      | 80/200 [00:31<00:47,  2.54it/s]\n",
      "EP_79 | train loss: 0.37027000913433 | val loss: 0.3211650129626779 |\n",
      "Epoch:  40%|████      | 81/200 [00:31<00:47,  2.51it/s]\n",
      "EP_80 | train loss: 0.36353633357029336 | val loss: 0.3174135293446335 |\n",
      "Epoch:  41%|████      | 82/200 [00:32<00:46,  2.53it/s]\n",
      "EP_81 | train loss: 0.3637146753423354 | val loss: 0.31795256687145607 |\n",
      "Epoch:  42%|████▏     | 83/200 [00:32<00:46,  2.54it/s]\n",
      "EP_82 | train loss: 0.3573037881477206 | val loss: 0.31540892813719956 |\n",
      "Epoch:  42%|████▏     | 84/200 [00:33<00:45,  2.54it/s]\n",
      "EP_83 | train loss: 0.35740035702200496 | val loss: 0.31354157831154617 |\n",
      "Epoch:  42%|████▎     | 85/200 [00:33<00:45,  2.55it/s]\n",
      "EP_84 | train loss: 0.35664957177405265 | val loss: 0.3139889047426336 |\n",
      "Epoch:  43%|████▎     | 86/200 [00:33<00:45,  2.53it/s]\n",
      "EP_85 | train loss: 0.35164952231388463 | val loss: 0.3112058283067217 |\n",
      "Epoch:  44%|████▎     | 87/200 [00:34<00:44,  2.54it/s]\n",
      "EP_86 | train loss: 0.34839387126997406 | val loss: 0.3083251440057568 |\n",
      "Epoch:  44%|████▍     | 88/200 [00:34<00:44,  2.54it/s]\n",
      "EP_87 | train loss: 0.3459498442855536 | val loss: 0.3072715652923958 |\n",
      "Epoch:  44%|████▍     | 89/200 [00:35<00:43,  2.55it/s]\n",
      "EP_88 | train loss: 0.34880972142313044 | val loss: 0.3091946641604106 |\n",
      "Epoch:  45%|████▌     | 90/200 [00:35<00:43,  2.55it/s]\n",
      "EP_89 | train loss: 0.33843753665101295 | val loss: 0.30434860143007014 |\n",
      "Epoch:  46%|████▌     | 91/200 [00:35<00:43,  2.51it/s]\n",
      "EP_90 | train loss: 0.33718009135302374 | val loss: 0.3027723893231037 |\n",
      "Epoch:  46%|████▌     | 92/200 [00:36<00:42,  2.52it/s]\n",
      "EP_91 | train loss: 0.3429255588381898 | val loss: 0.3062250357048184 |\n",
      "Epoch:  46%|████▋     | 93/200 [00:36<00:42,  2.53it/s]\n",
      "EP_92 | train loss: 0.3290556617811614 | val loss: 0.30037271216803907 |\n",
      "Epoch:  47%|████▋     | 94/200 [00:37<00:41,  2.55it/s]\n",
      "EP_93 | train loss: 0.33479648197398465 | val loss: 0.3003792201771456 |\n",
      "Epoch:  48%|████▊     | 95/200 [00:37<00:41,  2.55it/s]\n",
      "EP_94 | train loss: 0.3224916458129883 | val loss: 0.2955268843501222 |\n",
      "Epoch:  48%|████▊     | 96/200 [00:37<00:41,  2.51it/s]\n",
      "EP_95 | train loss: 0.3246833511427337 | val loss: 0.29506337701105606 |\n",
      "Epoch:  48%|████▊     | 97/200 [00:38<00:40,  2.52it/s]\n",
      "EP_96 | train loss: 0.317104461146336 | val loss: 0.29034282880670886 |\n",
      "Epoch:  49%|████▉     | 98/200 [00:38<00:40,  2.54it/s]\n",
      "EP_97 | train loss: 0.3202682462393069 | val loss: 0.2907439032021691 |\n",
      "Epoch:  50%|████▉     | 99/200 [00:39<00:39,  2.54it/s]\n",
      "EP_98 | train loss: 0.32571711353227206 | val loss: 0.29237127830000487 |\n",
      "Epoch:  50%|█████     | 100/200 [00:39<00:39,  2.55it/s]\n",
      "EP_99 | train loss: 0.3073766965492099 | val loss: 0.283530828999538 |\n",
      "Epoch:  50%|█████     | 101/200 [00:39<00:39,  2.51it/s]\n",
      "EP_100 | train loss: 0.30618065338508754 | val loss: 0.28080214472378 |\n",
      "Epoch:  51%|█████     | 102/200 [00:40<00:38,  2.54it/s]\n",
      "EP_101 | train loss: 0.29880318875406303 | val loss: 0.28209489116481706 |\n",
      "Epoch:  52%|█████▏    | 103/200 [00:40<00:38,  2.52it/s]\n",
      "EP_102 | train loss: 0.29506880021562765 | val loss: 0.27796223934958963 |\n",
      "Epoch:  52%|█████▏    | 104/200 [00:41<00:37,  2.54it/s]\n",
      "EP_103 | train loss: 0.29465382145900354 | val loss: 0.2743064854659286 |\n",
      "Epoch:  52%|█████▎    | 105/200 [00:41<00:37,  2.56it/s]\n",
      "EP_104 | train loss: 0.28855684130799536 | val loss: 0.27120187118941663 |\n",
      "Epoch:  53%|█████▎    | 106/200 [00:41<00:37,  2.53it/s]\n",
      "EP_105 | train loss: 0.28683432223750094 | val loss: 0.26774367222598955 |\n",
      "Epoch:  54%|█████▎    | 107/200 [00:42<00:36,  2.52it/s]\n",
      "EP_106 | train loss: 0.2822215332704432 | val loss: 0.2656136014882256 |\n",
      "Epoch:  54%|█████▍    | 108/200 [00:42<00:36,  2.53it/s]\n",
      "EP_107 | train loss: 0.27948805070390886 | val loss: 0.2620799027237238 |\n",
      "Epoch:  55%|█████▍    | 109/200 [00:43<00:35,  2.53it/s]\n",
      "EP_108 | train loss: 0.27875266869862875 | val loss: 0.25838842929578293 |\n",
      "Epoch:  55%|█████▌    | 110/200 [00:43<00:35,  2.54it/s]\n",
      "EP_109 | train loss: 0.2723807947308409 | val loss: 0.2552574095772762 |\n",
      "Epoch:  56%|█████▌    | 111/200 [00:43<00:35,  2.51it/s]\n",
      "EP_110 | train loss: 0.27068329698899213 | val loss: 0.2541106921785018 |\n",
      "Epoch:  56%|█████▌    | 112/200 [00:44<00:34,  2.54it/s]\n",
      "EP_111 | train loss: 0.2656714299145867 | val loss: 0.2483573929936278 |\n",
      "Epoch:  56%|█████▋    | 113/200 [00:44<00:34,  2.55it/s]\n",
      "EP_112 | train loss: 0.26493187184427297 | val loss: 0.24603535381017946 |\n",
      "Epoch:  57%|█████▋    | 114/200 [00:44<00:33,  2.56it/s]\n",
      "EP_113 | train loss: 0.2556385325450523 | val loss: 0.2456666505804249 |\n",
      "Epoch:  57%|█████▊    | 115/200 [00:45<00:33,  2.56it/s]\n",
      "EP_114 | train loss: 0.257524409013636 | val loss: 0.23818500544510635 |\n",
      "Epoch:  58%|█████▊    | 116/200 [00:45<00:33,  2.51it/s]\n",
      "EP_115 | train loss: 0.24783187099531584 | val loss: 0.237658770645366 |\n",
      "Epoch:  58%|█████▊    | 117/200 [00:46<00:32,  2.53it/s]\n",
      "EP_116 | train loss: 0.24505009838179045 | val loss: 0.2312286648095823 |\n",
      "Epoch:  59%|█████▉    | 118/200 [00:46<00:32,  2.54it/s]\n",
      "EP_117 | train loss: 0.2707958754371194 | val loss: 0.23888763610054464 |\n",
      "Epoch:  60%|█████▉    | 119/200 [00:46<00:32,  2.53it/s]\n",
      "EP_118 | train loss: 0.23760754734862086 | val loss: 0.22468090992347867 |\n",
      "Epoch:  60%|██████    | 120/200 [00:47<00:31,  2.54it/s]\n",
      "EP_119 | train loss: 0.23572910953970516 | val loss: 0.21968991265577428 |\n",
      "Epoch:  60%|██████    | 121/200 [00:47<00:31,  2.51it/s]\n",
      "EP_120 | train loss: 0.22960404928992775 | val loss: 0.21603211468341305 |\n",
      "Epoch:  61%|██████    | 122/200 [00:48<00:30,  2.53it/s]\n",
      "EP_121 | train loss: 0.22279058718213848 | val loss: 0.2194615731052324 |\n",
      "Epoch:  62%|██████▏   | 123/200 [00:48<00:30,  2.52it/s]\n",
      "EP_122 | train loss: 0.22682587492699716 | val loss: 0.20786423367612503 |\n",
      "Epoch:  62%|██████▏   | 124/200 [00:48<00:30,  2.52it/s]\n",
      "EP_123 | train loss: 0.21723316323523428 | val loss: 0.20352180506668838 |\n",
      "Epoch:  62%|██████▎   | 125/200 [00:49<00:29,  2.54it/s]\n",
      "EP_124 | train loss: 0.2194867068646001 | val loss: 0.20000607944002338 |\n",
      "Epoch:  63%|██████▎   | 126/200 [00:49<00:29,  2.52it/s]\n",
      "EP_125 | train loss: 0.20612872067619772 | val loss: 0.19654888499016857 |\n",
      "Epoch:  64%|██████▎   | 127/200 [00:50<00:28,  2.53it/s]\n",
      "EP_126 | train loss: 0.20218285485809925 | val loss: 0.19650013832484975 |\n",
      "Epoch:  64%|██████▍   | 128/200 [00:50<00:28,  2.54it/s]\n",
      "EP_127 | train loss: 0.19956467058144364 | val loss: 0.18760856109506943 |\n",
      "Epoch:  64%|██████▍   | 129/200 [00:50<00:27,  2.55it/s]\n",
      "EP_128 | train loss: 0.20742933796901328 | val loss: 0.18380027191311704 |\n",
      "Epoch:  65%|██████▌   | 130/200 [00:51<00:27,  2.56it/s]\n",
      "EP_129 | train loss: 0.2008708771537332 | val loss: 0.1795210920128168 |\n",
      "Epoch:  66%|██████▌   | 131/200 [00:51<00:27,  2.50it/s]\n",
      "EP_130 | train loss: 0.1956978531444774 | val loss: 0.174398892066058 |\n",
      "Epoch:  66%|██████▌   | 132/200 [00:52<00:26,  2.52it/s]\n",
      "EP_131 | train loss: 0.18933412724850224 | val loss: 0.16845669349034628 |\n",
      "Epoch:  66%|██████▋   | 133/200 [00:52<00:26,  2.53it/s]\n",
      "EP_132 | train loss: 0.17656339009602864 | val loss: 0.16388256351153055 |\n",
      "Epoch:  67%|██████▋   | 134/200 [00:52<00:25,  2.54it/s]\n",
      "EP_133 | train loss: 0.17241418688905005 | val loss: 0.16040913848315969 |\n",
      "Epoch:  68%|██████▊   | 135/200 [00:53<00:25,  2.55it/s]\n",
      "EP_134 | train loss: 0.16767253922481162 | val loss: 0.15415237347284952 |\n",
      "Epoch:  68%|██████▊   | 136/200 [00:53<00:25,  2.52it/s]\n",
      "EP_135 | train loss: 0.16257428655437395 | val loss: 0.1499231662236008 |\n",
      "Epoch:  68%|██████▊   | 137/200 [00:54<00:24,  2.53it/s]\n",
      "EP_136 | train loss: 0.15477872923308728 | val loss: 0.15160544012107102 |\n",
      "Epoch:  69%|██████▉   | 138/200 [00:54<00:24,  2.54it/s]\n",
      "EP_137 | train loss: 0.15742798506044875 | val loss: 0.1401168610535416 |\n",
      "Epoch:  70%|██████▉   | 139/200 [00:54<00:23,  2.54it/s]\n",
      "EP_138 | train loss: 0.15437013869192087 | val loss: 0.13398286933992423 |\n",
      "Epoch:  70%|███████   | 140/200 [00:55<00:23,  2.55it/s]\n",
      "EP_139 | train loss: 0.14281620745565377 | val loss: 0.13057752684050916 |\n",
      "Epoch:  70%|███████   | 141/200 [00:55<00:23,  2.52it/s]\n",
      "EP_140 | train loss: 0.14292511566012514 | val loss: 0.12423245813332352 |\n",
      "Epoch:  71%|███████   | 142/200 [00:56<00:22,  2.53it/s]\n",
      "EP_141 | train loss: 0.13243691523869833 | val loss: 0.12932176683463303 |\n",
      "Epoch:  72%|███████▏  | 143/200 [00:56<00:22,  2.55it/s]\n",
      "EP_142 | train loss: 0.12827563613068824 | val loss: 0.1205412745475769 |\n",
      "Epoch:  72%|███████▏  | 144/200 [00:56<00:22,  2.53it/s]\n",
      "EP_143 | train loss: 0.1268184830160702 | val loss: 0.11220003226224114 |\n",
      "Epoch:  72%|███████▎  | 145/200 [00:57<00:21,  2.54it/s]\n",
      "EP_144 | train loss: 0.12017520782994288 | val loss: 0.11242777927249085 |\n",
      "Epoch:  73%|███████▎  | 146/200 [00:57<00:21,  2.52it/s]\n",
      "EP_145 | train loss: 0.12881435085745419 | val loss: 0.10774496548316058 |\n",
      "Epoch:  74%|███████▎  | 147/200 [00:58<00:20,  2.54it/s]\n",
      "EP_146 | train loss: 0.11714540299247293 | val loss: 0.10385295281223222 |\n",
      "Epoch:  74%|███████▍  | 148/200 [00:58<00:20,  2.52it/s]\n",
      "EP_147 | train loss: 0.11699905138389737 | val loss: 0.09813013205341264 |\n",
      "Epoch:  74%|███████▍  | 149/200 [00:58<00:20,  2.52it/s]\n",
      "EP_148 | train loss: 0.1034579592592576 | val loss: 0.09825523928099987 |\n",
      "Epoch:  75%|███████▌  | 150/200 [00:59<00:19,  2.52it/s]\n",
      "EP_149 | train loss: 0.1013212029840432 | val loss: 0.09372698968532038 |\n",
      "Epoch:  76%|███████▌  | 151/200 [00:59<00:19,  2.50it/s]\n",
      "EP_150 | train loss: 0.1029625883289412 | val loss: 0.08673094359098696 |\n",
      "Epoch:  76%|███████▌  | 152/200 [01:00<00:19,  2.44it/s]\n",
      "EP_151 | train loss: 0.09604413182127709 | val loss: 0.08486409310032339 |\n",
      "Epoch:  76%|███████▋  | 153/200 [01:00<00:19,  2.45it/s]\n",
      "EP_152 | train loss: 0.10164050050810272 | val loss: 0.0828990778502296 |\n",
      "Epoch:  77%|███████▋  | 154/200 [01:00<00:18,  2.48it/s]\n",
      "EP_153 | train loss: 0.08518754045168558 | val loss: 0.08510349135772854 |\n",
      "Epoch:  78%|███████▊  | 155/200 [01:01<00:17,  2.50it/s]\n",
      "EP_154 | train loss: 0.09431370333129284 | val loss: 0.07850565279231352 |\n",
      "Epoch:  78%|███████▊  | 156/200 [01:01<00:17,  2.48it/s]\n",
      "EP_155 | train loss: 0.09209021844115911 | val loss: 0.07856291766260184 |\n",
      "Epoch:  78%|███████▊  | 157/200 [01:02<00:17,  2.50it/s]\n",
      "EP_156 | train loss: 0.08057068691534154 | val loss: 0.07272152836416282 |\n",
      "Epoch:  79%|███████▉  | 158/200 [01:02<00:16,  2.51it/s]\n",
      "EP_157 | train loss: 0.07571111555192984 | val loss: 0.06860823812437992 |\n",
      "Epoch:  80%|███████▉  | 159/200 [01:02<00:16,  2.53it/s]\n",
      "EP_158 | train loss: 0.07411653598149617 | val loss: 0.0684520327577404 |\n",
      "Epoch:  80%|████████  | 160/200 [01:03<00:15,  2.54it/s]\n",
      "EP_159 | train loss: 0.07546152986732184 | val loss: 0.06521343279118631 |\n",
      "Epoch:  80%|████████  | 161/200 [01:03<00:15,  2.49it/s]\n",
      "EP_160 | train loss: 0.07811536707130133 | val loss: 0.06708723102130142 |\n",
      "Epoch:  81%|████████  | 162/200 [01:04<00:15,  2.50it/s]\n",
      "EP_161 | train loss: 0.06702143795350018 | val loss: 0.060304862027074774 |\n",
      "Epoch:  82%|████████▏ | 163/200 [01:04<00:14,  2.52it/s]\n",
      "EP_162 | train loss: 0.08574047217182085 | val loss: 0.07184446588450787 |\n",
      "Epoch:  82%|████████▏ | 164/200 [01:04<00:14,  2.53it/s]\n",
      "EP_163 | train loss: 0.06336663564046224 | val loss: 0.05816946427027384 |\n",
      "Epoch:  82%|████████▎ | 165/200 [01:05<00:13,  2.55it/s]\n",
      "EP_164 | train loss: 0.06797514768207774 | val loss: 0.06194702725784451 |\n",
      "Epoch:  83%|████████▎ | 166/200 [01:05<00:13,  2.52it/s]\n",
      "EP_165 | train loss: 0.08171319377188589 | val loss: 0.06785424404284533 |\n",
      "Epoch:  84%|████████▎ | 167/200 [01:06<00:13,  2.53it/s]\n",
      "EP_166 | train loss: 0.06574325397902844 | val loss: 0.05553647408298418 |\n",
      "Epoch:  84%|████████▍ | 168/200 [01:06<00:12,  2.54it/s]\n",
      "EP_167 | train loss: 0.05145782524464177 | val loss: 0.05161417524019877 |\n",
      "Epoch:  84%|████████▍ | 169/200 [01:06<00:12,  2.55it/s]\n",
      "EP_168 | train loss: 0.07357494784336464 | val loss: 0.059863998609430646 |\n",
      "Epoch:  85%|████████▌ | 170/200 [01:07<00:11,  2.55it/s]\n",
      "EP_169 | train loss: 0.05686375113094554 | val loss: 0.04957092012844834 |\n",
      "Epoch:  86%|████████▌ | 171/200 [01:07<00:11,  2.52it/s]\n",
      "EP_170 | train loss: 0.04315688019874049 | val loss: 0.04675242918379167 |\n",
      "Epoch:  86%|████████▌ | 172/200 [01:07<00:11,  2.53it/s]\n",
      "EP_171 | train loss: 0.04404068051599989 | val loss: 0.04309894407496733 |\n",
      "Epoch:  86%|████████▋ | 173/200 [01:08<00:10,  2.53it/s]\n",
      "EP_172 | train loss: 0.05125994395975973 | val loss: 0.04477705996410519 |\n",
      "Epoch:  87%|████████▋ | 174/200 [01:08<00:10,  2.54it/s]\n",
      "EP_173 | train loss: 0.03917170348120671 | val loss: 0.0386844604623084 |\n",
      "Epoch:  88%|████████▊ | 175/200 [01:09<00:09,  2.55it/s]\n",
      "EP_174 | train loss: 0.03687653301977644 | val loss: 0.03854150675675448 |\n",
      "Epoch:  88%|████████▊ | 176/200 [01:09<00:09,  2.52it/s]\n",
      "EP_175 | train loss: 0.03749415821888868 | val loss: 0.03514121443617577 |\n",
      "Epoch:  88%|████████▊ | 177/200 [01:09<00:09,  2.52it/s]\n",
      "EP_176 | train loss: 0.03909426395799599 | val loss: 0.035082876682281494 |\n",
      "Epoch:  89%|████████▉ | 178/200 [01:10<00:08,  2.54it/s]\n",
      "EP_177 | train loss: 0.03365088108123517 | val loss: 0.03377202649911245 |\n",
      "Epoch:  90%|████████▉ | 179/200 [01:10<00:08,  2.55it/s]\n",
      "EP_178 | train loss: 0.035532418477768994 | val loss: 0.04607793279722625 |\n",
      "Epoch:  90%|█████████ | 180/200 [01:11<00:07,  2.54it/s]\n",
      "EP_179 | train loss: 0.041562656970585095 | val loss: 0.03575955798812941 |\n",
      "Epoch:  90%|█████████ | 181/200 [01:11<00:07,  2.52it/s]\n",
      "EP_180 | train loss: 0.036612475093673255 | val loss: 0.03274243573347727 |\n",
      "Epoch:  91%|█████████ | 182/200 [01:11<00:07,  2.51it/s]\n",
      "EP_181 | train loss: 0.029050443219203574 | val loss: 0.029515489351515677 |\n",
      "Epoch:  92%|█████████▏| 183/200 [01:12<00:06,  2.52it/s]\n",
      "EP_182 | train loss: 0.03754202764408261 | val loss: 0.051999144110025146 |\n",
      "Epoch:  92%|█████████▏| 184/200 [01:12<00:06,  2.52it/s]\n",
      "EP_183 | train loss: 0.026473806652368283 | val loss: 0.028742167149104325 |\n",
      "Epoch:  92%|█████████▎| 185/200 [01:13<00:05,  2.52it/s]\n",
      "EP_184 | train loss: 0.026891154401442584 | val loss: 0.02724149574836095 |\n",
      "Epoch:  93%|█████████▎| 186/200 [01:13<00:05,  2.50it/s]\n",
      "EP_185 | train loss: 0.02499394183065377 | val loss: 0.026029828424547232 |\n",
      "Epoch:  94%|█████████▎| 187/200 [01:13<00:05,  2.51it/s]\n",
      "EP_186 | train loss: 0.030559296818340527 | val loss: 0.026468982591348535 |\n",
      "Epoch:  94%|█████████▍| 188/200 [01:14<00:04,  2.53it/s]\n",
      "EP_187 | train loss: 0.03114100086922739 | val loss: 0.026850062988552394 |\n",
      "Epoch:  94%|█████████▍| 189/200 [01:14<00:04,  2.54it/s]\n",
      "EP_188 | train loss: 0.03769569081418654 | val loss: 0.03101849366052478 |\n",
      "Epoch:  95%|█████████▌| 190/200 [01:15<00:03,  2.55it/s]\n",
      "EP_189 | train loss: 0.03038020154424742 | val loss: 0.025259257823813195 |\n",
      "Epoch:  96%|█████████▌| 191/200 [01:15<00:03,  2.52it/s]\n",
      "EP_190 | train loss: 0.03826312007857304 | val loss: 0.031404371939453425 |\n",
      "Epoch:  96%|█████████▌| 192/200 [01:15<00:03,  2.50it/s]\n",
      "EP_191 | train loss: 0.022054956327466405 | val loss: 0.02156242406835743 |\n",
      "Epoch:  96%|█████████▋| 193/200 [01:16<00:02,  2.53it/s]\n",
      "EP_192 | train loss: 0.02318915254345127 | val loss: 0.022133355339368183 |\n",
      "Epoch:  97%|█████████▋| 194/200 [01:16<00:02,  2.52it/s]\n",
      "EP_193 | train loss: 0.027041146013082242 | val loss: 0.023109685410471523 |\n",
      "Epoch:  98%|█████████▊| 195/200 [01:17<00:01,  2.53it/s]\n",
      "EP_194 | train loss: 0.017993155034149395 | val loss: 0.023832630731311498 |\n",
      "Epoch:  98%|█████████▊| 196/200 [01:17<00:01,  2.49it/s]\n",
      "EP_195 | train loss: 0.017714788983849917 | val loss: 0.018842015634564793 |\n",
      "Epoch:  98%|█████████▊| 197/200 [01:17<00:01,  2.49it/s]\n",
      "EP_196 | train loss: 0.026931272184147554 | val loss: 0.02329936492092469 |\n",
      "Epoch:  99%|█████████▉| 198/200 [01:18<00:00,  2.49it/s]\n",
      "EP_197 | train loss: 0.016777572649366714 | val loss: 0.01906601193488813 |\n",
      "Epoch: 100%|█████████▉| 199/200 [01:18<00:00,  2.50it/s]\n",
      "EP_198 | train loss: 0.018499365945657095 | val loss: 0.017161321041046406 |\n",
      "Epoch: 100%|██████████| 200/200 [01:19<00:00,  2.53it/s]\n",
      "EP_199 | train loss: 0.016030775507291158 | val loss: 0.018011996705158084 |\n",
      "\n"
     ]
    }
   ],
   "source": [
    "AttractiveTrainer.train()"
   ]
  },
  {
   "cell_type": "markdown",
   "metadata": {},
   "source": [
    "## Below is testing"
   ]
  },
  {
   "cell_type": "code",
   "execution_count": 6,
   "metadata": {},
   "outputs": [
    {
     "output_type": "execute_result",
     "data": {
      "text/plain": [
       "AttractiveNet(\n",
       "  (embedding): AttractiveEmbedding(\n",
       "    (token): TokenEmbedding(12699, 300, padding_idx=1)\n",
       "  )\n",
       "  (bigramcnn): Sequential(\n",
       "    (0): Conv1d(300, 200, kernel_size=(2,), stride=(1,), padding=(1,))\n",
       "    (1): ReLU()\n",
       "    (2): Conv1d(200, 100, kernel_size=(2,), stride=(1,), padding=(1,))\n",
       "    (3): ReLU()\n",
       "    (4): Dropout(p=0.5, inplace=False)\n",
       "  )\n",
       "  (trigramcnn): Sequential(\n",
       "    (0): Conv1d(300, 200, kernel_size=(3,), stride=(1,), padding=(1,))\n",
       "    (1): ReLU()\n",
       "    (2): Conv1d(200, 100, kernel_size=(3,), stride=(1,), padding=(1,))\n",
       "    (3): ReLU()\n",
       "    (4): Dropout(p=0.5, inplace=False)\n",
       "  )\n",
       "  (encoder_bigram): LSTM(100, 30, batch_first=True, dropout=0.5, bidirectional=True)\n",
       "  (encoder_trigram): LSTM(100, 30, batch_first=True, dropout=0.5, bidirectional=True)\n",
       "  (linear): Sequential(\n",
       "    (0): Linear(in_features=128, out_features=30, bias=True)\n",
       "    (1): ReLU()\n",
       "    (2): Linear(in_features=30, out_features=1, bias=True)\n",
       "  )\n",
       ")"
      ]
     },
     "metadata": {},
     "execution_count": 6
    }
   ],
   "source": [
    "from attractivenet import AttractiveNet\n",
    "\n",
    "PATH = './model/CNN_LSTM_20201109-170228/0.376510.75'\n",
    "\n",
    "load_model = AttractiveNet(config).to(AttractiveData.device)\n",
    "load_model.load_state_dict(torch.load(PATH))\n",
    "load_model.eval()"
   ]
  },
  {
   "cell_type": "code",
   "execution_count": 7,
   "metadata": {},
   "outputs": [],
   "source": [
    "def predict_attractive(sentence, category, phase):\n",
    "    indexed_sentence = [AttractiveData.TEXT.vocab.stoi[t] for t in sentence]\n",
    "    indexed_category = [AttractiveData.CATEGORIES_LABEL.vocab.stoi[category]]\n",
    "    tensor_sentence = torch.LongTensor(indexed_sentence).to(AttractiveData.device)\n",
    "    tensor_category = torch.LongTensor(indexed_category).to(AttractiveData.device)\n",
    "    tensor_sentence = tensor_sentence.unsqueeze(0)\n",
    "\n",
    "    prediction = load_model(tensor_sentence, tensor_category, phase=phase)\n",
    "\n",
    "    return prediction"
   ]
  },
  {
   "cell_type": "code",
   "execution_count": 8,
   "metadata": {
    "tags": []
   },
   "outputs": [],
   "source": [
    "# train mean = 3.15, test mean = 2.8\n",
    "predict_list = []\n",
    "with torch.no_grad():\n",
    "    for i, sentence in enumerate(AttractiveData.test_data):\n",
    "        prediction = predict_attractive(sentence.Headline, sentence.Category, 'test')\n",
    "        predict_list.append(prediction.item())\n",
    "        # predict_list.append(prediction.item())\n",
    "AttractiveData.df_test['Label'] = predict_list\n",
    "AttractiveData.df_test[['ID', 'Label']].to_csv(config['save_name'] + '.csv', index=False)"
   ]
  },
  {
   "cell_type": "markdown",
   "metadata": {},
   "source": [
    "## Below for statistics"
   ]
  },
  {
   "cell_type": "code",
   "execution_count": 9,
   "metadata": {},
   "outputs": [],
   "source": [
    "import statistics\n",
    "from sklearn.metrics import mean_squared_error"
   ]
  },
  {
   "cell_type": "code",
   "execution_count": 10,
   "metadata": {},
   "outputs": [],
   "source": [
    "# # train mean = 3.15, test mean = 2.8\n",
    "# train_list = []\n",
    "# for i, sentence in enumerate(AttractiveData.train_data):\n",
    "#     prediction = predict_attractive(sentence.Headline, sentence.Category, 'train')\n",
    "#     train_list.append(prediction.item())\n",
    "#     # train_list.append(prediction.item())\n",
    "# # print(train_list)\n",
    "# mean_squared_error(pd.read_csv('data/train.csv').sort_values(['ID']).Label.to_list(), train_list), statistics.mean(train_list), statistics.stdev(train_list)"
   ]
  },
  {
   "cell_type": "code",
   "execution_count": 11,
   "metadata": {},
   "outputs": [],
   "source": [
    "# train_list[0:5], pd.read_csv('data/train.csv').sort_values(['ID']).Label.to_list()[0:5]"
   ]
  },
  {
   "cell_type": "code",
   "execution_count": 12,
   "metadata": {},
   "outputs": [],
   "source": [
    "# a = AttractiveData.df_train['Label'].to_list()\n",
    "# statistics.mean(a), statistics.stdev(a)"
   ]
  },
  {
   "cell_type": "code",
   "execution_count": 13,
   "metadata": {},
   "outputs": [
    {
     "output_type": "execute_result",
     "data": {
      "text/plain": [
       "(2.7978586898501225, 0.35719348231426823)"
      ]
     },
     "metadata": {},
     "execution_count": 13
    }
   ],
   "source": [
    "statistics.mean(predict_list), statistics.stdev(predict_list)"
   ]
  },
  {
   "cell_type": "code",
   "execution_count": 14,
   "metadata": {},
   "outputs": [
    {
     "output_type": "execute_result",
     "data": {
      "text/plain": [
       "(0.006779608382715493, 2.7876357276009043, 0.3643672504501976)"
      ]
     },
     "metadata": {},
     "execution_count": 14
    }
   ],
   "source": [
    "baseline_list = pd.read_csv('baseline.csv').sort_values(['ID']).Label.to_list()\n",
    "mean_squared_error(baseline_list, predict_list), statistics.mean(baseline_list), statistics.stdev(baseline_list)"
   ]
  },
  {
   "cell_type": "code",
   "execution_count": null,
   "metadata": {},
   "outputs": [],
   "source": []
  },
  {
   "cell_type": "code",
   "execution_count": 15,
   "metadata": {},
   "outputs": [
    {
     "output_type": "execute_result",
     "data": {
      "text/plain": [
       "4.055494478172638e-05"
      ]
     },
     "metadata": {},
     "execution_count": 15
    }
   ],
   "source": [
    "mean_squared_error(pd.read_csv('baseline.csv').sort_values(['ID']).Label.to_list(), pd.read_csv('./CNN_LSTM.csv').sort_values(['ID']).Label.to_list())"
   ]
  },
  {
   "cell_type": "code",
   "execution_count": 13,
   "metadata": {},
   "outputs": [],
   "source": []
  },
  {
   "cell_type": "code",
   "execution_count": null,
   "metadata": {},
   "outputs": [],
   "source": []
  }
 ],
 "metadata": {
  "kernelspec": {
   "display_name": "DS_hw2",
   "language": "python",
   "name": "ds_hw2"
  },
  "language_info": {
   "codemirror_mode": {
    "name": "ipython",
    "version": 3
   },
   "file_extension": ".py",
   "mimetype": "text/x-python",
   "name": "python",
   "nbconvert_exporter": "python",
   "pygments_lexer": "ipython3",
   "version": "3.6.12-final"
  }
 },
 "nbformat": 4,
 "nbformat_minor": 4
}