{
 "cells": [
  {
   "cell_type": "code",
   "execution_count": 1,
   "metadata": {},
   "outputs": [],
   "source": [
    "# common packages\n",
    "import pandas as pd\n",
    "import time\n",
    "\n",
    "# # DL framework\n",
    "import torch\n",
    "from torchtext import data\n",
    "\n",
    "from attractivedata import AttractiveData\n",
    "from trainer import AttractiveTrainer"
   ]
  },
  {
   "cell_type": "code",
   "execution_count": 2,
   "metadata": {},
   "outputs": [],
   "source": [
    "seed_value = 42\n",
    "torch.manual_seed(seed_value)\n",
    "torch.cuda.manual_seed(seed_value)\n",
    "torch.cuda.manual_seed_all(seed_value) # gpu vars\n",
    "torch.backends.cudnn.deterministic = True  #needed\n",
    "torch.backends.cudnn.benchmark = False"
   ]
  },
  {
   "cell_type": "markdown",
   "metadata": {},
   "source": [
    "# TODO: \n",
    "- [ ] word embedding multiply tfidf\n",
    "- [ ] use word2vec"
   ]
  },
  {
   "cell_type": "markdown",
   "metadata": {},
   "source": [
    "## Load and prepare data"
   ]
  },
  {
   "cell_type": "code",
   "execution_count": 3,
   "metadata": {},
   "outputs": [],
   "source": [
    "train_file = 'data/train.csv'\n",
    "val_file = 'example/val.csv'\n",
    "test_file = 'data/test.csv'\n",
    "pretrained_file = 'glove.840B.300d'\n",
    "config = {\n",
    "    'max_seq': 40,\n",
    "    'min_freq': 0,\n",
    "    'batch_size': 64,\n",
    "    'pretrained_file': pretrained_file\n",
    "}\n"
   ]
  },
  {
   "cell_type": "code",
   "execution_count": 4,
   "metadata": {},
   "outputs": [],
   "source": [
    "AttractiveData = AttractiveData(train_file, val_file, test_file, pretrained_file, config)"
   ]
  },
  {
   "cell_type": "code",
   "execution_count": 5,
   "metadata": {},
   "outputs": [],
   "source": [
    "# for i, sentence in enumerate(AttractiveData.test_data):\n",
    "#     if i == 3:\n",
    "#         print(vars(AttractiveData.train_data[i]), vars(sentence))"
   ]
  },
  {
   "cell_type": "code",
   "execution_count": 6,
   "metadata": {},
   "outputs": [
    {
     "output_type": "execute_result",
     "data": {
      "text/plain": [
       "38"
      ]
     },
     "metadata": {},
     "execution_count": 6
    }
   ],
   "source": [
    "max_len = 0\n",
    "a = AttractiveData.train_data\n",
    "for i in range(len(a)):\n",
    "    if len(a[i].Headline) >= max_len:\n",
    "        max_len = len(a[i].Headline)\n",
    "max_len"
   ]
  },
  {
   "cell_type": "markdown",
   "metadata": {},
   "source": [
    "## Start to train"
   ]
  },
  {
   "cell_type": "code",
   "execution_count": 7,
   "metadata": {},
   "outputs": [
    {
     "output_type": "stream",
     "name": "stdout",
     "text": [
      "torch.Size([12699, 300])\n"
     ]
    }
   ],
   "source": [
    "config['timestr'] = time.strftime(\"%Y%m%d-%H%M%S\")\n",
    "config['save_name'] = 'CNN_LSTM'\n",
    "config['input_dim'] = len(AttractiveData.TEXT.vocab)\n",
    "config['embedding_dim'] = 300\n",
    "config['category_dim'] = len(AttractiveData.CATEGORIES_LABEL.vocab)\n",
    "config['category_embedding_dim'] = 8\n",
    "config['hidden_dim'] = 30\n",
    "config['output_dim'] = 1\n",
    "config['log_steps'] = 10\n",
    "config['epochs'] = 200\n",
    "config['lr'] = {\n",
    "    'encoder': 1e-5,\n",
    "    'embedding': 6e-6,\n",
    "    'linear': 1e-5\n",
    "}\n",
    "config['num_layers'] = 1\n",
    "config['kernel_size'] = 3\n",
    "config['dropout'] = 0.3\n",
    "config['train_len'] = AttractiveData.train_len\n",
    "config['val_len'] = AttractiveData.val_len\n",
    "config['test_len'] = AttractiveData.test_len\n",
    "\n",
    "pretrained_embeddings = AttractiveData.TEXT.vocab.vectors\n",
    "print(pretrained_embeddings.shape)"
   ]
  },
  {
   "cell_type": "code",
   "execution_count": 8,
   "metadata": {},
   "outputs": [],
   "source": [
    "AttractiveTrainer = AttractiveTrainer(config, AttractiveData.device, AttractiveData.trainloader, AttractiveData.valloader, pretrained_embeddings)"
   ]
  },
  {
   "cell_type": "code",
   "execution_count": 9,
   "metadata": {},
   "outputs": [
    {
     "output_type": "execute_result",
     "data": {
      "text/plain": [
       "(AttractiveNet(\n",
       "   (embedding): AttractiveEmbedding(\n",
       "     (token): TokenEmbedding(12699, 300, padding_idx=1)\n",
       "   )\n",
       "   (bigramcnn): Sequential(\n",
       "     (0): Conv1d(300, 200, kernel_size=(3,), stride=(1,), padding=(1,))\n",
       "     (1): ReLU()\n",
       "     (2): Conv1d(200, 100, kernel_size=(3,), stride=(1,), padding=(1,))\n",
       "     (3): ReLU()\n",
       "     (4): Dropout(p=0.3, inplace=False)\n",
       "   )\n",
       "   (trigramcnn): Sequential(\n",
       "     (0): Conv1d(300, 200, kernel_size=(3,), stride=(1,), padding=(1,))\n",
       "     (1): ReLU()\n",
       "     (2): Conv1d(200, 100, kernel_size=(3,), stride=(1,), padding=(1,))\n",
       "     (3): ReLU()\n",
       "     (4): Dropout(p=0.3, inplace=False)\n",
       "   )\n",
       "   (encoder_bigram_first): LSTM(100, 30, batch_first=True, dropout=0.3, bidirectional=True)\n",
       "   (encoder_trigram_first): LSTM(100, 30, batch_first=True, dropout=0.3, bidirectional=True)\n",
       "   (linear): Sequential(\n",
       "     (0): Linear(in_features=124, out_features=30, bias=True)\n",
       "     (1): ReLU()\n",
       "     (2): Linear(in_features=30, out_features=1, bias=True)\n",
       "   )\n",
       " ),\n",
       " 4357441,\n",
       " 4357441)"
      ]
     },
     "metadata": {},
     "execution_count": 9
    }
   ],
   "source": [
    "AttractiveTrainer.model, AttractiveTrainer.config['total_params'], AttractiveTrainer.config['total_learned_params']"
   ]
  },
  {
   "cell_type": "code",
   "execution_count": 10,
   "metadata": {
    "tags": [
     "outputPrepend"
    ]
   },
   "outputs": [
    {
     "output_type": "stream",
     "name": "stderr",
     "text": [
      "it/s]\n",
      "EP_47 | train loss: 0.42298059930988385 | val loss: 0.3591204875824498 |\n",
      "Epoch:  24%|██▍       | 49/200 [00:20<01:01,  2.45it/s]\n",
      "EP_48 | train loss: 0.4202281213274189 | val loss: 0.35144547679845023 |\n",
      "Epoch:  25%|██▌       | 50/200 [00:21<01:00,  2.47it/s]\n",
      "EP_49 | train loss: 0.41920446227578556 | val loss: 0.3537430979457556 |\n",
      "Epoch:  26%|██▌       | 51/200 [00:21<01:02,  2.39it/s]\n",
      "EP_50 | train loss: 0.41808375283783555 | val loss: 0.35308508779488357 |\n",
      "Epoch:  26%|██▌       | 52/200 [00:22<01:01,  2.40it/s]\n",
      "EP_51 | train loss: 0.41444051125470327 | val loss: 0.3507817118775611 |\n",
      "Epoch:  26%|██▋       | 53/200 [00:22<01:00,  2.43it/s]\n",
      "EP_52 | train loss: 0.4116218277052337 | val loss: 0.34428949858628066 |\n",
      "Epoch:  27%|██▋       | 54/200 [00:22<00:59,  2.47it/s]\n",
      "EP_53 | train loss: 0.41047332614075904 | val loss: 0.34394597598150667 |\n",
      "Epoch:  28%|██▊       | 55/200 [00:23<00:58,  2.48it/s]\n",
      "EP_54 | train loss: 0.4067906010384653 | val loss: 0.3402140806703007 |\n",
      "Epoch:  28%|██▊       | 56/200 [00:23<01:00,  2.39it/s]\n",
      "EP_55 | train loss: 0.40530268912221873 | val loss: 0.3391765402812584 |\n",
      "Epoch:  28%|██▊       | 57/200 [00:24<00:59,  2.42it/s]\n",
      "EP_56 | train loss: 0.4039085537779565 | val loss: 0.3357502560989529 |\n",
      "Epoch:  29%|██▉       | 58/200 [00:24<00:59,  2.39it/s]\n",
      "EP_57 | train loss: 0.4007723574544869 | val loss: 0.3379166400900074 |\n",
      "Epoch:  30%|██▉       | 59/200 [00:24<00:58,  2.40it/s]\n",
      "EP_58 | train loss: 0.40132285379895977 | val loss: 0.3404672829543843 |\n",
      "Epoch:  30%|███       | 60/200 [00:25<00:57,  2.42it/s]\n",
      "EP_59 | train loss: 0.3976413460338817 | val loss: 0.33578040436202405 |\n",
      "Epoch:  30%|███       | 61/200 [00:25<00:59,  2.34it/s]\n",
      "EP_60 | train loss: 0.39372723336313287 | val loss: 0.3315183403445225 |\n",
      "Epoch:  31%|███       | 62/200 [00:26<00:57,  2.39it/s]\n",
      "EP_61 | train loss: 0.39223764924442067 | val loss: 0.32960621808089463 |\n",
      "Epoch:  32%|███▏      | 63/200 [00:26<00:57,  2.40it/s]\n",
      "EP_62 | train loss: 0.390329496533263 | val loss: 0.3319346273646635 |\n",
      "Epoch:  32%|███▏      | 64/200 [00:27<00:57,  2.36it/s]\n",
      "EP_63 | train loss: 0.3892747822929831 | val loss: 0.32659238635324966 |\n",
      "Epoch:  32%|███▎      | 65/200 [00:27<00:56,  2.39it/s]\n",
      "EP_64 | train loss: 0.38654136657714844 | val loss: 0.3268125039689681 |\n",
      "Epoch:  33%|███▎      | 66/200 [00:27<00:56,  2.39it/s]\n",
      "EP_65 | train loss: 0.38473971404281315 | val loss: 0.3261820738222085 |\n",
      "Epoch:  34%|███▎      | 67/200 [00:28<00:54,  2.43it/s]\n",
      "EP_66 | train loss: 0.383632080227721 | val loss: 0.3291425377714868 |\n",
      "Epoch:  34%|███▍      | 68/200 [00:28<00:53,  2.46it/s]\n",
      "EP_67 | train loss: 0.3860171827615476 | val loss: 0.33307427693815794 |\n",
      "Epoch:  34%|███▍      | 69/200 [00:29<00:53,  2.47it/s]\n",
      "EP_68 | train loss: 0.37687399153615914 | val loss: 0.3219814557655185 |\n",
      "Epoch:  35%|███▌      | 70/200 [00:29<00:53,  2.43it/s]\n",
      "EP_69 | train loss: 0.37416769009010464 | val loss: 0.3200223428361556 |\n",
      "Epoch:  36%|███▌      | 71/200 [00:29<00:53,  2.40it/s]\n",
      "EP_70 | train loss: 0.37167160370770624 | val loss: 0.321410921274447 |\n",
      "Epoch:  36%|███▌      | 72/200 [00:30<00:53,  2.41it/s]\n",
      "EP_71 | train loss: 0.3715351020588594 | val loss: 0.320887928499895 |\n",
      "Epoch:  36%|███▋      | 73/200 [00:30<00:52,  2.43it/s]\n",
      "EP_72 | train loss: 0.36900074575461594 | val loss: 0.31940506603203567 |\n",
      "Epoch:  37%|███▋      | 74/200 [00:31<00:51,  2.47it/s]\n",
      "EP_73 | train loss: 0.364506521879458 | val loss: 0.3161341957017487 |\n",
      "Epoch:  38%|███▊      | 75/200 [00:31<00:50,  2.50it/s]\n",
      "EP_74 | train loss: 0.36150734751832253 | val loss: 0.3150579105405247 |\n",
      "Epoch:  38%|███▊      | 76/200 [00:31<00:49,  2.49it/s]\n",
      "EP_75 | train loss: 0.36016056958366843 | val loss: 0.31383952907487456 |\n",
      "Epoch:  38%|███▊      | 77/200 [00:32<00:48,  2.52it/s]\n",
      "EP_76 | train loss: 0.35890768556033864 | val loss: 0.312501193261614 |\n",
      "Epoch:  39%|███▉      | 78/200 [00:32<00:48,  2.53it/s]\n",
      "EP_77 | train loss: 0.3553028527428122 | val loss: 0.31055156389872235 |\n",
      "Epoch:  40%|███▉      | 79/200 [00:33<00:47,  2.55it/s]\n",
      "EP_78 | train loss: 0.35086568383609545 | val loss: 0.30854066212972003 |\n",
      "Epoch:  40%|████      | 80/200 [00:33<00:46,  2.56it/s]\n",
      "EP_79 | train loss: 0.3496947096843345 | val loss: 0.30723949624042884 |\n",
      "Epoch:  40%|████      | 81/200 [00:33<00:46,  2.54it/s]\n",
      "EP_80 | train loss: 0.34830901482525994 | val loss: 0.307800994199865 |\n",
      "Epoch:  41%|████      | 82/200 [00:34<00:47,  2.50it/s]\n",
      "EP_81 | train loss: 0.34378369322010116 | val loss: 0.30565501486553864 |\n",
      "Epoch:  42%|████▏     | 83/200 [00:34<00:47,  2.46it/s]\n",
      "EP_82 | train loss: 0.34163052147510004 | val loss: 0.30454198811568467 |\n",
      "Epoch:  42%|████▏     | 84/200 [00:35<00:46,  2.49it/s]\n",
      "EP_83 | train loss: 0.338323901681339 | val loss: 0.30365553673575907 |\n",
      "Epoch:  42%|████▎     | 85/200 [00:35<00:46,  2.46it/s]\n",
      "EP_84 | train loss: 0.3353896879682354 | val loss: 0.3016403492759256 |\n",
      "Epoch:  43%|████▎     | 86/200 [00:35<00:46,  2.45it/s]\n",
      "EP_85 | train loss: 0.33122761763778386 | val loss: 0.2979798755225013 |\n",
      "Epoch:  44%|████▎     | 87/200 [00:36<00:45,  2.47it/s]\n",
      "EP_86 | train loss: 0.32932381957185036 | val loss: 0.29741884095996035 |\n",
      "Epoch:  44%|████▍     | 88/200 [00:36<00:45,  2.45it/s]\n",
      "EP_87 | train loss: 0.3246868886199652 | val loss: 0.2956998003464119 |\n",
      "Epoch:  44%|████▍     | 89/200 [00:37<00:44,  2.48it/s]\n",
      "EP_88 | train loss: 0.3229299601386575 | val loss: 0.29253264501983045 |\n",
      "Epoch:  45%|████▌     | 90/200 [00:37<00:43,  2.50it/s]\n",
      "EP_89 | train loss: 0.3196754595812629 | val loss: 0.2907644708951314 |\n",
      "Epoch:  46%|████▌     | 91/200 [00:37<00:43,  2.50it/s]\n",
      "EP_90 | train loss: 0.3161019895590988 | val loss: 0.29061538097905176 |\n",
      "Epoch:  46%|████▌     | 92/200 [00:38<00:43,  2.49it/s]\n",
      "EP_91 | train loss: 0.3152855307448144 | val loss: 0.2881990823091245 |\n",
      "Epoch:  46%|████▋     | 93/200 [00:38<00:42,  2.51it/s]\n",
      "EP_92 | train loss: 0.30957632953045416 | val loss: 0.2848352637945437 |\n",
      "Epoch:  47%|████▋     | 94/200 [00:39<00:42,  2.50it/s]\n",
      "EP_93 | train loss: 0.307166677830266 | val loss: 0.2830771073406818 |\n",
      "Epoch:  48%|████▊     | 95/200 [00:39<00:41,  2.52it/s]\n",
      "EP_94 | train loss: 0.30174430819118725 | val loss: 0.28103963066549864 |\n",
      "Epoch:  48%|████▊     | 96/200 [00:39<00:42,  2.47it/s]\n",
      "EP_95 | train loss: 0.2982835797702565 | val loss: 0.27828459996803134 |\n",
      "Epoch:  48%|████▊     | 97/200 [00:40<00:42,  2.41it/s]\n",
      "EP_96 | train loss: 0.30231988196279486 | val loss: 0.2795824607213338 |\n",
      "Epoch:  49%|████▉     | 98/200 [00:40<00:41,  2.44it/s]\n",
      "EP_97 | train loss: 0.2947236004997702 | val loss: 0.27371154930077346 |\n",
      "Epoch:  50%|████▉     | 99/200 [00:41<00:41,  2.44it/s]\n",
      "EP_98 | train loss: 0.28840341941983094 | val loss: 0.2707408742577422 |\n",
      "Epoch:  50%|█████     | 100/200 [00:41<00:40,  2.47it/s]\n",
      "EP_99 | train loss: 0.28823854081770955 | val loss: 0.26998144212891073 |\n",
      "Epoch:  50%|█████     | 101/200 [00:41<00:40,  2.44it/s]\n",
      "EP_100 | train loss: 0.28020082455055384 | val loss: 0.26698360548299904 |\n",
      "Epoch:  51%|█████     | 102/200 [00:42<00:39,  2.46it/s]\n",
      "EP_101 | train loss: 0.27640287548887965 | val loss: 0.2653206142724729 |\n",
      "Epoch:  52%|█████▏    | 103/200 [00:42<00:38,  2.50it/s]\n",
      "EP_102 | train loss: 0.2739874180625467 | val loss: 0.2609116598671558 |\n",
      "Epoch:  52%|█████▏    | 104/200 [00:43<00:37,  2.53it/s]\n",
      "EP_103 | train loss: 0.27614211708891623 | val loss: 0.2612448317163131 |\n",
      "Epoch:  52%|█████▎    | 105/200 [00:43<00:37,  2.54it/s]\n",
      "EP_104 | train loss: 0.2660612484988044 | val loss: 0.25308430837649926 |\n",
      "Epoch:  53%|█████▎    | 106/200 [00:43<00:37,  2.52it/s]\n",
      "EP_105 | train loss: 0.2607104418324489 | val loss: 0.24994786054480309 |\n",
      "Epoch:  54%|█████▎    | 107/200 [00:44<00:36,  2.52it/s]\n",
      "EP_106 | train loss: 0.2574349730622535 | val loss: 0.2498679307161593 |\n",
      "Epoch:  54%|█████▍    | 108/200 [00:44<00:36,  2.53it/s]\n",
      "EP_107 | train loss: 0.2551251257167143 | val loss: 0.2460498640350267 |\n",
      "Epoch:  55%|█████▍    | 109/200 [00:45<00:35,  2.53it/s]\n",
      "EP_108 | train loss: 0.25097835297678034 | val loss: 0.24178230879353543 |\n",
      "Epoch:  55%|█████▌    | 110/200 [00:45<00:35,  2.55it/s]\n",
      "EP_109 | train loss: 0.24372181985892502 | val loss: 0.23824001702607847 |\n",
      "Epoch:  56%|█████▌    | 111/200 [00:45<00:35,  2.52it/s]\n",
      "EP_110 | train loss: 0.24594177592034433 | val loss: 0.23623362943237902 |\n",
      "Epoch:  56%|█████▌    | 112/200 [00:46<00:35,  2.49it/s]\n",
      "EP_111 | train loss: 0.23832431961508357 | val loss: 0.22998911259221097 |\n",
      "Epoch:  56%|█████▋    | 113/200 [00:46<00:35,  2.47it/s]\n",
      "EP_112 | train loss: 0.23228871214623545 | val loss: 0.23135568230759865 |\n",
      "Epoch:  57%|█████▋    | 114/200 [00:47<00:35,  2.44it/s]\n",
      "EP_113 | train loss: 0.2281977560005936 | val loss: 0.2251258504156973 |\n",
      "Epoch:  57%|█████▊    | 115/200 [00:47<00:35,  2.40it/s]\n",
      "EP_114 | train loss: 0.22375441485760258 | val loss: 0.2184560357355604 |\n",
      "Epoch:  58%|█████▊    | 116/200 [00:48<00:35,  2.36it/s]\n",
      "EP_115 | train loss: 0.22077482447904698 | val loss: 0.22065923026963777 |\n",
      "Epoch:  58%|█████▊    | 117/200 [00:48<00:36,  2.30it/s]\n",
      "EP_116 | train loss: 0.21589963716619154 | val loss: 0.2118030120344723 |\n",
      "Epoch:  59%|█████▉    | 118/200 [00:48<00:36,  2.26it/s]\n",
      "EP_117 | train loss: 0.22062032690235212 | val loss: 0.21045784681451088 |\n",
      "Epoch:  60%|█████▉    | 119/200 [00:49<00:36,  2.21it/s]\n",
      "EP_118 | train loss: 0.20815500511842616 | val loss: 0.2016632930905211 |\n",
      "Epoch:  60%|██████    | 120/200 [00:49<00:36,  2.19it/s]\n",
      "EP_119 | train loss: 0.20252139428082636 | val loss: 0.1973374193789912 |\n",
      "Epoch:  60%|██████    | 121/200 [00:50<00:36,  2.15it/s]\n",
      "EP_120 | train loss: 0.19802794175989488 | val loss: 0.1971130108132082 |\n",
      "Epoch:  61%|██████    | 122/200 [00:50<00:35,  2.20it/s]\n",
      "EP_121 | train loss: 0.1985055128733317 | val loss: 0.1914182404677073 |\n",
      "Epoch:  62%|██████▏   | 123/200 [00:51<00:35,  2.18it/s]\n",
      "EP_122 | train loss: 0.18758970101674396 | val loss: 0.18683217611967348 |\n",
      "Epoch:  62%|██████▏   | 124/200 [00:51<00:34,  2.23it/s]\n",
      "EP_123 | train loss: 0.18333302736282348 | val loss: 0.17958139029203676 |\n",
      "Epoch:  62%|██████▎   | 125/200 [00:52<00:33,  2.23it/s]\n",
      "EP_124 | train loss: 0.17826621438942702 | val loss: 0.17684921330096676 |\n",
      "Epoch:  63%|██████▎   | 126/200 [00:52<00:33,  2.20it/s]\n",
      "EP_125 | train loss: 0.17524678707122804 | val loss: 0.16891457637151083 |\n",
      "Epoch:  64%|██████▎   | 127/200 [00:53<00:32,  2.22it/s]\n",
      "EP_126 | train loss: 0.170542092183057 | val loss: 0.16455880625575198 |\n",
      "Epoch:  64%|██████▍   | 128/200 [00:53<00:31,  2.29it/s]\n",
      "EP_127 | train loss: 0.16433693801655488 | val loss: 0.16219940080362208 |\n",
      "Epoch:  64%|██████▍   | 129/200 [00:53<00:30,  2.35it/s]\n",
      "EP_128 | train loss: 0.15911679945740045 | val loss: 0.15633778478585036 |\n",
      "Epoch:  65%|██████▌   | 130/200 [00:54<00:29,  2.35it/s]\n",
      "EP_129 | train loss: 0.15475892319398768 | val loss: 0.15459530961279774 |\n",
      "Epoch:  66%|██████▌   | 131/200 [00:54<00:29,  2.37it/s]\n",
      "EP_130 | train loss: 0.15017404509525673 | val loss: 0.14816407362620035 |\n",
      "Epoch:  66%|██████▌   | 132/200 [00:55<00:28,  2.41it/s]\n",
      "EP_131 | train loss: 0.14615435319788317 | val loss: 0.1440567502788469 |\n",
      "Epoch:  66%|██████▋   | 133/200 [00:55<00:27,  2.43it/s]\n",
      "EP_132 | train loss: 0.14080659665313422 | val loss: 0.13857008779750152 |\n",
      "Epoch:  67%|██████▋   | 134/200 [00:55<00:26,  2.45it/s]\n",
      "EP_133 | train loss: 0.13720783275716444 | val loss: 0.13781057268965477 |\n",
      "Epoch:  68%|██████▊   | 135/200 [00:56<00:26,  2.48it/s]\n",
      "EP_134 | train loss: 0.13292215688555847 | val loss: 0.12671231054792217 |\n",
      "Epoch:  68%|██████▊   | 136/200 [00:56<00:25,  2.48it/s]\n",
      "EP_135 | train loss: 0.12780709570529414 | val loss: 0.1268184418771781 |\n",
      "Epoch:  68%|██████▊   | 137/200 [00:57<00:25,  2.46it/s]\n",
      "EP_136 | train loss: 0.14682003399905036 | val loss: 0.13250194343866087 |\n",
      "Epoch:  69%|██████▉   | 138/200 [00:57<00:25,  2.43it/s]\n",
      "EP_137 | train loss: 0.1238955537478129 | val loss: 0.1275193726315218 |\n",
      "Epoch:  70%|██████▉   | 139/200 [00:57<00:25,  2.41it/s]\n",
      "EP_138 | train loss: 0.11468112936206892 | val loss: 0.11390790752336091 |\n",
      "Epoch:  70%|███████   | 140/200 [00:58<00:25,  2.35it/s]\n",
      "EP_139 | train loss: 0.11281239682552861 | val loss: 0.107387361573238 |\n",
      "Epoch:  70%|███████   | 141/200 [00:58<00:25,  2.32it/s]\n",
      "EP_140 | train loss: 0.10628359972261915 | val loss: 0.10250814171398387 |\n",
      "Epoch:  71%|███████   | 142/200 [00:59<00:24,  2.35it/s]\n",
      "EP_141 | train loss: 0.11078197862587723 | val loss: 0.11650435363545138 |\n",
      "Epoch:  72%|███████▏  | 143/200 [00:59<00:24,  2.33it/s]\n",
      "EP_142 | train loss: 0.10037392459663691 | val loss: 0.10039177361656637 |\n",
      "Epoch:  72%|███████▏  | 144/200 [01:00<00:23,  2.35it/s]\n",
      "EP_143 | train loss: 0.09464264874364815 | val loss: 0.09702146550019582 |\n",
      "Epoch:  72%|███████▎  | 145/200 [01:00<00:23,  2.36it/s]\n",
      "EP_144 | train loss: 0.08943431505969926 | val loss: 0.08868560253405104 |\n",
      "Epoch:  73%|███████▎  | 146/200 [01:01<00:23,  2.31it/s]\n",
      "EP_145 | train loss: 0.08973104649899052 | val loss: 0.08677496629602768 |\n",
      "Epoch:  74%|███████▎  | 147/200 [01:01<00:22,  2.32it/s]\n",
      "EP_146 | train loss: 0.08214914120879828 | val loss: 0.08009270476359948 |\n",
      "Epoch:  74%|███████▍  | 148/200 [01:01<00:22,  2.32it/s]\n",
      "EP_147 | train loss: 0.0825592720041088 | val loss: 0.08046053145446029 |\n",
      "Epoch:  74%|███████▍  | 149/200 [01:02<00:21,  2.33it/s]\n",
      "EP_148 | train loss: 0.0775518349572724 | val loss: 0.07651887103623035 |\n",
      "Epoch:  75%|███████▌  | 150/200 [01:02<00:21,  2.28it/s]\n",
      "EP_149 | train loss: 0.07159676657003515 | val loss: 0.07388533447303024 |\n",
      "Epoch:  76%|███████▌  | 151/200 [01:03<00:21,  2.28it/s]\n",
      "EP_150 | train loss: 0.06916693063343272 | val loss: 0.06833399247889425 |\n",
      "Epoch:  76%|███████▌  | 152/200 [01:03<00:20,  2.30it/s]\n",
      "EP_151 | train loss: 0.06546919147173563 | val loss: 0.06718450492503596 |\n",
      "Epoch:  76%|███████▋  | 153/200 [01:04<00:20,  2.30it/s]\n",
      "EP_152 | train loss: 0.06551854949371487 | val loss: 0.06285547392041076 |\n",
      "Epoch:  77%|███████▋  | 154/200 [01:04<00:20,  2.28it/s]\n",
      "EP_153 | train loss: 0.07316512979713141 | val loss: 0.06925327199346878 |\n",
      "Epoch:  78%|███████▊  | 155/200 [01:04<00:19,  2.30it/s]\n",
      "EP_154 | train loss: 0.06992103527573978 | val loss: 0.06519750403422936 |\n",
      "Epoch:  78%|███████▊  | 156/200 [01:05<00:19,  2.27it/s]\n",
      "EP_155 | train loss: 0.05474734247899523 | val loss: 0.05859221079770256 |\n",
      "Epoch:  78%|███████▊  | 157/200 [01:05<00:18,  2.31it/s]\n",
      "EP_156 | train loss: 0.07516628503799438 | val loss: 0.06905620851937462 |\n",
      "Epoch:  79%|███████▉  | 158/200 [01:06<00:18,  2.33it/s]\n",
      "EP_157 | train loss: 0.056091547129200954 | val loss: 0.06603293617566426 |\n",
      "Epoch:  80%|███████▉  | 159/200 [01:06<00:17,  2.35it/s]\n",
      "EP_158 | train loss: 0.047457911337123196 | val loss: 0.04967318796644024 |\n",
      "Epoch:  80%|████████  | 160/200 [01:07<00:16,  2.37it/s]\n",
      "EP_159 | train loss: 0.05486749784619201 | val loss: 0.05452369562551087 |\n",
      "Epoch:  80%|████████  | 161/200 [01:07<00:16,  2.33it/s]\n",
      "EP_160 | train loss: 0.044984884121838736 | val loss: 0.05167329837294186 |\n",
      "Epoch:  81%|████████  | 162/200 [01:07<00:16,  2.30it/s]\n",
      "EP_161 | train loss: 0.051333799432305725 | val loss: 0.04883907735347748 |\n",
      "Epoch:  82%|████████▏ | 163/200 [01:08<00:16,  2.28it/s]\n",
      "EP_162 | train loss: 0.04057254557516061 | val loss: 0.04115484333505817 |\n",
      "Epoch:  82%|████████▏ | 164/200 [01:08<00:15,  2.34it/s]\n",
      "EP_163 | train loss: 0.03773215816301458 | val loss: 0.04132962256085639 |\n",
      "Epoch:  82%|████████▎ | 165/200 [01:09<00:14,  2.38it/s]\n",
      "EP_164 | train loss: 0.03666591866343629 | val loss: 0.039424468343164404 |\n",
      "Epoch:  83%|████████▎ | 166/200 [01:09<00:14,  2.38it/s]\n",
      "EP_165 | train loss: 0.03456660386394052 | val loss: 0.038323152591200435 |\n",
      "Epoch:  84%|████████▎ | 167/200 [01:10<00:13,  2.41it/s]\n",
      "EP_166 | train loss: 0.03489656419146295 | val loss: 0.03732063533628688 |\n",
      "Epoch:  84%|████████▍ | 168/200 [01:10<00:13,  2.46it/s]\n",
      "EP_167 | train loss: 0.035700979244475274 | val loss: 0.036007814985864306 |\n",
      "Epoch:  84%|████████▍ | 169/200 [01:10<00:12,  2.50it/s]\n",
      "EP_168 | train loss: 0.04448560739264769 | val loss: 0.05435346096169715 |\n",
      "Epoch:  85%|████████▌ | 170/200 [01:11<00:11,  2.52it/s]\n",
      "EP_169 | train loss: 0.0315339309035563 | val loss: 0.03875964032668693 |\n",
      "Epoch:  86%|████████▌ | 171/200 [01:11<00:11,  2.51it/s]\n",
      "EP_170 | train loss: 0.031506414740693336 | val loss: 0.03743376918867523 |\n",
      "Epoch:  86%|████████▌ | 172/200 [01:11<00:11,  2.53it/s]\n",
      "EP_171 | train loss: 0.026337041340622248 | val loss: 0.029852319581835877 |\n",
      "Epoch:  86%|████████▋ | 173/200 [01:12<00:10,  2.48it/s]\n",
      "EP_172 | train loss: 0.025221052239922916 | val loss: 0.03072504034521533 |\n",
      "Epoch:  87%|████████▋ | 174/200 [01:12<00:10,  2.47it/s]\n",
      "EP_173 | train loss: 0.024923585939641092 | val loss: 0.028868209643691193 |\n",
      "Epoch:  88%|████████▊ | 175/200 [01:13<00:10,  2.49it/s]\n",
      "EP_174 | train loss: 0.023138395799141304 | val loss: 0.02703498449980044 |\n",
      "Epoch:  88%|████████▊ | 176/200 [01:13<00:09,  2.48it/s]\n",
      "EP_175 | train loss: 0.02403126408656438 | val loss: 0.03106787917660732 |\n",
      "Epoch:  88%|████████▊ | 177/200 [01:13<00:09,  2.50it/s]\n",
      "EP_176 | train loss: 0.020834016799926757 | val loss: 0.024557305463388853 |\n",
      "Epoch:  89%|████████▉ | 178/200 [01:14<00:08,  2.52it/s]\n",
      "EP_177 | train loss: 0.022245446168908885 | val loss: 0.027848698637064767 |\n",
      "Epoch:  90%|████████▉ | 179/200 [01:14<00:08,  2.55it/s]\n",
      "EP_178 | train loss: 0.020321407154494642 | val loss: 0.022992503701471816 |\n",
      "Epoch:  90%|█████████ | 180/200 [01:15<00:07,  2.56it/s]\n",
      "EP_179 | train loss: 0.020409195563372444 | val loss: 0.026372616051458846 |\n",
      "Epoch:  90%|█████████ | 181/200 [01:15<00:07,  2.45it/s]\n",
      "EP_180 | train loss: 0.020830779946317858 | val loss: 0.021601315660803925 |\n",
      "Epoch:  91%|█████████ | 182/200 [01:15<00:07,  2.48it/s]\n",
      "EP_181 | train loss: 0.016855222512693967 | val loss: 0.021896523880023583 |\n",
      "Epoch:  92%|█████████▏| 183/200 [01:16<00:06,  2.52it/s]\n",
      "EP_182 | train loss: 0.019825589656829835 | val loss: 0.02022998736185186 |\n",
      "Epoch:  92%|█████████▏| 184/200 [01:16<00:06,  2.47it/s]\n",
      "EP_183 | train loss: 0.015508770183020947 | val loss: 0.01914468290759068 |\n",
      "Epoch:  92%|█████████▎| 185/200 [01:17<00:06,  2.46it/s]\n",
      "EP_184 | train loss: 0.017907861021219516 | val loss: 0.01881047542773041 |\n",
      "Epoch:  93%|█████████▎| 186/200 [01:17<00:05,  2.45it/s]\n",
      "EP_185 | train loss: 0.015819422608497096 | val loss: 0.021461535829539392 |\n",
      "Epoch:  94%|█████████▎| 187/200 [01:17<00:05,  2.48it/s]\n",
      "EP_186 | train loss: 0.024756889308200164 | val loss: 0.023994343391820497 |\n",
      "Epoch:  94%|█████████▍| 188/200 [01:18<00:04,  2.49it/s]\n",
      "EP_187 | train loss: 0.020523772900011027 | val loss: 0.019147905356743756 |\n",
      "Epoch:  94%|█████████▍| 189/200 [01:18<00:04,  2.52it/s]\n",
      "EP_188 | train loss: 0.013254050150805828 | val loss: 0.01641990511002494 |\n",
      "Epoch:  95%|█████████▌| 190/200 [01:19<00:03,  2.53it/s]\n",
      "EP_189 | train loss: 0.01289898681582189 | val loss: 0.018444329134973826 |\n",
      "Epoch:  96%|█████████▌| 191/200 [01:19<00:03,  2.51it/s]\n",
      "EP_190 | train loss: 0.0147653681974785 | val loss: 0.015808027529833363 |\n",
      "Epoch:  96%|█████████▌| 192/200 [01:19<00:03,  2.52it/s]\n",
      "EP_191 | train loss: 0.011817997825496336 | val loss: 0.016584565899535723 |\n",
      "Epoch:  96%|█████████▋| 193/200 [01:20<00:02,  2.53it/s]\n",
      "EP_192 | train loss: 0.015401962399482726 | val loss: 0.01651204238627471 |\n",
      "Epoch:  97%|█████████▋| 194/200 [01:20<00:02,  2.55it/s]\n",
      "EP_193 | train loss: 0.011632381028988783 | val loss: 0.01389822451507344 |\n",
      "Epoch:  98%|█████████▊| 195/200 [01:21<00:01,  2.55it/s]\n",
      "EP_194 | train loss: 0.015281744476626901 | val loss: 0.02238941703941308 |\n",
      "Epoch:  98%|█████████▊| 196/200 [01:21<00:01,  2.50it/s]\n",
      "EP_195 | train loss: 0.010046202455665551 | val loss: 0.013245868916605032 |\n",
      "Epoch:  98%|█████████▊| 197/200 [01:21<00:01,  2.53it/s]\n",
      "EP_196 | train loss: 0.009944832383417616 | val loss: 0.012650664384458579 |\n",
      "Epoch:  99%|█████████▉| 198/200 [01:22<00:00,  2.54it/s]\n",
      "EP_197 | train loss: 0.011526389916737875 | val loss: 0.012297718402217417 |\n",
      "Epoch: 100%|█████████▉| 199/200 [01:22<00:00,  2.55it/s]\n",
      "EP_198 | train loss: 0.00942356231458047 | val loss: 0.012510409249978907 |\n",
      "Epoch: 100%|██████████| 200/200 [01:23<00:00,  2.41it/s]\n",
      "EP_199 | train loss: 0.01322560316207362 | val loss: 0.013153423281276928 |\n",
      "\n"
     ]
    }
   ],
   "source": [
    "AttractiveTrainer.train()"
   ]
  },
  {
   "cell_type": "markdown",
   "metadata": {},
   "source": [
    "## for classification, not better"
   ]
  },
  {
   "cell_type": "markdown",
   "metadata": {},
   "source": [
    "## Below is testing"
   ]
  },
  {
   "cell_type": "code",
   "execution_count": 8,
   "metadata": {},
   "outputs": [
    {
     "output_type": "execute_result",
     "data": {
      "text/plain": [
       "AttractiveNet(\n",
       "  (embedding): AttractiveEmbedding(\n",
       "    (token): TokenEmbedding(12699, 300, padding_idx=1)\n",
       "  )\n",
       "  (bigramcnn): Sequential(\n",
       "    (0): Conv1d(300, 200, kernel_size=(3,), stride=(1,), padding=(1,))\n",
       "    (1): ReLU()\n",
       "    (2): Conv1d(200, 100, kernel_size=(3,), stride=(1,), padding=(1,))\n",
       "    (3): ReLU()\n",
       "    (4): Dropout(p=0.3, inplace=False)\n",
       "  )\n",
       "  (trigramcnn): Sequential(\n",
       "    (0): Conv1d(300, 200, kernel_size=(3,), stride=(1,), padding=(1,))\n",
       "    (1): ReLU()\n",
       "    (2): Conv1d(200, 100, kernel_size=(3,), stride=(1,), padding=(1,))\n",
       "    (3): ReLU()\n",
       "    (4): Dropout(p=0.3, inplace=False)\n",
       "  )\n",
       "  (encoder_bigram_first): LSTM(100, 30, batch_first=True, dropout=0.3, bidirectional=True)\n",
       "  (encoder_trigram_first): LSTM(100, 30, batch_first=True, dropout=0.3, bidirectional=True)\n",
       "  (linear): Sequential(\n",
       "    (0): Linear(in_features=124, out_features=30, bias=True)\n",
       "    (1): ReLU()\n",
       "    (2): Linear(in_features=30, out_features=1, bias=True)\n",
       "  )\n",
       ")"
      ]
     },
     "metadata": {},
     "execution_count": 8
    }
   ],
   "source": [
    "from attractivenet import AttractiveNet\n",
    "\n",
    "PATH = './model/CNN_LSTM_20201106-123420/0.360161.75'\n",
    "\n",
    "load_model = AttractiveNet(config).to(AttractiveData.device)\n",
    "load_model.load_state_dict(torch.load(PATH))\n",
    "load_model.eval()"
   ]
  },
  {
   "cell_type": "code",
   "execution_count": 9,
   "metadata": {},
   "outputs": [],
   "source": [
    "def predict_attractive(sentence, category, phase):\n",
    "    indexed_sentence = [AttractiveData.TEXT.vocab.stoi[t] for t in sentence]\n",
    "    indexed_category = [AttractiveData.CATEGORIES_LABEL.vocab.stoi[category]]\n",
    "    tensor_sentence = torch.LongTensor(indexed_sentence).to(AttractiveData.device)\n",
    "    tensor_category = torch.LongTensor(indexed_category).to(AttractiveData.device)\n",
    "\n",
    "    tensor_sentence = tensor_sentence.unsqueeze(0)\n",
    "    # print(tensor_sentence.shape)\n",
    "\n",
    "    prediction = load_model(tensor_sentence, tensor_category, phase=phase)\n",
    "\n",
    "    return prediction"
   ]
  },
  {
   "cell_type": "code",
   "execution_count": 10,
   "metadata": {
    "tags": []
   },
   "outputs": [],
   "source": [
    "# train mean = 3.15, test mean = 2.8\n",
    "predict_list = []\n",
    "with torch.no_grad():\n",
    "    for i, sentence in enumerate(AttractiveData.test_data):\n",
    "        prediction = predict_attractive(sentence.Headline, sentence.Category, 'test')\n",
    "        predict_list.append(prediction.item())\n",
    "        # predict_list.append(prediction.item())\n",
    "AttractiveData.df_test['Label'] = predict_list\n",
    "AttractiveData.df_test[['ID', 'Label']].to_csv(config['save_name'] + '.csv', index=False)"
   ]
  },
  {
   "cell_type": "markdown",
   "metadata": {},
   "source": [
    "## Below for statistics"
   ]
  },
  {
   "cell_type": "code",
   "execution_count": 11,
   "metadata": {},
   "outputs": [],
   "source": [
    "import statistics\n",
    "from sklearn.metrics import mean_squared_error"
   ]
  },
  {
   "cell_type": "code",
   "execution_count": 12,
   "metadata": {},
   "outputs": [],
   "source": [
    "# # train mean = 3.15, test mean = 2.8\n",
    "# train_list = []\n",
    "# for i, sentence in enumerate(AttractiveData.train_data):\n",
    "#     prediction = predict_attractive(sentence.Headline, sentence.Category, 'train')\n",
    "#     train_list.append(prediction.item())\n",
    "#     # train_list.append(prediction.item())\n",
    "# # print(train_list)\n",
    "# mean_squared_error(pd.read_csv('data/train.csv').sort_values(['ID']).Label.to_list(), train_list), statistics.mean(train_list), statistics.stdev(train_list)"
   ]
  },
  {
   "cell_type": "code",
   "execution_count": 13,
   "metadata": {},
   "outputs": [],
   "source": [
    "# train_list[0:5], pd.read_csv('data/train.csv').sort_values(['ID']).Label.to_list()[0:5]"
   ]
  },
  {
   "cell_type": "code",
   "execution_count": 14,
   "metadata": {},
   "outputs": [],
   "source": [
    "# a = AttractiveData.df_train['Label'].to_list()\n",
    "# statistics.mean(a), statistics.stdev(a)"
   ]
  },
  {
   "cell_type": "code",
   "execution_count": 15,
   "metadata": {},
   "outputs": [
    {
     "output_type": "execute_result",
     "data": {
      "text/plain": [
       "(2.77773725146239, 0.3492044080872131)"
      ]
     },
     "metadata": {},
     "execution_count": 15
    }
   ],
   "source": [
    "statistics.mean(predict_list), statistics.stdev(predict_list)"
   ]
  },
  {
   "cell_type": "code",
   "execution_count": 16,
   "metadata": {},
   "outputs": [
    {
     "output_type": "execute_result",
     "data": {
      "text/plain": [
       "(0.022598352884181307, 2.832396388579045, 0.3599597701326745)"
      ]
     },
     "metadata": {},
     "execution_count": 16
    }
   ],
   "source": [
    "baseline_list = pd.read_csv('baseline.csv').sort_values(['ID']).Label.to_list()\n",
    "mean_squared_error(baseline_list, predict_list), statistics.mean(baseline_list), statistics.stdev(baseline_list)"
   ]
  },
  {
   "cell_type": "code",
   "execution_count": null,
   "metadata": {},
   "outputs": [],
   "source": []
  },
  {
   "cell_type": "code",
   "execution_count": 18,
   "metadata": {},
   "outputs": [
    {
     "data": {
      "text/plain": [
       "0.1609754968529207"
      ]
     },
     "execution_count": 18,
     "metadata": {},
     "output_type": "execute_result"
    }
   ],
   "source": [
    "mean_squared_error(pd.read_csv('baseline.csv').sort_values(['ID']).Label.to_list(), pd.read_csv('./predict/ensemble.csv').sort_values(['ID']).Label.to_list())"
   ]
  },
  {
   "cell_type": "code",
   "execution_count": 10,
   "metadata": {},
   "outputs": [],
   "source": [
    "from sklearn.model_selection import KFold\n",
    "import numpy as np"
   ]
  },
  {
   "cell_type": "code",
   "execution_count": 11,
   "metadata": {},
   "outputs": [],
   "source": []
  },
  {
   "cell_type": "code",
   "execution_count": 12,
   "metadata": {},
   "outputs": [
    {
     "data": {
      "text/plain": [
       "2040"
      ]
     },
     "execution_count": 12,
     "metadata": {},
     "output_type": "execute_result"
    }
   ],
   "source": [
    "len(AttractiveData.train_data.examples)"
   ]
  },
  {
   "cell_type": "code",
   "execution_count": 13,
   "metadata": {},
   "outputs": [],
   "source": []
  },
  {
   "cell_type": "code",
   "execution_count": null,
   "metadata": {},
   "outputs": [],
   "source": []
  }
 ],
 "metadata": {
  "kernelspec": {
   "display_name": "DS_hw2",
   "language": "python",
   "name": "ds_hw2"
  },
  "language_info": {
   "codemirror_mode": {
    "name": "ipython",
    "version": 3
   },
   "file_extension": ".py",
   "mimetype": "text/x-python",
   "name": "python",
   "nbconvert_exporter": "python",
   "pygments_lexer": "ipython3",
   "version": "3.6.12-final"
  }
 },
 "nbformat": 4,
 "nbformat_minor": 4
}