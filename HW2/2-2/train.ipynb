{
 "cells": [
  {
   "cell_type": "code",
   "execution_count": 1,
   "metadata": {},
   "outputs": [],
   "source": [
    "# common packages\n",
    "import pandas as pd\n",
    "import time\n",
    "\n",
    "# # DL framework\n",
    "import torch\n",
    "from torchtext import data\n",
    "\n",
    "from attractivedata import AttractiveData\n",
    "from trainer import AttractiveTrainer"
   ]
  },
  {
   "cell_type": "markdown",
   "metadata": {},
   "source": [
    "## Load and prepare data"
   ]
  },
  {
   "cell_type": "code",
   "execution_count": 2,
   "metadata": {},
   "outputs": [],
   "source": [
    "train_file = 'example/train.csv'\n",
    "val_file = 'example/val.csv'\n",
    "test_file = 'data/test.csv'\n",
    "pretrained_file = 'glove.840B.300d'\n",
    "config = {\n",
    "    'max_seq': 40,\n",
    "    'min_freq': 0,\n",
    "    'batch_size': 64,\n",
    "    'pretrained_file': pretrained_file\n",
    "}\n"
   ]
  },
  {
   "cell_type": "code",
   "execution_count": 3,
   "metadata": {},
   "outputs": [],
   "source": [
    "AttractiveData = AttractiveData(train_file, val_file, test_file, pretrained_file, config)"
   ]
  },
  {
   "cell_type": "code",
   "execution_count": 4,
   "metadata": {},
   "outputs": [],
   "source": [
    "# for i, sentence in enumerate(AttractiveData.test_data):\n",
    "#     if i == 3:\n",
    "#         print(vars(AttractiveData.train_data[i]), vars(sentence))"
   ]
  },
  {
   "cell_type": "code",
   "execution_count": 5,
   "metadata": {},
   "outputs": [
    {
     "output_type": "execute_result",
     "data": {
      "text/plain": [
       "18"
      ]
     },
     "metadata": {},
     "execution_count": 5
    }
   ],
   "source": [
    "len(AttractiveData.CATEGORIES_LABEL.vocab.freqs)"
   ]
  },
  {
   "cell_type": "code",
   "execution_count": 6,
   "metadata": {},
   "outputs": [
    {
     "output_type": "execute_result",
     "data": {
      "text/plain": [
       "39"
      ]
     },
     "metadata": {},
     "execution_count": 6
    }
   ],
   "source": [
    "max_len = 0\n",
    "a = AttractiveData.train_data\n",
    "for i in range(len(a)):\n",
    "    if len(a[i].Headline) >= max_len:\n",
    "        max_len = len(a[i].Headline)\n",
    "max_len"
   ]
  },
  {
   "cell_type": "markdown",
   "metadata": {},
   "source": [
    "## Start to train"
   ]
  },
  {
   "cell_type": "code",
   "execution_count": 7,
   "metadata": {},
   "outputs": [
    {
     "output_type": "stream",
     "name": "stdout",
     "text": [
      "torch.Size([11861, 300])\n"
     ]
    }
   ],
   "source": [
    "config['timestr'] = time.strftime(\"%Y%m%d-%H%M%S\")\n",
    "config['save_name'] = 'CNN_LSTM'\n",
    "config['input_dim'] = len(AttractiveData.TEXT.vocab)\n",
    "config['embedding_dim'] = 300\n",
    "config['category_dim'] = len(AttractiveData.CATEGORIES_LABEL.vocab)\n",
    "config['category_embedding_dim'] = 8\n",
    "config['hidden_dim'] = 30\n",
    "config['output_dim'] = 1\n",
    "config['log_steps'] = 10\n",
    "config['epochs'] = 200\n",
    "config['lr'] = {\n",
    "    'encoder': 6e-6,\n",
    "    'embedding': 6e-6,\n",
    "    'linear': 6e-6\n",
    "}\n",
    "config['num_layers'] = 1\n",
    "config['kernel_size'] = 3\n",
    "config['dropout'] = 0.1\n",
    "config['train_len'] = AttractiveData.train_len\n",
    "config['val_len'] = AttractiveData.val_len\n",
    "config['test_len'] = AttractiveData.test_len\n",
    "\n",
    "pretrained_embeddings = AttractiveData.TEXT.vocab.vectors\n",
    "print(pretrained_embeddings.shape)"
   ]
  },
  {
   "cell_type": "code",
   "execution_count": 8,
   "metadata": {},
   "outputs": [],
   "source": [
    "AttractiveTrainer = AttractiveTrainer(config, AttractiveData.device, AttractiveData.trainloader, AttractiveData.valloader, pretrained_embeddings)"
   ]
  },
  {
   "cell_type": "code",
   "execution_count": 9,
   "metadata": {},
   "outputs": [
    {
     "output_type": "execute_result",
     "data": {
      "text/plain": [
       "(AttractiveNet(\n",
       "   (embedding): AttractiveEmbedding(\n",
       "     (token): TokenEmbedding(11861, 300, padding_idx=1)\n",
       "   )\n",
       "   (bigramcnn): Sequential(\n",
       "     (0): Conv1d(300, 200, kernel_size=(3,), stride=(1,), padding=(1,))\n",
       "     (1): ReLU()\n",
       "     (2): Conv1d(200, 100, kernel_size=(3,), stride=(1,), padding=(1,))\n",
       "     (3): ReLU()\n",
       "   )\n",
       "   (trigramcnn): Sequential(\n",
       "     (0): Conv1d(300, 200, kernel_size=(3,), stride=(1,), padding=(1,))\n",
       "     (1): ReLU()\n",
       "     (2): Conv1d(200, 100, kernel_size=(3,), stride=(1,), padding=(1,))\n",
       "     (3): ReLU()\n",
       "   )\n",
       "   (encoder_bigram): LSTM(100, 30, batch_first=True, dropout=0.1, bidirectional=True)\n",
       "   (encoder_trigram): LSTM(100, 30, batch_first=True, dropout=0.1, bidirectional=True)\n",
       "   (linear): Sequential(\n",
       "     (0): Linear(in_features=120, out_features=30, bias=True)\n",
       "     (1): ReLU()\n",
       "     (2): Linear(in_features=30, out_features=1, bias=True)\n",
       "   )\n",
       " ),\n",
       " 4105921,\n",
       " 4105921)"
      ]
     },
     "metadata": {},
     "execution_count": 9
    }
   ],
   "source": [
    "AttractiveTrainer.model, AttractiveTrainer.config['total_params'], AttractiveTrainer.config['total_learned_params']"
   ]
  },
  {
   "cell_type": "code",
   "execution_count": 10,
   "metadata": {
    "tags": [
     "outputPrepend"
    ]
   },
   "outputs": [
    {
     "output_type": "stream",
     "name": "stderr",
     "text": [
      "/s]\n",
      "EP_train | train loss: 0.47022932547110097 | val loss: 0.43780024846394855 |\n",
      "====\n",
      "Epoch:  28%|██▊       | 56/200 [00:20<00:50,  2.85it/s]\n",
      "EP_train | train loss: 0.4699070791273595 | val loss: 0.42959607231850716 |\n",
      "====\n",
      "Epoch:  28%|██▊       | 57/200 [00:20<00:49,  2.86it/s]\n",
      "EP_train | train loss: 0.4650959282918693 | val loss: 0.42912347293367575 |\n",
      "====\n",
      "Epoch:  29%|██▉       | 58/200 [00:20<00:49,  2.87it/s]\n",
      "EP_train | train loss: 0.46394664269906505 | val loss: 0.4235898162804398 |\n",
      "====\n",
      "Epoch:  30%|██▉       | 59/200 [00:21<00:48,  2.88it/s]\n",
      "EP_train | train loss: 0.45927522592814657 | val loss: 0.4183504850256677 |\n",
      "====\n",
      "Epoch:  30%|███       | 60/200 [00:21<00:48,  2.88it/s]\n",
      "EP_train | train loss: 0.4583533147840978 | val loss: 0.4157075472906524 |\n",
      "====\n",
      "Epoch:  30%|███       | 61/200 [00:21<00:48,  2.84it/s]\n",
      "EP_train | train loss: 0.45625724044500615 | val loss: 0.41315676534877105 |\n",
      "====\n",
      "Epoch:  31%|███       | 62/200 [00:22<00:48,  2.86it/s]\n",
      "EP_train | train loss: 0.4551087994461226 | val loss: 0.4107605616251628 |\n",
      "====\n",
      "Epoch:  32%|███▏      | 63/200 [00:22<00:47,  2.86it/s]\n",
      "EP_train | train loss: 0.45188164347397214 | val loss: 0.40579789876937866 |\n",
      "====\n",
      "Epoch:  32%|███▏      | 64/200 [00:23<00:47,  2.88it/s]\n",
      "EP_train | train loss: 0.45154560521277465 | val loss: 0.4060262441635132 |\n",
      "====\n",
      "Epoch:  32%|███▎      | 65/200 [00:23<00:46,  2.88it/s]\n",
      "EP_train | train loss: 0.4493827321170981 | val loss: 0.4015979813594444 |\n",
      "====\n",
      "Epoch:  33%|███▎      | 66/200 [00:23<00:47,  2.84it/s]\n",
      "EP_train | train loss: 0.44758092655855064 | val loss: 0.39915970552201363 |\n",
      "====\n",
      "Epoch:  34%|███▎      | 67/200 [00:24<00:46,  2.86it/s]\n",
      "EP_train | train loss: 0.4482563793789068 | val loss: 0.40074487994698915 |\n",
      "====\n",
      "Epoch:  34%|███▍      | 68/200 [00:24<00:46,  2.87it/s]\n",
      "EP_train | train loss: 0.44637142339303343 | val loss: 0.3940102709274666 |\n",
      "====\n",
      "Epoch:  34%|███▍      | 69/200 [00:24<00:45,  2.87it/s]\n",
      "EP_train | train loss: 0.4439179258408889 | val loss: 0.3938610395964454 |\n",
      "====\n",
      "Epoch:  35%|███▌      | 70/200 [00:25<00:45,  2.88it/s]\n",
      "EP_train | train loss: 0.4435025289946911 | val loss: 0.3926001430726519 |\n",
      "====\n",
      "Epoch:  36%|███▌      | 71/200 [00:25<00:45,  2.84it/s]\n",
      "EP_train | train loss: 0.44169076179886696 | val loss: 0.39026259674745445 |\n",
      "====\n",
      "Epoch:  36%|███▌      | 72/200 [00:25<00:45,  2.83it/s]\n",
      "EP_train | train loss: 0.439854844203442 | val loss: 0.3904753064408022 |\n",
      "====\n",
      "Epoch:  36%|███▋      | 73/200 [00:26<00:44,  2.86it/s]\n",
      "EP_train | train loss: 0.43868118849195425 | val loss: 0.3880603406943527 |\n",
      "====\n",
      "Epoch:  37%|███▋      | 74/200 [00:26<00:43,  2.87it/s]\n",
      "EP_train | train loss: 0.43817819541316144 | val loss: 0.3855348428090413 |\n",
      "====\n",
      "Epoch:  38%|███▊      | 75/200 [00:26<00:43,  2.87it/s]\n",
      "EP_train | train loss: 0.4383879694803608 | val loss: 0.38476860698531656 |\n",
      "====\n",
      "Epoch:  38%|███▊      | 76/200 [00:27<00:44,  2.79it/s]\n",
      "EP_train | train loss: 0.43502250476080867 | val loss: 0.3844877937260796 |\n",
      "====\n",
      "Epoch:  38%|███▊      | 77/200 [00:27<00:44,  2.76it/s]\n",
      "EP_train | train loss: 0.43426772971558414 | val loss: 0.383552880263796 |\n",
      "====\n",
      "Epoch:  39%|███▉      | 78/200 [00:27<00:44,  2.76it/s]\n",
      "EP_train | train loss: 0.4344652576903632 | val loss: 0.38216576097058313 |\n",
      "====\n",
      "Epoch:  40%|███▉      | 79/200 [00:28<00:43,  2.78it/s]\n",
      "EP_train | train loss: 0.433272211120539 | val loss: 0.3829577337293064 |\n",
      "====\n",
      "Epoch:  40%|████      | 80/200 [00:28<00:43,  2.76it/s]\n",
      "EP_train | train loss: 0.43158991716006745 | val loss: 0.3805561100735384 |\n",
      "====\n",
      "Epoch:  40%|████      | 81/200 [00:29<00:43,  2.75it/s]\n",
      "EP_train | train loss: 0.431486587898404 | val loss: 0.3814850081415737 |\n",
      "====\n",
      "Epoch:  41%|████      | 82/200 [00:29<00:42,  2.79it/s]\n",
      "EP_train | train loss: 0.4302220406875112 | val loss: 0.38131918743544935 |\n",
      "====\n",
      "Epoch:  42%|████▏     | 83/200 [00:29<00:41,  2.81it/s]\n",
      "EP_train | train loss: 0.429441863415288 | val loss: 0.37980370778663486 |\n",
      "====\n",
      "Epoch:  42%|████▏     | 84/200 [00:30<00:41,  2.82it/s]\n",
      "EP_train | train loss: 0.42942073298435585 | val loss: 0.37721885886846807 |\n",
      "====\n",
      "Epoch:  42%|████▎     | 85/200 [00:30<00:40,  2.83it/s]\n",
      "EP_train | train loss: 0.42846508379335757 | val loss: 0.3789188382672329 |\n",
      "====\n",
      "Epoch:  43%|████▎     | 86/200 [00:30<00:40,  2.81it/s]\n",
      "EP_train | train loss: 0.4268104879424982 | val loss: 0.37867481802024094 |\n",
      "====\n",
      "Epoch:  44%|████▎     | 87/200 [00:31<00:39,  2.83it/s]\n",
      "EP_train | train loss: 0.4272224336927493 | val loss: 0.37819009610250887 |\n",
      "====\n",
      "Epoch:  44%|████▍     | 88/200 [00:31<00:39,  2.85it/s]\n",
      "EP_train | train loss: 0.42559671194205356 | val loss: 0.37683665986154596 |\n",
      "====\n",
      "Epoch:  44%|████▍     | 89/200 [00:31<00:39,  2.84it/s]\n",
      "EP_train | train loss: 0.42450181798997266 | val loss: 0.3774845237825431 |\n",
      "====\n",
      "Epoch:  45%|████▌     | 90/200 [00:32<00:38,  2.87it/s]\n",
      "EP_train | train loss: 0.4242794456565043 | val loss: 0.37595172723134357 |\n",
      "====\n",
      "Epoch:  46%|████▌     | 91/200 [00:32<00:38,  2.84it/s]\n",
      "EP_train | train loss: 0.42344991314125474 | val loss: 0.3766435419811922 |\n",
      "====\n",
      "Epoch:  46%|████▌     | 92/200 [00:32<00:38,  2.81it/s]\n",
      "EP_train | train loss: 0.4228888918891192 | val loss: 0.37498629852837206 |\n",
      "====\n",
      "Epoch:  46%|████▋     | 93/200 [00:33<00:37,  2.82it/s]\n",
      "EP_train | train loss: 0.42244481728747 | val loss: 0.37509190685608806 |\n",
      "====\n",
      "Epoch:  47%|████▋     | 94/200 [00:33<00:37,  2.85it/s]\n",
      "EP_train | train loss: 0.42168679684075916 | val loss: 0.3760901397349788 |\n",
      "====\n",
      "Epoch:  48%|████▊     | 95/200 [00:34<00:37,  2.83it/s]\n",
      "EP_train | train loss: 0.42130047875032445 | val loss: 0.3750115960252051 |\n",
      "====\n",
      "Epoch:  48%|████▊     | 96/200 [00:34<00:37,  2.80it/s]\n",
      "EP_train | train loss: 0.41873149258898235 | val loss: 0.3761494317475487 |\n",
      "====\n",
      "Epoch:  48%|████▊     | 97/200 [00:34<00:36,  2.82it/s]\n",
      "EP_train | train loss: 0.41948563340962064 | val loss: 0.37398717800776166 |\n",
      "====\n",
      "Epoch:  49%|████▉     | 98/200 [00:35<00:35,  2.83it/s]\n",
      "EP_train | train loss: 0.41874701784586854 | val loss: 0.37772435183618586 |\n",
      "====\n",
      "Epoch:  50%|████▉     | 99/200 [00:35<00:35,  2.85it/s]\n",
      "EP_train | train loss: 0.4173828480290432 | val loss: 0.37514769329744224 |\n",
      "====\n",
      "Epoch:  50%|█████     | 100/200 [00:35<00:35,  2.83it/s]\n",
      "EP_train | train loss: 0.4180047132870211 | val loss: 0.3756312862330792 |\n",
      "====\n",
      "Epoch:  50%|█████     | 101/200 [00:36<00:35,  2.81it/s]\n",
      "EP_train | train loss: 0.4162647937118098 | val loss: 0.3733206198495977 |\n",
      "====\n",
      "Epoch:  51%|█████     | 102/200 [00:36<00:34,  2.82it/s]\n",
      "EP_train | train loss: 0.4158658119068686 | val loss: 0.37385371678015766 |\n",
      "====\n",
      "Epoch:  52%|█████▏    | 103/200 [00:36<00:34,  2.83it/s]\n",
      "EP_train | train loss: 0.4137999601094032 | val loss: 0.3733700145693386 |\n",
      "====\n",
      "Epoch:  52%|█████▏    | 104/200 [00:37<00:34,  2.79it/s]\n",
      "EP_train | train loss: 0.4138736849516825 | val loss: 0.3747985766214483 |\n",
      "====\n",
      "Epoch:  52%|█████▎    | 105/200 [00:37<00:33,  2.81it/s]\n",
      "EP_train | train loss: 0.4136873631695517 | val loss: 0.3730716307957967 |\n",
      "====\n",
      "Epoch:  53%|█████▎    | 106/200 [00:37<00:33,  2.77it/s]\n",
      "EP_train | train loss: 0.4128640617420471 | val loss: 0.3731650371177524 |\n",
      "====\n",
      "Epoch:  54%|█████▎    | 107/200 [00:38<00:33,  2.80it/s]\n",
      "EP_train | train loss: 0.4125099680782144 | val loss: 0.37481965738184314 |\n",
      "====\n",
      "Epoch:  54%|█████▍    | 108/200 [00:38<00:32,  2.82it/s]\n",
      "EP_train | train loss: 0.41132583597386846 | val loss: 0.3737081972991719 |\n",
      "====\n",
      "Epoch:  55%|█████▍    | 109/200 [00:38<00:31,  2.85it/s]\n",
      "EP_train | train loss: 0.410920638664096 | val loss: 0.37381696701049805 |\n",
      "====\n",
      "Epoch:  55%|█████▌    | 110/200 [00:39<00:31,  2.86it/s]\n",
      "EP_train | train loss: 0.4109903722027548 | val loss: 0.373559587726406 |\n",
      "====\n",
      "Epoch:  56%|█████▌    | 111/200 [00:39<00:31,  2.79it/s]\n",
      "EP_train | train loss: 0.40958692045772777 | val loss: 0.3736181656519572 |\n",
      "====\n",
      "Epoch:  56%|█████▌    | 112/200 [00:40<00:31,  2.80it/s]\n",
      "EP_train | train loss: 0.4087017512269529 | val loss: 0.3738712796977922 |\n",
      "====\n",
      "Epoch:  56%|█████▋    | 113/200 [00:40<00:30,  2.82it/s]\n",
      "EP_train | train loss: 0.40787446472899325 | val loss: 0.37267814956459344 |\n",
      "====\n",
      "Epoch:  57%|█████▋    | 114/200 [00:40<00:30,  2.83it/s]\n",
      "EP_train | train loss: 0.4077944734776981 | val loss: 0.3749664262229321 |\n",
      "====\n",
      "Epoch:  57%|█████▊    | 115/200 [00:41<00:29,  2.84it/s]\n",
      "EP_train | train loss: 0.4067093323518508 | val loss: 0.372860895652397 |\n",
      "====\n",
      "Epoch:  58%|█████▊    | 116/200 [00:41<00:30,  2.79it/s]\n",
      "EP_train | train loss: 0.406023473261748 | val loss: 0.3765009185847114 |\n",
      "====\n",
      "Epoch:  58%|█████▊    | 117/200 [00:41<00:29,  2.81it/s]\n",
      "EP_train | train loss: 0.40475870789006385 | val loss: 0.3743670880794525 |\n",
      "====\n",
      "Epoch:  59%|█████▉    | 118/200 [00:42<00:29,  2.82it/s]\n",
      "EP_train | train loss: 0.4042211108737522 | val loss: 0.37157582710771 |\n",
      "====\n",
      "Epoch:  60%|█████▉    | 119/200 [00:42<00:28,  2.81it/s]\n",
      "EP_train | train loss: 0.4036073622360728 | val loss: 0.37386895862280156 |\n",
      "====\n",
      "Epoch:  60%|██████    | 120/200 [00:42<00:28,  2.80it/s]\n",
      "EP_train | train loss: 0.4031536532383339 | val loss: 0.37479166072957654 |\n",
      "====\n",
      "Epoch:  60%|██████    | 121/200 [00:43<00:28,  2.77it/s]\n",
      "EP_train | train loss: 0.40154020562930304 | val loss: 0.37171417591618555 |\n",
      "====\n",
      "Epoch:  61%|██████    | 122/200 [00:43<00:27,  2.80it/s]\n",
      "EP_train | train loss: 0.40124643861857895 | val loss: 0.3758186090226267 |\n",
      "====\n",
      "Epoch:  62%|██████▏   | 123/200 [00:43<00:27,  2.83it/s]\n",
      "EP_train | train loss: 0.4003734578234438 | val loss: 0.3736513999162936 |\n",
      "====\n",
      "Epoch:  62%|██████▏   | 124/200 [00:44<00:26,  2.85it/s]\n",
      "EP_train | train loss: 0.39885554386379934 | val loss: 0.3728175303515266 |\n",
      "====\n",
      "Epoch:  62%|██████▎   | 125/200 [00:44<00:26,  2.86it/s]\n",
      "EP_train | train loss: 0.3984381918813668 | val loss: 0.373970173737582 |\n",
      "====\n",
      "Epoch:  63%|██████▎   | 126/200 [00:45<00:26,  2.83it/s]\n",
      "EP_train | train loss: 0.39891949925807046 | val loss: 0.37229103317447737 |\n",
      "====\n",
      "Epoch:  64%|██████▎   | 127/200 [00:45<00:25,  2.84it/s]\n",
      "EP_train | train loss: 0.3967674458987832 | val loss: 0.3734123724348405 |\n",
      "====\n",
      "Epoch:  64%|██████▍   | 128/200 [00:45<00:25,  2.85it/s]\n",
      "EP_train | train loss: 0.3973792284921883 | val loss: 0.37136978495354744 |\n",
      "====\n",
      "Epoch:  64%|██████▍   | 129/200 [00:46<00:24,  2.87it/s]\n",
      "EP_train | train loss: 0.3953863592708812 | val loss: 0.3717348587279226 |\n",
      "====\n",
      "Epoch:  65%|██████▌   | 130/200 [00:46<00:24,  2.87it/s]\n",
      "EP_train | train loss: 0.39503155087074165 | val loss: 0.37080080777991054 |\n",
      "====\n",
      "Epoch:  66%|██████▌   | 131/200 [00:46<00:24,  2.84it/s]\n",
      "EP_train | train loss: 0.3936653241093122 | val loss: 0.3732495798784144 |\n",
      "====\n",
      "Epoch:  66%|██████▌   | 132/200 [00:47<00:23,  2.85it/s]\n",
      "EP_train | train loss: 0.3931765473226576 | val loss: 0.37252180424391057 |\n",
      "====\n",
      "Epoch:  66%|██████▋   | 133/200 [00:47<00:23,  2.86it/s]\n",
      "EP_train | train loss: 0.39173348433052013 | val loss: 0.3723195206885244 |\n",
      "====\n",
      "Epoch:  67%|██████▋   | 134/200 [00:47<00:23,  2.81it/s]\n",
      "EP_train | train loss: 0.39046285147241 | val loss: 0.373234325764226 |\n",
      "====\n",
      "Epoch:  68%|██████▊   | 135/200 [00:48<00:23,  2.79it/s]\n",
      "EP_train | train loss: 0.3897619953861943 | val loss: 0.3728199431709215 |\n",
      "====\n",
      "Epoch:  68%|██████▊   | 136/200 [00:48<00:23,  2.76it/s]\n",
      "EP_train | train loss: 0.3907827749231542 | val loss: 0.3710026822838129 |\n",
      "====\n",
      "Epoch:  68%|██████▊   | 137/200 [00:48<00:22,  2.78it/s]\n",
      "EP_train | train loss: 0.38988120363688417 | val loss: 0.37556248143607496 |\n",
      "====\n",
      "Epoch:  69%|██████▉   | 138/200 [00:49<00:22,  2.81it/s]\n",
      "EP_train | train loss: 0.3886896260163883 | val loss: 0.3716614404145409 |\n",
      "====\n",
      "Epoch:  70%|██████▉   | 139/200 [00:49<00:21,  2.84it/s]\n",
      "EP_train | train loss: 0.3867400248325988 | val loss: 0.3741879428134245 |\n",
      "====\n",
      "Epoch:  70%|███████   | 140/200 [00:49<00:21,  2.83it/s]\n",
      "EP_train | train loss: 0.3858944086727234 | val loss: 0.37332142159050585 |\n",
      "====\n",
      "Epoch:  70%|███████   | 141/200 [00:50<00:20,  2.82it/s]\n",
      "EP_train | train loss: 0.3853491043473121 | val loss: 0.37229231876485486 |\n",
      "====\n",
      "Epoch:  71%|███████   | 142/200 [00:50<00:20,  2.85it/s]\n",
      "EP_train | train loss: 0.3835594545002856 | val loss: 0.3715181321490045 |\n",
      "====\n",
      "Epoch:  72%|███████▏  | 143/200 [00:51<00:19,  2.86it/s]\n",
      "EP_train | train loss: 0.38327345297487214 | val loss: 0.3737095816462648 |\n",
      "====\n",
      "Epoch:  72%|███████▏  | 144/200 [00:51<00:19,  2.87it/s]\n",
      "EP_train | train loss: 0.3826113027684829 | val loss: 0.3736935643588795 |\n",
      "====\n",
      "Epoch:  72%|███████▎  | 145/200 [00:51<00:19,  2.87it/s]\n",
      "EP_train | train loss: 0.38144527489323504 | val loss: 0.3714850983198951 |\n",
      "====\n",
      "Epoch:  73%|███████▎  | 146/200 [00:52<00:19,  2.84it/s]\n",
      "EP_train | train loss: 0.3797870544566568 | val loss: 0.3736137256902807 |\n",
      "====\n",
      "Epoch:  74%|███████▎  | 147/200 [00:52<00:18,  2.87it/s]\n",
      "EP_train | train loss: 0.3807517168049199 | val loss: 0.3718285700854133 |\n",
      "====\n",
      "Epoch:  74%|███████▍  | 148/200 [00:52<00:18,  2.88it/s]\n",
      "EP_train | train loss: 0.37964981261941083 | val loss: 0.3741173790950401 |\n",
      "====\n",
      "Epoch:  74%|███████▍  | 149/200 [00:53<00:17,  2.89it/s]\n",
      "EP_train | train loss: 0.378564917184169 | val loss: 0.37085600810892444 |\n",
      "====\n",
      "Epoch:  75%|███████▌  | 150/200 [00:53<00:17,  2.88it/s]\n",
      "EP_train | train loss: 0.3770543749815498 | val loss: 0.3714442393359016 |\n",
      "====\n",
      "Epoch:  76%|███████▌  | 151/200 [00:53<00:17,  2.85it/s]\n",
      "EP_train | train loss: 0.37621072798253147 | val loss: 0.3743757979542601 |\n",
      "====\n",
      "Epoch:  76%|███████▌  | 152/200 [00:54<00:16,  2.87it/s]\n",
      "EP_train | train loss: 0.37636277566548265 | val loss: 0.37615590820125505 |\n",
      "====\n",
      "Epoch:  76%|███████▋  | 153/200 [00:54<00:16,  2.88it/s]\n",
      "EP_train | train loss: 0.3741645522107226 | val loss: 0.3717530328853458 |\n",
      "====\n",
      "Epoch:  77%|███████▋  | 154/200 [00:54<00:15,  2.88it/s]\n",
      "EP_train | train loss: 0.37336903511828584 | val loss: 0.37340422705108045 |\n",
      "====\n",
      "Epoch:  78%|███████▊  | 155/200 [00:55<00:15,  2.86it/s]\n",
      "EP_train | train loss: 0.3735276795680227 | val loss: 0.3747391887739593 |\n",
      "====\n",
      "Epoch:  78%|███████▊  | 156/200 [00:55<00:15,  2.79it/s]\n",
      "EP_train | train loss: 0.37119590742655567 | val loss: 0.3766489683413038 |\n",
      "====\n",
      "Epoch:  78%|███████▊  | 157/200 [00:55<00:15,  2.73it/s]\n",
      "EP_train | train loss: 0.36976841799833676 | val loss: 0.3717794383273405 |\n",
      "====\n",
      "Epoch:  79%|███████▉  | 158/200 [00:56<00:15,  2.75it/s]\n",
      "EP_train | train loss: 0.3684263915018319 | val loss: 0.374065101146698 |\n",
      "====\n",
      "Epoch:  80%|███████▉  | 159/200 [00:56<00:14,  2.75it/s]\n",
      "EP_train | train loss: 0.3678642565907996 | val loss: 0.37368522788964065 |\n",
      "====\n",
      "Epoch:  80%|████████  | 160/200 [00:57<00:14,  2.77it/s]\n",
      "EP_train | train loss: 0.3682277654510698 | val loss: 0.37162869233711093 |\n",
      "====\n",
      "Epoch:  80%|████████  | 161/200 [00:57<00:14,  2.76it/s]\n",
      "EP_train | train loss: 0.3668443767073887 | val loss: 0.37321918267829746 |\n",
      "====\n",
      "Epoch:  81%|████████  | 162/200 [00:57<00:13,  2.77it/s]\n",
      "EP_train | train loss: 0.36398544706290586 | val loss: 0.37254207800416383 |\n",
      "====\n",
      "Epoch:  82%|████████▏ | 163/200 [00:58<00:13,  2.79it/s]\n",
      "EP_train | train loss: 0.36437969893411876 | val loss: 0.37430502737269683 |\n",
      "====\n",
      "Epoch:  82%|████████▏ | 164/200 [00:58<00:12,  2.82it/s]\n",
      "EP_train | train loss: 0.3629098509911099 | val loss: 0.37247706394569546 |\n",
      "====\n",
      "Epoch:  82%|████████▎ | 165/200 [00:58<00:12,  2.82it/s]\n",
      "EP_train | train loss: 0.3608409823415586 | val loss: 0.3719440686936472 |\n",
      "====\n",
      "Epoch:  83%|████████▎ | 166/200 [00:59<00:12,  2.69it/s]\n",
      "EP_train | train loss: 0.3604101687994398 | val loss: 0.37610868437617434 |\n",
      "====\n",
      "Epoch:  84%|████████▎ | 167/200 [00:59<00:12,  2.70it/s]\n",
      "EP_train | train loss: 0.36057541676855814 | val loss: 0.3717833547031178 |\n",
      "====\n",
      "Epoch:  84%|████████▍ | 168/200 [00:59<00:12,  2.66it/s]\n",
      "EP_train | train loss: 0.3573900323547829 | val loss: 0.3735763611746769 |\n",
      "====\n",
      "Epoch:  84%|████████▍ | 169/200 [01:00<00:11,  2.72it/s]\n",
      "EP_train | train loss: 0.3566056871725843 | val loss: 0.37245643956988467 |\n",
      "====\n",
      "Epoch:  85%|████████▌ | 170/200 [01:00<00:11,  2.70it/s]\n",
      "EP_train | train loss: 0.3548227135652031 | val loss: 0.3722718930711933 |\n",
      "====\n",
      "Epoch:  86%|████████▌ | 171/200 [01:01<00:11,  2.59it/s]\n",
      "EP_train | train loss: 0.3571496243570365 | val loss: 0.3798450699039534 |\n",
      "====\n",
      "Epoch:  86%|████████▌ | 172/200 [01:01<00:10,  2.64it/s]\n",
      "EP_train | train loss: 0.3546532763894607 | val loss: 0.3730296615292044 |\n",
      "====\n",
      "Epoch:  86%|████████▋ | 173/200 [01:01<00:10,  2.69it/s]\n",
      "EP_train | train loss: 0.3540107679263179 | val loss: 0.3796414849804897 |\n",
      "====\n",
      "Epoch:  87%|████████▋ | 174/200 [01:02<00:09,  2.71it/s]\n",
      "EP_train | train loss: 0.35076288148468615 | val loss: 0.37337225734018814 |\n",
      "====\n",
      "Epoch:  88%|████████▊ | 175/200 [01:02<00:09,  2.74it/s]\n",
      "EP_train | train loss: 0.3485948514834468 | val loss: 0.3773711721102397 |\n",
      "====\n",
      "Epoch:  88%|████████▊ | 176/200 [01:02<00:08,  2.74it/s]\n",
      "EP_train | train loss: 0.34866656976587634 | val loss: 0.3764483543003307 |\n",
      "====\n",
      "Epoch:  88%|████████▊ | 177/200 [01:03<00:08,  2.78it/s]\n",
      "EP_train | train loss: 0.34701315146385975 | val loss: 0.3769640653741126 |\n",
      "====\n",
      "Epoch:  89%|████████▉ | 178/200 [01:03<00:07,  2.80it/s]\n",
      "EP_train | train loss: 0.34551703696157415 | val loss: 0.37409166728748994 |\n",
      "====\n",
      "Epoch:  90%|████████▉ | 179/200 [01:03<00:07,  2.82it/s]\n",
      "EP_train | train loss: 0.34494772248278516 | val loss: 0.37614469200957057 |\n",
      "====\n",
      "Epoch:  90%|█████████ | 180/200 [01:04<00:07,  2.85it/s]\n",
      "EP_train | train loss: 0.3415048314595274 | val loss: 0.37520524976300257 |\n",
      "====\n",
      "Epoch:  90%|█████████ | 181/200 [01:04<00:06,  2.81it/s]\n",
      "EP_train | train loss: 0.3413313084438216 | val loss: 0.37772580572203096 |\n",
      "====\n",
      "Epoch:  91%|█████████ | 182/200 [01:05<00:06,  2.82it/s]\n",
      "EP_train | train loss: 0.3393615071290459 | val loss: 0.375961302542219 |\n",
      "====\n",
      "Epoch:  92%|█████████▏| 183/200 [01:05<00:06,  2.72it/s]\n",
      "EP_train | train loss: 0.3367476639924226 | val loss: 0.37460736316793103 |\n",
      "====\n",
      "Epoch:  92%|█████████▏| 184/200 [01:05<00:05,  2.71it/s]\n",
      "EP_train | train loss: 0.3376996522375701 | val loss: 0.3740648557158077 |\n",
      "====\n",
      "Epoch:  92%|█████████▎| 185/200 [01:06<00:05,  2.57it/s]\n",
      "EP_train | train loss: 0.33644897849471483 | val loss: 0.37518925409691006 |\n",
      "====\n",
      "Epoch:  93%|█████████▎| 186/200 [01:06<00:05,  2.55it/s]\n",
      "EP_train | train loss: 0.3355350359332847 | val loss: 0.37367938663445266 |\n",
      "====\n",
      "Epoch:  94%|█████████▎| 187/200 [01:07<00:05,  2.59it/s]\n",
      "EP_train | train loss: 0.3341744688860991 | val loss: 0.3750547673188004 |\n",
      "====\n",
      "Epoch:  94%|█████████▍| 188/200 [01:07<00:04,  2.62it/s]\n",
      "EP_train | train loss: 0.3324872195590815 | val loss: 0.37984347694060383 |\n",
      "====\n",
      "Epoch:  94%|█████████▍| 189/200 [01:07<00:04,  2.67it/s]\n",
      "EP_train | train loss: 0.3295617804807775 | val loss: 0.37661144663305846 |\n",
      "====\n",
      "Epoch:  95%|█████████▌| 190/200 [01:08<00:03,  2.74it/s]\n",
      "EP_train | train loss: 0.32765012421119705 | val loss: 0.37658439898023416 |\n",
      "====\n",
      "Epoch:  96%|█████████▌| 191/200 [01:08<00:03,  2.74it/s]\n",
      "EP_train | train loss: 0.3267741042284664 | val loss: 0.37660857742907955 |\n",
      "====\n",
      "Epoch:  96%|█████████▌| 192/200 [01:08<00:02,  2.78it/s]\n",
      "EP_train | train loss: 0.32568424979066535 | val loss: 0.3782970975427067 |\n",
      "====\n",
      "Epoch:  96%|█████████▋| 193/200 [01:09<00:02,  2.82it/s]\n",
      "EP_train | train loss: 0.3230947269074018 | val loss: 0.37754948232688157 |\n",
      "====\n",
      "Epoch:  97%|█████████▋| 194/200 [01:09<00:02,  2.83it/s]\n",
      "EP_train | train loss: 0.32135414921380334 | val loss: 0.3789130110366672 |\n",
      "====\n",
      "Epoch:  98%|█████████▊| 195/200 [01:09<00:01,  2.84it/s]\n",
      "EP_train | train loss: 0.3224173205091023 | val loss: 0.3857019415088728 |\n",
      "====\n",
      "Epoch:  98%|█████████▊| 196/200 [01:10<00:01,  2.81it/s]\n",
      "EP_train | train loss: 0.3189306965580693 | val loss: 0.3778330262969522 |\n",
      "====\n",
      "Epoch:  98%|█████████▊| 197/200 [01:10<00:01,  2.83it/s]\n",
      "EP_train | train loss: 0.3157149041659951 | val loss: 0.3777398151509902 |\n",
      "====\n",
      "Epoch:  99%|█████████▉| 198/200 [01:10<00:00,  2.85it/s]\n",
      "EP_train | train loss: 0.3142611767471746 | val loss: 0.37929503590452907 |\n",
      "====\n",
      "Epoch: 100%|█████████▉| 199/200 [01:11<00:00,  2.87it/s]\n",
      "EP_train | train loss: 0.3124715139143867 | val loss: 0.38164830675312117 |\n",
      "====\n",
      "Epoch: 100%|██████████| 200/200 [01:11<00:00,  2.79it/s]\n",
      "EP_train | train loss: 0.31214503680958466 | val loss: 0.38503940198935716 |\n",
      "\n"
     ]
    }
   ],
   "source": [
    "AttractiveTrainer.train()"
   ]
  },
  {
   "cell_type": "markdown",
   "metadata": {},
   "source": [
    "## for classification, not better"
   ]
  },
  {
   "cell_type": "markdown",
   "metadata": {},
   "source": [
    "## Below is testing"
   ]
  },
  {
   "cell_type": "code",
   "execution_count": 8,
   "metadata": {},
   "outputs": [
    {
     "output_type": "execute_result",
     "data": {
      "text/plain": [
       "AttractiveNet(\n",
       "  (embedding): AttractiveEmbedding(\n",
       "    (token): TokenEmbedding(11861, 300, padding_idx=1)\n",
       "  )\n",
       "  (bigramcnn): Sequential(\n",
       "    (0): Conv1d(300, 200, kernel_size=(3,), stride=(1,), padding=(1,))\n",
       "    (1): ReLU()\n",
       "    (2): Conv1d(200, 100, kernel_size=(3,), stride=(1,), padding=(1,))\n",
       "    (3): ReLU()\n",
       "  )\n",
       "  (trigramcnn): Sequential(\n",
       "    (0): Conv1d(300, 200, kernel_size=(3,), stride=(1,), padding=(1,))\n",
       "    (1): ReLU()\n",
       "    (2): Conv1d(200, 100, kernel_size=(3,), stride=(1,), padding=(1,))\n",
       "    (3): ReLU()\n",
       "  )\n",
       "  (encoder_bigram): LSTM(100, 30, batch_first=True, dropout=0.1, bidirectional=True)\n",
       "  (encoder_trigram): LSTM(100, 30, batch_first=True, dropout=0.1, bidirectional=True)\n",
       "  (linear): Sequential(\n",
       "    (0): Linear(in_features=120, out_features=30, bias=True)\n",
       "    (1): ReLU()\n",
       "    (2): Linear(in_features=30, out_features=1, bias=True)\n",
       "  )\n",
       ")"
      ]
     },
     "metadata": {},
     "execution_count": 8
    }
   ],
   "source": [
    "from attractivenet import AttractiveNet\n",
    "PATH = './model/CNN_LSTM_20201103-142742_0.4096.110'\n",
    "# load_model = TransformerModel(config).to(AttractiveData.device)\n",
    "load_model = AttractiveNet(config).to(AttractiveData.device)\n",
    "load_model.load_state_dict(torch.load(PATH))\n",
    "load_model.eval()"
   ]
  },
  {
   "cell_type": "code",
   "execution_count": 9,
   "metadata": {},
   "outputs": [],
   "source": [
    "def predict_attractive(sentence, category, phase):\n",
    "    # if len(sentence) < config['max_seq']:\n",
    "    #     sentence += ['0'] * (config['max_seq'] - len(sentence))\n",
    "    # else:\n",
    "    #     sentence = sentence[:config['max_seq']]\n",
    "\n",
    "    indexed_sentence = [AttractiveData.TEXT.vocab.stoi[t] for t in sentence]\n",
    "    indexed_category = [AttractiveData.CATEGORIES_LABEL.vocab.stoi[category]]\n",
    "    tensor_sentence = torch.LongTensor(indexed_sentence).to(AttractiveData.device)\n",
    "    tensor_category = torch.LongTensor(indexed_category).to(AttractiveData.device)\n",
    "\n",
    "    tensor_sentence = tensor_sentence.unsqueeze(0)\n",
    "    # print(tensor_sentence.shape)\n",
    "\n",
    "    prediction = load_model(tensor_sentence, tensor_category, phase=phase)\n",
    "\n",
    "    # after_decimal = prediction % 1\n",
    "    # possible_list = [0.0, 0.3333333333333333, 0.6666666666666665, 0.5, 1.0]\n",
    "    # closet_idx = None\n",
    "    # closet_distance = 1\n",
    "    # for i in range(len(possible_list)):\n",
    "    #     if abs(after_decimal - possible_list[i]) <= closet_distance:\n",
    "    #         closet_idx = i\n",
    "    #         closet_distance = abs(after_decimal - possible_list[i])\n",
    "    # prediction = (prediction // 1) + possible_list[closet_idx]\n",
    "    \n",
    "    return prediction"
   ]
  },
  {
   "cell_type": "code",
   "execution_count": 10,
   "metadata": {
    "tags": []
   },
   "outputs": [],
   "source": [
    "# train mean = 3.15, test mean = 2.8\n",
    "predict_list = []\n",
    "with torch.no_grad():\n",
    "    for i, sentence in enumerate(AttractiveData.test_data):\n",
    "        prediction = predict_attractive(sentence.Headline, sentence.Category, 'test')\n",
    "        predict_list.append(prediction.item())\n",
    "        # predict_list.append(prediction.item())\n",
    "AttractiveData.df_test['Label'] = predict_list\n",
    "AttractiveData.df_test[['ID', 'Label']].to_csv(config['save_name'] + '.csv', index=False)"
   ]
  },
  {
   "cell_type": "markdown",
   "metadata": {},
   "source": [
    "## Below for statistics"
   ]
  },
  {
   "cell_type": "code",
   "execution_count": 11,
   "metadata": {},
   "outputs": [],
   "source": [
    "import statistics\n",
    "from sklearn.metrics import mean_squared_error"
   ]
  },
  {
   "cell_type": "code",
   "execution_count": 12,
   "metadata": {},
   "outputs": [],
   "source": [
    "# # train mean = 3.15, test mean = 2.8\n",
    "# train_list = []\n",
    "# for i, sentence in enumerate(AttractiveData.train_data):\n",
    "#     prediction = predict_attractive(sentence.Headline, sentence.Category, 'train')\n",
    "#     train_list.append(prediction.item())\n",
    "#     # train_list.append(prediction.item())\n",
    "# # print(train_list)\n",
    "# mean_squared_error(pd.read_csv('data/train.csv').sort_values(['ID']).Label.to_list(), train_list), statistics.mean(train_list), statistics.stdev(train_list)"
   ]
  },
  {
   "cell_type": "code",
   "execution_count": 13,
   "metadata": {},
   "outputs": [],
   "source": [
    "# train_list[0:5], pd.read_csv('data/train.csv').sort_values(['ID']).Label.to_list()[0:5]"
   ]
  },
  {
   "cell_type": "code",
   "execution_count": 14,
   "metadata": {},
   "outputs": [],
   "source": [
    "# a = AttractiveData.df_train['Label'].to_list()\n",
    "# statistics.mean(a), statistics.stdev(a)"
   ]
  },
  {
   "cell_type": "code",
   "execution_count": 15,
   "metadata": {},
   "outputs": [
    {
     "output_type": "execute_result",
     "data": {
      "text/plain": [
       "(2.8907347387154196, 0.333664253891954)"
      ]
     },
     "metadata": {},
     "execution_count": 15
    }
   ],
   "source": [
    "statistics.mean(predict_list), statistics.stdev(predict_list)"
   ]
  },
  {
   "cell_type": "code",
   "execution_count": 16,
   "metadata": {},
   "outputs": [
    {
     "output_type": "execute_result",
     "data": {
      "text/plain": [
       "(0.06215848720331968, 2.749250414087909, 0.21818948511921435)"
      ]
     },
     "metadata": {},
     "execution_count": 16
    }
   ],
   "source": [
    "baseline_list = pd.read_csv('baseline.csv').sort_values(['ID']).Label.to_list()\n",
    "mean_squared_error(baseline_list, predict_list), statistics.mean(baseline_list), statistics.stdev(baseline_list)"
   ]
  },
  {
   "cell_type": "code",
   "execution_count": 14,
   "metadata": {},
   "outputs": [
    {
     "data": {
      "text/plain": [
       "(2.8167915543795683, 0.14611407210842048)"
      ]
     },
     "execution_count": 14,
     "metadata": {},
     "output_type": "execute_result"
    }
   ],
   "source": [
    "# LSTM my best\n",
    "# statistics.mean(predict_list), statistics.stdev(predict_list)"
   ]
  },
  {
   "cell_type": "code",
   "execution_count": 18,
   "metadata": {},
   "outputs": [
    {
     "data": {
      "text/plain": [
       "(0.038789339035529356, 2.8010625587160893, 0.24649253835767065)"
      ]
     },
     "execution_count": 18,
     "metadata": {},
     "output_type": "execute_result"
    }
   ],
   "source": [
    "a = pd.read_csv('CNN_LSTM_test.csv').Label.to_list()\n",
    "mean_squared_error(baseline_list, a), statistics.mean(a), statistics.stdev(a)"
   ]
  },
  {
   "cell_type": "code",
   "execution_count": 14,
   "metadata": {},
   "outputs": [
    {
     "data": {
      "text/plain": [
       "'the'"
      ]
     },
     "execution_count": 14,
     "metadata": {},
     "output_type": "execute_result"
    }
   ],
   "source": [
    "AttractiveData.TEXT.vocab.itos[2]"
   ]
  },
  {
   "cell_type": "code",
   "execution_count": 26,
   "metadata": {},
   "outputs": [
    {
     "data": {
      "text/plain": [
       "Counter({'4.0': 226,\n",
       "         '2.333333333333333': 194,\n",
       "         '4.5': 43,\n",
       "         '3.333333333333333': 313,\n",
       "         '3.6666666666666665': 260,\n",
       "         '2.6666666666666665': 281,\n",
       "         '2.0': 135,\n",
       "         '2.5': 36,\n",
       "         '1.6666666666666667': 28,\n",
       "         '3.0': 354,\n",
       "         '4.333333333333333': 82,\n",
       "         '4.666666666666667': 29,\n",
       "         '1.5': 16,\n",
       "         '3.5': 22,\n",
       "         '1.3333333333333333': 4,\n",
       "         '1.0': 5,\n",
       "         '5.0': 12})"
      ]
     },
     "execution_count": 26,
     "metadata": {},
     "output_type": "execute_result"
    }
   ],
   "source": [
    "AttractiveData.LABEL.vocab.freqs"
   ]
  },
  {
   "cell_type": "code",
   "execution_count": 17,
   "metadata": {},
   "outputs": [],
   "source": [
    "df = pd.read_csv('data/train.csv')"
   ]
  },
  {
   "cell_type": "code",
   "execution_count": 19,
   "metadata": {},
   "outputs": [],
   "source": [
    "df['Headline'] = df['Category'] + ' ' + df['Headline']"
   ]
  },
  {
   "cell_type": "code",
   "execution_count": 20,
   "metadata": {},
   "outputs": [
    {
     "output_type": "execute_result",
     "data": {
      "text/plain": [
       "   ID                                           Headline Category     Label\n",
       "0   1  travel Golden, gaudy and glorious: Dubai has t...   travel  4.000000\n",
       "1   2  travel British tourists charged over £ 180 mil...   travel  2.333333\n",
       "2   3  health Cancer left Eric With half his face mis...   health  4.500000\n",
       "3   4  femail Sorry, i spent it on myself! Harvey Nic...   femail  3.333333\n",
       "4   5  sport Luis Suarez's bite has ensured his legac...    sport  4.000000"
      ],
      "text/html": "<div>\n<style scoped>\n    .dataframe tbody tr th:only-of-type {\n        vertical-align: middle;\n    }\n\n    .dataframe tbody tr th {\n        vertical-align: top;\n    }\n\n    .dataframe thead th {\n        text-align: right;\n    }\n</style>\n<table border=\"1\" class=\"dataframe\">\n  <thead>\n    <tr style=\"text-align: right;\">\n      <th></th>\n      <th>ID</th>\n      <th>Headline</th>\n      <th>Category</th>\n      <th>Label</th>\n    </tr>\n  </thead>\n  <tbody>\n    <tr>\n      <th>0</th>\n      <td>1</td>\n      <td>travel Golden, gaudy and glorious: Dubai has t...</td>\n      <td>travel</td>\n      <td>4.000000</td>\n    </tr>\n    <tr>\n      <th>1</th>\n      <td>2</td>\n      <td>travel British tourists charged over £ 180 mil...</td>\n      <td>travel</td>\n      <td>2.333333</td>\n    </tr>\n    <tr>\n      <th>2</th>\n      <td>3</td>\n      <td>health Cancer left Eric With half his face mis...</td>\n      <td>health</td>\n      <td>4.500000</td>\n    </tr>\n    <tr>\n      <th>3</th>\n      <td>4</td>\n      <td>femail Sorry, i spent it on myself! Harvey Nic...</td>\n      <td>femail</td>\n      <td>3.333333</td>\n    </tr>\n    <tr>\n      <th>4</th>\n      <td>5</td>\n      <td>sport Luis Suarez's bite has ensured his legac...</td>\n      <td>sport</td>\n      <td>4.000000</td>\n    </tr>\n  </tbody>\n</table>\n</div>"
     },
     "metadata": {},
     "execution_count": 20
    }
   ],
   "source": [
    "df.head()"
   ]
  },
  {
   "cell_type": "code",
   "execution_count": null,
   "metadata": {},
   "outputs": [],
   "source": []
  }
 ],
 "metadata": {
  "kernelspec": {
   "display_name": "DS_hw2",
   "language": "python",
   "name": "ds_hw2"
  },
  "language_info": {
   "codemirror_mode": {
    "name": "ipython",
    "version": 3
   },
   "file_extension": ".py",
   "mimetype": "text/x-python",
   "name": "python",
   "nbconvert_exporter": "python",
   "pygments_lexer": "ipython3",
   "version": "3.6.12-final"
  }
 },
 "nbformat": 4,
 "nbformat_minor": 4
}