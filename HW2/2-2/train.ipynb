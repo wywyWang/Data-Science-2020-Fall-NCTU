{
 "cells": [
  {
   "cell_type": "code",
   "execution_count": 1,
   "metadata": {},
   "outputs": [],
   "source": [
    "# common packages\n",
    "import pandas as pd\n",
    "import time\n",
    "\n",
    "# # DL framework\n",
    "import torch\n",
    "from torchtext import data\n",
    "\n",
    "from attractivedata import AttractiveData\n",
    "from trainer import AttractiveTrainer"
   ]
  },
  {
   "cell_type": "code",
   "execution_count": 2,
   "metadata": {},
   "outputs": [],
   "source": [
    "seed_value = 42\n",
    "torch.manual_seed(seed_value)\n",
    "torch.cuda.manual_seed(seed_value)\n",
    "torch.cuda.manual_seed_all(seed_value) # gpu vars\n",
    "torch.backends.cudnn.deterministic = True  #needed\n",
    "torch.backends.cudnn.benchmark = False"
   ]
  },
  {
   "cell_type": "markdown",
   "metadata": {},
   "source": [
    "# TODO: \n",
    "- [ ] cnn plus residual network\n",
    "- [ ] word embedding multiply tfidf\n",
    "- [ ] use word2vec"
   ]
  },
  {
   "cell_type": "markdown",
   "metadata": {},
   "source": [
    "## Load and prepare data"
   ]
  },
  {
   "cell_type": "code",
   "execution_count": 3,
   "metadata": {},
   "outputs": [],
   "source": [
    "train_file = 'data/train.csv'\n",
    "val_file = 'example/val.csv'\n",
    "test_file = 'data/test.csv'\n",
    "pretrained_file = 'glove.840B.300d'\n",
    "config = {\n",
    "    'max_seq': 40,\n",
    "    'min_freq': 0,\n",
    "    'batch_size': 64,\n",
    "    'pretrained_file': pretrained_file\n",
    "}\n"
   ]
  },
  {
   "cell_type": "code",
   "execution_count": 4,
   "metadata": {},
   "outputs": [],
   "source": [
    "AttractiveData = AttractiveData(train_file, val_file, test_file, pretrained_file, config)"
   ]
  },
  {
   "cell_type": "code",
   "execution_count": 5,
   "metadata": {},
   "outputs": [],
   "source": [
    "# for i, sentence in enumerate(AttractiveData.test_data):\n",
    "#     if i == 3:\n",
    "#         print(vars(AttractiveData.train_data[i]), vars(sentence))"
   ]
  },
  {
   "cell_type": "code",
   "execution_count": 6,
   "metadata": {},
   "outputs": [
    {
     "output_type": "execute_result",
     "data": {
      "text/plain": [
       "38"
      ]
     },
     "metadata": {},
     "execution_count": 6
    }
   ],
   "source": [
    "max_len = 0\n",
    "a = AttractiveData.train_data\n",
    "for i in range(len(a)):\n",
    "    if len(a[i].Headline) >= max_len:\n",
    "        max_len = len(a[i].Headline)\n",
    "max_len"
   ]
  },
  {
   "cell_type": "markdown",
   "metadata": {},
   "source": [
    "## Start to train"
   ]
  },
  {
   "cell_type": "code",
   "execution_count": 7,
   "metadata": {},
   "outputs": [
    {
     "output_type": "stream",
     "name": "stdout",
     "text": [
      "torch.Size([12699, 300])\n"
     ]
    }
   ],
   "source": [
    "config['timestr'] = time.strftime(\"%Y%m%d-%H%M%S\")\n",
    "config['save_name'] = 'CNN_LSTM'\n",
    "config['input_dim'] = len(AttractiveData.TEXT.vocab)\n",
    "config['embedding_dim'] = 300\n",
    "config['category_dim'] = len(AttractiveData.CATEGORIES_LABEL.vocab)\n",
    "config['category_embedding_dim'] = 8\n",
    "config['hidden_dim'] = 30\n",
    "config['output_dim'] = 1\n",
    "config['log_steps'] = 10\n",
    "config['epochs'] = 200\n",
    "config['lr'] = {\n",
    "    'encoder': 1e-5,\n",
    "    'embedding': 6e-6,\n",
    "    'linear': 1e-5\n",
    "}\n",
    "config['num_layers'] = 1\n",
    "config['kernel_size'] = 3\n",
    "config['dropout'] = 0.3\n",
    "config['train_len'] = AttractiveData.train_len\n",
    "config['val_len'] = AttractiveData.val_len\n",
    "config['test_len'] = AttractiveData.test_len\n",
    "\n",
    "pretrained_embeddings = AttractiveData.TEXT.vocab.vectors\n",
    "print(pretrained_embeddings.shape)"
   ]
  },
  {
   "cell_type": "code",
   "execution_count": 8,
   "metadata": {},
   "outputs": [],
   "source": [
    "AttractiveTrainer = AttractiveTrainer(config, AttractiveData.device, AttractiveData.trainloader, AttractiveData.valloader, pretrained_embeddings)"
   ]
  },
  {
   "cell_type": "code",
   "execution_count": 9,
   "metadata": {},
   "outputs": [
    {
     "output_type": "execute_result",
     "data": {
      "text/plain": [
       "(AttractiveNet(\n",
       "   (embedding): AttractiveEmbedding(\n",
       "     (token): TokenEmbedding(12699, 300, padding_idx=1)\n",
       "   )\n",
       "   (category_embedding): CategoryEmbedding(18, 8, padding_idx=0)\n",
       "   (bigramcnn): Sequential(\n",
       "     (0): Conv1d(300, 200, kernel_size=(3,), stride=(1,), padding=(1,))\n",
       "     (1): ReLU()\n",
       "     (2): Conv1d(200, 100, kernel_size=(3,), stride=(1,), padding=(1,))\n",
       "     (3): ReLU()\n",
       "     (4): Dropout(p=0.3, inplace=False)\n",
       "   )\n",
       "   (trigramcnn): Sequential(\n",
       "     (0): Conv1d(300, 200, kernel_size=(3,), stride=(1,), padding=(1,))\n",
       "     (1): ReLU()\n",
       "     (2): Conv1d(200, 100, kernel_size=(3,), stride=(1,), padding=(1,))\n",
       "     (3): ReLU()\n",
       "     (4): Dropout(p=0.3, inplace=False)\n",
       "   )\n",
       "   (encoder_bigram_first): LSTM(100, 30, batch_first=True, dropout=0.3, bidirectional=True)\n",
       "   (encoder_trigram_first): LSTM(100, 30, batch_first=True, dropout=0.3, bidirectional=True)\n",
       "   (linear): Sequential(\n",
       "     (0): Linear(in_features=132, out_features=30, bias=True)\n",
       "     (1): ReLU()\n",
       "     (2): Linear(in_features=30, out_features=1, bias=True)\n",
       "   )\n",
       " ),\n",
       " 4357825,\n",
       " 4357825)"
      ]
     },
     "metadata": {},
     "execution_count": 9
    }
   ],
   "source": [
    "AttractiveTrainer.model, AttractiveTrainer.config['total_params'], AttractiveTrainer.config['total_learned_params']"
   ]
  },
  {
   "cell_type": "code",
   "execution_count": 10,
   "metadata": {
    "tags": [
     "outputPrepend"
    ]
   },
   "outputs": [
    {
     "output_type": "stream",
     "name": "stderr",
     "text": [
      "ss: 0.38772480511197854 |\n",
      "Epoch:  24%|██▍       | 48/200 [00:19<00:58,  2.61it/s]\n",
      "EP_47 | train loss: 0.4415423926185159 | val loss: 0.38600773378914477 |\n",
      "Epoch:  24%|██▍       | 49/200 [00:19<00:57,  2.62it/s]\n",
      "EP_48 | train loss: 0.44088149538227156 | val loss: 0.3837779900606941 |\n",
      "Epoch:  25%|██▌       | 50/200 [00:20<00:57,  2.62it/s]\n",
      "EP_49 | train loss: 0.43908243085823806 | val loss: 0.38181684882033107 |\n",
      "Epoch:  26%|██▌       | 51/200 [00:20<00:57,  2.60it/s]\n",
      "EP_50 | train loss: 0.4369309518851486 | val loss: 0.3805529773235321 |\n",
      "Epoch:  26%|██▌       | 52/200 [00:20<00:57,  2.59it/s]\n",
      "EP_51 | train loss: 0.43771679915633854 | val loss: 0.37878480728934794 |\n",
      "Epoch:  26%|██▋       | 53/200 [00:21<00:56,  2.58it/s]\n",
      "EP_52 | train loss: 0.4380927936703551 | val loss: 0.3801694675987842 |\n",
      "Epoch:  27%|██▋       | 54/200 [00:21<00:56,  2.58it/s]\n",
      "EP_53 | train loss: 0.4365461704777736 | val loss: 0.3784276907350503 |\n",
      "Epoch:  28%|██▊       | 55/200 [00:21<00:56,  2.56it/s]\n",
      "EP_54 | train loss: 0.43280041545045145 | val loss: 0.3739169327651753 |\n",
      "Epoch:  28%|██▊       | 56/200 [00:22<00:57,  2.51it/s]\n",
      "EP_55 | train loss: 0.4335837055655087 | val loss: 0.3735441659011093 |\n",
      "Epoch:  28%|██▊       | 57/200 [00:22<00:57,  2.49it/s]\n",
      "EP_56 | train loss: 0.43065221917395496 | val loss: 0.3712350299545363 |\n",
      "Epoch:  29%|██▉       | 58/200 [00:23<00:56,  2.53it/s]\n",
      "EP_57 | train loss: 0.43076996990278654 | val loss: 0.3696906087445278 |\n",
      "Epoch:  30%|██▉       | 59/200 [00:23<00:55,  2.56it/s]\n",
      "EP_58 | train loss: 0.4296313659817565 | val loss: 0.3683287127345216 |\n",
      "Epoch:  30%|███       | 60/200 [00:23<00:54,  2.59it/s]\n",
      "EP_59 | train loss: 0.4296058579987171 | val loss: 0.3688715544401431 |\n",
      "Epoch:  30%|███       | 61/200 [00:24<00:53,  2.57it/s]\n",
      "EP_60 | train loss: 0.42826463474946863 | val loss: 0.36582102495081287 |\n",
      "Epoch:  31%|███       | 62/200 [00:24<00:53,  2.59it/s]\n",
      "EP_61 | train loss: 0.42789582645191865 | val loss: 0.36461750374120827 |\n",
      "Epoch:  32%|███▏      | 63/200 [00:25<00:52,  2.61it/s]\n",
      "EP_62 | train loss: 0.4255587222529393 | val loss: 0.3618801610142577 |\n",
      "Epoch:  32%|███▏      | 64/200 [00:25<00:51,  2.62it/s]\n",
      "EP_63 | train loss: 0.42506991835201485 | val loss: 0.3623293217490701 |\n",
      "Epoch:  32%|███▎      | 65/200 [00:25<00:51,  2.63it/s]\n",
      "EP_64 | train loss: 0.42373299037708956 | val loss: 0.3618887680418351 |\n",
      "Epoch:  33%|███▎      | 66/200 [00:26<00:51,  2.60it/s]\n",
      "EP_65 | train loss: 0.4226974365757961 | val loss: 0.35954487323760986 |\n",
      "Epoch:  34%|███▎      | 67/200 [00:26<00:50,  2.62it/s]\n",
      "EP_66 | train loss: 0.4215709368387858 | val loss: 0.3562047925649905 |\n",
      "Epoch:  34%|███▍      | 68/200 [00:27<00:50,  2.64it/s]\n",
      "EP_67 | train loss: 0.4201151548647413 | val loss: 0.35489646593729657 |\n",
      "Epoch:  34%|███▍      | 69/200 [00:27<00:49,  2.64it/s]\n",
      "EP_68 | train loss: 0.4190548719144335 | val loss: 0.35318442010412027 |\n",
      "Epoch:  35%|███▌      | 70/200 [00:27<00:49,  2.65it/s]\n",
      "EP_69 | train loss: 0.4181188611423268 | val loss: 0.35252169475835915 |\n",
      "Epoch:  36%|███▌      | 71/200 [00:28<00:49,  2.61it/s]\n",
      "EP_70 | train loss: 0.41937448557685403 | val loss: 0.35499149502492416 |\n",
      "Epoch:  36%|███▌      | 72/200 [00:28<00:50,  2.55it/s]\n",
      "EP_71 | train loss: 0.4156211366840437 | val loss: 0.35044403987772327 |\n",
      "Epoch:  36%|███▋      | 73/200 [00:28<00:49,  2.56it/s]\n",
      "EP_72 | train loss: 0.414805409487556 | val loss: 0.34813228717037276 |\n",
      "Epoch:  37%|███▋      | 74/200 [00:29<00:48,  2.58it/s]\n",
      "EP_73 | train loss: 0.41468366080639407 | val loss: 0.34894014193731193 |\n",
      "Epoch:  38%|███▊      | 75/200 [00:29<00:48,  2.59it/s]\n",
      "EP_74 | train loss: 0.41250034313575895 | val loss: 0.34611688349761216 |\n",
      "Epoch:  38%|███▊      | 76/200 [00:30<00:48,  2.56it/s]\n",
      "EP_75 | train loss: 0.41166214241701016 | val loss: 0.34402141150306254 |\n",
      "Epoch:  38%|███▊      | 77/200 [00:30<00:47,  2.58it/s]\n",
      "EP_76 | train loss: 0.41075871504989325 | val loss: 0.343722647896 |\n",
      "Epoch:  39%|███▉      | 78/200 [00:30<00:47,  2.59it/s]\n",
      "EP_77 | train loss: 0.4092145947849049 | val loss: 0.34248290926802394 |\n",
      "Epoch:  40%|███▉      | 79/200 [00:31<00:46,  2.60it/s]\n",
      "EP_78 | train loss: 0.40787865601333917 | val loss: 0.33921980624105413 |\n",
      "Epoch:  40%|████      | 80/200 [00:31<00:46,  2.60it/s]\n",
      "EP_79 | train loss: 0.4080675106422574 | val loss: 0.3422251066156462 |\n",
      "Epoch:  40%|████      | 81/200 [00:32<00:46,  2.57it/s]\n",
      "EP_80 | train loss: 0.4059383121191287 | val loss: 0.33880557207500234 |\n",
      "Epoch:  41%|████      | 82/200 [00:32<00:45,  2.58it/s]\n",
      "EP_81 | train loss: 0.4043561841927323 | val loss: 0.3367171667370142 |\n",
      "Epoch:  42%|████▏     | 83/200 [00:32<00:45,  2.59it/s]\n",
      "EP_82 | train loss: 0.402965700860117 | val loss: 0.3354647451756047 |\n",
      "Epoch:  42%|████▏     | 84/200 [00:33<00:44,  2.60it/s]\n",
      "EP_83 | train loss: 0.40209508316189635 | val loss: 0.3325340660179363 |\n",
      "Epoch:  42%|████▎     | 85/200 [00:33<00:44,  2.61it/s]\n",
      "EP_84 | train loss: 0.39931026253045776 | val loss: 0.3317767402120665 |\n",
      "Epoch:  43%|████▎     | 86/200 [00:33<00:44,  2.58it/s]\n",
      "EP_85 | train loss: 0.39897392964830586 | val loss: 0.33269301758092995 |\n",
      "Epoch:  44%|████▎     | 87/200 [00:34<00:43,  2.60it/s]\n",
      "EP_86 | train loss: 0.39733348266751156 | val loss: 0.3302869019555111 |\n",
      "Epoch:  44%|████▍     | 88/200 [00:34<00:42,  2.61it/s]\n",
      "EP_87 | train loss: 0.3956848883161358 | val loss: 0.32888585562799494 |\n",
      "Epoch:  44%|████▍     | 89/200 [00:35<00:43,  2.57it/s]\n",
      "EP_88 | train loss: 0.394770398794436 | val loss: 0.32651954071194517 |\n",
      "Epoch:  45%|████▌     | 90/200 [00:35<00:42,  2.58it/s]\n",
      "EP_89 | train loss: 0.39250220691456517 | val loss: 0.32532162584510504 |\n",
      "Epoch:  46%|████▌     | 91/200 [00:35<00:42,  2.56it/s]\n",
      "EP_90 | train loss: 0.390994042041255 | val loss: 0.32357682959706174 |\n",
      "Epoch:  46%|████▌     | 92/200 [00:36<00:41,  2.59it/s]\n",
      "EP_91 | train loss: 0.3903341723423378 | val loss: 0.3227182159236833 |\n",
      "Epoch:  46%|████▋     | 93/200 [00:36<00:41,  2.60it/s]\n",
      "EP_92 | train loss: 0.38796335575627344 | val loss: 0.322069170720437 |\n",
      "Epoch:  47%|████▋     | 94/200 [00:37<00:40,  2.62it/s]\n",
      "EP_93 | train loss: 0.3862860539380242 | val loss: 0.31923483166040156 |\n",
      "Epoch:  48%|████▊     | 95/200 [00:37<00:40,  2.62it/s]\n",
      "EP_94 | train loss: 0.38528026973499974 | val loss: 0.32028235378218634 |\n",
      "Epoch:  48%|████▊     | 96/200 [00:37<00:40,  2.60it/s]\n",
      "EP_95 | train loss: 0.38466432234820197 | val loss: 0.31712474834685234 |\n",
      "Epoch:  48%|████▊     | 97/200 [00:38<00:39,  2.61it/s]\n",
      "EP_96 | train loss: 0.3810538348029642 | val loss: 0.31704205508325617 |\n",
      "Epoch:  49%|████▉     | 98/200 [00:38<00:38,  2.62it/s]\n",
      "EP_97 | train loss: 0.37969002022462733 | val loss: 0.31605838268410924 |\n",
      "Epoch:  50%|████▉     | 99/200 [00:38<00:38,  2.63it/s]\n",
      "EP_98 | train loss: 0.3779861384747075 | val loss: 0.31395821068801133 |\n",
      "Epoch:  50%|█████     | 100/200 [00:39<00:37,  2.63it/s]\n",
      "EP_99 | train loss: 0.37519055721806543 | val loss: 0.31199874071513906 |\n",
      "Epoch:  50%|█████     | 101/200 [00:39<00:38,  2.60it/s]\n",
      "EP_100 | train loss: 0.37722199383903954 | val loss: 0.3157089107176837 |\n",
      "Epoch:  51%|█████     | 102/200 [00:40<00:37,  2.61it/s]\n",
      "EP_101 | train loss: 0.371452267964681 | val loss: 0.3092716844642864 |\n",
      "Epoch:  52%|█████▏    | 103/200 [00:40<00:36,  2.63it/s]\n",
      "EP_102 | train loss: 0.37000089252696317 | val loss: 0.3082438169741163 |\n",
      "Epoch:  52%|█████▏    | 104/200 [00:40<00:36,  2.64it/s]\n",
      "EP_103 | train loss: 0.36828089227863386 | val loss: 0.30775870528875615 |\n",
      "Epoch:  52%|█████▎    | 105/200 [00:41<00:35,  2.65it/s]\n",
      "EP_104 | train loss: 0.3654200825036741 | val loss: 0.3047899007797241 |\n",
      "Epoch:  53%|█████▎    | 106/200 [00:41<00:36,  2.59it/s]\n",
      "EP_105 | train loss: 0.3642007827758789 | val loss: 0.3036201023587994 |\n",
      "Epoch:  54%|█████▎    | 107/200 [00:42<00:35,  2.60it/s]\n",
      "EP_106 | train loss: 0.3611083769330791 | val loss: 0.3014682946251888 |\n",
      "Epoch:  54%|█████▍    | 108/200 [00:42<00:35,  2.61it/s]\n",
      "EP_107 | train loss: 0.36203986429700663 | val loss: 0.3033512550241807 |\n",
      "Epoch:  55%|█████▍    | 109/200 [00:42<00:34,  2.63it/s]\n",
      "EP_108 | train loss: 0.35982883397270654 | val loss: 0.30327896277109784 |\n",
      "Epoch:  55%|█████▌    | 110/200 [00:43<00:34,  2.63it/s]\n",
      "EP_109 | train loss: 0.3542236463696349 | val loss: 0.29862067044949997 |\n",
      "Epoch:  56%|█████▌    | 111/200 [00:43<00:34,  2.59it/s]\n",
      "EP_110 | train loss: 0.3519486081366445 | val loss: 0.29459016872387306 |\n",
      "Epoch:  56%|█████▌    | 112/200 [00:43<00:33,  2.60it/s]\n",
      "EP_111 | train loss: 0.34953305581036737 | val loss: 0.2947237795474483 |\n",
      "Epoch:  56%|█████▋    | 113/200 [00:44<00:33,  2.61it/s]\n",
      "EP_112 | train loss: 0.34676736523123347 | val loss: 0.29279308225594314 |\n",
      "Epoch:  57%|█████▋    | 114/200 [00:44<00:32,  2.61it/s]\n",
      "EP_113 | train loss: 0.3436916949702244 | val loss: 0.29111462597753485 |\n",
      "Epoch:  57%|█████▊    | 115/200 [00:45<00:32,  2.61it/s]\n",
      "EP_114 | train loss: 0.34170829829047705 | val loss: 0.28860391471900193 |\n",
      "Epoch:  58%|█████▊    | 116/200 [00:45<00:32,  2.59it/s]\n",
      "EP_115 | train loss: 0.3393102940391092 | val loss: 0.28720894689653437 |\n",
      "Epoch:  58%|█████▊    | 117/200 [00:45<00:31,  2.60it/s]\n",
      "EP_116 | train loss: 0.33712169189079133 | val loss: 0.2865273788863537 |\n",
      "Epoch:  59%|█████▉    | 118/200 [00:46<00:31,  2.61it/s]\n",
      "EP_117 | train loss: 0.33838143208447624 | val loss: 0.28694748235683815 |\n",
      "Epoch:  60%|█████▉    | 119/200 [00:46<00:30,  2.62it/s]\n",
      "EP_118 | train loss: 0.3298065695108152 | val loss: 0.2809734338638829 |\n",
      "Epoch:  60%|██████    | 120/200 [00:46<00:30,  2.63it/s]\n",
      "EP_119 | train loss: 0.32734423805685603 | val loss: 0.28018281448121163 |\n",
      "Epoch:  60%|██████    | 121/200 [00:47<00:30,  2.60it/s]\n",
      "EP_120 | train loss: 0.3232493653016932 | val loss: 0.27964528752308265 |\n",
      "Epoch:  61%|██████    | 122/200 [00:47<00:29,  2.61it/s]\n",
      "EP_121 | train loss: 0.32062107581718297 | val loss: 0.2761686052761826 |\n",
      "Epoch:  62%|██████▏   | 123/200 [00:48<00:29,  2.59it/s]\n",
      "EP_122 | train loss: 0.32246693489598294 | val loss: 0.2799640969902861 |\n",
      "Epoch:  62%|██████▏   | 124/200 [00:48<00:29,  2.60it/s]\n",
      "EP_123 | train loss: 0.314977988542295 | val loss: 0.27298055969032586 |\n",
      "Epoch:  62%|██████▎   | 125/200 [00:48<00:28,  2.61it/s]\n",
      "EP_124 | train loss: 0.3124421484330121 | val loss: 0.27103307784772385 |\n",
      "Epoch:  63%|██████▎   | 126/200 [00:49<00:28,  2.58it/s]\n",
      "EP_125 | train loss: 0.30793211039374857 | val loss: 0.2663120791023853 |\n",
      "Epoch:  64%|██████▎   | 127/200 [00:49<00:28,  2.60it/s]\n",
      "EP_126 | train loss: 0.30545024451087505 | val loss: 0.26493190608772577 |\n",
      "Epoch:  64%|██████▍   | 128/200 [00:50<00:27,  2.61it/s]\n",
      "EP_127 | train loss: 0.3017373977922926 | val loss: 0.262256510701834 |\n",
      "Epoch:  64%|██████▍   | 129/200 [00:50<00:27,  2.62it/s]\n",
      "EP_128 | train loss: 0.301127243976967 | val loss: 0.2645391529681636 |\n",
      "Epoch:  65%|██████▌   | 130/200 [00:50<00:26,  2.63it/s]\n",
      "EP_129 | train loss: 0.294685585826051 | val loss: 0.258390101147633 |\n",
      "Epoch:  66%|██████▌   | 131/200 [00:51<00:26,  2.59it/s]\n",
      "EP_130 | train loss: 0.2916988204507267 | val loss: 0.2574848795638365 |\n",
      "Epoch:  66%|██████▌   | 132/200 [00:51<00:26,  2.61it/s]\n",
      "EP_131 | train loss: 0.2873068141002281 | val loss: 0.2523786875547147 |\n",
      "Epoch:  66%|██████▋   | 133/200 [00:51<00:25,  2.62it/s]\n",
      "EP_132 | train loss: 0.28518579473682476 | val loss: 0.2517702509375179 |\n",
      "Epoch:  67%|██████▋   | 134/200 [00:52<00:25,  2.62it/s]\n",
      "EP_133 | train loss: 0.2799024913825241 | val loss: 0.24722087733885822 |\n",
      "Epoch:  68%|██████▊   | 135/200 [00:52<00:24,  2.62it/s]\n",
      "EP_134 | train loss: 0.2762285026849485 | val loss: 0.24302244011093588 |\n",
      "Epoch:  68%|██████▊   | 136/200 [00:53<00:24,  2.59it/s]\n",
      "EP_135 | train loss: 0.2727461473614562 | val loss: 0.24507275983399035 |\n",
      "Epoch:  68%|██████▊   | 137/200 [00:53<00:24,  2.60it/s]\n",
      "EP_136 | train loss: 0.26935462904911417 | val loss: 0.24287401344261916 |\n",
      "Epoch:  69%|██████▉   | 138/200 [00:53<00:23,  2.61it/s]\n",
      "EP_137 | train loss: 0.26591492680942314 | val loss: 0.23681586922383777 |\n",
      "Epoch:  70%|██████▉   | 139/200 [00:54<00:23,  2.62it/s]\n",
      "EP_138 | train loss: 0.2597961949367149 | val loss: 0.23212196429570517 |\n",
      "Epoch:  70%|███████   | 140/200 [00:54<00:23,  2.61it/s]\n",
      "EP_139 | train loss: 0.2565369124506034 | val loss: 0.23221409028651668 |\n",
      "Epoch:  70%|███████   | 141/200 [00:55<00:22,  2.57it/s]\n",
      "EP_140 | train loss: 0.2524845188739253 | val loss: 0.2258165443644804 |\n",
      "Epoch:  71%|███████   | 142/200 [00:55<00:22,  2.58it/s]\n",
      "EP_141 | train loss: 0.24981013372832653 | val loss: 0.22814897696177164 |\n",
      "Epoch:  72%|███████▏  | 143/200 [00:55<00:22,  2.58it/s]\n",
      "EP_142 | train loss: 0.24926686614167456 | val loss: 0.21935706512600767 |\n",
      "Epoch:  72%|███████▏  | 144/200 [00:56<00:21,  2.56it/s]\n",
      "EP_143 | train loss: 0.2401060197867599 | val loss: 0.21469555765974754 |\n",
      "Epoch:  72%|███████▎  | 145/200 [00:56<00:21,  2.54it/s]\n",
      "EP_144 | train loss: 0.23494266809201708 | val loss: 0.21424181554831712 |\n",
      "Epoch:  73%|███████▎  | 146/200 [00:57<00:21,  2.50it/s]\n",
      "EP_145 | train loss: 0.2361575958775539 | val loss: 0.21079860715305104 |\n",
      "Epoch:  74%|███████▎  | 147/200 [00:57<00:21,  2.46it/s]\n",
      "EP_146 | train loss: 0.22649076171949797 | val loss: 0.20713102875971326 |\n",
      "Epoch:  74%|███████▍  | 148/200 [00:57<00:21,  2.46it/s]\n",
      "EP_147 | train loss: 0.2232336030286901 | val loss: 0.2083042562007904 |\n",
      "Epoch:  74%|███████▍  | 149/200 [00:58<00:20,  2.47it/s]\n",
      "EP_148 | train loss: 0.21825694850846833 | val loss: 0.19743008765519834 |\n",
      "Epoch:  75%|███████▌  | 150/200 [00:58<00:19,  2.50it/s]\n",
      "EP_149 | train loss: 0.21310649712880453 | val loss: 0.19201433600163928 |\n",
      "Epoch:  76%|███████▌  | 151/200 [00:59<00:20,  2.44it/s]\n",
      "EP_150 | train loss: 0.20825626569635727 | val loss: 0.18853437842107287 |\n",
      "Epoch:  76%|███████▌  | 152/200 [00:59<00:19,  2.41it/s]\n",
      "EP_151 | train loss: 0.20368253600363637 | val loss: 0.18433116171874253 |\n",
      "Epoch:  76%|███████▋  | 153/200 [00:59<00:19,  2.41it/s]\n",
      "EP_152 | train loss: 0.1997942653356814 | val loss: 0.18693160426382924 |\n",
      "Epoch:  77%|███████▋  | 154/200 [01:00<00:18,  2.46it/s]\n",
      "EP_153 | train loss: 0.19400785109576058 | val loss: 0.17777645587921143 |\n",
      "Epoch:  78%|███████▊  | 155/200 [01:00<00:18,  2.50it/s]\n",
      "EP_154 | train loss: 0.18900850146424536 | val loss: 0.17159932501175823 |\n",
      "Epoch:  78%|███████▊  | 156/200 [01:01<00:17,  2.47it/s]\n",
      "EP_155 | train loss: 0.18577081736396342 | val loss: 0.1677910977718877 |\n",
      "Epoch:  78%|███████▊  | 157/200 [01:01<00:17,  2.45it/s]\n",
      "EP_156 | train loss: 0.17981115696476954 | val loss: 0.1633774287560407 |\n",
      "Epoch:  79%|███████▉  | 158/200 [01:01<00:16,  2.48it/s]\n",
      "EP_157 | train loss: 0.18132894576764574 | val loss: 0.158078390009263 |\n",
      "Epoch:  80%|███████▉  | 159/200 [01:02<00:16,  2.49it/s]\n",
      "EP_158 | train loss: 0.18098385988497268 | val loss: 0.155964077687731 |\n",
      "Epoch:  80%|████████  | 160/200 [01:02<00:15,  2.50it/s]\n",
      "EP_159 | train loss: 0.1682434600942275 | val loss: 0.16247693463867785 |\n",
      "Epoch:  80%|████████  | 161/200 [01:03<00:15,  2.49it/s]\n",
      "EP_160 | train loss: 0.1599315972889171 | val loss: 0.1513375195802427 |\n",
      "Epoch:  81%|████████  | 162/200 [01:03<00:15,  2.51it/s]\n",
      "EP_161 | train loss: 0.15442678016774794 | val loss: 0.14381862972296922 |\n",
      "Epoch:  82%|████████▏ | 163/200 [01:03<00:14,  2.51it/s]\n",
      "EP_162 | train loss: 0.15033287113788082 | val loss: 0.14235828787672752 |\n",
      "Epoch:  82%|████████▏ | 164/200 [01:04<00:14,  2.47it/s]\n",
      "EP_163 | train loss: 0.15116453918756223 | val loss: 0.13023648308772667 |\n",
      "Epoch:  82%|████████▎ | 165/200 [01:04<00:14,  2.45it/s]\n",
      "EP_164 | train loss: 0.1384330200214012 | val loss: 0.13137256222612717 |\n",
      "Epoch:  83%|████████▎ | 166/200 [01:05<00:13,  2.46it/s]\n",
      "EP_165 | train loss: 0.13429320279289694 | val loss: 0.12334483861923218 |\n",
      "Epoch:  84%|████████▎ | 167/200 [01:05<00:13,  2.47it/s]\n",
      "EP_166 | train loss: 0.12981561469096764 | val loss: 0.11728192719758726 |\n",
      "Epoch:  84%|████████▍ | 168/200 [01:05<00:12,  2.46it/s]\n",
      "EP_167 | train loss: 0.12826659959905287 | val loss: 0.12798218282998777 |\n",
      "Epoch:  84%|████████▍ | 169/200 [01:06<00:12,  2.51it/s]\n",
      "EP_168 | train loss: 0.11922493051080142 | val loss: 0.10756403792138193 |\n",
      "Epoch:  85%|████████▌ | 170/200 [01:06<00:11,  2.54it/s]\n",
      "EP_169 | train loss: 0.11503283486646765 | val loss: 0.11096789673262951 |\n",
      "Epoch:  86%|████████▌ | 171/200 [01:07<00:11,  2.45it/s]\n",
      "EP_170 | train loss: 0.10934164407206516 | val loss: 0.10394268643622305 |\n",
      "Epoch:  86%|████████▌ | 172/200 [01:07<00:11,  2.48it/s]\n",
      "EP_171 | train loss: 0.10508771071247026 | val loss: 0.09602340354638941 |\n",
      "Epoch:  86%|████████▋ | 173/200 [01:07<00:10,  2.48it/s]\n",
      "EP_172 | train loss: 0.09971097941492119 | val loss: 0.09449175438460182 |\n",
      "Epoch:  87%|████████▋ | 174/200 [01:08<00:10,  2.47it/s]\n",
      "EP_173 | train loss: 0.09761764547404121 | val loss: 0.08817973616076451 |\n",
      "Epoch:  88%|████████▊ | 175/200 [01:08<00:10,  2.45it/s]\n",
      "EP_174 | train loss: 0.09146644075711569 | val loss: 0.0875382928871641 |\n",
      "Epoch:  88%|████████▊ | 176/200 [01:09<00:09,  2.45it/s]\n",
      "EP_175 | train loss: 0.08769379737330418 | val loss: 0.08621604360786139 |\n",
      "Epoch:  88%|████████▊ | 177/200 [01:09<00:09,  2.48it/s]\n",
      "EP_176 | train loss: 0.08403196147843903 | val loss: 0.0843216922937655 |\n",
      "Epoch:  89%|████████▉ | 178/200 [01:10<00:08,  2.47it/s]\n",
      "EP_177 | train loss: 0.08253652546920029 | val loss: 0.07665473105860691 |\n",
      "Epoch:  90%|████████▉ | 179/200 [01:10<00:08,  2.49it/s]\n",
      "EP_178 | train loss: 0.08912828085469264 | val loss: 0.07596477807736864 |\n",
      "Epoch:  90%|█████████ | 180/200 [01:10<00:08,  2.48it/s]\n",
      "EP_179 | train loss: 0.08483274392053193 | val loss: 0.0742901356196871 |\n",
      "Epoch:  90%|█████████ | 181/200 [01:11<00:07,  2.48it/s]\n",
      "EP_180 | train loss: 0.07040559871523988 | val loss: 0.07255122007108201 |\n",
      "Epoch:  91%|█████████ | 182/200 [01:11<00:07,  2.47it/s]\n",
      "EP_181 | train loss: 0.06877648818726632 | val loss: 0.06370844443639119 |\n",
      "Epoch:  92%|█████████▏| 183/200 [01:12<00:06,  2.43it/s]\n",
      "EP_182 | train loss: 0.06460390581804164 | val loss: 0.06624018473952424 |\n",
      "Epoch:  92%|█████████▏| 184/200 [01:12<00:06,  2.44it/s]\n",
      "EP_183 | train loss: 0.06302399226263458 | val loss: 0.06815043690742231 |\n",
      "Epoch:  92%|█████████▎| 185/200 [01:12<00:06,  2.47it/s]\n",
      "EP_184 | train loss: 0.05817155762045991 | val loss: 0.06200876729745491 |\n",
      "Epoch:  93%|█████████▎| 186/200 [01:13<00:05,  2.47it/s]\n",
      "EP_185 | train loss: 0.05450820992974674 | val loss: 0.05487078924973806 |\n",
      "Epoch:  94%|█████████▎| 187/200 [01:13<00:05,  2.42it/s]\n",
      "EP_186 | train loss: 0.051587793932241555 | val loss: 0.053552050800884474 |\n",
      "Epoch:  94%|█████████▍| 188/200 [01:14<00:05,  2.40it/s]\n",
      "EP_187 | train loss: 0.04935259877466688 | val loss: 0.048757487360168904 |\n",
      "Epoch:  94%|█████████▍| 189/200 [01:14<00:04,  2.42it/s]\n",
      "EP_188 | train loss: 0.04830505894679649 | val loss: 0.052700957246855196 |\n",
      "Epoch:  95%|█████████▌| 190/200 [01:14<00:04,  2.43it/s]\n",
      "EP_189 | train loss: 0.04543569479502883 | val loss: 0.04519683093416924 |\n",
      "Epoch:  96%|█████████▌| 191/200 [01:15<00:03,  2.44it/s]\n",
      "EP_190 | train loss: 0.04360410208795585 | val loss: 0.04439661608022802 |\n",
      "Epoch:  96%|█████████▌| 192/200 [01:15<00:03,  2.41it/s]\n",
      "EP_191 | train loss: 0.04310067447961546 | val loss: 0.04254861687328301 |\n",
      "Epoch:  96%|█████████▋| 193/200 [01:16<00:02,  2.41it/s]\n",
      "EP_192 | train loss: 0.03916164829450495 | val loss: 0.04330774075260349 |\n",
      "Epoch:  97%|█████████▋| 194/200 [01:16<00:02,  2.43it/s]\n",
      "EP_193 | train loss: 0.038011892286001464 | val loss: 0.04442255250086971 |\n",
      "Epoch:  98%|█████████▊| 195/200 [01:17<00:02,  2.37it/s]\n",
      "EP_194 | train loss: 0.03729694216859107 | val loss: 0.03720962650635663 |\n",
      "Epoch:  98%|█████████▊| 196/200 [01:17<00:01,  2.35it/s]\n",
      "EP_195 | train loss: 0.03471095801568499 | val loss: 0.03697162815460972 |\n",
      "Epoch:  98%|█████████▊| 197/200 [01:17<00:01,  2.34it/s]\n",
      "EP_196 | train loss: 0.03258162725205515 | val loss: 0.036559104554209056 |\n",
      "Epoch:  99%|█████████▉| 198/200 [01:18<00:00,  2.37it/s]\n",
      "EP_197 | train loss: 0.03095438974160774 | val loss: 0.03291916774184096 |\n",
      "Epoch: 100%|█████████▉| 199/200 [01:18<00:00,  2.39it/s]\n",
      "EP_198 | train loss: 0.03424411988725849 | val loss: 0.032775320258795045 |\n",
      "Epoch: 100%|██████████| 200/200 [01:19<00:00,  2.53it/s]\n",
      "EP_199 | train loss: 0.02881855409519345 | val loss: 0.029661220078374826 |\n",
      "\n"
     ]
    }
   ],
   "source": [
    "AttractiveTrainer.train()"
   ]
  },
  {
   "cell_type": "markdown",
   "metadata": {},
   "source": [
    "## for classification, not better"
   ]
  },
  {
   "cell_type": "markdown",
   "metadata": {},
   "source": [
    "## Below is testing"
   ]
  },
  {
   "cell_type": "code",
   "execution_count": 8,
   "metadata": {},
   "outputs": [
    {
     "output_type": "execute_result",
     "data": {
      "text/plain": [
       "AttractiveNet(\n",
       "  (embedding): AttractiveEmbedding(\n",
       "    (token): TokenEmbedding(12699, 300, padding_idx=1)\n",
       "  )\n",
       "  (category_embedding): CategoryEmbedding(18, 8, padding_idx=0)\n",
       "  (bigramcnn): Sequential(\n",
       "    (0): Conv1d(300, 200, kernel_size=(3,), stride=(1,), padding=(1,))\n",
       "    (1): ReLU()\n",
       "    (2): Conv1d(200, 100, kernel_size=(3,), stride=(1,), padding=(1,))\n",
       "    (3): ReLU()\n",
       "    (4): Dropout(p=0.3, inplace=False)\n",
       "  )\n",
       "  (trigramcnn): Sequential(\n",
       "    (0): Conv1d(300, 200, kernel_size=(3,), stride=(1,), padding=(1,))\n",
       "    (1): ReLU()\n",
       "    (2): Conv1d(200, 100, kernel_size=(3,), stride=(1,), padding=(1,))\n",
       "    (3): ReLU()\n",
       "    (4): Dropout(p=0.3, inplace=False)\n",
       "  )\n",
       "  (encoder_bigram_first): LSTM(100, 30, batch_first=True, dropout=0.3, bidirectional=True)\n",
       "  (encoder_trigram_first): LSTM(100, 30, batch_first=True, dropout=0.3, bidirectional=True)\n",
       "  (linear): Sequential(\n",
       "    (0): Linear(in_features=132, out_features=30, bias=True)\n",
       "    (1): ReLU()\n",
       "    (2): Linear(in_features=30, out_features=1, bias=True)\n",
       "  )\n",
       ")"
      ]
     },
     "metadata": {},
     "execution_count": 8
    }
   ],
   "source": [
    "from attractivenet import AttractiveNet\n",
    "\n",
    "PATH = './model/CNN_LSTM_20201106-214208/0.323249.120'\n",
    "\n",
    "load_model = AttractiveNet(config).to(AttractiveData.device)\n",
    "load_model.load_state_dict(torch.load(PATH))\n",
    "load_model.eval()"
   ]
  },
  {
   "cell_type": "code",
   "execution_count": 9,
   "metadata": {},
   "outputs": [],
   "source": [
    "def predict_attractive(sentence, category, phase):\n",
    "    indexed_sentence = [AttractiveData.TEXT.vocab.stoi[t] for t in sentence]\n",
    "    indexed_category = [AttractiveData.CATEGORIES_LABEL.vocab.stoi[category]]\n",
    "    tensor_sentence = torch.LongTensor(indexed_sentence).to(AttractiveData.device)\n",
    "    tensor_category = torch.LongTensor(indexed_category).to(AttractiveData.device)\n",
    "\n",
    "    tensor_sentence = tensor_sentence.unsqueeze(0)\n",
    "    # print(tensor_sentence.shape)\n",
    "\n",
    "    prediction = load_model(tensor_sentence, tensor_category, phase=phase)\n",
    "\n",
    "    return prediction"
   ]
  },
  {
   "cell_type": "code",
   "execution_count": 10,
   "metadata": {
    "tags": []
   },
   "outputs": [],
   "source": [
    "# train mean = 3.15, test mean = 2.8\n",
    "predict_list = []\n",
    "with torch.no_grad():\n",
    "    for i, sentence in enumerate(AttractiveData.test_data):\n",
    "        prediction = predict_attractive(sentence.Headline, sentence.Category, 'test')\n",
    "        predict_list.append(prediction.item())\n",
    "        # predict_list.append(prediction.item())\n",
    "AttractiveData.df_test['Label'] = predict_list\n",
    "AttractiveData.df_test[['ID', 'Label']].to_csv(config['save_name'] + '.csv', index=False)"
   ]
  },
  {
   "cell_type": "markdown",
   "metadata": {},
   "source": [
    "## Below for statistics"
   ]
  },
  {
   "cell_type": "code",
   "execution_count": 11,
   "metadata": {},
   "outputs": [],
   "source": [
    "import statistics\n",
    "from sklearn.metrics import mean_squared_error"
   ]
  },
  {
   "cell_type": "code",
   "execution_count": 12,
   "metadata": {},
   "outputs": [],
   "source": [
    "# # train mean = 3.15, test mean = 2.8\n",
    "# train_list = []\n",
    "# for i, sentence in enumerate(AttractiveData.train_data):\n",
    "#     prediction = predict_attractive(sentence.Headline, sentence.Category, 'train')\n",
    "#     train_list.append(prediction.item())\n",
    "#     # train_list.append(prediction.item())\n",
    "# # print(train_list)\n",
    "# mean_squared_error(pd.read_csv('data/train.csv').sort_values(['ID']).Label.to_list(), train_list), statistics.mean(train_list), statistics.stdev(train_list)"
   ]
  },
  {
   "cell_type": "code",
   "execution_count": 13,
   "metadata": {},
   "outputs": [],
   "source": [
    "# train_list[0:5], pd.read_csv('data/train.csv').sort_values(['ID']).Label.to_list()[0:5]"
   ]
  },
  {
   "cell_type": "code",
   "execution_count": 14,
   "metadata": {},
   "outputs": [],
   "source": [
    "# a = AttractiveData.df_train['Label'].to_list()\n",
    "# statistics.mean(a), statistics.stdev(a)"
   ]
  },
  {
   "cell_type": "code",
   "execution_count": 15,
   "metadata": {},
   "outputs": [
    {
     "output_type": "execute_result",
     "data": {
      "text/plain": [
       "(2.850928507187293, 0.3437823519893893)"
      ]
     },
     "metadata": {},
     "execution_count": 15
    }
   ],
   "source": [
    "statistics.mean(predict_list), statistics.stdev(predict_list)"
   ]
  },
  {
   "cell_type": "code",
   "execution_count": 16,
   "metadata": {},
   "outputs": [
    {
     "output_type": "execute_result",
     "data": {
      "text/plain": [
       "(0.020699589779812087, 2.774164993857497, 0.3615900775742119)"
      ]
     },
     "metadata": {},
     "execution_count": 16
    }
   ],
   "source": [
    "baseline_list = pd.read_csv('baseline.csv').sort_values(['ID']).Label.to_list()\n",
    "mean_squared_error(baseline_list, predict_list), statistics.mean(baseline_list), statistics.stdev(baseline_list)"
   ]
  },
  {
   "cell_type": "code",
   "execution_count": null,
   "metadata": {},
   "outputs": [],
   "source": []
  },
  {
   "cell_type": "code",
   "execution_count": 18,
   "metadata": {},
   "outputs": [
    {
     "data": {
      "text/plain": [
       "0.1609754968529207"
      ]
     },
     "execution_count": 18,
     "metadata": {},
     "output_type": "execute_result"
    }
   ],
   "source": [
    "mean_squared_error(pd.read_csv('baseline.csv').sort_values(['ID']).Label.to_list(), pd.read_csv('./predict/ensemble.csv').sort_values(['ID']).Label.to_list())"
   ]
  },
  {
   "cell_type": "code",
   "execution_count": 10,
   "metadata": {},
   "outputs": [],
   "source": [
    "from sklearn.model_selection import KFold\n",
    "import numpy as np"
   ]
  },
  {
   "cell_type": "code",
   "execution_count": 11,
   "metadata": {},
   "outputs": [],
   "source": []
  },
  {
   "cell_type": "code",
   "execution_count": 12,
   "metadata": {},
   "outputs": [
    {
     "data": {
      "text/plain": [
       "2040"
      ]
     },
     "execution_count": 12,
     "metadata": {},
     "output_type": "execute_result"
    }
   ],
   "source": [
    "len(AttractiveData.train_data.examples)"
   ]
  },
  {
   "cell_type": "code",
   "execution_count": 13,
   "metadata": {},
   "outputs": [],
   "source": []
  },
  {
   "cell_type": "code",
   "execution_count": null,
   "metadata": {},
   "outputs": [],
   "source": []
  }
 ],
 "metadata": {
  "kernelspec": {
   "display_name": "DS_hw2",
   "language": "python",
   "name": "ds_hw2"
  },
  "language_info": {
   "codemirror_mode": {
    "name": "ipython",
    "version": 3
   },
   "file_extension": ".py",
   "mimetype": "text/x-python",
   "name": "python",
   "nbconvert_exporter": "python",
   "pygments_lexer": "ipython3",
   "version": "3.6.12-final"
  }
 },
 "nbformat": 4,
 "nbformat_minor": 4
}