{
 "cells": [
  {
   "cell_type": "code",
   "execution_count": 1,
   "metadata": {},
   "outputs": [],
   "source": [
    "# common packages\n",
    "import pandas as pd\n",
    "import time\n",
    "\n",
    "# # DL framework\n",
    "import torch\n",
    "from torchtext import data\n",
    "\n",
    "from attractivedata import AttractiveData\n",
    "from trainer import AttractiveTrainer"
   ]
  },
  {
   "cell_type": "code",
   "execution_count": 2,
   "metadata": {},
   "outputs": [],
   "source": [
    "seed_value = 42\n",
    "torch.manual_seed(seed_value)\n",
    "torch.cuda.manual_seed(seed_value)\n",
    "torch.cuda.manual_seed_all(seed_value) # gpu vars\n",
    "torch.backends.cudnn.deterministic = True  #needed\n",
    "torch.backends.cudnn.benchmark = False"
   ]
  },
  {
   "cell_type": "markdown",
   "metadata": {},
   "source": [
    "## Load and prepare data"
   ]
  },
  {
   "cell_type": "code",
   "execution_count": 3,
   "metadata": {},
   "outputs": [],
   "source": [
    "train_file = 'data/train.csv'\n",
    "val_file = 'data/val.csv'\n",
    "test_file = 'data/test.csv'\n",
    "pretrained_file = 'glove.840B.300d'\n",
    "config = {\n",
    "    'max_seq': 40,\n",
    "    'min_freq': 0,\n",
    "    'batch_size': 64,\n",
    "    'pretrained_file': pretrained_file\n",
    "}\n"
   ]
  },
  {
   "cell_type": "code",
   "execution_count": 4,
   "metadata": {},
   "outputs": [],
   "source": [
    "AttractiveData = AttractiveData(train_file, val_file, test_file, pretrained_file, config)"
   ]
  },
  {
   "cell_type": "markdown",
   "metadata": {},
   "source": [
    "## Start to train"
   ]
  },
  {
   "cell_type": "code",
   "execution_count": 5,
   "metadata": {},
   "outputs": [
    {
     "output_type": "stream",
     "name": "stdout",
     "text": [
      "torch.Size([12699, 300])\n"
     ]
    }
   ],
   "source": [
    "config['timestr'] = time.strftime(\"%Y%m%d-%H%M%S\")\n",
    "config['save_name'] = 'CNN_LSTM'\n",
    "config['input_dim'] = len(AttractiveData.TEXT.vocab)\n",
    "config['embedding_dim'] = 300\n",
    "config['category_dim'] = len(AttractiveData.CATEGORIES_LABEL.vocab)\n",
    "config['category_embedding_dim'] = 10\n",
    "config['hidden_dim'] = 20\n",
    "config['output_dim'] = 1\n",
    "config['log_steps'] = 10\n",
    "config['epochs'] = 180\n",
    "config['lr'] = {\n",
    "    'encoder': 1e-5,\n",
    "    'embedding': 6e-6,\n",
    "    'linear': 1e-5\n",
    "}\n",
    "config['num_layers'] = 1\n",
    "config['kernel_size'] = 3\n",
    "config['dropout'] = 0.5\n",
    "config['train_len'] = AttractiveData.train_len\n",
    "config['val_len'] = AttractiveData.val_len\n",
    "config['test_len'] = AttractiveData.test_len\n",
    "\n",
    "pretrained_embeddings = AttractiveData.TEXT.vocab.vectors\n",
    "print(pretrained_embeddings.shape)"
   ]
  },
  {
   "cell_type": "code",
   "execution_count": 6,
   "metadata": {},
   "outputs": [],
   "source": [
    "AttractiveTrainer = AttractiveTrainer(config, AttractiveData.device, AttractiveData.trainloader, AttractiveData.valloader, pretrained_embeddings)"
   ]
  },
  {
   "cell_type": "code",
   "execution_count": 7,
   "metadata": {},
   "outputs": [
    {
     "output_type": "execute_result",
     "data": {
      "text/plain": [
       "(AttractiveNet(\n",
       "   (embedding): AttractiveEmbedding(\n",
       "     (token): TokenEmbedding(12699, 300, padding_idx=1)\n",
       "   )\n",
       "   (bigramcnn): Sequential(\n",
       "     (0): Conv1d(300, 210, kernel_size=(2,), stride=(1,), padding=(1,))\n",
       "     (1): ReLU()\n",
       "     (2): Conv1d(210, 100, kernel_size=(2,), stride=(1,), padding=(1,))\n",
       "     (3): ReLU()\n",
       "     (4): Dropout(p=0.5, inplace=False)\n",
       "   )\n",
       "   (trigramcnn): Sequential(\n",
       "     (0): Conv1d(300, 210, kernel_size=(3,), stride=(1,), padding=(1,))\n",
       "     (1): ReLU()\n",
       "     (2): Conv1d(210, 100, kernel_size=(3,), stride=(1,), padding=(1,))\n",
       "     (3): ReLU()\n",
       "     (4): Dropout(p=0.5, inplace=False)\n",
       "   )\n",
       "   (encoder_bigram): LSTM(100, 20, batch_first=True, dropout=0.5, bidirectional=True)\n",
       "   (encoder_trigram): LSTM(100, 20, batch_first=True, dropout=0.5, bidirectional=True)\n",
       "   (linear): Sequential(\n",
       "     (0): Linear(in_features=88, out_features=30, bias=True)\n",
       "     (1): ReLU()\n",
       "     (2): Linear(in_features=30, out_features=1, bias=True)\n",
       "   )\n",
       " ),\n",
       " 4272061,\n",
       " 4272061)"
      ]
     },
     "metadata": {},
     "execution_count": 7
    }
   ],
   "source": [
    "AttractiveTrainer.model, AttractiveTrainer.config['total_params'], AttractiveTrainer.config['total_learned_params']"
   ]
  },
  {
   "cell_type": "code",
   "execution_count": 8,
   "metadata": {
    "tags": [
     "outputPrepend"
    ]
   },
   "outputs": [
    {
     "output_type": "stream",
     "name": "stderr",
     "text": [
      "s: 0.4894674731235878 | val loss: 0.45131433243845026 |\n",
      "Epoch:  16%|█▌        | 28/180 [00:11<01:04,  2.37it/s]\n",
      "EP_27 | train loss: 0.48852398722779516 | val loss: 0.44564446047240613 |\n",
      "Epoch:  16%|█▌        | 29/180 [00:12<01:03,  2.37it/s]\n",
      "EP_28 | train loss: 0.48044592819961845 | val loss: 0.4405011149013744 |\n",
      "Epoch:  17%|█▋        | 30/180 [00:12<01:02,  2.40it/s]\n",
      "EP_29 | train loss: 0.48041810989379885 | val loss: 0.4337847583434161 |\n",
      "Epoch:  17%|█▋        | 31/180 [00:12<01:01,  2.43it/s]\n",
      "EP_30 | train loss: 0.4792070229848226 | val loss: 0.4277286120489532 |\n",
      "Epoch:  18%|█▊        | 32/180 [00:13<01:00,  2.46it/s]\n",
      "EP_31 | train loss: 0.47283306215323656 | val loss: 0.42132001063402963 |\n",
      "Epoch:  18%|█▊        | 33/180 [00:13<00:58,  2.49it/s]\n",
      "EP_32 | train loss: 0.46576914132810104 | val loss: 0.4162480351971645 |\n",
      "Epoch:  19%|█▉        | 34/180 [00:14<00:57,  2.53it/s]\n",
      "EP_33 | train loss: 0.4629243261673871 | val loss: 0.41046130832503824 |\n",
      "Epoch:  19%|█▉        | 35/180 [00:14<00:57,  2.54it/s]\n",
      "EP_34 | train loss: 0.45872161341648476 | val loss: 0.4060140871534161 |\n",
      "Epoch:  20%|██        | 36/180 [00:14<00:56,  2.53it/s]\n",
      "EP_35 | train loss: 0.4635316839405135 | val loss: 0.4012332219703525 |\n",
      "Epoch:  21%|██        | 37/180 [00:15<00:55,  2.56it/s]\n",
      "EP_36 | train loss: 0.4538340446995754 | val loss: 0.3944859025525112 |\n",
      "Epoch:  21%|██        | 38/180 [00:15<00:55,  2.57it/s]\n",
      "EP_37 | train loss: 0.4538943711449118 | val loss: 0.38994355470526454 |\n",
      "Epoch:  22%|██▏       | 39/180 [00:16<00:54,  2.58it/s]\n",
      "EP_38 | train loss: 0.45133459614772425 | val loss: 0.3857671741177054 |\n",
      "Epoch:  22%|██▏       | 40/180 [00:16<00:54,  2.59it/s]\n",
      "EP_39 | train loss: 0.44549321473813525 | val loss: 0.37983590364456177 |\n",
      "Epoch:  23%|██▎       | 41/180 [00:16<00:54,  2.55it/s]\n",
      "EP_40 | train loss: 0.44271797853357653 | val loss: 0.37564655203445285 |\n",
      "Epoch:  23%|██▎       | 42/180 [00:17<00:54,  2.55it/s]\n",
      "EP_41 | train loss: 0.4413677047280704 | val loss: 0.3718247086394067 |\n",
      "Epoch:  24%|██▍       | 43/180 [00:17<00:54,  2.52it/s]\n",
      "EP_42 | train loss: 0.43570287741866764 | val loss: 0.36681091843866837 |\n",
      "Epoch:  24%|██▍       | 44/180 [00:18<00:53,  2.53it/s]\n",
      "EP_43 | train loss: 0.4373995154511695 | val loss: 0.3640316035233292 |\n",
      "Epoch:  25%|██▌       | 45/180 [00:18<00:53,  2.53it/s]\n",
      "EP_44 | train loss: 0.43730089430715524 | val loss: 0.362551735312331 |\n",
      "Epoch:  26%|██▌       | 46/180 [00:18<00:54,  2.44it/s]\n",
      "EP_45 | train loss: 0.4337042163400089 | val loss: 0.3580462506004408 |\n",
      "Epoch:  26%|██▌       | 47/180 [00:19<00:54,  2.46it/s]\n",
      "EP_46 | train loss: 0.4355076560787126 | val loss: 0.3574516498575024 |\n",
      "Epoch:  27%|██▋       | 48/180 [00:19<00:53,  2.48it/s]\n",
      "EP_47 | train loss: 0.4252547965330236 | val loss: 0.3519357501291761 |\n",
      "Epoch:  27%|██▋       | 49/180 [00:20<00:52,  2.49it/s]\n",
      "EP_48 | train loss: 0.42472815700605804 | val loss: 0.3494761843307346 |\n",
      "Epoch:  28%|██▊       | 50/180 [00:20<00:51,  2.52it/s]\n",
      "EP_49 | train loss: 0.4259416421254476 | val loss: 0.34854405767777386 |\n",
      "Epoch:  28%|██▊       | 51/180 [00:20<00:52,  2.47it/s]\n",
      "EP_50 | train loss: 0.42184059947144753 | val loss: 0.34446437686097386 |\n",
      "Epoch:  29%|██▉       | 52/180 [00:21<00:51,  2.48it/s]\n",
      "EP_51 | train loss: 0.4195296053792916 | val loss: 0.3420906581130682 |\n",
      "Epoch:  29%|██▉       | 53/180 [00:21<00:50,  2.53it/s]\n",
      "EP_52 | train loss: 0.4194708085527607 | val loss: 0.34177897549143027 |\n",
      "Epoch:  30%|███       | 54/180 [00:22<00:50,  2.51it/s]\n",
      "EP_53 | train loss: 0.42087657778870824 | val loss: 0.34181293260817436 |\n",
      "Epoch:  31%|███       | 55/180 [00:22<00:49,  2.50it/s]\n",
      "EP_54 | train loss: 0.4140488834942088 | val loss: 0.3360501638814515 |\n",
      "Epoch:  31%|███       | 56/180 [00:22<00:50,  2.45it/s]\n",
      "EP_55 | train loss: 0.41315128382514504 | val loss: 0.3346354675059225 |\n",
      "Epoch:  32%|███▏      | 57/180 [00:23<00:49,  2.49it/s]\n",
      "EP_56 | train loss: 0.40848319577235803 | val loss: 0.3335381500861224 |\n",
      "Epoch:  32%|███▏      | 58/180 [00:23<00:48,  2.50it/s]\n",
      "EP_57 | train loss: 0.4088506146973255 | val loss: 0.3321387452237746 |\n",
      "Epoch:  33%|███▎      | 59/180 [00:24<00:48,  2.52it/s]\n",
      "EP_58 | train loss: 0.41171187606512333 | val loss: 0.33333998100430356 |\n",
      "Epoch:  33%|███▎      | 60/180 [00:24<00:47,  2.54it/s]\n",
      "EP_59 | train loss: 0.4041407557094798 | val loss: 0.32876436441552404 |\n",
      "Epoch:  34%|███▍      | 61/180 [00:24<00:47,  2.53it/s]\n",
      "EP_60 | train loss: 0.40483467251646754 | val loss: 0.32830802716460883 |\n",
      "Epoch:  34%|███▍      | 62/180 [00:25<00:46,  2.54it/s]\n",
      "EP_61 | train loss: 0.4042388046489042 | val loss: 0.3288046331966625 |\n",
      "Epoch:  35%|███▌      | 63/180 [00:25<00:46,  2.51it/s]\n",
      "EP_62 | train loss: 0.39738647143046063 | val loss: 0.32433896672491935 |\n",
      "Epoch:  36%|███▌      | 64/180 [00:26<00:45,  2.54it/s]\n",
      "EP_63 | train loss: 0.3950136530633066 | val loss: 0.3232352336247762 |\n",
      "Epoch:  36%|███▌      | 65/180 [00:26<00:45,  2.55it/s]\n",
      "EP_64 | train loss: 0.3938110501158471 | val loss: 0.3223209264231663 |\n",
      "Epoch:  37%|███▋      | 66/180 [00:26<00:44,  2.54it/s]\n",
      "EP_65 | train loss: 0.3924475585713106 | val loss: 0.3205614247742821 |\n",
      "Epoch:  37%|███▋      | 67/180 [00:27<00:44,  2.51it/s]\n",
      "EP_66 | train loss: 0.3904829745199166 | val loss: 0.3200088190097435 |\n",
      "Epoch:  38%|███▊      | 68/180 [00:27<00:44,  2.53it/s]\n",
      "EP_67 | train loss: 0.385237351585837 | val loss: 0.31901489870221006 |\n",
      "Epoch:  38%|███▊      | 69/180 [00:28<00:43,  2.53it/s]\n",
      "EP_68 | train loss: 0.38456195756500844 | val loss: 0.3176460301174837 |\n",
      "Epoch:  39%|███▉      | 70/180 [00:28<00:44,  2.45it/s]\n",
      "EP_69 | train loss: 0.3813716205896116 | val loss: 0.3165902390199549 |\n",
      "Epoch:  39%|███▉      | 71/180 [00:28<00:46,  2.34it/s]\n",
      "EP_70 | train loss: 0.37834254994111904 | val loss: 0.31509669738657337 |\n",
      "Epoch:  40%|████      | 72/180 [00:29<00:45,  2.38it/s]\n",
      "EP_71 | train loss: 0.378191390692019 | val loss: 0.3141802251338959 |\n",
      "Epoch:  41%|████      | 73/180 [00:29<00:43,  2.45it/s]\n",
      "EP_72 | train loss: 0.37927663933997063 | val loss: 0.314253254848368 |\n",
      "Epoch:  41%|████      | 74/180 [00:30<00:42,  2.50it/s]\n",
      "EP_73 | train loss: 0.372087968564501 | val loss: 0.31211496100706215 |\n",
      "Epoch:  42%|████▏     | 75/180 [00:30<00:41,  2.53it/s]\n",
      "EP_74 | train loss: 0.3712308318007226 | val loss: 0.3113978312296026 |\n",
      "Epoch:  42%|████▏     | 76/180 [00:30<00:41,  2.52it/s]\n",
      "EP_75 | train loss: 0.36769069737079096 | val loss: 0.3097195087694654 |\n",
      "Epoch:  43%|████▎     | 77/180 [00:31<00:40,  2.53it/s]\n",
      "EP_76 | train loss: 0.371855884439805 | val loss: 0.3109187851933872 |\n",
      "Epoch:  43%|████▎     | 78/180 [00:31<00:40,  2.51it/s]\n",
      "EP_77 | train loss: 0.3646525766335282 | val loss: 0.3064237990800072 |\n",
      "Epoch:  44%|████▍     | 79/180 [00:32<00:39,  2.53it/s]\n",
      "EP_78 | train loss: 0.3589046599818211 | val loss: 0.30491792805054607 |\n",
      "Epoch:  44%|████▍     | 80/180 [00:32<00:40,  2.48it/s]\n",
      "EP_79 | train loss: 0.36713080032199036 | val loss: 0.3078545063149695 |\n",
      "Epoch:  45%|████▌     | 81/180 [00:32<00:40,  2.43it/s]\n",
      "EP_80 | train loss: 0.35526202332739737 | val loss: 0.30193087633918314 |\n",
      "Epoch:  46%|████▌     | 82/180 [00:33<00:39,  2.46it/s]\n",
      "EP_81 | train loss: 0.3516034490921918 | val loss: 0.30112437933099034 |\n",
      "Epoch:  46%|████▌     | 83/180 [00:33<00:39,  2.46it/s]\n",
      "EP_82 | train loss: 0.34855520398009054 | val loss: 0.29980786290823247 |\n",
      "Epoch:  47%|████▋     | 84/180 [00:34<00:39,  2.43it/s]\n",
      "EP_83 | train loss: 0.3459421115763047 | val loss: 0.2970860021955827 |\n",
      "Epoch:  47%|████▋     | 85/180 [00:34<00:38,  2.44it/s]\n",
      "EP_84 | train loss: 0.3401772274690516 | val loss: 0.2996087109341341 |\n",
      "Epoch:  48%|████▊     | 86/180 [00:34<00:38,  2.46it/s]\n",
      "EP_85 | train loss: 0.3386822074067359 | val loss: 0.29760465318081425 |\n",
      "Epoch:  48%|████▊     | 87/180 [00:35<00:37,  2.50it/s]\n",
      "EP_86 | train loss: 0.3363590820162904 | val loss: 0.2939799463047701 |\n",
      "Epoch:  49%|████▉     | 88/180 [00:35<00:36,  2.53it/s]\n",
      "EP_87 | train loss: 0.3349729533288993 | val loss: 0.2912101026843576 |\n",
      "Epoch:  49%|████▉     | 89/180 [00:36<00:35,  2.55it/s]\n",
      "EP_88 | train loss: 0.33184100085613777 | val loss: 0.28873082294183616 |\n",
      "Epoch:  50%|█████     | 90/180 [00:36<00:35,  2.54it/s]\n",
      "EP_89 | train loss: 0.3269952516929776 | val loss: 0.28671865486631204 |\n",
      "Epoch:  51%|█████     | 91/180 [00:36<00:35,  2.49it/s]\n",
      "EP_90 | train loss: 0.3355481549805286 | val loss: 0.28699199358622235 |\n",
      "Epoch:  51%|█████     | 92/180 [00:37<00:34,  2.52it/s]\n",
      "EP_91 | train loss: 0.32206216092203177 | val loss: 0.28274214092422933 |\n",
      "Epoch:  52%|█████▏    | 93/180 [00:37<00:34,  2.50it/s]\n",
      "EP_92 | train loss: 0.3307211113911049 | val loss: 0.28338175193936216 |\n",
      "Epoch:  52%|█████▏    | 94/180 [00:38<00:35,  2.44it/s]\n",
      "EP_93 | train loss: 0.3189872152665082 | val loss: 0.2785249481014177 |\n",
      "Epoch:  53%|█████▎    | 95/180 [00:38<00:34,  2.49it/s]\n",
      "EP_94 | train loss: 0.3096972760032205 | val loss: 0.27645397887510414 |\n",
      "Epoch:  53%|█████▎    | 96/180 [00:38<00:33,  2.49it/s]\n",
      "EP_95 | train loss: 0.3109585205713908 | val loss: 0.27375488187752517 |\n",
      "Epoch:  54%|█████▍    | 97/180 [00:39<00:32,  2.53it/s]\n",
      "EP_96 | train loss: 0.3040067303414438 | val loss: 0.27289200588768603 |\n",
      "Epoch:  54%|█████▍    | 98/180 [00:39<00:32,  2.56it/s]\n",
      "EP_97 | train loss: 0.2988796495923809 | val loss: 0.2725643527274038 |\n",
      "Epoch:  55%|█████▌    | 99/180 [00:40<00:31,  2.57it/s]\n",
      "EP_98 | train loss: 0.29852110030604345 | val loss: 0.2654260811852474 |\n",
      "Epoch:  56%|█████▌    | 100/180 [00:40<00:31,  2.52it/s]\n",
      "EP_99 | train loss: 0.29805721956140857 | val loss: 0.26365773292148814 |\n",
      "Epoch:  56%|█████▌    | 101/180 [00:40<00:31,  2.47it/s]\n",
      "EP_100 | train loss: 0.288265723808139 | val loss: 0.266432476978676 |\n",
      "Epoch:  57%|█████▋    | 102/180 [00:41<00:31,  2.51it/s]\n",
      "EP_101 | train loss: 0.28411390641156364 | val loss: 0.2641206354487176 |\n",
      "Epoch:  57%|█████▋    | 103/180 [00:41<00:30,  2.55it/s]\n",
      "EP_102 | train loss: 0.2818178658391915 | val loss: 0.259237690299165 |\n",
      "Epoch:  58%|█████▊    | 104/180 [00:42<00:29,  2.56it/s]\n",
      "EP_103 | train loss: 0.27910513410381244 | val loss: 0.25165020484550327 |\n",
      "Epoch:  58%|█████▊    | 105/180 [00:42<00:29,  2.51it/s]\n",
      "EP_104 | train loss: 0.27307238438550163 | val loss: 0.24882843097050986 |\n",
      "Epoch:  59%|█████▉    | 106/180 [00:42<00:29,  2.50it/s]\n",
      "EP_105 | train loss: 0.28810364405314126 | val loss: 0.2505168207720214 |\n",
      "Epoch:  59%|█████▉    | 107/180 [00:43<00:29,  2.47it/s]\n",
      "EP_106 | train loss: 0.27604700116550224 | val loss: 0.24301104101480223 |\n",
      "Epoch:  60%|██████    | 108/180 [00:43<00:28,  2.50it/s]\n",
      "EP_107 | train loss: 0.2627668628505632 | val loss: 0.24025045598254485 |\n",
      "Epoch:  61%|██████    | 109/180 [00:44<00:28,  2.53it/s]\n",
      "EP_108 | train loss: 0.2629605438195023 | val loss: 0.23534874238219916 |\n",
      "Epoch:  61%|██████    | 110/180 [00:44<00:27,  2.55it/s]\n",
      "EP_109 | train loss: 0.26490537045048734 | val loss: 0.23469058731023004 |\n",
      "Epoch:  62%|██████▏   | 111/180 [00:44<00:27,  2.47it/s]\n",
      "EP_110 | train loss: 0.25155633664598653 | val loss: 0.22915209333101907 |\n",
      "Epoch:  62%|██████▏   | 112/180 [00:45<00:27,  2.47it/s]\n",
      "EP_111 | train loss: 0.24441607652925978 | val loss: 0.22837575977923824 |\n",
      "Epoch:  63%|██████▎   | 113/180 [00:45<00:26,  2.50it/s]\n",
      "EP_112 | train loss: 0.24516844889696907 | val loss: 0.21974601056061538 |\n",
      "Epoch:  63%|██████▎   | 114/180 [00:46<00:26,  2.49it/s]\n",
      "EP_113 | train loss: 0.24179397938298244 | val loss: 0.21567708955091588 |\n",
      "Epoch:  64%|██████▍   | 115/180 [00:46<00:25,  2.51it/s]\n",
      "EP_114 | train loss: 0.2432895866094851 | val loss: 0.214963856865378 |\n",
      "Epoch:  64%|██████▍   | 116/180 [00:46<00:26,  2.43it/s]\n",
      "EP_115 | train loss: 0.2311990027334176 | val loss: 0.20979706913817162 |\n",
      "Epoch:  65%|██████▌   | 117/180 [00:47<00:25,  2.45it/s]\n",
      "EP_116 | train loss: 0.22424174056333654 | val loss: 0.2072377573041355 |\n",
      "Epoch:  66%|██████▌   | 118/180 [00:47<00:25,  2.47it/s]\n",
      "EP_117 | train loss: 0.2242664528828041 | val loss: 0.2021683033774881 |\n",
      "Epoch:  66%|██████▌   | 119/180 [00:48<00:24,  2.51it/s]\n",
      "EP_118 | train loss: 0.22068775214400946 | val loss: 0.19729998824643155 |\n",
      "Epoch:  67%|██████▋   | 120/180 [00:48<00:23,  2.52it/s]\n",
      "EP_119 | train loss: 0.21412739332984476 | val loss: 0.19396290007759542 |\n",
      "Epoch:  67%|██████▋   | 121/180 [00:48<00:23,  2.52it/s]\n",
      "EP_120 | train loss: 0.2081052494984047 | val loss: 0.19135254621505737 |\n",
      "Epoch:  68%|██████▊   | 122/180 [00:49<00:22,  2.53it/s]\n",
      "EP_121 | train loss: 0.20084164563347312 | val loss: 0.18912690001375534 |\n",
      "Epoch:  68%|██████▊   | 123/180 [00:49<00:22,  2.55it/s]\n",
      "EP_122 | train loss: 0.19729915366453282 | val loss: 0.18825062349730848 |\n",
      "Epoch:  69%|██████▉   | 124/180 [00:50<00:21,  2.55it/s]\n",
      "EP_123 | train loss: 0.20803557470733045 | val loss: 0.180596110867519 |\n",
      "Epoch:  69%|██████▉   | 125/180 [00:50<00:21,  2.56it/s]\n",
      "EP_124 | train loss: 0.19113313777773988 | val loss: 0.17445162756770266 |\n",
      "Epoch:  70%|███████   | 126/180 [00:50<00:21,  2.53it/s]\n",
      "EP_125 | train loss: 0.18519893510668886 | val loss: 0.17560184294102238 |\n",
      "Epoch:  71%|███████   | 127/180 [00:51<00:20,  2.55it/s]\n",
      "EP_126 | train loss: 0.18232769241520003 | val loss: 0.16536149207283468 |\n",
      "Epoch:  71%|███████   | 128/180 [00:51<00:20,  2.56it/s]\n",
      "EP_127 | train loss: 0.17697986504610846 | val loss: 0.16250304497924506 |\n",
      "Epoch:  72%|███████▏  | 129/180 [00:52<00:19,  2.58it/s]\n",
      "EP_128 | train loss: 0.17101966095905677 | val loss: 0.16742036506241442 |\n",
      "Epoch:  72%|███████▏  | 130/180 [00:52<00:19,  2.59it/s]\n",
      "EP_129 | train loss: 0.16732332145466525 | val loss: 0.1552189325585085 |\n",
      "Epoch:  73%|███████▎  | 131/180 [00:52<00:19,  2.57it/s]\n",
      "EP_130 | train loss: 0.16186297290465412 | val loss: 0.15281621001514734 |\n",
      "Epoch:  73%|███████▎  | 132/180 [00:53<00:18,  2.58it/s]\n",
      "EP_131 | train loss: 0.16635372708825505 | val loss: 0.14607548363068523 |\n",
      "Epoch:  74%|███████▍  | 133/180 [00:53<00:18,  2.60it/s]\n",
      "EP_132 | train loss: 0.16783297459284466 | val loss: 0.14246507251963897 |\n",
      "Epoch:  74%|███████▍  | 134/180 [00:53<00:17,  2.61it/s]\n",
      "EP_133 | train loss: 0.16244792961606794 | val loss: 0.13798739980248845 |\n",
      "Epoch:  75%|███████▌  | 135/180 [00:54<00:17,  2.61it/s]\n",
      "EP_134 | train loss: 0.15757557784809786 | val loss: 0.13559049776956147 |\n",
      "Epoch:  76%|███████▌  | 136/180 [00:54<00:17,  2.58it/s]\n",
      "EP_135 | train loss: 0.1471050694877026 | val loss: 0.1307269007551904 |\n",
      "Epoch:  76%|███████▌  | 137/180 [00:55<00:16,  2.61it/s]\n",
      "EP_136 | train loss: 0.1380791385968526 | val loss: 0.12582057130103017 |\n",
      "Epoch:  77%|███████▋  | 138/180 [00:55<00:16,  2.60it/s]\n",
      "EP_137 | train loss: 0.1327845802494124 | val loss: 0.1231755804197461 |\n",
      "Epoch:  77%|███████▋  | 139/180 [00:55<00:16,  2.56it/s]\n",
      "EP_138 | train loss: 0.12905985374076695 | val loss: 0.11790867997150795 |\n",
      "Epoch:  78%|███████▊  | 140/180 [00:56<00:15,  2.52it/s]\n",
      "EP_139 | train loss: 0.12772660582673315 | val loss: 0.13194638724420585 |\n",
      "Epoch:  78%|███████▊  | 141/180 [00:56<00:16,  2.42it/s]\n",
      "EP_140 | train loss: 0.1307334537599601 | val loss: 0.11174125063653086 |\n",
      "Epoch:  79%|███████▉  | 142/180 [00:57<00:15,  2.46it/s]\n",
      "EP_141 | train loss: 0.11892739464254941 | val loss: 0.10777751955331541 |\n",
      "Epoch:  79%|███████▉  | 143/180 [00:57<00:15,  2.45it/s]\n",
      "EP_142 | train loss: 0.11368939689561433 | val loss: 0.10663315945980596 |\n",
      "Epoch:  80%|████████  | 144/180 [00:57<00:14,  2.49it/s]\n",
      "EP_143 | train loss: 0.11359594335743026 | val loss: 0.10161473967281043 |\n",
      "Epoch:  81%|████████  | 145/180 [00:58<00:14,  2.47it/s]\n",
      "EP_144 | train loss: 0.10373367351644179 | val loss: 0.10501045047068129 |\n",
      "Epoch:  81%|████████  | 146/180 [00:58<00:14,  2.42it/s]\n",
      "EP_145 | train loss: 0.13072812977959128 | val loss: 0.10766871536479276 |\n",
      "Epoch:  82%|████████▏ | 147/180 [00:59<00:13,  2.46it/s]\n",
      "EP_146 | train loss: 0.10172217909027548 | val loss: 0.09275860091050465 |\n",
      "Epoch:  82%|████████▏ | 148/180 [00:59<00:12,  2.48it/s]\n",
      "EP_147 | train loss: 0.10484676010468427 | val loss: 0.09090475854920406 |\n",
      "Epoch:  83%|████████▎ | 149/180 [00:59<00:12,  2.52it/s]\n",
      "EP_148 | train loss: 0.09230984379263485 | val loss: 0.08642751212213554 |\n",
      "Epoch:  83%|████████▎ | 150/180 [01:00<00:11,  2.54it/s]\n",
      "EP_149 | train loss: 0.09490433346991446 | val loss: 0.08340583800100813 |\n",
      "Epoch:  84%|████████▍ | 151/180 [01:00<00:11,  2.53it/s]\n",
      "EP_150 | train loss: 0.08750626783744962 | val loss: 0.0807019065992505 |\n",
      "Epoch:  84%|████████▍ | 152/180 [01:01<00:10,  2.55it/s]\n",
      "EP_151 | train loss: 0.0857877866894591 | val loss: 0.09061457888752807 |\n",
      "Epoch:  85%|████████▌ | 153/180 [01:01<00:10,  2.57it/s]\n",
      "EP_152 | train loss: 0.08834048673218371 | val loss: 0.07734883532804601 |\n",
      "Epoch:  86%|████████▌ | 154/180 [01:01<00:10,  2.59it/s]\n",
      "EP_153 | train loss: 0.09360539457377265 | val loss: 0.07865594941027024 |\n",
      "Epoch:  86%|████████▌ | 155/180 [01:02<00:09,  2.59it/s]\n",
      "EP_154 | train loss: 0.07683632677676631 | val loss: 0.08333041460490694 |\n",
      "Epoch:  87%|████████▋ | 156/180 [01:02<00:09,  2.50it/s]\n",
      "EP_155 | train loss: 0.07166384072864757 | val loss: 0.06819350257808086 |\n",
      "Epoch:  87%|████████▋ | 157/180 [01:03<00:09,  2.54it/s]\n",
      "EP_156 | train loss: 0.07124596787433998 | val loss: 0.06492070882928137 |\n",
      "Epoch:  88%|████████▊ | 158/180 [01:03<00:08,  2.56it/s]\n",
      "EP_157 | train loss: 0.06739527092260474 | val loss: 0.0727184831219561 |\n",
      "Epoch:  88%|████████▊ | 159/180 [01:03<00:08,  2.58it/s]\n",
      "EP_158 | train loss: 0.06405403871162264 | val loss: 0.06908811745690364 |\n",
      "Epoch:  89%|████████▉ | 160/180 [01:04<00:07,  2.58it/s]\n",
      "EP_159 | train loss: 0.060808336150412465 | val loss: 0.06056857985608718 |\n",
      "Epoch:  89%|████████▉ | 161/180 [01:04<00:07,  2.55it/s]\n",
      "EP_160 | train loss: 0.08437674022188374 | val loss: 0.07092551857817407 |\n",
      "Epoch:  90%|█████████ | 162/180 [01:05<00:07,  2.56it/s]\n",
      "EP_161 | train loss: 0.06153319676717122 | val loss: 0.05873423639465781 |\n",
      "Epoch:  91%|█████████ | 163/180 [01:05<00:06,  2.57it/s]\n",
      "EP_162 | train loss: 0.05675730062466042 | val loss: 0.05687990287939707 |\n",
      "Epoch:  91%|█████████ | 164/180 [01:05<00:06,  2.59it/s]\n",
      "EP_163 | train loss: 0.09697329390282725 | val loss: 0.08174023558111752 |\n",
      "Epoch:  92%|█████████▏| 165/180 [01:06<00:05,  2.60it/s]\n",
      "EP_164 | train loss: 0.051535729333466174 | val loss: 0.057336387681026085 |\n",
      "Epoch:  92%|█████████▏| 166/180 [01:06<00:05,  2.56it/s]\n",
      "EP_165 | train loss: 0.051281943858838545 | val loss: 0.05197574753387302 |\n",
      "Epoch:  93%|█████████▎| 167/180 [01:06<00:05,  2.58it/s]\n",
      "EP_166 | train loss: 0.047546289130753164 | val loss: 0.052919840403631624 |\n",
      "Epoch:  93%|█████████▎| 168/180 [01:07<00:04,  2.60it/s]\n",
      "EP_167 | train loss: 0.04610587019546359 | val loss: 0.05260275041355806 |\n",
      "Epoch:  94%|█████████▍| 169/180 [01:07<00:04,  2.61it/s]\n",
      "EP_168 | train loss: 0.04511237010067584 | val loss: 0.04805651102580276 |\n",
      "Epoch:  94%|█████████▍| 170/180 [01:08<00:03,  2.62it/s]\n",
      "EP_169 | train loss: 0.043726797431123024 | val loss: 0.0460598687915241 |\n",
      "Epoch:  95%|█████████▌| 171/180 [01:08<00:03,  2.58it/s]\n",
      "EP_170 | train loss: 0.0419129844974069 | val loss: 0.0436760422353651 |\n",
      "Epoch:  96%|█████████▌| 172/180 [01:08<00:03,  2.58it/s]\n",
      "EP_171 | train loss: 0.04155227740605672 | val loss: 0.044304976276322905 |\n",
      "Epoch:  96%|█████████▌| 173/180 [01:09<00:02,  2.58it/s]\n",
      "EP_172 | train loss: 0.03971369278197195 | val loss: 0.043629859592400344 |\n",
      "Epoch:  97%|█████████▋| 174/180 [01:09<00:02,  2.60it/s]\n",
      "EP_173 | train loss: 0.037644079152275536 | val loss: 0.044305584448225355 |\n",
      "Epoch:  97%|█████████▋| 175/180 [01:10<00:01,  2.59it/s]\n",
      "EP_174 | train loss: 0.06729812610383128 | val loss: 0.058368068991922865 |\n",
      "Epoch:  98%|█████████▊| 176/180 [01:10<00:01,  2.56it/s]\n",
      "EP_175 | train loss: 0.03775980817336662 | val loss: 0.036917989014410506 |\n",
      "Epoch:  98%|█████████▊| 177/180 [01:10<00:01,  2.55it/s]\n",
      "EP_176 | train loss: 0.03891873032438989 | val loss: 0.037245611788011064 |\n",
      "Epoch:  99%|█████████▉| 178/180 [01:11<00:00,  2.56it/s]\n",
      "EP_177 | train loss: 0.03897470767591514 | val loss: 0.03747849575444764 |\n",
      "Epoch:  99%|█████████▉| 179/180 [01:11<00:00,  2.58it/s]\n",
      "EP_178 | train loss: 0.03268575913765851 | val loss: 0.033918931934179046 |\n",
      "Epoch: 100%|██████████| 180/180 [01:11<00:00,  2.50it/s]\n",
      "EP_179 | train loss: 0.032130036108634054 | val loss: 0.03513235949418124 |\n",
      "\n"
     ]
    }
   ],
   "source": [
    "AttractiveTrainer.train()"
   ]
  },
  {
   "cell_type": "markdown",
   "metadata": {},
   "source": [
    "## Below is testing"
   ]
  },
  {
   "cell_type": "code",
   "execution_count": 6,
   "metadata": {},
   "outputs": [
    {
     "output_type": "execute_result",
     "data": {
      "text/plain": [
       "AttractiveNet(\n",
       "  (embedding): AttractiveEmbedding(\n",
       "    (token): TokenEmbedding(12699, 300, padding_idx=1)\n",
       "  )\n",
       "  (bigramcnn): Sequential(\n",
       "    (0): Conv1d(300, 210, kernel_size=(2,), stride=(1,), padding=(1,))\n",
       "    (1): ReLU()\n",
       "    (2): Conv1d(210, 100, kernel_size=(2,), stride=(1,), padding=(1,))\n",
       "    (3): ReLU()\n",
       "    (4): Dropout(p=0.5, inplace=False)\n",
       "  )\n",
       "  (trigramcnn): Sequential(\n",
       "    (0): Conv1d(300, 210, kernel_size=(3,), stride=(1,), padding=(1,))\n",
       "    (1): ReLU()\n",
       "    (2): Conv1d(210, 100, kernel_size=(3,), stride=(1,), padding=(1,))\n",
       "    (3): ReLU()\n",
       "    (4): Dropout(p=0.5, inplace=False)\n",
       "  )\n",
       "  (encoder_bigram): LSTM(100, 20, batch_first=True, dropout=0.5, bidirectional=True)\n",
       "  (encoder_trigram): LSTM(100, 20, batch_first=True, dropout=0.5, bidirectional=True)\n",
       "  (linear): Sequential(\n",
       "    (0): Linear(in_features=88, out_features=30, bias=True)\n",
       "    (1): ReLU()\n",
       "    (2): Linear(in_features=30, out_features=1, bias=True)\n",
       "  )\n",
       ")"
      ]
     },
     "metadata": {},
     "execution_count": 6
    }
   ],
   "source": [
    "from attractivenet import AttractiveNet\n",
    "\n",
    "PATH = './model/CNN_LSTM_20201109-124248/0.378343.70'\n",
    "\n",
    "load_model = AttractiveNet(config).to(AttractiveData.device)\n",
    "load_model.load_state_dict(torch.load(PATH))\n",
    "load_model.eval()"
   ]
  },
  {
   "cell_type": "code",
   "execution_count": 7,
   "metadata": {},
   "outputs": [],
   "source": [
    "def predict_attractive(sentence, category, phase):\n",
    "    indexed_sentence = [AttractiveData.TEXT.vocab.stoi[t] for t in sentence]\n",
    "    indexed_category = [AttractiveData.CATEGORIES_LABEL.vocab.stoi[category]]\n",
    "    tensor_sentence = torch.LongTensor(indexed_sentence).to(AttractiveData.device)\n",
    "    tensor_category = torch.LongTensor(indexed_category).to(AttractiveData.device)\n",
    "    tensor_sentence = tensor_sentence.unsqueeze(0)\n",
    "\n",
    "    prediction = load_model(tensor_sentence, tensor_category, phase=phase)\n",
    "\n",
    "    return prediction"
   ]
  },
  {
   "cell_type": "code",
   "execution_count": 8,
   "metadata": {
    "tags": []
   },
   "outputs": [],
   "source": [
    "# train mean = 3.15, test mean = 2.8\n",
    "predict_list = []\n",
    "with torch.no_grad():\n",
    "    for i, sentence in enumerate(AttractiveData.test_data):\n",
    "        prediction = predict_attractive(sentence.Headline, sentence.Category, 'test')\n",
    "        predict_list.append(prediction.item())\n",
    "        # predict_list.append(prediction.item())\n",
    "AttractiveData.df_test['Label'] = predict_list\n",
    "AttractiveData.df_test[['ID', 'Label']].to_csv(config['save_name'] + '.csv', index=False)"
   ]
  },
  {
   "cell_type": "markdown",
   "metadata": {},
   "source": [
    "## Below for statistics"
   ]
  },
  {
   "cell_type": "code",
   "execution_count": 9,
   "metadata": {},
   "outputs": [],
   "source": [
    "import statistics\n",
    "from sklearn.metrics import mean_squared_error"
   ]
  },
  {
   "cell_type": "code",
   "execution_count": 10,
   "metadata": {},
   "outputs": [],
   "source": [
    "# # train mean = 3.15, test mean = 2.8\n",
    "# train_list = []\n",
    "# for i, sentence in enumerate(AttractiveData.train_data):\n",
    "#     prediction = predict_attractive(sentence.Headline, sentence.Category, 'train')\n",
    "#     train_list.append(prediction.item())\n",
    "#     # train_list.append(prediction.item())\n",
    "# # print(train_list)\n",
    "# mean_squared_error(pd.read_csv('data/train.csv').sort_values(['ID']).Label.to_list(), train_list), statistics.mean(train_list), statistics.stdev(train_list)"
   ]
  },
  {
   "cell_type": "code",
   "execution_count": 11,
   "metadata": {},
   "outputs": [],
   "source": [
    "# train_list[0:5], pd.read_csv('data/train.csv').sort_values(['ID']).Label.to_list()[0:5]"
   ]
  },
  {
   "cell_type": "code",
   "execution_count": 12,
   "metadata": {},
   "outputs": [],
   "source": [
    "# a = AttractiveData.df_train['Label'].to_list()\n",
    "# statistics.mean(a), statistics.stdev(a)"
   ]
  },
  {
   "cell_type": "code",
   "execution_count": 13,
   "metadata": {},
   "outputs": [
    {
     "output_type": "execute_result",
     "data": {
      "text/plain": [
       "(2.7304908100203797, 0.3552471507934536)"
      ]
     },
     "metadata": {},
     "execution_count": 13
    }
   ],
   "source": [
    "statistics.mean(predict_list), statistics.stdev(predict_list)"
   ]
  },
  {
   "cell_type": "code",
   "execution_count": 14,
   "metadata": {},
   "outputs": [
    {
     "output_type": "execute_result",
     "data": {
      "text/plain": [
       "(0.006943606380941127, 2.783861954306716, 0.36437382915352245)"
      ]
     },
     "metadata": {},
     "execution_count": 14
    }
   ],
   "source": [
    "baseline_list = pd.read_csv('baseline.csv').sort_values(['ID']).Label.to_list()\n",
    "mean_squared_error(baseline_list, predict_list), statistics.mean(baseline_list), statistics.stdev(baseline_list)"
   ]
  },
  {
   "cell_type": "code",
   "execution_count": null,
   "metadata": {},
   "outputs": [],
   "source": []
  },
  {
   "cell_type": "code",
   "execution_count": 7,
   "metadata": {},
   "outputs": [
    {
     "output_type": "execute_result",
     "data": {
      "text/plain": [
       "0.0"
      ]
     },
     "metadata": {},
     "execution_count": 7
    }
   ],
   "source": [
    "mean_squared_error(pd.read_csv('baseline.csv').sort_values(['ID']).Label.to_list(), pd.read_csv('./predict/CNN_LSTM_20201107-202605_0.374917.75.csv').sort_values(['ID']).Label.to_list())"
   ]
  },
  {
   "cell_type": "code",
   "execution_count": 13,
   "metadata": {},
   "outputs": [],
   "source": []
  },
  {
   "cell_type": "code",
   "execution_count": null,
   "metadata": {},
   "outputs": [],
   "source": []
  }
 ],
 "metadata": {
  "kernelspec": {
   "display_name": "DS_hw2",
   "language": "python",
   "name": "ds_hw2"
  },
  "language_info": {
   "codemirror_mode": {
    "name": "ipython",
    "version": 3
   },
   "file_extension": ".py",
   "mimetype": "text/x-python",
   "name": "python",
   "nbconvert_exporter": "python",
   "pygments_lexer": "ipython3",
   "version": "3.6.12-final"
  }
 },
 "nbformat": 4,
 "nbformat_minor": 4
}