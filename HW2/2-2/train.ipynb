{
 "cells": [
  {
   "cell_type": "code",
   "execution_count": 1,
   "metadata": {},
   "outputs": [],
   "source": [
    "# common packages\n",
    "import pandas as pd\n",
    "import time\n",
    "\n",
    "# # DL framework\n",
    "import torch\n",
    "from torchtext import data\n",
    "\n",
    "from attractivedata import AttractiveData\n",
    "from trainer import AttractiveTrainer"
   ]
  },
  {
   "cell_type": "code",
   "execution_count": 2,
   "metadata": {},
   "outputs": [],
   "source": [
    "seed_value = 42\n",
    "torch.manual_seed(seed_value)\n",
    "torch.cuda.manual_seed(seed_value)\n",
    "torch.cuda.manual_seed_all(seed_value) # gpu vars\n",
    "torch.backends.cudnn.deterministic = True  #needed\n",
    "torch.backends.cudnn.benchmark = False"
   ]
  },
  {
   "cell_type": "markdown",
   "metadata": {},
   "source": [
    "# TODO: \n",
    "- [ ] cnn plus residual network\n",
    "- [ ] word embedding multiply tfidf\n",
    "- [ ] use word2vec"
   ]
  },
  {
   "cell_type": "markdown",
   "metadata": {},
   "source": [
    "## Load and prepare data"
   ]
  },
  {
   "cell_type": "code",
   "execution_count": 3,
   "metadata": {},
   "outputs": [],
   "source": [
    "train_file = 'data/train.csv'\n",
    "val_file = 'example/val.csv'\n",
    "test_file = 'data/test.csv'\n",
    "pretrained_file = 'glove.840B.300d'\n",
    "config = {\n",
    "    'max_seq': 40,\n",
    "    'min_freq': 0,\n",
    "    'batch_size': 64,\n",
    "    'pretrained_file': pretrained_file\n",
    "}\n"
   ]
  },
  {
   "cell_type": "code",
   "execution_count": 4,
   "metadata": {},
   "outputs": [],
   "source": [
    "AttractiveData = AttractiveData(train_file, val_file, test_file, pretrained_file, config)"
   ]
  },
  {
   "cell_type": "markdown",
   "metadata": {},
   "source": [
    "## Start to train"
   ]
  },
  {
   "cell_type": "code",
   "execution_count": 5,
   "metadata": {},
   "outputs": [
    {
     "output_type": "stream",
     "name": "stdout",
     "text": [
      "torch.Size([12699, 300])\n"
     ]
    }
   ],
   "source": [
    "config['timestr'] = time.strftime(\"%Y%m%d-%H%M%S\")\n",
    "config['save_name'] = 'CNN_LSTM'\n",
    "config['input_dim'] = len(AttractiveData.TEXT.vocab)\n",
    "config['embedding_dim'] = 300\n",
    "config['category_dim'] = len(AttractiveData.CATEGORIES_LABEL.vocab)\n",
    "config['category_embedding_dim'] = 10\n",
    "config['hidden_dim'] = 30\n",
    "config['output_dim'] = 1\n",
    "config['log_steps'] = 10\n",
    "config['epochs'] = 200\n",
    "config['lr'] = {\n",
    "    'encoder': 1e-5,\n",
    "    'embedding': 6e-6,\n",
    "    'linear': 1e-5\n",
    "}\n",
    "config['num_layers'] = 1\n",
    "config['kernel_size'] = 3\n",
    "config['dropout'] = 0.5\n",
    "config['train_len'] = AttractiveData.train_len\n",
    "config['val_len'] = AttractiveData.val_len\n",
    "config['test_len'] = AttractiveData.test_len\n",
    "\n",
    "pretrained_embeddings = AttractiveData.TEXT.vocab.vectors\n",
    "print(pretrained_embeddings.shape)"
   ]
  },
  {
   "cell_type": "code",
   "execution_count": 6,
   "metadata": {},
   "outputs": [],
   "source": [
    "AttractiveTrainer = AttractiveTrainer(config, AttractiveData.device, AttractiveData.trainloader, AttractiveData.valloader, pretrained_embeddings)"
   ]
  },
  {
   "cell_type": "code",
   "execution_count": 7,
   "metadata": {},
   "outputs": [
    {
     "output_type": "execute_result",
     "data": {
      "text/plain": [
       "(AttractiveNet(\n",
       "   (embedding): AttractiveEmbedding(\n",
       "     (token): TokenEmbedding(12699, 300, padding_idx=1)\n",
       "   )\n",
       "   (bigramcnn): Sequential(\n",
       "     (0): Conv1d(300, 210, kernel_size=(2,), stride=(1,), padding=(1,))\n",
       "     (1): ReLU6()\n",
       "     (2): Conv1d(210, 100, kernel_size=(2,), stride=(1,), padding=(1,))\n",
       "     (3): ReLU6()\n",
       "     (4): Dropout(p=0.5, inplace=False)\n",
       "   )\n",
       "   (trigramcnn): Sequential(\n",
       "     (0): Conv1d(300, 210, kernel_size=(3,), stride=(1,), padding=(1,))\n",
       "     (1): ReLU()\n",
       "     (2): Conv1d(210, 100, kernel_size=(3,), stride=(1,), padding=(1,))\n",
       "     (3): ReLU()\n",
       "     (4): Dropout(p=0.5, inplace=False)\n",
       "   )\n",
       "   (encoder_bigram): LSTM(100, 30, batch_first=True, dropout=0.5, bidirectional=True)\n",
       "   (encoder_trigram): LSTM(100, 30, batch_first=True, dropout=0.5, bidirectional=True)\n",
       "   (linear): Sequential(\n",
       "     (0): Linear(in_features=124, out_features=30, bias=True)\n",
       "     (1): ReLU()\n",
       "     (2): Linear(in_features=30, out_features=1, bias=True)\n",
       "   )\n",
       " ),\n",
       " 4297461,\n",
       " 4297461)"
      ]
     },
     "metadata": {},
     "execution_count": 7
    }
   ],
   "source": [
    "AttractiveTrainer.model, AttractiveTrainer.config['total_params'], AttractiveTrainer.config['total_learned_params']"
   ]
  },
  {
   "cell_type": "code",
   "execution_count": 8,
   "metadata": {
    "tags": [
     "outputPrepend"
    ]
   },
   "outputs": [
    {
     "output_type": "stream",
     "name": "stderr",
     "text": [
      "      | 48/200 [00:19<01:00,  2.51it/s]\n",
      "EP_47 | train loss: 0.44105304643219595 | val loss: 0.37379083154248255 |\n",
      "Epoch:  24%|██▍       | 49/200 [00:19<01:00,  2.50it/s]\n",
      "EP_48 | train loss: 0.43861872168148264 | val loss: 0.36950172805318643 |\n",
      "Epoch:  25%|██▌       | 50/200 [00:20<01:00,  2.47it/s]\n",
      "EP_49 | train loss: 0.44145158973394655 | val loss: 0.3707057570709902 |\n",
      "Epoch:  26%|██▌       | 51/200 [00:20<01:01,  2.42it/s]\n",
      "EP_50 | train loss: 0.4333118522868437 | val loss: 0.3620367973458533 |\n",
      "Epoch:  26%|██▌       | 52/200 [00:21<01:01,  2.41it/s]\n",
      "EP_51 | train loss: 0.4316483235826679 | val loss: 0.3593527382495357 |\n",
      "Epoch:  26%|██▋       | 53/200 [00:21<01:00,  2.42it/s]\n",
      "EP_52 | train loss: 0.4310386807310815 | val loss: 0.3576599190048143 |\n",
      "Epoch:  27%|██▋       | 54/200 [00:22<01:00,  2.42it/s]\n",
      "EP_53 | train loss: 0.4298763032053031 | val loss: 0.356174124806535 |\n",
      "Epoch:  28%|██▊       | 55/200 [00:22<01:00,  2.41it/s]\n",
      "EP_54 | train loss: 0.4266128278246113 | val loss: 0.35086905722524603 |\n",
      "Epoch:  28%|██▊       | 56/200 [00:22<01:00,  2.40it/s]\n",
      "EP_55 | train loss: 0.4248032242644067 | val loss: 0.3499534433963252 |\n",
      "Epoch:  28%|██▊       | 57/200 [00:23<00:58,  2.43it/s]\n",
      "EP_56 | train loss: 0.4230312459609088 | val loss: 0.3470800817012787 |\n",
      "Epoch:  29%|██▉       | 58/200 [00:23<00:58,  2.44it/s]\n",
      "EP_57 | train loss: 0.420339204750809 | val loss: 0.3448517638094285 |\n",
      "Epoch:  30%|██▉       | 59/200 [00:24<00:57,  2.46it/s]\n",
      "EP_58 | train loss: 0.4183751760744581 | val loss: 0.3434334175259459 |\n",
      "Epoch:  30%|███       | 60/200 [00:24<00:57,  2.45it/s]\n",
      "EP_59 | train loss: 0.4294283997778799 | val loss: 0.3533138176974128 |\n",
      "Epoch:  30%|███       | 61/200 [00:24<00:57,  2.43it/s]\n",
      "EP_60 | train loss: 0.4152955887364406 | val loss: 0.3414081475313972 |\n",
      "Epoch:  31%|███       | 62/200 [00:25<00:56,  2.45it/s]\n",
      "EP_61 | train loss: 0.41604087773491355 | val loss: 0.34259750796299354 |\n",
      "Epoch:  32%|███▏      | 63/200 [00:25<00:55,  2.47it/s]\n",
      "EP_62 | train loss: 0.4093640327453613 | val loss: 0.33529449794806687 |\n",
      "Epoch:  32%|███▏      | 64/200 [00:26<00:55,  2.47it/s]\n",
      "EP_63 | train loss: 0.40651674831614776 | val loss: 0.3333858584656435 |\n",
      "Epoch:  32%|███▎      | 65/200 [00:26<00:54,  2.46it/s]\n",
      "EP_64 | train loss: 0.40821976381189684 | val loss: 0.33628934446503134 |\n",
      "Epoch:  33%|███▎      | 66/200 [00:26<00:55,  2.42it/s]\n",
      "EP_65 | train loss: 0.41062771572786216 | val loss: 0.3379362359935162 |\n",
      "Epoch:  34%|███▎      | 67/200 [00:27<00:54,  2.43it/s]\n",
      "EP_66 | train loss: 0.40082221498676374 | val loss: 0.3286932502307144 |\n",
      "Epoch:  34%|███▍      | 68/200 [00:27<00:54,  2.43it/s]\n",
      "EP_67 | train loss: 0.39964507233862784 | val loss: 0.3294992382619895 |\n",
      "Epoch:  34%|███▍      | 69/200 [00:28<00:53,  2.43it/s]\n",
      "EP_68 | train loss: 0.3981685198989569 | val loss: 0.3296988062998828 |\n",
      "Epoch:  35%|███▌      | 70/200 [00:28<00:53,  2.42it/s]\n",
      "EP_69 | train loss: 0.39845230719622443 | val loss: 0.330210629047132 |\n",
      "Epoch:  36%|███▌      | 71/200 [00:29<00:53,  2.39it/s]\n",
      "EP_70 | train loss: 0.39573676726397344 | val loss: 0.3275875186218935 |\n",
      "Epoch:  36%|███▌      | 72/200 [00:29<00:53,  2.41it/s]\n",
      "EP_71 | train loss: 0.3905651653514189 | val loss: 0.32375267732377144 |\n",
      "Epoch:  36%|███▋      | 73/200 [00:29<00:52,  2.43it/s]\n",
      "EP_72 | train loss: 0.38996685906952505 | val loss: 0.3236227427043167 |\n",
      "Epoch:  37%|███▋      | 74/200 [00:30<00:51,  2.44it/s]\n",
      "EP_73 | train loss: 0.39580324116875143 | val loss: 0.32994499393537935 |\n",
      "Epoch:  38%|███▊      | 75/200 [00:30<00:51,  2.42it/s]\n",
      "EP_74 | train loss: 0.38805426242304786 | val loss: 0.32385923815708534 |\n",
      "Epoch:  38%|███▊      | 76/200 [00:31<00:51,  2.40it/s]\n",
      "EP_75 | train loss: 0.3894122563156427 | val loss: 0.3263144937216067 |\n",
      "Epoch:  38%|███▊      | 77/200 [00:31<00:50,  2.41it/s]\n",
      "EP_76 | train loss: 0.3853552836997836 | val loss: 0.3227391412445143 |\n",
      "Epoch:  39%|███▉      | 78/200 [00:31<00:49,  2.44it/s]\n",
      "EP_77 | train loss: 0.3790734702465581 | val loss: 0.31826326134158117 |\n",
      "Epoch:  40%|███▉      | 79/200 [00:32<00:49,  2.45it/s]\n",
      "EP_78 | train loss: 0.3739643854253432 | val loss: 0.3148386758916518 |\n",
      "Epoch:  40%|████      | 80/200 [00:32<00:48,  2.45it/s]\n",
      "EP_79 | train loss: 0.3764985575395472 | val loss: 0.3171538763186511 |\n",
      "Epoch:  40%|████      | 81/200 [00:33<00:49,  2.41it/s]\n",
      "EP_80 | train loss: 0.3751418057610007 | val loss: 0.31666285500806923 |\n",
      "Epoch:  41%|████      | 82/200 [00:33<00:48,  2.41it/s]\n",
      "EP_81 | train loss: 0.37738833801419125 | val loss: 0.3186689252946891 |\n",
      "Epoch:  42%|████▏     | 83/200 [00:33<00:48,  2.41it/s]\n",
      "EP_82 | train loss: 0.36561237690495507 | val loss: 0.3119638059653488 |\n",
      "Epoch:  42%|████▏     | 84/200 [00:34<00:47,  2.42it/s]\n",
      "EP_83 | train loss: 0.3659768319597431 | val loss: 0.3123614764681049 |\n",
      "Epoch:  42%|████▎     | 85/200 [00:34<00:47,  2.44it/s]\n",
      "EP_84 | train loss: 0.36087402829936904 | val loss: 0.30995829257310603 |\n",
      "Epoch:  43%|████▎     | 86/200 [00:35<00:47,  2.41it/s]\n",
      "EP_85 | train loss: 0.35718342463175456 | val loss: 0.3081927106660955 |\n",
      "Epoch:  44%|████▎     | 87/200 [00:35<00:46,  2.43it/s]\n",
      "EP_86 | train loss: 0.35651495316449333 | val loss: 0.30727748602044347 |\n",
      "Epoch:  44%|████▍     | 88/200 [00:36<00:45,  2.45it/s]\n",
      "EP_87 | train loss: 0.3666289768966974 | val loss: 0.31548672154837964 |\n",
      "Epoch:  44%|████▍     | 89/200 [00:36<00:45,  2.46it/s]\n",
      "EP_88 | train loss: 0.3545151542214786 | val loss: 0.30671702997357236 |\n",
      "Epoch:  45%|████▌     | 90/200 [00:36<00:44,  2.47it/s]\n",
      "EP_89 | train loss: 0.3566557613073611 | val loss: 0.3076199445070005 |\n",
      "Epoch:  46%|████▌     | 91/200 [00:37<00:44,  2.45it/s]\n",
      "EP_90 | train loss: 0.34363747578041226 | val loss: 0.30169765505136226 |\n",
      "Epoch:  46%|████▌     | 92/200 [00:37<00:44,  2.44it/s]\n",
      "EP_91 | train loss: 0.34381217208563114 | val loss: 0.29942575681443306 |\n",
      "Epoch:  46%|████▋     | 93/200 [00:38<00:43,  2.45it/s]\n",
      "EP_92 | train loss: 0.348839545249939 | val loss: 0.30475403222383235 |\n",
      "Epoch:  47%|████▋     | 94/200 [00:38<00:43,  2.45it/s]\n",
      "EP_93 | train loss: 0.3384055782766903 | val loss: 0.29791264674242807 |\n",
      "Epoch:  48%|████▊     | 95/200 [00:38<00:42,  2.45it/s]\n",
      "EP_94 | train loss: 0.33945679197124407 | val loss: 0.2971665952719894 |\n",
      "Epoch:  48%|████▊     | 96/200 [00:39<00:42,  2.43it/s]\n",
      "EP_95 | train loss: 0.33182270807378433 | val loss: 0.2983402656573875 |\n",
      "Epoch:  48%|████▊     | 97/200 [00:39<00:42,  2.45it/s]\n",
      "EP_96 | train loss: 0.3279131061890546 | val loss: 0.2918923561479531 |\n",
      "Epoch:  49%|████▉     | 98/200 [00:40<00:41,  2.46it/s]\n",
      "EP_97 | train loss: 0.32606003611695533 | val loss: 0.29042163199069454 |\n",
      "Epoch:  50%|████▉     | 99/200 [00:40<00:41,  2.46it/s]\n",
      "EP_98 | train loss: 0.31946788582147334 | val loss: 0.2884420138948104 |\n",
      "Epoch:  50%|█████     | 100/200 [00:40<00:40,  2.46it/s]\n",
      "EP_99 | train loss: 0.31930156689064176 | val loss: 0.2848590805250056 |\n",
      "Epoch:  50%|█████     | 101/200 [00:41<00:40,  2.44it/s]\n",
      "EP_100 | train loss: 0.31613547007242837 | val loss: 0.282794923174615 |\n",
      "Epoch:  51%|█████     | 102/200 [00:41<00:40,  2.44it/s]\n",
      "EP_101 | train loss: 0.31051649860307284 | val loss: 0.27912908208136467 |\n",
      "Epoch:  52%|█████▏    | 103/200 [00:42<00:39,  2.45it/s]\n",
      "EP_102 | train loss: 0.3058145789539113 | val loss: 0.27959393519981235 |\n",
      "Epoch:  52%|█████▏    | 104/200 [00:42<00:38,  2.47it/s]\n",
      "EP_103 | train loss: 0.307500555936028 | val loss: 0.2765428055735195 |\n",
      "Epoch:  52%|█████▎    | 105/200 [00:42<00:38,  2.45it/s]\n",
      "EP_104 | train loss: 0.29976760499617633 | val loss: 0.2739686498454973 |\n",
      "Epoch:  53%|█████▎    | 106/200 [00:43<00:38,  2.42it/s]\n",
      "EP_105 | train loss: 0.29802696284125835 | val loss: 0.27111060771287654 |\n",
      "Epoch:  54%|█████▎    | 107/200 [00:43<00:38,  2.43it/s]\n",
      "EP_106 | train loss: 0.29409274961434156 | val loss: 0.2684573718145782 |\n",
      "Epoch:  54%|█████▍    | 108/200 [00:44<00:37,  2.44it/s]\n",
      "EP_107 | train loss: 0.2925324327805463 | val loss: 0.2649879689310111 |\n",
      "Epoch:  55%|█████▍    | 109/200 [00:44<00:37,  2.45it/s]\n",
      "EP_108 | train loss: 0.2851002707200892 | val loss: 0.26182858207646537 |\n",
      "Epoch:  55%|█████▌    | 110/200 [00:45<00:36,  2.43it/s]\n",
      "EP_109 | train loss: 0.28635103655796423 | val loss: 0.2635466590815899 |\n",
      "Epoch:  56%|█████▌    | 111/200 [00:45<00:36,  2.41it/s]\n",
      "EP_110 | train loss: 0.27955269766788854 | val loss: 0.2597474765543844 |\n",
      "Epoch:  56%|█████▌    | 112/200 [00:45<00:36,  2.43it/s]\n",
      "EP_111 | train loss: 0.27788402847215243 | val loss: 0.2550244927406311 |\n",
      "Epoch:  56%|█████▋    | 113/200 [00:46<00:35,  2.45it/s]\n",
      "EP_112 | train loss: 0.271697429114697 | val loss: 0.2524534995649375 |\n",
      "Epoch:  57%|█████▋    | 114/200 [00:46<00:35,  2.43it/s]\n",
      "EP_113 | train loss: 0.27514012187134984 | val loss: 0.2529151205923043 |\n",
      "Epoch:  57%|█████▊    | 115/200 [00:47<00:35,  2.43it/s]\n",
      "EP_114 | train loss: 0.27242535609824986 | val loss: 0.2492445426828721 |\n",
      "Epoch:  58%|█████▊    | 116/200 [00:47<00:34,  2.41it/s]\n",
      "EP_115 | train loss: 0.265052168042052 | val loss: 0.2435801660313326 |\n",
      "Epoch:  58%|█████▊    | 117/200 [00:47<00:34,  2.43it/s]\n",
      "EP_116 | train loss: 0.25387753832573984 | val loss: 0.24156240154715145 |\n",
      "Epoch:  59%|█████▉    | 118/200 [00:48<00:33,  2.44it/s]\n",
      "EP_117 | train loss: 0.2739373754052555 | val loss: 0.24727944007106856 |\n",
      "Epoch:  60%|█████▉    | 119/200 [00:48<00:33,  2.45it/s]\n",
      "EP_118 | train loss: 0.2525681500341378 | val loss: 0.2333837817696964 |\n",
      "Epoch:  60%|██████    | 120/200 [00:49<00:33,  2.40it/s]\n",
      "EP_119 | train loss: 0.24472450508790858 | val loss: 0.22778264973677842 |\n",
      "Epoch:  60%|██████    | 121/200 [00:49<00:33,  2.39it/s]\n",
      "EP_120 | train loss: 0.2353550448137171 | val loss: 0.22613172437630447 |\n",
      "Epoch:  61%|██████    | 122/200 [00:49<00:32,  2.41it/s]\n",
      "EP_121 | train loss: 0.23289516486373602 | val loss: 0.22386613020709917 |\n",
      "Epoch:  62%|██████▏   | 123/200 [00:50<00:31,  2.43it/s]\n",
      "EP_122 | train loss: 0.22758336441189636 | val loss: 0.22061840693155924 |\n",
      "Epoch:  62%|██████▏   | 124/200 [00:50<00:31,  2.43it/s]\n",
      "EP_123 | train loss: 0.23420171457178451 | val loss: 0.2180763272678151 |\n",
      "Epoch:  62%|██████▎   | 125/200 [00:51<00:30,  2.44it/s]\n",
      "EP_124 | train loss: 0.2198512642991309 | val loss: 0.21788002871999554 |\n",
      "Epoch:  63%|██████▎   | 126/200 [00:51<00:30,  2.41it/s]\n",
      "EP_125 | train loss: 0.22304294343088188 | val loss: 0.20825395981470743 |\n",
      "Epoch:  64%|██████▎   | 127/200 [00:52<00:30,  2.43it/s]\n",
      "EP_126 | train loss: 0.21095137315637924 | val loss: 0.2094817266744726 |\n",
      "Epoch:  64%|██████▍   | 128/200 [00:52<00:29,  2.44it/s]\n",
      "EP_127 | train loss: 0.20874403925503002 | val loss: 0.19926413309340382 |\n",
      "Epoch:  64%|██████▍   | 129/200 [00:52<00:29,  2.44it/s]\n",
      "EP_128 | train loss: 0.21047446587506463 | val loss: 0.19486990512586108 |\n",
      "Epoch:  65%|██████▌   | 130/200 [00:53<00:28,  2.43it/s]\n",
      "EP_129 | train loss: 0.2010729051103779 | val loss: 0.1904113900427725 |\n",
      "Epoch:  66%|██████▌   | 131/200 [00:53<00:28,  2.42it/s]\n",
      "EP_130 | train loss: 0.1929993652829937 | val loss: 0.18835687871072807 |\n",
      "Epoch:  66%|██████▌   | 132/200 [00:54<00:27,  2.43it/s]\n",
      "EP_131 | train loss: 0.18866913412131514 | val loss: 0.18406776178116893 |\n",
      "Epoch:  66%|██████▋   | 133/200 [00:54<00:27,  2.43it/s]\n",
      "EP_132 | train loss: 0.19025049256343468 | val loss: 0.17795567828066208 |\n",
      "Epoch:  67%|██████▋   | 134/200 [00:54<00:26,  2.45it/s]\n",
      "EP_133 | train loss: 0.19339915934730978 | val loss: 0.17604606584006666 |\n",
      "Epoch:  68%|██████▊   | 135/200 [00:55<00:26,  2.45it/s]\n",
      "EP_134 | train loss: 0.19493751946617574 | val loss: 0.17769870571061677 |\n",
      "Epoch:  68%|██████▊   | 136/200 [00:55<00:26,  2.43it/s]\n",
      "EP_135 | train loss: 0.17086217964396758 | val loss: 0.16602119394377166 |\n",
      "Epoch:  68%|██████▊   | 137/200 [00:56<00:25,  2.43it/s]\n",
      "EP_136 | train loss: 0.16735043549070172 | val loss: 0.16655475018071195 |\n",
      "Epoch:  69%|██████▉   | 138/200 [00:56<00:25,  2.45it/s]\n",
      "EP_137 | train loss: 0.1605854962386337 | val loss: 0.15820719973713743 |\n",
      "Epoch:  70%|██████▉   | 139/200 [00:56<00:24,  2.45it/s]\n",
      "EP_138 | train loss: 0.15679650259952918 | val loss: 0.14932757206991606 |\n",
      "Epoch:  70%|███████   | 140/200 [00:57<00:24,  2.43it/s]\n",
      "EP_139 | train loss: 0.15654471411424525 | val loss: 0.14407993414822748 |\n",
      "Epoch:  70%|███████   | 141/200 [00:57<00:24,  2.40it/s]\n",
      "EP_140 | train loss: 0.14842140721339805 | val loss: 0.13914196047128416 |\n",
      "Epoch:  71%|███████   | 142/200 [00:58<00:24,  2.41it/s]\n",
      "EP_141 | train loss: 0.14131076639773799 | val loss: 0.1360597639691596 |\n",
      "Epoch:  72%|███████▏  | 143/200 [00:58<00:23,  2.44it/s]\n",
      "EP_142 | train loss: 0.1402799225321003 | val loss: 0.14215313102684768 |\n",
      "Epoch:  72%|███████▏  | 144/200 [00:59<00:23,  2.43it/s]\n",
      "EP_143 | train loss: 0.13656640122918523 | val loss: 0.13931778774541967 |\n",
      "Epoch:  72%|███████▎  | 145/200 [00:59<00:22,  2.45it/s]\n",
      "EP_144 | train loss: 0.137317437284133 | val loss: 0.12618021579349742 |\n",
      "Epoch:  73%|███████▎  | 146/200 [00:59<00:22,  2.42it/s]\n",
      "EP_145 | train loss: 0.12537422787909414 | val loss: 0.11908916281718834 |\n",
      "Epoch:  74%|███████▎  | 147/200 [01:00<00:22,  2.41it/s]\n",
      "EP_146 | train loss: 0.1290968184377633 | val loss: 0.13413767195215412 |\n",
      "Epoch:  74%|███████▍  | 148/200 [01:00<00:21,  2.40it/s]\n",
      "EP_147 | train loss: 0.12724415788463517 | val loss: 0.11652054506189682 |\n",
      "Epoch:  74%|███████▍  | 149/200 [01:01<00:21,  2.42it/s]\n",
      "EP_148 | train loss: 0.1220669194763782 | val loss: 0.11280552137131784 |\n",
      "Epoch:  75%|███████▌  | 150/200 [01:01<00:20,  2.42it/s]\n",
      "EP_149 | train loss: 0.10840666516154421 | val loss: 0.1039112175212187 |\n",
      "Epoch:  76%|███████▌  | 151/200 [01:01<00:20,  2.40it/s]\n",
      "EP_150 | train loss: 0.12069320047602934 | val loss: 0.10919671374208786 |\n",
      "Epoch:  76%|███████▌  | 152/200 [01:02<00:19,  2.40it/s]\n",
      "EP_151 | train loss: 0.0995083446596183 | val loss: 0.0983697173057818 |\n",
      "Epoch:  76%|███████▋  | 153/200 [01:02<00:19,  2.42it/s]\n",
      "EP_152 | train loss: 0.09644703105384228 | val loss: 0.09383185587677301 |\n",
      "Epoch:  77%|███████▋  | 154/200 [01:03<00:18,  2.44it/s]\n",
      "EP_153 | train loss: 0.09422035182223601 | val loss: 0.08743447708148583 |\n",
      "Epoch:  78%|███████▊  | 155/200 [01:03<00:18,  2.45it/s]\n",
      "EP_154 | train loss: 0.08894389961280075 | val loss: 0.08592756530817817 |\n",
      "Epoch:  78%|███████▊  | 156/200 [01:04<00:18,  2.41it/s]\n",
      "EP_155 | train loss: 0.09383417671801997 | val loss: 0.08656775016410678 |\n",
      "Epoch:  78%|███████▊  | 157/200 [01:04<00:17,  2.40it/s]\n",
      "EP_156 | train loss: 0.08704938362626469 | val loss: 0.08262631151021696 |\n",
      "Epoch:  79%|███████▉  | 158/200 [01:04<00:17,  2.41it/s]\n",
      "EP_157 | train loss: 0.08357243070415422 | val loss: 0.07924970867587071 |\n",
      "Epoch:  80%|███████▉  | 159/200 [01:05<00:17,  2.41it/s]\n",
      "EP_158 | train loss: 0.07652760451915218 | val loss: 0.07555157618195403 |\n",
      "Epoch:  80%|████████  | 160/200 [01:05<00:16,  2.41it/s]\n",
      "EP_159 | train loss: 0.07778897752948835 | val loss: 0.07515842014668035 |\n",
      "Epoch:  80%|████████  | 161/200 [01:06<00:16,  2.41it/s]\n",
      "EP_160 | train loss: 0.07122492696724686 | val loss: 0.06936005137714685 |\n",
      "Epoch:  81%|████████  | 162/200 [01:06<00:15,  2.42it/s]\n",
      "EP_161 | train loss: 0.06824062116005841 | val loss: 0.07053474760523029 |\n",
      "Epoch:  82%|████████▏ | 163/200 [01:06<00:15,  2.42it/s]\n",
      "EP_162 | train loss: 0.06850231944345961 | val loss: 0.0666236164523106 |\n",
      "Epoch:  82%|████████▏ | 164/200 [01:07<00:14,  2.44it/s]\n",
      "EP_163 | train loss: 0.06146186379825368 | val loss: 0.063347108223859 |\n",
      "Epoch:  82%|████████▎ | 165/200 [01:07<00:14,  2.46it/s]\n",
      "EP_164 | train loss: 0.058618596955841665 | val loss: 0.061580378343077266 |\n",
      "Epoch:  83%|████████▎ | 166/200 [01:08<00:14,  2.41it/s]\n",
      "EP_165 | train loss: 0.05712675206801471 | val loss: 0.06353276354425094 |\n",
      "Epoch:  84%|████████▎ | 167/200 [01:08<00:13,  2.43it/s]\n",
      "EP_166 | train loss: 0.05391478667072221 | val loss: 0.058343376599106135 |\n",
      "Epoch:  84%|████████▍ | 168/200 [01:08<00:13,  2.43it/s]\n",
      "EP_167 | train loss: 0.054429293496935975 | val loss: 0.058196291619656136 |\n",
      "Epoch:  84%|████████▍ | 169/200 [01:09<00:12,  2.41it/s]\n",
      "EP_168 | train loss: 0.05068771441777547 | val loss: 0.05544525019678415 |\n",
      "Epoch:  85%|████████▌ | 170/200 [01:09<00:12,  2.41it/s]\n",
      "EP_169 | train loss: 0.049012531661519816 | val loss: 0.053464655782662185 |\n",
      "Epoch:  86%|████████▌ | 171/200 [01:10<00:12,  2.39it/s]\n",
      "EP_170 | train loss: 0.04699463125537424 | val loss: 0.04986050052970063 |\n",
      "Epoch:  86%|████████▌ | 172/200 [01:10<00:11,  2.42it/s]\n",
      "EP_171 | train loss: 0.04483123690474267 | val loss: 0.04985264177415885 |\n",
      "Epoch:  86%|████████▋ | 173/200 [01:11<00:11,  2.42it/s]\n",
      "EP_172 | train loss: 0.04421388956845975 | val loss: 0.050389916727355884 |\n",
      "Epoch:  87%|████████▋ | 174/200 [01:11<00:10,  2.43it/s]\n",
      "EP_173 | train loss: 0.059686943245869054 | val loss: 0.05872636010833815 |\n",
      "Epoch:  88%|████████▊ | 175/200 [01:11<00:10,  2.44it/s]\n",
      "EP_174 | train loss: 0.04246403908028322 | val loss: 0.04478950360242058 |\n",
      "Epoch:  88%|████████▊ | 176/200 [01:12<00:09,  2.42it/s]\n",
      "EP_175 | train loss: 0.04274696777848636 | val loss: 0.0428908882187862 |\n",
      "Epoch:  88%|████████▊ | 177/200 [01:12<00:09,  2.44it/s]\n",
      "EP_176 | train loss: 0.05051031416537715 | val loss: 0.060200115044911705 |\n",
      "Epoch:  89%|████████▉ | 178/200 [01:13<00:08,  2.45it/s]\n",
      "EP_177 | train loss: 0.035955502063620325 | val loss: 0.041279676205971665 |\n",
      "Epoch:  90%|████████▉ | 179/200 [01:13<00:08,  2.45it/s]\n",
      "EP_178 | train loss: 0.0345234834096011 | val loss: 0.03829408393186681 |\n",
      "Epoch:  90%|█████████ | 180/200 [01:13<00:08,  2.46it/s]\n",
      "EP_179 | train loss: 0.03317708893149507 | val loss: 0.03743897232354856 |\n",
      "Epoch:  90%|█████████ | 181/200 [01:14<00:07,  2.43it/s]\n",
      "EP_180 | train loss: 0.03570582311527402 | val loss: 0.03835355227484422 |\n",
      "Epoch:  91%|█████████ | 182/200 [01:14<00:07,  2.44it/s]\n",
      "EP_181 | train loss: 0.037661206079464334 | val loss: 0.044061150474875584 |\n",
      "Epoch:  92%|█████████▏| 183/200 [01:15<00:06,  2.44it/s]\n",
      "EP_182 | train loss: 0.030459546224743714 | val loss: 0.03189347859691171 |\n",
      "Epoch:  92%|█████████▏| 184/200 [01:15<00:06,  2.45it/s]\n",
      "EP_183 | train loss: 0.029265745363983454 | val loss: 0.03261625182394888 |\n",
      "Epoch:  92%|█████████▎| 185/200 [01:15<00:06,  2.45it/s]\n",
      "EP_184 | train loss: 0.037048739779229255 | val loss: 0.03987515790789735 |\n",
      "Epoch:  93%|█████████▎| 186/200 [01:16<00:05,  2.43it/s]\n",
      "EP_185 | train loss: 0.033020126118379484 | val loss: 0.03452048436099408 |\n",
      "Epoch:  94%|█████████▎| 187/200 [01:16<00:05,  2.44it/s]\n",
      "EP_186 | train loss: 0.026737265960842957 | val loss: 0.029028828675840414 |\n",
      "Epoch:  94%|█████████▍| 188/200 [01:17<00:04,  2.45it/s]\n",
      "EP_187 | train loss: 0.025030591850187266 | val loss: 0.027959982408028022 |\n",
      "Epoch:  94%|█████████▍| 189/200 [01:17<00:04,  2.46it/s]\n",
      "EP_188 | train loss: 0.0407478717027926 | val loss: 0.040614398086772245 |\n",
      "Epoch:  95%|█████████▌| 190/200 [01:17<00:04,  2.47it/s]\n",
      "EP_189 | train loss: 0.03946402528706719 | val loss: 0.03985065543184094 |\n",
      "Epoch:  96%|█████████▌| 191/200 [01:18<00:03,  2.44it/s]\n",
      "EP_190 | train loss: 0.03301841377043257 | val loss: 0.03854035805253422 |\n",
      "Epoch:  96%|█████████▌| 192/200 [01:18<00:03,  2.45it/s]\n",
      "EP_191 | train loss: 0.026002690780396555 | val loss: 0.027387176877727695 |\n",
      "Epoch:  96%|█████████▋| 193/200 [01:19<00:02,  2.45it/s]\n",
      "EP_192 | train loss: 0.020795902872786803 | val loss: 0.023372572280612645 |\n",
      "Epoch:  97%|█████████▋| 194/200 [01:19<00:02,  2.46it/s]\n",
      "EP_193 | train loss: 0.02093741028916602 | val loss: 0.022630654932821497 |\n",
      "Epoch:  98%|█████████▊| 195/200 [01:20<00:02,  2.45it/s]\n",
      "EP_194 | train loss: 0.019824579884024227 | val loss: 0.023789799607851925 |\n",
      "Epoch:  98%|█████████▊| 196/200 [01:20<00:01,  2.42it/s]\n",
      "EP_195 | train loss: 0.02213615938728931 | val loss: 0.023332831175888285 |\n",
      "Epoch:  98%|█████████▊| 197/200 [01:20<00:01,  2.43it/s]\n",
      "EP_196 | train loss: 0.019421950245604797 | val loss: 0.02249354693819495 |\n",
      "Epoch:  99%|█████████▉| 198/200 [01:21<00:00,  2.43it/s]\n",
      "EP_197 | train loss: 0.02095007589634727 | val loss: 0.022430041987521975 |\n",
      "Epoch: 100%|█████████▉| 199/200 [01:21<00:00,  2.44it/s]\n",
      "EP_198 | train loss: 0.018437066557360632 | val loss: 0.020275753283617543 |\n",
      "Epoch: 100%|██████████| 200/200 [01:22<00:00,  2.44it/s]\n",
      "EP_199 | train loss: 0.016785370076403898 | val loss: 0.02049489699158014 |\n",
      "\n"
     ]
    }
   ],
   "source": [
    "AttractiveTrainer.train()"
   ]
  },
  {
   "cell_type": "markdown",
   "metadata": {},
   "source": [
    "## Below is testing"
   ]
  },
  {
   "cell_type": "code",
   "execution_count": 6,
   "metadata": {},
   "outputs": [
    {
     "output_type": "execute_result",
     "data": {
      "text/plain": [
       "AttractiveNet(\n",
       "  (embedding): AttractiveEmbedding(\n",
       "    (token): TokenEmbedding(12699, 300, padding_idx=1)\n",
       "  )\n",
       "  (bigramcnn): Sequential(\n",
       "    (0): Conv1d(300, 210, kernel_size=(2,), stride=(1,), padding=(1,))\n",
       "    (1): ReLU6()\n",
       "    (2): Conv1d(210, 100, kernel_size=(2,), stride=(1,), padding=(1,))\n",
       "    (3): ReLU6()\n",
       "    (4): Dropout(p=0.5, inplace=False)\n",
       "  )\n",
       "  (trigramcnn): Sequential(\n",
       "    (0): Conv1d(300, 210, kernel_size=(3,), stride=(1,), padding=(1,))\n",
       "    (1): ReLU()\n",
       "    (2): Conv1d(210, 100, kernel_size=(3,), stride=(1,), padding=(1,))\n",
       "    (3): ReLU()\n",
       "    (4): Dropout(p=0.5, inplace=False)\n",
       "  )\n",
       "  (encoder_bigram): LSTM(100, 30, batch_first=True, dropout=0.5, bidirectional=True)\n",
       "  (encoder_trigram): LSTM(100, 30, batch_first=True, dropout=0.5, bidirectional=True)\n",
       "  (linear): Sequential(\n",
       "    (0): Linear(in_features=124, out_features=30, bias=True)\n",
       "    (1): ReLU()\n",
       "    (2): Linear(in_features=30, out_features=1, bias=True)\n",
       "  )\n",
       ")"
      ]
     },
     "metadata": {},
     "execution_count": 6
    }
   ],
   "source": [
    "from attractivenet import AttractiveNet\n",
    "\n",
    "PATH = './model/CNN_LSTM_20201108-135511/0.375142.80'\n",
    "\n",
    "load_model = AttractiveNet(config).to(AttractiveData.device)\n",
    "load_model.load_state_dict(torch.load(PATH))\n",
    "load_model.eval()"
   ]
  },
  {
   "cell_type": "code",
   "execution_count": 7,
   "metadata": {},
   "outputs": [],
   "source": [
    "def predict_attractive(sentence, category, phase):\n",
    "    indexed_sentence = [AttractiveData.TEXT.vocab.stoi[t] for t in sentence]\n",
    "    indexed_category = [AttractiveData.CATEGORIES_LABEL.vocab.stoi[category]]\n",
    "    tensor_sentence = torch.LongTensor(indexed_sentence).to(AttractiveData.device)\n",
    "    tensor_category = torch.LongTensor(indexed_category).to(AttractiveData.device)\n",
    "    tensor_sentence = tensor_sentence.unsqueeze(0)\n",
    "\n",
    "    prediction = load_model(tensor_sentence, tensor_category, phase=phase)\n",
    "\n",
    "    return prediction"
   ]
  },
  {
   "cell_type": "code",
   "execution_count": 8,
   "metadata": {
    "tags": []
   },
   "outputs": [],
   "source": [
    "# train mean = 3.15, test mean = 2.8\n",
    "predict_list = []\n",
    "with torch.no_grad():\n",
    "    for i, sentence in enumerate(AttractiveData.test_data):\n",
    "        prediction = predict_attractive(sentence.Headline, sentence.Category, 'test')\n",
    "        predict_list.append(prediction.item())\n",
    "        # predict_list.append(prediction.item())\n",
    "AttractiveData.df_test['Label'] = predict_list\n",
    "AttractiveData.df_test[['ID', 'Label']].to_csv(config['save_name'] + '.csv', index=False)"
   ]
  },
  {
   "cell_type": "markdown",
   "metadata": {},
   "source": [
    "## Below for statistics"
   ]
  },
  {
   "cell_type": "code",
   "execution_count": 9,
   "metadata": {},
   "outputs": [],
   "source": [
    "import statistics\n",
    "from sklearn.metrics import mean_squared_error"
   ]
  },
  {
   "cell_type": "code",
   "execution_count": 10,
   "metadata": {},
   "outputs": [],
   "source": [
    "# # train mean = 3.15, test mean = 2.8\n",
    "# train_list = []\n",
    "# for i, sentence in enumerate(AttractiveData.train_data):\n",
    "#     prediction = predict_attractive(sentence.Headline, sentence.Category, 'train')\n",
    "#     train_list.append(prediction.item())\n",
    "#     # train_list.append(prediction.item())\n",
    "# # print(train_list)\n",
    "# mean_squared_error(pd.read_csv('data/train.csv').sort_values(['ID']).Label.to_list(), train_list), statistics.mean(train_list), statistics.stdev(train_list)"
   ]
  },
  {
   "cell_type": "code",
   "execution_count": 11,
   "metadata": {},
   "outputs": [],
   "source": [
    "# train_list[0:5], pd.read_csv('data/train.csv').sort_values(['ID']).Label.to_list()[0:5]"
   ]
  },
  {
   "cell_type": "code",
   "execution_count": 12,
   "metadata": {},
   "outputs": [],
   "source": [
    "# a = AttractiveData.df_train['Label'].to_list()\n",
    "# statistics.mean(a), statistics.stdev(a)"
   ]
  },
  {
   "cell_type": "code",
   "execution_count": 13,
   "metadata": {},
   "outputs": [
    {
     "output_type": "execute_result",
     "data": {
      "text/plain": [
       "(2.8147862566725275, 0.35859039023783845)"
      ]
     },
     "metadata": {},
     "execution_count": 13
    }
   ],
   "source": [
    "statistics.mean(predict_list), statistics.stdev(predict_list)"
   ]
  },
  {
   "cell_type": "code",
   "execution_count": 14,
   "metadata": {},
   "outputs": [
    {
     "output_type": "execute_result",
     "data": {
      "text/plain": [
       "(0.0036973840856460377, 2.783861954306716, 0.36437382915352245)"
      ]
     },
     "metadata": {},
     "execution_count": 14
    }
   ],
   "source": [
    "baseline_list = pd.read_csv('baseline.csv').sort_values(['ID']).Label.to_list()\n",
    "mean_squared_error(baseline_list, predict_list), statistics.mean(baseline_list), statistics.stdev(baseline_list)"
   ]
  },
  {
   "cell_type": "code",
   "execution_count": null,
   "metadata": {},
   "outputs": [],
   "source": []
  },
  {
   "cell_type": "code",
   "execution_count": 18,
   "metadata": {},
   "outputs": [
    {
     "data": {
      "text/plain": [
       "0.1609754968529207"
      ]
     },
     "execution_count": 18,
     "metadata": {},
     "output_type": "execute_result"
    }
   ],
   "source": [
    "mean_squared_error(pd.read_csv('baseline.csv').sort_values(['ID']).Label.to_list(), pd.read_csv('./predict/ensemble.csv').sort_values(['ID']).Label.to_list())"
   ]
  },
  {
   "cell_type": "code",
   "execution_count": 13,
   "metadata": {},
   "outputs": [],
   "source": []
  },
  {
   "cell_type": "code",
   "execution_count": null,
   "metadata": {},
   "outputs": [],
   "source": []
  }
 ],
 "metadata": {
  "kernelspec": {
   "display_name": "DS_hw2",
   "language": "python",
   "name": "ds_hw2"
  },
  "language_info": {
   "codemirror_mode": {
    "name": "ipython",
    "version": 3
   },
   "file_extension": ".py",
   "mimetype": "text/x-python",
   "name": "python",
   "nbconvert_exporter": "python",
   "pygments_lexer": "ipython3",
   "version": "3.6.12-final"
  }
 },
 "nbformat": 4,
 "nbformat_minor": 4
}