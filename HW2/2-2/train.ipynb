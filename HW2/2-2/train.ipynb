{
 "cells": [
  {
   "cell_type": "code",
   "execution_count": 1,
   "metadata": {},
   "outputs": [],
   "source": [
    "# common packages\n",
    "import pandas as pd\n",
    "import time\n",
    "\n",
    "# # DL framework\n",
    "import torch\n",
    "from torchtext import data\n",
    "\n",
    "from attractivedata import AttractiveData\n",
    "from trainer import AttractiveTrainer"
   ]
  },
  {
   "cell_type": "markdown",
   "metadata": {},
   "source": [
    "## Load and prepare data"
   ]
  },
  {
   "cell_type": "code",
   "execution_count": 2,
   "metadata": {},
   "outputs": [],
   "source": [
    "train_file = 'example/train.csv'\n",
    "val_file = 'example/val.csv'\n",
    "test_file = 'data/test.csv'\n",
    "pretrained_file = 'glove.840B.300d'\n",
    "config = {\n",
    "    'max_seq': 40,\n",
    "    'min_freq': 0,\n",
    "    'batch_size': 64,\n",
    "    'pretrained_file': pretrained_file\n",
    "}\n"
   ]
  },
  {
   "cell_type": "code",
   "execution_count": 3,
   "metadata": {},
   "outputs": [],
   "source": [
    "AttractiveData = AttractiveData(train_file, val_file, test_file, pretrained_file, config)"
   ]
  },
  {
   "cell_type": "code",
   "execution_count": 4,
   "metadata": {},
   "outputs": [],
   "source": [
    "# for i, sentence in enumerate(AttractiveData.test_data):\n",
    "#     if i == 3:\n",
    "#         print(vars(AttractiveData.train_data[i]), vars(sentence))"
   ]
  },
  {
   "cell_type": "code",
   "execution_count": 5,
   "metadata": {},
   "outputs": [
    {
     "output_type": "execute_result",
     "data": {
      "text/plain": [
       "18"
      ]
     },
     "metadata": {},
     "execution_count": 5
    }
   ],
   "source": [
    "len(AttractiveData.CATEGORIES_LABEL.vocab.freqs)"
   ]
  },
  {
   "cell_type": "code",
   "execution_count": 6,
   "metadata": {},
   "outputs": [
    {
     "output_type": "execute_result",
     "data": {
      "text/plain": [
       "38"
      ]
     },
     "metadata": {},
     "execution_count": 6
    }
   ],
   "source": [
    "max_len = 0\n",
    "a = AttractiveData.train_data\n",
    "for i in range(len(a)):\n",
    "    if len(a[i].Headline) >= max_len:\n",
    "        max_len = len(a[i].Headline)\n",
    "max_len"
   ]
  },
  {
   "cell_type": "markdown",
   "metadata": {},
   "source": [
    "## Start to train"
   ]
  },
  {
   "cell_type": "code",
   "execution_count": 7,
   "metadata": {},
   "outputs": [
    {
     "output_type": "stream",
     "name": "stdout",
     "text": [
      "torch.Size([11857, 300])\n"
     ]
    }
   ],
   "source": [
    "config['timestr'] = time.strftime(\"%Y%m%d-%H%M%S\")\n",
    "config['save_name'] = 'CNN_LSTM'\n",
    "config['input_dim'] = len(AttractiveData.TEXT.vocab)\n",
    "config['embedding_dim'] = 300\n",
    "config['category_dim'] = len(AttractiveData.CATEGORIES_LABEL.vocab)\n",
    "config['category_embedding_dim'] = 8\n",
    "config['hidden_dim'] = 30\n",
    "config['output_dim'] = 1\n",
    "config['log_steps'] = 10\n",
    "config['epochs'] = 200\n",
    "config['lr'] = {\n",
    "    'encoder': 1e-5,\n",
    "    'embedding': 6e-6,\n",
    "    'linear': 1e-5\n",
    "}\n",
    "config['num_layers'] = 1\n",
    "config['kernel_size'] = 3\n",
    "config['dropout'] = 0.1\n",
    "config['train_len'] = AttractiveData.train_len\n",
    "config['val_len'] = AttractiveData.val_len\n",
    "config['test_len'] = AttractiveData.test_len\n",
    "\n",
    "pretrained_embeddings = AttractiveData.TEXT.vocab.vectors\n",
    "print(pretrained_embeddings.shape)"
   ]
  },
  {
   "cell_type": "code",
   "execution_count": 8,
   "metadata": {},
   "outputs": [],
   "source": [
    "AttractiveTrainer = AttractiveTrainer(config, AttractiveData.device, AttractiveData.trainloader, AttractiveData.valloader, pretrained_embeddings)"
   ]
  },
  {
   "cell_type": "code",
   "execution_count": 9,
   "metadata": {},
   "outputs": [
    {
     "output_type": "execute_result",
     "data": {
      "text/plain": [
       "(AttractiveNet(\n",
       "   (embedding): AttractiveEmbedding(\n",
       "     (token): TokenEmbedding(11857, 300, padding_idx=1)\n",
       "   )\n",
       "   (bigramcnn): Sequential(\n",
       "     (0): Conv1d(300, 200, kernel_size=(3,), stride=(1,), padding=(1,))\n",
       "     (1): ReLU()\n",
       "     (2): Conv1d(200, 100, kernel_size=(3,), stride=(1,), padding=(1,))\n",
       "     (3): ReLU()\n",
       "   )\n",
       "   (trigramcnn): Sequential(\n",
       "     (0): Conv1d(300, 200, kernel_size=(3,), stride=(1,), padding=(1,))\n",
       "     (1): ReLU()\n",
       "     (2): Conv1d(200, 100, kernel_size=(3,), stride=(1,), padding=(1,))\n",
       "     (3): ReLU()\n",
       "   )\n",
       "   (encoder_bigram): LSTM(100, 30, batch_first=True, dropout=0.1, bidirectional=True)\n",
       "   (encoder_trigram): LSTM(100, 30, batch_first=True, dropout=0.1, bidirectional=True)\n",
       "   (linear): Sequential(\n",
       "     (0): Linear(in_features=120, out_features=30, bias=True)\n",
       "     (1): ReLU()\n",
       "     (2): Linear(in_features=30, out_features=1, bias=True)\n",
       "   )\n",
       " ),\n",
       " 4104721,\n",
       " 4104721)"
      ]
     },
     "metadata": {},
     "execution_count": 9
    }
   ],
   "source": [
    "AttractiveTrainer.model, AttractiveTrainer.config['total_params'], AttractiveTrainer.config['total_learned_params']"
   ]
  },
  {
   "cell_type": "code",
   "execution_count": 10,
   "metadata": {
    "tags": [
     "outputPrepend"
    ]
   },
   "outputs": [
    {
     "output_type": "stream",
     "name": "stderr",
     "text": [
      " 0.4168892046984504 |\n",
      "====\n",
      "Epoch:  28%|██▊       | 56/200 [00:19<00:51,  2.78it/s]\n",
      "EP_train | train loss: 0.4350568453470866 | val loss: 0.41114943401486265 |\n",
      "====\n",
      "Epoch:  28%|██▊       | 57/200 [00:20<00:51,  2.78it/s]\n",
      "EP_train | train loss: 0.43410268951864805 | val loss: 0.4076294969109928 |\n",
      "====\n",
      "Epoch:  29%|██▉       | 58/200 [00:20<00:50,  2.80it/s]\n",
      "EP_train | train loss: 0.4297902713933542 | val loss: 0.40923744673822443 |\n",
      "====\n",
      "Epoch:  30%|██▉       | 59/200 [00:20<00:49,  2.86it/s]\n",
      "EP_train | train loss: 0.43317473272352697 | val loss: 0.4021221662268919 |\n",
      "====\n",
      "Epoch:  30%|███       | 60/200 [00:21<00:48,  2.87it/s]\n",
      "EP_train | train loss: 0.428792327577512 | val loss: 0.4149274498808618 |\n",
      "====\n",
      "Epoch:  30%|███       | 61/200 [00:21<00:48,  2.86it/s]\n",
      "EP_train | train loss: 0.43165654138801923 | val loss: 0.4235476395663093 |\n",
      "====\n",
      "Epoch:  31%|███       | 62/200 [00:22<00:48,  2.86it/s]\n",
      "EP_train | train loss: 0.4241865943459904 | val loss: 0.4098481021675409 |\n",
      "====\n",
      "Epoch:  32%|███▏      | 63/200 [00:22<00:48,  2.83it/s]\n",
      "EP_train | train loss: 0.4223236736389027 | val loss: 0.4002726142312966 |\n",
      "====\n",
      "Epoch:  32%|███▏      | 64/200 [00:22<00:48,  2.78it/s]\n",
      "EP_train | train loss: 0.4195908720976387 | val loss: 0.4058084721658744 |\n",
      "====\n",
      "Epoch:  32%|███▎      | 65/200 [00:23<00:48,  2.80it/s]\n",
      "EP_train | train loss: 0.4199704427864557 | val loss: 0.3980221076338899 |\n",
      "====\n",
      "Epoch:  33%|███▎      | 66/200 [00:23<00:47,  2.80it/s]\n",
      "EP_train | train loss: 0.41617873135735006 | val loss: 0.40604542634066415 |\n",
      "====\n",
      "Epoch:  34%|███▎      | 67/200 [00:23<00:46,  2.84it/s]\n",
      "EP_train | train loss: 0.42048784019121155 | val loss: 0.4218459596820906 |\n",
      "====\n",
      "Epoch:  34%|███▍      | 68/200 [00:24<00:46,  2.87it/s]\n",
      "EP_train | train loss: 0.4107866796273292 | val loss: 0.4038330047738318 |\n",
      "====\n",
      "Epoch:  34%|███▍      | 69/200 [00:24<00:45,  2.90it/s]\n",
      "EP_train | train loss: 0.41089092620317713 | val loss: 0.39967778734132353 |\n",
      "====\n",
      "Epoch:  35%|███▌      | 70/200 [00:24<00:44,  2.92it/s]\n",
      "EP_train | train loss: 0.4075495692899284 | val loss: 0.39963169775757135 |\n",
      "====\n",
      "Epoch:  36%|███▌      | 71/200 [00:25<00:44,  2.88it/s]\n",
      "EP_train | train loss: 0.4101301081040326 | val loss: 0.41249456125147205 |\n",
      "====\n",
      "Epoch:  36%|███▌      | 72/200 [00:25<00:45,  2.83it/s]\n",
      "EP_train | train loss: 0.40515009146630115 | val loss: 0.4043511152267456 |\n",
      "====\n",
      "Epoch:  36%|███▋      | 73/200 [00:25<00:45,  2.82it/s]\n",
      "EP_train | train loss: 0.4032469123017554 | val loss: 0.3936399279856214 |\n",
      "====\n",
      "Epoch:  37%|███▋      | 74/200 [00:26<00:44,  2.81it/s]\n",
      "EP_train | train loss: 0.39993838806817217 | val loss: 0.39507926094765755 |\n",
      "====\n",
      "Epoch:  38%|███▊      | 75/200 [00:26<00:44,  2.80it/s]\n",
      "EP_train | train loss: 0.398652601865382 | val loss: 0.39329416962230906 |\n",
      "====\n",
      "Epoch:  38%|███▊      | 76/200 [00:26<00:44,  2.80it/s]\n",
      "EP_train | train loss: 0.3944731730001944 | val loss: 0.3993508500211379 |\n",
      "====\n",
      "Epoch:  38%|███▊      | 77/200 [00:27<00:43,  2.83it/s]\n",
      "EP_train | train loss: 0.39286516954176826 | val loss: 0.3962927916470696 |\n",
      "====\n",
      "Epoch:  39%|███▉      | 78/200 [00:27<00:42,  2.86it/s]\n",
      "EP_train | train loss: 0.39083091677663634 | val loss: 0.3956624152613621 |\n",
      "====\n",
      "Epoch:  40%|███▉      | 79/200 [00:28<00:42,  2.87it/s]\n",
      "EP_train | train loss: 0.39034810876534654 | val loss: 0.4022798397961785 |\n",
      "====\n",
      "Epoch:  40%|████      | 80/200 [00:28<00:41,  2.87it/s]\n",
      "EP_train | train loss: 0.3871150390774596 | val loss: 0.39922645746492874 |\n",
      "====\n",
      "Epoch:  40%|████      | 81/200 [00:28<00:41,  2.85it/s]\n",
      "EP_train | train loss: 0.3843051462651338 | val loss: 0.3942895309597838 |\n",
      "====\n",
      "Epoch:  41%|████      | 82/200 [00:29<00:41,  2.85it/s]\n",
      "EP_train | train loss: 0.3836807280064668 | val loss: 0.39984785341749 |\n",
      "====\n",
      "Epoch:  42%|████▏     | 83/200 [00:29<00:41,  2.83it/s]\n",
      "EP_train | train loss: 0.38195802755085734 | val loss: 0.39500438348919736 |\n",
      "====\n",
      "Epoch:  42%|████▏     | 84/200 [00:29<00:40,  2.85it/s]\n",
      "EP_train | train loss: 0.37854057303700833 | val loss: 0.39345761841418697 |\n",
      "====\n",
      "Epoch:  42%|████▎     | 85/200 [00:30<00:40,  2.86it/s]\n",
      "EP_train | train loss: 0.38006278632253343 | val loss: 0.38488978614994124 |\n",
      "====\n",
      "Epoch:  43%|████▎     | 86/200 [00:30<00:40,  2.83it/s]\n",
      "EP_train | train loss: 0.3768083550571616 | val loss: 0.40723016332177553 |\n",
      "====\n",
      "Epoch:  44%|████▎     | 87/200 [00:30<00:39,  2.85it/s]\n",
      "EP_train | train loss: 0.37189411753403073 | val loss: 0.39904721694834094 |\n",
      "====\n",
      "Epoch:  44%|████▍     | 88/200 [00:31<00:39,  2.85it/s]\n",
      "EP_train | train loss: 0.3694281941665284 | val loss: 0.3908553158535677 |\n",
      "====\n",
      "Epoch:  44%|████▍     | 89/200 [00:31<00:38,  2.88it/s]\n",
      "EP_train | train loss: 0.37083807594116475 | val loss: 0.38384900548878836 |\n",
      "====\n",
      "Epoch:  45%|████▌     | 90/200 [00:31<00:37,  2.92it/s]\n",
      "EP_train | train loss: 0.3639378817772294 | val loss: 0.3900127165457782 |\n",
      "====\n",
      "Epoch:  46%|████▌     | 91/200 [00:32<00:37,  2.90it/s]\n",
      "EP_train | train loss: 0.3613200301957806 | val loss: 0.3947676946135128 |\n",
      "====\n",
      "Epoch:  46%|████▌     | 92/200 [00:32<00:36,  2.92it/s]\n",
      "EP_train | train loss: 0.35999686629683886 | val loss: 0.3899722543417239 |\n",
      "====\n",
      "Epoch:  46%|████▋     | 93/200 [00:32<00:36,  2.93it/s]\n",
      "EP_train | train loss: 0.35758493097259586 | val loss: 0.38742126845845987 |\n",
      "====\n",
      "Epoch:  47%|████▋     | 94/200 [00:33<00:35,  2.95it/s]\n",
      "EP_train | train loss: 0.35494005706055753 | val loss: 0.3876628653675902 |\n",
      "====\n",
      "Epoch:  48%|████▊     | 95/200 [00:33<00:35,  2.95it/s]\n",
      "EP_train | train loss: 0.35509920691612756 | val loss: 0.38288242851986604 |\n",
      "====\n",
      "Epoch:  48%|████▊     | 96/200 [00:33<00:35,  2.91it/s]\n",
      "EP_train | train loss: 0.3533647543464611 | val loss: 0.3819948078370562 |\n",
      "====\n",
      "Epoch:  48%|████▊     | 97/200 [00:34<00:35,  2.92it/s]\n",
      "EP_train | train loss: 0.34482430217053117 | val loss: 0.39086081467422784 |\n",
      "====\n",
      "Epoch:  49%|████▉     | 98/200 [00:34<00:34,  2.93it/s]\n",
      "EP_train | train loss: 0.34424910981670703 | val loss: 0.3857573855156992 |\n",
      "====\n",
      "Epoch:  50%|████▉     | 99/200 [00:34<00:34,  2.95it/s]\n",
      "EP_train | train loss: 0.34341476997259135 | val loss: 0.4054448931824927 |\n",
      "====\n",
      "Epoch:  50%|█████     | 100/200 [00:35<00:33,  2.95it/s]\n",
      "EP_train | train loss: 0.3367105125082344 | val loss: 0.3886183126299989 |\n",
      "====\n",
      "Epoch:  50%|█████     | 101/200 [00:35<00:33,  2.91it/s]\n",
      "EP_train | train loss: 0.33524215662920914 | val loss: 0.39504340232587326 |\n",
      "====\n",
      "Epoch:  51%|█████     | 102/200 [00:35<00:33,  2.93it/s]\n",
      "EP_train | train loss: 0.33047538749013333 | val loss: 0.3973992805854947 |\n",
      "====\n",
      "Epoch:  52%|█████▏    | 103/200 [00:36<00:33,  2.94it/s]\n",
      "EP_train | train loss: 0.32642644942456084 | val loss: 0.3920489783380546 |\n",
      "====\n",
      "Epoch:  52%|█████▏    | 104/200 [00:36<00:32,  2.95it/s]\n",
      "EP_train | train loss: 0.3249057040495031 | val loss: 0.40056007165534824 |\n",
      "====\n",
      "Epoch:  52%|█████▎    | 105/200 [00:36<00:32,  2.95it/s]\n",
      "EP_train | train loss: 0.3253951950530341 | val loss: 0.3830159692203297 |\n",
      "====\n",
      "Epoch:  53%|█████▎    | 106/200 [00:37<00:32,  2.92it/s]\n",
      "EP_train | train loss: 0.3191117824812081 | val loss: 0.38530973593393963 |\n",
      "====\n",
      "Epoch:  54%|█████▎    | 107/200 [00:37<00:32,  2.87it/s]\n",
      "EP_train | train loss: 0.314064385844212 | val loss: 0.3878074241619484 |\n",
      "====\n",
      "Epoch:  54%|█████▍    | 108/200 [00:38<00:31,  2.90it/s]\n",
      "EP_train | train loss: 0.30954150540636516 | val loss: 0.39503297969406725 |\n",
      "====\n",
      "Epoch:  55%|█████▍    | 109/200 [00:38<00:31,  2.93it/s]\n",
      "EP_train | train loss: 0.3064009925119238 | val loss: 0.39837132715711404 |\n",
      "====\n",
      "Epoch:  55%|█████▌    | 110/200 [00:38<00:30,  2.92it/s]\n",
      "EP_train | train loss: 0.3013371787559493 | val loss: 0.3923431342723323 |\n",
      "====\n",
      "Epoch:  56%|█████▌    | 111/200 [00:39<00:30,  2.90it/s]\n",
      "EP_train | train loss: 0.29869684726324475 | val loss: 0.389974434001773 |\n",
      "====\n",
      "Epoch:  56%|█████▌    | 112/200 [00:39<00:30,  2.92it/s]\n",
      "EP_train | train loss: 0.2941820803291138 | val loss: 0.40046823258493464 |\n",
      "====\n",
      "Epoch:  56%|█████▋    | 113/200 [00:39<00:29,  2.94it/s]\n",
      "EP_train | train loss: 0.2891815633295928 | val loss: 0.4003693893844006 |\n",
      "====\n",
      "Epoch:  57%|█████▋    | 114/200 [00:40<00:29,  2.92it/s]\n",
      "EP_train | train loss: 0.28459832507281 | val loss: 0.39626452385210525 |\n",
      "====\n",
      "Epoch:  57%|█████▊    | 115/200 [00:40<00:29,  2.91it/s]\n",
      "EP_train | train loss: 0.28077729231391857 | val loss: 0.39422329617481605 |\n",
      "====\n",
      "Epoch:  58%|█████▊    | 116/200 [00:40<00:30,  2.79it/s]\n",
      "EP_train | train loss: 0.2766710709382766 | val loss: 0.3962822579870037 |\n",
      "====\n",
      "Epoch:  58%|█████▊    | 117/200 [00:41<00:29,  2.81it/s]\n",
      "EP_train | train loss: 0.2720625551178045 | val loss: 0.3981574890660305 |\n",
      "====\n",
      "Epoch:  59%|█████▉    | 118/200 [00:41<00:29,  2.82it/s]\n",
      "EP_train | train loss: 0.26737688985005964 | val loss: 0.3964456693798888 |\n",
      "====\n",
      "Epoch:  60%|█████▉    | 119/200 [00:41<00:28,  2.84it/s]\n",
      "EP_train | train loss: 0.26611876487731934 | val loss: 0.4146225242053761 |\n",
      "====\n",
      "Epoch:  60%|██████    | 120/200 [00:42<00:27,  2.87it/s]\n",
      "EP_train | train loss: 0.25860583236794066 | val loss: 0.3996652388105206 |\n",
      "====\n",
      "Epoch:  60%|██████    | 121/200 [00:42<00:27,  2.85it/s]\n",
      "EP_train | train loss: 0.25365584400484503 | val loss: 0.40477119941337436 |\n",
      "====\n",
      "Epoch:  61%|██████    | 122/200 [00:42<00:27,  2.88it/s]\n",
      "EP_train | train loss: 0.2520102130042182 | val loss: 0.418760711071538 |\n",
      "====\n",
      "Epoch:  62%|██████▏   | 123/200 [00:43<00:26,  2.89it/s]\n",
      "EP_train | train loss: 0.24637775847075552 | val loss: 0.4182392428903019 |\n",
      "====\n",
      "Epoch:  62%|██████▏   | 124/200 [00:43<00:26,  2.88it/s]\n",
      "EP_train | train loss: 0.2371774826174468 | val loss: 0.40255480654099407 |\n",
      "====\n",
      "Epoch:  62%|██████▎   | 125/200 [00:43<00:25,  2.89it/s]\n",
      "EP_train | train loss: 0.23407150301798238 | val loss: 0.40102000563752416 |\n",
      "====\n",
      "Epoch:  63%|██████▎   | 126/200 [00:44<00:26,  2.84it/s]\n",
      "EP_train | train loss: 0.22936414139982403 | val loss: 0.4027429024378459 |\n",
      "====\n",
      "Epoch:  64%|██████▎   | 127/200 [00:44<00:25,  2.88it/s]\n",
      "EP_train | train loss: 0.22808285112734195 | val loss: 0.3985773161345837 |\n",
      "====\n",
      "Epoch:  64%|██████▍   | 128/200 [00:44<00:24,  2.91it/s]\n",
      "EP_train | train loss: 0.21616424662355244 | val loss: 0.4071840153020971 |\n",
      "====\n",
      "Epoch:  64%|██████▍   | 129/200 [00:45<00:24,  2.89it/s]\n",
      "EP_train | train loss: 0.22753913210368104 | val loss: 0.39708031976924224 |\n",
      "====\n",
      "Epoch:  65%|██████▌   | 130/200 [00:45<00:24,  2.87it/s]\n",
      "EP_train | train loss: 0.21397246150928906 | val loss: 0.40275230010350543 |\n",
      "====\n",
      "Epoch:  66%|██████▌   | 131/200 [00:46<00:24,  2.81it/s]\n",
      "EP_train | train loss: 0.1997564903791174 | val loss: 0.43062128973942176 |\n",
      "====\n",
      "Epoch:  66%|██████▌   | 132/200 [00:46<00:24,  2.82it/s]\n",
      "EP_train | train loss: 0.19733966357827445 | val loss: 0.44243596231236176 |\n",
      "====\n",
      "Epoch:  66%|██████▋   | 133/200 [00:46<00:23,  2.81it/s]\n",
      "EP_train | train loss: 0.19827640965613405 | val loss: 0.454943483951045 |\n",
      "====\n",
      "Epoch:  67%|██████▋   | 134/200 [00:47<00:23,  2.86it/s]\n",
      "EP_train | train loss: 0.18029967502311425 | val loss: 0.4247567478348227 |\n",
      "====\n",
      "Epoch:  68%|██████▊   | 135/200 [00:47<00:22,  2.90it/s]\n",
      "EP_train | train loss: 0.17595420579764837 | val loss: 0.4371524862214631 |\n",
      "====\n",
      "Epoch:  68%|██████▊   | 136/200 [00:47<00:22,  2.88it/s]\n",
      "EP_train | train loss: 0.18551268193197146 | val loss: 0.4106122465694652 |\n",
      "====\n",
      "Epoch:  68%|██████▊   | 137/200 [00:48<00:21,  2.91it/s]\n",
      "EP_train | train loss: 0.1618064896473438 | val loss: 0.42996224118214027 |\n",
      "====\n",
      "Epoch:  69%|██████▉   | 138/200 [00:48<00:21,  2.94it/s]\n",
      "EP_train | train loss: 0.1547018736276232 | val loss: 0.43842558299793916 |\n",
      "====\n",
      "Epoch:  70%|██████▉   | 139/200 [00:48<00:20,  2.91it/s]\n",
      "EP_train | train loss: 0.15170683294599613 | val loss: 0.4544805510371339 |\n",
      "====\n",
      "Epoch:  70%|███████   | 140/200 [00:49<00:20,  2.89it/s]\n",
      "EP_train | train loss: 0.14525743637209623 | val loss: 0.45444388132469327 |\n",
      "====\n",
      "Epoch:  70%|███████   | 141/200 [00:49<00:21,  2.81it/s]\n",
      "EP_train | train loss: 0.13492558516708075 | val loss: 0.44597985697727577 |\n",
      "====\n",
      "Epoch:  71%|███████   | 142/200 [00:49<00:20,  2.77it/s]\n",
      "EP_train | train loss: 0.1287502299726399 | val loss: 0.44333238227694644 |\n",
      "====\n",
      "Epoch:  72%|███████▏  | 143/200 [00:50<00:20,  2.79it/s]\n",
      "EP_train | train loss: 0.13377835262315205 | val loss: 0.4811675010942945 |\n",
      "====\n",
      "Epoch:  72%|███████▏  | 144/200 [00:50<00:19,  2.81it/s]\n",
      "EP_train | train loss: 0.11838058604653884 | val loss: 0.4638798377093147 |\n",
      "====\n",
      "Epoch:  72%|███████▎  | 145/200 [00:50<00:19,  2.83it/s]\n",
      "EP_train | train loss: 0.12225367573611357 | val loss: 0.4915238151363298 |\n",
      "====\n",
      "Epoch:  73%|███████▎  | 146/200 [00:51<00:19,  2.82it/s]\n",
      "EP_train | train loss: 0.10519501066935089 | val loss: 0.4500705880277297 |\n",
      "====\n",
      "Epoch:  74%|███████▎  | 147/200 [00:51<00:18,  2.86it/s]\n",
      "EP_train | train loss: 0.10074933058296154 | val loss: 0.48046402019612927 |\n",
      "====\n",
      "Epoch:  74%|███████▍  | 148/200 [00:51<00:17,  2.89it/s]\n",
      "EP_train | train loss: 0.1065239101193829 | val loss: 0.5047851917790431 |\n",
      "====\n",
      "Epoch:  74%|███████▍  | 149/200 [00:52<00:17,  2.89it/s]\n",
      "EP_train | train loss: 0.08897886167164722 | val loss: 0.479994043415668 |\n",
      "====\n",
      "Epoch:  75%|███████▌  | 150/200 [00:52<00:17,  2.89it/s]\n",
      "EP_train | train loss: 0.08253619289086535 | val loss: 0.4803597447918911 |\n",
      "====\n",
      "Epoch:  76%|███████▌  | 151/200 [00:53<00:17,  2.85it/s]\n",
      "EP_train | train loss: 0.09076385404549393 | val loss: 0.5055470653608733 |\n",
      "====\n",
      "Epoch:  76%|███████▌  | 152/200 [00:53<00:16,  2.84it/s]\n",
      "EP_train | train loss: 0.07713322273266861 | val loss: 0.48695483277825746 |\n",
      "====\n",
      "Epoch:  76%|███████▋  | 153/200 [00:53<00:16,  2.85it/s]\n",
      "EP_train | train loss: 0.11066053609702582 | val loss: 0.5555613344790888 |\n",
      "====\n",
      "Epoch:  77%|███████▋  | 154/200 [00:54<00:15,  2.88it/s]\n",
      "EP_train | train loss: 0.09747747528267323 | val loss: 0.446143063844419 |\n",
      "====\n",
      "Epoch:  78%|███████▊  | 155/200 [00:54<00:16,  2.81it/s]\n",
      "EP_train | train loss: 0.06495280696935384 | val loss: 0.4673442712017134 |\n",
      "====\n",
      "Epoch:  78%|███████▊  | 156/200 [00:54<00:15,  2.78it/s]\n",
      "EP_train | train loss: 0.05773639847769976 | val loss: 0.4896617788894504 |\n",
      "====\n",
      "Epoch:  78%|███████▊  | 157/200 [00:55<00:15,  2.79it/s]\n",
      "EP_train | train loss: 0.053429105183138044 | val loss: 0.49635858629264085 |\n",
      "====\n",
      "Epoch:  79%|███████▉  | 158/200 [00:55<00:14,  2.80it/s]\n",
      "EP_train | train loss: 0.05115174948519871 | val loss: 0.5043075388553095 |\n",
      "====\n",
      "Epoch:  80%|███████▉  | 159/200 [00:55<00:14,  2.82it/s]\n",
      "EP_train | train loss: 0.04751761663453512 | val loss: 0.500959410386927 |\n",
      "====\n",
      "Epoch:  80%|████████  | 160/200 [00:56<00:14,  2.77it/s]\n",
      "EP_train | train loss: 0.06933144234883759 | val loss: 0.5392108734916238 |\n",
      "====\n",
      "Epoch:  80%|████████  | 161/200 [00:56<00:14,  2.72it/s]\n",
      "EP_train | train loss: 0.04244316844898631 | val loss: 0.48477127271540027 |\n",
      "====\n",
      "Epoch:  81%|████████  | 162/200 [00:56<00:13,  2.77it/s]\n",
      "EP_train | train loss: 0.0385721778428113 | val loss: 0.4945504805620979 |\n",
      "====\n",
      "Epoch:  82%|████████▏ | 163/200 [00:57<00:13,  2.83it/s]\n",
      "EP_train | train loss: 0.03759782285731862 | val loss: 0.48523786488701315 |\n",
      "====\n",
      "Epoch:  82%|████████▏ | 164/200 [00:57<00:12,  2.88it/s]\n",
      "EP_train | train loss: 0.0460972963854638 | val loss: 0.5387800183950686 |\n",
      "====\n",
      "Epoch:  82%|████████▎ | 165/200 [00:57<00:12,  2.90it/s]\n",
      "EP_train | train loss: 0.03308712221958019 | val loss: 0.5102224957709219 |\n",
      "====\n",
      "Epoch:  83%|████████▎ | 166/200 [00:58<00:11,  2.88it/s]\n",
      "EP_train | train loss: 0.05549724961677668 | val loss: 0.47091912989522894 |\n",
      "====\n",
      "Epoch:  84%|████████▎ | 167/200 [00:58<00:11,  2.88it/s]\n",
      "EP_train | train loss: 0.028736654904413326 | val loss: 0.4928085313123815 |\n",
      "====\n",
      "Epoch:  84%|████████▍ | 168/200 [00:59<00:11,  2.87it/s]\n",
      "EP_train | train loss: 0.02566020125786983 | val loss: 0.511205743340885 |\n",
      "====\n",
      "Epoch:  84%|████████▍ | 169/200 [00:59<00:10,  2.87it/s]\n",
      "EP_train | train loss: 0.0255137732930173 | val loss: 0.5231646462982776 |\n",
      "====\n",
      "Epoch:  85%|████████▌ | 170/200 [00:59<00:10,  2.87it/s]\n",
      "EP_train | train loss: 0.021997979004138954 | val loss: 0.5111091487547931 |\n",
      "====\n",
      "Epoch:  86%|████████▌ | 171/200 [01:00<00:10,  2.85it/s]\n",
      "EP_train | train loss: 0.021102699806227924 | val loss: 0.5152426911335365 |\n",
      "====\n",
      "Epoch:  86%|████████▌ | 172/200 [01:00<00:09,  2.85it/s]\n",
      "EP_train | train loss: 0.0228008482775657 | val loss: 0.49614472015231265 |\n",
      "====\n",
      "Epoch:  86%|████████▋ | 173/200 [01:00<00:09,  2.86it/s]\n",
      "EP_train | train loss: 0.018839302925242836 | val loss: 0.4984881924647911 |\n",
      "====\n",
      "Epoch:  87%|████████▋ | 174/200 [01:01<00:09,  2.87it/s]\n",
      "EP_train | train loss: 0.021158025545232436 | val loss: 0.540765594033634 |\n",
      "====\n",
      "Epoch:  88%|████████▊ | 175/200 [01:01<00:08,  2.90it/s]\n",
      "EP_train | train loss: 0.02057880750798452 | val loss: 0.4940538897233851 |\n",
      "====\n",
      "Epoch:  88%|████████▊ | 176/200 [01:01<00:08,  2.88it/s]\n",
      "EP_train | train loss: 0.01826819238579611 | val loss: 0.4962334889991611 |\n",
      "====\n",
      "Epoch:  88%|████████▊ | 177/200 [01:02<00:07,  2.91it/s]\n",
      "EP_train | train loss: 0.01354852638538107 | val loss: 0.5170692953408933 |\n",
      "====\n",
      "Epoch:  89%|████████▉ | 178/200 [01:02<00:07,  2.94it/s]\n",
      "EP_train | train loss: 0.013177113676512683 | val loss: 0.5074536683512669 |\n",
      "====\n",
      "Epoch:  90%|████████▉ | 179/200 [01:02<00:07,  2.95it/s]\n",
      "EP_train | train loss: 0.032488128263706215 | val loss: 0.4884701593249452 |\n",
      "====\n",
      "Epoch:  90%|█████████ | 180/200 [01:03<00:06,  2.96it/s]\n",
      "EP_train | train loss: 0.012938289097581294 | val loss: 0.5322580384273156 |\n",
      "====\n",
      "Epoch:  90%|█████████ | 181/200 [01:03<00:06,  2.91it/s]\n",
      "EP_train | train loss: 0.010408002404345926 | val loss: 0.5247048349941478 |\n",
      "====\n",
      "Epoch:  91%|█████████ | 182/200 [01:03<00:06,  2.93it/s]\n",
      "EP_train | train loss: 0.010033070765159748 | val loss: 0.5154779939090505 |\n",
      "====\n",
      "Epoch:  92%|█████████▏| 183/200 [01:04<00:05,  2.94it/s]\n",
      "EP_train | train loss: 0.00928478858439751 | val loss: 0.5209571847728655 |\n",
      "====\n",
      "Epoch:  92%|█████████▏| 184/200 [01:04<00:05,  2.94it/s]\n",
      "EP_train | train loss: 0.008402463146089728 | val loss: 0.518549217897303 |\n",
      "====\n",
      "Epoch:  92%|█████████▎| 185/200 [01:04<00:05,  2.95it/s]\n",
      "EP_train | train loss: 0.008509167399022055 | val loss: 0.5131002033458036 |\n",
      "====\n",
      "Epoch:  93%|█████████▎| 186/200 [01:05<00:04,  2.91it/s]\n",
      "EP_train | train loss: 0.00819363829746745 | val loss: 0.5340367415372063 |\n",
      "====\n",
      "Epoch:  94%|█████████▎| 187/200 [01:05<00:04,  2.94it/s]\n",
      "EP_train | train loss: 0.008812630390809253 | val loss: 0.5131670376833748 |\n",
      "====\n",
      "Epoch:  94%|█████████▍| 188/200 [01:05<00:04,  2.95it/s]\n",
      "EP_train | train loss: 0.006550522435919132 | val loss: 0.5200397056691787 |\n",
      "====\n",
      "Epoch:  94%|█████████▍| 189/200 [01:06<00:03,  2.95it/s]\n",
      "EP_train | train loss: 0.007055147135049949 | val loss: 0.5372316626941457 |\n",
      "====\n",
      "Epoch:  95%|█████████▌| 190/200 [01:06<00:03,  2.95it/s]\n",
      "EP_train | train loss: 0.0054454475657482815 | val loss: 0.5227126467461679 |\n",
      "====\n",
      "Epoch:  96%|█████████▌| 191/200 [01:06<00:03,  2.91it/s]\n",
      "EP_train | train loss: 0.006673731153307398 | val loss: 0.5426014685163311 |\n",
      "====\n",
      "Epoch:  96%|█████████▌| 192/200 [01:07<00:02,  2.93it/s]\n",
      "EP_train | train loss: 0.0062534588679249254 | val loss: 0.54144006616929 |\n",
      "====\n",
      "Epoch:  96%|█████████▋| 193/200 [01:07<00:02,  2.94it/s]\n",
      "EP_train | train loss: 0.0045193500394784805 | val loss: 0.5275780593647676 |\n",
      "====\n",
      "Epoch:  97%|█████████▋| 194/200 [01:07<00:02,  2.95it/s]\n",
      "EP_train | train loss: 0.004344490930957472 | val loss: 0.5262892246246338 |\n",
      "====\n",
      "Epoch:  98%|█████████▊| 195/200 [01:08<00:01,  2.94it/s]\n",
      "EP_train | train loss: 0.005542647207159882 | val loss: 0.5183693638034895 |\n",
      "====\n",
      "Epoch:  98%|█████████▊| 196/200 [01:08<00:01,  2.90it/s]\n",
      "EP_train | train loss: 0.004437919799441346 | val loss: 0.5225998209972008 |\n",
      "====\n",
      "Epoch:  98%|█████████▊| 197/200 [01:08<00:01,  2.92it/s]\n",
      "EP_train | train loss: 0.007944057644841978 | val loss: 0.5096941788991293 |\n",
      "====\n",
      "Epoch:  99%|█████████▉| 198/200 [01:09<00:00,  2.92it/s]\n",
      "EP_train | train loss: 0.003572402270368761 | val loss: 0.5245169050553266 |\n",
      "====\n",
      "Epoch: 100%|█████████▉| 199/200 [01:09<00:00,  2.94it/s]\n",
      "EP_train | train loss: 0.004556315145526317 | val loss: 0.518740693728129 |\n",
      "====\n",
      "Epoch: 100%|██████████| 200/200 [01:09<00:00,  2.86it/s]\n",
      "EP_train | train loss: 0.003040317145697691 | val loss: 0.527763189054003 |\n",
      "\n"
     ]
    }
   ],
   "source": [
    "AttractiveTrainer.train()"
   ]
  },
  {
   "cell_type": "markdown",
   "metadata": {},
   "source": [
    "## for classification, not better"
   ]
  },
  {
   "cell_type": "markdown",
   "metadata": {},
   "source": [
    "## Below is testing"
   ]
  },
  {
   "cell_type": "code",
   "execution_count": 8,
   "metadata": {},
   "outputs": [
    {
     "output_type": "execute_result",
     "data": {
      "text/plain": [
       "AttractiveNet(\n",
       "  (embedding): AttractiveEmbedding(\n",
       "    (token): TokenEmbedding(11857, 300, padding_idx=1)\n",
       "  )\n",
       "  (bigramcnn): Sequential(\n",
       "    (0): Conv1d(300, 200, kernel_size=(3,), stride=(1,), padding=(1,))\n",
       "    (1): ReLU()\n",
       "    (2): Conv1d(200, 100, kernel_size=(3,), stride=(1,), padding=(1,))\n",
       "    (3): ReLU()\n",
       "  )\n",
       "  (trigramcnn): Sequential(\n",
       "    (0): Conv1d(300, 200, kernel_size=(3,), stride=(1,), padding=(1,))\n",
       "    (1): ReLU()\n",
       "    (2): Conv1d(200, 100, kernel_size=(3,), stride=(1,), padding=(1,))\n",
       "    (3): ReLU()\n",
       "  )\n",
       "  (encoder_bigram): LSTM(100, 30, batch_first=True, dropout=0.1, bidirectional=True)\n",
       "  (encoder_trigram): LSTM(100, 30, batch_first=True, dropout=0.1, bidirectional=True)\n",
       "  (linear): Sequential(\n",
       "    (0): Linear(in_features=120, out_features=30, bias=True)\n",
       "    (1): ReLU()\n",
       "    (2): Linear(in_features=30, out_features=1, bias=True)\n",
       "  )\n",
       ")"
      ]
     },
     "metadata": {},
     "execution_count": 8
    }
   ],
   "source": [
    "from attractivenet import AttractiveNet\n",
    "PATH = './model/CNN_LSTM_20201103-150358_0.4101.70'\n",
    "# PATH = './model/CNN_LSTM_20201103-150358_0.4101.70'\n",
    "\n",
    "load_model = AttractiveNet(config).to(AttractiveData.device)\n",
    "load_model.load_state_dict(torch.load(PATH))\n",
    "load_model.eval()"
   ]
  },
  {
   "cell_type": "code",
   "execution_count": 9,
   "metadata": {},
   "outputs": [],
   "source": [
    "def predict_attractive(sentence, category, phase):\n",
    "    # if len(sentence) < config['max_seq']:\n",
    "    #     sentence += ['0'] * (config['max_seq'] - len(sentence))\n",
    "    # else:\n",
    "    #     sentence = sentence[:config['max_seq']]\n",
    "\n",
    "    indexed_sentence = [AttractiveData.TEXT.vocab.stoi[t] for t in sentence]\n",
    "    indexed_category = [AttractiveData.CATEGORIES_LABEL.vocab.stoi[category]]\n",
    "    tensor_sentence = torch.LongTensor(indexed_sentence).to(AttractiveData.device)\n",
    "    tensor_category = torch.LongTensor(indexed_category).to(AttractiveData.device)\n",
    "\n",
    "    tensor_sentence = tensor_sentence.unsqueeze(0)\n",
    "    # print(tensor_sentence.shape)\n",
    "\n",
    "    prediction = load_model(tensor_sentence, tensor_category, phase=phase)\n",
    "\n",
    "    # after_decimal = prediction % 1\n",
    "    # possible_list = [0.0, 0.3333333333333333, 0.6666666666666665, 0.5, 1.0]\n",
    "    # closet_idx = None\n",
    "    # closet_distance = 1\n",
    "    # for i in range(len(possible_list)):\n",
    "    #     if abs(after_decimal - possible_list[i]) <= closet_distance:\n",
    "    #         closet_idx = i\n",
    "    #         closet_distance = abs(after_decimal - possible_list[i])\n",
    "    # prediction = (prediction // 1) + possible_list[closet_idx]\n",
    "    \n",
    "    return prediction"
   ]
  },
  {
   "cell_type": "code",
   "execution_count": 10,
   "metadata": {
    "tags": []
   },
   "outputs": [],
   "source": [
    "# train mean = 3.15, test mean = 2.8\n",
    "predict_list = []\n",
    "with torch.no_grad():\n",
    "    for i, sentence in enumerate(AttractiveData.test_data):\n",
    "        prediction = predict_attractive(sentence.Headline, sentence.Category, 'test')\n",
    "        predict_list.append(prediction.item())\n",
    "        # predict_list.append(prediction.item())\n",
    "AttractiveData.df_test['Label'] = predict_list\n",
    "AttractiveData.df_test[['ID', 'Label']].to_csv(config['save_name'] + '.csv', index=False)"
   ]
  },
  {
   "cell_type": "markdown",
   "metadata": {},
   "source": [
    "## Below for statistics"
   ]
  },
  {
   "cell_type": "code",
   "execution_count": 11,
   "metadata": {},
   "outputs": [],
   "source": [
    "import statistics\n",
    "from sklearn.metrics import mean_squared_error"
   ]
  },
  {
   "cell_type": "code",
   "execution_count": 12,
   "metadata": {},
   "outputs": [],
   "source": [
    "# # train mean = 3.15, test mean = 2.8\n",
    "# train_list = []\n",
    "# for i, sentence in enumerate(AttractiveData.train_data):\n",
    "#     prediction = predict_attractive(sentence.Headline, sentence.Category, 'train')\n",
    "#     train_list.append(prediction.item())\n",
    "#     # train_list.append(prediction.item())\n",
    "# # print(train_list)\n",
    "# mean_squared_error(pd.read_csv('data/train.csv').sort_values(['ID']).Label.to_list(), train_list), statistics.mean(train_list), statistics.stdev(train_list)"
   ]
  },
  {
   "cell_type": "code",
   "execution_count": 13,
   "metadata": {},
   "outputs": [],
   "source": [
    "# train_list[0:5], pd.read_csv('data/train.csv').sort_values(['ID']).Label.to_list()[0:5]"
   ]
  },
  {
   "cell_type": "code",
   "execution_count": 14,
   "metadata": {},
   "outputs": [],
   "source": [
    "# a = AttractiveData.df_train['Label'].to_list()\n",
    "# statistics.mean(a), statistics.stdev(a)"
   ]
  },
  {
   "cell_type": "code",
   "execution_count": 15,
   "metadata": {},
   "outputs": [
    {
     "output_type": "execute_result",
     "data": {
      "text/plain": [
       "(2.8399917459697974, 0.32816484998323603)"
      ]
     },
     "metadata": {},
     "execution_count": 15
    }
   ],
   "source": [
    "statistics.mean(predict_list), statistics.stdev(predict_list)"
   ]
  },
  {
   "cell_type": "code",
   "execution_count": 16,
   "metadata": {},
   "outputs": [
    {
     "output_type": "execute_result",
     "data": {
      "text/plain": [
       "(0.04925474756855953, 2.749250414087909, 0.21818948511921435)"
      ]
     },
     "metadata": {},
     "execution_count": 16
    }
   ],
   "source": [
    "baseline_list = pd.read_csv('baseline.csv').sort_values(['ID']).Label.to_list()\n",
    "mean_squared_error(baseline_list, predict_list), statistics.mean(baseline_list), statistics.stdev(baseline_list)"
   ]
  },
  {
   "cell_type": "code",
   "execution_count": null,
   "metadata": {},
   "outputs": [],
   "source": []
  },
  {
   "cell_type": "code",
   "execution_count": 14,
   "metadata": {},
   "outputs": [
    {
     "data": {
      "text/plain": [
       "'the'"
      ]
     },
     "execution_count": 14,
     "metadata": {},
     "output_type": "execute_result"
    }
   ],
   "source": [
    "AttractiveData.TEXT.vocab.itos[2]"
   ]
  },
  {
   "cell_type": "code",
   "execution_count": 26,
   "metadata": {},
   "outputs": [
    {
     "data": {
      "text/plain": [
       "Counter({'4.0': 226,\n",
       "         '2.333333333333333': 194,\n",
       "         '4.5': 43,\n",
       "         '3.333333333333333': 313,\n",
       "         '3.6666666666666665': 260,\n",
       "         '2.6666666666666665': 281,\n",
       "         '2.0': 135,\n",
       "         '2.5': 36,\n",
       "         '1.6666666666666667': 28,\n",
       "         '3.0': 354,\n",
       "         '4.333333333333333': 82,\n",
       "         '4.666666666666667': 29,\n",
       "         '1.5': 16,\n",
       "         '3.5': 22,\n",
       "         '1.3333333333333333': 4,\n",
       "         '1.0': 5,\n",
       "         '5.0': 12})"
      ]
     },
     "execution_count": 26,
     "metadata": {},
     "output_type": "execute_result"
    }
   ],
   "source": [
    "AttractiveData.LABEL.vocab.freqs"
   ]
  },
  {
   "cell_type": "code",
   "execution_count": null,
   "metadata": {},
   "outputs": [],
   "source": []
  }
 ],
 "metadata": {
  "kernelspec": {
   "display_name": "DS_hw2",
   "language": "python",
   "name": "ds_hw2"
  },
  "language_info": {
   "codemirror_mode": {
    "name": "ipython",
    "version": 3
   },
   "file_extension": ".py",
   "mimetype": "text/x-python",
   "name": "python",
   "nbconvert_exporter": "python",
   "pygments_lexer": "ipython3",
   "version": "3.6.12-final"
  }
 },
 "nbformat": 4,
 "nbformat_minor": 4
}