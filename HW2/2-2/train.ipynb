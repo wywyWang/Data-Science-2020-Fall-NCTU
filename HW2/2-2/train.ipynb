{
 "cells": [
  {
   "cell_type": "code",
   "execution_count": 1,
   "metadata": {},
   "outputs": [],
   "source": [
    "# common packages\n",
    "import pandas as pd\n",
    "import time\n",
    "\n",
    "# # DL framework\n",
    "import torch\n",
    "from torchtext import data\n",
    "\n",
    "from attractivedata import AttractiveData\n",
    "from trainer import AttractiveTrainer"
   ]
  },
  {
   "cell_type": "code",
   "execution_count": 2,
   "metadata": {},
   "outputs": [],
   "source": [
    "seed_value = 42\n",
    "torch.manual_seed(seed_value)\n",
    "torch.cuda.manual_seed(seed_value)\n",
    "torch.cuda.manual_seed_all(seed_value) # gpu vars\n",
    "torch.backends.cudnn.deterministic = True  #needed\n",
    "torch.backends.cudnn.benchmark = False"
   ]
  },
  {
   "cell_type": "markdown",
   "metadata": {},
   "source": [
    "# TODO: \n",
    "- [ ] cnn plus residual network\n",
    "- [ ] word embedding multiply tfidf\n",
    "- [ ] use word2vec"
   ]
  },
  {
   "cell_type": "markdown",
   "metadata": {},
   "source": [
    "## Load and prepare data"
   ]
  },
  {
   "cell_type": "code",
   "execution_count": 3,
   "metadata": {},
   "outputs": [],
   "source": [
    "train_file = 'data/train.csv'\n",
    "val_file = 'example/val.csv'\n",
    "test_file = 'data/test.csv'\n",
    "pretrained_file = 'glove.840B.300d'\n",
    "config = {\n",
    "    'max_seq': 40,\n",
    "    'min_freq': 0,\n",
    "    'batch_size': 64,\n",
    "    'pretrained_file': pretrained_file\n",
    "}\n"
   ]
  },
  {
   "cell_type": "code",
   "execution_count": 4,
   "metadata": {},
   "outputs": [],
   "source": [
    "AttractiveData = AttractiveData(train_file, val_file, test_file, pretrained_file, config)"
   ]
  },
  {
   "cell_type": "markdown",
   "metadata": {},
   "source": [
    "## Start to train"
   ]
  },
  {
   "cell_type": "code",
   "execution_count": 5,
   "metadata": {},
   "outputs": [
    {
     "output_type": "stream",
     "name": "stdout",
     "text": [
      "torch.Size([12699, 300])\n"
     ]
    }
   ],
   "source": [
    "config['timestr'] = time.strftime(\"%Y%m%d-%H%M%S\")\n",
    "config['save_name'] = 'CNN_LSTM'\n",
    "config['input_dim'] = len(AttractiveData.TEXT.vocab)\n",
    "config['embedding_dim'] = 300\n",
    "config['category_dim'] = len(AttractiveData.CATEGORIES_LABEL.vocab)\n",
    "config['category_embedding_dim'] = 10\n",
    "config['hidden_dim'] = 30\n",
    "config['output_dim'] = 1\n",
    "config['log_steps'] = 10\n",
    "config['epochs'] = 200\n",
    "config['lr'] = {\n",
    "    'encoder': 1e-5,\n",
    "    'embedding': 6e-6,\n",
    "    'linear': 1e-5\n",
    "}\n",
    "config['num_layers'] = 1\n",
    "config['kernel_size'] = 3\n",
    "config['dropout'] = 0.5\n",
    "config['train_len'] = AttractiveData.train_len\n",
    "config['val_len'] = AttractiveData.val_len\n",
    "config['test_len'] = AttractiveData.test_len\n",
    "\n",
    "pretrained_embeddings = AttractiveData.TEXT.vocab.vectors\n",
    "print(pretrained_embeddings.shape)"
   ]
  },
  {
   "cell_type": "code",
   "execution_count": 6,
   "metadata": {},
   "outputs": [],
   "source": [
    "AttractiveTrainer = AttractiveTrainer(config, AttractiveData.device, AttractiveData.trainloader, AttractiveData.valloader, pretrained_embeddings)"
   ]
  },
  {
   "cell_type": "code",
   "execution_count": 7,
   "metadata": {},
   "outputs": [
    {
     "output_type": "execute_result",
     "data": {
      "text/plain": [
       "(AttractiveNet(\n",
       "   (embedding): AttractiveEmbedding(\n",
       "     (token): TokenEmbedding(12699, 300, padding_idx=1)\n",
       "   )\n",
       "   (bigramcnn): Sequential(\n",
       "     (0): Conv1d(300, 210, kernel_size=(2,), stride=(1,), padding=(1,))\n",
       "     (1): ReLU()\n",
       "     (2): Conv1d(210, 110, kernel_size=(2,), stride=(1,), padding=(1,))\n",
       "     (3): ReLU()\n",
       "     (4): Dropout(p=0.5, inplace=False)\n",
       "   )\n",
       "   (trigramcnn): Sequential(\n",
       "     (0): Conv1d(300, 210, kernel_size=(3,), stride=(1,), padding=(1,))\n",
       "     (1): ReLU()\n",
       "     (2): Conv1d(210, 110, kernel_size=(3,), stride=(1,), padding=(1,))\n",
       "     (3): ReLU()\n",
       "     (4): Dropout(p=0.5, inplace=False)\n",
       "   )\n",
       "   (encoder_bigram): LSTM(110, 30, batch_first=True, dropout=0.5, bidirectional=True)\n",
       "   (encoder_trigram): LSTM(110, 30, batch_first=True, dropout=0.5, bidirectional=True)\n",
       "   (linear): Sequential(\n",
       "     (0): Linear(in_features=128, out_features=30, bias=True)\n",
       "     (1): ReLU()\n",
       "     (2): Linear(in_features=30, out_features=1, bias=True)\n",
       "   )\n",
       " ),\n",
       " 4312901,\n",
       " 4312901)"
      ]
     },
     "metadata": {},
     "execution_count": 7
    }
   ],
   "source": [
    "AttractiveTrainer.model, AttractiveTrainer.config['total_params'], AttractiveTrainer.config['total_learned_params']"
   ]
  },
  {
   "cell_type": "code",
   "execution_count": 10,
   "metadata": {
    "tags": [
     "outputPrepend"
    ]
   },
   "outputs": [
    {
     "output_type": "stream",
     "name": "stderr",
     "text": [
      "9<01:03,  2.38it/s]\n",
      "EP_47 | train loss: 0.4360497699064367 | val loss: 0.36716211075876276 |\n",
      "Epoch:  24%|██▍       | 49/200 [00:20<01:03,  2.36it/s]\n",
      "EP_48 | train loss: 0.42388577928730087 | val loss: 0.358022471853331 |\n",
      "Epoch:  25%|██▌       | 50/200 [00:20<01:02,  2.40it/s]\n",
      "EP_49 | train loss: 0.421797851487702 | val loss: 0.35490338358224605 |\n",
      "Epoch:  26%|██▌       | 51/200 [00:20<01:02,  2.39it/s]\n",
      "EP_50 | train loss: 0.41609966614667104 | val loss: 0.35123880704243976 |\n",
      "Epoch:  26%|██▌       | 52/200 [00:21<01:01,  2.40it/s]\n",
      "EP_51 | train loss: 0.4200895262699501 | val loss: 0.3520902208253449 |\n",
      "Epoch:  26%|██▋       | 53/200 [00:21<01:01,  2.40it/s]\n",
      "EP_52 | train loss: 0.42078909219480026 | val loss: 0.35280244023192164 |\n",
      "Epoch:  27%|██▋       | 54/200 [00:22<01:00,  2.43it/s]\n",
      "EP_53 | train loss: 0.41185793876647947 | val loss: 0.34587625078126494 |\n",
      "Epoch:  28%|██▊       | 55/200 [00:22<00:59,  2.45it/s]\n",
      "EP_54 | train loss: 0.40889990095998724 | val loss: 0.3433427874948464 |\n",
      "Epoch:  28%|██▊       | 56/200 [00:22<00:59,  2.40it/s]\n",
      "EP_55 | train loss: 0.4049696912952498 | val loss: 0.34090534086320917 |\n",
      "Epoch:  28%|██▊       | 57/200 [00:23<00:59,  2.41it/s]\n",
      "EP_56 | train loss: 0.40586219581903193 | val loss: 0.34043027256049363 |\n",
      "Epoch:  29%|██▉       | 58/200 [00:23<00:57,  2.47it/s]\n",
      "EP_57 | train loss: 0.4019726482092165 | val loss: 0.338652362426122 |\n",
      "Epoch:  30%|██▉       | 59/200 [00:24<00:56,  2.52it/s]\n",
      "EP_58 | train loss: 0.3982636189928242 | val loss: 0.33664339780807495 |\n",
      "Epoch:  30%|███       | 60/200 [00:24<00:55,  2.54it/s]\n",
      "EP_59 | train loss: 0.3950896010679357 | val loss: 0.3353893505591972 |\n",
      "Epoch:  30%|███       | 61/200 [00:24<00:55,  2.52it/s]\n",
      "EP_60 | train loss: 0.3962525666928759 | val loss: 0.3351669288149067 |\n",
      "Epoch:  31%|███       | 62/200 [00:25<00:54,  2.54it/s]\n",
      "EP_61 | train loss: 0.39243456896613627 | val loss: 0.33380179253278996 |\n",
      "Epoch:  32%|███▏      | 63/200 [00:25<00:53,  2.55it/s]\n",
      "EP_62 | train loss: 0.3876139472512638 | val loss: 0.33134281927464054 |\n",
      "Epoch:  32%|███▏      | 64/200 [00:26<00:54,  2.48it/s]\n",
      "EP_63 | train loss: 0.38997108141581216 | val loss: 0.33225738008817035 |\n",
      "Epoch:  32%|███▎      | 65/200 [00:26<00:54,  2.48it/s]\n",
      "EP_64 | train loss: 0.38270906934551163 | val loss: 0.33060239050902573 |\n",
      "Epoch:  33%|███▎      | 66/200 [00:26<00:55,  2.42it/s]\n",
      "EP_65 | train loss: 0.38231160780962775 | val loss: 0.3294336760745329 |\n",
      "Epoch:  34%|███▎      | 67/200 [00:27<00:54,  2.43it/s]\n",
      "EP_66 | train loss: 0.37690380507824467 | val loss: 0.3277430055188198 |\n",
      "Epoch:  34%|███▍      | 68/200 [00:27<00:53,  2.47it/s]\n",
      "EP_67 | train loss: 0.3752974313848159 | val loss: 0.32636718656502517 |\n",
      "Epoch:  34%|███▍      | 69/200 [00:28<00:54,  2.41it/s]\n",
      "EP_68 | train loss: 0.3733297357372209 | val loss: 0.3250837168272804 |\n",
      "Epoch:  35%|███▌      | 70/200 [00:28<00:53,  2.42it/s]\n",
      "EP_69 | train loss: 0.3697628914141187 | val loss: 0.32418769247391643 |\n",
      "Epoch:  36%|███▌      | 71/200 [00:29<00:53,  2.43it/s]\n",
      "EP_70 | train loss: 0.36563574286068184 | val loss: 0.32368256297765996 |\n",
      "Epoch:  36%|███▌      | 72/200 [00:29<00:52,  2.45it/s]\n",
      "EP_71 | train loss: 0.36487120366563985 | val loss: 0.3199559865044613 |\n",
      "Epoch:  36%|███▋      | 73/200 [00:29<00:51,  2.47it/s]\n",
      "EP_72 | train loss: 0.3610585437101476 | val loss: 0.3197825831525466 |\n",
      "Epoch:  37%|███▋      | 74/200 [00:30<00:50,  2.47it/s]\n",
      "EP_73 | train loss: 0.3588506534987805 | val loss: 0.3182498269221362 |\n",
      "Epoch:  38%|███▊      | 75/200 [00:30<00:50,  2.49it/s]\n",
      "EP_74 | train loss: 0.3562843734142827 | val loss: 0.31715096270336823 |\n",
      "Epoch:  38%|███▊      | 76/200 [00:31<00:50,  2.45it/s]\n",
      "EP_75 | train loss: 0.35697586162417544 | val loss: 0.3189086318016052 |\n",
      "Epoch:  38%|███▊      | 77/200 [00:31<00:50,  2.45it/s]\n",
      "EP_76 | train loss: 0.3551948117274864 | val loss: 0.31610816892455607 |\n",
      "Epoch:  39%|███▉      | 78/200 [00:31<00:49,  2.45it/s]\n",
      "EP_77 | train loss: 0.35008917696335734 | val loss: 0.31324321791237475 |\n",
      "Epoch:  40%|███▉      | 79/200 [00:32<00:49,  2.43it/s]\n",
      "EP_78 | train loss: 0.34051189235612456 | val loss: 0.31027643353331325 |\n",
      "Epoch:  40%|████      | 80/200 [00:32<00:49,  2.41it/s]\n",
      "EP_79 | train loss: 0.3405852705824609 | val loss: 0.3078082566167794 |\n",
      "Epoch:  40%|████      | 81/200 [00:33<00:49,  2.40it/s]\n",
      "EP_80 | train loss: 0.3383279426425111 | val loss: 0.30678170977854263 |\n",
      "Epoch:  41%|████      | 82/200 [00:33<00:48,  2.44it/s]\n",
      "EP_81 | train loss: 0.3451683568019493 | val loss: 0.310379519182093 |\n",
      "Epoch:  42%|████▏     | 83/200 [00:33<00:47,  2.44it/s]\n",
      "EP_82 | train loss: 0.3277010772742477 | val loss: 0.30300645910057367 |\n",
      "Epoch:  42%|████▏     | 84/200 [00:34<00:47,  2.45it/s]\n",
      "EP_83 | train loss: 0.3225446009168438 | val loss: 0.2980697715983671 |\n",
      "Epoch:  42%|████▎     | 85/200 [00:34<00:47,  2.43it/s]\n",
      "EP_84 | train loss: 0.32437619555230235 | val loss: 0.297351970392115 |\n",
      "Epoch:  43%|████▎     | 86/200 [00:35<00:47,  2.42it/s]\n",
      "EP_85 | train loss: 0.316862395697949 | val loss: 0.2937929893241209 |\n",
      "Epoch:  44%|████▎     | 87/200 [00:35<00:46,  2.44it/s]\n",
      "EP_86 | train loss: 0.3130543489082187 | val loss: 0.2939935636286642 |\n",
      "Epoch:  44%|████▍     | 88/200 [00:35<00:45,  2.47it/s]\n",
      "EP_87 | train loss: 0.31357429635291006 | val loss: 0.2898743783726412 |\n",
      "Epoch:  44%|████▍     | 89/200 [00:36<00:45,  2.43it/s]\n",
      "EP_88 | train loss: 0.3280022896972357 | val loss: 0.30028965660170015 |\n",
      "Epoch:  45%|████▌     | 90/200 [00:36<00:45,  2.44it/s]\n",
      "EP_89 | train loss: 0.3026875276191562 | val loss: 0.2835148309960085 |\n",
      "Epoch:  46%|████▌     | 91/200 [00:37<00:45,  2.38it/s]\n",
      "EP_90 | train loss: 0.29699123186223647 | val loss: 0.28089287351159486 |\n",
      "Epoch:  46%|████▌     | 92/200 [00:37<00:44,  2.40it/s]\n",
      "EP_91 | train loss: 0.29744407335917156 | val loss: 0.27773333063312605 |\n",
      "Epoch:  46%|████▋     | 93/200 [00:38<00:43,  2.44it/s]\n",
      "EP_92 | train loss: 0.29088839923634247 | val loss: 0.2763829003362095 |\n",
      "Epoch:  47%|████▋     | 94/200 [00:38<00:42,  2.47it/s]\n",
      "EP_93 | train loss: 0.28696950510436414 | val loss: 0.2713809363982257 |\n",
      "Epoch:  48%|████▊     | 95/200 [00:38<00:42,  2.49it/s]\n",
      "EP_94 | train loss: 0.2859059104732439 | val loss: 0.2700154115171993 |\n",
      "Epoch:  48%|████▊     | 96/200 [00:39<00:42,  2.46it/s]\n",
      "EP_95 | train loss: 0.2797821189842972 | val loss: 0.2659362116280724 |\n",
      "Epoch:  48%|████▊     | 97/200 [00:39<00:41,  2.49it/s]\n",
      "EP_96 | train loss: 0.27618152487511727 | val loss: 0.2611678020626891 |\n",
      "Epoch:  49%|████▉     | 98/200 [00:40<00:40,  2.51it/s]\n",
      "EP_97 | train loss: 0.2742706583995445 | val loss: 0.25855390873609807 |\n",
      "Epoch:  50%|████▉     | 99/200 [00:40<00:40,  2.52it/s]\n",
      "EP_98 | train loss: 0.2683234537349028 | val loss: 0.25353314070140615 |\n",
      "Epoch:  50%|█████     | 100/200 [00:40<00:39,  2.54it/s]\n",
      "EP_99 | train loss: 0.26112163627848906 | val loss: 0.2547118430044137 |\n",
      "Epoch:  50%|█████     | 101/200 [00:41<00:39,  2.49it/s]\n",
      "EP_100 | train loss: 0.2608708563972922 | val loss: 0.24734046763064815 |\n",
      "Epoch:  51%|█████     | 102/200 [00:41<00:39,  2.51it/s]\n",
      "EP_101 | train loss: 0.25418234479193597 | val loss: 0.2423426672524097 |\n",
      "Epoch:  52%|█████▏    | 103/200 [00:42<00:38,  2.52it/s]\n",
      "EP_102 | train loss: 0.25146749253366507 | val loss: 0.2383862628656275 |\n",
      "Epoch:  52%|█████▏    | 104/200 [00:42<00:38,  2.52it/s]\n",
      "EP_103 | train loss: 0.245110533284206 | val loss: 0.23229627866371005 |\n",
      "Epoch:  52%|█████▎    | 105/200 [00:42<00:37,  2.51it/s]\n",
      "EP_104 | train loss: 0.23825964039447262 | val loss: 0.23056237487231984 |\n",
      "Epoch:  53%|█████▎    | 106/200 [00:43<00:37,  2.48it/s]\n",
      "EP_105 | train loss: 0.23675246986688353 | val loss: 0.2236587340925254 |\n",
      "Epoch:  54%|█████▎    | 107/200 [00:43<00:37,  2.46it/s]\n",
      "EP_106 | train loss: 0.2357740229251338 | val loss: 0.22015267902729557 |\n",
      "Epoch:  54%|█████▍    | 108/200 [00:44<00:36,  2.49it/s]\n",
      "EP_107 | train loss: 0.23371143948798087 | val loss: 0.2160890406253291 |\n",
      "Epoch:  55%|█████▍    | 109/200 [00:44<00:36,  2.51it/s]\n",
      "EP_108 | train loss: 0.2290701571632834 | val loss: 0.2122082266153074 |\n",
      "Epoch:  55%|█████▌    | 110/200 [00:44<00:35,  2.51it/s]\n",
      "EP_109 | train loss: 0.21546938559588263 | val loss: 0.20338215664321302 |\n",
      "Epoch:  56%|█████▌    | 111/200 [00:45<00:35,  2.49it/s]\n",
      "EP_110 | train loss: 0.21188699638142305 | val loss: 0.20527961733294467 |\n",
      "Epoch:  56%|█████▌    | 112/200 [00:45<00:35,  2.50it/s]\n",
      "EP_111 | train loss: 0.2159265443390491 | val loss: 0.21327517546859442 |\n",
      "Epoch:  56%|█████▋    | 113/200 [00:46<00:34,  2.51it/s]\n",
      "EP_112 | train loss: 0.20096491692112942 | val loss: 0.18999665683391048 |\n",
      "Epoch:  57%|█████▋    | 114/200 [00:46<00:34,  2.52it/s]\n",
      "EP_113 | train loss: 0.19754472012613333 | val loss: 0.18325759499680763 |\n",
      "Epoch:  57%|█████▊    | 115/200 [00:46<00:34,  2.50it/s]\n",
      "EP_114 | train loss: 0.192047115166982 | val loss: 0.17709636805104276 |\n",
      "Epoch:  58%|█████▊    | 116/200 [00:47<00:33,  2.48it/s]\n",
      "EP_115 | train loss: 0.18701826778112673 | val loss: 0.1762385491062613 |\n",
      "Epoch:  58%|█████▊    | 117/200 [00:47<00:33,  2.50it/s]\n",
      "EP_116 | train loss: 0.20683045247021845 | val loss: 0.18506284730107175 |\n",
      "Epoch:  59%|█████▉    | 118/200 [00:48<00:32,  2.50it/s]\n",
      "EP_117 | train loss: 0.1790253054861929 | val loss: 0.163364778546726 |\n",
      "Epoch:  60%|█████▉    | 119/200 [00:48<00:32,  2.50it/s]\n",
      "EP_118 | train loss: 0.17303979700686886 | val loss: 0.15633115523001728 |\n",
      "Epoch:  60%|██████    | 120/200 [00:48<00:31,  2.51it/s]\n",
      "EP_119 | train loss: 0.18140931316450531 | val loss: 0.16105811794598898 |\n",
      "Epoch:  60%|██████    | 121/200 [00:49<00:31,  2.48it/s]\n",
      "EP_120 | train loss: 0.16078530129264382 | val loss: 0.1506792330274395 |\n",
      "Epoch:  61%|██████    | 122/200 [00:49<00:31,  2.50it/s]\n",
      "EP_121 | train loss: 0.15972217788883283 | val loss: 0.15143096914478377 |\n",
      "Epoch:  62%|██████▏   | 123/200 [00:50<00:30,  2.49it/s]\n",
      "EP_122 | train loss: 0.15125912264281627 | val loss: 0.14088336509816787 |\n",
      "Epoch:  62%|██████▏   | 124/200 [00:50<00:30,  2.49it/s]\n",
      "EP_123 | train loss: 0.14811070152357514 | val loss: 0.1315874194397646 |\n",
      "Epoch:  62%|██████▎   | 125/200 [00:50<00:29,  2.51it/s]\n",
      "EP_124 | train loss: 0.14228251658233942 | val loss: 0.12807617234248742 |\n",
      "Epoch:  63%|██████▎   | 126/200 [00:51<00:30,  2.45it/s]\n",
      "EP_125 | train loss: 0.13670857466903388 | val loss: 0.12381350234443066 |\n",
      "Epoch:  64%|██████▎   | 127/200 [00:51<00:29,  2.47it/s]\n",
      "EP_126 | train loss: 0.1377027016060025 | val loss: 0.12118070090518278 |\n",
      "Epoch:  64%|██████▍   | 128/200 [00:52<00:28,  2.49it/s]\n",
      "EP_127 | train loss: 0.1534801529903038 | val loss: 0.13362660361271278 |\n",
      "Epoch:  64%|██████▍   | 129/200 [00:52<00:28,  2.50it/s]\n",
      "EP_128 | train loss: 0.1394600613444459 | val loss: 0.12177948507608152 |\n",
      "Epoch:  65%|██████▌   | 130/200 [00:52<00:28,  2.49it/s]\n",
      "EP_129 | train loss: 0.11903913254831351 | val loss: 0.10791834925903994 |\n",
      "Epoch:  66%|██████▌   | 131/200 [00:53<00:27,  2.47it/s]\n",
      "EP_130 | train loss: 0.11820811313741347 | val loss: 0.1050092940237008 |\n",
      "Epoch:  66%|██████▌   | 132/200 [00:53<00:27,  2.49it/s]\n",
      "EP_131 | train loss: 0.11232844895007564 | val loss: 0.09934736963580637 |\n",
      "Epoch:  66%|██████▋   | 133/200 [00:54<00:26,  2.50it/s]\n",
      "EP_132 | train loss: 0.12166964458484275 | val loss: 0.10821384074641209 |\n",
      "Epoch:  67%|██████▋   | 134/200 [00:54<00:26,  2.49it/s]\n",
      "EP_133 | train loss: 0.10863603984608369 | val loss: 0.09612549958275814 |\n",
      "Epoch:  68%|██████▊   | 135/200 [00:54<00:25,  2.50it/s]\n",
      "EP_134 | train loss: 0.10335524479548136 | val loss: 0.09737332545074762 |\n",
      "Epoch:  68%|██████▊   | 136/200 [00:55<00:26,  2.44it/s]\n",
      "EP_135 | train loss: 0.09463440133076088 | val loss: 0.08684698390025719 |\n",
      "Epoch:  68%|██████▊   | 137/200 [00:55<00:25,  2.44it/s]\n",
      "EP_136 | train loss: 0.09697922608431647 | val loss: 0.0931435601384032 |\n",
      "Epoch:  69%|██████▉   | 138/200 [00:56<00:25,  2.47it/s]\n",
      "EP_137 | train loss: 0.09055709511626 | val loss: 0.0818634164683959 |\n",
      "Epoch:  70%|██████▉   | 139/200 [00:56<00:24,  2.48it/s]\n",
      "EP_138 | train loss: 0.08438036009377124 | val loss: 0.07782026599435245 |\n",
      "Epoch:  70%|███████   | 140/200 [00:56<00:24,  2.50it/s]\n",
      "EP_139 | train loss: 0.08749241910728754 | val loss: 0.07953624719498205 |\n",
      "Epoch:  70%|███████   | 141/200 [00:57<00:23,  2.47it/s]\n",
      "EP_140 | train loss: 0.10017503406487259 | val loss: 0.10440486172835033 |\n",
      "Epoch:  71%|███████   | 142/200 [00:57<00:23,  2.48it/s]\n",
      "EP_141 | train loss: 0.08817979786910263 | val loss: 0.07892854657827639 |\n",
      "Epoch:  72%|███████▏  | 143/200 [00:58<00:22,  2.49it/s]\n",
      "EP_142 | train loss: 0.07535886869711035 | val loss: 0.07425288709939695 |\n",
      "Epoch:  72%|███████▏  | 144/200 [00:58<00:22,  2.50it/s]\n",
      "EP_143 | train loss: 0.07300660166085936 | val loss: 0.07076997046961504 |\n",
      "Epoch:  72%|███████▎  | 145/200 [00:58<00:22,  2.49it/s]\n",
      "EP_144 | train loss: 0.0710876371346268 | val loss: 0.0644579519535981 |\n",
      "Epoch:  73%|███████▎  | 146/200 [00:59<00:21,  2.48it/s]\n",
      "EP_145 | train loss: 0.06685538011438706 | val loss: 0.06380804496652939 |\n",
      "Epoch:  74%|███████▎  | 147/200 [00:59<00:21,  2.50it/s]\n",
      "EP_146 | train loss: 0.06254879353093167 | val loss: 0.06191779585445628 |\n",
      "Epoch:  74%|███████▍  | 148/200 [01:00<00:20,  2.51it/s]\n",
      "EP_147 | train loss: 0.06159204443295797 | val loss: 0.05874529217972475 |\n",
      "Epoch:  74%|███████▍  | 149/200 [01:00<00:20,  2.52it/s]\n",
      "EP_148 | train loss: 0.08002434431337843 | val loss: 0.08888165302136365 |\n",
      "Epoch:  75%|███████▌  | 150/200 [01:00<00:19,  2.53it/s]\n",
      "EP_149 | train loss: 0.07592864165119097 | val loss: 0.07242297308117736 |\n",
      "Epoch:  76%|███████▌  | 151/200 [01:01<00:19,  2.50it/s]\n",
      "EP_150 | train loss: 0.05765093272807551 | val loss: 0.055933878994455524 |\n",
      "Epoch:  76%|███████▌  | 152/200 [01:01<00:19,  2.51it/s]\n",
      "EP_151 | train loss: 0.055821286112654446 | val loss: 0.05874363581339518 |\n",
      "Epoch:  76%|███████▋  | 153/200 [01:02<00:18,  2.49it/s]\n",
      "EP_152 | train loss: 0.0810830858408236 | val loss: 0.0760025221343134 |\n",
      "Epoch:  77%|███████▋  | 154/200 [01:02<00:18,  2.51it/s]\n",
      "EP_153 | train loss: 0.05068697567079582 | val loss: 0.052091602601257024 |\n",
      "Epoch:  78%|███████▊  | 155/200 [01:02<00:17,  2.51it/s]\n",
      "EP_154 | train loss: 0.05280301208589591 | val loss: 0.058501231319764084 |\n",
      "Epoch:  78%|███████▊  | 156/200 [01:03<00:17,  2.46it/s]\n",
      "EP_155 | train loss: 0.07889609967961031 | val loss: 0.08927185044569128 |\n",
      "Epoch:  78%|███████▊  | 157/200 [01:03<00:17,  2.47it/s]\n",
      "EP_156 | train loss: 0.045858567251878625 | val loss: 0.04732519687682975 |\n",
      "Epoch:  79%|███████▉  | 158/200 [01:04<00:16,  2.48it/s]\n",
      "EP_157 | train loss: 0.04877465735463535 | val loss: 0.049624260441929684 |\n",
      "Epoch:  80%|███████▉  | 159/200 [01:04<00:16,  2.49it/s]\n",
      "EP_158 | train loss: 0.0487218392830269 | val loss: 0.049337148666381836 |\n",
      "Epoch:  80%|████████  | 160/200 [01:04<00:15,  2.50it/s]\n",
      "EP_159 | train loss: 0.05214281374332951 | val loss: 0.059844649013350994 |\n",
      "Epoch:  80%|████████  | 161/200 [01:05<00:15,  2.47it/s]\n",
      "EP_160 | train loss: 0.03940845178622825 | val loss: 0.043321406870496036 |\n",
      "Epoch:  81%|████████  | 162/200 [01:05<00:15,  2.48it/s]\n",
      "EP_161 | train loss: 0.043858659442733317 | val loss: 0.04565586646397909 |\n",
      "Epoch:  82%|████████▏ | 163/200 [01:06<00:14,  2.48it/s]\n",
      "EP_162 | train loss: 0.04255803753347958 | val loss: 0.04847726693340376 |\n",
      "Epoch:  82%|████████▏ | 164/200 [01:06<00:14,  2.49it/s]\n",
      "EP_163 | train loss: 0.035716800537763854 | val loss: 0.03952734413392404 |\n",
      "Epoch:  82%|████████▎ | 165/200 [01:06<00:13,  2.50it/s]\n",
      "EP_164 | train loss: 0.03448022130657645 | val loss: 0.03891462861907249 |\n",
      "Epoch:  83%|████████▎ | 166/200 [01:07<00:13,  2.47it/s]\n",
      "EP_165 | train loss: 0.03649320649165733 | val loss: 0.03860275914856032 |\n",
      "Epoch:  84%|████████▎ | 167/200 [01:07<00:13,  2.48it/s]\n",
      "EP_166 | train loss: 0.0330738786388846 | val loss: 0.038350084175666176 |\n",
      "Epoch:  84%|████████▍ | 168/200 [01:08<00:12,  2.49it/s]\n",
      "EP_167 | train loss: 0.031867807869817695 | val loss: 0.03617944736398902 |\n",
      "Epoch:  84%|████████▍ | 169/200 [01:08<00:12,  2.50it/s]\n",
      "EP_168 | train loss: 0.02973187577490713 | val loss: 0.03556984728750061 |\n",
      "Epoch:  85%|████████▌ | 170/200 [01:08<00:11,  2.51it/s]\n",
      "EP_169 | train loss: 0.03297841519701714 | val loss: 0.03632204088510251 |\n",
      "Epoch:  86%|████████▌ | 171/200 [01:09<00:11,  2.48it/s]\n",
      "EP_170 | train loss: 0.03146777351697286 | val loss: 0.03526095958317027 |\n",
      "Epoch:  86%|████████▌ | 172/200 [01:09<00:11,  2.49it/s]\n",
      "EP_171 | train loss: 0.03581929662648369 | val loss: 0.04336170348174432 |\n",
      "Epoch:  86%|████████▋ | 173/200 [01:10<00:10,  2.51it/s]\n",
      "EP_172 | train loss: 0.04521094069761388 | val loss: 0.04660623213824104 |\n",
      "Epoch:  87%|████████▋ | 174/200 [01:10<00:10,  2.49it/s]\n",
      "EP_173 | train loss: 0.026921522558904162 | val loss: 0.03250811051796464 |\n",
      "Epoch:  88%|████████▊ | 175/200 [01:10<00:10,  2.48it/s]\n",
      "EP_174 | train loss: 0.02847235085917454 | val loss: 0.0321862095711278 |\n",
      "Epoch:  88%|████████▊ | 176/200 [01:11<00:09,  2.43it/s]\n",
      "EP_175 | train loss: 0.03899056262829725 | val loss: 0.042519305850945266 |\n",
      "Epoch:  88%|████████▊ | 177/200 [01:11<00:09,  2.46it/s]\n",
      "EP_176 | train loss: 0.02621332176175772 | val loss: 0.03290082821074654 |\n",
      "Epoch:  89%|████████▉ | 178/200 [01:12<00:08,  2.46it/s]\n",
      "EP_177 | train loss: 0.023078688219481825 | val loss: 0.0277689944441412 |\n",
      "Epoch:  90%|████████▉ | 179/200 [01:12<00:08,  2.48it/s]\n",
      "EP_178 | train loss: 0.05355136604870067 | val loss: 0.0577502823343464 |\n",
      "Epoch:  90%|█████████ | 180/200 [01:12<00:08,  2.49it/s]\n",
      "EP_179 | train loss: 0.026902624701752382 | val loss: 0.031491600707465525 |\n",
      "Epoch:  90%|█████████ | 181/200 [01:13<00:07,  2.47it/s]\n",
      "EP_180 | train loss: 0.03262587464323231 | val loss: 0.03643844408147475 |\n",
      "Epoch:  91%|█████████ | 182/200 [01:13<00:07,  2.46it/s]\n",
      "EP_181 | train loss: 0.026031334026187073 | val loss: 0.03293724087815659 |\n",
      "Epoch:  92%|█████████▏| 183/200 [01:14<00:06,  2.47it/s]\n",
      "EP_182 | train loss: 0.02316983762909384 | val loss: 0.030091727992483212 |\n",
      "Epoch:  92%|█████████▏| 184/200 [01:14<00:06,  2.48it/s]\n",
      "EP_183 | train loss: 0.020955106469930387 | val loss: 0.025777309110351636 |\n",
      "Epoch:  92%|█████████▎| 185/200 [01:14<00:06,  2.50it/s]\n",
      "EP_184 | train loss: 0.022530258227797115 | val loss: 0.02791420048942753 |\n",
      "Epoch:  93%|█████████▎| 186/200 [01:15<00:05,  2.46it/s]\n",
      "EP_185 | train loss: 0.019551601538471148 | val loss: 0.025116523326027627 |\n",
      "Epoch:  94%|█████████▎| 187/200 [01:15<00:05,  2.47it/s]\n",
      "EP_186 | train loss: 0.0196810075173191 | val loss: 0.0242904916259588 |\n",
      "Epoch:  94%|█████████▍| 188/200 [01:16<00:04,  2.48it/s]\n",
      "EP_187 | train loss: 0.01869699952064776 | val loss: 0.02308290904643489 |\n",
      "Epoch:  94%|█████████▍| 189/200 [01:16<00:04,  2.49it/s]\n",
      "EP_188 | train loss: 0.018475137943146275 | val loss: 0.021697670659598184 |\n",
      "Epoch:  95%|█████████▌| 190/200 [01:16<00:04,  2.50it/s]\n",
      "EP_189 | train loss: 0.01993213573507234 | val loss: 0.022926040139852787 |\n",
      "Epoch:  96%|█████████▌| 191/200 [01:17<00:03,  2.47it/s]\n",
      "EP_190 | train loss: 0.022739765661604263 | val loss: 0.025360228530332155 |\n",
      "Epoch:  96%|█████████▌| 192/200 [01:17<00:03,  2.48it/s]\n",
      "EP_191 | train loss: 0.016678162591130127 | val loss: 0.02025669842374091 |\n",
      "Epoch:  96%|█████████▋| 193/200 [01:18<00:02,  2.48it/s]\n",
      "EP_192 | train loss: 0.016535011021529926 | val loss: 0.020019374641717647 |\n",
      "Epoch:  97%|█████████▋| 194/200 [01:18<00:02,  2.48it/s]\n",
      "EP_193 | train loss: 0.018353259095958634 | val loss: 0.02176630022186859 |\n",
      "Epoch:  98%|█████████▊| 195/200 [01:19<00:02,  2.49it/s]\n",
      "EP_194 | train loss: 0.015604863271993749 | val loss: 0.019839873427853864 |\n",
      "Epoch:  98%|█████████▊| 196/200 [01:19<00:01,  2.46it/s]\n",
      "EP_195 | train loss: 0.020704651872316997 | val loss: 0.023809847878474816 |\n",
      "Epoch:  98%|█████████▊| 197/200 [01:19<00:01,  2.48it/s]\n",
      "EP_196 | train loss: 0.016119802845459358 | val loss: 0.018933330826899585 |\n",
      "Epoch:  99%|█████████▉| 198/200 [01:20<00:00,  2.48it/s]\n",
      "EP_197 | train loss: 0.013710222247184491 | val loss: 0.01723732952685917 |\n",
      "Epoch: 100%|█████████▉| 199/200 [01:20<00:00,  2.42it/s]\n",
      "EP_198 | train loss: 0.014043918427299051 | val loss: 0.020019593867747223 |\n",
      "Epoch: 100%|██████████| 200/200 [01:21<00:00,  2.47it/s]\n",
      "EP_199 | train loss: 0.012968161585284214 | val loss: 0.016989894941741347 |\n",
      "\n"
     ]
    }
   ],
   "source": [
    "AttractiveTrainer.train()"
   ]
  },
  {
   "cell_type": "markdown",
   "metadata": {},
   "source": [
    "## for classification, not better"
   ]
  },
  {
   "cell_type": "markdown",
   "metadata": {},
   "source": [
    "## Below is testing"
   ]
  },
  {
   "cell_type": "code",
   "execution_count": 6,
   "metadata": {},
   "outputs": [
    {
     "output_type": "execute_result",
     "data": {
      "text/plain": [
       "AttractiveNet(\n",
       "  (embedding): AttractiveEmbedding(\n",
       "    (token): TokenEmbedding(12699, 300, padding_idx=1)\n",
       "  )\n",
       "  (bigramcnn): Sequential(\n",
       "    (0): Conv1d(300, 210, kernel_size=(2,), stride=(1,), padding=(1,))\n",
       "    (1): ReLU()\n",
       "    (2): Conv1d(210, 110, kernel_size=(2,), stride=(1,), padding=(1,))\n",
       "    (3): ReLU()\n",
       "    (4): Dropout(p=0.5, inplace=False)\n",
       "  )\n",
       "  (trigramcnn): Sequential(\n",
       "    (0): Conv1d(300, 210, kernel_size=(3,), stride=(1,), padding=(1,))\n",
       "    (1): ReLU()\n",
       "    (2): Conv1d(210, 110, kernel_size=(3,), stride=(1,), padding=(1,))\n",
       "    (3): ReLU()\n",
       "    (4): Dropout(p=0.5, inplace=False)\n",
       "  )\n",
       "  (encoder_bigram): LSTM(110, 30, batch_first=True, dropout=0.5, bidirectional=True)\n",
       "  (encoder_trigram): LSTM(110, 30, batch_first=True, dropout=0.5, bidirectional=True)\n",
       "  (linear): Sequential(\n",
       "    (0): Linear(in_features=128, out_features=30, bias=True)\n",
       "    (1): ReLU()\n",
       "    (2): Linear(in_features=30, out_features=1, bias=True)\n",
       "  )\n",
       ")"
      ]
     },
     "metadata": {},
     "execution_count": 6
    }
   ],
   "source": [
    "from attractivenet import AttractiveNet\n",
    "\n",
    "PATH = './model/CNN_LSTM_20201108-131957/0.382312.65'\n",
    "\n",
    "load_model = AttractiveNet(config).to(AttractiveData.device)\n",
    "load_model.load_state_dict(torch.load(PATH))\n",
    "load_model.eval()"
   ]
  },
  {
   "cell_type": "code",
   "execution_count": 7,
   "metadata": {},
   "outputs": [],
   "source": [
    "def predict_attractive(sentence, category, phase):\n",
    "    indexed_sentence = [AttractiveData.TEXT.vocab.stoi[t] for t in sentence]\n",
    "    indexed_category = [AttractiveData.CATEGORIES_LABEL.vocab.stoi[category]]\n",
    "    tensor_sentence = torch.LongTensor(indexed_sentence).to(AttractiveData.device)\n",
    "    tensor_category = torch.LongTensor(indexed_category).to(AttractiveData.device)\n",
    "    tensor_sentence = tensor_sentence.unsqueeze(0)\n",
    "\n",
    "    prediction = load_model(tensor_sentence, tensor_category, phase=phase)\n",
    "\n",
    "    return prediction"
   ]
  },
  {
   "cell_type": "code",
   "execution_count": 8,
   "metadata": {
    "tags": []
   },
   "outputs": [],
   "source": [
    "# train mean = 3.15, test mean = 2.8\n",
    "predict_list = []\n",
    "with torch.no_grad():\n",
    "    for i, sentence in enumerate(AttractiveData.test_data):\n",
    "        prediction = predict_attractive(sentence.Headline, sentence.Category, 'test')\n",
    "        predict_list.append(prediction.item())\n",
    "        # predict_list.append(prediction.item())\n",
    "AttractiveData.df_test['Label'] = predict_list\n",
    "AttractiveData.df_test[['ID', 'Label']].to_csv(config['save_name'] + '.csv', index=False)"
   ]
  },
  {
   "cell_type": "markdown",
   "metadata": {},
   "source": [
    "## Below for statistics"
   ]
  },
  {
   "cell_type": "code",
   "execution_count": 9,
   "metadata": {},
   "outputs": [],
   "source": [
    "import statistics\n",
    "from sklearn.metrics import mean_squared_error"
   ]
  },
  {
   "cell_type": "code",
   "execution_count": 10,
   "metadata": {},
   "outputs": [],
   "source": [
    "# # train mean = 3.15, test mean = 2.8\n",
    "# train_list = []\n",
    "# for i, sentence in enumerate(AttractiveData.train_data):\n",
    "#     prediction = predict_attractive(sentence.Headline, sentence.Category, 'train')\n",
    "#     train_list.append(prediction.item())\n",
    "#     # train_list.append(prediction.item())\n",
    "# # print(train_list)\n",
    "# mean_squared_error(pd.read_csv('data/train.csv').sort_values(['ID']).Label.to_list(), train_list), statistics.mean(train_list), statistics.stdev(train_list)"
   ]
  },
  {
   "cell_type": "code",
   "execution_count": 11,
   "metadata": {},
   "outputs": [],
   "source": [
    "# train_list[0:5], pd.read_csv('data/train.csv').sort_values(['ID']).Label.to_list()[0:5]"
   ]
  },
  {
   "cell_type": "code",
   "execution_count": 12,
   "metadata": {},
   "outputs": [],
   "source": [
    "# a = AttractiveData.df_train['Label'].to_list()\n",
    "# statistics.mean(a), statistics.stdev(a)"
   ]
  },
  {
   "cell_type": "code",
   "execution_count": 13,
   "metadata": {},
   "outputs": [
    {
     "output_type": "execute_result",
     "data": {
      "text/plain": [
       "(2.7912359731312892, 0.3368253820165316)"
      ]
     },
     "metadata": {},
     "execution_count": 13
    }
   ],
   "source": [
    "statistics.mean(predict_list), statistics.stdev(predict_list)"
   ]
  },
  {
   "cell_type": "code",
   "execution_count": 14,
   "metadata": {},
   "outputs": [
    {
     "output_type": "execute_result",
     "data": {
      "text/plain": [
       "(0.009155559606988703, 2.783861954306716, 0.36437382915352245)"
      ]
     },
     "metadata": {},
     "execution_count": 14
    }
   ],
   "source": [
    "baseline_list = pd.read_csv('baseline.csv').sort_values(['ID']).Label.to_list()\n",
    "mean_squared_error(baseline_list, predict_list), statistics.mean(baseline_list), statistics.stdev(baseline_list)"
   ]
  },
  {
   "cell_type": "code",
   "execution_count": null,
   "metadata": {},
   "outputs": [],
   "source": []
  },
  {
   "cell_type": "code",
   "execution_count": 18,
   "metadata": {},
   "outputs": [
    {
     "data": {
      "text/plain": [
       "0.1609754968529207"
      ]
     },
     "execution_count": 18,
     "metadata": {},
     "output_type": "execute_result"
    }
   ],
   "source": [
    "mean_squared_error(pd.read_csv('baseline.csv').sort_values(['ID']).Label.to_list(), pd.read_csv('./predict/ensemble.csv').sort_values(['ID']).Label.to_list())"
   ]
  },
  {
   "cell_type": "code",
   "execution_count": 13,
   "metadata": {},
   "outputs": [],
   "source": []
  },
  {
   "cell_type": "code",
   "execution_count": null,
   "metadata": {},
   "outputs": [],
   "source": []
  }
 ],
 "metadata": {
  "kernelspec": {
   "display_name": "DS_hw2",
   "language": "python",
   "name": "ds_hw2"
  },
  "language_info": {
   "codemirror_mode": {
    "name": "ipython",
    "version": 3
   },
   "file_extension": ".py",
   "mimetype": "text/x-python",
   "name": "python",
   "nbconvert_exporter": "python",
   "pygments_lexer": "ipython3",
   "version": "3.6.12-final"
  }
 },
 "nbformat": 4,
 "nbformat_minor": 4
}