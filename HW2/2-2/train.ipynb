{
 "cells": [
  {
   "cell_type": "code",
   "execution_count": 1,
   "metadata": {},
   "outputs": [],
   "source": [
    "# common packages\n",
    "import pandas as pd\n",
    "import time\n",
    "\n",
    "# # DL framework\n",
    "import torch\n",
    "from torchtext import data\n",
    "\n",
    "from attractivedata import AttractiveData\n",
    "from trainer import AttractiveTrainer"
   ]
  },
  {
   "cell_type": "code",
   "execution_count": 2,
   "metadata": {},
   "outputs": [],
   "source": [
    "seed_value = 42\n",
    "torch.manual_seed(seed_value)\n",
    "torch.cuda.manual_seed(seed_value)\n",
    "torch.cuda.manual_seed_all(seed_value) # gpu vars\n",
    "torch.backends.cudnn.deterministic = True  #needed\n",
    "torch.backends.cudnn.benchmark = False"
   ]
  },
  {
   "cell_type": "markdown",
   "metadata": {},
   "source": [
    "## Load and prepare data"
   ]
  },
  {
   "cell_type": "code",
   "execution_count": 3,
   "metadata": {},
   "outputs": [],
   "source": [
    "train_file = 'data/train.csv'\n",
    "val_file = 'data/val.csv'\n",
    "test_file = 'data/test.csv'\n",
    "pretrained_file = 'glove.840B.300d'\n",
    "config = {\n",
    "    'max_seq': 40,\n",
    "    'min_freq': 0,\n",
    "    'batch_size': 64,\n",
    "    'pretrained_file': pretrained_file\n",
    "}\n"
   ]
  },
  {
   "cell_type": "code",
   "execution_count": 4,
   "metadata": {},
   "outputs": [],
   "source": [
    "AttractiveData = AttractiveData(train_file, val_file, test_file, pretrained_file, config)"
   ]
  },
  {
   "cell_type": "markdown",
   "metadata": {},
   "source": [
    "## Start to train"
   ]
  },
  {
   "cell_type": "code",
   "execution_count": 5,
   "metadata": {},
   "outputs": [
    {
     "output_type": "stream",
     "name": "stdout",
     "text": [
      "torch.Size([12699, 300])\n"
     ]
    }
   ],
   "source": [
    "config['timestr'] = time.strftime(\"%Y%m%d-%H%M%S\")\n",
    "config['save_name'] = 'CNN_LSTM'\n",
    "config['input_dim'] = len(AttractiveData.TEXT.vocab)\n",
    "config['embedding_dim'] = 300\n",
    "config['category_dim'] = len(AttractiveData.CATEGORIES_LABEL.vocab)\n",
    "config['category_embedding_dim'] = 10\n",
    "config['hidden_dim'] = 40\n",
    "config['output_dim'] = 1\n",
    "config['log_steps'] = 10\n",
    "config['epochs'] = 180\n",
    "config['lr'] = {\n",
    "    'encoder': 1e-5,\n",
    "    'embedding': 6e-6,\n",
    "    'linear': 1e-5\n",
    "}\n",
    "config['num_layers'] = 1\n",
    "config['kernel_size'] = 3\n",
    "config['dropout'] = 0.5\n",
    "config['train_len'] = AttractiveData.train_len\n",
    "config['val_len'] = AttractiveData.val_len\n",
    "config['test_len'] = AttractiveData.test_len\n",
    "\n",
    "pretrained_embeddings = AttractiveData.TEXT.vocab.vectors\n",
    "print(pretrained_embeddings.shape)"
   ]
  },
  {
   "cell_type": "code",
   "execution_count": 6,
   "metadata": {},
   "outputs": [],
   "source": [
    "AttractiveTrainer = AttractiveTrainer(config, AttractiveData.device, AttractiveData.trainloader, AttractiveData.valloader, pretrained_embeddings)"
   ]
  },
  {
   "cell_type": "code",
   "execution_count": 7,
   "metadata": {},
   "outputs": [
    {
     "output_type": "execute_result",
     "data": {
      "text/plain": [
       "(AttractiveNet(\n",
       "   (embedding): AttractiveEmbedding(\n",
       "     (token): TokenEmbedding(12699, 300, padding_idx=1)\n",
       "   )\n",
       "   (bigramcnn): Sequential(\n",
       "     (0): Conv1d(300, 210, kernel_size=(2,), stride=(1,), padding=(1,))\n",
       "     (1): ReLU()\n",
       "     (2): Conv1d(210, 100, kernel_size=(2,), stride=(1,), padding=(1,))\n",
       "     (3): ReLU()\n",
       "     (4): Dropout(p=0.5, inplace=False)\n",
       "   )\n",
       "   (trigramcnn): Sequential(\n",
       "     (0): Conv1d(300, 210, kernel_size=(3,), stride=(1,), padding=(1,))\n",
       "     (1): ReLU()\n",
       "     (2): Conv1d(210, 100, kernel_size=(3,), stride=(1,), padding=(1,))\n",
       "     (3): ReLU()\n",
       "     (4): Dropout(p=0.5, inplace=False)\n",
       "   )\n",
       "   (encoder_bigram): LSTM(100, 40, batch_first=True, dropout=0.5, bidirectional=True)\n",
       "   (encoder_trigram): LSTM(100, 40, batch_first=True, dropout=0.5, bidirectional=True)\n",
       "   (linear): Sequential(\n",
       "     (0): Linear(in_features=168, out_features=30, bias=True)\n",
       "     (1): ReLU()\n",
       "     (2): Linear(in_features=30, out_features=1, bias=True)\n",
       "   )\n",
       " ),\n",
       " 4326301,\n",
       " 4326301)"
      ]
     },
     "metadata": {},
     "execution_count": 7
    }
   ],
   "source": [
    "AttractiveTrainer.model, AttractiveTrainer.config['total_params'], AttractiveTrainer.config['total_learned_params']"
   ]
  },
  {
   "cell_type": "code",
   "execution_count": 8,
   "metadata": {
    "tags": [
     "outputPrepend"
    ]
   },
   "outputs": [
    {
     "output_type": "stream",
     "name": "stderr",
     "text": [
      ".41it/s]\n",
      "EP_26 | train loss: 0.5123057776806401 | val loss: 0.4812382775194505 |\n",
      "Epoch:  16%|█▌        | 28/180 [00:11<01:03,  2.39it/s]\n",
      "EP_27 | train loss: 0.5082419386097029 | val loss: 0.4765736425624174 |\n",
      "Epoch:  16%|█▌        | 29/180 [00:12<01:03,  2.39it/s]\n",
      "EP_28 | train loss: 0.5071835386986826 | val loss: 0.47143416077482936 |\n",
      "Epoch:  17%|█▋        | 30/180 [00:12<01:02,  2.40it/s]\n",
      "EP_29 | train loss: 0.5007057704177558 | val loss: 0.46693118179545684 |\n",
      "Epoch:  17%|█▋        | 31/180 [00:13<01:02,  2.37it/s]\n",
      "EP_30 | train loss: 0.49840188587413115 | val loss: 0.4619724142785166 |\n",
      "Epoch:  18%|█▊        | 32/180 [00:13<01:02,  2.37it/s]\n",
      "EP_31 | train loss: 0.4944939613342285 | val loss: 0.4562646840132919 |\n",
      "Epoch:  18%|█▊        | 33/180 [00:13<01:01,  2.37it/s]\n",
      "EP_32 | train loss: 0.492507277283014 | val loss: 0.4511976066757651 |\n",
      "Epoch:  19%|█▉        | 34/180 [00:14<01:01,  2.39it/s]\n",
      "EP_33 | train loss: 0.48492226881139416 | val loss: 0.44628134895773497 |\n",
      "Epoch:  19%|█▉        | 35/180 [00:14<01:00,  2.39it/s]\n",
      "EP_34 | train loss: 0.48322109802096497 | val loss: 0.4401390049971786 |\n",
      "Epoch:  20%|██        | 36/180 [00:15<01:01,  2.35it/s]\n",
      "EP_35 | train loss: 0.4827487450019986 | val loss: 0.43439531910653206 |\n",
      "Epoch:  21%|██        | 37/180 [00:15<01:00,  2.35it/s]\n",
      "EP_36 | train loss: 0.4761559570536894 | val loss: 0.4284058002864613 |\n",
      "Epoch:  21%|██        | 38/180 [00:16<01:00,  2.35it/s]\n",
      "EP_37 | train loss: 0.4736033561182957 | val loss: 0.4232783142258139 |\n",
      "Epoch:  22%|██▏       | 39/180 [00:16<00:59,  2.36it/s]\n",
      "EP_38 | train loss: 0.4719776321859921 | val loss: 0.41735683410775426 |\n",
      "Epoch:  22%|██▏       | 40/180 [00:16<00:59,  2.34it/s]\n",
      "EP_39 | train loss: 0.467324338239782 | val loss: 0.41191521988195534 |\n",
      "Epoch:  23%|██▎       | 41/180 [00:17<00:59,  2.32it/s]\n",
      "EP_40 | train loss: 0.46393371563331753 | val loss: 0.4060726627415302 |\n",
      "Epoch:  23%|██▎       | 42/180 [00:17<00:58,  2.36it/s]\n",
      "EP_41 | train loss: 0.4632266222261915 | val loss: 0.4020599407308242 |\n",
      "Epoch:  24%|██▍       | 43/180 [00:18<00:57,  2.38it/s]\n",
      "EP_42 | train loss: 0.4597262840644986 | val loss: 0.39667900286468805 |\n",
      "Epoch:  24%|██▍       | 44/180 [00:18<00:57,  2.38it/s]\n",
      "EP_43 | train loss: 0.45323417420480766 | val loss: 0.3907964603573668 |\n",
      "Epoch:  25%|██▌       | 45/180 [00:19<00:57,  2.36it/s]\n",
      "EP_44 | train loss: 0.4520805181241503 | val loss: 0.38653561414456833 |\n",
      "Epoch:  26%|██▌       | 46/180 [00:19<00:57,  2.35it/s]\n",
      "EP_45 | train loss: 0.4509348607530781 | val loss: 0.3822222387089449 |\n",
      "Epoch:  26%|██▌       | 47/180 [00:19<00:56,  2.35it/s]\n",
      "EP_46 | train loss: 0.4447663868174833 | val loss: 0.3759050310826769 |\n",
      "Epoch:  27%|██▋       | 48/180 [00:20<00:55,  2.36it/s]\n",
      "EP_47 | train loss: 0.4406359018064013 | val loss: 0.3713780314314599 |\n",
      "Epoch:  27%|██▋       | 49/180 [00:20<00:55,  2.37it/s]\n",
      "EP_48 | train loss: 0.43933844005360323 | val loss: 0.3675171101794523 |\n",
      "Epoch:  28%|██▊       | 50/180 [00:21<00:54,  2.38it/s]\n",
      "EP_49 | train loss: 0.43849706649780273 | val loss: 0.36488475519068103 |\n",
      "Epoch:  28%|██▊       | 51/180 [00:21<00:55,  2.34it/s]\n",
      "EP_50 | train loss: 0.43475748697916666 | val loss: 0.3606104272253373 |\n",
      "Epoch:  29%|██▉       | 52/180 [00:21<00:53,  2.38it/s]\n",
      "EP_51 | train loss: 0.4307068974364038 | val loss: 0.3563231656364366 |\n",
      "Epoch:  29%|██▉       | 53/180 [00:22<00:53,  2.39it/s]\n",
      "EP_52 | train loss: 0.43150049938875085 | val loss: 0.35472522822080876 |\n",
      "Epoch:  30%|███       | 54/180 [00:22<00:52,  2.39it/s]\n",
      "EP_53 | train loss: 0.429345879835241 | val loss: 0.3526248709828246 |\n",
      "Epoch:  31%|███       | 55/180 [00:23<00:51,  2.40it/s]\n",
      "EP_54 | train loss: 0.42386512195362763 | val loss: 0.34784628772268106 |\n",
      "Epoch:  31%|███       | 56/180 [00:23<00:52,  2.37it/s]\n",
      "EP_55 | train loss: 0.42743485020656213 | val loss: 0.3485713875761219 |\n",
      "Epoch:  32%|███▏      | 57/180 [00:24<00:51,  2.38it/s]\n",
      "EP_56 | train loss: 0.4202908787072874 | val loss: 0.3423399469431709 |\n",
      "Epoch:  32%|███▏      | 58/180 [00:24<00:51,  2.38it/s]\n",
      "EP_57 | train loss: 0.4206205517637963 | val loss: 0.3421185437370749 |\n",
      "Epoch:  33%|███▎      | 59/180 [00:24<00:50,  2.39it/s]\n",
      "EP_58 | train loss: 0.4238814540937835 | val loss: 0.3436485803594776 |\n",
      "Epoch:  33%|███▎      | 60/180 [00:25<00:49,  2.40it/s]\n",
      "EP_59 | train loss: 0.4134928619160372 | val loss: 0.33569903642523524 |\n",
      "Epoch:  34%|███▍      | 61/180 [00:25<00:50,  2.36it/s]\n",
      "EP_60 | train loss: 0.41287822816886155 | val loss: 0.3346710473883386 |\n",
      "Epoch:  34%|███▍      | 62/180 [00:26<00:49,  2.37it/s]\n",
      "EP_61 | train loss: 0.4096091578988468 | val loss: 0.331733890023886 |\n",
      "Epoch:  35%|███▌      | 63/180 [00:26<00:49,  2.37it/s]\n",
      "EP_62 | train loss: 0.4138606651156556 | val loss: 0.33500715096791583 |\n",
      "Epoch:  36%|███▌      | 64/180 [00:27<00:48,  2.38it/s]\n",
      "EP_63 | train loss: 0.4065672378914029 | val loss: 0.32997533503700704 |\n",
      "Epoch:  36%|███▌      | 65/180 [00:27<00:48,  2.39it/s]\n",
      "EP_64 | train loss: 0.40339897380155676 | val loss: 0.32748793854432945 |\n",
      "Epoch:  37%|███▋      | 66/180 [00:27<00:48,  2.36it/s]\n",
      "EP_65 | train loss: 0.40116224055196725 | val loss: 0.32598798356804193 |\n",
      "Epoch:  37%|███▋      | 67/180 [00:28<00:47,  2.37it/s]\n",
      "EP_66 | train loss: 0.3967103593489703 | val loss: 0.32208432812316745 |\n",
      "Epoch:  38%|███▊      | 68/180 [00:28<00:47,  2.38it/s]\n",
      "EP_67 | train loss: 0.3938018237843233 | val loss: 0.32105859705046114 |\n",
      "Epoch:  38%|███▊      | 69/180 [00:29<00:46,  2.38it/s]\n",
      "EP_68 | train loss: 0.39255095089183134 | val loss: 0.31985832312527823 |\n",
      "Epoch:  39%|███▉      | 70/180 [00:29<00:46,  2.39it/s]\n",
      "EP_69 | train loss: 0.3928858481201471 | val loss: 0.32076788649839516 |\n",
      "Epoch:  39%|███▉      | 71/180 [00:29<00:46,  2.36it/s]\n",
      "EP_70 | train loss: 0.388484385434319 | val loss: 0.31822456098070334 |\n",
      "Epoch:  40%|████      | 72/180 [00:30<00:45,  2.38it/s]\n",
      "EP_71 | train loss: 0.3857133472667021 | val loss: 0.3163015708035114 |\n",
      "Epoch:  41%|████      | 73/180 [00:30<00:44,  2.38it/s]\n",
      "EP_72 | train loss: 0.3830572558384316 | val loss: 0.3150589372597489 |\n",
      "Epoch:  41%|████      | 74/180 [00:31<00:44,  2.38it/s]\n",
      "EP_73 | train loss: 0.38097899895088344 | val loss: 0.3134915098255756 |\n",
      "Epoch:  42%|████▏     | 75/180 [00:31<00:44,  2.38it/s]\n",
      "EP_74 | train loss: 0.3776061964970009 | val loss: 0.3124625010817659 |\n",
      "Epoch:  42%|████▏     | 76/180 [00:32<00:44,  2.33it/s]\n",
      "EP_75 | train loss: 0.37830815034754134 | val loss: 0.3114117343051761 |\n",
      "Epoch:  43%|████▎     | 77/180 [00:32<00:44,  2.34it/s]\n",
      "EP_76 | train loss: 0.37296805896011054 | val loss: 0.31081610625865413 |\n",
      "Epoch:  43%|████▎     | 78/180 [00:32<00:43,  2.36it/s]\n",
      "EP_77 | train loss: 0.3703899065653483 | val loss: 0.3093641680829665 |\n",
      "Epoch:  44%|████▍     | 79/180 [00:33<00:42,  2.37it/s]\n",
      "EP_78 | train loss: 0.3723059972127279 | val loss: 0.30984112211302217 |\n",
      "Epoch:  44%|████▍     | 80/180 [00:33<00:42,  2.37it/s]\n",
      "EP_79 | train loss: 0.37070705282921884 | val loss: 0.3091634313265483 |\n",
      "Epoch:  45%|████▌     | 81/180 [00:34<00:42,  2.34it/s]\n",
      "EP_80 | train loss: 0.3621051545236625 | val loss: 0.3041382426140355 |\n",
      "Epoch:  46%|████▌     | 82/180 [00:34<00:41,  2.36it/s]\n",
      "EP_81 | train loss: 0.3647063227260814 | val loss: 0.30521415261661305 |\n",
      "Epoch:  46%|████▌     | 83/180 [00:35<00:40,  2.37it/s]\n",
      "EP_82 | train loss: 0.3644317701751111 | val loss: 0.30510756607149164 |\n",
      "Epoch:  47%|████▋     | 84/180 [00:35<00:40,  2.37it/s]\n",
      "EP_83 | train loss: 0.35943761993856993 | val loss: 0.30258457800921273 |\n",
      "Epoch:  47%|████▋     | 85/180 [00:35<00:39,  2.38it/s]\n",
      "EP_84 | train loss: 0.35404182415382535 | val loss: 0.29869205577700747 |\n",
      "Epoch:  48%|████▊     | 86/180 [00:36<00:39,  2.36it/s]\n",
      "EP_85 | train loss: 0.3560520256266874 | val loss: 0.30113725685605813 |\n",
      "Epoch:  48%|████▊     | 87/180 [00:36<00:39,  2.36it/s]\n",
      "EP_86 | train loss: 0.3557776923273124 | val loss: 0.29988280230877445 |\n",
      "Epoch:  49%|████▉     | 88/180 [00:37<00:38,  2.37it/s]\n",
      "EP_87 | train loss: 0.34479926567451624 | val loss: 0.2932892295659757 |\n",
      "Epoch:  49%|████▉     | 89/180 [00:37<00:38,  2.37it/s]\n",
      "EP_88 | train loss: 0.3428006653692208 | val loss: 0.29292144845513735 |\n",
      "Epoch:  50%|█████     | 90/180 [00:37<00:37,  2.37it/s]\n",
      "EP_89 | train loss: 0.3404629585789699 | val loss: 0.28979311445180106 |\n",
      "Epoch:  51%|█████     | 91/180 [00:38<00:37,  2.35it/s]\n",
      "EP_90 | train loss: 0.3352093360003303 | val loss: 0.2871720527901369 |\n",
      "Epoch:  51%|█████     | 92/180 [00:38<00:37,  2.36it/s]\n",
      "EP_91 | train loss: 0.3310977038215188 | val loss: 0.2857011714402367 |\n",
      "Epoch:  52%|█████▏    | 93/180 [00:39<00:36,  2.37it/s]\n",
      "EP_92 | train loss: 0.3275358976102343 | val loss: 0.2838831672481462 |\n",
      "Epoch:  52%|█████▏    | 94/180 [00:39<00:36,  2.37it/s]\n",
      "EP_93 | train loss: 0.3266372797535915 | val loss: 0.283764030419144 |\n",
      "Epoch:  53%|█████▎    | 95/180 [00:40<00:35,  2.38it/s]\n",
      "EP_94 | train loss: 0.3228631893793742 | val loss: 0.27992063936065226 |\n",
      "Epoch:  53%|█████▎    | 96/180 [00:40<00:35,  2.36it/s]\n",
      "EP_95 | train loss: 0.3232128049813065 | val loss: 0.2795250608640559 |\n",
      "Epoch:  54%|█████▍    | 97/180 [00:40<00:34,  2.38it/s]\n",
      "EP_96 | train loss: 0.3233169681885663 | val loss: 0.2802986905855291 |\n",
      "Epoch:  54%|█████▍    | 98/180 [00:41<00:34,  2.38it/s]\n",
      "EP_97 | train loss: 0.31186945064395083 | val loss: 0.277138118650399 |\n",
      "Epoch:  55%|█████▌    | 99/180 [00:41<00:33,  2.39it/s]\n",
      "EP_98 | train loss: 0.3088291640375175 | val loss: 0.2718060986668456 |\n",
      "Epoch:  56%|█████▌    | 100/180 [00:42<00:33,  2.40it/s]\n",
      "EP_99 | train loss: 0.3042433112275367 | val loss: 0.2707693717058967 |\n",
      "Epoch:  56%|█████▌    | 101/180 [00:42<00:33,  2.37it/s]\n",
      "EP_100 | train loss: 0.30062936147054037 | val loss: 0.26841677287045645 |\n",
      "Epoch:  57%|█████▋    | 102/180 [00:43<00:32,  2.38it/s]\n",
      "EP_101 | train loss: 0.2977322185740751 | val loss: 0.2652627165411033 |\n",
      "Epoch:  57%|█████▋    | 103/180 [00:43<00:32,  2.38it/s]\n",
      "EP_102 | train loss: 0.2935528292375452 | val loss: 0.26301953196525574 |\n",
      "Epoch:  58%|█████▊    | 104/180 [00:43<00:31,  2.38it/s]\n",
      "EP_103 | train loss: 0.2931651311762193 | val loss: 0.2602480796037936 |\n",
      "Epoch:  58%|█████▊    | 105/180 [00:44<00:31,  2.38it/s]\n",
      "EP_104 | train loss: 0.296938240294363 | val loss: 0.26085613171259564 |\n",
      "Epoch:  59%|█████▉    | 106/180 [00:44<00:31,  2.35it/s]\n",
      "EP_105 | train loss: 0.2838403725156597 | val loss: 0.26000365439583273 |\n",
      "Epoch:  59%|█████▉    | 107/180 [00:45<00:30,  2.37it/s]\n",
      "EP_106 | train loss: 0.284565647910623 | val loss: 0.2628607475290112 |\n",
      "Epoch:  60%|██████    | 108/180 [00:45<00:30,  2.38it/s]\n",
      "EP_107 | train loss: 0.2782692147236244 | val loss: 0.24876243694155825 |\n",
      "Epoch:  61%|██████    | 109/180 [00:45<00:29,  2.38it/s]\n",
      "EP_108 | train loss: 0.272006352742513 | val loss: 0.2478653636633181 |\n",
      "Epoch:  61%|██████    | 110/180 [00:46<00:29,  2.39it/s]\n",
      "EP_109 | train loss: 0.2697803955452115 | val loss: 0.24312209615520403 |\n",
      "Epoch:  62%|██████▏   | 111/180 [00:46<00:29,  2.35it/s]\n",
      "EP_110 | train loss: 0.26406453590767054 | val loss: 0.24113182928047927 |\n",
      "Epoch:  62%|██████▏   | 112/180 [00:47<00:29,  2.29it/s]\n",
      "EP_111 | train loss: 0.26084358972661636 | val loss: 0.23648226319574842 |\n",
      "Epoch:  63%|██████▎   | 113/180 [00:47<00:29,  2.31it/s]\n",
      "EP_112 | train loss: 0.2569292208727668 | val loss: 0.2335935211649128 |\n",
      "Epoch:  63%|██████▎   | 114/180 [00:48<00:28,  2.34it/s]\n",
      "EP_113 | train loss: 0.2518679324318381 | val loss: 0.2317812658992468 |\n",
      "Epoch:  64%|██████▍   | 115/180 [00:48<00:27,  2.36it/s]\n",
      "EP_114 | train loss: 0.25040808799220066 | val loss: 0.2275447506530612 |\n",
      "Epoch:  64%|██████▍   | 116/180 [00:49<00:27,  2.33it/s]\n",
      "EP_115 | train loss: 0.24598126271191764 | val loss: 0.22350216028737088 |\n",
      "Epoch:  65%|██████▌   | 117/180 [00:49<00:26,  2.34it/s]\n",
      "EP_116 | train loss: 0.24741158812653785 | val loss: 0.22284895824451073 |\n",
      "Epoch:  66%|██████▌   | 118/180 [00:49<00:26,  2.35it/s]\n",
      "EP_117 | train loss: 0.23574758277219884 | val loss: 0.21888711171991684 |\n",
      "Epoch:  66%|██████▌   | 119/180 [00:50<00:25,  2.36it/s]\n",
      "EP_118 | train loss: 0.23148560897976744 | val loss: 0.21455587709651275 |\n",
      "Epoch:  67%|██████▋   | 120/180 [00:50<00:25,  2.36it/s]\n",
      "EP_119 | train loss: 0.23672667391159954 | val loss: 0.22549443502052158 |\n",
      "Epoch:  67%|██████▋   | 121/180 [00:51<00:25,  2.34it/s]\n",
      "EP_120 | train loss: 0.2267209197960648 | val loss: 0.20532190449097576 |\n",
      "Epoch:  68%|██████▊   | 122/180 [00:51<00:24,  2.35it/s]\n",
      "EP_121 | train loss: 0.2218351214539771 | val loss: 0.20030037269872777 |\n",
      "Epoch:  68%|██████▊   | 123/180 [00:51<00:24,  2.37it/s]\n",
      "EP_122 | train loss: 0.21906878387226777 | val loss: 0.1967929373769199 |\n",
      "Epoch:  69%|██████▉   | 124/180 [00:52<00:23,  2.37it/s]\n",
      "EP_123 | train loss: 0.21097182432810466 | val loss: 0.19252012407078462 |\n",
      "Epoch:  69%|██████▉   | 125/180 [00:52<00:23,  2.38it/s]\n",
      "EP_124 | train loss: 0.20580863391651827 | val loss: 0.18742814543200473 |\n",
      "Epoch:  70%|███████   | 126/180 [00:53<00:22,  2.35it/s]\n",
      "EP_125 | train loss: 0.2009590513565961 | val loss: 0.18558494133107803 |\n",
      "Epoch:  71%|███████   | 127/180 [00:53<00:22,  2.36it/s]\n",
      "EP_126 | train loss: 0.19696325975305895 | val loss: 0.1826535229589425 |\n",
      "Epoch:  71%|███████   | 128/180 [00:54<00:21,  2.37it/s]\n",
      "EP_127 | train loss: 0.19396403209835875 | val loss: 0.1782555720385383 |\n",
      "Epoch:  72%|███████▏  | 129/180 [00:54<00:21,  2.39it/s]\n",
      "EP_128 | train loss: 0.18789220160129025 | val loss: 0.1723553018242705 |\n",
      "Epoch:  72%|███████▏  | 130/180 [00:54<00:20,  2.39it/s]\n",
      "EP_129 | train loss: 0.18252271203433765 | val loss: 0.1645114164726407 |\n",
      "Epoch:  73%|███████▎  | 131/180 [00:55<00:20,  2.36it/s]\n",
      "EP_130 | train loss: 0.183446834601608 | val loss: 0.16306518924002553 |\n",
      "Epoch:  73%|███████▎  | 132/180 [00:55<00:20,  2.37it/s]\n",
      "EP_131 | train loss: 0.17813897530237835 | val loss: 0.15732022184951633 |\n",
      "Epoch:  74%|███████▍  | 133/180 [00:56<00:20,  2.35it/s]\n",
      "EP_132 | train loss: 0.17291143010644353 | val loss: 0.15153483666625678 |\n",
      "Epoch:  74%|███████▍  | 134/180 [00:56<00:19,  2.38it/s]\n",
      "EP_133 | train loss: 0.16607321290408864 | val loss: 0.15324328693689085 |\n",
      "Epoch:  75%|███████▌  | 135/180 [00:57<00:18,  2.38it/s]\n",
      "EP_134 | train loss: 0.16015247503916422 | val loss: 0.14500452081362405 |\n",
      "Epoch:  76%|███████▌  | 136/180 [00:57<00:18,  2.35it/s]\n",
      "EP_135 | train loss: 0.15792259001264386 | val loss: 0.1459903120994568 |\n",
      "Epoch:  76%|███████▌  | 137/180 [00:57<00:18,  2.36it/s]\n",
      "EP_136 | train loss: 0.15482695219563503 | val loss: 0.13422111085816926 |\n",
      "Epoch:  77%|███████▋  | 138/180 [00:58<00:17,  2.37it/s]\n",
      "EP_137 | train loss: 0.14795546671923468 | val loss: 0.13323759448294545 |\n",
      "Epoch:  77%|███████▋  | 139/180 [00:58<00:17,  2.36it/s]\n",
      "EP_138 | train loss: 0.14339552136028513 | val loss: 0.13045971007908091 |\n",
      "Epoch:  78%|███████▊  | 140/180 [00:59<00:16,  2.36it/s]\n",
      "EP_139 | train loss: 0.14612006439882166 | val loss: 0.1265147591338438 |\n",
      "Epoch:  78%|███████▊  | 141/180 [00:59<00:16,  2.34it/s]\n",
      "EP_140 | train loss: 0.13857165060791315 | val loss: 0.12131260656842999 |\n",
      "Epoch:  79%|███████▉  | 142/180 [01:00<00:16,  2.36it/s]\n",
      "EP_141 | train loss: 0.1300056824497148 | val loss: 0.11567522088686626 |\n",
      "Epoch:  79%|███████▉  | 143/180 [01:00<00:15,  2.37it/s]\n",
      "EP_142 | train loss: 0.12948731931985594 | val loss: 0.11351097681943108 |\n",
      "Epoch:  80%|████████  | 144/180 [01:00<00:15,  2.38it/s]\n",
      "EP_143 | train loss: 0.12166827356114107 | val loss: 0.11085796005585614 |\n",
      "Epoch:  81%|████████  | 145/180 [01:01<00:14,  2.37it/s]\n",
      "EP_144 | train loss: 0.11655355037427416 | val loss: 0.10612967610359192 |\n",
      "Epoch:  81%|████████  | 146/180 [01:01<00:14,  2.33it/s]\n",
      "EP_145 | train loss: 0.12941804913913502 | val loss: 0.10983717032507354 |\n",
      "Epoch:  82%|████████▏ | 147/180 [01:02<00:14,  2.36it/s]\n",
      "EP_146 | train loss: 0.10888722690881468 | val loss: 0.09584152172593509 |\n",
      "Epoch:  82%|████████▏ | 148/180 [01:02<00:13,  2.38it/s]\n",
      "EP_147 | train loss: 0.10454431702108945 | val loss: 0.09485752734483457 |\n",
      "Epoch:  83%|████████▎ | 149/180 [01:02<00:13,  2.38it/s]\n",
      "EP_148 | train loss: 0.10230357354762508 | val loss: 0.09305641347286749 |\n",
      "Epoch:  83%|████████▎ | 150/180 [01:03<00:12,  2.38it/s]\n",
      "EP_149 | train loss: 0.09832489280139699 | val loss: 0.08751073538088332 |\n",
      "Epoch:  84%|████████▍ | 151/180 [01:03<00:12,  2.34it/s]\n",
      "EP_150 | train loss: 0.10490712102721719 | val loss: 0.09247100645420599 |\n",
      "Epoch:  84%|████████▍ | 152/180 [01:04<00:11,  2.34it/s]\n",
      "EP_151 | train loss: 0.09826764686434877 | val loss: 0.08767023974773931 |\n",
      "Epoch:  85%|████████▌ | 153/180 [01:04<00:11,  2.37it/s]\n",
      "EP_152 | train loss: 0.08754418059891346 | val loss: 0.08083122442750369 |\n",
      "Epoch:  86%|████████▌ | 154/180 [01:05<00:10,  2.39it/s]\n",
      "EP_153 | train loss: 0.0836733926745022 | val loss: 0.07815954965703628 |\n",
      "Epoch:  86%|████████▌ | 155/180 [01:05<00:10,  2.38it/s]\n",
      "EP_154 | train loss: 0.08057922206672968 | val loss: 0.07547803895146239 |\n",
      "Epoch:  87%|████████▋ | 156/180 [01:05<00:10,  2.34it/s]\n",
      "EP_155 | train loss: 0.07769036106034821 | val loss: 0.07280894558803708 |\n",
      "Epoch:  87%|████████▋ | 157/180 [01:06<00:09,  2.36it/s]\n",
      "EP_156 | train loss: 0.100737496918323 | val loss: 0.0911831540219924 |\n",
      "Epoch:  88%|████████▊ | 158/180 [01:06<00:09,  2.36it/s]\n",
      "EP_157 | train loss: 0.07227317667474933 | val loss: 0.06792632417351592 |\n",
      "Epoch:  88%|████████▊ | 159/180 [01:07<00:08,  2.37it/s]\n",
      "EP_158 | train loss: 0.06887236424520904 | val loss: 0.0661293881780961 |\n",
      "Epoch:  89%|████████▉ | 160/180 [01:07<00:08,  2.37it/s]\n",
      "EP_159 | train loss: 0.07743516587743572 | val loss: 0.0712759784039329 |\n",
      "Epoch:  89%|████████▉ | 161/180 [01:08<00:08,  2.33it/s]\n",
      "EP_160 | train loss: 0.07305119949228624 | val loss: 0.074750394505613 |\n",
      "Epoch:  90%|█████████ | 162/180 [01:08<00:07,  2.35it/s]\n",
      "EP_161 | train loss: 0.062279543105293725 | val loss: 0.0607358760693494 |\n",
      "Epoch:  91%|█████████ | 163/180 [01:08<00:07,  2.35it/s]\n",
      "EP_162 | train loss: 0.06569275856018067 | val loss: 0.062371327012192966 |\n",
      "Epoch:  91%|█████████ | 164/180 [01:09<00:06,  2.35it/s]\n",
      "EP_163 | train loss: 0.062144840581744326 | val loss: 0.06149830888299381 |\n",
      "Epoch:  92%|█████████▏| 165/180 [01:09<00:06,  2.36it/s]\n",
      "EP_164 | train loss: 0.056765486913568836 | val loss: 0.058200525594692604 |\n",
      "Epoch:  92%|█████████▏| 166/180 [01:10<00:06,  2.33it/s]\n",
      "EP_165 | train loss: 0.05314843923437829 | val loss: 0.05629154148639417 |\n",
      "Epoch:  93%|█████████▎| 167/180 [01:10<00:05,  2.33it/s]\n",
      "EP_166 | train loss: 0.05895025519763722 | val loss: 0.05565969120053684 |\n",
      "Epoch:  93%|█████████▎| 168/180 [01:11<00:05,  2.34it/s]\n",
      "EP_167 | train loss: 0.0582680856480318 | val loss: 0.06399769467466018 |\n",
      "Epoch:  94%|█████████▍| 169/180 [01:11<00:04,  2.35it/s]\n",
      "EP_168 | train loss: 0.04839469907330532 | val loss: 0.049262945558510574 |\n",
      "Epoch:  94%|█████████▍| 170/180 [01:11<00:04,  2.35it/s]\n",
      "EP_169 | train loss: 0.054873087125666 | val loss: 0.05520185828208923 |\n",
      "Epoch:  95%|█████████▌| 171/180 [01:12<00:03,  2.33it/s]\n",
      "EP_170 | train loss: 0.054298620072065616 | val loss: 0.053224508084502874 |\n",
      "Epoch:  96%|█████████▌| 172/180 [01:12<00:03,  2.35it/s]\n",
      "EP_171 | train loss: 0.04251762616868113 | val loss: 0.04660564821724798 |\n",
      "Epoch:  96%|█████████▌| 173/180 [01:13<00:02,  2.36it/s]\n",
      "EP_172 | train loss: 0.054159020442588655 | val loss: 0.054915980965483426 |\n",
      "Epoch:  97%|█████████▋| 174/180 [01:13<00:02,  2.37it/s]\n",
      "EP_173 | train loss: 0.05078039391368043 | val loss: 0.050300351398832654 |\n",
      "Epoch:  97%|█████████▋| 175/180 [01:14<00:02,  2.38it/s]\n",
      "EP_174 | train loss: 0.04138591476515228 | val loss: 0.045437789722984914 |\n",
      "Epoch:  98%|█████████▊| 176/180 [01:14<00:01,  2.35it/s]\n",
      "EP_175 | train loss: 0.04176257474749696 | val loss: 0.04851073289618773 |\n",
      "Epoch:  98%|█████████▊| 177/180 [01:14<00:01,  2.35it/s]\n",
      "EP_176 | train loss: 0.03674644366198895 | val loss: 0.0418304205671245 |\n",
      "Epoch:  99%|█████████▉| 178/180 [01:15<00:00,  2.35it/s]\n",
      "EP_177 | train loss: 0.0346498242780274 | val loss: 0.03946350456452837 |\n",
      "Epoch:  99%|█████████▉| 179/180 [01:15<00:00,  2.37it/s]\n",
      "EP_178 | train loss: 0.033903061058007035 | val loss: 0.03757286758399477 |\n",
      "Epoch: 100%|██████████| 180/180 [01:16<00:00,  2.36it/s]\n",
      "EP_179 | train loss: 0.03152056032536076 | val loss: 0.03562680412741268 |\n",
      "\n"
     ]
    }
   ],
   "source": [
    "AttractiveTrainer.train()"
   ]
  },
  {
   "cell_type": "markdown",
   "metadata": {},
   "source": [
    "## Below is testing"
   ]
  },
  {
   "cell_type": "code",
   "execution_count": 6,
   "metadata": {},
   "outputs": [
    {
     "output_type": "execute_result",
     "data": {
      "text/plain": [
       "AttractiveNet(\n",
       "  (embedding): AttractiveEmbedding(\n",
       "    (token): TokenEmbedding(12699, 300, padding_idx=1)\n",
       "  )\n",
       "  (bigramcnn): Sequential(\n",
       "    (0): Conv1d(300, 210, kernel_size=(2,), stride=(1,), padding=(1,))\n",
       "    (1): ReLU()\n",
       "    (2): Conv1d(210, 100, kernel_size=(2,), stride=(1,), padding=(1,))\n",
       "    (3): ReLU()\n",
       "    (4): Dropout(p=0.5, inplace=False)\n",
       "  )\n",
       "  (trigramcnn): Sequential(\n",
       "    (0): Conv1d(300, 210, kernel_size=(3,), stride=(1,), padding=(1,))\n",
       "    (1): ReLU()\n",
       "    (2): Conv1d(210, 100, kernel_size=(3,), stride=(1,), padding=(1,))\n",
       "    (3): ReLU()\n",
       "    (4): Dropout(p=0.5, inplace=False)\n",
       "  )\n",
       "  (encoder_bigram): LSTM(100, 40, batch_first=True, dropout=0.5, bidirectional=True)\n",
       "  (encoder_trigram): LSTM(100, 40, batch_first=True, dropout=0.5, bidirectional=True)\n",
       "  (linear): Sequential(\n",
       "    (0): Linear(in_features=168, out_features=30, bias=True)\n",
       "    (1): ReLU()\n",
       "    (2): Linear(in_features=30, out_features=1, bias=True)\n",
       "  )\n",
       ")"
      ]
     },
     "metadata": {},
     "execution_count": 6
    }
   ],
   "source": [
    "from attractivenet import AttractiveNet\n",
    "\n",
    "PATH = './model/CNN_LSTM_20201109-122648/0.362105.80'\n",
    "\n",
    "load_model = AttractiveNet(config).to(AttractiveData.device)\n",
    "load_model.load_state_dict(torch.load(PATH))\n",
    "load_model.eval()"
   ]
  },
  {
   "cell_type": "code",
   "execution_count": 7,
   "metadata": {},
   "outputs": [],
   "source": [
    "def predict_attractive(sentence, category, phase):\n",
    "    indexed_sentence = [AttractiveData.TEXT.vocab.stoi[t] for t in sentence]\n",
    "    indexed_category = [AttractiveData.CATEGORIES_LABEL.vocab.stoi[category]]\n",
    "    tensor_sentence = torch.LongTensor(indexed_sentence).to(AttractiveData.device)\n",
    "    tensor_category = torch.LongTensor(indexed_category).to(AttractiveData.device)\n",
    "    tensor_sentence = tensor_sentence.unsqueeze(0)\n",
    "\n",
    "    prediction = load_model(tensor_sentence, tensor_category, phase=phase)\n",
    "\n",
    "    return prediction"
   ]
  },
  {
   "cell_type": "code",
   "execution_count": 8,
   "metadata": {
    "tags": []
   },
   "outputs": [],
   "source": [
    "# train mean = 3.15, test mean = 2.8\n",
    "predict_list = []\n",
    "with torch.no_grad():\n",
    "    for i, sentence in enumerate(AttractiveData.test_data):\n",
    "        prediction = predict_attractive(sentence.Headline, sentence.Category, 'test')\n",
    "        predict_list.append(prediction.item())\n",
    "        # predict_list.append(prediction.item())\n",
    "AttractiveData.df_test['Label'] = predict_list\n",
    "AttractiveData.df_test[['ID', 'Label']].to_csv(config['save_name'] + '.csv', index=False)"
   ]
  },
  {
   "cell_type": "markdown",
   "metadata": {},
   "source": [
    "## Below for statistics"
   ]
  },
  {
   "cell_type": "code",
   "execution_count": 9,
   "metadata": {},
   "outputs": [],
   "source": [
    "import statistics\n",
    "from sklearn.metrics import mean_squared_error"
   ]
  },
  {
   "cell_type": "code",
   "execution_count": 10,
   "metadata": {},
   "outputs": [],
   "source": [
    "# # train mean = 3.15, test mean = 2.8\n",
    "# train_list = []\n",
    "# for i, sentence in enumerate(AttractiveData.train_data):\n",
    "#     prediction = predict_attractive(sentence.Headline, sentence.Category, 'train')\n",
    "#     train_list.append(prediction.item())\n",
    "#     # train_list.append(prediction.item())\n",
    "# # print(train_list)\n",
    "# mean_squared_error(pd.read_csv('data/train.csv').sort_values(['ID']).Label.to_list(), train_list), statistics.mean(train_list), statistics.stdev(train_list)"
   ]
  },
  {
   "cell_type": "code",
   "execution_count": 11,
   "metadata": {},
   "outputs": [],
   "source": [
    "# train_list[0:5], pd.read_csv('data/train.csv').sort_values(['ID']).Label.to_list()[0:5]"
   ]
  },
  {
   "cell_type": "code",
   "execution_count": 12,
   "metadata": {},
   "outputs": [],
   "source": [
    "# a = AttractiveData.df_train['Label'].to_list()\n",
    "# statistics.mean(a), statistics.stdev(a)"
   ]
  },
  {
   "cell_type": "code",
   "execution_count": 13,
   "metadata": {},
   "outputs": [
    {
     "output_type": "execute_result",
     "data": {
      "text/plain": [
       "(2.809482055613648, 0.32920467081575233)"
      ]
     },
     "metadata": {},
     "execution_count": 13
    }
   ],
   "source": [
    "statistics.mean(predict_list), statistics.stdev(predict_list)"
   ]
  },
  {
   "cell_type": "code",
   "execution_count": 14,
   "metadata": {},
   "outputs": [
    {
     "output_type": "execute_result",
     "data": {
      "text/plain": [
       "(0.005029855938594281, 2.783861954306716, 0.36437382915352245)"
      ]
     },
     "metadata": {},
     "execution_count": 14
    }
   ],
   "source": [
    "baseline_list = pd.read_csv('baseline.csv').sort_values(['ID']).Label.to_list()\n",
    "mean_squared_error(baseline_list, predict_list), statistics.mean(baseline_list), statistics.stdev(baseline_list)"
   ]
  },
  {
   "cell_type": "code",
   "execution_count": null,
   "metadata": {},
   "outputs": [],
   "source": []
  },
  {
   "cell_type": "code",
   "execution_count": 7,
   "metadata": {},
   "outputs": [
    {
     "output_type": "execute_result",
     "data": {
      "text/plain": [
       "0.0"
      ]
     },
     "metadata": {},
     "execution_count": 7
    }
   ],
   "source": [
    "mean_squared_error(pd.read_csv('baseline.csv').sort_values(['ID']).Label.to_list(), pd.read_csv('./predict/CNN_LSTM_20201107-202605_0.374917.75.csv').sort_values(['ID']).Label.to_list())"
   ]
  },
  {
   "cell_type": "code",
   "execution_count": 13,
   "metadata": {},
   "outputs": [],
   "source": []
  },
  {
   "cell_type": "code",
   "execution_count": null,
   "metadata": {},
   "outputs": [],
   "source": []
  }
 ],
 "metadata": {
  "kernelspec": {
   "display_name": "DS_hw2",
   "language": "python",
   "name": "ds_hw2"
  },
  "language_info": {
   "codemirror_mode": {
    "name": "ipython",
    "version": 3
   },
   "file_extension": ".py",
   "mimetype": "text/x-python",
   "name": "python",
   "nbconvert_exporter": "python",
   "pygments_lexer": "ipython3",
   "version": "3.6.12-final"
  }
 },
 "nbformat": 4,
 "nbformat_minor": 4
}