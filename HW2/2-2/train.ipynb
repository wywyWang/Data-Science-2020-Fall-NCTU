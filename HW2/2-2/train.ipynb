{
 "cells": [
  {
   "cell_type": "code",
   "execution_count": 1,
   "metadata": {},
   "outputs": [],
   "source": [
    "# common packages\n",
    "import pandas as pd\n",
    "import time\n",
    "\n",
    "# # DL framework\n",
    "import torch\n",
    "from torchtext import data\n",
    "\n",
    "from attractivedata import AttractiveData\n",
    "from trainer import AttractiveTrainer"
   ]
  },
  {
   "cell_type": "code",
   "execution_count": 2,
   "metadata": {},
   "outputs": [],
   "source": [
    "seed_value = 42\n",
    "torch.manual_seed(seed_value)\n",
    "torch.cuda.manual_seed(seed_value)\n",
    "torch.cuda.manual_seed_all(seed_value) # gpu vars\n",
    "# torch.backends.cudnn.deterministic = True  #needed\n",
    "# torch.backends.cudnn.benchmark = False"
   ]
  },
  {
   "cell_type": "markdown",
   "metadata": {},
   "source": [
    "## Load and prepare data"
   ]
  },
  {
   "cell_type": "code",
   "execution_count": 3,
   "metadata": {},
   "outputs": [],
   "source": [
    "train_file = 'data/train.csv'\n",
    "val_file = 'data/val.csv'\n",
    "test_file = 'data/test.csv'\n",
    "pretrained_file = 'glove.840B.300d'\n",
    "config = {\n",
    "    'max_seq': 40,\n",
    "    'min_freq': 0,\n",
    "    'batch_size': 64,\n",
    "    'pretrained_file': pretrained_file\n",
    "}\n"
   ]
  },
  {
   "cell_type": "code",
   "execution_count": 4,
   "metadata": {},
   "outputs": [],
   "source": [
    "AttractiveData = AttractiveData(train_file, val_file, test_file, pretrained_file, config)"
   ]
  },
  {
   "cell_type": "markdown",
   "metadata": {},
   "source": [
    "## Start to train"
   ]
  },
  {
   "cell_type": "code",
   "execution_count": 5,
   "metadata": {},
   "outputs": [
    {
     "output_type": "stream",
     "name": "stdout",
     "text": [
      "torch.Size([12699, 300])\n"
     ]
    }
   ],
   "source": [
    "config['timestr'] = time.strftime(\"%Y%m%d-%H%M%S\")\n",
    "config['save_name'] = 'CNN_LSTM'\n",
    "config['input_dim'] = len(AttractiveData.TEXT.vocab)\n",
    "config['embedding_dim'] = 300\n",
    "config['category_dim'] = len(AttractiveData.CATEGORIES_LABEL.vocab)\n",
    "config['category_embedding_dim'] = 10\n",
    "config['hidden_dim'] = 30\n",
    "config['output_dim'] = 1\n",
    "config['log_steps'] = 10\n",
    "config['epochs'] = 200\n",
    "config['lr'] = {\n",
    "    'encoder': 1e-5,\n",
    "    'embedding': 6e-6,\n",
    "    'linear': 1e-5\n",
    "}\n",
    "config['num_layers'] = 1\n",
    "config['kernel_size'] = 3\n",
    "config['dropout'] = 0.5\n",
    "config['train_len'] = AttractiveData.train_len\n",
    "config['val_len'] = AttractiveData.val_len\n",
    "config['test_len'] = AttractiveData.test_len\n",
    "\n",
    "pretrained_embeddings = AttractiveData.TEXT.vocab.vectors\n",
    "print(pretrained_embeddings.shape)"
   ]
  },
  {
   "cell_type": "code",
   "execution_count": 6,
   "metadata": {},
   "outputs": [],
   "source": [
    "AttractiveTrainer = AttractiveTrainer(config, AttractiveData.device, AttractiveData.trainloader, AttractiveData.valloader, pretrained_embeddings)"
   ]
  },
  {
   "cell_type": "code",
   "execution_count": 7,
   "metadata": {},
   "outputs": [
    {
     "output_type": "execute_result",
     "data": {
      "text/plain": [
       "(AttractiveNet(\n",
       "   (embedding): AttractiveEmbedding(\n",
       "     (token): TokenEmbedding(12699, 300, padding_idx=1)\n",
       "   )\n",
       "   (bigramcnn): Sequential(\n",
       "     (0): Conv1d(300, 300, kernel_size=(1,), stride=(1,), padding=(1,))\n",
       "     (1): Conv1d(300, 210, kernel_size=(2,), stride=(1,), padding=(1,))\n",
       "     (2): ReLU()\n",
       "     (3): Conv1d(210, 100, kernel_size=(2,), stride=(1,), padding=(1,))\n",
       "     (4): ReLU()\n",
       "     (5): Dropout(p=0.5, inplace=False)\n",
       "   )\n",
       "   (trigramcnn): Sequential(\n",
       "     (0): Conv1d(300, 300, kernel_size=(1,), stride=(1,), padding=(1,))\n",
       "     (1): Conv1d(300, 210, kernel_size=(3,), stride=(1,), padding=(1,))\n",
       "     (2): ReLU()\n",
       "     (3): Conv1d(210, 100, kernel_size=(3,), stride=(1,), padding=(1,))\n",
       "     (4): ReLU()\n",
       "     (5): Dropout(p=0.5, inplace=False)\n",
       "   )\n",
       "   (encoder_bigram): LSTM(100, 30, batch_first=True, dropout=0.5, bidirectional=True)\n",
       "   (encoder_trigram): LSTM(100, 30, batch_first=True, dropout=0.5, bidirectional=True)\n",
       "   (linear): Sequential(\n",
       "     (0): Linear(in_features=128, out_features=30, bias=True)\n",
       "     (1): ReLU()\n",
       "     (2): Linear(in_features=30, out_features=1, bias=True)\n",
       "   )\n",
       " ),\n",
       " 4478181,\n",
       " 4478181)"
      ]
     },
     "metadata": {},
     "execution_count": 7
    }
   ],
   "source": [
    "AttractiveTrainer.model, AttractiveTrainer.config['total_params'], AttractiveTrainer.config['total_learned_params']"
   ]
  },
  {
   "cell_type": "code",
   "execution_count": 8,
   "metadata": {
    "tags": [
     "outputPrepend"
    ]
   },
   "outputs": [
    {
     "output_type": "stream",
     "name": "stderr",
     "text": [
      "_46 | train loss: 0.47933676944059483 | val loss: 0.4302472764370488 |\n",
      "Epoch:  24%|██▍       | 48/200 [00:22<01:10,  2.16it/s]\n",
      "EP_47 | train loss: 0.47514585607192095 | val loss: 0.4258650021225798 |\n",
      "Epoch:  24%|██▍       | 49/200 [00:22<01:09,  2.17it/s]\n",
      "EP_48 | train loss: 0.47515497020646635 | val loss: 0.4225774980058857 |\n",
      "Epoch:  25%|██▌       | 50/200 [00:23<01:09,  2.17it/s]\n",
      "EP_49 | train loss: 0.47015844793880684 | val loss: 0.4175350128435621 |\n",
      "Epoch:  26%|██▌       | 51/200 [00:23<01:09,  2.15it/s]\n",
      "EP_50 | train loss: 0.46661893059225645 | val loss: 0.4134833111482508 |\n",
      "Epoch:  26%|██▌       | 52/200 [00:24<01:08,  2.16it/s]\n",
      "EP_51 | train loss: 0.4643845894757439 | val loss: 0.40896932868396535 |\n",
      "Epoch:  26%|██▋       | 53/200 [00:24<01:08,  2.14it/s]\n",
      "EP_52 | train loss: 0.4616114382650338 | val loss: 0.4049409481824613 |\n",
      "Epoch:  27%|██▋       | 54/200 [00:24<01:07,  2.16it/s]\n",
      "EP_53 | train loss: 0.4584726698258344 | val loss: 0.4008568910991444 |\n",
      "Epoch:  28%|██▊       | 55/200 [00:25<01:06,  2.17it/s]\n",
      "EP_54 | train loss: 0.45593443197362565 | val loss: 0.3968852419479221 |\n",
      "Epoch:  28%|██▊       | 56/200 [00:25<01:06,  2.16it/s]\n",
      "EP_55 | train loss: 0.4537993459140553 | val loss: 0.39378496770765264 |\n",
      "Epoch:  28%|██▊       | 57/200 [00:26<01:06,  2.16it/s]\n",
      "EP_56 | train loss: 0.44946778428320794 | val loss: 0.3889588386404748 |\n",
      "Epoch:  29%|██▉       | 58/200 [00:26<01:05,  2.17it/s]\n",
      "EP_57 | train loss: 0.4482572031956093 | val loss: 0.38579779395870134 |\n",
      "Epoch:  30%|██▉       | 59/200 [00:27<01:04,  2.17it/s]\n",
      "EP_58 | train loss: 0.44676650645686133 | val loss: 0.3836483242465 |\n",
      "Epoch:  30%|███       | 60/200 [00:27<01:04,  2.18it/s]\n",
      "EP_59 | train loss: 0.4441625707289752 | val loss: 0.38004062689986884 |\n",
      "Epoch:  30%|███       | 61/200 [00:28<01:04,  2.16it/s]\n",
      "EP_60 | train loss: 0.44123782457089894 | val loss: 0.37675073625994665 |\n",
      "Epoch:  31%|███       | 62/200 [00:28<01:03,  2.16it/s]\n",
      "EP_61 | train loss: 0.4400263561921961 | val loss: 0.3746192052083857 |\n",
      "Epoch:  32%|███▏      | 63/200 [00:29<01:03,  2.17it/s]\n",
      "EP_62 | train loss: 0.43883448582069545 | val loss: 0.3725637010499543 |\n",
      "Epoch:  32%|███▏      | 64/200 [00:29<01:02,  2.17it/s]\n",
      "EP_63 | train loss: 0.4355067421408261 | val loss: 0.3702261214162789 |\n",
      "Epoch:  32%|███▎      | 65/200 [00:29<01:01,  2.18it/s]\n",
      "EP_64 | train loss: 0.4341617434632544 | val loss: 0.3680322824739942 |\n",
      "Epoch:  33%|███▎      | 66/200 [00:30<01:01,  2.16it/s]\n",
      "EP_65 | train loss: 0.4337564963920444 | val loss: 0.36649655068621917 |\n",
      "Epoch:  34%|███▎      | 67/200 [00:30<01:00,  2.18it/s]\n",
      "EP_66 | train loss: 0.43092820784624886 | val loss: 0.3639861228419285 |\n",
      "Epoch:  34%|███▍      | 68/200 [00:31<00:59,  2.20it/s]\n",
      "EP_67 | train loss: 0.4300669333514045 | val loss: 0.36352215911827834 |\n",
      "Epoch:  34%|███▍      | 69/200 [00:31<00:59,  2.20it/s]\n",
      "EP_68 | train loss: 0.42712730145921896 | val loss: 0.3601997634943794 |\n",
      "Epoch:  35%|███▌      | 70/200 [00:32<00:59,  2.19it/s]\n",
      "EP_69 | train loss: 0.42702316302879184 | val loss: 0.3605412116237715 |\n",
      "Epoch:  36%|███▌      | 71/200 [00:32<00:59,  2.17it/s]\n",
      "EP_70 | train loss: 0.423360164492738 | val loss: 0.3568958283639422 |\n",
      "Epoch:  36%|███▌      | 72/200 [00:33<00:58,  2.18it/s]\n",
      "EP_71 | train loss: 0.4225802468318565 | val loss: 0.3561664983338001 |\n",
      "Epoch:  36%|███▋      | 73/200 [00:33<00:58,  2.17it/s]\n",
      "EP_72 | train loss: 0.42105327774496637 | val loss: 0.3550247894782646 |\n",
      "Epoch:  37%|███▋      | 74/200 [00:34<00:57,  2.18it/s]\n",
      "EP_73 | train loss: 0.41955677761751065 | val loss: 0.3538878589284186 |\n",
      "Epoch:  38%|███▊      | 75/200 [00:34<00:57,  2.18it/s]\n",
      "EP_74 | train loss: 0.41690901774986117 | val loss: 0.3517346528230929 |\n",
      "Epoch:  38%|███▊      | 76/200 [00:35<00:58,  2.14it/s]\n",
      "EP_75 | train loss: 0.4161889674616795 | val loss: 0.3527543562300065 |\n",
      "Epoch:  38%|███▊      | 77/200 [00:35<00:57,  2.14it/s]\n",
      "EP_76 | train loss: 0.4132045035268746 | val loss: 0.3496222402535233 |\n",
      "Epoch:  39%|███▉      | 78/200 [00:35<00:56,  2.16it/s]\n",
      "EP_77 | train loss: 0.4115303591185925 | val loss: 0.34903474122870204 |\n",
      "Epoch:  40%|███▉      | 79/200 [00:36<00:55,  2.17it/s]\n",
      "EP_78 | train loss: 0.41028247440562526 | val loss: 0.3486541439505184 |\n",
      "Epoch:  40%|████      | 80/200 [00:36<00:55,  2.17it/s]\n",
      "EP_79 | train loss: 0.4091120402018229 | val loss: 0.3474253982889886 |\n",
      "Epoch:  40%|████      | 81/200 [00:37<00:55,  2.15it/s]\n",
      "EP_80 | train loss: 0.4076675714231005 | val loss: 0.3478335650528179 |\n",
      "Epoch:  41%|████      | 82/200 [00:37<00:54,  2.16it/s]\n",
      "EP_81 | train loss: 0.4047088043362487 | val loss: 0.3458498862444186 |\n",
      "Epoch:  42%|████▏     | 83/200 [00:38<00:54,  2.15it/s]\n",
      "EP_82 | train loss: 0.40371907084595926 | val loss: 0.34529557239775566 |\n",
      "Epoch:  42%|████▏     | 84/200 [00:38<00:53,  2.16it/s]\n",
      "EP_83 | train loss: 0.4019930596445121 | val loss: 0.3448280540167117 |\n",
      "Epoch:  42%|████▎     | 85/200 [00:39<00:52,  2.17it/s]\n",
      "EP_84 | train loss: 0.40016670414045746 | val loss: 0.3444703022638957 |\n",
      "Epoch:  43%|████▎     | 86/200 [00:39<00:53,  2.14it/s]\n",
      "EP_85 | train loss: 0.39792104515374876 | val loss: 0.3442086723505282 |\n",
      "Epoch:  44%|████▎     | 87/200 [00:40<00:52,  2.15it/s]\n",
      "EP_86 | train loss: 0.3971309465520522 | val loss: 0.34359413736006794 |\n",
      "Epoch:  44%|████▍     | 88/200 [00:40<00:51,  2.16it/s]\n",
      "EP_87 | train loss: 0.39519261004878026 | val loss: 0.34272895431986045 |\n",
      "Epoch:  44%|████▍     | 89/200 [00:41<00:51,  2.16it/s]\n",
      "EP_88 | train loss: 0.39390487483903475 | val loss: 0.34327489196085464 |\n",
      "Epoch:  45%|████▌     | 90/200 [00:41<00:50,  2.17it/s]\n",
      "EP_89 | train loss: 0.39127339475295125 | val loss: 0.34238820742158327 |\n",
      "Epoch:  46%|████▌     | 91/200 [00:42<00:50,  2.15it/s]\n",
      "EP_90 | train loss: 0.3910105228424072 | val loss: 0.34191588034816817 |\n",
      "Epoch:  46%|████▌     | 92/200 [00:42<00:49,  2.17it/s]\n",
      "EP_91 | train loss: 0.38924450967826096 | val loss: 0.3423694144277012 |\n",
      "Epoch:  46%|████▋     | 93/200 [00:42<00:49,  2.17it/s]\n",
      "EP_92 | train loss: 0.38938962384766224 | val loss: 0.34243923484110367 |\n",
      "Epoch:  47%|████▋     | 94/200 [00:43<00:48,  2.18it/s]\n",
      "EP_93 | train loss: 0.3866765667410458 | val loss: 0.3412245418511185 |\n",
      "Epoch:  48%|████▊     | 95/200 [00:43<00:47,  2.19it/s]\n",
      "EP_94 | train loss: 0.3841490380904254 | val loss: 0.3409848049575207 |\n",
      "Epoch:  48%|████▊     | 96/200 [00:44<00:48,  2.15it/s]\n",
      "EP_95 | train loss: 0.3823165267121558 | val loss: 0.3401305441762887 |\n",
      "Epoch:  48%|████▊     | 97/200 [00:44<00:47,  2.15it/s]\n",
      "EP_96 | train loss: 0.3809437723720775 | val loss: 0.3395558560595793 |\n",
      "Epoch:  49%|████▉     | 98/200 [00:45<00:46,  2.17it/s]\n",
      "EP_97 | train loss: 0.38078208343655456 | val loss: 0.33893973219628426 |\n",
      "Epoch:  50%|████▉     | 99/200 [00:45<00:46,  2.16it/s]\n",
      "EP_98 | train loss: 0.37843955264371987 | val loss: 0.33826561885721546 |\n",
      "Epoch:  50%|█████     | 100/200 [00:46<00:46,  2.17it/s]\n",
      "EP_99 | train loss: 0.377712054346122 | val loss: 0.338424249606974 |\n",
      "Epoch:  50%|█████     | 101/200 [00:46<00:46,  2.14it/s]\n",
      "EP_100 | train loss: 0.37565915350820506 | val loss: 0.3378928601741791 |\n",
      "Epoch:  51%|█████     | 102/200 [00:47<00:45,  2.17it/s]\n",
      "EP_101 | train loss: 0.37322114121680167 | val loss: 0.33821272616292913 |\n",
      "Epoch:  52%|█████▏    | 103/200 [00:47<00:44,  2.18it/s]\n",
      "EP_102 | train loss: 0.3717289503882913 | val loss: 0.3368880842246261 |\n",
      "Epoch:  52%|█████▏    | 104/200 [00:47<00:44,  2.18it/s]\n",
      "EP_103 | train loss: 0.3732181661269244 | val loss: 0.3363494376341502 |\n",
      "Epoch:  52%|█████▎    | 105/200 [00:48<00:43,  2.19it/s]\n",
      "EP_104 | train loss: 0.3682703177134196 | val loss: 0.33613894149368884 |\n",
      "Epoch:  53%|█████▎    | 106/200 [00:48<00:43,  2.17it/s]\n",
      "EP_105 | train loss: 0.37129992737489587 | val loss: 0.33525914304396687 |\n",
      "Epoch:  54%|█████▎    | 107/200 [00:49<00:42,  2.18it/s]\n",
      "EP_106 | train loss: 0.3659064676247391 | val loss: 0.3353058164026223 |\n",
      "Epoch:  54%|█████▍    | 108/200 [00:49<00:42,  2.18it/s]\n",
      "EP_107 | train loss: 0.3637206040176691 | val loss: 0.3337501380957809 |\n",
      "Epoch:  55%|█████▍    | 109/200 [00:50<00:41,  2.17it/s]\n",
      "EP_108 | train loss: 0.36241800224079807 | val loss: 0.3332778758862439 |\n",
      "Epoch:  55%|█████▌    | 110/200 [00:50<00:41,  2.18it/s]\n",
      "EP_109 | train loss: 0.3623615751079485 | val loss: 0.3302106325532876 |\n",
      "Epoch:  56%|█████▌    | 111/200 [00:51<00:41,  2.15it/s]\n",
      "EP_110 | train loss: 0.35999574100269993 | val loss: 0.3295276988955105 |\n",
      "Epoch:  56%|█████▌    | 112/200 [00:51<00:40,  2.16it/s]\n",
      "EP_111 | train loss: 0.35838607993780397 | val loss: 0.32889266282904384 |\n",
      "Epoch:  56%|█████▋    | 113/200 [00:52<00:40,  2.17it/s]\n",
      "EP_112 | train loss: 0.3561055959439745 | val loss: 0.32835711334265916 |\n",
      "Epoch:  57%|█████▋    | 114/200 [00:52<00:39,  2.18it/s]\n",
      "EP_113 | train loss: 0.3549877372442507 | val loss: 0.32708659008437513 |\n",
      "Epoch:  57%|█████▊    | 115/200 [00:53<00:39,  2.18it/s]\n",
      "EP_114 | train loss: 0.3544851677090514 | val loss: 0.32687071666998024 |\n",
      "Epoch:  58%|█████▊    | 116/200 [00:53<00:39,  2.14it/s]\n",
      "EP_115 | train loss: 0.3542673148360907 | val loss: 0.32456010638498795 |\n",
      "Epoch:  58%|█████▊    | 117/200 [00:53<00:38,  2.16it/s]\n",
      "EP_116 | train loss: 0.3520005212110632 | val loss: 0.32413271186398523 |\n",
      "Epoch:  59%|█████▉    | 118/200 [00:54<00:37,  2.16it/s]\n",
      "EP_117 | train loss: 0.34777045343436447 | val loss: 0.3237279425649082 |\n",
      "Epoch:  60%|█████▉    | 119/200 [00:54<00:37,  2.17it/s]\n",
      "EP_118 | train loss: 0.3464060016706878 | val loss: 0.3229322082856122 |\n",
      "Epoch:  60%|██████    | 120/200 [00:55<00:37,  2.16it/s]\n",
      "EP_119 | train loss: 0.34443978795818253 | val loss: 0.3216685109278735 |\n",
      "Epoch:  60%|██████    | 121/200 [00:55<00:36,  2.14it/s]\n",
      "EP_120 | train loss: 0.34587394256217807 | val loss: 0.32035648179989235 |\n",
      "Epoch:  61%|██████    | 122/200 [00:56<00:36,  2.16it/s]\n",
      "EP_121 | train loss: 0.3405077420028986 | val loss: 0.32520149443663804 |\n",
      "Epoch:  62%|██████▏   | 123/200 [00:56<00:35,  2.17it/s]\n",
      "EP_122 | train loss: 0.34072933617760154 | val loss: 0.31759213700014 |\n",
      "Epoch:  62%|██████▏   | 124/200 [00:57<00:34,  2.18it/s]\n",
      "EP_123 | train loss: 0.33783031725415996 | val loss: 0.32237931326323865 |\n",
      "Epoch:  62%|██████▎   | 125/200 [00:57<00:34,  2.17it/s]\n",
      "EP_124 | train loss: 0.33525401751200357 | val loss: 0.31836413110003753 |\n",
      "Epoch:  63%|██████▎   | 126/200 [00:58<00:34,  2.14it/s]\n",
      "EP_125 | train loss: 0.3344335303587072 | val loss: 0.32279058531218885 |\n",
      "Epoch:  64%|██████▎   | 127/200 [00:58<00:33,  2.16it/s]\n",
      "EP_126 | train loss: 0.3322308774087943 | val loss: 0.31438427929784735 |\n",
      "Epoch:  64%|██████▍   | 128/200 [00:59<00:33,  2.16it/s]\n",
      "EP_127 | train loss: 0.3338569589689666 | val loss: 0.3124236686556947 |\n",
      "Epoch:  64%|██████▍   | 129/200 [00:59<00:32,  2.17it/s]\n",
      "EP_128 | train loss: 0.33847804209765264 | val loss: 0.3124427999935898 |\n",
      "Epoch:  65%|██████▌   | 130/200 [01:00<00:32,  2.17it/s]\n",
      "EP_129 | train loss: 0.3276176938823625 | val loss: 0.30962976930188196 |\n",
      "Epoch:  66%|██████▌   | 131/200 [01:00<00:32,  2.15it/s]\n",
      "EP_130 | train loss: 0.32984248843847536 | val loss: 0.30871518219218536 |\n",
      "Epoch:  66%|██████▌   | 132/200 [01:00<00:31,  2.16it/s]\n",
      "EP_131 | train loss: 0.3225116958805159 | val loss: 0.3082360666172177 |\n",
      "Epoch:  66%|██████▋   | 133/200 [01:01<00:31,  2.16it/s]\n",
      "EP_132 | train loss: 0.320068473441928 | val loss: 0.31201279806155785 |\n",
      "Epoch:  67%|██████▋   | 134/200 [01:01<00:30,  2.18it/s]\n",
      "EP_133 | train loss: 0.31916715350805547 | val loss: 0.3084890719722299 |\n",
      "Epoch:  68%|██████▊   | 135/200 [01:02<00:29,  2.19it/s]\n",
      "EP_134 | train loss: 0.3204827575122609 | val loss: 0.3185787715163885 |\n",
      "Epoch:  68%|██████▊   | 136/200 [01:02<00:29,  2.17it/s]\n",
      "EP_135 | train loss: 0.31473925534416647 | val loss: 0.30341960168352317 |\n",
      "Epoch:  68%|██████▊   | 137/200 [01:03<00:28,  2.17it/s]\n",
      "EP_136 | train loss: 0.31687735436009423 | val loss: 0.29989486465267107 |\n",
      "Epoch:  69%|██████▉   | 138/200 [01:03<00:28,  2.18it/s]\n",
      "EP_137 | train loss: 0.30998986047856947 | val loss: 0.3058515179391001 |\n",
      "Epoch:  70%|██████▉   | 139/200 [01:04<00:27,  2.19it/s]\n",
      "EP_138 | train loss: 0.308047041238523 | val loss: 0.3005891442298889 |\n",
      "Epoch:  70%|███████   | 140/200 [01:04<00:27,  2.19it/s]\n",
      "EP_139 | train loss: 0.3079802442999447 | val loss: 0.2953727736192591 |\n",
      "Epoch:  70%|███████   | 141/200 [01:05<00:27,  2.17it/s]\n",
      "EP_140 | train loss: 0.3037507669598449 | val loss: 0.3015412559696272 |\n",
      "Epoch:  71%|███████   | 142/200 [01:05<00:26,  2.17it/s]\n",
      "EP_141 | train loss: 0.3102220413731594 | val loss: 0.29168277336101905 |\n",
      "Epoch:  72%|███████▏  | 143/200 [01:05<00:26,  2.16it/s]\n",
      "EP_142 | train loss: 0.299334527464474 | val loss: 0.2999510122280495 |\n",
      "Epoch:  72%|███████▏  | 144/200 [01:06<00:25,  2.18it/s]\n",
      "EP_143 | train loss: 0.29570422967274984 | val loss: 0.2941303895969017 |\n",
      "Epoch:  72%|███████▎  | 145/200 [01:06<00:25,  2.17it/s]\n",
      "EP_144 | train loss: 0.31354702033248605 | val loss: 0.29173718831118417 |\n",
      "Epoch:  73%|███████▎  | 146/200 [01:07<00:25,  2.15it/s]\n",
      "EP_145 | train loss: 0.29153353934194526 | val loss: 0.291023336204828 |\n",
      "Epoch:  74%|███████▎  | 147/200 [01:07<00:24,  2.17it/s]\n",
      "EP_146 | train loss: 0.2926613737555111 | val loss: 0.2812640608525744 |\n",
      "Epoch:  74%|███████▍  | 148/200 [01:08<00:23,  2.18it/s]\n",
      "EP_147 | train loss: 0.29102691949582565 | val loss: 0.280441984242084 |\n",
      "Epoch:  74%|███████▍  | 149/200 [01:08<00:23,  2.18it/s]\n",
      "EP_148 | train loss: 0.2874358088362451 | val loss: 0.2960379965165082 |\n",
      "Epoch:  75%|███████▌  | 150/200 [01:09<00:23,  2.17it/s]\n",
      "EP_149 | train loss: 0.28312003472272085 | val loss: 0.27461520947662055 |\n",
      "Epoch:  76%|███████▌  | 151/200 [01:09<00:23,  2.12it/s]\n",
      "EP_150 | train loss: 0.27809771416234036 | val loss: 0.27636468527363794 |\n",
      "Epoch:  76%|███████▌  | 152/200 [01:10<00:22,  2.13it/s]\n",
      "EP_151 | train loss: 0.2812257107566385 | val loss: 0.26974239886975754 |\n",
      "Epoch:  76%|███████▋  | 153/200 [01:10<00:21,  2.14it/s]\n",
      "EP_152 | train loss: 0.27299071620492377 | val loss: 0.2705910918759365 |\n",
      "Epoch:  77%|███████▋  | 154/200 [01:11<00:21,  2.13it/s]\n",
      "EP_153 | train loss: 0.269676144917806 | val loss: 0.27477885753500697 |\n",
      "Epoch:  78%|███████▊  | 155/200 [01:11<00:20,  2.15it/s]\n",
      "EP_154 | train loss: 0.2686866979972989 | val loss: 0.2633334608638988 |\n",
      "Epoch:  78%|███████▊  | 156/200 [01:12<00:20,  2.14it/s]\n",
      "EP_155 | train loss: 0.27044986463060566 | val loss: 0.26110340917811675 |\n",
      "Epoch:  78%|███████▊  | 157/200 [01:12<00:19,  2.16it/s]\n",
      "EP_156 | train loss: 0.2705938381307265 | val loss: 0.2596801449270809 |\n",
      "Epoch:  79%|███████▉  | 158/200 [01:12<00:19,  2.17it/s]\n",
      "EP_157 | train loss: 0.25734917837030746 | val loss: 0.2566695254223019 |\n",
      "Epoch:  80%|███████▉  | 159/200 [01:13<00:18,  2.17it/s]\n",
      "EP_158 | train loss: 0.2553343927159029 | val loss: 0.25057824043666616 |\n",
      "Epoch:  80%|████████  | 160/200 [01:13<00:18,  2.17it/s]\n",
      "EP_159 | train loss: 0.24959289373136034 | val loss: 0.25203201934403063 |\n",
      "Epoch:  80%|████████  | 161/200 [01:14<00:18,  2.13it/s]\n",
      "EP_160 | train loss: 0.2464558568655276 | val loss: 0.2501227680374594 |\n",
      "Epoch:  81%|████████  | 162/200 [01:14<00:17,  2.14it/s]\n",
      "EP_161 | train loss: 0.24291499222026153 | val loss: 0.2417268297251533 |\n",
      "Epoch:  82%|████████▏ | 163/200 [01:15<00:17,  2.15it/s]\n",
      "EP_162 | train loss: 0.23868964139152976 | val loss: 0.24164552256172778 |\n",
      "Epoch:  82%|████████▏ | 164/200 [01:15<00:16,  2.16it/s]\n",
      "EP_163 | train loss: 0.23445608288634057 | val loss: 0.23692373084086998 |\n",
      "Epoch:  82%|████████▎ | 165/200 [01:16<00:16,  2.16it/s]\n",
      "EP_164 | train loss: 0.23179147991479612 | val loss: 0.22924883634436363 |\n",
      "Epoch:  83%|████████▎ | 166/200 [01:16<00:15,  2.13it/s]\n",
      "EP_165 | train loss: 0.22673024944230621 | val loss: 0.2280898532446693 |\n",
      "Epoch:  84%|████████▎ | 167/200 [01:17<00:15,  2.15it/s]\n",
      "EP_166 | train loss: 0.2226942029653811 | val loss: 0.22301659922973782 |\n",
      "Epoch:  84%|████████▍ | 168/200 [01:17<00:14,  2.16it/s]\n",
      "EP_167 | train loss: 0.21758974065967635 | val loss: 0.21804573430734522 |\n",
      "Epoch:  84%|████████▍ | 169/200 [01:18<00:14,  2.17it/s]\n",
      "EP_168 | train loss: 0.2176918427149455 | val loss: 0.22446616198502334 |\n",
      "Epoch:  85%|████████▌ | 170/200 [01:18<00:13,  2.18it/s]\n",
      "EP_169 | train loss: 0.2085775571710923 | val loss: 0.21542404913434796 |\n",
      "Epoch:  86%|████████▌ | 171/200 [01:18<00:13,  2.16it/s]\n",
      "EP_170 | train loss: 0.2070061580807555 | val loss: 0.20284908659317913 |\n",
      "Epoch:  86%|████████▌ | 172/200 [01:19<00:12,  2.16it/s]\n",
      "EP_171 | train loss: 0.20038457618040198 | val loss: 0.203920139985926 |\n",
      "Epoch:  86%|████████▋ | 173/200 [01:19<00:12,  2.18it/s]\n",
      "EP_172 | train loss: 0.1950394770678352 | val loss: 0.19321690353692747 |\n",
      "Epoch:  87%|████████▋ | 174/200 [01:20<00:11,  2.17it/s]\n",
      "EP_173 | train loss: 0.2019047830619064 | val loss: 0.18977886672113456 |\n",
      "Epoch:  88%|████████▊ | 175/200 [01:20<00:11,  2.18it/s]\n",
      "EP_174 | train loss: 0.1876951816035252 | val loss: 0.18372391135084862 |\n",
      "Epoch:  88%|████████▊ | 176/200 [01:21<00:11,  2.11it/s]\n",
      "EP_175 | train loss: 0.20574058317670635 | val loss: 0.18588279684384665 |\n",
      "Epoch:  88%|████████▊ | 177/200 [01:21<00:10,  2.12it/s]\n",
      "EP_176 | train loss: 0.17655697990866268 | val loss: 0.1759212484546736 |\n",
      "Epoch:  89%|████████▉ | 178/200 [01:22<00:10,  2.14it/s]\n",
      "EP_177 | train loss: 0.18878178573122212 | val loss: 0.20143329220659592 |\n",
      "Epoch:  90%|████████▉ | 179/200 [01:22<00:09,  2.15it/s]\n",
      "EP_178 | train loss: 0.1683016435772765 | val loss: 0.16970353383643955 |\n",
      "Epoch:  90%|█████████ | 180/200 [01:23<00:09,  2.17it/s]\n",
      "EP_179 | train loss: 0.16710682990504247 | val loss: 0.1535582425547581 |\n",
      "Epoch:  90%|█████████ | 181/200 [01:23<00:08,  2.15it/s]\n",
      "EP_180 | train loss: 0.16113212856591916 | val loss: 0.1657205060416577 |\n",
      "Epoch:  91%|█████████ | 182/200 [01:24<00:08,  2.16it/s]\n",
      "EP_181 | train loss: 0.15296747427360685 | val loss: 0.14794385082581463 |\n",
      "Epoch:  92%|█████████▏| 183/200 [01:24<00:07,  2.16it/s]\n",
      "EP_182 | train loss: 0.16995868636112588 | val loss: 0.14669486938738355 |\n",
      "Epoch:  92%|█████████▏| 184/200 [01:25<00:07,  2.16it/s]\n",
      "EP_183 | train loss: 0.15452392522026512 | val loss: 0.13890980797655442 |\n",
      "Epoch:  92%|█████████▎| 185/200 [01:25<00:06,  2.17it/s]\n",
      "EP_184 | train loss: 0.1402623835731955 | val loss: 0.1295165717601776 |\n",
      "Epoch:  93%|█████████▎| 186/200 [01:25<00:06,  2.15it/s]\n",
      "EP_185 | train loss: 0.13674470980962117 | val loss: 0.13513453538511314 |\n",
      "Epoch:  94%|█████████▎| 187/200 [01:26<00:06,  2.15it/s]\n",
      "EP_186 | train loss: 0.14171439549502204 | val loss: 0.12609685256200678 |\n",
      "Epoch:  94%|█████████▍| 188/200 [01:26<00:05,  2.15it/s]\n",
      "EP_187 | train loss: 0.12756649010321675 | val loss: 0.12568056086699167 |\n",
      "Epoch:  94%|█████████▍| 189/200 [01:27<00:05,  2.15it/s]\n",
      "EP_188 | train loss: 0.12285183270772299 | val loss: 0.12292212393938326 |\n",
      "Epoch:  95%|█████████▌| 190/200 [01:27<00:04,  2.16it/s]\n",
      "EP_189 | train loss: 0.11566933463601504 | val loss: 0.10961711815759248 |\n",
      "Epoch:  96%|█████████▌| 191/200 [01:28<00:04,  2.13it/s]\n",
      "EP_190 | train loss: 0.11247468579049204 | val loss: 0.10496740539868672 |\n",
      "Epoch:  96%|█████████▌| 192/200 [01:28<00:03,  2.14it/s]\n",
      "EP_191 | train loss: 0.11027233296749639 | val loss: 0.09797346241333905 |\n",
      "Epoch:  96%|█████████▋| 193/200 [01:29<00:03,  2.14it/s]\n",
      "EP_192 | train loss: 0.13741317940693276 | val loss: 0.11525085685299892 |\n",
      "Epoch:  97%|█████████▋| 194/200 [01:29<00:02,  2.14it/s]\n",
      "EP_193 | train loss: 0.1246419023065006 | val loss: 0.12816105520024018 |\n",
      "Epoch:  98%|█████████▊| 195/200 [01:30<00:02,  2.14it/s]\n",
      "EP_194 | train loss: 0.0974889593965867 | val loss: 0.0925416359130074 |\n",
      "Epoch:  98%|█████████▊| 196/200 [01:30<00:01,  2.12it/s]\n",
      "EP_195 | train loss: 0.09213825090258729 | val loss: 0.08866992198369082 |\n",
      "Epoch:  98%|█████████▊| 197/200 [01:31<00:01,  2.13it/s]\n",
      "EP_196 | train loss: 0.08771533568700154 | val loss: 0.07998057834657968 |\n",
      "Epoch:  99%|█████████▉| 198/200 [01:31<00:00,  2.11it/s]\n",
      "EP_197 | train loss: 0.09582942303489236 | val loss: 0.0866572032956516 |\n",
      "Epoch: 100%|█████████▉| 199/200 [01:32<00:00,  2.12it/s]\n",
      "EP_198 | train loss: 0.10206620576334935 | val loss: 0.08758474565019794 |\n",
      "Epoch: 100%|██████████| 200/200 [01:32<00:00,  2.16it/s]\n",
      "EP_199 | train loss: 0.07799458421912847 | val loss: 0.07030389092716516 |\n",
      "\n"
     ]
    }
   ],
   "source": [
    "AttractiveTrainer.train()"
   ]
  },
  {
   "cell_type": "markdown",
   "metadata": {},
   "source": [
    "## Below is testing"
   ]
  },
  {
   "cell_type": "code",
   "execution_count": 6,
   "metadata": {},
   "outputs": [
    {
     "output_type": "execute_result",
     "data": {
      "text/plain": [
       "AttractiveNet(\n",
       "  (embedding): AttractiveEmbedding(\n",
       "    (token): TokenEmbedding(12699, 300, padding_idx=1)\n",
       "  )\n",
       "  (bigramcnn): Sequential(\n",
       "    (0): Conv1d(300, 300, kernel_size=(1,), stride=(1,), padding=(1,))\n",
       "    (1): Conv1d(300, 210, kernel_size=(2,), stride=(1,), padding=(1,))\n",
       "    (2): ReLU()\n",
       "    (3): Conv1d(210, 100, kernel_size=(2,), stride=(1,), padding=(1,))\n",
       "    (4): ReLU()\n",
       "    (5): Dropout(p=0.5, inplace=False)\n",
       "  )\n",
       "  (trigramcnn): Sequential(\n",
       "    (0): Conv1d(300, 300, kernel_size=(1,), stride=(1,), padding=(1,))\n",
       "    (1): Conv1d(300, 210, kernel_size=(3,), stride=(1,), padding=(1,))\n",
       "    (2): ReLU()\n",
       "    (3): Conv1d(210, 100, kernel_size=(3,), stride=(1,), padding=(1,))\n",
       "    (4): ReLU()\n",
       "    (5): Dropout(p=0.5, inplace=False)\n",
       "  )\n",
       "  (encoder_bigram): LSTM(100, 30, batch_first=True, dropout=0.5, bidirectional=True)\n",
       "  (encoder_trigram): LSTM(100, 30, batch_first=True, dropout=0.5, bidirectional=True)\n",
       "  (linear): Sequential(\n",
       "    (0): Linear(in_features=128, out_features=30, bias=True)\n",
       "    (1): ReLU()\n",
       "    (2): Linear(in_features=30, out_features=1, bias=True)\n",
       "  )\n",
       ")"
      ]
     },
     "metadata": {},
     "execution_count": 6
    }
   ],
   "source": [
    "from attractivenet import AttractiveNet\n",
    "\n",
    "PATH = './model/CNN_LSTM_20201109-135823/0.375659.100'\n",
    "\n",
    "load_model = AttractiveNet(config).to(AttractiveData.device)\n",
    "load_model.load_state_dict(torch.load(PATH))\n",
    "load_model.eval()"
   ]
  },
  {
   "cell_type": "code",
   "execution_count": 7,
   "metadata": {},
   "outputs": [],
   "source": [
    "def predict_attractive(sentence, category, phase):\n",
    "    indexed_sentence = [AttractiveData.TEXT.vocab.stoi[t] for t in sentence]\n",
    "    indexed_category = [AttractiveData.CATEGORIES_LABEL.vocab.stoi[category]]\n",
    "    tensor_sentence = torch.LongTensor(indexed_sentence).to(AttractiveData.device)\n",
    "    tensor_category = torch.LongTensor(indexed_category).to(AttractiveData.device)\n",
    "    tensor_sentence = tensor_sentence.unsqueeze(0)\n",
    "\n",
    "    prediction = load_model(tensor_sentence, tensor_category, phase=phase)\n",
    "\n",
    "    return prediction"
   ]
  },
  {
   "cell_type": "code",
   "execution_count": 8,
   "metadata": {
    "tags": []
   },
   "outputs": [],
   "source": [
    "# train mean = 3.15, test mean = 2.8\n",
    "predict_list = []\n",
    "with torch.no_grad():\n",
    "    for i, sentence in enumerate(AttractiveData.test_data):\n",
    "        prediction = predict_attractive(sentence.Headline, sentence.Category, 'test')\n",
    "        predict_list.append(prediction.item())\n",
    "        # predict_list.append(prediction.item())\n",
    "AttractiveData.df_test['Label'] = predict_list\n",
    "AttractiveData.df_test[['ID', 'Label']].to_csv(config['save_name'] + '.csv', index=False)"
   ]
  },
  {
   "cell_type": "markdown",
   "metadata": {},
   "source": [
    "## Below for statistics"
   ]
  },
  {
   "cell_type": "code",
   "execution_count": 9,
   "metadata": {},
   "outputs": [],
   "source": [
    "import statistics\n",
    "from sklearn.metrics import mean_squared_error"
   ]
  },
  {
   "cell_type": "code",
   "execution_count": 10,
   "metadata": {},
   "outputs": [],
   "source": [
    "# # train mean = 3.15, test mean = 2.8\n",
    "# train_list = []\n",
    "# for i, sentence in enumerate(AttractiveData.train_data):\n",
    "#     prediction = predict_attractive(sentence.Headline, sentence.Category, 'train')\n",
    "#     train_list.append(prediction.item())\n",
    "#     # train_list.append(prediction.item())\n",
    "# # print(train_list)\n",
    "# mean_squared_error(pd.read_csv('data/train.csv').sort_values(['ID']).Label.to_list(), train_list), statistics.mean(train_list), statistics.stdev(train_list)"
   ]
  },
  {
   "cell_type": "code",
   "execution_count": 11,
   "metadata": {},
   "outputs": [],
   "source": [
    "# train_list[0:5], pd.read_csv('data/train.csv').sort_values(['ID']).Label.to_list()[0:5]"
   ]
  },
  {
   "cell_type": "code",
   "execution_count": 12,
   "metadata": {},
   "outputs": [],
   "source": [
    "# a = AttractiveData.df_train['Label'].to_list()\n",
    "# statistics.mean(a), statistics.stdev(a)"
   ]
  },
  {
   "cell_type": "code",
   "execution_count": 13,
   "metadata": {},
   "outputs": [
    {
     "output_type": "execute_result",
     "data": {
      "text/plain": [
       "(2.8473720130416265, 0.3423016050531917)"
      ]
     },
     "metadata": {},
     "execution_count": 13
    }
   ],
   "source": [
    "statistics.mean(predict_list), statistics.stdev(predict_list)"
   ]
  },
  {
   "cell_type": "code",
   "execution_count": 14,
   "metadata": {},
   "outputs": [
    {
     "output_type": "execute_result",
     "data": {
      "text/plain": [
       "(0.015055576851811225, 2.7876357276009043, 0.3643672504501976)"
      ]
     },
     "metadata": {},
     "execution_count": 14
    }
   ],
   "source": [
    "baseline_list = pd.read_csv('baseline.csv').sort_values(['ID']).Label.to_list()\n",
    "mean_squared_error(baseline_list, predict_list), statistics.mean(baseline_list), statistics.stdev(baseline_list)"
   ]
  },
  {
   "cell_type": "code",
   "execution_count": null,
   "metadata": {},
   "outputs": [],
   "source": []
  },
  {
   "cell_type": "code",
   "execution_count": 15,
   "metadata": {},
   "outputs": [
    {
     "output_type": "execute_result",
     "data": {
      "text/plain": [
       "4.055494478172638e-05"
      ]
     },
     "metadata": {},
     "execution_count": 15
    }
   ],
   "source": [
    "mean_squared_error(pd.read_csv('baseline.csv').sort_values(['ID']).Label.to_list(), pd.read_csv('./CNN_LSTM.csv').sort_values(['ID']).Label.to_list())"
   ]
  },
  {
   "cell_type": "code",
   "execution_count": 13,
   "metadata": {},
   "outputs": [],
   "source": []
  },
  {
   "cell_type": "code",
   "execution_count": null,
   "metadata": {},
   "outputs": [],
   "source": []
  }
 ],
 "metadata": {
  "kernelspec": {
   "display_name": "DS_hw2",
   "language": "python",
   "name": "ds_hw2"
  },
  "language_info": {
   "codemirror_mode": {
    "name": "ipython",
    "version": 3
   },
   "file_extension": ".py",
   "mimetype": "text/x-python",
   "name": "python",
   "nbconvert_exporter": "python",
   "pygments_lexer": "ipython3",
   "version": "3.6.12-final"
  }
 },
 "nbformat": 4,
 "nbformat_minor": 4
}