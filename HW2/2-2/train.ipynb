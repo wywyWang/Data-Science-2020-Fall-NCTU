{
 "metadata": {
  "language_info": {
   "codemirror_mode": {
    "name": "ipython",
    "version": 3
   },
   "file_extension": ".py",
   "mimetype": "text/x-python",
   "name": "python",
   "nbconvert_exporter": "python",
   "pygments_lexer": "ipython3",
   "version": "3.6.12-final"
  },
  "orig_nbformat": 2,
  "kernelspec": {
   "name": "Python 3.6.12 64-bit ('DS_hw2': conda)",
   "display_name": "Python 3.6.12 64-bit ('DS_hw2': conda)",
   "metadata": {
    "interpreter": {
     "hash": "de6ec751e8d816810380d8c8f13d270f86a313990c5d5930d253da012ff5e7fc"
    }
   }
  }
 },
 "nbformat": 4,
 "nbformat_minor": 2,
 "cells": [
  {
   "cell_type": "code",
   "execution_count": 1,
   "metadata": {},
   "outputs": [],
   "source": [
    "# common packages\n",
    "import pandas as pd\n",
    "import time\n",
    "\n",
    "# # DL framework\n",
    "import torch\n",
    "from torchtext import data\n",
    "\n",
    "from attractivedata import AttractiveData\n",
    "from trainer import AttractiveTrainer"
   ]
  },
  {
   "source": [
    "## Load and prepare data"
   ],
   "cell_type": "markdown",
   "metadata": {}
  },
  {
   "cell_type": "code",
   "execution_count": 2,
   "metadata": {},
   "outputs": [],
   "source": [
    "train_file = 'data/train.csv'\n",
    "test_file = 'data/test.csv'\n",
    "pretrained_file = 'glove.42B.300d'\n",
    "config = {\n",
    "    'max_size': 64,\n",
    "    'min_freq': 5,\n",
    "    'batch_size': 64\n",
    "}\n"
   ]
  },
  {
   "cell_type": "code",
   "execution_count": 3,
   "metadata": {},
   "outputs": [],
   "source": [
    "AttractiveData = AttractiveData(train_file, test_file, pretrained_file, config)"
   ]
  },
  {
   "cell_type": "code",
   "execution_count": 4,
   "metadata": {},
   "outputs": [
    {
     "output_type": "stream",
     "name": "stdout",
     "text": [
      "{'Headline': ['Sorry', ',', 'i', 'spent', 'it', 'on', 'myself', '!', 'Harvey', 'Nichols', \"'\", 'hilarious', 'Christmas', 'advert', 'sees', 'people', 'treating', 'themselves', 'instead', 'of', 'others'], 'Category': 'femail', 'Label': '3.333333333333333'} {'Headline': ['Three', 'police', 'officers', 'accused', 'of', 'stealing', '?', '?', '30k', 'during', 'raid', 'on', 'criminal'], 'Category': 'news'}\n"
     ]
    }
   ],
   "source": [
    "for i, sentence in enumerate(AttractiveData.test_data):\n",
    "    if i == 3:\n",
    "        print(vars(AttractiveData.train_data[i]), vars(sentence))"
   ]
  },
  {
   "cell_type": "code",
   "execution_count": 5,
   "metadata": {},
   "outputs": [
    {
     "output_type": "execute_result",
     "data": {
      "text/plain": [
       "18"
      ]
     },
     "metadata": {},
     "execution_count": 5
    }
   ],
   "source": [
    "len(AttractiveData.CATEGORIES_LABEL.vocab.freqs)"
   ]
  },
  {
   "cell_type": "code",
   "execution_count": 6,
   "metadata": {},
   "outputs": [
    {
     "output_type": "execute_result",
     "data": {
      "text/plain": [
       "31"
      ]
     },
     "metadata": {},
     "execution_count": 6
    }
   ],
   "source": [
    "max_len = 0\n",
    "for i in range(i):\n",
    "    if len(AttractiveData.test_data[i].Headline) >= max_len:\n",
    "        max_len = len(AttractiveData.test_data[i].Headline)\n",
    "max_len"
   ]
  },
  {
   "source": [
    "## Start to train"
   ],
   "cell_type": "markdown",
   "metadata": {}
  },
  {
   "cell_type": "code",
   "execution_count": 7,
   "metadata": {},
   "outputs": [
    {
     "output_type": "stream",
     "name": "stdout",
     "text": [
      "torch.Size([1518, 300])\n"
     ]
    }
   ],
   "source": [
    "num_workers = 10\n",
    "\n",
    "config['timestr'] = time.strftime(\"%Y%m%d-%H%M%S\")\n",
    "config['save_name'] = 'LSTM'\n",
    "config['input_dim'] = len(AttractiveData.TEXT.vocab)\n",
    "config['embedding_dim'] = 300\n",
    "config['category_dim'] = len(AttractiveData.CATEGORIES_LABEL.vocab)\n",
    "config['category_embedding_dim'] = 16\n",
    "config['hidden_dim'] = 100\n",
    "config['output_dim'] = 1\n",
    "config['log_steps'] = 10\n",
    "config['epochs'] = 100\n",
    "config['lr'] = {\n",
    "    'encoder': 1e-4,\n",
    "    'embedding': 1e-5,\n",
    "    'linear': 1e-4\n",
    "}\n",
    "config['num_layers'] = 2\n",
    "config['nhead'] = 4\n",
    "config['dropout'] = 0.1\n",
    "\n",
    "pretrained_embeddings = AttractiveData.TEXT.vocab.vectors\n",
    "print(pretrained_embeddings.shape)"
   ]
  },
  {
   "cell_type": "code",
   "execution_count": 8,
   "metadata": {},
   "outputs": [],
   "source": [
    "# max(AttractiveData.df_train.Headline.str.len()), max(AttractiveData.df_test.Headline.str.len())"
   ]
  },
  {
   "cell_type": "code",
   "execution_count": 9,
   "metadata": {},
   "outputs": [],
   "source": [
    "AttractiveTrainer = AttractiveTrainer(config, AttractiveData.device, AttractiveData.trainloader, pretrained_embeddings)"
   ]
  },
  {
   "cell_type": "code",
   "execution_count": 10,
   "metadata": {},
   "outputs": [
    {
     "output_type": "execute_result",
     "data": {
      "text/plain": [
       "(AttractiveNet(\n",
       "   (embedding): AttractiveEmbedding(\n",
       "     (token): TokenEmbedding(1518, 300, padding_idx=1)\n",
       "     (position): PositionalEmbedding()\n",
       "     (dropout): Dropout(p=0.1, inplace=False)\n",
       "   )\n",
       "   (category_embedding): CategoryEmbedding(18, 16, padding_idx=0)\n",
       "   (encoder): LSTM(300, 100, num_layers=2, dropout=0.1, bidirectional=True)\n",
       "   (linear_output): Linear(in_features=216, out_features=1, bias=True)\n",
       " ),\n",
       " 1019105,\n",
       " 563705)"
      ]
     },
     "metadata": {},
     "execution_count": 10
    }
   ],
   "source": [
    "AttractiveTrainer.model, AttractiveTrainer.total_params, AttractiveTrainer.total_learned_params"
   ]
  },
  {
   "cell_type": "code",
   "execution_count": 11,
   "metadata": {
    "tags": []
   },
   "outputs": [
    {
     "output_type": "stream",
     "name": "stderr",
     "text": [
      "Epoch:   1%|          | 1/100 [00:00<00:58,  1.69it/s]\n",
      "EP_train | avg_loss: 3.704683393239975 |\n",
      "Epoch:   2%|▏         | 2/100 [00:01<00:55,  1.75it/s]\n",
      "EP_train | avg_loss: 0.568361853249371 |\n",
      "Epoch:   3%|▎         | 3/100 [00:01<00:54,  1.78it/s]\n",
      "EP_train | avg_loss: 0.5539889074862003 |\n",
      "Epoch:   4%|▍         | 4/100 [00:02<00:52,  1.82it/s]\n",
      "EP_train | avg_loss: 0.554959224537015 |\n",
      "Epoch:   5%|▌         | 5/100 [00:02<00:51,  1.84it/s]\n",
      "EP_train | avg_loss: 0.5552046671509743 |\n",
      "Epoch:   6%|▌         | 6/100 [00:03<00:50,  1.85it/s]\n",
      "EP_train | avg_loss: 0.5536021552979946 |\n",
      "Epoch:   7%|▋         | 7/100 [00:03<00:49,  1.87it/s]\n",
      "EP_train | avg_loss: 0.5534665612503886 |\n",
      "Epoch:   8%|▊         | 8/100 [00:04<00:48,  1.88it/s]\n",
      "EP_train | avg_loss: 0.5551552698016167 |\n",
      "Epoch:   9%|▉         | 9/100 [00:04<00:48,  1.89it/s]\n",
      "EP_train | avg_loss: 0.5528971636667848 |\n",
      "Epoch:  10%|█         | 10/100 [00:05<00:47,  1.89it/s]\n",
      "EP_train | avg_loss: 0.553619222715497 |\n",
      "Epoch:  11%|█         | 11/100 [00:05<00:46,  1.90it/s]\n",
      "EP_train | avg_loss: 0.5533409314230084 |\n",
      "Epoch:  12%|█▏        | 12/100 [00:06<00:46,  1.91it/s]\n",
      "EP_train | avg_loss: 0.5537752117961645 |\n",
      "Epoch:  13%|█▎        | 13/100 [00:06<00:45,  1.91it/s]\n",
      "EP_train | avg_loss: 0.5543511649593711 |\n",
      "Epoch:  14%|█▍        | 14/100 [00:07<00:45,  1.91it/s]\n",
      "EP_train | avg_loss: 0.5517598539590836 |\n",
      "Epoch:  15%|█▌        | 15/100 [00:07<00:44,  1.91it/s]\n",
      "EP_train | avg_loss: 0.5562713015824556 |\n",
      "Epoch:  16%|█▌        | 16/100 [00:08<00:44,  1.91it/s]\n",
      "EP_train | avg_loss: 0.5524697685614228 |\n",
      "Epoch:  17%|█▋        | 17/100 [00:08<00:43,  1.91it/s]\n",
      "EP_train | avg_loss: 0.5530913071706891 |\n",
      "Epoch:  18%|█▊        | 18/100 [00:09<00:43,  1.90it/s]\n",
      "EP_train | avg_loss: 0.5537436418235302 |\n",
      "Epoch:  19%|█▉        | 19/100 [00:10<00:42,  1.90it/s]\n",
      "EP_train | avg_loss: 0.5543675851076841 |\n",
      "Epoch:  20%|██        | 20/100 [00:10<00:42,  1.90it/s]\n",
      "EP_train | avg_loss: 0.5523842927068472 |\n",
      "Epoch:  21%|██        | 21/100 [00:11<00:41,  1.90it/s]\n",
      "EP_train | avg_loss: 0.552207819186151 |\n",
      "Epoch:  22%|██▏       | 22/100 [00:11<00:40,  1.91it/s]\n",
      "EP_train | avg_loss: 0.5536578102037311 |\n",
      "Epoch:  23%|██▎       | 23/100 [00:12<00:40,  1.91it/s]\n",
      "EP_train | avg_loss: 0.5514605650678277 |\n",
      "Epoch:  24%|██▍       | 24/100 [00:12<00:40,  1.90it/s]\n",
      "EP_train | avg_loss: 0.5517827216535807 |\n",
      "Epoch:  25%|██▌       | 25/100 [00:13<00:39,  1.90it/s]\n",
      "EP_train | avg_loss: 0.5523257162421942 |\n",
      "Epoch:  26%|██▌       | 26/100 [00:13<00:38,  1.90it/s]\n",
      "EP_train | avg_loss: 0.5498544797301292 |\n",
      "Epoch:  27%|██▋       | 27/100 [00:14<00:38,  1.90it/s]\n",
      "EP_train | avg_loss: 0.5527378180995584 |\n",
      "Epoch:  28%|██▊       | 28/100 [00:14<00:37,  1.90it/s]\n",
      "EP_train | avg_loss: 0.5524075664579868 |\n",
      "Epoch:  29%|██▉       | 29/100 [00:15<00:37,  1.91it/s]\n",
      "EP_train | avg_loss: 0.5552600966766477 |\n",
      "Epoch:  30%|███       | 30/100 [00:15<00:36,  1.91it/s]\n",
      "EP_train | avg_loss: 0.5514822388067842 |\n",
      "Epoch:  31%|███       | 31/100 [00:16<00:36,  1.91it/s]\n",
      "EP_train | avg_loss: 0.5507149156183004 |\n",
      "Epoch:  32%|███▏      | 32/100 [00:16<00:35,  1.90it/s]\n",
      "EP_train | avg_loss: 0.5505917025730014 |\n",
      "Epoch:  33%|███▎      | 33/100 [00:17<00:35,  1.90it/s]\n",
      "EP_train | avg_loss: 0.5493844468146563 |\n",
      "Epoch:  34%|███▍      | 34/100 [00:17<00:34,  1.90it/s]\n",
      "EP_train | avg_loss: 0.5500806346535683 |\n",
      "Epoch:  35%|███▌      | 35/100 [00:18<00:34,  1.89it/s]\n",
      "EP_train | avg_loss: 0.5552070327103138 |\n",
      "Epoch:  36%|███▌      | 36/100 [00:19<00:34,  1.86it/s]\n",
      "EP_train | avg_loss: 0.5485445903614163 |\n",
      "Epoch:  37%|███▋      | 37/100 [00:19<00:33,  1.88it/s]\n",
      "EP_train | avg_loss: 0.549577278085053 |\n",
      "Epoch:  38%|███▊      | 38/100 [00:20<00:33,  1.86it/s]\n",
      "EP_train | avg_loss: 0.549035681411624 |\n",
      "Epoch:  39%|███▉      | 39/100 [00:20<00:32,  1.86it/s]\n",
      "EP_train | avg_loss: 0.5495396172627807 |\n",
      "Epoch:  40%|████      | 40/100 [00:21<00:32,  1.86it/s]\n",
      "EP_train | avg_loss: 0.5546549363061786 |\n",
      "Epoch:  41%|████      | 41/100 [00:21<00:31,  1.87it/s]\n",
      "EP_train | avg_loss: 0.5518740182742476 |\n",
      "Epoch:  42%|████▏     | 42/100 [00:22<00:30,  1.88it/s]\n",
      "EP_train | avg_loss: 0.5490779457613826 |\n",
      "Epoch:  43%|████▎     | 43/100 [00:22<00:30,  1.87it/s]\n",
      "EP_train | avg_loss: 0.5504313604906201 |\n",
      "Epoch:  44%|████▍     | 44/100 [00:23<00:29,  1.88it/s]\n",
      "EP_train | avg_loss: 0.5502362949773669 |\n",
      "Epoch:  45%|████▌     | 45/100 [00:23<00:29,  1.88it/s]\n",
      "EP_train | avg_loss: 0.5490922695025802 |\n",
      "Epoch:  46%|████▌     | 46/100 [00:24<00:29,  1.84it/s]\n",
      "EP_train | avg_loss: 0.5482725007459521 |\n",
      "Epoch:  47%|████▋     | 47/100 [00:24<00:28,  1.85it/s]\n",
      "EP_train | avg_loss: 0.5492072151973844 |\n",
      "Epoch:  48%|████▊     | 48/100 [00:25<00:27,  1.86it/s]\n",
      "EP_train | avg_loss: 0.5486772833392024 |\n",
      "Epoch:  49%|████▉     | 49/100 [00:25<00:27,  1.87it/s]\n",
      "EP_train | avg_loss: 0.5481397528201342 |\n",
      "Epoch:  50%|█████     | 50/100 [00:26<00:27,  1.85it/s]\n",
      "EP_train | avg_loss: 0.5539400894194841 |\n",
      "Epoch:  51%|█████     | 51/100 [00:27<00:26,  1.86it/s]\n",
      "EP_train | avg_loss: 0.5475713638588786 |\n",
      "Epoch:  52%|█████▏    | 52/100 [00:27<00:25,  1.87it/s]\n",
      "EP_train | avg_loss: 0.5465870387852192 |\n",
      "Epoch:  53%|█████▎    | 53/100 [00:28<00:25,  1.86it/s]\n",
      "EP_train | avg_loss: 0.5472538927569985 |\n",
      "Epoch:  54%|█████▍    | 54/100 [00:28<00:24,  1.86it/s]\n",
      "EP_train | avg_loss: 0.5488189263269305 |\n",
      "Epoch:  55%|█████▌    | 55/100 [00:29<00:24,  1.83it/s]\n",
      "EP_train | avg_loss: 0.5503622870892286 |\n",
      "Epoch:  56%|█████▌    | 56/100 [00:29<00:24,  1.82it/s]\n",
      "EP_train | avg_loss: 0.5464790286496282 |\n",
      "Epoch:  57%|█████▋    | 57/100 [00:30<00:23,  1.84it/s]\n",
      "EP_train | avg_loss: 0.5470754457637668 |\n",
      "Epoch:  58%|█████▊    | 58/100 [00:30<00:22,  1.85it/s]\n",
      "EP_train | avg_loss: 0.5470052259042859 |\n",
      "Epoch:  59%|█████▉    | 59/100 [00:31<00:22,  1.85it/s]\n",
      "EP_train | avg_loss: 0.5470453044399619 |\n",
      "Epoch:  60%|██████    | 60/100 [00:31<00:21,  1.84it/s]\n",
      "EP_train | avg_loss: 0.5453358357772231 |\n",
      "Epoch:  61%|██████    | 61/100 [00:32<00:21,  1.83it/s]\n",
      "EP_train | avg_loss: 0.5455819005146623 |\n",
      "Epoch:  62%|██████▏   | 62/100 [00:33<00:20,  1.85it/s]\n",
      "EP_train | avg_loss: 0.5497529311105609 |\n",
      "Epoch:  63%|██████▎   | 63/100 [00:33<00:19,  1.86it/s]\n",
      "EP_train | avg_loss: 0.5453280340880156 |\n",
      "Epoch:  64%|██████▍   | 64/100 [00:34<00:19,  1.83it/s]\n",
      "EP_train | avg_loss: 0.5448507620021701 |\n",
      "Epoch:  65%|██████▌   | 65/100 [00:34<00:19,  1.81it/s]\n",
      "EP_train | avg_loss: 0.5464184060692787 |\n",
      "Epoch:  66%|██████▌   | 66/100 [00:35<00:18,  1.83it/s]\n",
      "EP_train | avg_loss: 0.5449061505496502 |\n",
      "Epoch:  67%|██████▋   | 67/100 [00:35<00:17,  1.86it/s]\n",
      "EP_train | avg_loss: 0.5465064942836761 |\n",
      "Epoch:  68%|██████▊   | 68/100 [00:36<00:17,  1.84it/s]\n",
      "EP_train | avg_loss: 0.5441017104312778 |\n",
      "Epoch:  69%|██████▉   | 69/100 [00:36<00:16,  1.88it/s]\n",
      "EP_train | avg_loss: 0.5454276632517576 |\n",
      "Epoch:  70%|███████   | 70/100 [00:37<00:15,  1.88it/s]\n",
      "EP_train | avg_loss: 0.5445133578032255 |\n",
      "Epoch:  71%|███████   | 71/100 [00:37<00:15,  1.91it/s]\n",
      "EP_train | avg_loss: 0.5448282137513161 |\n",
      "Epoch:  72%|███████▏  | 72/100 [00:38<00:14,  1.91it/s]\n",
      "EP_train | avg_loss: 0.5452220616862178 |\n",
      "Epoch:  73%|███████▎  | 73/100 [00:38<00:13,  1.93it/s]\n",
      "EP_train | avg_loss: 0.5444660969078541 |\n",
      "Epoch:  74%|███████▍  | 74/100 [00:39<00:13,  1.94it/s]\n",
      "EP_train | avg_loss: 0.5494043761864305 |\n",
      "Epoch:  75%|███████▌  | 75/100 [00:39<00:12,  1.95it/s]\n",
      "EP_train | avg_loss: 0.5604840815067291 |\n",
      "Epoch:  76%|███████▌  | 76/100 [00:40<00:12,  1.95it/s]\n",
      "EP_train | avg_loss: 0.5455744182690978 |\n",
      "Epoch:  77%|███████▋  | 77/100 [00:40<00:11,  1.95it/s]\n",
      "EP_train | avg_loss: 0.5445500304922462 |\n",
      "Epoch:  78%|███████▊  | 78/100 [00:41<00:11,  1.92it/s]\n",
      "EP_train | avg_loss: 0.5441388320177794 |\n",
      "Epoch:  79%|███████▉  | 79/100 [00:41<00:10,  1.91it/s]\n",
      "EP_train | avg_loss: 0.5434941500425339 |\n",
      "Epoch:  80%|████████  | 80/100 [00:42<00:10,  1.92it/s]\n",
      "EP_train | avg_loss: 0.5476628076285124 |\n",
      "Epoch:  81%|████████  | 81/100 [00:43<00:10,  1.90it/s]\n",
      "EP_train | avg_loss: 0.5474618580192327 |\n",
      "Epoch:  82%|████████▏ | 82/100 [00:43<00:09,  1.90it/s]\n",
      "EP_train | avg_loss: 0.5423973370343447 |\n",
      "Epoch:  83%|████████▎ | 83/100 [00:44<00:08,  1.91it/s]\n",
      "EP_train | avg_loss: 0.5430144285783172 |\n",
      "Epoch:  84%|████████▍ | 84/100 [00:44<00:08,  1.92it/s]\n",
      "EP_train | avg_loss: 0.5455296617001295 |\n",
      "Epoch:  85%|████████▌ | 85/100 [00:45<00:07,  1.93it/s]\n",
      "EP_train | avg_loss: 0.5437450911849737 |\n",
      "Epoch:  86%|████████▌ | 86/100 [00:45<00:07,  1.94it/s]\n",
      "EP_train | avg_loss: 0.5421902444213629 |\n",
      "Epoch:  87%|████████▋ | 87/100 [00:46<00:06,  1.89it/s]\n",
      "EP_train | avg_loss: 0.5425790827721357 |\n",
      "Epoch:  88%|████████▊ | 88/100 [00:46<00:06,  1.92it/s]\n",
      "EP_train | avg_loss: 0.5426920177415013 |\n",
      "Epoch:  89%|████████▉ | 89/100 [00:47<00:05,  1.93it/s]\n",
      "EP_train | avg_loss: 0.5444033369421959 |\n",
      "Epoch:  90%|█████████ | 90/100 [00:47<00:05,  1.94it/s]\n",
      "EP_train | avg_loss: 0.5422715181484818 |\n",
      "Epoch:  91%|█████████ | 91/100 [00:48<00:04,  1.94it/s]\n",
      "EP_train | avg_loss: 0.5459477696567774 |\n",
      "Epoch:  92%|█████████▏| 92/100 [00:48<00:04,  1.94it/s]\n",
      "EP_train | avg_loss: 0.5421012360602617 |\n",
      "Epoch:  93%|█████████▎| 93/100 [00:49<00:03,  1.96it/s]\n",
      "EP_train | avg_loss: 0.5461004255339503 |\n",
      "Epoch:  94%|█████████▍| 94/100 [00:49<00:03,  1.92it/s]\n",
      "EP_train | avg_loss: 0.5434278417378664 |\n",
      "Epoch:  95%|█████████▌| 95/100 [00:50<00:02,  1.90it/s]\n",
      "EP_train | avg_loss: 0.5430694408714771 |\n",
      "Epoch:  96%|█████████▌| 96/100 [00:50<00:02,  1.89it/s]\n",
      "EP_train | avg_loss: 0.5425096694380045 |\n",
      "Epoch:  97%|█████████▋| 97/100 [00:51<00:01,  1.88it/s]\n",
      "EP_train | avg_loss: 0.5424289125949144 |\n",
      "Epoch:  98%|█████████▊| 98/100 [00:51<00:01,  1.88it/s]\n",
      "EP_train | avg_loss: 0.541554874740541 |\n",
      "Epoch:  99%|█████████▉| 99/100 [00:52<00:00,  1.88it/s]\n",
      "EP_train | avg_loss: 0.5442292727530003 |\n",
      "Epoch: 100%|██████████| 100/100 [00:52<00:00,  1.89it/s]\n",
      "EP_train | avg_loss: 0.541085415519774 |\n",
      "\n"
     ]
    }
   ],
   "source": [
    "AttractiveTrainer.train()"
   ]
  },
  {
   "source": [
    "## for classification, not better"
   ],
   "cell_type": "markdown",
   "metadata": {}
  },
  {
   "cell_type": "code",
   "execution_count": 14,
   "metadata": {
    "tags": []
   },
   "outputs": [
    {
     "output_type": "execute_result",
     "data": {
      "text/plain": [
       "0.5601443355119825"
      ]
     },
     "metadata": {},
     "execution_count": 14
    }
   ],
   "source": [
    "# from sklearn.metrics import mean_squared_error\n",
    "# a = AttractiveTrainer.train_predict\n",
    "# AttractiveData.LABEL.vocab.itos[int(a[0])], AttractiveTrainer.train_true[0]\n",
    "# correct = 0\n",
    "# pred_list = []\n",
    "# true_list = []\n",
    "# for i in range(len(a)):\n",
    "#     pred = AttractiveData.LABEL.vocab.itos[int(a[i])]\n",
    "#     pred_list.append(float(pred))\n",
    "#     true = AttractiveData.LABEL.vocab.itos[int(AttractiveTrainer.train_true[i])]\n",
    "#     true_list.append(float(true))\n",
    "# mean_squared_error(true_list, pred_list)\n",
    "# # true_list"
   ]
  },
  {
   "source": [
    "## Below is testing"
   ],
   "cell_type": "markdown",
   "metadata": {}
  },
  {
   "cell_type": "code",
   "execution_count": 13,
   "metadata": {},
   "outputs": [
    {
     "output_type": "execute_result",
     "data": {
      "text/plain": [
       "AttractiveNet(\n",
       "  (embedding): AttractiveEmbedding(\n",
       "    (token): TokenEmbedding(1518, 300, padding_idx=1)\n",
       "    (position): PositionalEmbedding()\n",
       "    (dropout): Dropout(p=0.1, inplace=False)\n",
       "  )\n",
       "  (category_embedding): CategoryEmbedding(18, 16, padding_idx=0)\n",
       "  (encoder): LSTM(300, 64, num_layers=2, dropout=0.1, bidirectional=True)\n",
       "  (linear_output): Linear(in_features=144, out_features=1, bias=True)\n",
       ")"
      ]
     },
     "metadata": {},
     "execution_count": 13
    }
   ],
   "source": [
    "from transformermodel import TransformerModel\n",
    "from attractivenet import AttractiveNet\n",
    "PATH = './model/LSTM_20201030-214944_0.5417.100'\n",
    "# load_model = TransformerModel(config).to(AttractiveData.device)\n",
    "load_model = AttractiveNet(config).to(AttractiveData.device)\n",
    "load_model.load_state_dict(torch.load(PATH))\n",
    "load_model.eval()"
   ]
  },
  {
   "cell_type": "code",
   "execution_count": 14,
   "metadata": {},
   "outputs": [],
   "source": [
    "def predict_attractive(sentence, category):\n",
    "    indexed_sentence = [AttractiveData.TEXT.vocab.stoi[t] for t in sentence]\n",
    "    indexed_category = [AttractiveData.CATEGORIES_LABEL.vocab.stoi[category]]\n",
    "    tensor_sentence = torch.LongTensor(indexed_sentence).to(AttractiveData.device)\n",
    "    tensor_category = torch.LongTensor(indexed_category).to(AttractiveData.device)\n",
    "\n",
    "    tensor_sentence = tensor_sentence.unsqueeze(1)\n",
    "    tensor_category = tensor_category\n",
    "\n",
    "    prediction = load_model(tensor_sentence, tensor_category)\n",
    "    \n",
    "    return prediction"
   ]
  },
  {
   "cell_type": "code",
   "execution_count": 15,
   "metadata": {
    "tags": []
   },
   "outputs": [],
   "source": [
    "# train mean = 3.2, test mean = 2.8\n",
    "predict_list = []\n",
    "for i, sentence in enumerate(AttractiveData.test_data):\n",
    "    prediction = predict_attractive(sentence.Headline, sentence.Category)\n",
    "    # predict_list.append(prediction.item() - 3.2 + 2.8)\n",
    "    predict_list.append(prediction.item())\n",
    "AttractiveData.df_test['Label'] = predict_list\n",
    "AttractiveData.df_test[['ID', 'Label']].to_csv(config['save_name'] + '.csv', index=False)"
   ]
  },
  {
   "cell_type": "code",
   "execution_count": 16,
   "metadata": {},
   "outputs": [],
   "source": [
    "# train_category = list(AttractiveData.CATEGORIES_LABEL.vocab.freqs)\n",
    "# test_category = list(AttractiveData.df_test['Category'].value_counts().keys())\n",
    "# for each_test in test_category:\n",
    "#     if each_test not in train_category:\n",
    "#         print(each_test)\n",
    "# print()\n",
    "# for each_train in train_category:\n",
    "#     if each_train not in test_category:\n",
    "#         print(each_train)"
   ]
  },
  {
   "source": [
    "## Below just for fun guess"
   ],
   "cell_type": "markdown",
   "metadata": {}
  },
  {
   "cell_type": "code",
   "execution_count": 17,
   "metadata": {},
   "outputs": [],
   "source": [
    "import statistics\n",
    "from sklearn.metrics import mean_squared_error"
   ]
  },
  {
   "cell_type": "code",
   "execution_count": 18,
   "metadata": {},
   "outputs": [
    {
     "output_type": "execute_result",
     "data": {
      "text/plain": [
       "(3.150408496732026, 0.729501519321601)"
      ]
     },
     "metadata": {},
     "execution_count": 18
    }
   ],
   "source": [
    "a = AttractiveData.df_train['Label'].to_list()\n",
    "statistics.mean(a), statistics.stdev(a)"
   ]
  },
  {
   "cell_type": "code",
   "execution_count": 19,
   "metadata": {},
   "outputs": [
    {
     "output_type": "execute_result",
     "data": {
      "text/plain": [
       "(2.8167915543795683, 0.14611407210842048)"
      ]
     },
     "metadata": {},
     "execution_count": 19
    }
   ],
   "source": [
    "statistics.mean(predict_list), statistics.stdev(predict_list)"
   ]
  },
  {
   "cell_type": "code",
   "execution_count": 21,
   "metadata": {},
   "outputs": [
    {
     "output_type": "execute_result",
     "data": {
      "text/plain": [
       "0.021537228489634703"
      ]
     },
     "metadata": {},
     "execution_count": 21
    }
   ],
   "source": [
    "all_28 = [2.8] * len(predict_list)\n",
    "mean_squared_error(all_28, predict_list)"
   ]
  },
  {
   "cell_type": "code",
   "execution_count": null,
   "metadata": {},
   "outputs": [],
   "source": []
  }
 ]
}