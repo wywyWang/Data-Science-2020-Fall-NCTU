{
 "cells": [
  {
   "cell_type": "code",
   "execution_count": 1,
   "metadata": {},
   "outputs": [],
   "source": [
    "# common packages\n",
    "import pandas as pd\n",
    "import time\n",
    "\n",
    "# # DL framework\n",
    "import torch\n",
    "from torchtext import data\n",
    "\n",
    "from attractivedata import AttractiveData\n",
    "from trainer import AttractiveTrainer"
   ]
  },
  {
   "source": [
    "# TODO: \n",
    "- [ ] try to use only second layer's hidden state\n",
    "- [ ] word embedding multiply tfidf\n",
    "- [ ] use word2vec\n",
    "- [ ] dropout to 0.4 and use adam to speedup, add dropout after cnn-relu"
   ],
   "cell_type": "markdown",
   "metadata": {}
  },
  {
   "cell_type": "markdown",
   "metadata": {},
   "source": [
    "## Load and prepare data"
   ]
  },
  {
   "cell_type": "code",
   "execution_count": 2,
   "metadata": {},
   "outputs": [],
   "source": [
    "train_file = 'data/train.csv'\n",
    "val_file = 'example/val.csv'\n",
    "test_file = 'data/test.csv'\n",
    "pretrained_file = 'glove.840B.300d'\n",
    "config = {\n",
    "    'max_seq': 40,\n",
    "    'min_freq': 0,\n",
    "    'batch_size': 64,\n",
    "    'pretrained_file': pretrained_file\n",
    "}\n"
   ]
  },
  {
   "cell_type": "code",
   "execution_count": 3,
   "metadata": {},
   "outputs": [],
   "source": [
    "AttractiveData = AttractiveData(train_file, val_file, test_file, pretrained_file, config)"
   ]
  },
  {
   "cell_type": "code",
   "execution_count": 4,
   "metadata": {},
   "outputs": [],
   "source": [
    "# for i, sentence in enumerate(AttractiveData.test_data):\n",
    "#     if i == 3:\n",
    "#         print(vars(AttractiveData.train_data[i]), vars(sentence))"
   ]
  },
  {
   "cell_type": "code",
   "execution_count": 5,
   "metadata": {},
   "outputs": [
    {
     "output_type": "execute_result",
     "data": {
      "text/plain": [
       "38"
      ]
     },
     "metadata": {},
     "execution_count": 5
    }
   ],
   "source": [
    "max_len = 0\n",
    "a = AttractiveData.train_data\n",
    "for i in range(len(a)):\n",
    "    if len(a[i].Headline) >= max_len:\n",
    "        max_len = len(a[i].Headline)\n",
    "max_len"
   ]
  },
  {
   "cell_type": "markdown",
   "metadata": {},
   "source": [
    "## Start to train"
   ]
  },
  {
   "cell_type": "code",
   "execution_count": 6,
   "metadata": {},
   "outputs": [
    {
     "output_type": "stream",
     "name": "stdout",
     "text": [
      "torch.Size([12699, 300])\n"
     ]
    }
   ],
   "source": [
    "config['timestr'] = time.strftime(\"%Y%m%d-%H%M%S\")\n",
    "config['save_name'] = 'CNN_LSTM'\n",
    "config['input_dim'] = len(AttractiveData.TEXT.vocab)\n",
    "config['embedding_dim'] = 300\n",
    "config['category_dim'] = len(AttractiveData.CATEGORIES_LABEL.vocab)\n",
    "config['category_embedding_dim'] = 8\n",
    "config['hidden_dim'] = 30\n",
    "config['output_dim'] = 1\n",
    "config['log_steps'] = 10\n",
    "config['epochs'] = 200\n",
    "config['lr'] = {\n",
    "    'encoder': 1e-5,\n",
    "    'embedding': 6e-6,\n",
    "    'linear': 1e-5\n",
    "}\n",
    "config['num_layers'] = 1\n",
    "config['kernel_size'] = 3\n",
    "config['dropout'] = 0.3\n",
    "config['train_len'] = AttractiveData.train_len\n",
    "config['val_len'] = AttractiveData.val_len\n",
    "config['test_len'] = AttractiveData.test_len\n",
    "\n",
    "pretrained_embeddings = AttractiveData.TEXT.vocab.vectors\n",
    "print(pretrained_embeddings.shape)"
   ]
  },
  {
   "cell_type": "code",
   "execution_count": 7,
   "metadata": {},
   "outputs": [],
   "source": [
    "AttractiveTrainer = AttractiveTrainer(config, AttractiveData.device, AttractiveData.trainloader, AttractiveData.valloader, pretrained_embeddings)"
   ]
  },
  {
   "cell_type": "code",
   "execution_count": 8,
   "metadata": {},
   "outputs": [
    {
     "output_type": "execute_result",
     "data": {
      "text/plain": [
       "(AttractiveNet(\n",
       "   (embedding): AttractiveEmbedding(\n",
       "     (token): TokenEmbedding(12699, 300, padding_idx=1)\n",
       "   )\n",
       "   (bigramcnn): Sequential(\n",
       "     (0): Conv1d(300, 200, kernel_size=(3,), stride=(1,), padding=(1,))\n",
       "     (1): ReLU()\n",
       "     (2): Conv1d(200, 100, kernel_size=(3,), stride=(1,), padding=(1,))\n",
       "     (3): ReLU()\n",
       "     (4): Dropout(p=0.3, inplace=False)\n",
       "   )\n",
       "   (trigramcnn): Sequential(\n",
       "     (0): Conv1d(300, 200, kernel_size=(3,), stride=(1,), padding=(1,))\n",
       "     (1): ReLU()\n",
       "     (2): Conv1d(200, 100, kernel_size=(3,), stride=(1,), padding=(1,))\n",
       "     (3): ReLU()\n",
       "     (4): Dropout(p=0.3, inplace=False)\n",
       "   )\n",
       "   (encoder_bigram_first): LSTM(100, 30, batch_first=True, dropout=0.3, bidirectional=True)\n",
       "   (encoder_trigram_first): LSTM(100, 30, batch_first=True, dropout=0.3, bidirectional=True)\n",
       "   (linear): Sequential(\n",
       "     (0): Linear(in_features=120, out_features=30, bias=True)\n",
       "     (1): ReLU()\n",
       "     (2): Linear(in_features=30, out_features=1, bias=True)\n",
       "   )\n",
       " ),\n",
       " 4357321,\n",
       " 547621)"
      ]
     },
     "metadata": {},
     "execution_count": 8
    }
   ],
   "source": [
    "AttractiveTrainer.model, AttractiveTrainer.config['total_params'], AttractiveTrainer.config['total_learned_params']"
   ]
  },
  {
   "cell_type": "code",
   "execution_count": 9,
   "metadata": {
    "tags": [
     "outputPrepend"
    ]
   },
   "outputs": [
    {
     "output_type": "stream",
     "name": "stderr",
     "text": [
      "04it/s]\n",
      "EP_47 | train loss: 0.4266502903956993 | val loss: 0.3594360404154834 |\n",
      "Epoch:  24%|██▍       | 49/200 [00:16<00:49,  3.05it/s]\n",
      "EP_48 | train loss: 0.4236138399909524 | val loss: 0.3502599100271861 |\n",
      "Epoch:  25%|██▌       | 50/200 [00:16<00:49,  3.06it/s]\n",
      "EP_49 | train loss: 0.4208274308372946 | val loss: 0.3506158333198697 |\n",
      "Epoch:  26%|██▌       | 51/200 [00:16<00:49,  3.00it/s]\n",
      "EP_50 | train loss: 0.41889250325221644 | val loss: 0.34707024226001665 |\n",
      "Epoch:  26%|██▌       | 52/200 [00:17<00:48,  3.02it/s]\n",
      "EP_51 | train loss: 0.4160027457218544 | val loss: 0.345468004544576 |\n",
      "Epoch:  26%|██▋       | 53/200 [00:17<00:48,  3.04it/s]\n",
      "EP_52 | train loss: 0.41618625790465114 | val loss: 0.34175940296229196 |\n",
      "Epoch:  27%|██▋       | 54/200 [00:17<00:47,  3.06it/s]\n",
      "EP_53 | train loss: 0.4118703066133985 | val loss: 0.34367332972732245 |\n",
      "Epoch:  28%|██▊       | 55/200 [00:18<00:47,  3.05it/s]\n",
      "EP_54 | train loss: 0.4098978986927107 | val loss: 0.3404438501479579 |\n",
      "Epoch:  28%|██▊       | 56/200 [00:18<00:47,  3.00it/s]\n",
      "EP_55 | train loss: 0.41060115589815027 | val loss: 0.34349732013309703 |\n",
      "Epoch:  28%|██▊       | 57/200 [00:18<00:47,  3.03it/s]\n",
      "EP_56 | train loss: 0.4066315632240445 | val loss: 0.3377377624605216 |\n",
      "Epoch:  29%|██▉       | 58/200 [00:19<00:46,  3.04it/s]\n",
      "EP_57 | train loss: 0.40477314182356294 | val loss: 0.3364182652211657 |\n",
      "Epoch:  30%|██▉       | 59/200 [00:19<00:46,  3.04it/s]\n",
      "EP_58 | train loss: 0.4020216623942057 | val loss: 0.3345421272165635 |\n",
      "Epoch:  30%|███       | 60/200 [00:19<00:46,  3.03it/s]\n",
      "EP_59 | train loss: 0.40006255262038287 | val loss: 0.33574498693148297 |\n",
      "Epoch:  30%|███       | 61/200 [00:20<00:46,  2.99it/s]\n",
      "EP_60 | train loss: 0.3994644193088307 | val loss: 0.3325170833690494 |\n",
      "Epoch:  31%|███       | 62/200 [00:20<00:45,  3.01it/s]\n",
      "EP_61 | train loss: 0.39805890625598384 | val loss: 0.334056767762876 |\n",
      "Epoch:  32%|███▏      | 63/200 [00:20<00:45,  2.98it/s]\n",
      "EP_62 | train loss: 0.39474668830048804 | val loss: 0.330661569740258 |\n",
      "Epoch:  32%|███▏      | 64/200 [00:21<00:45,  3.02it/s]\n",
      "EP_63 | train loss: 0.3933187550189448 | val loss: 0.32688064084333535 |\n",
      "Epoch:  32%|███▎      | 65/200 [00:21<00:44,  3.03it/s]\n",
      "EP_64 | train loss: 0.39119623689090505 | val loss: 0.33001089096069336 |\n",
      "Epoch:  33%|███▎      | 66/200 [00:21<00:44,  2.99it/s]\n",
      "EP_65 | train loss: 0.3889787393457749 | val loss: 0.3286654224582747 |\n",
      "Epoch:  34%|███▎      | 67/200 [00:22<00:44,  3.01it/s]\n",
      "EP_66 | train loss: 0.3895717751746084 | val loss: 0.3241690648537056 |\n",
      "Epoch:  34%|███▍      | 68/200 [00:22<00:43,  3.04it/s]\n",
      "EP_67 | train loss: 0.3872710648704978 | val loss: 0.32970546565803827 |\n",
      "Epoch:  34%|███▍      | 69/200 [00:22<00:43,  3.05it/s]\n",
      "EP_68 | train loss: 0.3824382838080911 | val loss: 0.32511470715204877 |\n",
      "Epoch:  35%|███▌      | 70/200 [00:23<00:42,  3.03it/s]\n",
      "EP_69 | train loss: 0.37994145832809745 | val loss: 0.32280206621861923 |\n",
      "Epoch:  36%|███▌      | 71/200 [00:23<00:43,  2.98it/s]\n",
      "EP_70 | train loss: 0.3782979581870285 | val loss: 0.32125045154608933 |\n",
      "Epoch:  36%|███▌      | 72/200 [00:23<00:42,  3.00it/s]\n",
      "EP_71 | train loss: 0.37602447247972676 | val loss: 0.32202744892999235 |\n",
      "Epoch:  36%|███▋      | 73/200 [00:24<00:42,  3.02it/s]\n",
      "EP_72 | train loss: 0.37681009629193474 | val loss: 0.3251251256933399 |\n",
      "Epoch:  37%|███▋      | 74/200 [00:24<00:41,  3.01it/s]\n",
      "EP_73 | train loss: 0.3712245099684771 | val loss: 0.3175092643382503 |\n",
      "Epoch:  38%|███▊      | 75/200 [00:24<00:41,  3.02it/s]\n",
      "EP_74 | train loss: 0.36998094296922873 | val loss: 0.31693941237879736 |\n",
      "Epoch:  38%|███▊      | 76/200 [00:25<00:41,  2.99it/s]\n",
      "EP_75 | train loss: 0.37000661737778606 | val loss: 0.3205730389146244 |\n",
      "Epoch:  38%|███▊      | 77/200 [00:25<00:40,  3.01it/s]\n",
      "EP_76 | train loss: 0.3666112133100921 | val loss: 0.31670279304186505 |\n",
      "Epoch:  39%|███▉      | 78/200 [00:25<00:40,  3.03it/s]\n",
      "EP_77 | train loss: 0.36257004270366594 | val loss: 0.3128507154829362 |\n",
      "Epoch:  40%|███▉      | 79/200 [00:26<00:39,  3.07it/s]\n",
      "EP_78 | train loss: 0.36227216159596165 | val loss: 0.3129885471334644 |\n",
      "Epoch:  40%|████      | 80/200 [00:26<00:38,  3.08it/s]\n",
      "EP_79 | train loss: 0.3590244106217927 | val loss: 0.31090273518188327 |\n",
      "Epoch:  40%|████      | 81/200 [00:26<00:39,  3.04it/s]\n",
      "EP_80 | train loss: 0.3586056671890558 | val loss: 0.31218776048398483 |\n",
      "Epoch:  41%|████      | 82/200 [00:27<00:38,  3.07it/s]\n",
      "EP_81 | train loss: 0.3541809540168912 | val loss: 0.30804241287942025 |\n",
      "Epoch:  42%|████▏     | 83/200 [00:27<00:37,  3.08it/s]\n",
      "EP_82 | train loss: 0.3512033883263083 | val loss: 0.30657098515360964 |\n",
      "Epoch:  42%|████▏     | 84/200 [00:27<00:37,  3.08it/s]\n",
      "EP_83 | train loss: 0.3498625741285436 | val loss: 0.30454126643199547 |\n",
      "Epoch:  42%|████▎     | 85/200 [00:28<00:37,  3.08it/s]\n",
      "EP_84 | train loss: 0.3487672525293687 | val loss: 0.30621803332777586 |\n",
      "Epoch:  43%|████▎     | 86/200 [00:28<00:37,  3.02it/s]\n",
      "EP_85 | train loss: 0.34441067704967426 | val loss: 0.30174465565120473 |\n",
      "Epoch:  44%|████▎     | 87/200 [00:28<00:37,  3.04it/s]\n",
      "EP_86 | train loss: 0.341363198149438 | val loss: 0.3005412612475601 |\n",
      "Epoch:  44%|████▍     | 88/200 [00:29<00:36,  3.06it/s]\n",
      "EP_87 | train loss: 0.33797762347202676 | val loss: 0.3002644490961935 |\n",
      "Epoch:  44%|████▍     | 89/200 [00:29<00:36,  3.06it/s]\n",
      "EP_88 | train loss: 0.34213927680370854 | val loss: 0.30413660290194494 |\n",
      "Epoch:  45%|████▌     | 90/200 [00:29<00:35,  3.06it/s]\n",
      "EP_89 | train loss: 0.33464003731222713 | val loss: 0.29728202901634515 |\n",
      "Epoch:  46%|████▌     | 91/200 [00:30<00:36,  3.01it/s]\n",
      "EP_90 | train loss: 0.3302898565928141 | val loss: 0.29395656316888097 |\n",
      "Epoch:  46%|████▌     | 92/200 [00:30<00:35,  3.03it/s]\n",
      "EP_91 | train loss: 0.3281822316786822 | val loss: 0.2928388738164715 |\n",
      "Epoch:  46%|████▋     | 93/200 [00:30<00:35,  3.02it/s]\n",
      "EP_92 | train loss: 0.33060388331319773 | val loss: 0.29523860590130674 |\n",
      "Epoch:  47%|████▋     | 94/200 [00:31<00:34,  3.03it/s]\n",
      "EP_93 | train loss: 0.3220494256300085 | val loss: 0.2877424908619301 |\n",
      "Epoch:  48%|████▊     | 95/200 [00:31<00:34,  3.01it/s]\n",
      "EP_94 | train loss: 0.319182313189787 | val loss: 0.28538332791889415 |\n",
      "Epoch:  48%|████▊     | 96/200 [00:31<00:35,  2.90it/s]\n",
      "EP_95 | train loss: 0.31753037536845485 | val loss: 0.2833399585649079 |\n",
      "Epoch:  48%|████▊     | 97/200 [00:32<00:35,  2.89it/s]\n",
      "EP_96 | train loss: 0.31343021205827304 | val loss: 0.28164958252626304 |\n",
      "Epoch:  49%|████▉     | 98/200 [00:32<00:35,  2.91it/s]\n",
      "EP_97 | train loss: 0.3100839432548074 | val loss: 0.27794314774812434 |\n",
      "Epoch:  50%|████▉     | 99/200 [00:32<00:34,  2.92it/s]\n",
      "EP_98 | train loss: 0.3085083676319496 | val loss: 0.27779248181511373 |\n",
      "Epoch:  50%|█████     | 100/200 [00:33<00:34,  2.91it/s]\n",
      "EP_99 | train loss: 0.3033986189786126 | val loss: 0.2727995520713283 |\n",
      "Epoch:  50%|█████     | 101/200 [00:33<00:34,  2.89it/s]\n",
      "EP_100 | train loss: 0.30590783988728243 | val loss: 0.27583737875901015 |\n",
      "Epoch:  51%|█████     | 102/200 [00:33<00:33,  2.90it/s]\n",
      "EP_101 | train loss: 0.29726442262238145 | val loss: 0.26885566582866743 |\n",
      "Epoch:  52%|█████▏    | 103/200 [00:34<00:33,  2.91it/s]\n",
      "EP_102 | train loss: 0.29169949690500896 | val loss: 0.2653314897827074 |\n",
      "Epoch:  52%|█████▏    | 104/200 [00:34<00:32,  2.92it/s]\n",
      "EP_103 | train loss: 0.2875909651027006 | val loss: 0.262240224609188 |\n",
      "Epoch:  52%|█████▎    | 105/200 [00:34<00:32,  2.95it/s]\n",
      "EP_104 | train loss: 0.2877830701715806 | val loss: 0.261383150138107 |\n",
      "Epoch:  53%|█████▎    | 106/200 [00:35<00:32,  2.92it/s]\n",
      "EP_105 | train loss: 0.2838972105699427 | val loss: 0.25946860395225824 |\n",
      "Epoch:  54%|█████▎    | 107/200 [00:35<00:31,  2.91it/s]\n",
      "EP_106 | train loss: 0.2768699089686076 | val loss: 0.25371721737525044 |\n",
      "Epoch:  54%|█████▍    | 108/200 [00:35<00:31,  2.94it/s]\n",
      "EP_107 | train loss: 0.2716741113101735 | val loss: 0.24846035592696247 |\n",
      "Epoch:  55%|█████▍    | 109/200 [00:36<00:30,  2.95it/s]\n",
      "EP_108 | train loss: 0.26890888494603776 | val loss: 0.24666984875996908 |\n",
      "Epoch:  55%|█████▌    | 110/200 [00:36<00:30,  2.96it/s]\n",
      "EP_109 | train loss: 0.26988665636848 | val loss: 0.2486053705215454 |\n",
      "Epoch:  56%|█████▌    | 111/200 [00:36<00:30,  2.88it/s]\n",
      "EP_110 | train loss: 0.25829785337635114 | val loss: 0.2374566740849439 |\n",
      "Epoch:  56%|█████▌    | 112/200 [00:37<00:30,  2.90it/s]\n",
      "EP_111 | train loss: 0.2543687881207934 | val loss: 0.23400403062502542 |\n",
      "Epoch:  56%|█████▋    | 113/200 [00:37<00:29,  2.92it/s]\n",
      "EP_112 | train loss: 0.2504266154532339 | val loss: 0.23134155951294244 |\n",
      "Epoch:  57%|█████▋    | 114/200 [00:37<00:29,  2.93it/s]\n",
      "EP_113 | train loss: 0.24505049434362675 | val loss: 0.22634258749438266 |\n",
      "Epoch:  57%|█████▊    | 115/200 [00:38<00:29,  2.88it/s]\n",
      "EP_114 | train loss: 0.24851216381671382 | val loss: 0.23054026914577858 |\n",
      "Epoch:  58%|█████▊    | 116/200 [00:38<00:29,  2.86it/s]\n",
      "EP_115 | train loss: 0.23712464874865963 | val loss: 0.21848866285062304 |\n",
      "Epoch:  58%|█████▊    | 117/200 [00:38<00:28,  2.88it/s]\n",
      "EP_116 | train loss: 0.2447678996067421 | val loss: 0.22709153271188923 |\n",
      "Epoch:  59%|█████▉    | 118/200 [00:39<00:28,  2.89it/s]\n",
      "EP_117 | train loss: 0.22535772417105882 | val loss: 0.21125423148566602 |\n",
      "Epoch:  60%|█████▉    | 119/200 [00:39<00:27,  2.90it/s]\n",
      "EP_118 | train loss: 0.22174271462010403 | val loss: 0.2071474872383417 |\n",
      "Epoch:  60%|██████    | 120/200 [00:40<00:27,  2.91it/s]\n",
      "EP_119 | train loss: 0.21501128720302207 | val loss: 0.20408836357733784 |\n",
      "Epoch:  60%|██████    | 121/200 [00:40<00:27,  2.87it/s]\n",
      "EP_120 | train loss: 0.22273635443519144 | val loss: 0.2094603210103278 |\n",
      "Epoch:  61%|██████    | 122/200 [00:40<00:27,  2.86it/s]\n",
      "EP_121 | train loss: 0.2078543550827924 | val loss: 0.19464225687232672 |\n",
      "Epoch:  62%|██████▏   | 123/200 [00:41<00:26,  2.88it/s]\n",
      "EP_122 | train loss: 0.20120529847986557 | val loss: 0.19379603979634305 |\n",
      "Epoch:  62%|██████▏   | 124/200 [00:41<00:26,  2.90it/s]\n",
      "EP_123 | train loss: 0.19295189965005013 | val loss: 0.18728446551397734 |\n",
      "Epoch:  62%|██████▎   | 125/200 [00:41<00:25,  2.92it/s]\n",
      "EP_124 | train loss: 0.1912752350171407 | val loss: 0.18329073634802126 |\n",
      "Epoch:  63%|██████▎   | 126/200 [00:42<00:25,  2.90it/s]\n",
      "EP_125 | train loss: 0.18168670313031066 | val loss: 0.17876979007440455 |\n",
      "Epoch:  64%|██████▎   | 127/200 [00:42<00:25,  2.92it/s]\n",
      "EP_126 | train loss: 0.19431699911753336 | val loss: 0.1866158305429945 |\n",
      "Epoch:  64%|██████▍   | 128/200 [00:42<00:24,  2.92it/s]\n",
      "EP_127 | train loss: 0.1768338077208575 | val loss: 0.17130067652347042 |\n",
      "Epoch:  64%|██████▍   | 129/200 [00:43<00:24,  2.94it/s]\n",
      "EP_128 | train loss: 0.16550573180703557 | val loss: 0.1686130353048736 |\n",
      "Epoch:  65%|██████▌   | 130/200 [00:43<00:23,  2.95it/s]\n",
      "EP_129 | train loss: 0.1578981556144415 | val loss: 0.15577418897666184 |\n",
      "Epoch:  66%|██████▌   | 131/200 [00:43<00:23,  2.91it/s]\n",
      "EP_130 | train loss: 0.15220032299266142 | val loss: 0.15156088272730509 |\n",
      "Epoch:  66%|██████▌   | 132/200 [00:44<00:23,  2.93it/s]\n",
      "EP_131 | train loss: 0.15220338433396582 | val loss: 0.15499723425098494 |\n",
      "Epoch:  66%|██████▋   | 133/200 [00:44<00:23,  2.91it/s]\n",
      "EP_132 | train loss: 0.1396841706014147 | val loss: 0.140183838559132 |\n",
      "Epoch:  67%|██████▋   | 134/200 [00:44<00:22,  2.91it/s]\n",
      "EP_133 | train loss: 0.13422245932560342 | val loss: 0.13510483883175195 |\n",
      "Epoch:  68%|██████▊   | 135/200 [00:45<00:22,  2.87it/s]\n",
      "EP_134 | train loss: 0.1346077416457382 | val loss: 0.13544221894413816 |\n",
      "Epoch:  68%|██████▊   | 136/200 [00:45<00:22,  2.86it/s]\n",
      "EP_135 | train loss: 0.14530267364838545 | val loss: 0.1456115894457873 |\n",
      "Epoch:  68%|██████▊   | 137/200 [00:45<00:22,  2.83it/s]\n",
      "EP_136 | train loss: 0.11628282116908653 | val loss: 0.11977427116796083 |\n",
      "Epoch:  69%|██████▉   | 138/200 [00:46<00:21,  2.85it/s]\n",
      "EP_137 | train loss: 0.11155585097331627 | val loss: 0.11671137400701934 |\n",
      "Epoch:  70%|██████▉   | 139/200 [00:46<00:21,  2.80it/s]\n",
      "EP_138 | train loss: 0.10816353349124684 | val loss: 0.11203738228947509 |\n",
      "Epoch:  70%|███████   | 140/200 [00:46<00:21,  2.85it/s]\n",
      "EP_139 | train loss: 0.10181315202339022 | val loss: 0.10686653647937026 |\n",
      "Epoch:  70%|███████   | 141/200 [00:47<00:21,  2.76it/s]\n",
      "EP_140 | train loss: 0.10972009756985833 | val loss: 0.11275412405238432 |\n",
      "Epoch:  71%|███████   | 142/200 [00:47<00:20,  2.83it/s]\n",
      "EP_141 | train loss: 0.10170167427436978 | val loss: 0.11230200236918879 |\n",
      "Epoch:  72%|███████▏  | 143/200 [00:48<00:20,  2.78it/s]\n",
      "EP_142 | train loss: 0.10539882755747028 | val loss: 0.1082257517412597 |\n",
      "Epoch:  72%|███████▏  | 144/200 [00:48<00:19,  2.81it/s]\n",
      "EP_143 | train loss: 0.08258060029908723 | val loss: 0.09006445372805875 |\n",
      "Epoch:  72%|███████▎  | 145/200 [00:48<00:19,  2.84it/s]\n",
      "EP_144 | train loss: 0.08221309079843409 | val loss: 0.08817996639831394 |\n",
      "Epoch:  73%|███████▎  | 146/200 [00:49<00:19,  2.80it/s]\n",
      "EP_145 | train loss: 0.07769135143242631 | val loss: 0.08222236294372409 |\n",
      "Epoch:  74%|███████▎  | 147/200 [00:49<00:18,  2.87it/s]\n",
      "EP_146 | train loss: 0.07051356855560752 | val loss: 0.07901545540959228 |\n",
      "Epoch:  74%|███████▍  | 148/200 [00:49<00:17,  2.89it/s]\n",
      "EP_147 | train loss: 0.06599235569729525 | val loss: 0.07299630168606253 |\n",
      "Epoch:  74%|███████▍  | 149/200 [00:50<00:17,  2.91it/s]\n",
      "EP_148 | train loss: 0.06270479676770228 | val loss: 0.06858841023024391 |\n",
      "Epoch:  75%|███████▌  | 150/200 [00:50<00:17,  2.90it/s]\n",
      "EP_149 | train loss: 0.07139722821759242 | val loss: 0.08144483291635327 |\n",
      "Epoch:  76%|███████▌  | 151/200 [00:50<00:17,  2.87it/s]\n",
      "EP_150 | train loss: 0.05772751762586482 | val loss: 0.0626065105784173 |\n",
      "Epoch:  76%|███████▌  | 152/200 [00:51<00:16,  2.87it/s]\n",
      "EP_151 | train loss: 0.05320232755997602 | val loss: 0.05983517567316691 |\n",
      "Epoch:  76%|███████▋  | 153/200 [00:51<00:16,  2.89it/s]\n",
      "EP_152 | train loss: 0.050096771588512494 | val loss: 0.0551758233238669 |\n",
      "Epoch:  77%|███████▋  | 154/200 [00:51<00:15,  2.93it/s]\n",
      "EP_153 | train loss: 0.05998607429803587 | val loss: 0.06958525467152689 |\n",
      "Epoch:  78%|███████▊  | 155/200 [00:52<00:15,  2.95it/s]\n",
      "EP_154 | train loss: 0.05686897179659675 | val loss: 0.0641913489968169 |\n",
      "Epoch:  78%|███████▊  | 156/200 [00:52<00:15,  2.92it/s]\n",
      "EP_155 | train loss: 0.058925804320503684 | val loss: 0.07239100760688968 |\n",
      "Epoch:  78%|███████▊  | 157/200 [00:52<00:14,  2.93it/s]\n",
      "EP_156 | train loss: 0.04735317002324497 | val loss: 0.05051339958228317 |\n",
      "Epoch:  79%|███████▉  | 158/200 [00:53<00:14,  2.92it/s]\n",
      "EP_157 | train loss: 0.03887995008160086 | val loss: 0.042992244164148964 |\n",
      "Epoch:  80%|███████▉  | 159/200 [00:53<00:14,  2.92it/s]\n",
      "EP_158 | train loss: 0.0558113996889077 | val loss: 0.05384410567143384 |\n",
      "Epoch:  80%|████████  | 160/200 [00:53<00:13,  2.91it/s]\n",
      "EP_159 | train loss: 0.03599228245370528 | val loss: 0.038459206913031785 |\n",
      "Epoch:  80%|████████  | 161/200 [00:54<00:13,  2.87it/s]\n",
      "EP_160 | train loss: 0.03424122695829354 | val loss: 0.03995671649189556 |\n",
      "Epoch:  81%|████████  | 162/200 [00:54<00:13,  2.90it/s]\n",
      "EP_161 | train loss: 0.036084033811793606 | val loss: 0.03688249254927916 |\n",
      "Epoch:  82%|████████▏ | 163/200 [00:54<00:12,  2.91it/s]\n",
      "EP_162 | train loss: 0.029698224570236954 | val loss: 0.03477498713661643 |\n",
      "Epoch:  82%|████████▏ | 164/200 [00:55<00:12,  2.93it/s]\n",
      "EP_163 | train loss: 0.03606780779127981 | val loss: 0.03696332550516315 |\n",
      "Epoch:  82%|████████▎ | 165/200 [00:55<00:11,  2.94it/s]\n",
      "EP_164 | train loss: 0.03278536410892711 | val loss: 0.032814938209804835 |\n",
      "Epoch:  83%|████████▎ | 166/200 [00:55<00:11,  2.89it/s]\n",
      "EP_165 | train loss: 0.02572508097863665 | val loss: 0.02947751388830297 |\n",
      "Epoch:  84%|████████▎ | 167/200 [00:56<00:11,  2.89it/s]\n",
      "EP_166 | train loss: 0.030204801875002244 | val loss: 0.03047513070644117 |\n",
      "Epoch:  84%|████████▍ | 168/200 [00:56<00:11,  2.91it/s]\n",
      "EP_167 | train loss: 0.03989165168182523 | val loss: 0.03617267281401391 |\n",
      "Epoch:  84%|████████▍ | 169/200 [00:57<00:10,  2.86it/s]\n",
      "EP_168 | train loss: 0.02275064330475003 | val loss: 0.027375930664586087 |\n",
      "Epoch:  85%|████████▌ | 170/200 [00:57<00:10,  2.89it/s]\n",
      "EP_169 | train loss: 0.020498457960053985 | val loss: 0.025517569453108544 |\n",
      "Epoch:  86%|████████▌ | 171/200 [00:57<00:10,  2.86it/s]\n",
      "EP_170 | train loss: 0.026467879262625 | val loss: 0.025330808963261398 |\n",
      "Epoch:  86%|████████▌ | 172/200 [00:58<00:09,  2.88it/s]\n",
      "EP_171 | train loss: 0.019083577686665104 | val loss: 0.02426008945878814 |\n",
      "Epoch:  86%|████████▋ | 173/200 [00:58<00:09,  2.91it/s]\n",
      "EP_172 | train loss: 0.017973638661936218 | val loss: 0.02092682131949593 |\n",
      "Epoch:  87%|████████▋ | 174/200 [00:58<00:08,  2.93it/s]\n",
      "EP_173 | train loss: 0.022489192818894107 | val loss: 0.027844868454278682 |\n",
      "Epoch:  88%|████████▊ | 175/200 [00:59<00:08,  2.94it/s]\n",
      "EP_174 | train loss: 0.01754295527935028 | val loss: 0.02182971569252949 |\n",
      "Epoch:  88%|████████▊ | 176/200 [00:59<00:08,  2.90it/s]\n",
      "EP_175 | train loss: 0.03129318169519013 | val loss: 0.028158892603481516 |\n",
      "Epoch:  88%|████████▊ | 177/200 [00:59<00:07,  2.90it/s]\n",
      "EP_176 | train loss: 0.023162943972092048 | val loss: 0.021812258690011268 |\n",
      "Epoch:  89%|████████▉ | 178/200 [01:00<00:07,  2.91it/s]\n",
      "EP_177 | train loss: 0.017810114370841606 | val loss: 0.02366951465898869 |\n",
      "Epoch:  90%|████████▉ | 179/200 [01:00<00:07,  2.91it/s]\n",
      "EP_178 | train loss: 0.017870209555999904 | val loss: 0.018047323121744042 |\n",
      "Epoch:  90%|█████████ | 180/200 [01:00<00:06,  2.94it/s]\n",
      "EP_179 | train loss: 0.013898611916046516 | val loss: 0.01644437124623972 |\n",
      "Epoch:  90%|█████████ | 181/200 [01:01<00:06,  2.89it/s]\n",
      "EP_180 | train loss: 0.020048221098441704 | val loss: 0.019073489834280574 |\n",
      "Epoch:  91%|█████████ | 182/200 [01:01<00:06,  2.91it/s]\n",
      "EP_181 | train loss: 0.02077361581956639 | val loss: 0.019603091712091483 |\n",
      "Epoch:  92%|█████████▏| 183/200 [01:01<00:05,  2.94it/s]\n",
      "EP_182 | train loss: 0.013342572281173632 | val loss: 0.01581801737056059 |\n",
      "Epoch:  92%|█████████▏| 184/200 [01:02<00:05,  2.96it/s]\n",
      "EP_183 | train loss: 0.012102633437105253 | val loss: 0.014186629915938657 |\n",
      "Epoch:  92%|█████████▎| 185/200 [01:02<00:05,  2.95it/s]\n",
      "EP_184 | train loss: 0.011275467933977351 | val loss: 0.01427642080713721 |\n",
      "Epoch:  93%|█████████▎| 186/200 [01:02<00:04,  2.90it/s]\n",
      "EP_185 | train loss: 0.010979737209923127 | val loss: 0.014358156378947053 |\n",
      "Epoch:  94%|█████████▎| 187/200 [01:03<00:04,  2.93it/s]\n",
      "EP_186 | train loss: 0.011745803554852803 | val loss: 0.01367277841941983 |\n",
      "Epoch:  94%|█████████▍| 188/200 [01:03<00:04,  2.94it/s]\n",
      "EP_187 | train loss: 0.010452348738908768 | val loss: 0.012223770513254054 |\n",
      "Epoch:  94%|█████████▍| 189/200 [01:03<00:03,  2.93it/s]\n",
      "EP_188 | train loss: 0.0103275044437717 | val loss: 0.013483579982729518 |\n",
      "Epoch:  95%|█████████▌| 190/200 [01:04<00:03,  2.92it/s]\n",
      "EP_189 | train loss: 0.013037858450529622 | val loss: 0.014105284476981443 |\n",
      "Epoch:  96%|█████████▌| 191/200 [01:04<00:03,  2.88it/s]\n",
      "EP_190 | train loss: 0.01453772438507454 | val loss: 0.014984173517601163 |\n",
      "Epoch:  96%|█████████▌| 192/200 [01:04<00:02,  2.89it/s]\n",
      "EP_191 | train loss: 0.010998031146386091 | val loss: 0.014728333362761666 |\n",
      "Epoch:  96%|█████████▋| 193/200 [01:05<00:02,  2.90it/s]\n",
      "EP_192 | train loss: 0.01066686614763503 | val loss: 0.014607091854308165 |\n",
      "Epoch:  97%|█████████▋| 194/200 [01:05<00:02,  2.94it/s]\n",
      "EP_193 | train loss: 0.008681737573123446 | val loss: 0.010236227044872209 |\n",
      "Epoch:  98%|█████████▊| 195/200 [01:05<00:01,  2.96it/s]\n",
      "EP_194 | train loss: 0.012269127149792279 | val loss: 0.016660398255814526 |\n",
      "Epoch:  98%|█████████▊| 196/200 [01:06<00:01,  2.93it/s]\n",
      "EP_195 | train loss: 0.010323430393256392 | val loss: 0.011474042181290832 |\n",
      "Epoch:  98%|█████████▊| 197/200 [01:06<00:01,  2.96it/s]\n",
      "EP_196 | train loss: 0.01061871658061065 | val loss: 0.011265196052252078 |\n",
      "Epoch:  99%|█████████▉| 198/200 [01:06<00:00,  2.96it/s]\n",
      "EP_197 | train loss: 0.012904040895256342 | val loss: 0.012131136202929067 |\n",
      "Epoch: 100%|█████████▉| 199/200 [01:07<00:00,  2.97it/s]\n",
      "EP_198 | train loss: 0.007984939495138094 | val loss: 0.009049755320245144 |\n",
      "Epoch: 100%|██████████| 200/200 [01:07<00:00,  2.96it/s]\n",
      "EP_199 | train loss: 0.007556767396482767 | val loss: 0.009531860440677288 |\n",
      "\n"
     ]
    }
   ],
   "source": [
    "AttractiveTrainer.train()"
   ]
  },
  {
   "cell_type": "markdown",
   "metadata": {},
   "source": [
    "## for classification, not better"
   ]
  },
  {
   "cell_type": "markdown",
   "metadata": {},
   "source": [
    "## Below is testing"
   ]
  },
  {
   "cell_type": "code",
   "execution_count": 7,
   "metadata": {},
   "outputs": [
    {
     "output_type": "execute_result",
     "data": {
      "text/plain": [
       "AttractiveNet(\n",
       "  (embedding): AttractiveEmbedding(\n",
       "    (token): TokenEmbedding(12699, 300, padding_idx=1)\n",
       "  )\n",
       "  (bigramcnn): Sequential(\n",
       "    (0): Conv1d(300, 200, kernel_size=(3,), stride=(1,), padding=(1,))\n",
       "    (1): ReLU()\n",
       "    (2): Conv1d(200, 100, kernel_size=(3,), stride=(1,), padding=(1,))\n",
       "    (3): ReLU()\n",
       "    (4): Dropout(p=0.3, inplace=False)\n",
       "  )\n",
       "  (trigramcnn): Sequential(\n",
       "    (0): Conv1d(300, 200, kernel_size=(3,), stride=(1,), padding=(1,))\n",
       "    (1): ReLU()\n",
       "    (2): Conv1d(200, 100, kernel_size=(3,), stride=(1,), padding=(1,))\n",
       "    (3): ReLU()\n",
       "    (4): Dropout(p=0.3, inplace=False)\n",
       "  )\n",
       "  (encoder_bigram_first): LSTM(100, 30, batch_first=True, dropout=0.3, bidirectional=True)\n",
       "  (encoder_trigram_first): LSTM(100, 30, batch_first=True, dropout=0.3, bidirectional=True)\n",
       "  (linear): Sequential(\n",
       "    (0): Linear(in_features=120, out_features=30, bias=True)\n",
       "    (1): ReLU()\n",
       "    (2): Linear(in_features=30, out_features=1, bias=True)\n",
       "  )\n",
       ")"
      ]
     },
     "metadata": {},
     "execution_count": 7
    }
   ],
   "source": [
    "from attractivenet import AttractiveNet\n",
    "\n",
    "PATH = './model/CNN_LSTM_20201105-140124_0.305908.100'\n",
    "\n",
    "load_model = AttractiveNet(config).to(AttractiveData.device)\n",
    "load_model.load_state_dict(torch.load(PATH))\n",
    "load_model.eval()"
   ]
  },
  {
   "cell_type": "code",
   "execution_count": 8,
   "metadata": {},
   "outputs": [],
   "source": [
    "def predict_attractive(sentence, category, phase):\n",
    "    indexed_sentence = [AttractiveData.TEXT.vocab.stoi[t] for t in sentence]\n",
    "    indexed_category = [AttractiveData.CATEGORIES_LABEL.vocab.stoi[category]]\n",
    "    tensor_sentence = torch.LongTensor(indexed_sentence).to(AttractiveData.device)\n",
    "    tensor_category = torch.LongTensor(indexed_category).to(AttractiveData.device)\n",
    "\n",
    "    tensor_sentence = tensor_sentence.unsqueeze(0)\n",
    "    # print(tensor_sentence.shape)\n",
    "\n",
    "    prediction = load_model(tensor_sentence, tensor_category, phase=phase)\n",
    "\n",
    "    return prediction"
   ]
  },
  {
   "cell_type": "code",
   "execution_count": 9,
   "metadata": {
    "tags": []
   },
   "outputs": [],
   "source": [
    "# train mean = 3.15, test mean = 2.8\n",
    "predict_list = []\n",
    "with torch.no_grad():\n",
    "    for i, sentence in enumerate(AttractiveData.test_data):\n",
    "        prediction = predict_attractive(sentence.Headline, sentence.Category, 'test')\n",
    "        predict_list.append(prediction.item())\n",
    "        # predict_list.append(prediction.item())\n",
    "AttractiveData.df_test['Label'] = predict_list\n",
    "AttractiveData.df_test[['ID', 'Label']].to_csv(config['save_name'] + '.csv', index=False)"
   ]
  },
  {
   "cell_type": "markdown",
   "metadata": {},
   "source": [
    "## Below for statistics"
   ]
  },
  {
   "cell_type": "code",
   "execution_count": 10,
   "metadata": {},
   "outputs": [],
   "source": [
    "import statistics\n",
    "from sklearn.metrics import mean_squared_error"
   ]
  },
  {
   "cell_type": "code",
   "execution_count": 11,
   "metadata": {},
   "outputs": [],
   "source": [
    "# # train mean = 3.15, test mean = 2.8\n",
    "# train_list = []\n",
    "# for i, sentence in enumerate(AttractiveData.train_data):\n",
    "#     prediction = predict_attractive(sentence.Headline, sentence.Category, 'train')\n",
    "#     train_list.append(prediction.item())\n",
    "#     # train_list.append(prediction.item())\n",
    "# # print(train_list)\n",
    "# mean_squared_error(pd.read_csv('data/train.csv').sort_values(['ID']).Label.to_list(), train_list), statistics.mean(train_list), statistics.stdev(train_list)"
   ]
  },
  {
   "cell_type": "code",
   "execution_count": 12,
   "metadata": {},
   "outputs": [],
   "source": [
    "# train_list[0:5], pd.read_csv('data/train.csv').sort_values(['ID']).Label.to_list()[0:5]"
   ]
  },
  {
   "cell_type": "code",
   "execution_count": 13,
   "metadata": {},
   "outputs": [],
   "source": [
    "# a = AttractiveData.df_train['Label'].to_list()\n",
    "# statistics.mean(a), statistics.stdev(a)"
   ]
  },
  {
   "cell_type": "code",
   "execution_count": 14,
   "metadata": {},
   "outputs": [
    {
     "output_type": "execute_result",
     "data": {
      "text/plain": [
       "(2.735815794982574, 0.37140708400790173)"
      ]
     },
     "metadata": {},
     "execution_count": 14
    }
   ],
   "source": [
    "statistics.mean(predict_list), statistics.stdev(predict_list)"
   ]
  },
  {
   "cell_type": "code",
   "execution_count": 15,
   "metadata": {},
   "outputs": [
    {
     "output_type": "execute_result",
     "data": {
      "text/plain": [
       "(0.030471994932924098, 2.832396388579045, 0.3599597701326745)"
      ]
     },
     "metadata": {},
     "execution_count": 15
    }
   ],
   "source": [
    "baseline_list = pd.read_csv('baseline.csv').sort_values(['ID']).Label.to_list()\n",
    "mean_squared_error(baseline_list, predict_list), statistics.mean(baseline_list), statistics.stdev(baseline_list)"
   ]
  },
  {
   "cell_type": "code",
   "execution_count": null,
   "metadata": {},
   "outputs": [],
   "source": []
  },
  {
   "cell_type": "code",
   "execution_count": 18,
   "metadata": {},
   "outputs": [
    {
     "output_type": "execute_result",
     "data": {
      "text/plain": [
       "0.1609754968529207"
      ]
     },
     "metadata": {},
     "execution_count": 18
    }
   ],
   "source": [
    "mean_squared_error(pd.read_csv('baseline.csv').sort_values(['ID']).Label.to_list(), pd.read_csv('./predict/ensemble.csv').sort_values(['ID']).Label.to_list())"
   ]
  },
  {
   "cell_type": "code",
   "execution_count": 10,
   "metadata": {},
   "outputs": [],
   "source": [
    "from sklearn.model_selection import KFold\n",
    "import numpy as np"
   ]
  },
  {
   "cell_type": "code",
   "execution_count": 11,
   "metadata": {},
   "outputs": [],
   "source": []
  },
  {
   "cell_type": "code",
   "execution_count": 12,
   "metadata": {},
   "outputs": [
    {
     "output_type": "execute_result",
     "data": {
      "text/plain": [
       "2040"
      ]
     },
     "metadata": {},
     "execution_count": 12
    }
   ],
   "source": [
    "len(AttractiveData.train_data.examples)"
   ]
  },
  {
   "cell_type": "code",
   "execution_count": 13,
   "metadata": {},
   "outputs": [],
   "source": []
  },
  {
   "cell_type": "code",
   "execution_count": null,
   "metadata": {},
   "outputs": [],
   "source": []
  }
 ],
 "metadata": {
  "kernelspec": {
   "display_name": "DS_hw2",
   "language": "python",
   "name": "ds_hw2"
  },
  "language_info": {
   "codemirror_mode": {
    "name": "ipython",
    "version": 3
   },
   "file_extension": ".py",
   "mimetype": "text/x-python",
   "name": "python",
   "nbconvert_exporter": "python",
   "pygments_lexer": "ipython3",
   "version": "3.6.12-final"
  }
 },
 "nbformat": 4,
 "nbformat_minor": 4
}