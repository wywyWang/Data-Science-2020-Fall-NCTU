{
 "cells": [
  {
   "cell_type": "code",
   "execution_count": 1,
   "metadata": {},
   "outputs": [],
   "source": [
    "# common packages\n",
    "import pandas as pd\n",
    "import time\n",
    "\n",
    "# # DL framework\n",
    "import torch\n",
    "from torchtext import data\n",
    "\n",
    "from attractivedata import AttractiveData\n",
    "from trainer import AttractiveTrainer"
   ]
  },
  {
   "cell_type": "code",
   "execution_count": 2,
   "metadata": {},
   "outputs": [],
   "source": [
    "seed_value = 3\n",
    "torch.manual_seed(seed_value)\n",
    "torch.cuda.manual_seed(seed_value)\n",
    "torch.cuda.manual_seed_all(seed_value) # gpu vars\n",
    "torch.backends.cudnn.deterministic = True  #needed\n",
    "torch.backends.cudnn.benchmark = False"
   ]
  },
  {
   "cell_type": "markdown",
   "metadata": {},
   "source": [
    "## Load and prepare data"
   ]
  },
  {
   "cell_type": "code",
   "execution_count": 3,
   "metadata": {},
   "outputs": [],
   "source": [
    "train_file = 'data/train.csv'\n",
    "val_file = 'example/val.csv'\n",
    "test_file = 'data/test.csv'\n",
    "pretrained_file = 'glove.840B.300d'\n",
    "config = {\n",
    "    'max_seq': 40,\n",
    "    'min_freq': 0,\n",
    "    'batch_size': 51,\n",
    "    'pretrained_file': pretrained_file\n",
    "}\n"
   ]
  },
  {
   "cell_type": "code",
   "execution_count": 4,
   "metadata": {},
   "outputs": [],
   "source": [
    "AttractiveData = AttractiveData(train_file, val_file, test_file, pretrained_file, config)"
   ]
  },
  {
   "cell_type": "markdown",
   "metadata": {},
   "source": [
    "## Start to train"
   ]
  },
  {
   "cell_type": "code",
   "execution_count": 5,
   "metadata": {},
   "outputs": [
    {
     "output_type": "stream",
     "name": "stdout",
     "text": [
      "torch.Size([12699, 300])\n"
     ]
    }
   ],
   "source": [
    "config['timestr'] = time.strftime(\"%Y%m%d-%H%M%S\")\n",
    "config['save_name'] = 'CNN_LSTM'\n",
    "config['input_dim'] = len(AttractiveData.TEXT.vocab)\n",
    "config['embedding_dim'] = 300\n",
    "config['category_dim'] = len(AttractiveData.CATEGORIES_LABEL.vocab)\n",
    "config['category_embedding_dim'] = 10\n",
    "config['hidden_dim'] = 30\n",
    "config['output_dim'] = 1\n",
    "config['log_steps'] = 10\n",
    "config['epochs'] = 150\n",
    "config['lr'] = {\n",
    "    'encoder': 1e-5,\n",
    "    'embedding': 6e-6,\n",
    "    'linear': 1e-5\n",
    "}\n",
    "config['num_layers'] = 1\n",
    "config['kernel_size'] = 3\n",
    "config['dropout'] = 0.5\n",
    "config['train_len'] = AttractiveData.train_len\n",
    "config['val_len'] = AttractiveData.val_len\n",
    "config['test_len'] = AttractiveData.test_len\n",
    "\n",
    "pretrained_embeddings = AttractiveData.TEXT.vocab.vectors\n",
    "print(pretrained_embeddings.shape)"
   ]
  },
  {
   "cell_type": "code",
   "execution_count": 6,
   "metadata": {},
   "outputs": [],
   "source": [
    "AttractiveTrainer = AttractiveTrainer(config, AttractiveData.device, AttractiveData.trainloader, AttractiveData.valloader, pretrained_embeddings)"
   ]
  },
  {
   "cell_type": "code",
   "execution_count": 7,
   "metadata": {},
   "outputs": [
    {
     "output_type": "execute_result",
     "data": {
      "text/plain": [
       "(AttractiveNet(\n",
       "   (embedding): AttractiveEmbedding(\n",
       "     (token): TokenEmbedding(12699, 300, padding_idx=1)\n",
       "   )\n",
       "   (bigramcnn): Sequential(\n",
       "     (0): Conv1d(300, 210, kernel_size=(2,), stride=(1,), padding=(1,))\n",
       "     (1): ReLU()\n",
       "     (2): Conv1d(210, 100, kernel_size=(2,), stride=(1,), padding=(1,))\n",
       "     (3): ReLU()\n",
       "     (4): Dropout(p=0.5, inplace=False)\n",
       "   )\n",
       "   (trigramcnn): Sequential(\n",
       "     (0): Conv1d(300, 210, kernel_size=(3,), stride=(1,), padding=(1,))\n",
       "     (1): ReLU()\n",
       "     (2): Conv1d(210, 100, kernel_size=(3,), stride=(1,), padding=(1,))\n",
       "     (3): ReLU()\n",
       "     (4): Dropout(p=0.5, inplace=False)\n",
       "   )\n",
       "   (encoder_bigram): LSTM(100, 30, batch_first=True, dropout=0.5, bidirectional=True)\n",
       "   (encoder_trigram): LSTM(100, 30, batch_first=True, dropout=0.5, bidirectional=True)\n",
       "   (linear): Sequential(\n",
       "     (0): Linear(in_features=128, out_features=30, bias=True)\n",
       "     (1): ReLU()\n",
       "     (2): Linear(in_features=30, out_features=1, bias=True)\n",
       "   )\n",
       " ),\n",
       " 4297581,\n",
       " 4297581)"
      ]
     },
     "metadata": {},
     "execution_count": 7
    }
   ],
   "source": [
    "AttractiveTrainer.model, AttractiveTrainer.config['total_params'], AttractiveTrainer.config['total_learned_params']"
   ]
  },
  {
   "cell_type": "code",
   "execution_count": 8,
   "metadata": {
    "tags": []
   },
   "outputs": [
    {
     "output_type": "stream",
     "name": "stderr",
     "text": [
      "Epoch:   1%|          | 1/150 [00:00<01:11,  2.08it/s]\n",
      "EP_0 | train loss: 2.9271822499293907 | val loss: 3.4009549758013558 |\n",
      "Epoch:   1%|▏         | 2/150 [00:00<01:10,  2.09it/s]\n",
      "EP_1 | train loss: 0.6206154028574625 | val loss: 0.8137558768777287 |\n",
      "Epoch:   2%|▏         | 3/150 [00:01<01:08,  2.14it/s]\n",
      "EP_2 | train loss: 0.5778497060139974 | val loss: 0.8059530258178711 |\n",
      "Epoch:   3%|▎         | 4/150 [00:01<01:07,  2.17it/s]\n",
      "EP_3 | train loss: 0.5752846801982207 | val loss: 0.7798628339580461 |\n",
      "Epoch:   3%|▎         | 5/150 [00:02<01:08,  2.11it/s]\n",
      "EP_4 | train loss: 0.5783764867221608 | val loss: 0.7525494145412072 |\n",
      "Epoch:   4%|▍         | 6/150 [00:02<01:09,  2.08it/s]\n",
      "EP_5 | train loss: 0.5620963461258832 | val loss: 0.7469996564528522 |\n",
      "Epoch:   5%|▍         | 7/150 [00:03<01:08,  2.08it/s]\n",
      "EP_6 | train loss: 0.565706615821988 | val loss: 0.7198532889871037 |\n",
      "Epoch:   5%|▌         | 8/150 [00:03<01:07,  2.10it/s]\n",
      "EP_7 | train loss: 0.5610219843247357 | val loss: 0.697292776668773 |\n",
      "Epoch:   6%|▌         | 9/150 [00:04<01:07,  2.08it/s]\n",
      "EP_8 | train loss: 0.5535375884934968 | val loss: 0.6936666825238396 |\n",
      "Epoch:   7%|▋         | 10/150 [00:04<01:08,  2.05it/s]\n",
      "EP_9 | train loss: 0.5562444883234361 | val loss: 0.667816115360634 |\n",
      "Epoch:   7%|▋         | 11/150 [00:05<01:09,  2.00it/s]\n",
      "EP_10 | train loss: 0.5484985641404694 | val loss: 0.6583133024327895 |\n",
      "Epoch:   8%|▊         | 12/150 [00:05<01:10,  1.96it/s]\n",
      "EP_11 | train loss: 0.5468080670225854 | val loss: 0.6415222672855153 |\n",
      "Epoch:   9%|▊         | 13/150 [00:06<01:09,  1.98it/s]\n",
      "EP_12 | train loss: 0.5511896011876125 | val loss: 0.6310003318038642 |\n",
      "Epoch:   9%|▉         | 14/150 [00:06<01:07,  2.01it/s]\n",
      "EP_13 | train loss: 0.5387461054558847 | val loss: 0.6221587143692315 |\n",
      "Epoch:  10%|█         | 15/150 [00:07<01:06,  2.04it/s]\n",
      "EP_14 | train loss: 0.5424042636272954 | val loss: 0.6137487000110102 |\n",
      "Epoch:  11%|█         | 16/150 [00:07<01:06,  2.02it/s]\n",
      "EP_15 | train loss: 0.5402901004342472 | val loss: 0.5971492599038517 |\n",
      "Epoch:  11%|█▏        | 17/150 [00:08<01:05,  2.02it/s]\n",
      "EP_16 | train loss: 0.5422813396827847 | val loss: 0.5867170913546693 |\n",
      "Epoch:  12%|█▏        | 18/150 [00:08<01:04,  2.04it/s]\n",
      "EP_17 | train loss: 0.534278112299302 | val loss: 0.5807471929811964 |\n",
      "Epoch:  13%|█▎        | 19/150 [00:09<01:04,  2.02it/s]\n",
      "EP_18 | train loss: 0.5282142115574257 | val loss: 0.5769067652085248 |\n",
      "Epoch:  13%|█▎        | 20/150 [00:09<01:04,  2.03it/s]\n",
      "EP_19 | train loss: 0.5330207067377427 | val loss: 0.5665806041044348 |\n",
      "Epoch:  14%|█▍        | 21/150 [00:10<01:05,  1.98it/s]\n",
      "EP_20 | train loss: 0.5227744186625761 | val loss: 0.557553581162995 |\n",
      "Epoch:  15%|█▍        | 22/150 [00:10<01:04,  1.99it/s]\n",
      "EP_21 | train loss: 0.5247619282965567 | val loss: 0.5485858823738846 |\n",
      "Epoch:  15%|█▌        | 23/150 [00:11<01:04,  1.98it/s]\n",
      "EP_22 | train loss: 0.5207284525328991 | val loss: 0.542704703761082 |\n",
      "Epoch:  16%|█▌        | 24/150 [00:11<01:02,  2.01it/s]\n",
      "EP_23 | train loss: 0.5243926917805392 | val loss: 0.5338575699750114 |\n",
      "Epoch:  17%|█▋        | 25/150 [00:12<01:02,  2.00it/s]\n",
      "EP_24 | train loss: 0.5170492854772829 | val loss: 0.5270732243855795 |\n",
      "Epoch:  17%|█▋        | 26/150 [00:12<01:01,  2.00it/s]\n",
      "EP_25 | train loss: 0.5132938917945413 | val loss: 0.5208515559925753 |\n",
      "Epoch:  18%|█▊        | 27/150 [00:13<01:01,  2.01it/s]\n",
      "EP_26 | train loss: 0.5108001409792433 | val loss: 0.5164890195809159 |\n",
      "Epoch:  19%|█▊        | 28/150 [00:13<01:00,  2.03it/s]\n",
      "EP_27 | train loss: 0.516993210362453 | val loss: 0.5060116730484308 |\n",
      "Epoch:  19%|█▉        | 29/150 [00:14<00:57,  2.09it/s]\n",
      "EP_28 | train loss: 0.5088447047214882 | val loss: 0.49995795418234434 |\n",
      "Epoch:  20%|██        | 30/150 [00:14<00:57,  2.09it/s]\n",
      "EP_29 | train loss: 0.5017490882499546 | val loss: 0.49344497568467083 |\n",
      "Epoch:  21%|██        | 31/150 [00:15<00:57,  2.06it/s]\n",
      "EP_30 | train loss: 0.49777820998547123 | val loss: 0.4892613747540642 |\n",
      "Epoch:  21%|██▏       | 32/150 [00:15<00:55,  2.11it/s]\n",
      "EP_31 | train loss: 0.5005093312730976 | val loss: 0.4790914011936562 |\n",
      "Epoch:  22%|██▏       | 33/150 [00:16<00:55,  2.10it/s]\n",
      "EP_32 | train loss: 0.4939519251094145 | val loss: 0.47373246211631626 |\n",
      "Epoch:  23%|██▎       | 34/150 [00:16<00:54,  2.13it/s]\n",
      "EP_33 | train loss: 0.4904927085427677 | val loss: 0.4644160925173292 |\n",
      "Epoch:  23%|██▎       | 35/150 [00:17<00:55,  2.08it/s]\n",
      "EP_34 | train loss: 0.4837248082254447 | val loss: 0.4574323822470272 |\n",
      "Epoch:  24%|██▍       | 36/150 [00:17<00:54,  2.07it/s]\n",
      "EP_35 | train loss: 0.4826948736228195 | val loss: 0.44900916604434743 |\n",
      "Epoch:  25%|██▍       | 37/150 [00:18<00:54,  2.06it/s]\n",
      "EP_36 | train loss: 0.4777112362431545 | val loss: 0.44203514211318073 |\n",
      "Epoch:  25%|██▌       | 38/150 [00:18<00:53,  2.10it/s]\n",
      "EP_37 | train loss: 0.47384316687490424 | val loss: 0.4351070067461799 |\n",
      "Epoch:  26%|██▌       | 39/150 [00:18<00:52,  2.12it/s]\n",
      "EP_38 | train loss: 0.4709402673384723 | val loss: 0.42837120504940257 |\n",
      "Epoch:  27%|██▋       | 40/150 [00:19<00:50,  2.16it/s]\n",
      "EP_39 | train loss: 0.46546454569872686 | val loss: 0.42165307437672334 |\n",
      "Epoch:  27%|██▋       | 41/150 [00:19<00:50,  2.16it/s]\n",
      "EP_40 | train loss: 0.46210578376171635 | val loss: 0.41416355207854627 |\n",
      "Epoch:  28%|██▊       | 42/150 [00:20<00:49,  2.19it/s]\n",
      "EP_41 | train loss: 0.4590559828515146 | val loss: 0.4082341942132688 |\n",
      "Epoch:  29%|██▊       | 43/150 [00:20<00:49,  2.15it/s]\n",
      "EP_42 | train loss: 0.4559541019738889 | val loss: 0.40155334566153733 |\n",
      "Epoch:  29%|██▉       | 44/150 [00:21<00:49,  2.13it/s]\n",
      "EP_43 | train loss: 0.4507074084936404 | val loss: 0.3960919754177916 |\n",
      "Epoch:  30%|███       | 45/150 [00:21<00:50,  2.10it/s]\n",
      "EP_44 | train loss: 0.4502374321806665 | val loss: 0.3908418393602558 |\n",
      "Epoch:  31%|███       | 46/150 [00:22<00:48,  2.15it/s]\n",
      "EP_45 | train loss: 0.44341385504778696 | val loss: 0.38454124974269493 |\n",
      "Epoch:  31%|███▏      | 47/150 [00:22<00:47,  2.15it/s]\n",
      "EP_46 | train loss: 0.4413296232036516 | val loss: 0.38016273461136163 |\n",
      "Epoch:  32%|███▏      | 48/150 [00:23<00:47,  2.13it/s]\n",
      "EP_47 | train loss: 0.436465020273246 | val loss: 0.37423119825475354 |\n",
      "Epoch:  33%|███▎      | 49/150 [00:23<00:47,  2.11it/s]\n",
      "EP_48 | train loss: 0.43416555909549487 | val loss: 0.3687676635442996 |\n",
      "Epoch:  33%|███▎      | 50/150 [00:24<00:48,  2.07it/s]\n",
      "EP_49 | train loss: 0.43230246188593846 | val loss: 0.3642105775720933 |\n",
      "Epoch:  34%|███▍      | 51/150 [00:24<00:48,  2.06it/s]\n",
      "EP_50 | train loss: 0.4284677729887121 | val loss: 0.35994380128149894 |\n",
      "Epoch:  35%|███▍      | 52/150 [00:25<00:47,  2.06it/s]\n",
      "EP_51 | train loss: 0.4284186653062409 | val loss: 0.356446948705935 |\n",
      "Epoch:  35%|███▌      | 53/150 [00:25<00:47,  2.04it/s]\n",
      "EP_52 | train loss: 0.4236218564650592 | val loss: 0.3523587806552064 |\n",
      "Epoch:  36%|███▌      | 54/150 [00:26<00:46,  2.06it/s]\n",
      "EP_53 | train loss: 0.4203475264941945 | val loss: 0.3485833850561404 |\n",
      "Epoch:  37%|███▋      | 55/150 [00:26<00:46,  2.06it/s]\n",
      "EP_54 | train loss: 0.4275815753375783 | val loss: 0.3526858254974964 |\n",
      "Epoch:  37%|███▋      | 56/150 [00:27<00:45,  2.08it/s]\n",
      "EP_55 | train loss: 0.41582610981137147 | val loss: 0.3432992439644009 |\n",
      "Epoch:  38%|███▊      | 57/150 [00:27<00:45,  2.03it/s]\n",
      "EP_56 | train loss: 0.41354603066163903 | val loss: 0.3399380328608494 |\n",
      "Epoch:  39%|███▊      | 58/150 [00:28<00:44,  2.06it/s]\n",
      "EP_57 | train loss: 0.4145320181753121 | val loss: 0.3415974822698855 |\n",
      "Epoch:  39%|███▉      | 59/150 [00:28<00:44,  2.05it/s]\n",
      "EP_58 | train loss: 0.4095533155927471 | val loss: 0.3358606170205509 |\n",
      "Epoch:  40%|████      | 60/150 [00:29<00:43,  2.06it/s]\n",
      "EP_59 | train loss: 0.4075000426348518 | val loss: 0.33535098094566196 |\n",
      "Epoch:  41%|████      | 61/150 [00:29<00:43,  2.04it/s]\n",
      "EP_60 | train loss: 0.4058338450450523 | val loss: 0.333985029482374 |\n",
      "Epoch:  41%|████▏     | 62/150 [00:30<00:43,  2.02it/s]\n",
      "EP_61 | train loss: 0.40200231963512945 | val loss: 0.3304286704343908 |\n",
      "Epoch:  42%|████▏     | 63/150 [00:30<00:44,  1.97it/s]\n",
      "EP_62 | train loss: 0.3992670910031188 | val loss: 0.32787811522390325 |\n",
      "Epoch:  43%|████▎     | 64/150 [00:31<00:43,  1.95it/s]\n",
      "EP_63 | train loss: 0.3966599389618518 | val loss: 0.32697507446887447 |\n",
      "Epoch:  43%|████▎     | 65/150 [00:31<00:43,  1.96it/s]\n",
      "EP_64 | train loss: 0.3944836368747786 | val loss: 0.3258050703534893 |\n",
      "Epoch:  44%|████▍     | 66/150 [00:32<00:42,  1.99it/s]\n",
      "EP_65 | train loss: 0.3950253916721718 | val loss: 0.327059736438826 |\n",
      "Epoch:  45%|████▍     | 67/150 [00:32<00:42,  1.97it/s]\n",
      "EP_66 | train loss: 0.3922176809871898 | val loss: 0.3250268487369313 |\n",
      "Epoch:  45%|████▌     | 68/150 [00:33<00:40,  2.00it/s]\n",
      "EP_67 | train loss: 0.3864266905130125 | val loss: 0.3211863742155187 |\n",
      "Epoch:  46%|████▌     | 69/150 [00:33<00:41,  1.97it/s]\n",
      "EP_68 | train loss: 0.38513446041181976 | val loss: 0.32131066976809036 |\n",
      "Epoch:  47%|████▋     | 70/150 [00:34<00:40,  1.98it/s]\n",
      "EP_69 | train loss: 0.3813184448316985 | val loss: 0.3190290179907107 |\n",
      "Epoch:  47%|████▋     | 71/150 [00:34<00:39,  1.99it/s]\n",
      "EP_70 | train loss: 0.3792667033625584 | val loss: 0.31806345079459397 |\n",
      "Epoch:  48%|████▊     | 72/150 [00:35<00:38,  2.02it/s]\n",
      "EP_71 | train loss: 0.3768773382785274 | val loss: 0.3162623713998234 |\n",
      "Epoch:  49%|████▊     | 73/150 [00:35<00:38,  2.02it/s]\n",
      "EP_72 | train loss: 0.37442246465122 | val loss: 0.31436772439994065 |\n",
      "Epoch:  49%|████▉     | 74/150 [00:36<00:37,  2.05it/s]\n",
      "EP_73 | train loss: 0.3755651707742728 | val loss: 0.3147180688147451 |\n",
      "Epoch:  50%|█████     | 75/150 [00:36<00:37,  2.02it/s]\n",
      "EP_74 | train loss: 0.3706295985801547 | val loss: 0.31171923057705747 |\n",
      "Epoch:  51%|█████     | 76/150 [00:37<00:37,  1.98it/s]\n",
      "EP_75 | train loss: 0.3667975290148866 | val loss: 0.31041863852856205 |\n",
      "Epoch:  51%|█████▏    | 77/150 [00:37<00:36,  1.99it/s]\n",
      "EP_76 | train loss: 0.3672113254958508 | val loss: 0.3103680657405479 |\n",
      "Epoch:  52%|█████▏    | 78/150 [00:38<00:35,  2.01it/s]\n",
      "EP_77 | train loss: 0.36178732058581187 | val loss: 0.3063473514482087 |\n",
      "Epoch:  53%|█████▎    | 79/150 [00:38<00:35,  2.00it/s]\n",
      "EP_78 | train loss: 0.3573783229379093 | val loss: 0.3050469463946773 |\n",
      "Epoch:  53%|█████▎    | 80/150 [00:39<00:34,  2.03it/s]\n",
      "EP_79 | train loss: 0.35425167738222607 | val loss: 0.30260320270762725 |\n",
      "Epoch:  54%|█████▍    | 81/150 [00:39<00:34,  2.02it/s]\n",
      "EP_80 | train loss: 0.35561284925423414 | val loss: 0.3033067011365704 |\n",
      "Epoch:  55%|█████▍    | 82/150 [00:40<00:33,  2.04it/s]\n",
      "EP_81 | train loss: 0.34758367304708443 | val loss: 0.29917195264030905 |\n",
      "Epoch:  55%|█████▌    | 83/150 [00:40<00:32,  2.04it/s]\n",
      "EP_82 | train loss: 0.34473632737702015 | val loss: 0.298253386628394 |\n",
      "Epoch:  56%|█████▌    | 84/150 [00:41<00:33,  1.99it/s]\n",
      "EP_83 | train loss: 0.3432755526374368 | val loss: 0.2952424591662837 |\n",
      "Epoch:  57%|█████▋    | 85/150 [00:41<00:32,  1.98it/s]\n",
      "EP_84 | train loss: 0.3394043169769586 | val loss: 0.29334303911994486 |\n",
      "Epoch:  57%|█████▋    | 86/150 [00:42<00:33,  1.92it/s]\n",
      "EP_85 | train loss: 0.33528724745208144 | val loss: 0.2909196825588451 |\n",
      "Epoch:  58%|█████▊    | 87/150 [00:42<00:32,  1.92it/s]\n",
      "EP_86 | train loss: 0.33355116516936056 | val loss: 0.28967686727935194 |\n",
      "Epoch:  59%|█████▊    | 88/150 [00:43<00:32,  1.91it/s]\n",
      "EP_87 | train loss: 0.3293457596909766 | val loss: 0.2872618039449056 |\n",
      "Epoch:  59%|█████▉    | 89/150 [00:43<00:31,  1.91it/s]\n",
      "EP_88 | train loss: 0.32334437931285187 | val loss: 0.2862248747956519 |\n",
      "Epoch:  60%|██████    | 90/150 [00:44<00:31,  1.93it/s]\n",
      "EP_89 | train loss: 0.33013006799361283 | val loss: 0.2863292039609423 |\n",
      "Epoch:  61%|██████    | 91/150 [00:44<00:30,  1.95it/s]\n",
      "EP_90 | train loss: 0.31721632013133927 | val loss: 0.2803191671184465 |\n",
      "Epoch:  61%|██████▏   | 92/150 [00:45<00:29,  1.97it/s]\n",
      "EP_91 | train loss: 0.3147514721926521 | val loss: 0.27589740005193975 |\n",
      "Epoch:  62%|██████▏   | 93/150 [00:45<00:29,  1.94it/s]\n",
      "EP_92 | train loss: 0.3141110625921511 | val loss: 0.27421171524945426 |\n",
      "Epoch:  63%|██████▎   | 94/150 [00:46<00:28,  1.98it/s]\n",
      "EP_93 | train loss: 0.3065046333799175 | val loss: 0.2718079323862113 |\n",
      "Epoch:  63%|██████▎   | 95/150 [00:46<00:27,  1.97it/s]\n",
      "EP_94 | train loss: 0.30164075832740933 | val loss: 0.27052271132375677 |\n",
      "Epoch:  64%|██████▍   | 96/150 [00:47<00:26,  2.01it/s]\n",
      "EP_95 | train loss: 0.29798739751180015 | val loss: 0.26397097344492 |\n",
      "Epoch:  65%|██████▍   | 97/150 [00:47<00:26,  2.00it/s]\n",
      "EP_96 | train loss: 0.3024533933284236 | val loss: 0.26451950914719524 |\n",
      "Epoch:  65%|██████▌   | 98/150 [00:48<00:25,  2.03it/s]\n",
      "EP_97 | train loss: 0.2940328027687821 | val loss: 0.25868848258373783 |\n",
      "Epoch:  66%|██████▌   | 99/150 [00:48<00:25,  2.01it/s]\n",
      "EP_98 | train loss: 0.2861819215849334 | val loss: 0.25767019683239506 |\n",
      "Epoch:  67%|██████▋   | 100/150 [00:49<00:24,  2.03it/s]\n",
      "EP_99 | train loss: 0.28775515649832933 | val loss: 0.2517079138288311 |\n",
      "Epoch:  67%|██████▋   | 101/150 [00:49<00:23,  2.06it/s]\n",
      "EP_100 | train loss: 0.2773194607566385 | val loss: 0.24599567114138135 |\n",
      "Epoch:  68%|██████▊   | 102/150 [00:50<00:22,  2.10it/s]\n",
      "EP_101 | train loss: 0.274277411255182 | val loss: 0.24263950890185787 |\n",
      "Epoch:  69%|██████▊   | 103/150 [00:50<00:22,  2.09it/s]\n",
      "EP_102 | train loss: 0.271969056596943 | val loss: 0.23997467639399508 |\n",
      "Epoch:  69%|██████▉   | 104/150 [00:51<00:21,  2.14it/s]\n",
      "EP_103 | train loss: 0.2648963318151586 | val loss: 0.2352147195853439 |\n",
      "Epoch:  70%|███████   | 105/150 [00:51<00:20,  2.15it/s]\n",
      "EP_104 | train loss: 0.2608845051597146 | val loss: 0.23187370861277862 |\n",
      "Epoch:  71%|███████   | 106/150 [00:51<00:20,  2.18it/s]\n",
      "EP_105 | train loss: 0.2547007588779225 | val loss: 0.22761961993049173 |\n",
      "Epoch:  71%|███████▏  | 107/150 [00:52<00:20,  2.12it/s]\n",
      "EP_106 | train loss: 0.24836079887315338 | val loss: 0.22250030554977118 |\n",
      "Epoch:  72%|███████▏  | 108/150 [00:52<00:19,  2.16it/s]\n",
      "EP_107 | train loss: 0.24431951653723624 | val loss: 0.21883393268959195 |\n",
      "Epoch:  73%|███████▎  | 109/150 [00:53<00:18,  2.16it/s]\n",
      "EP_108 | train loss: 0.2498191148627038 | val loss: 0.2194964605219224 |\n",
      "Epoch:  73%|███████▎  | 110/150 [00:53<00:18,  2.19it/s]\n",
      "EP_109 | train loss: 0.23290238146688425 | val loss: 0.20984565042981915 |\n",
      "Epoch:  74%|███████▍  | 111/150 [00:54<00:18,  2.15it/s]\n",
      "EP_110 | train loss: 0.22900870196959552 | val loss: 0.2094280065274706 |\n",
      "Epoch:  75%|███████▍  | 112/150 [00:54<00:17,  2.17it/s]\n",
      "EP_111 | train loss: 0.23020665832594328 | val loss: 0.2030984864515417 |\n",
      "Epoch:  75%|███████▌  | 113/150 [00:55<00:17,  2.16it/s]\n",
      "EP_112 | train loss: 0.22405117095685473 | val loss: 0.19699573984333113 |\n",
      "Epoch:  76%|███████▌  | 114/150 [00:55<00:16,  2.16it/s]\n",
      "EP_113 | train loss: 0.21113989937539193 | val loss: 0.18998479609395943 |\n",
      "Epoch:  77%|███████▋  | 115/150 [00:56<00:16,  2.14it/s]\n",
      "EP_114 | train loss: 0.20564984200047512 | val loss: 0.18457937240600586 |\n",
      "Epoch:  77%|███████▋  | 116/150 [00:56<00:16,  2.12it/s]\n",
      "EP_115 | train loss: 0.20084237304388308 | val loss: 0.17899536852743111 |\n",
      "Epoch:  78%|███████▊  | 117/150 [00:57<00:15,  2.11it/s]\n",
      "EP_116 | train loss: 0.19737380906647328 | val loss: 0.17321929510901957 |\n",
      "Epoch:  79%|███████▊  | 118/150 [00:57<00:15,  2.11it/s]\n",
      "EP_117 | train loss: 0.18945145793989593 | val loss: 0.16965424780752145 |\n",
      "Epoch:  79%|███████▉  | 119/150 [00:58<00:14,  2.09it/s]\n",
      "EP_118 | train loss: 0.18519411554523543 | val loss: 0.16331306859558703 |\n",
      "Epoch:  80%|████████  | 120/150 [00:58<00:14,  2.10it/s]\n",
      "EP_119 | train loss: 0.18751693519891477 | val loss: 0.17485757902556776 |\n",
      "Epoch:  81%|████████  | 121/150 [00:58<00:13,  2.09it/s]\n",
      "EP_120 | train loss: 0.18071859958125094 | val loss: 0.15857298701417213 |\n",
      "Epoch:  81%|████████▏ | 122/150 [00:59<00:13,  2.09it/s]\n",
      "EP_121 | train loss: 0.1687940807903514 | val loss: 0.1515519805983001 |\n",
      "Epoch:  82%|████████▏ | 123/150 [00:59<00:12,  2.08it/s]\n",
      "EP_122 | train loss: 0.17032198485206154 | val loss: 0.14713929914960674 |\n",
      "Epoch:  83%|████████▎ | 124/150 [01:00<00:12,  2.12it/s]\n",
      "EP_123 | train loss: 0.15985208188786226 | val loss: 0.14198929188298245 |\n",
      "Epoch:  83%|████████▎ | 125/150 [01:00<00:12,  2.07it/s]\n",
      "EP_124 | train loss: 0.15693473138061223 | val loss: 0.13834943958357268 |\n",
      "Epoch:  84%|████████▍ | 126/150 [01:01<00:11,  2.07it/s]\n",
      "EP_125 | train loss: 0.16188925761802525 | val loss: 0.14161847619449391 |\n",
      "Epoch:  85%|████████▍ | 127/150 [01:01<00:11,  2.07it/s]\n",
      "EP_126 | train loss: 0.14212499144030552 | val loss: 0.12926828160005457 |\n",
      "Epoch:  85%|████████▌ | 128/150 [01:02<00:10,  2.11it/s]\n",
      "EP_127 | train loss: 0.13732495378045476 | val loss: 0.12333220827813242 |\n",
      "Epoch:  86%|████████▌ | 129/150 [01:02<00:10,  2.07it/s]\n",
      "EP_128 | train loss: 0.13039410815519445 | val loss: 0.1176156015957103 |\n",
      "Epoch:  87%|████████▋ | 130/150 [01:03<00:09,  2.11it/s]\n",
      "EP_129 | train loss: 0.12777592387853884 | val loss: 0.11816789589676202 |\n",
      "Epoch:  87%|████████▋ | 131/150 [01:03<00:08,  2.14it/s]\n",
      "EP_130 | train loss: 0.1237572124191359 | val loss: 0.11552117385116278 |\n",
      "Epoch:  88%|████████▊ | 132/150 [01:04<00:08,  2.13it/s]\n",
      "EP_131 | train loss: 0.12132946182699765 | val loss: 0.10954583626167447 |\n",
      "Epoch:  89%|████████▊ | 133/150 [01:04<00:08,  2.12it/s]\n",
      "EP_132 | train loss: 0.1116647272717719 | val loss: 0.10385636722340304 |\n",
      "Epoch:  89%|████████▉ | 134/150 [01:05<00:07,  2.09it/s]\n",
      "EP_133 | train loss: 0.10901994155902489 | val loss: 0.09890342226215437 |\n",
      "Epoch:  90%|█████████ | 135/150 [01:05<00:07,  2.04it/s]\n",
      "EP_134 | train loss: 0.12031876585062812 | val loss: 0.10597052994896383 |\n",
      "Epoch:  91%|█████████ | 136/150 [01:06<00:07,  1.98it/s]\n",
      "EP_135 | train loss: 0.10488606586175807 | val loss: 0.0928650136087455 |\n",
      "Epoch:  91%|█████████▏| 137/150 [01:06<00:06,  1.98it/s]\n",
      "EP_136 | train loss: 0.09677053058848661 | val loss: 0.08897597182030771 |\n",
      "Epoch:  92%|█████████▏| 138/150 [01:07<00:06,  1.97it/s]\n",
      "EP_137 | train loss: 0.11738066299288881 | val loss: 0.10721765546237721 |\n",
      "Epoch:  93%|█████████▎| 139/150 [01:07<00:05,  1.97it/s]\n",
      "EP_138 | train loss: 0.08775700307359882 | val loss: 0.08274116703108245 |\n",
      "Epoch:  93%|█████████▎| 140/150 [01:08<00:05,  2.00it/s]\n",
      "EP_139 | train loss: 0.08359106907657549 | val loss: 0.08020207227445116 |\n",
      "Epoch:  94%|█████████▍| 141/150 [01:08<00:04,  1.98it/s]\n",
      "EP_140 | train loss: 0.0795629972336339 | val loss: 0.07524687168644924 |\n",
      "Epoch:  95%|█████████▍| 142/150 [01:09<00:04,  1.97it/s]\n",
      "EP_141 | train loss: 0.08155768490305133 | val loss: 0.07973381351022159 |\n",
      "Epoch:  95%|█████████▌| 143/150 [01:09<00:03,  1.97it/s]\n",
      "EP_142 | train loss: 0.07682561640645943 | val loss: 0.07364914464015587 |\n",
      "Epoch:  96%|█████████▌| 144/150 [01:10<00:03,  1.99it/s]\n",
      "EP_143 | train loss: 0.07114085595981748 | val loss: 0.06766454729379393 |\n",
      "Epoch:  97%|█████████▋| 145/150 [01:10<00:02,  1.98it/s]\n",
      "EP_144 | train loss: 0.07339292717914955 | val loss: 0.07012873420528337 |\n",
      "Epoch:  97%|█████████▋| 146/150 [01:11<00:01,  2.01it/s]\n",
      "EP_145 | train loss: 0.08140052358309428 | val loss: 0.07793342365938075 |\n",
      "Epoch:  98%|█████████▊| 147/150 [01:11<00:01,  2.01it/s]\n",
      "EP_146 | train loss: 0.10206817318411435 | val loss: 0.09789447457182641 |\n",
      "Epoch:  99%|█████████▊| 148/150 [01:12<00:00,  2.01it/s]\n",
      "EP_147 | train loss: 0.06885646751113966 | val loss: 0.06528222560882568 |\n",
      "Epoch:  99%|█████████▉| 149/150 [01:12<00:00,  1.96it/s]\n",
      "EP_148 | train loss: 0.05837482535371594 | val loss: 0.056791750823750216 |\n",
      "Epoch: 100%|██████████| 150/150 [01:13<00:00,  2.05it/s]\n",
      "EP_149 | train loss: 0.05426505330730887 | val loss: 0.05336598087759579 |\n",
      "\n"
     ]
    }
   ],
   "source": [
    "AttractiveTrainer.train()"
   ]
  },
  {
   "cell_type": "markdown",
   "metadata": {},
   "source": [
    "## Below is testing"
   ]
  },
  {
   "cell_type": "code",
   "execution_count": 6,
   "metadata": {},
   "outputs": [
    {
     "output_type": "execute_result",
     "data": {
      "text/plain": [
       "AttractiveNet(\n",
       "  (embedding): AttractiveEmbedding(\n",
       "    (token): TokenEmbedding(12699, 300, padding_idx=1)\n",
       "  )\n",
       "  (bigramcnn): Sequential(\n",
       "    (0): Conv1d(300, 210, kernel_size=(2,), stride=(1,), padding=(1,))\n",
       "    (1): ReLU()\n",
       "    (2): Conv1d(210, 100, kernel_size=(2,), stride=(1,), padding=(1,))\n",
       "    (3): ReLU()\n",
       "    (4): Dropout(p=0.5, inplace=False)\n",
       "  )\n",
       "  (trigramcnn): Sequential(\n",
       "    (0): Conv1d(300, 210, kernel_size=(3,), stride=(1,), padding=(1,))\n",
       "    (1): ReLU()\n",
       "    (2): Conv1d(210, 100, kernel_size=(3,), stride=(1,), padding=(1,))\n",
       "    (3): ReLU()\n",
       "    (4): Dropout(p=0.5, inplace=False)\n",
       "  )\n",
       "  (encoder_bigram): LSTM(100, 30, batch_first=True, dropout=0.5, bidirectional=True)\n",
       "  (encoder_trigram): LSTM(100, 30, batch_first=True, dropout=0.5, bidirectional=True)\n",
       "  (linear): Sequential(\n",
       "    (0): Linear(in_features=128, out_features=30, bias=True)\n",
       "    (1): ReLU()\n",
       "    (2): Linear(in_features=30, out_features=1, bias=True)\n",
       "  )\n",
       ")"
      ]
     },
     "metadata": {},
     "execution_count": 6
    }
   ],
   "source": [
    "from attractivenet import AttractiveNet\n",
    "\n",
    "PATH = './model/CNN_LSTM_20201110-210218/0.344736.82'\n",
    "\n",
    "load_model = AttractiveNet(config).to(AttractiveData.device)\n",
    "load_model.load_state_dict(torch.load(PATH))\n",
    "load_model.eval()"
   ]
  },
  {
   "cell_type": "code",
   "execution_count": 7,
   "metadata": {},
   "outputs": [],
   "source": [
    "def predict_attractive(sentence, category, phase):\n",
    "    indexed_sentence = [AttractiveData.TEXT.vocab.stoi[t] for t in sentence]\n",
    "    indexed_category = [AttractiveData.CATEGORIES_LABEL.vocab.stoi[category]]\n",
    "    tensor_sentence = torch.LongTensor(indexed_sentence).to(AttractiveData.device)\n",
    "    tensor_category = torch.LongTensor(indexed_category).to(AttractiveData.device)\n",
    "    tensor_sentence = tensor_sentence.unsqueeze(0)\n",
    "\n",
    "    prediction = load_model(tensor_sentence, tensor_category, phase=phase)\n",
    "\n",
    "    return prediction"
   ]
  },
  {
   "cell_type": "code",
   "execution_count": 8,
   "metadata": {
    "tags": []
   },
   "outputs": [],
   "source": [
    "predict_list = []\n",
    "with torch.no_grad():\n",
    "    for i, sentence in enumerate(AttractiveData.test_data):\n",
    "        prediction = predict_attractive(sentence.Headline, sentence.Category, 'test')\n",
    "        predict_list.append(prediction.item())\n",
    "\n",
    "AttractiveData.df_test['Label'] = predict_list\n",
    "AttractiveData.df_test[['ID', 'Label']].to_csv(config['save_name'] + '.csv', index=False)"
   ]
  },
  {
   "cell_type": "markdown",
   "metadata": {},
   "source": [
    "## Below for statistics"
   ]
  },
  {
   "cell_type": "code",
   "execution_count": 9,
   "metadata": {},
   "outputs": [],
   "source": [
    "import statistics\n",
    "from sklearn.metrics import mean_squared_error"
   ]
  },
  {
   "cell_type": "code",
   "execution_count": 10,
   "metadata": {},
   "outputs": [],
   "source": [
    "# # train mean = 3.15, test mean = 2.8\n",
    "# train_list = []\n",
    "# for i, sentence in enumerate(AttractiveData.train_data):\n",
    "#     prediction = predict_attractive(sentence.Headline, sentence.Category, 'train')\n",
    "#     train_list.append(prediction.item())\n",
    "#     # train_list.append(prediction.item())\n",
    "# # print(train_list)\n",
    "# mean_squared_error(pd.read_csv('data/train.csv').sort_values(['ID']).Label.to_list(), train_list), statistics.mean(train_list), statistics.stdev(train_list)"
   ]
  },
  {
   "cell_type": "code",
   "execution_count": 11,
   "metadata": {},
   "outputs": [],
   "source": [
    "# train_list[0:5], pd.read_csv('data/train.csv').sort_values(['ID']).Label.to_list()[0:5]"
   ]
  },
  {
   "cell_type": "code",
   "execution_count": 12,
   "metadata": {},
   "outputs": [],
   "source": [
    "# a = AttractiveData.df_train['Label'].to_list()\n",
    "# statistics.mean(a), statistics.stdev(a)"
   ]
  },
  {
   "cell_type": "code",
   "execution_count": 13,
   "metadata": {},
   "outputs": [
    {
     "output_type": "execute_result",
     "data": {
      "text/plain": [
       "(2.79339168670419, 0.37309202066785396)"
      ]
     },
     "metadata": {},
     "execution_count": 13
    }
   ],
   "source": [
    "statistics.mean(predict_list), statistics.stdev(predict_list)"
   ]
  },
  {
   "cell_type": "code",
   "execution_count": 14,
   "metadata": {},
   "outputs": [
    {
     "output_type": "execute_result",
     "data": {
      "text/plain": [
       "(0.021066343967406347, 2.8142020345259344, 0.36798823904910916)"
      ]
     },
     "metadata": {},
     "execution_count": 14
    }
   ],
   "source": [
    "baseline_list = pd.read_csv('baseline.csv').sort_values(['ID']).Label.to_list()\n",
    "mean_squared_error(baseline_list, predict_list), statistics.mean(baseline_list), statistics.stdev(baseline_list)"
   ]
  },
  {
   "cell_type": "code",
   "execution_count": null,
   "metadata": {},
   "outputs": [],
   "source": []
  },
  {
   "cell_type": "code",
   "execution_count": 17,
   "metadata": {},
   "outputs": [
    {
     "output_type": "execute_result",
     "data": {
      "text/plain": [
       "0.0"
      ]
     },
     "metadata": {},
     "execution_count": 17
    }
   ],
   "source": [
    "mean_squared_error(pd.read_csv('baseline.csv').sort_values(['ID']).Label.to_list(), pd.read_csv('../309551062/predict/CNN_LSTM_20201109-125007_0.374958.75.csv').sort_values(['ID']).Label.to_list())"
   ]
  },
  {
   "cell_type": "code",
   "execution_count": 13,
   "metadata": {},
   "outputs": [],
   "source": []
  },
  {
   "cell_type": "code",
   "execution_count": null,
   "metadata": {},
   "outputs": [],
   "source": []
  }
 ],
 "metadata": {
  "kernelspec": {
   "display_name": "DS_hw2",
   "language": "python",
   "name": "ds_hw2"
  },
  "language_info": {
   "codemirror_mode": {
    "name": "ipython",
    "version": 3
   },
   "file_extension": ".py",
   "mimetype": "text/x-python",
   "name": "python",
   "nbconvert_exporter": "python",
   "pygments_lexer": "ipython3",
   "version": "3.6.12-final"
  }
 },
 "nbformat": 4,
 "nbformat_minor": 4
}