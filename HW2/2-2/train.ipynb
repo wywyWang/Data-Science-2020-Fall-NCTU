{
 "cells": [
  {
   "cell_type": "code",
   "execution_count": 1,
   "metadata": {},
   "outputs": [],
   "source": [
    "# common packages\n",
    "import pandas as pd\n",
    "import time\n",
    "\n",
    "# # DL framework\n",
    "import torch\n",
    "from torchtext import data\n",
    "\n",
    "from attractivedata import AttractiveData\n",
    "from trainer import AttractiveTrainer"
   ]
  },
  {
   "cell_type": "code",
   "execution_count": 2,
   "metadata": {},
   "outputs": [],
   "source": [
    "seed_value = 42\n",
    "torch.manual_seed(seed_value)\n",
    "torch.cuda.manual_seed(seed_value)\n",
    "torch.cuda.manual_seed_all(seed_value) # gpu vars\n",
    "torch.backends.cudnn.deterministic = True  #needed\n",
    "torch.backends.cudnn.benchmark = False"
   ]
  },
  {
   "cell_type": "markdown",
   "metadata": {},
   "source": [
    "## Load and prepare data"
   ]
  },
  {
   "cell_type": "code",
   "execution_count": 3,
   "metadata": {},
   "outputs": [],
   "source": [
    "train_file = 'data/train.csv'\n",
    "val_file = 'example/val.csv'\n",
    "test_file = 'data/test.csv'\n",
    "pretrained_file = 'glove.840B.300d'\n",
    "config = {\n",
    "    'max_seq': 40,\n",
    "    'min_freq': 0,\n",
    "    'batch_size': 64,\n",
    "    'pretrained_file': pretrained_file\n",
    "}\n"
   ]
  },
  {
   "cell_type": "code",
   "execution_count": 4,
   "metadata": {},
   "outputs": [],
   "source": [
    "AttractiveData = AttractiveData(train_file, val_file, test_file, pretrained_file, config)"
   ]
  },
  {
   "cell_type": "markdown",
   "metadata": {},
   "source": [
    "## Start to train"
   ]
  },
  {
   "cell_type": "code",
   "execution_count": 5,
   "metadata": {},
   "outputs": [
    {
     "output_type": "stream",
     "name": "stdout",
     "text": [
      "torch.Size([12699, 300])\n"
     ]
    }
   ],
   "source": [
    "config['timestr'] = time.strftime(\"%Y%m%d-%H%M%S\")\n",
    "config['save_name'] = 'CNN_LSTM'\n",
    "config['input_dim'] = len(AttractiveData.TEXT.vocab)\n",
    "config['embedding_dim'] = 300\n",
    "config['category_dim'] = len(AttractiveData.CATEGORIES_LABEL.vocab)\n",
    "config['category_embedding_dim'] = 10\n",
    "config['hidden_dim'] = 30\n",
    "config['output_dim'] = 1\n",
    "config['log_steps'] = 10\n",
    "config['epochs'] = 150\n",
    "config['lr'] = {\n",
    "    'encoder': 1e-5,\n",
    "    'embedding': 6e-6,\n",
    "    'linear': 1e-5\n",
    "}\n",
    "config['num_layers'] = 1\n",
    "config['kernel_size'] = 3\n",
    "config['dropout'] = 0.5\n",
    "config['train_len'] = AttractiveData.train_len\n",
    "config['val_len'] = AttractiveData.val_len\n",
    "config['test_len'] = AttractiveData.test_len\n",
    "\n",
    "pretrained_embeddings = AttractiveData.TEXT.vocab.vectors\n",
    "print(pretrained_embeddings.shape)"
   ]
  },
  {
   "cell_type": "code",
   "execution_count": 6,
   "metadata": {},
   "outputs": [],
   "source": [
    "AttractiveTrainer = AttractiveTrainer(config, AttractiveData.device, AttractiveData.trainloader, AttractiveData.valloader, pretrained_embeddings)"
   ]
  },
  {
   "cell_type": "code",
   "execution_count": 7,
   "metadata": {},
   "outputs": [
    {
     "output_type": "execute_result",
     "data": {
      "text/plain": [
       "(AttractiveNet(\n",
       "   (embedding): AttractiveEmbedding(\n",
       "     (token): TokenEmbedding(12699, 300, padding_idx=1)\n",
       "   )\n",
       "   (bigramcnn): Sequential(\n",
       "     (0): Conv1d(300, 210, kernel_size=(2,), stride=(1,), padding=(1,))\n",
       "     (1): ReLU()\n",
       "     (2): Conv1d(210, 100, kernel_size=(2,), stride=(1,), padding=(1,))\n",
       "     (3): ReLU()\n",
       "     (4): Dropout(p=0.5, inplace=False)\n",
       "   )\n",
       "   (trigramcnn): Sequential(\n",
       "     (0): Conv1d(300, 210, kernel_size=(3,), stride=(1,), padding=(1,))\n",
       "     (1): ReLU()\n",
       "     (2): Conv1d(210, 100, kernel_size=(3,), stride=(1,), padding=(1,))\n",
       "     (3): ReLU()\n",
       "     (4): Dropout(p=0.5, inplace=False)\n",
       "   )\n",
       "   (encoder_bigram): LSTM(100, 30, batch_first=True, dropout=0.5, bidirectional=True)\n",
       "   (encoder_trigram): LSTM(100, 30, batch_first=True, dropout=0.5, bidirectional=True)\n",
       "   (linear): Sequential(\n",
       "     (0): Linear(in_features=128, out_features=30, bias=True)\n",
       "     (1): ReLU()\n",
       "     (2): Linear(in_features=30, out_features=1, bias=True)\n",
       "   )\n",
       " ),\n",
       " 4297581,\n",
       " 4297581)"
      ]
     },
     "metadata": {},
     "execution_count": 7
    }
   ],
   "source": [
    "AttractiveTrainer.model, AttractiveTrainer.config['total_params'], AttractiveTrainer.config['total_learned_params']"
   ]
  },
  {
   "cell_type": "code",
   "execution_count": 8,
   "metadata": {
    "tags": []
   },
   "outputs": [
    {
     "output_type": "stream",
     "name": "stderr",
     "text": [
      "Epoch:   1%|          | 1/150 [00:00<01:30,  1.65it/s]\n",
      "EP_0 | train loss: 1.4277914215536678 | val loss: 2.5204460527382646 |\n",
      "Epoch:   1%|▏         | 2/150 [00:01<01:28,  1.67it/s]\n",
      "EP_1 | train loss: 0.608335134562324 | val loss: 1.1282592053506888 |\n",
      "Epoch:   2%|▏         | 3/150 [00:01<01:26,  1.70it/s]\n",
      "EP_2 | train loss: 0.6110935482324339 | val loss: 1.0133813479367424 |\n",
      "Epoch:   3%|▎         | 4/150 [00:02<01:26,  1.68it/s]\n",
      "EP_3 | train loss: 0.5912948940314499 | val loss: 0.9784785041622087 |\n",
      "Epoch:   3%|▎         | 5/150 [00:02<01:26,  1.68it/s]\n",
      "EP_4 | train loss: 0.5953719728133258 | val loss: 0.9023642726972991 |\n",
      "Epoch:   4%|▍         | 6/150 [00:03<01:26,  1.67it/s]\n",
      "EP_5 | train loss: 0.5849682162789738 | val loss: 0.8623944894940245 |\n",
      "Epoch:   5%|▍         | 7/150 [00:04<01:24,  1.69it/s]\n",
      "EP_6 | train loss: 0.5795424031276329 | val loss: 0.804870701303669 |\n",
      "Epoch:   5%|▌         | 8/150 [00:04<01:23,  1.70it/s]\n",
      "EP_7 | train loss: 0.5847050891203038 | val loss: 0.7591148977186165 |\n",
      "Epoch:   6%|▌         | 9/150 [00:05<01:22,  1.71it/s]\n",
      "EP_8 | train loss: 0.5569267043880388 | val loss: 0.7393920585220936 |\n",
      "Epoch:   7%|▋         | 10/150 [00:05<01:21,  1.72it/s]\n",
      "EP_9 | train loss: 0.5727660468980378 | val loss: 0.6879735904581407 |\n",
      "Epoch:   7%|▋         | 11/150 [00:06<01:22,  1.69it/s]\n",
      "EP_10 | train loss: 0.552963469542709 | val loss: 0.6631534146327599 |\n",
      "Epoch:   8%|▊         | 12/150 [00:07<01:21,  1.70it/s]\n",
      "EP_11 | train loss: 0.5382076398999083 | val loss: 0.6753632765190274 |\n",
      "Epoch:   9%|▊         | 13/150 [00:07<01:20,  1.70it/s]\n",
      "EP_12 | train loss: 0.5462420720680087 | val loss: 0.6282122018290501 |\n",
      "Epoch:   9%|▉         | 14/150 [00:08<01:19,  1.71it/s]\n",
      "EP_13 | train loss: 0.5390453609765745 | val loss: 0.6096824045274772 |\n",
      "Epoch:  10%|█         | 15/150 [00:08<01:18,  1.72it/s]\n",
      "EP_14 | train loss: 0.5311595178117939 | val loss: 0.5903540826311299 |\n",
      "Epoch:  11%|█         | 16/150 [00:09<01:17,  1.73it/s]\n",
      "EP_15 | train loss: 0.5409268818649591 | val loss: 0.5660937066171684 |\n",
      "Epoch:  11%|█▏        | 17/150 [00:09<01:17,  1.73it/s]\n",
      "EP_16 | train loss: 0.5262870124742096 | val loss: 0.563023609273574 |\n",
      "Epoch:  12%|█▏        | 18/150 [00:10<01:16,  1.73it/s]\n",
      "EP_17 | train loss: 0.5237289760626999 | val loss: 0.5476810639979792 |\n",
      "Epoch:  13%|█▎        | 19/150 [00:11<01:15,  1.74it/s]\n",
      "EP_18 | train loss: 0.5238971836426679 | val loss: 0.5338737497142717 |\n",
      "Epoch:  13%|█▎        | 20/150 [00:11<01:14,  1.74it/s]\n",
      "EP_19 | train loss: 0.5177225533653708 | val loss: 0.5230623284975687 |\n",
      "Epoch:  14%|█▍        | 21/150 [00:12<01:15,  1.72it/s]\n",
      "EP_20 | train loss: 0.5174653048608817 | val loss: 0.5101776993742176 |\n",
      "Epoch:  15%|█▍        | 22/150 [00:12<01:13,  1.73it/s]\n",
      "EP_21 | train loss: 0.5112743536631267 | val loss: 0.4998573111552818 |\n",
      "Epoch:  15%|█▌        | 23/150 [00:13<01:13,  1.73it/s]\n",
      "EP_22 | train loss: 0.5071115451700547 | val loss: 0.4911908296977772 |\n",
      "Epoch:  16%|█▌        | 24/150 [00:13<01:12,  1.73it/s]\n",
      "EP_23 | train loss: 0.5059131739186306 | val loss: 0.48068877704003277 |\n",
      "Epoch:  17%|█▋        | 25/150 [00:14<01:12,  1.72it/s]\n",
      "EP_24 | train loss: 0.5033721264670877 | val loss: 0.47343109518873927 |\n",
      "Epoch:  17%|█▋        | 26/150 [00:15<01:11,  1.73it/s]\n",
      "EP_25 | train loss: 0.4956096999785479 | val loss: 0.46594006524366494 |\n",
      "Epoch:  18%|█▊        | 27/150 [00:15<01:11,  1.72it/s]\n",
      "EP_26 | train loss: 0.48989658542707853 | val loss: 0.4590653146014494 |\n",
      "Epoch:  19%|█▊        | 28/150 [00:16<01:11,  1.71it/s]\n",
      "EP_27 | train loss: 0.4850273609161377 | val loss: 0.45341093925868764 |\n",
      "Epoch:  19%|█▉        | 29/150 [00:16<01:10,  1.71it/s]\n",
      "EP_28 | train loss: 0.48843919249141915 | val loss: 0.4431971159635806 |\n",
      "Epoch:  20%|██        | 30/150 [00:17<01:09,  1.72it/s]\n",
      "EP_29 | train loss: 0.47926075785767797 | val loss: 0.43735234234847276 |\n",
      "Epoch:  21%|██        | 31/150 [00:18<01:09,  1.71it/s]\n",
      "EP_30 | train loss: 0.4752208756465538 | val loss: 0.43089287187538894 |\n",
      "Epoch:  21%|██▏       | 32/150 [00:18<01:08,  1.72it/s]\n",
      "EP_31 | train loss: 0.4766131985421274 | val loss: 0.423198157081417 |\n",
      "Epoch:  22%|██▏       | 33/150 [00:19<01:08,  1.71it/s]\n",
      "EP_32 | train loss: 0.46771533068488624 | val loss: 0.41850246518265966 |\n",
      "Epoch:  23%|██▎       | 34/150 [00:19<01:07,  1.72it/s]\n",
      "EP_33 | train loss: 0.47138607361737417 | val loss: 0.41262424751824023 |\n",
      "Epoch:  23%|██▎       | 35/150 [00:20<01:07,  1.71it/s]\n",
      "EP_34 | train loss: 0.4626570224761963 | val loss: 0.40514838987705754 |\n",
      "Epoch:  24%|██▍       | 36/150 [00:20<01:06,  1.72it/s]\n",
      "EP_35 | train loss: 0.4653417269388835 | val loss: 0.40178900781799765 |\n",
      "Epoch:  25%|██▍       | 37/150 [00:21<01:05,  1.72it/s]\n",
      "EP_36 | train loss: 0.4567255038841098 | val loss: 0.3954452968695584 |\n",
      "Epoch:  25%|██▌       | 38/150 [00:22<01:04,  1.74it/s]\n",
      "EP_37 | train loss: 0.45851034089630727 | val loss: 0.39246754319060084 |\n",
      "Epoch:  26%|██▌       | 39/150 [00:22<01:03,  1.74it/s]\n",
      "EP_38 | train loss: 0.4495960151447969 | val loss: 0.3859437864785101 |\n",
      "Epoch:  27%|██▋       | 40/150 [00:23<01:02,  1.75it/s]\n",
      "EP_39 | train loss: 0.4511332525926478 | val loss: 0.38246268355378915 |\n",
      "Epoch:  27%|██▋       | 41/150 [00:23<01:03,  1.73it/s]\n",
      "EP_40 | train loss: 0.4463965948890237 | val loss: 0.3774507583356371 |\n",
      "Epoch:  28%|██▊       | 42/150 [00:24<01:02,  1.73it/s]\n",
      "EP_41 | train loss: 0.445617405573527 | val loss: 0.3747510676290475 |\n",
      "Epoch:  29%|██▊       | 43/150 [00:25<01:02,  1.71it/s]\n",
      "EP_42 | train loss: 0.4417348263310451 | val loss: 0.36950479856893126 |\n",
      "Epoch:  29%|██▉       | 44/150 [00:25<01:02,  1.71it/s]\n",
      "EP_43 | train loss: 0.4365020377963197 | val loss: 0.36555944529234197 |\n",
      "Epoch:  30%|███       | 45/150 [00:26<01:01,  1.69it/s]\n",
      "EP_44 | train loss: 0.43739579799128514 | val loss: 0.36295807303166855 |\n",
      "Epoch:  31%|███       | 46/150 [00:26<01:00,  1.71it/s]\n",
      "EP_45 | train loss: 0.4356060448814841 | val loss: 0.3604161382890215 |\n",
      "Epoch:  31%|███▏      | 47/150 [00:27<01:00,  1.70it/s]\n",
      "EP_46 | train loss: 0.43051363112879737 | val loss: 0.35577179725263636 |\n",
      "Epoch:  32%|███▏      | 48/150 [00:27<00:59,  1.71it/s]\n",
      "EP_47 | train loss: 0.4286651760924096 | val loss: 0.3532247578396517 |\n",
      "Epoch:  33%|███▎      | 49/150 [00:28<00:59,  1.69it/s]\n",
      "EP_48 | train loss: 0.42960042345757576 | val loss: 0.35248186658410463 |\n",
      "Epoch:  33%|███▎      | 50/150 [00:29<00:58,  1.71it/s]\n",
      "EP_49 | train loss: 0.4346224214516434 | val loss: 0.3556417337819642 |\n",
      "Epoch:  34%|███▍      | 51/150 [00:29<00:58,  1.71it/s]\n",
      "EP_50 | train loss: 0.43203455092860205 | val loss: 0.3536321313357821 |\n",
      "Epoch:  35%|███▍      | 52/150 [00:30<00:57,  1.72it/s]\n",
      "EP_51 | train loss: 0.42526611346824494 | val loss: 0.34689119428980586 |\n",
      "Epoch:  35%|███▌      | 53/150 [00:30<00:56,  1.71it/s]\n",
      "EP_52 | train loss: 0.42123400744269873 | val loss: 0.344276777085136 |\n",
      "Epoch:  36%|███▌      | 54/150 [00:31<00:56,  1.71it/s]\n",
      "EP_53 | train loss: 0.41654012320088407 | val loss: 0.34106725863381926 |\n",
      "Epoch:  37%|███▋      | 55/150 [00:32<00:55,  1.71it/s]\n",
      "EP_54 | train loss: 0.4138079283284206 | val loss: 0.3393099582662769 |\n",
      "Epoch:  37%|███▋      | 56/150 [00:32<00:54,  1.71it/s]\n",
      "EP_55 | train loss: 0.4153579225727156 | val loss: 0.3391649127006531 |\n",
      "Epoch:  38%|███▊      | 57/150 [00:33<00:54,  1.70it/s]\n",
      "EP_56 | train loss: 0.4112257761113784 | val loss: 0.3356906830095777 |\n",
      "Epoch:  39%|███▊      | 58/150 [00:33<00:54,  1.70it/s]\n",
      "EP_57 | train loss: 0.4144341651131125 | val loss: 0.3380265425817639 |\n",
      "Epoch:  39%|███▉      | 59/150 [00:34<00:53,  1.69it/s]\n",
      "EP_58 | train loss: 0.4136341861650056 | val loss: 0.3374389322365032 |\n",
      "Epoch:  40%|████      | 60/150 [00:35<00:53,  1.70it/s]\n",
      "EP_59 | train loss: 0.40276103487201764 | val loss: 0.33069295801368415 |\n",
      "Epoch:  41%|████      | 61/150 [00:35<00:52,  1.69it/s]\n",
      "EP_60 | train loss: 0.4012676837397557 | val loss: 0.32988890859426234 |\n",
      "Epoch:  41%|████▏     | 62/150 [00:36<00:51,  1.71it/s]\n",
      "EP_61 | train loss: 0.40452024422439875 | val loss: 0.3313276589501138 |\n",
      "Epoch:  42%|████▏     | 63/150 [00:36<00:51,  1.70it/s]\n",
      "EP_62 | train loss: 0.4029950728603438 | val loss: 0.32984771389587253 |\n",
      "Epoch:  43%|████▎     | 64/150 [00:37<00:50,  1.70it/s]\n",
      "EP_63 | train loss: 0.4014002930884268 | val loss: 0.32912763193541883 |\n",
      "Epoch:  43%|████▎     | 65/150 [00:37<00:50,  1.69it/s]\n",
      "EP_64 | train loss: 0.39788879272984523 | val loss: 0.3267370991262735 |\n",
      "Epoch:  44%|████▍     | 66/150 [00:38<00:49,  1.69it/s]\n",
      "EP_65 | train loss: 0.3933233270458147 | val loss: 0.32448888350935545 |\n",
      "Epoch:  45%|████▍     | 67/150 [00:39<00:49,  1.68it/s]\n",
      "EP_66 | train loss: 0.3891978142308254 | val loss: 0.32311296579884546 |\n",
      "Epoch:  45%|████▌     | 68/150 [00:39<00:48,  1.69it/s]\n",
      "EP_67 | train loss: 0.387584366050421 | val loss: 0.3219868876770431 |\n",
      "Epoch:  46%|████▌     | 69/150 [00:40<00:48,  1.68it/s]\n",
      "EP_68 | train loss: 0.3903950282171661 | val loss: 0.3235926400212681 |\n",
      "Epoch:  47%|████▋     | 70/150 [00:40<00:47,  1.69it/s]\n",
      "EP_69 | train loss: 0.3835596098619349 | val loss: 0.32080768107199203 |\n",
      "Epoch:  47%|████▋     | 71/150 [00:41<00:46,  1.69it/s]\n",
      "EP_70 | train loss: 0.3826622986326031 | val loss: 0.32009395226544024 |\n",
      "Epoch:  48%|████▊     | 72/150 [00:42<00:45,  1.70it/s]\n",
      "EP_71 | train loss: 0.38305171330769855 | val loss: 0.3196713743256588 |\n",
      "Epoch:  49%|████▊     | 73/150 [00:42<00:45,  1.69it/s]\n",
      "EP_72 | train loss: 0.3794633199186886 | val loss: 0.3189147158580668 |\n",
      "Epoch:  49%|████▉     | 74/150 [00:43<00:44,  1.69it/s]\n",
      "EP_73 | train loss: 0.37351644927380134 | val loss: 0.31583475774409725 |\n",
      "Epoch:  50%|█████     | 75/150 [00:43<00:44,  1.68it/s]\n",
      "EP_74 | train loss: 0.3700399309981103 | val loss: 0.31483759628791436 |\n",
      "Epoch:  51%|█████     | 76/150 [00:44<00:43,  1.69it/s]\n",
      "EP_75 | train loss: 0.3679003851086486 | val loss: 0.3144376418169807 |\n",
      "Epoch:  51%|█████▏    | 77/150 [00:45<00:43,  1.68it/s]\n",
      "EP_76 | train loss: 0.3667507699891633 | val loss: 0.31252516572381933 |\n",
      "Epoch:  52%|█████▏    | 78/150 [00:45<00:42,  1.70it/s]\n",
      "EP_77 | train loss: 0.3633230101828482 | val loss: 0.31133588622598085 |\n",
      "Epoch:  53%|█████▎    | 79/150 [00:46<00:42,  1.68it/s]\n",
      "EP_78 | train loss: 0.3654918761814342 | val loss: 0.3120991675292744 |\n",
      "Epoch:  53%|█████▎    | 80/150 [00:46<00:41,  1.70it/s]\n",
      "EP_79 | train loss: 0.3624213644102508 | val loss: 0.3106825453977959 |\n",
      "Epoch:  54%|█████▍    | 81/150 [00:47<00:40,  1.70it/s]\n",
      "EP_80 | train loss: 0.35491671468697344 | val loss: 0.30690865949088453 |\n",
      "Epoch:  55%|█████▍    | 82/150 [00:48<00:39,  1.71it/s]\n",
      "EP_81 | train loss: 0.35320892146989413 | val loss: 0.30527328860525993 |\n",
      "Epoch:  55%|█████▌    | 83/150 [00:48<00:39,  1.70it/s]\n",
      "EP_82 | train loss: 0.34944261756597783 | val loss: 0.3030171914427888 |\n",
      "Epoch:  56%|█████▌    | 84/150 [00:49<00:38,  1.71it/s]\n",
      "EP_83 | train loss: 0.3449744743459365 | val loss: 0.3032162230388791 |\n",
      "Epoch:  57%|█████▋    | 85/150 [00:49<00:38,  1.69it/s]\n",
      "EP_84 | train loss: 0.3427834672086379 | val loss: 0.3010003891061334 |\n",
      "Epoch:  57%|█████▋    | 86/150 [00:50<00:37,  1.71it/s]\n",
      "EP_85 | train loss: 0.3427002210243075 | val loss: 0.2979743536196503 |\n",
      "Epoch:  58%|█████▊    | 87/150 [00:50<00:37,  1.69it/s]\n",
      "EP_86 | train loss: 0.3360456609258465 | val loss: 0.29717521223367427 |\n",
      "Epoch:  59%|█████▊    | 88/150 [00:51<00:36,  1.70it/s]\n",
      "EP_87 | train loss: 0.3392508534824147 | val loss: 0.2961922010370329 |\n",
      "Epoch:  59%|█████▉    | 89/150 [00:52<00:36,  1.69it/s]\n",
      "EP_88 | train loss: 0.3312642139547011 | val loss: 0.2935733394879921 |\n",
      "Epoch:  60%|██████    | 90/150 [00:52<00:35,  1.70it/s]\n",
      "EP_89 | train loss: 0.3274217488718968 | val loss: 0.29773025360761907 |\n",
      "Epoch:  61%|██████    | 91/150 [00:53<00:34,  1.69it/s]\n",
      "EP_90 | train loss: 0.3231640252412534 | val loss: 0.29153181787799387 |\n",
      "Epoch:  61%|██████▏   | 92/150 [00:53<00:34,  1.70it/s]\n",
      "EP_91 | train loss: 0.3214598213925081 | val loss: 0.28900183912585764 |\n",
      "Epoch:  62%|██████▏   | 93/150 [00:54<00:33,  1.69it/s]\n",
      "EP_92 | train loss: 0.32006267379311953 | val loss: 0.2850457844780941 |\n",
      "Epoch:  63%|██████▎   | 94/150 [00:55<00:32,  1.70it/s]\n",
      "EP_93 | train loss: 0.3184855998731127 | val loss: 0.2840227303551693 |\n",
      "Epoch:  63%|██████▎   | 95/150 [00:55<00:32,  1.70it/s]\n",
      "EP_94 | train loss: 0.314394128556345 | val loss: 0.28241313614097296 |\n",
      "Epoch:  64%|██████▍   | 96/150 [00:56<00:31,  1.70it/s]\n",
      "EP_95 | train loss: 0.3112445539119197 | val loss: 0.27898706904813353 |\n",
      "Epoch:  65%|██████▍   | 97/150 [00:56<00:31,  1.69it/s]\n",
      "EP_96 | train loss: 0.30381702745662015 | val loss: 0.2799282418746574 |\n",
      "Epoch:  65%|██████▌   | 98/150 [00:57<00:30,  1.71it/s]\n",
      "EP_97 | train loss: 0.3047772021854625 | val loss: 0.27508844405997035 |\n",
      "Epoch:  66%|██████▌   | 99/150 [00:58<00:30,  1.70it/s]\n",
      "EP_98 | train loss: 0.2991123035842297 | val loss: 0.2722242795953564 |\n",
      "Epoch:  67%|██████▋   | 100/150 [00:58<00:29,  1.72it/s]\n",
      "EP_99 | train loss: 0.2967308829812443 | val loss: 0.2692175414047989 |\n",
      "Epoch:  67%|██████▋   | 101/150 [00:59<00:28,  1.71it/s]\n",
      "EP_100 | train loss: 0.29547877428578395 | val loss: 0.26666174916660085 |\n",
      "Epoch:  68%|██████▊   | 102/150 [00:59<00:28,  1.71it/s]\n",
      "EP_101 | train loss: 0.29347199295081344 | val loss: 0.26448724433487536 |\n",
      "Epoch:  69%|██████▊   | 103/150 [01:00<00:27,  1.70it/s]\n",
      "EP_102 | train loss: 0.2861723070051156 | val loss: 0.26102377678833755 |\n",
      "Epoch:  69%|██████▉   | 104/150 [01:00<00:26,  1.70it/s]\n",
      "EP_103 | train loss: 0.2822304681235669 | val loss: 0.25757260708247914 |\n",
      "Epoch:  70%|███████   | 105/150 [01:01<00:26,  1.68it/s]\n",
      "EP_104 | train loss: 0.275515001895381 | val loss: 0.2592727150402817 |\n",
      "Epoch:  71%|███████   | 106/150 [01:02<00:25,  1.70it/s]\n",
      "EP_105 | train loss: 0.27762171871521896 | val loss: 0.2511322749596016 |\n",
      "Epoch:  71%|███████▏  | 107/150 [01:02<00:25,  1.67it/s]\n",
      "EP_106 | train loss: 0.26799149209377815 | val loss: 0.24765869507602617 |\n",
      "Epoch:  72%|███████▏  | 108/150 [01:03<00:24,  1.69it/s]\n",
      "EP_107 | train loss: 0.2695967494272718 | val loss: 0.24493989961988785 |\n",
      "Epoch:  73%|███████▎  | 109/150 [01:03<00:24,  1.68it/s]\n",
      "EP_108 | train loss: 0.2594372356639189 | val loss: 0.24346213071954018 |\n",
      "Epoch:  73%|███████▎  | 110/150 [01:04<00:23,  1.69it/s]\n",
      "EP_109 | train loss: 0.2636220981093014 | val loss: 0.2395915920827903 |\n",
      "Epoch:  74%|███████▍  | 111/150 [01:05<00:23,  1.68it/s]\n",
      "EP_110 | train loss: 0.25288438539878993 | val loss: 0.2346362319647097 |\n",
      "Epoch:  75%|███████▍  | 112/150 [01:05<00:22,  1.69it/s]\n",
      "EP_111 | train loss: 0.24717167101654353 | val loss: 0.2336400583678601 |\n",
      "Epoch:  75%|███████▌  | 113/150 [01:06<00:21,  1.69it/s]\n",
      "EP_112 | train loss: 0.24371507424934238 | val loss: 0.2276052014500487 |\n",
      "Epoch:  76%|███████▌  | 114/150 [01:06<00:21,  1.70it/s]\n",
      "EP_113 | train loss: 0.24953980936723597 | val loss: 0.22474125202964335 |\n",
      "Epoch:  77%|███████▋  | 115/150 [01:07<00:20,  1.69it/s]\n",
      "EP_114 | train loss: 0.2351538059758205 | val loss: 0.2225628863362705 |\n",
      "Epoch:  77%|███████▋  | 116/150 [01:08<00:19,  1.70it/s]\n",
      "EP_115 | train loss: 0.23101557937322878 | val loss: 0.21802612613229191 |\n",
      "Epoch:  78%|███████▊  | 117/150 [01:08<00:19,  1.70it/s]\n",
      "EP_116 | train loss: 0.24019607913260366 | val loss: 0.21419100609480166 |\n",
      "Epoch:  79%|███████▊  | 118/150 [01:09<00:18,  1.71it/s]\n",
      "EP_117 | train loss: 0.22285438776016236 | val loss: 0.2094284553153842 |\n",
      "Epoch:  79%|███████▉  | 119/150 [01:09<00:18,  1.69it/s]\n",
      "EP_118 | train loss: 0.22222596780926573 | val loss: 0.20333628414892682 |\n",
      "Epoch:  80%|████████  | 120/150 [01:10<00:17,  1.70it/s]\n",
      "EP_119 | train loss: 0.2163376714669022 | val loss: 0.19950592663942598 |\n",
      "Epoch:  81%|████████  | 121/150 [01:11<00:17,  1.69it/s]\n",
      "EP_120 | train loss: 0.20994436413634057 | val loss: 0.1944447966182933 |\n",
      "Epoch:  81%|████████▏ | 122/150 [01:11<00:16,  1.70it/s]\n",
      "EP_121 | train loss: 0.20863539260976455 | val loss: 0.1905573422417921 |\n",
      "Epoch:  82%|████████▏ | 123/150 [01:12<00:15,  1.70it/s]\n",
      "EP_122 | train loss: 0.20604890795315015 | val loss: 0.18552749823121464 |\n",
      "Epoch:  83%|████████▎ | 124/150 [01:12<00:15,  1.71it/s]\n",
      "EP_123 | train loss: 0.19945820943981993 | val loss: 0.1841169560656828 |\n",
      "Epoch:  83%|████████▎ | 125/150 [01:13<00:14,  1.70it/s]\n",
      "EP_124 | train loss: 0.19592805422988593 | val loss: 0.17843327685898425 |\n",
      "Epoch:  84%|████████▍ | 126/150 [01:13<00:14,  1.71it/s]\n",
      "EP_125 | train loss: 0.18756804910360597 | val loss: 0.17820696328200547 |\n",
      "Epoch:  85%|████████▍ | 127/150 [01:14<00:13,  1.68it/s]\n",
      "EP_126 | train loss: 0.1969084839026133 | val loss: 0.17238336684657077 |\n",
      "Epoch:  85%|████████▌ | 128/150 [01:15<00:12,  1.70it/s]\n",
      "EP_127 | train loss: 0.17865656964919147 | val loss: 0.16941349792714214 |\n",
      "Epoch:  86%|████████▌ | 129/150 [01:15<00:12,  1.69it/s]\n",
      "EP_128 | train loss: 0.17689663522383747 | val loss: 0.170585374621784 |\n",
      "Epoch:  87%|████████▋ | 130/150 [01:16<00:11,  1.70it/s]\n",
      "EP_129 | train loss: 0.17125743791168813 | val loss: 0.1559470886108922 |\n",
      "Epoch:  87%|████████▋ | 131/150 [01:16<00:11,  1.70it/s]\n",
      "EP_130 | train loss: 0.1781671338221606 | val loss: 0.15456565893163868 |\n",
      "Epoch:  88%|████████▊ | 132/150 [01:17<00:10,  1.71it/s]\n",
      "EP_131 | train loss: 0.17203487438314102 | val loss: 0.15002379756347806 |\n",
      "Epoch:  89%|████████▊ | 133/150 [01:18<00:09,  1.70it/s]\n",
      "EP_132 | train loss: 0.15720362452899708 | val loss: 0.14413919460539723 |\n",
      "Epoch:  89%|████████▉ | 134/150 [01:18<00:09,  1.72it/s]\n",
      "EP_133 | train loss: 0.1781924806389154 | val loss: 0.14953408872379975 |\n",
      "Epoch:  90%|█████████ | 135/150 [01:19<00:08,  1.71it/s]\n",
      "EP_134 | train loss: 0.1532084269850862 | val loss: 0.13302662676455929 |\n",
      "Epoch:  91%|█████████ | 136/150 [01:19<00:08,  1.72it/s]\n",
      "EP_135 | train loss: 0.1516752957129011 | val loss: 0.1505479248715382 |\n",
      "Epoch:  91%|█████████▏| 137/150 [01:20<00:07,  1.71it/s]\n",
      "EP_136 | train loss: 0.1399496272498486 | val loss: 0.13042002215104945 |\n",
      "Epoch:  92%|█████████▏| 138/150 [01:20<00:07,  1.71it/s]\n",
      "EP_137 | train loss: 0.13658198235081692 | val loss: 0.1221665827667012 |\n",
      "Epoch:  93%|█████████▎| 139/150 [01:21<00:06,  1.71it/s]\n",
      "EP_138 | train loss: 0.13223368513817882 | val loss: 0.11750977793160607 |\n",
      "Epoch:  93%|█████████▎| 140/150 [01:22<00:05,  1.71it/s]\n",
      "EP_139 | train loss: 0.13805776577369838 | val loss: 0.11761046712305032 |\n",
      "Epoch:  94%|█████████▍| 141/150 [01:22<00:05,  1.71it/s]\n",
      "EP_140 | train loss: 0.1418264110883077 | val loss: 0.11898357494204652 |\n",
      "Epoch:  95%|█████████▍| 142/150 [01:23<00:04,  1.71it/s]\n",
      "EP_141 | train loss: 0.14329561462589338 | val loss: 0.12053887312318765 |\n",
      "Epoch:  95%|█████████▌| 143/150 [01:23<00:04,  1.70it/s]\n",
      "EP_142 | train loss: 0.12046460941726087 | val loss: 0.10395617227928311 |\n",
      "Epoch:  96%|█████████▌| 144/150 [01:24<00:03,  1.71it/s]\n",
      "EP_143 | train loss: 0.11010161708383 | val loss: 0.10049368061271369 |\n",
      "Epoch:  97%|█████████▋| 145/150 [01:25<00:02,  1.70it/s]\n",
      "EP_144 | train loss: 0.10674215017580518 | val loss: 0.09738725073197309 |\n",
      "Epoch:  97%|█████████▋| 146/150 [01:25<00:02,  1.69it/s]\n",
      "EP_145 | train loss: 0.10321258014323664 | val loss: 0.0957487798204609 |\n",
      "Epoch:  98%|█████████▊| 147/150 [01:26<00:01,  1.68it/s]\n",
      "EP_146 | train loss: 0.1080326820121092 | val loss: 0.09119115477683497 |\n",
      "Epoch:  99%|█████████▊| 148/150 [01:26<00:01,  1.69it/s]\n",
      "EP_147 | train loss: 0.11774733557420618 | val loss: 0.09714131407877978 |\n",
      "Epoch:  99%|█████████▉| 149/150 [01:27<00:00,  1.68it/s]\n",
      "EP_148 | train loss: 0.09527543315700457 | val loss: 0.08149821734895893 |\n",
      "Epoch: 100%|██████████| 150/150 [01:28<00:00,  1.70it/s]\n",
      "EP_149 | train loss: 0.08896625842533859 | val loss: 0.08030872266082202 |\n",
      "\n"
     ]
    }
   ],
   "source": [
    "AttractiveTrainer.train()"
   ]
  },
  {
   "cell_type": "markdown",
   "metadata": {},
   "source": [
    "## Below is testing"
   ]
  },
  {
   "cell_type": "code",
   "execution_count": 6,
   "metadata": {},
   "outputs": [
    {
     "output_type": "execute_result",
     "data": {
      "text/plain": [
       "AttractiveNet(\n",
       "  (embedding): AttractiveEmbedding(\n",
       "    (token): TokenEmbedding(12699, 300, padding_idx=1)\n",
       "  )\n",
       "  (bigramcnn): Sequential(\n",
       "    (0): Conv1d(300, 210, kernel_size=(2,), stride=(1,), padding=(1,))\n",
       "    (1): ReLU()\n",
       "    (2): Conv1d(210, 100, kernel_size=(2,), stride=(1,), padding=(1,))\n",
       "    (3): ReLU()\n",
       "    (4): Dropout(p=0.5, inplace=False)\n",
       "  )\n",
       "  (trigramcnn): Sequential(\n",
       "    (0): Conv1d(300, 210, kernel_size=(3,), stride=(1,), padding=(1,))\n",
       "    (1): ReLU()\n",
       "    (2): Conv1d(210, 100, kernel_size=(3,), stride=(1,), padding=(1,))\n",
       "    (3): ReLU()\n",
       "    (4): Dropout(p=0.5, inplace=False)\n",
       "  )\n",
       "  (encoder_bigram): LSTM(100, 30, batch_first=True, dropout=0.5, bidirectional=True)\n",
       "  (encoder_trigram): LSTM(100, 30, batch_first=True, dropout=0.5, bidirectional=True)\n",
       "  (linear): Sequential(\n",
       "    (0): Linear(in_features=128, out_features=30, bias=True)\n",
       "    (1): ReLU()\n",
       "    (2): Linear(in_features=30, out_features=1, bias=True)\n",
       "  )\n",
       ")"
      ]
     },
     "metadata": {},
     "execution_count": 6
    }
   ],
   "source": [
    "from attractivenet import AttractiveNet\n",
    "\n",
    "PATH = './model/CNN_LSTM_20201110-201042/0.370040.74'\n",
    "\n",
    "load_model = AttractiveNet(config).to(AttractiveData.device)\n",
    "load_model.load_state_dict(torch.load(PATH))\n",
    "load_model.eval()"
   ]
  },
  {
   "cell_type": "code",
   "execution_count": 7,
   "metadata": {},
   "outputs": [],
   "source": [
    "def predict_attractive(sentence, category, phase):\n",
    "    indexed_sentence = [AttractiveData.TEXT.vocab.stoi[t] for t in sentence]\n",
    "    indexed_category = [AttractiveData.CATEGORIES_LABEL.vocab.stoi[category]]\n",
    "    tensor_sentence = torch.LongTensor(indexed_sentence).to(AttractiveData.device)\n",
    "    tensor_category = torch.LongTensor(indexed_category).to(AttractiveData.device)\n",
    "    tensor_sentence = tensor_sentence.unsqueeze(0)\n",
    "\n",
    "    prediction = load_model(tensor_sentence, tensor_category, phase=phase)\n",
    "\n",
    "    return prediction"
   ]
  },
  {
   "cell_type": "code",
   "execution_count": 8,
   "metadata": {
    "tags": []
   },
   "outputs": [],
   "source": [
    "predict_list = []\n",
    "with torch.no_grad():\n",
    "    for i, sentence in enumerate(AttractiveData.test_data):\n",
    "        prediction = predict_attractive(sentence.Headline, sentence.Category, 'test')\n",
    "        predict_list.append(prediction.item())\n",
    "\n",
    "AttractiveData.df_test['Label'] = predict_list\n",
    "AttractiveData.df_test[['ID', 'Label']].to_csv(config['save_name'] + '.csv', index=False)"
   ]
  },
  {
   "cell_type": "markdown",
   "metadata": {},
   "source": [
    "## Below for statistics"
   ]
  },
  {
   "cell_type": "code",
   "execution_count": 9,
   "metadata": {},
   "outputs": [],
   "source": [
    "import statistics\n",
    "from sklearn.metrics import mean_squared_error"
   ]
  },
  {
   "cell_type": "code",
   "execution_count": 10,
   "metadata": {},
   "outputs": [],
   "source": [
    "# # train mean = 3.15, test mean = 2.8\n",
    "# train_list = []\n",
    "# for i, sentence in enumerate(AttractiveData.train_data):\n",
    "#     prediction = predict_attractive(sentence.Headline, sentence.Category, 'train')\n",
    "#     train_list.append(prediction.item())\n",
    "#     # train_list.append(prediction.item())\n",
    "# # print(train_list)\n",
    "# mean_squared_error(pd.read_csv('data/train.csv').sort_values(['ID']).Label.to_list(), train_list), statistics.mean(train_list), statistics.stdev(train_list)"
   ]
  },
  {
   "cell_type": "code",
   "execution_count": 11,
   "metadata": {},
   "outputs": [],
   "source": [
    "# train_list[0:5], pd.read_csv('data/train.csv').sort_values(['ID']).Label.to_list()[0:5]"
   ]
  },
  {
   "cell_type": "code",
   "execution_count": 12,
   "metadata": {},
   "outputs": [],
   "source": [
    "# a = AttractiveData.df_train['Label'].to_list()\n",
    "# statistics.mean(a), statistics.stdev(a)"
   ]
  },
  {
   "cell_type": "code",
   "execution_count": 13,
   "metadata": {},
   "outputs": [
    {
     "output_type": "execute_result",
     "data": {
      "text/plain": [
       "(2.8176044094404986, 0.36895975893681365)"
      ]
     },
     "metadata": {},
     "execution_count": 13
    }
   ],
   "source": [
    "statistics.mean(predict_list), statistics.stdev(predict_list)"
   ]
  },
  {
   "cell_type": "code",
   "execution_count": 14,
   "metadata": {},
   "outputs": [
    {
     "output_type": "execute_result",
     "data": {
      "text/plain": [
       "(0.0010727146658046922, 2.7876357276009043, 0.3643672504501976)"
      ]
     },
     "metadata": {},
     "execution_count": 14
    }
   ],
   "source": [
    "baseline_list = pd.read_csv('baseline.csv').sort_values(['ID']).Label.to_list()\n",
    "mean_squared_error(baseline_list, predict_list), statistics.mean(baseline_list), statistics.stdev(baseline_list)"
   ]
  },
  {
   "cell_type": "code",
   "execution_count": null,
   "metadata": {},
   "outputs": [],
   "source": []
  },
  {
   "cell_type": "code",
   "execution_count": 17,
   "metadata": {},
   "outputs": [
    {
     "output_type": "execute_result",
     "data": {
      "text/plain": [
       "0.0"
      ]
     },
     "metadata": {},
     "execution_count": 17
    }
   ],
   "source": [
    "mean_squared_error(pd.read_csv('baseline.csv').sort_values(['ID']).Label.to_list(), pd.read_csv('../309551062/predict/CNN_LSTM_20201109-125007_0.374958.75.csv').sort_values(['ID']).Label.to_list())"
   ]
  },
  {
   "cell_type": "code",
   "execution_count": 13,
   "metadata": {},
   "outputs": [],
   "source": []
  },
  {
   "cell_type": "code",
   "execution_count": null,
   "metadata": {},
   "outputs": [],
   "source": []
  }
 ],
 "metadata": {
  "kernelspec": {
   "display_name": "DS_hw2",
   "language": "python",
   "name": "ds_hw2"
  },
  "language_info": {
   "codemirror_mode": {
    "name": "ipython",
    "version": 3
   },
   "file_extension": ".py",
   "mimetype": "text/x-python",
   "name": "python",
   "nbconvert_exporter": "python",
   "pygments_lexer": "ipython3",
   "version": "3.6.12-final"
  }
 },
 "nbformat": 4,
 "nbformat_minor": 4
}