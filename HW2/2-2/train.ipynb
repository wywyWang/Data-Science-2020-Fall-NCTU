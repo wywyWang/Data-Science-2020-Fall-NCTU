{
 "metadata": {
  "language_info": {
   "codemirror_mode": {
    "name": "ipython",
    "version": 3
   },
   "file_extension": ".py",
   "mimetype": "text/x-python",
   "name": "python",
   "nbconvert_exporter": "python",
   "pygments_lexer": "ipython3",
   "version": "3.6.12-final"
  },
  "orig_nbformat": 2,
  "kernelspec": {
   "name": "Python 3.6.12 64-bit",
   "display_name": "Python 3.6.12 64-bit",
   "metadata": {
    "interpreter": {
     "hash": "de6ec751e8d816810380d8c8f13d270f86a313990c5d5930d253da012ff5e7fc"
    }
   }
  }
 },
 "nbformat": 4,
 "nbformat_minor": 2,
 "cells": [
  {
   "cell_type": "code",
   "execution_count": 1,
   "metadata": {},
   "outputs": [],
   "source": [
    "# common packages\n",
    "import pandas as pd\n",
    "import time\n",
    "\n",
    "# # DL framework\n",
    "import torch\n",
    "from torchtext import data\n",
    "\n",
    "from attractivedata import AttractiveData\n",
    "from trainer import AttractiveTrainer"
   ]
  },
  {
   "cell_type": "code",
   "execution_count": 2,
   "metadata": {},
   "outputs": [],
   "source": [
    "# torch.manual_seed(123)\n",
    "# torch.cuda.manual_seed(123)\n",
    "# torch.backends.cudnn.deterministic = True"
   ]
  },
  {
   "source": [
    "## Load and prepare data"
   ],
   "cell_type": "markdown",
   "metadata": {}
  },
  {
   "cell_type": "code",
   "execution_count": 3,
   "metadata": {},
   "outputs": [],
   "source": [
    "train_file = 'data/train.csv'\n",
    "test_file = 'data/test.csv'\n",
    "pretrained_file = 'glove.840B.300d'\n",
    "config = {\n",
    "    'max_seq': 40,\n",
    "    'min_freq': 0,\n",
    "    'batch_size': 64,\n",
    "    'pretrained_file': pretrained_file\n",
    "}\n"
   ]
  },
  {
   "cell_type": "code",
   "execution_count": 4,
   "metadata": {},
   "outputs": [],
   "source": [
    "AttractiveData = AttractiveData(train_file, test_file, pretrained_file, config)"
   ]
  },
  {
   "cell_type": "code",
   "execution_count": 5,
   "metadata": {},
   "outputs": [],
   "source": [
    "# for i, sentence in enumerate(AttractiveData.test_data):\n",
    "#     if i == 3:\n",
    "#         print(vars(AttractiveData.train_data[i]), vars(sentence))"
   ]
  },
  {
   "cell_type": "code",
   "execution_count": 6,
   "metadata": {},
   "outputs": [
    {
     "output_type": "execute_result",
     "data": {
      "text/plain": [
       "18"
      ]
     },
     "metadata": {},
     "execution_count": 6
    }
   ],
   "source": [
    "len(AttractiveData.CATEGORIES_LABEL.vocab.freqs)"
   ]
  },
  {
   "cell_type": "code",
   "execution_count": 7,
   "metadata": {},
   "outputs": [
    {
     "output_type": "execute_result",
     "data": {
      "text/plain": [
       "38"
      ]
     },
     "metadata": {},
     "execution_count": 7
    }
   ],
   "source": [
    "max_len = 0\n",
    "a = AttractiveData.train_data\n",
    "for i in range(len(a)):\n",
    "    if len(a[i].Headline) >= max_len:\n",
    "        max_len = len(a[i].Headline)\n",
    "max_len"
   ]
  },
  {
   "source": [
    "## Start to train"
   ],
   "cell_type": "markdown",
   "metadata": {}
  },
  {
   "cell_type": "code",
   "execution_count": 8,
   "metadata": {},
   "outputs": [
    {
     "output_type": "stream",
     "name": "stdout",
     "text": [
      "torch.Size([12699, 300])\n"
     ]
    }
   ],
   "source": [
    "config['timestr'] = time.strftime(\"%Y%m%d-%H%M%S\")\n",
    "config['save_name'] = 'CNN_LSTM'\n",
    "config['input_dim'] = len(AttractiveData.TEXT.vocab)\n",
    "config['embedding_dim'] = 300\n",
    "config['category_dim'] = len(AttractiveData.CATEGORIES_LABEL.vocab)\n",
    "config['category_embedding_dim'] = 16\n",
    "config['hidden_dim'] = 30\n",
    "config['output_dim'] = 1\n",
    "config['log_steps'] = 10\n",
    "config['epochs'] = 100\n",
    "config['lr'] = {\n",
    "    'encoder': 1e-5,\n",
    "    'embedding': 1e-5,\n",
    "    'linear': 1e-5\n",
    "}\n",
    "config['num_layers'] = 1\n",
    "config['kernel_size'] = 3\n",
    "config['dropout'] = 0.1\n",
    "config['train_len'] = AttractiveData.train_len\n",
    "config['test_len'] = AttractiveData.test_len\n",
    "\n",
    "pretrained_embeddings = AttractiveData.TEXT.vocab.vectors\n",
    "print(pretrained_embeddings.shape)"
   ]
  },
  {
   "cell_type": "code",
   "execution_count": 9,
   "metadata": {},
   "outputs": [],
   "source": [
    "AttractiveTrainer = AttractiveTrainer(config, AttractiveData.device, AttractiveData.trainloader, pretrained_embeddings)"
   ]
  },
  {
   "cell_type": "code",
   "execution_count": 10,
   "metadata": {},
   "outputs": [
    {
     "output_type": "execute_result",
     "data": {
      "text/plain": [
       "(AttractiveNet(\n",
       "   (embedding): AttractiveEmbedding(\n",
       "     (token): TokenEmbedding(12699, 300, padding_idx=1)\n",
       "   )\n",
       "   (cnn1): Sequential(\n",
       "     (0): Conv1d(300, 220, kernel_size=(3,), stride=(1,), padding=(1,))\n",
       "     (1): ReLU()\n",
       "   )\n",
       "   (cnn2): Sequential(\n",
       "     (0): Conv1d(220, 150, kernel_size=(3,), stride=(1,), padding=(1,))\n",
       "     (1): ReLU()\n",
       "   )\n",
       "   (cnn3): Sequential(\n",
       "     (0): Conv1d(150, 100, kernel_size=(3,), stride=(1,), padding=(1,))\n",
       "     (1): ReLU()\n",
       "   )\n",
       "   (encoder): LSTM(100, 30, batch_first=True, dropout=0.1, bidirectional=True)\n",
       "   (linear): Sequential(\n",
       "     (0): Linear(in_features=120, out_features=30, bias=True)\n",
       "     (1): ReLU()\n",
       "     (2): Linear(in_features=30, out_features=1, bias=True)\n",
       "   )\n",
       " ),\n",
       " 4187511,\n",
       " 377811)"
      ]
     },
     "metadata": {},
     "execution_count": 10
    }
   ],
   "source": [
    "AttractiveTrainer.model, AttractiveTrainer.config['total_params'], AttractiveTrainer.config['total_learned_params']"
   ]
  },
  {
   "cell_type": "code",
   "execution_count": 11,
   "metadata": {
    "tags": []
   },
   "outputs": [
    {
     "output_type": "stream",
     "name": "stderr",
     "text": [
      "Epoch:   0%|          | 0/100 [00:00<?, ?it/s]====\n",
      "Epoch:   1%|          | 1/100 [00:00<00:23,  4.17it/s]\n",
      "EP_train | avg_loss: 0.5321353903003767 |\n",
      "====\n",
      "Epoch:   2%|▏         | 2/100 [00:00<00:22,  4.31it/s]\n",
      "EP_train | avg_loss: 0.531874101302203 |\n",
      "====\n",
      "Epoch:   3%|▎         | 3/100 [00:00<00:21,  4.44it/s]\n",
      "EP_train | avg_loss: 0.5317850384057737 |\n",
      "====\n",
      "Epoch:   4%|▍         | 4/100 [00:00<00:21,  4.54it/s]\n",
      "EP_train | avg_loss: 0.5317583897534539 |\n",
      "====\n",
      "Epoch:   5%|▌         | 5/100 [00:01<00:20,  4.58it/s]\n",
      "EP_train | avg_loss: 0.5317216209336824 |\n",
      "====\n",
      "Epoch:   6%|▌         | 6/100 [00:01<00:20,  4.60it/s]\n",
      "EP_train | avg_loss: 0.5316833795285693 |\n",
      "====\n",
      "Epoch:   7%|▋         | 7/100 [00:01<00:20,  4.62it/s]\n",
      "EP_train | avg_loss: 0.5316589514414469 |\n",
      "====\n",
      "Epoch:   8%|▊         | 8/100 [00:01<00:19,  4.68it/s]\n",
      "EP_train | avg_loss: 0.5316087479684867 |\n",
      "====\n",
      "Epoch:   9%|▉         | 9/100 [00:01<00:19,  4.74it/s]\n",
      "EP_train | avg_loss: 0.5315781135185093 |\n",
      "====\n",
      "Epoch:  10%|█         | 10/100 [00:02<00:18,  4.76it/s]\n",
      "EP_train | avg_loss: 0.5315561201058182 |\n",
      "====\n",
      "Epoch:  11%|█         | 11/100 [00:02<00:19,  4.53it/s]\n",
      "EP_train | avg_loss: 0.5315184677348418 |\n",
      "====\n",
      "Epoch:  12%|█▏        | 12/100 [00:02<00:19,  4.50it/s]\n",
      "EP_train | avg_loss: 0.5314964500128054 |\n",
      "====\n",
      "Epoch:  13%|█▎        | 13/100 [00:02<00:19,  4.53it/s]\n",
      "EP_train | avg_loss: 0.5314349006204044 |\n",
      "====\n",
      "Epoch:  14%|█▍        | 14/100 [00:03<00:19,  4.47it/s]\n",
      "EP_train | avg_loss: 0.5313854371800142 |\n",
      "====\n",
      "Epoch:  15%|█▌        | 15/100 [00:03<00:18,  4.51it/s]\n",
      "EP_train | avg_loss: 0.5313605289833219 |\n",
      "====\n",
      "Epoch:  16%|█▌        | 16/100 [00:03<00:18,  4.54it/s]\n",
      "EP_train | avg_loss: 0.5313388871211632 |\n",
      "====\n",
      "Epoch:  17%|█▋        | 17/100 [00:03<00:18,  4.50it/s]\n",
      "EP_train | avg_loss: 0.5312699327281877 |\n",
      "====\n",
      "Epoch:  18%|█▊        | 18/100 [00:03<00:18,  4.36it/s]\n",
      "EP_train | avg_loss: 0.531247719596414 |\n",
      "====\n",
      "Epoch:  19%|█▉        | 19/100 [00:04<00:18,  4.30it/s]\n",
      "EP_train | avg_loss: 0.5312139455009909 |\n",
      "====\n",
      "Epoch:  20%|██        | 20/100 [00:04<00:18,  4.22it/s]\n",
      "EP_train | avg_loss: 0.5311547129761939 |\n",
      "====\n",
      "Epoch:  21%|██        | 21/100 [00:04<00:18,  4.30it/s]\n",
      "EP_train | avg_loss: 0.5311048376793955 |\n",
      "====\n",
      "Epoch:  22%|██▏       | 22/100 [00:04<00:17,  4.36it/s]\n",
      "EP_train | avg_loss: 0.5310735113480511 |\n",
      "====\n",
      "Epoch:  23%|██▎       | 23/100 [00:05<00:17,  4.40it/s]\n",
      "EP_train | avg_loss: 0.5310028010723638 |\n",
      "====\n",
      "Epoch:  24%|██▍       | 24/100 [00:05<00:17,  4.36it/s]\n",
      "EP_train | avg_loss: 0.5309657218409519 |\n",
      "====\n",
      "Epoch:  25%|██▌       | 25/100 [00:05<00:17,  4.40it/s]\n",
      "EP_train | avg_loss: 0.530891004263186 |\n",
      "====\n",
      "Epoch:  26%|██▌       | 26/100 [00:05<00:16,  4.41it/s]\n",
      "EP_train | avg_loss: 0.5308481076184441 |\n",
      "====\n",
      "Epoch:  27%|██▋       | 27/100 [00:06<00:16,  4.43it/s]\n",
      "EP_train | avg_loss: 0.5308062656252992 |\n",
      "====\n",
      "Epoch:  28%|██▊       | 28/100 [00:06<00:16,  4.45it/s]\n",
      "EP_train | avg_loss: 0.5307246002496457 |\n",
      "====\n",
      "Epoch:  29%|██▉       | 29/100 [00:06<00:15,  4.45it/s]\n",
      "EP_train | avg_loss: 0.5306541031482173 |\n",
      "====\n",
      "Epoch:  30%|███       | 30/100 [00:06<00:15,  4.39it/s]\n",
      "EP_train | avg_loss: 0.5305765067829805 |\n",
      "====\n",
      "Epoch:  31%|███       | 31/100 [00:06<00:15,  4.35it/s]\n",
      "EP_train | avg_loss: 0.5305027727987252 |\n",
      "====\n",
      "Epoch:  32%|███▏      | 32/100 [00:07<00:15,  4.33it/s]\n",
      "EP_train | avg_loss: 0.5304378257078283 |\n",
      "====\n",
      "Epoch:  33%|███▎      | 33/100 [00:07<00:15,  4.41it/s]\n",
      "EP_train | avg_loss: 0.5303588231404622 |\n",
      "====\n",
      "Epoch:  34%|███▍      | 34/100 [00:07<00:15,  4.38it/s]\n",
      "EP_train | avg_loss: 0.5302816381641463 |\n",
      "====\n",
      "Epoch:  35%|███▌      | 35/100 [00:07<00:14,  4.35it/s]\n",
      "EP_train | avg_loss: 0.5301820941999846 |\n",
      "====\n",
      "Epoch:  36%|███▌      | 36/100 [00:08<00:14,  4.35it/s]\n",
      "EP_train | avg_loss: 0.5300832926058302 |\n",
      "====\n",
      "Epoch:  37%|███▋      | 37/100 [00:08<00:14,  4.33it/s]\n",
      "EP_train | avg_loss: 0.5299969757304472 |\n",
      "====\n",
      "Epoch:  38%|███▊      | 38/100 [00:08<00:14,  4.39it/s]\n",
      "EP_train | avg_loss: 0.5298780992919323 |\n",
      "====\n",
      "Epoch:  39%|███▉      | 39/100 [00:08<00:13,  4.44it/s]\n",
      "EP_train | avg_loss: 0.5297586656084248 |\n",
      "====\n",
      "Epoch:  40%|████      | 40/100 [00:08<00:13,  4.49it/s]\n",
      "EP_train | avg_loss: 0.5296463040744557 |\n",
      "====\n",
      "Epoch:  41%|████      | 41/100 [00:09<00:13,  4.49it/s]\n",
      "EP_train | avg_loss: 0.5295290816063974 |\n",
      "====\n",
      "Epoch:  42%|████▏     | 42/100 [00:09<00:13,  4.45it/s]\n",
      "EP_train | avg_loss: 0.5293993370205748 |\n",
      "====\n",
      "Epoch:  43%|████▎     | 43/100 [00:09<00:12,  4.47it/s]\n",
      "EP_train | avg_loss: 0.5292299167782653 |\n",
      "====\n",
      "Epoch:  44%|████▍     | 44/100 [00:09<00:12,  4.48it/s]\n",
      "EP_train | avg_loss: 0.529074774536432 |\n",
      "====\n",
      "Epoch:  45%|████▌     | 45/100 [00:10<00:12,  4.49it/s]\n",
      "EP_train | avg_loss: 0.5289030860452091 |\n",
      "====\n",
      "Epoch:  46%|████▌     | 46/100 [00:10<00:12,  4.46it/s]\n",
      "EP_train | avg_loss: 0.5287096098357555 |\n",
      "====\n",
      "Epoch:  47%|████▋     | 47/100 [00:10<00:11,  4.47it/s]\n",
      "EP_train | avg_loss: 0.5285335755815693 |\n",
      "====\n",
      "Epoch:  48%|████▊     | 48/100 [00:10<00:11,  4.43it/s]\n",
      "EP_train | avg_loss: 0.5283326840868183 |\n",
      "====\n",
      "Epoch:  49%|████▉     | 49/100 [00:11<00:11,  4.39it/s]\n",
      "EP_train | avg_loss: 0.5280870886409984 |\n",
      "====\n",
      "Epoch:  50%|█████     | 50/100 [00:11<00:11,  4.45it/s]\n",
      "EP_train | avg_loss: 0.5278490767759435 |\n",
      "====\n",
      "Epoch:  51%|█████     | 51/100 [00:11<00:10,  4.47it/s]\n",
      "EP_train | avg_loss: 0.5275724186616786 |\n",
      "====\n",
      "Epoch:  52%|█████▏    | 52/100 [00:11<00:10,  4.46it/s]\n",
      "EP_train | avg_loss: 0.5272349114511528 |\n",
      "====\n",
      "Epoch:  53%|█████▎    | 53/100 [00:11<00:10,  4.40it/s]\n",
      "EP_train | avg_loss: 0.5269186562182857 |\n",
      "====\n",
      "Epoch:  54%|█████▍    | 54/100 [00:12<00:10,  4.38it/s]\n",
      "EP_train | avg_loss: 0.5265728828953762 |\n",
      "====\n",
      "Epoch:  55%|█████▌    | 55/100 [00:12<00:10,  4.42it/s]\n",
      "EP_train | avg_loss: 0.5261731091667624 |\n",
      "====\n",
      "Epoch:  56%|█████▌    | 56/100 [00:12<00:09,  4.49it/s]\n",
      "EP_train | avg_loss: 0.5257712812984691 |\n",
      "====\n",
      "Epoch:  57%|█████▋    | 57/100 [00:12<00:09,  4.53it/s]\n",
      "EP_train | avg_loss: 0.5253120085772346 |\n",
      "====\n",
      "Epoch:  58%|█████▊    | 58/100 [00:12<00:09,  4.57it/s]\n",
      "EP_train | avg_loss: 0.5247965448042926 |\n",
      "====\n",
      "Epoch:  59%|█████▉    | 59/100 [00:13<00:08,  4.59it/s]\n",
      "EP_train | avg_loss: 0.5242789212395164 |\n",
      "====\n",
      "Epoch:  60%|██████    | 60/100 [00:13<00:08,  4.60it/s]\n",
      "EP_train | avg_loss: 0.5236323178983202 |\n",
      "====\n",
      "Epoch:  61%|██████    | 61/100 [00:13<00:08,  4.60it/s]\n",
      "EP_train | avg_loss: 0.5229294945211972 |\n",
      "====\n",
      "Epoch:  62%|██████▏   | 62/100 [00:13<00:08,  4.57it/s]\n",
      "EP_train | avg_loss: 0.5221657996084176 |\n",
      "====\n",
      "Epoch:  63%|██████▎   | 63/100 [00:14<00:08,  4.54it/s]\n",
      "EP_train | avg_loss: 0.5212994977539661 |\n",
      "====\n",
      "Epoch:  64%|██████▍   | 64/100 [00:14<00:07,  4.52it/s]\n",
      "EP_train | avg_loss: 0.5202901840209961 |\n",
      "====\n",
      "Epoch:  65%|██████▌   | 65/100 [00:14<00:07,  4.52it/s]\n",
      "EP_train | avg_loss: 0.5192658349579455 |\n",
      "====\n",
      "Epoch:  66%|██████▌   | 66/100 [00:14<00:07,  4.53it/s]\n",
      "EP_train | avg_loss: 0.5180158727309283 |\n",
      "====\n",
      "Epoch:  67%|██████▋   | 67/100 [00:14<00:07,  4.53it/s]\n",
      "EP_train | avg_loss: 0.5166711003172632 |\n",
      "====\n",
      "Epoch:  68%|██████▊   | 68/100 [00:15<00:07,  4.49it/s]\n",
      "EP_train | avg_loss: 0.5150872183781044 |\n",
      "====\n",
      "Epoch:  69%|██████▉   | 69/100 [00:15<00:06,  4.49it/s]\n",
      "EP_train | avg_loss: 0.513168254553103 |\n",
      "====\n",
      "Epoch:  70%|███████   | 70/100 [00:15<00:06,  4.49it/s]\n",
      "EP_train | avg_loss: 0.5110941933650597 |\n",
      "====\n",
      "Epoch:  71%|███████   | 71/100 [00:15<00:06,  4.49it/s]\n",
      "EP_train | avg_loss: 0.5086956893696505 |\n",
      "====\n",
      "Epoch:  72%|███████▏  | 72/100 [00:16<00:06,  4.48it/s]\n",
      "EP_train | avg_loss: 0.5059796249165255 |\n",
      "====\n",
      "Epoch:  73%|███████▎  | 73/100 [00:16<00:06,  4.49it/s]\n",
      "EP_train | avg_loss: 0.5029592691683302 |\n",
      "====\n",
      "Epoch:  74%|███████▍  | 74/100 [00:16<00:05,  4.52it/s]\n",
      "EP_train | avg_loss: 0.4994179744346469 |\n",
      "====\n",
      "Epoch:  75%|███████▌  | 75/100 [00:16<00:05,  4.49it/s]\n",
      "EP_train | avg_loss: 0.49544322630938364 |\n",
      "====\n",
      "Epoch:  76%|███████▌  | 76/100 [00:16<00:05,  4.51it/s]\n",
      "EP_train | avg_loss: 0.4907624833724078 |\n",
      "====\n",
      "Epoch:  77%|███████▋  | 77/100 [00:17<00:05,  4.51it/s]\n",
      "EP_train | avg_loss: 0.48564865168403176 |\n",
      "====\n",
      "Epoch:  78%|███████▊  | 78/100 [00:17<00:04,  4.49it/s]\n",
      "EP_train | avg_loss: 0.4791898951810949 |\n",
      "====\n",
      "Epoch:  79%|███████▉  | 79/100 [00:17<00:04,  4.49it/s]\n",
      "EP_train | avg_loss: 0.473166748121673 |\n",
      "====\n",
      "Epoch:  80%|████████  | 80/100 [00:17<00:04,  4.51it/s]\n",
      "EP_train | avg_loss: 0.46631063666998174 |\n",
      "====\n",
      "Epoch:  81%|████████  | 81/100 [00:18<00:04,  4.49it/s]\n",
      "EP_train | avg_loss: 0.45921286321153826 |\n",
      "====\n",
      "Epoch:  82%|████████▏ | 82/100 [00:18<00:04,  4.43it/s]\n",
      "EP_train | avg_loss: 0.4521504776150573 |\n",
      "====\n",
      "Epoch:  83%|████████▎ | 83/100 [00:18<00:03,  4.40it/s]\n",
      "EP_train | avg_loss: 0.44506927191042434 |\n",
      "====\n",
      "Epoch:  84%|████████▍ | 84/100 [00:18<00:03,  4.42it/s]\n",
      "EP_train | avg_loss: 0.43838121750775505 |\n",
      "====\n",
      "Epoch:  85%|████████▌ | 85/100 [00:19<00:03,  4.46it/s]\n",
      "EP_train | avg_loss: 0.43123785561206296 |\n",
      "====\n",
      "Epoch:  86%|████████▌ | 86/100 [00:19<00:03,  4.47it/s]\n",
      "EP_train | avg_loss: 0.4246469217188218 |\n",
      "====\n",
      "Epoch:  87%|████████▋ | 87/100 [00:19<00:02,  4.46it/s]\n",
      "EP_train | avg_loss: 0.42002866034414255 |\n",
      "====\n",
      "Epoch:  88%|████████▊ | 88/100 [00:19<00:02,  4.50it/s]\n",
      "EP_train | avg_loss: 0.41311031790340647 |\n",
      "====\n",
      "Epoch:  89%|████████▉ | 89/100 [00:19<00:02,  4.52it/s]\n",
      "EP_train | avg_loss: 0.40905933941111844 |\n",
      "====\n",
      "Epoch:  90%|█████████ | 90/100 [00:20<00:02,  4.52it/s]\n",
      "EP_train | avg_loss: 0.4029815383985931 |\n",
      "====\n",
      "Epoch:  91%|█████████ | 91/100 [00:20<00:01,  4.53it/s]\n",
      "EP_train | avg_loss: 0.39829489670547785 |\n",
      "====\n",
      "Epoch:  92%|█████████▏| 92/100 [00:20<00:01,  4.52it/s]\n",
      "EP_train | avg_loss: 0.3949690248451981 |\n",
      "====\n",
      "Epoch:  93%|█████████▎| 93/100 [00:20<00:01,  4.54it/s]\n",
      "EP_train | avg_loss: 0.3892881000743193 |\n",
      "====\n",
      "Epoch:  94%|█████████▍| 94/100 [00:21<00:01,  4.47it/s]\n",
      "EP_train | avg_loss: 0.38914373154733695 |\n",
      "====\n",
      "Epoch:  95%|█████████▌| 95/100 [00:21<00:01,  4.46it/s]\n",
      "EP_train | avg_loss: 0.3812867150587194 |\n",
      "====\n",
      "Epoch:  96%|█████████▌| 96/100 [00:21<00:00,  4.45it/s]\n",
      "EP_train | avg_loss: 0.3758481965345495 |\n",
      "====\n",
      "Epoch:  97%|█████████▋| 97/100 [00:21<00:00,  4.51it/s]\n",
      "EP_train | avg_loss: 0.37101727186464795 |\n",
      "====\n",
      "Epoch:  98%|█████████▊| 98/100 [00:21<00:00,  4.54it/s]\n",
      "EP_train | avg_loss: 0.3662945784774481 |\n",
      "====\n",
      "Epoch:  99%|█████████▉| 99/100 [00:22<00:00,  4.52it/s]\n",
      "EP_train | avg_loss: 0.3604597718107934 |\n",
      "====\n",
      "Epoch: 100%|██████████| 100/100 [00:22<00:00,  4.48it/s]\n",
      "EP_train | avg_loss: 0.3556195025350533 |\n",
      "\n"
     ]
    }
   ],
   "source": [
    "AttractiveTrainer.train()"
   ]
  },
  {
   "source": [
    "## for classification, not better"
   ],
   "cell_type": "markdown",
   "metadata": {}
  },
  {
   "source": [
    "## Below is testing"
   ],
   "cell_type": "markdown",
   "metadata": {}
  },
  {
   "cell_type": "code",
   "execution_count": 12,
   "metadata": {},
   "outputs": [
    {
     "output_type": "execute_result",
     "data": {
      "text/plain": [
       "AttractiveNet(\n",
       "  (embedding): AttractiveEmbedding(\n",
       "    (token): TokenEmbedding(12699, 300, padding_idx=1)\n",
       "  )\n",
       "  (cnn1): Sequential(\n",
       "    (0): Conv1d(300, 220, kernel_size=(3,), stride=(1,), padding=(1,))\n",
       "    (1): ReLU()\n",
       "  )\n",
       "  (cnn2): Sequential(\n",
       "    (0): Conv1d(220, 150, kernel_size=(3,), stride=(1,), padding=(1,))\n",
       "    (1): ReLU()\n",
       "  )\n",
       "  (cnn3): Sequential(\n",
       "    (0): Conv1d(150, 100, kernel_size=(3,), stride=(1,), padding=(1,))\n",
       "    (1): ReLU()\n",
       "  )\n",
       "  (encoder): LSTM(100, 30, batch_first=True, bidirectional=True)\n",
       "  (linear): Sequential(\n",
       "    (0): Linear(in_features=120, out_features=30, bias=True)\n",
       "    (1): ReLU()\n",
       "    (2): Linear(in_features=30, out_features=1, bias=True)\n",
       "  )\n",
       ")"
      ]
     },
     "metadata": {},
     "execution_count": 12
    }
   ],
   "source": [
    "from attractivenet import AttractiveNet\n",
    "PATH = './model/CNN_LSTM_20201101-160258_0.3556.100'\n",
    "# load_model = TransformerModel(config).to(AttractiveData.device)\n",
    "load_model = AttractiveNet(config).to(AttractiveData.device)\n",
    "load_model.load_state_dict(torch.load(PATH))\n",
    "load_model.eval()"
   ]
  },
  {
   "cell_type": "code",
   "execution_count": 16,
   "metadata": {},
   "outputs": [],
   "source": [
    "def predict_attractive(sentence, category, phase):\n",
    "    # if len(sentence) < config['max_seq']:\n",
    "    #     sentence += ['0'] * (config['max_seq'] - len(sentence))\n",
    "    # else:\n",
    "    #     sentence = sentence[:config['max_seq']]\n",
    "\n",
    "    indexed_sentence = [AttractiveData.TEXT.vocab.stoi[t] for t in sentence]\n",
    "    indexed_category = [AttractiveData.CATEGORIES_LABEL.vocab.stoi[category]]\n",
    "    tensor_sentence = torch.LongTensor(indexed_sentence).to(AttractiveData.device)\n",
    "    tensor_category = torch.LongTensor(indexed_category).to(AttractiveData.device)\n",
    "\n",
    "    tensor_sentence = tensor_sentence.unsqueeze(0)\n",
    "    # print(tensor_sentence.shape)\n",
    "\n",
    "    prediction = load_model(tensor_sentence, tensor_category, phase=phase)\n",
    "    \n",
    "    return prediction"
   ]
  },
  {
   "cell_type": "code",
   "execution_count": 17,
   "metadata": {
    "tags": []
   },
   "outputs": [],
   "source": [
    "# train mean = 3.15, test mean = 2.8\n",
    "predict_list = []\n",
    "with torch.no_grad():\n",
    "    for i, sentence in enumerate(AttractiveData.test_data):\n",
    "        prediction = predict_attractive(sentence.Headline, sentence.Category, 'test')\n",
    "        predict_list.append(prediction.item())\n",
    "        # predict_list.append(prediction.item())\n",
    "AttractiveData.df_test['Label'] = predict_list\n",
    "AttractiveData.df_test[['ID', 'Label']].to_csv(config['save_name'] + '.csv', index=False)"
   ]
  },
  {
   "cell_type": "code",
   "execution_count": 18,
   "metadata": {},
   "outputs": [],
   "source": [
    "# train_category = list(AttractiveData.CATEGORIES_LABEL.vocab.freqs)\n",
    "# test_category = list(AttractiveData.df_test['Category'].value_counts().keys())\n",
    "# for each_test in test_category:\n",
    "#     if each_test not in train_category:\n",
    "#         print(each_test)\n",
    "# print()\n",
    "# for each_train in train_category:\n",
    "#     if each_train not in test_category:\n",
    "#         print(each_train)"
   ]
  },
  {
   "source": [
    "## Below just for fun guess"
   ],
   "cell_type": "markdown",
   "metadata": {}
  },
  {
   "cell_type": "code",
   "execution_count": 19,
   "metadata": {},
   "outputs": [],
   "source": [
    "import statistics\n",
    "from sklearn.metrics import mean_squared_error"
   ]
  },
  {
   "cell_type": "code",
   "execution_count": 20,
   "metadata": {},
   "outputs": [
    {
     "output_type": "execute_result",
     "data": {
      "text/plain": [
       "(0.008360719004864103, 3.138601073155216, 0.7192296302016682)"
      ]
     },
     "metadata": {},
     "execution_count": 20
    }
   ],
   "source": [
    "# train mean = 3.15, test mean = 2.8\n",
    "train_list = []\n",
    "for i, sentence in enumerate(AttractiveData.train_data):\n",
    "    prediction = predict_attractive(sentence.Headline, sentence.Category, 'train')\n",
    "    train_list.append(prediction.item())\n",
    "    # train_list.append(prediction.item())\n",
    "# print(train_list)\n",
    "mean_squared_error(pd.read_csv('data/train.csv').sort_values(['ID']).Label.to_list(), train_list), statistics.mean(train_list), statistics.stdev(train_list)"
   ]
  },
  {
   "cell_type": "code",
   "execution_count": 21,
   "metadata": {},
   "outputs": [
    {
     "output_type": "execute_result",
     "data": {
      "text/plain": [
       "([4.00521183013916,\n",
       "  2.2720608711242676,\n",
       "  4.3802032470703125,\n",
       "  3.3262126445770264,\n",
       "  3.997366428375244],\n",
       " [4.0, 2.333333333333333, 4.5, 3.333333333333333, 4.0])"
      ]
     },
     "metadata": {},
     "execution_count": 21
    }
   ],
   "source": [
    "train_list[0:5], pd.read_csv('data/train.csv').sort_values(['ID']).Label.to_list()[0:5]"
   ]
  },
  {
   "cell_type": "code",
   "execution_count": 22,
   "metadata": {},
   "outputs": [
    {
     "output_type": "execute_result",
     "data": {
      "text/plain": [
       "(3.150408496732026, 0.729501519321601)"
      ]
     },
     "metadata": {},
     "execution_count": 22
    }
   ],
   "source": [
    "a = AttractiveData.df_train['Label'].to_list()\n",
    "statistics.mean(a), statistics.stdev(a)"
   ]
  },
  {
   "cell_type": "code",
   "execution_count": 23,
   "metadata": {},
   "outputs": [
    {
     "output_type": "execute_result",
     "data": {
      "text/plain": [
       "(2.626068512773724, 0.5738398423117412)"
      ]
     },
     "metadata": {},
     "execution_count": 23
    }
   ],
   "source": [
    "statistics.mean(predict_list), statistics.stdev(predict_list)"
   ]
  },
  {
   "cell_type": "code",
   "execution_count": 24,
   "metadata": {},
   "outputs": [
    {
     "output_type": "execute_result",
     "data": {
      "text/plain": [
       "(0.26562163420502694, 2.7156126782757597, 0.29355123275379763)"
      ]
     },
     "metadata": {},
     "execution_count": 24
    }
   ],
   "source": [
    "baseline_list = pd.read_csv('baseline.csv').sort_values(['ID']).Label.to_list()\n",
    "mean_squared_error(baseline_list, predict_list), statistics.mean(baseline_list), statistics.stdev(baseline_list)"
   ]
  },
  {
   "cell_type": "code",
   "execution_count": 14,
   "metadata": {},
   "outputs": [
    {
     "output_type": "execute_result",
     "data": {
      "text/plain": [
       "(2.8167915543795683, 0.14611407210842048)"
      ]
     },
     "metadata": {},
     "execution_count": 14
    }
   ],
   "source": [
    "# LSTM my best\n",
    "# statistics.mean(predict_list), statistics.stdev(predict_list)"
   ]
  },
  {
   "cell_type": "code",
   "execution_count": 21,
   "metadata": {},
   "outputs": [
    {
     "output_type": "execute_result",
     "data": {
      "text/plain": [
       "(0.1347375515605904, 2.8379913731293533, 0.1903582104725371)"
      ]
     },
     "metadata": {},
     "execution_count": 21
    }
   ],
   "source": [
    "a = pd.read_csv('LSTM_base.csv').Label.to_list()\n",
    "mean_squared_error(baseline_list, a), statistics.mean(a), statistics.stdev(a)"
   ]
  },
  {
   "cell_type": "code",
   "execution_count": 14,
   "metadata": {},
   "outputs": [
    {
     "output_type": "execute_result",
     "data": {
      "text/plain": [
       "'the'"
      ]
     },
     "metadata": {},
     "execution_count": 14
    }
   ],
   "source": [
    "AttractiveData.TEXT.vocab.itos[2]"
   ]
  },
  {
   "cell_type": "code",
   "execution_count": null,
   "metadata": {},
   "outputs": [],
   "source": []
  }
 ]
}