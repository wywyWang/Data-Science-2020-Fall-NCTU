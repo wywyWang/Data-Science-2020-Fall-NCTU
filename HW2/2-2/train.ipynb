{
 "cells": [
  {
   "cell_type": "code",
   "execution_count": 1,
   "metadata": {},
   "outputs": [],
   "source": [
    "# common packages\n",
    "import pandas as pd\n",
    "import time\n",
    "\n",
    "# # DL framework\n",
    "import torch\n",
    "from torchtext import data\n",
    "\n",
    "from attractivedata import AttractiveData\n",
    "from trainer import AttractiveTrainer"
   ]
  },
  {
   "cell_type": "code",
   "execution_count": 2,
   "metadata": {},
   "outputs": [],
   "source": [
    "seed_value = 42\n",
    "torch.manual_seed(seed_value)\n",
    "torch.cuda.manual_seed(seed_value)\n",
    "torch.cuda.manual_seed_all(seed_value) # gpu vars\n",
    "# torch.backends.cudnn.deterministic = True  #needed\n",
    "# torch.backends.cudnn.benchmark = False"
   ]
  },
  {
   "cell_type": "markdown",
   "metadata": {},
   "source": [
    "## Load and prepare data"
   ]
  },
  {
   "cell_type": "code",
   "execution_count": 3,
   "metadata": {},
   "outputs": [],
   "source": [
    "train_file = 'data/train.csv'\n",
    "val_file = 'example/val.csv'\n",
    "test_file = 'data/test.csv'\n",
    "pretrained_file = 'glove.840B.300d'\n",
    "config = {\n",
    "    'max_seq': 40,\n",
    "    'min_freq': 0,\n",
    "    'batch_size': 64,\n",
    "    'pretrained_file': pretrained_file\n",
    "}\n"
   ]
  },
  {
   "cell_type": "code",
   "execution_count": 4,
   "metadata": {},
   "outputs": [],
   "source": [
    "AttractiveData = AttractiveData(train_file, val_file, test_file, pretrained_file, config)"
   ]
  },
  {
   "cell_type": "markdown",
   "metadata": {},
   "source": [
    "## Start to train"
   ]
  },
  {
   "cell_type": "code",
   "execution_count": 5,
   "metadata": {},
   "outputs": [
    {
     "output_type": "stream",
     "name": "stdout",
     "text": [
      "torch.Size([12699, 300])\n"
     ]
    }
   ],
   "source": [
    "config['timestr'] = time.strftime(\"%Y%m%d-%H%M%S\")\n",
    "config['save_name'] = 'CNN_LSTM'\n",
    "config['input_dim'] = len(AttractiveData.TEXT.vocab)\n",
    "config['embedding_dim'] = 300\n",
    "config['category_dim'] = len(AttractiveData.CATEGORIES_LABEL.vocab)\n",
    "config['category_embedding_dim'] = 10\n",
    "config['hidden_dim'] = 30\n",
    "config['output_dim'] = 1\n",
    "config['log_steps'] = 10\n",
    "config['epochs'] = 200\n",
    "config['lr'] = {\n",
    "    'encoder': 1e-5,\n",
    "    'embedding': 6e-6,\n",
    "    'linear': 1e-5\n",
    "}\n",
    "config['num_layers'] = 1\n",
    "config['kernel_size'] = 3\n",
    "config['dropout'] = 0.5\n",
    "config['train_len'] = AttractiveData.train_len\n",
    "config['val_len'] = AttractiveData.val_len\n",
    "config['test_len'] = AttractiveData.test_len\n",
    "\n",
    "pretrained_embeddings = AttractiveData.TEXT.vocab.vectors\n",
    "print(pretrained_embeddings.shape)"
   ]
  },
  {
   "cell_type": "code",
   "execution_count": 6,
   "metadata": {},
   "outputs": [],
   "source": [
    "AttractiveTrainer = AttractiveTrainer(config, AttractiveData.device, AttractiveData.trainloader, AttractiveData.valloader, pretrained_embeddings)"
   ]
  },
  {
   "cell_type": "code",
   "execution_count": 7,
   "metadata": {},
   "outputs": [
    {
     "output_type": "execute_result",
     "data": {
      "text/plain": [
       "(AttractiveNet(\n",
       "   (embedding): AttractiveEmbedding(\n",
       "     (token): TokenEmbedding(12699, 300, padding_idx=1)\n",
       "   )\n",
       "   (bigramcnn): Sequential(\n",
       "     (0): Conv1d(300, 210, kernel_size=(2,), stride=(1,), padding=(1,))\n",
       "     (1): ReLU()\n",
       "     (2): Conv1d(210, 100, kernel_size=(2,), stride=(1,), padding=(1,))\n",
       "     (3): ReLU()\n",
       "     (4): Dropout(p=0.5, inplace=False)\n",
       "   )\n",
       "   (trigramcnn): Sequential(\n",
       "     (0): Conv1d(300, 210, kernel_size=(3,), stride=(1,), padding=(1,))\n",
       "     (1): ReLU()\n",
       "     (2): Conv1d(210, 100, kernel_size=(3,), stride=(1,), padding=(1,))\n",
       "     (3): ReLU()\n",
       "     (4): Dropout(p=0.5, inplace=False)\n",
       "   )\n",
       "   (encoder_bigram): LSTM(100, 30, batch_first=True, dropout=0.5, bidirectional=True)\n",
       "   (encoder_trigram): LSTM(100, 30, batch_first=True, dropout=0.5, bidirectional=True)\n",
       "   (linear): Sequential(\n",
       "     (0): Linear(in_features=128, out_features=30, bias=True)\n",
       "     (1): ReLU()\n",
       "     (2): Linear(in_features=30, out_features=1, bias=True)\n",
       "   )\n",
       " ),\n",
       " 4297581,\n",
       " 4297581)"
      ]
     },
     "metadata": {},
     "execution_count": 7
    }
   ],
   "source": [
    "AttractiveTrainer.model, AttractiveTrainer.config['total_params'], AttractiveTrainer.config['total_learned_params']"
   ]
  },
  {
   "cell_type": "code",
   "execution_count": 8,
   "metadata": {
    "tags": [
     "outputPrepend"
    ]
   },
   "outputs": [
    {
     "output_type": "stream",
     "name": "stderr",
     "text": [
      "[00:19<01:01,  2.49it/s]\n",
      "EP_47 | train loss: 0.44125007087109136 | val loss: 0.37271256014412524 |\n",
      "Epoch:  24%|██▍       | 49/200 [00:19<01:00,  2.51it/s]\n",
      "EP_48 | train loss: 0.4351520921669754 | val loss: 0.3673535795772777 |\n",
      "Epoch:  25%|██▌       | 50/200 [00:20<00:59,  2.52it/s]\n",
      "EP_49 | train loss: 0.43290832182940314 | val loss: 0.36375583854376103 |\n",
      "Epoch:  26%|██▌       | 51/200 [00:20<01:00,  2.45it/s]\n",
      "EP_50 | train loss: 0.4290174250509225 | val loss: 0.3600851647994098 |\n",
      "Epoch:  26%|██▌       | 52/200 [00:21<00:59,  2.48it/s]\n",
      "EP_51 | train loss: 0.4310935385086957 | val loss: 0.3598783033735612 |\n",
      "Epoch:  26%|██▋       | 53/200 [00:21<00:58,  2.50it/s]\n",
      "EP_52 | train loss: 0.4302613847395953 | val loss: 0.3577470937195946 |\n",
      "Epoch:  27%|██▋       | 54/200 [00:21<00:58,  2.51it/s]\n",
      "EP_53 | train loss: 0.4246066822725184 | val loss: 0.35307056471413256 |\n",
      "Epoch:  28%|██▊       | 55/200 [00:22<01:00,  2.41it/s]\n",
      "EP_54 | train loss: 0.4238751168344535 | val loss: 0.3513725902519974 |\n",
      "Epoch:  28%|██▊       | 56/200 [00:22<00:59,  2.43it/s]\n",
      "EP_55 | train loss: 0.41985571805168603 | val loss: 0.347760865501329 |\n",
      "Epoch:  28%|██▊       | 57/200 [00:23<00:57,  2.47it/s]\n",
      "EP_56 | train loss: 0.4179708480834961 | val loss: 0.3457770096320732 |\n",
      "Epoch:  29%|██▉       | 58/200 [00:23<00:56,  2.50it/s]\n",
      "EP_57 | train loss: 0.4145484204385795 | val loss: 0.34280604065633286 |\n",
      "Epoch:  30%|██▉       | 59/200 [00:23<00:56,  2.51it/s]\n",
      "EP_58 | train loss: 0.4151874841428271 | val loss: 0.3429018305797203 |\n",
      "Epoch:  30%|███       | 60/200 [00:24<00:55,  2.52it/s]\n",
      "EP_59 | train loss: 0.4215352778341256 | val loss: 0.3483576722004834 |\n",
      "Epoch:  30%|███       | 61/200 [00:24<00:55,  2.49it/s]\n",
      "EP_60 | train loss: 0.40935698490516814 | val loss: 0.33788087730314215 |\n",
      "Epoch:  31%|███       | 62/200 [00:25<00:54,  2.51it/s]\n",
      "EP_61 | train loss: 0.4060533663805793 | val loss: 0.3356471453227249 |\n",
      "Epoch:  32%|███▏      | 63/200 [00:25<00:54,  2.53it/s]\n",
      "EP_62 | train loss: 0.4040785462248559 | val loss: 0.33448097168230545 |\n",
      "Epoch:  32%|███▏      | 64/200 [00:25<00:53,  2.54it/s]\n",
      "EP_63 | train loss: 0.4061605490890204 | val loss: 0.336138503224242 |\n",
      "Epoch:  32%|███▎      | 65/200 [00:26<00:53,  2.54it/s]\n",
      "EP_64 | train loss: 0.40359260802175484 | val loss: 0.33482712507247925 |\n",
      "Epoch:  33%|███▎      | 66/200 [00:26<00:53,  2.51it/s]\n",
      "EP_65 | train loss: 0.398531306958666 | val loss: 0.33023494774220036 |\n",
      "Epoch:  34%|███▎      | 67/200 [00:27<00:52,  2.53it/s]\n",
      "EP_66 | train loss: 0.3944077351514031 | val loss: 0.329173254031761 |\n",
      "Epoch:  34%|███▍      | 68/200 [00:27<00:51,  2.54it/s]\n",
      "EP_67 | train loss: 0.39551956045861336 | val loss: 0.32925664326723886 |\n",
      "Epoch:  34%|███▍      | 69/200 [00:27<00:51,  2.54it/s]\n",
      "EP_68 | train loss: 0.39911037987353754 | val loss: 0.3326357854347603 |\n",
      "Epoch:  35%|███▌      | 70/200 [00:28<00:50,  2.56it/s]\n",
      "EP_69 | train loss: 0.3883395980386173 | val loss: 0.3260105930122675 |\n",
      "Epoch:  36%|███▌      | 71/200 [00:28<00:51,  2.50it/s]\n",
      "EP_70 | train loss: 0.38717459603851917 | val loss: 0.3250046033485263 |\n",
      "Epoch:  36%|███▌      | 72/200 [00:29<00:50,  2.51it/s]\n",
      "EP_71 | train loss: 0.38532013986624924 | val loss: 0.3240172307865292 |\n",
      "Epoch:  36%|███▋      | 73/200 [00:29<00:50,  2.51it/s]\n",
      "EP_72 | train loss: 0.38263307552711634 | val loss: 0.32291137763098177 |\n",
      "Epoch:  37%|███▋      | 74/200 [00:29<00:49,  2.52it/s]\n",
      "EP_73 | train loss: 0.37935570268069996 | val loss: 0.3216719890342039 |\n",
      "Epoch:  38%|███▊      | 75/200 [00:30<00:49,  2.53it/s]\n",
      "EP_74 | train loss: 0.37870816903955795 | val loss: 0.3206436312666126 |\n",
      "Epoch:  38%|███▊      | 76/200 [00:30<00:49,  2.52it/s]\n",
      "EP_75 | train loss: 0.3755442638023227 | val loss: 0.31904298534580305 |\n",
      "Epoch:  38%|███▊      | 77/200 [00:30<00:48,  2.56it/s]\n",
      "EP_76 | train loss: 0.37225073412352916 | val loss: 0.317685314837624 |\n",
      "Epoch:  39%|███▉      | 78/200 [00:31<00:47,  2.57it/s]\n",
      "EP_77 | train loss: 0.37092727399339864 | val loss: 0.31687036507269917 |\n",
      "Epoch:  40%|███▉      | 79/200 [00:31<00:46,  2.59it/s]\n",
      "EP_78 | train loss: 0.3662443577074537 | val loss: 0.3144481147036833 |\n",
      "Epoch:  40%|████      | 80/200 [00:32<00:46,  2.60it/s]\n",
      "EP_79 | train loss: 0.3627403567819034 | val loss: 0.3137500414661333 |\n",
      "Epoch:  40%|████      | 81/200 [00:32<00:46,  2.56it/s]\n",
      "EP_80 | train loss: 0.36183181650498336 | val loss: 0.312519184514588 |\n",
      "Epoch:  41%|████      | 82/200 [00:32<00:45,  2.57it/s]\n",
      "EP_81 | train loss: 0.36425716549742454 | val loss: 0.3128998671092239 |\n",
      "Epoch:  42%|████▏     | 83/200 [00:33<00:46,  2.51it/s]\n",
      "EP_82 | train loss: 0.35512940042159136 | val loss: 0.30887257935954077 |\n",
      "Epoch:  42%|████▏     | 84/200 [00:33<00:47,  2.45it/s]\n",
      "EP_83 | train loss: 0.3560368598676195 | val loss: 0.3082580759244807 |\n",
      "Epoch:  42%|████▎     | 85/200 [00:34<00:47,  2.42it/s]\n",
      "EP_84 | train loss: 0.3494312333125694 | val loss: 0.3071929210541295 |\n",
      "Epoch:  43%|████▎     | 86/200 [00:34<00:46,  2.44it/s]\n",
      "EP_85 | train loss: 0.3490015422596651 | val loss: 0.30399486948462096 |\n",
      "Epoch:  44%|████▎     | 87/200 [00:34<00:46,  2.44it/s]\n",
      "EP_86 | train loss: 0.3458743647033093 | val loss: 0.3022455841887231 |\n",
      "Epoch:  44%|████▍     | 88/200 [00:35<00:45,  2.47it/s]\n",
      "EP_87 | train loss: 0.3447555691588159 | val loss: 0.3009851592428544 |\n",
      "Epoch:  44%|████▍     | 89/200 [00:35<00:44,  2.50it/s]\n",
      "EP_88 | train loss: 0.34149323070750515 | val loss: 0.2986941881039563 |\n",
      "Epoch:  45%|████▌     | 90/200 [00:36<00:43,  2.52it/s]\n",
      "EP_89 | train loss: 0.3400483626945346 | val loss: 0.2983151908014335 |\n",
      "Epoch:  46%|████▌     | 91/200 [00:36<00:43,  2.49it/s]\n",
      "EP_90 | train loss: 0.330567780195498 | val loss: 0.29565592431554605 |\n",
      "Epoch:  46%|████▌     | 92/200 [00:36<00:43,  2.50it/s]\n",
      "EP_91 | train loss: 0.3287304120905259 | val loss: 0.2915215679243499 |\n",
      "Epoch:  46%|████▋     | 93/200 [00:37<00:42,  2.52it/s]\n",
      "EP_92 | train loss: 0.32872523887484684 | val loss: 0.2903353081030004 |\n",
      "Epoch:  47%|████▋     | 94/200 [00:37<00:41,  2.54it/s]\n",
      "EP_93 | train loss: 0.32334528717340205 | val loss: 0.28856024321387796 |\n",
      "Epoch:  48%|████▊     | 95/200 [00:38<00:41,  2.52it/s]\n",
      "EP_94 | train loss: 0.3186075023576325 | val loss: 0.28714344022320765 |\n",
      "Epoch:  48%|████▊     | 96/200 [00:38<00:42,  2.44it/s]\n",
      "EP_95 | train loss: 0.3159831397673663 | val loss: 0.28481002064312205 |\n",
      "Epoch:  48%|████▊     | 97/200 [00:38<00:41,  2.48it/s]\n",
      "EP_96 | train loss: 0.3135213253544826 | val loss: 0.28225486301908304 |\n",
      "Epoch:  49%|████▉     | 98/200 [00:39<00:42,  2.42it/s]\n",
      "EP_97 | train loss: 0.30903926783916996 | val loss: 0.27948473014083564 |\n",
      "Epoch:  50%|████▉     | 99/200 [00:39<00:42,  2.37it/s]\n",
      "EP_98 | train loss: 0.3078308236365225 | val loss: 0.27757687136238696 |\n",
      "Epoch:  50%|█████     | 100/200 [00:40<00:41,  2.38it/s]\n",
      "EP_99 | train loss: 0.301003368695577 | val loss: 0.27659787208426234 |\n",
      "Epoch:  50%|█████     | 101/200 [00:40<00:41,  2.41it/s]\n",
      "EP_100 | train loss: 0.30159091902714147 | val loss: 0.27234364899934504 |\n",
      "Epoch:  51%|█████     | 102/200 [00:41<00:40,  2.41it/s]\n",
      "EP_101 | train loss: 0.29346806769277534 | val loss: 0.27076712426017313 |\n",
      "Epoch:  52%|█████▏    | 103/200 [00:41<00:39,  2.46it/s]\n",
      "EP_102 | train loss: 0.2916628809536205 | val loss: 0.26786647824680104 |\n",
      "Epoch:  52%|█████▏    | 104/200 [00:41<00:38,  2.49it/s]\n",
      "EP_103 | train loss: 0.2861272321027868 | val loss: 0.26491185379963295 |\n",
      "Epoch:  52%|█████▎    | 105/200 [00:42<00:37,  2.52it/s]\n",
      "EP_104 | train loss: 0.28332281720404534 | val loss: 0.26373165612127264 |\n",
      "Epoch:  53%|█████▎    | 106/200 [00:42<00:37,  2.50it/s]\n",
      "EP_105 | train loss: 0.27864108973858404 | val loss: 0.26168331270124395 |\n",
      "Epoch:  54%|█████▎    | 107/200 [00:43<00:36,  2.52it/s]\n",
      "EP_106 | train loss: 0.27924677390678254 | val loss: 0.25683680819530114 |\n",
      "Epoch:  54%|█████▍    | 108/200 [00:43<00:36,  2.53it/s]\n",
      "EP_107 | train loss: 0.2715750923343733 | val loss: 0.25333601353215235 |\n",
      "Epoch:  55%|█████▍    | 109/200 [00:43<00:35,  2.54it/s]\n",
      "EP_108 | train loss: 0.2704538027445475 | val loss: 0.24874563018480936 |\n",
      "Epoch:  55%|█████▌    | 110/200 [00:44<00:35,  2.55it/s]\n",
      "EP_109 | train loss: 0.26739604145872825 | val loss: 0.24533873387411528 |\n",
      "Epoch:  56%|█████▌    | 111/200 [00:44<00:35,  2.52it/s]\n",
      "EP_110 | train loss: 0.26046241451712215 | val loss: 0.24833926850674198 |\n",
      "Epoch:  56%|█████▌    | 112/200 [00:45<00:34,  2.53it/s]\n",
      "EP_111 | train loss: 0.255894349603092 | val loss: 0.23943008511674171 |\n",
      "Epoch:  56%|█████▋    | 113/200 [00:45<00:34,  2.55it/s]\n",
      "EP_112 | train loss: 0.2520949576415268 | val loss: 0.2403211091078964 |\n",
      "Epoch:  57%|█████▋    | 114/200 [00:45<00:33,  2.55it/s]\n",
      "EP_113 | train loss: 0.24662502746956022 | val loss: 0.23135361133837232 |\n",
      "Epoch:  57%|█████▊    | 115/200 [00:46<00:33,  2.56it/s]\n",
      "EP_114 | train loss: 0.24330350557963054 | val loss: 0.23044595180773267 |\n",
      "Epoch:  58%|█████▊    | 116/200 [00:46<00:33,  2.52it/s]\n",
      "EP_115 | train loss: 0.24150859935610902 | val loss: 0.2229753674245348 |\n",
      "Epoch:  58%|█████▊    | 117/200 [00:46<00:32,  2.52it/s]\n",
      "EP_116 | train loss: 0.23422896675035065 | val loss: 0.2223774621299669 |\n",
      "Epoch:  59%|█████▉    | 118/200 [00:47<00:33,  2.47it/s]\n",
      "EP_117 | train loss: 0.23111088135663202 | val loss: 0.21506391319574095 |\n",
      "Epoch:  60%|█████▉    | 119/200 [00:47<00:33,  2.44it/s]\n",
      "EP_118 | train loss: 0.22772946451224532 | val loss: 0.21366033542389964 |\n",
      "Epoch:  60%|██████    | 120/200 [00:48<00:33,  2.38it/s]\n",
      "EP_119 | train loss: 0.22350766658782958 | val loss: 0.2077307666049284 |\n",
      "Epoch:  60%|██████    | 121/200 [00:48<00:33,  2.33it/s]\n",
      "EP_120 | train loss: 0.21752392076978497 | val loss: 0.2053584713561862 |\n",
      "Epoch:  61%|██████    | 122/200 [00:49<00:32,  2.37it/s]\n",
      "EP_121 | train loss: 0.21214596196716906 | val loss: 0.1988629307232651 |\n",
      "Epoch:  62%|██████▏   | 123/200 [00:49<00:32,  2.38it/s]\n",
      "EP_122 | train loss: 0.2113836082757688 | val loss: 0.19390735030174255 |\n",
      "Epoch:  62%|██████▏   | 124/200 [00:49<00:31,  2.41it/s]\n",
      "EP_123 | train loss: 0.2058874995100732 | val loss: 0.1888068388490116 |\n",
      "Epoch:  62%|██████▎   | 125/200 [00:50<00:30,  2.43it/s]\n",
      "EP_124 | train loss: 0.19917119718065449 | val loss: 0.1867442060919369 |\n",
      "Epoch:  63%|██████▎   | 126/200 [00:50<00:30,  2.42it/s]\n",
      "EP_125 | train loss: 0.20549928020028507 | val loss: 0.1863184483612285 |\n",
      "Epoch:  64%|██████▎   | 127/200 [00:51<00:31,  2.34it/s]\n",
      "EP_126 | train loss: 0.19297179942037546 | val loss: 0.17648515631170833 |\n",
      "Epoch:  64%|██████▍   | 128/200 [00:51<00:30,  2.35it/s]\n",
      "EP_127 | train loss: 0.1943138089834475 | val loss: 0.17469490743150898 |\n",
      "Epoch:  64%|██████▍   | 129/200 [00:52<00:29,  2.38it/s]\n",
      "EP_128 | train loss: 0.1812674599535325 | val loss: 0.16892950499759002 |\n",
      "Epoch:  65%|██████▌   | 130/200 [00:52<00:28,  2.42it/s]\n",
      "EP_129 | train loss: 0.17608677522808897 | val loss: 0.1653811423217549 |\n",
      "Epoch:  66%|██████▌   | 131/200 [00:52<00:28,  2.41it/s]\n",
      "EP_130 | train loss: 0.172462041237775 | val loss: 0.1635480774383919 |\n",
      "Epoch:  66%|██████▌   | 132/200 [00:53<00:27,  2.45it/s]\n",
      "EP_131 | train loss: 0.1680420302877239 | val loss: 0.15815654397010803 |\n",
      "Epoch:  66%|██████▋   | 133/200 [00:53<00:27,  2.44it/s]\n",
      "EP_132 | train loss: 0.16751131497177424 | val loss: 0.15259246265186982 |\n",
      "Epoch:  67%|██████▋   | 134/200 [00:54<00:27,  2.44it/s]\n",
      "EP_133 | train loss: 0.16268601347418393 | val loss: 0.14692881294325286 |\n",
      "Epoch:  68%|██████▊   | 135/200 [00:54<00:26,  2.42it/s]\n",
      "EP_134 | train loss: 0.15843491180270325 | val loss: 0.15322179712501227 |\n",
      "Epoch:  68%|██████▊   | 136/200 [00:54<00:26,  2.39it/s]\n",
      "EP_135 | train loss: 0.17892756228353462 | val loss: 0.15566850526660098 |\n",
      "Epoch:  68%|██████▊   | 137/200 [00:55<00:26,  2.34it/s]\n",
      "EP_136 | train loss: 0.15171413281384635 | val loss: 0.1366068346827638 |\n",
      "Epoch:  69%|██████▉   | 138/200 [00:55<00:25,  2.40it/s]\n",
      "EP_137 | train loss: 0.14477375138039683 | val loss: 0.13652750908159741 |\n",
      "Epoch:  70%|██████▉   | 139/200 [00:56<00:25,  2.44it/s]\n",
      "EP_138 | train loss: 0.1381407520350288 | val loss: 0.12998012000439213 |\n",
      "Epoch:  70%|███████   | 140/200 [00:56<00:24,  2.43it/s]\n",
      "EP_139 | train loss: 0.13322682240430048 | val loss: 0.12100778490889307 |\n",
      "Epoch:  70%|███████   | 141/200 [00:57<00:24,  2.37it/s]\n",
      "EP_140 | train loss: 0.17783929203070847 | val loss: 0.15347588003850451 |\n",
      "Epoch:  71%|███████   | 142/200 [00:57<00:24,  2.37it/s]\n",
      "EP_141 | train loss: 0.1261832917437834 | val loss: 0.11749935150146484 |\n",
      "Epoch:  72%|███████▏  | 143/200 [00:57<00:23,  2.41it/s]\n",
      "EP_142 | train loss: 0.1249813228261237 | val loss: 0.11042787865096447 |\n",
      "Epoch:  72%|███████▏  | 144/200 [00:58<00:23,  2.39it/s]\n",
      "EP_143 | train loss: 0.11658634858972886 | val loss: 0.10689959485156864 |\n",
      "Epoch:  72%|███████▎  | 145/200 [00:58<00:22,  2.41it/s]\n",
      "EP_144 | train loss: 0.11258924334656958 | val loss: 0.10185820945337706 |\n",
      "Epoch:  73%|███████▎  | 146/200 [00:59<00:22,  2.40it/s]\n",
      "EP_145 | train loss: 0.11820536922006046 | val loss: 0.1048847238222758 |\n",
      "Epoch:  74%|███████▎  | 147/200 [00:59<00:22,  2.40it/s]\n",
      "EP_146 | train loss: 0.10850290457407634 | val loss: 0.09885776685733422 |\n",
      "Epoch:  74%|███████▍  | 148/200 [00:59<00:22,  2.36it/s]\n",
      "EP_147 | train loss: 0.12079943979487699 | val loss: 0.10511094916100595 |\n",
      "Epoch:  74%|███████▍  | 149/200 [01:00<00:21,  2.38it/s]\n",
      "EP_148 | train loss: 0.09826115323048012 | val loss: 0.09044474363327026 |\n",
      "Epoch:  75%|███████▌  | 150/200 [01:00<00:21,  2.35it/s]\n",
      "EP_149 | train loss: 0.10469369420818254 | val loss: 0.09961064247524037 |\n",
      "Epoch:  76%|███████▌  | 151/200 [01:01<00:20,  2.36it/s]\n",
      "EP_150 | train loss: 0.09107897421892952 | val loss: 0.08566043423671349 |\n",
      "Epoch:  76%|███████▌  | 152/200 [01:01<00:20,  2.39it/s]\n",
      "EP_151 | train loss: 0.08982221262127746 | val loss: 0.08154249980169184 |\n",
      "Epoch:  76%|███████▋  | 153/200 [01:02<00:19,  2.43it/s]\n",
      "EP_152 | train loss: 0.08375049665862438 | val loss: 0.07710397857076981 |\n",
      "Epoch:  77%|███████▋  | 154/200 [01:02<00:18,  2.45it/s]\n",
      "EP_153 | train loss: 0.08253418943461249 | val loss: 0.07494316177040923 |\n",
      "Epoch:  78%|███████▊  | 155/200 [01:02<00:18,  2.47it/s]\n",
      "EP_154 | train loss: 0.07980779070480197 | val loss: 0.07743651931192361 |\n",
      "Epoch:  78%|███████▊  | 156/200 [01:03<00:17,  2.45it/s]\n",
      "EP_155 | train loss: 0.07977034192459256 | val loss: 0.07266206484214932 |\n",
      "Epoch:  78%|███████▊  | 157/200 [01:03<00:17,  2.45it/s]\n",
      "EP_156 | train loss: 0.07339837597865684 | val loss: 0.07019779188375846 |\n",
      "Epoch:  79%|███████▉  | 158/200 [01:04<00:17,  2.46it/s]\n",
      "EP_157 | train loss: 0.0688951941097484 | val loss: 0.06502393969133788 |\n",
      "Epoch:  80%|███████▉  | 159/200 [01:04<00:16,  2.42it/s]\n",
      "EP_158 | train loss: 0.06661389622033811 | val loss: 0.062337378076478545 |\n",
      "Epoch:  80%|████████  | 160/200 [01:04<00:16,  2.39it/s]\n",
      "EP_159 | train loss: 0.07017857315493566 | val loss: 0.0652119003090204 |\n",
      "Epoch:  80%|████████  | 161/200 [01:05<00:16,  2.34it/s]\n",
      "EP_160 | train loss: 0.061693946520487465 | val loss: 0.05808699803025115 |\n",
      "Epoch:  81%|████████  | 162/200 [01:05<00:16,  2.33it/s]\n",
      "EP_161 | train loss: 0.059990766001682655 | val loss: 0.05571527194743063 |\n",
      "Epoch:  82%|████████▏ | 163/200 [01:06<00:15,  2.34it/s]\n",
      "EP_162 | train loss: 0.057365464813569016 | val loss: 0.055711384497436824 |\n",
      "Epoch:  82%|████████▏ | 164/200 [01:06<00:15,  2.38it/s]\n",
      "EP_163 | train loss: 0.05691018408420039 | val loss: 0.053957781370948345 |\n",
      "Epoch:  82%|████████▎ | 165/200 [01:07<00:14,  2.38it/s]\n",
      "EP_164 | train loss: 0.05315858184122572 | val loss: 0.053131108920948175 |\n",
      "Epoch:  83%|████████▎ | 166/200 [01:07<00:14,  2.35it/s]\n",
      "EP_165 | train loss: 0.050510320943944594 | val loss: 0.049727480201160204 |\n",
      "Epoch:  84%|████████▎ | 167/200 [01:07<00:13,  2.36it/s]\n",
      "EP_166 | train loss: 0.05330926174042271 | val loss: 0.049501863618691765 |\n",
      "Epoch:  84%|████████▍ | 168/200 [01:08<00:13,  2.32it/s]\n",
      "EP_167 | train loss: 0.046645834925127964 | val loss: 0.045985808121223076 |\n",
      "Epoch:  84%|████████▍ | 169/200 [01:08<00:13,  2.36it/s]\n",
      "EP_168 | train loss: 0.045637196127106164 | val loss: 0.04450571668498656 |\n",
      "Epoch:  85%|████████▌ | 170/200 [01:09<00:12,  2.39it/s]\n",
      "EP_169 | train loss: 0.044120191884975804 | val loss: 0.041928098774423786 |\n",
      "Epoch:  86%|████████▌ | 171/200 [01:09<00:12,  2.38it/s]\n",
      "EP_170 | train loss: 0.05140329272139306 | val loss: 0.054316526242330965 |\n",
      "Epoch:  86%|████████▌ | 172/200 [01:10<00:11,  2.41it/s]\n",
      "EP_171 | train loss: 0.04470524174325606 | val loss: 0.0443084017903197 |\n",
      "Epoch:  86%|████████▋ | 173/200 [01:10<00:11,  2.41it/s]\n",
      "EP_172 | train loss: 0.039957631569282684 | val loss: 0.040319855306662766 |\n",
      "Epoch:  87%|████████▋ | 174/200 [01:10<00:10,  2.44it/s]\n",
      "EP_173 | train loss: 0.038482946332763224 | val loss: 0.03733550742560742 |\n",
      "Epoch:  88%|████████▊ | 175/200 [01:11<00:10,  2.45it/s]\n",
      "EP_174 | train loss: 0.05108390836154714 | val loss: 0.04941553520221336 |\n",
      "Epoch:  88%|████████▊ | 176/200 [01:11<00:10,  2.40it/s]\n",
      "EP_175 | train loss: 0.0348731234961865 | val loss: 0.03501989473314846 |\n",
      "Epoch:  88%|████████▊ | 177/200 [01:12<00:09,  2.39it/s]\n",
      "EP_176 | train loss: 0.03417220419528438 | val loss: 0.03456528660129098 |\n",
      "Epoch:  89%|████████▉ | 178/200 [01:12<00:09,  2.41it/s]\n",
      "EP_177 | train loss: 0.03296094422831255 | val loss: 0.03292890272888483 |\n",
      "Epoch:  90%|████████▉ | 179/200 [01:12<00:08,  2.43it/s]\n",
      "EP_178 | train loss: 0.0584016339451659 | val loss: 0.058411025533489154 |\n",
      "Epoch:  90%|█████████ | 180/200 [01:13<00:08,  2.44it/s]\n",
      "EP_179 | train loss: 0.038408131517615976 | val loss: 0.03987457413299411 |\n",
      "Epoch:  90%|█████████ | 181/200 [01:13<00:07,  2.41it/s]\n",
      "EP_180 | train loss: 0.03002945634664274 | val loss: 0.03192444846910589 |\n",
      "Epoch:  91%|█████████ | 182/200 [01:14<00:07,  2.43it/s]\n",
      "EP_181 | train loss: 0.030185280827914968 | val loss: 0.032032728414325154 |\n",
      "Epoch:  92%|█████████▏| 183/200 [01:14<00:06,  2.44it/s]\n",
      "EP_182 | train loss: 0.035798160585702635 | val loss: 0.03624015199203117 |\n",
      "Epoch:  92%|█████████▏| 184/200 [01:14<00:06,  2.46it/s]\n",
      "EP_183 | train loss: 0.026712874396174563 | val loss: 0.028530051895216398 |\n",
      "Epoch:  92%|█████████▎| 185/200 [01:15<00:06,  2.46it/s]\n",
      "EP_184 | train loss: 0.02847274985967898 | val loss: 0.02897860372767729 |\n",
      "Epoch:  93%|█████████▎| 186/200 [01:15<00:05,  2.41it/s]\n",
      "EP_185 | train loss: 0.02637876795203078 | val loss: 0.027829199737193538 |\n",
      "Epoch:  94%|█████████▎| 187/200 [01:16<00:05,  2.41it/s]\n",
      "EP_186 | train loss: 0.03878768472110524 | val loss: 0.03920671110059701 |\n",
      "Epoch:  94%|█████████▍| 188/200 [01:16<00:05,  2.37it/s]\n",
      "EP_187 | train loss: 0.025670838735851586 | val loss: 0.027259891816214018 |\n",
      "Epoch:  94%|█████████▍| 189/200 [01:17<00:04,  2.38it/s]\n",
      "EP_188 | train loss: 0.03110253509937548 | val loss: 0.031544723931480854 |\n",
      "Epoch:  95%|█████████▌| 190/200 [01:17<00:04,  2.36it/s]\n",
      "EP_189 | train loss: 0.023883139239806755 | val loss: 0.02482354188082265 |\n",
      "Epoch:  96%|█████████▌| 191/200 [01:17<00:03,  2.33it/s]\n",
      "EP_190 | train loss: 0.020811390716071222 | val loss: 0.023019079192011963 |\n",
      "Epoch:  96%|█████████▌| 192/200 [01:18<00:03,  2.33it/s]\n",
      "EP_191 | train loss: 0.022491548634042926 | val loss: 0.02388631391759012 |\n",
      "Epoch:  96%|█████████▋| 193/200 [01:18<00:02,  2.38it/s]\n",
      "EP_192 | train loss: 0.02419483939222261 | val loss: 0.025433993368756538 |\n",
      "Epoch:  97%|█████████▋| 194/200 [01:19<00:02,  2.41it/s]\n",
      "EP_193 | train loss: 0.021045005321502684 | val loss: 0.024015919396690295 |\n",
      "Epoch:  98%|█████████▊| 195/200 [01:19<00:02,  2.41it/s]\n",
      "EP_194 | train loss: 0.019530113275144614 | val loss: 0.020268495906801784 |\n",
      "Epoch:  98%|█████████▊| 196/200 [01:20<00:01,  2.39it/s]\n",
      "EP_195 | train loss: 0.019703162593000076 | val loss: 0.021494289093157825 |\n",
      "Epoch:  98%|█████████▊| 197/200 [01:20<00:01,  2.41it/s]\n",
      "EP_196 | train loss: 0.018974369209186704 | val loss: 0.01993501244806776 |\n",
      "Epoch:  99%|█████████▉| 198/200 [01:20<00:00,  2.42it/s]\n",
      "EP_197 | train loss: 0.02043393599052055 | val loss: 0.02198986256239461 |\n",
      "Epoch: 100%|█████████▉| 199/200 [01:21<00:00,  2.42it/s]\n",
      "EP_198 | train loss: 0.017255321320365457 | val loss: 0.019402917912777734 |\n",
      "Epoch: 100%|██████████| 200/200 [01:21<00:00,  2.45it/s]\n",
      "EP_199 | train loss: 0.01693859006844315 | val loss: 0.018886950524414286 |\n",
      "\n"
     ]
    }
   ],
   "source": [
    "AttractiveTrainer.train()"
   ]
  },
  {
   "cell_type": "markdown",
   "metadata": {},
   "source": [
    "## Below is testing"
   ]
  },
  {
   "cell_type": "code",
   "execution_count": 6,
   "metadata": {},
   "outputs": [
    {
     "output_type": "execute_result",
     "data": {
      "text/plain": [
       "AttractiveNet(\n",
       "  (embedding): AttractiveEmbedding(\n",
       "    (token): TokenEmbedding(12699, 300, padding_idx=1)\n",
       "  )\n",
       "  (bigramcnn): Sequential(\n",
       "    (0): Conv1d(300, 210, kernel_size=(2,), stride=(1,), padding=(1,))\n",
       "    (1): ReLU()\n",
       "    (2): Conv1d(210, 100, kernel_size=(2,), stride=(1,), padding=(1,))\n",
       "    (3): ReLU()\n",
       "    (4): Dropout(p=0.5, inplace=False)\n",
       "  )\n",
       "  (trigramcnn): Sequential(\n",
       "    (0): Conv1d(300, 210, kernel_size=(3,), stride=(1,), padding=(1,))\n",
       "    (1): ReLU()\n",
       "    (2): Conv1d(210, 100, kernel_size=(3,), stride=(1,), padding=(1,))\n",
       "    (3): ReLU()\n",
       "    (4): Dropout(p=0.5, inplace=False)\n",
       "  )\n",
       "  (encoder_bigram): LSTM(100, 30, batch_first=True, dropout=0.5, bidirectional=True)\n",
       "  (encoder_trigram): LSTM(100, 30, batch_first=True, dropout=0.5, bidirectional=True)\n",
       "  (linear): Sequential(\n",
       "    (0): Linear(in_features=128, out_features=30, bias=True)\n",
       "    (1): ReLU()\n",
       "    (2): Linear(in_features=30, out_features=1, bias=True)\n",
       "  )\n",
       ")"
      ]
     },
     "metadata": {},
     "execution_count": 6
    }
   ],
   "source": [
    "from attractivenet import AttractiveNet\n",
    "\n",
    "PATH = './model/CNN_LSTM_20201109-170729/0.375544.75'\n",
    "\n",
    "load_model = AttractiveNet(config).to(AttractiveData.device)\n",
    "load_model.load_state_dict(torch.load(PATH))\n",
    "load_model.eval()"
   ]
  },
  {
   "cell_type": "code",
   "execution_count": 7,
   "metadata": {},
   "outputs": [],
   "source": [
    "def predict_attractive(sentence, category, phase):\n",
    "    indexed_sentence = [AttractiveData.TEXT.vocab.stoi[t] for t in sentence]\n",
    "    indexed_category = [AttractiveData.CATEGORIES_LABEL.vocab.stoi[category]]\n",
    "    tensor_sentence = torch.LongTensor(indexed_sentence).to(AttractiveData.device)\n",
    "    tensor_category = torch.LongTensor(indexed_category).to(AttractiveData.device)\n",
    "    tensor_sentence = tensor_sentence.unsqueeze(0)\n",
    "\n",
    "    prediction = load_model(tensor_sentence, tensor_category, phase=phase)\n",
    "\n",
    "    return prediction"
   ]
  },
  {
   "cell_type": "code",
   "execution_count": 8,
   "metadata": {
    "tags": []
   },
   "outputs": [],
   "source": [
    "# train mean = 3.15, test mean = 2.8\n",
    "predict_list = []\n",
    "with torch.no_grad():\n",
    "    for i, sentence in enumerate(AttractiveData.test_data):\n",
    "        prediction = predict_attractive(sentence.Headline, sentence.Category, 'test')\n",
    "        predict_list.append(prediction.item())\n",
    "        # predict_list.append(prediction.item())\n",
    "AttractiveData.df_test['Label'] = predict_list\n",
    "AttractiveData.df_test[['ID', 'Label']].to_csv(config['save_name'] + '.csv', index=False)"
   ]
  },
  {
   "cell_type": "markdown",
   "metadata": {},
   "source": [
    "## Below for statistics"
   ]
  },
  {
   "cell_type": "code",
   "execution_count": 9,
   "metadata": {},
   "outputs": [],
   "source": [
    "import statistics\n",
    "from sklearn.metrics import mean_squared_error"
   ]
  },
  {
   "cell_type": "code",
   "execution_count": 10,
   "metadata": {},
   "outputs": [],
   "source": [
    "# # train mean = 3.15, test mean = 2.8\n",
    "# train_list = []\n",
    "# for i, sentence in enumerate(AttractiveData.train_data):\n",
    "#     prediction = predict_attractive(sentence.Headline, sentence.Category, 'train')\n",
    "#     train_list.append(prediction.item())\n",
    "#     # train_list.append(prediction.item())\n",
    "# # print(train_list)\n",
    "# mean_squared_error(pd.read_csv('data/train.csv').sort_values(['ID']).Label.to_list(), train_list), statistics.mean(train_list), statistics.stdev(train_list)"
   ]
  },
  {
   "cell_type": "code",
   "execution_count": 11,
   "metadata": {},
   "outputs": [],
   "source": [
    "# train_list[0:5], pd.read_csv('data/train.csv').sort_values(['ID']).Label.to_list()[0:5]"
   ]
  },
  {
   "cell_type": "code",
   "execution_count": 12,
   "metadata": {},
   "outputs": [],
   "source": [
    "# a = AttractiveData.df_train['Label'].to_list()\n",
    "# statistics.mean(a), statistics.stdev(a)"
   ]
  },
  {
   "cell_type": "code",
   "execution_count": 13,
   "metadata": {},
   "outputs": [
    {
     "output_type": "execute_result",
     "data": {
      "text/plain": [
       "(2.7260206801250644, 0.36435631929467815)"
      ]
     },
     "metadata": {},
     "execution_count": 13
    }
   ],
   "source": [
    "statistics.mean(predict_list), statistics.stdev(predict_list)"
   ]
  },
  {
   "cell_type": "code",
   "execution_count": 14,
   "metadata": {},
   "outputs": [
    {
     "output_type": "execute_result",
     "data": {
      "text/plain": [
       "(0.004171479787652277, 2.7876357276009043, 0.3643672504501976)"
      ]
     },
     "metadata": {},
     "execution_count": 14
    }
   ],
   "source": [
    "baseline_list = pd.read_csv('baseline.csv').sort_values(['ID']).Label.to_list()\n",
    "mean_squared_error(baseline_list, predict_list), statistics.mean(baseline_list), statistics.stdev(baseline_list)"
   ]
  },
  {
   "cell_type": "code",
   "execution_count": null,
   "metadata": {},
   "outputs": [],
   "source": []
  },
  {
   "cell_type": "code",
   "execution_count": 15,
   "metadata": {},
   "outputs": [
    {
     "output_type": "execute_result",
     "data": {
      "text/plain": [
       "4.055494478172638e-05"
      ]
     },
     "metadata": {},
     "execution_count": 15
    }
   ],
   "source": [
    "mean_squared_error(pd.read_csv('baseline.csv').sort_values(['ID']).Label.to_list(), pd.read_csv('./predict/CNN_LSTM_20201109-125007_0.374958.75.csv').sort_values(['ID']).Label.to_list())"
   ]
  },
  {
   "cell_type": "code",
   "execution_count": 13,
   "metadata": {},
   "outputs": [],
   "source": []
  },
  {
   "cell_type": "code",
   "execution_count": null,
   "metadata": {},
   "outputs": [],
   "source": []
  }
 ],
 "metadata": {
  "kernelspec": {
   "display_name": "DS_hw2",
   "language": "python",
   "name": "ds_hw2"
  },
  "language_info": {
   "codemirror_mode": {
    "name": "ipython",
    "version": 3
   },
   "file_extension": ".py",
   "mimetype": "text/x-python",
   "name": "python",
   "nbconvert_exporter": "python",
   "pygments_lexer": "ipython3",
   "version": "3.6.12-final"
  }
 },
 "nbformat": 4,
 "nbformat_minor": 4
}