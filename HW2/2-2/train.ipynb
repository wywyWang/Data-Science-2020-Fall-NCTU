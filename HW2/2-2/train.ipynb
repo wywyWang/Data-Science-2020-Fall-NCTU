{
 "metadata": {
  "language_info": {
   "codemirror_mode": {
    "name": "ipython",
    "version": 3
   },
   "file_extension": ".py",
   "mimetype": "text/x-python",
   "name": "python",
   "nbconvert_exporter": "python",
   "pygments_lexer": "ipython3",
   "version": "3.6.12-final"
  },
  "orig_nbformat": 2,
  "kernelspec": {
   "name": "Python 3.6.12 64-bit",
   "display_name": "Python 3.6.12 64-bit",
   "metadata": {
    "interpreter": {
     "hash": "de6ec751e8d816810380d8c8f13d270f86a313990c5d5930d253da012ff5e7fc"
    }
   }
  }
 },
 "nbformat": 4,
 "nbformat_minor": 2,
 "cells": [
  {
   "cell_type": "code",
   "execution_count": 1,
   "metadata": {},
   "outputs": [],
   "source": [
    "# common packages\n",
    "import pandas as pd\n",
    "import time\n",
    "\n",
    "# # DL framework\n",
    "import torch\n",
    "from torchtext import data\n",
    "\n",
    "from attractivedata import AttractiveData\n",
    "from trainer import AttractiveTrainer"
   ]
  },
  {
   "cell_type": "code",
   "execution_count": 2,
   "metadata": {},
   "outputs": [],
   "source": [
    "# torch.manual_seed(123)\n",
    "# torch.cuda.manual_seed(123)\n",
    "# torch.backends.cudnn.deterministic = True"
   ]
  },
  {
   "source": [
    "## Load and prepare data"
   ],
   "cell_type": "markdown",
   "metadata": {}
  },
  {
   "cell_type": "code",
   "execution_count": 3,
   "metadata": {},
   "outputs": [],
   "source": [
    "train_file = 'data/train.csv'\n",
    "test_file = 'data/test.csv'\n",
    "pretrained_file = 'glove.840B.300d'\n",
    "config = {\n",
    "    'max_seq': 40,\n",
    "    'min_freq': 0,\n",
    "    'batch_size': 64,\n",
    "    'pretrained_file': pretrained_file\n",
    "}\n"
   ]
  },
  {
   "cell_type": "code",
   "execution_count": 4,
   "metadata": {},
   "outputs": [],
   "source": [
    "AttractiveData = AttractiveData(train_file, test_file, pretrained_file, config)"
   ]
  },
  {
   "cell_type": "code",
   "execution_count": 5,
   "metadata": {},
   "outputs": [],
   "source": [
    "# for i, sentence in enumerate(AttractiveData.test_data):\n",
    "#     if i == 3:\n",
    "#         print(vars(AttractiveData.train_data[i]), vars(sentence))"
   ]
  },
  {
   "cell_type": "code",
   "execution_count": 6,
   "metadata": {},
   "outputs": [
    {
     "output_type": "execute_result",
     "data": {
      "text/plain": [
       "18"
      ]
     },
     "metadata": {},
     "execution_count": 6
    }
   ],
   "source": [
    "len(AttractiveData.CATEGORIES_LABEL.vocab.freqs)"
   ]
  },
  {
   "cell_type": "code",
   "execution_count": 7,
   "metadata": {},
   "outputs": [
    {
     "output_type": "execute_result",
     "data": {
      "text/plain": [
       "38"
      ]
     },
     "metadata": {},
     "execution_count": 7
    }
   ],
   "source": [
    "max_len = 0\n",
    "a = AttractiveData.train_data\n",
    "for i in range(len(a)):\n",
    "    if len(a[i].Headline) >= max_len:\n",
    "        max_len = len(a[i].Headline)\n",
    "max_len"
   ]
  },
  {
   "source": [
    "## Start to train"
   ],
   "cell_type": "markdown",
   "metadata": {}
  },
  {
   "cell_type": "code",
   "execution_count": 8,
   "metadata": {},
   "outputs": [
    {
     "output_type": "stream",
     "name": "stdout",
     "text": [
      "torch.Size([12699, 300])\n"
     ]
    }
   ],
   "source": [
    "config['timestr'] = time.strftime(\"%Y%m%d-%H%M%S\")\n",
    "config['save_name'] = 'LSTM'\n",
    "config['input_dim'] = len(AttractiveData.TEXT.vocab)\n",
    "config['embedding_dim'] = 300\n",
    "config['category_dim'] = len(AttractiveData.CATEGORIES_LABEL.vocab)\n",
    "config['category_embedding_dim'] = 16\n",
    "config['hidden_dim'] = 30\n",
    "config['output_dim'] = 1\n",
    "config['log_steps'] = 10\n",
    "config['epochs'] = 200\n",
    "config['lr'] = {\n",
    "    'encoder': 1e-5,\n",
    "    'embedding': 1e-5,\n",
    "    'linear': 1e-5\n",
    "}\n",
    "config['num_layers'] = 1\n",
    "config['kernel_size'] = 3\n",
    "config['dropout'] = 0.0\n",
    "config['train_len'] = AttractiveData.train_len\n",
    "config['test_len'] = AttractiveData.test_len\n",
    "\n",
    "pretrained_embeddings = AttractiveData.TEXT.vocab.vectors\n",
    "print(pretrained_embeddings.shape)"
   ]
  },
  {
   "cell_type": "code",
   "execution_count": 9,
   "metadata": {},
   "outputs": [],
   "source": [
    "AttractiveTrainer = AttractiveTrainer(config, AttractiveData.device, AttractiveData.trainloader, pretrained_embeddings)"
   ]
  },
  {
   "cell_type": "code",
   "execution_count": 10,
   "metadata": {},
   "outputs": [
    {
     "output_type": "execute_result",
     "data": {
      "text/plain": [
       "(AttractiveNet(\n",
       "   (embedding): AttractiveEmbedding(\n",
       "     (token): TokenEmbedding(12699, 300, padding_idx=1)\n",
       "   )\n",
       "   (encoder): LSTM(300, 30, bidirectional=True)\n",
       "   (linear): Sequential(\n",
       "     (0): Linear(in_features=120, out_features=30, bias=True)\n",
       "     (1): ReLU()\n",
       "     (2): Linear(in_features=30, out_features=1, bias=True)\n",
       "   )\n",
       " ),\n",
       " 3893041,\n",
       " 83341)"
      ]
     },
     "metadata": {},
     "execution_count": 10
    }
   ],
   "source": [
    "AttractiveTrainer.model, AttractiveTrainer.config['total_params'], AttractiveTrainer.config['total_learned_params']"
   ]
  },
  {
   "cell_type": "code",
   "execution_count": 11,
   "metadata": {},
   "outputs": [],
   "source": [
    "# pretrained_embeddings[0:3]"
   ]
  },
  {
   "cell_type": "code",
   "execution_count": 12,
   "metadata": {
    "tags": []
   },
   "outputs": [
    {
     "output_type": "stream",
     "name": "stderr",
     "text": [
      "Epoch:   0%|          | 1/200 [00:00<00:26,  7.62it/s]====\n",
      "====\n",
      "Epoch:   2%|▏         | 3/200 [00:00<00:25,  7.81it/s]====\n",
      "====\n",
      "Epoch:   2%|▎         | 5/200 [00:00<00:24,  8.06it/s]====\n",
      "====\n",
      "Epoch:   4%|▎         | 7/200 [00:00<00:23,  8.10it/s]====\n",
      "====\n",
      "Epoch:   4%|▍         | 9/200 [00:01<00:23,  8.19it/s]====\n",
      "====\n",
      "Epoch:   6%|▌         | 11/200 [00:01<00:22,  8.23it/s]====\n",
      "====\n",
      "Epoch:   6%|▋         | 13/200 [00:01<00:22,  8.17it/s]====\n",
      "====\n",
      "Epoch:   8%|▊         | 15/200 [00:01<00:22,  8.23it/s]====\n",
      "====\n",
      "Epoch:   8%|▊         | 17/200 [00:02<00:22,  8.20it/s]====\n",
      "====\n",
      "Epoch:  10%|▉         | 19/200 [00:02<00:22,  8.22it/s]====\n",
      "====\n",
      "Epoch:  10%|█         | 21/200 [00:02<00:21,  8.23it/s]====\n",
      "====\n",
      "Epoch:  12%|█▏        | 23/200 [00:02<00:21,  8.33it/s]====\n",
      "====\n",
      "Epoch:  12%|█▎        | 25/200 [00:03<00:21,  8.32it/s]====\n",
      "====\n",
      "Epoch:  14%|█▎        | 27/200 [00:03<00:20,  8.28it/s]====\n",
      "====\n",
      "Epoch:  14%|█▍        | 29/200 [00:03<00:20,  8.29it/s]====\n",
      "====\n",
      "Epoch:  16%|█▌        | 31/200 [00:03<00:20,  8.38it/s]====\n",
      "====\n",
      "Epoch:  16%|█▋        | 33/200 [00:04<00:19,  8.60it/s]====\n",
      "====\n",
      "Epoch:  18%|█▊        | 35/200 [00:04<00:19,  8.56it/s]====\n",
      "====\n",
      "Epoch:  18%|█▊        | 37/200 [00:04<00:19,  8.40it/s]====\n",
      "====\n",
      "Epoch:  20%|█▉        | 39/200 [00:04<00:19,  8.31it/s]====\n",
      "====\n",
      "Epoch:  20%|██        | 41/200 [00:04<00:19,  8.27it/s]====\n",
      "====\n",
      "Epoch:  22%|██▏       | 43/200 [00:05<00:18,  8.36it/s]====\n",
      "====\n",
      "Epoch:  22%|██▎       | 45/200 [00:05<00:18,  8.41it/s]====\n",
      "====\n",
      "Epoch:  24%|██▎       | 47/200 [00:05<00:18,  8.40it/s]====\n",
      "====\n",
      "Epoch:  24%|██▍       | 49/200 [00:05<00:18,  8.35it/s]====\n",
      "====\n",
      "Epoch:  26%|██▌       | 51/200 [00:06<00:18,  8.13it/s]====\n",
      "====\n",
      "Epoch:  26%|██▋       | 53/200 [00:06<00:18,  7.91it/s]====\n",
      "====\n",
      "Epoch:  28%|██▊       | 55/200 [00:06<00:18,  7.80it/s]====\n",
      "====\n",
      "Epoch:  28%|██▊       | 57/200 [00:06<00:18,  7.63it/s]====\n",
      "====\n",
      "Epoch:  30%|██▉       | 59/200 [00:07<00:17,  7.93it/s]====\n",
      "====\n",
      "Epoch:  30%|███       | 61/200 [00:07<00:17,  7.95it/s]====\n",
      "====\n",
      "Epoch:  32%|███▏      | 63/200 [00:07<00:17,  7.63it/s]====\n",
      "====\n",
      "Epoch:  32%|███▎      | 65/200 [00:07<00:17,  7.72it/s]====\n",
      "====\n",
      "Epoch:  34%|███▎      | 67/200 [00:08<00:16,  8.00it/s]====\n",
      "====\n",
      "Epoch:  34%|███▍      | 69/200 [00:08<00:16,  8.04it/s]====\n",
      "====\n",
      "Epoch:  36%|███▌      | 71/200 [00:08<00:16,  8.04it/s]====\n",
      "====\n",
      "Epoch:  36%|███▋      | 73/200 [00:08<00:16,  7.85it/s]====\n",
      "====\n",
      "Epoch:  38%|███▊      | 75/200 [00:09<00:15,  8.09it/s]====\n",
      "====\n",
      "Epoch:  38%|███▊      | 77/200 [00:09<00:15,  8.00it/s]====\n",
      "====\n",
      "Epoch:  40%|███▉      | 79/200 [00:09<00:14,  8.13it/s]====\n",
      "====\n",
      "Epoch:  40%|████      | 81/200 [00:09<00:14,  7.95it/s]====\n",
      "====\n",
      "Epoch:  42%|████▏     | 83/200 [00:10<00:14,  7.90it/s]====\n",
      "====\n",
      "Epoch:  42%|████▎     | 85/200 [00:10<00:14,  7.76it/s]====\n",
      "====\n",
      "Epoch:  44%|████▎     | 87/200 [00:10<00:14,  7.96it/s]====\n",
      "====\n",
      "Epoch:  44%|████▍     | 89/200 [00:10<00:13,  7.99it/s]====\n",
      "====\n",
      "Epoch:  46%|████▌     | 91/200 [00:11<00:13,  8.12it/s]====\n",
      "====\n",
      "Epoch:  46%|████▋     | 93/200 [00:11<00:13,  8.12it/s]====\n",
      "====\n",
      "Epoch:  48%|████▊     | 95/200 [00:11<00:12,  8.20it/s]====\n",
      "====\n",
      "Epoch:  48%|████▊     | 97/200 [00:11<00:12,  8.17it/s]====\n",
      "====\n",
      "Epoch:  50%|████▉     | 99/200 [00:12<00:12,  8.24it/s]====\n",
      "====\n",
      "Epoch:  50%|█████     | 101/200 [00:12<00:12,  8.15it/s]====\n",
      "====\n",
      "Epoch:  52%|█████▏    | 103/200 [00:12<00:11,  8.18it/s]====\n",
      "====\n",
      "Epoch:  52%|█████▎    | 105/200 [00:12<00:11,  8.16it/s]====\n",
      "====\n",
      "Epoch:  54%|█████▎    | 107/200 [00:13<00:11,  8.14it/s]====\n",
      "====\n",
      "Epoch:  55%|█████▍    | 109/200 [00:13<00:11,  8.16it/s]====\n",
      "====\n",
      "Epoch:  56%|█████▌    | 111/200 [00:13<00:10,  8.21it/s]====\n",
      "====\n",
      "Epoch:  56%|█████▋    | 113/200 [00:13<00:10,  8.22it/s]====\n",
      "====\n",
      "Epoch:  57%|█████▊    | 115/200 [00:14<00:10,  8.16it/s]====\n",
      "====\n",
      "Epoch:  58%|█████▊    | 117/200 [00:14<00:10,  8.01it/s]====\n",
      "====\n",
      "Epoch:  60%|█████▉    | 119/200 [00:14<00:10,  7.98it/s]====\n",
      "====\n",
      "Epoch:  60%|██████    | 121/200 [00:14<00:09,  8.25it/s]====\n",
      "====\n",
      "Epoch:  62%|██████▏   | 123/200 [00:15<00:09,  8.33it/s]====\n",
      "====\n",
      "Epoch:  62%|██████▎   | 125/200 [00:15<00:09,  8.26it/s]====\n",
      "====\n",
      "Epoch:  64%|██████▎   | 127/200 [00:15<00:08,  8.16it/s]====\n",
      "====\n",
      "Epoch:  64%|██████▍   | 129/200 [00:15<00:08,  8.07it/s]====\n",
      "====\n",
      "Epoch:  66%|██████▌   | 131/200 [00:16<00:08,  8.04it/s]====\n",
      "====\n",
      "Epoch:  66%|██████▋   | 133/200 [00:16<00:08,  7.88it/s]====\n",
      "====\n",
      "Epoch:  68%|██████▊   | 135/200 [00:16<00:08,  7.79it/s]====\n",
      "====\n",
      "Epoch:  68%|██████▊   | 137/200 [00:16<00:08,  7.77it/s]====\n",
      "====\n",
      "Epoch:  70%|██████▉   | 139/200 [00:17<00:07,  8.01it/s]====\n",
      "====\n",
      "Epoch:  70%|███████   | 141/200 [00:17<00:07,  8.16it/s]====\n",
      "====\n",
      "Epoch:  72%|███████▏  | 143/200 [00:17<00:06,  8.18it/s]====\n",
      "====\n",
      "Epoch:  72%|███████▎  | 145/200 [00:17<00:06,  7.98it/s]====\n",
      "====\n",
      "Epoch:  74%|███████▎  | 147/200 [00:18<00:06,  7.94it/s]====\n",
      "====\n",
      "Epoch:  74%|███████▍  | 149/200 [00:18<00:06,  7.98it/s]====\n",
      "====\n",
      "Epoch:  76%|███████▌  | 151/200 [00:18<00:06,  7.98it/s]====\n",
      "====\n",
      "Epoch:  76%|███████▋  | 153/200 [00:18<00:05,  8.20it/s]====\n",
      "====\n",
      "Epoch:  78%|███████▊  | 155/200 [00:19<00:05,  8.14it/s]====\n",
      "====\n",
      "Epoch:  78%|███████▊  | 157/200 [00:19<00:05,  8.10it/s]====\n",
      "====\n",
      "Epoch:  80%|███████▉  | 159/200 [00:19<00:05,  8.10it/s]====\n",
      "====\n",
      "Epoch:  80%|████████  | 161/200 [00:19<00:04,  7.97it/s]====\n",
      "====\n",
      "Epoch:  82%|████████▏ | 163/200 [00:20<00:04,  8.09it/s]====\n",
      "====\n",
      "Epoch:  82%|████████▎ | 165/200 [00:20<00:04,  8.05it/s]====\n",
      "====\n",
      "Epoch:  84%|████████▎ | 167/200 [00:20<00:04,  8.10it/s]====\n",
      "====\n",
      "Epoch:  84%|████████▍ | 169/200 [00:20<00:03,  8.11it/s]====\n",
      "====\n",
      "Epoch:  86%|████████▌ | 171/200 [00:21<00:03,  8.13it/s]====\n",
      "====\n",
      "Epoch:  86%|████████▋ | 173/200 [00:21<00:03,  8.23it/s]====\n",
      "====\n",
      "Epoch:  88%|████████▊ | 175/200 [00:21<00:03,  8.10it/s]====\n",
      "====\n",
      "Epoch:  88%|████████▊ | 177/200 [00:21<00:02,  8.04it/s]====\n",
      "====\n",
      "Epoch:  90%|████████▉ | 179/200 [00:22<00:02,  8.05it/s]====\n",
      "====\n",
      "Epoch:  90%|█████████ | 181/200 [00:22<00:02,  8.13it/s]====\n",
      "====\n",
      "Epoch:  92%|█████████▏| 183/200 [00:22<00:02,  8.02it/s]====\n",
      "====\n",
      "Epoch:  92%|█████████▎| 185/200 [00:22<00:01,  8.08it/s]====\n",
      "====\n",
      "Epoch:  94%|█████████▎| 187/200 [00:23<00:01,  8.16it/s]====\n",
      "====\n",
      "Epoch:  94%|█████████▍| 189/200 [00:23<00:01,  7.98it/s]====\n",
      "====\n",
      "Epoch:  96%|█████████▌| 191/200 [00:23<00:01,  8.17it/s]====\n",
      "====\n",
      "Epoch:  96%|█████████▋| 193/200 [00:23<00:00,  8.31it/s]====\n",
      "====\n",
      "Epoch:  98%|█████████▊| 195/200 [00:24<00:00,  8.24it/s]====\n",
      "====\n",
      "Epoch:  98%|█████████▊| 197/200 [00:24<00:00,  8.16it/s]====\n",
      "====\n",
      "Epoch: 100%|█████████▉| 199/200 [00:24<00:00,  8.17it/s]====\n",
      "====\n",
      "Epoch: 100%|██████████| 200/200 [00:24<00:00,  8.10it/s]\n"
     ]
    }
   ],
   "source": [
    "AttractiveTrainer.train()"
   ]
  },
  {
   "source": [
    "## for classification, not better"
   ],
   "cell_type": "markdown",
   "metadata": {}
  },
  {
   "source": [
    "## Below is testing"
   ],
   "cell_type": "markdown",
   "metadata": {}
  },
  {
   "cell_type": "code",
   "execution_count": 13,
   "metadata": {},
   "outputs": [
    {
     "output_type": "execute_result",
     "data": {
      "text/plain": [
       "AttractiveNet(\n",
       "  (embedding): AttractiveEmbedding(\n",
       "    (token): TokenEmbedding(12699, 300, padding_idx=1)\n",
       "  )\n",
       "  (encoder): LSTM(300, 30, bidirectional=True)\n",
       "  (linear): Sequential(\n",
       "    (0): Linear(in_features=120, out_features=30, bias=True)\n",
       "    (1): ReLU()\n",
       "    (2): Linear(in_features=30, out_features=1, bias=True)\n",
       "  )\n",
       ")"
      ]
     },
     "metadata": {},
     "execution_count": 13
    }
   ],
   "source": [
    "from attractivenet import AttractiveNet\n",
    "PATH = './model/LSTM_20201101-142005_0.0000.200'\n",
    "# load_model = TransformerModel(config).to(AttractiveData.device)\n",
    "load_model = AttractiveNet(config).to(AttractiveData.device)\n",
    "load_model.load_state_dict(torch.load(PATH))\n",
    "load_model.eval()"
   ]
  },
  {
   "cell_type": "code",
   "execution_count": 16,
   "metadata": {},
   "outputs": [],
   "source": [
    "def predict_attractive(sentence, category):\n",
    "    # if len(sentence) < config['max_seq']:\n",
    "    #     sentence += ['0'] * (config['max_seq'] - len(sentence))\n",
    "    # else:\n",
    "    #     sentence = sentence[:config['max_seq']]\n",
    "\n",
    "    indexed_sentence = [AttractiveData.TEXT.vocab.stoi[t] for t in sentence]\n",
    "    indexed_category = [AttractiveData.CATEGORIES_LABEL.vocab.stoi[category]]\n",
    "    tensor_sentence = torch.LongTensor(indexed_sentence).to(AttractiveData.device)\n",
    "    tensor_category = torch.LongTensor(indexed_category).to(AttractiveData.device)\n",
    "\n",
    "    tensor_sentence = tensor_sentence.unsqueeze(1)\n",
    "\n",
    "    prediction = load_model(tensor_sentence, tensor_category, phase='test')\n",
    "    \n",
    "    return prediction"
   ]
  },
  {
   "cell_type": "code",
   "execution_count": 17,
   "metadata": {
    "tags": []
   },
   "outputs": [],
   "source": [
    "# train mean = 3.15, test mean = 2.8\n",
    "predict_list = []\n",
    "with torch.no_grad():\n",
    "    for i, sentence in enumerate(AttractiveData.test_data):\n",
    "        prediction = predict_attractive(sentence.Headline, sentence.Category)\n",
    "        predict_list.append(prediction.item())\n",
    "        # predict_list.append(prediction.item())\n",
    "AttractiveData.df_test['Label'] = predict_list\n",
    "AttractiveData.df_test[['ID', 'Label']].to_csv(config['save_name'] + '.csv', index=False)"
   ]
  },
  {
   "cell_type": "code",
   "execution_count": 16,
   "metadata": {},
   "outputs": [],
   "source": [
    "# train_category = list(AttractiveData.CATEGORIES_LABEL.vocab.freqs)\n",
    "# test_category = list(AttractiveData.df_test['Category'].value_counts().keys())\n",
    "# for each_test in test_category:\n",
    "#     if each_test not in train_category:\n",
    "#         print(each_test)\n",
    "# print()\n",
    "# for each_train in train_category:\n",
    "#     if each_train not in test_category:\n",
    "#         print(each_train)"
   ]
  },
  {
   "source": [
    "## Below just for fun guess"
   ],
   "cell_type": "markdown",
   "metadata": {}
  },
  {
   "cell_type": "code",
   "execution_count": 18,
   "metadata": {},
   "outputs": [],
   "source": [
    "import statistics\n",
    "from sklearn.metrics import mean_squared_error"
   ]
  },
  {
   "cell_type": "code",
   "execution_count": 19,
   "metadata": {},
   "outputs": [
    {
     "output_type": "execute_result",
     "data": {
      "text/plain": [
       "(8.326800900977558, 5.945882530539644, 0.07211310665461465)"
      ]
     },
     "metadata": {},
     "execution_count": 19
    }
   ],
   "source": [
    "# train mean = 3.15, test mean = 2.8\n",
    "train_list = []\n",
    "for i, sentence in enumerate(AttractiveData.train_data):\n",
    "    prediction = predict_attractive(sentence.Headline, sentence.Category)\n",
    "    train_list.append(prediction.item())\n",
    "    # train_list.append(prediction.item())\n",
    "# print(train_list)\n",
    "mean_squared_error(pd.read_csv('data/train.csv').sort_values(['ID']).Label.to_list(), train_list), statistics.mean(train_list), statistics.stdev(train_list)"
   ]
  },
  {
   "cell_type": "code",
   "execution_count": 19,
   "metadata": {},
   "outputs": [
    {
     "output_type": "execute_result",
     "data": {
      "text/plain": [
       "([3.0980564929544925,\n",
       "  3.2195306062698363,\n",
       "  3.327288457751274,\n",
       "  3.2862909525632857,\n",
       "  3.280516678094864],\n",
       " [4.0, 2.333333333333333, 4.5, 3.333333333333333, 4.0])"
      ]
     },
     "metadata": {},
     "execution_count": 19
    }
   ],
   "source": [
    "train_list[0:5], pd.read_csv('data/train.csv').sort_values(['ID']).Label.to_list()[0:5]"
   ]
  },
  {
   "cell_type": "code",
   "execution_count": 19,
   "metadata": {},
   "outputs": [
    {
     "output_type": "execute_result",
     "data": {
      "text/plain": [
       "(0.0004084967320261136, 0.7295015193216009)"
      ]
     },
     "metadata": {},
     "execution_count": 19
    }
   ],
   "source": [
    "a = AttractiveData.df_train['Label'].to_list()\n",
    "statistics.mean(a), statistics.stdev(a)"
   ]
  },
  {
   "cell_type": "code",
   "execution_count": 20,
   "metadata": {},
   "outputs": [
    {
     "output_type": "execute_result",
     "data": {
      "text/plain": [
       "(2.793837417831587, 0.0019039935995502502)"
      ]
     },
     "metadata": {},
     "execution_count": 20
    }
   ],
   "source": [
    "statistics.mean(predict_list), statistics.stdev(predict_list)"
   ]
  },
  {
   "cell_type": "code",
   "execution_count": 21,
   "metadata": {},
   "outputs": [
    {
     "output_type": "execute_result",
     "data": {
      "text/plain": [
       "(0.09179384579252545, 2.7156126782757597, 0.29355123275379763)"
      ]
     },
     "metadata": {},
     "execution_count": 21
    }
   ],
   "source": [
    "baseline_list = pd.read_csv('baseline.csv').sort_values(['ID']).Label.to_list()\n",
    "mean_squared_error(baseline_list, predict_list), statistics.mean(baseline_list), statistics.stdev(baseline_list)"
   ]
  },
  {
   "cell_type": "code",
   "execution_count": 14,
   "metadata": {},
   "outputs": [
    {
     "output_type": "execute_result",
     "data": {
      "text/plain": [
       "(2.8167915543795683, 0.14611407210842048)"
      ]
     },
     "metadata": {},
     "execution_count": 14
    }
   ],
   "source": [
    "# LSTM my best\n",
    "# statistics.mean(predict_list), statistics.stdev(predict_list)"
   ]
  },
  {
   "cell_type": "code",
   "execution_count": 21,
   "metadata": {},
   "outputs": [
    {
     "output_type": "execute_result",
     "data": {
      "text/plain": [
       "(0.1347375515605904, 2.8379913731293533, 0.1903582104725371)"
      ]
     },
     "metadata": {},
     "execution_count": 21
    }
   ],
   "source": [
    "a = pd.read_csv('LSTM_base.csv').Label.to_list()\n",
    "mean_squared_error(baseline_list, a), statistics.mean(a), statistics.stdev(a)"
   ]
  },
  {
   "cell_type": "code",
   "execution_count": 14,
   "metadata": {},
   "outputs": [
    {
     "output_type": "execute_result",
     "data": {
      "text/plain": [
       "'the'"
      ]
     },
     "metadata": {},
     "execution_count": 14
    }
   ],
   "source": [
    "AttractiveData.TEXT.vocab.itos[2]"
   ]
  },
  {
   "cell_type": "code",
   "execution_count": null,
   "metadata": {},
   "outputs": [],
   "source": []
  }
 ]
}