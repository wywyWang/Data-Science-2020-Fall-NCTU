{
 "cells": [
  {
   "cell_type": "code",
   "execution_count": 1,
   "metadata": {},
   "outputs": [],
   "source": [
    "# common packages\n",
    "import pandas as pd\n",
    "import time\n",
    "\n",
    "# # DL framework\n",
    "import torch\n",
    "from torchtext import data\n",
    "\n",
    "from attractivedata import AttractiveData\n",
    "from trainer import AttractiveTrainer"
   ]
  },
  {
   "cell_type": "markdown",
   "metadata": {},
   "source": [
    "# try layernorm"
   ]
  },
  {
   "cell_type": "markdown",
   "metadata": {},
   "source": [
    "## Load and prepare data"
   ]
  },
  {
   "cell_type": "code",
   "execution_count": 2,
   "metadata": {},
   "outputs": [],
   "source": [
    "train_file = 'example/train.csv'\n",
    "test_file = 'example/val.csv'\n",
    "pretrained_file = 'glove.840B.300d'\n",
    "config = {\n",
    "    'max_seq': 40,\n",
    "    'min_freq': 0,\n",
    "    'batch_size': 64,\n",
    "    'pretrained_file': pretrained_file\n",
    "}\n"
   ]
  },
  {
   "cell_type": "code",
   "execution_count": 3,
   "metadata": {},
   "outputs": [],
   "source": [
    "AttractiveData = AttractiveData(train_file, test_file, pretrained_file, config)"
   ]
  },
  {
   "cell_type": "code",
   "execution_count": 4,
   "metadata": {},
   "outputs": [],
   "source": [
    "# for i, sentence in enumerate(AttractiveData.test_data):\n",
    "#     if i == 3:\n",
    "#         print(vars(AttractiveData.train_data[i]), vars(sentence))"
   ]
  },
  {
   "cell_type": "code",
   "execution_count": 5,
   "metadata": {},
   "outputs": [
    {
     "output_type": "execute_result",
     "data": {
      "text/plain": [
       "18"
      ]
     },
     "metadata": {},
     "execution_count": 5
    }
   ],
   "source": [
    "len(AttractiveData.CATEGORIES_LABEL.vocab.freqs)"
   ]
  },
  {
   "cell_type": "code",
   "execution_count": 6,
   "metadata": {},
   "outputs": [
    {
     "output_type": "execute_result",
     "data": {
      "text/plain": [
       "38"
      ]
     },
     "metadata": {},
     "execution_count": 6
    }
   ],
   "source": [
    "max_len = 0\n",
    "a = AttractiveData.train_data\n",
    "for i in range(len(a)):\n",
    "    if len(a[i].Headline) >= max_len:\n",
    "        max_len = len(a[i].Headline)\n",
    "max_len"
   ]
  },
  {
   "cell_type": "markdown",
   "metadata": {},
   "source": [
    "## Start to train"
   ]
  },
  {
   "cell_type": "code",
   "execution_count": 7,
   "metadata": {},
   "outputs": [
    {
     "output_type": "stream",
     "name": "stdout",
     "text": [
      "torch.Size([11857, 300])\n"
     ]
    }
   ],
   "source": [
    "config['timestr'] = time.strftime(\"%Y%m%d-%H%M%S\")\n",
    "config['save_name'] = 'CNN_LSTM'\n",
    "config['input_dim'] = len(AttractiveData.TEXT.vocab)\n",
    "config['embedding_dim'] = 300\n",
    "config['category_dim'] = len(AttractiveData.CATEGORIES_LABEL.vocab)\n",
    "config['category_embedding_dim'] = 8\n",
    "config['hidden_dim'] = 30\n",
    "config['output_dim'] = 1\n",
    "config['log_steps'] = 10\n",
    "config['epochs'] = 200\n",
    "config['lr'] = {\n",
    "    'encoder': 6e-6,\n",
    "    'embedding': 5e-6,\n",
    "    'linear': 1e-5\n",
    "}\n",
    "config['num_layers'] = 1\n",
    "config['kernel_size'] = 3\n",
    "config['dropout'] = 0.1\n",
    "config['train_len'] = AttractiveData.train_len\n",
    "config['val_len'] = AttractiveData.val_len\n",
    "config['test_len'] = AttractiveData.test_len\n",
    "\n",
    "pretrained_embeddings = AttractiveData.TEXT.vocab.vectors\n",
    "print(pretrained_embeddings.shape)"
   ]
  },
  {
   "cell_type": "code",
   "execution_count": 8,
   "metadata": {},
   "outputs": [],
   "source": [
    "AttractiveTrainer = AttractiveTrainer(config, AttractiveData.device, AttractiveData.trainloader, AttractiveData.valloader, pretrained_embeddings)"
   ]
  },
  {
   "cell_type": "code",
   "execution_count": 9,
   "metadata": {},
   "outputs": [
    {
     "output_type": "execute_result",
     "data": {
      "text/plain": [
       "(AttractiveNet(\n",
       "   (embedding): AttractiveEmbedding(\n",
       "     (token): TokenEmbedding(11857, 300, padding_idx=1)\n",
       "   )\n",
       "   (category_embedding): CategoryEmbedding(18, 8, padding_idx=0)\n",
       "   (bigramcnn): Sequential(\n",
       "     (0): Conv1d(300, 200, kernel_size=(3,), stride=(1,), padding=(1,))\n",
       "     (1): ReLU()\n",
       "     (2): Conv1d(200, 100, kernel_size=(3,), stride=(1,), padding=(1,))\n",
       "     (3): ReLU()\n",
       "   )\n",
       "   (trigramcnn): Sequential(\n",
       "     (0): Conv1d(300, 200, kernel_size=(3,), stride=(1,), padding=(1,))\n",
       "     (1): ReLU()\n",
       "     (2): Conv1d(200, 100, kernel_size=(3,), stride=(1,), padding=(1,))\n",
       "     (3): ReLU()\n",
       "   )\n",
       "   (encoder_bigram): LSTM(100, 30, batch_first=True, dropout=0.1, bidirectional=True)\n",
       "   (encoder_trigram): LSTM(100, 30, batch_first=True, dropout=0.1, bidirectional=True)\n",
       "   (linear_lstm): Linear(in_features=120, out_features=30, bias=True)\n",
       "   (relu): ReLU()\n",
       "   (dropout): Dropout(p=0.1, inplace=False)\n",
       "   (linear): Linear(in_features=38, out_features=1, bias=True)\n",
       " ),\n",
       " 4104873,\n",
       " 4104873)"
      ]
     },
     "metadata": {},
     "execution_count": 9
    }
   ],
   "source": [
    "AttractiveTrainer.model, AttractiveTrainer.config['total_params'], AttractiveTrainer.config['total_learned_params']"
   ]
  },
  {
   "cell_type": "code",
   "execution_count": 10,
   "metadata": {
    "tags": [
     "outputPrepend"
    ]
   },
   "outputs": [
    {
     "output_type": "stream",
     "name": "stderr",
     "text": [
      "in loss: 0.4632325400973717 | val loss: 0.42942089193007527 |\n",
      "====\n",
      "Epoch:  28%|██▊       | 56/200 [00:20<00:53,  2.67it/s]\n",
      "EP_train | train loss: 0.46626986605409443 | val loss: 0.429461457565719 |\n",
      "====\n",
      "Epoch:  28%|██▊       | 57/200 [00:21<00:53,  2.66it/s]\n",
      "EP_train | train loss: 0.46306791388650864 | val loss: 0.42624375516293095 |\n",
      "====\n",
      "Epoch:  29%|██▉       | 58/200 [00:21<00:52,  2.69it/s]\n",
      "EP_train | train loss: 0.46577269215469524 | val loss: 0.4262068335916482 |\n",
      "====\n",
      "Epoch:  30%|██▉       | 59/200 [00:21<00:51,  2.74it/s]\n",
      "EP_train | train loss: 0.4610681055937457 | val loss: 0.4245031698077333 |\n",
      "====\n",
      "Epoch:  30%|███       | 60/200 [00:22<00:50,  2.79it/s]\n",
      "EP_train | train loss: 0.45987391004375383 | val loss: 0.42151839943493113 |\n",
      "====\n",
      "Epoch:  30%|███       | 61/200 [00:22<00:49,  2.79it/s]\n",
      "EP_train | train loss: 0.4606607318703645 | val loss: 0.42091410066567214 |\n",
      "====\n",
      "Epoch:  31%|███       | 62/200 [00:23<00:48,  2.82it/s]\n",
      "EP_train | train loss: 0.4594853978790749 | val loss: 0.4182868114873475 |\n",
      "====\n",
      "Epoch:  32%|███▏      | 63/200 [00:23<00:48,  2.84it/s]\n",
      "EP_train | train loss: 0.45790291351949985 | val loss: 0.4205214638336032 |\n",
      "====\n",
      "Epoch:  32%|███▏      | 64/200 [00:23<00:47,  2.86it/s]\n",
      "EP_train | train loss: 0.4558689879955549 | val loss: 0.4167761259219226 |\n",
      "====\n",
      "Epoch:  32%|███▎      | 65/200 [00:24<00:47,  2.87it/s]\n",
      "EP_train | train loss: 0.456132354819437 | val loss: 0.41486645270796385 |\n",
      "====\n",
      "Epoch:  33%|███▎      | 66/200 [00:24<00:47,  2.84it/s]\n",
      "EP_train | train loss: 0.45552808059326705 | val loss: 0.41052312126346663 |\n",
      "====\n",
      "Epoch:  34%|███▎      | 67/200 [00:24<00:46,  2.86it/s]\n",
      "EP_train | train loss: 0.4554565300868747 | val loss: 0.41411944814756807 |\n",
      "====\n",
      "Epoch:  34%|███▍      | 68/200 [00:25<00:45,  2.88it/s]\n",
      "EP_train | train loss: 0.4566813595674137 | val loss: 0.41269128345975686 |\n",
      "====\n",
      "Epoch:  34%|███▍      | 69/200 [00:25<00:45,  2.89it/s]\n",
      "EP_train | train loss: 0.45369030655339393 | val loss: 0.4096185144256143 |\n",
      "====\n",
      "Epoch:  35%|███▌      | 70/200 [00:25<00:44,  2.89it/s]\n",
      "EP_train | train loss: 0.4528474059759402 | val loss: 0.4089953934445101 |\n",
      "====\n",
      "Epoch:  36%|███▌      | 71/200 [00:26<00:46,  2.75it/s]\n",
      "EP_train | train loss: 0.451582197010647 | val loss: 0.4066552145808351 |\n",
      "====\n",
      "Epoch:  36%|███▌      | 72/200 [00:26<00:46,  2.76it/s]\n",
      "EP_train | train loss: 0.4506272012631618 | val loss: 0.40438328245106864 |\n",
      "====\n",
      "Epoch:  36%|███▋      | 73/200 [00:26<00:45,  2.77it/s]\n",
      "EP_train | train loss: 0.44880254595887425 | val loss: 0.4042278668459724 |\n",
      "====\n",
      "Epoch:  37%|███▋      | 74/200 [00:27<00:45,  2.77it/s]\n",
      "EP_train | train loss: 0.44911680242334834 | val loss: 0.40247901046977325 |\n",
      "====\n",
      "Epoch:  38%|███▊      | 75/200 [00:27<00:44,  2.78it/s]\n",
      "EP_train | train loss: 0.44805291743060344 | val loss: 0.3990686676081489 |\n",
      "====\n",
      "Epoch:  38%|███▊      | 76/200 [00:28<00:46,  2.68it/s]\n",
      "EP_train | train loss: 0.4461036206330609 | val loss: 0.40053145382918565 |\n",
      "====\n",
      "Epoch:  38%|███▊      | 77/200 [00:28<00:44,  2.74it/s]\n",
      "EP_train | train loss: 0.44584363841802727 | val loss: 0.39924269914627075 |\n",
      "====\n",
      "Epoch:  39%|███▉      | 78/200 [00:28<00:43,  2.79it/s]\n",
      "EP_train | train loss: 0.44486327057050984 | val loss: 0.397977984419056 |\n",
      "====\n",
      "Epoch:  40%|███▉      | 79/200 [00:29<00:42,  2.84it/s]\n",
      "EP_train | train loss: 0.4432489596680618 | val loss: 0.39681046616797355 |\n",
      "====\n",
      "Epoch:  40%|████      | 80/200 [00:29<00:41,  2.86it/s]\n",
      "EP_train | train loss: 0.4437437857418019 | val loss: 0.39429786041671155 |\n",
      "====\n",
      "Epoch:  40%|████      | 81/200 [00:29<00:41,  2.84it/s]\n",
      "EP_train | train loss: 0.44160293649744103 | val loss: 0.39227281773791595 |\n",
      "====\n",
      "Epoch:  41%|████      | 82/200 [00:30<00:41,  2.86it/s]\n",
      "EP_train | train loss: 0.44071602769407053 | val loss: 0.39400626046984805 |\n",
      "====\n",
      "Epoch:  42%|████▏     | 83/200 [00:30<00:40,  2.87it/s]\n",
      "EP_train | train loss: 0.44035897743208474 | val loss: 0.3912283094490276 |\n",
      "====\n",
      "Epoch:  42%|████▏     | 84/200 [00:30<00:40,  2.88it/s]\n",
      "EP_train | train loss: 0.4388750477294257 | val loss: 0.38953058158650117 |\n",
      "====\n",
      "Epoch:  42%|████▎     | 85/200 [00:31<00:40,  2.87it/s]\n",
      "EP_train | train loss: 0.4383372709901764 | val loss: 0.3882548142881954 |\n",
      "====\n",
      "Epoch:  43%|████▎     | 86/200 [00:31<00:40,  2.83it/s]\n",
      "EP_train | train loss: 0.4376746470632117 | val loss: 0.38638201940293404 |\n",
      "====\n",
      "Epoch:  44%|████▎     | 87/200 [00:31<00:39,  2.84it/s]\n",
      "EP_train | train loss: 0.4355518573769297 | val loss: 0.38583864242422816 |\n",
      "====\n",
      "Epoch:  44%|████▍     | 88/200 [00:32<00:39,  2.86it/s]\n",
      "EP_train | train loss: 0.43524176051154373 | val loss: 0.3849763881926443 |\n",
      "====\n",
      "Epoch:  44%|████▍     | 89/200 [00:32<00:39,  2.84it/s]\n",
      "EP_train | train loss: 0.4330944495523158 | val loss: 0.3828839145454706 |\n",
      "====\n",
      "Epoch:  45%|████▌     | 90/200 [00:32<00:38,  2.86it/s]\n",
      "EP_train | train loss: 0.4331839993628541 | val loss: 0.3825988915621066 |\n",
      "====\n",
      "Epoch:  46%|████▌     | 91/200 [00:33<00:38,  2.84it/s]\n",
      "EP_train | train loss: 0.4320543887568455 | val loss: 0.38152337717074974 |\n",
      "====\n",
      "Epoch:  46%|████▌     | 92/200 [00:33<00:37,  2.85it/s]\n",
      "EP_train | train loss: 0.4300089983638855 | val loss: 0.3803916608586031 |\n",
      "====\n",
      "Epoch:  46%|████▋     | 93/200 [00:33<00:37,  2.88it/s]\n",
      "EP_train | train loss: 0.42970150280622094 | val loss: 0.38066693848254635 |\n",
      "====\n",
      "Epoch:  47%|████▋     | 94/200 [00:34<00:36,  2.89it/s]\n",
      "EP_train | train loss: 0.4279447344653227 | val loss: 0.3777263316453672 |\n",
      "====\n",
      "Epoch:  48%|████▊     | 95/200 [00:34<00:36,  2.85it/s]\n",
      "EP_train | train loss: 0.4262610115516679 | val loss: 0.3763400549982108 |\n",
      "====\n",
      "Epoch:  48%|████▊     | 96/200 [00:35<00:37,  2.79it/s]\n",
      "EP_train | train loss: 0.4255146782902071 | val loss: 0.3754582878421335 |\n",
      "====\n",
      "Epoch:  48%|████▊     | 97/200 [00:35<00:37,  2.74it/s]\n",
      "EP_train | train loss: 0.42514501937334315 | val loss: 0.3741161647964926 |\n",
      "====\n",
      "Epoch:  49%|████▉     | 98/200 [00:35<00:36,  2.77it/s]\n",
      "EP_train | train loss: 0.423355868179554 | val loss: 0.3719516086812113 |\n",
      "====\n",
      "Epoch:  50%|████▉     | 99/200 [00:36<00:35,  2.81it/s]\n",
      "EP_train | train loss: 0.422304852595776 | val loss: 0.3723302238127765 |\n",
      "====\n",
      "Epoch:  50%|█████     | 100/200 [00:36<00:35,  2.80it/s]\n",
      "EP_train | train loss: 0.4221861263765489 | val loss: 0.37077950963787004 |\n",
      "====\n",
      "Epoch:  50%|█████     | 101/200 [00:36<00:36,  2.71it/s]\n",
      "EP_train | train loss: 0.41958003781719666 | val loss: 0.372056935932122 |\n",
      "====\n",
      "Epoch:  51%|█████     | 102/200 [00:37<00:36,  2.70it/s]\n",
      "EP_train | train loss: 0.4192697653843167 | val loss: 0.36977971067615584 |\n",
      "====\n",
      "Epoch:  52%|█████▏    | 103/200 [00:37<00:36,  2.66it/s]\n",
      "EP_train | train loss: 0.41937417454189724 | val loss: 0.3696518651410645 |\n",
      "====\n",
      "Epoch:  52%|█████▏    | 104/200 [00:37<00:35,  2.70it/s]\n",
      "EP_train | train loss: 0.41555165309532016 | val loss: 0.3691864446097729 |\n",
      "====\n",
      "Epoch:  52%|█████▎    | 105/200 [00:38<00:34,  2.73it/s]\n",
      "EP_train | train loss: 0.4139238047963394 | val loss: 0.3671358730278763 |\n",
      "====\n",
      "Epoch:  53%|█████▎    | 106/200 [00:38<00:35,  2.67it/s]\n",
      "EP_train | train loss: 0.4114934083942754 | val loss: 0.3644974056412192 |\n",
      "====\n",
      "Epoch:  54%|█████▎    | 107/200 [00:39<00:34,  2.67it/s]\n",
      "EP_train | train loss: 0.4110053801069073 | val loss: 0.36574908214456897 |\n",
      "====\n",
      "Epoch:  54%|█████▍    | 108/200 [00:39<00:35,  2.61it/s]\n",
      "EP_train | train loss: 0.40953343210656656 | val loss: 0.3643618155928219 |\n",
      "====\n",
      "Epoch:  55%|█████▍    | 109/200 [00:39<00:34,  2.62it/s]\n",
      "EP_train | train loss: 0.40970674111692473 | val loss: 0.36661503478592516 |\n",
      "====\n",
      "Epoch:  55%|█████▌    | 110/200 [00:40<00:34,  2.58it/s]\n",
      "EP_train | train loss: 0.40594322333408595 | val loss: 0.359521058844585 |\n",
      "====\n",
      "Epoch:  56%|█████▌    | 111/200 [00:40<00:34,  2.54it/s]\n",
      "EP_train | train loss: 0.4047657960380604 | val loss: 0.3602702383901559 |\n",
      "====\n",
      "Epoch:  56%|█████▌    | 112/200 [00:41<00:34,  2.53it/s]\n",
      "EP_train | train loss: 0.40262189410091226 | val loss: 0.3608228762944539 |\n",
      "====\n",
      "Epoch:  56%|█████▋    | 113/200 [00:41<00:34,  2.53it/s]\n",
      "EP_train | train loss: 0.4023410977880939 | val loss: 0.36226649202552497 |\n",
      "====\n",
      "Epoch:  57%|█████▋    | 114/200 [00:41<00:33,  2.58it/s]\n",
      "EP_train | train loss: 0.39936484230889213 | val loss: 0.3595134867172615 |\n",
      "====\n",
      "Epoch:  57%|█████▊    | 115/200 [00:42<00:32,  2.59it/s]\n",
      "EP_train | train loss: 0.3988016010109895 | val loss: 0.361936246063195 |\n",
      "====\n",
      "Epoch:  58%|█████▊    | 116/200 [00:42<00:32,  2.55it/s]\n",
      "EP_train | train loss: 0.3956541755360456 | val loss: 0.359215867285635 |\n",
      "====\n",
      "Epoch:  58%|█████▊    | 117/200 [00:43<00:32,  2.59it/s]\n",
      "EP_train | train loss: 0.39443501200291586 | val loss: 0.357845488132215 |\n",
      "====\n",
      "Epoch:  59%|█████▉    | 118/200 [00:43<00:30,  2.66it/s]\n",
      "EP_train | train loss: 0.39298264081701473 | val loss: 0.36101842627805825 |\n",
      "====\n",
      "Epoch:  60%|█████▉    | 119/200 [00:43<00:29,  2.71it/s]\n",
      "EP_train | train loss: 0.3900420245002298 | val loss: 0.35684538296624724 |\n",
      "====\n",
      "Epoch:  60%|██████    | 120/200 [00:44<00:29,  2.69it/s]\n",
      "EP_train | train loss: 0.3883323752542467 | val loss: 0.35542424286113067 |\n",
      "====\n",
      "Epoch:  60%|██████    | 121/200 [00:44<00:29,  2.66it/s]\n",
      "EP_train | train loss: 0.38754595131136493 | val loss: 0.3572554196797165 |\n",
      "====\n",
      "Epoch:  61%|██████    | 122/200 [00:44<00:28,  2.73it/s]\n",
      "EP_train | train loss: 0.3846786520839517 | val loss: 0.3568091322393978 |\n",
      "====\n",
      "Epoch:  62%|██████▏   | 123/200 [00:45<00:27,  2.78it/s]\n",
      "EP_train | train loss: 0.3826859189534239 | val loss: 0.355734412576638 |\n",
      "====\n",
      "Epoch:  62%|██████▏   | 124/200 [00:45<00:26,  2.83it/s]\n",
      "EP_train | train loss: 0.38016247177955115 | val loss: 0.3554814405301038 |\n",
      "====\n",
      "Epoch:  62%|██████▎   | 125/200 [00:45<00:26,  2.85it/s]\n",
      "EP_train | train loss: 0.37901662585522355 | val loss: 0.3561326744509678 |\n",
      "====\n",
      "Epoch:  63%|██████▎   | 126/200 [00:46<00:26,  2.82it/s]\n",
      "EP_train | train loss: 0.37632703365583564 | val loss: 0.35636067156698187 |\n",
      "====\n",
      "Epoch:  64%|██████▎   | 127/200 [00:46<00:25,  2.83it/s]\n",
      "EP_train | train loss: 0.3734258888593686 | val loss: 0.351293380353965 |\n",
      "====\n",
      "Epoch:  64%|██████▍   | 128/200 [00:46<00:25,  2.85it/s]\n",
      "EP_train | train loss: 0.3724936935117302 | val loss: 0.3509876126167821 |\n",
      "====\n",
      "Epoch:  64%|██████▍   | 129/200 [00:47<00:24,  2.87it/s]\n",
      "EP_train | train loss: 0.3680849625913666 | val loss: 0.3521101696818483 |\n",
      "====\n",
      "Epoch:  65%|██████▌   | 130/200 [00:47<00:24,  2.89it/s]\n",
      "EP_train | train loss: 0.36703394960474084 | val loss: 0.3527742600908466 |\n",
      "====\n",
      "Epoch:  66%|██████▌   | 131/200 [00:47<00:24,  2.85it/s]\n",
      "EP_train | train loss: 0.3635104455719327 | val loss: 0.35258382266643 |\n",
      "====\n",
      "Epoch:  66%|██████▌   | 132/200 [00:48<00:23,  2.86it/s]\n",
      "EP_train | train loss: 0.3614408964684846 | val loss: 0.35175756087490156 |\n",
      "====\n",
      "Epoch:  66%|██████▋   | 133/200 [00:48<00:23,  2.88it/s]\n",
      "EP_train | train loss: 0.3588565741229421 | val loss: 0.3497045373215395 |\n",
      "====\n",
      "Epoch:  67%|██████▋   | 134/200 [00:48<00:22,  2.89it/s]\n",
      "EP_train | train loss: 0.35704913118566045 | val loss: 0.35575558040656297 |\n",
      "====\n",
      "Epoch:  68%|██████▊   | 135/200 [00:49<00:22,  2.90it/s]\n",
      "EP_train | train loss: 0.3521040249494166 | val loss: 0.35120215719821407 |\n",
      "====\n",
      "Epoch:  68%|██████▊   | 136/200 [00:49<00:22,  2.87it/s]\n",
      "EP_train | train loss: 0.3499081285430975 | val loss: 0.35008661887224984 |\n",
      "====\n",
      "Epoch:  68%|██████▊   | 137/200 [00:50<00:21,  2.88it/s]\n",
      "EP_train | train loss: 0.34755771092599774 | val loss: 0.3500753360636094 |\n",
      "====\n",
      "Epoch:  69%|██████▉   | 138/200 [00:50<00:21,  2.85it/s]\n",
      "EP_train | train loss: 0.3436900374676407 | val loss: 0.3507749525939717 |\n",
      "====\n",
      "Epoch:  70%|██████▉   | 139/200 [00:50<00:21,  2.87it/s]\n",
      "EP_train | train loss: 0.3464218328721123 | val loss: 0.3589957712912092 |\n",
      "====\n",
      "Epoch:  70%|███████   | 140/200 [00:51<00:20,  2.88it/s]\n",
      "EP_train | train loss: 0.3385766669296231 | val loss: 0.35387690394532445 |\n",
      "====\n",
      "Epoch:  70%|███████   | 141/200 [00:51<00:20,  2.83it/s]\n",
      "EP_train | train loss: 0.3342405591395426 | val loss: 0.34974987483492087 |\n",
      "====\n",
      "Epoch:  71%|███████   | 142/200 [00:51<00:20,  2.85it/s]\n",
      "EP_train | train loss: 0.33230939773692547 | val loss: 0.3535490538559708 |\n",
      "====\n",
      "Epoch:  72%|███████▏  | 143/200 [00:52<00:19,  2.88it/s]\n",
      "EP_train | train loss: 0.3288351409056088 | val loss: 0.35519181513318826 |\n",
      "====\n",
      "Epoch:  72%|███████▏  | 144/200 [00:52<00:19,  2.88it/s]\n",
      "EP_train | train loss: 0.3271692479617715 | val loss: 0.3570142370813033 |\n",
      "====\n",
      "Epoch:  72%|███████▎  | 145/200 [00:52<00:18,  2.90it/s]\n",
      "EP_train | train loss: 0.32134853624830056 | val loss: 0.35105271900401397 |\n",
      "====\n",
      "Epoch:  73%|███████▎  | 146/200 [00:53<00:18,  2.86it/s]\n",
      "EP_train | train loss: 0.31635185316497205 | val loss: 0.35147300888510313 |\n",
      "====\n",
      "Epoch:  74%|███████▎  | 147/200 [00:53<00:18,  2.87it/s]\n",
      "EP_train | train loss: 0.31527424481959127 | val loss: 0.35554787925645415 |\n",
      "====\n",
      "Epoch:  74%|███████▍  | 148/200 [00:53<00:17,  2.89it/s]\n",
      "EP_train | train loss: 0.3123272187309847 | val loss: 0.35889479693244486 |\n",
      "====\n",
      "Epoch:  74%|███████▍  | 149/200 [00:54<00:17,  2.91it/s]\n",
      "EP_train | train loss: 0.3068464332156711 | val loss: 0.3558615954483257 |\n",
      "====\n",
      "Epoch:  75%|███████▌  | 150/200 [00:54<00:17,  2.93it/s]\n",
      "EP_train | train loss: 0.30197478587331333 | val loss: 0.353940043963638 |\n",
      "====\n",
      "Epoch:  76%|███████▌  | 151/200 [00:54<00:16,  2.89it/s]\n",
      "EP_train | train loss: 0.29740932512387214 | val loss: 0.35257899059968834 |\n",
      "====\n",
      "Epoch:  76%|███████▌  | 152/200 [00:55<00:16,  2.91it/s]\n",
      "EP_train | train loss: 0.2960256631597714 | val loss: 0.3532193846562329 |\n",
      "====\n",
      "Epoch:  76%|███████▋  | 153/200 [00:55<00:16,  2.88it/s]\n",
      "EP_train | train loss: 0.2913151119789007 | val loss: 0.3575236762271208 |\n",
      "====\n",
      "Epoch:  77%|███████▋  | 154/200 [00:55<00:15,  2.89it/s]\n",
      "EP_train | train loss: 0.2848430251244107 | val loss: 0.3551577475725436 |\n",
      "====\n",
      "Epoch:  78%|███████▊  | 155/200 [00:56<00:15,  2.90it/s]\n",
      "EP_train | train loss: 0.2811508277402724 | val loss: 0.3537339404517529 |\n",
      "====\n",
      "Epoch:  78%|███████▊  | 156/200 [00:56<00:15,  2.86it/s]\n",
      "EP_train | train loss: 0.27632266711565406 | val loss: 0.3573197009516697 |\n",
      "====\n",
      "Epoch:  78%|███████▊  | 157/200 [00:56<00:15,  2.85it/s]\n",
      "EP_train | train loss: 0.27193956904941136 | val loss: 0.3554278314113617 |\n",
      "====\n",
      "Epoch:  79%|███████▉  | 158/200 [00:57<00:14,  2.87it/s]\n",
      "EP_train | train loss: 0.2668684915779463 | val loss: 0.35776784957623947 |\n",
      "====\n",
      "Epoch:  80%|███████▉  | 159/200 [00:57<00:14,  2.90it/s]\n",
      "EP_train | train loss: 0.26365720940051773 | val loss: 0.35534606026668175 |\n",
      "====\n",
      "Epoch:  80%|████████  | 160/200 [00:58<00:13,  2.91it/s]\n",
      "EP_train | train loss: 0.28322985125522987 | val loss: 0.3842242114684161 |\n",
      "====\n",
      "Epoch:  80%|████████  | 161/200 [00:58<00:13,  2.87it/s]\n",
      "EP_train | train loss: 0.2547016787892593 | val loss: 0.3584441963364096 |\n",
      "====\n",
      "Epoch:  81%|████████  | 162/200 [00:58<00:13,  2.89it/s]\n",
      "EP_train | train loss: 0.24925927736660494 | val loss: 0.3560721710616467 |\n",
      "====\n",
      "Epoch:  82%|████████▏ | 163/200 [00:59<00:12,  2.91it/s]\n",
      "EP_train | train loss: 0.24920404918313285 | val loss: 0.35830633196176265 |\n",
      "====\n",
      "Epoch:  82%|████████▏ | 164/200 [00:59<00:12,  2.92it/s]\n",
      "EP_train | train loss: 0.24674200440284214 | val loss: 0.3685118637832941 |\n",
      "====\n",
      "Epoch:  82%|████████▎ | 165/200 [00:59<00:11,  2.93it/s]\n",
      "EP_train | train loss: 0.23432748042420365 | val loss: 0.3600640203438553 |\n",
      "====\n",
      "Epoch:  83%|████████▎ | 166/200 [01:00<00:11,  2.87it/s]\n",
      "EP_train | train loss: 0.22823649813666583 | val loss: 0.3622509246947719 |\n",
      "====\n",
      "Epoch:  84%|████████▎ | 167/200 [01:00<00:11,  2.86it/s]\n",
      "EP_train | train loss: 0.2268113087465041 | val loss: 0.37036093426685707 |\n",
      "====\n",
      "Epoch:  84%|████████▍ | 168/200 [01:00<00:11,  2.88it/s]\n",
      "EP_train | train loss: 0.21769524711409424 | val loss: 0.3654881417751312 |\n",
      "====\n",
      "Epoch:  84%|████████▍ | 169/200 [01:01<00:10,  2.91it/s]\n",
      "EP_train | train loss: 0.21710407552116576 | val loss: 0.37334271914818706 |\n",
      "====\n",
      "Epoch:  85%|████████▌ | 170/200 [01:01<00:10,  2.91it/s]\n",
      "EP_train | train loss: 0.2240608579972211 | val loss: 0.38296515450758095 |\n",
      "====\n",
      "Epoch:  86%|████████▌ | 171/200 [01:01<00:10,  2.88it/s]\n",
      "EP_train | train loss: 0.20567797212039723 | val loss: 0.3762206984501259 |\n",
      "====\n",
      "Epoch:  86%|████████▌ | 172/200 [01:02<00:09,  2.86it/s]\n",
      "EP_train | train loss: 0.1962684821459203 | val loss: 0.37349919127482994 |\n",
      "====\n",
      "Epoch:  86%|████████▋ | 173/200 [01:02<00:09,  2.88it/s]\n",
      "EP_train | train loss: 0.19140441381333959 | val loss: 0.37107986328648584 |\n",
      "====\n",
      "Epoch:  87%|████████▋ | 174/200 [01:02<00:08,  2.91it/s]\n",
      "EP_train | train loss: 0.18506633793866192 | val loss: 0.37813011454600914 |\n",
      "====\n",
      "Epoch:  88%|████████▊ | 175/200 [01:03<00:08,  2.93it/s]\n",
      "EP_train | train loss: 0.18001945761553861 | val loss: 0.3795389509668537 |\n",
      "====\n",
      "Epoch:  88%|████████▊ | 176/200 [01:03<00:08,  2.82it/s]\n",
      "EP_train | train loss: 0.17637001273419084 | val loss: 0.3792777996437222 |\n",
      "====\n",
      "Epoch:  88%|████████▊ | 177/200 [01:03<00:08,  2.78it/s]\n",
      "EP_train | train loss: 0.16810231660705766 | val loss: 0.3824554927208844 |\n",
      "====\n",
      "Epoch:  89%|████████▉ | 178/200 [01:04<00:07,  2.82it/s]\n",
      "EP_train | train loss: 0.1621081979705877 | val loss: 0.37795842278237435 |\n",
      "====\n",
      "Epoch:  90%|████████▉ | 179/200 [01:04<00:07,  2.79it/s]\n",
      "EP_train | train loss: 0.15618785871659488 | val loss: 0.38459938121776954 |\n",
      "====\n",
      "Epoch:  90%|█████████ | 180/200 [01:04<00:07,  2.83it/s]\n",
      "EP_train | train loss: 0.15097368750437154 | val loss: 0.3898246656445896 |\n",
      "====\n",
      "Epoch:  90%|█████████ | 181/200 [01:05<00:06,  2.81it/s]\n",
      "EP_train | train loss: 0.14491128817622698 | val loss: 0.39099568011713964 |\n",
      "====\n",
      "Epoch:  91%|█████████ | 182/200 [01:05<00:06,  2.84it/s]\n",
      "EP_train | train loss: 0.1639696533643602 | val loss: 0.4041615093455595 |\n",
      "====\n",
      "Epoch:  92%|█████████▏| 183/200 [01:06<00:05,  2.87it/s]\n",
      "EP_train | train loss: 0.13426390634382993 | val loss: 0.3937707274567847 |\n",
      "====\n",
      "Epoch:  92%|█████████▏| 184/200 [01:06<00:05,  2.90it/s]\n",
      "EP_train | train loss: 0.13175891479375834 | val loss: 0.40446557133805516 |\n",
      "====\n",
      "Epoch:  92%|█████████▎| 185/200 [01:06<00:05,  2.90it/s]\n",
      "EP_train | train loss: 0.12514346565296447 | val loss: 0.4103557490835003 |\n",
      "====\n",
      "Epoch:  93%|█████████▎| 186/200 [01:07<00:04,  2.83it/s]\n",
      "EP_train | train loss: 0.12353400272481582 | val loss: 0.4052472149624544 |\n",
      "====\n",
      "Epoch:  94%|█████████▎| 187/200 [01:07<00:04,  2.82it/s]\n",
      "EP_train | train loss: 0.113407075015548 | val loss: 0.43107816051034364 |\n",
      "====\n",
      "Epoch:  94%|█████████▍| 188/200 [01:07<00:04,  2.81it/s]\n",
      "EP_train | train loss: 0.10620450960524981 | val loss: 0.4273647619228737 |\n",
      "====\n",
      "Epoch:  94%|█████████▍| 189/200 [01:08<00:03,  2.82it/s]\n",
      "EP_train | train loss: 0.10865636458843622 | val loss: 0.4457365835414213 |\n",
      "====\n",
      "Epoch:  95%|█████████▌| 190/200 [01:08<00:03,  2.74it/s]\n",
      "EP_train | train loss: 0.09729219651689716 | val loss: 0.4433552529297623 |\n",
      "====\n",
      "Epoch:  96%|█████████▌| 191/200 [01:08<00:03,  2.65it/s]\n",
      "EP_train | train loss: 0.09112841410314855 | val loss: 0.4583708795846677 |\n",
      "====\n",
      "Epoch:  96%|█████████▌| 192/200 [01:09<00:02,  2.69it/s]\n",
      "EP_train | train loss: 0.09427802469216141 | val loss: 0.4452078108694039 |\n",
      "====\n",
      "Epoch:  96%|█████████▋| 193/200 [01:09<00:02,  2.76it/s]\n",
      "EP_train | train loss: 0.10146857139072127 | val loss: 0.485699078615974 |\n",
      "====\n",
      "Epoch:  97%|█████████▋| 194/200 [01:09<00:02,  2.81it/s]\n",
      "EP_train | train loss: 0.08244878819825083 | val loss: 0.4709444046020508 |\n",
      "====\n",
      "Epoch:  98%|█████████▊| 195/200 [01:10<00:01,  2.84it/s]\n",
      "EP_train | train loss: 0.07722857003637908 | val loss: 0.4650327259419011 |\n",
      "====\n",
      "Epoch:  98%|█████████▊| 196/200 [01:10<00:01,  2.82it/s]\n",
      "EP_train | train loss: 0.07600136247335695 | val loss: 0.4548666570700851 |\n",
      "====\n",
      "Epoch:  98%|█████████▊| 197/200 [01:11<00:01,  2.85it/s]\n",
      "EP_train | train loss: 0.06884321083430371 | val loss: 0.5050745968725167 |\n",
      "====\n",
      "Epoch:  99%|█████████▉| 198/200 [01:11<00:00,  2.86it/s]\n",
      "EP_train | train loss: 0.08076218530243519 | val loss: 0.47908907193763584 |\n",
      "====\n",
      "Epoch: 100%|█████████▉| 199/200 [01:11<00:00,  2.89it/s]\n",
      "EP_train | train loss: 0.06832769363793932 | val loss: 0.4795067123338288 |\n",
      "====\n",
      "Epoch: 100%|██████████| 200/200 [01:12<00:00,  2.78it/s]\n",
      "EP_train | train loss: 0.05874642515494154 | val loss: 0.5081891814867655 |\n",
      "\n"
     ]
    }
   ],
   "source": [
    "AttractiveTrainer.train()"
   ]
  },
  {
   "cell_type": "markdown",
   "metadata": {},
   "source": [
    "## for classification, not better"
   ]
  },
  {
   "cell_type": "markdown",
   "metadata": {},
   "source": [
    "## Below is testing"
   ]
  },
  {
   "cell_type": "code",
   "execution_count": 8,
   "metadata": {},
   "outputs": [
    {
     "output_type": "execute_result",
     "data": {
      "text/plain": [
       "AttractiveNet(\n",
       "  (embedding): AttractiveEmbedding(\n",
       "    (token): TokenEmbedding(11857, 300, padding_idx=1)\n",
       "  )\n",
       "  (category_embedding): CategoryEmbedding(18, 8, padding_idx=0)\n",
       "  (bigramcnn): Sequential(\n",
       "    (0): Conv1d(300, 200, kernel_size=(3,), stride=(1,), padding=(1,))\n",
       "    (1): ReLU()\n",
       "    (2): Conv1d(200, 100, kernel_size=(3,), stride=(1,), padding=(1,))\n",
       "    (3): ReLU()\n",
       "  )\n",
       "  (trigramcnn): Sequential(\n",
       "    (0): Conv1d(300, 200, kernel_size=(3,), stride=(1,), padding=(1,))\n",
       "    (1): ReLU()\n",
       "    (2): Conv1d(200, 100, kernel_size=(3,), stride=(1,), padding=(1,))\n",
       "    (3): ReLU()\n",
       "  )\n",
       "  (encoder_bigram): LSTM(100, 30, batch_first=True, dropout=0.1, bidirectional=True)\n",
       "  (encoder_trigram): LSTM(100, 30, batch_first=True, dropout=0.1, bidirectional=True)\n",
       "  (linear_lstm): Linear(in_features=120, out_features=30, bias=True)\n",
       "  (relu): ReLU()\n",
       "  (dropout): Dropout(p=0.1, inplace=False)\n",
       "  (linear): Linear(in_features=38, out_features=1, bias=True)\n",
       ")"
      ]
     },
     "metadata": {},
     "execution_count": 8
    }
   ],
   "source": [
    "from attractivenet import AttractiveNet\n",
    "PATH = './model/CNN_LSTM_20201103-134117_0.3635.130'\n",
    "# load_model = TransformerModel(config).to(AttractiveData.device)\n",
    "load_model = AttractiveNet(config).to(AttractiveData.device)\n",
    "load_model.load_state_dict(torch.load(PATH))\n",
    "load_model.eval()"
   ]
  },
  {
   "cell_type": "code",
   "execution_count": 9,
   "metadata": {},
   "outputs": [],
   "source": [
    "def predict_attractive(sentence, category, phase):\n",
    "    # if len(sentence) < config['max_seq']:\n",
    "    #     sentence += ['0'] * (config['max_seq'] - len(sentence))\n",
    "    # else:\n",
    "    #     sentence = sentence[:config['max_seq']]\n",
    "\n",
    "    indexed_sentence = [AttractiveData.TEXT.vocab.stoi[t] for t in sentence]\n",
    "    indexed_category = [AttractiveData.CATEGORIES_LABEL.vocab.stoi[category]]\n",
    "    tensor_sentence = torch.LongTensor(indexed_sentence).to(AttractiveData.device)\n",
    "    tensor_category = torch.LongTensor(indexed_category).to(AttractiveData.device)\n",
    "\n",
    "    tensor_sentence = tensor_sentence.unsqueeze(0)\n",
    "    # print(tensor_sentence.shape)\n",
    "\n",
    "    prediction = load_model(tensor_sentence, tensor_category, phase=phase)\n",
    "\n",
    "    # after_decimal = prediction % 1\n",
    "    # possible_list = [0.0, 0.3333333333333333, 0.6666666666666665, 0.5, 1.0]\n",
    "    # closet_idx = None\n",
    "    # closet_distance = 1\n",
    "    # for i in range(len(possible_list)):\n",
    "    #     if abs(after_decimal - possible_list[i]) <= closet_distance:\n",
    "    #         closet_idx = i\n",
    "    #         closet_distance = abs(after_decimal - possible_list[i])\n",
    "    # prediction = (prediction // 1) + possible_list[closet_idx]\n",
    "    \n",
    "    return prediction"
   ]
  },
  {
   "cell_type": "code",
   "execution_count": 10,
   "metadata": {
    "tags": []
   },
   "outputs": [],
   "source": [
    "# train mean = 3.15, test mean = 2.8\n",
    "predict_list = []\n",
    "with torch.no_grad():\n",
    "    for i, sentence in enumerate(AttractiveData.test_data):\n",
    "        prediction = predict_attractive(sentence.Headline, sentence.Category, 'test')\n",
    "        predict_list.append(prediction.item())\n",
    "        # predict_list.append(prediction.item())\n",
    "AttractiveData.df_test['Label'] = predict_list\n",
    "AttractiveData.df_test[['ID', 'Label']].to_csv(config['save_name'] + '.csv', index=False)"
   ]
  },
  {
   "cell_type": "markdown",
   "metadata": {},
   "source": [
    "## Below for statistics"
   ]
  },
  {
   "cell_type": "code",
   "execution_count": 11,
   "metadata": {},
   "outputs": [],
   "source": [
    "import statistics\n",
    "from sklearn.metrics import mean_squared_error"
   ]
  },
  {
   "cell_type": "code",
   "execution_count": 12,
   "metadata": {},
   "outputs": [],
   "source": [
    "# # train mean = 3.15, test mean = 2.8\n",
    "# train_list = []\n",
    "# for i, sentence in enumerate(AttractiveData.train_data):\n",
    "#     prediction = predict_attractive(sentence.Headline, sentence.Category, 'train')\n",
    "#     train_list.append(prediction.item())\n",
    "#     # train_list.append(prediction.item())\n",
    "# # print(train_list)\n",
    "# mean_squared_error(pd.read_csv('data/train.csv').sort_values(['ID']).Label.to_list(), train_list), statistics.mean(train_list), statistics.stdev(train_list)"
   ]
  },
  {
   "cell_type": "code",
   "execution_count": 13,
   "metadata": {},
   "outputs": [],
   "source": [
    "# train_list[0:5], pd.read_csv('data/train.csv').sort_values(['ID']).Label.to_list()[0:5]"
   ]
  },
  {
   "cell_type": "code",
   "execution_count": 14,
   "metadata": {},
   "outputs": [],
   "source": [
    "# a = AttractiveData.df_train['Label'].to_list()\n",
    "# statistics.mean(a), statistics.stdev(a)"
   ]
  },
  {
   "cell_type": "code",
   "execution_count": 15,
   "metadata": {},
   "outputs": [
    {
     "output_type": "execute_result",
     "data": {
      "text/plain": [
       "(3.0016437522115162, 0.3225295746110503)"
      ]
     },
     "metadata": {},
     "execution_count": 15
    }
   ],
   "source": [
    "statistics.mean(predict_list), statistics.stdev(predict_list)"
   ]
  },
  {
   "cell_type": "code",
   "execution_count": 16,
   "metadata": {},
   "outputs": [
    {
     "output_type": "execute_result",
     "data": {
      "text/plain": [
       "(0.10487730989061841, 2.749250414087909, 0.21818948511921435)"
      ]
     },
     "metadata": {},
     "execution_count": 16
    }
   ],
   "source": [
    "baseline_list = pd.read_csv('baseline.csv').sort_values(['ID']).Label.to_list()\n",
    "mean_squared_error(baseline_list, predict_list), statistics.mean(baseline_list), statistics.stdev(baseline_list)"
   ]
  },
  {
   "cell_type": "code",
   "execution_count": 14,
   "metadata": {},
   "outputs": [
    {
     "data": {
      "text/plain": [
       "(2.8167915543795683, 0.14611407210842048)"
      ]
     },
     "execution_count": 14,
     "metadata": {},
     "output_type": "execute_result"
    }
   ],
   "source": [
    "# LSTM my best\n",
    "# statistics.mean(predict_list), statistics.stdev(predict_list)"
   ]
  },
  {
   "cell_type": "code",
   "execution_count": 18,
   "metadata": {},
   "outputs": [
    {
     "data": {
      "text/plain": [
       "(0.038789339035529356, 2.8010625587160893, 0.24649253835767065)"
      ]
     },
     "execution_count": 18,
     "metadata": {},
     "output_type": "execute_result"
    }
   ],
   "source": [
    "a = pd.read_csv('CNN_LSTM_test.csv').Label.to_list()\n",
    "mean_squared_error(baseline_list, a), statistics.mean(a), statistics.stdev(a)"
   ]
  },
  {
   "cell_type": "code",
   "execution_count": 14,
   "metadata": {},
   "outputs": [
    {
     "data": {
      "text/plain": [
       "'the'"
      ]
     },
     "execution_count": 14,
     "metadata": {},
     "output_type": "execute_result"
    }
   ],
   "source": [
    "AttractiveData.TEXT.vocab.itos[2]"
   ]
  },
  {
   "cell_type": "code",
   "execution_count": 26,
   "metadata": {},
   "outputs": [
    {
     "data": {
      "text/plain": [
       "Counter({'4.0': 226,\n",
       "         '2.333333333333333': 194,\n",
       "         '4.5': 43,\n",
       "         '3.333333333333333': 313,\n",
       "         '3.6666666666666665': 260,\n",
       "         '2.6666666666666665': 281,\n",
       "         '2.0': 135,\n",
       "         '2.5': 36,\n",
       "         '1.6666666666666667': 28,\n",
       "         '3.0': 354,\n",
       "         '4.333333333333333': 82,\n",
       "         '4.666666666666667': 29,\n",
       "         '1.5': 16,\n",
       "         '3.5': 22,\n",
       "         '1.3333333333333333': 4,\n",
       "         '1.0': 5,\n",
       "         '5.0': 12})"
      ]
     },
     "execution_count": 26,
     "metadata": {},
     "output_type": "execute_result"
    }
   ],
   "source": [
    "AttractiveData.LABEL.vocab.freqs"
   ]
  },
  {
   "cell_type": "code",
   "execution_count": null,
   "metadata": {},
   "outputs": [],
   "source": []
  }
 ],
 "metadata": {
  "kernelspec": {
   "display_name": "DS_hw2",
   "language": "python",
   "name": "ds_hw2"
  },
  "language_info": {
   "codemirror_mode": {
    "name": "ipython",
    "version": 3
   },
   "file_extension": ".py",
   "mimetype": "text/x-python",
   "name": "python",
   "nbconvert_exporter": "python",
   "pygments_lexer": "ipython3",
   "version": "3.6.12-final"
  }
 },
 "nbformat": 4,
 "nbformat_minor": 4
}