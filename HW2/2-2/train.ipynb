{
 "cells": [
  {
   "cell_type": "code",
   "execution_count": 1,
   "metadata": {},
   "outputs": [],
   "source": [
    "# common packages\n",
    "import pandas as pd\n",
    "import time\n",
    "\n",
    "# # DL framework\n",
    "import torch\n",
    "from torchtext import data\n",
    "\n",
    "from attractivedata import AttractiveData\n",
    "from trainer import AttractiveTrainer"
   ]
  },
  {
   "source": [
    "# from CNN_LSTM_20201103-150358_0.4101.70, do ensemble"
   ],
   "cell_type": "markdown",
   "metadata": {}
  },
  {
   "cell_type": "markdown",
   "metadata": {},
   "source": [
    "## Load and prepare data"
   ]
  },
  {
   "cell_type": "code",
   "execution_count": 2,
   "metadata": {},
   "outputs": [],
   "source": [
    "train_file = 'example/train.csv'\n",
    "val_file = 'example/val.csv'\n",
    "test_file = 'data/test.csv'\n",
    "pretrained_file = 'glove.840B.300d'\n",
    "config = {\n",
    "    'max_seq': 40,\n",
    "    'min_freq': 0,\n",
    "    'batch_size': 64,\n",
    "    'pretrained_file': pretrained_file\n",
    "}\n"
   ]
  },
  {
   "cell_type": "code",
   "execution_count": 3,
   "metadata": {},
   "outputs": [],
   "source": [
    "AttractiveData = AttractiveData(train_file, val_file, test_file, pretrained_file, config)"
   ]
  },
  {
   "cell_type": "code",
   "execution_count": 4,
   "metadata": {},
   "outputs": [],
   "source": [
    "# for i, sentence in enumerate(AttractiveData.test_data):\n",
    "#     if i == 3:\n",
    "#         print(vars(AttractiveData.train_data[i]), vars(sentence))"
   ]
  },
  {
   "cell_type": "code",
   "execution_count": 5,
   "metadata": {},
   "outputs": [
    {
     "output_type": "execute_result",
     "data": {
      "text/plain": [
       "18"
      ]
     },
     "metadata": {},
     "execution_count": 5
    }
   ],
   "source": [
    "len(AttractiveData.CATEGORIES_LABEL.vocab.freqs)"
   ]
  },
  {
   "cell_type": "code",
   "execution_count": 6,
   "metadata": {},
   "outputs": [
    {
     "output_type": "execute_result",
     "data": {
      "text/plain": [
       "38"
      ]
     },
     "metadata": {},
     "execution_count": 6
    }
   ],
   "source": [
    "max_len = 0\n",
    "a = AttractiveData.train_data\n",
    "for i in range(len(a)):\n",
    "    if len(a[i].Headline) >= max_len:\n",
    "        max_len = len(a[i].Headline)\n",
    "max_len"
   ]
  },
  {
   "cell_type": "markdown",
   "metadata": {},
   "source": [
    "## Start to train"
   ]
  },
  {
   "cell_type": "code",
   "execution_count": 7,
   "metadata": {},
   "outputs": [
    {
     "output_type": "stream",
     "name": "stdout",
     "text": [
      "torch.Size([11857, 300])\n"
     ]
    }
   ],
   "source": [
    "config['timestr'] = time.strftime(\"%Y%m%d-%H%M%S\")\n",
    "config['save_name'] = 'CNN_LSTM'\n",
    "config['input_dim'] = len(AttractiveData.TEXT.vocab)\n",
    "config['embedding_dim'] = 300\n",
    "config['category_dim'] = len(AttractiveData.CATEGORIES_LABEL.vocab)\n",
    "config['category_embedding_dim'] = 8\n",
    "config['hidden_dim'] = 30\n",
    "config['output_dim'] = 1\n",
    "config['log_steps'] = 10\n",
    "config['epochs'] = 200\n",
    "config['lr'] = {\n",
    "    'encoder': 1e-5,\n",
    "    'embedding': 6e-6,\n",
    "    'linear': 1e-5\n",
    "}\n",
    "config['num_layers'] = 1\n",
    "config['kernel_size'] = 3\n",
    "config['dropout'] = 0.1\n",
    "config['train_len'] = AttractiveData.train_len\n",
    "config['val_len'] = AttractiveData.val_len\n",
    "config['test_len'] = AttractiveData.test_len\n",
    "\n",
    "pretrained_embeddings = AttractiveData.TEXT.vocab.vectors\n",
    "print(pretrained_embeddings.shape)"
   ]
  },
  {
   "cell_type": "code",
   "execution_count": 8,
   "metadata": {},
   "outputs": [],
   "source": [
    "AttractiveTrainer = AttractiveTrainer(config, AttractiveData.device, AttractiveData.trainloader, AttractiveData.valloader, pretrained_embeddings)"
   ]
  },
  {
   "cell_type": "code",
   "execution_count": 9,
   "metadata": {},
   "outputs": [
    {
     "output_type": "execute_result",
     "data": {
      "text/plain": [
       "(AttractiveNet(\n",
       "   (embedding): AttractiveEmbedding(\n",
       "     (token): TokenEmbedding(11857, 300, padding_idx=1)\n",
       "   )\n",
       "   (bigramcnn): Sequential(\n",
       "     (0): Conv1d(300, 200, kernel_size=(3,), stride=(1,), padding=(1,))\n",
       "     (1): ReLU()\n",
       "     (2): Conv1d(200, 100, kernel_size=(3,), stride=(1,), padding=(1,))\n",
       "     (3): ReLU()\n",
       "   )\n",
       "   (trigramcnn): Sequential(\n",
       "     (0): Conv1d(300, 200, kernel_size=(3,), stride=(1,), padding=(1,))\n",
       "     (1): ReLU()\n",
       "     (2): Conv1d(200, 100, kernel_size=(3,), stride=(1,), padding=(1,))\n",
       "     (3): ReLU()\n",
       "   )\n",
       "   (encoder_bigram): LSTM(100, 30, batch_first=True, dropout=0.1, bidirectional=True)\n",
       "   (encoder_trigram): LSTM(100, 30, batch_first=True, dropout=0.1, bidirectional=True)\n",
       "   (linear): Sequential(\n",
       "     (0): Linear(in_features=120, out_features=30, bias=True)\n",
       "     (1): ReLU()\n",
       "     (2): Linear(in_features=30, out_features=1, bias=True)\n",
       "   )\n",
       " ),\n",
       " 4104721,\n",
       " 4104721)"
      ]
     },
     "metadata": {},
     "execution_count": 9
    }
   ],
   "source": [
    "AttractiveTrainer.model, AttractiveTrainer.config['total_params'], AttractiveTrainer.config['total_learned_params']"
   ]
  },
  {
   "cell_type": "code",
   "execution_count": 10,
   "metadata": {
    "tags": [
     "outputPrepend"
    ]
   },
   "outputs": [
    {
     "output_type": "stream",
     "name": "stderr",
     "text": [
      "[00:19<00:49,  2.92it/s]\n",
      "EP_train | train loss: 0.41537486286204883 | val loss: 0.39440587221407425 |\n",
      "====\n",
      "Epoch:  28%|██▊       | 57/200 [00:19<00:48,  2.93it/s]\n",
      "EP_train | train loss: 0.41538201230283917 | val loss: 0.3884803372270921 |\n",
      "====\n",
      "Epoch:  29%|██▉       | 58/200 [00:19<00:48,  2.91it/s]\n",
      "EP_train | train loss: 0.4120806608844167 | val loss: 0.400977796199275 |\n",
      "====\n",
      "Epoch:  30%|██▉       | 59/200 [00:20<00:48,  2.92it/s]\n",
      "EP_train | train loss: 0.41225215604362403 | val loss: 0.4049455009254755 |\n",
      "====\n",
      "Epoch:  30%|███       | 60/200 [00:20<00:47,  2.93it/s]\n",
      "EP_train | train loss: 0.4074848305945303 | val loss: 0.39528326076619763 |\n",
      "====\n",
      "Epoch:  30%|███       | 61/200 [00:21<00:48,  2.89it/s]\n",
      "EP_train | train loss: 0.40668880601853846 | val loss: 0.4017624901790245 |\n",
      "====\n",
      "Epoch:  31%|███       | 62/200 [00:21<00:47,  2.90it/s]\n",
      "EP_train | train loss: 0.40232423499778464 | val loss: 0.3946064044447506 |\n",
      "====\n",
      "Epoch:  32%|███▏      | 63/200 [00:21<00:46,  2.92it/s]\n",
      "EP_train | train loss: 0.40081861387930146 | val loss: 0.39360318698135077 |\n",
      "====\n",
      "Epoch:  32%|███▏      | 64/200 [00:22<00:46,  2.92it/s]\n",
      "EP_train | train loss: 0.39860360450993954 | val loss: 0.39456746975580853 |\n",
      "====\n",
      "Epoch:  32%|███▎      | 65/200 [00:22<00:46,  2.93it/s]\n",
      "EP_train | train loss: 0.39598051291405506 | val loss: 0.389172424288357 |\n",
      "====\n",
      "Epoch:  33%|███▎      | 66/200 [00:22<00:46,  2.88it/s]\n",
      "EP_train | train loss: 0.39443638537704034 | val loss: 0.3918314108661577 |\n",
      "====\n",
      "Epoch:  34%|███▎      | 67/200 [00:23<00:45,  2.90it/s]\n",
      "EP_train | train loss: 0.3915780894377133 | val loss: 0.3902013827772701 |\n",
      "====\n",
      "Epoch:  34%|███▍      | 68/200 [00:23<00:45,  2.91it/s]\n",
      "EP_train | train loss: 0.38886244987870094 | val loss: 0.3740261384085113 |\n",
      "====\n",
      "Epoch:  34%|███▍      | 69/200 [00:23<00:44,  2.92it/s]\n",
      "EP_train | train loss: 0.3868033641823496 | val loss: 0.37308627016404095 |\n",
      "====\n",
      "Epoch:  35%|███▌      | 70/200 [00:24<00:44,  2.93it/s]\n",
      "EP_train | train loss: 0.3823359142461374 | val loss: 0.38325146950927436 |\n",
      "====\n",
      "Epoch:  36%|███▌      | 71/200 [00:24<00:44,  2.90it/s]\n",
      "EP_train | train loss: 0.380178532569237 | val loss: 0.3836548795887068 |\n",
      "====\n",
      "Epoch:  36%|███▌      | 72/200 [00:24<00:44,  2.91it/s]\n",
      "EP_train | train loss: 0.3774690472222621 | val loss: 0.3766697423130858 |\n",
      "====\n",
      "Epoch:  36%|███▋      | 73/200 [00:25<00:43,  2.92it/s]\n",
      "EP_train | train loss: 0.3743193985849684 | val loss: 0.3766262133916219 |\n",
      "====\n",
      "Epoch:  37%|███▋      | 74/200 [00:25<00:42,  2.93it/s]\n",
      "EP_train | train loss: 0.3724096979710531 | val loss: 0.37258177060706943 |\n",
      "====\n",
      "Epoch:  38%|███▊      | 75/200 [00:25<00:42,  2.94it/s]\n",
      "EP_train | train loss: 0.37343138806960163 | val loss: 0.36563360574198706 |\n",
      "====\n",
      "Epoch:  38%|███▊      | 76/200 [00:26<00:42,  2.89it/s]\n",
      "EP_train | train loss: 0.3659561334871778 | val loss: 0.37347839042252184 |\n",
      "====\n",
      "Epoch:  38%|███▊      | 77/200 [00:26<00:42,  2.90it/s]\n",
      "EP_train | train loss: 0.3640271142157594 | val loss: 0.38120222208546656 |\n",
      "====\n",
      "Epoch:  39%|███▉      | 78/200 [00:26<00:42,  2.90it/s]\n",
      "EP_train | train loss: 0.3615004164460957 | val loss: 0.3807700369872299 |\n",
      "====\n",
      "Epoch:  40%|███▉      | 79/200 [00:27<00:41,  2.92it/s]\n",
      "EP_train | train loss: 0.35742379585382467 | val loss: 0.36809201450908885 |\n",
      "====\n",
      "Epoch:  40%|████      | 80/200 [00:27<00:40,  2.93it/s]\n",
      "EP_train | train loss: 0.3533679945536429 | val loss: 0.37033534166859644 |\n",
      "====\n",
      "Epoch:  40%|████      | 81/200 [00:27<00:41,  2.89it/s]\n",
      "EP_train | train loss: 0.34897874175593224 | val loss: 0.37466490268707275 |\n",
      "====\n",
      "Epoch:  41%|████      | 82/200 [00:28<00:40,  2.90it/s]\n",
      "EP_train | train loss: 0.3449892779580908 | val loss: 0.3737097966904734 |\n",
      "====\n",
      "Epoch:  42%|████▏     | 83/200 [00:28<00:40,  2.91it/s]\n",
      "EP_train | train loss: 0.34248734663254815 | val loss: 0.37146786731832165 |\n",
      "====\n",
      "Epoch:  42%|████▏     | 84/200 [00:28<00:39,  2.92it/s]\n",
      "EP_train | train loss: 0.3391539063588726 | val loss: 0.36655567206588446 |\n",
      "====\n",
      "Epoch:  42%|████▎     | 85/200 [00:29<00:39,  2.92it/s]\n",
      "EP_train | train loss: 0.3378914093399879 | val loss: 0.3842886908381593 |\n",
      "====\n",
      "Epoch:  43%|████▎     | 86/200 [00:29<00:39,  2.88it/s]\n",
      "EP_train | train loss: 0.3305767356440392 | val loss: 0.3736964686244142 |\n",
      "====\n",
      "Epoch:  44%|████▎     | 87/200 [00:29<00:38,  2.90it/s]\n",
      "EP_train | train loss: 0.33233258719018344 | val loss: 0.3635895871648602 |\n",
      "====\n",
      "Epoch:  44%|████▍     | 88/200 [00:30<00:38,  2.92it/s]\n",
      "EP_train | train loss: 0.3224754463353708 | val loss: 0.36793005115845623 |\n",
      "====\n",
      "Epoch:  44%|████▍     | 89/200 [00:30<00:37,  2.93it/s]\n",
      "EP_train | train loss: 0.3179630859225404 | val loss: 0.3688676824756697 |\n",
      "====\n",
      "Epoch:  45%|████▌     | 90/200 [00:30<00:37,  2.94it/s]\n",
      "EP_train | train loss: 0.31371548752379574 | val loss: 0.3722148923312916 |\n",
      "====\n",
      "Epoch:  46%|████▌     | 91/200 [00:31<00:37,  2.89it/s]\n",
      "EP_train | train loss: 0.30915340618889836 | val loss: 0.36994633253882914 |\n",
      "====\n",
      "Epoch:  46%|████▌     | 92/200 [00:31<00:37,  2.91it/s]\n",
      "EP_train | train loss: 0.30928433642667885 | val loss: 0.38403695938633936 |\n",
      "====\n",
      "Epoch:  46%|████▋     | 93/200 [00:32<00:36,  2.92it/s]\n",
      "EP_train | train loss: 0.3016271539243478 | val loss: 0.3752281350248 |\n",
      "====\n",
      "Epoch:  47%|████▋     | 94/200 [00:32<00:36,  2.93it/s]\n",
      "EP_train | train loss: 0.2991713511398415 | val loss: 0.36454133543313716 |\n",
      "====\n",
      "Epoch:  48%|████▊     | 95/200 [00:32<00:36,  2.91it/s]\n",
      "EP_train | train loss: 0.2901788568185046 | val loss: 0.36735347556132897 |\n",
      "====\n",
      "Epoch:  48%|████▊     | 96/200 [00:33<00:36,  2.88it/s]\n",
      "EP_train | train loss: 0.2888141421191313 | val loss: 0.38567202815822527 |\n",
      "====\n",
      "Epoch:  48%|████▊     | 97/200 [00:33<00:35,  2.90it/s]\n",
      "EP_train | train loss: 0.2786934728975649 | val loss: 0.3742775496314554 |\n",
      "====\n",
      "Epoch:  49%|████▉     | 98/200 [00:33<00:35,  2.91it/s]\n",
      "EP_train | train loss: 0.27599725951816 | val loss: 0.36959093692255957 |\n",
      "====\n",
      "Epoch:  50%|████▉     | 99/200 [00:34<00:34,  2.91it/s]\n",
      "EP_train | train loss: 0.2692470005135131 | val loss: 0.37985272734772924 |\n",
      "====\n",
      "Epoch:  50%|█████     | 100/200 [00:34<00:34,  2.90it/s]\n",
      "EP_train | train loss: 0.2631583805956872 | val loss: 0.37589437821332145 |\n",
      "====\n",
      "Epoch:  50%|█████     | 101/200 [00:34<00:35,  2.82it/s]\n",
      "EP_train | train loss: 0.2558277785648188 | val loss: 0.37986206073386997 |\n",
      "====\n",
      "Epoch:  51%|█████     | 102/200 [00:35<00:34,  2.85it/s]\n",
      "EP_train | train loss: 0.2510391393258421 | val loss: 0.3722192493139529 |\n",
      "====\n",
      "Epoch:  52%|█████▏    | 103/200 [00:35<00:33,  2.89it/s]\n",
      "EP_train | train loss: 0.24397911017756577 | val loss: 0.3786068792436637 |\n",
      "====\n",
      "Epoch:  52%|█████▏    | 104/200 [00:35<00:33,  2.90it/s]\n",
      "EP_train | train loss: 0.24054516660362027 | val loss: 0.37453315071031157 |\n",
      "====\n",
      "Epoch:  52%|█████▎    | 105/200 [00:36<00:33,  2.84it/s]\n",
      "EP_train | train loss: 0.23089946588919313 | val loss: 0.3815521340744168 |\n",
      "====\n",
      "Epoch:  53%|█████▎    | 106/200 [00:36<00:33,  2.77it/s]\n",
      "EP_train | train loss: 0.22535926168520726 | val loss: 0.38058606082317875 |\n",
      "====\n",
      "Epoch:  54%|█████▎    | 107/200 [00:36<00:33,  2.81it/s]\n",
      "EP_train | train loss: 0.22043129145969234 | val loss: 0.3811077826163348 |\n",
      "====\n",
      "Epoch:  54%|█████▍    | 108/200 [00:37<00:32,  2.85it/s]\n",
      "EP_train | train loss: 0.21463568953387357 | val loss: 0.38069963688943903 |\n",
      "====\n",
      "Epoch:  55%|█████▍    | 109/200 [00:37<00:31,  2.85it/s]\n",
      "EP_train | train loss: 0.20457633336385092 | val loss: 0.3956281846644832 |\n",
      "====\n",
      "Epoch:  55%|█████▌    | 110/200 [00:37<00:31,  2.83it/s]\n",
      "EP_train | train loss: 0.19819159783049606 | val loss: 0.3887236971481174 |\n",
      "====\n",
      "Epoch:  56%|█████▌    | 111/200 [00:38<00:31,  2.80it/s]\n",
      "EP_train | train loss: 0.19068990553646045 | val loss: 0.3988849018134323 |\n",
      "====\n",
      "Epoch:  56%|█████▌    | 112/200 [00:38<00:31,  2.82it/s]\n",
      "EP_train | train loss: 0.18429534887176713 | val loss: 0.3957341149741528 |\n",
      "====\n",
      "Epoch:  56%|█████▋    | 113/200 [00:39<00:31,  2.78it/s]\n",
      "EP_train | train loss: 0.17814129837717627 | val loss: 0.4069417902067596 |\n",
      "====\n",
      "Epoch:  57%|█████▋    | 114/200 [00:39<00:30,  2.78it/s]\n",
      "EP_train | train loss: 0.1721296315619109 | val loss: 0.39685336515015246 |\n",
      "====\n",
      "Epoch:  57%|█████▊    | 115/200 [00:39<00:30,  2.79it/s]\n",
      "EP_train | train loss: 0.16875848998691 | val loss: 0.42242298640456855 |\n",
      "====\n",
      "Epoch:  58%|█████▊    | 116/200 [00:40<00:30,  2.76it/s]\n",
      "EP_train | train loss: 0.15691037323480078 | val loss: 0.4059876413906322 |\n",
      "====\n",
      "Epoch:  58%|█████▊    | 117/200 [00:40<00:29,  2.77it/s]\n",
      "EP_train | train loss: 0.1527954984074844 | val loss: 0.4033258183329713 |\n",
      "====\n",
      "Epoch:  59%|█████▉    | 118/200 [00:40<00:29,  2.78it/s]\n",
      "EP_train | train loss: 0.14979709804967078 | val loss: 0.4002519121357039 |\n",
      "====\n",
      "Epoch:  60%|█████▉    | 119/200 [00:41<00:29,  2.78it/s]\n",
      "EP_train | train loss: 0.1594757729885625 | val loss: 0.3977249352370991 |\n",
      "====\n",
      "Epoch:  60%|██████    | 120/200 [00:41<00:28,  2.82it/s]\n",
      "EP_train | train loss: 0.1341271005684514 | val loss: 0.4277876650585848 |\n",
      "====\n",
      "Epoch:  60%|██████    | 121/200 [00:41<00:28,  2.72it/s]\n",
      "EP_train | train loss: 0.1265688028210908 | val loss: 0.4116717436734368 |\n",
      "====\n",
      "Epoch:  61%|██████    | 122/200 [00:42<00:27,  2.79it/s]\n",
      "EP_train | train loss: 0.1239836034172241 | val loss: 0.4432673407535927 |\n",
      "====\n",
      "Epoch:  62%|██████▏   | 123/200 [00:42<00:27,  2.78it/s]\n",
      "EP_train | train loss: 0.11286082376841626 | val loss: 0.42065303232155593 |\n",
      "====\n",
      "Epoch:  62%|██████▏   | 124/200 [00:43<00:27,  2.79it/s]\n",
      "EP_train | train loss: 0.10522325612880566 | val loss: 0.43421728237002505 |\n",
      "====\n",
      "Epoch:  62%|██████▎   | 125/200 [00:43<00:26,  2.79it/s]\n",
      "EP_train | train loss: 0.09984324064130097 | val loss: 0.4380753846729503 |\n",
      "====\n",
      "Epoch:  63%|██████▎   | 126/200 [00:43<00:26,  2.76it/s]\n",
      "EP_train | train loss: 0.0939112125139091 | val loss: 0.4349965721953149 |\n",
      "====\n",
      "Epoch:  64%|██████▎   | 127/200 [00:44<00:26,  2.76it/s]\n",
      "EP_train | train loss: 0.08948008868689111 | val loss: 0.42951402944677014 |\n",
      "====\n",
      "Epoch:  64%|██████▍   | 128/200 [00:44<00:26,  2.75it/s]\n",
      "EP_train | train loss: 0.09242691271705046 | val loss: 0.42553603649139404 |\n",
      "====\n",
      "Epoch:  64%|██████▍   | 129/200 [00:44<00:25,  2.75it/s]\n",
      "EP_train | train loss: 0.07713322870611884 | val loss: 0.44471260028726917 |\n",
      "====\n",
      "Epoch:  65%|██████▌   | 130/200 [00:45<00:25,  2.76it/s]\n",
      "EP_train | train loss: 0.07232829012901955 | val loss: 0.43593835363201067 |\n",
      "====\n",
      "Epoch:  66%|██████▌   | 131/200 [00:45<00:25,  2.76it/s]\n",
      "EP_train | train loss: 0.07032409212947671 | val loss: 0.4518559072531906 |\n",
      "====\n",
      "Epoch:  66%|██████▌   | 132/200 [00:45<00:24,  2.77it/s]\n",
      "EP_train | train loss: 0.06345282907319744 | val loss: 0.451150308637058 |\n",
      "====\n",
      "Epoch:  66%|██████▋   | 133/200 [00:46<00:23,  2.81it/s]\n",
      "EP_train | train loss: 0.07734006461494629 | val loss: 0.42673378364712583 |\n",
      "====\n",
      "Epoch:  67%|██████▋   | 134/200 [00:46<00:23,  2.84it/s]\n",
      "EP_train | train loss: 0.05821933647646104 | val loss: 0.45264481212578567 |\n",
      "====\n",
      "Epoch:  68%|██████▊   | 135/200 [00:46<00:22,  2.85it/s]\n",
      "EP_train | train loss: 0.05199584650577803 | val loss: 0.4472822488522997 |\n",
      "====\n",
      "Epoch:  68%|██████▊   | 136/200 [00:47<00:22,  2.83it/s]\n",
      "EP_train | train loss: 0.04821573830897512 | val loss: 0.45185425117904066 |\n",
      "====\n",
      "Epoch:  68%|██████▊   | 137/200 [00:47<00:22,  2.85it/s]\n",
      "EP_train | train loss: 0.045887255266081534 | val loss: 0.461598746916827 |\n",
      "====\n",
      "Epoch:  69%|██████▉   | 138/200 [00:48<00:21,  2.86it/s]\n",
      "EP_train | train loss: 0.056784340888586436 | val loss: 0.49626924360499663 |\n",
      "====\n",
      "Epoch:  70%|██████▉   | 139/200 [00:48<00:21,  2.87it/s]\n",
      "EP_train | train loss: 0.04155327525793338 | val loss: 0.4688936425190346 |\n",
      "====\n",
      "Epoch:  70%|███████   | 140/200 [00:48<00:20,  2.88it/s]\n",
      "EP_train | train loss: 0.04004353317300219 | val loss: 0.4658455124088362 |\n",
      "====\n",
      "Epoch:  70%|███████   | 141/200 [00:49<00:20,  2.83it/s]\n",
      "EP_train | train loss: 0.03330370368261483 | val loss: 0.4575746772336025 |\n",
      "====\n",
      "Epoch:  71%|███████   | 142/200 [00:49<00:20,  2.83it/s]\n",
      "EP_train | train loss: 0.03149643540382385 | val loss: 0.46225663143045764 |\n",
      "====\n",
      "Epoch:  72%|███████▏  | 143/200 [00:49<00:20,  2.84it/s]\n",
      "EP_train | train loss: 0.03829084197160725 | val loss: 0.440230645385443 |\n",
      "====\n",
      "Epoch:  72%|███████▏  | 144/200 [00:50<00:19,  2.86it/s]\n",
      "EP_train | train loss: 0.029230405886967976 | val loss: 0.45624421858320047 |\n",
      "====\n",
      "Epoch:  72%|███████▎  | 145/200 [00:50<00:19,  2.86it/s]\n",
      "EP_train | train loss: 0.02633401150926785 | val loss: 0.46090390518599866 |\n",
      "====\n",
      "Epoch:  73%|███████▎  | 146/200 [00:50<00:18,  2.85it/s]\n",
      "EP_train | train loss: 0.0250113878504643 | val loss: 0.4684382642016691 |\n",
      "====\n",
      "Epoch:  74%|███████▎  | 147/200 [00:51<00:18,  2.87it/s]\n",
      "EP_train | train loss: 0.02283725460630097 | val loss: 0.4719318385217704 |\n",
      "====\n",
      "Epoch:  74%|███████▍  | 148/200 [00:51<00:17,  2.89it/s]\n",
      "EP_train | train loss: 0.021651926870439566 | val loss: 0.46036601650948616 |\n",
      "====\n",
      "Epoch:  74%|███████▍  | 149/200 [00:51<00:17,  2.91it/s]\n",
      "EP_train | train loss: 0.036894783345182994 | val loss: 0.5084014383016848 |\n",
      "====\n",
      "Epoch:  75%|███████▌  | 150/200 [00:52<00:17,  2.92it/s]\n",
      "EP_train | train loss: 0.019912811600824327 | val loss: 0.46267253978579653 |\n",
      "====\n",
      "Epoch:  76%|███████▌  | 151/200 [00:52<00:16,  2.88it/s]\n",
      "EP_train | train loss: 0.018246924662901686 | val loss: 0.460235595703125 |\n",
      "====\n",
      "Epoch:  76%|███████▌  | 152/200 [00:52<00:16,  2.90it/s]\n",
      "EP_train | train loss: 0.0187749783782398 | val loss: 0.45723126215093274 |\n",
      "====\n",
      "Epoch:  76%|███████▋  | 153/200 [00:53<00:16,  2.92it/s]\n",
      "EP_train | train loss: 0.02742998077978496 | val loss: 0.5085742029489255 |\n",
      "====\n",
      "Epoch:  77%|███████▋  | 154/200 [00:53<00:15,  2.93it/s]\n",
      "EP_train | train loss: 0.016414980207263515 | val loss: 0.4614494150760127 |\n",
      "====\n",
      "Epoch:  78%|███████▊  | 155/200 [00:53<00:15,  2.92it/s]\n",
      "EP_train | train loss: 0.0231183528056072 | val loss: 0.5012974996192783 |\n",
      "====\n",
      "Epoch:  78%|███████▊  | 156/200 [00:54<00:15,  2.80it/s]\n",
      "EP_train | train loss: 0.013014234147949676 | val loss: 0.4677094291238224 |\n",
      "====\n",
      "Epoch:  78%|███████▊  | 157/200 [00:54<00:15,  2.80it/s]\n",
      "EP_train | train loss: 0.01631572521200367 | val loss: 0.499490686491424 |\n",
      "====\n",
      "Epoch:  79%|███████▉  | 158/200 [00:54<00:15,  2.79it/s]\n",
      "EP_train | train loss: 0.015744013285714818 | val loss: 0.48713581468544753 |\n",
      "====\n",
      "Epoch:  80%|███████▉  | 159/200 [00:55<00:14,  2.84it/s]\n",
      "EP_train | train loss: 0.020407973810997924 | val loss: 0.4525839183844772 |\n",
      "====\n",
      "Epoch:  80%|████████  | 160/200 [00:55<00:13,  2.87it/s]\n",
      "EP_train | train loss: 0.011060410027020897 | val loss: 0.48108283678690594 |\n",
      "====\n",
      "Epoch:  80%|████████  | 161/200 [00:56<00:13,  2.84it/s]\n",
      "EP_train | train loss: 0.01244408388932546 | val loss: 0.48986202127793255 |\n",
      "====\n",
      "Epoch:  81%|████████  | 162/200 [00:56<00:13,  2.87it/s]\n",
      "EP_train | train loss: 0.008711751623480929 | val loss: 0.4822339637606752 |\n",
      "====\n",
      "Epoch:  82%|████████▏ | 163/200 [00:56<00:12,  2.89it/s]\n",
      "EP_train | train loss: 0.008204582713398278 | val loss: 0.4814513851614559 |\n",
      "====\n",
      "Epoch:  82%|████████▏ | 164/200 [00:57<00:12,  2.90it/s]\n",
      "EP_train | train loss: 0.010687121817099503 | val loss: 0.4986026310453228 |\n",
      "====\n",
      "Epoch:  82%|████████▎ | 165/200 [00:57<00:12,  2.88it/s]\n",
      "EP_train | train loss: 0.007952744096582491 | val loss: 0.48378797138438506 |\n",
      "====\n",
      "Epoch:  83%|████████▎ | 166/200 [00:57<00:12,  2.82it/s]\n",
      "EP_train | train loss: 0.010379714108110772 | val loss: 0.49605965848062555 |\n",
      "====\n",
      "Epoch:  84%|████████▎ | 167/200 [00:58<00:11,  2.81it/s]\n",
      "EP_train | train loss: 0.006562951716852084 | val loss: 0.4686456088926278 |\n",
      "====\n",
      "Epoch:  84%|████████▍ | 168/200 [00:58<00:11,  2.83it/s]\n",
      "EP_train | train loss: 0.006002466346508537 | val loss: 0.48745041267544614 |\n",
      "====\n",
      "Epoch:  84%|████████▍ | 169/200 [00:58<00:10,  2.85it/s]\n",
      "EP_train | train loss: 0.00543167407184125 | val loss: 0.48382590097539563 |\n",
      "====\n",
      "Epoch:  85%|████████▌ | 170/200 [00:59<00:10,  2.87it/s]\n",
      "EP_train | train loss: 0.008550939509292053 | val loss: 0.4636591298907411 |\n",
      "====\n",
      "Epoch:  86%|████████▌ | 171/200 [00:59<00:10,  2.85it/s]\n",
      "EP_train | train loss: 0.00759892697265465 | val loss: 0.4947512406928867 |\n",
      "====\n",
      "Epoch:  86%|████████▌ | 172/200 [00:59<00:09,  2.88it/s]\n",
      "EP_train | train loss: 0.005183792265217289 | val loss: 0.4923042199190925 |\n",
      "====\n",
      "Epoch:  86%|████████▋ | 173/200 [01:00<00:09,  2.89it/s]\n",
      "EP_train | train loss: 0.0042494252478310224 | val loss: 0.49036411678089814 |\n",
      "====\n",
      "Epoch:  87%|████████▋ | 174/200 [01:00<00:08,  2.91it/s]\n",
      "EP_train | train loss: 0.00900434652314986 | val loss: 0.46568793409010945 |\n",
      "====\n",
      "Epoch:  88%|████████▊ | 175/200 [01:00<00:08,  2.93it/s]\n",
      "EP_train | train loss: 0.0062432016584868 | val loss: 0.4912313561813504 |\n",
      "====\n",
      "Epoch:  88%|████████▊ | 176/200 [01:01<00:08,  2.89it/s]\n",
      "EP_train | train loss: 0.004249529519436926 | val loss: 0.4878234571101619 |\n",
      "====\n",
      "Epoch:  88%|████████▊ | 177/200 [01:01<00:07,  2.90it/s]\n",
      "EP_train | train loss: 0.003394044107860989 | val loss: 0.48441094393823664 |\n",
      "====\n",
      "Epoch:  89%|████████▉ | 178/200 [01:01<00:07,  2.91it/s]\n",
      "EP_train | train loss: 0.002984018842152001 | val loss: 0.48218515807507084 |\n",
      "====\n",
      "Epoch:  90%|████████▉ | 179/200 [01:02<00:07,  2.92it/s]\n",
      "EP_train | train loss: 0.004732563734573996 | val loss: 0.49342964677249684 |\n",
      "====\n",
      "Epoch:  90%|█████████ | 180/200 [01:02<00:06,  2.94it/s]\n",
      "EP_train | train loss: 0.0030741700801129954 | val loss: 0.47808339549045936 |\n",
      "====\n",
      "Epoch:  90%|█████████ | 181/200 [01:02<00:06,  2.89it/s]\n",
      "EP_train | train loss: 0.004479955889950131 | val loss: 0.4712066475082846 |\n",
      "====\n",
      "Epoch:  91%|█████████ | 182/200 [01:03<00:06,  2.90it/s]\n",
      "EP_train | train loss: 0.0042403912768254875 | val loss: 0.492770955843084 |\n",
      "====\n",
      "Epoch:  92%|█████████▏| 183/200 [01:03<00:05,  2.91it/s]\n",
      "EP_train | train loss: 0.006709268783302348 | val loss: 0.4997947566649493 |\n",
      "====\n",
      "Epoch:  92%|█████████▏| 184/200 [01:03<00:05,  2.93it/s]\n",
      "EP_train | train loss: 0.003839053043158226 | val loss: 0.47259071527742874 |\n",
      "====\n",
      "Epoch:  92%|█████████▎| 185/200 [01:04<00:05,  2.93it/s]\n",
      "EP_train | train loss: 0.00295813339468181 | val loss: 0.4943528268851486 |\n",
      "====\n",
      "Epoch:  93%|█████████▎| 186/200 [01:04<00:04,  2.89it/s]\n",
      "EP_train | train loss: 0.007325946602946013 | val loss: 0.5052950779596964 |\n",
      "====\n",
      "Epoch:  94%|█████████▎| 187/200 [01:05<00:04,  2.91it/s]\n",
      "EP_train | train loss: 0.0022214307309755313 | val loss: 0.48660262075125005 |\n",
      "====\n",
      "Epoch:  94%|█████████▍| 188/200 [01:05<00:04,  2.92it/s]\n",
      "EP_train | train loss: 0.0027219182760951826 | val loss: 0.49573451864953133 |\n",
      "====\n",
      "Epoch:  94%|█████████▍| 189/200 [01:05<00:03,  2.93it/s]\n",
      "EP_train | train loss: 0.0026805238769854337 | val loss: 0.49469345574285467 |\n",
      "====\n",
      "Epoch:  95%|█████████▌| 190/200 [01:06<00:03,  2.93it/s]\n",
      "EP_train | train loss: 0.003937822151807399 | val loss: 0.4703885877833647 |\n",
      "====\n",
      "Epoch:  96%|█████████▌| 191/200 [01:06<00:03,  2.89it/s]\n",
      "EP_train | train loss: 0.0018003506378995047 | val loss: 0.48152007074917064 |\n",
      "====\n",
      "Epoch:  96%|█████████▌| 192/200 [01:06<00:02,  2.90it/s]\n",
      "EP_train | train loss: 0.0020561287410898145 | val loss: 0.47945284492829265 |\n",
      "====\n",
      "Epoch:  96%|█████████▋| 193/200 [01:07<00:02,  2.91it/s]\n",
      "EP_train | train loss: 0.002092683018227808 | val loss: 0.4886968696818632 |\n",
      "====\n",
      "Epoch:  97%|█████████▋| 194/200 [01:07<00:02,  2.91it/s]\n",
      "EP_train | train loss: 0.0013359806689074616 | val loss: 0.4880869002903209 |\n",
      "====\n",
      "Epoch:  98%|█████████▊| 195/200 [01:07<00:01,  2.92it/s]\n",
      "EP_train | train loss: 0.0016492296777227346 | val loss: 0.48138506973490996 |\n",
      "====\n",
      "Epoch:  98%|█████████▊| 196/200 [01:08<00:01,  2.89it/s]\n",
      "EP_train | train loss: 0.0014955532475332029 | val loss: 0.4893936456418505 |\n",
      "====\n",
      "Epoch:  98%|█████████▊| 197/200 [01:08<00:01,  2.91it/s]\n",
      "EP_train | train loss: 0.0011585007679358547 | val loss: 0.4857040059332754 |\n",
      "====\n",
      "Epoch:  99%|█████████▉| 198/200 [01:08<00:00,  2.90it/s]\n",
      "EP_train | train loss: 0.0017706404332566625 | val loss: 0.49219857010186885 |\n",
      "====\n",
      "Epoch: 100%|█████████▉| 199/200 [01:09<00:00,  2.92it/s]\n",
      "EP_train | train loss: 0.001380960126295848 | val loss: 0.479453911968306 |\n",
      "====\n",
      "Epoch: 100%|██████████| 200/200 [01:09<00:00,  2.88it/s]\n",
      "EP_train | train loss: 0.001150407012722461 | val loss: 0.48314998079748717 |\n",
      "\n"
     ]
    }
   ],
   "source": [
    "AttractiveTrainer.train()"
   ]
  },
  {
   "cell_type": "markdown",
   "metadata": {},
   "source": [
    "## for classification, not better"
   ]
  },
  {
   "cell_type": "markdown",
   "metadata": {},
   "source": [
    "## Below is testing"
   ]
  },
  {
   "cell_type": "code",
   "execution_count": 8,
   "metadata": {},
   "outputs": [
    {
     "output_type": "execute_result",
     "data": {
      "text/plain": [
       "AttractiveNet(\n",
       "  (embedding): AttractiveEmbedding(\n",
       "    (token): TokenEmbedding(11857, 300, padding_idx=1)\n",
       "  )\n",
       "  (bigramcnn): Sequential(\n",
       "    (0): Conv1d(300, 200, kernel_size=(3,), stride=(1,), padding=(1,))\n",
       "    (1): ReLU()\n",
       "    (2): Conv1d(200, 100, kernel_size=(3,), stride=(1,), padding=(1,))\n",
       "    (3): ReLU()\n",
       "  )\n",
       "  (trigramcnn): Sequential(\n",
       "    (0): Conv1d(300, 200, kernel_size=(3,), stride=(1,), padding=(1,))\n",
       "    (1): ReLU()\n",
       "    (2): Conv1d(200, 100, kernel_size=(3,), stride=(1,), padding=(1,))\n",
       "    (3): ReLU()\n",
       "  )\n",
       "  (encoder_bigram): LSTM(100, 30, batch_first=True, dropout=0.1, bidirectional=True)\n",
       "  (encoder_trigram): LSTM(100, 30, batch_first=True, dropout=0.1, bidirectional=True)\n",
       "  (linear): Sequential(\n",
       "    (0): Linear(in_features=120, out_features=30, bias=True)\n",
       "    (1): ReLU()\n",
       "    (2): Linear(in_features=30, out_features=1, bias=True)\n",
       "  )\n",
       ")"
      ]
     },
     "metadata": {},
     "execution_count": 8
    }
   ],
   "source": [
    "from attractivenet import AttractiveNet\n",
    "\n",
    "PATH = './model/CNN_LSTM_20201103-181740_0.4408.50'\n",
    "# PATH = './model/CNN_LSTM_20201103-181740_0.4408.50'\n",
    "# PATH = './model/CNN_LSTM_20201103-181044_0.4284.50'\n",
    "# PATH = './model/CNN_LSTM_20201103-174348_0.4127.70'\n",
    "# PATH = './model/CNN_LSTM_20201103-164620_0.3979.80'   # seems not good from statistics\n",
    "# PATH = './model/CNN_LSTM_20201103-163042_0.3972.70'\n",
    "# PATH = './model/CNN_LSTM_20201103-160026_0.4157.65'\n",
    "# PATH = './model/CNN_LSTM_20201103-150358_0.4101.70'\n",
    "\n",
    "load_model = AttractiveNet(config).to(AttractiveData.device)\n",
    "load_model.load_state_dict(torch.load(PATH))\n",
    "load_model.eval()"
   ]
  },
  {
   "cell_type": "code",
   "execution_count": 9,
   "metadata": {},
   "outputs": [],
   "source": [
    "def predict_attractive(sentence, category, phase):\n",
    "    indexed_sentence = [AttractiveData.TEXT.vocab.stoi[t] for t in sentence]\n",
    "    indexed_category = [AttractiveData.CATEGORIES_LABEL.vocab.stoi[category]]\n",
    "    tensor_sentence = torch.LongTensor(indexed_sentence).to(AttractiveData.device)\n",
    "    tensor_category = torch.LongTensor(indexed_category).to(AttractiveData.device)\n",
    "\n",
    "    tensor_sentence = tensor_sentence.unsqueeze(0)\n",
    "    # print(tensor_sentence.shape)\n",
    "\n",
    "    prediction = load_model(tensor_sentence, tensor_category, phase=phase)\n",
    "\n",
    "    return prediction"
   ]
  },
  {
   "cell_type": "code",
   "execution_count": 10,
   "metadata": {
    "tags": []
   },
   "outputs": [],
   "source": [
    "# train mean = 3.15, test mean = 2.8\n",
    "predict_list = []\n",
    "with torch.no_grad():\n",
    "    for i, sentence in enumerate(AttractiveData.test_data):\n",
    "        prediction = predict_attractive(sentence.Headline, sentence.Category, 'test')\n",
    "        predict_list.append(prediction.item())\n",
    "        # predict_list.append(prediction.item())\n",
    "AttractiveData.df_test['Label'] = predict_list\n",
    "AttractiveData.df_test[['ID', 'Label']].to_csv(config['save_name'] + '.csv', index=False)"
   ]
  },
  {
   "cell_type": "markdown",
   "metadata": {},
   "source": [
    "## Below for statistics"
   ]
  },
  {
   "cell_type": "code",
   "execution_count": 11,
   "metadata": {},
   "outputs": [],
   "source": [
    "import statistics\n",
    "from sklearn.metrics import mean_squared_error"
   ]
  },
  {
   "cell_type": "code",
   "execution_count": 12,
   "metadata": {},
   "outputs": [],
   "source": [
    "# # train mean = 3.15, test mean = 2.8\n",
    "# train_list = []\n",
    "# for i, sentence in enumerate(AttractiveData.train_data):\n",
    "#     prediction = predict_attractive(sentence.Headline, sentence.Category, 'train')\n",
    "#     train_list.append(prediction.item())\n",
    "#     # train_list.append(prediction.item())\n",
    "# # print(train_list)\n",
    "# mean_squared_error(pd.read_csv('data/train.csv').sort_values(['ID']).Label.to_list(), train_list), statistics.mean(train_list), statistics.stdev(train_list)"
   ]
  },
  {
   "cell_type": "code",
   "execution_count": 13,
   "metadata": {},
   "outputs": [],
   "source": [
    "# train_list[0:5], pd.read_csv('data/train.csv').sort_values(['ID']).Label.to_list()[0:5]"
   ]
  },
  {
   "cell_type": "code",
   "execution_count": 14,
   "metadata": {},
   "outputs": [],
   "source": [
    "# a = AttractiveData.df_train['Label'].to_list()\n",
    "# statistics.mean(a), statistics.stdev(a)"
   ]
  },
  {
   "cell_type": "code",
   "execution_count": 15,
   "metadata": {},
   "outputs": [
    {
     "output_type": "execute_result",
     "data": {
      "text/plain": [
       "(2.888150319128835, 0.233995790551284)"
      ]
     },
     "metadata": {},
     "execution_count": 15
    }
   ],
   "source": [
    "statistics.mean(predict_list), statistics.stdev(predict_list)"
   ]
  },
  {
   "cell_type": "code",
   "execution_count": 16,
   "metadata": {},
   "outputs": [
    {
     "output_type": "execute_result",
     "data": {
      "text/plain": [
       "(0.03968106143167088, 2.749250414087909, 0.21818948511921435)"
      ]
     },
     "metadata": {},
     "execution_count": 16
    }
   ],
   "source": [
    "baseline_list = pd.read_csv('baseline.csv').sort_values(['ID']).Label.to_list()\n",
    "mean_squared_error(baseline_list, predict_list), statistics.mean(baseline_list), statistics.stdev(baseline_list)"
   ]
  },
  {
   "cell_type": "code",
   "execution_count": null,
   "metadata": {},
   "outputs": [],
   "source": []
  },
  {
   "cell_type": "code",
   "execution_count": 17,
   "metadata": {},
   "outputs": [
    {
     "output_type": "execute_result",
     "data": {
      "text/plain": [
       "0.0"
      ]
     },
     "metadata": {},
     "execution_count": 17
    }
   ],
   "source": [
    "mean_squared_error(pd.read_csv('CNN_LSTM.csv').sort_values(['ID']).Label.to_list(), pd.read_csv('./predict/CNN_LSTM_20201103-181740_0.4408.50.csv').sort_values(['ID']).Label.to_list())"
   ]
  },
  {
   "cell_type": "code",
   "execution_count": null,
   "metadata": {},
   "outputs": [],
   "source": []
  }
 ],
 "metadata": {
  "kernelspec": {
   "display_name": "DS_hw2",
   "language": "python",
   "name": "ds_hw2"
  },
  "language_info": {
   "codemirror_mode": {
    "name": "ipython",
    "version": 3
   },
   "file_extension": ".py",
   "mimetype": "text/x-python",
   "name": "python",
   "nbconvert_exporter": "python",
   "pygments_lexer": "ipython3",
   "version": "3.6.12-final"
  }
 },
 "nbformat": 4,
 "nbformat_minor": 4
}