{
 "cells": [
  {
   "cell_type": "code",
   "execution_count": 1,
   "metadata": {},
   "outputs": [],
   "source": [
    "# common packages\n",
    "import pandas as pd\n",
    "import time\n",
    "\n",
    "# # DL framework\n",
    "import torch\n",
    "from torchtext import data\n",
    "\n",
    "from attractivedata import AttractiveData\n",
    "from trainer import AttractiveTrainer"
   ]
  },
  {
   "cell_type": "code",
   "execution_count": 2,
   "metadata": {},
   "outputs": [],
   "source": [
    "seed_value = 42\n",
    "torch.manual_seed(seed_value)\n",
    "torch.cuda.manual_seed(seed_value)\n",
    "torch.cuda.manual_seed_all(seed_value) # gpu vars\n",
    "torch.backends.cudnn.deterministic = True  #needed\n",
    "torch.backends.cudnn.benchmark = False"
   ]
  },
  {
   "cell_type": "markdown",
   "metadata": {},
   "source": [
    "# TODO: \n",
    "- [ ] cnn plus residual network\n",
    "- [ ] word embedding multiply tfidf\n",
    "- [ ] use word2vec"
   ]
  },
  {
   "cell_type": "markdown",
   "metadata": {},
   "source": [
    "## Load and prepare data"
   ]
  },
  {
   "cell_type": "code",
   "execution_count": 3,
   "metadata": {},
   "outputs": [],
   "source": [
    "train_file = 'data/train.csv'\n",
    "val_file = 'example/val.csv'\n",
    "test_file = 'data/test.csv'\n",
    "pretrained_file = 'glove.840B.300d'\n",
    "config = {\n",
    "    'max_seq': 40,\n",
    "    'min_freq': 0,\n",
    "    'batch_size': 64,\n",
    "    'pretrained_file': pretrained_file\n",
    "}\n"
   ]
  },
  {
   "cell_type": "code",
   "execution_count": 4,
   "metadata": {},
   "outputs": [],
   "source": [
    "AttractiveData = AttractiveData(train_file, val_file, test_file, pretrained_file, config)"
   ]
  },
  {
   "cell_type": "code",
   "execution_count": 5,
   "metadata": {},
   "outputs": [],
   "source": [
    "# for i, sentence in enumerate(AttractiveData.test_data):\n",
    "#     if i == 3:\n",
    "#         print(vars(AttractiveData.train_data[i]), vars(sentence))"
   ]
  },
  {
   "cell_type": "code",
   "execution_count": 6,
   "metadata": {},
   "outputs": [
    {
     "output_type": "execute_result",
     "data": {
      "text/plain": [
       "38"
      ]
     },
     "metadata": {},
     "execution_count": 6
    }
   ],
   "source": [
    "max_len = 0\n",
    "a = AttractiveData.train_data\n",
    "for i in range(len(a)):\n",
    "    if len(a[i].Headline) >= max_len:\n",
    "        max_len = len(a[i].Headline)\n",
    "max_len"
   ]
  },
  {
   "cell_type": "markdown",
   "metadata": {},
   "source": [
    "## Start to train"
   ]
  },
  {
   "cell_type": "code",
   "execution_count": 7,
   "metadata": {},
   "outputs": [
    {
     "output_type": "stream",
     "name": "stdout",
     "text": [
      "torch.Size([12699, 300])\n"
     ]
    }
   ],
   "source": [
    "config['timestr'] = time.strftime(\"%Y%m%d-%H%M%S\")\n",
    "config['save_name'] = 'CNN_LSTM'\n",
    "config['input_dim'] = len(AttractiveData.TEXT.vocab)\n",
    "config['embedding_dim'] = 300\n",
    "config['category_dim'] = len(AttractiveData.CATEGORIES_LABEL.vocab)\n",
    "config['category_embedding_dim'] = 10\n",
    "config['hidden_dim'] = 30\n",
    "config['output_dim'] = 1\n",
    "config['log_steps'] = 10\n",
    "config['epochs'] = 200\n",
    "config['lr'] = {\n",
    "    'encoder': 1e-5,\n",
    "    'embedding': 6e-6,\n",
    "    'linear': 1e-5\n",
    "}\n",
    "config['num_layers'] = 1\n",
    "config['kernel_size'] = 3\n",
    "config['dropout'] = 0.5\n",
    "config['train_len'] = AttractiveData.train_len\n",
    "config['val_len'] = AttractiveData.val_len\n",
    "config['test_len'] = AttractiveData.test_len\n",
    "\n",
    "pretrained_embeddings = AttractiveData.TEXT.vocab.vectors\n",
    "print(pretrained_embeddings.shape)"
   ]
  },
  {
   "cell_type": "code",
   "execution_count": 8,
   "metadata": {},
   "outputs": [],
   "source": [
    "AttractiveTrainer = AttractiveTrainer(config, AttractiveData.device, AttractiveData.trainloader, AttractiveData.valloader, pretrained_embeddings)"
   ]
  },
  {
   "cell_type": "code",
   "execution_count": 9,
   "metadata": {},
   "outputs": [
    {
     "output_type": "execute_result",
     "data": {
      "text/plain": [
       "(AttractiveNet(\n",
       "   (embedding): AttractiveEmbedding(\n",
       "     (token): TokenEmbedding(12699, 300, padding_idx=1)\n",
       "   )\n",
       "   (bigramcnn): Sequential(\n",
       "     (0): Conv1d(300, 210, kernel_size=(2,), stride=(1,), padding=(1,))\n",
       "     (1): ReLU()\n",
       "     (2): Conv1d(210, 100, kernel_size=(2,), stride=(1,), padding=(1,))\n",
       "     (3): ReLU()\n",
       "     (4): Dropout(p=0.5, inplace=False)\n",
       "   )\n",
       "   (trigramcnn): Sequential(\n",
       "     (0): Conv1d(300, 210, kernel_size=(3,), stride=(1,), padding=(1,))\n",
       "     (1): ReLU()\n",
       "     (2): Conv1d(210, 100, kernel_size=(3,), stride=(1,), padding=(1,))\n",
       "     (3): ReLU()\n",
       "     (4): Dropout(p=0.5, inplace=False)\n",
       "   )\n",
       "   (encoder_bigram): LSTM(100, 30, batch_first=True, dropout=0.5, bidirectional=True)\n",
       "   (encoder_trigram): LSTM(100, 30, batch_first=True, dropout=0.5, bidirectional=True)\n",
       "   (linear): Sequential(\n",
       "     (0): Linear(in_features=124, out_features=30, bias=True)\n",
       "     (1): ReLU()\n",
       "     (2): Linear(in_features=30, out_features=1, bias=True)\n",
       "   )\n",
       " ),\n",
       " 4297461,\n",
       " 4297461)"
      ]
     },
     "metadata": {},
     "execution_count": 9
    }
   ],
   "source": [
    "AttractiveTrainer.model, AttractiveTrainer.config['total_params'], AttractiveTrainer.config['total_learned_params']"
   ]
  },
  {
   "cell_type": "code",
   "execution_count": 10,
   "metadata": {
    "tags": [
     "outputPrepend"
    ]
   },
   "outputs": [
    {
     "output_type": "stream",
     "name": "stderr",
     "text": [
      "635 |\n",
      "Epoch:  24%|██▍       | 48/200 [00:18<00:58,  2.60it/s]\n",
      "EP_47 | train loss: 0.45545593617009184 | val loss: 0.39826900234409407 |\n",
      "Epoch:  24%|██▍       | 49/200 [00:19<00:58,  2.57it/s]\n",
      "EP_48 | train loss: 0.4469042319877475 | val loss: 0.388227421279047 |\n",
      "Epoch:  25%|██▌       | 50/200 [00:19<00:58,  2.56it/s]\n",
      "EP_49 | train loss: 0.44375235894147086 | val loss: 0.38333048773746864 |\n",
      "Epoch:  26%|██▌       | 51/200 [00:20<00:58,  2.53it/s]\n",
      "EP_50 | train loss: 0.4508161610248042 | val loss: 0.38970740285574224 |\n",
      "Epoch:  26%|██▌       | 52/200 [00:20<00:58,  2.54it/s]\n",
      "EP_51 | train loss: 0.43795937276354024 | val loss: 0.3738701290944043 |\n",
      "Epoch:  26%|██▋       | 53/200 [00:20<00:58,  2.53it/s]\n",
      "EP_52 | train loss: 0.4339805350584142 | val loss: 0.36712559181101184 |\n",
      "Epoch:  27%|██▋       | 54/200 [00:21<00:57,  2.55it/s]\n",
      "EP_53 | train loss: 0.43128203784718233 | val loss: 0.36321889419181674 |\n",
      "Epoch:  28%|██▊       | 55/200 [00:21<00:57,  2.53it/s]\n",
      "EP_54 | train loss: 0.4406500404956294 | val loss: 0.3755895413604437 |\n",
      "Epoch:  28%|██▊       | 56/200 [00:22<00:57,  2.49it/s]\n",
      "EP_55 | train loss: 0.4300295025694604 | val loss: 0.35911138677129556 |\n",
      "Epoch:  28%|██▊       | 57/200 [00:22<00:56,  2.51it/s]\n",
      "EP_56 | train loss: 0.4269465381023931 | val loss: 0.35822952261158064 |\n",
      "Epoch:  29%|██▉       | 58/200 [00:22<00:56,  2.53it/s]\n",
      "EP_57 | train loss: 0.42527958645540126 | val loss: 0.3561518069575815 |\n",
      "Epoch:  30%|██▉       | 59/200 [00:23<00:55,  2.54it/s]\n",
      "EP_58 | train loss: 0.43262800609364227 | val loss: 0.36308510572302577 |\n",
      "Epoch:  30%|███       | 60/200 [00:23<00:54,  2.55it/s]\n",
      "EP_59 | train loss: 0.41840511209824505 | val loss: 0.34623795630885107 |\n",
      "Epoch:  30%|███       | 61/200 [00:23<00:55,  2.51it/s]\n",
      "EP_60 | train loss: 0.4270396634644153 | val loss: 0.359422716439939 |\n",
      "Epoch:  31%|███       | 62/200 [00:24<00:54,  2.53it/s]\n",
      "EP_61 | train loss: 0.4189152240753174 | val loss: 0.34751320235869465 |\n",
      "Epoch:  32%|███▏      | 63/200 [00:24<00:54,  2.54it/s]\n",
      "EP_62 | train loss: 0.4140969257728726 | val loss: 0.3437343344968908 |\n",
      "Epoch:  32%|███▏      | 64/200 [00:25<00:53,  2.55it/s]\n",
      "EP_63 | train loss: 0.4155665397644043 | val loss: 0.3458420955667309 |\n",
      "Epoch:  32%|███▎      | 65/200 [00:25<00:53,  2.53it/s]\n",
      "EP_64 | train loss: 0.4080854621588015 | val loss: 0.33740462333548304 |\n",
      "Epoch:  33%|███▎      | 66/200 [00:25<00:53,  2.51it/s]\n",
      "EP_65 | train loss: 0.41859636867747585 | val loss: 0.35057708679461014 |\n",
      "Epoch:  34%|███▎      | 67/200 [00:26<00:52,  2.53it/s]\n",
      "EP_66 | train loss: 0.407073881111893 | val loss: 0.3375583513110292 |\n",
      "Epoch:  34%|███▍      | 68/200 [00:26<00:51,  2.55it/s]\n",
      "EP_67 | train loss: 0.41610259074790806 | val loss: 0.3480685382497077 |\n",
      "Epoch:  34%|███▍      | 69/200 [00:27<00:51,  2.56it/s]\n",
      "EP_68 | train loss: 0.40666755133984134 | val loss: 0.33850648823906393 |\n",
      "Epoch:  35%|███▌      | 70/200 [00:27<00:50,  2.57it/s]\n",
      "EP_69 | train loss: 0.39707407296872604 | val loss: 0.32894979797157586 |\n",
      "Epoch:  36%|███▌      | 71/200 [00:27<00:50,  2.54it/s]\n",
      "EP_70 | train loss: 0.3953412373860677 | val loss: 0.32937540143143895 |\n",
      "Epoch:  36%|███▌      | 72/200 [00:28<00:50,  2.56it/s]\n",
      "EP_71 | train loss: 0.40082868033764407 | val loss: 0.33618875695209877 |\n",
      "Epoch:  36%|███▋      | 73/200 [00:28<00:49,  2.56it/s]\n",
      "EP_72 | train loss: 0.3928709974475935 | val loss: 0.3300296395432715 |\n",
      "Epoch:  37%|███▋      | 74/200 [00:29<00:49,  2.55it/s]\n",
      "EP_73 | train loss: 0.39796725534925276 | val loss: 0.33685872075604456 |\n",
      "Epoch:  38%|███▊      | 75/200 [00:29<00:48,  2.55it/s]\n",
      "EP_74 | train loss: 0.38909767936257755 | val loss: 0.3276514802493301 |\n",
      "Epoch:  38%|███▊      | 76/200 [00:29<00:49,  2.52it/s]\n",
      "EP_75 | train loss: 0.38802438623764934 | val loss: 0.327801420992496 |\n",
      "Epoch:  38%|███▊      | 77/200 [00:30<00:48,  2.53it/s]\n",
      "EP_76 | train loss: 0.38499309782888375 | val loss: 0.3244253800195806 |\n",
      "Epoch:  39%|███▉      | 78/200 [00:30<00:48,  2.54it/s]\n",
      "EP_77 | train loss: 0.3805001838534486 | val loss: 0.3235592620045531 |\n",
      "Epoch:  40%|███▉      | 79/200 [00:31<00:47,  2.54it/s]\n",
      "EP_78 | train loss: 0.37766153718910966 | val loss: 0.32134224562083974 |\n",
      "Epoch:  40%|████      | 80/200 [00:31<00:46,  2.55it/s]\n",
      "EP_79 | train loss: 0.377030863013922 | val loss: 0.3192444227489771 |\n",
      "Epoch:  40%|████      | 81/200 [00:31<00:47,  2.52it/s]\n",
      "EP_80 | train loss: 0.37662671126571357 | val loss: 0.32191652176426905 |\n",
      "Epoch:  41%|████      | 82/200 [00:32<00:46,  2.54it/s]\n",
      "EP_81 | train loss: 0.3712084915123734 | val loss: 0.3166303009379144 |\n",
      "Epoch:  42%|████▏     | 83/200 [00:32<00:45,  2.54it/s]\n",
      "EP_82 | train loss: 0.3695293407814175 | val loss: 0.3170112838932112 |\n",
      "Epoch:  42%|████▏     | 84/200 [00:33<00:45,  2.55it/s]\n",
      "EP_83 | train loss: 0.3699169808743047 | val loss: 0.31831637200187235 |\n",
      "Epoch:  42%|████▎     | 85/200 [00:33<00:45,  2.55it/s]\n",
      "EP_84 | train loss: 0.36571977559257957 | val loss: 0.3148011921667585 |\n",
      "Epoch:  43%|████▎     | 86/200 [00:33<00:45,  2.51it/s]\n",
      "EP_85 | train loss: 0.361162675595751 | val loss: 0.3134861997529572 |\n",
      "Epoch:  44%|████▎     | 87/200 [00:34<00:44,  2.54it/s]\n",
      "EP_86 | train loss: 0.36288745870777206 | val loss: 0.31495968383901257 |\n",
      "Epoch:  44%|████▍     | 88/200 [00:34<00:44,  2.53it/s]\n",
      "EP_87 | train loss: 0.35536292674494724 | val loss: 0.3101144672608843 |\n",
      "Epoch:  44%|████▍     | 89/200 [00:35<00:43,  2.53it/s]\n",
      "EP_88 | train loss: 0.35546151796976727 | val loss: 0.30942438221445273 |\n",
      "Epoch:  45%|████▌     | 90/200 [00:35<00:43,  2.54it/s]\n",
      "EP_89 | train loss: 0.35277671439974917 | val loss: 0.30873503521376966 |\n",
      "Epoch:  46%|████▌     | 91/200 [00:35<00:43,  2.52it/s]\n",
      "EP_90 | train loss: 0.36642042141334685 | val loss: 0.3199414464772916 |\n",
      "Epoch:  46%|████▌     | 92/200 [00:36<00:42,  2.52it/s]\n",
      "EP_91 | train loss: 0.3438744764701993 | val loss: 0.3046482947527194 |\n",
      "Epoch:  46%|████▋     | 93/200 [00:36<00:42,  2.51it/s]\n",
      "EP_92 | train loss: 0.34884332114574956 | val loss: 0.3083710740594303 |\n",
      "Epoch:  47%|████▋     | 94/200 [00:37<00:42,  2.52it/s]\n",
      "EP_93 | train loss: 0.3423007175034168 | val loss: 0.302821148259967 |\n",
      "Epoch:  48%|████▊     | 95/200 [00:37<00:41,  2.53it/s]\n",
      "EP_94 | train loss: 0.3338107609281353 | val loss: 0.2972891786519219 |\n",
      "Epoch:  48%|████▊     | 96/200 [00:37<00:41,  2.50it/s]\n",
      "EP_95 | train loss: 0.3340208895066205 | val loss: 0.2964211795844284 |\n",
      "Epoch:  48%|████▊     | 97/200 [00:38<00:41,  2.51it/s]\n",
      "EP_96 | train loss: 0.336036072992811 | val loss: 0.299176202100866 |\n",
      "Epoch:  49%|████▉     | 98/200 [00:38<00:40,  2.54it/s]\n",
      "EP_97 | train loss: 0.3328885321523629 | val loss: 0.2967994779932733 |\n",
      "Epoch:  50%|████▉     | 99/200 [00:38<00:39,  2.56it/s]\n",
      "EP_98 | train loss: 0.32783115798351814 | val loss: 0.2947646975517273 |\n",
      "Epoch:  50%|█████     | 100/200 [00:39<00:38,  2.57it/s]\n",
      "EP_99 | train loss: 0.32319129495059745 | val loss: 0.2921516018755296 |\n",
      "Epoch:  50%|█████     | 101/200 [00:39<00:38,  2.55it/s]\n",
      "EP_100 | train loss: 0.3160078492819094 | val loss: 0.2883007964667152 |\n",
      "Epoch:  51%|█████     | 102/200 [00:40<00:38,  2.57it/s]\n",
      "EP_101 | train loss: 0.3378953947740443 | val loss: 0.30370648935729383 |\n",
      "Epoch:  52%|█████▏    | 103/200 [00:40<00:37,  2.57it/s]\n",
      "EP_102 | train loss: 0.3216402493271173 | val loss: 0.2900005719240974 |\n",
      "Epoch:  52%|█████▏    | 104/200 [00:40<00:37,  2.56it/s]\n",
      "EP_103 | train loss: 0.31981506908641144 | val loss: 0.29025884235606475 |\n",
      "Epoch:  52%|█████▎    | 105/200 [00:41<00:37,  2.55it/s]\n",
      "EP_104 | train loss: 0.3008910599876853 | val loss: 0.27745581257577034 |\n",
      "Epoch:  53%|█████▎    | 106/200 [00:41<00:37,  2.51it/s]\n",
      "EP_105 | train loss: 0.3038795681560741 | val loss: 0.2795286213650423 |\n",
      "Epoch:  54%|█████▎    | 107/200 [00:42<00:36,  2.52it/s]\n",
      "EP_106 | train loss: 0.2957419914357802 | val loss: 0.2747471613042495 |\n",
      "Epoch:  54%|█████▍    | 108/200 [00:42<00:36,  2.54it/s]\n",
      "EP_107 | train loss: 0.30676651421715234 | val loss: 0.27959990559839737 |\n",
      "Epoch:  55%|█████▍    | 109/200 [00:42<00:35,  2.55it/s]\n",
      "EP_108 | train loss: 0.29202300099765555 | val loss: 0.2703596447028366 |\n",
      "Epoch:  55%|█████▌    | 110/200 [00:43<00:35,  2.57it/s]\n",
      "EP_109 | train loss: 0.2953024761349547 | val loss: 0.2720052728465959 |\n",
      "Epoch:  56%|█████▌    | 111/200 [00:43<00:36,  2.46it/s]\n",
      "EP_110 | train loss: 0.289396855877895 | val loss: 0.2676176200894749 |\n",
      "Epoch:  56%|█████▌    | 112/200 [00:44<00:35,  2.48it/s]\n",
      "EP_111 | train loss: 0.2777402363571466 | val loss: 0.2606793992659625 |\n",
      "Epoch:  56%|█████▋    | 113/200 [00:44<00:34,  2.51it/s]\n",
      "EP_112 | train loss: 0.2757280700347003 | val loss: 0.25727279571925893 |\n",
      "Epoch:  57%|█████▋    | 114/200 [00:44<00:34,  2.50it/s]\n",
      "EP_113 | train loss: 0.27140426869485895 | val loss: 0.2542993718502568 |\n",
      "Epoch:  57%|█████▊    | 115/200 [00:45<00:33,  2.50it/s]\n",
      "EP_114 | train loss: 0.26864094734191896 | val loss: 0.2551264908968234 |\n",
      "Epoch:  58%|█████▊    | 116/200 [00:45<00:33,  2.49it/s]\n",
      "EP_115 | train loss: 0.2691184128032011 | val loss: 0.2511803174720091 |\n",
      "Epoch:  58%|█████▊    | 117/200 [00:46<00:33,  2.51it/s]\n",
      "EP_116 | train loss: 0.26571318168266145 | val loss: 0.2486411543453441 |\n",
      "Epoch:  59%|█████▉    | 118/200 [00:46<00:32,  2.52it/s]\n",
      "EP_117 | train loss: 0.25322047588871976 | val loss: 0.24216298496021943 |\n",
      "Epoch:  60%|█████▉    | 119/200 [00:46<00:31,  2.54it/s]\n",
      "EP_118 | train loss: 0.25436049208921546 | val loss: 0.23899550589860655 |\n",
      "Epoch:  60%|██████    | 120/200 [00:47<00:31,  2.55it/s]\n",
      "EP_119 | train loss: 0.26690390203513353 | val loss: 0.24511800443424897 |\n",
      "Epoch:  60%|██████    | 121/200 [00:47<00:31,  2.51it/s]\n",
      "EP_120 | train loss: 0.24339933582380707 | val loss: 0.23240902961469165 |\n",
      "Epoch:  61%|██████    | 122/200 [00:48<00:30,  2.52it/s]\n",
      "EP_121 | train loss: 0.24173025336920045 | val loss: 0.22932257021174712 |\n",
      "Epoch:  62%|██████▏   | 123/200 [00:48<00:30,  2.53it/s]\n",
      "EP_122 | train loss: 0.23276509350421382 | val loss: 0.2277035397641799 |\n",
      "Epoch:  62%|██████▏   | 124/200 [00:48<00:29,  2.55it/s]\n",
      "EP_123 | train loss: 0.23174283504486085 | val loss: 0.223332193552279 |\n",
      "Epoch:  62%|██████▎   | 125/200 [00:49<00:29,  2.55it/s]\n",
      "EP_124 | train loss: 0.24074385727153105 | val loss: 0.22252187015963534 |\n",
      "Epoch:  63%|██████▎   | 126/200 [00:49<00:29,  2.52it/s]\n",
      "EP_125 | train loss: 0.25107353014104505 | val loss: 0.22825539579578474 |\n",
      "Epoch:  64%|██████▎   | 127/200 [00:50<00:29,  2.51it/s]\n",
      "EP_126 | train loss: 0.23664834733102835 | val loss: 0.21752376883637672 |\n",
      "Epoch:  64%|██████▍   | 128/200 [00:50<00:28,  2.52it/s]\n",
      "EP_127 | train loss: 0.22810571240443808 | val loss: 0.21202703200134576 |\n",
      "Epoch:  64%|██████▍   | 129/200 [00:50<00:28,  2.53it/s]\n",
      "EP_128 | train loss: 0.2350587564356187 | val loss: 0.21524638755648745 |\n",
      "Epoch:  65%|██████▌   | 130/200 [00:51<00:27,  2.55it/s]\n",
      "EP_129 | train loss: 0.21159875696780636 | val loss: 0.19975304194525176 |\n",
      "Epoch:  66%|██████▌   | 131/200 [00:51<00:27,  2.51it/s]\n",
      "EP_130 | train loss: 0.1995713612612556 | val loss: 0.19641446249157773 |\n",
      "Epoch:  66%|██████▌   | 132/200 [00:52<00:26,  2.53it/s]\n",
      "EP_131 | train loss: 0.19667481113882626 | val loss: 0.1974882109492433 |\n",
      "Epoch:  66%|██████▋   | 133/200 [00:52<00:26,  2.53it/s]\n",
      "EP_132 | train loss: 0.2048942477095361 | val loss: 0.1919835361779905 |\n",
      "Epoch:  67%|██████▋   | 134/200 [00:52<00:26,  2.53it/s]\n",
      "EP_133 | train loss: 0.19226627396602256 | val loss: 0.1853206502456291 |\n",
      "Epoch:  68%|██████▊   | 135/200 [00:53<00:25,  2.53it/s]\n",
      "EP_134 | train loss: 0.19901388486226398 | val loss: 0.18472563636069203 |\n",
      "Epoch:  68%|██████▊   | 136/200 [00:53<00:25,  2.51it/s]\n",
      "EP_135 | train loss: 0.1822746389052447 | val loss: 0.17313581821965238 |\n",
      "Epoch:  68%|██████▊   | 137/200 [00:54<00:25,  2.51it/s]\n",
      "EP_136 | train loss: 0.18369368899102304 | val loss: 0.17407693874602223 |\n",
      "Epoch:  69%|██████▉   | 138/200 [00:54<00:24,  2.52it/s]\n",
      "EP_137 | train loss: 0.1890547373715569 | val loss: 0.17289892481822594 |\n",
      "Epoch:  70%|██████▉   | 139/200 [00:54<00:24,  2.53it/s]\n",
      "EP_138 | train loss: 0.16982385668100095 | val loss: 0.16272433248220705 |\n",
      "Epoch:  70%|███████   | 140/200 [00:55<00:23,  2.53it/s]\n",
      "EP_139 | train loss: 0.16124591032663982 | val loss: 0.15551479540619195 |\n",
      "Epoch:  70%|███████   | 141/200 [00:55<00:23,  2.48it/s]\n",
      "EP_140 | train loss: 0.15913255425060496 | val loss: 0.15178816049706703 |\n",
      "Epoch:  71%|███████   | 142/200 [00:56<00:23,  2.49it/s]\n",
      "EP_141 | train loss: 0.1547402545517566 | val loss: 0.14707696204091988 |\n",
      "Epoch:  72%|███████▏  | 143/200 [00:56<00:22,  2.50it/s]\n",
      "EP_142 | train loss: 0.17007441357070324 | val loss: 0.1540480185957516 |\n",
      "Epoch:  72%|███████▏  | 144/200 [00:56<00:22,  2.50it/s]\n",
      "EP_143 | train loss: 0.14305674983005898 | val loss: 0.13973321634180405 |\n",
      "Epoch:  72%|███████▎  | 145/200 [00:57<00:21,  2.50it/s]\n",
      "EP_144 | train loss: 0.13745896933125515 | val loss: 0.1372653625759424 |\n",
      "Epoch:  73%|███████▎  | 146/200 [00:57<00:21,  2.47it/s]\n",
      "EP_145 | train loss: 0.13380944050994573 | val loss: 0.1325230972439635 |\n",
      "Epoch:  74%|███████▎  | 147/200 [00:58<00:21,  2.49it/s]\n",
      "EP_146 | train loss: 0.1301053107953539 | val loss: 0.12414574389364205 |\n",
      "Epoch:  74%|███████▍  | 148/200 [00:58<00:20,  2.50it/s]\n",
      "EP_147 | train loss: 0.12575052485746496 | val loss: 0.12152759350982367 |\n",
      "Epoch:  74%|███████▍  | 149/200 [00:58<00:20,  2.51it/s]\n",
      "EP_148 | train loss: 0.12938196518841913 | val loss: 0.1188974053251977 |\n",
      "Epoch:  75%|███████▌  | 150/200 [00:59<00:19,  2.52it/s]\n",
      "EP_149 | train loss: 0.14262183203416712 | val loss: 0.12530536102313622 |\n",
      "Epoch:  76%|███████▌  | 151/200 [00:59<00:20,  2.43it/s]\n",
      "EP_150 | train loss: 0.12360664255478802 | val loss: 0.11212378331259185 |\n",
      "Epoch:  76%|███████▌  | 152/200 [01:00<00:19,  2.42it/s]\n",
      "EP_151 | train loss: 0.11942802620869057 | val loss: 0.11073687789486904 |\n",
      "Epoch:  76%|███████▋  | 153/200 [01:00<00:19,  2.39it/s]\n",
      "EP_152 | train loss: 0.10911460904514088 | val loss: 0.10481406134717605 |\n",
      "Epoch:  77%|███████▋  | 154/200 [01:00<00:19,  2.40it/s]\n",
      "EP_153 | train loss: 0.10463221283519969 | val loss: 0.10217032566958782 |\n",
      "Epoch:  78%|███████▊  | 155/200 [01:01<00:18,  2.42it/s]\n",
      "EP_154 | train loss: 0.10211758005852793 | val loss: 0.09774579253851198 |\n",
      "Epoch:  78%|███████▊  | 156/200 [01:01<00:18,  2.39it/s]\n",
      "EP_155 | train loss: 0.10038452989914838 | val loss: 0.10508578781988107 |\n",
      "Epoch:  78%|███████▊  | 157/200 [01:02<00:18,  2.38it/s]\n",
      "EP_156 | train loss: 0.10079834741704605 | val loss: 0.09425435814203001 |\n",
      "Epoch:  79%|███████▉  | 158/200 [01:02<00:17,  2.36it/s]\n",
      "EP_157 | train loss: 0.1127372521980136 | val loss: 0.10300387938817342 |\n",
      "Epoch:  80%|███████▉  | 159/200 [01:03<00:17,  2.39it/s]\n",
      "EP_158 | train loss: 0.0877480759340174 | val loss: 0.08463372903711655 |\n",
      "Epoch:  80%|████████  | 160/200 [01:03<00:16,  2.41it/s]\n",
      "EP_159 | train loss: 0.08182498450372733 | val loss: 0.08346833347105513 |\n",
      "Epoch:  80%|████████  | 161/200 [01:03<00:16,  2.36it/s]\n",
      "EP_160 | train loss: 0.08113417660488802 | val loss: 0.07843363577244329 |\n",
      "Epoch:  81%|████████  | 162/200 [01:04<00:16,  2.36it/s]\n",
      "EP_161 | train loss: 0.07645120901219984 | val loss: 0.08124720670428931 |\n",
      "Epoch:  82%|████████▏ | 163/200 [01:04<00:15,  2.37it/s]\n",
      "EP_162 | train loss: 0.07439165501033558 | val loss: 0.08054234116685156 |\n",
      "Epoch:  82%|████████▏ | 164/200 [01:05<00:15,  2.34it/s]\n",
      "EP_163 | train loss: 0.07272619336259131 | val loss: 0.07980824568692375 |\n",
      "Epoch:  82%|████████▎ | 165/200 [01:05<00:14,  2.37it/s]\n",
      "EP_164 | train loss: 0.06795047802083633 | val loss: 0.07212632427028581 |\n",
      "Epoch:  83%|████████▎ | 166/200 [01:05<00:14,  2.37it/s]\n",
      "EP_165 | train loss: 0.07494921625829211 | val loss: 0.07162634765400606 |\n",
      "Epoch:  84%|████████▎ | 167/200 [01:06<00:13,  2.40it/s]\n",
      "EP_166 | train loss: 0.06314904432670743 | val loss: 0.06492935267149233 |\n",
      "Epoch:  84%|████████▍ | 168/200 [01:06<00:13,  2.40it/s]\n",
      "EP_167 | train loss: 0.0722543475674648 | val loss: 0.06828396694332946 |\n",
      "Epoch:  84%|████████▍ | 169/200 [01:07<00:12,  2.41it/s]\n",
      "EP_168 | train loss: 0.05770089497753218 | val loss: 0.060681827950711344 |\n",
      "Epoch:  85%|████████▌ | 170/200 [01:07<00:12,  2.44it/s]\n",
      "EP_169 | train loss: 0.058910386585721786 | val loss: 0.05864832973947712 |\n",
      "Epoch:  86%|████████▌ | 171/200 [01:08<00:11,  2.42it/s]\n",
      "EP_170 | train loss: 0.05825719354199428 | val loss: 0.0562267145689796 |\n",
      "Epoch:  86%|████████▌ | 172/200 [01:08<00:11,  2.43it/s]\n",
      "EP_171 | train loss: 0.06241132009263132 | val loss: 0.060663960727990844 |\n",
      "Epoch:  86%|████████▋ | 173/200 [01:08<00:11,  2.44it/s]\n",
      "EP_172 | train loss: 0.05080070367046431 | val loss: 0.05578107781269971 |\n",
      "Epoch:  87%|████████▋ | 174/200 [01:09<00:10,  2.43it/s]\n",
      "EP_173 | train loss: 0.05504472758255753 | val loss: 0.054350866114392 |\n",
      "Epoch:  88%|████████▊ | 175/200 [01:09<00:10,  2.43it/s]\n",
      "EP_174 | train loss: 0.04710579567095813 | val loss: 0.049866116514392926 |\n",
      "Epoch:  88%|████████▊ | 176/200 [01:10<00:09,  2.43it/s]\n",
      "EP_175 | train loss: 0.0501647984864665 | val loss: 0.05009678312960793 |\n",
      "Epoch:  88%|████████▊ | 177/200 [01:10<00:09,  2.46it/s]\n",
      "EP_176 | train loss: 0.047210028007918715 | val loss: 0.052580390052468166 |\n",
      "Epoch:  89%|████████▉ | 178/200 [01:10<00:08,  2.48it/s]\n",
      "EP_177 | train loss: 0.04528518038637498 | val loss: 0.051977884827875624 |\n",
      "Epoch:  90%|████████▉ | 179/200 [01:11<00:08,  2.50it/s]\n",
      "EP_178 | train loss: 0.04396402450168834 | val loss: 0.04472823879298042 |\n",
      "Epoch:  90%|█████████ | 180/200 [01:11<00:07,  2.51it/s]\n",
      "EP_179 | train loss: 0.07353005724794724 | val loss: 0.06902804795433493 |\n",
      "Epoch:  90%|█████████ | 181/200 [01:12<00:07,  2.49it/s]\n",
      "EP_180 | train loss: 0.04682351806584527 | val loss: 0.04477541236316457 |\n",
      "Epoch:  91%|█████████ | 182/200 [01:12<00:07,  2.50it/s]\n",
      "EP_181 | train loss: 0.03726442129004235 | val loss: 0.04254358627048193 |\n",
      "Epoch:  92%|█████████▏| 183/200 [01:12<00:06,  2.51it/s]\n",
      "EP_182 | train loss: 0.05897857009195814 | val loss: 0.05398715068312252 |\n",
      "Epoch:  92%|█████████▏| 184/200 [01:13<00:06,  2.52it/s]\n",
      "EP_183 | train loss: 0.040590597718369724 | val loss: 0.03919688305434059 |\n",
      "Epoch:  92%|█████████▎| 185/200 [01:13<00:05,  2.52it/s]\n",
      "EP_184 | train loss: 0.03543628506800708 | val loss: 0.03564739709391313 |\n",
      "Epoch:  93%|█████████▎| 186/200 [01:14<00:05,  2.48it/s]\n",
      "EP_185 | train loss: 0.03300076603305106 | val loss: 0.03427816123939028 |\n",
      "Epoch:  94%|█████████▎| 187/200 [01:14<00:05,  2.47it/s]\n",
      "EP_186 | train loss: 0.03659135097382115 | val loss: 0.03695315020341499 |\n",
      "Epoch:  94%|█████████▍| 188/200 [01:14<00:04,  2.46it/s]\n",
      "EP_187 | train loss: 0.03121235563474543 | val loss: 0.03223174138396394 |\n",
      "Epoch:  94%|█████████▍| 189/200 [01:15<00:04,  2.46it/s]\n",
      "EP_188 | train loss: 0.0310853032504811 | val loss: 0.031987898343918374 |\n",
      "Epoch:  95%|█████████▌| 190/200 [01:15<00:04,  2.47it/s]\n",
      "EP_189 | train loss: 0.02983084969660815 | val loss: 0.031512902647841214 |\n",
      "Epoch:  96%|█████████▌| 191/200 [01:16<00:03,  2.44it/s]\n",
      "EP_190 | train loss: 0.03425833612096076 | val loss: 0.033741901756501665 |\n",
      "Epoch:  96%|█████████▌| 192/200 [01:16<00:03,  2.45it/s]\n",
      "EP_191 | train loss: 0.04637600534102496 | val loss: 0.041539899858773925 |\n",
      "Epoch:  96%|█████████▋| 193/200 [01:16<00:02,  2.45it/s]\n",
      "EP_192 | train loss: 0.03606963134279438 | val loss: 0.03311976059979083 |\n",
      "Epoch:  97%|█████████▋| 194/200 [01:17<00:02,  2.45it/s]\n",
      "EP_193 | train loss: 0.034060060568884304 | val loss: 0.03146161314319162 |\n",
      "Epoch:  98%|█████████▊| 195/200 [01:17<00:02,  2.46it/s]\n",
      "EP_194 | train loss: 0.024277244449830523 | val loss: 0.02872393470184476 |\n",
      "Epoch:  98%|█████████▊| 196/200 [01:18<00:01,  2.43it/s]\n",
      "EP_195 | train loss: 0.0234771775264366 | val loss: 0.028593693878136428 |\n",
      "Epoch:  98%|█████████▊| 197/200 [01:18<00:01,  2.43it/s]\n",
      "EP_196 | train loss: 0.02749013500470741 | val loss: 0.026364921793049455 |\n",
      "Epoch:  99%|█████████▉| 198/200 [01:18<00:00,  2.43it/s]\n",
      "EP_197 | train loss: 0.03658145847273808 | val loss: 0.03230720115642922 |\n",
      "Epoch: 100%|█████████▉| 199/200 [01:19<00:00,  2.44it/s]\n",
      "EP_198 | train loss: 0.02487644886269289 | val loss: 0.024532246531224718 |\n",
      "Epoch: 100%|██████████| 200/200 [01:19<00:00,  2.51it/s]\n",
      "EP_199 | train loss: 0.02598289105237699 | val loss: 0.02518600035531848 |\n",
      "\n"
     ]
    }
   ],
   "source": [
    "AttractiveTrainer.train()"
   ]
  },
  {
   "cell_type": "markdown",
   "metadata": {},
   "source": [
    "## for classification, not better"
   ]
  },
  {
   "cell_type": "markdown",
   "metadata": {},
   "source": [
    "## Below is testing"
   ]
  },
  {
   "cell_type": "code",
   "execution_count": 8,
   "metadata": {},
   "outputs": [
    {
     "output_type": "execute_result",
     "data": {
      "text/plain": [
       "AttractiveNet(\n",
       "  (embedding): AttractiveEmbedding(\n",
       "    (token): TokenEmbedding(12699, 300, padding_idx=1)\n",
       "  )\n",
       "  (bigramcnn): Sequential(\n",
       "    (0): Conv1d(300, 210, kernel_size=(2,), stride=(1,), padding=(1,))\n",
       "    (1): ReLU()\n",
       "    (2): Conv1d(210, 100, kernel_size=(2,), stride=(1,), padding=(1,))\n",
       "    (3): ReLU()\n",
       "    (4): Dropout(p=0.5, inplace=False)\n",
       "  )\n",
       "  (trigramcnn): Sequential(\n",
       "    (0): Conv1d(300, 210, kernel_size=(3,), stride=(1,), padding=(1,))\n",
       "    (1): ReLU()\n",
       "    (2): Conv1d(210, 100, kernel_size=(3,), stride=(1,), padding=(1,))\n",
       "    (3): ReLU()\n",
       "    (4): Dropout(p=0.5, inplace=False)\n",
       "  )\n",
       "  (encoder_bigram): LSTM(100, 30, batch_first=True, dropout=0.5, bidirectional=True)\n",
       "  (encoder_trigram): LSTM(100, 30, batch_first=True, dropout=0.5, bidirectional=True)\n",
       "  (linear): Sequential(\n",
       "    (0): Linear(in_features=124, out_features=30, bias=True)\n",
       "    (1): ReLU()\n",
       "    (2): Linear(in_features=30, out_features=1, bias=True)\n",
       "  )\n",
       ")"
      ]
     },
     "metadata": {},
     "execution_count": 8
    }
   ],
   "source": [
    "from attractivenet import AttractiveNet\n",
    "\n",
    "PATH = './model/CNN_LSTM_20201107-170159/0.361163.85'\n",
    "\n",
    "load_model = AttractiveNet(config).to(AttractiveData.device)\n",
    "load_model.load_state_dict(torch.load(PATH))\n",
    "load_model.eval()"
   ]
  },
  {
   "cell_type": "code",
   "execution_count": 9,
   "metadata": {},
   "outputs": [],
   "source": [
    "def predict_attractive(sentence, category, phase):\n",
    "    indexed_sentence = [AttractiveData.TEXT.vocab.stoi[t] for t in sentence]\n",
    "    indexed_category = [AttractiveData.CATEGORIES_LABEL.vocab.stoi[category]]\n",
    "    tensor_sentence = torch.LongTensor(indexed_sentence).to(AttractiveData.device)\n",
    "    tensor_category = torch.LongTensor(indexed_category).to(AttractiveData.device)\n",
    "\n",
    "    tensor_sentence = tensor_sentence.unsqueeze(0)\n",
    "    # print(tensor_sentence.shape)\n",
    "\n",
    "    prediction = load_model(tensor_sentence, tensor_category, phase=phase)\n",
    "\n",
    "    return prediction"
   ]
  },
  {
   "cell_type": "code",
   "execution_count": 10,
   "metadata": {
    "tags": []
   },
   "outputs": [],
   "source": [
    "# train mean = 3.15, test mean = 2.8\n",
    "predict_list = []\n",
    "with torch.no_grad():\n",
    "    for i, sentence in enumerate(AttractiveData.test_data):\n",
    "        prediction = predict_attractive(sentence.Headline, sentence.Category, 'test')\n",
    "        predict_list.append(prediction.item())\n",
    "        # predict_list.append(prediction.item())\n",
    "AttractiveData.df_test['Label'] = predict_list\n",
    "AttractiveData.df_test[['ID', 'Label']].to_csv(config['save_name'] + '.csv', index=False)"
   ]
  },
  {
   "cell_type": "markdown",
   "metadata": {},
   "source": [
    "## Below for statistics"
   ]
  },
  {
   "cell_type": "code",
   "execution_count": 11,
   "metadata": {},
   "outputs": [],
   "source": [
    "import statistics\n",
    "from sklearn.metrics import mean_squared_error"
   ]
  },
  {
   "cell_type": "code",
   "execution_count": 12,
   "metadata": {},
   "outputs": [],
   "source": [
    "# # train mean = 3.15, test mean = 2.8\n",
    "# train_list = []\n",
    "# for i, sentence in enumerate(AttractiveData.train_data):\n",
    "#     prediction = predict_attractive(sentence.Headline, sentence.Category, 'train')\n",
    "#     train_list.append(prediction.item())\n",
    "#     # train_list.append(prediction.item())\n",
    "# # print(train_list)\n",
    "# mean_squared_error(pd.read_csv('data/train.csv').sort_values(['ID']).Label.to_list(), train_list), statistics.mean(train_list), statistics.stdev(train_list)"
   ]
  },
  {
   "cell_type": "code",
   "execution_count": 13,
   "metadata": {},
   "outputs": [],
   "source": [
    "# train_list[0:5], pd.read_csv('data/train.csv').sort_values(['ID']).Label.to_list()[0:5]"
   ]
  },
  {
   "cell_type": "code",
   "execution_count": 14,
   "metadata": {},
   "outputs": [],
   "source": [
    "# a = AttractiveData.df_train['Label'].to_list()\n",
    "# statistics.mean(a), statistics.stdev(a)"
   ]
  },
  {
   "cell_type": "code",
   "execution_count": 15,
   "metadata": {},
   "outputs": [
    {
     "output_type": "execute_result",
     "data": {
      "text/plain": [
       "(2.7708443902137523, 0.36953303324362624)"
      ]
     },
     "metadata": {},
     "execution_count": 15
    }
   ],
   "source": [
    "statistics.mean(predict_list), statistics.stdev(predict_list)"
   ]
  },
  {
   "cell_type": "code",
   "execution_count": 16,
   "metadata": {},
   "outputs": [
    {
     "output_type": "execute_result",
     "data": {
      "text/plain": [
       "(0.00679937945496611, 2.774164993857497, 0.3615900775742119)"
      ]
     },
     "metadata": {},
     "execution_count": 16
    }
   ],
   "source": [
    "baseline_list = pd.read_csv('baseline.csv').sort_values(['ID']).Label.to_list()\n",
    "mean_squared_error(baseline_list, predict_list), statistics.mean(baseline_list), statistics.stdev(baseline_list)"
   ]
  },
  {
   "cell_type": "code",
   "execution_count": null,
   "metadata": {},
   "outputs": [],
   "source": []
  },
  {
   "cell_type": "code",
   "execution_count": 18,
   "metadata": {},
   "outputs": [
    {
     "data": {
      "text/plain": [
       "0.1609754968529207"
      ]
     },
     "execution_count": 18,
     "metadata": {},
     "output_type": "execute_result"
    }
   ],
   "source": [
    "mean_squared_error(pd.read_csv('baseline.csv').sort_values(['ID']).Label.to_list(), pd.read_csv('./predict/ensemble.csv').sort_values(['ID']).Label.to_list())"
   ]
  },
  {
   "cell_type": "code",
   "execution_count": 10,
   "metadata": {},
   "outputs": [],
   "source": [
    "from sklearn.model_selection import KFold\n",
    "import numpy as np"
   ]
  },
  {
   "cell_type": "code",
   "execution_count": 11,
   "metadata": {},
   "outputs": [],
   "source": []
  },
  {
   "cell_type": "code",
   "execution_count": 12,
   "metadata": {},
   "outputs": [
    {
     "data": {
      "text/plain": [
       "2040"
      ]
     },
     "execution_count": 12,
     "metadata": {},
     "output_type": "execute_result"
    }
   ],
   "source": [
    "len(AttractiveData.train_data.examples)"
   ]
  },
  {
   "cell_type": "code",
   "execution_count": 13,
   "metadata": {},
   "outputs": [],
   "source": []
  },
  {
   "cell_type": "code",
   "execution_count": null,
   "metadata": {},
   "outputs": [],
   "source": []
  }
 ],
 "metadata": {
  "kernelspec": {
   "display_name": "DS_hw2",
   "language": "python",
   "name": "ds_hw2"
  },
  "language_info": {
   "codemirror_mode": {
    "name": "ipython",
    "version": 3
   },
   "file_extension": ".py",
   "mimetype": "text/x-python",
   "name": "python",
   "nbconvert_exporter": "python",
   "pygments_lexer": "ipython3",
   "version": "3.6.12-final"
  }
 },
 "nbformat": 4,
 "nbformat_minor": 4
}