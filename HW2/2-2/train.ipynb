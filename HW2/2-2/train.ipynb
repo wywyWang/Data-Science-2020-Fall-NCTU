{
 "cells": [
  {
   "cell_type": "code",
   "execution_count": 1,
   "metadata": {},
   "outputs": [],
   "source": [
    "# common packages\n",
    "import pandas as pd\n",
    "import time\n",
    "\n",
    "# # DL framework\n",
    "import torch\n",
    "from torchtext import data\n",
    "\n",
    "from attractivedata import AttractiveData\n",
    "from trainer import AttractiveTrainer"
   ]
  },
  {
   "cell_type": "code",
   "execution_count": 2,
   "metadata": {},
   "outputs": [],
   "source": [
    "seed_value = 42\n",
    "torch.manual_seed(seed_value)\n",
    "torch.cuda.manual_seed(seed_value)\n",
    "torch.cuda.manual_seed_all(seed_value) # gpu vars\n",
    "torch.backends.cudnn.deterministic = True  #needed\n",
    "torch.backends.cudnn.benchmark = False"
   ]
  },
  {
   "cell_type": "markdown",
   "metadata": {},
   "source": [
    "## Load and prepare data"
   ]
  },
  {
   "cell_type": "code",
   "execution_count": 3,
   "metadata": {},
   "outputs": [],
   "source": [
    "train_file = 'data/train.csv'\n",
    "val_file = 'data/val.csv'\n",
    "test_file = 'data/test.csv'\n",
    "pretrained_file = 'glove.840B.300d'\n",
    "config = {\n",
    "    'max_seq': 40,\n",
    "    'min_freq': 0,\n",
    "    'batch_size': 64,\n",
    "    'pretrained_file': pretrained_file\n",
    "}\n"
   ]
  },
  {
   "cell_type": "code",
   "execution_count": 4,
   "metadata": {},
   "outputs": [],
   "source": [
    "AttractiveData = AttractiveData(train_file, val_file, test_file, pretrained_file, config)"
   ]
  },
  {
   "cell_type": "markdown",
   "metadata": {},
   "source": [
    "## Start to train"
   ]
  },
  {
   "cell_type": "code",
   "execution_count": 5,
   "metadata": {},
   "outputs": [
    {
     "output_type": "stream",
     "name": "stdout",
     "text": [
      "torch.Size([12699, 300])\n"
     ]
    }
   ],
   "source": [
    "config['timestr'] = time.strftime(\"%Y%m%d-%H%M%S\")\n",
    "config['save_name'] = 'CNN_LSTM'\n",
    "config['input_dim'] = len(AttractiveData.TEXT.vocab)\n",
    "config['embedding_dim'] = 300\n",
    "config['category_dim'] = len(AttractiveData.CATEGORIES_LABEL.vocab)\n",
    "config['category_embedding_dim'] = 10\n",
    "config['hidden_dim'] = 30\n",
    "config['output_dim'] = 1\n",
    "config['log_steps'] = 10\n",
    "config['epochs'] = 200\n",
    "config['lr'] = {\n",
    "    'encoder': 1e-5,\n",
    "    'embedding': 6e-6,\n",
    "    'linear': 1e-5\n",
    "}\n",
    "config['num_layers'] = 1\n",
    "config['kernel_size'] = 3\n",
    "config['dropout'] = 0.5\n",
    "config['train_len'] = AttractiveData.train_len\n",
    "config['val_len'] = AttractiveData.val_len\n",
    "config['test_len'] = AttractiveData.test_len\n",
    "\n",
    "pretrained_embeddings = AttractiveData.TEXT.vocab.vectors\n",
    "print(pretrained_embeddings.shape)"
   ]
  },
  {
   "cell_type": "code",
   "execution_count": 6,
   "metadata": {},
   "outputs": [],
   "source": [
    "AttractiveTrainer = AttractiveTrainer(config, AttractiveData.device, AttractiveData.trainloader, AttractiveData.valloader, pretrained_embeddings)"
   ]
  },
  {
   "cell_type": "code",
   "execution_count": 7,
   "metadata": {},
   "outputs": [
    {
     "output_type": "execute_result",
     "data": {
      "text/plain": [
       "(AttractiveNet(\n",
       "   (embedding): AttractiveEmbedding(\n",
       "     (token): TokenEmbedding(12699, 300, padding_idx=1)\n",
       "   )\n",
       "   (bigramcnn): Sequential(\n",
       "     (0): Conv1d(300, 210, kernel_size=(2,), stride=(1,), padding=(1,))\n",
       "     (1): ReLU6()\n",
       "     (2): Conv1d(210, 100, kernel_size=(2,), stride=(1,), padding=(1,))\n",
       "     (3): ReLU6()\n",
       "     (4): Dropout(p=0.5, inplace=False)\n",
       "   )\n",
       "   (trigramcnn): Sequential(\n",
       "     (0): Conv1d(300, 210, kernel_size=(3,), stride=(1,), padding=(1,))\n",
       "     (1): ReLU()\n",
       "     (2): Conv1d(210, 100, kernel_size=(3,), stride=(1,), padding=(1,))\n",
       "     (3): ReLU()\n",
       "     (4): Dropout(p=0.5, inplace=False)\n",
       "   )\n",
       "   (encoder_bigram): LSTM(100, 30, batch_first=True, dropout=0.5, bidirectional=True)\n",
       "   (encoder_trigram): LSTM(100, 30, batch_first=True, dropout=0.5, bidirectional=True)\n",
       "   (linear): Sequential(\n",
       "     (0): Linear(in_features=128, out_features=30, bias=True)\n",
       "     (1): ReLU()\n",
       "     (2): Linear(in_features=30, out_features=1, bias=True)\n",
       "   )\n",
       " ),\n",
       " 4297581,\n",
       " 4297581)"
      ]
     },
     "metadata": {},
     "execution_count": 7
    }
   ],
   "source": [
    "AttractiveTrainer.model, AttractiveTrainer.config['total_params'], AttractiveTrainer.config['total_learned_params']"
   ]
  },
  {
   "cell_type": "code",
   "execution_count": 8,
   "metadata": {
    "tags": [
     "outputPrepend"
    ]
   },
   "outputs": [
    {
     "output_type": "stream",
     "name": "stderr",
     "text": [
      " | 48/200 [00:19<00:59,  2.56it/s]\n",
      "EP_47 | train loss: 0.43923560123817595 | val loss: 0.3706239082065283 |\n",
      "Epoch:  24%|██▍       | 49/200 [00:19<00:58,  2.57it/s]\n",
      "EP_48 | train loss: 0.4390195341671214 | val loss: 0.3687667823305317 |\n",
      "Epoch:  25%|██▌       | 50/200 [00:20<00:58,  2.57it/s]\n",
      "EP_49 | train loss: 0.4320032559189142 | val loss: 0.362474147011252 |\n",
      "Epoch:  26%|██▌       | 51/200 [00:20<00:58,  2.54it/s]\n",
      "EP_50 | train loss: 0.4329072868122774 | val loss: 0.3614440817458957 |\n",
      "Epoch:  26%|██▌       | 52/200 [00:20<00:57,  2.55it/s]\n",
      "EP_51 | train loss: 0.4271671837451411 | val loss: 0.3563491304715474 |\n",
      "Epoch:  26%|██▋       | 53/200 [00:21<00:57,  2.57it/s]\n",
      "EP_52 | train loss: 0.42516339432959466 | val loss: 0.35383451744621874 |\n",
      "Epoch:  27%|██▋       | 54/200 [00:21<00:56,  2.57it/s]\n",
      "EP_53 | train loss: 0.4241277423559451 | val loss: 0.3514183783063702 |\n",
      "Epoch:  28%|██▊       | 55/200 [00:22<00:56,  2.57it/s]\n",
      "EP_54 | train loss: 0.42445083038479675 | val loss: 0.3508758293647392 |\n",
      "Epoch:  28%|██▊       | 56/200 [00:22<00:56,  2.54it/s]\n",
      "EP_55 | train loss: 0.4268054812562232 | val loss: 0.3529256874439763 |\n",
      "Epoch:  28%|██▊       | 57/200 [00:22<00:56,  2.55it/s]\n",
      "EP_56 | train loss: 0.41565966606140137 | val loss: 0.3443441449427137 |\n",
      "Epoch:  29%|██▉       | 58/200 [00:23<00:55,  2.56it/s]\n",
      "EP_57 | train loss: 0.41586555312661566 | val loss: 0.3434714891162573 |\n",
      "Epoch:  30%|██▉       | 59/200 [00:23<00:54,  2.58it/s]\n",
      "EP_58 | train loss: 0.4165801922480265 | val loss: 0.3447710947663176 |\n",
      "Epoch:  30%|███       | 60/200 [00:24<00:54,  2.58it/s]\n",
      "EP_59 | train loss: 0.4183284918467204 | val loss: 0.34648238794476377 |\n",
      "Epoch:  30%|███       | 61/200 [00:24<00:54,  2.55it/s]\n",
      "EP_60 | train loss: 0.41497152272392723 | val loss: 0.34182729206833184 |\n",
      "Epoch:  31%|███       | 62/200 [00:24<00:54,  2.55it/s]\n",
      "EP_61 | train loss: 0.40953162417692296 | val loss: 0.33777178970037725 |\n",
      "Epoch:  32%|███▏      | 63/200 [00:25<00:53,  2.55it/s]\n",
      "EP_62 | train loss: 0.4033762165144378 | val loss: 0.3344903512328279 |\n",
      "Epoch:  32%|███▏      | 64/200 [00:25<00:52,  2.57it/s]\n",
      "EP_63 | train loss: 0.4045607174144072 | val loss: 0.3352128524406284 |\n",
      "Epoch:  32%|███▎      | 65/200 [00:26<00:53,  2.54it/s]\n",
      "EP_64 | train loss: 0.40107155220181334 | val loss: 0.33325812980240466 |\n",
      "Epoch:  33%|███▎      | 66/200 [00:26<00:53,  2.51it/s]\n",
      "EP_65 | train loss: 0.3973875934002446 | val loss: 0.3300465462254543 |\n",
      "Epoch:  34%|███▎      | 67/200 [00:26<00:52,  2.54it/s]\n",
      "EP_66 | train loss: 0.39401947844262214 | val loss: 0.3284261039659089 |\n",
      "Epoch:  34%|███▍      | 68/200 [00:27<00:51,  2.56it/s]\n",
      "EP_67 | train loss: 0.3957977771759033 | val loss: 0.3298581996384789 |\n",
      "Epoch:  34%|███▍      | 69/200 [00:27<00:51,  2.57it/s]\n",
      "EP_68 | train loss: 0.39496021364249434 | val loss: 0.3299254821796043 |\n",
      "Epoch:  35%|███▌      | 70/200 [00:27<00:50,  2.56it/s]\n",
      "EP_69 | train loss: 0.3884092415080351 | val loss: 0.32466303250368905 |\n",
      "Epoch:  36%|███▌      | 71/200 [00:28<00:50,  2.54it/s]\n",
      "EP_70 | train loss: 0.38582444751963896 | val loss: 0.32361549139022827 |\n",
      "Epoch:  36%|███▌      | 72/200 [00:28<00:50,  2.55it/s]\n",
      "EP_71 | train loss: 0.38320466069614184 | val loss: 0.3225011410666447 |\n",
      "Epoch:  36%|███▋      | 73/200 [00:29<00:49,  2.57it/s]\n",
      "EP_72 | train loss: 0.38150484935910095 | val loss: 0.32136483052197623 |\n",
      "Epoch:  37%|███▋      | 74/200 [00:29<00:48,  2.58it/s]\n",
      "EP_73 | train loss: 0.3797015797858145 | val loss: 0.32065964855399787 |\n",
      "Epoch:  38%|███▊      | 75/200 [00:29<00:48,  2.59it/s]\n",
      "EP_74 | train loss: 0.3752313445596134 | val loss: 0.3191480274293937 |\n",
      "Epoch:  38%|███▊      | 76/200 [00:30<00:48,  2.56it/s]\n",
      "EP_75 | train loss: 0.3796807934256161 | val loss: 0.3213154784604615 |\n",
      "Epoch:  38%|███▊      | 77/200 [00:30<00:47,  2.58it/s]\n",
      "EP_76 | train loss: 0.37199297465530096 | val loss: 0.31745317403007955 |\n",
      "Epoch:  39%|███▉      | 78/200 [00:31<00:47,  2.57it/s]\n",
      "EP_77 | train loss: 0.3680927444906796 | val loss: 0.3161504069964091 |\n",
      "Epoch:  40%|███▉      | 79/200 [00:31<00:46,  2.58it/s]\n",
      "EP_78 | train loss: 0.3649004889469521 | val loss: 0.3145395546567206 |\n",
      "Epoch:  40%|████      | 80/200 [00:31<00:46,  2.58it/s]\n",
      "EP_79 | train loss: 0.36621824573068057 | val loss: 0.31473734390501884 |\n",
      "Epoch:  40%|████      | 81/200 [00:32<00:46,  2.55it/s]\n",
      "EP_80 | train loss: 0.3597658783781762 | val loss: 0.3111119580035116 |\n",
      "Epoch:  41%|████      | 82/200 [00:32<00:46,  2.56it/s]\n",
      "EP_81 | train loss: 0.3576471945818733 | val loss: 0.3110132632302303 |\n",
      "Epoch:  42%|████▏     | 83/200 [00:33<00:45,  2.55it/s]\n",
      "EP_82 | train loss: 0.35760628382364906 | val loss: 0.31014200694420757 |\n",
      "Epoch:  42%|████▏     | 84/200 [00:33<00:45,  2.56it/s]\n",
      "EP_83 | train loss: 0.3542402183308321 | val loss: 0.3083060144209394 |\n",
      "Epoch:  42%|████▎     | 85/200 [00:33<00:44,  2.57it/s]\n",
      "EP_84 | train loss: 0.34974420958874275 | val loss: 0.30543263694819284 |\n",
      "Epoch:  43%|████▎     | 86/200 [00:34<00:45,  2.53it/s]\n",
      "EP_85 | train loss: 0.34643626727309884 | val loss: 0.3035722094423631 |\n",
      "Epoch:  44%|████▎     | 87/200 [00:34<00:44,  2.55it/s]\n",
      "EP_86 | train loss: 0.3431405647128236 | val loss: 0.3020802186984642 |\n",
      "Epoch:  44%|████▍     | 88/200 [00:34<00:43,  2.56it/s]\n",
      "EP_87 | train loss: 0.33976919090046603 | val loss: 0.3010549872529273 |\n",
      "Epoch:  44%|████▍     | 89/200 [00:35<00:43,  2.58it/s]\n",
      "EP_88 | train loss: 0.3387925788468006 | val loss: 0.2988640800410626 |\n",
      "Epoch:  45%|████▌     | 90/200 [00:35<00:43,  2.55it/s]\n",
      "EP_89 | train loss: 0.33389173208498485 | val loss: 0.2995769802261801 |\n",
      "Epoch:  46%|████▌     | 91/200 [00:36<00:43,  2.50it/s]\n",
      "EP_90 | train loss: 0.33323475145826154 | val loss: 0.2962508078883676 |\n",
      "Epoch:  46%|████▌     | 92/200 [00:36<00:43,  2.51it/s]\n",
      "EP_91 | train loss: 0.328833337391124 | val loss: 0.2929845002352023 |\n",
      "Epoch:  46%|████▋     | 93/200 [00:37<00:43,  2.46it/s]\n",
      "EP_92 | train loss: 0.32677026542962767 | val loss: 0.2915264385588029 |\n",
      "Epoch:  47%|████▋     | 94/200 [00:37<00:43,  2.43it/s]\n",
      "EP_93 | train loss: 0.32956979742237164 | val loss: 0.29253580581908134 |\n",
      "Epoch:  48%|████▊     | 95/200 [00:37<00:42,  2.46it/s]\n",
      "EP_94 | train loss: 0.3192899400112676 | val loss: 0.2867136241174212 |\n",
      "Epoch:  48%|████▊     | 96/200 [00:38<00:42,  2.44it/s]\n",
      "EP_95 | train loss: 0.31555468101127476 | val loss: 0.2842838092177522 |\n",
      "Epoch:  48%|████▊     | 97/200 [00:38<00:42,  2.45it/s]\n",
      "EP_96 | train loss: 0.31438453945459105 | val loss: 0.2815820288424398 |\n",
      "Epoch:  49%|████▉     | 98/200 [00:39<00:41,  2.47it/s]\n",
      "EP_97 | train loss: 0.30663902993295705 | val loss: 0.27872447406544404 |\n",
      "Epoch:  50%|████▉     | 99/200 [00:39<00:40,  2.49it/s]\n",
      "EP_98 | train loss: 0.30446602316463695 | val loss: 0.27646979455854376 |\n",
      "Epoch:  50%|█████     | 100/200 [00:39<00:39,  2.52it/s]\n",
      "EP_99 | train loss: 0.3051070217992745 | val loss: 0.275922940642226 |\n",
      "Epoch:  50%|█████     | 101/200 [00:40<00:39,  2.48it/s]\n",
      "EP_100 | train loss: 0.3013350005243339 | val loss: 0.27313466749939264 |\n",
      "Epoch:  51%|█████     | 102/200 [00:40<00:39,  2.48it/s]\n",
      "EP_101 | train loss: 0.2922462828019086 | val loss: 0.2693714902681463 |\n",
      "Epoch:  52%|█████▏    | 103/200 [00:41<00:38,  2.51it/s]\n",
      "EP_102 | train loss: 0.29508583171694885 | val loss: 0.2671670972132215 |\n",
      "Epoch:  52%|█████▏    | 104/200 [00:41<00:40,  2.37it/s]\n",
      "EP_103 | train loss: 0.28854159560858034 | val loss: 0.26186542417488845 |\n",
      "Epoch:  52%|█████▎    | 105/200 [00:42<00:43,  2.16it/s]\n",
      "EP_104 | train loss: 0.28725135139390534 | val loss: 0.26016032462026556 |\n",
      "Epoch:  53%|█████▎    | 106/200 [00:42<00:46,  2.03it/s]\n",
      "EP_105 | train loss: 0.2816474264743281 | val loss: 0.2572096346640119 |\n",
      "Epoch:  54%|█████▎    | 107/200 [00:43<00:47,  1.94it/s]\n",
      "EP_106 | train loss: 0.2736797669354607 | val loss: 0.2572403667019863 |\n",
      "Epoch:  54%|█████▍    | 108/200 [00:43<00:44,  2.06it/s]\n",
      "EP_107 | train loss: 0.2729337019078872 | val loss: 0.2516538337165234 |\n",
      "Epoch:  55%|█████▍    | 109/200 [00:44<00:41,  2.19it/s]\n",
      "EP_108 | train loss: 0.26801170461318075 | val loss: 0.24793084404047797 |\n",
      "Epoch:  55%|█████▌    | 110/200 [00:44<00:39,  2.30it/s]\n",
      "EP_109 | train loss: 0.2640915842617259 | val loss: 0.24546233053300895 |\n",
      "Epoch:  56%|█████▌    | 111/200 [00:44<00:38,  2.33it/s]\n",
      "EP_110 | train loss: 0.26025612260781084 | val loss: 0.23993526837405035 |\n",
      "Epoch:  56%|█████▌    | 112/200 [00:45<00:36,  2.39it/s]\n",
      "EP_111 | train loss: 0.2549256507088156 | val loss: 0.2378067894309175 |\n",
      "Epoch:  56%|█████▋    | 113/200 [00:45<00:35,  2.44it/s]\n",
      "EP_112 | train loss: 0.24839028283661488 | val loss: 0.23324024092917348 |\n",
      "Epoch:  57%|█████▋    | 114/200 [00:46<00:35,  2.41it/s]\n",
      "EP_113 | train loss: 0.24495166142781574 | val loss: 0.2280345079945583 |\n",
      "Epoch:  57%|█████▊    | 115/200 [00:46<00:35,  2.41it/s]\n",
      "EP_114 | train loss: 0.24085688544254677 | val loss: 0.2316943109035492 |\n",
      "Epoch:  58%|█████▊    | 116/200 [00:46<00:35,  2.40it/s]\n",
      "EP_115 | train loss: 0.24391293315326465 | val loss: 0.22332044734674342 |\n",
      "Epoch:  58%|█████▊    | 117/200 [00:47<00:38,  2.14it/s]\n",
      "EP_116 | train loss: 0.2320984447703642 | val loss: 0.21726679743504992 |\n",
      "Epoch:  59%|█████▉    | 118/200 [00:48<00:41,  2.00it/s]\n",
      "EP_117 | train loss: 0.22803959939994065 | val loss: 0.2132951862671796 |\n",
      "Epoch:  60%|█████▉    | 119/200 [00:48<00:39,  2.07it/s]\n",
      "EP_118 | train loss: 0.22351960995618034 | val loss: 0.20831040775074677 |\n",
      "Epoch:  60%|██████    | 120/200 [00:49<00:40,  1.97it/s]\n",
      "EP_119 | train loss: 0.21887981330647188 | val loss: 0.2051010231177012 |\n",
      "Epoch:  60%|██████    | 121/200 [00:49<00:42,  1.87it/s]\n",
      "EP_120 | train loss: 0.21633214389576633 | val loss: 0.20477458250288869 |\n",
      "Epoch:  61%|██████    | 122/200 [00:50<00:43,  1.81it/s]\n",
      "EP_121 | train loss: 0.21269079142925787 | val loss: 0.19769735721980825 |\n",
      "Epoch:  62%|██████▏   | 123/200 [00:50<00:42,  1.80it/s]\n",
      "EP_122 | train loss: 0.21370900238261503 | val loss: 0.19336301672692394 |\n",
      "Epoch:  62%|██████▏   | 124/200 [00:51<00:40,  1.90it/s]\n",
      "EP_123 | train loss: 0.2029985876644359 | val loss: 0.19052109881943347 |\n",
      "Epoch:  62%|██████▎   | 125/200 [00:51<00:36,  2.06it/s]\n",
      "EP_124 | train loss: 0.19755992468665629 | val loss: 0.18352559559485493 |\n",
      "Epoch:  63%|██████▎   | 126/200 [00:52<00:34,  2.17it/s]\n",
      "EP_125 | train loss: 0.1944939501145307 | val loss: 0.18014634415215136 |\n",
      "Epoch:  64%|██████▎   | 127/200 [00:52<00:31,  2.28it/s]\n",
      "EP_126 | train loss: 0.19143333481807334 | val loss: 0.1759136167227053 |\n",
      "Epoch:  64%|██████▍   | 128/200 [00:52<00:30,  2.36it/s]\n",
      "EP_127 | train loss: 0.18677715366961908 | val loss: 0.1700611412525177 |\n",
      "Epoch:  64%|██████▍   | 129/200 [00:53<00:29,  2.43it/s]\n",
      "EP_128 | train loss: 0.18285518534043255 | val loss: 0.1655558102271136 |\n",
      "Epoch:  65%|██████▌   | 130/200 [00:53<00:28,  2.48it/s]\n",
      "EP_129 | train loss: 0.18470497715706918 | val loss: 0.16521112825356277 |\n",
      "Epoch:  66%|██████▌   | 131/200 [00:53<00:27,  2.47it/s]\n",
      "EP_130 | train loss: 0.1710475285847982 | val loss: 0.15944834433349908 |\n",
      "Epoch:  66%|██████▌   | 132/200 [00:54<00:27,  2.51it/s]\n",
      "EP_131 | train loss: 0.1669936593841104 | val loss: 0.15294024523566752 |\n",
      "Epoch:  66%|██████▋   | 133/200 [00:54<00:26,  2.53it/s]\n",
      "EP_132 | train loss: 0.17036871559479658 | val loss: 0.15191320286077611 |\n",
      "Epoch:  67%|██████▋   | 134/200 [00:55<00:28,  2.35it/s]\n",
      "EP_133 | train loss: 0.16054801753923004 | val loss: 0.14234289643811246 |\n",
      "Epoch:  68%|██████▊   | 135/200 [00:55<00:28,  2.26it/s]\n",
      "EP_134 | train loss: 0.1553993727646622 | val loss: 0.1390788707078672 |\n",
      "Epoch:  68%|██████▊   | 136/200 [00:56<00:27,  2.31it/s]\n",
      "EP_135 | train loss: 0.14767731451520733 | val loss: 0.1353084146976471 |\n",
      "Epoch:  68%|██████▊   | 137/200 [00:56<00:27,  2.26it/s]\n",
      "EP_136 | train loss: 0.1566779335339864 | val loss: 0.137322044840046 |\n",
      "Epoch:  69%|██████▉   | 138/200 [00:57<00:28,  2.18it/s]\n",
      "EP_137 | train loss: 0.1393528606377396 | val loss: 0.13054412661814221 |\n",
      "Epoch:  70%|██████▉   | 139/200 [00:57<00:26,  2.29it/s]\n",
      "EP_138 | train loss: 0.13582298849143234 | val loss: 0.12741748024435604 |\n",
      "Epoch:  70%|███████   | 140/200 [00:57<00:25,  2.37it/s]\n",
      "EP_139 | train loss: 0.134248157342275 | val loss: 0.12082085948364407 |\n",
      "Epoch:  70%|███████   | 141/200 [00:58<00:25,  2.34it/s]\n",
      "EP_140 | train loss: 0.12641003739600087 | val loss: 0.11381016700875525 |\n",
      "Epoch:  71%|███████   | 142/200 [00:58<00:24,  2.35it/s]\n",
      "EP_141 | train loss: 0.1301498354650011 | val loss: 0.11481104703510508 |\n",
      "Epoch:  72%|███████▏  | 143/200 [00:59<00:24,  2.36it/s]\n",
      "EP_142 | train loss: 0.11753663268743776 | val loss: 0.10586658237027187 |\n",
      "Epoch:  72%|███████▏  | 144/200 [00:59<00:23,  2.38it/s]\n",
      "EP_143 | train loss: 0.11603647750966689 | val loss: 0.1093108618960661 |\n",
      "Epoch:  72%|███████▎  | 145/200 [00:59<00:22,  2.40it/s]\n",
      "EP_144 | train loss: 0.1108696138157564 | val loss: 0.10296262420859992 |\n",
      "Epoch:  73%|███████▎  | 146/200 [01:00<00:22,  2.37it/s]\n",
      "EP_145 | train loss: 0.10824740493998808 | val loss: 0.09720335287206314 |\n",
      "Epoch:  74%|███████▎  | 147/200 [01:00<00:22,  2.40it/s]\n",
      "EP_146 | train loss: 0.1019591773257536 | val loss: 0.09584073517836776 |\n",
      "Epoch:  74%|███████▍  | 148/200 [01:01<00:21,  2.44it/s]\n",
      "EP_147 | train loss: 0.1316986369151695 | val loss: 0.13067248551284566 |\n",
      "Epoch:  74%|███████▍  | 149/200 [01:01<00:20,  2.46it/s]\n",
      "EP_148 | train loss: 0.10079507944630642 | val loss: 0.09115976854866627 |\n",
      "Epoch:  75%|███████▌  | 150/200 [01:02<00:20,  2.50it/s]\n",
      "EP_149 | train loss: 0.09688123371086868 | val loss: 0.08580547775707993 |\n",
      "Epoch:  76%|███████▌  | 151/200 [01:02<00:19,  2.48it/s]\n",
      "EP_150 | train loss: 0.08932618942915224 | val loss: 0.08111944502475214 |\n",
      "Epoch:  76%|███████▌  | 152/200 [01:02<00:19,  2.49it/s]\n",
      "EP_151 | train loss: 0.08747944703289107 | val loss: 0.0809346197866926 |\n",
      "Epoch:  76%|███████▋  | 153/200 [01:03<00:18,  2.49it/s]\n",
      "EP_152 | train loss: 0.08142834574568505 | val loss: 0.07675682446535896 |\n",
      "Epoch:  77%|███████▋  | 154/200 [01:03<00:19,  2.35it/s]\n",
      "EP_153 | train loss: 0.08830803761295244 | val loss: 0.07994676395958546 |\n",
      "Epoch:  78%|███████▊  | 155/200 [01:04<00:20,  2.18it/s]\n",
      "EP_154 | train loss: 0.09189071900704328 | val loss: 0.0821170044295928 |\n",
      "Epoch:  78%|███████▊  | 156/200 [01:04<00:19,  2.26it/s]\n",
      "EP_155 | train loss: 0.07451233910579308 | val loss: 0.07062453849642884 |\n",
      "Epoch:  78%|███████▊  | 157/200 [01:05<00:18,  2.33it/s]\n",
      "EP_156 | train loss: 0.07124872698503382 | val loss: 0.06812234047581167 |\n",
      "Epoch:  79%|███████▉  | 158/200 [01:05<00:17,  2.38it/s]\n",
      "EP_157 | train loss: 0.06926876727272482 | val loss: 0.06321978043107425 |\n",
      "Epoch:  80%|███████▉  | 159/200 [01:05<00:17,  2.41it/s]\n",
      "EP_158 | train loss: 0.07031177632948932 | val loss: 0.06501858783703224 |\n",
      "Epoch:  80%|████████  | 160/200 [01:06<00:16,  2.44it/s]\n",
      "EP_159 | train loss: 0.06287237312279495 | val loss: 0.058974845736634494 |\n",
      "Epoch:  80%|████████  | 161/200 [01:06<00:18,  2.14it/s]\n",
      "EP_160 | train loss: 0.07909935525819367 | val loss: 0.07252291195532855 |\n",
      "Epoch:  81%|████████  | 162/200 [01:07<00:17,  2.23it/s]\n",
      "EP_161 | train loss: 0.06182140988462111 | val loss: 0.06147485562399322 |\n",
      "Epoch:  82%|████████▏ | 163/200 [01:07<00:16,  2.31it/s]\n",
      "EP_162 | train loss: 0.05778988669900333 | val loss: 0.05522578954696655 |\n",
      "Epoch:  82%|████████▏ | 164/200 [01:08<00:15,  2.38it/s]\n",
      "EP_163 | train loss: 0.054290827349120496 | val loss: 0.05276210036347894 |\n",
      "Epoch:  82%|████████▎ | 165/200 [01:08<00:14,  2.44it/s]\n",
      "EP_164 | train loss: 0.0529301431833529 | val loss: 0.05158227126972348 |\n",
      "Epoch:  83%|████████▎ | 166/200 [01:08<00:13,  2.43it/s]\n",
      "EP_165 | train loss: 0.050988321210823806 | val loss: 0.05242018343186846 |\n",
      "Epoch:  84%|████████▎ | 167/200 [01:09<00:13,  2.46it/s]\n",
      "EP_166 | train loss: 0.04728168354314916 | val loss: 0.04686713218688965 |\n",
      "Epoch:  84%|████████▍ | 168/200 [01:09<00:12,  2.50it/s]\n",
      "EP_167 | train loss: 0.05098104991164862 | val loss: 0.049414121929336995 |\n",
      "Epoch:  84%|████████▍ | 169/200 [01:10<00:12,  2.51it/s]\n",
      "EP_168 | train loss: 0.04561803048732234 | val loss: 0.04462096138912089 |\n",
      "Epoch:  85%|████████▌ | 170/200 [01:10<00:11,  2.53it/s]\n",
      "EP_169 | train loss: 0.04766562867398356 | val loss: 0.049781936348653306 |\n",
      "Epoch:  86%|████████▌ | 171/200 [01:10<00:11,  2.50it/s]\n",
      "EP_170 | train loss: 0.04248911130662058 | val loss: 0.04155234758760415 |\n",
      "Epoch:  86%|████████▌ | 172/200 [01:11<00:11,  2.51it/s]\n",
      "EP_171 | train loss: 0.04002661056378309 | val loss: 0.03995555025689742 |\n",
      "Epoch:  86%|████████▋ | 173/200 [01:11<00:10,  2.51it/s]\n",
      "EP_172 | train loss: 0.04370500679109611 | val loss: 0.04588355211650624 |\n",
      "Epoch:  87%|████████▋ | 174/200 [01:12<00:10,  2.51it/s]\n",
      "EP_173 | train loss: 0.03778391620692085 | val loss: 0.036954609056313835 |\n",
      "Epoch:  88%|████████▊ | 175/200 [01:12<00:09,  2.51it/s]\n",
      "EP_174 | train loss: 0.039796675478710845 | val loss: 0.038110156269634474 |\n",
      "Epoch:  88%|████████▊ | 176/200 [01:12<00:10,  2.29it/s]\n",
      "EP_175 | train loss: 0.03521105500997281 | val loss: 0.034741197730980666 |\n",
      "Epoch:  88%|████████▊ | 177/200 [01:13<00:11,  2.09it/s]\n",
      "EP_176 | train loss: 0.032878567044641455 | val loss: 0.03143124092443317 |\n",
      "Epoch:  89%|████████▉ | 178/200 [01:13<00:10,  2.19it/s]\n",
      "EP_177 | train loss: 0.03250829320327908 | val loss: 0.03221290134916119 |\n",
      "Epoch:  90%|████████▉ | 179/200 [01:14<00:09,  2.27it/s]\n",
      "EP_178 | train loss: 0.031040108846683127 | val loss: 0.0306948440916398 |\n",
      "Epoch:  90%|█████████ | 180/200 [01:14<00:08,  2.35it/s]\n",
      "EP_179 | train loss: 0.03402518612496993 | val loss: 0.03465993950764338 |\n",
      "Epoch:  90%|█████████ | 181/200 [01:15<00:08,  2.35it/s]\n",
      "EP_180 | train loss: 0.040030620904529794 | val loss: 0.041726970789479276 |\n",
      "Epoch:  91%|█████████ | 182/200 [01:15<00:07,  2.41it/s]\n",
      "EP_181 | train loss: 0.028447394832676533 | val loss: 0.030848043952502457 |\n",
      "Epoch:  92%|█████████▏| 183/200 [01:15<00:06,  2.44it/s]\n",
      "EP_182 | train loss: 0.035867174583322864 | val loss: 0.037281147989572265 |\n",
      "Epoch:  92%|█████████▏| 184/200 [01:16<00:06,  2.47it/s]\n",
      "EP_183 | train loss: 0.02730014470278048 | val loss: 0.028758767773123348 |\n",
      "Epoch:  92%|█████████▎| 185/200 [01:16<00:06,  2.49it/s]\n",
      "EP_184 | train loss: 0.02509384760085274 | val loss: 0.027128446481975856 |\n",
      "Epoch:  93%|█████████▎| 186/200 [01:17<00:05,  2.40it/s]\n",
      "EP_185 | train loss: 0.02882073083344628 | val loss: 0.030032780532743417 |\n",
      "Epoch:  94%|█████████▎| 187/200 [01:17<00:05,  2.44it/s]\n",
      "EP_186 | train loss: 0.024269748464518903 | val loss: 0.0266817507936674 |\n",
      "Epoch:  94%|█████████▍| 188/200 [01:17<00:04,  2.48it/s]\n",
      "EP_187 | train loss: 0.028164931839587643 | val loss: 0.029650949233887242 |\n",
      "Epoch:  94%|█████████▍| 189/200 [01:18<00:04,  2.50it/s]\n",
      "EP_188 | train loss: 0.02232798492791606 | val loss: 0.02422208791854335 |\n",
      "Epoch:  95%|█████████▌| 190/200 [01:18<00:03,  2.52it/s]\n",
      "EP_189 | train loss: 0.02374788493502374 | val loss: 0.025173126482496075 |\n",
      "Epoch:  96%|█████████▌| 191/200 [01:19<00:03,  2.48it/s]\n",
      "EP_190 | train loss: 0.021163795771552068 | val loss: 0.022651949495661492 |\n",
      "Epoch:  96%|█████████▌| 192/200 [01:19<00:03,  2.44it/s]\n",
      "EP_191 | train loss: 0.021050893968226864 | val loss: 0.023605415634080477 |\n",
      "Epoch:  96%|█████████▋| 193/200 [01:19<00:02,  2.46it/s]\n",
      "EP_192 | train loss: 0.02462193983442643 | val loss: 0.026514425581576778 |\n",
      "Epoch:  97%|█████████▋| 194/200 [01:20<00:02,  2.47it/s]\n",
      "EP_193 | train loss: 0.01969017544213463 | val loss: 0.022540512768661276 |\n",
      "Epoch:  98%|█████████▊| 195/200 [01:20<00:02,  2.46it/s]\n",
      "EP_194 | train loss: 0.01814765217257481 | val loss: 0.020895195796209222 |\n",
      "Epoch:  98%|█████████▊| 196/200 [01:21<00:01,  2.43it/s]\n",
      "EP_195 | train loss: 0.017958737150126813 | val loss: 0.019970819646236943 |\n",
      "Epoch:  98%|█████████▊| 197/200 [01:21<00:01,  2.17it/s]\n",
      "EP_196 | train loss: 0.017161040504773458 | val loss: 0.019754549013633355 |\n",
      "Epoch:  99%|█████████▉| 198/200 [01:22<00:00,  2.21it/s]\n",
      "EP_197 | train loss: 0.017485716296177286 | val loss: 0.020102933633561228 |\n",
      "Epoch: 100%|█████████▉| 199/200 [01:22<00:00,  2.29it/s]\n",
      "EP_198 | train loss: 0.01999214855479259 | val loss: 0.022012051852310404 |\n",
      "Epoch: 100%|██████████| 200/200 [01:22<00:00,  2.41it/s]\n",
      "EP_199 | train loss: 0.016071502835142845 | val loss: 0.01756335006040685 |\n",
      "\n"
     ]
    }
   ],
   "source": [
    "AttractiveTrainer.train()"
   ]
  },
  {
   "cell_type": "markdown",
   "metadata": {},
   "source": [
    "## Below is testing"
   ]
  },
  {
   "cell_type": "code",
   "execution_count": 6,
   "metadata": {},
   "outputs": [
    {
     "output_type": "execute_result",
     "data": {
      "text/plain": [
       "AttractiveNet(\n",
       "  (embedding): AttractiveEmbedding(\n",
       "    (token): TokenEmbedding(12699, 300, padding_idx=1)\n",
       "  )\n",
       "  (bigramcnn): Sequential(\n",
       "    (0): Conv1d(300, 210, kernel_size=(2,), stride=(1,), padding=(1,))\n",
       "    (1): ReLU6()\n",
       "    (2): Conv1d(210, 100, kernel_size=(2,), stride=(1,), padding=(1,))\n",
       "    (3): ReLU6()\n",
       "    (4): Dropout(p=0.5, inplace=False)\n",
       "  )\n",
       "  (trigramcnn): Sequential(\n",
       "    (0): Conv1d(300, 210, kernel_size=(3,), stride=(1,), padding=(1,))\n",
       "    (1): ReLU()\n",
       "    (2): Conv1d(210, 100, kernel_size=(3,), stride=(1,), padding=(1,))\n",
       "    (3): ReLU()\n",
       "    (4): Dropout(p=0.5, inplace=False)\n",
       "  )\n",
       "  (encoder_bigram): LSTM(100, 30, batch_first=True, dropout=0.5, bidirectional=True)\n",
       "  (encoder_trigram): LSTM(100, 30, batch_first=True, dropout=0.5, bidirectional=True)\n",
       "  (linear): Sequential(\n",
       "    (0): Linear(in_features=124, out_features=30, bias=True)\n",
       "    (1): ReLU()\n",
       "    (2): Linear(in_features=30, out_features=1, bias=True)\n",
       "  )\n",
       ")"
      ]
     },
     "metadata": {},
     "execution_count": 6
    }
   ],
   "source": [
    "from attractivenet import AttractiveNet\n",
    "\n",
    "PATH = './model/CNN_LSTM_20201108-135511/0.375142.80'\n",
    "\n",
    "load_model = AttractiveNet(config).to(AttractiveData.device)\n",
    "load_model.load_state_dict(torch.load(PATH))\n",
    "load_model.eval()"
   ]
  },
  {
   "cell_type": "code",
   "execution_count": 7,
   "metadata": {},
   "outputs": [],
   "source": [
    "def predict_attractive(sentence, category, phase):\n",
    "    indexed_sentence = [AttractiveData.TEXT.vocab.stoi[t] for t in sentence]\n",
    "    indexed_category = [AttractiveData.CATEGORIES_LABEL.vocab.stoi[category]]\n",
    "    tensor_sentence = torch.LongTensor(indexed_sentence).to(AttractiveData.device)\n",
    "    tensor_category = torch.LongTensor(indexed_category).to(AttractiveData.device)\n",
    "    tensor_sentence = tensor_sentence.unsqueeze(0)\n",
    "\n",
    "    prediction = load_model(tensor_sentence, tensor_category, phase=phase)\n",
    "\n",
    "    return prediction"
   ]
  },
  {
   "cell_type": "code",
   "execution_count": 8,
   "metadata": {
    "tags": []
   },
   "outputs": [],
   "source": [
    "# train mean = 3.15, test mean = 2.8\n",
    "predict_list = []\n",
    "with torch.no_grad():\n",
    "    for i, sentence in enumerate(AttractiveData.test_data):\n",
    "        prediction = predict_attractive(sentence.Headline, sentence.Category, 'test')\n",
    "        predict_list.append(prediction.item())\n",
    "        # predict_list.append(prediction.item())\n",
    "AttractiveData.df_test['Label'] = predict_list\n",
    "AttractiveData.df_test[['ID', 'Label']].to_csv(config['save_name'] + '.csv', index=False)"
   ]
  },
  {
   "cell_type": "markdown",
   "metadata": {},
   "source": [
    "## Below for statistics"
   ]
  },
  {
   "cell_type": "code",
   "execution_count": 9,
   "metadata": {},
   "outputs": [],
   "source": [
    "import statistics\n",
    "from sklearn.metrics import mean_squared_error"
   ]
  },
  {
   "cell_type": "code",
   "execution_count": 10,
   "metadata": {},
   "outputs": [],
   "source": [
    "# # train mean = 3.15, test mean = 2.8\n",
    "# train_list = []\n",
    "# for i, sentence in enumerate(AttractiveData.train_data):\n",
    "#     prediction = predict_attractive(sentence.Headline, sentence.Category, 'train')\n",
    "#     train_list.append(prediction.item())\n",
    "#     # train_list.append(prediction.item())\n",
    "# # print(train_list)\n",
    "# mean_squared_error(pd.read_csv('data/train.csv').sort_values(['ID']).Label.to_list(), train_list), statistics.mean(train_list), statistics.stdev(train_list)"
   ]
  },
  {
   "cell_type": "code",
   "execution_count": 11,
   "metadata": {},
   "outputs": [],
   "source": [
    "# train_list[0:5], pd.read_csv('data/train.csv').sort_values(['ID']).Label.to_list()[0:5]"
   ]
  },
  {
   "cell_type": "code",
   "execution_count": 12,
   "metadata": {},
   "outputs": [],
   "source": [
    "# a = AttractiveData.df_train['Label'].to_list()\n",
    "# statistics.mean(a), statistics.stdev(a)"
   ]
  },
  {
   "cell_type": "code",
   "execution_count": 13,
   "metadata": {},
   "outputs": [
    {
     "output_type": "execute_result",
     "data": {
      "text/plain": [
       "(2.8147862566725275, 0.35859039023783845)"
      ]
     },
     "metadata": {},
     "execution_count": 13
    }
   ],
   "source": [
    "statistics.mean(predict_list), statistics.stdev(predict_list)"
   ]
  },
  {
   "cell_type": "code",
   "execution_count": 14,
   "metadata": {},
   "outputs": [
    {
     "output_type": "execute_result",
     "data": {
      "text/plain": [
       "(0.0036973840856460377, 2.783861954306716, 0.36437382915352245)"
      ]
     },
     "metadata": {},
     "execution_count": 14
    }
   ],
   "source": [
    "baseline_list = pd.read_csv('baseline.csv').sort_values(['ID']).Label.to_list()\n",
    "mean_squared_error(baseline_list, predict_list), statistics.mean(baseline_list), statistics.stdev(baseline_list)"
   ]
  },
  {
   "cell_type": "code",
   "execution_count": null,
   "metadata": {},
   "outputs": [],
   "source": []
  },
  {
   "cell_type": "code",
   "execution_count": 15,
   "metadata": {},
   "outputs": [
    {
     "output_type": "execute_result",
     "data": {
      "text/plain": [
       "0.0"
      ]
     },
     "metadata": {},
     "execution_count": 15
    }
   ],
   "source": [
    "mean_squared_error(pd.read_csv('baseline.csv').sort_values(['ID']).Label.to_list(), pd.read_csv('./predict/CNN_LSTM_20201107-202605_0.374917.75.csv').sort_values(['ID']).Label.to_list())"
   ]
  },
  {
   "cell_type": "code",
   "execution_count": 13,
   "metadata": {},
   "outputs": [],
   "source": []
  },
  {
   "cell_type": "code",
   "execution_count": null,
   "metadata": {},
   "outputs": [],
   "source": []
  }
 ],
 "metadata": {
  "kernelspec": {
   "display_name": "DS_hw2",
   "language": "python",
   "name": "ds_hw2"
  },
  "language_info": {
   "codemirror_mode": {
    "name": "ipython",
    "version": 3
   },
   "file_extension": ".py",
   "mimetype": "text/x-python",
   "name": "python",
   "nbconvert_exporter": "python",
   "pygments_lexer": "ipython3",
   "version": "3.6.12-final"
  }
 },
 "nbformat": 4,
 "nbformat_minor": 4
}