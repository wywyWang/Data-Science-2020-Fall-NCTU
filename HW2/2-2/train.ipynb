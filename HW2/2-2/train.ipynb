{
 "cells": [
  {
   "cell_type": "code",
   "execution_count": 1,
   "metadata": {},
   "outputs": [],
   "source": [
    "# common packages\n",
    "import pandas as pd\n",
    "import time\n",
    "\n",
    "# # DL framework\n",
    "import torch\n",
    "from torchtext import data\n",
    "\n",
    "from attractivedata import AttractiveData\n",
    "from trainer import AttractiveTrainer"
   ]
  },
  {
   "cell_type": "code",
   "execution_count": 2,
   "metadata": {},
   "outputs": [],
   "source": [
    "seed_value = 42\n",
    "torch.manual_seed(seed_value)\n",
    "torch.cuda.manual_seed(seed_value)\n",
    "torch.cuda.manual_seed_all(seed_value) # gpu vars\n",
    "torch.backends.cudnn.deterministic = True  #needed\n",
    "torch.backends.cudnn.benchmark = False"
   ]
  },
  {
   "cell_type": "markdown",
   "metadata": {},
   "source": [
    "# TODO: \n",
    "- [ ] cnn plus residual network\n",
    "- [ ] word embedding multiply tfidf\n",
    "- [ ] use word2vec"
   ]
  },
  {
   "cell_type": "markdown",
   "metadata": {},
   "source": [
    "## Load and prepare data"
   ]
  },
  {
   "cell_type": "code",
   "execution_count": 3,
   "metadata": {},
   "outputs": [],
   "source": [
    "train_file = 'data/train.csv'\n",
    "val_file = 'example/val.csv'\n",
    "test_file = 'data/test.csv'\n",
    "pretrained_file = 'glove.840B.300d'\n",
    "config = {\n",
    "    'max_seq': 40,\n",
    "    'min_freq': 0,\n",
    "    'batch_size': 64,\n",
    "    'pretrained_file': pretrained_file\n",
    "}\n"
   ]
  },
  {
   "cell_type": "code",
   "execution_count": 4,
   "metadata": {},
   "outputs": [],
   "source": [
    "AttractiveData = AttractiveData(train_file, val_file, test_file, pretrained_file, config)"
   ]
  },
  {
   "cell_type": "code",
   "execution_count": 5,
   "metadata": {},
   "outputs": [],
   "source": [
    "# for i, sentence in enumerate(AttractiveData.test_data):\n",
    "#     if i == 3:\n",
    "#         print(vars(AttractiveData.train_data[i]), vars(sentence))"
   ]
  },
  {
   "cell_type": "code",
   "execution_count": 6,
   "metadata": {},
   "outputs": [
    {
     "output_type": "execute_result",
     "data": {
      "text/plain": [
       "38"
      ]
     },
     "metadata": {},
     "execution_count": 6
    }
   ],
   "source": [
    "max_len = 0\n",
    "a = AttractiveData.train_data\n",
    "for i in range(len(a)):\n",
    "    if len(a[i].Headline) >= max_len:\n",
    "        max_len = len(a[i].Headline)\n",
    "max_len"
   ]
  },
  {
   "cell_type": "markdown",
   "metadata": {},
   "source": [
    "## Start to train"
   ]
  },
  {
   "cell_type": "code",
   "execution_count": 7,
   "metadata": {},
   "outputs": [
    {
     "output_type": "stream",
     "name": "stdout",
     "text": [
      "torch.Size([12699, 300])\n"
     ]
    }
   ],
   "source": [
    "config['timestr'] = time.strftime(\"%Y%m%d-%H%M%S\")\n",
    "config['save_name'] = 'CNN_LSTM'\n",
    "config['input_dim'] = len(AttractiveData.TEXT.vocab)\n",
    "config['embedding_dim'] = 300\n",
    "config['category_dim'] = len(AttractiveData.CATEGORIES_LABEL.vocab)\n",
    "config['category_embedding_dim'] = 10\n",
    "config['hidden_dim'] = 100\n",
    "config['output_dim'] = 1\n",
    "config['log_steps'] = 10\n",
    "config['epochs'] = 200\n",
    "config['lr'] = {\n",
    "    'encoder': 1e-5,\n",
    "    'embedding': 6e-6,\n",
    "    'linear': 1e-5\n",
    "}\n",
    "config['num_layers'] = 1\n",
    "config['kernel_size'] = 3\n",
    "config['dropout'] = 0.5\n",
    "config['train_len'] = AttractiveData.train_len\n",
    "config['val_len'] = AttractiveData.val_len\n",
    "config['test_len'] = AttractiveData.test_len\n",
    "\n",
    "pretrained_embeddings = AttractiveData.TEXT.vocab.vectors\n",
    "print(pretrained_embeddings.shape)"
   ]
  },
  {
   "cell_type": "code",
   "execution_count": 8,
   "metadata": {},
   "outputs": [],
   "source": [
    "AttractiveTrainer = AttractiveTrainer(config, AttractiveData.device, AttractiveData.trainloader, AttractiveData.valloader, pretrained_embeddings)"
   ]
  },
  {
   "cell_type": "code",
   "execution_count": 9,
   "metadata": {},
   "outputs": [
    {
     "output_type": "execute_result",
     "data": {
      "text/plain": [
       "(AttractiveNet(\n",
       "   (embedding): AttractiveEmbedding(\n",
       "     (token): TokenEmbedding(12699, 300, padding_idx=1)\n",
       "   )\n",
       "   (bigramcnn): Sequential(\n",
       "     (0): Conv1d(300, 300, kernel_size=(2,), stride=(1,), padding=(1,))\n",
       "     (1): Conv1d(300, 300, kernel_size=(2,), stride=(1,), padding=(1,))\n",
       "     (2): ReLU()\n",
       "     (3): Dropout(p=0.5, inplace=False)\n",
       "   )\n",
       "   (trigramcnn): Sequential(\n",
       "     (0): Conv1d(300, 300, kernel_size=(3,), stride=(1,), padding=(1,))\n",
       "     (1): Conv1d(300, 300, kernel_size=(3,), stride=(1,), padding=(1,))\n",
       "     (2): ReLU()\n",
       "     (3): Dropout(p=0.5, inplace=False)\n",
       "   )\n",
       "   (encoder_bigram_first): LSTM(300, 100, batch_first=True, dropout=0.5, bidirectional=True)\n",
       "   (encoder_trigram_first): LSTM(300, 100, batch_first=True, dropout=0.5, bidirectional=True)\n",
       "   (linear): Sequential(\n",
       "     (0): Linear(in_features=404, out_features=30, bias=True)\n",
       "     (1): ReLU()\n",
       "     (2): Linear(in_features=30, out_features=1, bias=True)\n",
       "   )\n",
       " ),\n",
       " 5366281,\n",
       " 5366281)"
      ]
     },
     "metadata": {},
     "execution_count": 9
    }
   ],
   "source": [
    "AttractiveTrainer.model, AttractiveTrainer.config['total_params'], AttractiveTrainer.config['total_learned_params']"
   ]
  },
  {
   "cell_type": "code",
   "execution_count": 10,
   "metadata": {
    "tags": [
     "outputPrepend"
    ]
   },
   "outputs": [
    {
     "output_type": "stream",
     "name": "stderr",
     "text": [
      "14733273375 | val loss: 0.35324875981199977 |\n",
      "Epoch:  24%|██▍       | 48/200 [00:22<01:09,  2.17it/s]\n",
      "EP_47 | train loss: 0.4154857383054845 | val loss: 0.3516562546000761 |\n",
      "Epoch:  24%|██▍       | 49/200 [00:22<01:09,  2.17it/s]\n",
      "EP_48 | train loss: 0.412686227349674 | val loss: 0.35023638372327764 |\n",
      "Epoch:  25%|██▌       | 50/200 [00:23<01:08,  2.18it/s]\n",
      "EP_49 | train loss: 0.40956916996077 | val loss: 0.34791553487964705 |\n",
      "Epoch:  26%|██▌       | 51/200 [00:23<01:08,  2.16it/s]\n",
      "EP_50 | train loss: 0.41173709420596855 | val loss: 0.35034968221888824 |\n",
      "Epoch:  26%|██▌       | 52/200 [00:24<01:08,  2.17it/s]\n",
      "EP_51 | train loss: 0.41283036166546394 | val loss: 0.3527648197669609 |\n",
      "Epoch:  26%|██▋       | 53/200 [00:24<01:07,  2.18it/s]\n",
      "EP_52 | train loss: 0.4059652599633909 | val loss: 0.3439415991306305 |\n",
      "Epoch:  27%|██▋       | 54/200 [00:25<01:07,  2.17it/s]\n",
      "EP_53 | train loss: 0.40125104025298475 | val loss: 0.3431863580264297 |\n",
      "Epoch:  28%|██▊       | 55/200 [00:25<01:06,  2.18it/s]\n",
      "EP_54 | train loss: 0.40228576473161287 | val loss: 0.34347012639045715 |\n",
      "Epoch:  28%|██▊       | 56/200 [00:26<01:06,  2.15it/s]\n",
      "EP_55 | train loss: 0.3985626033708161 | val loss: 0.3434526569703046 |\n",
      "Epoch:  28%|██▊       | 57/200 [00:26<01:06,  2.17it/s]\n",
      "EP_56 | train loss: 0.39824234410828235 | val loss: 0.3438318173090617 |\n",
      "Epoch:  29%|██▉       | 58/200 [00:27<01:05,  2.18it/s]\n",
      "EP_57 | train loss: 0.3953299082961737 | val loss: 0.34037492847910117 |\n",
      "Epoch:  30%|██▉       | 59/200 [00:27<01:04,  2.18it/s]\n",
      "EP_58 | train loss: 0.39551001623565074 | val loss: 0.34148816910444524 |\n",
      "Epoch:  30%|███       | 60/200 [00:27<01:04,  2.18it/s]\n",
      "EP_59 | train loss: 0.3889292544009639 | val loss: 0.3369765819287768 |\n",
      "Epoch:  30%|███       | 61/200 [00:28<01:05,  2.14it/s]\n",
      "EP_60 | train loss: 0.390717233396044 | val loss: 0.33753131534539016 |\n",
      "Epoch:  31%|███       | 62/200 [00:28<01:04,  2.15it/s]\n",
      "EP_61 | train loss: 0.3914846214593626 | val loss: 0.3416198082998687 |\n",
      "Epoch:  32%|███▏      | 63/200 [00:29<01:03,  2.16it/s]\n",
      "EP_62 | train loss: 0.3851494835872276 | val loss: 0.335722171792797 |\n",
      "Epoch:  32%|███▏      | 64/200 [00:29<01:02,  2.17it/s]\n",
      "EP_63 | train loss: 0.3829579428130505 | val loss: 0.3356848715567121 |\n",
      "Epoch:  32%|███▎      | 65/200 [00:30<01:01,  2.18it/s]\n",
      "EP_64 | train loss: 0.3811700185139974 | val loss: 0.3322666106270809 |\n",
      "Epoch:  33%|███▎      | 66/200 [00:30<01:01,  2.16it/s]\n",
      "EP_65 | train loss: 0.38410420324288164 | val loss: 0.33490874194631387 |\n",
      "Epoch:  34%|███▎      | 67/200 [00:31<01:01,  2.17it/s]\n",
      "EP_66 | train loss: 0.376337625466141 | val loss: 0.33115141473564447 |\n",
      "Epoch:  34%|███▍      | 68/200 [00:31<01:01,  2.16it/s]\n",
      "EP_67 | train loss: 0.37354402916104185 | val loss: 0.32982593073564415 |\n",
      "Epoch:  34%|███▍      | 69/200 [00:32<01:00,  2.18it/s]\n",
      "EP_68 | train loss: 0.37337442846859203 | val loss: 0.3298801779747009 |\n",
      "Epoch:  35%|███▌      | 70/200 [00:32<00:59,  2.19it/s]\n",
      "EP_69 | train loss: 0.37166750571307017 | val loss: 0.3283162964325325 |\n",
      "Epoch:  36%|███▌      | 71/200 [00:33<00:59,  2.16it/s]\n",
      "EP_70 | train loss: 0.3728876679551368 | val loss: 0.33176595907585293 |\n",
      "Epoch:  36%|███▌      | 72/200 [00:33<00:59,  2.16it/s]\n",
      "EP_71 | train loss: 0.36642538566215366 | val loss: 0.3253757538748722 |\n",
      "Epoch:  36%|███▋      | 73/200 [00:33<00:58,  2.18it/s]\n",
      "EP_72 | train loss: 0.3647403553420422 | val loss: 0.3246867463869207 |\n",
      "Epoch:  37%|███▋      | 74/200 [00:34<00:57,  2.18it/s]\n",
      "EP_73 | train loss: 0.3650253548341639 | val loss: 0.32443129782583197 |\n",
      "Epoch:  38%|███▊      | 75/200 [00:34<00:57,  2.19it/s]\n",
      "EP_74 | train loss: 0.3603523815379423 | val loss: 0.32286155340718287 |\n",
      "Epoch:  38%|███▊      | 76/200 [00:35<00:57,  2.16it/s]\n",
      "EP_75 | train loss: 0.3590143175686107 | val loss: 0.32343248292511584 |\n",
      "Epoch:  38%|███▊      | 77/200 [00:35<00:56,  2.18it/s]\n",
      "EP_76 | train loss: 0.3576235630932976 | val loss: 0.32224610740063236 |\n",
      "Epoch:  39%|███▉      | 78/200 [00:36<00:55,  2.19it/s]\n",
      "EP_77 | train loss: 0.3602524953729966 | val loss: 0.3273121241260977 |\n",
      "Epoch:  40%|███▉      | 79/200 [00:36<00:54,  2.20it/s]\n",
      "EP_78 | train loss: 0.35199600060780845 | val loss: 0.31880290309588116 |\n",
      "Epoch:  40%|████      | 80/200 [00:37<00:54,  2.19it/s]\n",
      "EP_79 | train loss: 0.3532669142180798 | val loss: 0.3189426344983718 |\n",
      "Epoch:  40%|████      | 81/200 [00:37<00:54,  2.17it/s]\n",
      "EP_80 | train loss: 0.3478207144082761 | val loss: 0.31636660356147617 |\n",
      "Epoch:  41%|████      | 82/200 [00:38<00:54,  2.18it/s]\n",
      "EP_81 | train loss: 0.34682059475019866 | val loss: 0.31556136760057185 |\n",
      "Epoch:  42%|████▏     | 83/200 [00:38<00:53,  2.18it/s]\n",
      "EP_82 | train loss: 0.34584785068736357 | val loss: 0.31327737780178294 |\n",
      "Epoch:  42%|████▏     | 84/200 [00:39<00:52,  2.19it/s]\n",
      "EP_83 | train loss: 0.34234122108010684 | val loss: 0.3121604229889664 |\n",
      "Epoch:  42%|████▎     | 85/200 [00:39<00:52,  2.19it/s]\n",
      "EP_84 | train loss: 0.3424384023628983 | val loss: 0.31219856470238927 |\n",
      "Epoch:  43%|████▎     | 86/200 [00:39<00:52,  2.16it/s]\n",
      "EP_85 | train loss: 0.34022124982347673 | val loss: 0.312723157452602 |\n",
      "Epoch:  44%|████▎     | 87/200 [00:40<00:52,  2.15it/s]\n",
      "EP_86 | train loss: 0.33763627164504106 | val loss: 0.30941664062294305 |\n",
      "Epoch:  44%|████▍     | 88/200 [00:40<00:52,  2.14it/s]\n",
      "EP_87 | train loss: 0.3360723761951222 | val loss: 0.3105996595878227 |\n",
      "Epoch:  44%|████▍     | 89/200 [00:41<00:51,  2.16it/s]\n",
      "EP_88 | train loss: 0.3326514440424302 | val loss: 0.3053930360896915 |\n",
      "Epoch:  45%|████▌     | 90/200 [00:41<00:51,  2.15it/s]\n",
      "EP_89 | train loss: 0.3333577366436229 | val loss: 0.30734261753512365 |\n",
      "Epoch:  46%|████▌     | 91/200 [00:42<00:50,  2.14it/s]\n",
      "EP_90 | train loss: 0.3296305450738645 | val loss: 0.304274601094863 |\n",
      "Epoch:  46%|████▌     | 92/200 [00:42<00:50,  2.15it/s]\n",
      "EP_91 | train loss: 0.3272780553967345 | val loss: 0.30400387679829316 |\n",
      "Epoch:  46%|████▋     | 93/200 [00:43<00:49,  2.16it/s]\n",
      "EP_92 | train loss: 0.3254658778508504 | val loss: 0.30088872184940413 |\n",
      "Epoch:  47%|████▋     | 94/200 [00:43<00:48,  2.17it/s]\n",
      "EP_93 | train loss: 0.32320441965963326 | val loss: 0.30110104761871637 |\n",
      "Epoch:  48%|████▊     | 95/200 [00:44<00:48,  2.17it/s]\n",
      "EP_94 | train loss: 0.330108772539625 | val loss: 0.30683303814308316 |\n",
      "Epoch:  48%|████▊     | 96/200 [00:44<00:48,  2.15it/s]\n",
      "EP_95 | train loss: 0.31943007169985305 | val loss: 0.2978132957336949 |\n",
      "Epoch:  48%|████▊     | 97/200 [00:45<00:47,  2.16it/s]\n",
      "EP_96 | train loss: 0.31729722911236335 | val loss: 0.29668746158188464 |\n",
      "Epoch:  49%|████▉     | 98/200 [00:45<00:46,  2.18it/s]\n",
      "EP_97 | train loss: 0.316409296615451 | val loss: 0.29478899345678444 |\n",
      "Epoch:  50%|████▉     | 99/200 [00:45<00:45,  2.20it/s]\n",
      "EP_98 | train loss: 0.32129916022805605 | val loss: 0.3006017605463664 |\n",
      "Epoch:  50%|█████     | 100/200 [00:46<00:45,  2.20it/s]\n",
      "EP_99 | train loss: 0.31499973278419646 | val loss: 0.29587333517916065 |\n",
      "Epoch:  50%|█████     | 101/200 [00:46<00:45,  2.17it/s]\n",
      "EP_100 | train loss: 0.31019999887429034 | val loss: 0.29121924849117503 |\n",
      "Epoch:  51%|█████     | 102/200 [00:47<00:44,  2.18it/s]\n",
      "EP_101 | train loss: 0.3104622508965287 | val loss: 0.29073356939297096 |\n",
      "Epoch:  52%|█████▏    | 103/200 [00:47<00:44,  2.19it/s]\n",
      "EP_102 | train loss: 0.30625316582474055 | val loss: 0.28889663020769757 |\n",
      "Epoch:  52%|█████▏    | 104/200 [00:48<00:43,  2.19it/s]\n",
      "EP_103 | train loss: 0.3059712989657533 | val loss: 0.2889886130304897 |\n",
      "Epoch:  52%|█████▎    | 105/200 [00:48<00:43,  2.20it/s]\n",
      "EP_104 | train loss: 0.3031455773933261 | val loss: 0.28583355686243844 |\n",
      "Epoch:  53%|█████▎    | 106/200 [00:49<00:43,  2.16it/s]\n",
      "EP_105 | train loss: 0.3036745688494514 | val loss: 0.28825487459407134 |\n",
      "Epoch:  54%|█████▎    | 107/200 [00:49<00:42,  2.18it/s]\n",
      "EP_106 | train loss: 0.29840883554196823 | val loss: 0.28332295955396164 |\n",
      "Epoch:  54%|█████▍    | 108/200 [00:50<00:42,  2.18it/s]\n",
      "EP_107 | train loss: 0.3033034175050025 | val loss: 0.2884206818599327 |\n",
      "Epoch:  55%|█████▍    | 109/200 [00:50<00:41,  2.19it/s]\n",
      "EP_108 | train loss: 0.2961946249008179 | val loss: 0.2809046436758602 |\n",
      "Epoch:  55%|█████▌    | 110/200 [00:50<00:41,  2.19it/s]\n",
      "EP_109 | train loss: 0.2941750769521676 | val loss: 0.27759702883514703 |\n",
      "Epoch:  56%|█████▌    | 111/200 [00:51<00:41,  2.16it/s]\n",
      "EP_110 | train loss: 0.2903196418986601 | val loss: 0.27548636759028716 |\n",
      "Epoch:  56%|█████▌    | 112/200 [00:51<00:40,  2.17it/s]\n",
      "EP_111 | train loss: 0.2891890095729454 | val loss: 0.27513086795806885 |\n",
      "Epoch:  56%|█████▋    | 113/200 [00:52<00:40,  2.16it/s]\n",
      "EP_112 | train loss: 0.2896024643206129 | val loss: 0.2746730505251417 |\n",
      "Epoch:  57%|█████▋    | 114/200 [00:52<00:39,  2.17it/s]\n",
      "EP_113 | train loss: 0.28582723841947666 | val loss: 0.27242472709393967 |\n",
      "Epoch:  57%|█████▊    | 115/200 [00:53<00:39,  2.17it/s]\n",
      "EP_114 | train loss: 0.28744273372724943 | val loss: 0.2738889251269546 |\n",
      "Epoch:  58%|█████▊    | 116/200 [00:53<00:39,  2.13it/s]\n",
      "EP_115 | train loss: 0.28198083709268007 | val loss: 0.26959313715205474 |\n",
      "Epoch:  58%|█████▊    | 117/200 [00:54<00:38,  2.15it/s]\n",
      "EP_116 | train loss: 0.2794934469110825 | val loss: 0.26771241660211603 |\n",
      "Epoch:  59%|█████▉    | 118/200 [00:54<00:37,  2.16it/s]\n",
      "EP_117 | train loss: 0.2814798126033708 | val loss: 0.26921414218696893 |\n",
      "Epoch:  60%|█████▉    | 119/200 [00:55<00:37,  2.16it/s]\n",
      "EP_118 | train loss: 0.27807283775479186 | val loss: 0.2664799853867176 |\n",
      "Epoch:  60%|██████    | 120/200 [00:55<00:36,  2.18it/s]\n",
      "EP_119 | train loss: 0.2752524212294934 | val loss: 0.2638004860457252 |\n",
      "Epoch:  60%|██████    | 121/200 [00:56<00:37,  2.11it/s]\n",
      "EP_120 | train loss: 0.27560240754894183 | val loss: 0.2639448987502678 |\n",
      "Epoch:  61%|██████    | 122/200 [00:56<00:36,  2.13it/s]\n",
      "EP_121 | train loss: 0.271117763893277 | val loss: 0.2609412564950831 |\n",
      "Epoch:  62%|██████▏   | 123/200 [00:57<00:35,  2.15it/s]\n",
      "EP_122 | train loss: 0.2793342716553632 | val loss: 0.2710011040463167 |\n",
      "Epoch:  62%|██████▏   | 124/200 [00:57<00:35,  2.16it/s]\n",
      "EP_123 | train loss: 0.2695008866927203 | val loss: 0.25854473897055086 |\n",
      "Epoch:  62%|██████▎   | 125/200 [00:57<00:34,  2.16it/s]\n",
      "EP_124 | train loss: 0.266954633768867 | val loss: 0.25615689041567785 |\n",
      "Epoch:  63%|██████▎   | 126/200 [00:58<00:34,  2.14it/s]\n",
      "EP_125 | train loss: 0.2620731040543201 | val loss: 0.2517944632792005 |\n",
      "Epoch:  64%|██████▎   | 127/200 [00:58<00:33,  2.15it/s]\n",
      "EP_126 | train loss: 0.2645914077758789 | val loss: 0.25374680699086655 |\n",
      "Epoch:  64%|██████▍   | 128/200 [00:59<00:33,  2.16it/s]\n",
      "EP_127 | train loss: 0.2585916935228834 | val loss: 0.24889996472526998 |\n",
      "Epoch:  64%|██████▍   | 129/200 [00:59<00:32,  2.16it/s]\n",
      "EP_128 | train loss: 0.2567056193071253 | val loss: 0.2467282046290005 |\n",
      "Epoch:  65%|██████▌   | 130/200 [01:00<00:32,  2.17it/s]\n",
      "EP_129 | train loss: 0.25667420555563536 | val loss: 0.24551667360698476 |\n",
      "Epoch:  66%|██████▌   | 131/200 [01:00<00:32,  2.11it/s]\n",
      "EP_130 | train loss: 0.2556653803470088 | val loss: 0.24584681263156966 |\n",
      "Epoch:  66%|██████▌   | 132/200 [01:01<00:32,  2.11it/s]\n",
      "EP_131 | train loss: 0.25253164066987877 | val loss: 0.24299448319509917 |\n",
      "Epoch:  66%|██████▋   | 133/200 [01:01<00:31,  2.12it/s]\n",
      "EP_132 | train loss: 0.24907908065646303 | val loss: 0.2424116549538631 |\n",
      "Epoch:  67%|██████▋   | 134/200 [01:02<00:31,  2.13it/s]\n",
      "EP_133 | train loss: 0.2522503848169364 | val loss: 0.24231522106656841 |\n",
      "Epoch:  68%|██████▊   | 135/200 [01:02<00:30,  2.14it/s]\n",
      "EP_134 | train loss: 0.24587225306267832 | val loss: 0.2394413217610004 |\n",
      "Epoch:  68%|██████▊   | 136/200 [01:03<00:30,  2.13it/s]\n",
      "EP_135 | train loss: 0.24563401353125477 | val loss: 0.2380069611119289 |\n",
      "Epoch:  68%|██████▊   | 137/200 [01:03<00:29,  2.13it/s]\n",
      "EP_136 | train loss: 0.24236973827960445 | val loss: 0.23479937513669333 |\n",
      "Epoch:  69%|██████▉   | 138/200 [01:04<00:28,  2.15it/s]\n",
      "EP_137 | train loss: 0.23959086923038259 | val loss: 0.23203461368878683 |\n",
      "Epoch:  70%|██████▉   | 139/200 [01:04<00:28,  2.16it/s]\n",
      "EP_138 | train loss: 0.2382211353264603 | val loss: 0.23040689907821954 |\n",
      "Epoch:  70%|███████   | 140/200 [01:04<00:27,  2.17it/s]\n",
      "EP_139 | train loss: 0.23731380771188176 | val loss: 0.23087800893129087 |\n",
      "Epoch:  70%|███████   | 141/200 [01:05<00:27,  2.14it/s]\n",
      "EP_140 | train loss: 0.23318908308066574 | val loss: 0.2245802335879382 |\n",
      "Epoch:  71%|███████   | 142/200 [01:05<00:26,  2.15it/s]\n",
      "EP_141 | train loss: 0.23914990471858605 | val loss: 0.23096473368943907 |\n",
      "Epoch:  72%|███████▏  | 143/200 [01:06<00:26,  2.16it/s]\n",
      "EP_142 | train loss: 0.23043543497721355 | val loss: 0.22414830619213627 |\n",
      "Epoch:  72%|███████▏  | 144/200 [01:06<00:25,  2.18it/s]\n",
      "EP_143 | train loss: 0.22993936445198807 | val loss: 0.2230586812776678 |\n",
      "Epoch:  72%|███████▎  | 145/200 [01:07<00:25,  2.19it/s]\n",
      "EP_144 | train loss: 0.22766567866007487 | val loss: 0.22016764213057124 |\n",
      "Epoch:  73%|███████▎  | 146/200 [01:07<00:25,  2.16it/s]\n",
      "EP_145 | train loss: 0.22420026788524552 | val loss: 0.21620694095013188 |\n",
      "Epoch:  74%|███████▎  | 147/200 [01:08<00:24,  2.18it/s]\n",
      "EP_146 | train loss: 0.2218853286668366 | val loss: 0.21300087197154177 |\n",
      "Epoch:  74%|███████▍  | 148/200 [01:08<00:23,  2.18it/s]\n",
      "EP_147 | train loss: 0.22160835289487651 | val loss: 0.21289538986542644 |\n",
      "Epoch:  74%|███████▍  | 149/200 [01:09<00:23,  2.19it/s]\n",
      "EP_148 | train loss: 0.21783274622524487 | val loss: 0.20841465627445893 |\n",
      "Epoch:  75%|███████▌  | 150/200 [01:09<00:22,  2.18it/s]\n",
      "EP_149 | train loss: 0.2177181510364308 | val loss: 0.207624625341565 |\n",
      "Epoch:  76%|███████▌  | 151/200 [01:10<00:22,  2.15it/s]\n",
      "EP_150 | train loss: 0.2136048153334973 | val loss: 0.20523468653361002 |\n",
      "Epoch:  76%|███████▌  | 152/200 [01:10<00:22,  2.16it/s]\n",
      "EP_151 | train loss: 0.21169661447113636 | val loss: 0.20239855904205173 |\n",
      "Epoch:  76%|███████▋  | 153/200 [01:10<00:21,  2.17it/s]\n",
      "EP_152 | train loss: 0.20917149104324043 | val loss: 0.20019669743145213 |\n",
      "Epoch:  77%|███████▋  | 154/200 [01:11<00:21,  2.17it/s]\n",
      "EP_153 | train loss: 0.20871557955648384 | val loss: 0.2027446417247548 |\n",
      "Epoch:  78%|███████▊  | 155/200 [01:11<00:20,  2.19it/s]\n",
      "EP_154 | train loss: 0.20595004652060714 | val loss: 0.19901998136557786 |\n",
      "Epoch:  78%|███████▊  | 156/200 [01:12<00:20,  2.15it/s]\n",
      "EP_155 | train loss: 0.20495317496505439 | val loss: 0.19632994894887887 |\n",
      "Epoch:  78%|███████▊  | 157/200 [01:12<00:19,  2.17it/s]\n",
      "EP_156 | train loss: 0.20544806414959477 | val loss: 0.19458925314978057 |\n",
      "Epoch:  79%|███████▉  | 158/200 [01:13<00:19,  2.17it/s]\n",
      "EP_157 | train loss: 0.21636677489561193 | val loss: 0.20801982692643708 |\n",
      "Epoch:  80%|███████▉  | 159/200 [01:13<00:18,  2.17it/s]\n",
      "EP_158 | train loss: 0.19706306551017014 | val loss: 0.1876160327125998 |\n",
      "Epoch:  80%|████████  | 160/200 [01:14<00:18,  2.17it/s]\n",
      "EP_159 | train loss: 0.19421883704615575 | val loss: 0.1836700223240198 |\n",
      "Epoch:  80%|████████  | 161/200 [01:14<00:18,  2.14it/s]\n",
      "EP_160 | train loss: 0.19250891278771792 | val loss: 0.18423127602128422 |\n",
      "Epoch:  81%|████████  | 162/200 [01:15<00:17,  2.16it/s]\n",
      "EP_161 | train loss: 0.19070587532193053 | val loss: 0.18275418994473477 |\n",
      "Epoch:  82%|████████▏ | 163/200 [01:15<00:17,  2.16it/s]\n",
      "EP_162 | train loss: 0.1881498610272127 | val loss: 0.1796233028757806 |\n",
      "Epoch:  82%|████████▏ | 164/200 [01:16<00:16,  2.18it/s]\n",
      "EP_163 | train loss: 0.18824610336154116 | val loss: 0.1781714564444972 |\n",
      "Epoch:  82%|████████▎ | 165/200 [01:16<00:15,  2.19it/s]\n",
      "EP_164 | train loss: 0.18366956103081797 | val loss: 0.17734366772221585 |\n",
      "Epoch:  83%|████████▎ | 166/200 [01:16<00:15,  2.15it/s]\n",
      "EP_165 | train loss: 0.18198126601237877 | val loss: 0.173871834488476 |\n",
      "Epoch:  84%|████████▎ | 167/200 [01:17<00:15,  2.16it/s]\n",
      "EP_166 | train loss: 0.17960061442618278 | val loss: 0.16905775198749468 |\n",
      "Epoch:  84%|████████▍ | 168/200 [01:17<00:14,  2.17it/s]\n",
      "EP_167 | train loss: 0.17784191019394818 | val loss: 0.16945471132502837 |\n",
      "Epoch:  84%|████████▍ | 169/200 [01:18<00:14,  2.17it/s]\n",
      "EP_168 | train loss: 0.1911588184973773 | val loss: 0.18211009630969927 |\n",
      "Epoch:  85%|████████▌ | 170/200 [01:18<00:13,  2.18it/s]\n",
      "EP_169 | train loss: 0.17965414851319556 | val loss: 0.17088118779893016 |\n",
      "Epoch:  86%|████████▌ | 171/200 [01:19<00:13,  2.15it/s]\n",
      "EP_170 | train loss: 0.1712272838050244 | val loss: 0.16454307179824978 |\n",
      "Epoch:  86%|████████▌ | 172/200 [01:19<00:12,  2.15it/s]\n",
      "EP_171 | train loss: 0.17025967018277038 | val loss: 0.16262527774362004 |\n",
      "Epoch:  86%|████████▋ | 173/200 [01:20<00:12,  2.17it/s]\n",
      "EP_172 | train loss: 0.16643366018931072 | val loss: 0.15840493814617979 |\n",
      "Epoch:  87%|████████▋ | 174/200 [01:20<00:11,  2.17it/s]\n",
      "EP_173 | train loss: 0.17744869952108347 | val loss: 0.16853689738348418 |\n",
      "Epoch:  88%|████████▊ | 175/200 [01:21<00:11,  2.18it/s]\n",
      "EP_174 | train loss: 0.16384539721058863 | val loss: 0.1532834084594951 |\n",
      "Epoch:  88%|████████▊ | 176/200 [01:21<00:11,  2.16it/s]\n",
      "EP_175 | train loss: 0.16386278727475334 | val loss: 0.15504301704612433 |\n",
      "Epoch:  88%|████████▊ | 177/200 [01:22<00:10,  2.17it/s]\n",
      "EP_176 | train loss: 0.16262077209996242 | val loss: 0.1531355176486221 |\n",
      "Epoch:  89%|████████▉ | 178/200 [01:22<00:10,  2.17it/s]\n",
      "EP_177 | train loss: 0.16364287815841974 | val loss: 0.15382256694868499 |\n",
      "Epoch:  90%|████████▉ | 179/200 [01:22<00:09,  2.18it/s]\n",
      "EP_178 | train loss: 0.15381943384806315 | val loss: 0.14353523593322903 |\n",
      "Epoch:  90%|█████████ | 180/200 [01:23<00:09,  2.18it/s]\n",
      "EP_179 | train loss: 0.1541718885010364 | val loss: 0.14543230919276967 |\n",
      "Epoch:  90%|█████████ | 181/200 [01:23<00:08,  2.15it/s]\n",
      "EP_180 | train loss: 0.15705414262472414 | val loss: 0.14604760385027118 |\n",
      "Epoch:  91%|█████████ | 182/200 [01:24<00:08,  2.17it/s]\n",
      "EP_181 | train loss: 0.1480944177683662 | val loss: 0.1368647878076516 |\n",
      "Epoch:  92%|█████████▏| 183/200 [01:24<00:07,  2.18it/s]\n",
      "EP_182 | train loss: 0.15391317722844142 | val loss: 0.14492340941055148 |\n",
      "Epoch:  92%|█████████▏| 184/200 [01:25<00:07,  2.18it/s]\n",
      "EP_183 | train loss: 0.14415031835144643 | val loss: 0.1360503446822073 |\n",
      "Epoch:  92%|█████████▎| 185/200 [01:25<00:06,  2.19it/s]\n",
      "EP_184 | train loss: 0.14248155729443418 | val loss: 0.1339597000795252 |\n",
      "Epoch:  93%|█████████▎| 186/200 [01:26<00:06,  2.17it/s]\n",
      "EP_185 | train loss: 0.13799891238119089 | val loss: 0.12877749578625547 |\n",
      "Epoch:  94%|█████████▎| 187/200 [01:26<00:06,  2.16it/s]\n",
      "EP_186 | train loss: 0.13827318069981595 | val loss: 0.1287038384699354 |\n",
      "Epoch:  94%|█████████▍| 188/200 [01:27<00:05,  2.08it/s]\n",
      "EP_187 | train loss: 0.13360548276527257 | val loss: 0.12586157286868377 |\n",
      "Epoch:  94%|█████████▍| 189/200 [01:27<00:05,  2.08it/s]\n",
      "EP_188 | train loss: 0.1313392907965417 | val loss: 0.1232331114656785 |\n",
      "Epoch:  95%|█████████▌| 190/200 [01:28<00:04,  2.11it/s]\n",
      "EP_189 | train loss: 0.14936320033727907 | val loss: 0.14124526112687355 |\n",
      "Epoch:  96%|█████████▌| 191/200 [01:28<00:04,  2.09it/s]\n",
      "EP_190 | train loss: 0.1267830444317238 | val loss: 0.11638351135394152 |\n",
      "Epoch:  96%|█████████▌| 192/200 [01:29<00:03,  2.12it/s]\n",
      "EP_191 | train loss: 0.13313538093192906 | val loss: 0.12499278316310808 |\n",
      "Epoch:  96%|█████████▋| 193/200 [01:29<00:03,  2.14it/s]\n",
      "EP_192 | train loss: 0.132801087697347 | val loss: 0.12451461249706793 |\n",
      "Epoch:  97%|█████████▋| 194/200 [01:29<00:02,  2.16it/s]\n",
      "EP_193 | train loss: 0.12051439226842393 | val loss: 0.11513324140333663 |\n",
      "Epoch:  98%|█████████▊| 195/200 [01:30<00:02,  2.17it/s]\n",
      "EP_194 | train loss: 0.12130530348011091 | val loss: 0.11464426564235314 |\n",
      "Epoch:  98%|█████████▊| 196/200 [01:30<00:01,  2.15it/s]\n",
      "EP_195 | train loss: 0.1169521687077541 | val loss: 0.11018942763992384 |\n",
      "Epoch:  98%|█████████▊| 197/200 [01:31<00:01,  2.16it/s]\n",
      "EP_196 | train loss: 0.11797158390867944 | val loss: 0.11074633691825118 |\n",
      "Epoch:  99%|█████████▉| 198/200 [01:31<00:00,  2.17it/s]\n",
      "EP_197 | train loss: 0.11208546617451837 | val loss: 0.10585255774797178 |\n",
      "Epoch: 100%|█████████▉| 199/200 [01:32<00:00,  2.18it/s]\n",
      "EP_198 | train loss: 0.11516570133321426 | val loss: 0.10740728354921528 |\n",
      "Epoch: 100%|██████████| 200/200 [01:32<00:00,  2.16it/s]\n",
      "EP_199 | train loss: 0.11427088040931552 | val loss: 0.1078830250338012 |\n",
      "\n"
     ]
    }
   ],
   "source": [
    "AttractiveTrainer.train()"
   ]
  },
  {
   "cell_type": "markdown",
   "metadata": {},
   "source": [
    "## for classification, not better"
   ]
  },
  {
   "cell_type": "markdown",
   "metadata": {},
   "source": [
    "## Below is testing"
   ]
  },
  {
   "cell_type": "code",
   "execution_count": 8,
   "metadata": {},
   "outputs": [
    {
     "output_type": "execute_result",
     "data": {
      "text/plain": [
       "AttractiveNet(\n",
       "  (embedding): AttractiveEmbedding(\n",
       "    (token): TokenEmbedding(12699, 300, padding_idx=1)\n",
       "  )\n",
       "  (bigramcnn): Sequential(\n",
       "    (0): Conv1d(300, 300, kernel_size=(2,), stride=(1,), padding=(1,))\n",
       "    (1): Conv1d(300, 300, kernel_size=(2,), stride=(1,), padding=(1,))\n",
       "    (2): ReLU()\n",
       "    (3): Dropout(p=0.5, inplace=False)\n",
       "  )\n",
       "  (trigramcnn): Sequential(\n",
       "    (0): Conv1d(300, 300, kernel_size=(3,), stride=(1,), padding=(1,))\n",
       "    (1): Conv1d(300, 300, kernel_size=(3,), stride=(1,), padding=(1,))\n",
       "    (2): ReLU()\n",
       "    (3): Dropout(p=0.5, inplace=False)\n",
       "  )\n",
       "  (encoder_bigram_first): LSTM(300, 100, batch_first=True, dropout=0.5, bidirectional=True)\n",
       "  (encoder_trigram_first): LSTM(300, 100, batch_first=True, dropout=0.5, bidirectional=True)\n",
       "  (linear): Sequential(\n",
       "    (0): Linear(in_features=404, out_features=30, bias=True)\n",
       "    (1): ReLU()\n",
       "    (2): Linear(in_features=30, out_features=1, bias=True)\n",
       "  )\n",
       ")"
      ]
     },
     "metadata": {},
     "execution_count": 8
    }
   ],
   "source": [
    "from attractivenet import AttractiveNet\n",
    "\n",
    "PATH = './model/CNN_LSTM_20201107-154928/0.372888.70'\n",
    "\n",
    "load_model = AttractiveNet(config).to(AttractiveData.device)\n",
    "load_model.load_state_dict(torch.load(PATH))\n",
    "load_model.eval()"
   ]
  },
  {
   "cell_type": "code",
   "execution_count": 9,
   "metadata": {},
   "outputs": [],
   "source": [
    "def predict_attractive(sentence, category, phase):\n",
    "    indexed_sentence = [AttractiveData.TEXT.vocab.stoi[t] for t in sentence]\n",
    "    indexed_category = [AttractiveData.CATEGORIES_LABEL.vocab.stoi[category]]\n",
    "    tensor_sentence = torch.LongTensor(indexed_sentence).to(AttractiveData.device)\n",
    "    tensor_category = torch.LongTensor(indexed_category).to(AttractiveData.device)\n",
    "\n",
    "    tensor_sentence = tensor_sentence.unsqueeze(0)\n",
    "    # print(tensor_sentence.shape)\n",
    "\n",
    "    prediction = load_model(tensor_sentence, tensor_category, phase=phase)\n",
    "\n",
    "    return prediction"
   ]
  },
  {
   "cell_type": "code",
   "execution_count": 10,
   "metadata": {
    "tags": []
   },
   "outputs": [],
   "source": [
    "# train mean = 3.15, test mean = 2.8\n",
    "predict_list = []\n",
    "with torch.no_grad():\n",
    "    for i, sentence in enumerate(AttractiveData.test_data):\n",
    "        prediction = predict_attractive(sentence.Headline, sentence.Category, 'test')\n",
    "        predict_list.append(prediction.item())\n",
    "        # predict_list.append(prediction.item())\n",
    "AttractiveData.df_test['Label'] = predict_list\n",
    "AttractiveData.df_test[['ID', 'Label']].to_csv(config['save_name'] + '.csv', index=False)"
   ]
  },
  {
   "cell_type": "markdown",
   "metadata": {},
   "source": [
    "## Below for statistics"
   ]
  },
  {
   "cell_type": "code",
   "execution_count": 11,
   "metadata": {},
   "outputs": [],
   "source": [
    "import statistics\n",
    "from sklearn.metrics import mean_squared_error"
   ]
  },
  {
   "cell_type": "code",
   "execution_count": 12,
   "metadata": {},
   "outputs": [],
   "source": [
    "# # train mean = 3.15, test mean = 2.8\n",
    "# train_list = []\n",
    "# for i, sentence in enumerate(AttractiveData.train_data):\n",
    "#     prediction = predict_attractive(sentence.Headline, sentence.Category, 'train')\n",
    "#     train_list.append(prediction.item())\n",
    "#     # train_list.append(prediction.item())\n",
    "# # print(train_list)\n",
    "# mean_squared_error(pd.read_csv('data/train.csv').sort_values(['ID']).Label.to_list(), train_list), statistics.mean(train_list), statistics.stdev(train_list)"
   ]
  },
  {
   "cell_type": "code",
   "execution_count": 13,
   "metadata": {},
   "outputs": [],
   "source": [
    "# train_list[0:5], pd.read_csv('data/train.csv').sort_values(['ID']).Label.to_list()[0:5]"
   ]
  },
  {
   "cell_type": "code",
   "execution_count": 14,
   "metadata": {},
   "outputs": [],
   "source": [
    "# a = AttractiveData.df_train['Label'].to_list()\n",
    "# statistics.mean(a), statistics.stdev(a)"
   ]
  },
  {
   "cell_type": "code",
   "execution_count": 15,
   "metadata": {},
   "outputs": [
    {
     "output_type": "execute_result",
     "data": {
      "text/plain": [
       "(2.7162426521074403, 0.38130508921351863)"
      ]
     },
     "metadata": {},
     "execution_count": 15
    }
   ],
   "source": [
    "statistics.mean(predict_list), statistics.stdev(predict_list)"
   ]
  },
  {
   "cell_type": "code",
   "execution_count": 16,
   "metadata": {},
   "outputs": [
    {
     "output_type": "execute_result",
     "data": {
      "text/plain": [
       "(0.013673706009609632, 2.774164993857497, 0.3615900775742119)"
      ]
     },
     "metadata": {},
     "execution_count": 16
    }
   ],
   "source": [
    "baseline_list = pd.read_csv('baseline.csv').sort_values(['ID']).Label.to_list()\n",
    "mean_squared_error(baseline_list, predict_list), statistics.mean(baseline_list), statistics.stdev(baseline_list)"
   ]
  },
  {
   "cell_type": "code",
   "execution_count": null,
   "metadata": {},
   "outputs": [],
   "source": []
  },
  {
   "cell_type": "code",
   "execution_count": 18,
   "metadata": {},
   "outputs": [
    {
     "data": {
      "text/plain": [
       "0.1609754968529207"
      ]
     },
     "execution_count": 18,
     "metadata": {},
     "output_type": "execute_result"
    }
   ],
   "source": [
    "mean_squared_error(pd.read_csv('baseline.csv').sort_values(['ID']).Label.to_list(), pd.read_csv('./predict/ensemble.csv').sort_values(['ID']).Label.to_list())"
   ]
  },
  {
   "cell_type": "code",
   "execution_count": 10,
   "metadata": {},
   "outputs": [],
   "source": [
    "from sklearn.model_selection import KFold\n",
    "import numpy as np"
   ]
  },
  {
   "cell_type": "code",
   "execution_count": 11,
   "metadata": {},
   "outputs": [],
   "source": []
  },
  {
   "cell_type": "code",
   "execution_count": 12,
   "metadata": {},
   "outputs": [
    {
     "data": {
      "text/plain": [
       "2040"
      ]
     },
     "execution_count": 12,
     "metadata": {},
     "output_type": "execute_result"
    }
   ],
   "source": [
    "len(AttractiveData.train_data.examples)"
   ]
  },
  {
   "cell_type": "code",
   "execution_count": 13,
   "metadata": {},
   "outputs": [],
   "source": []
  },
  {
   "cell_type": "code",
   "execution_count": null,
   "metadata": {},
   "outputs": [],
   "source": []
  }
 ],
 "metadata": {
  "kernelspec": {
   "display_name": "DS_hw2",
   "language": "python",
   "name": "ds_hw2"
  },
  "language_info": {
   "codemirror_mode": {
    "name": "ipython",
    "version": 3
   },
   "file_extension": ".py",
   "mimetype": "text/x-python",
   "name": "python",
   "nbconvert_exporter": "python",
   "pygments_lexer": "ipython3",
   "version": "3.6.12-final"
  }
 },
 "nbformat": 4,
 "nbformat_minor": 4
}