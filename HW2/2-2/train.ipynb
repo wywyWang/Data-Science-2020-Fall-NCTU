{
 "cells": [
  {
   "cell_type": "code",
   "execution_count": 1,
   "metadata": {},
   "outputs": [],
   "source": [
    "# common packages\n",
    "import pandas as pd\n",
    "import time\n",
    "\n",
    "# # DL framework\n",
    "import torch\n",
    "from torchtext import data\n",
    "\n",
    "from attractivedata import AttractiveData\n",
    "from trainer import AttractiveTrainer"
   ]
  },
  {
   "cell_type": "code",
   "execution_count": 2,
   "metadata": {},
   "outputs": [],
   "source": [
    "seed_value = 42\n",
    "torch.manual_seed(seed_value)\n",
    "torch.cuda.manual_seed(seed_value)\n",
    "torch.cuda.manual_seed_all(seed_value) # gpu vars\n",
    "torch.backends.cudnn.deterministic = True  #needed\n",
    "torch.backends.cudnn.benchmark = False"
   ]
  },
  {
   "cell_type": "markdown",
   "metadata": {},
   "source": [
    "## Load and prepare data"
   ]
  },
  {
   "cell_type": "code",
   "execution_count": 3,
   "metadata": {},
   "outputs": [],
   "source": [
    "train_file = 'data/train.csv'\n",
    "val_file = 'example/val.csv'\n",
    "test_file = 'data/test.csv'\n",
    "pretrained_file = 'glove.840B.300d'\n",
    "config = {\n",
    "    'max_seq': 40,\n",
    "    'min_freq': 0,\n",
    "    'batch_size': 51,\n",
    "    'pretrained_file': pretrained_file\n",
    "}\n"
   ]
  },
  {
   "cell_type": "code",
   "execution_count": 4,
   "metadata": {},
   "outputs": [],
   "source": [
    "AttractiveData = AttractiveData(train_file, val_file, test_file, pretrained_file, config)"
   ]
  },
  {
   "cell_type": "markdown",
   "metadata": {},
   "source": [
    "## Start to train"
   ]
  },
  {
   "cell_type": "code",
   "execution_count": 5,
   "metadata": {},
   "outputs": [
    {
     "output_type": "stream",
     "name": "stdout",
     "text": [
      "torch.Size([12699, 300])\n"
     ]
    }
   ],
   "source": [
    "config['timestr'] = time.strftime(\"%Y%m%d-%H%M%S\")\n",
    "config['save_name'] = 'CNN_LSTM'\n",
    "config['input_dim'] = len(AttractiveData.TEXT.vocab)\n",
    "config['embedding_dim'] = 300\n",
    "config['category_dim'] = len(AttractiveData.CATEGORIES_LABEL.vocab)\n",
    "config['category_embedding_dim'] = 10\n",
    "config['hidden_dim'] = 30\n",
    "config['output_dim'] = 1\n",
    "config['log_steps'] = 10\n",
    "config['epochs'] = 150\n",
    "config['lr'] = {\n",
    "    'encoder': 1e-5,\n",
    "    'embedding': 6e-6,\n",
    "    'linear': 1e-5\n",
    "}\n",
    "config['num_layers'] = 1\n",
    "config['kernel_size'] = 3\n",
    "config['dropout'] = 0.5\n",
    "config['train_len'] = AttractiveData.train_len\n",
    "config['val_len'] = AttractiveData.val_len\n",
    "config['test_len'] = AttractiveData.test_len\n",
    "\n",
    "pretrained_embeddings = AttractiveData.TEXT.vocab.vectors\n",
    "print(pretrained_embeddings.shape)"
   ]
  },
  {
   "cell_type": "code",
   "execution_count": 6,
   "metadata": {},
   "outputs": [],
   "source": [
    "AttractiveTrainer = AttractiveTrainer(config, AttractiveData.device, AttractiveData.trainloader, AttractiveData.valloader, pretrained_embeddings)"
   ]
  },
  {
   "cell_type": "code",
   "execution_count": 7,
   "metadata": {},
   "outputs": [
    {
     "output_type": "execute_result",
     "data": {
      "text/plain": [
       "(AttractiveNet(\n",
       "   (embedding): AttractiveEmbedding(\n",
       "     (token): TokenEmbedding(12699, 300, padding_idx=1)\n",
       "   )\n",
       "   (bigramcnn): Sequential(\n",
       "     (0): Conv1d(300, 215, kernel_size=(2,), stride=(1,), padding=(1,))\n",
       "     (1): ReLU()\n",
       "     (2): Conv1d(215, 100, kernel_size=(2,), stride=(1,), padding=(1,))\n",
       "     (3): ReLU()\n",
       "     (4): Dropout(p=0.5, inplace=False)\n",
       "   )\n",
       "   (trigramcnn): Sequential(\n",
       "     (0): Conv1d(300, 215, kernel_size=(3,), stride=(1,), padding=(1,))\n",
       "     (1): ReLU()\n",
       "     (2): Conv1d(215, 100, kernel_size=(3,), stride=(1,), padding=(1,))\n",
       "     (3): ReLU()\n",
       "     (4): Dropout(p=0.5, inplace=False)\n",
       "   )\n",
       "   (encoder_bigram): LSTM(100, 30, batch_first=True, dropout=0.5, bidirectional=True)\n",
       "   (encoder_trigram): LSTM(100, 30, batch_first=True, dropout=0.5, bidirectional=True)\n",
       "   (linear): Sequential(\n",
       "     (0): Linear(in_features=128, out_features=30, bias=True)\n",
       "     (1): ReLU()\n",
       "     (2): Linear(in_features=30, out_features=1, bias=True)\n",
       "   )\n",
       " ),\n",
       " 4307591,\n",
       " 4307591)"
      ]
     },
     "metadata": {},
     "execution_count": 7
    }
   ],
   "source": [
    "AttractiveTrainer.model, AttractiveTrainer.config['total_params'], AttractiveTrainer.config['total_learned_params']"
   ]
  },
  {
   "cell_type": "code",
   "execution_count": 8,
   "metadata": {
    "tags": []
   },
   "outputs": [
    {
     "output_type": "stream",
     "name": "stderr",
     "text": [
      "Epoch:   1%|          | 1/150 [00:00<01:18,  1.90it/s]\n",
      "EP_0 | train loss: 3.0693928662468406 | val loss: 3.4504241943359375 |\n",
      "Epoch:   1%|▏         | 2/150 [00:01<01:16,  1.95it/s]\n",
      "EP_1 | train loss: 0.640911450105555 | val loss: 0.7486813021641151 |\n",
      "Epoch:   2%|▏         | 3/150 [00:01<01:13,  2.01it/s]\n",
      "EP_2 | train loss: 0.5687620985741709 | val loss: 0.7476298949297737 |\n",
      "Epoch:   3%|▎         | 4/150 [00:01<01:13,  2.00it/s]\n",
      "EP_3 | train loss: 0.5730812979679482 | val loss: 0.7261475114261403 |\n",
      "Epoch:   3%|▎         | 5/150 [00:02<01:12,  2.00it/s]\n",
      "EP_4 | train loss: 0.5584184403512992 | val loss: 0.7215589916004854 |\n",
      "Epoch:   4%|▍         | 6/150 [00:02<01:10,  2.05it/s]\n",
      "EP_5 | train loss: 0.57096614744149 | val loss: 0.6887310439465093 |\n",
      "Epoch:   5%|▍         | 7/150 [00:03<01:10,  2.02it/s]\n",
      "EP_6 | train loss: 0.5563651169047636 | val loss: 0.6899619943955365 |\n",
      "Epoch:   5%|▌         | 8/150 [00:03<01:09,  2.05it/s]\n",
      "EP_7 | train loss: 0.559216786365883 | val loss: 0.6672202839570887 |\n",
      "Epoch:   6%|▌         | 9/150 [00:04<01:07,  2.09it/s]\n",
      "EP_8 | train loss: 0.5530249735888313 | val loss: 0.6544372521194757 |\n",
      "Epoch:   7%|▋         | 10/150 [00:04<01:06,  2.11it/s]\n",
      "EP_9 | train loss: 0.5485702131308762 | val loss: 0.6488011304069968 |\n",
      "Epoch:   7%|▋         | 11/150 [00:05<01:06,  2.10it/s]\n",
      "EP_10 | train loss: 0.5544170968672808 | val loss: 0.6317784739475624 |\n",
      "Epoch:   8%|▊         | 12/150 [00:05<01:04,  2.13it/s]\n",
      "EP_11 | train loss: 0.5580162282083548 | val loss: 0.6192556175531125 |\n",
      "Epoch:   9%|▊         | 13/150 [00:06<01:03,  2.15it/s]\n",
      "EP_12 | train loss: 0.5441249230328729 | val loss: 0.6184716785655302 |\n",
      "Epoch:   9%|▉         | 14/150 [00:06<01:03,  2.16it/s]\n",
      "EP_13 | train loss: 0.5432278735964906 | val loss: 0.6062861984851313 |\n",
      "Epoch:  10%|█         | 15/150 [00:07<01:03,  2.14it/s]\n",
      "EP_14 | train loss: 0.5561340154386034 | val loss: 0.5899187536800609 |\n",
      "Epoch:  11%|█         | 16/150 [00:07<01:02,  2.15it/s]\n",
      "EP_15 | train loss: 0.5490888146793141 | val loss: 0.5847153196147844 |\n",
      "Epoch:  11%|█▏        | 17/150 [00:08<01:01,  2.15it/s]\n",
      "EP_16 | train loss: 0.5463593726064645 | val loss: 0.5765681173287186 |\n",
      "Epoch:  12%|█▏        | 18/150 [00:08<01:02,  2.10it/s]\n",
      "EP_17 | train loss: 0.541420467227113 | val loss: 0.5764488051919376 |\n",
      "Epoch:  13%|█▎        | 19/150 [00:09<01:03,  2.07it/s]\n",
      "EP_18 | train loss: 0.537998909108779 | val loss: 0.5689431265288708 |\n",
      "Epoch:  13%|█▎        | 20/150 [00:09<01:03,  2.04it/s]\n",
      "EP_19 | train loss: 0.5320437506133435 | val loss: 0.5624165347978181 |\n",
      "Epoch:  14%|█▍        | 21/150 [00:10<01:04,  2.01it/s]\n",
      "EP_20 | train loss: 0.5306452592213948 | val loss: 0.5598554330713609 |\n",
      "Epoch:  15%|█▍        | 22/150 [00:10<01:02,  2.03it/s]\n",
      "EP_21 | train loss: 0.5399998454486623 | val loss: 0.5474570498746985 |\n",
      "Epoch:  15%|█▌        | 23/150 [00:11<01:02,  2.03it/s]\n",
      "EP_22 | train loss: 0.5315111394022025 | val loss: 0.5426520833782121 |\n",
      "Epoch:  16%|█▌        | 24/150 [00:11<01:00,  2.07it/s]\n",
      "EP_23 | train loss: 0.5275352272332884 | val loss: 0.5382013601415297 |\n",
      "Epoch:  17%|█▋        | 25/150 [00:12<00:59,  2.09it/s]\n",
      "EP_24 | train loss: 0.5325301170349122 | val loss: 0.5303301437228334 |\n",
      "Epoch:  17%|█▋        | 26/150 [00:12<01:00,  2.06it/s]\n",
      "EP_25 | train loss: 0.5262870601579255 | val loss: 0.5259295631857479 |\n",
      "Epoch:  18%|█▊        | 27/150 [00:13<01:00,  2.04it/s]\n",
      "EP_26 | train loss: 0.5224629991194781 | val loss: 0.5227743504094142 |\n",
      "Epoch:  19%|█▊        | 28/150 [00:13<00:58,  2.08it/s]\n",
      "EP_27 | train loss: 0.516471461688771 | val loss: 0.5168310988183115 |\n",
      "Epoch:  19%|█▉        | 29/150 [00:13<00:57,  2.09it/s]\n",
      "EP_28 | train loss: 0.5182755077586455 | val loss: 0.5104610405716241 |\n",
      "Epoch:  20%|██        | 30/150 [00:14<00:58,  2.06it/s]\n",
      "EP_29 | train loss: 0.5166688040191052 | val loss: 0.5044110335555732 |\n",
      "Epoch:  21%|██        | 31/150 [00:14<00:57,  2.06it/s]\n",
      "EP_30 | train loss: 0.5136000119003595 | val loss: 0.5013314041436887 |\n",
      "Epoch:  21%|██▏       | 32/150 [00:15<00:56,  2.07it/s]\n",
      "EP_31 | train loss: 0.5103002866109212 | val loss: 0.49385806625964596 |\n",
      "Epoch:  22%|██▏       | 33/150 [00:15<00:56,  2.08it/s]\n",
      "EP_32 | train loss: 0.5060167583764769 | val loss: 0.4879712310491824 |\n",
      "Epoch:  23%|██▎       | 34/150 [00:16<00:55,  2.10it/s]\n",
      "EP_33 | train loss: 0.5016474022584803 | val loss: 0.4837212656058517 |\n",
      "Epoch:  23%|██▎       | 35/150 [00:16<00:55,  2.09it/s]\n",
      "EP_34 | train loss: 0.5026449979520311 | val loss: 0.4766128764433019 |\n",
      "Epoch:  24%|██▍       | 36/150 [00:17<00:54,  2.09it/s]\n",
      "EP_35 | train loss: 0.4949697616053563 | val loss: 0.47250908496333105 |\n",
      "Epoch:  25%|██▍       | 37/150 [00:17<00:55,  2.05it/s]\n",
      "EP_36 | train loss: 0.49321892682243795 | val loss: 0.46640534494437424 |\n",
      "Epoch:  25%|██▌       | 38/150 [00:18<00:54,  2.07it/s]\n",
      "EP_37 | train loss: 0.48826906914804497 | val loss: 0.4605630425845875 |\n",
      "Epoch:  26%|██▌       | 39/150 [00:18<00:53,  2.07it/s]\n",
      "EP_38 | train loss: 0.4859758236828972 | val loss: 0.45327359554814356 |\n",
      "Epoch:  27%|██▋       | 40/150 [00:19<00:52,  2.08it/s]\n",
      "EP_39 | train loss: 0.48181110176385616 | val loss: 0.44945888893277036 |\n",
      "Epoch:  27%|██▋       | 41/150 [00:19<00:52,  2.07it/s]\n",
      "EP_40 | train loss: 0.4848077035417744 | val loss: 0.44147399827545764 |\n",
      "Epoch:  28%|██▊       | 42/150 [00:20<00:51,  2.08it/s]\n",
      "EP_41 | train loss: 0.47526634113461363 | val loss: 0.4360785110324037 |\n",
      "Epoch:  29%|██▊       | 43/150 [00:20<00:52,  2.05it/s]\n",
      "EP_42 | train loss: 0.4733539628047569 | val loss: 0.4293455142600864 |\n",
      "Epoch:  29%|██▉       | 44/150 [00:21<00:51,  2.07it/s]\n",
      "EP_43 | train loss: 0.4689814717161889 | val loss: 0.42325910867429245 |\n",
      "Epoch:  30%|███       | 45/150 [00:21<00:51,  2.05it/s]\n",
      "EP_44 | train loss: 0.4660619067210777 | val loss: 0.4176056151296578 |\n",
      "Epoch:  31%|███       | 46/150 [00:22<00:49,  2.09it/s]\n",
      "EP_45 | train loss: 0.46014411589678594 | val loss: 0.4113815625508626 |\n",
      "Epoch:  31%|███▏      | 47/150 [00:22<00:49,  2.08it/s]\n",
      "EP_46 | train loss: 0.4625821856891408 | val loss: 0.4069404695548263 |\n",
      "Epoch:  32%|███▏      | 48/150 [00:23<00:48,  2.11it/s]\n",
      "EP_47 | train loss: 0.45484144173416435 | val loss: 0.399782283633363 |\n",
      "Epoch:  33%|███▎      | 49/150 [00:23<00:47,  2.11it/s]\n",
      "EP_48 | train loss: 0.4506552303538603 | val loss: 0.3952113693835689 |\n",
      "Epoch:  33%|███▎      | 50/150 [00:24<00:47,  2.12it/s]\n",
      "EP_49 | train loss: 0.44837765974156996 | val loss: 0.3896504336712407 |\n",
      "Epoch:  34%|███▍      | 51/150 [00:24<00:46,  2.11it/s]\n",
      "EP_50 | train loss: 0.4452354454526714 | val loss: 0.38508061801686005 |\n",
      "Epoch:  35%|███▍      | 52/150 [00:24<00:46,  2.12it/s]\n",
      "EP_51 | train loss: 0.44462070745580334 | val loss: 0.38141659194347904 |\n",
      "Epoch:  35%|███▌      | 53/150 [00:25<00:45,  2.13it/s]\n",
      "EP_52 | train loss: 0.4404238883186789 | val loss: 0.3763555638930377 |\n",
      "Epoch:  36%|███▌      | 54/150 [00:25<00:44,  2.16it/s]\n",
      "EP_53 | train loss: 0.43776023294411454 | val loss: 0.3715971871918323 |\n",
      "Epoch:  37%|███▋      | 55/150 [00:26<00:44,  2.14it/s]\n",
      "EP_54 | train loss: 0.43316597190557743 | val loss: 0.36731840582454905 |\n",
      "Epoch:  37%|███▋      | 56/150 [00:26<00:43,  2.16it/s]\n",
      "EP_55 | train loss: 0.4344460543464212 | val loss: 0.3658440159816368 |\n",
      "Epoch:  38%|███▊      | 57/150 [00:27<00:43,  2.16it/s]\n",
      "EP_56 | train loss: 0.4290114636514701 | val loss: 0.36058702655867036 |\n",
      "Epoch:  39%|███▊      | 58/150 [00:27<00:42,  2.17it/s]\n",
      "EP_57 | train loss: 0.4249367036071478 | val loss: 0.35704483237921025 |\n",
      "Epoch:  39%|███▉      | 59/150 [00:28<00:41,  2.17it/s]\n",
      "EP_58 | train loss: 0.4226240452598123 | val loss: 0.35375330962386786 |\n",
      "Epoch:  40%|████      | 60/150 [00:28<00:41,  2.18it/s]\n",
      "EP_59 | train loss: 0.41974011262257893 | val loss: 0.3519730567932129 |\n",
      "Epoch:  41%|████      | 61/150 [00:29<00:41,  2.16it/s]\n",
      "EP_60 | train loss: 0.4185233293795118 | val loss: 0.3497176217097862 |\n",
      "Epoch:  41%|████▏     | 62/150 [00:29<00:41,  2.15it/s]\n",
      "EP_61 | train loss: 0.41824351385527964 | val loss: 0.34833644418155446 |\n",
      "Epoch:  42%|████▏     | 63/150 [00:30<00:40,  2.12it/s]\n",
      "EP_62 | train loss: 0.41436385687659766 | val loss: 0.3454659826615277 |\n",
      "Epoch:  43%|████▎     | 64/150 [00:30<00:40,  2.15it/s]\n",
      "EP_63 | train loss: 0.4122143338708317 | val loss: 0.3433198508094339 |\n",
      "Epoch:  43%|████▎     | 65/150 [00:31<00:39,  2.14it/s]\n",
      "EP_64 | train loss: 0.4107401048435884 | val loss: 0.3414758607452991 |\n",
      "Epoch:  44%|████▍     | 66/150 [00:31<00:38,  2.16it/s]\n",
      "EP_65 | train loss: 0.40666301390703985 | val loss: 0.33907729036667766 |\n",
      "Epoch:  45%|████▍     | 67/150 [00:31<00:38,  2.16it/s]\n",
      "EP_66 | train loss: 0.40589032173156736 | val loss: 0.33782274582806754 |\n",
      "Epoch:  45%|████▌     | 68/150 [00:32<00:37,  2.18it/s]\n",
      "EP_67 | train loss: 0.4043407262540331 | val loss: 0.3365191992591409 |\n",
      "Epoch:  46%|████▌     | 69/150 [00:32<00:37,  2.17it/s]\n",
      "EP_68 | train loss: 0.4032380412606632 | val loss: 0.33624183430391197 |\n",
      "Epoch:  47%|████▋     | 70/150 [00:33<00:36,  2.18it/s]\n",
      "EP_69 | train loss: 0.39912881570703845 | val loss: 0.33379565968232994 |\n",
      "Epoch:  47%|████▋     | 71/150 [00:33<00:36,  2.17it/s]\n",
      "EP_70 | train loss: 0.39593626751619226 | val loss: 0.3320643481086282 |\n",
      "Epoch:  48%|████▊     | 72/150 [00:34<00:35,  2.18it/s]\n",
      "EP_71 | train loss: 0.3937360772899553 | val loss: 0.3309454169927859 |\n",
      "Epoch:  49%|████▊     | 73/150 [00:34<00:36,  2.14it/s]\n",
      "EP_72 | train loss: 0.3918572757758346 | val loss: 0.3292244509154675 |\n",
      "Epoch:  49%|████▉     | 74/150 [00:35<00:35,  2.15it/s]\n",
      "EP_73 | train loss: 0.3903561652875414 | val loss: 0.32875242887758743 |\n",
      "Epoch:  50%|█████     | 75/150 [00:35<00:35,  2.13it/s]\n",
      "EP_74 | train loss: 0.3881736783420338 | val loss: 0.326918831058577 |\n",
      "Epoch:  51%|█████     | 76/150 [00:36<00:34,  2.15it/s]\n",
      "EP_75 | train loss: 0.3860495674843882 | val loss: 0.3266868264067407 |\n",
      "Epoch:  51%|█████▏    | 77/150 [00:36<00:34,  2.13it/s]\n",
      "EP_76 | train loss: 0.38596600597979974 | val loss: 0.32625481661628275 |\n",
      "Epoch:  52%|█████▏    | 78/150 [00:37<00:33,  2.16it/s]\n",
      "EP_77 | train loss: 0.3804596246457567 | val loss: 0.32365624577391383 |\n",
      "Epoch:  53%|█████▎    | 79/150 [00:37<00:33,  2.14it/s]\n",
      "EP_78 | train loss: 0.3815327812643612 | val loss: 0.32479651301514867 |\n",
      "Epoch:  53%|█████▎    | 80/150 [00:37<00:32,  2.16it/s]\n",
      "EP_79 | train loss: 0.3745766363891901 | val loss: 0.32170886619418276 |\n",
      "Epoch:  54%|█████▍    | 81/150 [00:38<00:32,  2.15it/s]\n",
      "EP_80 | train loss: 0.3725960203245574 | val loss: 0.32221244830711215 |\n",
      "Epoch:  55%|█████▍    | 82/150 [00:38<00:31,  2.17it/s]\n",
      "EP_81 | train loss: 0.3715570515277339 | val loss: 0.3196657966164982 |\n",
      "Epoch:  55%|█████▌    | 83/150 [00:39<00:31,  2.16it/s]\n",
      "EP_82 | train loss: 0.3694461415795719 | val loss: 0.3189690440308814 |\n",
      "Epoch:  56%|█████▌    | 84/150 [00:39<00:30,  2.17it/s]\n",
      "EP_83 | train loss: 0.36483740152097216 | val loss: 0.3166026087368236 |\n",
      "Epoch:  57%|█████▋    | 85/150 [00:40<00:30,  2.15it/s]\n",
      "EP_84 | train loss: 0.3627175924824733 | val loss: 0.31500923867319147 |\n",
      "Epoch:  57%|█████▋    | 86/150 [00:40<00:29,  2.16it/s]\n",
      "EP_85 | train loss: 0.35930014170852365 | val loss: 0.313488852744009 |\n",
      "Epoch:  58%|█████▊    | 87/150 [00:41<00:29,  2.14it/s]\n",
      "EP_86 | train loss: 0.3566857931660671 | val loss: 0.3120704164692 |\n",
      "Epoch:  59%|█████▊    | 88/150 [00:41<00:28,  2.16it/s]\n",
      "EP_87 | train loss: 0.35674342968884637 | val loss: 0.31064527642493156 |\n",
      "Epoch:  59%|█████▉    | 89/150 [00:42<00:28,  2.15it/s]\n",
      "EP_88 | train loss: 0.35320225837183933 | val loss: 0.3083345516055238 |\n",
      "Epoch:  60%|██████    | 90/150 [00:42<00:27,  2.17it/s]\n",
      "EP_89 | train loss: 0.3534623562120924 | val loss: 0.30858397016338274 |\n",
      "Epoch:  61%|██████    | 91/150 [00:43<00:27,  2.12it/s]\n",
      "EP_90 | train loss: 0.3522159482918534 | val loss: 0.3076367471732345 |\n",
      "Epoch:  61%|██████▏   | 92/150 [00:43<00:27,  2.15it/s]\n",
      "EP_91 | train loss: 0.34079777539945116 | val loss: 0.3044754757600672 |\n",
      "Epoch:  62%|██████▏   | 93/150 [00:44<00:26,  2.13it/s]\n",
      "EP_92 | train loss: 0.3388573221131867 | val loss: 0.30133890170677036 |\n",
      "Epoch:  63%|██████▎   | 94/150 [00:44<00:26,  2.14it/s]\n",
      "EP_93 | train loss: 0.3412101193970325 | val loss: 0.3017096051982805 |\n",
      "Epoch:  63%|██████▎   | 95/150 [00:44<00:25,  2.14it/s]\n",
      "EP_94 | train loss: 0.33778442214517035 | val loss: 0.298901590646482 |\n",
      "Epoch:  64%|██████▍   | 96/150 [00:45<00:25,  2.16it/s]\n",
      "EP_95 | train loss: 0.3307586581099267 | val loss: 0.29646411129072603 |\n",
      "Epoch:  65%|██████▍   | 97/150 [00:45<00:24,  2.14it/s]\n",
      "EP_96 | train loss: 0.3253721129660513 | val loss: 0.29384805174434886 |\n",
      "Epoch:  65%|██████▌   | 98/150 [00:46<00:24,  2.14it/s]\n",
      "EP_97 | train loss: 0.3256200276169122 | val loss: 0.29149463129978553 |\n",
      "Epoch:  66%|██████▌   | 99/150 [00:46<00:23,  2.13it/s]\n",
      "EP_98 | train loss: 0.3169983887204937 | val loss: 0.2897610898111381 |\n",
      "Epoch:  67%|██████▋   | 100/150 [00:47<00:23,  2.15it/s]\n",
      "EP_99 | train loss: 0.3139400472827986 | val loss: 0.2885560568641214 |\n",
      "Epoch:  67%|██████▋   | 101/150 [00:47<00:22,  2.14it/s]\n",
      "EP_100 | train loss: 0.310946081198898 | val loss: 0.2903272638133928 |\n",
      "Epoch:  68%|██████▊   | 102/150 [00:48<00:22,  2.16it/s]\n",
      "EP_101 | train loss: 0.30620589864020253 | val loss: 0.2815816168691598 |\n",
      "Epoch:  69%|██████▊   | 103/150 [00:48<00:22,  2.13it/s]\n",
      "EP_102 | train loss: 0.30215783446442845 | val loss: 0.27956970532735187 |\n",
      "Epoch:  69%|██████▉   | 104/150 [00:49<00:21,  2.14it/s]\n",
      "EP_103 | train loss: 0.2999006603278366 | val loss: 0.2767809465819714 |\n",
      "Epoch:  70%|███████   | 105/150 [00:49<00:21,  2.14it/s]\n",
      "EP_104 | train loss: 0.2949540521584305 | val loss: 0.2759314752092548 |\n",
      "Epoch:  71%|███████   | 106/150 [00:50<00:20,  2.16it/s]\n",
      "EP_105 | train loss: 0.2909640237396839 | val loss: 0.27089647218292834 |\n",
      "Epoch:  71%|███████▏  | 107/150 [00:50<00:20,  2.15it/s]\n",
      "EP_106 | train loss: 0.2860986171984205 | val loss: 0.2684509707432167 |\n",
      "Epoch:  72%|███████▏  | 108/150 [00:50<00:19,  2.16it/s]\n",
      "EP_107 | train loss: 0.2884638646069695 | val loss: 0.2651919149884991 |\n",
      "Epoch:  73%|███████▎  | 109/150 [00:51<00:19,  2.13it/s]\n",
      "EP_108 | train loss: 0.28115944114385866 | val loss: 0.272522673887365 |\n",
      "Epoch:  73%|███████▎  | 110/150 [00:51<00:18,  2.15it/s]\n",
      "EP_109 | train loss: 0.2774680731343288 | val loss: 0.2572433574526918 |\n",
      "Epoch:  74%|███████▍  | 111/150 [00:52<00:18,  2.14it/s]\n",
      "EP_110 | train loss: 0.2775527706333235 | val loss: 0.254741907119751 |\n",
      "Epoch:  75%|███████▍  | 112/150 [00:52<00:17,  2.15it/s]\n",
      "EP_111 | train loss: 0.26614579312941605 | val loss: 0.25504614792618097 |\n",
      "Epoch:  75%|███████▌  | 113/150 [00:53<00:17,  2.14it/s]\n",
      "EP_112 | train loss: 0.26136181354522703 | val loss: 0.250757890589097 |\n",
      "Epoch:  76%|███████▌  | 114/150 [00:53<00:16,  2.15it/s]\n",
      "EP_113 | train loss: 0.26471359683018103 | val loss: 0.24494227241067326 |\n",
      "Epoch:  77%|███████▋  | 115/150 [00:54<00:16,  2.14it/s]\n",
      "EP_114 | train loss: 0.26814042353162576 | val loss: 0.24671491454629338 |\n",
      "Epoch:  77%|███████▋  | 116/150 [00:54<00:15,  2.16it/s]\n",
      "EP_115 | train loss: 0.24824357196396474 | val loss: 0.23849236731435738 |\n",
      "Epoch:  78%|███████▊  | 117/150 [00:55<00:15,  2.12it/s]\n",
      "EP_116 | train loss: 0.24672220407747755 | val loss: 0.2339803564782236 |\n",
      "Epoch:  79%|███████▊  | 118/150 [00:55<00:15,  2.12it/s]\n",
      "EP_117 | train loss: 0.24261226770924588 | val loss: 0.22855684336493998 |\n",
      "Epoch:  79%|███████▉  | 119/150 [00:56<00:14,  2.11it/s]\n",
      "EP_118 | train loss: 0.2397301346647973 | val loss: 0.2268064442802878 |\n",
      "Epoch:  80%|████████  | 120/150 [00:56<00:14,  2.10it/s]\n",
      "EP_119 | train loss: 0.23003951100742115 | val loss: 0.22797132005878523 |\n",
      "Epoch:  81%|████████  | 121/150 [00:57<00:13,  2.09it/s]\n",
      "EP_120 | train loss: 0.22552397414749745 | val loss: 0.21811988306980507 |\n",
      "Epoch:  81%|████████▏ | 122/150 [00:57<00:13,  2.10it/s]\n",
      "EP_121 | train loss: 0.22087416461869783 | val loss: 0.2156489503149893 |\n",
      "Epoch:  82%|████████▏ | 123/150 [00:58<00:12,  2.10it/s]\n",
      "EP_122 | train loss: 0.21725717853097354 | val loss: 0.2093681494394938 |\n",
      "Epoch:  83%|████████▎ | 124/150 [00:58<00:12,  2.10it/s]\n",
      "EP_123 | train loss: 0.21085595570358576 | val loss: 0.20778020690469182 |\n",
      "Epoch:  83%|████████▎ | 125/150 [00:59<00:11,  2.09it/s]\n",
      "EP_124 | train loss: 0.20934528416278317 | val loss: 0.19917631149291992 |\n",
      "Epoch:  84%|████████▍ | 126/150 [00:59<00:11,  2.12it/s]\n",
      "EP_125 | train loss: 0.2040644512457006 | val loss: 0.1959522378210928 |\n",
      "Epoch:  85%|████████▍ | 127/150 [00:59<00:10,  2.11it/s]\n",
      "EP_126 | train loss: 0.19786075190001842 | val loss: 0.1894165557973525 |\n",
      "Epoch:  85%|████████▌ | 128/150 [01:00<00:10,  2.12it/s]\n",
      "EP_127 | train loss: 0.19425142489227595 | val loss: 0.1955102191251867 |\n",
      "Epoch:  86%|████████▌ | 129/150 [01:00<00:09,  2.11it/s]\n",
      "EP_128 | train loss: 0.18728124698003132 | val loss: 0.18652951483633004 |\n",
      "Epoch:  87%|████████▋ | 130/150 [01:01<00:09,  2.12it/s]\n",
      "EP_129 | train loss: 0.18283988237380983 | val loss: 0.17671490650550992 |\n",
      "Epoch:  87%|████████▋ | 131/150 [01:01<00:08,  2.12it/s]\n",
      "EP_130 | train loss: 0.17719507427776562 | val loss: 0.17432174495622224 |\n",
      "Epoch:  88%|████████▊ | 132/150 [01:02<00:08,  2.14it/s]\n",
      "EP_131 | train loss: 0.17395065017774994 | val loss: 0.1687850882025326 |\n",
      "Epoch:  89%|████████▊ | 133/150 [01:02<00:08,  2.11it/s]\n",
      "EP_132 | train loss: 0.1685912101876502 | val loss: 0.16298181402917003 |\n",
      "Epoch:  89%|████████▉ | 134/150 [01:03<00:07,  2.13it/s]\n",
      "EP_133 | train loss: 0.16279465240590713 | val loss: 0.15743445415122836 |\n",
      "Epoch:  90%|█████████ | 135/150 [01:03<00:07,  2.12it/s]\n",
      "EP_134 | train loss: 0.16357263630511715 | val loss: 0.15530833076028264 |\n",
      "Epoch:  91%|█████████ | 136/150 [01:04<00:06,  2.14it/s]\n",
      "EP_135 | train loss: 0.1521860024508308 | val loss: 0.14843221271739288 |\n",
      "Epoch:  91%|█████████▏| 137/150 [01:04<00:06,  2.13it/s]\n",
      "EP_136 | train loss: 0.14816191313313504 | val loss: 0.1478892728394153 |\n",
      "Epoch:  92%|█████████▏| 138/150 [01:05<00:05,  2.15it/s]\n",
      "EP_137 | train loss: 0.14416361275841208 | val loss: 0.1369793742310767 |\n",
      "Epoch:  93%|█████████▎| 139/150 [01:05<00:05,  2.14it/s]\n",
      "EP_138 | train loss: 0.13780988267823763 | val loss: 0.1376416659822651 |\n",
      "Epoch:  93%|█████████▎| 140/150 [01:06<00:04,  2.15it/s]\n",
      "EP_139 | train loss: 0.1378626444760491 | val loss: 0.13024045906814874 |\n",
      "Epoch:  94%|█████████▍| 141/150 [01:06<00:04,  2.08it/s]\n",
      "EP_140 | train loss: 0.13492103020350138 | val loss: 0.14110643022200642 |\n",
      "Epoch:  95%|█████████▍| 142/150 [01:07<00:03,  2.08it/s]\n",
      "EP_141 | train loss: 0.1267847970420239 | val loss: 0.1276235907685523 |\n",
      "Epoch:  95%|█████████▌| 143/150 [01:07<00:03,  2.03it/s]\n",
      "EP_142 | train loss: 0.12239920122950684 | val loss: 0.118849375668694 |\n",
      "Epoch:  96%|█████████▌| 144/150 [01:08<00:02,  2.02it/s]\n",
      "EP_143 | train loss: 0.11609400534162334 | val loss: 0.11487299087000828 |\n",
      "Epoch:  97%|█████████▋| 145/150 [01:08<00:02,  2.04it/s]\n",
      "EP_144 | train loss: 0.11337043736495224 | val loss: 0.10934429776434805 |\n",
      "Epoch:  97%|█████████▋| 146/150 [01:09<00:01,  2.08it/s]\n",
      "EP_145 | train loss: 0.10852845369600782 | val loss: 0.1076586129618626 |\n",
      "Epoch:  98%|█████████▊| 147/150 [01:09<00:01,  2.09it/s]\n",
      "EP_146 | train loss: 0.10447024667964262 | val loss: 0.10607493624967687 |\n",
      "Epoch:  99%|█████████▊| 148/150 [01:09<00:00,  2.13it/s]\n",
      "EP_147 | train loss: 0.10833564844785952 | val loss: 0.10106517520605349 |\n",
      "Epoch:  99%|█████████▉| 149/150 [01:10<00:00,  2.10it/s]\n",
      "EP_148 | train loss: 0.09611143084133372 | val loss: 0.09282124509998396 |\n",
      "Epoch: 100%|██████████| 150/150 [01:10<00:00,  2.11it/s]\n",
      "EP_149 | train loss: 0.09490093086280074 | val loss: 0.09655889459684783 |\n",
      "\n"
     ]
    }
   ],
   "source": [
    "AttractiveTrainer.train()"
   ]
  },
  {
   "cell_type": "markdown",
   "metadata": {},
   "source": [
    "## Below is testing"
   ]
  },
  {
   "cell_type": "code",
   "execution_count": 6,
   "metadata": {},
   "outputs": [
    {
     "output_type": "execute_result",
     "data": {
      "text/plain": [
       "AttractiveNet(\n",
       "  (embedding): AttractiveEmbedding(\n",
       "    (token): TokenEmbedding(12699, 300, padding_idx=1)\n",
       "  )\n",
       "  (bigramcnn): Sequential(\n",
       "    (0): Conv1d(300, 215, kernel_size=(2,), stride=(1,), padding=(1,))\n",
       "    (1): ReLU()\n",
       "    (2): Conv1d(215, 100, kernel_size=(2,), stride=(1,), padding=(1,))\n",
       "    (3): ReLU()\n",
       "    (4): Dropout(p=0.5, inplace=False)\n",
       "  )\n",
       "  (trigramcnn): Sequential(\n",
       "    (0): Conv1d(300, 215, kernel_size=(3,), stride=(1,), padding=(1,))\n",
       "    (1): ReLU()\n",
       "    (2): Conv1d(215, 100, kernel_size=(3,), stride=(1,), padding=(1,))\n",
       "    (3): ReLU()\n",
       "    (4): Dropout(p=0.5, inplace=False)\n",
       "  )\n",
       "  (encoder_bigram): LSTM(100, 30, batch_first=True, dropout=0.5, bidirectional=True)\n",
       "  (encoder_trigram): LSTM(100, 30, batch_first=True, dropout=0.5, bidirectional=True)\n",
       "  (linear): Sequential(\n",
       "    (0): Linear(in_features=128, out_features=30, bias=True)\n",
       "    (1): ReLU()\n",
       "    (2): Linear(in_features=30, out_features=1, bias=True)\n",
       "  )\n",
       ")"
      ]
     },
     "metadata": {},
     "execution_count": 6
    }
   ],
   "source": [
    "from attractivenet import AttractiveNet\n",
    "\n",
    "PATH = './model/CNN_LSTM_20201110-211544/0.372596.80'\n",
    "\n",
    "load_model = AttractiveNet(config).to(AttractiveData.device)\n",
    "load_model.load_state_dict(torch.load(PATH))\n",
    "load_model.eval()"
   ]
  },
  {
   "cell_type": "code",
   "execution_count": 7,
   "metadata": {},
   "outputs": [],
   "source": [
    "def predict_attractive(sentence, category, phase):\n",
    "    indexed_sentence = [AttractiveData.TEXT.vocab.stoi[t] for t in sentence]\n",
    "    indexed_category = [AttractiveData.CATEGORIES_LABEL.vocab.stoi[category]]\n",
    "    tensor_sentence = torch.LongTensor(indexed_sentence).to(AttractiveData.device)\n",
    "    tensor_category = torch.LongTensor(indexed_category).to(AttractiveData.device)\n",
    "    tensor_sentence = tensor_sentence.unsqueeze(0)\n",
    "\n",
    "    prediction = load_model(tensor_sentence, tensor_category, phase=phase)\n",
    "\n",
    "    return prediction"
   ]
  },
  {
   "cell_type": "code",
   "execution_count": 8,
   "metadata": {
    "tags": []
   },
   "outputs": [],
   "source": [
    "predict_list = []\n",
    "with torch.no_grad():\n",
    "    for i, sentence in enumerate(AttractiveData.test_data):\n",
    "        prediction = predict_attractive(sentence.Headline, sentence.Category, 'test')\n",
    "        predict_list.append(prediction.item())\n",
    "\n",
    "AttractiveData.df_test['Label'] = predict_list\n",
    "AttractiveData.df_test[['ID', 'Label']].to_csv(config['save_name'] + '.csv', index=False)"
   ]
  },
  {
   "cell_type": "markdown",
   "metadata": {},
   "source": [
    "## Below for statistics"
   ]
  },
  {
   "cell_type": "code",
   "execution_count": 9,
   "metadata": {},
   "outputs": [],
   "source": [
    "import statistics\n",
    "from sklearn.metrics import mean_squared_error"
   ]
  },
  {
   "cell_type": "code",
   "execution_count": 10,
   "metadata": {},
   "outputs": [],
   "source": [
    "# # train mean = 3.15, test mean = 2.8\n",
    "# train_list = []\n",
    "# for i, sentence in enumerate(AttractiveData.train_data):\n",
    "#     prediction = predict_attractive(sentence.Headline, sentence.Category, 'train')\n",
    "#     train_list.append(prediction.item())\n",
    "#     # train_list.append(prediction.item())\n",
    "# # print(train_list)\n",
    "# mean_squared_error(pd.read_csv('data/train.csv').sort_values(['ID']).Label.to_list(), train_list), statistics.mean(train_list), statistics.stdev(train_list)"
   ]
  },
  {
   "cell_type": "code",
   "execution_count": 11,
   "metadata": {},
   "outputs": [],
   "source": [
    "# train_list[0:5], pd.read_csv('data/train.csv').sort_values(['ID']).Label.to_list()[0:5]"
   ]
  },
  {
   "cell_type": "code",
   "execution_count": 12,
   "metadata": {},
   "outputs": [],
   "source": [
    "# a = AttractiveData.df_train['Label'].to_list()\n",
    "# statistics.mean(a), statistics.stdev(a)"
   ]
  },
  {
   "cell_type": "code",
   "execution_count": 13,
   "metadata": {},
   "outputs": [
    {
     "output_type": "execute_result",
     "data": {
      "text/plain": [
       "(2.838059604955665, 0.34504319297439606)"
      ]
     },
     "metadata": {},
     "execution_count": 13
    }
   ],
   "source": [
    "statistics.mean(predict_list), statistics.stdev(predict_list)"
   ]
  },
  {
   "cell_type": "code",
   "execution_count": 14,
   "metadata": {},
   "outputs": [
    {
     "output_type": "execute_result",
     "data": {
      "text/plain": [
       "(0.008217850269063038, 2.8142020345259344, 0.36798823904910916)"
      ]
     },
     "metadata": {},
     "execution_count": 14
    }
   ],
   "source": [
    "baseline_list = pd.read_csv('baseline.csv').sort_values(['ID']).Label.to_list()\n",
    "mean_squared_error(baseline_list, predict_list), statistics.mean(baseline_list), statistics.stdev(baseline_list)"
   ]
  },
  {
   "cell_type": "code",
   "execution_count": null,
   "metadata": {},
   "outputs": [],
   "source": []
  },
  {
   "cell_type": "code",
   "execution_count": 17,
   "metadata": {},
   "outputs": [
    {
     "output_type": "execute_result",
     "data": {
      "text/plain": [
       "0.0"
      ]
     },
     "metadata": {},
     "execution_count": 17
    }
   ],
   "source": [
    "mean_squared_error(pd.read_csv('baseline.csv').sort_values(['ID']).Label.to_list(), pd.read_csv('../309551062/predict/CNN_LSTM_20201109-125007_0.374958.75.csv').sort_values(['ID']).Label.to_list())"
   ]
  },
  {
   "cell_type": "code",
   "execution_count": 13,
   "metadata": {},
   "outputs": [],
   "source": []
  },
  {
   "cell_type": "code",
   "execution_count": null,
   "metadata": {},
   "outputs": [],
   "source": []
  }
 ],
 "metadata": {
  "kernelspec": {
   "display_name": "DS_hw2",
   "language": "python",
   "name": "ds_hw2"
  },
  "language_info": {
   "codemirror_mode": {
    "name": "ipython",
    "version": 3
   },
   "file_extension": ".py",
   "mimetype": "text/x-python",
   "name": "python",
   "nbconvert_exporter": "python",
   "pygments_lexer": "ipython3",
   "version": "3.6.12-final"
  }
 },
 "nbformat": 4,
 "nbformat_minor": 4
}