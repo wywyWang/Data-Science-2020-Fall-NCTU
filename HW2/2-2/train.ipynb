{
 "cells": [
  {
   "cell_type": "code",
   "execution_count": 1,
   "metadata": {},
   "outputs": [],
   "source": [
    "# common packages\n",
    "import pandas as pd\n",
    "import time\n",
    "\n",
    "# # DL framework\n",
    "import torch\n",
    "from torchtext import data\n",
    "\n",
    "from attractivedata import AttractiveData\n",
    "from trainer import AttractiveTrainer"
   ]
  },
  {
   "cell_type": "code",
   "execution_count": 2,
   "metadata": {},
   "outputs": [],
   "source": [
    "seed_value = 54088\n",
    "torch.manual_seed(seed_value)\n",
    "torch.cuda.manual_seed(seed_value)\n",
    "torch.cuda.manual_seed_all(seed_value) # gpu vars\n",
    "torch.backends.cudnn.deterministic = True  #needed\n",
    "torch.backends.cudnn.benchmark = False"
   ]
  },
  {
   "cell_type": "markdown",
   "metadata": {},
   "source": [
    "## Load and prepare data"
   ]
  },
  {
   "cell_type": "code",
   "execution_count": 3,
   "metadata": {},
   "outputs": [],
   "source": [
    "train_file = 'data/train.csv'\n",
    "val_file = 'example/val.csv'\n",
    "test_file = 'data/test.csv'\n",
    "pretrained_file = 'glove.840B.300d'\n",
    "config = {\n",
    "    'max_seq': 40,\n",
    "    'min_freq': 0,\n",
    "    'batch_size': 51,\n",
    "    'pretrained_file': pretrained_file\n",
    "}\n"
   ]
  },
  {
   "cell_type": "code",
   "execution_count": 4,
   "metadata": {},
   "outputs": [],
   "source": [
    "AttractiveData = AttractiveData(train_file, val_file, test_file, pretrained_file, config)"
   ]
  },
  {
   "cell_type": "markdown",
   "metadata": {},
   "source": [
    "## Start to train"
   ]
  },
  {
   "cell_type": "code",
   "execution_count": 5,
   "metadata": {},
   "outputs": [
    {
     "output_type": "stream",
     "name": "stdout",
     "text": [
      "torch.Size([12699, 300])\n"
     ]
    }
   ],
   "source": [
    "config['timestr'] = time.strftime(\"%Y%m%d-%H%M%S\")\n",
    "config['save_name'] = 'CNN_LSTM'\n",
    "config['input_dim'] = len(AttractiveData.TEXT.vocab)\n",
    "config['embedding_dim'] = 300\n",
    "config['category_dim'] = len(AttractiveData.CATEGORIES_LABEL.vocab)\n",
    "config['category_embedding_dim'] = 10\n",
    "config['hidden_dim'] = 30\n",
    "config['output_dim'] = 1\n",
    "config['log_steps'] = 10\n",
    "config['epochs'] = 150\n",
    "config['lr'] = {\n",
    "    'encoder': 1e-5,\n",
    "    'embedding': 6e-6,\n",
    "    'linear': 1e-5\n",
    "}\n",
    "config['num_layers'] = 1\n",
    "config['kernel_size'] = 3\n",
    "config['dropout'] = 0.5\n",
    "config['train_len'] = AttractiveData.train_len\n",
    "config['val_len'] = AttractiveData.val_len\n",
    "config['test_len'] = AttractiveData.test_len\n",
    "\n",
    "pretrained_embeddings = AttractiveData.TEXT.vocab.vectors\n",
    "print(pretrained_embeddings.shape)"
   ]
  },
  {
   "cell_type": "code",
   "execution_count": 6,
   "metadata": {},
   "outputs": [],
   "source": [
    "AttractiveTrainer = AttractiveTrainer(config, AttractiveData.device, AttractiveData.trainloader, AttractiveData.valloader, pretrained_embeddings)"
   ]
  },
  {
   "cell_type": "code",
   "execution_count": 7,
   "metadata": {},
   "outputs": [
    {
     "output_type": "execute_result",
     "data": {
      "text/plain": [
       "(AttractiveNet(\n",
       "   (embedding): AttractiveEmbedding(\n",
       "     (token): TokenEmbedding(12699, 300, padding_idx=1)\n",
       "   )\n",
       "   (bigramcnn): Sequential(\n",
       "     (0): Conv1d(300, 210, kernel_size=(2,), stride=(1,), padding=(1,))\n",
       "     (1): ReLU()\n",
       "     (2): Conv1d(210, 100, kernel_size=(2,), stride=(1,), padding=(1,))\n",
       "     (3): ReLU()\n",
       "     (4): Dropout(p=0.5, inplace=False)\n",
       "   )\n",
       "   (trigramcnn): Sequential(\n",
       "     (0): Conv1d(300, 210, kernel_size=(3,), stride=(1,), padding=(1,))\n",
       "     (1): ReLU()\n",
       "     (2): Conv1d(210, 100, kernel_size=(3,), stride=(1,), padding=(1,))\n",
       "     (3): ReLU()\n",
       "     (4): Dropout(p=0.5, inplace=False)\n",
       "   )\n",
       "   (encoder_bigram): LSTM(100, 30, batch_first=True, dropout=0.5, bidirectional=True)\n",
       "   (encoder_trigram): LSTM(100, 30, batch_first=True, dropout=0.5, bidirectional=True)\n",
       "   (linear): Sequential(\n",
       "     (0): Linear(in_features=128, out_features=30, bias=True)\n",
       "     (1): ReLU()\n",
       "     (2): Linear(in_features=30, out_features=1, bias=True)\n",
       "   )\n",
       " ),\n",
       " 4297581,\n",
       " 4297581)"
      ]
     },
     "metadata": {},
     "execution_count": 7
    }
   ],
   "source": [
    "AttractiveTrainer.model, AttractiveTrainer.config['total_params'], AttractiveTrainer.config['total_learned_params']"
   ]
  },
  {
   "cell_type": "code",
   "execution_count": 8,
   "metadata": {
    "tags": []
   },
   "outputs": [
    {
     "output_type": "stream",
     "name": "stderr",
     "text": [
      "Epoch:   1%|          | 1/150 [00:00<01:14,  2.00it/s]\n",
      "EP_0 | train loss: 1.4894898582907283 | val loss: 2.231834149828144 |\n",
      "Epoch:   1%|▏         | 2/150 [00:00<01:12,  2.04it/s]\n",
      "EP_1 | train loss: 0.5794509158414953 | val loss: 0.9343342407076967 |\n",
      "Epoch:   2%|▏         | 3/150 [00:01<01:10,  2.08it/s]\n",
      "EP_2 | train loss: 0.5952444721670712 | val loss: 0.8544149211808747 |\n",
      "Epoch:   3%|▎         | 4/150 [00:01<01:09,  2.11it/s]\n",
      "EP_3 | train loss: 0.5935567126554602 | val loss: 0.8217309970481723 |\n",
      "Epoch:   3%|▎         | 5/150 [00:02<01:09,  2.10it/s]\n",
      "EP_4 | train loss: 0.5873202454810049 | val loss: 0.7941650035334569 |\n",
      "Epoch:   4%|▍         | 6/150 [00:02<01:08,  2.12it/s]\n",
      "EP_5 | train loss: 0.5781905978333717 | val loss: 0.7731519025914809 |\n",
      "Epoch:   5%|▍         | 7/150 [00:03<01:07,  2.11it/s]\n",
      "EP_6 | train loss: 0.5736121121574851 | val loss: 0.7438478189356187 |\n",
      "Epoch:   5%|▌         | 8/150 [00:03<01:06,  2.13it/s]\n",
      "EP_7 | train loss: 0.5672996408799116 | val loss: 0.7264841397603353 |\n",
      "Epoch:   6%|▌         | 9/150 [00:04<01:05,  2.15it/s]\n",
      "EP_8 | train loss: 0.5617558600855809 | val loss: 0.7101437437768076 |\n",
      "Epoch:   7%|▋         | 10/150 [00:04<01:04,  2.17it/s]\n",
      "EP_9 | train loss: 0.5827896716547948 | val loss: 0.6756461928872501 |\n",
      "Epoch:   7%|▋         | 11/150 [00:05<01:05,  2.12it/s]\n",
      "EP_10 | train loss: 0.5676389357622932 | val loss: 0.6641305194181555 |\n",
      "Epoch:   8%|▊         | 12/150 [00:05<01:04,  2.14it/s]\n",
      "EP_11 | train loss: 0.5575901639227774 | val loss: 0.6536161478827981 |\n",
      "Epoch:   9%|▊         | 13/150 [00:06<01:03,  2.16it/s]\n",
      "EP_12 | train loss: 0.5498613394942938 | val loss: 0.6432511759739296 |\n",
      "Epoch:   9%|▉         | 14/150 [00:06<01:02,  2.16it/s]\n",
      "EP_13 | train loss: 0.5502039339028153 | val loss: 0.6283691537146475 |\n",
      "Epoch:  10%|█         | 15/150 [00:06<01:02,  2.17it/s]\n",
      "EP_14 | train loss: 0.5461576190649294 | val loss: 0.6204975072075339 |\n",
      "Epoch:  11%|█         | 16/150 [00:07<01:01,  2.17it/s]\n",
      "EP_15 | train loss: 0.554257197006076 | val loss: 0.5989815768073586 |\n",
      "Epoch:  11%|█▏        | 17/150 [00:07<01:01,  2.17it/s]\n",
      "EP_16 | train loss: 0.5432291685366163 | val loss: 0.5923942397622501 |\n",
      "Epoch:  12%|█▏        | 18/150 [00:08<01:00,  2.17it/s]\n",
      "EP_17 | train loss: 0.5404302307203704 | val loss: 0.5843013314639821 |\n",
      "Epoch:  13%|█▎        | 19/150 [00:08<01:00,  2.17it/s]\n",
      "EP_18 | train loss: 0.5381256430756812 | val loss: 0.5703782193800983 |\n",
      "Epoch:  13%|█▎        | 20/150 [00:09<00:59,  2.17it/s]\n",
      "EP_19 | train loss: 0.536447021072986 | val loss: 0.5601718565996956 |\n",
      "Epoch:  14%|█▍        | 21/150 [00:09<00:59,  2.15it/s]\n",
      "EP_20 | train loss: 0.5219626697839476 | val loss: 0.5532787266899558 |\n",
      "Epoch:  15%|█▍        | 22/150 [00:10<00:59,  2.15it/s]\n",
      "EP_21 | train loss: 0.5318911692675422 | val loss: 0.5420678082634421 |\n",
      "Epoch:  15%|█▌        | 23/150 [00:10<00:58,  2.17it/s]\n",
      "EP_22 | train loss: 0.5290699070575191 | val loss: 0.5337058516109691 |\n",
      "Epoch:  16%|█▌        | 24/150 [00:11<00:58,  2.16it/s]\n",
      "EP_23 | train loss: 0.5233282678267535 | val loss: 0.526739662768794 |\n",
      "Epoch:  17%|█▋        | 25/150 [00:11<00:57,  2.17it/s]\n",
      "EP_24 | train loss: 0.5231869351630117 | val loss: 0.5198281606038412 |\n",
      "Epoch:  17%|█▋        | 26/150 [00:12<00:57,  2.17it/s]\n",
      "EP_25 | train loss: 0.5197165246103325 | val loss: 0.512700034122841 |\n",
      "Epoch:  18%|█▊        | 27/150 [00:12<00:56,  2.17it/s]\n",
      "EP_26 | train loss: 0.5166828594955744 | val loss: 0.5050310901567048 |\n",
      "Epoch:  19%|█▊        | 28/150 [00:12<00:56,  2.17it/s]\n",
      "EP_27 | train loss: 0.5142386249467439 | val loss: 0.4981383996851304 |\n",
      "Epoch:  19%|█▉        | 29/150 [00:13<00:55,  2.18it/s]\n",
      "EP_28 | train loss: 0.5177460436727487 | val loss: 0.49156851861991135 |\n",
      "Epoch:  20%|██        | 30/150 [00:13<00:55,  2.18it/s]\n",
      "EP_29 | train loss: 0.5051723368027631 | val loss: 0.4834991716871075 |\n",
      "Epoch:  21%|██        | 31/150 [00:14<00:55,  2.15it/s]\n",
      "EP_30 | train loss: 0.498241974325741 | val loss: 0.4769960384742886 |\n",
      "Epoch:  21%|██▏       | 32/150 [00:14<00:54,  2.16it/s]\n",
      "EP_31 | train loss: 0.503362679014019 | val loss: 0.4694109150007659 |\n",
      "Epoch:  22%|██▏       | 33/150 [00:15<00:55,  2.13it/s]\n",
      "EP_32 | train loss: 0.490698372149 | val loss: 0.46236005483889114 |\n",
      "Epoch:  23%|██▎       | 34/150 [00:15<00:54,  2.14it/s]\n",
      "EP_33 | train loss: 0.4895036164452048 | val loss: 0.45504357768040077 |\n",
      "Epoch:  23%|██▎       | 35/150 [00:16<00:54,  2.13it/s]\n",
      "EP_34 | train loss: 0.48280324842415606 | val loss: 0.4478142027761422 |\n",
      "Epoch:  24%|██▍       | 36/150 [00:16<00:53,  2.15it/s]\n",
      "EP_35 | train loss: 0.48689469356162873 | val loss: 0.4416094854766247 |\n",
      "Epoch:  25%|██▍       | 37/150 [00:17<00:52,  2.14it/s]\n",
      "EP_36 | train loss: 0.4735745673086129 | val loss: 0.43514640658509496 |\n",
      "Epoch:  25%|██▌       | 38/150 [00:17<00:52,  2.15it/s]\n",
      "EP_37 | train loss: 0.47193288242115694 | val loss: 0.42780245986639287 |\n",
      "Epoch:  26%|██▌       | 39/150 [00:18<00:51,  2.14it/s]\n",
      "EP_38 | train loss: 0.46682046114229686 | val loss: 0.42090586120007084 |\n",
      "Epoch:  27%|██▋       | 40/150 [00:18<00:50,  2.16it/s]\n",
      "EP_39 | train loss: 0.4654274734796262 | val loss: 0.4140304584129184 |\n",
      "Epoch:  27%|██▋       | 41/150 [00:19<00:50,  2.14it/s]\n",
      "EP_40 | train loss: 0.4587273130229875 | val loss: 0.40714167613609165 |\n",
      "Epoch:  28%|██▊       | 42/150 [00:19<00:50,  2.15it/s]\n",
      "EP_41 | train loss: 0.45823108775942933 | val loss: 0.40126561183555454 |\n",
      "Epoch:  29%|██▊       | 43/150 [00:19<00:50,  2.13it/s]\n",
      "EP_42 | train loss: 0.45906388105130663 | val loss: 0.39731891014996695 |\n",
      "Epoch:  29%|██▉       | 44/150 [00:20<00:49,  2.15it/s]\n",
      "EP_43 | train loss: 0.4523100918414546 | val loss: 0.3900282336216347 |\n",
      "Epoch:  30%|███       | 45/150 [00:20<00:49,  2.13it/s]\n",
      "EP_44 | train loss: 0.44946590591879454 | val loss: 0.38501744176827224 |\n",
      "Epoch:  31%|███       | 46/150 [00:21<00:48,  2.13it/s]\n",
      "EP_45 | train loss: 0.44045478128919413 | val loss: 0.37868653091729854 |\n",
      "Epoch:  31%|███▏      | 47/150 [00:21<00:48,  2.12it/s]\n",
      "EP_46 | train loss: 0.4464477492313759 | val loss: 0.3782045981463264 |\n",
      "Epoch:  32%|███▏      | 48/150 [00:22<00:47,  2.14it/s]\n",
      "EP_47 | train loss: 0.4365465486750883 | val loss: 0.36930038882236854 |\n",
      "Epoch:  33%|███▎      | 49/150 [00:22<00:47,  2.12it/s]\n",
      "EP_48 | train loss: 0.43544443495133345 | val loss: 0.3661011527566349 |\n",
      "Epoch:  33%|███▎      | 50/150 [00:23<00:48,  2.08it/s]\n",
      "EP_49 | train loss: 0.4286393544253181 | val loss: 0.3605157160291485 |\n",
      "Epoch:  34%|███▍      | 51/150 [00:23<00:48,  2.06it/s]\n",
      "EP_50 | train loss: 0.4267420291900635 | val loss: 0.3566584820840873 |\n",
      "Epoch:  35%|███▍      | 52/150 [00:24<00:47,  2.07it/s]\n",
      "EP_51 | train loss: 0.42853878105387966 | val loss: 0.355131046444762 |\n",
      "Epoch:  35%|███▌      | 53/150 [00:24<00:47,  2.06it/s]\n",
      "EP_52 | train loss: 0.42249747070611693 | val loss: 0.35001854803047927 |\n",
      "Epoch:  36%|███▌      | 54/150 [00:25<00:46,  2.07it/s]\n",
      "EP_53 | train loss: 0.42477653307073254 | val loss: 0.35093896061766383 |\n",
      "Epoch:  37%|███▋      | 55/150 [00:25<00:46,  2.06it/s]\n",
      "EP_54 | train loss: 0.41576866308848065 | val loss: 0.34425102028192256 |\n",
      "Epoch:  37%|███▋      | 56/150 [00:26<00:46,  2.04it/s]\n",
      "EP_55 | train loss: 0.41136344788121243 | val loss: 0.3411564219231699 |\n",
      "Epoch:  38%|███▊      | 57/150 [00:26<00:46,  2.00it/s]\n",
      "EP_56 | train loss: 0.41190189380271763 | val loss: 0.3416428939968932 |\n",
      "Epoch:  39%|███▊      | 58/150 [00:27<00:45,  2.04it/s]\n",
      "EP_57 | train loss: 0.41426998353471944 | val loss: 0.3422390713411219 |\n",
      "Epoch:  39%|███▉      | 59/150 [00:27<00:44,  2.03it/s]\n",
      "EP_58 | train loss: 0.4068298377242743 | val loss: 0.3370179101532581 |\n",
      "Epoch:  40%|████      | 60/150 [00:28<00:43,  2.05it/s]\n",
      "EP_59 | train loss: 0.40686418682921166 | val loss: 0.33635622847313973 |\n",
      "Epoch:  41%|████      | 61/150 [00:28<00:43,  2.04it/s]\n",
      "EP_60 | train loss: 0.40439674106298706 | val loss: 0.3349744478861491 |\n",
      "Epoch:  41%|████▏     | 62/150 [00:29<00:43,  2.03it/s]\n",
      "EP_61 | train loss: 0.39761838912963865 | val loss: 0.3302632453394871 |\n",
      "Epoch:  42%|████▏     | 63/150 [00:29<00:42,  2.04it/s]\n",
      "EP_62 | train loss: 0.3932746915256276 | val loss: 0.32885104067185345 |\n",
      "Epoch:  43%|████▎     | 64/150 [00:30<00:41,  2.06it/s]\n",
      "EP_63 | train loss: 0.40149729438856535 | val loss: 0.33328718765109194 |\n",
      "Epoch:  43%|████▎     | 65/150 [00:30<00:41,  2.04it/s]\n",
      "EP_64 | train loss: 0.3986965212167478 | val loss: 0.3321632824692072 |\n",
      "Epoch:  44%|████▍     | 66/150 [00:31<00:40,  2.06it/s]\n",
      "EP_65 | train loss: 0.3867315273658902 | val loss: 0.3248465855916341 |\n",
      "Epoch:  45%|████▍     | 67/150 [00:31<00:41,  2.02it/s]\n",
      "EP_66 | train loss: 0.38710455380234066 | val loss: 0.32449571291605633 |\n",
      "Epoch:  45%|████▌     | 68/150 [00:32<00:40,  2.05it/s]\n",
      "EP_67 | train loss: 0.38978075092914055 | val loss: 0.3272600921930051 |\n",
      "Epoch:  46%|████▌     | 69/150 [00:32<00:39,  2.04it/s]\n",
      "EP_68 | train loss: 0.38333642062018897 | val loss: 0.3219903730878643 |\n",
      "Epoch:  47%|████▋     | 70/150 [00:33<00:38,  2.06it/s]\n",
      "EP_69 | train loss: 0.3839349536334767 | val loss: 0.3239126018449372 |\n",
      "Epoch:  47%|████▋     | 71/150 [00:33<00:38,  2.05it/s]\n",
      "EP_70 | train loss: 0.3782606503542732 | val loss: 0.31903964397954004 |\n",
      "Epoch:  48%|████▊     | 72/150 [00:34<00:37,  2.07it/s]\n",
      "EP_71 | train loss: 0.3723669963724473 | val loss: 0.316488831650977 |\n",
      "Epoch:  49%|████▊     | 73/150 [00:34<00:37,  2.06it/s]\n",
      "EP_72 | train loss: 0.37015450608496575 | val loss: 0.315244852327833 |\n",
      "Epoch:  49%|████▉     | 74/150 [00:35<00:36,  2.07it/s]\n",
      "EP_73 | train loss: 0.36954203680449843 | val loss: 0.3143618621078192 |\n",
      "Epoch:  50%|█████     | 75/150 [00:35<00:36,  2.07it/s]\n",
      "EP_74 | train loss: 0.3654145554000256 | val loss: 0.31189917583091586 |\n",
      "Epoch:  51%|█████     | 76/150 [00:35<00:35,  2.10it/s]\n",
      "EP_75 | train loss: 0.3619700759064918 | val loss: 0.30890564825020583 |\n",
      "Epoch:  51%|█████▏    | 77/150 [00:36<00:35,  2.08it/s]\n",
      "EP_76 | train loss: 0.36154361519159056 | val loss: 0.30904081288506 |\n",
      "Epoch:  52%|█████▏    | 78/150 [00:36<00:34,  2.09it/s]\n",
      "EP_77 | train loss: 0.36301839117910345 | val loss: 0.30901285713794185 |\n",
      "Epoch:  53%|█████▎    | 79/150 [00:37<00:34,  2.07it/s]\n",
      "EP_78 | train loss: 0.3561560023064707 | val loss: 0.30453841359007594 |\n",
      "Epoch:  53%|█████▎    | 80/150 [00:37<00:33,  2.09it/s]\n",
      "EP_79 | train loss: 0.3599742192848056 | val loss: 0.3058691866257611 |\n",
      "Epoch:  54%|█████▍    | 81/150 [00:38<00:33,  2.03it/s]\n",
      "EP_80 | train loss: 0.3609015329211366 | val loss: 0.3069254931281595 |\n",
      "Epoch:  55%|█████▍    | 82/150 [00:38<00:33,  2.05it/s]\n",
      "EP_81 | train loss: 0.3432185603123085 | val loss: 0.29619381007026224 |\n",
      "Epoch:  55%|█████▌    | 83/150 [00:39<00:32,  2.03it/s]\n",
      "EP_82 | train loss: 0.34536443270888983 | val loss: 0.29578104206160005 |\n",
      "Epoch:  56%|█████▌    | 84/150 [00:39<00:32,  2.02it/s]\n",
      "EP_83 | train loss: 0.3513945023218791 | val loss: 0.29804518643547506 |\n",
      "Epoch:  57%|█████▋    | 85/150 [00:40<00:32,  2.01it/s]\n",
      "EP_84 | train loss: 0.3401005137200449 | val loss: 0.29197826105005603 |\n",
      "Epoch:  57%|█████▋    | 86/150 [00:40<00:31,  2.01it/s]\n",
      "EP_85 | train loss: 0.33627850354886524 | val loss: 0.28753915955038634 |\n",
      "Epoch:  58%|█████▊    | 87/150 [00:41<00:31,  2.02it/s]\n",
      "EP_86 | train loss: 0.32958590142867145 | val loss: 0.2829005998723647 |\n",
      "Epoch:  59%|█████▊    | 88/150 [00:41<00:30,  2.06it/s]\n",
      "EP_87 | train loss: 0.32344543746873444 | val loss: 0.279373472812129 |\n",
      "Epoch:  59%|█████▉    | 89/150 [00:42<00:29,  2.06it/s]\n",
      "EP_88 | train loss: 0.31808526515960694 | val loss: 0.277162374234667 |\n",
      "Epoch:  60%|██████    | 90/150 [00:42<00:28,  2.08it/s]\n",
      "EP_89 | train loss: 0.3160684076010012 | val loss: 0.27336585755441706 |\n",
      "Epoch:  61%|██████    | 91/150 [00:43<00:28,  2.06it/s]\n",
      "EP_90 | train loss: 0.31478805915982117 | val loss: 0.2704775193158318 |\n",
      "Epoch:  61%|██████▏   | 92/150 [00:43<00:27,  2.08it/s]\n",
      "EP_91 | train loss: 0.3081458881789563 | val loss: 0.2672308660021015 |\n",
      "Epoch:  62%|██████▏   | 93/150 [00:44<00:27,  2.07it/s]\n",
      "EP_92 | train loss: 0.303680553857018 | val loss: 0.2640453506918514 |\n",
      "Epoch:  63%|██████▎   | 94/150 [00:44<00:26,  2.08it/s]\n",
      "EP_93 | train loss: 0.3003344302083932 | val loss: 0.26067208308799594 |\n",
      "Epoch:  63%|██████▎   | 95/150 [00:45<00:26,  2.06it/s]\n",
      "EP_94 | train loss: 0.3009263094733743 | val loss: 0.2598908087786506 |\n",
      "Epoch:  64%|██████▍   | 96/150 [00:45<00:26,  2.07it/s]\n",
      "EP_95 | train loss: 0.2962143056532916 | val loss: 0.2549563669690899 |\n",
      "Epoch:  65%|██████▍   | 97/150 [00:46<00:25,  2.06it/s]\n",
      "EP_96 | train loss: 0.2869904924841488 | val loss: 0.24956842497283338 |\n",
      "Epoch:  65%|██████▌   | 98/150 [00:46<00:25,  2.07it/s]\n",
      "EP_97 | train loss: 0.2844386297113755 | val loss: 0.24600800813413135 |\n",
      "Epoch:  66%|██████▌   | 99/150 [00:47<00:24,  2.05it/s]\n",
      "EP_98 | train loss: 0.28738889133228973 | val loss: 0.24654713798971736 |\n",
      "Epoch:  67%|██████▋   | 100/150 [00:47<00:24,  2.06it/s]\n",
      "EP_99 | train loss: 0.28071897263620416 | val loss: 0.24034615123973174 |\n",
      "Epoch:  67%|██████▋   | 101/150 [00:48<00:23,  2.06it/s]\n",
      "EP_100 | train loss: 0.2712713372473623 | val loss: 0.23470510220995136 |\n",
      "Epoch:  68%|██████▊   | 102/150 [00:48<00:23,  2.08it/s]\n",
      "EP_101 | train loss: 0.26707473782932056 | val loss: 0.23172867999357336 |\n",
      "Epoch:  69%|██████▊   | 103/150 [00:49<00:22,  2.07it/s]\n",
      "EP_102 | train loss: 0.2696155580819822 | val loss: 0.23027355530682733 |\n",
      "Epoch:  69%|██████▉   | 104/150 [00:49<00:22,  2.09it/s]\n",
      "EP_103 | train loss: 0.2563439967585545 | val loss: 0.22512654229706408 |\n",
      "Epoch:  70%|███████   | 105/150 [00:50<00:21,  2.08it/s]\n",
      "EP_104 | train loss: 0.2539646073883655 | val loss: 0.22820319848902085 |\n",
      "Epoch:  71%|███████   | 106/150 [00:50<00:21,  2.07it/s]\n",
      "EP_105 | train loss: 0.2577486089631623 | val loss: 0.22194670228397145 |\n",
      "Epoch:  71%|███████▏  | 107/150 [00:51<00:20,  2.05it/s]\n",
      "EP_106 | train loss: 0.24346445401509603 | val loss: 0.2141267224854114 |\n",
      "Epoch:  72%|███████▏  | 108/150 [00:51<00:20,  2.06it/s]\n",
      "EP_107 | train loss: 0.23783557485131657 | val loss: 0.21051803289675244 |\n",
      "Epoch:  73%|███████▎  | 109/150 [00:52<00:19,  2.06it/s]\n",
      "EP_108 | train loss: 0.2361243668724509 | val loss: 0.21179482516120463 |\n",
      "Epoch:  73%|███████▎  | 110/150 [00:52<00:19,  2.07it/s]\n",
      "EP_109 | train loss: 0.229317764674916 | val loss: 0.20412667124879127 |\n",
      "Epoch:  74%|███████▍  | 111/150 [00:52<00:18,  2.07it/s]\n",
      "EP_110 | train loss: 0.24206821731492584 | val loss: 0.2052184927697275 |\n",
      "Epoch:  75%|███████▍  | 112/150 [00:53<00:18,  2.08it/s]\n",
      "EP_111 | train loss: 0.22050057158750647 | val loss: 0.19342066493688845 |\n",
      "Epoch:  75%|███████▌  | 113/150 [00:53<00:17,  2.06it/s]\n",
      "EP_112 | train loss: 0.2160181015145545 | val loss: 0.19031460144940546 |\n",
      "Epoch:  76%|███████▌  | 114/150 [00:54<00:17,  2.08it/s]\n",
      "EP_113 | train loss: 0.20969080223756678 | val loss: 0.18538157378925996 |\n",
      "Epoch:  77%|███████▋  | 115/150 [00:54<00:17,  2.06it/s]\n",
      "EP_114 | train loss: 0.20717406179390702 | val loss: 0.18812760184792912 |\n",
      "Epoch:  77%|███████▋  | 116/150 [00:55<00:16,  2.08it/s]\n",
      "EP_115 | train loss: 0.20870377503189386 | val loss: 0.18006297186309217 |\n",
      "Epoch:  78%|███████▊  | 117/150 [00:55<00:15,  2.06it/s]\n",
      "EP_116 | train loss: 0.19655664270999385 | val loss: 0.17805045959996244 |\n",
      "Epoch:  79%|███████▊  | 118/150 [00:56<00:15,  2.06it/s]\n",
      "EP_117 | train loss: 0.1958189419671601 | val loss: 0.16981988093432257 |\n",
      "Epoch:  79%|███████▉  | 119/150 [00:56<00:15,  2.02it/s]\n",
      "EP_118 | train loss: 0.18563338728512035 | val loss: 0.1688358316234514 |\n",
      "Epoch:  80%|████████  | 120/150 [00:57<00:14,  2.01it/s]\n",
      "EP_119 | train loss: 0.1799070398012797 | val loss: 0.1642319548363779 |\n",
      "Epoch:  81%|████████  | 121/150 [00:57<00:14,  1.99it/s]\n",
      "EP_120 | train loss: 0.17384801495308969 | val loss: 0.15764225230497472 |\n",
      "Epoch:  81%|████████▏ | 122/150 [00:58<00:14,  2.00it/s]\n",
      "EP_121 | train loss: 0.17199532938938514 | val loss: 0.15937249333250755 |\n",
      "Epoch:  82%|████████▏ | 123/150 [00:58<00:13,  1.99it/s]\n",
      "EP_122 | train loss: 0.17165109199636122 | val loss: 0.14801528640821868 |\n",
      "Epoch:  83%|████████▎ | 124/150 [00:59<00:12,  2.02it/s]\n",
      "EP_123 | train loss: 0.1616707170710844 | val loss: 0.15066005669388116 |\n",
      "Epoch:  83%|████████▎ | 125/150 [00:59<00:12,  2.04it/s]\n",
      "EP_124 | train loss: 0.15538910416995777 | val loss: 0.14017956630856382 |\n",
      "Epoch:  84%|████████▍ | 126/150 [01:00<00:11,  2.05it/s]\n",
      "EP_125 | train loss: 0.17978544352101344 | val loss: 0.15347578011307061 |\n",
      "Epoch:  85%|████████▍ | 127/150 [01:00<00:11,  2.04it/s]\n",
      "EP_126 | train loss: 0.14685845912671558 | val loss: 0.13684515859566482 |\n",
      "Epoch:  85%|████████▌ | 128/150 [01:01<00:10,  2.04it/s]\n",
      "EP_127 | train loss: 0.14141073881411084 | val loss: 0.13127550658057718 |\n",
      "Epoch:  86%|████████▌ | 129/150 [01:01<00:10,  2.03it/s]\n",
      "EP_128 | train loss: 0.13683296722524307 | val loss: 0.1295565506991218 |\n",
      "Epoch:  87%|████████▋ | 130/150 [01:02<00:09,  2.02it/s]\n",
      "EP_129 | train loss: 0.13821146044076657 | val loss: 0.12214433913137399 |\n",
      "Epoch:  87%|████████▋ | 131/150 [01:02<00:09,  2.01it/s]\n",
      "EP_130 | train loss: 0.12902468010491017 | val loss: 0.11865727574217554 |\n",
      "Epoch:  88%|████████▊ | 132/150 [01:03<00:08,  2.01it/s]\n",
      "EP_131 | train loss: 0.12252405110527487 | val loss: 0.1131378038256776 |\n",
      "Epoch:  89%|████████▊ | 133/150 [01:03<00:08,  1.99it/s]\n",
      "EP_132 | train loss: 0.12484434924873651 | val loss: 0.12445000339956845 |\n",
      "Epoch:  89%|████████▉ | 134/150 [01:04<00:07,  2.01it/s]\n",
      "EP_133 | train loss: 0.11885121476416495 | val loss: 0.11674114302092907 |\n",
      "Epoch:  90%|█████████ | 135/150 [01:04<00:07,  2.00it/s]\n",
      "EP_134 | train loss: 0.12826582730985156 | val loss: 0.11300073651706471 |\n",
      "Epoch:  91%|█████████ | 136/150 [01:05<00:06,  2.01it/s]\n",
      "EP_135 | train loss: 0.10573101207321765 | val loss: 0.1027220464220234 |\n",
      "Epoch:  91%|█████████▏| 137/150 [01:05<00:06,  2.01it/s]\n",
      "EP_136 | train loss: 0.10133885098438637 | val loss: 0.0987689214594224 |\n",
      "Epoch:  92%|█████████▏| 138/150 [01:06<00:05,  2.03it/s]\n",
      "EP_137 | train loss: 0.09783309943535749 | val loss: 0.09550501902898152 |\n",
      "Epoch:  93%|█████████▎| 139/150 [01:06<00:05,  1.99it/s]\n",
      "EP_138 | train loss: 0.09947773288278018 | val loss: 0.09494397686977013 |\n",
      "Epoch:  93%|█████████▎| 140/150 [01:07<00:04,  2.01it/s]\n",
      "EP_139 | train loss: 0.10390804117801143 | val loss: 0.11381021667929257 |\n",
      "Epoch:  94%|█████████▍| 141/150 [01:07<00:04,  2.00it/s]\n",
      "EP_140 | train loss: 0.0895970034833048 | val loss: 0.09379671601688161 |\n",
      "Epoch:  95%|█████████▍| 142/150 [01:08<00:04,  2.00it/s]\n",
      "EP_141 | train loss: 0.08860560527034834 | val loss: 0.0957461817591798 |\n",
      "Epoch:  95%|█████████▌| 143/150 [01:08<00:03,  1.98it/s]\n",
      "EP_142 | train loss: 0.08507118447154176 | val loss: 0.08170971099068136 |\n",
      "Epoch:  96%|█████████▌| 144/150 [01:09<00:03,  1.99it/s]\n",
      "EP_143 | train loss: 0.10857872822705437 | val loss: 0.09840990281572529 |\n",
      "Epoch:  97%|█████████▋| 145/150 [01:09<00:02,  1.99it/s]\n",
      "EP_144 | train loss: 0.07985531933167402 | val loss: 0.08564893755258299 |\n",
      "Epoch:  97%|█████████▋| 146/150 [01:10<00:02,  1.95it/s]\n",
      "EP_145 | train loss: 0.07982763905151218 | val loss: 0.08082954790077958 |\n",
      "Epoch:  98%|█████████▊| 147/150 [01:10<00:01,  1.94it/s]\n",
      "EP_146 | train loss: 0.071164882942742 | val loss: 0.07821078744589113 |\n",
      "Epoch:  99%|█████████▊| 148/150 [01:11<00:01,  1.96it/s]\n",
      "EP_147 | train loss: 0.06840996654594646 | val loss: 0.0710703496839486 |\n",
      "Epoch:  99%|█████████▉| 149/150 [01:11<00:00,  1.98it/s]\n",
      "EP_148 | train loss: 0.06577866550754098 | val loss: 0.07184897450839772 |\n",
      "Epoch: 100%|██████████| 150/150 [01:12<00:00,  2.07it/s]\n",
      "EP_149 | train loss: 0.06274175053718044 | val loss: 0.07147116287081849 |\n",
      "\n"
     ]
    }
   ],
   "source": [
    "AttractiveTrainer.train()"
   ]
  },
  {
   "cell_type": "markdown",
   "metadata": {},
   "source": [
    "## Below is testing"
   ]
  },
  {
   "cell_type": "code",
   "execution_count": 6,
   "metadata": {},
   "outputs": [
    {
     "output_type": "execute_result",
     "data": {
      "text/plain": [
       "AttractiveNet(\n",
       "  (embedding): AttractiveEmbedding(\n",
       "    (token): TokenEmbedding(12699, 300, padding_idx=1)\n",
       "  )\n",
       "  (bigramcnn): Sequential(\n",
       "    (0): Conv1d(300, 210, kernel_size=(2,), stride=(1,), padding=(1,))\n",
       "    (1): ReLU()\n",
       "    (2): Conv1d(210, 100, kernel_size=(2,), stride=(1,), padding=(1,))\n",
       "    (3): ReLU()\n",
       "    (4): Dropout(p=0.5, inplace=False)\n",
       "  )\n",
       "  (trigramcnn): Sequential(\n",
       "    (0): Conv1d(300, 210, kernel_size=(3,), stride=(1,), padding=(1,))\n",
       "    (1): ReLU()\n",
       "    (2): Conv1d(210, 100, kernel_size=(3,), stride=(1,), padding=(1,))\n",
       "    (3): ReLU()\n",
       "    (4): Dropout(p=0.5, inplace=False)\n",
       "  )\n",
       "  (encoder_bigram): LSTM(100, 30, batch_first=True, dropout=0.5, bidirectional=True)\n",
       "  (encoder_trigram): LSTM(100, 30, batch_first=True, dropout=0.5, bidirectional=True)\n",
       "  (linear): Sequential(\n",
       "    (0): Linear(in_features=128, out_features=30, bias=True)\n",
       "    (1): ReLU()\n",
       "    (2): Linear(in_features=30, out_features=1, bias=True)\n",
       "  )\n",
       ")"
      ]
     },
     "metadata": {},
     "execution_count": 6
    }
   ],
   "source": [
    "from attractivenet import AttractiveNet\n",
    "\n",
    "PATH = './model/CNN_LSTM_20201110-214454/0.378261.70'\n",
    "\n",
    "load_model = AttractiveNet(config).to(AttractiveData.device)\n",
    "load_model.load_state_dict(torch.load(PATH))\n",
    "load_model.eval()"
   ]
  },
  {
   "cell_type": "code",
   "execution_count": 7,
   "metadata": {},
   "outputs": [],
   "source": [
    "def predict_attractive(sentence, category, phase):\n",
    "    indexed_sentence = [AttractiveData.TEXT.vocab.stoi[t] for t in sentence]\n",
    "    indexed_category = [AttractiveData.CATEGORIES_LABEL.vocab.stoi[category]]\n",
    "    tensor_sentence = torch.LongTensor(indexed_sentence).to(AttractiveData.device)\n",
    "    tensor_category = torch.LongTensor(indexed_category).to(AttractiveData.device)\n",
    "    tensor_sentence = tensor_sentence.unsqueeze(0)\n",
    "\n",
    "    prediction = load_model(tensor_sentence, tensor_category, phase=phase)\n",
    "\n",
    "    return prediction"
   ]
  },
  {
   "cell_type": "code",
   "execution_count": 8,
   "metadata": {
    "tags": []
   },
   "outputs": [],
   "source": [
    "predict_list = []\n",
    "with torch.no_grad():\n",
    "    for i, sentence in enumerate(AttractiveData.test_data):\n",
    "        prediction = predict_attractive(sentence.Headline, sentence.Category, 'test')\n",
    "        predict_list.append(prediction.item())\n",
    "\n",
    "AttractiveData.df_test['Label'] = predict_list\n",
    "AttractiveData.df_test[['ID', 'Label']].to_csv(config['save_name'] + '.csv', index=False)"
   ]
  },
  {
   "cell_type": "markdown",
   "metadata": {},
   "source": [
    "## Below for statistics"
   ]
  },
  {
   "cell_type": "code",
   "execution_count": 9,
   "metadata": {},
   "outputs": [],
   "source": [
    "import statistics\n",
    "from sklearn.metrics import mean_squared_error"
   ]
  },
  {
   "cell_type": "code",
   "execution_count": 10,
   "metadata": {},
   "outputs": [],
   "source": [
    "# # train mean = 3.15, test mean = 2.8\n",
    "# train_list = []\n",
    "# for i, sentence in enumerate(AttractiveData.train_data):\n",
    "#     prediction = predict_attractive(sentence.Headline, sentence.Category, 'train')\n",
    "#     train_list.append(prediction.item())\n",
    "#     # train_list.append(prediction.item())\n",
    "# # print(train_list)\n",
    "# mean_squared_error(pd.read_csv('data/train.csv').sort_values(['ID']).Label.to_list(), train_list), statistics.mean(train_list), statistics.stdev(train_list)"
   ]
  },
  {
   "cell_type": "code",
   "execution_count": 11,
   "metadata": {},
   "outputs": [],
   "source": [
    "# train_list[0:5], pd.read_csv('data/train.csv').sort_values(['ID']).Label.to_list()[0:5]"
   ]
  },
  {
   "cell_type": "code",
   "execution_count": 12,
   "metadata": {},
   "outputs": [],
   "source": [
    "# a = AttractiveData.df_train['Label'].to_list()\n",
    "# statistics.mean(a), statistics.stdev(a)"
   ]
  },
  {
   "cell_type": "code",
   "execution_count": 13,
   "metadata": {},
   "outputs": [
    {
     "output_type": "execute_result",
     "data": {
      "text/plain": [
       "(2.837821993008584, 0.3630713910581061)"
      ]
     },
     "metadata": {},
     "execution_count": 13
    }
   ],
   "source": [
    "statistics.mean(predict_list), statistics.stdev(predict_list)"
   ]
  },
  {
   "cell_type": "code",
   "execution_count": 14,
   "metadata": {},
   "outputs": [
    {
     "output_type": "execute_result",
     "data": {
      "text/plain": [
       "(0.01878155836791323, 2.8142020345259344, 0.36798823904910916)"
      ]
     },
     "metadata": {},
     "execution_count": 14
    }
   ],
   "source": [
    "baseline_list = pd.read_csv('baseline.csv').sort_values(['ID']).Label.to_list()\n",
    "mean_squared_error(baseline_list, predict_list), statistics.mean(baseline_list), statistics.stdev(baseline_list)"
   ]
  },
  {
   "cell_type": "code",
   "execution_count": null,
   "metadata": {},
   "outputs": [],
   "source": []
  },
  {
   "cell_type": "code",
   "execution_count": 17,
   "metadata": {},
   "outputs": [
    {
     "output_type": "execute_result",
     "data": {
      "text/plain": [
       "0.0"
      ]
     },
     "metadata": {},
     "execution_count": 17
    }
   ],
   "source": [
    "mean_squared_error(pd.read_csv('baseline.csv').sort_values(['ID']).Label.to_list(), pd.read_csv('../309551062/predict/CNN_LSTM_20201109-125007_0.374958.75.csv').sort_values(['ID']).Label.to_list())"
   ]
  },
  {
   "cell_type": "code",
   "execution_count": 13,
   "metadata": {},
   "outputs": [],
   "source": []
  },
  {
   "cell_type": "code",
   "execution_count": null,
   "metadata": {},
   "outputs": [],
   "source": []
  }
 ],
 "metadata": {
  "kernelspec": {
   "display_name": "DS_hw2",
   "language": "python",
   "name": "ds_hw2"
  },
  "language_info": {
   "codemirror_mode": {
    "name": "ipython",
    "version": 3
   },
   "file_extension": ".py",
   "mimetype": "text/x-python",
   "name": "python",
   "nbconvert_exporter": "python",
   "pygments_lexer": "ipython3",
   "version": "3.6.12-final"
  }
 },
 "nbformat": 4,
 "nbformat_minor": 4
}