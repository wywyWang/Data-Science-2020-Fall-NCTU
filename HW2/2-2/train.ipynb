{
 "cells": [
  {
   "cell_type": "code",
   "execution_count": 1,
   "metadata": {},
   "outputs": [],
   "source": [
    "# common packages\n",
    "import pandas as pd\n",
    "import time\n",
    "\n",
    "# # DL framework\n",
    "import torch\n",
    "from torchtext import data\n",
    "\n",
    "from attractivedata import AttractiveData\n",
    "from trainer import AttractiveTrainer"
   ]
  },
  {
   "cell_type": "code",
   "execution_count": 2,
   "metadata": {},
   "outputs": [],
   "source": [
    "seed_value = 42\n",
    "torch.manual_seed(seed_value)\n",
    "torch.cuda.manual_seed(seed_value)\n",
    "torch.cuda.manual_seed_all(seed_value) # gpu vars\n",
    "torch.backends.cudnn.deterministic = True  #needed\n",
    "torch.backends.cudnn.benchmark = False"
   ]
  },
  {
   "cell_type": "markdown",
   "metadata": {},
   "source": [
    "## Load and prepare data"
   ]
  },
  {
   "cell_type": "code",
   "execution_count": 3,
   "metadata": {},
   "outputs": [],
   "source": [
    "train_file = 'data/train.csv'\n",
    "val_file = 'example/val.csv'\n",
    "test_file = 'data/test.csv'\n",
    "pretrained_file = 'glove.840B.300d'\n",
    "config = {\n",
    "    'max_seq': 40,\n",
    "    'min_freq': 0,\n",
    "    'batch_size': 51,\n",
    "    'pretrained_file': pretrained_file\n",
    "}\n"
   ]
  },
  {
   "cell_type": "code",
   "execution_count": 4,
   "metadata": {},
   "outputs": [],
   "source": [
    "AttractiveData = AttractiveData(train_file, val_file, test_file, pretrained_file, config)"
   ]
  },
  {
   "cell_type": "markdown",
   "metadata": {},
   "source": [
    "## Start to train"
   ]
  },
  {
   "cell_type": "code",
   "execution_count": 5,
   "metadata": {},
   "outputs": [
    {
     "output_type": "stream",
     "name": "stdout",
     "text": [
      "torch.Size([12699, 300])\n"
     ]
    }
   ],
   "source": [
    "config['timestr'] = time.strftime(\"%Y%m%d-%H%M%S\")\n",
    "config['save_name'] = 'CNN_LSTM'\n",
    "config['input_dim'] = len(AttractiveData.TEXT.vocab)\n",
    "config['embedding_dim'] = 300\n",
    "config['category_dim'] = len(AttractiveData.CATEGORIES_LABEL.vocab)\n",
    "config['category_embedding_dim'] = 10\n",
    "config['hidden_dim'] = 30\n",
    "config['output_dim'] = 1\n",
    "config['log_steps'] = 10\n",
    "config['epochs'] = 200\n",
    "config['lr'] = {\n",
    "    'encoder': 1e-5,\n",
    "    'embedding': 6e-6,\n",
    "    'linear': 1e-5\n",
    "}\n",
    "config['num_layers'] = 1\n",
    "config['kernel_size'] = 3\n",
    "config['dropout'] = 0.5\n",
    "config['train_len'] = AttractiveData.train_len\n",
    "config['val_len'] = AttractiveData.val_len\n",
    "config['test_len'] = AttractiveData.test_len\n",
    "\n",
    "pretrained_embeddings = AttractiveData.TEXT.vocab.vectors\n",
    "print(pretrained_embeddings.shape)"
   ]
  },
  {
   "cell_type": "code",
   "execution_count": 7,
   "metadata": {},
   "outputs": [],
   "source": [
    "AttractiveTrainer = AttractiveTrainer(config, AttractiveData.device, AttractiveData.trainloader, AttractiveData.valloader, pretrained_embeddings)"
   ]
  },
  {
   "cell_type": "code",
   "execution_count": 8,
   "metadata": {},
   "outputs": [
    {
     "output_type": "execute_result",
     "data": {
      "text/plain": [
       "(AttractiveNet(\n",
       "   (embedding): AttractiveEmbedding(\n",
       "     (token): TokenEmbedding(12699, 300, padding_idx=1)\n",
       "   )\n",
       "   (bigramcnn): Sequential(\n",
       "     (0): Conv1d(300, 210, kernel_size=(2,), stride=(1,), padding=(1,))\n",
       "     (1): ReLU()\n",
       "     (2): Conv1d(210, 100, kernel_size=(2,), stride=(1,), padding=(1,))\n",
       "     (3): ReLU()\n",
       "     (4): Dropout(p=0.5, inplace=False)\n",
       "   )\n",
       "   (trigramcnn): Sequential(\n",
       "     (0): Conv1d(300, 210, kernel_size=(3,), stride=(1,), padding=(1,))\n",
       "     (1): ReLU()\n",
       "     (2): Conv1d(210, 100, kernel_size=(3,), stride=(1,), padding=(1,))\n",
       "     (3): ReLU()\n",
       "     (4): Dropout(p=0.5, inplace=False)\n",
       "   )\n",
       "   (encoder_bigram): LSTM(100, 30, batch_first=True, dropout=0.5, bidirectional=True)\n",
       "   (encoder_trigram): LSTM(100, 30, batch_first=True, dropout=0.5, bidirectional=True)\n",
       "   (linear): Sequential(\n",
       "     (0): Linear(in_features=128, out_features=30, bias=True)\n",
       "     (1): ReLU()\n",
       "     (2): Linear(in_features=30, out_features=1, bias=True)\n",
       "   )\n",
       " ),\n",
       " 4297581,\n",
       " 4297581)"
      ]
     },
     "metadata": {},
     "execution_count": 8
    }
   ],
   "source": [
    "AttractiveTrainer.model, AttractiveTrainer.config['total_params'], AttractiveTrainer.config['total_learned_params']"
   ]
  },
  {
   "cell_type": "code",
   "execution_count": 9,
   "metadata": {
    "tags": [
     "outputPrepend"
    ]
   },
   "outputs": [
    {
     "output_type": "stream",
     "name": "stderr",
     "text": [
      "00 [00:22<01:14,  2.03it/s]\n",
      "EP_47 | train loss: 0.4335989012437708 | val loss: 0.3639739447948979 |\n",
      "Epoch:  24%|██▍       | 49/200 [00:23<01:13,  2.04it/s]\n",
      "EP_48 | train loss: 0.4302691239936679 | val loss: 0.36040518330592736 |\n",
      "Epoch:  25%|██▌       | 50/200 [00:23<01:13,  2.05it/s]\n",
      "EP_49 | train loss: 0.42678565885506425 | val loss: 0.3576098376629399 |\n",
      "Epoch:  26%|██▌       | 51/200 [00:24<01:13,  2.03it/s]\n",
      "EP_50 | train loss: 0.42879562237683466 | val loss: 0.35640305163813574 |\n",
      "Epoch:  26%|██▌       | 52/200 [00:24<01:12,  2.05it/s]\n",
      "EP_51 | train loss: 0.42527220763412177 | val loss: 0.35196198201646994 |\n",
      "Epoch:  26%|██▋       | 53/200 [00:25<01:11,  2.06it/s]\n",
      "EP_52 | train loss: 0.42623397929995666 | val loss: 0.35248679273268757 |\n",
      "Epoch:  27%|██▋       | 54/200 [00:25<01:10,  2.06it/s]\n",
      "EP_53 | train loss: 0.42198256698309206 | val loss: 0.34853306003645357 |\n",
      "Epoch:  28%|██▊       | 55/200 [00:26<01:10,  2.04it/s]\n",
      "EP_54 | train loss: 0.4196519229926315 | val loss: 0.3467402785432105 |\n",
      "Epoch:  28%|██▊       | 56/200 [00:26<01:10,  2.03it/s]\n",
      "EP_55 | train loss: 0.41861402567695166 | val loss: 0.3451126650267956 |\n",
      "Epoch:  28%|██▊       | 57/200 [00:27<01:10,  2.02it/s]\n",
      "EP_56 | train loss: 0.4200840108534869 | val loss: 0.3471020577000637 |\n",
      "Epoch:  29%|██▉       | 58/200 [00:27<01:10,  2.03it/s]\n",
      "EP_57 | train loss: 0.4111628116345873 | val loss: 0.34108511606852215 |\n",
      "Epoch:  30%|██▉       | 59/200 [00:27<01:08,  2.05it/s]\n",
      "EP_58 | train loss: 0.40847896688124713 | val loss: 0.339566006379969 |\n",
      "Epoch:  30%|███       | 60/200 [00:28<01:08,  2.06it/s]\n",
      "EP_59 | train loss: 0.4097435558543486 | val loss: 0.3386622830933216 |\n",
      "Epoch:  30%|███       | 61/200 [00:28<01:07,  2.04it/s]\n",
      "EP_60 | train loss: 0.40488017680598243 | val loss: 0.3371118751226687 |\n",
      "Epoch:  31%|███       | 62/200 [00:29<01:07,  2.05it/s]\n",
      "EP_61 | train loss: 0.4064000975851919 | val loss: 0.3368813150069293 |\n",
      "Epoch:  32%|███▏      | 63/200 [00:29<01:06,  2.06it/s]\n",
      "EP_62 | train loss: 0.4047263131422155 | val loss: 0.3357998623567469 |\n",
      "Epoch:  32%|███▏      | 64/200 [00:30<01:06,  2.05it/s]\n",
      "EP_63 | train loss: 0.40650568849900187 | val loss: 0.33517759454016594 |\n",
      "Epoch:  32%|███▎      | 65/200 [00:30<01:05,  2.06it/s]\n",
      "EP_64 | train loss: 0.39643701431798 | val loss: 0.33137811398973654 |\n",
      "Epoch:  33%|███▎      | 66/200 [00:31<01:05,  2.04it/s]\n",
      "EP_65 | train loss: 0.40096738992952835 | val loss: 0.3322158420787138 |\n",
      "Epoch:  34%|███▎      | 67/200 [00:31<01:05,  2.05it/s]\n",
      "EP_66 | train loss: 0.39545682692060286 | val loss: 0.33000098957734947 |\n",
      "Epoch:  34%|███▍      | 68/200 [00:32<01:04,  2.04it/s]\n",
      "EP_67 | train loss: 0.3920943648207421 | val loss: 0.3278849685893339 |\n",
      "Epoch:  34%|███▍      | 69/200 [00:32<01:03,  2.06it/s]\n",
      "EP_68 | train loss: 0.38736027596043604 | val loss: 0.3260346861446605 |\n",
      "Epoch:  35%|███▌      | 70/200 [00:33<01:01,  2.11it/s]\n",
      "EP_69 | train loss: 0.39503587133744184 | val loss: 0.32870955560721604 |\n",
      "Epoch:  36%|███▌      | 71/200 [00:33<01:02,  2.07it/s]\n",
      "EP_70 | train loss: 0.38401173984303194 | val loss: 0.3233037275426528 |\n",
      "Epoch:  36%|███▌      | 72/200 [00:34<01:01,  2.09it/s]\n",
      "EP_71 | train loss: 0.3803791177039053 | val loss: 0.32279566222546147 |\n",
      "Epoch:  36%|███▋      | 73/200 [00:34<00:59,  2.12it/s]\n",
      "EP_72 | train loss: 0.38182793925790226 | val loss: 0.3222366548052021 |\n",
      "Epoch:  37%|███▋      | 74/200 [00:35<00:58,  2.16it/s]\n",
      "EP_73 | train loss: 0.38141853622361727 | val loss: 0.32138807633343863 |\n",
      "Epoch:  38%|███▊      | 75/200 [00:35<00:57,  2.18it/s]\n",
      "EP_74 | train loss: 0.3759269256217807 | val loss: 0.31956862000858083 |\n",
      "Epoch:  38%|███▊      | 76/200 [00:36<00:56,  2.18it/s]\n",
      "EP_75 | train loss: 0.38122204238293217 | val loss: 0.3200925892474605 |\n",
      "Epoch:  38%|███▊      | 77/200 [00:36<00:55,  2.20it/s]\n",
      "EP_76 | train loss: 0.36997945916418934 | val loss: 0.3170551225250843 |\n",
      "Epoch:  39%|███▉      | 78/200 [00:36<00:55,  2.21it/s]\n",
      "EP_77 | train loss: 0.3700623717962527 | val loss: 0.3165818476209454 |\n",
      "Epoch:  40%|███▉      | 79/200 [00:37<00:54,  2.22it/s]\n",
      "EP_78 | train loss: 0.36291613391801425 | val loss: 0.31514430046081543 |\n",
      "Epoch:  40%|████      | 80/200 [00:37<00:53,  2.23it/s]\n",
      "EP_79 | train loss: 0.360678674660477 | val loss: 0.3135889558231129 |\n",
      "Epoch:  40%|████      | 81/200 [00:38<00:53,  2.20it/s]\n",
      "EP_80 | train loss: 0.3580544976627125 | val loss: 0.31160252702002433 |\n",
      "Epoch:  41%|████      | 82/200 [00:38<00:53,  2.21it/s]\n",
      "EP_81 | train loss: 0.3542564583759682 | val loss: 0.3113640570173077 |\n",
      "Epoch:  42%|████▏     | 83/200 [00:39<00:52,  2.22it/s]\n",
      "EP_82 | train loss: 0.3538441494399426 | val loss: 0.3090297194088207 |\n",
      "Epoch:  42%|████▏     | 84/200 [00:39<00:52,  2.23it/s]\n",
      "EP_83 | train loss: 0.3585478062723197 | val loss: 0.3095357137567857 |\n",
      "Epoch:  42%|████▎     | 85/200 [00:40<00:51,  2.24it/s]\n",
      "EP_84 | train loss: 0.34664520469366333 | val loss: 0.30649223982119095 |\n",
      "Epoch:  43%|████▎     | 86/200 [00:40<00:51,  2.22it/s]\n",
      "EP_85 | train loss: 0.34603546694213266 | val loss: 0.3032400467816521 |\n",
      "Epoch:  44%|████▎     | 87/200 [00:41<00:50,  2.23it/s]\n",
      "EP_86 | train loss: 0.34137673845478134 | val loss: 0.30132237135195267 |\n",
      "Epoch:  44%|████▍     | 88/200 [00:41<00:50,  2.24it/s]\n",
      "EP_87 | train loss: 0.3380993772955502 | val loss: 0.29940225563797296 |\n",
      "Epoch:  44%|████▍     | 89/200 [00:41<00:49,  2.24it/s]\n",
      "EP_88 | train loss: 0.3356914150948618 | val loss: 0.29761460248161764 |\n",
      "Epoch:  45%|████▌     | 90/200 [00:42<00:48,  2.25it/s]\n",
      "EP_89 | train loss: 0.33276756277271347 | val loss: 0.29660480162676645 |\n",
      "Epoch:  46%|████▌     | 91/200 [00:42<00:48,  2.23it/s]\n",
      "EP_90 | train loss: 0.33067097476884433 | val loss: 0.29407581628537643 |\n",
      "Epoch:  46%|████▌     | 92/200 [00:43<00:48,  2.24it/s]\n",
      "EP_91 | train loss: 0.3302305268306358 | val loss: 0.2921394647336474 |\n",
      "Epoch:  46%|████▋     | 93/200 [00:43<00:47,  2.25it/s]\n",
      "EP_92 | train loss: 0.3242511529548495 | val loss: 0.2904017065085617 |\n",
      "Epoch:  47%|████▋     | 94/200 [00:44<00:47,  2.25it/s]\n",
      "EP_93 | train loss: 0.31888253595314775 | val loss: 0.2912919895321715 |\n",
      "Epoch:  48%|████▊     | 95/200 [00:44<00:46,  2.25it/s]\n",
      "EP_94 | train loss: 0.31902282752242744 | val loss: 0.28646182078941196 |\n",
      "Epoch:  48%|████▊     | 96/200 [00:45<00:46,  2.22it/s]\n",
      "EP_95 | train loss: 0.3153750227946861 | val loss: 0.28309038106132955 |\n",
      "Epoch:  48%|████▊     | 97/200 [00:45<00:46,  2.22it/s]\n",
      "EP_96 | train loss: 0.31864228949827306 | val loss: 0.2832249239379284 |\n",
      "Epoch:  49%|████▉     | 98/200 [00:45<00:45,  2.23it/s]\n",
      "EP_97 | train loss: 0.30639380754209034 | val loss: 0.28001610905516383 |\n",
      "Epoch:  50%|████▉     | 99/200 [00:46<00:45,  2.24it/s]\n",
      "EP_98 | train loss: 0.3019243782641841 | val loss: 0.2824682862150903 |\n",
      "Epoch:  50%|█████     | 100/200 [00:46<00:44,  2.25it/s]\n",
      "EP_99 | train loss: 0.3018381343168371 | val loss: 0.27252835853427065 |\n",
      "Epoch:  50%|█████     | 101/200 [00:47<00:44,  2.23it/s]\n",
      "EP_100 | train loss: 0.30414622905207617 | val loss: 0.27313899993896484 |\n",
      "Epoch:  51%|█████     | 102/200 [00:47<00:44,  2.22it/s]\n",
      "EP_101 | train loss: 0.29112929362876744 | val loss: 0.2774040792502609 |\n",
      "Epoch:  52%|█████▏    | 103/200 [00:48<00:43,  2.22it/s]\n",
      "EP_102 | train loss: 0.2898469373291614 | val loss: 0.26608705053142473 |\n",
      "Epoch:  52%|█████▏    | 104/200 [00:48<00:43,  2.22it/s]\n",
      "EP_103 | train loss: 0.28462283471051386 | val loss: 0.2720044266943838 |\n",
      "Epoch:  52%|█████▎    | 105/200 [00:49<00:42,  2.23it/s]\n",
      "EP_104 | train loss: 0.2813777834761376 | val loss: 0.26192394424887266 |\n",
      "Epoch:  53%|█████▎    | 106/200 [00:49<00:42,  2.21it/s]\n",
      "EP_105 | train loss: 0.27534709490981757 | val loss: 0.26285911541359097 |\n",
      "Epoch:  54%|█████▎    | 107/200 [00:50<00:42,  2.21it/s]\n",
      "EP_106 | train loss: 0.2797668569228228 | val loss: 0.2550857160605636 |\n",
      "Epoch:  54%|█████▍    | 108/200 [00:50<00:41,  2.22it/s]\n",
      "EP_107 | train loss: 0.2741933069977106 | val loss: 0.2516955113878437 |\n",
      "Epoch:  55%|█████▍    | 109/200 [00:50<00:40,  2.23it/s]\n",
      "EP_108 | train loss: 0.2786433977239272 | val loss: 0.2507777167301552 |\n",
      "Epoch:  55%|█████▌    | 110/200 [00:51<00:40,  2.23it/s]\n",
      "EP_109 | train loss: 0.2604035686044132 | val loss: 0.24736368422414742 |\n",
      "Epoch:  56%|█████▌    | 111/200 [00:51<00:40,  2.21it/s]\n",
      "EP_110 | train loss: 0.25633451284146774 | val loss: 0.24123739261253208 |\n",
      "Epoch:  56%|█████▌    | 112/200 [00:52<00:39,  2.22it/s]\n",
      "EP_111 | train loss: 0.2534074166241814 | val loss: 0.23644553446302227 |\n",
      "Epoch:  56%|█████▋    | 113/200 [00:52<00:40,  2.17it/s]\n",
      "EP_112 | train loss: 0.2524237913243911 | val loss: 0.2330026533089432 |\n",
      "Epoch:  57%|█████▋    | 114/200 [00:53<00:39,  2.17it/s]\n",
      "EP_113 | train loss: 0.24761121506784475 | val loss: 0.22938701218249752 |\n",
      "Epoch:  57%|█████▊    | 115/200 [00:53<00:39,  2.18it/s]\n",
      "EP_114 | train loss: 0.23973281991248038 | val loss: 0.2298430882248224 |\n",
      "Epoch:  58%|█████▊    | 116/200 [00:54<00:38,  2.17it/s]\n",
      "EP_115 | train loss: 0.2516350465662339 | val loss: 0.22618907573176364 |\n",
      "Epoch:  58%|█████▊    | 117/200 [00:54<00:38,  2.18it/s]\n",
      "EP_116 | train loss: 0.2326331933339437 | val loss: 0.22373482760261088 |\n",
      "Epoch:  59%|█████▉    | 118/200 [00:55<00:37,  2.20it/s]\n",
      "EP_117 | train loss: 0.22730531669130513 | val loss: 0.21531092886831246 |\n",
      "Epoch:  60%|█████▉    | 119/200 [00:55<00:36,  2.22it/s]\n",
      "EP_118 | train loss: 0.22424741866541845 | val loss: 0.21949089274686925 |\n",
      "Epoch:  60%|██████    | 120/200 [00:55<00:36,  2.22it/s]\n",
      "EP_119 | train loss: 0.22971784554275812 | val loss: 0.20618234428704954 |\n",
      "Epoch:  60%|██████    | 121/200 [00:56<00:36,  2.19it/s]\n",
      "EP_120 | train loss: 0.21502319808099785 | val loss: 0.20364988551420324 |\n",
      "Epoch:  61%|██████    | 122/200 [00:56<00:35,  2.21it/s]\n",
      "EP_121 | train loss: 0.21023292821996353 | val loss: 0.1987774746090758 |\n",
      "Epoch:  62%|██████▏   | 123/200 [00:57<00:34,  2.23it/s]\n",
      "EP_122 | train loss: 0.20585581064224243 | val loss: 0.1948409407746558 |\n",
      "Epoch:  62%|██████▏   | 124/200 [00:57<00:33,  2.24it/s]\n",
      "EP_123 | train loss: 0.2037728230158488 | val loss: 0.1887231293846579 |\n",
      "Epoch:  62%|██████▎   | 125/200 [00:58<00:33,  2.23it/s]\n",
      "EP_124 | train loss: 0.19724706504859177 | val loss: 0.1854061706393373 |\n",
      "Epoch:  63%|██████▎   | 126/200 [00:58<00:33,  2.21it/s]\n",
      "EP_125 | train loss: 0.19940590951956955 | val loss: 0.1977777784945918 |\n",
      "Epoch:  64%|██████▎   | 127/200 [00:59<00:32,  2.22it/s]\n",
      "EP_126 | train loss: 0.19252130307403265 | val loss: 0.17619907622243844 |\n",
      "Epoch:  64%|██████▍   | 128/200 [00:59<00:32,  2.23it/s]\n",
      "EP_127 | train loss: 0.19251876531862744 | val loss: 0.17314134158340155 |\n",
      "Epoch:  64%|██████▍   | 129/200 [00:59<00:31,  2.24it/s]\n",
      "EP_128 | train loss: 0.18993846926034666 | val loss: 0.1687984396429623 |\n",
      "Epoch:  65%|██████▌   | 130/200 [01:00<00:31,  2.23it/s]\n",
      "EP_129 | train loss: 0.18097549676895142 | val loss: 0.16298888945112042 |\n",
      "Epoch:  66%|██████▌   | 131/200 [01:00<00:31,  2.20it/s]\n",
      "EP_130 | train loss: 0.17428270742004992 | val loss: 0.15877649129605761 |\n",
      "Epoch:  66%|██████▌   | 132/200 [01:01<00:30,  2.22it/s]\n",
      "EP_131 | train loss: 0.17050686233183918 | val loss: 0.16854412649192063 |\n",
      "Epoch:  66%|██████▋   | 133/200 [01:01<00:30,  2.23it/s]\n",
      "EP_132 | train loss: 0.16688206429575003 | val loss: 0.149735735911949 |\n",
      "Epoch:  67%|██████▋   | 134/200 [01:02<00:29,  2.22it/s]\n",
      "EP_133 | train loss: 0.15859252950724434 | val loss: 0.14518172133202648 |\n",
      "Epoch:  68%|██████▊   | 135/200 [01:02<00:29,  2.22it/s]\n",
      "EP_134 | train loss: 0.15769170359069226 | val loss: 0.14153225749146706 |\n",
      "Epoch:  68%|██████▊   | 136/200 [01:03<00:28,  2.21it/s]\n",
      "EP_135 | train loss: 0.14835952707365446 | val loss: 0.141084072636623 |\n",
      "Epoch:  68%|██████▊   | 137/200 [01:03<00:28,  2.20it/s]\n",
      "EP_136 | train loss: 0.1450207836487714 | val loss: 0.13095725283903234 |\n",
      "Epoch:  69%|██████▉   | 138/200 [01:04<00:27,  2.22it/s]\n",
      "EP_137 | train loss: 0.13906228355332917 | val loss: 0.1296632733999514 |\n",
      "Epoch:  70%|██████▉   | 139/200 [01:04<00:27,  2.23it/s]\n",
      "EP_138 | train loss: 0.13603200421613806 | val loss: 0.12281008795195934 |\n",
      "Epoch:  70%|███████   | 140/200 [01:04<00:27,  2.21it/s]\n",
      "EP_139 | train loss: 0.1339794717583002 | val loss: 0.11960385359969794 |\n",
      "Epoch:  70%|███████   | 141/200 [01:05<00:27,  2.17it/s]\n",
      "EP_140 | train loss: 0.14048850419474582 | val loss: 0.12109592147901946 |\n",
      "Epoch:  71%|███████   | 142/200 [01:05<00:26,  2.16it/s]\n",
      "EP_141 | train loss: 0.12491231899635465 | val loss: 0.12119979951895919 |\n",
      "Epoch:  72%|███████▏  | 143/200 [01:06<00:26,  2.17it/s]\n",
      "EP_142 | train loss: 0.1254249663913951 | val loss: 0.11125792942795099 |\n",
      "Epoch:  72%|███████▏  | 144/200 [01:06<00:25,  2.17it/s]\n",
      "EP_143 | train loss: 0.11507204397051943 | val loss: 0.10396546008540135 |\n",
      "Epoch:  72%|███████▎  | 145/200 [01:07<00:25,  2.16it/s]\n",
      "EP_144 | train loss: 0.11143468910572575 | val loss: 0.10306099349377203 |\n",
      "Epoch:  73%|███████▎  | 146/200 [01:07<00:25,  2.14it/s]\n",
      "EP_145 | train loss: 0.11168906244577147 | val loss: 0.09830771941764682 |\n",
      "Epoch:  74%|███████▎  | 147/200 [01:08<00:24,  2.17it/s]\n",
      "EP_146 | train loss: 0.1077588232124553 | val loss: 0.09429685041016224 |\n",
      "Epoch:  74%|███████▍  | 148/200 [01:08<00:23,  2.19it/s]\n",
      "EP_147 | train loss: 0.09832895152709063 | val loss: 0.0887371675640929 |\n",
      "Epoch:  74%|███████▍  | 149/200 [01:09<00:23,  2.20it/s]\n",
      "EP_148 | train loss: 0.0986394462632198 | val loss: 0.08696765525668275 |\n",
      "Epoch:  75%|███████▌  | 150/200 [01:09<00:22,  2.21it/s]\n",
      "EP_149 | train loss: 0.09144104520479839 | val loss: 0.08762311818552952 |\n",
      "Epoch:  76%|███████▌  | 151/200 [01:09<00:22,  2.19it/s]\n",
      "EP_150 | train loss: 0.09392965471043306 | val loss: 0.09365226825078328 |\n",
      "Epoch:  76%|███████▌  | 152/200 [01:10<00:21,  2.20it/s]\n",
      "EP_151 | train loss: 0.08861777630506777 | val loss: 0.08730055421006445 |\n",
      "Epoch:  76%|███████▋  | 153/200 [01:10<00:21,  2.21it/s]\n",
      "EP_152 | train loss: 0.08151972247105019 | val loss: 0.07703628259546616 |\n",
      "Epoch:  77%|███████▋  | 154/200 [01:11<00:20,  2.22it/s]\n",
      "EP_153 | train loss: 0.08684053374271766 | val loss: 0.07844941873176425 |\n",
      "Epoch:  78%|███████▊  | 155/200 [01:11<00:20,  2.23it/s]\n",
      "EP_154 | train loss: 0.07635772508733413 | val loss: 0.0708099136165544 |\n",
      "Epoch:  78%|███████▊  | 156/200 [01:12<00:19,  2.21it/s]\n",
      "EP_155 | train loss: 0.07484978542608374 | val loss: 0.07547656110688752 |\n",
      "Epoch:  78%|███████▊  | 157/200 [01:12<00:19,  2.23it/s]\n",
      "EP_156 | train loss: 0.07129981763222638 | val loss: 0.06973305403017531 |\n",
      "Epoch:  79%|███████▉  | 158/200 [01:13<00:18,  2.24it/s]\n",
      "EP_157 | train loss: 0.07053230042551079 | val loss: 0.07148654554404464 |\n",
      "Epoch:  80%|███████▉  | 159/200 [01:13<00:18,  2.23it/s]\n",
      "EP_158 | train loss: 0.07554872748898525 | val loss: 0.06682812933828317 |\n",
      "Epoch:  80%|████████  | 160/200 [01:14<00:17,  2.24it/s]\n",
      "EP_159 | train loss: 0.06244853507069981 | val loss: 0.058696098187390494 |\n",
      "Epoch:  80%|████████  | 161/200 [01:14<00:17,  2.22it/s]\n",
      "EP_160 | train loss: 0.06254411135234085 | val loss: 0.05731614430745443 |\n",
      "Epoch:  81%|████████  | 162/200 [01:14<00:17,  2.22it/s]\n",
      "EP_161 | train loss: 0.06264883455108194 | val loss: 0.05689897841098262 |\n",
      "Epoch:  82%|████████▏ | 163/200 [01:15<00:16,  2.23it/s]\n",
      "EP_162 | train loss: 0.05669611189879623 | val loss: 0.05432612054488238 |\n",
      "Epoch:  82%|████████▏ | 164/200 [01:15<00:16,  2.20it/s]\n",
      "EP_163 | train loss: 0.05371890599821128 | val loss: 0.05112346364002602 |\n",
      "Epoch:  82%|████████▎ | 165/200 [01:16<00:15,  2.20it/s]\n",
      "EP_164 | train loss: 0.05319664863979115 | val loss: 0.04890923348127627 |\n",
      "Epoch:  83%|████████▎ | 166/200 [01:16<00:15,  2.18it/s]\n",
      "EP_165 | train loss: 0.0498518099971846 | val loss: 0.04867272341952605 |\n",
      "Epoch:  84%|████████▎ | 167/200 [01:17<00:15,  2.20it/s]\n",
      "EP_166 | train loss: 0.052921931299508784 | val loss: 0.05019597796832814 |\n",
      "Epoch:  84%|████████▍ | 168/200 [01:17<00:14,  2.20it/s]\n",
      "EP_167 | train loss: 0.04892210668208553 | val loss: 0.05288787799723008 |\n",
      "Epoch:  84%|████████▍ | 169/200 [01:18<00:14,  2.20it/s]\n",
      "EP_168 | train loss: 0.04444924189763911 | val loss: 0.0465021595066669 |\n",
      "Epoch:  85%|████████▌ | 170/200 [01:18<00:13,  2.21it/s]\n",
      "EP_169 | train loss: 0.046374685857810224 | val loss: 0.045999322451797185 |\n",
      "Epoch:  86%|████████▌ | 171/200 [01:19<00:13,  2.18it/s]\n",
      "EP_170 | train loss: 0.044888769119393594 | val loss: 0.04293150118753022 |\n",
      "Epoch:  86%|████████▌ | 172/200 [01:19<00:12,  2.18it/s]\n",
      "EP_171 | train loss: 0.040542848262132385 | val loss: 0.03943644376362071 |\n",
      "Epoch:  86%|████████▋ | 173/200 [01:19<00:12,  2.14it/s]\n",
      "EP_172 | train loss: 0.03782806817223044 | val loss: 0.03912375312225491 |\n",
      "Epoch:  87%|████████▋ | 174/200 [01:20<00:12,  2.06it/s]\n",
      "EP_173 | train loss: 0.037695502533632165 | val loss: 0.04040082646351235 |\n",
      "Epoch:  88%|████████▊ | 175/200 [01:21<00:12,  2.01it/s]\n",
      "EP_174 | train loss: 0.03603496890442044 | val loss: 0.03781086148000231 |\n",
      "Epoch:  88%|████████▊ | 176/200 [01:21<00:12,  1.99it/s]\n",
      "EP_175 | train loss: 0.034990048262418486 | val loss: 0.03566846835846994 |\n",
      "Epoch:  88%|████████▊ | 177/200 [01:22<00:11,  2.02it/s]\n",
      "EP_176 | train loss: 0.034619630727113465 | val loss: 0.03497547378727034 |\n",
      "Epoch:  89%|████████▉ | 178/200 [01:22<00:10,  2.06it/s]\n",
      "EP_177 | train loss: 0.06511313564637128 | val loss: 0.05884414794398289 |\n",
      "Epoch:  90%|████████▉ | 179/200 [01:22<00:10,  2.05it/s]\n",
      "EP_178 | train loss: 0.047242227138257493 | val loss: 0.04340571223520765 |\n",
      "Epoch:  90%|█████████ | 180/200 [01:23<00:09,  2.04it/s]\n",
      "EP_179 | train loss: 0.030167117042868744 | val loss: 0.033250989282832426 |\n",
      "Epoch:  90%|█████████ | 181/200 [01:23<00:09,  2.03it/s]\n",
      "EP_180 | train loss: 0.02941149438128752 | val loss: 0.03189614590476541 |\n",
      "Epoch:  91%|█████████ | 182/200 [01:24<00:08,  2.08it/s]\n",
      "EP_181 | train loss: 0.03142479573394738 | val loss: 0.03096072521864199 |\n",
      "Epoch:  92%|█████████▏| 183/200 [01:24<00:08,  2.10it/s]\n",
      "EP_182 | train loss: 0.02696359297808479 | val loss: 0.029768449418685016 |\n",
      "Epoch:  92%|█████████▏| 184/200 [01:25<00:07,  2.12it/s]\n",
      "EP_183 | train loss: 0.02907637199934791 | val loss: 0.02815601989334705 |\n",
      "Epoch:  92%|█████████▎| 185/200 [01:25<00:07,  2.13it/s]\n",
      "EP_184 | train loss: 0.02518225785563974 | val loss: 0.027267886143104703 |\n",
      "Epoch:  93%|█████████▎| 186/200 [01:26<00:06,  2.13it/s]\n",
      "EP_185 | train loss: 0.0266897291821592 | val loss: 0.027136104948380414 |\n",
      "Epoch:  94%|█████████▎| 187/200 [01:26<00:05,  2.17it/s]\n",
      "EP_186 | train loss: 0.024055182144922367 | val loss: 0.02509044344518699 |\n",
      "Epoch:  94%|█████████▍| 188/200 [01:27<00:05,  2.18it/s]\n",
      "EP_187 | train loss: 0.02229156055871178 | val loss: 0.0246261878340852 |\n",
      "Epoch:  94%|█████████▍| 189/200 [01:27<00:05,  2.17it/s]\n",
      "EP_188 | train loss: 0.022022621625778723 | val loss: 0.024141368036176645 |\n",
      "Epoch:  95%|█████████▌| 190/200 [01:28<00:04,  2.18it/s]\n",
      "EP_189 | train loss: 0.022469804041525897 | val loss: 0.022316569791120643 |\n",
      "Epoch:  96%|█████████▌| 191/200 [01:28<00:04,  2.18it/s]\n",
      "EP_190 | train loss: 0.021948695124364367 | val loss: 0.022343473691566317 |\n",
      "Epoch:  96%|█████████▌| 192/200 [01:28<00:03,  2.20it/s]\n",
      "EP_191 | train loss: 0.028625142866489935 | val loss: 0.02686375905485714 |\n",
      "Epoch:  96%|█████████▋| 193/200 [01:29<00:03,  2.18it/s]\n",
      "EP_192 | train loss: 0.025640486005474538 | val loss: 0.02511296523552315 |\n",
      "Epoch:  97%|█████████▋| 194/200 [01:29<00:02,  2.14it/s]\n",
      "EP_193 | train loss: 0.019218396994413113 | val loss: 0.020805185039838154 |\n",
      "Epoch:  98%|█████████▊| 195/200 [01:30<00:02,  2.12it/s]\n",
      "EP_194 | train loss: 0.019184542111321992 | val loss: 0.02213656580915638 |\n",
      "Epoch:  98%|█████████▊| 196/200 [01:30<00:01,  2.06it/s]\n",
      "EP_195 | train loss: 0.01747942856129478 | val loss: 0.019160934523040175 |\n",
      "Epoch:  98%|█████████▊| 197/200 [01:31<00:01,  1.95it/s]\n",
      "EP_196 | train loss: 0.01987378603103114 | val loss: 0.023409107736512728 |\n",
      "Epoch:  99%|█████████▉| 198/200 [01:32<00:01,  1.88it/s]\n",
      "EP_197 | train loss: 0.01708370574256953 | val loss: 0.018811255109076407 |\n",
      "Epoch: 100%|█████████▉| 199/200 [01:32<00:00,  1.89it/s]\n",
      "EP_198 | train loss: 0.017148221415631913 | val loss: 0.01803221743480832 |\n",
      "Epoch: 100%|██████████| 200/200 [01:33<00:00,  2.15it/s]\n",
      "EP_199 | train loss: 0.020869484280838686 | val loss: 0.020988036604488596 |\n",
      "\n"
     ]
    }
   ],
   "source": [
    "AttractiveTrainer.train()"
   ]
  },
  {
   "cell_type": "markdown",
   "metadata": {},
   "source": [
    "## Below is testing"
   ]
  },
  {
   "cell_type": "code",
   "execution_count": 6,
   "metadata": {},
   "outputs": [
    {
     "output_type": "execute_result",
     "data": {
      "text/plain": [
       "AttractiveNet(\n",
       "  (embedding): AttractiveEmbedding(\n",
       "    (token): TokenEmbedding(12699, 300, padding_idx=1)\n",
       "  )\n",
       "  (bigramcnn): Sequential(\n",
       "    (0): Conv1d(300, 210, kernel_size=(2,), stride=(1,), padding=(1,))\n",
       "    (1): ReLU()\n",
       "    (2): Conv1d(210, 100, kernel_size=(2,), stride=(1,), padding=(1,))\n",
       "    (3): ReLU()\n",
       "    (4): Dropout(p=0.5, inplace=False)\n",
       "  )\n",
       "  (trigramcnn): Sequential(\n",
       "    (0): Conv1d(300, 210, kernel_size=(3,), stride=(1,), padding=(1,))\n",
       "    (1): ReLU()\n",
       "    (2): Conv1d(210, 100, kernel_size=(3,), stride=(1,), padding=(1,))\n",
       "    (3): ReLU()\n",
       "    (4): Dropout(p=0.5, inplace=False)\n",
       "  )\n",
       "  (encoder_bigram): LSTM(100, 30, batch_first=True, dropout=0.5, bidirectional=True)\n",
       "  (encoder_trigram): LSTM(100, 30, batch_first=True, dropout=0.5, bidirectional=True)\n",
       "  (linear): Sequential(\n",
       "    (0): Linear(in_features=128, out_features=30, bias=True)\n",
       "    (1): ReLU()\n",
       "    (2): Linear(in_features=30, out_features=1, bias=True)\n",
       "  )\n",
       ")"
      ]
     },
     "metadata": {},
     "execution_count": 6
    }
   ],
   "source": [
    "from attractivenet import AttractiveNet\n",
    "\n",
    "PATH = './model/CNN_LSTM_20201110-123822/0.384012.70'\n",
    "\n",
    "load_model = AttractiveNet(config).to(AttractiveData.device)\n",
    "load_model.load_state_dict(torch.load(PATH))\n",
    "load_model.eval()"
   ]
  },
  {
   "cell_type": "code",
   "execution_count": 7,
   "metadata": {},
   "outputs": [],
   "source": [
    "def predict_attractive(sentence, category, phase):\n",
    "    indexed_sentence = [AttractiveData.TEXT.vocab.stoi[t] for t in sentence]\n",
    "    indexed_category = [AttractiveData.CATEGORIES_LABEL.vocab.stoi[category]]\n",
    "    tensor_sentence = torch.LongTensor(indexed_sentence).to(AttractiveData.device)\n",
    "    tensor_category = torch.LongTensor(indexed_category).to(AttractiveData.device)\n",
    "    tensor_sentence = tensor_sentence.unsqueeze(0)\n",
    "\n",
    "    prediction = load_model(tensor_sentence, tensor_category, phase=phase)\n",
    "\n",
    "    return prediction"
   ]
  },
  {
   "cell_type": "code",
   "execution_count": 8,
   "metadata": {
    "tags": []
   },
   "outputs": [],
   "source": [
    "# train mean = 3.15, test mean = 2.8\n",
    "predict_list = []\n",
    "with torch.no_grad():\n",
    "    for i, sentence in enumerate(AttractiveData.test_data):\n",
    "        prediction = predict_attractive(sentence.Headline, sentence.Category, 'test')\n",
    "        predict_list.append(prediction.item())\n",
    "        # predict_list.append(prediction.item())\n",
    "AttractiveData.df_test['Label'] = predict_list\n",
    "AttractiveData.df_test[['ID', 'Label']].to_csv(config['save_name'] + '.csv', index=False)"
   ]
  },
  {
   "cell_type": "markdown",
   "metadata": {},
   "source": [
    "## Below for statistics"
   ]
  },
  {
   "cell_type": "code",
   "execution_count": 9,
   "metadata": {},
   "outputs": [],
   "source": [
    "import statistics\n",
    "from sklearn.metrics import mean_squared_error"
   ]
  },
  {
   "cell_type": "code",
   "execution_count": 10,
   "metadata": {},
   "outputs": [],
   "source": [
    "# # train mean = 3.15, test mean = 2.8\n",
    "# train_list = []\n",
    "# for i, sentence in enumerate(AttractiveData.train_data):\n",
    "#     prediction = predict_attractive(sentence.Headline, sentence.Category, 'train')\n",
    "#     train_list.append(prediction.item())\n",
    "#     # train_list.append(prediction.item())\n",
    "# # print(train_list)\n",
    "# mean_squared_error(pd.read_csv('data/train.csv').sort_values(['ID']).Label.to_list(), train_list), statistics.mean(train_list), statistics.stdev(train_list)"
   ]
  },
  {
   "cell_type": "code",
   "execution_count": 11,
   "metadata": {},
   "outputs": [],
   "source": [
    "# train_list[0:5], pd.read_csv('data/train.csv').sort_values(['ID']).Label.to_list()[0:5]"
   ]
  },
  {
   "cell_type": "code",
   "execution_count": 12,
   "metadata": {},
   "outputs": [],
   "source": [
    "# a = AttractiveData.df_train['Label'].to_list()\n",
    "# statistics.mean(a), statistics.stdev(a)"
   ]
  },
  {
   "cell_type": "code",
   "execution_count": 13,
   "metadata": {},
   "outputs": [
    {
     "output_type": "execute_result",
     "data": {
      "text/plain": [
       "(2.803238099892234, 0.3588167035717387)"
      ]
     },
     "metadata": {},
     "execution_count": 13
    }
   ],
   "source": [
    "statistics.mean(predict_list), statistics.stdev(predict_list)"
   ]
  },
  {
   "cell_type": "code",
   "execution_count": 14,
   "metadata": {},
   "outputs": [
    {
     "output_type": "execute_result",
     "data": {
      "text/plain": [
       "(0.0007030177677783254, 2.7876357276009043, 0.3643672504501976)"
      ]
     },
     "metadata": {},
     "execution_count": 14
    }
   ],
   "source": [
    "baseline_list = pd.read_csv('baseline.csv').sort_values(['ID']).Label.to_list()\n",
    "mean_squared_error(baseline_list, predict_list), statistics.mean(baseline_list), statistics.stdev(baseline_list)"
   ]
  },
  {
   "cell_type": "code",
   "execution_count": null,
   "metadata": {},
   "outputs": [],
   "source": []
  },
  {
   "cell_type": "code",
   "execution_count": 17,
   "metadata": {},
   "outputs": [
    {
     "output_type": "execute_result",
     "data": {
      "text/plain": [
       "0.0"
      ]
     },
     "metadata": {},
     "execution_count": 17
    }
   ],
   "source": [
    "mean_squared_error(pd.read_csv('baseline.csv').sort_values(['ID']).Label.to_list(), pd.read_csv('../309551062/predict/CNN_LSTM_20201109-125007_0.374958.75.csv').sort_values(['ID']).Label.to_list())"
   ]
  },
  {
   "cell_type": "code",
   "execution_count": 13,
   "metadata": {},
   "outputs": [],
   "source": []
  },
  {
   "cell_type": "code",
   "execution_count": null,
   "metadata": {},
   "outputs": [],
   "source": []
  }
 ],
 "metadata": {
  "kernelspec": {
   "display_name": "DS_hw2",
   "language": "python",
   "name": "ds_hw2"
  },
  "language_info": {
   "codemirror_mode": {
    "name": "ipython",
    "version": 3
   },
   "file_extension": ".py",
   "mimetype": "text/x-python",
   "name": "python",
   "nbconvert_exporter": "python",
   "pygments_lexer": "ipython3",
   "version": "3.6.12-final"
  }
 },
 "nbformat": 4,
 "nbformat_minor": 4
}