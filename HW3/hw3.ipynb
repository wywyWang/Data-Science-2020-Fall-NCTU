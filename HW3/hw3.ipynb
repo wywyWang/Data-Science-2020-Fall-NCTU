{
 "cells": [
  {
   "cell_type": "code",
   "execution_count": 1,
   "metadata": {},
   "outputs": [],
   "source": [
    "import panorama"
   ]
  },
  {
   "cell_type": "code",
   "execution_count": 2,
   "metadata": {},
   "outputs": [
    {
     "output_type": "stream",
     "name": "stderr",
     "text": [
      "  0%|          | 0/4 [00:00<?, ?it/s]\n",
      "100%|██████████| 16/16 [00:00<00:00, 270.19it/s]\n",
      " 25%|██▌       | 1/4 [06:32<19:38, 392.84s/it]\n",
      "100%|██████████| 10/10 [00:00<00:00, 412.36it/s]\n",
      " 50%|█████     | 2/4 [09:02<10:39, 319.97s/it]\n",
      "100%|██████████| 2/2 [00:00<00:00, 558.42it/s]\n",
      " 75%|███████▌  | 3/4 [10:13<04:05, 245.27s/it]\n",
      "100%|██████████| 1/1 [00:00<00:00, 397.60it/s]\n",
      "100%|██████████| 4/4 [10:26<00:00, 156.61s/it]\n"
     ]
    }
   ],
   "source": [
    "panorama = panorama.Panorama('testfile.txt')"
   ]
  },
  {
   "cell_type": "code",
   "execution_count": null,
   "metadata": {},
   "outputs": [],
   "source": []
  }
 ],
 "metadata": {
  "kernelspec": {
   "display_name": "DS_hw3",
   "language": "python",
   "name": "ds_hw3"
  },
  "language_info": {
   "codemirror_mode": {
    "name": "ipython",
    "version": 3
   },
   "file_extension": ".py",
   "mimetype": "text/x-python",
   "name": "python",
   "nbconvert_exporter": "python",
   "pygments_lexer": "ipython3",
   "version": "3.6.12-final"
  }
 },
 "nbformat": 4,
 "nbformat_minor": 2
}